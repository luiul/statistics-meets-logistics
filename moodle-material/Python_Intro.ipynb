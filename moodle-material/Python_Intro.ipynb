{
 "cells": [
  {
   "cell_type": "markdown",
   "metadata": {},
   "source": [
    "# Einführung in Python\n",
    "\n",
    "Python wurde mit dem Ziel entwickelt einen besonders lesbaren Code zu erzeugen. Deshalb zeichnet sich die Syntax durch Leerzeichen und Einrückungen aus. Neben der eigentlichen Programmiersprache gibt es diverse Bibliotheken, die Python ergänzen und vervollständigen. Wir beginnen dabei mit verschiedenen Möglichkeiten Daten zu formatieren und Informationen über Lage und Streuung dieser Daten zu erhalten."
   ]
  },
  {
   "cell_type": "code",
   "execution_count": 1,
   "metadata": {},
   "outputs": [
    {
     "name": "stdout",
     "output_type": "stream",
     "text": [
      "Let's get started!\n"
     ]
    }
   ],
   "source": [
    "# print lässt uns alles mögliche im Output anzeigen, strings werden dazu immer in \"\" gesetzt\n",
    "print(\"Let's get started!\")"
   ]
  },
  {
   "cell_type": "markdown",
   "metadata": {},
   "source": [
    "### Lists\n",
    "\n",
    "Eine Liste ist eine Sammlung, die geordnet und veränderbar ist. Sie erlaubt doppelte Einträge und kann verschiedene Variablentypen beinhalten."
   ]
  },
  {
   "cell_type": "code",
   "execution_count": 2,
   "metadata": {},
   "outputs": [
    {
     "name": "stdout",
     "output_type": "stream",
     "text": [
      "['Markus', 'Lena', 'Marc']\n",
      "[22, 67, 1]\n"
     ]
    }
   ],
   "source": [
    "# Erstellen Sie eine Liste mit strings, dazu verwenden wir []\n",
    "friends = [\"Markus\", \"Lena\", \"Marc\"]\n",
    "# geben wir uns unsere neue Liste aus\n",
    "print(friends) \n",
    "\n",
    "# Das funktioniert auch mit integers\n",
    "numbers = [22, 67, 1]\n",
    "print(numbers)"
   ]
  },
  {
   "cell_type": "code",
   "execution_count": 3,
   "metadata": {},
   "outputs": [
    {
     "name": "stdout",
     "output_type": "stream",
     "text": [
      "['Markus', 'Lena', 'Marc', 22, 67, 1]\n"
     ]
    }
   ],
   "source": [
    "# Array anhängen, Kombination verschiedener Variablentypen möglich \n",
    "friends.extend(numbers)\n",
    "print(friends)\n",
    "friends = [\"Markus\", \"Lena\", \"Marc\"]"
   ]
  },
  {
   "cell_type": "code",
   "execution_count": 4,
   "metadata": {},
   "outputs": [
    {
     "name": "stdout",
     "output_type": "stream",
     "text": [
      "['Markus', 'Lena', 'Marc', 'Thilo']\n"
     ]
    }
   ],
   "source": [
    "# Object anhaengen\n",
    "friends.append(\"Thilo\")\n",
    "print(friends)"
   ]
  },
  {
   "cell_type": "code",
   "execution_count": 5,
   "metadata": {},
   "outputs": [
    {
     "name": "stdout",
     "output_type": "stream",
     "text": [
      "['Markus', 'Burim', 'Lena', 'Marc', 'Thilo']\n"
     ]
    }
   ],
   "source": [
    "# Object an Stelle 1 einfuegen\n",
    "friends.insert(1, \"Burim\")\n",
    "print(friends)"
   ]
  },
  {
   "cell_type": "code",
   "execution_count": 6,
   "metadata": {},
   "outputs": [
    {
     "name": "stdout",
     "output_type": "stream",
     "text": [
      "['Markus', 'Lena', 'Marc', 'Thilo']\n"
     ]
    }
   ],
   "source": [
    "# Objekt das gleich zu Burim ist entfernen\n",
    "friends.remove(\"Burim\")\n",
    "print(friends)"
   ]
  },
  {
   "cell_type": "code",
   "execution_count": 7,
   "metadata": {},
   "outputs": [
    {
     "name": "stdout",
     "output_type": "stream",
     "text": [
      "['Markus', 'Lena', 'Marc']\n"
     ]
    }
   ],
   "source": [
    "# Letzten Eintrag entfernen\n",
    "friends.pop()\n",
    "print(friends)"
   ]
  },
  {
   "cell_type": "code",
   "execution_count": 8,
   "metadata": {},
   "outputs": [
    {
     "name": "stdout",
     "output_type": "stream",
     "text": [
      "1\n"
     ]
    }
   ],
   "source": [
    "# Den Index eines Objekts finden\n",
    "print(friends.index(\"Lena\")) # Achtung Indizierung in Python beginnt bei 0!"
   ]
  },
  {
   "cell_type": "code",
   "execution_count": 9,
   "metadata": {},
   "outputs": [
    {
     "name": "stdout",
     "output_type": "stream",
     "text": [
      "1\n"
     ]
    }
   ],
   "source": [
    "# Wie oft kommt ein Eintrag vor\n",
    "print(friends.count(\"Markus\"))"
   ]
  },
  {
   "cell_type": "code",
   "execution_count": 10,
   "metadata": {},
   "outputs": [
    {
     "name": "stdout",
     "output_type": "stream",
     "text": [
      "None\n"
     ]
    }
   ],
   "source": [
    "# Sortieren\n",
    "print(friends.sort()) # das funktioniert nicht mit gemischten Listen"
   ]
  },
  {
   "cell_type": "markdown",
   "metadata": {},
   "source": [
    "----------------------------------------------\n",
    "## Aufgabe\n",
    "Erstellen Sie eine Liste aller Veranstaltungen, die Sie dieses Semester hören. Erstellen Sie eine weitere Liste mit den Veranstaltungen aus dem vorherigen Semester und verbinden Sie diese. Löschen sie den letzten und den ersten Eintrag."
   ]
  },
  {
   "cell_type": "code",
   "execution_count": null,
   "metadata": {},
   "outputs": [],
   "source": [
    "# Hier kann Ihre Lösung stehen"
   ]
  },
  {
   "cell_type": "markdown",
   "metadata": {},
   "source": [
    "---------------------------------\n",
    "### Tupels\n",
    "\n",
    "Tupels können im Gegensatz zu Listen nicht verändert oder angepasst werden."
   ]
  },
  {
   "cell_type": "code",
   "execution_count": 11,
   "metadata": {},
   "outputs": [
    {
     "name": "stdout",
     "output_type": "stream",
     "text": [
      "4\n"
     ]
    }
   ],
   "source": [
    "# Erstelle ein Tupel mit ()\n",
    "coordinates = (4,5)\n",
    "print(coordinates[0])"
   ]
  },
  {
   "cell_type": "code",
   "execution_count": null,
   "metadata": {},
   "outputs": [],
   "source": [
    "# Wenn wir versuchen das Tupel zu verändern bekommen wir einen Fehler\n",
    "# coordinates.append(6)"
   ]
  },
  {
   "cell_type": "markdown",
   "metadata": {},
   "source": [
    "### Dictionaries\n",
    "\n",
    "Ein Dictonary ist wie der Name sagt mit einem Wörterbuch zu vergleichen. Das Bedeutet im Vergleich zu Listen haben wir hier zusätzlich einen Index, den wir ändern können. In Python werden Wörterbücher mit geschweiften Klammern geschrieben, und sie haben Schlüssel und Werte. Schlüssel könen wir als die zugehörigen Namen zu einem Wert sehen."
   ]
  },
  {
   "cell_type": "code",
   "execution_count": 3,
   "metadata": {},
   "outputs": [
    {
     "name": "stdout",
     "output_type": "stream",
     "text": [
      "{'product': 'appel', 'categorie': 'food', 'weight in g': 200}\n"
     ]
    }
   ],
   "source": [
    "# Erstelle ein Dictionary\n",
    "mydict = {\"product\": \"appel\", \"category\": \"food\", \"weight in g\": 200}\n",
    "print(mydict)"
   ]
  },
  {
   "cell_type": "code",
   "execution_count": 5,
   "metadata": {},
   "outputs": [
    {
     "name": "stdout",
     "output_type": "stream",
     "text": [
      "200\n"
     ]
    }
   ],
   "source": [
    "# Lesen Sie einen bestimmten Wert aus\n",
    "x = mydict[\"weight in g\"]\n",
    "print(x)"
   ]
  },
  {
   "cell_type": "code",
   "execution_count": 6,
   "metadata": {},
   "outputs": [
    {
     "name": "stdout",
     "output_type": "stream",
     "text": [
      "{'product': 'appel', 'categorie': 'fruits', 'weight in g': 200}\n"
     ]
    }
   ],
   "source": [
    "# Passen Sie einen Wert an\n",
    "mydict[\"category\"] = \"fruits\"\n",
    "print(mydict)"
   ]
  },
  {
   "cell_type": "markdown",
   "metadata": {},
   "source": [
    "## Boolesche Operatoren und Schleifen\n",
    "\n",
    "### If statements\n",
    "\n",
    "Python unterstützt die üblichen logischen Bedingungen aus der Mathematik:\n",
    "\n",
    "- Gleich: $a == b$\n",
    "- Nicht gleich: $a != b$\n",
    "- Weniger als: $a < b$\n",
    "- Kleiner oder $gleich: a <= b$\n",
    "- Größer als: $a > b$\n",
    "- Größer oder gleich: $a >= b$\n",
    "\n",
    "Dies logischen Zusammenhänge können wir zum Beispiel für Fallunterscheidungen mittels sogenannter If-statements verwenden."
   ]
  },
  {
   "cell_type": "code",
   "execution_count": 12,
   "metadata": {},
   "outputs": [
    {
     "name": "stdout",
     "output_type": "stream",
     "text": [
      "Congrats it is a dog!\n"
     ]
    }
   ],
   "source": [
    "# Definiere ein paar boolean Variablen\n",
    "is_dog = True #in Python werden zur Bezeichnung von Variablen _ verwendet, da . Zugriff auf eine Funktion gibt\n",
    "is_tall = False\n",
    "\n",
    "# Einfaches if statement: wenn is_dog wahr ist, dann drucke Congrats it is a dog!\n",
    "if is_dog:\n",
    "    print(\"Congrats it is a dog!\")   "
   ]
  },
  {
   "cell_type": "code",
   "execution_count": 13,
   "metadata": {},
   "outputs": [
    {
     "name": "stdout",
     "output_type": "stream",
     "text": [
      "you have a small dog\n"
     ]
    }
   ],
   "source": [
    "# Komplexere if statements mit elif und else\n",
    "if is_dog and is_tall:\n",
    "    print(\"you have a tall dog\")\n",
    "elif is_dog and not(is_tall):\n",
    "    print(\"you have a small dog\")\n",
    "else:\n",
    "    print(\"sorry, what you have is not a dog\")"
   ]
  },
  {
   "cell_type": "markdown",
   "metadata": {},
   "source": [
    "### While\n",
    "\n",
    "Mit while-Schleifen ist es möglich Anweisungen ausführen, solange eine Bedingung wahr ist."
   ]
  },
  {
   "cell_type": "code",
   "execution_count": 14,
   "metadata": {},
   "outputs": [
    {
     "name": "stdout",
     "output_type": "stream",
     "text": [
      "2\n",
      "3\n",
      "4\n"
     ]
    }
   ],
   "source": [
    "# Definiere zwei Variablen\n",
    "x = 1\n",
    "y = 4\n",
    "\n",
    "# Solange x kleiner ist als y \n",
    "while x < y:\n",
    "    x = x + 1 # addiere 1 zu x\n",
    "    print(x)  # dann gebe x aus\n",
    "    "
   ]
  },
  {
   "cell_type": "markdown",
   "metadata": {},
   "source": [
    "### For\n",
    "\n",
    "Eine for-Schleife wird zur Iteration über eine Sequenz (d.h. eine Liste, ein Tupel oder ähnliches) verwendet. Eine for-Schleife erlaubt das Ausführen einer Anweisung für jedes Element in einer Sequenz."
   ]
  },
  {
   "cell_type": "code",
   "execution_count": 15,
   "metadata": {},
   "outputs": [
    {
     "name": "stdout",
     "output_type": "stream",
     "text": [
      "lamp\n",
      "banana\n",
      "pillow\n"
     ]
    }
   ],
   "source": [
    "# Definiere eine Liste \n",
    "stuff = [\"lamp\", \"banana\", \"pillow\"]\n",
    "\n",
    "# For-Schleife um durch eine Liste zu iterieren\n",
    "for x in stuff:\n",
    "  print(x)"
   ]
  },
  {
   "cell_type": "code",
   "execution_count": 16,
   "metadata": {},
   "outputs": [
    {
     "name": "stdout",
     "output_type": "stream",
     "text": [
      "b\n",
      "a\n",
      "n\n",
      "a\n",
      "n\n",
      "a\n"
     ]
    }
   ],
   "source": [
    "# Wir können for Schleifen benutzen um durch strings zu iterieren\n",
    "for x in \"banana\":\n",
    "  print(x)"
   ]
  },
  {
   "cell_type": "code",
   "execution_count": 17,
   "metadata": {},
   "outputs": [
    {
     "name": "stdout",
     "output_type": "stream",
     "text": [
      "0\n",
      "1\n",
      "2\n",
      "3\n",
      "4\n",
      "5\n"
     ]
    }
   ],
   "source": [
    "# oder durch eine Sequenz von Zahlen\n",
    "for x in range(6):\n",
    "    print(x)"
   ]
  },
  {
   "cell_type": "markdown",
   "metadata": {},
   "source": [
    "----------------\n",
    "## Aufgabe\n",
    "Programmieren Sie einen Algorithmus, der überprüft, ob die Variable *reliable* True oder False ist. Falls Sie False ist, überprüfen Sie ob die Variable *within_last_week* True oder False ist. Für True geben sie \"not reliable aus\" in allen anderen Fällen \"reliable\".\n",
    "Definieren Sie sich die Variablen dazu selbst so wie in den Beispielen zuvor"
   ]
  },
  {
   "cell_type": "code",
   "execution_count": null,
   "metadata": {},
   "outputs": [],
   "source": [
    "# Hier kann Ihre Lösung stehen"
   ]
  },
  {
   "cell_type": "markdown",
   "metadata": {},
   "source": [
    "--------------------------\n",
    "# Einführung in Numpy\n",
    "\n",
    "Numpy ist eine Bibliothek in Python. Solche Bibliotheken müssen erst importiert werden, bevor sie in Python verwendet werden können. Numpy bietet eine Unterstützung für große, mehrdimensionale Arrays und Matrizen sowie eine große Sammlung mathematischer Funktionen. Mit anderen Bibliotheken gehört Numpy zu den wichtigsten Bibliotheken für die Datenanalyse in Python."
   ]
  },
  {
   "cell_type": "code",
   "execution_count": 19,
   "metadata": {},
   "outputs": [],
   "source": [
    "import numpy as np # Oft werden Bibliotheken mit einem kürzeren Namen imoprtiert, um den Zugriff zu erleichtern"
   ]
  },
  {
   "cell_type": "code",
   "execution_count": 20,
   "metadata": {},
   "outputs": [
    {
     "name": "stdout",
     "output_type": "stream",
     "text": [
      "[0 1 2 3]\n"
     ]
    }
   ],
   "source": [
    "# Erstelle einen aufsteigenden Array\n",
    "a = np.arange(4)\n",
    "print(a)"
   ]
  },
  {
   "cell_type": "code",
   "execution_count": 21,
   "metadata": {},
   "outputs": [
    {
     "name": "stdout",
     "output_type": "stream",
     "text": [
      "[0 2]\n"
     ]
    }
   ],
   "source": [
    "# Komplexe boolean Operationen\n",
    "print(a[(a <= 2) & (a % 2 == 0)]) # gibt den Modulus an "
   ]
  },
  {
   "cell_type": "code",
   "execution_count": 22,
   "metadata": {},
   "outputs": [
    {
     "name": "stdout",
     "output_type": "stream",
     "text": [
      "[[1 2 3]\n",
      " [4 5 6]\n",
      " [7 8 9]]\n"
     ]
    }
   ],
   "source": [
    "# Mehrdimensionale arrays\n",
    "A = np.array([\n",
    "    [1, 2, 3], \n",
    "    [4, 5, 6],\n",
    "    [7, 8, 9]\n",
    "])\n",
    "print(A)"
   ]
  },
  {
   "cell_type": "code",
   "execution_count": 23,
   "metadata": {},
   "outputs": [
    {
     "name": "stdout",
     "output_type": "stream",
     "text": [
      "[[1 2]\n",
      " [4 5]]\n"
     ]
    }
   ],
   "source": [
    "# Indexing\n",
    "print(A[:2, :2]) # bis zwei aber nicht einschließlich"
   ]
  },
  {
   "cell_type": "code",
   "execution_count": 24,
   "metadata": {},
   "outputs": [
    {
     "name": "stdout",
     "output_type": "stream",
     "text": [
      "[[ 1  2  3]\n",
      " [ 4  5  6]\n",
      " [99 99 99]]\n"
     ]
    }
   ],
   "source": [
    "# Ersetze die gesamte letzte Zeile durch den Wert 99\n",
    "A[2] = 99\n",
    "print(A)"
   ]
  },
  {
   "cell_type": "code",
   "execution_count": 25,
   "metadata": {},
   "outputs": [
    {
     "name": "stdout",
     "output_type": "stream",
     "text": [
      "[  6  15 297]\n"
     ]
    }
   ],
   "source": [
    "# Berechne die Summe aller Zeilen\n",
    "print(A.sum(axis=1))"
   ]
  },
  {
   "cell_type": "markdown",
   "metadata": {},
   "source": [
    "In Numpy finden sich nicht nur neue Datenformate sondern auch Funktionen, um mit diesen zu arbeiten. Einige nützliche Funktionen sind im Folgenden hier aufgelistet."
   ]
  },
  {
   "cell_type": "markdown",
   "metadata": {},
   "source": [
    "#### random\n",
    "Eine Gruppe von Funktionen um Pseudozufallszahlen zu generieren. Diese können verschiedenen Verteilungen folgen."
   ]
  },
  {
   "cell_type": "code",
   "execution_count": 26,
   "metadata": {},
   "outputs": [
    {
     "name": "stdout",
     "output_type": "stream",
     "text": [
      "[0.13523024 0.50191085]\n"
     ]
    }
   ],
   "source": [
    "# Ziehe zwei Zufallszahlen zwischen 0 und 1\n",
    "print(np.random.random(size=2))"
   ]
  },
  {
   "cell_type": "code",
   "execution_count": 27,
   "metadata": {},
   "outputs": [
    {
     "name": "stdout",
     "output_type": "stream",
     "text": [
      "[-0.25321408 -0.56550185]\n"
     ]
    }
   ],
   "source": [
    "# Ziehe zwei Zufallszahlen aus der Normalverteilung mit Mittelwert 0 und Standardabweichung 1\n",
    "print(np.random.normal(loc=0.0, scale=1.0, size=2))"
   ]
  },
  {
   "cell_type": "markdown",
   "metadata": {},
   "source": [
    "#### reshape function\n",
    "\n",
    "Die Funktion ermöglicht es die Form von Arrays zu ändern, also die Anzahl Zeilen und Spalten anzupasse."
   ]
  },
  {
   "cell_type": "code",
   "execution_count": 29,
   "metadata": {},
   "outputs": [
    {
     "name": "stdout",
     "output_type": "stream",
     "text": [
      "[[0 1 2 3 4]\n",
      " [5 6 7 8 9]]\n"
     ]
    }
   ],
   "source": [
    "# Erstelle einen Array mit zwei Zeilen und fünf Spalten\n",
    "print(np.arange(10).reshape(2, 5))"
   ]
  },
  {
   "cell_type": "code",
   "execution_count": 30,
   "metadata": {},
   "outputs": [
    {
     "name": "stdout",
     "output_type": "stream",
     "text": [
      "[[0 1]\n",
      " [2 3]\n",
      " [4 5]\n",
      " [6 7]\n",
      " [8 9]]\n"
     ]
    }
   ],
   "source": [
    "# Erstelle einen Array mit fünf Zeilen und zwei Spalten\n",
    "print(np.arange(10).reshape(5, 2))"
   ]
  },
  {
   "cell_type": "markdown",
   "metadata": {},
   "source": [
    "#### linspace function\n",
    "\n",
    "Die Funktion gibt gleichmäßig verteilte Zahlen über ein bestimmtes Intervall zurück."
   ]
  },
  {
   "cell_type": "code",
   "execution_count": 31,
   "metadata": {},
   "outputs": [
    {
     "name": "stdout",
     "output_type": "stream",
     "text": [
      "[0.   0.25 0.5  0.75 1.  ]\n"
     ]
    }
   ],
   "source": [
    "# Erzeuge fünf Zahlen gleichmäßig verteilt zwischen 0 und 1\n",
    "print(np.linspace(0, 1, 5))"
   ]
  },
  {
   "cell_type": "code",
   "execution_count": 32,
   "metadata": {},
   "outputs": [
    {
     "name": "stdout",
     "output_type": "stream",
     "text": [
      "[0.         0.05263158 0.10526316 0.15789474 0.21052632 0.26315789\n",
      " 0.31578947 0.36842105 0.42105263 0.47368421 0.52631579 0.57894737\n",
      " 0.63157895 0.68421053 0.73684211 0.78947368 0.84210526 0.89473684\n",
      " 0.94736842 1.        ]\n"
     ]
    }
   ],
   "source": [
    "# Erzeuge 20 Zahlen gleichmäßig verteilt zwischen 0 und 1\n",
    "print(np.linspace(0, 1, 20))"
   ]
  },
  {
   "cell_type": "code",
   "execution_count": 33,
   "metadata": {},
   "outputs": [
    {
     "name": "stdout",
     "output_type": "stream",
     "text": [
      "[0.   0.05 0.1  0.15 0.2  0.25 0.3  0.35 0.4  0.45 0.5  0.55 0.6  0.65\n",
      " 0.7  0.75 0.8  0.85 0.9  0.95]\n"
     ]
    }
   ],
   "source": [
    "# Erzeuge fünf Zahlen gleichmäßig verteilt zwischen 0 und 1, ohne 1 inbegriffen\n",
    "print(np.linspace(0, 1, 20, False))"
   ]
  },
  {
   "cell_type": "markdown",
   "metadata": {},
   "source": [
    "-------------------------\n",
    "## Aufgaben\n",
    "Erzeugen Sie 100 normalverteilte Zufalsszahlen mit Erwartungswert 1 und Varianz 2 (suchen sie dazu die Hilfeseite der Funktion auf, und passen die Funktion entsprechend an).\n",
    "\n",
    "Wandeln Sie diesen Array in einen Array mit 10 Zeilen und Spalten um."
   ]
  },
  {
   "cell_type": "code",
   "execution_count": null,
   "metadata": {},
   "outputs": [],
   "source": [
    "# Hier kann Ihre Lösung stehen"
   ]
  },
  {
   "cell_type": "markdown",
   "metadata": {},
   "source": [
    "--------------------------------------------\n",
    "# Einführung in Pandas\n",
    "\n",
    "Eine andere essentielle Bibliothek für die Datenanalyse in Python ist Pandas. Sie wurde zur Datenmanipulation und -analyse entwickelt und bietet Datenstrukturen und Operationen zur Manipulation von numerischen Tabellen. Die am meisten verwendete Datenstruktur sind data frames. Diese sind mit einer Exceltabelle vergleichbar und bestehen aus verschiedenen Zellen und können Spalten- und Zeilennamen speichern. \n",
    "Zu den wichtigsten Features zählen: \n",
    "- DataFrame-Objekt zur Datenmanipulation\n",
    "- Einfügen und Löschen von Datenstrukturspalten.\n",
    "- Gruppierung und Aufteilung anhand von Variablen\n",
    "- Zusammenführen und Verbinden von Datensätzen.\n",
    "- Datumsformat\n",
    "- und vieles mehr\n"
   ]
  },
  {
   "cell_type": "code",
   "execution_count": 35,
   "metadata": {},
   "outputs": [],
   "source": [
    "import pandas as pd"
   ]
  },
  {
   "cell_type": "markdown",
   "metadata": {},
   "source": [
    "### Pandas Series\n",
    "Pandas Series sind eindimensionale beschriftete Arrays. Sie können Daten jedes beliebigen Types wie Integer-, String-, Float-, Python-Objekte abspeichern. Die Beschriftungen werden kollektiv als Index bezeichnet. Man kann sich dies als eine Spalte in einer Excel-Tabelle vorstellen."
   ]
  },
  {
   "cell_type": "code",
   "execution_count": 36,
   "metadata": {},
   "outputs": [
    {
     "name": "stdout",
     "output_type": "stream",
     "text": [
      "0    97.3\n",
      "1    85.8\n",
      "2    62.0\n",
      "3    60.7\n",
      "4    58.9\n",
      "5    54.6\n",
      "6    52.1\n",
      "dtype: float64\n"
     ]
    }
   ],
   "source": [
    "#GDP = pd.read_csv(r\"...\\Weltbank.csv\")\n",
    "\n",
    "# Erstellen einer Series von Hand\n",
    "GDP = pd.Series([97.3, 85.8, 62.0, 60.7, 58.9, 54.6, 52.1])\n",
    "print(GDP)"
   ]
  },
  {
   "cell_type": "code",
   "execution_count": 37,
   "metadata": {},
   "outputs": [
    {
     "data": {
      "text/plain": [
       "dtype('float64')"
      ]
     },
     "execution_count": 37,
     "metadata": {},
     "output_type": "execute_result"
    }
   ],
   "source": [
    "# Gibt den Datentypen aus\n",
    "GDP.dtypes"
   ]
  },
  {
   "cell_type": "code",
   "execution_count": 38,
   "metadata": {},
   "outputs": [
    {
     "data": {
      "text/plain": [
       "array([97.3, 85.8, 62. , 60.7, 58.9, 54.6, 52.1])"
      ]
     },
     "execution_count": 38,
     "metadata": {},
     "output_type": "execute_result"
    }
   ],
   "source": [
    "# Gibt nur die Werte selbst aus\n",
    "GDP.values"
   ]
  },
  {
   "cell_type": "code",
   "execution_count": 39,
   "metadata": {},
   "outputs": [
    {
     "data": {
      "text/plain": [
       "97.3"
      ]
     },
     "execution_count": 39,
     "metadata": {},
     "output_type": "execute_result"
    }
   ],
   "source": [
    "# Wie hoch ist das höchste BIP?\n",
    "GDP[0]"
   ]
  },
  {
   "cell_type": "code",
   "execution_count": 40,
   "metadata": {},
   "outputs": [
    {
     "name": "stdout",
     "output_type": "stream",
     "text": [
      "0    97.3\n",
      "1    85.8\n",
      "2    62.0\n",
      "3    60.7\n",
      "4    58.9\n",
      "5    54.6\n",
      "6    52.1\n",
      "Name: GDP of the Top 7 countries, dtype: float64\n"
     ]
    }
   ],
   "source": [
    "# Der Serie einen Namen geben\n",
    "GDP.name = \"GDP of the Top 7 countries\"\n",
    "print(GDP)"
   ]
  },
  {
   "cell_type": "code",
   "execution_count": 41,
   "metadata": {},
   "outputs": [
    {
     "name": "stdout",
     "output_type": "stream",
     "text": [
      "Norway           97.3\n",
      "Switzerland      85.8\n",
      "Australia        62.0\n",
      "Denmark          60.7\n",
      "Sweden           58.9\n",
      "United States    54.6\n",
      "Netherlands      52.1\n",
      "Name: GDP of the Top 7 countries, dtype: float64\n"
     ]
    }
   ],
   "source": [
    "# Welche Länder gehören zu den Zahlen\n",
    "GDP.index = [\"Norway\", \"Switzerland\", \"Australia\", \"Denmark\",\n",
    "            \"Sweden\", \"United States\", \"Netherlands\"]\n",
    "print(GDP)"
   ]
  },
  {
   "cell_type": "code",
   "execution_count": 42,
   "metadata": {},
   "outputs": [
    {
     "data": {
      "text/plain": [
       "58.9"
      ]
     },
     "execution_count": 42,
     "metadata": {},
     "output_type": "execute_result"
    }
   ],
   "source": [
    "# Das BIP von Schweden\n",
    "GDP[\"Sweden\"] # Jetzt wo der Index keine Zahl mehr ist greifen wir über den Namen darauf zu"
   ]
  },
  {
   "cell_type": "code",
   "execution_count": 43,
   "metadata": {},
   "outputs": [
    {
     "data": {
      "text/plain": [
       "62.0"
      ]
     },
     "execution_count": 43,
     "metadata": {},
     "output_type": "execute_result"
    }
   ],
   "source": [
    "# Das BIP an 3ter Stelle\n",
    "GDP.iloc[2] # Wollen wir trotzdem über eine Zahl zugreifen, verwenden wir nun .iloc"
   ]
  },
  {
   "cell_type": "code",
   "execution_count": 44,
   "metadata": {},
   "outputs": [
    {
     "data": {
      "text/plain": [
       "52.1"
      ]
     },
     "execution_count": 44,
     "metadata": {},
     "output_type": "execute_result"
    }
   ],
   "source": [
    "# Das letzte BIP\n",
    "GDP.iloc[-1]"
   ]
  },
  {
   "cell_type": "code",
   "execution_count": 45,
   "metadata": {},
   "outputs": [
    {
     "data": {
      "text/plain": [
       "Australia    62.0\n",
       "Denmark      60.7\n",
       "Name: GDP of the Top 7 countries, dtype: float64"
      ]
     },
     "execution_count": 45,
     "metadata": {},
     "output_type": "execute_result"
    }
   ],
   "source": [
    "# Das BIP an 3ter und 4ter Stelle\n",
    "GDP.iloc[[2,3]]"
   ]
  },
  {
   "cell_type": "code",
   "execution_count": 46,
   "metadata": {},
   "outputs": [
    {
     "data": {
      "text/plain": [
       "Norway            True\n",
       "Switzerland       True\n",
       "Australia         True\n",
       "Denmark           True\n",
       "Sweden           False\n",
       "United States    False\n",
       "Netherlands      False\n",
       "Name: GDP of the Top 7 countries, dtype: bool"
      ]
     },
     "execution_count": 46,
     "metadata": {},
     "output_type": "execute_result"
    }
   ],
   "source": [
    "# Alle BIPs größer 60\n",
    "GDP > 60"
   ]
  },
  {
   "cell_type": "code",
   "execution_count": 47,
   "metadata": {},
   "outputs": [
    {
     "data": {
      "text/plain": [
       "Norway           97.3\n",
       "Switzerland      85.8\n",
       "Sweden           58.9\n",
       "United States    54.6\n",
       "Netherlands      52.1\n",
       "Name: GDP of the Top 7 countries, dtype: float64"
      ]
     },
     "execution_count": 47,
     "metadata": {},
     "output_type": "execute_result"
    }
   ],
   "source": [
    "# Alle BIPS größer 70 oder kleiner 60\n",
    "GDP[(GDP > 70) | (GDP<60)] # | ist oder"
   ]
  },
  {
   "cell_type": "code",
   "execution_count": 48,
   "metadata": {},
   "outputs": [
    {
     "data": {
      "text/plain": [
       "Norway         97.3\n",
       "Switzerland    85.8\n",
       "Name: GDP of the Top 7 countries, dtype: float64"
      ]
     },
     "execution_count": 48,
     "metadata": {},
     "output_type": "execute_result"
    }
   ],
   "source": [
    "# Alle BIPS größer 70 und kleiner 100\n",
    "GDP[(GDP > 70) & (GDP<100)]"
   ]
  },
  {
   "cell_type": "markdown",
   "metadata": {},
   "source": [
    "### Pandas Data Frames\n",
    "Die wahrscheinlich wichtigste Datenstruktur der Pandas ist der Dataframe. Dies kann man sich als eine Excel Tabelle vorstellen, also eine Kombination der Spalten (Series). Es ist möglich Dataframes händisch zu erstellen, die meiste Zeit werden wir die Daten z.B. aus einer .csv Datei importieren. \n",
    "\n",
    "Hier erzeugen wir einen Datensatz mit Informationen über die Auslastung eines Lagersystems der Firma Fiction GmbH. Diese betreibt in Deutschland vier unabhängige, vollautomatisierte Großlager. In der Datei ist für jedes Lager die Anzahl an Pakete bzw. Paletten gemessen, die das Lager im Laufe des Tages erreicht. Ferner  wird zudem für jeden Zeitraum die mögliche Kapazität des Lagers gemessen. Zudem ist auch ein Kostenfaktor angegeben. "
   ]
  },
  {
   "cell_type": "code",
   "execution_count": 49,
   "metadata": {},
   "outputs": [
    {
     "name": "stdout",
     "output_type": "stream",
     "text": [
      "    Store       Time  Package  Capacity  Costfactor\n",
      "0       1    Morning     1521      3000         1.8\n",
      "1       1  Afternoon     2641      3000         1.1\n",
      "2       1    Evening      987      1500         1.4\n",
      "3       1      Night      512      1000         3.2\n",
      "4       2    Morning      301       500         1.4\n",
      "5       2  Afternoon      405       500         1.1\n",
      "6       2    Evening      169       200         1.6\n",
      "7       2      Night       15       100         4.2\n",
      "8       3    Morning     3458      8000         1.2\n",
      "9       3  Afternoon     7456      8000         1.1\n",
      "10      3    Evening     2361      8000         1.4\n",
      "11      3      Night     1056      8000         2.5\n",
      "12      4    Morning      987      3000         3.1\n",
      "13      4  Afternoon      403      3000         2.4\n",
      "14      4    Evening      201      1500         2.2\n",
      "15      4      Night      112       500         4.5\n"
     ]
    }
   ],
   "source": [
    "# Erstelle einen Dataframe mit benannten Spalten\n",
    "df = pd.DataFrame({\"Store\": [1,1, 1, 1, 2, 2, 2, 2, 3, \n",
    "                             3, 3, 3, 4, 4, 4, 4,],\n",
    "                  \"Time\": [\"Morning\", \"Afternoon\", \"Evening\", \"Night\",\n",
    "                           \"Morning\", \"Afternoon\", \"Evening\", \"Night\",\n",
    "                           \"Morning\", \"Afternoon\", \"Evening\", \"Night\",\n",
    "                           \"Morning\", \"Afternoon\", \"Evening\", \"Night\"],\n",
    "                   \"Package\": [1521, 2641, 987, 512, 301, 405, 169, 15, 3458, 7456,\n",
    "                               2361, 1056, 987, 403, 201, 112],\n",
    "                  \"Capacity\": [3000, 3000, 1500, 1000, 500, 500, 200, 100, 8000, 8000, 8000,\n",
    "                               8000, 3000, 3000, 1500, 500],\n",
    "                  \"Costfactor\": [1.8, 1.1, 1.4, 3.2, 1.4, 1.1, 1.6, 4.2, 1.2, 1.1,\n",
    "                                 1.4, 2.5, 3.1, 2.4, 2.2, 4.5]})\n",
    "print(df)"
   ]
  },
  {
   "cell_type": "code",
   "execution_count": 50,
   "metadata": {},
   "outputs": [
    {
     "data": {
      "text/plain": [
       "Index(['Store', 'Time', 'Package', 'Capacity', 'Costfactor'], dtype='object')"
      ]
     },
     "execution_count": 50,
     "metadata": {},
     "output_type": "execute_result"
    }
   ],
   "source": [
    "# Spaltennamen ausgeben lassen\n",
    "df.columns "
   ]
  },
  {
   "cell_type": "code",
   "execution_count": 51,
   "metadata": {},
   "outputs": [
    {
     "name": "stdout",
     "output_type": "stream",
     "text": [
      "<class 'pandas.core.frame.DataFrame'>\n",
      "RangeIndex: 16 entries, 0 to 15\n",
      "Data columns (total 5 columns):\n",
      " #   Column      Non-Null Count  Dtype  \n",
      "---  ------      --------------  -----  \n",
      " 0   Store       16 non-null     int64  \n",
      " 1   Time        16 non-null     object \n",
      " 2   Package     16 non-null     int64  \n",
      " 3   Capacity    16 non-null     int64  \n",
      " 4   Costfactor  16 non-null     float64\n",
      "dtypes: float64(1), int64(3), object(1)\n",
      "memory usage: 768.0+ bytes\n"
     ]
    }
   ],
   "source": [
    "# Zusammenfassung des Dataframes\n",
    "df.info()"
   ]
  },
  {
   "cell_type": "code",
   "execution_count": 52,
   "metadata": {},
   "outputs": [
    {
     "data": {
      "text/plain": [
       "80"
      ]
     },
     "execution_count": 52,
     "metadata": {},
     "output_type": "execute_result"
    }
   ],
   "source": [
    "# Anzahl Eintraege\n",
    "df.size"
   ]
  },
  {
   "cell_type": "code",
   "execution_count": 53,
   "metadata": {},
   "outputs": [
    {
     "data": {
      "text/plain": [
       "(16, 5)"
      ]
     },
     "execution_count": 53,
     "metadata": {},
     "output_type": "execute_result"
    }
   ],
   "source": [
    "# Anzahl Zeilen und Spalten\n",
    "df.shape"
   ]
  },
  {
   "cell_type": "code",
   "execution_count": 54,
   "metadata": {},
   "outputs": [
    {
     "data": {
      "text/html": [
       "<div>\n",
       "<style scoped>\n",
       "    .dataframe tbody tr th:only-of-type {\n",
       "        vertical-align: middle;\n",
       "    }\n",
       "\n",
       "    .dataframe tbody tr th {\n",
       "        vertical-align: top;\n",
       "    }\n",
       "\n",
       "    .dataframe thead th {\n",
       "        text-align: right;\n",
       "    }\n",
       "</style>\n",
       "<table border=\"1\" class=\"dataframe\">\n",
       "  <thead>\n",
       "    <tr style=\"text-align: right;\">\n",
       "      <th></th>\n",
       "      <th>Store</th>\n",
       "      <th>Package</th>\n",
       "      <th>Capacity</th>\n",
       "      <th>Costfactor</th>\n",
       "    </tr>\n",
       "  </thead>\n",
       "  <tbody>\n",
       "    <tr>\n",
       "      <th>count</th>\n",
       "      <td>16.000000</td>\n",
       "      <td>16.0000</td>\n",
       "      <td>16.00000</td>\n",
       "      <td>16.000000</td>\n",
       "    </tr>\n",
       "    <tr>\n",
       "      <th>mean</th>\n",
       "      <td>2.500000</td>\n",
       "      <td>1411.5625</td>\n",
       "      <td>3112.50000</td>\n",
       "      <td>2.137500</td>\n",
       "    </tr>\n",
       "    <tr>\n",
       "      <th>std</th>\n",
       "      <td>1.154701</td>\n",
       "      <td>1903.6209</td>\n",
       "      <td>3090.81974</td>\n",
       "      <td>1.102648</td>\n",
       "    </tr>\n",
       "    <tr>\n",
       "      <th>min</th>\n",
       "      <td>1.000000</td>\n",
       "      <td>15.0000</td>\n",
       "      <td>100.00000</td>\n",
       "      <td>1.100000</td>\n",
       "    </tr>\n",
       "    <tr>\n",
       "      <th>25%</th>\n",
       "      <td>1.750000</td>\n",
       "      <td>276.0000</td>\n",
       "      <td>500.00000</td>\n",
       "      <td>1.350000</td>\n",
       "    </tr>\n",
       "    <tr>\n",
       "      <th>50%</th>\n",
       "      <td>2.500000</td>\n",
       "      <td>749.5000</td>\n",
       "      <td>2250.00000</td>\n",
       "      <td>1.700000</td>\n",
       "    </tr>\n",
       "    <tr>\n",
       "      <th>75%</th>\n",
       "      <td>3.250000</td>\n",
       "      <td>1731.0000</td>\n",
       "      <td>4250.00000</td>\n",
       "      <td>2.650000</td>\n",
       "    </tr>\n",
       "    <tr>\n",
       "      <th>max</th>\n",
       "      <td>4.000000</td>\n",
       "      <td>7456.0000</td>\n",
       "      <td>8000.00000</td>\n",
       "      <td>4.500000</td>\n",
       "    </tr>\n",
       "  </tbody>\n",
       "</table>\n",
       "</div>"
      ],
      "text/plain": [
       "           Store    Package    Capacity  Costfactor\n",
       "count  16.000000    16.0000    16.00000   16.000000\n",
       "mean    2.500000  1411.5625  3112.50000    2.137500\n",
       "std     1.154701  1903.6209  3090.81974    1.102648\n",
       "min     1.000000    15.0000   100.00000    1.100000\n",
       "25%     1.750000   276.0000   500.00000    1.350000\n",
       "50%     2.500000   749.5000  2250.00000    1.700000\n",
       "75%     3.250000  1731.0000  4250.00000    2.650000\n",
       "max     4.000000  7456.0000  8000.00000    4.500000"
      ]
     },
     "execution_count": 54,
     "metadata": {},
     "output_type": "execute_result"
    }
   ],
   "source": [
    "# Wichtigsten Kennzahlen fuer jede (numerische) Spalte\n",
    "df.describe()"
   ]
  },
  {
   "cell_type": "code",
   "execution_count": 55,
   "metadata": {},
   "outputs": [
    {
     "data": {
      "text/plain": [
       "Store           int64\n",
       "Time           object\n",
       "Package         int64\n",
       "Capacity        int64\n",
       "Costfactor    float64\n",
       "dtype: object"
      ]
     },
     "execution_count": 55,
     "metadata": {},
     "output_type": "execute_result"
    }
   ],
   "source": [
    "# Datentyp der Spalten\n",
    "df.dtypes"
   ]
  },
  {
   "cell_type": "code",
   "execution_count": 56,
   "metadata": {},
   "outputs": [
    {
     "data": {
      "text/plain": [
       "int64      3\n",
       "float64    1\n",
       "object     1\n",
       "dtype: int64"
      ]
     },
     "execution_count": 56,
     "metadata": {},
     "output_type": "execute_result"
    }
   ],
   "source": [
    "# Absolute Haeufigkeit der verschiedenen Datentypen\n",
    "df.dtypes.value_counts()"
   ]
  },
  {
   "cell_type": "markdown",
   "metadata": {},
   "source": [
    "#### Indexing"
   ]
  },
  {
   "cell_type": "code",
   "execution_count": 57,
   "metadata": {},
   "outputs": [
    {
     "data": {
      "text/plain": [
       "0       Morning\n",
       "1     Afternoon\n",
       "2       Evening\n",
       "3         Night\n",
       "4       Morning\n",
       "5     Afternoon\n",
       "6       Evening\n",
       "7         Night\n",
       "8       Morning\n",
       "9     Afternoon\n",
       "10      Evening\n",
       "11        Night\n",
       "12      Morning\n",
       "13    Afternoon\n",
       "14      Evening\n",
       "15        Night\n",
       "Name: Time, dtype: object"
      ]
     },
     "execution_count": 57,
     "metadata": {},
     "output_type": "execute_result"
    }
   ],
   "source": [
    "# Auswahl einer Spalte nach Name\n",
    "df['Time']"
   ]
  },
  {
   "cell_type": "code",
   "execution_count": 58,
   "metadata": {},
   "outputs": [
    {
     "data": {
      "text/plain": [
       "Store             4\n",
       "Time          Night\n",
       "Package         112\n",
       "Capacity        500\n",
       "Costfactor      4.5\n",
       "Name: 15, dtype: object"
      ]
     },
     "execution_count": 58,
     "metadata": {},
     "output_type": "execute_result"
    }
   ],
   "source": [
    "# Auswahl einer Zeile mit Indizierung\n",
    "df.iloc[-1]"
   ]
  },
  {
   "cell_type": "code",
   "execution_count": 59,
   "metadata": {},
   "outputs": [
    {
     "data": {
      "text/html": [
       "<div>\n",
       "<style scoped>\n",
       "    .dataframe tbody tr th:only-of-type {\n",
       "        vertical-align: middle;\n",
       "    }\n",
       "\n",
       "    .dataframe tbody tr th {\n",
       "        vertical-align: top;\n",
       "    }\n",
       "\n",
       "    .dataframe thead th {\n",
       "        text-align: right;\n",
       "    }\n",
       "</style>\n",
       "<table border=\"1\" class=\"dataframe\">\n",
       "  <thead>\n",
       "    <tr style=\"text-align: right;\">\n",
       "      <th></th>\n",
       "      <th>Store</th>\n",
       "      <th>Package</th>\n",
       "    </tr>\n",
       "  </thead>\n",
       "  <tbody>\n",
       "    <tr>\n",
       "      <th>0</th>\n",
       "      <td>1</td>\n",
       "      <td>1521</td>\n",
       "    </tr>\n",
       "    <tr>\n",
       "      <th>1</th>\n",
       "      <td>1</td>\n",
       "      <td>2641</td>\n",
       "    </tr>\n",
       "    <tr>\n",
       "      <th>2</th>\n",
       "      <td>1</td>\n",
       "      <td>987</td>\n",
       "    </tr>\n",
       "    <tr>\n",
       "      <th>3</th>\n",
       "      <td>1</td>\n",
       "      <td>512</td>\n",
       "    </tr>\n",
       "    <tr>\n",
       "      <th>4</th>\n",
       "      <td>2</td>\n",
       "      <td>301</td>\n",
       "    </tr>\n",
       "    <tr>\n",
       "      <th>5</th>\n",
       "      <td>2</td>\n",
       "      <td>405</td>\n",
       "    </tr>\n",
       "    <tr>\n",
       "      <th>6</th>\n",
       "      <td>2</td>\n",
       "      <td>169</td>\n",
       "    </tr>\n",
       "    <tr>\n",
       "      <th>7</th>\n",
       "      <td>2</td>\n",
       "      <td>15</td>\n",
       "    </tr>\n",
       "    <tr>\n",
       "      <th>8</th>\n",
       "      <td>3</td>\n",
       "      <td>3458</td>\n",
       "    </tr>\n",
       "    <tr>\n",
       "      <th>9</th>\n",
       "      <td>3</td>\n",
       "      <td>7456</td>\n",
       "    </tr>\n",
       "    <tr>\n",
       "      <th>10</th>\n",
       "      <td>3</td>\n",
       "      <td>2361</td>\n",
       "    </tr>\n",
       "    <tr>\n",
       "      <th>11</th>\n",
       "      <td>3</td>\n",
       "      <td>1056</td>\n",
       "    </tr>\n",
       "    <tr>\n",
       "      <th>12</th>\n",
       "      <td>4</td>\n",
       "      <td>987</td>\n",
       "    </tr>\n",
       "    <tr>\n",
       "      <th>13</th>\n",
       "      <td>4</td>\n",
       "      <td>403</td>\n",
       "    </tr>\n",
       "    <tr>\n",
       "      <th>14</th>\n",
       "      <td>4</td>\n",
       "      <td>201</td>\n",
       "    </tr>\n",
       "    <tr>\n",
       "      <th>15</th>\n",
       "      <td>4</td>\n",
       "      <td>112</td>\n",
       "    </tr>\n",
       "  </tbody>\n",
       "</table>\n",
       "</div>"
      ],
      "text/plain": [
       "    Store  Package\n",
       "0       1     1521\n",
       "1       1     2641\n",
       "2       1      987\n",
       "3       1      512\n",
       "4       2      301\n",
       "5       2      405\n",
       "6       2      169\n",
       "7       2       15\n",
       "8       3     3458\n",
       "9       3     7456\n",
       "10      3     2361\n",
       "11      3     1056\n",
       "12      4      987\n",
       "13      4      403\n",
       "14      4      201\n",
       "15      4      112"
      ]
     },
     "execution_count": 59,
     "metadata": {},
     "output_type": "execute_result"
    }
   ],
   "source": [
    "# Mehrere Spalten nach Namen auswählen\n",
    "df[['Store', 'Package']]"
   ]
  },
  {
   "cell_type": "code",
   "execution_count": 60,
   "metadata": {},
   "outputs": [
    {
     "data": {
      "text/html": [
       "<div>\n",
       "<style scoped>\n",
       "    .dataframe tbody tr th:only-of-type {\n",
       "        vertical-align: middle;\n",
       "    }\n",
       "\n",
       "    .dataframe tbody tr th {\n",
       "        vertical-align: top;\n",
       "    }\n",
       "\n",
       "    .dataframe thead th {\n",
       "        text-align: right;\n",
       "    }\n",
       "</style>\n",
       "<table border=\"1\" class=\"dataframe\">\n",
       "  <thead>\n",
       "    <tr style=\"text-align: right;\">\n",
       "      <th></th>\n",
       "      <th>Store</th>\n",
       "      <th>Time</th>\n",
       "      <th>Package</th>\n",
       "      <th>Capacity</th>\n",
       "      <th>Costfactor</th>\n",
       "    </tr>\n",
       "  </thead>\n",
       "  <tbody>\n",
       "    <tr>\n",
       "      <th>1</th>\n",
       "      <td>1</td>\n",
       "      <td>Afternoon</td>\n",
       "      <td>2641</td>\n",
       "      <td>3000</td>\n",
       "      <td>1.1</td>\n",
       "    </tr>\n",
       "    <tr>\n",
       "      <th>2</th>\n",
       "      <td>1</td>\n",
       "      <td>Evening</td>\n",
       "      <td>987</td>\n",
       "      <td>1500</td>\n",
       "      <td>1.4</td>\n",
       "    </tr>\n",
       "  </tbody>\n",
       "</table>\n",
       "</div>"
      ],
      "text/plain": [
       "   Store       Time  Package  Capacity  Costfactor\n",
       "1      1  Afternoon     2641      3000         1.1\n",
       "2      1    Evening      987      1500         1.4"
      ]
     },
     "execution_count": 60,
     "metadata": {},
     "output_type": "execute_result"
    }
   ],
   "source": [
    "# Auswahl mehrere Zeilen mit Indizierung\n",
    "df[1:3]"
   ]
  },
  {
   "cell_type": "code",
   "execution_count": 61,
   "metadata": {},
   "outputs": [
    {
     "data": {
      "text/plain": [
       "0      True\n",
       "1      True\n",
       "2      True\n",
       "3      True\n",
       "4     False\n",
       "5     False\n",
       "6     False\n",
       "7     False\n",
       "8      True\n",
       "9      True\n",
       "10     True\n",
       "11     True\n",
       "12     True\n",
       "13     True\n",
       "14     True\n",
       "15    False\n",
       "Name: Capacity, dtype: bool"
      ]
     },
     "execution_count": 61,
     "metadata": {},
     "output_type": "execute_result"
    }
   ],
   "source": [
    "# Welche Zeilen mit Capacity > 500\n",
    "df['Capacity'] > 500"
   ]
  },
  {
   "cell_type": "code",
   "execution_count": 62,
   "metadata": {},
   "outputs": [
    {
     "data": {
      "text/html": [
       "<div>\n",
       "<style scoped>\n",
       "    .dataframe tbody tr th:only-of-type {\n",
       "        vertical-align: middle;\n",
       "    }\n",
       "\n",
       "    .dataframe tbody tr th {\n",
       "        vertical-align: top;\n",
       "    }\n",
       "\n",
       "    .dataframe thead th {\n",
       "        text-align: right;\n",
       "    }\n",
       "</style>\n",
       "<table border=\"1\" class=\"dataframe\">\n",
       "  <thead>\n",
       "    <tr style=\"text-align: right;\">\n",
       "      <th></th>\n",
       "      <th>Store</th>\n",
       "      <th>Time</th>\n",
       "      <th>Package</th>\n",
       "      <th>Capacity</th>\n",
       "      <th>Costfactor</th>\n",
       "    </tr>\n",
       "  </thead>\n",
       "  <tbody>\n",
       "    <tr>\n",
       "      <th>0</th>\n",
       "      <td>1</td>\n",
       "      <td>Morning</td>\n",
       "      <td>1521</td>\n",
       "      <td>3000</td>\n",
       "      <td>1.8</td>\n",
       "    </tr>\n",
       "    <tr>\n",
       "      <th>1</th>\n",
       "      <td>1</td>\n",
       "      <td>Afternoon</td>\n",
       "      <td>2641</td>\n",
       "      <td>3000</td>\n",
       "      <td>1.1</td>\n",
       "    </tr>\n",
       "    <tr>\n",
       "      <th>2</th>\n",
       "      <td>1</td>\n",
       "      <td>Evening</td>\n",
       "      <td>987</td>\n",
       "      <td>1500</td>\n",
       "      <td>1.4</td>\n",
       "    </tr>\n",
       "    <tr>\n",
       "      <th>3</th>\n",
       "      <td>1</td>\n",
       "      <td>Night</td>\n",
       "      <td>512</td>\n",
       "      <td>1000</td>\n",
       "      <td>3.2</td>\n",
       "    </tr>\n",
       "    <tr>\n",
       "      <th>8</th>\n",
       "      <td>3</td>\n",
       "      <td>Morning</td>\n",
       "      <td>3458</td>\n",
       "      <td>8000</td>\n",
       "      <td>1.2</td>\n",
       "    </tr>\n",
       "    <tr>\n",
       "      <th>9</th>\n",
       "      <td>3</td>\n",
       "      <td>Afternoon</td>\n",
       "      <td>7456</td>\n",
       "      <td>8000</td>\n",
       "      <td>1.1</td>\n",
       "    </tr>\n",
       "    <tr>\n",
       "      <th>10</th>\n",
       "      <td>3</td>\n",
       "      <td>Evening</td>\n",
       "      <td>2361</td>\n",
       "      <td>8000</td>\n",
       "      <td>1.4</td>\n",
       "    </tr>\n",
       "    <tr>\n",
       "      <th>11</th>\n",
       "      <td>3</td>\n",
       "      <td>Night</td>\n",
       "      <td>1056</td>\n",
       "      <td>8000</td>\n",
       "      <td>2.5</td>\n",
       "    </tr>\n",
       "    <tr>\n",
       "      <th>12</th>\n",
       "      <td>4</td>\n",
       "      <td>Morning</td>\n",
       "      <td>987</td>\n",
       "      <td>3000</td>\n",
       "      <td>3.1</td>\n",
       "    </tr>\n",
       "    <tr>\n",
       "      <th>13</th>\n",
       "      <td>4</td>\n",
       "      <td>Afternoon</td>\n",
       "      <td>403</td>\n",
       "      <td>3000</td>\n",
       "      <td>2.4</td>\n",
       "    </tr>\n",
       "    <tr>\n",
       "      <th>14</th>\n",
       "      <td>4</td>\n",
       "      <td>Evening</td>\n",
       "      <td>201</td>\n",
       "      <td>1500</td>\n",
       "      <td>2.2</td>\n",
       "    </tr>\n",
       "  </tbody>\n",
       "</table>\n",
       "</div>"
      ],
      "text/plain": [
       "    Store       Time  Package  Capacity  Costfactor\n",
       "0       1    Morning     1521      3000         1.8\n",
       "1       1  Afternoon     2641      3000         1.1\n",
       "2       1    Evening      987      1500         1.4\n",
       "3       1      Night      512      1000         3.2\n",
       "8       3    Morning     3458      8000         1.2\n",
       "9       3  Afternoon     7456      8000         1.1\n",
       "10      3    Evening     2361      8000         1.4\n",
       "11      3      Night     1056      8000         2.5\n",
       "12      4    Morning      987      3000         3.1\n",
       "13      4  Afternoon      403      3000         2.4\n",
       "14      4    Evening      201      1500         2.2"
      ]
     },
     "execution_count": 62,
     "metadata": {},
     "output_type": "execute_result"
    }
   ],
   "source": [
    "# Nur Zeilen mit Capacity > 500 ausgeben\n",
    "df.loc[df['Capacity'] > 500]"
   ]
  },
  {
   "cell_type": "markdown",
   "metadata": {},
   "source": [
    "#### Operations"
   ]
  },
  {
   "cell_type": "code",
   "execution_count": 63,
   "metadata": {},
   "outputs": [
    {
     "data": {
      "text/html": [
       "<div>\n",
       "<style scoped>\n",
       "    .dataframe tbody tr th:only-of-type {\n",
       "        vertical-align: middle;\n",
       "    }\n",
       "\n",
       "    .dataframe tbody tr th {\n",
       "        vertical-align: top;\n",
       "    }\n",
       "\n",
       "    .dataframe thead th {\n",
       "        text-align: right;\n",
       "    }\n",
       "</style>\n",
       "<table border=\"1\" class=\"dataframe\">\n",
       "  <thead>\n",
       "    <tr style=\"text-align: right;\">\n",
       "      <th></th>\n",
       "      <th>Time</th>\n",
       "      <th>Package</th>\n",
       "      <th>Capacity</th>\n",
       "      <th>Costfactor</th>\n",
       "    </tr>\n",
       "  </thead>\n",
       "  <tbody>\n",
       "    <tr>\n",
       "      <th>0</th>\n",
       "      <td>Morning</td>\n",
       "      <td>1521</td>\n",
       "      <td>3000</td>\n",
       "      <td>1.8</td>\n",
       "    </tr>\n",
       "    <tr>\n",
       "      <th>1</th>\n",
       "      <td>Afternoon</td>\n",
       "      <td>2641</td>\n",
       "      <td>3000</td>\n",
       "      <td>1.1</td>\n",
       "    </tr>\n",
       "    <tr>\n",
       "      <th>2</th>\n",
       "      <td>Evening</td>\n",
       "      <td>987</td>\n",
       "      <td>1500</td>\n",
       "      <td>1.4</td>\n",
       "    </tr>\n",
       "    <tr>\n",
       "      <th>3</th>\n",
       "      <td>Night</td>\n",
       "      <td>512</td>\n",
       "      <td>1000</td>\n",
       "      <td>3.2</td>\n",
       "    </tr>\n",
       "    <tr>\n",
       "      <th>4</th>\n",
       "      <td>Morning</td>\n",
       "      <td>301</td>\n",
       "      <td>500</td>\n",
       "      <td>1.4</td>\n",
       "    </tr>\n",
       "    <tr>\n",
       "      <th>5</th>\n",
       "      <td>Afternoon</td>\n",
       "      <td>405</td>\n",
       "      <td>500</td>\n",
       "      <td>1.1</td>\n",
       "    </tr>\n",
       "    <tr>\n",
       "      <th>6</th>\n",
       "      <td>Evening</td>\n",
       "      <td>169</td>\n",
       "      <td>200</td>\n",
       "      <td>1.6</td>\n",
       "    </tr>\n",
       "    <tr>\n",
       "      <th>7</th>\n",
       "      <td>Night</td>\n",
       "      <td>15</td>\n",
       "      <td>100</td>\n",
       "      <td>4.2</td>\n",
       "    </tr>\n",
       "    <tr>\n",
       "      <th>8</th>\n",
       "      <td>Morning</td>\n",
       "      <td>3458</td>\n",
       "      <td>8000</td>\n",
       "      <td>1.2</td>\n",
       "    </tr>\n",
       "    <tr>\n",
       "      <th>9</th>\n",
       "      <td>Afternoon</td>\n",
       "      <td>7456</td>\n",
       "      <td>8000</td>\n",
       "      <td>1.1</td>\n",
       "    </tr>\n",
       "    <tr>\n",
       "      <th>10</th>\n",
       "      <td>Evening</td>\n",
       "      <td>2361</td>\n",
       "      <td>8000</td>\n",
       "      <td>1.4</td>\n",
       "    </tr>\n",
       "    <tr>\n",
       "      <th>11</th>\n",
       "      <td>Night</td>\n",
       "      <td>1056</td>\n",
       "      <td>8000</td>\n",
       "      <td>2.5</td>\n",
       "    </tr>\n",
       "    <tr>\n",
       "      <th>12</th>\n",
       "      <td>Morning</td>\n",
       "      <td>987</td>\n",
       "      <td>3000</td>\n",
       "      <td>3.1</td>\n",
       "    </tr>\n",
       "    <tr>\n",
       "      <th>13</th>\n",
       "      <td>Afternoon</td>\n",
       "      <td>403</td>\n",
       "      <td>3000</td>\n",
       "      <td>2.4</td>\n",
       "    </tr>\n",
       "    <tr>\n",
       "      <th>14</th>\n",
       "      <td>Evening</td>\n",
       "      <td>201</td>\n",
       "      <td>1500</td>\n",
       "      <td>2.2</td>\n",
       "    </tr>\n",
       "    <tr>\n",
       "      <th>15</th>\n",
       "      <td>Night</td>\n",
       "      <td>112</td>\n",
       "      <td>500</td>\n",
       "      <td>4.5</td>\n",
       "    </tr>\n",
       "  </tbody>\n",
       "</table>\n",
       "</div>"
      ],
      "text/plain": [
       "         Time  Package  Capacity  Costfactor\n",
       "0     Morning     1521      3000         1.8\n",
       "1   Afternoon     2641      3000         1.1\n",
       "2     Evening      987      1500         1.4\n",
       "3       Night      512      1000         3.2\n",
       "4     Morning      301       500         1.4\n",
       "5   Afternoon      405       500         1.1\n",
       "6     Evening      169       200         1.6\n",
       "7       Night       15       100         4.2\n",
       "8     Morning     3458      8000         1.2\n",
       "9   Afternoon     7456      8000         1.1\n",
       "10    Evening     2361      8000         1.4\n",
       "11      Night     1056      8000         2.5\n",
       "12    Morning      987      3000         3.1\n",
       "13  Afternoon      403      3000         2.4\n",
       "14    Evening      201      1500         2.2\n",
       "15      Night      112       500         4.5"
      ]
     },
     "execution_count": 63,
     "metadata": {},
     "output_type": "execute_result"
    }
   ],
   "source": [
    "# Die Spalte Store wird gelöscht\n",
    "df.drop('Store', axis = 1, inplace = False)\n",
    "# axis = 1 besagt, dass wir drop auf Spalten anwenden wollen\n",
    "# inplace = False (default) wird eine Kopie des df ausgegeben, der eigentlich df wird nicht verändert"
   ]
  },
  {
   "cell_type": "code",
   "execution_count": 64,
   "metadata": {},
   "outputs": [
    {
     "data": {
      "text/html": [
       "<div>\n",
       "<style scoped>\n",
       "    .dataframe tbody tr th:only-of-type {\n",
       "        vertical-align: middle;\n",
       "    }\n",
       "\n",
       "    .dataframe tbody tr th {\n",
       "        vertical-align: top;\n",
       "    }\n",
       "\n",
       "    .dataframe thead th {\n",
       "        text-align: right;\n",
       "    }\n",
       "</style>\n",
       "<table border=\"1\" class=\"dataframe\">\n",
       "  <thead>\n",
       "    <tr style=\"text-align: right;\">\n",
       "      <th></th>\n",
       "      <th>Capacity</th>\n",
       "    </tr>\n",
       "  </thead>\n",
       "  <tbody>\n",
       "    <tr>\n",
       "      <th>0</th>\n",
       "      <td>2700.0</td>\n",
       "    </tr>\n",
       "    <tr>\n",
       "      <th>1</th>\n",
       "      <td>2700.0</td>\n",
       "    </tr>\n",
       "    <tr>\n",
       "      <th>2</th>\n",
       "      <td>1350.0</td>\n",
       "    </tr>\n",
       "    <tr>\n",
       "      <th>3</th>\n",
       "      <td>900.0</td>\n",
       "    </tr>\n",
       "    <tr>\n",
       "      <th>4</th>\n",
       "      <td>450.0</td>\n",
       "    </tr>\n",
       "    <tr>\n",
       "      <th>5</th>\n",
       "      <td>450.0</td>\n",
       "    </tr>\n",
       "    <tr>\n",
       "      <th>6</th>\n",
       "      <td>180.0</td>\n",
       "    </tr>\n",
       "    <tr>\n",
       "      <th>7</th>\n",
       "      <td>90.0</td>\n",
       "    </tr>\n",
       "    <tr>\n",
       "      <th>8</th>\n",
       "      <td>7200.0</td>\n",
       "    </tr>\n",
       "    <tr>\n",
       "      <th>9</th>\n",
       "      <td>7200.0</td>\n",
       "    </tr>\n",
       "    <tr>\n",
       "      <th>10</th>\n",
       "      <td>7200.0</td>\n",
       "    </tr>\n",
       "    <tr>\n",
       "      <th>11</th>\n",
       "      <td>7200.0</td>\n",
       "    </tr>\n",
       "    <tr>\n",
       "      <th>12</th>\n",
       "      <td>2700.0</td>\n",
       "    </tr>\n",
       "    <tr>\n",
       "      <th>13</th>\n",
       "      <td>2700.0</td>\n",
       "    </tr>\n",
       "    <tr>\n",
       "      <th>14</th>\n",
       "      <td>1350.0</td>\n",
       "    </tr>\n",
       "    <tr>\n",
       "      <th>15</th>\n",
       "      <td>450.0</td>\n",
       "    </tr>\n",
       "  </tbody>\n",
       "</table>\n",
       "</div>"
      ],
      "text/plain": [
       "    Capacity\n",
       "0     2700.0\n",
       "1     2700.0\n",
       "2     1350.0\n",
       "3      900.0\n",
       "4      450.0\n",
       "5      450.0\n",
       "6      180.0\n",
       "7       90.0\n",
       "8     7200.0\n",
       "9     7200.0\n",
       "10    7200.0\n",
       "11    7200.0\n",
       "12    2700.0\n",
       "13    2700.0\n",
       "14    1350.0\n",
       "15     450.0"
      ]
     },
     "execution_count": 64,
     "metadata": {},
     "output_type": "execute_result"
    }
   ],
   "source": [
    "# Die Lagerkapazität wird um 10% gesenkt, ohne Zuweisung wird dies nicht im df selbst gespeichert\n",
    "df[['Capacity']] * 0.9"
   ]
  },
  {
   "cell_type": "code",
   "execution_count": 65,
   "metadata": {},
   "outputs": [
    {
     "data": {
      "text/plain": [
       "0     2737.8\n",
       "1     2905.1\n",
       "2     1381.8\n",
       "3     1638.4\n",
       "4      421.4\n",
       "5      445.5\n",
       "6      270.4\n",
       "7       63.0\n",
       "8     4149.6\n",
       "9     8201.6\n",
       "10    3305.4\n",
       "11    2640.0\n",
       "12    3059.7\n",
       "13     967.2\n",
       "14     442.2\n",
       "15     504.0\n",
       "dtype: float64"
      ]
     },
     "execution_count": 65,
     "metadata": {},
     "output_type": "execute_result"
    }
   ],
   "source": [
    "# Wir können auch Spalten miteinander multiplizieren\n",
    "df['Package'] * df['Costfactor']"
   ]
  },
  {
   "cell_type": "code",
   "execution_count": 66,
   "metadata": {},
   "outputs": [
    {
     "data": {
      "text/html": [
       "<div>\n",
       "<style scoped>\n",
       "    .dataframe tbody tr th:only-of-type {\n",
       "        vertical-align: middle;\n",
       "    }\n",
       "\n",
       "    .dataframe tbody tr th {\n",
       "        vertical-align: top;\n",
       "    }\n",
       "\n",
       "    .dataframe thead th {\n",
       "        text-align: right;\n",
       "    }\n",
       "</style>\n",
       "<table border=\"1\" class=\"dataframe\">\n",
       "  <thead>\n",
       "    <tr style=\"text-align: right;\">\n",
       "      <th></th>\n",
       "      <th>Store</th>\n",
       "      <th>Time</th>\n",
       "      <th>Package</th>\n",
       "      <th>Capacity</th>\n",
       "      <th>Costfactor</th>\n",
       "      <th>Country</th>\n",
       "    </tr>\n",
       "  </thead>\n",
       "  <tbody>\n",
       "    <tr>\n",
       "      <th>0</th>\n",
       "      <td>1</td>\n",
       "      <td>Morning</td>\n",
       "      <td>1521</td>\n",
       "      <td>3000</td>\n",
       "      <td>1.8</td>\n",
       "      <td>Germany</td>\n",
       "    </tr>\n",
       "    <tr>\n",
       "      <th>1</th>\n",
       "      <td>1</td>\n",
       "      <td>Afternoon</td>\n",
       "      <td>2641</td>\n",
       "      <td>3000</td>\n",
       "      <td>1.1</td>\n",
       "      <td>Germany</td>\n",
       "    </tr>\n",
       "    <tr>\n",
       "      <th>2</th>\n",
       "      <td>1</td>\n",
       "      <td>Evening</td>\n",
       "      <td>987</td>\n",
       "      <td>1500</td>\n",
       "      <td>1.4</td>\n",
       "      <td>Germany</td>\n",
       "    </tr>\n",
       "    <tr>\n",
       "      <th>3</th>\n",
       "      <td>1</td>\n",
       "      <td>Night</td>\n",
       "      <td>512</td>\n",
       "      <td>1000</td>\n",
       "      <td>3.2</td>\n",
       "      <td>Germany</td>\n",
       "    </tr>\n",
       "    <tr>\n",
       "      <th>4</th>\n",
       "      <td>2</td>\n",
       "      <td>Morning</td>\n",
       "      <td>301</td>\n",
       "      <td>500</td>\n",
       "      <td>1.4</td>\n",
       "      <td>France</td>\n",
       "    </tr>\n",
       "    <tr>\n",
       "      <th>5</th>\n",
       "      <td>2</td>\n",
       "      <td>Afternoon</td>\n",
       "      <td>405</td>\n",
       "      <td>500</td>\n",
       "      <td>1.1</td>\n",
       "      <td>France</td>\n",
       "    </tr>\n",
       "    <tr>\n",
       "      <th>6</th>\n",
       "      <td>2</td>\n",
       "      <td>Evening</td>\n",
       "      <td>169</td>\n",
       "      <td>200</td>\n",
       "      <td>1.6</td>\n",
       "      <td>France</td>\n",
       "    </tr>\n",
       "    <tr>\n",
       "      <th>7</th>\n",
       "      <td>2</td>\n",
       "      <td>Night</td>\n",
       "      <td>15</td>\n",
       "      <td>100</td>\n",
       "      <td>4.2</td>\n",
       "      <td>France</td>\n",
       "    </tr>\n",
       "    <tr>\n",
       "      <th>8</th>\n",
       "      <td>3</td>\n",
       "      <td>Morning</td>\n",
       "      <td>3458</td>\n",
       "      <td>8000</td>\n",
       "      <td>1.2</td>\n",
       "      <td>Belgium</td>\n",
       "    </tr>\n",
       "    <tr>\n",
       "      <th>9</th>\n",
       "      <td>3</td>\n",
       "      <td>Afternoon</td>\n",
       "      <td>7456</td>\n",
       "      <td>8000</td>\n",
       "      <td>1.1</td>\n",
       "      <td>Belgium</td>\n",
       "    </tr>\n",
       "    <tr>\n",
       "      <th>10</th>\n",
       "      <td>3</td>\n",
       "      <td>Evening</td>\n",
       "      <td>2361</td>\n",
       "      <td>8000</td>\n",
       "      <td>1.4</td>\n",
       "      <td>Belgium</td>\n",
       "    </tr>\n",
       "    <tr>\n",
       "      <th>11</th>\n",
       "      <td>3</td>\n",
       "      <td>Night</td>\n",
       "      <td>1056</td>\n",
       "      <td>8000</td>\n",
       "      <td>2.5</td>\n",
       "      <td>Belgium</td>\n",
       "    </tr>\n",
       "    <tr>\n",
       "      <th>12</th>\n",
       "      <td>4</td>\n",
       "      <td>Morning</td>\n",
       "      <td>987</td>\n",
       "      <td>3000</td>\n",
       "      <td>3.1</td>\n",
       "      <td>UK</td>\n",
       "    </tr>\n",
       "    <tr>\n",
       "      <th>13</th>\n",
       "      <td>4</td>\n",
       "      <td>Afternoon</td>\n",
       "      <td>403</td>\n",
       "      <td>3000</td>\n",
       "      <td>2.4</td>\n",
       "      <td>UK</td>\n",
       "    </tr>\n",
       "    <tr>\n",
       "      <th>14</th>\n",
       "      <td>4</td>\n",
       "      <td>Evening</td>\n",
       "      <td>201</td>\n",
       "      <td>1500</td>\n",
       "      <td>2.2</td>\n",
       "      <td>UK</td>\n",
       "    </tr>\n",
       "    <tr>\n",
       "      <th>15</th>\n",
       "      <td>4</td>\n",
       "      <td>Night</td>\n",
       "      <td>112</td>\n",
       "      <td>500</td>\n",
       "      <td>4.5</td>\n",
       "      <td>UK</td>\n",
       "    </tr>\n",
       "  </tbody>\n",
       "</table>\n",
       "</div>"
      ],
      "text/plain": [
       "    Store       Time  Package  Capacity  Costfactor  Country\n",
       "0       1    Morning     1521      3000         1.8  Germany\n",
       "1       1  Afternoon     2641      3000         1.1  Germany\n",
       "2       1    Evening      987      1500         1.4  Germany\n",
       "3       1      Night      512      1000         3.2  Germany\n",
       "4       2    Morning      301       500         1.4   France\n",
       "5       2  Afternoon      405       500         1.1   France\n",
       "6       2    Evening      169       200         1.6   France\n",
       "7       2      Night       15       100         4.2   France\n",
       "8       3    Morning     3458      8000         1.2  Belgium\n",
       "9       3  Afternoon     7456      8000         1.1  Belgium\n",
       "10      3    Evening     2361      8000         1.4  Belgium\n",
       "11      3      Night     1056      8000         2.5  Belgium\n",
       "12      4    Morning      987      3000         3.1       UK\n",
       "13      4  Afternoon      403      3000         2.4       UK\n",
       "14      4    Evening      201      1500         2.2       UK\n",
       "15      4      Night      112       500         4.5       UK"
      ]
     },
     "execution_count": 66,
     "metadata": {},
     "output_type": "execute_result"
    }
   ],
   "source": [
    "# Füge eine neue Spalte hinzu\n",
    "country = [\"Germany\", \"Germany\", \"Germany\", \"Germany\",\n",
    "          \"France\", \"France\", \"France\", \"France\", \n",
    "           \"Belgium\", \"Belgium\", \"Belgium\", \"Belgium\",\n",
    "           \"UK\", \"UK\", \"UK\", \"UK\"]\n",
    "df[\"Country\"] = country\n",
    "df\n",
    "# Hier wird df tatsächlich verändert, da die neue Spalte aktiv zugewiesen wurde"
   ]
  },
  {
   "cell_type": "code",
   "execution_count": 67,
   "metadata": {},
   "outputs": [
    {
     "data": {
      "text/html": [
       "<div>\n",
       "<style scoped>\n",
       "    .dataframe tbody tr th:only-of-type {\n",
       "        vertical-align: middle;\n",
       "    }\n",
       "\n",
       "    .dataframe tbody tr th {\n",
       "        vertical-align: top;\n",
       "    }\n",
       "\n",
       "    .dataframe thead th {\n",
       "        text-align: right;\n",
       "    }\n",
       "</style>\n",
       "<table border=\"1\" class=\"dataframe\">\n",
       "  <thead>\n",
       "    <tr style=\"text-align: right;\">\n",
       "      <th></th>\n",
       "      <th>Store</th>\n",
       "      <th>Time</th>\n",
       "      <th>Package</th>\n",
       "      <th>Capacity</th>\n",
       "      <th>Costfactor</th>\n",
       "      <th>Country</th>\n",
       "    </tr>\n",
       "  </thead>\n",
       "  <tbody>\n",
       "    <tr>\n",
       "      <th>0</th>\n",
       "      <td>1</td>\n",
       "      <td>Morning</td>\n",
       "      <td>1521</td>\n",
       "      <td>3000</td>\n",
       "      <td>1.8</td>\n",
       "      <td>Germany</td>\n",
       "    </tr>\n",
       "    <tr>\n",
       "      <th>1</th>\n",
       "      <td>1</td>\n",
       "      <td>Afternoon</td>\n",
       "      <td>2641</td>\n",
       "      <td>3000</td>\n",
       "      <td>1.1</td>\n",
       "      <td>Germany</td>\n",
       "    </tr>\n",
       "    <tr>\n",
       "      <th>2</th>\n",
       "      <td>1</td>\n",
       "      <td>Evening</td>\n",
       "      <td>987</td>\n",
       "      <td>1500</td>\n",
       "      <td>1.4</td>\n",
       "      <td>Germany</td>\n",
       "    </tr>\n",
       "    <tr>\n",
       "      <th>3</th>\n",
       "      <td>1</td>\n",
       "      <td>Night</td>\n",
       "      <td>512</td>\n",
       "      <td>1000</td>\n",
       "      <td>3.2</td>\n",
       "      <td>Germany</td>\n",
       "    </tr>\n",
       "    <tr>\n",
       "      <th>4</th>\n",
       "      <td>2</td>\n",
       "      <td>Morning</td>\n",
       "      <td>301</td>\n",
       "      <td>500</td>\n",
       "      <td>1.4</td>\n",
       "      <td>Germany</td>\n",
       "    </tr>\n",
       "    <tr>\n",
       "      <th>5</th>\n",
       "      <td>2</td>\n",
       "      <td>Afternoon</td>\n",
       "      <td>405</td>\n",
       "      <td>500</td>\n",
       "      <td>1.1</td>\n",
       "      <td>Germany</td>\n",
       "    </tr>\n",
       "    <tr>\n",
       "      <th>6</th>\n",
       "      <td>2</td>\n",
       "      <td>Evening</td>\n",
       "      <td>169</td>\n",
       "      <td>200</td>\n",
       "      <td>1.6</td>\n",
       "      <td>Germany</td>\n",
       "    </tr>\n",
       "    <tr>\n",
       "      <th>7</th>\n",
       "      <td>2</td>\n",
       "      <td>Night</td>\n",
       "      <td>15</td>\n",
       "      <td>100</td>\n",
       "      <td>4.2</td>\n",
       "      <td>Germany</td>\n",
       "    </tr>\n",
       "    <tr>\n",
       "      <th>8</th>\n",
       "      <td>3</td>\n",
       "      <td>Morning</td>\n",
       "      <td>3458</td>\n",
       "      <td>8000</td>\n",
       "      <td>1.2</td>\n",
       "      <td>Germany</td>\n",
       "    </tr>\n",
       "    <tr>\n",
       "      <th>9</th>\n",
       "      <td>3</td>\n",
       "      <td>Afternoon</td>\n",
       "      <td>7456</td>\n",
       "      <td>8000</td>\n",
       "      <td>1.1</td>\n",
       "      <td>Germany</td>\n",
       "    </tr>\n",
       "    <tr>\n",
       "      <th>10</th>\n",
       "      <td>3</td>\n",
       "      <td>Evening</td>\n",
       "      <td>2361</td>\n",
       "      <td>8000</td>\n",
       "      <td>1.4</td>\n",
       "      <td>Germany</td>\n",
       "    </tr>\n",
       "    <tr>\n",
       "      <th>11</th>\n",
       "      <td>3</td>\n",
       "      <td>Night</td>\n",
       "      <td>1056</td>\n",
       "      <td>8000</td>\n",
       "      <td>2.5</td>\n",
       "      <td>Germany</td>\n",
       "    </tr>\n",
       "    <tr>\n",
       "      <th>12</th>\n",
       "      <td>4</td>\n",
       "      <td>Morning</td>\n",
       "      <td>987</td>\n",
       "      <td>3000</td>\n",
       "      <td>3.1</td>\n",
       "      <td>Germany</td>\n",
       "    </tr>\n",
       "    <tr>\n",
       "      <th>13</th>\n",
       "      <td>4</td>\n",
       "      <td>Afternoon</td>\n",
       "      <td>403</td>\n",
       "      <td>3000</td>\n",
       "      <td>2.4</td>\n",
       "      <td>Germany</td>\n",
       "    </tr>\n",
       "    <tr>\n",
       "      <th>14</th>\n",
       "      <td>4</td>\n",
       "      <td>Evening</td>\n",
       "      <td>201</td>\n",
       "      <td>1500</td>\n",
       "      <td>2.2</td>\n",
       "      <td>Germany</td>\n",
       "    </tr>\n",
       "    <tr>\n",
       "      <th>15</th>\n",
       "      <td>4</td>\n",
       "      <td>Night</td>\n",
       "      <td>112</td>\n",
       "      <td>500</td>\n",
       "      <td>4.5</td>\n",
       "      <td>Germany</td>\n",
       "    </tr>\n",
       "  </tbody>\n",
       "</table>\n",
       "</div>"
      ],
      "text/plain": [
       "    Store       Time  Package  Capacity  Costfactor  Country\n",
       "0       1    Morning     1521      3000         1.8  Germany\n",
       "1       1  Afternoon     2641      3000         1.1  Germany\n",
       "2       1    Evening      987      1500         1.4  Germany\n",
       "3       1      Night      512      1000         3.2  Germany\n",
       "4       2    Morning      301       500         1.4  Germany\n",
       "5       2  Afternoon      405       500         1.1  Germany\n",
       "6       2    Evening      169       200         1.6  Germany\n",
       "7       2      Night       15       100         4.2  Germany\n",
       "8       3    Morning     3458      8000         1.2  Germany\n",
       "9       3  Afternoon     7456      8000         1.1  Germany\n",
       "10      3    Evening     2361      8000         1.4  Germany\n",
       "11      3      Night     1056      8000         2.5  Germany\n",
       "12      4    Morning      987      3000         3.1  Germany\n",
       "13      4  Afternoon      403      3000         2.4  Germany\n",
       "14      4    Evening      201      1500         2.2  Germany\n",
       "15      4      Night      112       500         4.5  Germany"
      ]
     },
     "execution_count": 67,
     "metadata": {},
     "output_type": "execute_result"
    }
   ],
   "source": [
    "# Ändere alle Werte in einer Spalte\n",
    "df['Country'] = 'Germany'\n",
    "df"
   ]
  },
  {
   "cell_type": "code",
   "execution_count": 68,
   "metadata": {},
   "outputs": [
    {
     "data": {
      "text/html": [
       "<div>\n",
       "<style scoped>\n",
       "    .dataframe tbody tr th:only-of-type {\n",
       "        vertical-align: middle;\n",
       "    }\n",
       "\n",
       "    .dataframe tbody tr th {\n",
       "        vertical-align: top;\n",
       "    }\n",
       "\n",
       "    .dataframe thead th {\n",
       "        text-align: right;\n",
       "    }\n",
       "</style>\n",
       "<table border=\"1\" class=\"dataframe\">\n",
       "  <thead>\n",
       "    <tr style=\"text-align: right;\">\n",
       "      <th></th>\n",
       "      <th>Store</th>\n",
       "      <th>Time</th>\n",
       "      <th>Parcel</th>\n",
       "      <th>Capacity</th>\n",
       "      <th>Costfactor</th>\n",
       "      <th>Country</th>\n",
       "    </tr>\n",
       "  </thead>\n",
       "  <tbody>\n",
       "    <tr>\n",
       "      <th>0</th>\n",
       "      <td>1</td>\n",
       "      <td>Morning</td>\n",
       "      <td>1521</td>\n",
       "      <td>3000</td>\n",
       "      <td>1.8</td>\n",
       "      <td>Germany</td>\n",
       "    </tr>\n",
       "    <tr>\n",
       "      <th>1</th>\n",
       "      <td>1</td>\n",
       "      <td>Afternoon</td>\n",
       "      <td>2641</td>\n",
       "      <td>3000</td>\n",
       "      <td>1.1</td>\n",
       "      <td>Germany</td>\n",
       "    </tr>\n",
       "    <tr>\n",
       "      <th>2</th>\n",
       "      <td>1</td>\n",
       "      <td>Evening</td>\n",
       "      <td>987</td>\n",
       "      <td>1500</td>\n",
       "      <td>1.4</td>\n",
       "      <td>Germany</td>\n",
       "    </tr>\n",
       "    <tr>\n",
       "      <th>3</th>\n",
       "      <td>1</td>\n",
       "      <td>Night</td>\n",
       "      <td>512</td>\n",
       "      <td>1000</td>\n",
       "      <td>3.2</td>\n",
       "      <td>Germany</td>\n",
       "    </tr>\n",
       "    <tr>\n",
       "      <th>4</th>\n",
       "      <td>2</td>\n",
       "      <td>Morning</td>\n",
       "      <td>301</td>\n",
       "      <td>500</td>\n",
       "      <td>1.4</td>\n",
       "      <td>Germany</td>\n",
       "    </tr>\n",
       "    <tr>\n",
       "      <th>5</th>\n",
       "      <td>2</td>\n",
       "      <td>Afternoon</td>\n",
       "      <td>405</td>\n",
       "      <td>500</td>\n",
       "      <td>1.1</td>\n",
       "      <td>Germany</td>\n",
       "    </tr>\n",
       "    <tr>\n",
       "      <th>6</th>\n",
       "      <td>2</td>\n",
       "      <td>Evening</td>\n",
       "      <td>169</td>\n",
       "      <td>200</td>\n",
       "      <td>1.6</td>\n",
       "      <td>Germany</td>\n",
       "    </tr>\n",
       "    <tr>\n",
       "      <th>7</th>\n",
       "      <td>2</td>\n",
       "      <td>Night</td>\n",
       "      <td>15</td>\n",
       "      <td>100</td>\n",
       "      <td>4.2</td>\n",
       "      <td>Germany</td>\n",
       "    </tr>\n",
       "    <tr>\n",
       "      <th>8</th>\n",
       "      <td>3</td>\n",
       "      <td>Morning</td>\n",
       "      <td>3458</td>\n",
       "      <td>8000</td>\n",
       "      <td>1.2</td>\n",
       "      <td>Germany</td>\n",
       "    </tr>\n",
       "    <tr>\n",
       "      <th>9</th>\n",
       "      <td>3</td>\n",
       "      <td>Afternoon</td>\n",
       "      <td>7456</td>\n",
       "      <td>8000</td>\n",
       "      <td>1.1</td>\n",
       "      <td>Germany</td>\n",
       "    </tr>\n",
       "    <tr>\n",
       "      <th>10</th>\n",
       "      <td>3</td>\n",
       "      <td>Evening</td>\n",
       "      <td>2361</td>\n",
       "      <td>8000</td>\n",
       "      <td>1.4</td>\n",
       "      <td>Germany</td>\n",
       "    </tr>\n",
       "    <tr>\n",
       "      <th>11</th>\n",
       "      <td>3</td>\n",
       "      <td>Night</td>\n",
       "      <td>1056</td>\n",
       "      <td>8000</td>\n",
       "      <td>2.5</td>\n",
       "      <td>Germany</td>\n",
       "    </tr>\n",
       "    <tr>\n",
       "      <th>12</th>\n",
       "      <td>4</td>\n",
       "      <td>Morning</td>\n",
       "      <td>987</td>\n",
       "      <td>3000</td>\n",
       "      <td>3.1</td>\n",
       "      <td>Germany</td>\n",
       "    </tr>\n",
       "    <tr>\n",
       "      <th>13</th>\n",
       "      <td>4</td>\n",
       "      <td>Afternoon</td>\n",
       "      <td>403</td>\n",
       "      <td>3000</td>\n",
       "      <td>2.4</td>\n",
       "      <td>Germany</td>\n",
       "    </tr>\n",
       "    <tr>\n",
       "      <th>14</th>\n",
       "      <td>4</td>\n",
       "      <td>Evening</td>\n",
       "      <td>201</td>\n",
       "      <td>1500</td>\n",
       "      <td>2.2</td>\n",
       "      <td>Germany</td>\n",
       "    </tr>\n",
       "    <tr>\n",
       "      <th>15</th>\n",
       "      <td>4</td>\n",
       "      <td>Night</td>\n",
       "      <td>112</td>\n",
       "      <td>500</td>\n",
       "      <td>4.5</td>\n",
       "      <td>Germany</td>\n",
       "    </tr>\n",
       "  </tbody>\n",
       "</table>\n",
       "</div>"
      ],
      "text/plain": [
       "    Store       Time  Parcel  Capacity  Costfactor  Country\n",
       "0       1    Morning    1521      3000         1.8  Germany\n",
       "1       1  Afternoon    2641      3000         1.1  Germany\n",
       "2       1    Evening     987      1500         1.4  Germany\n",
       "3       1      Night     512      1000         3.2  Germany\n",
       "4       2    Morning     301       500         1.4  Germany\n",
       "5       2  Afternoon     405       500         1.1  Germany\n",
       "6       2    Evening     169       200         1.6  Germany\n",
       "7       2      Night      15       100         4.2  Germany\n",
       "8       3    Morning    3458      8000         1.2  Germany\n",
       "9       3  Afternoon    7456      8000         1.1  Germany\n",
       "10      3    Evening    2361      8000         1.4  Germany\n",
       "11      3      Night    1056      8000         2.5  Germany\n",
       "12      4    Morning     987      3000         3.1  Germany\n",
       "13      4  Afternoon     403      3000         2.4  Germany\n",
       "14      4    Evening     201      1500         2.2  Germany\n",
       "15      4      Night     112       500         4.5  Germany"
      ]
     },
     "execution_count": 68,
     "metadata": {},
     "output_type": "execute_result"
    }
   ],
   "source": [
    "# Benenne Spalten um\n",
    "df.rename(\n",
    "    columns={\n",
    "        'Package': 'Parcel'\n",
    "    })"
   ]
  },
  {
   "cell_type": "markdown",
   "metadata": {},
   "source": [
    "------------------------------\n",
    "## Aufgabe\n",
    "Erzeugen sie einen data frame aus den den ersten 3 Spalten des Corona Reports von https://www.worldometers.info/coronavirus/ der ersten 10 Länder. Erstellen Sie eine vierte Spalte mit dem Anteil der neuen Fälle an den gesamten Fällen jedes dieser 10 Länder. Geben Sie alle Zeilen aus in denen die Anzahl neuer Fälle höher als das Mittel der neuen Fälle ist. "
   ]
  },
  {
   "cell_type": "code",
   "execution_count": null,
   "metadata": {},
   "outputs": [],
   "source": [
    "# Hier kann Ihre Lösung stehen"
   ]
  },
  {
   "cell_type": "markdown",
   "metadata": {},
   "source": [
    "-----------------------------------\n",
    "# Einführung in Matplotlib\n",
    "Bei Matplotlib handelt es sich um eine sehr große Bibliothek. Im Folgenden geben wir euch nur einen sehr kurzen Überblick darüber was möglich ist. Matplotlib enthält Funktionen, um mathematische Darstellungen zu erzeugen."
   ]
  },
  {
   "cell_type": "code",
   "execution_count": 69,
   "metadata": {},
   "outputs": [],
   "source": [
    "import matplotlib.pyplot as plt"
   ]
  },
  {
   "cell_type": "code",
   "execution_count": 70,
   "metadata": {},
   "outputs": [],
   "source": [
    "# Erzeuge normalverteilte Zufallszahlen zur Veranschaulichung\n",
    "x = np.random.normal(loc=0.0, scale=1.0, size=20)\n",
    "y = x * 1.7 + np.random.normal(loc=1.0, scale=1.0, size=20)"
   ]
  },
  {
   "cell_type": "code",
   "execution_count": 71,
   "metadata": {},
   "outputs": [
    {
     "data": {
      "image/png": "[encoded data removed]",
      "text/plain": [
       "<Figure size 432x288 with 1 Axes>"
      ]
     },
     "metadata": {
      "needs_background": "light"
     },
     "output_type": "display_data"
    }
   ],
   "source": [
    "# Erstelle einen einfachen Scatterplot\n",
    "plt.scatter(x, y)\n",
    "plt.show()"
   ]
  },
  {
   "cell_type": "code",
   "execution_count": 72,
   "metadata": {},
   "outputs": [
    {
     "data": {
      "image/png": "[encoded data removed]",
      "text/plain": [
       "<Figure size 432x288 with 1 Axes>"
      ]
     },
     "metadata": {
      "needs_background": "light"
     },
     "output_type": "display_data"
    }
   ],
   "source": [
    "# Beschrifte die y-Achse (das funktioniert für die x-Achse equivalent)\n",
    "plt.scatter(x, y)\n",
    "plt.ylabel('some random numbers')\n",
    "plt.show()"
   ]
  },
  {
   "cell_type": "code",
   "execution_count": 73,
   "metadata": {},
   "outputs": [
    {
     "data": {
      "image/png": "[encoded data removed]",
      "text/plain": [
       "<Figure size 432x288 with 1 Axes>"
      ]
     },
     "metadata": {
      "needs_background": "light"
     },
     "output_type": "display_data"
    }
   ],
   "source": [
    "# Lege fest von wo bis wo die beiden Achsen gehen sollen\n",
    "plt.scatter(x, y)\n",
    "plt.ylabel('some random numbers')\n",
    "plt.axis([-2, 3, -2, 6])\n",
    "plt.show()"
   ]
  },
  {
   "cell_type": "code",
   "execution_count": 74,
   "metadata": {},
   "outputs": [
    {
     "data": {
      "image/png": "[encoded data removed]",
      "text/plain": [
       "<Figure size 432x288 with 1 Axes>"
      ]
     },
     "metadata": {
      "needs_background": "light"
     },
     "output_type": "display_data"
    }
   ],
   "source": [
    "# Erzeuge neue Zahlen\n",
    "z = np.arange(0, 10, 0.1)\n",
    "\n",
    "# Plot mit mehreren Daten\n",
    "# rot gestrichelt, gelbe Quadrate und grüne Dreiecke\n",
    "plt.plot(z, z, 'r--', z, z**2, 'ys', z, z**3, 'g^')\n",
    "plt.show()"
   ]
  },
  {
   "cell_type": "markdown",
   "metadata": {},
   "source": [
    "### Kategorielle Variablen plotten"
   ]
  },
  {
   "cell_type": "code",
   "execution_count": 75,
   "metadata": {},
   "outputs": [
    {
     "data": {
      "image/png": "[encoded data removed]",
      "text/plain": [
       "<Figure size 432x288 with 1 Axes>"
      ]
     },
     "metadata": {
      "needs_background": "light"
     },
     "output_type": "display_data"
    }
   ],
   "source": [
    "# Nehmen wir unseren dataframe von vorhin\n",
    "\n",
    "# Barplot der Häufigkeit der verschiedenen Zeitpunkte\n",
    "plt.bar(df[\"Time\"].unique(), df[\"Time\"].value_counts())\n",
    "plt.show()"
   ]
  },
  {
   "cell_type": "code",
   "execution_count": 76,
   "metadata": {},
   "outputs": [
    {
     "data": {
      "image/png": "[encoded data removed]",
      "text/plain": [
       "<Figure size 432x288 with 1 Axes>"
      ]
     },
     "metadata": {
      "needs_background": "light"
     },
     "output_type": "display_data"
    }
   ],
   "source": [
    "# Mittlere Kosten zu den verschiedenen Zeitpunkten\n",
    "mean_cost = [df.loc[df[\"Time\"] == \"Morning\", \"Costfactor\"].mean(),\n",
    "             df.loc[df[\"Time\"] == \"Afternoon\", \"Costfactor\"].mean(),\n",
    "             df.loc[df[\"Time\"] == \"Evening\", \"Costfactor\"].mean(),\n",
    "             df.loc[df[\"Time\"] == \"Night\", \"Costfactor\"].mean()]\n",
    "plt.plot(df[\"Time\"].unique(), mean_cost)\n",
    "plt.show()"
   ]
  },
  {
   "cell_type": "code",
   "execution_count": 77,
   "metadata": {},
   "outputs": [
    {
     "data": {
      "image/png": "[encoded data removed]",
      "text/plain": [
       "<Figure size 864x216 with 3 Axes>"
      ]
     },
     "metadata": {
      "needs_background": "light"
     },
     "output_type": "display_data"
    }
   ],
   "source": [
    "# Erzeugen mehrerer Abbildungen gleichzeitig\n",
    "\n",
    "plt.figure(figsize=(12, 3))\n",
    "\n",
    "plt.subplot(131)\n",
    "plt.bar(df[\"Time\"].unique(), df[\"Time\"].value_counts())\n",
    "plt.subplot(132)\n",
    "plt.scatter(df[\"Time\"], df[\"Capacity\"])\n",
    "plt.subplot(133)\n",
    "plt.plot(df[\"Time\"].unique(), mean_cost)\n",
    "plt.suptitle('Categorical Plotting')\n",
    "plt.show()"
   ]
  },
  {
   "cell_type": "markdown",
   "metadata": {},
   "source": [
    "--------------\n",
    "## Aufgabe\n",
    "Lesen Sie die unter https://www-genesis.destatis.de/genesis/online?operation=abruftabelleBearbeiten&levelindex=2&levelid=1604389872015&auswahloperation=abruftabelleAuspraegungAuswaehlen&auswahlverzeichnis=ordnungsstruktur&auswahlziel=werteabruf&code=61211-0001&auswahltext=&werteabruf=Werteabruf#abreadcrumb verfügbaren Erzeugerpreisindizes landwirtschaftlicher Produkte in Deutschland ein. Von Interesse ist dabei der Index für Brotweizen und stellen Sie die Entwicklung zwischen 2010 und 2019 geeignet graphisch dar. Ergänzen sie dann in der Abbildung die Daten für Getreide."
   ]
  },
  {
   "cell_type": "code",
   "execution_count": null,
   "metadata": {},
   "outputs": [],
   "source": [
    "# Hier kann Ihre Lösung stehen"
   ]
  }
 ],
 "metadata": {
  "kernelspec": {
   "display_name": "Python 3",
   "language": "python",
   "name": "python3"
  },
  "language_info": {
   "codemirror_mode": {
    "name": "ipython",
    "version": 3
   },
   "file_extension": ".py",
   "mimetype": "text/x-python",
   "name": "python",
   "nbconvert_exporter": "python",
   "pygments_lexer": "ipython3",
   "version": "3.7.6"
  }
 },
 "nbformat": 4,
 "nbformat_minor": 4
}
