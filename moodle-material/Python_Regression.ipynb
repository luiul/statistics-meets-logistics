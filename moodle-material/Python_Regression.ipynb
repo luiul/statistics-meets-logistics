{
 "cells": [
  {
   "cell_type": "markdown",
   "metadata": {},
   "source": [
    "# Regression"
   ]
  },
  {
   "cell_type": "markdown",
   "metadata": {},
   "source": [
    "## Lineare Regression\n",
    "Die Regressionsanalyse ist eines der wichtigsten Gebiete der Statistik und des maschinellen Lernens. Dabei stehen viele Regressionsmethoden zur Verfügung, unter anderem die lineare Regression. Sie stellt einen linearen Zusammenhang zwischen zwei oder mehreren variablen her. \n",
    "\n",
    "Sie können zum Beispiel die Anzahl Bestellungen in einem Unternehemn betrachten und untersuchen wie die Anzahl Bestellungen von der Jahreszeit, den Konkurenzangeboten oder der Anzahl geschalteter Werbeanzeigen abhängt. Dabei gehen wir davon aus, dass Jahreszeit, Konkurenzangebote und Anzahl geschalteter Werbeangebote die unabhängigen Merkmale sind, während die Anzahl Bestellungen von ihnen abhängt.\n",
    "\n",
    "Zur Veranschauichung der linearen Regression in Python laden wir Daten zum Thema Bierkonsum in Sao Paolo. Der Datensatz enthält Informationen über das Datum, die Temperatur, die Niederschlagsmenge, den Wochentag und wie viel Bier konsumiert wurde. Lässt sich hier ein linearer Zusammenhang finden?\n",
    "\n",
    "### Einfache lineare Regression"
   ]
  },
  {
   "cell_type": "code",
   "execution_count": 1,
   "metadata": {},
   "outputs": [],
   "source": [
    "#Notwendige Pakete laden\n",
    "import pandas as pd\n",
    "import matplotlib.pyplot as plt\n",
    "import numpy as np"
   ]
  },
  {
   "cell_type": "code",
   "execution_count": 2,
   "metadata": {},
   "outputs": [
    {
     "name": "stdout",
     "output_type": "stream",
     "text": [
      "         Date  Median_Temp  Min_Temp  Max_Temp  Rain_mm  Weekend  \\\n",
      "0  2015-01-01        27.30      23.9      32.5      0.0      0.0   \n",
      "1  2015-01-02        27.02      24.5      33.5      0.0      0.0   \n",
      "2  2015-01-03        24.82      22.4      29.9      0.0      1.0   \n",
      "3  2015-01-04        23.98      21.5      28.6      1.2      1.0   \n",
      "4  2015-01-05        23.82      21.0      28.3      0.0      0.0   \n",
      "\n",
      "   Beer_consumption  \n",
      "0            25.461  \n",
      "1            28.972  \n",
      "2            30.814  \n",
      "3            29.799  \n",
      "4            28.900  \n"
     ]
    },
    {
     "data": {
      "text/plain": [
       "Date                 object\n",
       "Median_Temp         float64\n",
       "Min_Temp            float64\n",
       "Max_Temp            float64\n",
       "Rain_mm             float64\n",
       "Weekend             float64\n",
       "Beer_consumption    float64\n",
       "dtype: object"
      ]
     },
     "execution_count": 2,
     "metadata": {},
     "output_type": "execute_result"
    }
   ],
   "source": [
    "beer = pd.read_csv(r\"C:\\Users\\dormuth\\Desktop\\MSIND\\02_Lehre\\2021WiSe_Statistics_meets_Logistics\\02_Übung\\1117_Regression\\beers.csv\", index_col=0)\n",
    "# Fügen Sie hier den Dateipfad ein, unter dem sie den Datensatz gespeichert haben\n",
    "# Das r vor dem Pfad ermöglicht es die Backslashes beizubehalten und nicht jeden einzelnen umwandeln zu müssen\n",
    "\n",
    "print(beer.head()) # Nur die ersten 5 Zeilen ausgeben\n",
    "\n",
    "beer.dtypes"
   ]
  },
  {
   "cell_type": "markdown",
   "metadata": {},
   "source": [
    "Viele Ansätze aus der Statistik und dem Maschinellen Lernen funktionieren indem sie aus Eingabedaten ein mathematisches Modell aufbauen. Damit man überprüfen kann, ob die Methode nicht nur auf den Daten funktioniert sondern allgemeingültig ist, teilt man den Datensatz in mehrere Datensätze auf. Insbesondere drei Datensätze werden üblicherweise in verschiedenen Phasen der Modellerstellung verwendet:\n",
    "\n",
    "- **Trainingsdatensatz:** Anpassung der Parameter des Modells. Die Modellanpassung kann sowohl die Variablenauswahl als auch die Parameterschätzung umfassen.\n",
    "\n",
    "- **Validierungsdatensatz:** (notwendig abhängig von der Methode): Bewertung eines Modellfit auf dem Trainingsdatensatz, während die Hyperparameter (Parameter, die vor dem eigentlichen Training festgelegt werden müssen) des Modells abgestimmt werden. \n",
    "\n",
    "- **Testdatensatz:** unvoreingenommene Bewertung einer endgültigen Modellanpassung  "
   ]
  },
  {
   "cell_type": "code",
   "execution_count": 3,
   "metadata": {},
   "outputs": [
    {
     "data": {
      "text/plain": [
       "(365, 7)"
      ]
     },
     "execution_count": 3,
     "metadata": {},
     "output_type": "execute_result"
    }
   ],
   "source": [
    "# Geben Sie die Anzahl Zeilen und Spalten aus\n",
    "beer.shape"
   ]
  },
  {
   "cell_type": "code",
   "execution_count": 4,
   "metadata": {},
   "outputs": [],
   "source": [
    "# Verwenden sie values.reshape um nur die Werte ohne Index zu bekommen\n",
    "x = beer[\"Median_Temp\"].values.reshape(-1,1)\n",
    "y = beer[\"Beer_consumption\"].values.reshape(-1,1)"
   ]
  },
  {
   "cell_type": "code",
   "execution_count": 5,
   "metadata": {},
   "outputs": [],
   "source": [
    "# Importieren Sie aus sklearn die Funktion train_test_split für Trainings- und Testdaten\n",
    "from sklearn.model_selection import train_test_split\n",
    "\n",
    "# Teile die Daten so auf, dass zufaellig 20% der Daten fuer die Testdaten zrueck gelegt werden\n",
    "x_train,x_test,y_train,y_test=train_test_split(x,y,test_size=0.2, random_state=12) "
   ]
  },
  {
   "cell_type": "code",
   "execution_count": 6,
   "metadata": {},
   "outputs": [],
   "source": [
    "# Für lineare Regression benötigen wir die Funktion LinearRegression\n",
    "from sklearn.linear_model import LinearRegression"
   ]
  },
  {
   "cell_type": "code",
   "execution_count": 7,
   "metadata": {},
   "outputs": [],
   "source": [
    "# Erstellen Sie ein Objekt der Klasse LinearRegression\n",
    "model = LinearRegression()"
   ]
  },
  {
   "cell_type": "code",
   "execution_count": 8,
   "metadata": {},
   "outputs": [],
   "source": [
    "# Passen Sie das Modell auf den Trainingsdaten an\n",
    "model.fit(x_train, y_train)\n",
    "# Sagen Sie die Daten auf Basis der Testdaten mit diesem Modell vorher\n",
    "Y_pred = model.predict(x_test)"
   ]
  },
  {
   "cell_type": "code",
   "execution_count": 9,
   "metadata": {},
   "outputs": [
    {
     "data": {
      "image/png": "[encoded data removed]",
      "text/plain": [
       "<Figure size 432x288 with 1 Axes>"
      ]
     },
     "metadata": {
      "needs_background": "light"
     },
     "output_type": "display_data"
    }
   ],
   "source": [
    "# Visualisieren Sie die wahren Daten und die Gerade der vorhergesagten Daten\n",
    "plt.scatter(x_test, y_test)\n",
    "plt.plot(x_test, Y_pred, color='red')\n",
    "plt.xlabel('Median Temp')\n",
    "plt.ylabel('Beer consumption')\n",
    "plt.show()"
   ]
  },
  {
   "cell_type": "code",
   "execution_count": 10,
   "metadata": {},
   "outputs": [
    {
     "name": "stdout",
     "output_type": "stream",
     "text": [
      "R2: 0.3436980337845942\n"
     ]
    }
   ],
   "source": [
    "# Bestimmtheitsmaß (nicht adjustiert)\n",
    "r_sq = model.score(x_test, y_test)\n",
    "print(\"R2:\", r_sq)"
   ]
  },
  {
   "cell_type": "code",
   "execution_count": 11,
   "metadata": {},
   "outputs": [
    {
     "data": {
      "image/png": "[encoded data removed]",
      "text/plain": [
       "<Figure size 432x288 with 1 Axes>"
      ]
     },
     "metadata": {
      "needs_background": "light"
     },
     "output_type": "display_data"
    }
   ],
   "source": [
    "# Residualplot\n",
    "plt.scatter(x_test, y_test-Y_pred)\n",
    "plt.xlabel('Median Temp')\n",
    "plt.ylabel('Residuals')\n",
    "plt.show()"
   ]
  },
  {
   "cell_type": "code",
   "execution_count": 12,
   "metadata": {},
   "outputs": [
    {
     "name": "stdout",
     "output_type": "stream",
     "text": [
      "[[0.81154125]]\n",
      "[8.08455151]\n"
     ]
    }
   ],
   "source": [
    "print(model.coef_)\n",
    "print(model.intercept_)"
   ]
  },
  {
   "cell_type": "markdown",
   "metadata": {},
   "source": [
    "Das geht besser. Vielleicht reicht eine Variable hier nicht um den Bierkonsum zu erklären. Außerdem zeigt der Residualplot hier einen leicht legativen Trend mit größer werdenden x-Werten, vielleicht könnte eine Transformation der Daten sinnvoll sein.\n",
    "\n",
    "Allgemein gibt es verschiedene Methoden zur Validierung, denn hier hängt die Kennzahl R2 von der Aufteilung der Daten ab, deshalb gibt es Methoden wie Kreuzvalidierung, die mehrmals verschiedene Aufteilungen in Test- und Trainingsdaten erzeugen."
   ]
  },
  {
   "cell_type": "markdown",
   "metadata": {},
   "source": [
    "---------\n",
    "## Aufgabe\n",
    "Wie interpretieren Sie die Werte des Koeffizienten und des Intercepts? Welchen Parametern entsprechen sie in der Formel der linearen Regression? Bestimmen Sie die Vorhersage für den Bierkonsum an einem Tag mit einer Medianen Temperatur von 24°C. \n",
    "\n",
    "Berechnen Sie den MSE für unser Modell auf Basis der Testdaten."
   ]
  },
  {
   "cell_type": "code",
   "execution_count": 13,
   "metadata": {},
   "outputs": [],
   "source": [
    "# Hier kann Ihre Lösung stehen"
   ]
  },
  {
   "cell_type": "markdown",
   "metadata": {},
   "source": [
    "----------\n",
    "### Multiple lineare Regression\n",
    "Die multiple lineare Regression ermöglicht es eine abhängige Variable durch mehrere unabhängige Variablen zu erklären. Dabei wird angenommen, dass der Zusammenhang linear ist. Um eine schnelle Linearitätsprüfung durchzuführen, können Streudiagramme verwendet werden(siehe Matliplotlib-Bibliothek)"
   ]
  },
  {
   "cell_type": "code",
   "execution_count": 14,
   "metadata": {
    "scrolled": true
   },
   "outputs": [
    {
     "data": {
      "image/png": "[encoded data removed]",
      "text/plain": [
       "<Figure size 432x288 with 1 Axes>"
      ]
     },
     "metadata": {
      "needs_background": "light"
     },
     "output_type": "display_data"
    }
   ],
   "source": [
    "# Paarweise Scatterplots, zur Evaluation des linearen Zusammenhangs\n",
    "plt.scatter(beer['Rain_mm'], beer['Beer_consumption'])\n",
    "plt.xlabel('Rain [mm]')\n",
    "plt.ylabel('Beer consumption')\n",
    "plt.show()"
   ]
  },
  {
   "cell_type": "code",
   "execution_count": 15,
   "metadata": {},
   "outputs": [
    {
     "data": {
      "image/png": "[encoded data removed]",
      "text/plain": [
       "<Figure size 432x288 with 1 Axes>"
      ]
     },
     "metadata": {
      "needs_background": "light"
     },
     "output_type": "display_data"
    }
   ],
   "source": [
    "plt.scatter(beer['Min_Temp'],beer['Beer_consumption'])\n",
    "plt.xlabel('Minimum Temperature')\n",
    "plt.ylabel('Beer consumption')\n",
    "plt.show()"
   ]
  },
  {
   "cell_type": "code",
   "execution_count": 16,
   "metadata": {},
   "outputs": [
    {
     "data": {
      "image/png": "[encoded data removed]",
      "text/plain": [
       "<Figure size 432x288 with 1 Axes>"
      ]
     },
     "metadata": {
      "needs_background": "light"
     },
     "output_type": "display_data"
    }
   ],
   "source": [
    "plt.scatter(beer['Max_Temp'], beer['Beer_consumption'])\n",
    "plt.xlabel('Maximum Temperature')\n",
    "plt.ylabel('Beer consumption')\n",
    "plt.show()"
   ]
  },
  {
   "cell_type": "code",
   "execution_count": 17,
   "metadata": {},
   "outputs": [
    {
     "data": {
      "image/png": "[encoded data removed]",
      "text/plain": [
       "<Figure size 432x288 with 1 Axes>"
      ]
     },
     "metadata": {
      "needs_background": "light"
     },
     "output_type": "display_data"
    }
   ],
   "source": [
    "# Da wir hier eine binäre Variable haben sind Scatterplots nicht unbedingt sinnvoll\n",
    "# Trotzdem ist es interessant, ob die Variable einen Einfluss hat oder nicht\n",
    "import seaborn as sns\n",
    "\n",
    "sns.boxplot(x='Weekend',y='Beer_consumption',data=beer)\n",
    "plt.xlabel('Is it the weekend?')\n",
    "plt.ylabel('Beer consumption')\n",
    "plt.show()"
   ]
  },
  {
   "cell_type": "markdown",
   "metadata": {},
   "source": [
    "Insgesamt scheint die Variable *Rain_mm* keinen linearen Zusammenhang mit unserer Zielvariable zu haben, weshalb wir sie im folgenden nicht weiter berücksichtigen werden. Die Variablen *Max_temp* und *Min_Temp* weisen einen linearen Zusammenhang auf. Auch die binäre Variable *Weekend* scheint relevant zu sein, da anhand des Boxplots zu erkennen ist, dass der Bierkonsum scheinbar an Wochenenden höher ist als in der Woche."
   ]
  },
  {
   "cell_type": "code",
   "execution_count": 18,
   "metadata": {},
   "outputs": [],
   "source": [
    "X = beer[['Max_Temp', \"Weekend\"]] # Hier beinhaltet X zwei Variablen\n",
    "Y = beer['Beer_consumption']"
   ]
  },
  {
   "cell_type": "code",
   "execution_count": 19,
   "metadata": {},
   "outputs": [],
   "source": [
    "# Teile die Daten so auf, dass zufaellig 20% der Daten fuer die Testdaten zrueck gelegt werden\n",
    "X_train,X_test,Y_train,Y_test=train_test_split(X,Y,test_size=0.2, random_state=23) "
   ]
  },
  {
   "cell_type": "code",
   "execution_count": 20,
   "metadata": {},
   "outputs": [],
   "source": [
    "# with sklearn\n",
    "regr = LinearRegression()\n",
    "regr.fit(X_train, Y_train)\n",
    "\n",
    "Y_pred = regr.predict(X_test)"
   ]
  },
  {
   "cell_type": "code",
   "execution_count": 21,
   "metadata": {},
   "outputs": [
    {
     "name": "stdout",
     "output_type": "stream",
     "text": [
      "R2: 0.677435533232714\n"
     ]
    }
   ],
   "source": [
    "r_sq = regr.score(X_test, Y_test)\n",
    "print(\"R2:\", r_sq)"
   ]
  },
  {
   "cell_type": "code",
   "execution_count": 22,
   "metadata": {},
   "outputs": [
    {
     "name": "stdout",
     "output_type": "stream",
     "text": [
      "[0.67652501 5.29993436]\n",
      "5.881482348600574\n"
     ]
    }
   ],
   "source": [
    "# Regressionskoeffizienten\n",
    "print(regr.coef_)\n",
    "print(regr.intercept_)\n"
   ]
  },
  {
   "cell_type": "markdown",
   "metadata": {},
   "source": [
    "Eine alternative Funktion für die lineare Regression in python ist *sm.OLS* aus der Bibliothek *statsmodels*. Sie bietet die Möglichkeit zusätzliche Informationen bezüglich des Modells zu erhalten, wie p-Werte oder Gütemaße."
   ]
  },
  {
   "cell_type": "code",
   "execution_count": 23,
   "metadata": {},
   "outputs": [],
   "source": [
    "import statsmodels.api as sm"
   ]
  },
  {
   "cell_type": "code",
   "execution_count": 24,
   "metadata": {},
   "outputs": [
    {
     "name": "stdout",
     "output_type": "stream",
     "text": [
      "                            OLS Regression Results                            \n",
      "==============================================================================\n",
      "Dep. Variable:       Beer_consumption   R-squared:                       0.701\n",
      "Model:                            OLS   Adj. R-squared:                  0.699\n",
      "Method:                 Least Squares   F-statistic:                     338.5\n",
      "Date:                Mon, 16 Nov 2020   Prob (F-statistic):           1.85e-76\n",
      "Time:                        09:33:41   Log-Likelihood:                -670.44\n",
      "No. Observations:                 292   AIC:                             1347.\n",
      "Df Residuals:                     289   BIC:                             1358.\n",
      "Df Model:                           2                                         \n",
      "Covariance Type:            nonrobust                                         \n",
      "==============================================================================\n",
      "                 coef    std err          t      P>|t|      [0.025      0.975]\n",
      "------------------------------------------------------------------------------\n",
      "const          5.8815      0.899      6.541      0.000       4.112       7.651\n",
      "Max_Temp       0.6765      0.033     20.485      0.000       0.612       0.742\n",
      "Weekend        5.2999      0.317     16.707      0.000       4.676       5.924\n",
      "==============================================================================\n",
      "Omnibus:                        0.733   Durbin-Watson:                   2.047\n",
      "Prob(Omnibus):                  0.693   Jarque-Bera (JB):                0.645\n",
      "Skew:                          -0.115   Prob(JB):                        0.725\n",
      "Kurtosis:                       3.013   Cond. No.                         172.\n",
      "==============================================================================\n",
      "\n",
      "Warnings:\n",
      "[1] Standard Errors assume that the covariance matrix of the errors is correctly specified.\n"
     ]
    }
   ],
   "source": [
    "# Intercept hinzufügen ist für dieses Modell notwendig\n",
    "X_train_int = sm.add_constant(X_train) \n",
    "\n",
    "# Bestimmen Sie das Modell\n",
    "est = sm.OLS(Y_train, X_train_int)\n",
    "\n",
    "# Passen Sie das Modell an\n",
    "est2 = est.fit()\n",
    "print(est2.summary())"
   ]
  },
  {
   "cell_type": "markdown",
   "metadata": {},
   "source": [
    "---------------------\n",
    "## Aufgabe\n",
    "Warum haben wir hier nur *Max_Temp* aber nicht *Min_Temp* berücksichtigt?\n",
    "Versucht nun das Modell selbst anzupassen und eine Vorhersage der Bierkonsumation für einen Samstag mit einer Höchsttemperatur von 32 Grad, einen Mittwoch mit einer Höchsttemperatur von 33 Grad und einen Sonntag mit einer Höchsttemperatur von 24 Grad zu machen."
   ]
  },
  {
   "cell_type": "code",
   "execution_count": 25,
   "metadata": {},
   "outputs": [],
   "source": [
    "# Hier kann Ihre Lösung stehen"
   ]
  },
  {
   "cell_type": "markdown",
   "metadata": {},
   "source": [
    "-----------------\n",
    "## Logistische Regression\n",
    "Die logistische Regression ist eine statistische Methode zur Vorhersage von binären Klassen. Die Zielvariable in einem binären logistischen Modell ist eine Variable mit zwei möglichen Werten, wie z.B. bestanden/nicht bestanden. Dies wird durch Indikatorvariablen dargestellt, wobei die beiden Werte mit \"0\" und \"1\" bezeichnet werden. Der Output des Modells ist die Wahrscheinlichkeit, dass mit den gegebenen Inputvariablen das Objekt der Kategorie 1 zugehört."
   ]
  },
  {
   "cell_type": "code",
   "execution_count": 26,
   "metadata": {},
   "outputs": [],
   "source": [
    "titanic_train = pd.read_csv(r\"C:\\Users\\dormuth\\Desktop\\MSIND\\02_Lehre\\2021WiSe_Statistics_meets_Logistics\\02_Übung\\1117_Regression\\Titanic_train.csv\", index_col=0)\n",
    "titanic_test = pd.read_csv(r\"C:\\Users\\dormuth\\Desktop\\MSIND\\02_Lehre\\2021WiSe_Statistics_meets_Logistics\\02_Übung\\1117_Regression\\Titanic_test.csv\", index_col=0)"
   ]
  },
  {
   "cell_type": "code",
   "execution_count": 27,
   "metadata": {},
   "outputs": [
    {
     "data": {
      "text/html": [
       "<div>\n",
       "<style scoped>\n",
       "    .dataframe tbody tr th:only-of-type {\n",
       "        vertical-align: middle;\n",
       "    }\n",
       "\n",
       "    .dataframe tbody tr th {\n",
       "        vertical-align: top;\n",
       "    }\n",
       "\n",
       "    .dataframe thead th {\n",
       "        text-align: right;\n",
       "    }\n",
       "</style>\n",
       "<table border=\"1\" class=\"dataframe\">\n",
       "  <thead>\n",
       "    <tr style=\"text-align: right;\">\n",
       "      <th></th>\n",
       "      <th>Survived</th>\n",
       "      <th>Pclass</th>\n",
       "      <th>Name</th>\n",
       "      <th>Sex</th>\n",
       "      <th>Age</th>\n",
       "      <th>SibSp</th>\n",
       "      <th>Parch</th>\n",
       "      <th>Ticket</th>\n",
       "      <th>Fare</th>\n",
       "      <th>Cabin</th>\n",
       "      <th>Embarked</th>\n",
       "    </tr>\n",
       "    <tr>\n",
       "      <th>PassengerId</th>\n",
       "      <th></th>\n",
       "      <th></th>\n",
       "      <th></th>\n",
       "      <th></th>\n",
       "      <th></th>\n",
       "      <th></th>\n",
       "      <th></th>\n",
       "      <th></th>\n",
       "      <th></th>\n",
       "      <th></th>\n",
       "      <th></th>\n",
       "    </tr>\n",
       "  </thead>\n",
       "  <tbody>\n",
       "    <tr>\n",
       "      <th>1</th>\n",
       "      <td>0</td>\n",
       "      <td>3</td>\n",
       "      <td>Braund, Mr. Owen Harris</td>\n",
       "      <td>male</td>\n",
       "      <td>22.0</td>\n",
       "      <td>1</td>\n",
       "      <td>0</td>\n",
       "      <td>A/5 21171</td>\n",
       "      <td>7.2500</td>\n",
       "      <td>NaN</td>\n",
       "      <td>S</td>\n",
       "    </tr>\n",
       "    <tr>\n",
       "      <th>2</th>\n",
       "      <td>1</td>\n",
       "      <td>1</td>\n",
       "      <td>Cumings, Mrs. John Bradley (Florence Briggs Th...</td>\n",
       "      <td>female</td>\n",
       "      <td>38.0</td>\n",
       "      <td>1</td>\n",
       "      <td>0</td>\n",
       "      <td>PC 17599</td>\n",
       "      <td>71.2833</td>\n",
       "      <td>C85</td>\n",
       "      <td>C</td>\n",
       "    </tr>\n",
       "    <tr>\n",
       "      <th>3</th>\n",
       "      <td>1</td>\n",
       "      <td>3</td>\n",
       "      <td>Heikkinen, Miss. Laina</td>\n",
       "      <td>female</td>\n",
       "      <td>26.0</td>\n",
       "      <td>0</td>\n",
       "      <td>0</td>\n",
       "      <td>STON/O2. 3101282</td>\n",
       "      <td>7.9250</td>\n",
       "      <td>NaN</td>\n",
       "      <td>S</td>\n",
       "    </tr>\n",
       "    <tr>\n",
       "      <th>4</th>\n",
       "      <td>1</td>\n",
       "      <td>1</td>\n",
       "      <td>Futrelle, Mrs. Jacques Heath (Lily May Peel)</td>\n",
       "      <td>female</td>\n",
       "      <td>35.0</td>\n",
       "      <td>1</td>\n",
       "      <td>0</td>\n",
       "      <td>113803</td>\n",
       "      <td>53.1000</td>\n",
       "      <td>C123</td>\n",
       "      <td>S</td>\n",
       "    </tr>\n",
       "    <tr>\n",
       "      <th>5</th>\n",
       "      <td>0</td>\n",
       "      <td>3</td>\n",
       "      <td>Allen, Mr. William Henry</td>\n",
       "      <td>male</td>\n",
       "      <td>35.0</td>\n",
       "      <td>0</td>\n",
       "      <td>0</td>\n",
       "      <td>373450</td>\n",
       "      <td>8.0500</td>\n",
       "      <td>NaN</td>\n",
       "      <td>S</td>\n",
       "    </tr>\n",
       "  </tbody>\n",
       "</table>\n",
       "</div>"
      ],
      "text/plain": [
       "             Survived  Pclass  \\\n",
       "PassengerId                     \n",
       "1                   0       3   \n",
       "2                   1       1   \n",
       "3                   1       3   \n",
       "4                   1       1   \n",
       "5                   0       3   \n",
       "\n",
       "                                                          Name     Sex   Age  \\\n",
       "PassengerId                                                                    \n",
       "1                                      Braund, Mr. Owen Harris    male  22.0   \n",
       "2            Cumings, Mrs. John Bradley (Florence Briggs Th...  female  38.0   \n",
       "3                                       Heikkinen, Miss. Laina  female  26.0   \n",
       "4                 Futrelle, Mrs. Jacques Heath (Lily May Peel)  female  35.0   \n",
       "5                                     Allen, Mr. William Henry    male  35.0   \n",
       "\n",
       "             SibSp  Parch            Ticket     Fare Cabin Embarked  \n",
       "PassengerId                                                          \n",
       "1                1      0         A/5 21171   7.2500   NaN        S  \n",
       "2                1      0          PC 17599  71.2833   C85        C  \n",
       "3                0      0  STON/O2. 3101282   7.9250   NaN        S  \n",
       "4                1      0            113803  53.1000  C123        S  \n",
       "5                0      0            373450   8.0500   NaN        S  "
      ]
     },
     "execution_count": 27,
     "metadata": {},
     "output_type": "execute_result"
    }
   ],
   "source": [
    "# Nur die ersten Zeilen anzeigen\n",
    "titanic_train.head()"
   ]
  },
  {
   "cell_type": "code",
   "execution_count": 28,
   "metadata": {},
   "outputs": [
    {
     "data": {
      "text/plain": [
       "(891, 11)"
      ]
     },
     "execution_count": 28,
     "metadata": {},
     "output_type": "execute_result"
    }
   ],
   "source": [
    "# Wieviele Zeilen und Spalten\n",
    "titanic_train.shape"
   ]
  },
  {
   "cell_type": "code",
   "execution_count": 29,
   "metadata": {},
   "outputs": [
    {
     "data": {
      "text/plain": [
       "Survived      0\n",
       "Pclass        0\n",
       "Name          0\n",
       "Sex           0\n",
       "Age         177\n",
       "SibSp         0\n",
       "Parch         0\n",
       "Ticket        0\n",
       "Fare          0\n",
       "Cabin       687\n",
       "Embarked      2\n",
       "dtype: int64"
      ]
     },
     "execution_count": 29,
     "metadata": {},
     "output_type": "execute_result"
    }
   ],
   "source": [
    "# Fehlende Werte in Trainingsdaten\n",
    "titanic_train.isnull().sum()"
   ]
  },
  {
   "cell_type": "markdown",
   "metadata": {},
   "source": [
    "Es gibt fehlende Werte für insgesamt 3 Variablen. Der Anteil fehlender Werte für die Variable *Cabin* ist sehr hoch, deshalb berücksichtigen wir diese Variable im Folgenden nicht weiter. Für die Variablen *Age* und *Embarked* wären verschiedene Imputationsansätze möglich, dies geht hier jedoch zu weit, deshalb werden wir einfach Perosnen mit fehlenden Werten nicht weiter in der Analyse berücksichten."
   ]
  },
  {
   "cell_type": "code",
   "execution_count": 30,
   "metadata": {},
   "outputs": [
    {
     "data": {
      "text/plain": [
       "(712, 10)"
      ]
     },
     "execution_count": 30,
     "metadata": {},
     "output_type": "execute_result"
    }
   ],
   "source": [
    "# Entferne alle fehlenden Werte\n",
    "titanic_train.drop(\"Cabin\", axis = 1, inplace = True) # inplace = True die Operation wird im df gespeichert\n",
    "titanic_train = titanic_train.dropna(axis = 0)\n",
    "titanic_train.shape"
   ]
  },
  {
   "cell_type": "code",
   "execution_count": 31,
   "metadata": {},
   "outputs": [
    {
     "data": {
      "text/plain": [
       "Survived      int64\n",
       "Pclass        int64\n",
       "Name         object\n",
       "Sex          object\n",
       "Age         float64\n",
       "SibSp         int64\n",
       "Parch         int64\n",
       "Ticket       object\n",
       "Fare        float64\n",
       "Embarked     object\n",
       "dtype: object"
      ]
     },
     "execution_count": 31,
     "metadata": {},
     "output_type": "execute_result"
    }
   ],
   "source": [
    "titanic_train.dtypes"
   ]
  },
  {
   "cell_type": "code",
   "execution_count": 32,
   "metadata": {},
   "outputs": [
    {
     "name": "stdout",
     "output_type": "stream",
     "text": [
      "             Survived                                               Name  \\\n",
      "PassengerId                                                                \n",
      "1                   0                            Braund, Mr. Owen Harris   \n",
      "2                   1  Cumings, Mrs. John Bradley (Florence Briggs Th...   \n",
      "3                   1                             Heikkinen, Miss. Laina   \n",
      "4                   1       Futrelle, Mrs. Jacques Heath (Lily May Peel)   \n",
      "5                   0                           Allen, Mr. William Henry   \n",
      "\n",
      "              Age  SibSp  Parch            Ticket     Fare  Pclass_1  \\\n",
      "PassengerId                                                            \n",
      "1            22.0      1      0         A/5 21171   7.2500         0   \n",
      "2            38.0      1      0          PC 17599  71.2833         1   \n",
      "3            26.0      0      0  STON/O2. 3101282   7.9250         0   \n",
      "4            35.0      1      0            113803  53.1000         1   \n",
      "5            35.0      0      0            373450   8.0500         0   \n",
      "\n",
      "             Pclass_2  Pclass_3  Embarked_C  Embarked_Q  Embarked_S  \\\n",
      "PassengerId                                                           \n",
      "1                   0         1           0           0           1   \n",
      "2                   0         0           1           0           0   \n",
      "3                   0         1           0           0           1   \n",
      "4                   0         0           0           0           1   \n",
      "5                   0         1           0           0           1   \n",
      "\n",
      "             Sex_female  Sex_male  \n",
      "PassengerId                        \n",
      "1                     0         1  \n",
      "2                     1         0  \n",
      "3                     1         0  \n",
      "4                     1         0  \n",
      "5                     0         1  \n"
     ]
    }
   ],
   "source": [
    "# Erzeuge kategorielle Variablen \n",
    "#create categorical variables and drop some variables\n",
    "training=pd.get_dummies(titanic_train, columns=[\"Pclass\",\"Embarked\",\"Sex\"])\n",
    "print(training.head())"
   ]
  },
  {
   "cell_type": "code",
   "execution_count": 33,
   "metadata": {},
   "outputs": [],
   "source": [
    "training.drop('Sex_female', axis=1, inplace=True) # bei binären Variablen reicht eine Spalte\n",
    "training.drop('Name', axis=1, inplace=True) # ungeeignet für das Modell\n",
    "training.drop('Ticket', axis=1, inplace=True) # ungeeignet für das Modell"
   ]
  },
  {
   "cell_type": "code",
   "execution_count": 34,
   "metadata": {},
   "outputs": [
    {
     "data": {
      "text/plain": [
       "(331, 9)"
      ]
     },
     "execution_count": 34,
     "metadata": {},
     "output_type": "execute_result"
    }
   ],
   "source": [
    "# Gleiche Anpassungen für die Testdaten\n",
    "titanic_test.drop('Cabin', axis=1, inplace=True)\n",
    "titanic_test = titanic_test.dropna(axis = 0)\n",
    "titanic_test.shape"
   ]
  },
  {
   "cell_type": "code",
   "execution_count": 35,
   "metadata": {},
   "outputs": [],
   "source": [
    "# Erzeuge kategorielle Variablen und entferne ungeeignete Variablem\n",
    "testing=pd.get_dummies(titanic_train, columns=[\"Pclass\",\"Embarked\",\"Sex\"])\n",
    "testing.drop('Sex_female', axis=1, inplace=True)\n",
    "testing.drop('Name', axis=1, inplace=True)\n",
    "testing.drop('Ticket', axis=1, inplace=True)"
   ]
  },
  {
   "cell_type": "code",
   "execution_count": 59,
   "metadata": {},
   "outputs": [
    {
     "data": {
      "text/plain": [
       "array([0, 1, 1, 1, 0], dtype=int64)"
      ]
     },
     "execution_count": 59,
     "metadata": {},
     "output_type": "execute_result"
    }
   ],
   "source": [
    "# Importiere nötige Funktion \n",
    "from sklearn.linear_model import LogisticRegression\n",
    "\n",
    "# Variablen, die wir im Modell berücksichtigen\n",
    "cols = [\"Age\",\"Fare\",\"Pclass_1\",\"Pclass_2\",\"Embarked_C\",\"Embarked_S\",\"Sex_male\"] \n",
    "\n",
    "# Definiere test und trainings X und Y\n",
    "X_train = training[cols]\n",
    "y_train = training['Survived']\n",
    "\n",
    "X_test = testing[cols]\n",
    "y_test = testing['Survived']\n",
    "\n",
    "# Modellanpassung für 4000 Iterationen\n",
    "logreg = LogisticRegression(max_iter=4000)\n",
    "logreg.fit(X_train, y_train)\n",
    "y_pred = logreg.predict(X_test)\n",
    "y_pred[0:5]"
   ]
  },
  {
   "cell_type": "code",
   "execution_count": 37,
   "metadata": {},
   "outputs": [
    {
     "name": "stdout",
     "output_type": "stream",
     "text": [
      "So, Our accuracy Score is: 0.7935\n"
     ]
    }
   ],
   "source": [
    "from sklearn.metrics import accuracy_score\n",
    "\n",
    "# Berechne den Accuracy Score: wie oft stimmen die vorhergesagten Labels mit den \n",
    "# entsprechenden labels in y_test überein\n",
    "print (\"So, Our accuracy Score is: {}\".format(round(accuracy_score(y_pred, y_test),4)))"
   ]
  },
  {
   "cell_type": "markdown",
   "metadata": {},
   "source": [
    "Für eine ausführlichere Logistische Regression dieser Daten besucht https://www.kaggle.com/mnassrib/titanic-logistic-regression-with-python."
   ]
  },
  {
   "cell_type": "markdown",
   "metadata": {},
   "source": [
    "----------\n",
    "## Aufgabe\n",
    "Wir haben zuvor gesehen, dass es eine Alternative Funktion für die Lineare Regression gibt. Genauso gibt es eine Alternative für die logistische Regression. In *statsmodels* ist die Funktion *Logit* enthalten (genauere Informationen finden sie Z.B. unter https://www.statsmodels.org/stable/generated/statsmodels.discrete.discrete_model.Logit.html). Laden sie die Funktion und führen sie die logistische Regression mit dieser Funktion durch. Vergleichen Sie die Ergebnisse."
   ]
  },
  {
   "cell_type": "code",
   "execution_count": 38,
   "metadata": {},
   "outputs": [],
   "source": [
    "# Hier kann Ihre Lösung stehen"
   ]
  },
  {
   "cell_type": "markdown",
   "metadata": {},
   "source": [
    "-------------\n",
    "## Lasso Regression\n",
    "Das Lasso (Operator für die geringste absolute Schrumpfung und Auswahl; auch Lasso oder LASSO) ist eine Regressionsanalysemethode, die sowohl die Variablenauswahl als auch eine Regularisierung durchführt, um die Vorhersagegenauigkeit und Interpretierbarkeit des von ihr erzeugten statistischen Modells zu verbessern. "
   ]
  },
  {
   "cell_type": "code",
   "execution_count": 39,
   "metadata": {},
   "outputs": [],
   "source": [
    "# Datensatz zur Standardisierte Fruchtbarkeitsmessung \n",
    "# mit Indikatoren für jede der 47 französischsprachigen Provinzen der Schweiz um 1888. \n",
    "swiss = pd.read_csv(r\"C:\\Users\\dormuth\\Desktop\\MSIND\\02_Lehre\\2021WiSe_Statistics_meets_Logistics\\02_Übung\\1117_Regression\\swiss.txt\", index_col=0)"
   ]
  },
  {
   "cell_type": "code",
   "execution_count": 40,
   "metadata": {},
   "outputs": [
    {
     "data": {
      "text/html": [
       "<div>\n",
       "<style scoped>\n",
       "    .dataframe tbody tr th:only-of-type {\n",
       "        vertical-align: middle;\n",
       "    }\n",
       "\n",
       "    .dataframe tbody tr th {\n",
       "        vertical-align: top;\n",
       "    }\n",
       "\n",
       "    .dataframe thead th {\n",
       "        text-align: right;\n",
       "    }\n",
       "</style>\n",
       "<table border=\"1\" class=\"dataframe\">\n",
       "  <thead>\n",
       "    <tr style=\"text-align: right;\">\n",
       "      <th></th>\n",
       "      <th>Fertility</th>\n",
       "      <th>Agriculture</th>\n",
       "      <th>Examination</th>\n",
       "      <th>Education</th>\n",
       "      <th>Catholic</th>\n",
       "      <th>Infant.Mortality</th>\n",
       "    </tr>\n",
       "    <tr>\n",
       "      <th>Location</th>\n",
       "      <th></th>\n",
       "      <th></th>\n",
       "      <th></th>\n",
       "      <th></th>\n",
       "      <th></th>\n",
       "      <th></th>\n",
       "    </tr>\n",
       "  </thead>\n",
       "  <tbody>\n",
       "    <tr>\n",
       "      <th>Courtelary</th>\n",
       "      <td>80.2</td>\n",
       "      <td>17.0</td>\n",
       "      <td>15</td>\n",
       "      <td>12</td>\n",
       "      <td>9.96</td>\n",
       "      <td>22.2</td>\n",
       "    </tr>\n",
       "    <tr>\n",
       "      <th>Delemont</th>\n",
       "      <td>83.1</td>\n",
       "      <td>45.1</td>\n",
       "      <td>6</td>\n",
       "      <td>9</td>\n",
       "      <td>84.84</td>\n",
       "      <td>22.2</td>\n",
       "    </tr>\n",
       "    <tr>\n",
       "      <th>Franches-Mnt</th>\n",
       "      <td>92.5</td>\n",
       "      <td>39.7</td>\n",
       "      <td>5</td>\n",
       "      <td>5</td>\n",
       "      <td>93.40</td>\n",
       "      <td>20.2</td>\n",
       "    </tr>\n",
       "    <tr>\n",
       "      <th>Moutier</th>\n",
       "      <td>85.8</td>\n",
       "      <td>36.5</td>\n",
       "      <td>12</td>\n",
       "      <td>7</td>\n",
       "      <td>33.77</td>\n",
       "      <td>20.3</td>\n",
       "    </tr>\n",
       "    <tr>\n",
       "      <th>Neuveville</th>\n",
       "      <td>76.9</td>\n",
       "      <td>43.5</td>\n",
       "      <td>17</td>\n",
       "      <td>15</td>\n",
       "      <td>5.16</td>\n",
       "      <td>20.6</td>\n",
       "    </tr>\n",
       "  </tbody>\n",
       "</table>\n",
       "</div>"
      ],
      "text/plain": [
       "              Fertility  Agriculture  Examination  Education  Catholic  \\\n",
       "Location                                                                 \n",
       "Courtelary         80.2         17.0           15         12      9.96   \n",
       "Delemont           83.1         45.1            6          9     84.84   \n",
       "Franches-Mnt       92.5         39.7            5          5     93.40   \n",
       "Moutier            85.8         36.5           12          7     33.77   \n",
       "Neuveville         76.9         43.5           17         15      5.16   \n",
       "\n",
       "              Infant.Mortality  \n",
       "Location                        \n",
       "Courtelary                22.2  \n",
       "Delemont                  22.2  \n",
       "Franches-Mnt              20.2  \n",
       "Moutier                   20.3  \n",
       "Neuveville                20.6  "
      ]
     },
     "execution_count": 40,
     "metadata": {},
     "output_type": "execute_result"
    }
   ],
   "source": [
    "swiss.head()"
   ]
  },
  {
   "cell_type": "code",
   "execution_count": 41,
   "metadata": {},
   "outputs": [
    {
     "data": {
      "image/png": "[encoded data removed]",
      "text/plain": [
       "<Figure size 432x288 with 1 Axes>"
      ]
     },
     "metadata": {
      "needs_background": "light"
     },
     "output_type": "display_data"
    }
   ],
   "source": [
    "# Visualisierung der Zusammenhänge der einzelnen Variablen mit Fertility\n",
    "plt.scatter(swiss.Fertility, swiss.Agriculture)\n",
    "plt.ylabel('Fertility')\n",
    "plt.xlabel('Agriculture')\n",
    "plt.show()"
   ]
  },
  {
   "cell_type": "markdown",
   "metadata": {},
   "source": [
    "plt.scatter(swiss.Fertility, swiss.Examination)\n",
    "plt.ylabel('Fertility')\n",
    "plt.xlabel('Examination')\n",
    "plt.show()"
   ]
  },
  {
   "cell_type": "code",
   "execution_count": 42,
   "metadata": {},
   "outputs": [
    {
     "data": {
      "image/png": "[encoded data removed]",
      "text/plain": [
       "<Figure size 432x288 with 1 Axes>"
      ]
     },
     "metadata": {
      "needs_background": "light"
     },
     "output_type": "display_data"
    }
   ],
   "source": [
    "plt.scatter(swiss.Fertility, swiss.Examination)\n",
    "plt.ylabel('Fertility')\n",
    "plt.xlabel('Examination')\n",
    "plt.show()"
   ]
  },
  {
   "cell_type": "code",
   "execution_count": 43,
   "metadata": {},
   "outputs": [
    {
     "data": {
      "image/png": "[encoded data removed]",
      "text/plain": [
       "<Figure size 432x288 with 1 Axes>"
      ]
     },
     "metadata": {
      "needs_background": "light"
     },
     "output_type": "display_data"
    }
   ],
   "source": [
    "plt.scatter(swiss.Fertility, swiss.Education)\n",
    "plt.ylabel('Fertility')\n",
    "plt.xlabel('Education')\n",
    "plt.show()"
   ]
  },
  {
   "cell_type": "code",
   "execution_count": 44,
   "metadata": {},
   "outputs": [
    {
     "data": {
      "image/png": "[encoded data removed]",
      "text/plain": [
       "<Figure size 432x288 with 1 Axes>"
      ]
     },
     "metadata": {
      "needs_background": "light"
     },
     "output_type": "display_data"
    }
   ],
   "source": [
    "plt.scatter(swiss.Fertility, swiss.Catholic)\n",
    "plt.ylabel('Fertility')\n",
    "plt.xlabel('Catholic')\n",
    "plt.show()"
   ]
  },
  {
   "cell_type": "code",
   "execution_count": 45,
   "metadata": {},
   "outputs": [
    {
     "data": {
      "image/png": "[encoded data removed]",
      "text/plain": [
       "<Figure size 432x288 with 1 Axes>"
      ]
     },
     "metadata": {
      "needs_background": "light"
     },
     "output_type": "display_data"
    }
   ],
   "source": [
    "plt.scatter(swiss.Fertility, swiss[\"Infant.Mortality\"])\n",
    "plt.ylabel('Fertility')\n",
    "plt.xlabel('Infant Mortality')\n",
    "plt.show()"
   ]
  },
  {
   "cell_type": "code",
   "execution_count": 46,
   "metadata": {},
   "outputs": [],
   "source": [
    "# Definiere Matrix mit erklärenden Variablen und vektor mit Zielvariable\n",
    "x = swiss.drop([\"Fertility\"], axis = 1)\n",
    "y = swiss[\"Fertility\"]\n",
    "\n",
    "# Teile die Daten so auf, dass zufaellig 20% der Daten fuer die Testdaten zrueck gelegt werden\n",
    "x_train,x_test,y_train,y_test=train_test_split(x,y,test_size=0.2, random_state=34) "
   ]
  },
  {
   "cell_type": "code",
   "execution_count": 47,
   "metadata": {},
   "outputs": [],
   "source": [
    "from sklearn.linear_model import Lasso\n",
    "from sklearn.metrics import mean_squared_error"
   ]
  },
  {
   "cell_type": "code",
   "execution_count": 48,
   "metadata": {},
   "outputs": [
    {
     "data": {
      "text/plain": [
       "array([-0.17223027, -0.22369493, -0.84058163,  0.07493914,  0.90341185])"
      ]
     },
     "execution_count": 48,
     "metadata": {},
     "output_type": "execute_result"
    }
   ],
   "source": [
    "# Lasso Regression mit festem Parameter alpha\n",
    "lasso = Lasso(alpha = 1)\n",
    "lasso.fit(x_train, y_train)\n",
    "\n",
    "lasso.coef_"
   ]
  },
  {
   "cell_type": "code",
   "execution_count": 49,
   "metadata": {},
   "outputs": [
    {
     "data": {
      "text/plain": [
       "80.7476359199924"
      ]
     },
     "execution_count": 49,
     "metadata": {},
     "output_type": "execute_result"
    }
   ],
   "source": [
    "# Quantifizierung \n",
    "mean_squared_error(y_test, lasso.predict(x_test))"
   ]
  },
  {
   "cell_type": "markdown",
   "metadata": {},
   "source": [
    "Um den optimalen Wert für den Parameter alpha zu bestimmen führen wir eine Lasso Regression mit verschiedenen Werten für alpha durch. Hier sind wir also im Falle des Hyperparametertunings und brauchen einen Validierungsdatensatz. Dafür teilen wir unseren Trainingsdatensatz nochmal auf."
   ]
  },
  {
   "cell_type": "code",
   "execution_count": 50,
   "metadata": {},
   "outputs": [],
   "source": [
    "# Teile die Daten so auf, dass zufaellig 20% der Daten fuer die Validierungsdaten zrueck gelegt werden\n",
    "x_train_small,x_val,y_train_small,y_val=train_test_split(x_train,y_train,test_size=0.2, random_state=46) "
   ]
  },
  {
   "cell_type": "code",
   "execution_count": 51,
   "metadata": {},
   "outputs": [],
   "source": [
    "# Tupel mit möglichen lamdas (wir wollen hier nichts ändern)\n",
    "lambdas = (0.001, 0.01, 0.1, 0.5, 1, 2, 10)\n",
    "l_num = 7\n",
    "pred_num = x.shape[1]\n",
    "\n",
    "# Daten für enumerate vorbereiten\n",
    "# enumerate erlaubt es uns, eine Schleife über etwas zu legen und einen automatischen Zähler zu haben\n",
    "coeff_a = np.zeros((l_num, pred_num)) #neues Array mit gegebener Form und gegebenem Typ zurück, das mit Nullen gefüllt ist\n",
    "train_r_squared = np.zeros(l_num)\n",
    "val_r_squared = np.zeros(l_num)"
   ]
  },
  {
   "cell_type": "code",
   "execution_count": 52,
   "metadata": {},
   "outputs": [
    {
     "name": "stdout",
     "output_type": "stream",
     "text": [
      "[-0.19805494 -0.38937227 -0.74180886  0.04309077  0.8425177 ]\n",
      "[-0.19803564 -0.38934367 -0.74177763  0.04309416  0.8414568 ]\n",
      "[-0.19755018 -0.38794329 -0.74154482  0.0432129   0.83160721]\n",
      "[-0.19539258 -0.38171938 -0.74051008  0.04374062  0.78783129]\n",
      "[-0.19269615 -0.37394168 -0.73921649  0.04440009  0.7331099 ]\n",
      "[-0.18730272 -0.3583841  -0.73662948  0.04571922  0.6236686 ]\n",
      "[-0.13202903 -0.1816094  -0.71310168  0.05940912  0.        ]\n"
     ]
    }
   ],
   "source": [
    "for ind, i in enumerate(lambdas):    \n",
    "    reg = Lasso(alpha = i) # Erstelle ein model mit dem i-ten Eintrag aus lambda\n",
    "    reg.fit(x_train_small, y_train_small) # Passe das Modell an\n",
    "\n",
    "    coeff_a[ind,:] = reg.coef_ # Weise dem array an der Zählstelle die zugehörigen Regressionskoeffizienten zu\n",
    "    print(reg.coef_)\n",
    "    train_r_squared[ind] = reg.score(x_train_small, y_train_small) # Speichere das Bestimmtheitsmaß für die Trainingsdaten\n",
    "    val_r_squared[ind] = reg.score(x_val, y_val) #und für die Validierungsdaten"
   ]
  },
  {
   "cell_type": "code",
   "execution_count": 53,
   "metadata": {},
   "outputs": [
    {
     "data": {
      "image/png": "[encoded data removed]",
      "text/plain": [
       "<Figure size 1296x576 with 1 Axes>"
      ]
     },
     "metadata": {
      "needs_background": "light"
     },
     "output_type": "display_data"
    }
   ],
   "source": [
    "# Plotting\n",
    "plt.figure(figsize=(18, 8))\n",
    "plt.plot(train_r_squared, 'bo-', label=r'$R^2$ Training set', color=\"darkblue\", alpha=0.6, linewidth=3)\n",
    "plt.plot(val_r_squared, 'bo-', label=r'$R^2$ Validation set', color=\"darkred\", alpha=0.6, linewidth=3)\n",
    "plt.xlabel('Lamda index'); plt.ylabel(r'$R^2$')\n",
    "plt.xlim(0, 6)\n",
    "plt.title(r'Evaluate lasso regression with lamdas: 0 = 0.001, 1= 0.01, 2 = 0.1, 3 = 0.5, 4= 1, 5= 2, 6 = 10')\n",
    "plt.legend(loc='best')\n",
    "plt.grid()"
   ]
  },
  {
   "cell_type": "code",
   "execution_count": 54,
   "metadata": {},
   "outputs": [
    {
     "data": {
      "text/plain": [
       "R_squared    0.576434\n",
       "lambda       0.001000\n",
       "Name: 0, dtype: float64"
      ]
     },
     "execution_count": 54,
     "metadata": {},
     "output_type": "execute_result"
    }
   ],
   "source": [
    "df_lam = pd.DataFrame(val_r_squared, columns=['R_squared'])\n",
    "df_lam['lambda'] = (lambdas)\n",
    "# returns the index of the row where column has maximum value.\n",
    "df_lam.loc[df_lam['R_squared'].idxmax()]"
   ]
  },
  {
   "cell_type": "code",
   "execution_count": 55,
   "metadata": {},
   "outputs": [
    {
     "name": "stdout",
     "output_type": "stream",
     "text": [
      "[-0.17909257 -0.24730071 -0.84336934  0.07291064  1.01956336]\n"
     ]
    },
    {
     "data": {
      "text/plain": [
       "79.20365889068293"
      ]
     },
     "execution_count": 55,
     "metadata": {},
     "output_type": "execute_result"
    }
   ],
   "source": [
    "# Lasso Regression mit festem Parameter alpha\n",
    "lasso = Lasso(alpha = 0.001)\n",
    "lasso.fit(x_train, y_train)\n",
    "\n",
    "print(lasso.coef_)\n",
    "# Quantifizierung \n",
    "mean_squared_error(y_test, lasso.predict(x_test))"
   ]
  },
  {
   "cell_type": "markdown",
   "metadata": {},
   "source": [
    "Insgesamt zeigt sich im Hinblick auf dieses Beispiel nur eine geringe Verbesserung was aufgrund der Abbildungen bereits zu erwarten war. In anderen Anwendungsfällen kann dies zu einer deutlichen Reduktion des Fehlers führen. Bei der Optimierung hinsichtlich der Hyperparameter ist es sinnvoll im Bezug auf ein anderes Qualitätsmaß zu optimieren, als das Maß was man zur Beurteilung des Modells verwendet, um Überanpassung zu vermeiden. Im Falle von kleinen Datensätzen bietet sich sonst auch noch eine Kreuvalidierung an."
   ]
  },
  {
   "cell_type": "markdown",
   "metadata": {},
   "source": [
    "---------\n",
    "## Aufgabe\n",
    "EIne bekannte Alternative zur Lasso Regression ist die Ridge Regression. Im Gegensatz zur Lasso Regression ist der Penalsierungsterm bei der Ridge Regression das Quadrat der Koeffizienten. Das führt dazu, dass Ridge Regression keine Variablenselektion durchführt sondern lediglich die Parameter regularisiert."
   ]
  },
  {
   "cell_type": "code",
   "execution_count": 56,
   "metadata": {},
   "outputs": [],
   "source": [
    "# Hier kann Ihre Lösung stehen"
   ]
  }
 ],
 "metadata": {
  "kernelspec": {
   "display_name": "Python 3",
   "language": "python",
   "name": "python3"
  },
  "language_info": {
   "codemirror_mode": {
    "name": "ipython",
    "version": 3
   },
   "file_extension": ".py",
   "mimetype": "text/x-python",
   "name": "python",
   "nbconvert_exporter": "python",
   "pygments_lexer": "ipython3",
   "version": "3.7.6"
  }
 },
 "nbformat": 4,
 "nbformat_minor": 4
}
