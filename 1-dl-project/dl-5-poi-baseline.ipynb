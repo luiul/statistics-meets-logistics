{
 "cells": [
  {
   "cell_type": "code",
   "execution_count": 1,
   "metadata": {},
   "outputs": [],
   "source": [
    "import numpy as np\n",
    "import pandas as pd\n",
    "import matplotlib.pyplot as plt\n",
    "import seaborn as sns"
   ]
  },
  {
   "cell_type": "code",
   "execution_count": 2,
   "metadata": {},
   "outputs": [],
   "source": [
    "df = pd.read_csv('./data/dl-pfe-ns.csv')"
   ]
  },
  {
   "cell_type": "code",
   "execution_count": 3,
   "metadata": {},
   "outputs": [],
   "source": [
    "# df.columns"
   ]
  },
  {
   "cell_type": "code",
   "execution_count": 4,
   "metadata": {},
   "outputs": [],
   "source": [
    "# df.head()"
   ]
  },
  {
   "cell_type": "code",
   "execution_count": 5,
   "metadata": {},
   "outputs": [
    {
     "data": {
      "text/plain": [
       "(1976, 81)"
      ]
     },
     "execution_count": 5,
     "metadata": {},
     "output_type": "execute_result"
    }
   ],
   "source": [
    "df.shape"
   ]
  },
  {
   "cell_type": "code",
   "execution_count": 6,
   "metadata": {},
   "outputs": [],
   "source": [
    "# df.info()"
   ]
  },
  {
   "cell_type": "code",
   "execution_count": 7,
   "metadata": {},
   "outputs": [],
   "source": [
    "X = df.drop('throughput',axis=1)"
   ]
  },
  {
   "cell_type": "code",
   "execution_count": 8,
   "metadata": {},
   "outputs": [
    {
     "data": {
      "text/plain": [
       "(1976, 80)"
      ]
     },
     "execution_count": 8,
     "metadata": {},
     "output_type": "execute_result"
    }
   ],
   "source": [
    "X.shape"
   ]
  },
  {
   "cell_type": "code",
   "execution_count": 9,
   "metadata": {},
   "outputs": [],
   "source": [
    "y = df['throughput']"
   ]
  },
  {
   "cell_type": "code",
   "execution_count": 10,
   "metadata": {},
   "outputs": [
    {
     "data": {
      "text/plain": [
       "(1976,)"
      ]
     },
     "execution_count": 10,
     "metadata": {},
     "output_type": "execute_result"
    }
   ],
   "source": [
    "y.shape"
   ]
  },
  {
   "cell_type": "code",
   "execution_count": 11,
   "metadata": {},
   "outputs": [],
   "source": [
    "# Split the data\n",
    "from sklearn.model_selection import train_test_split\n",
    "X_train, X_test, y_train, y_test = train_test_split(X, y, test_size=0.33, random_state=42)\n",
    "\n",
    "# Scale the data\n",
    "from sklearn.preprocessing import StandardScaler\n",
    "scaler = StandardScaler()\n",
    "scaler.fit(X_train)\n",
    "\n",
    "X_train = scaler.transform(X_train)\n",
    "X_test = scaler.transform(X_test)\n",
    "\n",
    "# Instantiate model\n",
    "from sklearn.linear_model import PoissonRegressor\n",
    "model = PoissonRegressor()\n",
    "\n",
    "model.fit(X_train, y_train)\n",
    "\n",
    "y_pred = model.predict(X_test)\n",
    "\n",
    "from sklearn.metrics import mean_absolute_error, mean_squared_error\n",
    "\n",
    "mae = mean_absolute_error(y_test,y_pred)\n",
    "mse = mean_squared_error(y_test,y_pred)\n",
    "rmse = np.sqrt(mse)"
   ]
  },
  {
   "cell_type": "code",
   "execution_count": 12,
   "metadata": {},
   "outputs": [
    {
     "data": {
      "text/plain": [
       "PoissonRegressor()"
      ]
     },
     "execution_count": 12,
     "metadata": {},
     "output_type": "execute_result"
    }
   ],
   "source": [
    "model"
   ]
  },
  {
   "cell_type": "code",
   "execution_count": 13,
   "metadata": {},
   "outputs": [
    {
     "data": {
      "text/plain": [
       "3.219938557506138"
      ]
     },
     "execution_count": 13,
     "metadata": {},
     "output_type": "execute_result"
    }
   ],
   "source": [
    "mae"
   ]
  },
  {
   "cell_type": "code",
   "execution_count": 14,
   "metadata": {},
   "outputs": [
    {
     "data": {
      "text/plain": [
       "17.410466874759017"
      ]
     },
     "execution_count": 14,
     "metadata": {},
     "output_type": "execute_result"
    }
   ],
   "source": [
    "mse"
   ]
  },
  {
   "cell_type": "code",
   "execution_count": 15,
   "metadata": {},
   "outputs": [
    {
     "data": {
      "text/plain": [
       "4.172585154884082"
      ]
     },
     "execution_count": 15,
     "metadata": {},
     "output_type": "execute_result"
    }
   ],
   "source": [
    "rmse"
   ]
  },
  {
   "cell_type": "code",
   "execution_count": 16,
   "metadata": {},
   "outputs": [
    {
     "data": {
      "text/html": [
       "<div>\n",
       "<style scoped>\n",
       "    .dataframe tbody tr th:only-of-type {\n",
       "        vertical-align: middle;\n",
       "    }\n",
       "\n",
       "    .dataframe tbody tr th {\n",
       "        vertical-align: top;\n",
       "    }\n",
       "\n",
       "    .dataframe thead th {\n",
       "        text-align: right;\n",
       "    }\n",
       "</style>\n",
       "<table border=\"1\" class=\"dataframe\">\n",
       "  <thead>\n",
       "    <tr style=\"text-align: right;\">\n",
       "      <th></th>\n",
       "      <th>PR</th>\n",
       "    </tr>\n",
       "  </thead>\n",
       "  <tbody>\n",
       "    <tr>\n",
       "      <th>MAE</th>\n",
       "      <td>3.219939</td>\n",
       "    </tr>\n",
       "    <tr>\n",
       "      <th>MSE</th>\n",
       "      <td>17.410467</td>\n",
       "    </tr>\n",
       "    <tr>\n",
       "      <th>RMSE</th>\n",
       "      <td>4.172585</td>\n",
       "    </tr>\n",
       "  </tbody>\n",
       "</table>\n",
       "</div>"
      ],
      "text/plain": [
       "             PR\n",
       "MAE    3.219939\n",
       "MSE   17.410467\n",
       "RMSE   4.172585"
      ]
     },
     "execution_count": 16,
     "metadata": {},
     "output_type": "execute_result"
    }
   ],
   "source": [
    "err_df = pd.DataFrame(data=[mae, mse, rmse],index=['MAE','MSE','RMSE'],columns=['PR'])\n",
    "err_df"
   ]
  },
  {
   "cell_type": "code",
   "execution_count": 17,
   "metadata": {},
   "outputs": [],
   "source": [
    "err_df.to_csv('./test-err/poi-test-err.csv')"
   ]
  },
  {
   "cell_type": "code",
   "execution_count": 18,
   "metadata": {},
   "outputs": [
    {
     "data": {
      "text/html": [
       "<div>\n",
       "<style scoped>\n",
       "    .dataframe tbody tr th:only-of-type {\n",
       "        vertical-align: middle;\n",
       "    }\n",
       "\n",
       "    .dataframe tbody tr th {\n",
       "        vertical-align: top;\n",
       "    }\n",
       "\n",
       "    .dataframe thead th {\n",
       "        text-align: right;\n",
       "    }\n",
       "</style>\n",
       "<table border=\"1\" class=\"dataframe\">\n",
       "  <thead>\n",
       "    <tr style=\"text-align: right;\">\n",
       "      <th></th>\n",
       "      <th>throughput_pred</th>\n",
       "    </tr>\n",
       "  </thead>\n",
       "  <tbody>\n",
       "    <tr>\n",
       "      <th>mean</th>\n",
       "      <td>13.619916</td>\n",
       "    </tr>\n",
       "    <tr>\n",
       "      <th>std</th>\n",
       "      <td>5.765619</td>\n",
       "    </tr>\n",
       "    <tr>\n",
       "      <th>min</th>\n",
       "      <td>2.963138</td>\n",
       "    </tr>\n",
       "    <tr>\n",
       "      <th>25%</th>\n",
       "      <td>9.156726</td>\n",
       "    </tr>\n",
       "    <tr>\n",
       "      <th>50%</th>\n",
       "      <td>12.359343</td>\n",
       "    </tr>\n",
       "    <tr>\n",
       "      <th>75%</th>\n",
       "      <td>17.291076</td>\n",
       "    </tr>\n",
       "    <tr>\n",
       "      <th>max</th>\n",
       "      <td>30.948582</td>\n",
       "    </tr>\n",
       "  </tbody>\n",
       "</table>\n",
       "</div>"
      ],
      "text/plain": [
       "      throughput_pred\n",
       "mean        13.619916\n",
       "std          5.765619\n",
       "min          2.963138\n",
       "25%          9.156726\n",
       "50%         12.359343\n",
       "75%         17.291076\n",
       "max         30.948582"
      ]
     },
     "execution_count": 18,
     "metadata": {},
     "output_type": "execute_result"
    }
   ],
   "source": [
    "y_pred_df = pd.DataFrame(y_pred, columns=['throughput_pred'])\n",
    "y_pred_df.describe().drop('count')\n",
    "# no negative predictions"
   ]
  },
  {
   "cell_type": "code",
   "execution_count": 19,
   "metadata": {},
   "outputs": [
    {
     "data": {
      "text/plain": [
       "<AxesSubplot:ylabel='Count'>"
      ]
     },
     "execution_count": 19,
     "metadata": {},
     "output_type": "execute_result"
    },
    {
     "data": {
      "image/png": "[encoded data removed]",
      "text/plain": [
       "<Figure size 432x288 with 1 Axes>"
      ]
     },
     "metadata": {
      "needs_background": "light"
     },
     "output_type": "display_data"
    }
   ],
   "source": [
    "sns.histplot(y_pred,bins=40,kde=True)\n",
    "# the distribution better reflects the true distribution of the data set"
   ]
  },
  {
   "cell_type": "code",
   "execution_count": 20,
   "metadata": {},
   "outputs": [],
   "source": [
    "# y.describe().drop(['count'])"
   ]
  },
  {
   "cell_type": "code",
   "execution_count": 21,
   "metadata": {},
   "outputs": [
    {
     "data": {
      "text/plain": [
       "mean    -0.189656\n",
       "std      4.171468\n",
       "min    -14.003926\n",
       "25%     -2.855849\n",
       "50%     -0.375920\n",
       "75%      2.211253\n",
       "max     15.349505\n",
       "Name: throughput, dtype: float64"
      ]
     },
     "execution_count": 21,
     "metadata": {},
     "output_type": "execute_result"
    }
   ],
   "source": [
    "res = y_test - y_pred\n",
    "res.describe().drop('count')"
   ]
  },
  {
   "cell_type": "code",
   "execution_count": 22,
   "metadata": {},
   "outputs": [
    {
     "data": {
      "text/plain": [
       "<AxesSubplot:xlabel='throughput', ylabel='Count'>"
      ]
     },
     "execution_count": 22,
     "metadata": {},
     "output_type": "execute_result"
    },
    {
     "data": {
      "image/png": "[encoded data removed]",
      "text/plain": [
       "<Figure size 432x288 with 1 Axes>"
      ]
     },
     "metadata": {
      "needs_background": "light"
     },
     "output_type": "display_data"
    }
   ],
   "source": [
    "sns.histplot(data=res, kde=True,bins=40)"
   ]
  },
  {
   "cell_type": "code",
   "execution_count": 23,
   "metadata": {},
   "outputs": [
    {
     "data": {
      "text/plain": [
       "<matplotlib.lines.Line2D at 0x7ff3f3af2220>"
      ]
     },
     "execution_count": 23,
     "metadata": {},
     "output_type": "execute_result"
    },
    {
     "data": {
      "image/png": "[encoded data removed]",
      "text/plain": [
       "<Figure size 432x288 with 1 Axes>"
      ]
     },
     "metadata": {
      "needs_background": "light"
     },
     "output_type": "display_data"
    }
   ],
   "source": [
    "ax = sns.scatterplot(x=y_test, y=res)\n",
    "ax.set(ylabel='Residuals', xlabel='Test Label')\n",
    "plt.axhline(y=0,color='red',linestyle='--')\n",
    "\n",
    "# there should be no clear pattern / curve in the plot\n",
    "# we see a positive correlation between Test Label and Residuals -> later models should avoid this pattern"
   ]
  },
  {
   "cell_type": "code",
   "execution_count": 24,
   "metadata": {},
   "outputs": [
    {
     "data": {
      "image/png": "[encoded data removed]",
      "text/plain": [
       "<Figure size 432x288 with 1 Axes>"
      ]
     },
     "metadata": {
      "needs_background": "light"
     },
     "output_type": "display_data"
    }
   ],
   "source": [
    "import scipy as sp\n",
    "\n",
    "fig, ax = plt.subplots()\n",
    "sp.stats.probplot(res,plot=ax);"
   ]
  },
  {
   "cell_type": "code",
   "execution_count": 25,
   "metadata": {},
   "outputs": [
    {
     "data": {
      "text/plain": [
       "PoissonRegressor()"
      ]
     },
     "execution_count": 25,
     "metadata": {},
     "output_type": "execute_result"
    }
   ],
   "source": [
    "# Scale the data\n",
    "from sklearn.preprocessing import StandardScaler\n",
    "scaler = StandardScaler()\n",
    "scaler.fit(X)\n",
    "\n",
    "X_poisson = scaler.transform(X)\n",
    "\n",
    "poisson_model = PoissonRegressor()\n",
    "poisson_model.fit(X_poisson,y)"
   ]
  },
  {
   "cell_type": "code",
   "execution_count": 26,
   "metadata": {},
   "outputs": [
    {
     "data": {
      "text/plain": [
       "array([ 3.16628424e-03,  9.20442930e-03, -1.13207884e-03, -2.91354568e-02,\n",
       "        2.48662227e-02,  1.22899554e-02, -1.06807221e-02,  7.74426212e-02,\n",
       "        4.99474779e-02,  2.34522322e-02, -8.49003122e-04, -5.10024088e-02,\n",
       "        3.30571216e-01, -9.22298933e-02, -8.42232685e-04, -1.65607774e-02,\n",
       "       -1.16577116e-02, -5.41133780e-03,  5.67461627e-03, -8.84016048e-03,\n",
       "        4.96598698e-05,  1.25879186e-02,  9.52511164e-03,  1.39634211e-02,\n",
       "       -3.97062671e-03, -4.17979266e-03,  3.27825252e-03,  3.22138858e-03,\n",
       "        9.37474988e-03, -1.54114816e-02,  3.38448382e-03,  5.05719076e-03,\n",
       "       -1.73710522e-02,  2.83743008e-02,  2.15789556e-02, -3.28088392e-02,\n",
       "       -3.08192133e-02, -2.69369767e-02,  2.22376604e-02, -1.31197105e-03,\n",
       "        1.01131849e-02, -1.23529637e-02, -2.25809405e-02,  1.23323998e-02,\n",
       "       -1.74396267e-02, -5.63355005e-03, -6.55293287e-03, -1.91546389e-02,\n",
       "       -2.52449644e-02, -1.14591203e-02, -3.14130561e-02,  1.56662148e-02,\n",
       "        7.01313591e-03,  6.95371507e-04,  2.39652826e-03,  6.55588336e-03,\n",
       "        1.89916717e-02,  7.34547940e-04,  2.48828120e-02, -1.17258522e-02,\n",
       "        2.19191533e-02, -9.75697911e-03,  2.15205603e-02, -3.01486905e-02,\n",
       "       -1.35577281e-02,  4.26699955e-04, -3.93048738e-04,  1.34022339e-02,\n",
       "        2.47862361e-02, -5.45375461e-03, -4.46151852e-02, -2.68029677e-02,\n",
       "        1.91568495e-03,  8.11892140e-03, -2.72537308e-03, -1.07652893e-02,\n",
       "       -4.54345775e-03, -3.33905848e-03,  1.53962678e-03,  3.62008080e-03])"
      ]
     },
     "execution_count": 26,
     "metadata": {},
     "output_type": "execute_result"
    }
   ],
   "source": [
    "model.coef_"
   ]
  },
  {
   "cell_type": "code",
   "execution_count": 27,
   "metadata": {},
   "outputs": [],
   "source": [
    "# coef_df = pd.DataFrame(data=model.coef_,index=X.columns,columns=['beta'])\n",
    "# coef_df"
   ]
  },
  {
   "cell_type": "code",
   "execution_count": 28,
   "metadata": {},
   "outputs": [
    {
     "data": {
      "text/plain": [
       "array([-8.07928139e-03,  1.14083139e-02,  4.68753378e-04, -1.86010750e-02,\n",
       "        2.64736365e-02,  6.99466923e-03, -1.27685126e-02,  8.22273698e-02,\n",
       "        5.77129843e-02,  2.51567858e-02,  2.57947432e-03, -4.33916878e-02,\n",
       "        3.38817577e-01, -8.82866017e-02,  8.13849093e-04, -1.42180553e-02,\n",
       "       -1.57035500e-02, -3.61647612e-03,  5.07681755e-03, -6.74811072e-03,\n",
       "        5.95833615e-03,  1.83871525e-02,  9.93783845e-03,  1.40854722e-02,\n",
       "       -3.44016618e-03,  1.67088581e-04,  3.43314609e-03,  1.17501851e-02,\n",
       "        7.66429631e-03, -1.41349774e-02,  2.08428505e-03,  4.60044036e-03,\n",
       "       -1.36943694e-02,  3.16467901e-02,  1.63171769e-02, -3.67943723e-02,\n",
       "       -3.73489916e-02, -3.00429758e-02,  1.91829066e-02,  6.23950607e-03,\n",
       "        6.80687136e-03, -1.28634056e-02, -1.88043504e-02,  8.86047478e-03,\n",
       "       -7.48350290e-03, -7.41240859e-03,  2.90056218e-03, -2.91437551e-02,\n",
       "       -2.05096678e-02, -7.66853101e-03, -2.31930939e-02,  1.59947879e-02,\n",
       "        6.59438050e-03,  7.09474294e-03,  2.37860314e-03,  6.30068941e-03,\n",
       "        1.45334684e-02, -4.17896240e-03,  1.63251825e-02, -1.71436980e-02,\n",
       "        1.84434758e-02, -6.35186865e-03,  1.63804870e-02, -2.76634099e-02,\n",
       "       -1.09802421e-02,  1.72074824e-03, -3.89302362e-03,  1.10860993e-02,\n",
       "        2.14149526e-02, -2.93453850e-03, -3.93572935e-02, -4.26356844e-02,\n",
       "        4.06399093e-03,  5.19390182e-03,  7.94578434e-03, -1.30917716e-02,\n",
       "       -6.90998338e-03, -3.47699529e-03, -3.29683396e-03,  7.99227314e-03])"
      ]
     },
     "execution_count": 28,
     "metadata": {},
     "output_type": "execute_result"
    }
   ],
   "source": [
    "poisson_model.coef_"
   ]
  },
  {
   "cell_type": "code",
   "execution_count": 29,
   "metadata": {},
   "outputs": [],
   "source": [
    "# coef_df = pd.DataFrame(data=poisson_model.coef_,index=X.columns,columns=['beta'])\n",
    "# coef_df"
   ]
  },
  {
   "cell_type": "code",
   "execution_count": 30,
   "metadata": {},
   "outputs": [
    {
     "data": {
      "text/html": [
       "<div>\n",
       "<style scoped>\n",
       "    .dataframe tbody tr th:only-of-type {\n",
       "        vertical-align: middle;\n",
       "    }\n",
       "\n",
       "    .dataframe tbody tr th {\n",
       "        vertical-align: top;\n",
       "    }\n",
       "\n",
       "    .dataframe thead th {\n",
       "        text-align: right;\n",
       "    }\n",
       "</style>\n",
       "<table border=\"1\" class=\"dataframe\">\n",
       "  <thead>\n",
       "    <tr style=\"text-align: right;\">\n",
       "      <th></th>\n",
       "      <th>delta_beta</th>\n",
       "    </tr>\n",
       "  </thead>\n",
       "  <tbody>\n",
       "    <tr>\n",
       "      <th>distance</th>\n",
       "      <td>-0.011246</td>\n",
       "    </tr>\n",
       "    <tr>\n",
       "      <th>lat</th>\n",
       "      <td>0.002204</td>\n",
       "    </tr>\n",
       "    <tr>\n",
       "      <th>lon</th>\n",
       "      <td>0.001601</td>\n",
       "    </tr>\n",
       "    <tr>\n",
       "      <th>alt</th>\n",
       "      <td>0.010534</td>\n",
       "    </tr>\n",
       "    <tr>\n",
       "      <th>speed</th>\n",
       "      <td>0.001607</td>\n",
       "    </tr>\n",
       "    <tr>\n",
       "      <th>...</th>\n",
       "      <td>...</td>\n",
       "    </tr>\n",
       "    <tr>\n",
       "      <th>region_urban</th>\n",
       "      <td>-0.002326</td>\n",
       "    </tr>\n",
       "    <tr>\n",
       "      <th>weekday_Monday</th>\n",
       "      <td>-0.002367</td>\n",
       "    </tr>\n",
       "    <tr>\n",
       "      <th>weekday_Thursday</th>\n",
       "      <td>-0.000138</td>\n",
       "    </tr>\n",
       "    <tr>\n",
       "      <th>weekday_Tuesday</th>\n",
       "      <td>-0.004836</td>\n",
       "    </tr>\n",
       "    <tr>\n",
       "      <th>weekday_Wednesday</th>\n",
       "      <td>0.004372</td>\n",
       "    </tr>\n",
       "  </tbody>\n",
       "</table>\n",
       "<p>80 rows × 1 columns</p>\n",
       "</div>"
      ],
      "text/plain": [
       "                   delta_beta\n",
       "distance            -0.011246\n",
       "lat                  0.002204\n",
       "lon                  0.001601\n",
       "alt                  0.010534\n",
       "speed                0.001607\n",
       "...                       ...\n",
       "region_urban        -0.002326\n",
       "weekday_Monday      -0.002367\n",
       "weekday_Thursday    -0.000138\n",
       "weekday_Tuesday     -0.004836\n",
       "weekday_Wednesday    0.004372\n",
       "\n",
       "[80 rows x 1 columns]"
      ]
     },
     "execution_count": 30,
     "metadata": {},
     "output_type": "execute_result"
    }
   ],
   "source": [
    "delta_df = pd.DataFrame(data=poisson_model.coef_ - model.coef_,index=X.columns,columns=['delta_beta'])\n",
    "delta_df"
   ]
  },
  {
   "cell_type": "code",
   "execution_count": 31,
   "metadata": {},
   "outputs": [
    {
     "data": {
      "text/html": [
       "<div>\n",
       "<style scoped>\n",
       "    .dataframe tbody tr th:only-of-type {\n",
       "        vertical-align: middle;\n",
       "    }\n",
       "\n",
       "    .dataframe tbody tr th {\n",
       "        vertical-align: top;\n",
       "    }\n",
       "\n",
       "    .dataframe thead th {\n",
       "        text-align: right;\n",
       "    }\n",
       "</style>\n",
       "<table border=\"1\" class=\"dataframe\">\n",
       "  <thead>\n",
       "    <tr style=\"text-align: right;\">\n",
       "      <th></th>\n",
       "      <th>ci_33527561</th>\n",
       "      <th>distance</th>\n",
       "      <th>ci_28368386</th>\n",
       "      <th>ci_29568768</th>\n",
       "      <th>ci_27771905</th>\n",
       "      <th>ci_29568769</th>\n",
       "      <th>acc</th>\n",
       "      <th>ci_27771140</th>\n",
       "      <th>ci_29913346</th>\n",
       "      <th>ci_29563904</th>\n",
       "      <th>weekday_Tuesday</th>\n",
       "      <th>ci_29401601</th>\n",
       "      <th>ci_26378498</th>\n",
       "      <th>ci_27771904</th>\n",
       "      <th>ci_31281409</th>\n",
       "      <th>ci_29913344</th>\n",
       "      <th>ci_28365058</th>\n",
       "      <th>ci_33527552</th>\n",
       "      <th>ci_27771909</th>\n",
       "      <th>ci_27771906</th>\n",
       "      <th>ci_27771907</th>\n",
       "      <th>region_highway</th>\n",
       "      <th>weekday_Monday</th>\n",
       "      <th>region_urban</th>\n",
       "      <th>ci_33519104</th>\n",
       "      <th>dir</th>\n",
       "      <th>ci_28367106</th>\n",
       "      <th>ci_27299331</th>\n",
       "      <th>ci_27770883</th>\n",
       "      <th>ci_26378755</th>\n",
       "      <th>ci_28365056</th>\n",
       "      <th>ci_27770885</th>\n",
       "      <th>ci_29391104</th>\n",
       "      <th>ci_29398276</th>\n",
       "      <th>weekday_Thursday</th>\n",
       "      <th>ci_29391106</th>\n",
       "      <th>ci_26796290</th>\n",
       "      <th>ci_27256324</th>\n",
       "      <th>ci_28371202</th>\n",
       "      <th>ci_26385410</th>\n",
       "      <th>ci_26796291</th>\n",
       "      <th>ci_27299332</th>\n",
       "      <th>ci_31263232</th>\n",
       "      <th>lon</th>\n",
       "      <th>speed</th>\n",
       "      <th>hour</th>\n",
       "      <th>sinr</th>\n",
       "      <th>ci_26378754</th>\n",
       "      <th>ci_26379013</th>\n",
       "      <th>ci_33837570</th>\n",
       "      <th>lat</th>\n",
       "      <th>ci_26378497</th>\n",
       "      <th>ci_30422273</th>\n",
       "      <th>ci_33527554</th>\n",
       "      <th>ci_30492930</th>\n",
       "      <th>ci_27771139</th>\n",
       "      <th>ci_29913345</th>\n",
       "      <th>cqi</th>\n",
       "      <th>ci_27770888</th>\n",
       "      <th>ci_28365057</th>\n",
       "      <th>ci_28371200</th>\n",
       "      <th>rtt</th>\n",
       "      <th>ci_27029251</th>\n",
       "      <th>weekday_Wednesday</th>\n",
       "      <th>ci_28368651</th>\n",
       "      <th>rsrp</th>\n",
       "      <th>ci_33527559</th>\n",
       "      <th>ci_26385409</th>\n",
       "      <th>ci_26385408</th>\n",
       "      <th>ci_29391105</th>\n",
       "      <th>ci_27771908</th>\n",
       "      <th>ta</th>\n",
       "      <th>rsrq</th>\n",
       "      <th>ci_28371201</th>\n",
       "      <th>payload</th>\n",
       "      <th>ci_27256325</th>\n",
       "      <th>ci_28368384</th>\n",
       "      <th>ci_28367105</th>\n",
       "      <th>alt</th>\n",
       "      <th>region_suburban</th>\n",
       "    </tr>\n",
       "  </thead>\n",
       "  <tbody>\n",
       "    <tr>\n",
       "      <th>delta_beta</th>\n",
       "      <td>-0.015833</td>\n",
       "      <td>-0.011246</td>\n",
       "      <td>-0.009989</td>\n",
       "      <td>-0.008558</td>\n",
       "      <td>-0.00653</td>\n",
       "      <td>-0.005418</td>\n",
       "      <td>-0.005295</td>\n",
       "      <td>-0.005262</td>\n",
       "      <td>-0.00514</td>\n",
       "      <td>-0.004914</td>\n",
       "      <td>-0.004836</td>\n",
       "      <td>-0.004458</td>\n",
       "      <td>-0.004046</td>\n",
       "      <td>-0.003986</td>\n",
       "      <td>-0.0035</td>\n",
       "      <td>-0.003476</td>\n",
       "      <td>-0.003472</td>\n",
       "      <td>-0.003371</td>\n",
       "      <td>-0.003306</td>\n",
       "      <td>-0.003106</td>\n",
       "      <td>-0.003055</td>\n",
       "      <td>-0.002925</td>\n",
       "      <td>-0.002367</td>\n",
       "      <td>-0.002326</td>\n",
       "      <td>-0.002316</td>\n",
       "      <td>-0.002088</td>\n",
       "      <td>-0.001779</td>\n",
       "      <td>-0.00171</td>\n",
       "      <td>-0.0013</td>\n",
       "      <td>-0.000598</td>\n",
       "      <td>-0.00051</td>\n",
       "      <td>-0.000457</td>\n",
       "      <td>-0.000419</td>\n",
       "      <td>-0.000255</td>\n",
       "      <td>-0.000138</td>\n",
       "      <td>-0.000018</td>\n",
       "      <td>0.000122</td>\n",
       "      <td>0.000155</td>\n",
       "      <td>0.000329</td>\n",
       "      <td>0.000413</td>\n",
       "      <td>0.00053</td>\n",
       "      <td>0.001277</td>\n",
       "      <td>0.001294</td>\n",
       "      <td>0.001601</td>\n",
       "      <td>0.001607</td>\n",
       "      <td>0.001656</td>\n",
       "      <td>0.001705</td>\n",
       "      <td>0.001795</td>\n",
       "      <td>0.002092</td>\n",
       "      <td>0.002148</td>\n",
       "      <td>0.002204</td>\n",
       "      <td>0.002343</td>\n",
       "      <td>0.002485</td>\n",
       "      <td>0.002519</td>\n",
       "      <td>0.002577</td>\n",
       "      <td>0.003272</td>\n",
       "      <td>0.003405</td>\n",
       "      <td>0.003428</td>\n",
       "      <td>0.003677</td>\n",
       "      <td>0.003777</td>\n",
       "      <td>0.003791</td>\n",
       "      <td>0.003943</td>\n",
       "      <td>0.004347</td>\n",
       "      <td>0.004372</td>\n",
       "      <td>0.004735</td>\n",
       "      <td>0.004785</td>\n",
       "      <td>0.005258</td>\n",
       "      <td>0.005799</td>\n",
       "      <td>0.005909</td>\n",
       "      <td>0.006399</td>\n",
       "      <td>0.007551</td>\n",
       "      <td>0.007611</td>\n",
       "      <td>0.007766</td>\n",
       "      <td>0.00822</td>\n",
       "      <td>0.008246</td>\n",
       "      <td>0.008529</td>\n",
       "      <td>0.009453</td>\n",
       "      <td>0.009956</td>\n",
       "      <td>0.010534</td>\n",
       "      <td>0.010671</td>\n",
       "    </tr>\n",
       "  </tbody>\n",
       "</table>\n",
       "</div>"
      ],
      "text/plain": [
       "            ci_33527561  distance  ci_28368386  ci_29568768  ci_27771905  \\\n",
       "delta_beta    -0.015833 -0.011246    -0.009989    -0.008558     -0.00653   \n",
       "\n",
       "            ci_29568769       acc  ci_27771140  ci_29913346  ci_29563904  \\\n",
       "delta_beta    -0.005418 -0.005295    -0.005262     -0.00514    -0.004914   \n",
       "\n",
       "            weekday_Tuesday  ci_29401601  ci_26378498  ci_27771904  \\\n",
       "delta_beta        -0.004836    -0.004458    -0.004046    -0.003986   \n",
       "\n",
       "            ci_31281409  ci_29913344  ci_28365058  ci_33527552  ci_27771909  \\\n",
       "delta_beta      -0.0035    -0.003476    -0.003472    -0.003371    -0.003306   \n",
       "\n",
       "            ci_27771906  ci_27771907  region_highway  weekday_Monday  \\\n",
       "delta_beta    -0.003106    -0.003055       -0.002925       -0.002367   \n",
       "\n",
       "            region_urban  ci_33519104       dir  ci_28367106  ci_27299331  \\\n",
       "delta_beta     -0.002326    -0.002316 -0.002088    -0.001779     -0.00171   \n",
       "\n",
       "            ci_27770883  ci_26378755  ci_28365056  ci_27770885  ci_29391104  \\\n",
       "delta_beta      -0.0013    -0.000598     -0.00051    -0.000457    -0.000419   \n",
       "\n",
       "            ci_29398276  weekday_Thursday  ci_29391106  ci_26796290  \\\n",
       "delta_beta    -0.000255         -0.000138    -0.000018     0.000122   \n",
       "\n",
       "            ci_27256324  ci_28371202  ci_26385410  ci_26796291  ci_27299332  \\\n",
       "delta_beta     0.000155     0.000329     0.000413      0.00053     0.001277   \n",
       "\n",
       "            ci_31263232       lon     speed      hour      sinr  ci_26378754  \\\n",
       "delta_beta     0.001294  0.001601  0.001607  0.001656  0.001705     0.001795   \n",
       "\n",
       "            ci_26379013  ci_33837570       lat  ci_26378497  ci_30422273  \\\n",
       "delta_beta     0.002092     0.002148  0.002204     0.002343     0.002485   \n",
       "\n",
       "            ci_33527554  ci_30492930  ci_27771139  ci_29913345       cqi  \\\n",
       "delta_beta     0.002519     0.002577     0.003272     0.003405  0.003428   \n",
       "\n",
       "            ci_27770888  ci_28365057  ci_28371200       rtt  ci_27029251  \\\n",
       "delta_beta     0.003677     0.003777     0.003791  0.003943     0.004347   \n",
       "\n",
       "            weekday_Wednesday  ci_28368651      rsrp  ci_33527559  \\\n",
       "delta_beta           0.004372     0.004735  0.004785     0.005258   \n",
       "\n",
       "            ci_26385409  ci_26385408  ci_29391105  ci_27771908        ta  \\\n",
       "delta_beta     0.005799     0.005909     0.006399     0.007551  0.007611   \n",
       "\n",
       "                rsrq  ci_28371201   payload  ci_27256325  ci_28368384  \\\n",
       "delta_beta  0.007766      0.00822  0.008246     0.008529     0.009453   \n",
       "\n",
       "            ci_28367105       alt  region_suburban  \n",
       "delta_beta     0.009956  0.010534         0.010671  "
      ]
     },
     "execution_count": 31,
     "metadata": {},
     "output_type": "execute_result"
    }
   ],
   "source": [
    "pd.set_option('display.max_columns',None)\n",
    "delta_df.sort_values('delta_beta').sort_values('delta_beta').transpose()"
   ]
  },
  {
   "cell_type": "code",
   "execution_count": 32,
   "metadata": {},
   "outputs": [
    {
     "data": {
      "text/plain": [
       "<AxesSubplot:ylabel='Count'>"
      ]
     },
     "execution_count": 32,
     "metadata": {},
     "output_type": "execute_result"
    },
    {
     "data": {
      "image/png": "[encoded data removed]",
      "text/plain": [
       "<Figure size 432x288 with 1 Axes>"
      ]
     },
     "metadata": {
      "needs_background": "light"
     },
     "output_type": "display_data"
    }
   ],
   "source": [
    "sns.histplot(data=delta_df,bins=40,kde=True)"
   ]
  },
  {
   "cell_type": "code",
   "execution_count": 33,
   "metadata": {},
   "outputs": [],
   "source": [
    "y_pred_poisson = poisson_model.predict(X_poisson)"
   ]
  },
  {
   "cell_type": "code",
   "execution_count": 34,
   "metadata": {},
   "outputs": [
    {
     "data": {
      "text/plain": [
       "<AxesSubplot:ylabel='Count'>"
      ]
     },
     "execution_count": 34,
     "metadata": {},
     "output_type": "execute_result"
    },
    {
     "data": {
      "image/png": "[encoded data removed]",
      "text/plain": [
       "<Figure size 432x288 with 1 Axes>"
      ]
     },
     "metadata": {
      "needs_background": "light"
     },
     "output_type": "display_data"
    }
   ],
   "source": [
    "sns.histplot(y_pred_poisson,bins=40,kde=True)"
   ]
  },
  {
   "cell_type": "code",
   "execution_count": 35,
   "metadata": {},
   "outputs": [
    {
     "data": {
      "text/plain": [
       "<matplotlib.legend.Legend at 0x7ff3f22689d0>"
      ]
     },
     "execution_count": 35,
     "metadata": {},
     "output_type": "execute_result"
    },
    {
     "data": {
      "image/png": "[encoded data removed]",
      "text/plain": [
       "<Figure size 432x288 with 1 Axes>"
      ]
     },
     "metadata": {
      "needs_background": "light"
     },
     "output_type": "display_data"
    }
   ],
   "source": [
    "fig,ax = plt.subplots()\n",
    "\n",
    "sns.kdeplot(y, ax=ax, shade=True, label='Observations')\n",
    "sns.kdeplot(y_pred_poisson, ax=ax,shade=True,label='Predictions')\n",
    "\n",
    "ax.legend(loc='best')"
   ]
  },
  {
   "cell_type": "code",
   "execution_count": 36,
   "metadata": {},
   "outputs": [
    {
     "data": {
      "text/plain": [
       "<matplotlib.legend.Legend at 0x7ff3f420b250>"
      ]
     },
     "execution_count": 36,
     "metadata": {},
     "output_type": "execute_result"
    },
    {
     "data": {
      "image/png": "[encoded data removed]",
      "text/plain": [
       "<Figure size 432x288 with 1 Axes>"
      ]
     },
     "metadata": {
      "needs_background": "light"
     },
     "output_type": "display_data"
    }
   ],
   "source": [
    "fig,ax = plt.subplots()\n",
    "\n",
    "sns.ecdfplot(y, ax=ax, label='Observations')\n",
    "sns.ecdfplot(y_pred_poisson, ax=ax,label='Predictions')\n",
    "plt.axvline(x=y.mean(),color='grey',linestyle='--')\n",
    "\n",
    "ax.legend(loc='best')"
   ]
  },
  {
   "cell_type": "code",
   "execution_count": 37,
   "metadata": {},
   "outputs": [],
   "source": [
    "mae = mean_absolute_error(y,y_pred_poisson)\n",
    "mse = mean_squared_error(y,y_pred_poisson)\n",
    "rmse = np.sqrt(mse)"
   ]
  },
  {
   "cell_type": "code",
   "execution_count": 38,
   "metadata": {},
   "outputs": [
    {
     "data": {
      "text/html": [
       "<div>\n",
       "<style scoped>\n",
       "    .dataframe tbody tr th:only-of-type {\n",
       "        vertical-align: middle;\n",
       "    }\n",
       "\n",
       "    .dataframe tbody tr th {\n",
       "        vertical-align: top;\n",
       "    }\n",
       "\n",
       "    .dataframe thead th {\n",
       "        text-align: right;\n",
       "    }\n",
       "</style>\n",
       "<table border=\"1\" class=\"dataframe\">\n",
       "  <thead>\n",
       "    <tr style=\"text-align: right;\">\n",
       "      <th></th>\n",
       "      <th>PR</th>\n",
       "    </tr>\n",
       "  </thead>\n",
       "  <tbody>\n",
       "    <tr>\n",
       "      <th>MAE</th>\n",
       "      <td>3.072909</td>\n",
       "    </tr>\n",
       "    <tr>\n",
       "      <th>MSE</th>\n",
       "      <td>15.779219</td>\n",
       "    </tr>\n",
       "    <tr>\n",
       "      <th>RMSE</th>\n",
       "      <td>3.972306</td>\n",
       "    </tr>\n",
       "  </tbody>\n",
       "</table>\n",
       "</div>"
      ],
      "text/plain": [
       "             PR\n",
       "MAE    3.072909\n",
       "MSE   15.779219\n",
       "RMSE   3.972306"
      ]
     },
     "execution_count": 38,
     "metadata": {},
     "output_type": "execute_result"
    }
   ],
   "source": [
    "err_df = pd.DataFrame(data=[mae, mse, rmse],index=['MAE','MSE','RMSE'],columns=['PR'])\n",
    "err_df"
   ]
  },
  {
   "cell_type": "code",
   "execution_count": 39,
   "metadata": {},
   "outputs": [],
   "source": [
    "# err_df.to_csv('./model-err/poi-model-err.csv')"
   ]
  },
  {
   "cell_type": "code",
   "execution_count": 40,
   "metadata": {},
   "outputs": [
    {
     "data": {
      "text/plain": [
       "['./models/poi-model.joblib']"
      ]
     },
     "execution_count": 40,
     "metadata": {},
     "output_type": "execute_result"
    }
   ],
   "source": [
    "from joblib import dump, load\n",
    "dump(poisson_model, './models/poi-model.joblib')"
   ]
  },
  {
   "cell_type": "markdown",
   "metadata": {},
   "source": [
    "DONE!"
   ]
  },
  {
   "cell_type": "code",
   "execution_count": null,
   "metadata": {},
   "outputs": [],
   "source": []
  }
 ],
 "metadata": {
  "kernelspec": {
   "display_name": "Python 3",
   "language": "python",
   "name": "python3"
  },
  "language_info": {
   "codemirror_mode": {
    "name": "ipython",
    "version": 3
   },
   "file_extension": ".py",
   "mimetype": "text/x-python",
   "name": "python",
   "nbconvert_exporter": "python",
   "pygments_lexer": "ipython3",
   "version": "3.8.6"
  }
 },
 "nbformat": 4,
 "nbformat_minor": 4
}
