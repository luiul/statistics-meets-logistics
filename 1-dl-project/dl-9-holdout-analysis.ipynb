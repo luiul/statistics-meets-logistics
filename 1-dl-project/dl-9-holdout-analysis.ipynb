{
 "cells": [
  {
   "cell_type": "code",
   "execution_count": 1,
   "id": "sophisticated-subscription",
   "metadata": {},
   "outputs": [],
   "source": [
    "# MODIFY!\n",
    "notebook_name = 'holdout'"
   ]
  },
  {
   "cell_type": "markdown",
   "id": "waiting-phone",
   "metadata": {},
   "source": [
    "# Import Libaries & Define Functions"
   ]
  },
  {
   "cell_type": "code",
   "execution_count": 2,
   "id": "configured-negotiation",
   "metadata": {},
   "outputs": [],
   "source": [
    "import numpy as np\n",
    "import pandas as pd\n",
    "import matplotlib.pyplot as plt\n",
    "import seaborn as sns\n",
    "import glob"
   ]
  },
  {
   "cell_type": "code",
   "execution_count": 3,
   "id": "working-toddler",
   "metadata": {},
   "outputs": [],
   "source": [
    "sns.set(style='whitegrid')"
   ]
  },
  {
   "cell_type": "code",
   "execution_count": 4,
   "id": "placed-illinois",
   "metadata": {},
   "outputs": [],
   "source": [
    "def frame_it(path):\n",
    "    csv_files = glob.glob(path + '/*.csv')\n",
    "    df_list = []\n",
    "    \n",
    "    for filename in csv_files:\n",
    "        df = pd.read_csv(filename, index_col='Unnamed: 0', header=0)\n",
    "        df_list.append(df)\n",
    "\n",
    "    return pd.concat(df_list, axis=1)"
   ]
  },
  {
   "cell_type": "code",
   "execution_count": 5,
   "id": "combined-instrument",
   "metadata": {},
   "outputs": [],
   "source": [
    "def show_values_on_bars(axs, h_v=\"v\", space=0.4,pct=False,neg=False):\n",
    "    def _show_on_single_plot(ax):\n",
    "        if h_v == \"v\":\n",
    "            for p in ax.patches:\n",
    "                _x = p.get_x() + p.get_width() / 2\n",
    "                _y = p.get_y() + p.get_height()\n",
    "                if pct == True: \n",
    "                    value = '{:.2%}'.format(p.get_height())\n",
    "                else: \n",
    "                    value = '{:.2f}'.format(p.get_height())\n",
    "                ax.text(_x, _y, value, ha=\"center\") \n",
    "        \n",
    "        elif h_v == \"h\":\n",
    "            for p in ax.patches:\n",
    "                _x = p.get_x() + p.get_width() + float(space)\n",
    "                _y = p.get_y() + p.get_height()\n",
    "                if pct == True: \n",
    "                    value = '{:.2%}'.format(p.get_width())\n",
    "                else: \n",
    "                    value = '{:.2f}'.format(p.get_width())\n",
    "                if neg == True: \n",
    "                    ax.text(_x, _y, value, ha=\"right\")\n",
    "                else:\n",
    "                    ax.text(_x, _y, value, ha=\"left\")\n",
    "\n",
    "    if isinstance(axs, np.ndarray):\n",
    "        for idx, ax in np.ndenumerate(axs):\n",
    "            _show_on_single_plot(ax)\n",
    "    else:\n",
    "        _show_on_single_plot(axs)"
   ]
  },
  {
   "cell_type": "markdown",
   "id": "circular-viewer",
   "metadata": {},
   "source": [
    "# Analysis"
   ]
  },
  {
   "cell_type": "code",
   "execution_count": 6,
   "id": "mediterranean-genre",
   "metadata": {},
   "outputs": [],
   "source": [
    "# MODIFY! \n",
    "df = frame_it('./holdout-test')\n",
    "# we tranpose the data frame for the analysis"
   ]
  },
  {
   "cell_type": "code",
   "execution_count": 7,
   "id": "corrected-fountain",
   "metadata": {},
   "outputs": [],
   "source": [
    "df = df.T\n",
    "# we transpose the data frame due to way we exported the data"
   ]
  },
  {
   "cell_type": "code",
   "execution_count": 8,
   "id": "impossible-rouge",
   "metadata": {},
   "outputs": [
    {
     "data": {
      "text/html": [
       "<div>\n",
       "<style scoped>\n",
       "    .dataframe tbody tr th:only-of-type {\n",
       "        vertical-align: middle;\n",
       "    }\n",
       "\n",
       "    .dataframe tbody tr th {\n",
       "        vertical-align: top;\n",
       "    }\n",
       "\n",
       "    .dataframe thead th {\n",
       "        text-align: right;\n",
       "    }\n",
       "</style>\n",
       "<table border=\"1\" class=\"dataframe\">\n",
       "  <thead>\n",
       "    <tr style=\"text-align: right;\">\n",
       "      <th></th>\n",
       "      <th>MAE</th>\n",
       "      <th>MSE</th>\n",
       "      <th>RMSE</th>\n",
       "    </tr>\n",
       "  </thead>\n",
       "  <tbody>\n",
       "    <tr>\n",
       "      <th>rf-no</th>\n",
       "      <td>3.045528</td>\n",
       "      <td>17.464225</td>\n",
       "      <td>4.179022</td>\n",
       "    </tr>\n",
       "    <tr>\n",
       "      <th>ela-net-rb-no</th>\n",
       "      <td>3.131106</td>\n",
       "      <td>18.185864</td>\n",
       "      <td>4.264489</td>\n",
       "    </tr>\n",
       "    <tr>\n",
       "      <th>svr-no</th>\n",
       "      <td>3.153359</td>\n",
       "      <td>18.521117</td>\n",
       "      <td>4.303617</td>\n",
       "    </tr>\n",
       "    <tr>\n",
       "      <th>poi-no</th>\n",
       "      <td>3.305303</td>\n",
       "      <td>19.136762</td>\n",
       "      <td>4.374558</td>\n",
       "    </tr>\n",
       "    <tr>\n",
       "      <th>rf-wo</th>\n",
       "      <td>3.363837</td>\n",
       "      <td>21.058934</td>\n",
       "      <td>4.589001</td>\n",
       "    </tr>\n",
       "    <tr>\n",
       "      <th>poi-wo</th>\n",
       "      <td>3.922977</td>\n",
       "      <td>26.002281</td>\n",
       "      <td>5.099243</td>\n",
       "    </tr>\n",
       "    <tr>\n",
       "      <th>ela-net-st-no</th>\n",
       "      <td>3.961789</td>\n",
       "      <td>26.622374</td>\n",
       "      <td>5.159687</td>\n",
       "    </tr>\n",
       "    <tr>\n",
       "      <th>ela-net-st-wo</th>\n",
       "      <td>3.961789</td>\n",
       "      <td>26.622374</td>\n",
       "      <td>5.159687</td>\n",
       "    </tr>\n",
       "    <tr>\n",
       "      <th>ela-net-rb-wo</th>\n",
       "      <td>3.971902</td>\n",
       "      <td>26.847434</td>\n",
       "      <td>5.181451</td>\n",
       "    </tr>\n",
       "    <tr>\n",
       "      <th>svr-wo</th>\n",
       "      <td>3.975099</td>\n",
       "      <td>27.905289</td>\n",
       "      <td>5.282546</td>\n",
       "    </tr>\n",
       "  </tbody>\n",
       "</table>\n",
       "</div>"
      ],
      "text/plain": [
       "                    MAE        MSE      RMSE\n",
       "rf-no          3.045528  17.464225  4.179022\n",
       "ela-net-rb-no  3.131106  18.185864  4.264489\n",
       "svr-no         3.153359  18.521117  4.303617\n",
       "poi-no         3.305303  19.136762  4.374558\n",
       "rf-wo          3.363837  21.058934  4.589001\n",
       "poi-wo         3.922977  26.002281  5.099243\n",
       "ela-net-st-no  3.961789  26.622374  5.159687\n",
       "ela-net-st-wo  3.961789  26.622374  5.159687\n",
       "ela-net-rb-wo  3.971902  26.847434  5.181451\n",
       "svr-wo         3.975099  27.905289  5.282546"
      ]
     },
     "execution_count": 8,
     "metadata": {},
     "output_type": "execute_result"
    }
   ],
   "source": [
    "df_rmse = df.sort_values('RMSE')\n",
    "df_rmse"
   ]
  },
  {
   "cell_type": "code",
   "execution_count": 9,
   "id": "assured-republic",
   "metadata": {},
   "outputs": [],
   "source": [
    "df_rmse.to_csv(f'./analysis/{notebook_name}.csv')"
   ]
  },
  {
   "cell_type": "markdown",
   "id": "finnish-faith",
   "metadata": {},
   "source": [
    "## ERR Values [MBit/s] and [(MBit/s)^2]"
   ]
  },
  {
   "cell_type": "code",
   "execution_count": 10,
   "id": "cleared-phrase",
   "metadata": {},
   "outputs": [
    {
     "data": {
      "text/html": [
       "<style  type=\"text/css\" >\n",
       "    #T_d6b76b10_5fd6_11eb_844d_60f81dd06e70 tr:hover {\n",
       "          background-color: ;\n",
       "    }#T_d6b76b10_5fd6_11eb_844d_60f81dd06e70row0_col0,#T_d6b76b10_5fd6_11eb_844d_60f81dd06e70row0_col1,#T_d6b76b10_5fd6_11eb_844d_60f81dd06e70row0_col2{\n",
       "            background-color:  lightgrey;\n",
       "        }</style><table id=\"T_d6b76b10_5fd6_11eb_844d_60f81dd06e70\" ><thead>    <tr>        <th class=\"blank level0\" ></th>        <th class=\"col_heading level0 col0\" >MAE</th>        <th class=\"col_heading level0 col1\" >MSE</th>        <th class=\"col_heading level0 col2\" >RMSE</th>    </tr></thead><tbody>\n",
       "                <tr>\n",
       "                        <th id=\"T_d6b76b10_5fd6_11eb_844d_60f81dd06e70level0_row0\" class=\"row_heading level0 row0\" >rf-no</th>\n",
       "                        <td id=\"T_d6b76b10_5fd6_11eb_844d_60f81dd06e70row0_col0\" class=\"data row0 col0\" >3.045528</td>\n",
       "                        <td id=\"T_d6b76b10_5fd6_11eb_844d_60f81dd06e70row0_col1\" class=\"data row0 col1\" >17.464225</td>\n",
       "                        <td id=\"T_d6b76b10_5fd6_11eb_844d_60f81dd06e70row0_col2\" class=\"data row0 col2\" >4.179022</td>\n",
       "            </tr>\n",
       "            <tr>\n",
       "                        <th id=\"T_d6b76b10_5fd6_11eb_844d_60f81dd06e70level0_row1\" class=\"row_heading level0 row1\" >ela-net-rb-no</th>\n",
       "                        <td id=\"T_d6b76b10_5fd6_11eb_844d_60f81dd06e70row1_col0\" class=\"data row1 col0\" >3.131106</td>\n",
       "                        <td id=\"T_d6b76b10_5fd6_11eb_844d_60f81dd06e70row1_col1\" class=\"data row1 col1\" >18.185864</td>\n",
       "                        <td id=\"T_d6b76b10_5fd6_11eb_844d_60f81dd06e70row1_col2\" class=\"data row1 col2\" >4.264489</td>\n",
       "            </tr>\n",
       "            <tr>\n",
       "                        <th id=\"T_d6b76b10_5fd6_11eb_844d_60f81dd06e70level0_row2\" class=\"row_heading level0 row2\" >svr-no</th>\n",
       "                        <td id=\"T_d6b76b10_5fd6_11eb_844d_60f81dd06e70row2_col0\" class=\"data row2 col0\" >3.153359</td>\n",
       "                        <td id=\"T_d6b76b10_5fd6_11eb_844d_60f81dd06e70row2_col1\" class=\"data row2 col1\" >18.521117</td>\n",
       "                        <td id=\"T_d6b76b10_5fd6_11eb_844d_60f81dd06e70row2_col2\" class=\"data row2 col2\" >4.303617</td>\n",
       "            </tr>\n",
       "            <tr>\n",
       "                        <th id=\"T_d6b76b10_5fd6_11eb_844d_60f81dd06e70level0_row3\" class=\"row_heading level0 row3\" >poi-no</th>\n",
       "                        <td id=\"T_d6b76b10_5fd6_11eb_844d_60f81dd06e70row3_col0\" class=\"data row3 col0\" >3.305303</td>\n",
       "                        <td id=\"T_d6b76b10_5fd6_11eb_844d_60f81dd06e70row3_col1\" class=\"data row3 col1\" >19.136762</td>\n",
       "                        <td id=\"T_d6b76b10_5fd6_11eb_844d_60f81dd06e70row3_col2\" class=\"data row3 col2\" >4.374558</td>\n",
       "            </tr>\n",
       "            <tr>\n",
       "                        <th id=\"T_d6b76b10_5fd6_11eb_844d_60f81dd06e70level0_row4\" class=\"row_heading level0 row4\" >rf-wo</th>\n",
       "                        <td id=\"T_d6b76b10_5fd6_11eb_844d_60f81dd06e70row4_col0\" class=\"data row4 col0\" >3.363837</td>\n",
       "                        <td id=\"T_d6b76b10_5fd6_11eb_844d_60f81dd06e70row4_col1\" class=\"data row4 col1\" >21.058934</td>\n",
       "                        <td id=\"T_d6b76b10_5fd6_11eb_844d_60f81dd06e70row4_col2\" class=\"data row4 col2\" >4.589001</td>\n",
       "            </tr>\n",
       "            <tr>\n",
       "                        <th id=\"T_d6b76b10_5fd6_11eb_844d_60f81dd06e70level0_row5\" class=\"row_heading level0 row5\" >poi-wo</th>\n",
       "                        <td id=\"T_d6b76b10_5fd6_11eb_844d_60f81dd06e70row5_col0\" class=\"data row5 col0\" >3.922977</td>\n",
       "                        <td id=\"T_d6b76b10_5fd6_11eb_844d_60f81dd06e70row5_col1\" class=\"data row5 col1\" >26.002281</td>\n",
       "                        <td id=\"T_d6b76b10_5fd6_11eb_844d_60f81dd06e70row5_col2\" class=\"data row5 col2\" >5.099243</td>\n",
       "            </tr>\n",
       "            <tr>\n",
       "                        <th id=\"T_d6b76b10_5fd6_11eb_844d_60f81dd06e70level0_row6\" class=\"row_heading level0 row6\" >ela-net-st-no</th>\n",
       "                        <td id=\"T_d6b76b10_5fd6_11eb_844d_60f81dd06e70row6_col0\" class=\"data row6 col0\" >3.961789</td>\n",
       "                        <td id=\"T_d6b76b10_5fd6_11eb_844d_60f81dd06e70row6_col1\" class=\"data row6 col1\" >26.622374</td>\n",
       "                        <td id=\"T_d6b76b10_5fd6_11eb_844d_60f81dd06e70row6_col2\" class=\"data row6 col2\" >5.159687</td>\n",
       "            </tr>\n",
       "            <tr>\n",
       "                        <th id=\"T_d6b76b10_5fd6_11eb_844d_60f81dd06e70level0_row7\" class=\"row_heading level0 row7\" >ela-net-st-wo</th>\n",
       "                        <td id=\"T_d6b76b10_5fd6_11eb_844d_60f81dd06e70row7_col0\" class=\"data row7 col0\" >3.961789</td>\n",
       "                        <td id=\"T_d6b76b10_5fd6_11eb_844d_60f81dd06e70row7_col1\" class=\"data row7 col1\" >26.622374</td>\n",
       "                        <td id=\"T_d6b76b10_5fd6_11eb_844d_60f81dd06e70row7_col2\" class=\"data row7 col2\" >5.159687</td>\n",
       "            </tr>\n",
       "            <tr>\n",
       "                        <th id=\"T_d6b76b10_5fd6_11eb_844d_60f81dd06e70level0_row8\" class=\"row_heading level0 row8\" >ela-net-rb-wo</th>\n",
       "                        <td id=\"T_d6b76b10_5fd6_11eb_844d_60f81dd06e70row8_col0\" class=\"data row8 col0\" >3.971902</td>\n",
       "                        <td id=\"T_d6b76b10_5fd6_11eb_844d_60f81dd06e70row8_col1\" class=\"data row8 col1\" >26.847434</td>\n",
       "                        <td id=\"T_d6b76b10_5fd6_11eb_844d_60f81dd06e70row8_col2\" class=\"data row8 col2\" >5.181451</td>\n",
       "            </tr>\n",
       "            <tr>\n",
       "                        <th id=\"T_d6b76b10_5fd6_11eb_844d_60f81dd06e70level0_row9\" class=\"row_heading level0 row9\" >svr-wo</th>\n",
       "                        <td id=\"T_d6b76b10_5fd6_11eb_844d_60f81dd06e70row9_col0\" class=\"data row9 col0\" >3.975099</td>\n",
       "                        <td id=\"T_d6b76b10_5fd6_11eb_844d_60f81dd06e70row9_col1\" class=\"data row9 col1\" >27.905289</td>\n",
       "                        <td id=\"T_d6b76b10_5fd6_11eb_844d_60f81dd06e70row9_col2\" class=\"data row9 col2\" >5.282546</td>\n",
       "            </tr>\n",
       "    </tbody></table>"
      ],
      "text/plain": [
       "<pandas.io.formats.style.Styler at 0x7fd00be8da60>"
      ]
     },
     "execution_count": 10,
     "metadata": {},
     "output_type": "execute_result"
    }
   ],
   "source": [
    "df_rmse.style.highlight_min(color = 'lightgrey', axis = 0).set_table_styles([{'selector': 'tr:hover','props': [('background-color', '')]}])"
   ]
  },
  {
   "cell_type": "markdown",
   "id": "romantic-progressive",
   "metadata": {},
   "source": [
    "## RMSE Performance Decline based on Best Performance [%]"
   ]
  },
  {
   "cell_type": "code",
   "execution_count": 11,
   "id": "brilliant-amendment",
   "metadata": {},
   "outputs": [],
   "source": [
    "df_rmse_min = df_rmse.apply(lambda value : -((value/df.min())-1),axis=1)"
   ]
  },
  {
   "cell_type": "code",
   "execution_count": 12,
   "id": "empty-country",
   "metadata": {},
   "outputs": [],
   "source": [
    "df_rmse_min = df_rmse_min.sort_values('RMSE',ascending=False)"
   ]
  },
  {
   "cell_type": "code",
   "execution_count": 13,
   "id": "planned-culture",
   "metadata": {},
   "outputs": [],
   "source": [
    "df_rmse_min.to_csv(f'./analysis/{notebook_name}-min.csv')"
   ]
  },
  {
   "cell_type": "code",
   "execution_count": 14,
   "id": "ultimate-import",
   "metadata": {},
   "outputs": [
    {
     "data": {
      "text/html": [
       "<style  type=\"text/css\" >\n",
       "    #T_d6cb6ed0_5fd6_11eb_844d_60f81dd06e70 tr:hover {\n",
       "          background-color: ;\n",
       "    }#T_d6cb6ed0_5fd6_11eb_844d_60f81dd06e70row0_col0,#T_d6cb6ed0_5fd6_11eb_844d_60f81dd06e70row0_col1,#T_d6cb6ed0_5fd6_11eb_844d_60f81dd06e70row0_col2{\n",
       "            background-color:  lightgrey;\n",
       "        }</style><table id=\"T_d6cb6ed0_5fd6_11eb_844d_60f81dd06e70\" ><thead>    <tr>        <th class=\"blank level0\" ></th>        <th class=\"col_heading level0 col0\" >MAE</th>        <th class=\"col_heading level0 col1\" >MSE</th>        <th class=\"col_heading level0 col2\" >RMSE</th>    </tr></thead><tbody>\n",
       "                <tr>\n",
       "                        <th id=\"T_d6cb6ed0_5fd6_11eb_844d_60f81dd06e70level0_row0\" class=\"row_heading level0 row0\" >rf-no</th>\n",
       "                        <td id=\"T_d6cb6ed0_5fd6_11eb_844d_60f81dd06e70row0_col0\" class=\"data row0 col0\" >-0.00%</td>\n",
       "                        <td id=\"T_d6cb6ed0_5fd6_11eb_844d_60f81dd06e70row0_col1\" class=\"data row0 col1\" >-0.00%</td>\n",
       "                        <td id=\"T_d6cb6ed0_5fd6_11eb_844d_60f81dd06e70row0_col2\" class=\"data row0 col2\" >-0.00%</td>\n",
       "            </tr>\n",
       "            <tr>\n",
       "                        <th id=\"T_d6cb6ed0_5fd6_11eb_844d_60f81dd06e70level0_row1\" class=\"row_heading level0 row1\" >ela-net-rb-no</th>\n",
       "                        <td id=\"T_d6cb6ed0_5fd6_11eb_844d_60f81dd06e70row1_col0\" class=\"data row1 col0\" >-2.81%</td>\n",
       "                        <td id=\"T_d6cb6ed0_5fd6_11eb_844d_60f81dd06e70row1_col1\" class=\"data row1 col1\" >-4.13%</td>\n",
       "                        <td id=\"T_d6cb6ed0_5fd6_11eb_844d_60f81dd06e70row1_col2\" class=\"data row1 col2\" >-2.05%</td>\n",
       "            </tr>\n",
       "            <tr>\n",
       "                        <th id=\"T_d6cb6ed0_5fd6_11eb_844d_60f81dd06e70level0_row2\" class=\"row_heading level0 row2\" >svr-no</th>\n",
       "                        <td id=\"T_d6cb6ed0_5fd6_11eb_844d_60f81dd06e70row2_col0\" class=\"data row2 col0\" >-3.54%</td>\n",
       "                        <td id=\"T_d6cb6ed0_5fd6_11eb_844d_60f81dd06e70row2_col1\" class=\"data row2 col1\" >-6.05%</td>\n",
       "                        <td id=\"T_d6cb6ed0_5fd6_11eb_844d_60f81dd06e70row2_col2\" class=\"data row2 col2\" >-2.98%</td>\n",
       "            </tr>\n",
       "            <tr>\n",
       "                        <th id=\"T_d6cb6ed0_5fd6_11eb_844d_60f81dd06e70level0_row3\" class=\"row_heading level0 row3\" >poi-no</th>\n",
       "                        <td id=\"T_d6cb6ed0_5fd6_11eb_844d_60f81dd06e70row3_col0\" class=\"data row3 col0\" >-8.53%</td>\n",
       "                        <td id=\"T_d6cb6ed0_5fd6_11eb_844d_60f81dd06e70row3_col1\" class=\"data row3 col1\" >-9.58%</td>\n",
       "                        <td id=\"T_d6cb6ed0_5fd6_11eb_844d_60f81dd06e70row3_col2\" class=\"data row3 col2\" >-4.68%</td>\n",
       "            </tr>\n",
       "            <tr>\n",
       "                        <th id=\"T_d6cb6ed0_5fd6_11eb_844d_60f81dd06e70level0_row4\" class=\"row_heading level0 row4\" >rf-wo</th>\n",
       "                        <td id=\"T_d6cb6ed0_5fd6_11eb_844d_60f81dd06e70row4_col0\" class=\"data row4 col0\" >-10.45%</td>\n",
       "                        <td id=\"T_d6cb6ed0_5fd6_11eb_844d_60f81dd06e70row4_col1\" class=\"data row4 col1\" >-20.58%</td>\n",
       "                        <td id=\"T_d6cb6ed0_5fd6_11eb_844d_60f81dd06e70row4_col2\" class=\"data row4 col2\" >-9.81%</td>\n",
       "            </tr>\n",
       "            <tr>\n",
       "                        <th id=\"T_d6cb6ed0_5fd6_11eb_844d_60f81dd06e70level0_row5\" class=\"row_heading level0 row5\" >poi-wo</th>\n",
       "                        <td id=\"T_d6cb6ed0_5fd6_11eb_844d_60f81dd06e70row5_col0\" class=\"data row5 col0\" >-28.81%</td>\n",
       "                        <td id=\"T_d6cb6ed0_5fd6_11eb_844d_60f81dd06e70row5_col1\" class=\"data row5 col1\" >-48.89%</td>\n",
       "                        <td id=\"T_d6cb6ed0_5fd6_11eb_844d_60f81dd06e70row5_col2\" class=\"data row5 col2\" >-22.02%</td>\n",
       "            </tr>\n",
       "            <tr>\n",
       "                        <th id=\"T_d6cb6ed0_5fd6_11eb_844d_60f81dd06e70level0_row6\" class=\"row_heading level0 row6\" >ela-net-st-no</th>\n",
       "                        <td id=\"T_d6cb6ed0_5fd6_11eb_844d_60f81dd06e70row6_col0\" class=\"data row6 col0\" >-30.09%</td>\n",
       "                        <td id=\"T_d6cb6ed0_5fd6_11eb_844d_60f81dd06e70row6_col1\" class=\"data row6 col1\" >-52.44%</td>\n",
       "                        <td id=\"T_d6cb6ed0_5fd6_11eb_844d_60f81dd06e70row6_col2\" class=\"data row6 col2\" >-23.47%</td>\n",
       "            </tr>\n",
       "            <tr>\n",
       "                        <th id=\"T_d6cb6ed0_5fd6_11eb_844d_60f81dd06e70level0_row7\" class=\"row_heading level0 row7\" >ela-net-st-wo</th>\n",
       "                        <td id=\"T_d6cb6ed0_5fd6_11eb_844d_60f81dd06e70row7_col0\" class=\"data row7 col0\" >-30.09%</td>\n",
       "                        <td id=\"T_d6cb6ed0_5fd6_11eb_844d_60f81dd06e70row7_col1\" class=\"data row7 col1\" >-52.44%</td>\n",
       "                        <td id=\"T_d6cb6ed0_5fd6_11eb_844d_60f81dd06e70row7_col2\" class=\"data row7 col2\" >-23.47%</td>\n",
       "            </tr>\n",
       "            <tr>\n",
       "                        <th id=\"T_d6cb6ed0_5fd6_11eb_844d_60f81dd06e70level0_row8\" class=\"row_heading level0 row8\" >ela-net-rb-wo</th>\n",
       "                        <td id=\"T_d6cb6ed0_5fd6_11eb_844d_60f81dd06e70row8_col0\" class=\"data row8 col0\" >-30.42%</td>\n",
       "                        <td id=\"T_d6cb6ed0_5fd6_11eb_844d_60f81dd06e70row8_col1\" class=\"data row8 col1\" >-53.73%</td>\n",
       "                        <td id=\"T_d6cb6ed0_5fd6_11eb_844d_60f81dd06e70row8_col2\" class=\"data row8 col2\" >-23.99%</td>\n",
       "            </tr>\n",
       "            <tr>\n",
       "                        <th id=\"T_d6cb6ed0_5fd6_11eb_844d_60f81dd06e70level0_row9\" class=\"row_heading level0 row9\" >svr-wo</th>\n",
       "                        <td id=\"T_d6cb6ed0_5fd6_11eb_844d_60f81dd06e70row9_col0\" class=\"data row9 col0\" >-30.52%</td>\n",
       "                        <td id=\"T_d6cb6ed0_5fd6_11eb_844d_60f81dd06e70row9_col1\" class=\"data row9 col1\" >-59.79%</td>\n",
       "                        <td id=\"T_d6cb6ed0_5fd6_11eb_844d_60f81dd06e70row9_col2\" class=\"data row9 col2\" >-26.41%</td>\n",
       "            </tr>\n",
       "    </tbody></table>"
      ],
      "text/plain": [
       "<pandas.io.formats.style.Styler at 0x7fd00c21e670>"
      ]
     },
     "execution_count": 14,
     "metadata": {},
     "output_type": "execute_result"
    }
   ],
   "source": [
    "df_rmse_min.style.highlight_max(color = 'lightgrey', axis = 0).set_table_styles([{'selector': 'tr:hover','props': [('background-color', '')]}]).format('{:.2%}')"
   ]
  },
  {
   "cell_type": "markdown",
   "id": "leading-activity",
   "metadata": {},
   "source": [
    "## RMSE Performance Increment based on Worst Performance [%]"
   ]
  },
  {
   "cell_type": "code",
   "execution_count": 15,
   "id": "numerical-advisory",
   "metadata": {},
   "outputs": [],
   "source": [
    "df_rmse_max = df.apply(lambda value : abs((value/df.max())-1),axis=1)"
   ]
  },
  {
   "cell_type": "code",
   "execution_count": 16,
   "id": "standing-combat",
   "metadata": {},
   "outputs": [],
   "source": [
    "df_rmse_max = df_rmse_max.sort_values('RMSE',ascending=False)"
   ]
  },
  {
   "cell_type": "code",
   "execution_count": 17,
   "id": "flexible-render",
   "metadata": {},
   "outputs": [],
   "source": [
    "df_rmse_max.to_csv(f'./analysis/{notebook_name}-max.csv')"
   ]
  },
  {
   "cell_type": "code",
   "execution_count": 18,
   "id": "great-relations",
   "metadata": {},
   "outputs": [
    {
     "data": {
      "text/html": [
       "<style  type=\"text/css\" >\n",
       "    #T_d6e4f436_5fd6_11eb_844d_60f81dd06e70 tr:hover {\n",
       "          background-color: ;\n",
       "    }#T_d6e4f436_5fd6_11eb_844d_60f81dd06e70row0_col0,#T_d6e4f436_5fd6_11eb_844d_60f81dd06e70row0_col1,#T_d6e4f436_5fd6_11eb_844d_60f81dd06e70row0_col2{\n",
       "            background-color:  lightgrey;\n",
       "        }</style><table id=\"T_d6e4f436_5fd6_11eb_844d_60f81dd06e70\" ><thead>    <tr>        <th class=\"blank level0\" ></th>        <th class=\"col_heading level0 col0\" >MAE</th>        <th class=\"col_heading level0 col1\" >MSE</th>        <th class=\"col_heading level0 col2\" >RMSE</th>    </tr></thead><tbody>\n",
       "                <tr>\n",
       "                        <th id=\"T_d6e4f436_5fd6_11eb_844d_60f81dd06e70level0_row0\" class=\"row_heading level0 row0\" >rf-no</th>\n",
       "                        <td id=\"T_d6e4f436_5fd6_11eb_844d_60f81dd06e70row0_col0\" class=\"data row0 col0\" >23.38%</td>\n",
       "                        <td id=\"T_d6e4f436_5fd6_11eb_844d_60f81dd06e70row0_col1\" class=\"data row0 col1\" >37.42%</td>\n",
       "                        <td id=\"T_d6e4f436_5fd6_11eb_844d_60f81dd06e70row0_col2\" class=\"data row0 col2\" >20.89%</td>\n",
       "            </tr>\n",
       "            <tr>\n",
       "                        <th id=\"T_d6e4f436_5fd6_11eb_844d_60f81dd06e70level0_row1\" class=\"row_heading level0 row1\" >ela-net-rb-no</th>\n",
       "                        <td id=\"T_d6e4f436_5fd6_11eb_844d_60f81dd06e70row1_col0\" class=\"data row1 col0\" >21.23%</td>\n",
       "                        <td id=\"T_d6e4f436_5fd6_11eb_844d_60f81dd06e70row1_col1\" class=\"data row1 col1\" >34.83%</td>\n",
       "                        <td id=\"T_d6e4f436_5fd6_11eb_844d_60f81dd06e70row1_col2\" class=\"data row1 col2\" >19.27%</td>\n",
       "            </tr>\n",
       "            <tr>\n",
       "                        <th id=\"T_d6e4f436_5fd6_11eb_844d_60f81dd06e70level0_row2\" class=\"row_heading level0 row2\" >svr-no</th>\n",
       "                        <td id=\"T_d6e4f436_5fd6_11eb_844d_60f81dd06e70row2_col0\" class=\"data row2 col0\" >20.67%</td>\n",
       "                        <td id=\"T_d6e4f436_5fd6_11eb_844d_60f81dd06e70row2_col1\" class=\"data row2 col1\" >33.63%</td>\n",
       "                        <td id=\"T_d6e4f436_5fd6_11eb_844d_60f81dd06e70row2_col2\" class=\"data row2 col2\" >18.53%</td>\n",
       "            </tr>\n",
       "            <tr>\n",
       "                        <th id=\"T_d6e4f436_5fd6_11eb_844d_60f81dd06e70level0_row3\" class=\"row_heading level0 row3\" >poi-no</th>\n",
       "                        <td id=\"T_d6e4f436_5fd6_11eb_844d_60f81dd06e70row3_col0\" class=\"data row3 col0\" >16.85%</td>\n",
       "                        <td id=\"T_d6e4f436_5fd6_11eb_844d_60f81dd06e70row3_col1\" class=\"data row3 col1\" >31.42%</td>\n",
       "                        <td id=\"T_d6e4f436_5fd6_11eb_844d_60f81dd06e70row3_col2\" class=\"data row3 col2\" >17.19%</td>\n",
       "            </tr>\n",
       "            <tr>\n",
       "                        <th id=\"T_d6e4f436_5fd6_11eb_844d_60f81dd06e70level0_row4\" class=\"row_heading level0 row4\" >rf-wo</th>\n",
       "                        <td id=\"T_d6e4f436_5fd6_11eb_844d_60f81dd06e70row4_col0\" class=\"data row4 col0\" >15.38%</td>\n",
       "                        <td id=\"T_d6e4f436_5fd6_11eb_844d_60f81dd06e70row4_col1\" class=\"data row4 col1\" >24.53%</td>\n",
       "                        <td id=\"T_d6e4f436_5fd6_11eb_844d_60f81dd06e70row4_col2\" class=\"data row4 col2\" >13.13%</td>\n",
       "            </tr>\n",
       "            <tr>\n",
       "                        <th id=\"T_d6e4f436_5fd6_11eb_844d_60f81dd06e70level0_row5\" class=\"row_heading level0 row5\" >poi-wo</th>\n",
       "                        <td id=\"T_d6e4f436_5fd6_11eb_844d_60f81dd06e70row5_col0\" class=\"data row5 col0\" >1.31%</td>\n",
       "                        <td id=\"T_d6e4f436_5fd6_11eb_844d_60f81dd06e70row5_col1\" class=\"data row5 col1\" >6.82%</td>\n",
       "                        <td id=\"T_d6e4f436_5fd6_11eb_844d_60f81dd06e70row5_col2\" class=\"data row5 col2\" >3.47%</td>\n",
       "            </tr>\n",
       "            <tr>\n",
       "                        <th id=\"T_d6e4f436_5fd6_11eb_844d_60f81dd06e70level0_row6\" class=\"row_heading level0 row6\" >ela-net-st-no</th>\n",
       "                        <td id=\"T_d6e4f436_5fd6_11eb_844d_60f81dd06e70row6_col0\" class=\"data row6 col0\" >0.33%</td>\n",
       "                        <td id=\"T_d6e4f436_5fd6_11eb_844d_60f81dd06e70row6_col1\" class=\"data row6 col1\" >4.60%</td>\n",
       "                        <td id=\"T_d6e4f436_5fd6_11eb_844d_60f81dd06e70row6_col2\" class=\"data row6 col2\" >2.33%</td>\n",
       "            </tr>\n",
       "            <tr>\n",
       "                        <th id=\"T_d6e4f436_5fd6_11eb_844d_60f81dd06e70level0_row7\" class=\"row_heading level0 row7\" >ela-net-st-wo</th>\n",
       "                        <td id=\"T_d6e4f436_5fd6_11eb_844d_60f81dd06e70row7_col0\" class=\"data row7 col0\" >0.33%</td>\n",
       "                        <td id=\"T_d6e4f436_5fd6_11eb_844d_60f81dd06e70row7_col1\" class=\"data row7 col1\" >4.60%</td>\n",
       "                        <td id=\"T_d6e4f436_5fd6_11eb_844d_60f81dd06e70row7_col2\" class=\"data row7 col2\" >2.33%</td>\n",
       "            </tr>\n",
       "            <tr>\n",
       "                        <th id=\"T_d6e4f436_5fd6_11eb_844d_60f81dd06e70level0_row8\" class=\"row_heading level0 row8\" >ela-net-rb-wo</th>\n",
       "                        <td id=\"T_d6e4f436_5fd6_11eb_844d_60f81dd06e70row8_col0\" class=\"data row8 col0\" >0.08%</td>\n",
       "                        <td id=\"T_d6e4f436_5fd6_11eb_844d_60f81dd06e70row8_col1\" class=\"data row8 col1\" >3.79%</td>\n",
       "                        <td id=\"T_d6e4f436_5fd6_11eb_844d_60f81dd06e70row8_col2\" class=\"data row8 col2\" >1.91%</td>\n",
       "            </tr>\n",
       "            <tr>\n",
       "                        <th id=\"T_d6e4f436_5fd6_11eb_844d_60f81dd06e70level0_row9\" class=\"row_heading level0 row9\" >svr-wo</th>\n",
       "                        <td id=\"T_d6e4f436_5fd6_11eb_844d_60f81dd06e70row9_col0\" class=\"data row9 col0\" >0.00%</td>\n",
       "                        <td id=\"T_d6e4f436_5fd6_11eb_844d_60f81dd06e70row9_col1\" class=\"data row9 col1\" >0.00%</td>\n",
       "                        <td id=\"T_d6e4f436_5fd6_11eb_844d_60f81dd06e70row9_col2\" class=\"data row9 col2\" >0.00%</td>\n",
       "            </tr>\n",
       "    </tbody></table>"
      ],
      "text/plain": [
       "<pandas.io.formats.style.Styler at 0x7fd00c210490>"
      ]
     },
     "execution_count": 18,
     "metadata": {},
     "output_type": "execute_result"
    }
   ],
   "source": [
    "df_rmse_max.style.highlight_max(color = 'lightgrey', axis = 0).set_table_styles([{'selector': 'tr:hover','props': [('background-color', '')]}]).format('{:.2%}')\n",
    "# the information in this table is not that meaningful / useful"
   ]
  },
  {
   "cell_type": "markdown",
   "id": "temporal-future",
   "metadata": {},
   "source": [
    "# Visualization"
   ]
  },
  {
   "cell_type": "code",
   "execution_count": 23,
   "id": "essential-utilization",
   "metadata": {},
   "outputs": [
    {
     "data": {
      "image/png": "[encoded data removed]",
      "text/plain": [
       "<Figure size 432x288 with 1 Axes>"
      ]
     },
     "metadata": {},
     "output_type": "display_data"
    }
   ],
   "source": [
    "# plt.figure(figsize=(10,8),dpi=200)\n",
    "\n",
    "ax = sns.barplot(data=df_rmse, x='RMSE',y=df_rmse.index, palette='mako')\n",
    "show_values_on_bars(ax, \"h\", 0.1)\n",
    "ax.set(ylabel='Model',xlabel='RMSE [MBit/s]')\n",
    "ax.tick_params(axis=u'both', which=u'both',length=0)\n",
    "\n",
    "ax.set_title('Opt Model RMSE (Holdout Test)');\n",
    "\n",
    "# ax.set_title('Opt Model RMSE (Holdout Test)', fontsize=14,fontweight='bold');\n",
    "# \n",
    "# plt.savefig('dl-holdout-abs.png')"
   ]
  },
  {
   "cell_type": "code",
   "execution_count": 20,
   "id": "cutting-mexico",
   "metadata": {},
   "outputs": [
    {
     "data": {
      "image/png": "[encoded data removed]",
      "text/plain": [
       "<Figure size 432x288 with 1 Axes>"
      ]
     },
     "metadata": {},
     "output_type": "display_data"
    }
   ],
   "source": [
    "# plt.figure(figsize=(10,8),dpi=200)\n",
    "\n",
    "ax = sns.barplot(data=df_rmse_min,x='RMSE',y=df_rmse_min.index,palette='mako')\n",
    "\n",
    "ax.set(ylabel='Model',xlabel='RMSE Performance Decline [%]')\n",
    "\n",
    "ax.yaxis.set_label_position(\"right\")\n",
    "ax.yaxis.set_ticks_position(\"right\")\n",
    "ax.tick_params(axis=u'both', which=u'both',length=0)\n",
    "\n",
    "show_values_on_bars(ax,\"h\",0.001,True,True)\n",
    "\n",
    "ax.set_title('Opt Model RMSE Perfomance Decline based on Best Performance (Holdout Test)');\n",
    "\n",
    "# ax.set_title('Opt Model RMSE Perfomance Decline based on Best Performance (Holdout Test)', fontsize=14,fontweight='bold');\n",
    "\n",
    "# plt.savefig('dl-holdout-result.png')"
   ]
  },
  {
   "cell_type": "code",
   "execution_count": 21,
   "id": "important-tournament",
   "metadata": {},
   "outputs": [
    {
     "data": {
      "image/png": "[encoded data removed]",
      "text/plain": [
       "<Figure size 432x288 with 1 Axes>"
      ]
     },
     "metadata": {},
     "output_type": "display_data"
    }
   ],
   "source": [
    "ax = sns.barplot(data=df_rmse_max,x='RMSE',y=df_rmse_max.index,palette='mako')\n",
    "show_values_on_bars(ax,\"h\",0.001,True)\n",
    "\n",
    "ax.tick_params(axis=u'both', which=u'both',length=0)\n",
    "\n",
    "ax.set(ylabel='Model',xlabel='RMSE Performance Increment [%]')\n",
    "\n",
    "ax.set_title('Opt Model RMSE Perfomance Increment based on Worst Performance (Holdout Test)');"
   ]
  },
  {
   "cell_type": "code",
   "execution_count": null,
   "id": "vertical-suffering",
   "metadata": {},
   "outputs": [],
   "source": []
  },
  {
   "cell_type": "markdown",
   "id": "scenic-memphis",
   "metadata": {},
   "source": [
    "DONE!"
   ]
  }
 ],
 "metadata": {
  "kernelspec": {
   "display_name": "Python 3",
   "language": "python",
   "name": "python3"
  },
  "language_info": {
   "codemirror_mode": {
    "name": "ipython",
    "version": 3
   },
   "file_extension": ".py",
   "mimetype": "text/x-python",
   "name": "python",
   "nbconvert_exporter": "python",
   "pygments_lexer": "ipython3",
   "version": "3.8.6"
  }
 },
 "nbformat": 4,
 "nbformat_minor": 5
}
