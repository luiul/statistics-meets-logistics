{
 "cells": [
  {
   "cell_type": "code",
   "execution_count": 1,
   "id": "least-frontier",
   "metadata": {},
   "outputs": [],
   "source": [
    "model_name = 'LinReg'"
   ]
  },
  {
   "cell_type": "markdown",
   "id": "decreased-concept",
   "metadata": {},
   "source": [
    "# Import Libraries & Data "
   ]
  },
  {
   "cell_type": "code",
   "execution_count": 2,
   "id": "rental-latex",
   "metadata": {},
   "outputs": [],
   "source": [
    "import numpy as np\n",
    "import pandas as pd\n",
    "import matplotlib.pyplot as plt\n",
    "import seaborn as sns"
   ]
  },
  {
   "cell_type": "code",
   "execution_count": 3,
   "id": "alive-yesterday",
   "metadata": {},
   "outputs": [],
   "source": [
    "df = pd.read_csv('./data/dl-pfe-ns.csv')\n",
    "X = df.drop('throughput',axis=1)\n",
    "y = df['throughput']"
   ]
  },
  {
   "cell_type": "markdown",
   "id": "rough-modification",
   "metadata": {},
   "source": [
    "---"
   ]
  },
  {
   "cell_type": "markdown",
   "id": "rough-lightweight",
   "metadata": {},
   "source": [
    "# Scale Data"
   ]
  },
  {
   "cell_type": "code",
   "execution_count": 4,
   "id": "endless-smart",
   "metadata": {},
   "outputs": [
    {
     "data": {
      "text/plain": [
       "StandardScaler()"
      ]
     },
     "execution_count": 4,
     "metadata": {},
     "output_type": "execute_result"
    }
   ],
   "source": [
    "# Split the data\n",
    "from sklearn.model_selection import train_test_split\n",
    "X_train, X_test, y_train, y_test = train_test_split(X, y, test_size=0.33, random_state=42)\n",
    "\n",
    "# Scale the data\n",
    "from sklearn.preprocessing import StandardScaler\n",
    "scaler = StandardScaler()\n",
    "scaler.fit(X_train)"
   ]
  },
  {
   "cell_type": "code",
   "execution_count": 5,
   "id": "departmental-expense",
   "metadata": {},
   "outputs": [],
   "source": [
    "X_train = scaler.transform(X_train)\n",
    "X_test = scaler.transform(X_test)"
   ]
  },
  {
   "cell_type": "markdown",
   "id": "prime-brass",
   "metadata": {},
   "source": [
    "# Determine Hyperparameters"
   ]
  },
  {
   "cell_type": "code",
   "execution_count": 21,
   "id": "early-album",
   "metadata": {},
   "outputs": [],
   "source": [
    "# no relevant hyperparameters"
   ]
  },
  {
   "cell_type": "markdown",
   "id": "numerous-phase",
   "metadata": {},
   "source": [
    "# Score Model"
   ]
  },
  {
   "cell_type": "code",
   "execution_count": 7,
   "id": "charming-sociology",
   "metadata": {},
   "outputs": [
    {
     "data": {
      "text/plain": [
       "LinearRegression()"
      ]
     },
     "execution_count": 7,
     "metadata": {},
     "output_type": "execute_result"
    }
   ],
   "source": [
    "# MODIFY! \n",
    "from sklearn.linear_model import LinearRegression\n",
    "\n",
    "score_model = LinearRegression()\n",
    "score_model"
   ]
  },
  {
   "cell_type": "code",
   "execution_count": 8,
   "id": "assigned-certificate",
   "metadata": {},
   "outputs": [],
   "source": [
    "from sklearn.model_selection import cross_validate\n",
    "\n",
    "scores = cross_validate(\n",
    "    score_model, \n",
    "    X_train, \n",
    "    y_train,\n",
    "    scoring=[\n",
    "        'neg_mean_absolute_error',\n",
    "        'neg_mean_squared_error',\n",
    "        'neg_root_mean_squared_error'\n",
    "    ],\n",
    "    cv=10\n",
    ")"
   ]
  },
  {
   "cell_type": "code",
   "execution_count": 9,
   "id": "extraordinary-basketball",
   "metadata": {},
   "outputs": [],
   "source": [
    "scores = pd.DataFrame(scores)"
   ]
  },
  {
   "cell_type": "code",
   "execution_count": 10,
   "id": "delayed-housing",
   "metadata": {},
   "outputs": [
    {
     "data": {
      "text/html": [
       "<div>\n",
       "<style scoped>\n",
       "    .dataframe tbody tr th:only-of-type {\n",
       "        vertical-align: middle;\n",
       "    }\n",
       "\n",
       "    .dataframe tbody tr th {\n",
       "        vertical-align: top;\n",
       "    }\n",
       "\n",
       "    .dataframe thead th {\n",
       "        text-align: right;\n",
       "    }\n",
       "</style>\n",
       "<table border=\"1\" class=\"dataframe\">\n",
       "  <thead>\n",
       "    <tr style=\"text-align: right;\">\n",
       "      <th></th>\n",
       "      <th>fit_time</th>\n",
       "      <th>score_time</th>\n",
       "      <th>test_neg_mean_absolute_error</th>\n",
       "      <th>test_neg_mean_squared_error</th>\n",
       "      <th>test_neg_root_mean_squared_error</th>\n",
       "    </tr>\n",
       "  </thead>\n",
       "  <tbody>\n",
       "    <tr>\n",
       "      <th>0</th>\n",
       "      <td>0.022484</td>\n",
       "      <td>0.002524</td>\n",
       "      <td>-3.253968e+12</td>\n",
       "      <td>-9.938110e+26</td>\n",
       "      <td>-3.152477e+13</td>\n",
       "    </tr>\n",
       "    <tr>\n",
       "      <th>1</th>\n",
       "      <td>0.007580</td>\n",
       "      <td>0.002004</td>\n",
       "      <td>-8.476477e+12</td>\n",
       "      <td>-9.556138e+27</td>\n",
       "      <td>-9.775550e+13</td>\n",
       "    </tr>\n",
       "    <tr>\n",
       "      <th>2</th>\n",
       "      <td>0.008736</td>\n",
       "      <td>0.001917</td>\n",
       "      <td>-3.053557e+00</td>\n",
       "      <td>-1.618157e+01</td>\n",
       "      <td>-4.022633e+00</td>\n",
       "    </tr>\n",
       "    <tr>\n",
       "      <th>3</th>\n",
       "      <td>0.017701</td>\n",
       "      <td>0.001522</td>\n",
       "      <td>-3.442376e+00</td>\n",
       "      <td>-1.924368e+01</td>\n",
       "      <td>-4.386762e+00</td>\n",
       "    </tr>\n",
       "    <tr>\n",
       "      <th>4</th>\n",
       "      <td>0.008152</td>\n",
       "      <td>0.001615</td>\n",
       "      <td>-2.255361e+13</td>\n",
       "      <td>-6.714383e+28</td>\n",
       "      <td>-2.591213e+14</td>\n",
       "    </tr>\n",
       "    <tr>\n",
       "      <th>5</th>\n",
       "      <td>0.007773</td>\n",
       "      <td>0.002026</td>\n",
       "      <td>-3.610739e+00</td>\n",
       "      <td>-2.314520e+01</td>\n",
       "      <td>-4.810946e+00</td>\n",
       "    </tr>\n",
       "    <tr>\n",
       "      <th>6</th>\n",
       "      <td>0.007589</td>\n",
       "      <td>0.001535</td>\n",
       "      <td>-3.356298e+00</td>\n",
       "      <td>-1.850420e+01</td>\n",
       "      <td>-4.301651e+00</td>\n",
       "    </tr>\n",
       "    <tr>\n",
       "      <th>7</th>\n",
       "      <td>0.007440</td>\n",
       "      <td>0.001681</td>\n",
       "      <td>-3.095243e+00</td>\n",
       "      <td>-1.578688e+01</td>\n",
       "      <td>-3.973270e+00</td>\n",
       "    </tr>\n",
       "    <tr>\n",
       "      <th>8</th>\n",
       "      <td>0.007823</td>\n",
       "      <td>0.001629</td>\n",
       "      <td>-2.750448e+00</td>\n",
       "      <td>-1.290628e+01</td>\n",
       "      <td>-3.592532e+00</td>\n",
       "    </tr>\n",
       "    <tr>\n",
       "      <th>9</th>\n",
       "      <td>0.007656</td>\n",
       "      <td>0.001520</td>\n",
       "      <td>-2.932627e+00</td>\n",
       "      <td>-1.637054e+01</td>\n",
       "      <td>-4.046052e+00</td>\n",
       "    </tr>\n",
       "  </tbody>\n",
       "</table>\n",
       "</div>"
      ],
      "text/plain": [
       "   fit_time  score_time  test_neg_mean_absolute_error  \\\n",
       "0  0.022484    0.002524                 -3.253968e+12   \n",
       "1  0.007580    0.002004                 -8.476477e+12   \n",
       "2  0.008736    0.001917                 -3.053557e+00   \n",
       "3  0.017701    0.001522                 -3.442376e+00   \n",
       "4  0.008152    0.001615                 -2.255361e+13   \n",
       "5  0.007773    0.002026                 -3.610739e+00   \n",
       "6  0.007589    0.001535                 -3.356298e+00   \n",
       "7  0.007440    0.001681                 -3.095243e+00   \n",
       "8  0.007823    0.001629                 -2.750448e+00   \n",
       "9  0.007656    0.001520                 -2.932627e+00   \n",
       "\n",
       "   test_neg_mean_squared_error  test_neg_root_mean_squared_error  \n",
       "0                -9.938110e+26                     -3.152477e+13  \n",
       "1                -9.556138e+27                     -9.775550e+13  \n",
       "2                -1.618157e+01                     -4.022633e+00  \n",
       "3                -1.924368e+01                     -4.386762e+00  \n",
       "4                -6.714383e+28                     -2.591213e+14  \n",
       "5                -2.314520e+01                     -4.810946e+00  \n",
       "6                -1.850420e+01                     -4.301651e+00  \n",
       "7                -1.578688e+01                     -3.973270e+00  \n",
       "8                -1.290628e+01                     -3.592532e+00  \n",
       "9                -1.637054e+01                     -4.046052e+00  "
      ]
     },
     "execution_count": 10,
     "metadata": {},
     "output_type": "execute_result"
    }
   ],
   "source": [
    "scores"
   ]
  },
  {
   "cell_type": "code",
   "execution_count": 11,
   "id": "organic-rabbit",
   "metadata": {},
   "outputs": [],
   "source": [
    "mean_scores = scores.mean()"
   ]
  },
  {
   "cell_type": "code",
   "execution_count": 12,
   "id": "altered-stroke",
   "metadata": {},
   "outputs": [
    {
     "data": {
      "text/plain": [
       "fit_time                            1.029341e-02\n",
       "score_time                          1.797271e-03\n",
       "test_neg_mean_absolute_error       -3.428406e+12\n",
       "test_neg_mean_squared_error        -7.769378e+27\n",
       "test_neg_root_mean_squared_error   -3.884015e+13\n",
       "dtype: float64"
      ]
     },
     "execution_count": 12,
     "metadata": {},
     "output_type": "execute_result"
    }
   ],
   "source": [
    "mean_scores"
   ]
  },
  {
   "cell_type": "markdown",
   "id": "christian-dependence",
   "metadata": {},
   "source": [
    "# Export Scores"
   ]
  },
  {
   "cell_type": "code",
   "execution_count": 13,
   "id": "refined-wayne",
   "metadata": {},
   "outputs": [],
   "source": [
    "mean_scores = mean_scores.rename(f'{model_name}')"
   ]
  },
  {
   "cell_type": "code",
   "execution_count": 14,
   "id": "declared-aquatic",
   "metadata": {},
   "outputs": [],
   "source": [
    "mean_scores[[2,3,4]] = mean_scores[[2,3,4]].apply(abs)"
   ]
  },
  {
   "cell_type": "code",
   "execution_count": 15,
   "id": "worse-farmer",
   "metadata": {},
   "outputs": [],
   "source": [
    "# mean_scores"
   ]
  },
  {
   "cell_type": "code",
   "execution_count": 16,
   "id": "veterinary-romantic",
   "metadata": {},
   "outputs": [],
   "source": [
    "mean_scores = mean_scores.rename({\n",
    "    'fit_time':'Fit Time',\n",
    "    'score_time':'Score Time',\n",
    "    'test_neg_mean_absolute_error':'MAE',\n",
    "    'test_neg_mean_squared_error':'MSE',\n",
    "    'test_neg_root_mean_squared_error':'RMSE'\n",
    "})"
   ]
  },
  {
   "cell_type": "code",
   "execution_count": 17,
   "id": "engaging-partner",
   "metadata": {},
   "outputs": [
    {
     "data": {
      "text/plain": [
       "Fit Time      1.029341e-02\n",
       "Score Time    1.797271e-03\n",
       "MAE           3.428406e+12\n",
       "MSE           7.769378e+27\n",
       "RMSE          3.884015e+13\n",
       "Name: LinReg, dtype: float64"
      ]
     },
     "execution_count": 17,
     "metadata": {},
     "output_type": "execute_result"
    }
   ],
   "source": [
    "mean_scores"
   ]
  },
  {
   "cell_type": "code",
   "execution_count": 18,
   "id": "designing-jerusalem",
   "metadata": {},
   "outputs": [],
   "source": [
    "mean_scores['STD FT'] = scores.fit_time.std()\n",
    "mean_scores['STD ST'] = scores.score_time.std()\n",
    "mean_scores['STD MAE'] = scores.test_neg_mean_absolute_error.std()\n",
    "mean_scores['STD MSE'] = scores.test_neg_mean_squared_error.std()\n",
    "mean_scores['STD RMSE'] = scores.test_neg_root_mean_squared_error.std()"
   ]
  },
  {
   "cell_type": "code",
   "execution_count": 19,
   "id": "intensive-young",
   "metadata": {},
   "outputs": [
    {
     "data": {
      "text/plain": [
       "Fit Time      1.029341e-02\n",
       "Score Time    1.797271e-03\n",
       "MAE           3.428406e+12\n",
       "MSE           7.769378e+27\n",
       "RMSE          3.884015e+13\n",
       "STD FT        5.299139e-03\n",
       "STD ST        3.221190e-04\n",
       "STD MAE       7.253847e+12\n",
       "STD MSE       2.107386e+28\n",
       "STD RMSE      8.340544e+13\n",
       "Name: LinReg, dtype: float64"
      ]
     },
     "execution_count": 19,
     "metadata": {},
     "output_type": "execute_result"
    }
   ],
   "source": [
    "mean_scores\n",
    "# we don't further consider a linear regression model based on the cross validated performance"
   ]
  },
  {
   "cell_type": "code",
   "execution_count": 20,
   "id": "occasional-animal",
   "metadata": {},
   "outputs": [],
   "source": [
    "mean_scores.to_csv(f'./scores/{model_name}_score.csv')"
   ]
  },
  {
   "cell_type": "markdown",
   "id": "negative-detail",
   "metadata": {},
   "source": [
    "# Export Optimized Model"
   ]
  },
  {
   "cell_type": "code",
   "execution_count": 22,
   "id": "inclusive-chapel",
   "metadata": {},
   "outputs": [],
   "source": [
    "# we do not consider a linera regression model based on the cross validated performance"
   ]
  },
  {
   "cell_type": "markdown",
   "id": "present-wilson",
   "metadata": {},
   "source": [
    "DONE!"
   ]
  },
  {
   "cell_type": "code",
   "execution_count": null,
   "id": "deluxe-creek",
   "metadata": {},
   "outputs": [],
   "source": []
  }
 ],
 "metadata": {
  "kernelspec": {
   "display_name": "Python 3",
   "language": "python",
   "name": "python3"
  },
  "language_info": {
   "codemirror_mode": {
    "name": "ipython",
    "version": 3
   },
   "file_extension": ".py",
   "mimetype": "text/x-python",
   "name": "python",
   "nbconvert_exporter": "python",
   "pygments_lexer": "ipython3",
   "version": "3.8.6"
  }
 },
 "nbformat": 4,
 "nbformat_minor": 5
}
