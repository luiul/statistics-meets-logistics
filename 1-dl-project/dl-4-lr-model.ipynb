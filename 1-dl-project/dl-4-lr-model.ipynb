{
 "cells": [
  {
   "cell_type": "code",
   "execution_count": 1,
   "metadata": {},
   "outputs": [],
   "source": [
    "import numpy as np\n",
    "import pandas as pd\n",
    "import matplotlib.pyplot as plt\n",
    "import seaborn as sns"
   ]
  },
  {
   "cell_type": "code",
   "execution_count": 2,
   "metadata": {},
   "outputs": [],
   "source": [
    "pd.set_option('display.max_columns',None)"
   ]
  },
  {
   "cell_type": "code",
   "execution_count": 3,
   "metadata": {},
   "outputs": [],
   "source": [
    "df = pd.read_csv('./data/dl-pfe-ns.csv')"
   ]
  },
  {
   "cell_type": "code",
   "execution_count": 4,
   "metadata": {},
   "outputs": [],
   "source": [
    "# df.columns"
   ]
  },
  {
   "cell_type": "code",
   "execution_count": 5,
   "metadata": {},
   "outputs": [],
   "source": [
    "# df.head()"
   ]
  },
  {
   "cell_type": "code",
   "execution_count": 6,
   "metadata": {},
   "outputs": [
    {
     "data": {
      "text/plain": [
       "(1976, 81)"
      ]
     },
     "execution_count": 6,
     "metadata": {},
     "output_type": "execute_result"
    }
   ],
   "source": [
    "df.shape"
   ]
  },
  {
   "cell_type": "code",
   "execution_count": 7,
   "metadata": {},
   "outputs": [],
   "source": [
    "# df.info()"
   ]
  },
  {
   "cell_type": "code",
   "execution_count": 8,
   "metadata": {},
   "outputs": [],
   "source": [
    "X = df.drop('throughput',axis=1)"
   ]
  },
  {
   "cell_type": "code",
   "execution_count": 9,
   "metadata": {},
   "outputs": [
    {
     "data": {
      "text/plain": [
       "(1976, 80)"
      ]
     },
     "execution_count": 9,
     "metadata": {},
     "output_type": "execute_result"
    }
   ],
   "source": [
    "X.shape"
   ]
  },
  {
   "cell_type": "code",
   "execution_count": 10,
   "metadata": {},
   "outputs": [],
   "source": [
    "y = df['throughput']"
   ]
  },
  {
   "cell_type": "code",
   "execution_count": 11,
   "metadata": {},
   "outputs": [
    {
     "data": {
      "text/plain": [
       "(1976,)"
      ]
     },
     "execution_count": 11,
     "metadata": {},
     "output_type": "execute_result"
    }
   ],
   "source": [
    "y.shape"
   ]
  },
  {
   "cell_type": "code",
   "execution_count": 12,
   "metadata": {},
   "outputs": [],
   "source": [
    "# Split the data\n",
    "from sklearn.model_selection import train_test_split\n",
    "X_train, X_test, y_train, y_test = train_test_split(X, y, test_size=0.33, random_state=42)\n",
    "\n",
    "# Scale the data\n",
    "from sklearn.preprocessing import StandardScaler\n",
    "scaler = StandardScaler()\n",
    "scaler.fit(X_train)\n",
    "\n",
    "X_train = scaler.transform(X_train)\n",
    "X_test = scaler.transform(X_test)\n",
    "\n",
    "# Instantiate & fit model\n",
    "from sklearn.linear_model import LinearRegression\n",
    "model = LinearRegression()\n",
    "model.fit(X_train, y_train)\n",
    "\n",
    "# Predictions\n",
    "y_pred = model.predict(X_test)\n",
    "\n",
    "# Err stats\n",
    "from sklearn.metrics import mean_absolute_error, mean_squared_error\n",
    "\n",
    "mae = mean_absolute_error(y_test,y_pred)\n",
    "mse = mean_squared_error(y_test,y_pred)\n",
    "rmse = np.sqrt(mse)"
   ]
  },
  {
   "cell_type": "code",
   "execution_count": 13,
   "metadata": {},
   "outputs": [
    {
     "data": {
      "text/plain": [
       "3.116231376587881"
      ]
     },
     "execution_count": 13,
     "metadata": {},
     "output_type": "execute_result"
    }
   ],
   "source": [
    "mae"
   ]
  },
  {
   "cell_type": "code",
   "execution_count": 14,
   "metadata": {},
   "outputs": [
    {
     "data": {
      "text/plain": [
       "16.914032974388952"
      ]
     },
     "execution_count": 14,
     "metadata": {},
     "output_type": "execute_result"
    }
   ],
   "source": [
    "mse"
   ]
  },
  {
   "cell_type": "code",
   "execution_count": 15,
   "metadata": {},
   "outputs": [
    {
     "data": {
      "text/plain": [
       "4.112667379498244"
      ]
     },
     "execution_count": 15,
     "metadata": {},
     "output_type": "execute_result"
    }
   ],
   "source": [
    "rmse"
   ]
  },
  {
   "cell_type": "code",
   "execution_count": 16,
   "metadata": {},
   "outputs": [
    {
     "data": {
      "text/html": [
       "<div>\n",
       "<style scoped>\n",
       "    .dataframe tbody tr th:only-of-type {\n",
       "        vertical-align: middle;\n",
       "    }\n",
       "\n",
       "    .dataframe tbody tr th {\n",
       "        vertical-align: top;\n",
       "    }\n",
       "\n",
       "    .dataframe thead th {\n",
       "        text-align: right;\n",
       "    }\n",
       "</style>\n",
       "<table border=\"1\" class=\"dataframe\">\n",
       "  <thead>\n",
       "    <tr style=\"text-align: right;\">\n",
       "      <th></th>\n",
       "      <th>LR</th>\n",
       "    </tr>\n",
       "  </thead>\n",
       "  <tbody>\n",
       "    <tr>\n",
       "      <th>MAE</th>\n",
       "      <td>3.116231</td>\n",
       "    </tr>\n",
       "    <tr>\n",
       "      <th>MSE</th>\n",
       "      <td>16.914033</td>\n",
       "    </tr>\n",
       "    <tr>\n",
       "      <th>RMSE</th>\n",
       "      <td>4.112667</td>\n",
       "    </tr>\n",
       "  </tbody>\n",
       "</table>\n",
       "</div>"
      ],
      "text/plain": [
       "             LR\n",
       "MAE    3.116231\n",
       "MSE   16.914033\n",
       "RMSE   4.112667"
      ]
     },
     "execution_count": 16,
     "metadata": {},
     "output_type": "execute_result"
    }
   ],
   "source": [
    "err_df = pd.DataFrame(data=[mae, mse, rmse],index=['MAE','MSE','RMSE'],columns=['LR'])\n",
    "err_df"
   ]
  },
  {
   "cell_type": "code",
   "execution_count": 17,
   "metadata": {},
   "outputs": [],
   "source": [
    "err_df.to_csv('./test-err/lin-test-err.csv')"
   ]
  },
  {
   "cell_type": "code",
   "execution_count": 18,
   "metadata": {},
   "outputs": [
    {
     "data": {
      "text/html": [
       "<div>\n",
       "<style scoped>\n",
       "    .dataframe tbody tr th:only-of-type {\n",
       "        vertical-align: middle;\n",
       "    }\n",
       "\n",
       "    .dataframe tbody tr th {\n",
       "        vertical-align: top;\n",
       "    }\n",
       "\n",
       "    .dataframe thead th {\n",
       "        text-align: right;\n",
       "    }\n",
       "</style>\n",
       "<table border=\"1\" class=\"dataframe\">\n",
       "  <thead>\n",
       "    <tr style=\"text-align: right;\">\n",
       "      <th></th>\n",
       "      <th>throughput_pred</th>\n",
       "    </tr>\n",
       "  </thead>\n",
       "  <tbody>\n",
       "    <tr>\n",
       "      <th>mean</th>\n",
       "      <td>13.509070</td>\n",
       "    </tr>\n",
       "    <tr>\n",
       "      <th>std</th>\n",
       "      <td>6.011468</td>\n",
       "    </tr>\n",
       "    <tr>\n",
       "      <th>min</th>\n",
       "      <td>-1.625640</td>\n",
       "    </tr>\n",
       "    <tr>\n",
       "      <th>25%</th>\n",
       "      <td>9.000431</td>\n",
       "    </tr>\n",
       "    <tr>\n",
       "      <th>50%</th>\n",
       "      <td>13.264347</td>\n",
       "    </tr>\n",
       "    <tr>\n",
       "      <th>75%</th>\n",
       "      <td>18.133022</td>\n",
       "    </tr>\n",
       "    <tr>\n",
       "      <th>max</th>\n",
       "      <td>27.067719</td>\n",
       "    </tr>\n",
       "  </tbody>\n",
       "</table>\n",
       "</div>"
      ],
      "text/plain": [
       "      throughput_pred\n",
       "mean        13.509070\n",
       "std          6.011468\n",
       "min         -1.625640\n",
       "25%          9.000431\n",
       "50%         13.264347\n",
       "75%         18.133022\n",
       "max         27.067719"
      ]
     },
     "execution_count": 18,
     "metadata": {},
     "output_type": "execute_result"
    }
   ],
   "source": [
    "y_pred_df = pd.DataFrame(y_pred, columns=['throughput_pred'])\n",
    "y_pred_df.describe().drop('count')\n",
    "# negative predictions are outside the range! "
   ]
  },
  {
   "cell_type": "code",
   "execution_count": 19,
   "metadata": {},
   "outputs": [
    {
     "data": {
      "text/plain": [
       "array([-1.43836105, -1.37271517, -1.62563966, -0.54070028])"
      ]
     },
     "execution_count": 19,
     "metadata": {},
     "output_type": "execute_result"
    }
   ],
   "source": [
    "y_pred[y_pred < 0]\n",
    "# model generates four negative predictions -> make predicition in two steps: (1) generate prediction with the model (2) set negative values to zero"
   ]
  },
  {
   "cell_type": "code",
   "execution_count": 20,
   "metadata": {},
   "outputs": [
    {
     "data": {
      "text/plain": [
       "0.6125574272588056"
      ]
     },
     "execution_count": 20,
     "metadata": {},
     "output_type": "execute_result"
    }
   ],
   "source": [
    "len(y_pred[y_pred < 0])/len(y_pred_df)*100"
   ]
  },
  {
   "cell_type": "code",
   "execution_count": 21,
   "metadata": {},
   "outputs": [
    {
     "data": {
      "text/plain": [
       "<AxesSubplot:ylabel='Count'>"
      ]
     },
     "execution_count": 21,
     "metadata": {},
     "output_type": "execute_result"
    },
    {
     "data": {
      "image/png": "[encoded data removed]",
      "text/plain": [
       "<Figure size 432x288 with 1 Axes>"
      ]
     },
     "metadata": {
      "needs_background": "light"
     },
     "output_type": "display_data"
    }
   ],
   "source": [
    "sns.histplot(y_pred,bins=40,kde=True)\n",
    "# the predictions are distributed normally, although we noted at the beginning of the project that the throughput is not distributed normally but rather exponentially"
   ]
  },
  {
   "cell_type": "code",
   "execution_count": 22,
   "metadata": {},
   "outputs": [],
   "source": [
    "# y.describe().drop(['count'])"
   ]
  },
  {
   "cell_type": "code",
   "execution_count": 23,
   "metadata": {},
   "outputs": [
    {
     "data": {
      "text/plain": [
       "mean    -0.078811\n",
       "std      4.115064\n",
       "min    -13.669982\n",
       "25%     -2.734615\n",
       "50%     -0.249554\n",
       "75%      2.185352\n",
       "max     16.153983\n",
       "Name: throughput, dtype: float64"
      ]
     },
     "execution_count": 23,
     "metadata": {},
     "output_type": "execute_result"
    }
   ],
   "source": [
    "res = y_test - y_pred\n",
    "res.describe().drop('count')"
   ]
  },
  {
   "cell_type": "code",
   "execution_count": 24,
   "metadata": {},
   "outputs": [
    {
     "data": {
      "text/plain": [
       "<AxesSubplot:xlabel='throughput', ylabel='Count'>"
      ]
     },
     "execution_count": 24,
     "metadata": {},
     "output_type": "execute_result"
    },
    {
     "data": {
      "image/png": "[encoded data removed]",
      "text/plain": [
       "<Figure size 432x288 with 1 Axes>"
      ]
     },
     "metadata": {
      "needs_background": "light"
     },
     "output_type": "display_data"
    }
   ],
   "source": [
    "sns.histplot(data=res, kde=True,bins=40)"
   ]
  },
  {
   "cell_type": "code",
   "execution_count": 25,
   "metadata": {},
   "outputs": [
    {
     "data": {
      "text/plain": [
       "<matplotlib.lines.Line2D at 0x7fc43f1c08b0>"
      ]
     },
     "execution_count": 25,
     "metadata": {},
     "output_type": "execute_result"
    },
    {
     "data": {
      "image/png": "[encoded data removed]",
      "text/plain": [
       "<Figure size 432x288 with 1 Axes>"
      ]
     },
     "metadata": {
      "needs_background": "light"
     },
     "output_type": "display_data"
    }
   ],
   "source": [
    "ax = sns.scatterplot(x=y_test, y=res)\n",
    "ax.set(ylabel='Residuals', xlabel='Test Label')\n",
    "plt.axhline(y=0,color='red',linestyle='--')\n",
    "\n",
    "# there should be no clear pattern / curve in the plot\n",
    "# we see a positive correlation between Test Label and Residuals -> later models should avoid this pattern"
   ]
  },
  {
   "cell_type": "code",
   "execution_count": 26,
   "metadata": {},
   "outputs": [
    {
     "data": {
      "image/png": "[encoded data removed]",
      "text/plain": [
       "<Figure size 432x288 with 1 Axes>"
      ]
     },
     "metadata": {
      "needs_background": "light"
     },
     "output_type": "display_data"
    }
   ],
   "source": [
    "import scipy as sp\n",
    "\n",
    "fig, ax = plt.subplots()\n",
    "sp.stats.probplot(res,plot=ax);"
   ]
  },
  {
   "cell_type": "code",
   "execution_count": 27,
   "metadata": {},
   "outputs": [
    {
     "data": {
      "text/plain": [
       "LinearRegression()"
      ]
     },
     "execution_count": 27,
     "metadata": {},
     "output_type": "execute_result"
    }
   ],
   "source": [
    "from sklearn.preprocessing import StandardScaler\n",
    "scaler = StandardScaler()\n",
    "scaler.fit(X)\n",
    "\n",
    "X_lin = scaler.transform(X)\n",
    "\n",
    "linear_model = LinearRegression()\n",
    "linear_model.fit(X_lin,y)"
   ]
  },
  {
   "cell_type": "code",
   "execution_count": 28,
   "metadata": {},
   "outputs": [],
   "source": [
    "# model.coef_"
   ]
  },
  {
   "cell_type": "code",
   "execution_count": 29,
   "metadata": {},
   "outputs": [],
   "source": [
    "# coef_df = pd.DataFrame(data=model.coef_,index=X.columns,columns=['beta'])\n",
    "# coef_df.sort_values('beta')"
   ]
  },
  {
   "cell_type": "code",
   "execution_count": 30,
   "metadata": {},
   "outputs": [],
   "source": [
    "# linear_model.coef_"
   ]
  },
  {
   "cell_type": "code",
   "execution_count": 31,
   "metadata": {},
   "outputs": [
    {
     "data": {
      "text/html": [
       "<div>\n",
       "<style scoped>\n",
       "    .dataframe tbody tr th:only-of-type {\n",
       "        vertical-align: middle;\n",
       "    }\n",
       "\n",
       "    .dataframe tbody tr th {\n",
       "        vertical-align: top;\n",
       "    }\n",
       "\n",
       "    .dataframe thead th {\n",
       "        text-align: right;\n",
       "    }\n",
       "</style>\n",
       "<table border=\"1\" class=\"dataframe\">\n",
       "  <thead>\n",
       "    <tr style=\"text-align: right;\">\n",
       "      <th></th>\n",
       "      <th>region_urban</th>\n",
       "      <th>distance</th>\n",
       "      <th>rtt</th>\n",
       "      <th>alt</th>\n",
       "      <th>ta</th>\n",
       "      <th>ci_27771904</th>\n",
       "      <th>ci_27771905</th>\n",
       "      <th>ci_27771906</th>\n",
       "      <th>ci_33527561</th>\n",
       "      <th>ci_28371201</th>\n",
       "      <th>ci_27771909</th>\n",
       "      <th>ci_27771907</th>\n",
       "      <th>ci_28368651</th>\n",
       "      <th>ci_27771908</th>\n",
       "      <th>ci_33527559</th>\n",
       "      <th>ci_28365057</th>\n",
       "      <th>ci_30422273</th>\n",
       "      <th>weekday_Monday</th>\n",
       "      <th>cqi</th>\n",
       "      <th>weekday_Tuesday</th>\n",
       "      <th>weekday_Thursday</th>\n",
       "      <th>ci_29391105</th>\n",
       "      <th>dir</th>\n",
       "      <th>ci_27770888</th>\n",
       "      <th>ci_28368386</th>\n",
       "      <th>region_suburban</th>\n",
       "      <th>ci_29568769</th>\n",
       "      <th>ci_29391104</th>\n",
       "      <th>ci_29563904</th>\n",
       "      <th>ci_28367106</th>\n",
       "      <th>ci_26379013</th>\n",
       "      <th>ci_28367105</th>\n",
       "      <th>ci_33837570</th>\n",
       "      <th>ci_27256324</th>\n",
       "      <th>ci_29391106</th>\n",
       "      <th>weekday_Wednesday</th>\n",
       "      <th>ci_33527554</th>\n",
       "      <th>ci_28365056</th>\n",
       "      <th>ci_27299331</th>\n",
       "      <th>acc</th>\n",
       "      <th>ci_26378754</th>\n",
       "      <th>ci_26378498</th>\n",
       "      <th>ci_27770883</th>\n",
       "      <th>ci_30492930</th>\n",
       "      <th>hour</th>\n",
       "      <th>ci_27770885</th>\n",
       "      <th>ci_31281409</th>\n",
       "      <th>ci_26378497</th>\n",
       "      <th>ci_26796291</th>\n",
       "      <th>ci_27299332</th>\n",
       "      <th>ci_26385408</th>\n",
       "      <th>ci_27029251</th>\n",
       "      <th>ci_33519104</th>\n",
       "      <th>sinr</th>\n",
       "      <th>ci_29398276</th>\n",
       "      <th>ci_27256325</th>\n",
       "      <th>ci_26796290</th>\n",
       "      <th>ci_28365058</th>\n",
       "      <th>ci_28368384</th>\n",
       "      <th>ci_31263232</th>\n",
       "      <th>ci_26385409</th>\n",
       "      <th>ci_29401601</th>\n",
       "      <th>ci_26385410</th>\n",
       "      <th>ci_28371200</th>\n",
       "      <th>speed</th>\n",
       "      <th>rsrq</th>\n",
       "      <th>ci_33527552</th>\n",
       "      <th>ci_27771140</th>\n",
       "      <th>ci_29913345</th>\n",
       "      <th>ci_26378755</th>\n",
       "      <th>ci_29913344</th>\n",
       "      <th>ci_29568768</th>\n",
       "      <th>ci_29913346</th>\n",
       "      <th>ci_27771139</th>\n",
       "      <th>ci_28371202</th>\n",
       "      <th>rsrp</th>\n",
       "      <th>lon</th>\n",
       "      <th>lat</th>\n",
       "      <th>region_highway</th>\n",
       "      <th>payload</th>\n",
       "    </tr>\n",
       "  </thead>\n",
       "  <tbody>\n",
       "    <tr>\n",
       "      <th>beta</th>\n",
       "      <td>-3.857599</td>\n",
       "      <td>-2.772333</td>\n",
       "      <td>-1.199014</td>\n",
       "      <td>-0.988279</td>\n",
       "      <td>-0.965829</td>\n",
       "      <td>-0.556737</td>\n",
       "      <td>-0.554754</td>\n",
       "      <td>-0.540559</td>\n",
       "      <td>-0.428963</td>\n",
       "      <td>-0.4167</td>\n",
       "      <td>-0.399196</td>\n",
       "      <td>-0.270884</td>\n",
       "      <td>-0.251585</td>\n",
       "      <td>-0.246916</td>\n",
       "      <td>-0.190044</td>\n",
       "      <td>-0.18916</td>\n",
       "      <td>-0.15897</td>\n",
       "      <td>-0.102194</td>\n",
       "      <td>-0.075267</td>\n",
       "      <td>-0.071798</td>\n",
       "      <td>-0.06984</td>\n",
       "      <td>-0.064572</td>\n",
       "      <td>-0.060158</td>\n",
       "      <td>-0.058025</td>\n",
       "      <td>-0.010155</td>\n",
       "      <td>0.006044</td>\n",
       "      <td>0.008048</td>\n",
       "      <td>0.011663</td>\n",
       "      <td>0.041332</td>\n",
       "      <td>0.044839</td>\n",
       "      <td>0.061228</td>\n",
       "      <td>0.067775</td>\n",
       "      <td>0.086381</td>\n",
       "      <td>0.093822</td>\n",
       "      <td>0.096855</td>\n",
       "      <td>0.146871</td>\n",
       "      <td>0.147938</td>\n",
       "      <td>0.155683</td>\n",
       "      <td>0.170562</td>\n",
       "      <td>0.175708</td>\n",
       "      <td>0.176025</td>\n",
       "      <td>0.19676</td>\n",
       "      <td>0.197619</td>\n",
       "      <td>0.211681</td>\n",
       "      <td>0.24012</td>\n",
       "      <td>0.242052</td>\n",
       "      <td>0.258283</td>\n",
       "      <td>0.27065</td>\n",
       "      <td>0.272426</td>\n",
       "      <td>0.293402</td>\n",
       "      <td>0.308749</td>\n",
       "      <td>0.313959</td>\n",
       "      <td>0.327057</td>\n",
       "      <td>0.330364</td>\n",
       "      <td>0.354914</td>\n",
       "      <td>0.367056</td>\n",
       "      <td>0.382734</td>\n",
       "      <td>0.401164</td>\n",
       "      <td>0.440287</td>\n",
       "      <td>0.462443</td>\n",
       "      <td>0.470101</td>\n",
       "      <td>0.528386</td>\n",
       "      <td>0.549526</td>\n",
       "      <td>0.571994</td>\n",
       "      <td>0.579413</td>\n",
       "      <td>0.58538</td>\n",
       "      <td>0.638843</td>\n",
       "      <td>0.690268</td>\n",
       "      <td>0.709155</td>\n",
       "      <td>0.71658</td>\n",
       "      <td>0.741514</td>\n",
       "      <td>0.946548</td>\n",
       "      <td>1.012682</td>\n",
       "      <td>1.040496</td>\n",
       "      <td>1.177089</td>\n",
       "      <td>1.519021</td>\n",
       "      <td>2.195898</td>\n",
       "      <td>3.860039</td>\n",
       "      <td>3.947604</td>\n",
       "      <td>4.88771</td>\n",
       "    </tr>\n",
       "  </tbody>\n",
       "</table>\n",
       "</div>"
      ],
      "text/plain": [
       "      region_urban  distance       rtt       alt        ta  ci_27771904  \\\n",
       "beta     -3.857599 -2.772333 -1.199014 -0.988279 -0.965829    -0.556737   \n",
       "\n",
       "      ci_27771905  ci_27771906  ci_33527561  ci_28371201  ci_27771909  \\\n",
       "beta    -0.554754    -0.540559    -0.428963      -0.4167    -0.399196   \n",
       "\n",
       "      ci_27771907  ci_28368651  ci_27771908  ci_33527559  ci_28365057  \\\n",
       "beta    -0.270884    -0.251585    -0.246916    -0.190044     -0.18916   \n",
       "\n",
       "      ci_30422273  weekday_Monday       cqi  weekday_Tuesday  \\\n",
       "beta     -0.15897       -0.102194 -0.075267        -0.071798   \n",
       "\n",
       "      weekday_Thursday  ci_29391105       dir  ci_27770888  ci_28368386  \\\n",
       "beta          -0.06984    -0.064572 -0.060158    -0.058025    -0.010155   \n",
       "\n",
       "      region_suburban  ci_29568769  ci_29391104  ci_29563904  ci_28367106  \\\n",
       "beta         0.006044     0.008048     0.011663     0.041332     0.044839   \n",
       "\n",
       "      ci_26379013  ci_28367105  ci_33837570  ci_27256324  ci_29391106  \\\n",
       "beta     0.061228     0.067775     0.086381     0.093822     0.096855   \n",
       "\n",
       "      weekday_Wednesday  ci_33527554  ci_28365056  ci_27299331       acc  \\\n",
       "beta           0.146871     0.147938     0.155683     0.170562  0.175708   \n",
       "\n",
       "      ci_26378754  ci_26378498  ci_27770883  ci_30492930     hour  \\\n",
       "beta     0.176025      0.19676     0.197619     0.211681  0.24012   \n",
       "\n",
       "      ci_27770885  ci_31281409  ci_26378497  ci_26796291  ci_27299332  \\\n",
       "beta     0.242052     0.258283      0.27065     0.272426     0.293402   \n",
       "\n",
       "      ci_26385408  ci_27029251  ci_33519104      sinr  ci_29398276  \\\n",
       "beta     0.308749     0.313959     0.327057  0.330364     0.354914   \n",
       "\n",
       "      ci_27256325  ci_26796290  ci_28365058  ci_28368384  ci_31263232  \\\n",
       "beta     0.367056     0.382734     0.401164     0.440287     0.462443   \n",
       "\n",
       "      ci_26385409  ci_29401601  ci_26385410  ci_28371200     speed     rsrq  \\\n",
       "beta     0.470101     0.528386     0.549526     0.571994  0.579413  0.58538   \n",
       "\n",
       "      ci_33527552  ci_27771140  ci_29913345  ci_26378755  ci_29913344  \\\n",
       "beta     0.638843     0.690268     0.709155      0.71658     0.741514   \n",
       "\n",
       "      ci_29568768  ci_29913346  ci_27771139  ci_28371202      rsrp       lon  \\\n",
       "beta     0.946548     1.012682     1.040496     1.177089  1.519021  2.195898   \n",
       "\n",
       "           lat  region_highway  payload  \n",
       "beta  3.860039        3.947604  4.88771  "
      ]
     },
     "execution_count": 31,
     "metadata": {},
     "output_type": "execute_result"
    }
   ],
   "source": [
    "coef_df = pd.DataFrame(data=linear_model.coef_,index=X.columns,columns=['beta'])\n",
    "coef_df.sort_values('beta').transpose()"
   ]
  },
  {
   "cell_type": "code",
   "execution_count": 32,
   "metadata": {},
   "outputs": [
    {
     "data": {
      "text/html": [
       "<div>\n",
       "<style scoped>\n",
       "    .dataframe tbody tr th:only-of-type {\n",
       "        vertical-align: middle;\n",
       "    }\n",
       "\n",
       "    .dataframe tbody tr th {\n",
       "        vertical-align: top;\n",
       "    }\n",
       "\n",
       "    .dataframe thead th {\n",
       "        text-align: right;\n",
       "    }\n",
       "</style>\n",
       "<table border=\"1\" class=\"dataframe\">\n",
       "  <thead>\n",
       "    <tr style=\"text-align: right;\">\n",
       "      <th></th>\n",
       "      <th>beta</th>\n",
       "    </tr>\n",
       "  </thead>\n",
       "  <tbody>\n",
       "    <tr>\n",
       "      <th>count</th>\n",
       "      <td>80.000000</td>\n",
       "    </tr>\n",
       "    <tr>\n",
       "      <th>mean</th>\n",
       "      <td>0.252890</td>\n",
       "    </tr>\n",
       "    <tr>\n",
       "      <th>std</th>\n",
       "      <td>1.095614</td>\n",
       "    </tr>\n",
       "    <tr>\n",
       "      <th>min</th>\n",
       "      <td>-3.857599</td>\n",
       "    </tr>\n",
       "    <tr>\n",
       "      <th>25%</th>\n",
       "      <td>-0.070329</td>\n",
       "    </tr>\n",
       "    <tr>\n",
       "      <th>50%</th>\n",
       "      <td>0.175867</td>\n",
       "    </tr>\n",
       "    <tr>\n",
       "      <th>75%</th>\n",
       "      <td>0.464358</td>\n",
       "    </tr>\n",
       "    <tr>\n",
       "      <th>max</th>\n",
       "      <td>4.887710</td>\n",
       "    </tr>\n",
       "  </tbody>\n",
       "</table>\n",
       "</div>"
      ],
      "text/plain": [
       "            beta\n",
       "count  80.000000\n",
       "mean    0.252890\n",
       "std     1.095614\n",
       "min    -3.857599\n",
       "25%    -0.070329\n",
       "50%     0.175867\n",
       "75%     0.464358\n",
       "max     4.887710"
      ]
     },
     "execution_count": 32,
     "metadata": {},
     "output_type": "execute_result"
    }
   ],
   "source": [
    "coef_df.describe()"
   ]
  },
  {
   "cell_type": "code",
   "execution_count": 33,
   "metadata": {},
   "outputs": [
    {
     "data": {
      "text/html": [
       "<div>\n",
       "<style scoped>\n",
       "    .dataframe tbody tr th:only-of-type {\n",
       "        vertical-align: middle;\n",
       "    }\n",
       "\n",
       "    .dataframe tbody tr th {\n",
       "        vertical-align: top;\n",
       "    }\n",
       "\n",
       "    .dataframe thead th {\n",
       "        text-align: right;\n",
       "    }\n",
       "</style>\n",
       "<table border=\"1\" class=\"dataframe\">\n",
       "  <thead>\n",
       "    <tr style=\"text-align: right;\">\n",
       "      <th></th>\n",
       "      <th>delta_beta</th>\n",
       "    </tr>\n",
       "  </thead>\n",
       "  <tbody>\n",
       "    <tr>\n",
       "      <th>distance</th>\n",
       "      <td>-0.704625</td>\n",
       "    </tr>\n",
       "    <tr>\n",
       "      <th>lat</th>\n",
       "      <td>1.172197</td>\n",
       "    </tr>\n",
       "    <tr>\n",
       "      <th>lon</th>\n",
       "      <td>0.877320</td>\n",
       "    </tr>\n",
       "    <tr>\n",
       "      <th>alt</th>\n",
       "      <td>0.715358</td>\n",
       "    </tr>\n",
       "    <tr>\n",
       "      <th>speed</th>\n",
       "      <td>0.093888</td>\n",
       "    </tr>\n",
       "    <tr>\n",
       "      <th>...</th>\n",
       "      <td>...</td>\n",
       "    </tr>\n",
       "    <tr>\n",
       "      <th>region_urban</th>\n",
       "      <td>-0.686730</td>\n",
       "    </tr>\n",
       "    <tr>\n",
       "      <th>weekday_Monday</th>\n",
       "      <td>-0.071624</td>\n",
       "    </tr>\n",
       "    <tr>\n",
       "      <th>weekday_Thursday</th>\n",
       "      <td>-0.000830</td>\n",
       "    </tr>\n",
       "    <tr>\n",
       "      <th>weekday_Tuesday</th>\n",
       "      <td>-0.116647</td>\n",
       "    </tr>\n",
       "    <tr>\n",
       "      <th>weekday_Wednesday</th>\n",
       "      <td>0.102764</td>\n",
       "    </tr>\n",
       "  </tbody>\n",
       "</table>\n",
       "<p>80 rows × 1 columns</p>\n",
       "</div>"
      ],
      "text/plain": [
       "                   delta_beta\n",
       "distance            -0.704625\n",
       "lat                  1.172197\n",
       "lon                  0.877320\n",
       "alt                  0.715358\n",
       "speed                0.093888\n",
       "...                       ...\n",
       "region_urban        -0.686730\n",
       "weekday_Monday      -0.071624\n",
       "weekday_Thursday    -0.000830\n",
       "weekday_Tuesday     -0.116647\n",
       "weekday_Wednesday    0.102764\n",
       "\n",
       "[80 rows x 1 columns]"
      ]
     },
     "execution_count": 33,
     "metadata": {},
     "output_type": "execute_result"
    }
   ],
   "source": [
    "delta_df = pd.DataFrame(data=linear_model.coef_ - model.coef_,index=X.columns,columns=['delta_beta'])\n",
    "delta_df"
   ]
  },
  {
   "cell_type": "code",
   "execution_count": 34,
   "metadata": {},
   "outputs": [
    {
     "data": {
      "text/html": [
       "<div>\n",
       "<style scoped>\n",
       "    .dataframe tbody tr th:only-of-type {\n",
       "        vertical-align: middle;\n",
       "    }\n",
       "\n",
       "    .dataframe tbody tr th {\n",
       "        vertical-align: top;\n",
       "    }\n",
       "\n",
       "    .dataframe thead th {\n",
       "        text-align: right;\n",
       "    }\n",
       "</style>\n",
       "<table border=\"1\" class=\"dataframe\">\n",
       "  <thead>\n",
       "    <tr style=\"text-align: right;\">\n",
       "      <th></th>\n",
       "      <th>distance</th>\n",
       "      <th>region_urban</th>\n",
       "      <th>ci_27771907</th>\n",
       "      <th>ci_27771909</th>\n",
       "      <th>ci_27771905</th>\n",
       "      <th>ci_27771908</th>\n",
       "      <th>weekday_Tuesday</th>\n",
       "      <th>ci_27771906</th>\n",
       "      <th>acc</th>\n",
       "      <th>ci_31281409</th>\n",
       "      <th>ci_27771904</th>\n",
       "      <th>ci_33527561</th>\n",
       "      <th>hour</th>\n",
       "      <th>ci_29913344</th>\n",
       "      <th>ci_30492930</th>\n",
       "      <th>ci_28371201</th>\n",
       "      <th>weekday_Monday</th>\n",
       "      <th>ci_29398276</th>\n",
       "      <th>ci_27299331</th>\n",
       "      <th>ci_29563904</th>\n",
       "      <th>ci_29568768</th>\n",
       "      <th>ci_28368386</th>\n",
       "      <th>ci_30422273</th>\n",
       "      <th>ci_29568769</th>\n",
       "      <th>ci_27256324</th>\n",
       "      <th>ci_33527552</th>\n",
       "      <th>ci_26796290</th>\n",
       "      <th>ci_28371202</th>\n",
       "      <th>weekday_Thursday</th>\n",
       "      <th>ci_29401601</th>\n",
       "      <th>sinr</th>\n",
       "      <th>ci_29391104</th>\n",
       "      <th>cqi</th>\n",
       "      <th>ci_33519104</th>\n",
       "      <th>rsrq</th>\n",
       "      <th>rtt</th>\n",
       "      <th>ci_26796291</th>\n",
       "      <th>ci_26378755</th>\n",
       "      <th>ci_26378498</th>\n",
       "      <th>dir</th>\n",
       "      <th>ci_26379013</th>\n",
       "      <th>ci_29913346</th>\n",
       "      <th>ci_33527559</th>\n",
       "      <th>ci_31263232</th>\n",
       "      <th>ci_26378497</th>\n",
       "      <th>ci_26378754</th>\n",
       "      <th>ci_27299332</th>\n",
       "      <th>ci_27770888</th>\n",
       "      <th>ci_27029251</th>\n",
       "      <th>ci_28367106</th>\n",
       "      <th>ci_29391106</th>\n",
       "      <th>ci_28368651</th>\n",
       "      <th>speed</th>\n",
       "      <th>ci_29913345</th>\n",
       "      <th>weekday_Wednesday</th>\n",
       "      <th>ci_33837570</th>\n",
       "      <th>ci_28365057</th>\n",
       "      <th>ci_28365056</th>\n",
       "      <th>ci_27771140</th>\n",
       "      <th>payload</th>\n",
       "      <th>ci_27256325</th>\n",
       "      <th>ci_28365058</th>\n",
       "      <th>rsrp</th>\n",
       "      <th>ci_27770885</th>\n",
       "      <th>ci_33527554</th>\n",
       "      <th>ci_27770883</th>\n",
       "      <th>ci_28368384</th>\n",
       "      <th>ci_26385410</th>\n",
       "      <th>ci_28371200</th>\n",
       "      <th>ta</th>\n",
       "      <th>ci_26385409</th>\n",
       "      <th>ci_28367105</th>\n",
       "      <th>ci_29391105</th>\n",
       "      <th>ci_26385408</th>\n",
       "      <th>region_suburban</th>\n",
       "      <th>ci_27771139</th>\n",
       "      <th>region_highway</th>\n",
       "      <th>alt</th>\n",
       "      <th>lon</th>\n",
       "      <th>lat</th>\n",
       "    </tr>\n",
       "  </thead>\n",
       "  <tbody>\n",
       "    <tr>\n",
       "      <th>delta_beta</th>\n",
       "      <td>-0.704625</td>\n",
       "      <td>-0.68673</td>\n",
       "      <td>-0.358326</td>\n",
       "      <td>-0.325976</td>\n",
       "      <td>-0.161488</td>\n",
       "      <td>-0.149427</td>\n",
       "      <td>-0.116647</td>\n",
       "      <td>-0.111234</td>\n",
       "      <td>-0.096512</td>\n",
       "      <td>-0.088395</td>\n",
       "      <td>-0.087206</td>\n",
       "      <td>-0.086781</td>\n",
       "      <td>-0.083126</td>\n",
       "      <td>-0.082036</td>\n",
       "      <td>-0.073178</td>\n",
       "      <td>-0.071774</td>\n",
       "      <td>-0.071624</td>\n",
       "      <td>-0.060381</td>\n",
       "      <td>-0.059846</td>\n",
       "      <td>-0.059768</td>\n",
       "      <td>-0.027429</td>\n",
       "      <td>-0.021563</td>\n",
       "      <td>-0.020769</td>\n",
       "      <td>-0.020481</td>\n",
       "      <td>-0.019219</td>\n",
       "      <td>-0.018105</td>\n",
       "      <td>-0.016488</td>\n",
       "      <td>-0.008929</td>\n",
       "      <td>-0.00083</td>\n",
       "      <td>-0.000736</td>\n",
       "      <td>0.008029</td>\n",
       "      <td>0.01561</td>\n",
       "      <td>0.019274</td>\n",
       "      <td>0.020868</td>\n",
       "      <td>0.020904</td>\n",
       "      <td>0.021081</td>\n",
       "      <td>0.021785</td>\n",
       "      <td>0.023047</td>\n",
       "      <td>0.026682</td>\n",
       "      <td>0.030184</td>\n",
       "      <td>0.030639</td>\n",
       "      <td>0.031335</td>\n",
       "      <td>0.032197</td>\n",
       "      <td>0.034549</td>\n",
       "      <td>0.042238</td>\n",
       "      <td>0.04275</td>\n",
       "      <td>0.050573</td>\n",
       "      <td>0.065304</td>\n",
       "      <td>0.071122</td>\n",
       "      <td>0.071384</td>\n",
       "      <td>0.085478</td>\n",
       "      <td>0.086622</td>\n",
       "      <td>0.093888</td>\n",
       "      <td>0.098741</td>\n",
       "      <td>0.102764</td>\n",
       "      <td>0.104533</td>\n",
       "      <td>0.113196</td>\n",
       "      <td>0.114176</td>\n",
       "      <td>0.116461</td>\n",
       "      <td>0.119191</td>\n",
       "      <td>0.12437</td>\n",
       "      <td>0.125241</td>\n",
       "      <td>0.146148</td>\n",
       "      <td>0.147826</td>\n",
       "      <td>0.157899</td>\n",
       "      <td>0.158887</td>\n",
       "      <td>0.175856</td>\n",
       "      <td>0.182017</td>\n",
       "      <td>0.182636</td>\n",
       "      <td>0.194214</td>\n",
       "      <td>0.203039</td>\n",
       "      <td>0.210615</td>\n",
       "      <td>0.217899</td>\n",
       "      <td>0.245813</td>\n",
       "      <td>0.323376</td>\n",
       "      <td>0.373534</td>\n",
       "      <td>0.436966</td>\n",
       "      <td>0.715358</td>\n",
       "      <td>0.87732</td>\n",
       "      <td>1.172197</td>\n",
       "    </tr>\n",
       "  </tbody>\n",
       "</table>\n",
       "</div>"
      ],
      "text/plain": [
       "            distance  region_urban  ci_27771907  ci_27771909  ci_27771905  \\\n",
       "delta_beta -0.704625      -0.68673    -0.358326    -0.325976    -0.161488   \n",
       "\n",
       "            ci_27771908  weekday_Tuesday  ci_27771906       acc  ci_31281409  \\\n",
       "delta_beta    -0.149427        -0.116647    -0.111234 -0.096512    -0.088395   \n",
       "\n",
       "            ci_27771904  ci_33527561      hour  ci_29913344  ci_30492930  \\\n",
       "delta_beta    -0.087206    -0.086781 -0.083126    -0.082036    -0.073178   \n",
       "\n",
       "            ci_28371201  weekday_Monday  ci_29398276  ci_27299331  \\\n",
       "delta_beta    -0.071774       -0.071624    -0.060381    -0.059846   \n",
       "\n",
       "            ci_29563904  ci_29568768  ci_28368386  ci_30422273  ci_29568769  \\\n",
       "delta_beta    -0.059768    -0.027429    -0.021563    -0.020769    -0.020481   \n",
       "\n",
       "            ci_27256324  ci_33527552  ci_26796290  ci_28371202  \\\n",
       "delta_beta    -0.019219    -0.018105    -0.016488    -0.008929   \n",
       "\n",
       "            weekday_Thursday  ci_29401601      sinr  ci_29391104       cqi  \\\n",
       "delta_beta          -0.00083    -0.000736  0.008029      0.01561  0.019274   \n",
       "\n",
       "            ci_33519104      rsrq       rtt  ci_26796291  ci_26378755  \\\n",
       "delta_beta     0.020868  0.020904  0.021081     0.021785     0.023047   \n",
       "\n",
       "            ci_26378498       dir  ci_26379013  ci_29913346  ci_33527559  \\\n",
       "delta_beta     0.026682  0.030184     0.030639     0.031335     0.032197   \n",
       "\n",
       "            ci_31263232  ci_26378497  ci_26378754  ci_27299332  ci_27770888  \\\n",
       "delta_beta     0.034549     0.042238      0.04275     0.050573     0.065304   \n",
       "\n",
       "            ci_27029251  ci_28367106  ci_29391106  ci_28368651     speed  \\\n",
       "delta_beta     0.071122     0.071384     0.085478     0.086622  0.093888   \n",
       "\n",
       "            ci_29913345  weekday_Wednesday  ci_33837570  ci_28365057  \\\n",
       "delta_beta     0.098741           0.102764     0.104533     0.113196   \n",
       "\n",
       "            ci_28365056  ci_27771140   payload  ci_27256325  ci_28365058  \\\n",
       "delta_beta     0.114176     0.116461  0.119191      0.12437     0.125241   \n",
       "\n",
       "                rsrp  ci_27770885  ci_33527554  ci_27770883  ci_28368384  \\\n",
       "delta_beta  0.146148     0.147826     0.157899     0.158887     0.175856   \n",
       "\n",
       "            ci_26385410  ci_28371200        ta  ci_26385409  ci_28367105  \\\n",
       "delta_beta     0.182017     0.182636  0.194214     0.203039     0.210615   \n",
       "\n",
       "            ci_29391105  ci_26385408  region_suburban  ci_27771139  \\\n",
       "delta_beta     0.217899     0.245813         0.323376     0.373534   \n",
       "\n",
       "            region_highway       alt      lon       lat  \n",
       "delta_beta        0.436966  0.715358  0.87732  1.172197  "
      ]
     },
     "execution_count": 34,
     "metadata": {},
     "output_type": "execute_result"
    }
   ],
   "source": [
    "delta_df.sort_values('delta_beta').transpose()"
   ]
  },
  {
   "cell_type": "code",
   "execution_count": 35,
   "metadata": {},
   "outputs": [
    {
     "data": {
      "text/plain": [
       "<AxesSubplot:ylabel='Count'>"
      ]
     },
     "execution_count": 35,
     "metadata": {},
     "output_type": "execute_result"
    },
    {
     "data": {
      "image/png": "[encoded data removed]",
      "text/plain": [
       "<Figure size 432x288 with 1 Axes>"
      ]
     },
     "metadata": {
      "needs_background": "light"
     },
     "output_type": "display_data"
    }
   ],
   "source": [
    "sns.histplot(data=delta_df,bins=40,kde=True)"
   ]
  },
  {
   "cell_type": "code",
   "execution_count": 36,
   "metadata": {},
   "outputs": [],
   "source": [
    "y_pred_lin = linear_model.predict(X_lin)"
   ]
  },
  {
   "cell_type": "code",
   "execution_count": 37,
   "metadata": {},
   "outputs": [
    {
     "data": {
      "text/plain": [
       "<AxesSubplot:ylabel='Count'>"
      ]
     },
     "execution_count": 37,
     "metadata": {},
     "output_type": "execute_result"
    },
    {
     "data": {
      "image/png": "[encoded data removed]",
      "text/plain": [
       "<Figure size 432x288 with 1 Axes>"
      ]
     },
     "metadata": {
      "needs_background": "light"
     },
     "output_type": "display_data"
    }
   ],
   "source": [
    "sns.histplot(y_pred_lin,bins=40,kde=True)"
   ]
  },
  {
   "cell_type": "code",
   "execution_count": 38,
   "metadata": {},
   "outputs": [],
   "source": [
    "# sns.histplot(y,bins=40,kde=True)"
   ]
  },
  {
   "cell_type": "code",
   "execution_count": 39,
   "metadata": {},
   "outputs": [
    {
     "data": {
      "text/plain": [
       "<matplotlib.legend.Legend at 0x7fc43f979850>"
      ]
     },
     "execution_count": 39,
     "metadata": {},
     "output_type": "execute_result"
    },
    {
     "data": {
      "image/png": "[encoded data removed]",
      "text/plain": [
       "<Figure size 432x288 with 1 Axes>"
      ]
     },
     "metadata": {
      "needs_background": "light"
     },
     "output_type": "display_data"
    }
   ],
   "source": [
    "fig,ax = plt.subplots()\n",
    "\n",
    "sns.kdeplot(y, ax=ax, shade=True, label='Observations')\n",
    "sns.kdeplot(y_pred_lin, ax=ax,shade=True,label='Predictions')\n",
    "\n",
    "ax.legend(loc='best')"
   ]
  },
  {
   "cell_type": "code",
   "execution_count": 40,
   "metadata": {},
   "outputs": [
    {
     "data": {
      "text/plain": [
       "<matplotlib.legend.Legend at 0x7fc43fa331c0>"
      ]
     },
     "execution_count": 40,
     "metadata": {},
     "output_type": "execute_result"
    },
    {
     "data": {
      "image/png": "[encoded data removed]",
      "text/plain": [
       "<Figure size 432x288 with 1 Axes>"
      ]
     },
     "metadata": {
      "needs_background": "light"
     },
     "output_type": "display_data"
    }
   ],
   "source": [
    "fig,ax = plt.subplots()\n",
    "\n",
    "sns.ecdfplot(y, ax=ax, label='Observations')\n",
    "sns.ecdfplot(y_pred_lin, ax=ax,label='Predictions')\n",
    "plt.axvline(x=y.mean(),color='grey',linestyle='--')\n",
    "\n",
    "ax.legend(loc='best')"
   ]
  },
  {
   "cell_type": "code",
   "execution_count": 41,
   "metadata": {},
   "outputs": [],
   "source": [
    "mae = mean_absolute_error(y,y_pred_lin)\n",
    "mse = mean_squared_error(y,y_pred_lin)\n",
    "rmse = np.sqrt(mse)"
   ]
  },
  {
   "cell_type": "code",
   "execution_count": 42,
   "metadata": {},
   "outputs": [
    {
     "data": {
      "text/html": [
       "<div>\n",
       "<style scoped>\n",
       "    .dataframe tbody tr th:only-of-type {\n",
       "        vertical-align: middle;\n",
       "    }\n",
       "\n",
       "    .dataframe tbody tr th {\n",
       "        vertical-align: top;\n",
       "    }\n",
       "\n",
       "    .dataframe thead th {\n",
       "        text-align: right;\n",
       "    }\n",
       "</style>\n",
       "<table border=\"1\" class=\"dataframe\">\n",
       "  <thead>\n",
       "    <tr style=\"text-align: right;\">\n",
       "      <th></th>\n",
       "      <th>LR</th>\n",
       "    </tr>\n",
       "  </thead>\n",
       "  <tbody>\n",
       "    <tr>\n",
       "      <th>MAE</th>\n",
       "      <td>2.988244</td>\n",
       "    </tr>\n",
       "    <tr>\n",
       "      <th>MSE</th>\n",
       "      <td>15.354659</td>\n",
       "    </tr>\n",
       "    <tr>\n",
       "      <th>RMSE</th>\n",
       "      <td>3.918502</td>\n",
       "    </tr>\n",
       "  </tbody>\n",
       "</table>\n",
       "</div>"
      ],
      "text/plain": [
       "             LR\n",
       "MAE    2.988244\n",
       "MSE   15.354659\n",
       "RMSE   3.918502"
      ]
     },
     "execution_count": 42,
     "metadata": {},
     "output_type": "execute_result"
    }
   ],
   "source": [
    "err_df = pd.DataFrame(data=[mae, mse, rmse],index=['MAE','MSE','RMSE'],columns=['LR'])\n",
    "err_df"
   ]
  },
  {
   "cell_type": "code",
   "execution_count": 43,
   "metadata": {},
   "outputs": [],
   "source": [
    "# y_pred_lin.mean()"
   ]
  },
  {
   "cell_type": "code",
   "execution_count": 44,
   "metadata": {},
   "outputs": [],
   "source": [
    "# y.describe().drop('count')"
   ]
  },
  {
   "cell_type": "code",
   "execution_count": 56,
   "metadata": {},
   "outputs": [],
   "source": [
    "# y.mean()"
   ]
  },
  {
   "cell_type": "code",
   "execution_count": 54,
   "metadata": {},
   "outputs": [],
   "source": [
    "# f\"{y.mean()/mae:.2f}% error range for MAE (on average predictions are off by this procent)\""
   ]
  },
  {
   "cell_type": "code",
   "execution_count": 55,
   "metadata": {},
   "outputs": [],
   "source": [
    "# f\"{y.mean()/rmse:.2f}% error range for RMSE (on average predictions are off by this procent)\""
   ]
  },
  {
   "cell_type": "code",
   "execution_count": 46,
   "metadata": {},
   "outputs": [],
   "source": [
    "err_df.to_csv('./model-err/lin-model-err.csv')"
   ]
  },
  {
   "cell_type": "code",
   "execution_count": 47,
   "metadata": {},
   "outputs": [
    {
     "data": {
      "text/plain": [
       "['./models/lin-model.joblib']"
      ]
     },
     "execution_count": 47,
     "metadata": {},
     "output_type": "execute_result"
    }
   ],
   "source": [
    "from joblib import dump, load\n",
    "dump(linear_model, './models/lin-model.joblib')"
   ]
  },
  {
   "cell_type": "markdown",
   "metadata": {},
   "source": [
    "DONE!"
   ]
  },
  {
   "cell_type": "code",
   "execution_count": null,
   "metadata": {},
   "outputs": [],
   "source": []
  }
 ],
 "metadata": {
  "kernelspec": {
   "display_name": "Python 3",
   "language": "python",
   "name": "python3"
  },
  "language_info": {
   "codemirror_mode": {
    "name": "ipython",
    "version": 3
   },
   "file_extension": ".py",
   "mimetype": "text/x-python",
   "name": "python",
   "nbconvert_exporter": "python",
   "pygments_lexer": "ipython3",
   "version": "3.8.6"
  }
 },
 "nbformat": 4,
 "nbformat_minor": 4
}
