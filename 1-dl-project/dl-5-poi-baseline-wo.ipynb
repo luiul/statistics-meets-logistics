{
 "cells": [
  {
   "cell_type": "code",
   "execution_count": 1,
   "metadata": {},
   "outputs": [],
   "source": [
    "# MODIFY! \n",
    "# use Robust! \n",
    "model_name = 'poi-baseline-wo'"
   ]
  },
  {
   "cell_type": "code",
   "execution_count": 2,
   "metadata": {},
   "outputs": [],
   "source": [
    "import numpy as np\n",
    "import pandas as pd\n",
    "import matplotlib.pyplot as plt\n",
    "import seaborn as sns"
   ]
  },
  {
   "cell_type": "code",
   "execution_count": 3,
   "metadata": {},
   "outputs": [],
   "source": [
    "df = pd.read_csv('./data/d-wo-ns.csv')"
   ]
  },
  {
   "cell_type": "code",
   "execution_count": 4,
   "metadata": {},
   "outputs": [],
   "source": [
    "# df.columns"
   ]
  },
  {
   "cell_type": "code",
   "execution_count": 5,
   "metadata": {},
   "outputs": [],
   "source": [
    "# df.head()"
   ]
  },
  {
   "cell_type": "code",
   "execution_count": 6,
   "metadata": {},
   "outputs": [
    {
     "data": {
      "text/plain": [
       "(2141, 87)"
      ]
     },
     "execution_count": 6,
     "metadata": {},
     "output_type": "execute_result"
    }
   ],
   "source": [
    "df.shape"
   ]
  },
  {
   "cell_type": "code",
   "execution_count": 7,
   "metadata": {},
   "outputs": [],
   "source": [
    "# df.info()"
   ]
  },
  {
   "cell_type": "code",
   "execution_count": 8,
   "metadata": {},
   "outputs": [],
   "source": [
    "X = df.drop('throughput',axis=1)"
   ]
  },
  {
   "cell_type": "code",
   "execution_count": 9,
   "metadata": {},
   "outputs": [
    {
     "data": {
      "text/plain": [
       "(2141, 86)"
      ]
     },
     "execution_count": 9,
     "metadata": {},
     "output_type": "execute_result"
    }
   ],
   "source": [
    "X.shape"
   ]
  },
  {
   "cell_type": "code",
   "execution_count": 10,
   "metadata": {},
   "outputs": [],
   "source": [
    "y = df['throughput']"
   ]
  },
  {
   "cell_type": "code",
   "execution_count": 11,
   "metadata": {},
   "outputs": [
    {
     "data": {
      "text/plain": [
       "(2141,)"
      ]
     },
     "execution_count": 11,
     "metadata": {},
     "output_type": "execute_result"
    }
   ],
   "source": [
    "y.shape"
   ]
  },
  {
   "cell_type": "code",
   "execution_count": 12,
   "metadata": {},
   "outputs": [],
   "source": [
    "# Split the data\n",
    "from sklearn.model_selection import train_test_split\n",
    "X_train, X_test, y_train, y_test = train_test_split(X, y, test_size=0.33, random_state=42)\n",
    "\n",
    "# Scale the data\n",
    "from sklearn.preprocessing import StandardScaler\n",
    "scaler = StandardScaler()\n",
    "scaler.fit(X_train)\n",
    "\n",
    "X_train = scaler.transform(X_train)\n",
    "X_test = scaler.transform(X_test)\n",
    "\n",
    "# Instantiate model\n",
    "from sklearn.linear_model import PoissonRegressor\n",
    "model = PoissonRegressor()\n",
    "\n",
    "model.fit(X_train, y_train)\n",
    "\n",
    "y_pred = model.predict(X_test)\n",
    "\n",
    "from sklearn.metrics import mean_absolute_error, mean_squared_error\n",
    "\n",
    "mae = mean_absolute_error(y_test,y_pred)\n",
    "mse = mean_squared_error(y_test,y_pred)\n",
    "rmse = np.sqrt(mse)"
   ]
  },
  {
   "cell_type": "code",
   "execution_count": 13,
   "metadata": {},
   "outputs": [
    {
     "data": {
      "text/plain": [
       "PoissonRegressor()"
      ]
     },
     "execution_count": 13,
     "metadata": {},
     "output_type": "execute_result"
    }
   ],
   "source": [
    "model"
   ]
  },
  {
   "cell_type": "code",
   "execution_count": 14,
   "metadata": {},
   "outputs": [
    {
     "data": {
      "text/plain": [
       "3.4416226649119923"
      ]
     },
     "execution_count": 14,
     "metadata": {},
     "output_type": "execute_result"
    }
   ],
   "source": [
    "mae"
   ]
  },
  {
   "cell_type": "code",
   "execution_count": 15,
   "metadata": {},
   "outputs": [
    {
     "data": {
      "text/plain": [
       "19.86167024471069"
      ]
     },
     "execution_count": 15,
     "metadata": {},
     "output_type": "execute_result"
    }
   ],
   "source": [
    "mse"
   ]
  },
  {
   "cell_type": "code",
   "execution_count": 16,
   "metadata": {},
   "outputs": [
    {
     "data": {
      "text/plain": [
       "4.456643383165259"
      ]
     },
     "execution_count": 16,
     "metadata": {},
     "output_type": "execute_result"
    }
   ],
   "source": [
    "rmse"
   ]
  },
  {
   "cell_type": "code",
   "execution_count": 17,
   "metadata": {},
   "outputs": [
    {
     "data": {
      "text/html": [
       "<div>\n",
       "<style scoped>\n",
       "    .dataframe tbody tr th:only-of-type {\n",
       "        vertical-align: middle;\n",
       "    }\n",
       "\n",
       "    .dataframe tbody tr th {\n",
       "        vertical-align: top;\n",
       "    }\n",
       "\n",
       "    .dataframe thead th {\n",
       "        text-align: right;\n",
       "    }\n",
       "</style>\n",
       "<table border=\"1\" class=\"dataframe\">\n",
       "  <thead>\n",
       "    <tr style=\"text-align: right;\">\n",
       "      <th></th>\n",
       "      <th>poi-baseline-wo</th>\n",
       "    </tr>\n",
       "  </thead>\n",
       "  <tbody>\n",
       "    <tr>\n",
       "      <th>MAE</th>\n",
       "      <td>3.441623</td>\n",
       "    </tr>\n",
       "    <tr>\n",
       "      <th>MSE</th>\n",
       "      <td>19.861670</td>\n",
       "    </tr>\n",
       "    <tr>\n",
       "      <th>RMSE</th>\n",
       "      <td>4.456643</td>\n",
       "    </tr>\n",
       "  </tbody>\n",
       "</table>\n",
       "</div>"
      ],
      "text/plain": [
       "      poi-baseline-wo\n",
       "MAE          3.441623\n",
       "MSE         19.861670\n",
       "RMSE         4.456643"
      ]
     },
     "execution_count": 17,
     "metadata": {},
     "output_type": "execute_result"
    }
   ],
   "source": [
    "err_df = pd.DataFrame(data=[mae, mse, rmse],index=['MAE','MSE','RMSE'],columns=[f'{model_name}'])\n",
    "err_df"
   ]
  },
  {
   "cell_type": "code",
   "execution_count": 18,
   "metadata": {},
   "outputs": [],
   "source": [
    "err_df.to_csv(f'./baseline-err/{model_name}.csv')"
   ]
  },
  {
   "cell_type": "code",
   "execution_count": 19,
   "metadata": {},
   "outputs": [
    {
     "data": {
      "text/html": [
       "<div>\n",
       "<style scoped>\n",
       "    .dataframe tbody tr th:only-of-type {\n",
       "        vertical-align: middle;\n",
       "    }\n",
       "\n",
       "    .dataframe tbody tr th {\n",
       "        vertical-align: top;\n",
       "    }\n",
       "\n",
       "    .dataframe thead th {\n",
       "        text-align: right;\n",
       "    }\n",
       "</style>\n",
       "<table border=\"1\" class=\"dataframe\">\n",
       "  <thead>\n",
       "    <tr style=\"text-align: right;\">\n",
       "      <th></th>\n",
       "      <th>throughput_pred</th>\n",
       "    </tr>\n",
       "  </thead>\n",
       "  <tbody>\n",
       "    <tr>\n",
       "      <th>mean</th>\n",
       "      <td>13.043937</td>\n",
       "    </tr>\n",
       "    <tr>\n",
       "      <th>std</th>\n",
       "      <td>5.446364</td>\n",
       "    </tr>\n",
       "    <tr>\n",
       "      <th>min</th>\n",
       "      <td>1.014136</td>\n",
       "    </tr>\n",
       "    <tr>\n",
       "      <th>25%</th>\n",
       "      <td>8.901596</td>\n",
       "    </tr>\n",
       "    <tr>\n",
       "      <th>50%</th>\n",
       "      <td>12.020404</td>\n",
       "    </tr>\n",
       "    <tr>\n",
       "      <th>75%</th>\n",
       "      <td>16.352951</td>\n",
       "    </tr>\n",
       "    <tr>\n",
       "      <th>max</th>\n",
       "      <td>34.610373</td>\n",
       "    </tr>\n",
       "  </tbody>\n",
       "</table>\n",
       "</div>"
      ],
      "text/plain": [
       "      throughput_pred\n",
       "mean        13.043937\n",
       "std          5.446364\n",
       "min          1.014136\n",
       "25%          8.901596\n",
       "50%         12.020404\n",
       "75%         16.352951\n",
       "max         34.610373"
      ]
     },
     "execution_count": 19,
     "metadata": {},
     "output_type": "execute_result"
    }
   ],
   "source": [
    "y_pred_df = pd.DataFrame(y_pred, columns=['throughput_pred'])\n",
    "y_pred_df.describe().drop('count')\n",
    "# no negative predictions"
   ]
  },
  {
   "cell_type": "code",
   "execution_count": 20,
   "metadata": {},
   "outputs": [
    {
     "data": {
      "text/plain": [
       "<AxesSubplot:ylabel='Count'>"
      ]
     },
     "execution_count": 20,
     "metadata": {},
     "output_type": "execute_result"
    },
    {
     "data": {
      "image/png": "[encoded data removed]",
      "text/plain": [
       "<Figure size 432x288 with 1 Axes>"
      ]
     },
     "metadata": {
      "needs_background": "light"
     },
     "output_type": "display_data"
    }
   ],
   "source": [
    "sns.histplot(y_pred,bins=40,kde=True)\n",
    "# the distribution better reflects the true distribution of the data set"
   ]
  },
  {
   "cell_type": "code",
   "execution_count": 21,
   "metadata": {},
   "outputs": [
    {
     "data": {
      "text/plain": [
       "<matplotlib.legend.Legend at 0x7fb1f61bb4c0>"
      ]
     },
     "execution_count": 21,
     "metadata": {},
     "output_type": "execute_result"
    },
    {
     "data": {
      "image/png": "[encoded data removed]",
      "text/plain": [
       "<Figure size 432x288 with 1 Axes>"
      ]
     },
     "metadata": {
      "needs_background": "light"
     },
     "output_type": "display_data"
    }
   ],
   "source": [
    "fig,ax = plt.subplots()\n",
    "\n",
    "sns.kdeplot(y_test, ax=ax, shade=True, label='Observations')\n",
    "sns.kdeplot(y_pred, ax=ax,shade=True,label='Predictions')\n",
    "\n",
    "ax.legend(loc='best')"
   ]
  },
  {
   "cell_type": "code",
   "execution_count": 22,
   "metadata": {},
   "outputs": [
    {
     "data": {
      "text/plain": [
       "<matplotlib.legend.Legend at 0x7fb1f640bc70>"
      ]
     },
     "execution_count": 22,
     "metadata": {},
     "output_type": "execute_result"
    },
    {
     "data": {
      "image/png": "[encoded data removed]",
      "text/plain": [
       "<Figure size 432x288 with 1 Axes>"
      ]
     },
     "metadata": {
      "needs_background": "light"
     },
     "output_type": "display_data"
    }
   ],
   "source": [
    "fig,ax = plt.subplots()\n",
    "\n",
    "sns.ecdfplot(y_test, ax=ax, label='Observations')\n",
    "sns.ecdfplot(y_pred, ax=ax,label='Predictions')\n",
    "plt.axvline(x=y.mean(),color='grey',linestyle='--')\n",
    "\n",
    "ax.legend(loc='best')"
   ]
  },
  {
   "cell_type": "code",
   "execution_count": 23,
   "metadata": {},
   "outputs": [],
   "source": [
    "# y.describe().drop(['count'])"
   ]
  },
  {
   "cell_type": "code",
   "execution_count": 24,
   "metadata": {},
   "outputs": [
    {
     "data": {
      "text/plain": [
       "mean     0.162439\n",
       "std      4.456835\n",
       "min    -13.398636\n",
       "25%     -2.886394\n",
       "50%     -0.473587\n",
       "75%      2.600106\n",
       "max     20.906858\n",
       "Name: throughput, dtype: float64"
      ]
     },
     "execution_count": 24,
     "metadata": {},
     "output_type": "execute_result"
    }
   ],
   "source": [
    "res = y_test - y_pred\n",
    "res.describe().drop('count')"
   ]
  },
  {
   "cell_type": "code",
   "execution_count": 25,
   "metadata": {},
   "outputs": [
    {
     "data": {
      "text/plain": [
       "<AxesSubplot:xlabel='throughput', ylabel='Count'>"
      ]
     },
     "execution_count": 25,
     "metadata": {},
     "output_type": "execute_result"
    },
    {
     "data": {
      "image/png": "[encoded data removed]",
      "text/plain": [
       "<Figure size 432x288 with 1 Axes>"
      ]
     },
     "metadata": {
      "needs_background": "light"
     },
     "output_type": "display_data"
    }
   ],
   "source": [
    "sns.histplot(data=res, kde=True,bins=40)"
   ]
  },
  {
   "cell_type": "code",
   "execution_count": 26,
   "metadata": {},
   "outputs": [
    {
     "data": {
      "text/plain": [
       "<matplotlib.lines.Line2D at 0x7fb1f6661ee0>"
      ]
     },
     "execution_count": 26,
     "metadata": {},
     "output_type": "execute_result"
    },
    {
     "data": {
      "image/png": "[encoded data removed]",
      "text/plain": [
       "<Figure size 432x288 with 1 Axes>"
      ]
     },
     "metadata": {
      "needs_background": "light"
     },
     "output_type": "display_data"
    }
   ],
   "source": [
    "ax = sns.scatterplot(x=y_test, y=res)\n",
    "ax.set(ylabel='Residuals', xlabel='Test Label')\n",
    "plt.axhline(y=0,color='red',linestyle='--')\n",
    "\n",
    "# there should be no clear pattern / curve in the plot\n",
    "# we see a positive correlation between Test Label and Residuals -> later models should avoid this pattern"
   ]
  },
  {
   "cell_type": "code",
   "execution_count": 27,
   "metadata": {},
   "outputs": [
    {
     "data": {
      "image/png": "[encoded data removed]",
      "text/plain": [
       "<Figure size 432x288 with 1 Axes>"
      ]
     },
     "metadata": {
      "needs_background": "light"
     },
     "output_type": "display_data"
    }
   ],
   "source": [
    "import scipy as sp\n",
    "\n",
    "fig, ax = plt.subplots()\n",
    "sp.stats.probplot(res,plot=ax);"
   ]
  },
  {
   "cell_type": "code",
   "execution_count": 28,
   "metadata": {},
   "outputs": [
    {
     "data": {
      "text/plain": [
       "PoissonRegressor()"
      ]
     },
     "execution_count": 28,
     "metadata": {},
     "output_type": "execute_result"
    }
   ],
   "source": [
    "# Scale the data\n",
    "from sklearn.preprocessing import StandardScaler\n",
    "scaler = StandardScaler()\n",
    "scaler.fit(X)\n",
    "\n",
    "X_poisson = scaler.transform(X)\n",
    "\n",
    "poisson_model = PoissonRegressor()\n",
    "poisson_model.fit(X_poisson,y)"
   ]
  },
  {
   "cell_type": "code",
   "execution_count": 29,
   "metadata": {},
   "outputs": [
    {
     "data": {
      "text/plain": [
       "array([ 8.68181619e-03,  1.37534253e-02,  3.81228501e-03, -2.89456626e-02,\n",
       "        2.77291625e-02, -7.19401290e-03, -2.40853757e-02,  9.98014866e-02,\n",
       "        5.49966777e-02,  2.49715874e-02, -2.92050724e-03, -3.68520987e-02,\n",
       "        3.37175535e-01, -1.23900730e-01, -5.96143622e-03, -2.07462555e-02,\n",
       "       -1.62299670e-02, -6.74328443e-03,  8.06844408e-03, -1.27881238e-02,\n",
       "        4.72798977e-03,  1.90618771e-02,  2.45220687e-03,  7.56142803e-03,\n",
       "        2.86633841e-03,  6.40222031e-03,  4.82572725e-03,  1.17668109e-02,\n",
       "        9.04739872e-03, -1.19498984e-02, -5.27552812e-05,  4.10121828e-03,\n",
       "       -3.37990368e-02, -1.84550072e-02,  3.30440548e-02,  2.49530694e-02,\n",
       "        7.74796978e-03, -3.69490242e-02, -3.16451753e-02, -9.82638909e-03,\n",
       "        8.46291309e-03,  1.71449190e-02,  1.14609681e-02, -1.06379386e-02,\n",
       "       -1.96478658e-02,  7.50564151e-03, -2.25193470e-02, -5.16829982e-03,\n",
       "       -7.46893407e-03,  1.40166888e-02, -2.71501100e-02, -3.92466007e-02,\n",
       "        0.00000000e+00, -8.47965753e-03, -3.62679727e-02,  1.47854769e-02,\n",
       "        1.14701413e-02,  3.98939583e-03,  6.26996061e-04,  1.03827320e-02,\n",
       "        2.02279610e-02,  8.37481030e-03,  1.64536510e-02, -3.00034948e-02,\n",
       "        0.00000000e+00,  6.01481054e-03,  2.20082718e-02, -7.27155257e-03,\n",
       "        1.84591610e-02, -2.08952100e-02, -1.03347137e-02, -2.87155006e-03,\n",
       "       -4.41088378e-03, -1.83242156e-03,  2.54651359e-02, -1.60463903e-03,\n",
       "       -2.59059598e-02, -5.83027044e-02, -1.10778076e-02,  1.95295210e-02,\n",
       "        1.86660974e-02,  4.63427780e-04, -5.45900499e-03,  6.99141864e-04,\n",
       "        4.82919223e-04,  3.80072163e-03])"
      ]
     },
     "execution_count": 29,
     "metadata": {},
     "output_type": "execute_result"
    }
   ],
   "source": [
    "model.coef_"
   ]
  },
  {
   "cell_type": "code",
   "execution_count": 30,
   "metadata": {},
   "outputs": [],
   "source": [
    "# coef_df = pd.DataFrame(data=model.coef_,index=X.columns,columns=['beta'])\n",
    "# coef_df"
   ]
  },
  {
   "cell_type": "code",
   "execution_count": 31,
   "metadata": {},
   "outputs": [
    {
     "data": {
      "text/plain": [
       "array([ 4.39141590e-03,  1.39153779e-02,  2.42694491e-03, -2.14924553e-02,\n",
       "        3.36577508e-02, -3.25455072e-03, -1.06221678e-02,  9.71270796e-02,\n",
       "        5.06925530e-02,  2.75360015e-02, -4.49888992e-04, -4.25291803e-02,\n",
       "        3.40876312e-01, -1.21135739e-01,  3.80062707e-04, -1.53621128e-02,\n",
       "       -1.50443873e-02, -5.95072114e-03,  5.61292275e-03, -3.63214866e-03,\n",
       "        7.39826226e-03,  1.85893295e-02,  7.64719297e-03,  1.50687508e-02,\n",
       "       -1.48064084e-03,  2.20399890e-03,  4.51321956e-03,  1.39851995e-02,\n",
       "        7.83034933e-03, -1.07194229e-02,  2.11482380e-03,  2.72010323e-03,\n",
       "       -2.74571017e-02, -1.48920475e-02,  3.10647737e-02,  3.04358254e-02,\n",
       "        1.00902972e-02, -3.47694419e-02, -4.00861880e-02, -2.88093612e-02,\n",
       "        1.12463052e-02,  1.70165383e-02,  1.22415525e-02, -2.24872453e-02,\n",
       "       -1.99009301e-02,  6.41195697e-03, -1.79669827e-02, -3.40439080e-03,\n",
       "       -6.79440006e-03,  4.41068789e-03, -1.88694991e-02, -3.17783470e-02,\n",
       "       -1.96969543e-02, -6.80059684e-03, -2.20772404e-02,  1.71193218e-02,\n",
       "        1.05840654e-02, -7.51553703e-04, -4.62294469e-05,  1.19203093e-02,\n",
       "        1.50440095e-02, -2.51256374e-03,  1.70597973e-02, -1.49265959e-02,\n",
       "        3.21908938e-03,  6.53220606e-03,  1.89236635e-02, -5.57755231e-03,\n",
       "        1.59398356e-02, -2.94926113e-02, -7.89182716e-03, -2.16297199e-03,\n",
       "       -3.72233680e-03,  1.06073077e-02,  1.90725507e-02,  2.99100401e-03,\n",
       "       -3.39505112e-02, -4.63406403e-02, -6.22960677e-03,  1.15210591e-02,\n",
       "        1.83334224e-02, -4.50265105e-03, -6.18636962e-04,  1.44624280e-03,\n",
       "       -2.77098635e-03,  3.68313135e-03])"
      ]
     },
     "execution_count": 31,
     "metadata": {},
     "output_type": "execute_result"
    }
   ],
   "source": [
    "poisson_model.coef_"
   ]
  },
  {
   "cell_type": "code",
   "execution_count": 32,
   "metadata": {},
   "outputs": [],
   "source": [
    "# coef_df = pd.DataFrame(data=poisson_model.coef_,index=X.columns,columns=['beta'])\n",
    "# coef_df"
   ]
  },
  {
   "cell_type": "code",
   "execution_count": 33,
   "metadata": {},
   "outputs": [
    {
     "data": {
      "text/html": [
       "<div>\n",
       "<style scoped>\n",
       "    .dataframe tbody tr th:only-of-type {\n",
       "        vertical-align: middle;\n",
       "    }\n",
       "\n",
       "    .dataframe tbody tr th {\n",
       "        vertical-align: top;\n",
       "    }\n",
       "\n",
       "    .dataframe thead th {\n",
       "        text-align: right;\n",
       "    }\n",
       "</style>\n",
       "<table border=\"1\" class=\"dataframe\">\n",
       "  <thead>\n",
       "    <tr style=\"text-align: right;\">\n",
       "      <th></th>\n",
       "      <th>delta_beta</th>\n",
       "    </tr>\n",
       "  </thead>\n",
       "  <tbody>\n",
       "    <tr>\n",
       "      <th>distance</th>\n",
       "      <td>-0.004290</td>\n",
       "    </tr>\n",
       "    <tr>\n",
       "      <th>lat</th>\n",
       "      <td>0.000162</td>\n",
       "    </tr>\n",
       "    <tr>\n",
       "      <th>lon</th>\n",
       "      <td>-0.001385</td>\n",
       "    </tr>\n",
       "    <tr>\n",
       "      <th>alt</th>\n",
       "      <td>0.007453</td>\n",
       "    </tr>\n",
       "    <tr>\n",
       "      <th>speed</th>\n",
       "      <td>0.005929</td>\n",
       "    </tr>\n",
       "    <tr>\n",
       "      <th>...</th>\n",
       "      <td>...</td>\n",
       "    </tr>\n",
       "    <tr>\n",
       "      <th>region_urban</th>\n",
       "      <td>-0.004966</td>\n",
       "    </tr>\n",
       "    <tr>\n",
       "      <th>weekday_Monday</th>\n",
       "      <td>0.004840</td>\n",
       "    </tr>\n",
       "    <tr>\n",
       "      <th>weekday_Thursday</th>\n",
       "      <td>0.000747</td>\n",
       "    </tr>\n",
       "    <tr>\n",
       "      <th>weekday_Tuesday</th>\n",
       "      <td>-0.003254</td>\n",
       "    </tr>\n",
       "    <tr>\n",
       "      <th>weekday_Wednesday</th>\n",
       "      <td>-0.000118</td>\n",
       "    </tr>\n",
       "  </tbody>\n",
       "</table>\n",
       "<p>86 rows × 1 columns</p>\n",
       "</div>"
      ],
      "text/plain": [
       "                   delta_beta\n",
       "distance            -0.004290\n",
       "lat                  0.000162\n",
       "lon                 -0.001385\n",
       "alt                  0.007453\n",
       "speed                0.005929\n",
       "...                       ...\n",
       "region_urban        -0.004966\n",
       "weekday_Monday       0.004840\n",
       "weekday_Thursday     0.000747\n",
       "weekday_Tuesday     -0.003254\n",
       "weekday_Wednesday   -0.000118\n",
       "\n",
       "[86 rows x 1 columns]"
      ]
     },
     "execution_count": 33,
     "metadata": {},
     "output_type": "execute_result"
    }
   ],
   "source": [
    "delta_df = pd.DataFrame(data=poisson_model.coef_ - model.coef_,index=X.columns,columns=['delta_beta'])\n",
    "delta_df"
   ]
  },
  {
   "cell_type": "code",
   "execution_count": 34,
   "metadata": {},
   "outputs": [
    {
     "data": {
      "text/html": [
       "<div>\n",
       "<style scoped>\n",
       "    .dataframe tbody tr th:only-of-type {\n",
       "        vertical-align: middle;\n",
       "    }\n",
       "\n",
       "    .dataframe tbody tr th {\n",
       "        vertical-align: top;\n",
       "    }\n",
       "\n",
       "    .dataframe thead th {\n",
       "        text-align: right;\n",
       "    }\n",
       "</style>\n",
       "<table border=\"1\" class=\"dataframe\">\n",
       "  <thead>\n",
       "    <tr style=\"text-align: right;\">\n",
       "      <th></th>\n",
       "      <th>ci_28368651</th>\n",
       "      <th>ci_27771906</th>\n",
       "      <th>ci_28365056</th>\n",
       "      <th>ci_29563904</th>\n",
       "      <th>ci_28368384</th>\n",
       "      <th>ci_30422273</th>\n",
       "      <th>ci_27771905</th>\n",
       "      <th>ci_33527559</th>\n",
       "      <th>region_highway</th>\n",
       "      <th>ci_33527552</th>\n",
       "      <th>ta</th>\n",
       "      <th>ci_29401601</th>\n",
       "      <th>region_urban</th>\n",
       "      <th>ci_29391105</th>\n",
       "      <th>ci_26796291</th>\n",
       "      <th>rsrq</th>\n",
       "      <th>distance</th>\n",
       "      <th>ci_27029251</th>\n",
       "      <th>weekday_Tuesday</th>\n",
       "      <th>ci_29913344</th>\n",
       "      <th>rsrp</th>\n",
       "      <th>ci_29913346</th>\n",
       "      <th>ci_26378755</th>\n",
       "      <th>ci_27770889</th>\n",
       "      <th>lon</th>\n",
       "      <th>ci_27770885</th>\n",
       "      <th>ci_27299331</th>\n",
       "      <th>ci_28365058</th>\n",
       "      <th>ci_29391104</th>\n",
       "      <th>ci_29391106</th>\n",
       "      <th>ci_26385409</th>\n",
       "      <th>region_suburban</th>\n",
       "      <th>ci_27256324</th>\n",
       "      <th>ci_28365057</th>\n",
       "      <th>ci_27771908</th>\n",
       "      <th>weekday_Wednesday</th>\n",
       "      <th>lat</th>\n",
       "      <th>ci_29908736</th>\n",
       "      <th>ci_29568768</th>\n",
       "      <th>ci_28367106</th>\n",
       "      <th>ci_31281409</th>\n",
       "      <th>ci_31263232</th>\n",
       "      <th>weekday_Thursday</th>\n",
       "      <th>ci_27771909</th>\n",
       "      <th>ci_26378754</th>\n",
       "      <th>ci_26378498</th>\n",
       "      <th>ci_27299332</th>\n",
       "      <th>ci_29398276</th>\n",
       "      <th>ci_28371200</th>\n",
       "      <th>ci_29913345</th>\n",
       "      <th>ci_28367105</th>\n",
       "      <th>ci_27770883</th>\n",
       "      <th>ci_27771904</th>\n",
       "      <th>ci_27256325</th>\n",
       "      <th>ci_28371202</th>\n",
       "      <th>ci_27771140</th>\n",
       "      <th>ci_30492930</th>\n",
       "      <th>cqi</th>\n",
       "      <th>sinr</th>\n",
       "      <th>ci_26385408</th>\n",
       "      <th>rtt</th>\n",
       "      <th>ci_27771907</th>\n",
       "      <th>ci_29568770</th>\n",
       "      <th>ci_27770888</th>\n",
       "      <th>payload</th>\n",
       "      <th>acc</th>\n",
       "      <th>ci_28365063</th>\n",
       "      <th>ci_33527554</th>\n",
       "      <th>weekday_Monday</th>\n",
       "      <th>ci_33837570</th>\n",
       "      <th>ci_26385410</th>\n",
       "      <th>ci_26378497</th>\n",
       "      <th>ci_27771139</th>\n",
       "      <th>speed</th>\n",
       "      <th>hour</th>\n",
       "      <th>ci_27770886</th>\n",
       "      <th>alt</th>\n",
       "      <th>ci_28368642</th>\n",
       "      <th>ci_26796290</th>\n",
       "      <th>ci_28368386</th>\n",
       "      <th>ci_26379013</th>\n",
       "      <th>ci_33527561</th>\n",
       "      <th>ci_33519104</th>\n",
       "      <th>dir</th>\n",
       "      <th>ci_28371201</th>\n",
       "      <th>ci_29568769</th>\n",
       "    </tr>\n",
       "  </thead>\n",
       "  <tbody>\n",
       "    <tr>\n",
       "      <th>delta_beta</th>\n",
       "      <td>-0.019697</td>\n",
       "      <td>-0.018983</td>\n",
       "      <td>-0.011849</td>\n",
       "      <td>-0.010887</td>\n",
       "      <td>-0.009606</td>\n",
       "      <td>-0.008597</td>\n",
       "      <td>-0.008441</td>\n",
       "      <td>-0.008045</td>\n",
       "      <td>-0.008008</td>\n",
       "      <td>-0.006393</td>\n",
       "      <td>-0.005677</td>\n",
       "      <td>-0.005184</td>\n",
       "      <td>-0.004966</td>\n",
       "      <td>-0.004741</td>\n",
       "      <td>-0.004347</td>\n",
       "      <td>-0.004304</td>\n",
       "      <td>-0.00429</td>\n",
       "      <td>-0.004198</td>\n",
       "      <td>-0.003254</td>\n",
       "      <td>-0.003085</td>\n",
       "      <td>-0.002674</td>\n",
       "      <td>-0.002519</td>\n",
       "      <td>-0.002456</td>\n",
       "      <td>-0.001979</td>\n",
       "      <td>-0.001385</td>\n",
       "      <td>-0.001381</td>\n",
       "      <td>-0.001217</td>\n",
       "      <td>-0.001094</td>\n",
       "      <td>-0.000886</td>\n",
       "      <td>-0.000673</td>\n",
       "      <td>-0.000473</td>\n",
       "      <td>-0.000333</td>\n",
       "      <td>-0.000313</td>\n",
       "      <td>-0.000253</td>\n",
       "      <td>-0.000128</td>\n",
       "      <td>-0.000118</td>\n",
       "      <td>0.000162</td>\n",
       "      <td>0.000517</td>\n",
       "      <td>0.000606</td>\n",
       "      <td>0.000675</td>\n",
       "      <td>0.000689</td>\n",
       "      <td>0.000709</td>\n",
       "      <td>0.000747</td>\n",
       "      <td>0.000781</td>\n",
       "      <td>0.000793</td>\n",
       "      <td>0.001186</td>\n",
       "      <td>0.00123</td>\n",
       "      <td>0.001538</td>\n",
       "      <td>0.001679</td>\n",
       "      <td>0.001694</td>\n",
       "      <td>0.001764</td>\n",
       "      <td>0.002168</td>\n",
       "      <td>0.00218</td>\n",
       "      <td>0.002218</td>\n",
       "      <td>0.002334</td>\n",
       "      <td>0.002342</td>\n",
       "      <td>0.002443</td>\n",
       "      <td>0.002471</td>\n",
       "      <td>0.002564</td>\n",
       "      <td>0.00267</td>\n",
       "      <td>0.002765</td>\n",
       "      <td>0.002783</td>\n",
       "      <td>0.003219</td>\n",
       "      <td>0.003563</td>\n",
       "      <td>0.003701</td>\n",
       "      <td>0.003939</td>\n",
       "      <td>0.004552</td>\n",
       "      <td>0.004596</td>\n",
       "      <td>0.00484</td>\n",
       "      <td>0.004848</td>\n",
       "      <td>0.005195</td>\n",
       "      <td>0.005384</td>\n",
       "      <td>0.005483</td>\n",
       "      <td>0.005929</td>\n",
       "      <td>0.006341</td>\n",
       "      <td>0.006342</td>\n",
       "      <td>0.007453</td>\n",
       "      <td>0.007468</td>\n",
       "      <td>0.007507</td>\n",
       "      <td>0.008281</td>\n",
       "      <td>0.009156</td>\n",
       "      <td>0.011962</td>\n",
       "      <td>0.01244</td>\n",
       "      <td>0.013463</td>\n",
       "      <td>0.014191</td>\n",
       "      <td>0.015077</td>\n",
       "    </tr>\n",
       "  </tbody>\n",
       "</table>\n",
       "</div>"
      ],
      "text/plain": [
       "            ci_28368651  ci_27771906  ci_28365056  ci_29563904  ci_28368384  \\\n",
       "delta_beta    -0.019697    -0.018983    -0.011849    -0.010887    -0.009606   \n",
       "\n",
       "            ci_30422273  ci_27771905  ci_33527559  region_highway  \\\n",
       "delta_beta    -0.008597    -0.008441    -0.008045       -0.008008   \n",
       "\n",
       "            ci_33527552        ta  ci_29401601  region_urban  ci_29391105  \\\n",
       "delta_beta    -0.006393 -0.005677    -0.005184     -0.004966    -0.004741   \n",
       "\n",
       "            ci_26796291      rsrq  distance  ci_27029251  weekday_Tuesday  \\\n",
       "delta_beta    -0.004347 -0.004304  -0.00429    -0.004198        -0.003254   \n",
       "\n",
       "            ci_29913344      rsrp  ci_29913346  ci_26378755  ci_27770889  \\\n",
       "delta_beta    -0.003085 -0.002674    -0.002519    -0.002456    -0.001979   \n",
       "\n",
       "                 lon  ci_27770885  ci_27299331  ci_28365058  ci_29391104  \\\n",
       "delta_beta -0.001385    -0.001381    -0.001217    -0.001094    -0.000886   \n",
       "\n",
       "            ci_29391106  ci_26385409  region_suburban  ci_27256324  \\\n",
       "delta_beta    -0.000673    -0.000473        -0.000333    -0.000313   \n",
       "\n",
       "            ci_28365057  ci_27771908  weekday_Wednesday       lat  \\\n",
       "delta_beta    -0.000253    -0.000128          -0.000118  0.000162   \n",
       "\n",
       "            ci_29908736  ci_29568768  ci_28367106  ci_31281409  ci_31263232  \\\n",
       "delta_beta     0.000517     0.000606     0.000675     0.000689     0.000709   \n",
       "\n",
       "            weekday_Thursday  ci_27771909  ci_26378754  ci_26378498  \\\n",
       "delta_beta          0.000747     0.000781     0.000793     0.001186   \n",
       "\n",
       "            ci_27299332  ci_29398276  ci_28371200  ci_29913345  ci_28367105  \\\n",
       "delta_beta      0.00123     0.001538     0.001679     0.001694     0.001764   \n",
       "\n",
       "            ci_27770883  ci_27771904  ci_27256325  ci_28371202  ci_27771140  \\\n",
       "delta_beta     0.002168      0.00218     0.002218     0.002334     0.002342   \n",
       "\n",
       "            ci_30492930       cqi      sinr  ci_26385408       rtt  \\\n",
       "delta_beta     0.002443  0.002471  0.002564      0.00267  0.002765   \n",
       "\n",
       "            ci_27771907  ci_29568770  ci_27770888   payload       acc  \\\n",
       "delta_beta     0.002783     0.003219     0.003563  0.003701  0.003939   \n",
       "\n",
       "            ci_28365063  ci_33527554  weekday_Monday  ci_33837570  \\\n",
       "delta_beta     0.004552     0.004596         0.00484     0.004848   \n",
       "\n",
       "            ci_26385410  ci_26378497  ci_27771139     speed      hour  \\\n",
       "delta_beta     0.005195     0.005384     0.005483  0.005929  0.006341   \n",
       "\n",
       "            ci_27770886       alt  ci_28368642  ci_26796290  ci_28368386  \\\n",
       "delta_beta     0.006342  0.007453     0.007468     0.007507     0.008281   \n",
       "\n",
       "            ci_26379013  ci_33527561  ci_33519104       dir  ci_28371201  \\\n",
       "delta_beta     0.009156     0.011962      0.01244  0.013463     0.014191   \n",
       "\n",
       "            ci_29568769  \n",
       "delta_beta     0.015077  "
      ]
     },
     "execution_count": 34,
     "metadata": {},
     "output_type": "execute_result"
    }
   ],
   "source": [
    "pd.set_option('display.max_columns',None)\n",
    "delta_df.sort_values('delta_beta').sort_values('delta_beta').transpose()"
   ]
  },
  {
   "cell_type": "code",
   "execution_count": 35,
   "metadata": {},
   "outputs": [
    {
     "data": {
      "text/plain": [
       "<AxesSubplot:ylabel='Count'>"
      ]
     },
     "execution_count": 35,
     "metadata": {},
     "output_type": "execute_result"
    },
    {
     "data": {
      "image/png": "[encoded data removed]",
      "text/plain": [
       "<Figure size 432x288 with 1 Axes>"
      ]
     },
     "metadata": {
      "needs_background": "light"
     },
     "output_type": "display_data"
    }
   ],
   "source": [
    "sns.histplot(data=delta_df,bins=40,kde=True)"
   ]
  },
  {
   "cell_type": "code",
   "execution_count": 36,
   "metadata": {},
   "outputs": [],
   "source": [
    "y_pred_poisson = poisson_model.predict(X_poisson)"
   ]
  },
  {
   "cell_type": "code",
   "execution_count": 37,
   "metadata": {},
   "outputs": [
    {
     "data": {
      "text/plain": [
       "<AxesSubplot:ylabel='Count'>"
      ]
     },
     "execution_count": 37,
     "metadata": {},
     "output_type": "execute_result"
    },
    {
     "data": {
      "image/png": "[encoded data removed]",
      "text/plain": [
       "<Figure size 432x288 with 1 Axes>"
      ]
     },
     "metadata": {
      "needs_background": "light"
     },
     "output_type": "display_data"
    }
   ],
   "source": [
    "sns.histplot(y_pred_poisson,bins=40,kde=True)"
   ]
  },
  {
   "cell_type": "code",
   "execution_count": 38,
   "metadata": {},
   "outputs": [
    {
     "data": {
      "text/plain": [
       "<matplotlib.legend.Legend at 0x7fb1f4a3dbb0>"
      ]
     },
     "execution_count": 38,
     "metadata": {},
     "output_type": "execute_result"
    },
    {
     "data": {
      "image/png": "[encoded data removed]",
      "text/plain": [
       "<Figure size 432x288 with 1 Axes>"
      ]
     },
     "metadata": {
      "needs_background": "light"
     },
     "output_type": "display_data"
    }
   ],
   "source": [
    "fig,ax = plt.subplots()\n",
    "\n",
    "sns.kdeplot(y, ax=ax, shade=True, label='Observations')\n",
    "sns.kdeplot(y_pred_poisson, ax=ax,shade=True,label='Predictions')\n",
    "\n",
    "ax.legend(loc='best')"
   ]
  },
  {
   "cell_type": "code",
   "execution_count": 39,
   "metadata": {},
   "outputs": [
    {
     "data": {
      "text/plain": [
       "<matplotlib.legend.Legend at 0x7fb1f6c0c9a0>"
      ]
     },
     "execution_count": 39,
     "metadata": {},
     "output_type": "execute_result"
    },
    {
     "data": {
      "image/png": "[encoded data removed]",
      "text/plain": [
       "<Figure size 432x288 with 1 Axes>"
      ]
     },
     "metadata": {
      "needs_background": "light"
     },
     "output_type": "display_data"
    }
   ],
   "source": [
    "fig,ax = plt.subplots()\n",
    "\n",
    "sns.ecdfplot(y, ax=ax, label='Observations')\n",
    "sns.ecdfplot(y_pred_poisson, ax=ax,label='Predictions')\n",
    "plt.axvline(x=y.mean(),color='grey',linestyle='--')\n",
    "\n",
    "ax.legend(loc='best')"
   ]
  },
  {
   "cell_type": "code",
   "execution_count": 40,
   "metadata": {},
   "outputs": [],
   "source": [
    "mae = mean_absolute_error(y,y_pred_poisson)\n",
    "mse = mean_squared_error(y,y_pred_poisson)\n",
    "rmse = np.sqrt(mse)"
   ]
  },
  {
   "cell_type": "code",
   "execution_count": 41,
   "metadata": {},
   "outputs": [
    {
     "data": {
      "text/html": [
       "<div>\n",
       "<style scoped>\n",
       "    .dataframe tbody tr th:only-of-type {\n",
       "        vertical-align: middle;\n",
       "    }\n",
       "\n",
       "    .dataframe tbody tr th {\n",
       "        vertical-align: top;\n",
       "    }\n",
       "\n",
       "    .dataframe thead th {\n",
       "        text-align: right;\n",
       "    }\n",
       "</style>\n",
       "<table border=\"1\" class=\"dataframe\">\n",
       "  <thead>\n",
       "    <tr style=\"text-align: right;\">\n",
       "      <th></th>\n",
       "      <th>PR</th>\n",
       "    </tr>\n",
       "  </thead>\n",
       "  <tbody>\n",
       "    <tr>\n",
       "      <th>MAE</th>\n",
       "      <td>3.216113</td>\n",
       "    </tr>\n",
       "    <tr>\n",
       "      <th>MSE</th>\n",
       "      <td>17.816642</td>\n",
       "    </tr>\n",
       "    <tr>\n",
       "      <th>RMSE</th>\n",
       "      <td>4.220976</td>\n",
       "    </tr>\n",
       "  </tbody>\n",
       "</table>\n",
       "</div>"
      ],
      "text/plain": [
       "             PR\n",
       "MAE    3.216113\n",
       "MSE   17.816642\n",
       "RMSE   4.220976"
      ]
     },
     "execution_count": 41,
     "metadata": {},
     "output_type": "execute_result"
    }
   ],
   "source": [
    "err_df = pd.DataFrame(data=[mae, mse, rmse],index=['MAE','MSE','RMSE'],columns=['PR'])\n",
    "err_df"
   ]
  },
  {
   "cell_type": "code",
   "execution_count": 42,
   "metadata": {},
   "outputs": [],
   "source": [
    "# err_df.to_csv('./model-err/poi-model-err.csv')"
   ]
  },
  {
   "cell_type": "code",
   "execution_count": 43,
   "metadata": {},
   "outputs": [
    {
     "data": {
      "text/plain": [
       "['./baseline-models/poi-baseline-wo.joblib']"
      ]
     },
     "execution_count": 43,
     "metadata": {},
     "output_type": "execute_result"
    }
   ],
   "source": [
    "from joblib import dump, load\n",
    "dump(poisson_model, f'./baseline-models/{model_name}.joblib')"
   ]
  },
  {
   "cell_type": "markdown",
   "metadata": {},
   "source": [
    "DONE!"
   ]
  },
  {
   "cell_type": "code",
   "execution_count": null,
   "metadata": {},
   "outputs": [],
   "source": []
  }
 ],
 "metadata": {
  "kernelspec": {
   "display_name": "Python 3",
   "language": "python",
   "name": "python3"
  },
  "language_info": {
   "codemirror_mode": {
    "name": "ipython",
    "version": 3
   },
   "file_extension": ".py",
   "mimetype": "text/x-python",
   "name": "python",
   "nbconvert_exporter": "python",
   "pygments_lexer": "ipython3",
   "version": "3.8.6"
  }
 },
 "nbformat": 4,
 "nbformat_minor": 4
}
