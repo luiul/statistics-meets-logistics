{
 "cells": [
  {
   "cell_type": "code",
   "execution_count": 1,
   "id": "legendary-satin",
   "metadata": {},
   "outputs": [],
   "source": [
    "# MODIFY! \n",
    "model_name = 'ElNetReg'"
   ]
  },
  {
   "cell_type": "markdown",
   "id": "framed-short",
   "metadata": {},
   "source": [
    "# Import Libraries & Data "
   ]
  },
  {
   "cell_type": "code",
   "execution_count": 2,
   "id": "animated-radiation",
   "metadata": {},
   "outputs": [],
   "source": [
    "import numpy as np\n",
    "import pandas as pd\n",
    "import matplotlib.pyplot as plt\n",
    "import seaborn as sns"
   ]
  },
  {
   "cell_type": "code",
   "execution_count": 3,
   "id": "smoking-corruption",
   "metadata": {},
   "outputs": [],
   "source": [
    "df = pd.read_csv('./data/dl-pfe-ns.csv')\n",
    "X = df.drop('throughput',axis=1)\n",
    "y = df['throughput']"
   ]
  },
  {
   "cell_type": "markdown",
   "id": "bibliographic-firewall",
   "metadata": {},
   "source": [
    "---"
   ]
  },
  {
   "cell_type": "markdown",
   "id": "official-greece",
   "metadata": {},
   "source": [
    "# Scale Data"
   ]
  },
  {
   "cell_type": "code",
   "execution_count": 4,
   "id": "executed-remark",
   "metadata": {},
   "outputs": [
    {
     "data": {
      "text/plain": [
       "StandardScaler()"
      ]
     },
     "execution_count": 4,
     "metadata": {},
     "output_type": "execute_result"
    }
   ],
   "source": [
    "# Split the data\n",
    "from sklearn.model_selection import train_test_split\n",
    "X_train, X_test, y_train, y_test = train_test_split(X, y, test_size=0.1, random_state=42)\n",
    "\n",
    "# Scale the data\n",
    "from sklearn.preprocessing import StandardScaler\n",
    "scaler = StandardScaler()\n",
    "scaler.fit(X_train)"
   ]
  },
  {
   "cell_type": "code",
   "execution_count": 5,
   "id": "handed-heather",
   "metadata": {},
   "outputs": [],
   "source": [
    "X_train = scaler.transform(X_train)\n",
    "X_test = scaler.transform(X_test)"
   ]
  },
  {
   "cell_type": "markdown",
   "id": "industrial-hobby",
   "metadata": {},
   "source": [
    "# Determine Hyperparameters"
   ]
  },
  {
   "cell_type": "code",
   "execution_count": 6,
   "id": "falling-effectiveness",
   "metadata": {},
   "outputs": [],
   "source": [
    "# MODIFY!\n",
    "from sklearn.linear_model import ElasticNetCV\n",
    "model = ElasticNetCV(l1_ratio=[.1, .5, .7,.8,.9, .95, .99, 1],max_iter=1000000,cv=10)\n",
    "model"
   ]
  },
  {
   "cell_type": "code",
   "execution_count": 7,
   "id": "raised-chancellor",
   "metadata": {},
   "outputs": [
    {
     "data": {
      "text/plain": [
       "ElasticNetCV(cv=10, l1_ratio=[0.1, 0.5, 0.7, 0.8, 0.9, 0.95, 0.99, 1],\n",
       "             max_iter=1000000)"
      ]
     },
     "execution_count": 7,
     "metadata": {},
     "output_type": "execute_result"
    }
   ],
   "source": [
    "model.fit(X_train, y_train)"
   ]
  },
  {
   "cell_type": "code",
   "execution_count": 8,
   "id": "accessory-syria",
   "metadata": {},
   "outputs": [
    {
     "data": {
      "text/plain": [
       "1.0"
      ]
     },
     "execution_count": 8,
     "metadata": {},
     "output_type": "execute_result"
    }
   ],
   "source": [
    "model.l1_ratio_"
   ]
  },
  {
   "cell_type": "code",
   "execution_count": 9,
   "id": "pacific-investor",
   "metadata": {},
   "outputs": [
    {
     "data": {
      "text/plain": [
       "0.004826971475964716"
      ]
     },
     "execution_count": 9,
     "metadata": {},
     "output_type": "execute_result"
    }
   ],
   "source": [
    "model.alpha_"
   ]
  },
  {
   "cell_type": "code",
   "execution_count": 10,
   "id": "thermal-million",
   "metadata": {},
   "outputs": [],
   "source": [
    "hp = pd.Series(name=f'{model_name} HP', data=[model.l1_ratio_, model.alpha_],index=['l1_ratio','alpha'])"
   ]
  },
  {
   "cell_type": "code",
   "execution_count": 11,
   "id": "synthetic-realtor",
   "metadata": {},
   "outputs": [
    {
     "data": {
      "text/plain": [
       "l1_ratio    1.000000\n",
       "alpha       0.004827\n",
       "Name: ElNetReg HP, dtype: float64"
      ]
     },
     "execution_count": 11,
     "metadata": {},
     "output_type": "execute_result"
    }
   ],
   "source": [
    "hp"
   ]
  },
  {
   "cell_type": "code",
   "execution_count": 12,
   "id": "cosmetic-surgery",
   "metadata": {},
   "outputs": [],
   "source": [
    "hp.to_csv(f'./hyperparameters/{model_name}-hp.csv')"
   ]
  },
  {
   "cell_type": "markdown",
   "id": "aquatic-ticket",
   "metadata": {},
   "source": [
    "# Score Model"
   ]
  },
  {
   "cell_type": "code",
   "execution_count": 13,
   "id": "signal-expense",
   "metadata": {},
   "outputs": [
    {
     "data": {
      "text/plain": [
       "ElasticNet(alpha=0.004826971475964716, l1_ratio=1.0)"
      ]
     },
     "execution_count": 13,
     "metadata": {},
     "output_type": "execute_result"
    }
   ],
   "source": [
    "# MODIFY!\n",
    "from sklearn.linear_model import ElasticNet\n",
    "\n",
    "score_model = ElasticNet(\n",
    "    alpha = model.alpha_,\n",
    "    l1_ratio = model.l1_ratio_\n",
    ")\n",
    "\n",
    "score_model"
   ]
  },
  {
   "cell_type": "code",
   "execution_count": 14,
   "id": "metropolitan-prize",
   "metadata": {},
   "outputs": [],
   "source": [
    "from sklearn.model_selection import cross_validate\n",
    "\n",
    "scores = cross_validate(\n",
    "    score_model, \n",
    "    X_train, \n",
    "    y_train,\n",
    "    scoring=[\n",
    "        'neg_mean_absolute_error',\n",
    "        'neg_mean_squared_error',\n",
    "        'neg_root_mean_squared_error'\n",
    "    ],\n",
    "    cv=10\n",
    ")"
   ]
  },
  {
   "cell_type": "code",
   "execution_count": 15,
   "id": "spanish-brazil",
   "metadata": {},
   "outputs": [],
   "source": [
    "scores = pd.DataFrame(scores)"
   ]
  },
  {
   "cell_type": "code",
   "execution_count": 16,
   "id": "coastal-joint",
   "metadata": {},
   "outputs": [
    {
     "data": {
      "text/html": [
       "<div>\n",
       "<style scoped>\n",
       "    .dataframe tbody tr th:only-of-type {\n",
       "        vertical-align: middle;\n",
       "    }\n",
       "\n",
       "    .dataframe tbody tr th {\n",
       "        vertical-align: top;\n",
       "    }\n",
       "\n",
       "    .dataframe thead th {\n",
       "        text-align: right;\n",
       "    }\n",
       "</style>\n",
       "<table border=\"1\" class=\"dataframe\">\n",
       "  <thead>\n",
       "    <tr style=\"text-align: right;\">\n",
       "      <th></th>\n",
       "      <th>fit_time</th>\n",
       "      <th>score_time</th>\n",
       "      <th>test_neg_mean_absolute_error</th>\n",
       "      <th>test_neg_mean_squared_error</th>\n",
       "      <th>test_neg_root_mean_squared_error</th>\n",
       "    </tr>\n",
       "  </thead>\n",
       "  <tbody>\n",
       "    <tr>\n",
       "      <th>0</th>\n",
       "      <td>0.096381</td>\n",
       "      <td>0.001822</td>\n",
       "      <td>-3.238403</td>\n",
       "      <td>-17.381108</td>\n",
       "      <td>-4.169066</td>\n",
       "    </tr>\n",
       "    <tr>\n",
       "      <th>1</th>\n",
       "      <td>0.085682</td>\n",
       "      <td>0.001748</td>\n",
       "      <td>-3.044187</td>\n",
       "      <td>-16.159304</td>\n",
       "      <td>-4.019864</td>\n",
       "    </tr>\n",
       "    <tr>\n",
       "      <th>2</th>\n",
       "      <td>0.081089</td>\n",
       "      <td>0.001548</td>\n",
       "      <td>-3.224772</td>\n",
       "      <td>-16.911956</td>\n",
       "      <td>-4.112415</td>\n",
       "    </tr>\n",
       "    <tr>\n",
       "      <th>3</th>\n",
       "      <td>0.105673</td>\n",
       "      <td>0.005017</td>\n",
       "      <td>-3.324538</td>\n",
       "      <td>-18.425821</td>\n",
       "      <td>-4.292531</td>\n",
       "    </tr>\n",
       "    <tr>\n",
       "      <th>4</th>\n",
       "      <td>0.103316</td>\n",
       "      <td>0.003665</td>\n",
       "      <td>-3.122472</td>\n",
       "      <td>-17.010849</td>\n",
       "      <td>-4.124421</td>\n",
       "    </tr>\n",
       "    <tr>\n",
       "      <th>5</th>\n",
       "      <td>0.101624</td>\n",
       "      <td>0.002894</td>\n",
       "      <td>-3.260358</td>\n",
       "      <td>-16.965677</td>\n",
       "      <td>-4.118941</td>\n",
       "    </tr>\n",
       "    <tr>\n",
       "      <th>6</th>\n",
       "      <td>0.144414</td>\n",
       "      <td>0.002353</td>\n",
       "      <td>-3.394827</td>\n",
       "      <td>-20.800475</td>\n",
       "      <td>-4.560754</td>\n",
       "    </tr>\n",
       "    <tr>\n",
       "      <th>7</th>\n",
       "      <td>0.084327</td>\n",
       "      <td>0.001725</td>\n",
       "      <td>-3.130546</td>\n",
       "      <td>-16.624699</td>\n",
       "      <td>-4.077340</td>\n",
       "    </tr>\n",
       "    <tr>\n",
       "      <th>8</th>\n",
       "      <td>0.095556</td>\n",
       "      <td>0.001905</td>\n",
       "      <td>-2.963464</td>\n",
       "      <td>-14.712157</td>\n",
       "      <td>-3.835643</td>\n",
       "    </tr>\n",
       "    <tr>\n",
       "      <th>9</th>\n",
       "      <td>0.114082</td>\n",
       "      <td>0.001884</td>\n",
       "      <td>-2.834876</td>\n",
       "      <td>-14.504595</td>\n",
       "      <td>-3.808490</td>\n",
       "    </tr>\n",
       "  </tbody>\n",
       "</table>\n",
       "</div>"
      ],
      "text/plain": [
       "   fit_time  score_time  test_neg_mean_absolute_error  \\\n",
       "0  0.096381    0.001822                     -3.238403   \n",
       "1  0.085682    0.001748                     -3.044187   \n",
       "2  0.081089    0.001548                     -3.224772   \n",
       "3  0.105673    0.005017                     -3.324538   \n",
       "4  0.103316    0.003665                     -3.122472   \n",
       "5  0.101624    0.002894                     -3.260358   \n",
       "6  0.144414    0.002353                     -3.394827   \n",
       "7  0.084327    0.001725                     -3.130546   \n",
       "8  0.095556    0.001905                     -2.963464   \n",
       "9  0.114082    0.001884                     -2.834876   \n",
       "\n",
       "   test_neg_mean_squared_error  test_neg_root_mean_squared_error  \n",
       "0                   -17.381108                         -4.169066  \n",
       "1                   -16.159304                         -4.019864  \n",
       "2                   -16.911956                         -4.112415  \n",
       "3                   -18.425821                         -4.292531  \n",
       "4                   -17.010849                         -4.124421  \n",
       "5                   -16.965677                         -4.118941  \n",
       "6                   -20.800475                         -4.560754  \n",
       "7                   -16.624699                         -4.077340  \n",
       "8                   -14.712157                         -3.835643  \n",
       "9                   -14.504595                         -3.808490  "
      ]
     },
     "execution_count": 16,
     "metadata": {},
     "output_type": "execute_result"
    }
   ],
   "source": [
    "scores"
   ]
  },
  {
   "cell_type": "code",
   "execution_count": 17,
   "id": "narrative-fusion",
   "metadata": {},
   "outputs": [],
   "source": [
    "mean_scores = scores.mean()"
   ]
  },
  {
   "cell_type": "code",
   "execution_count": 18,
   "id": "upper-southwest",
   "metadata": {},
   "outputs": [
    {
     "data": {
      "text/plain": [
       "fit_time                             0.101214\n",
       "score_time                           0.002456\n",
       "test_neg_mean_absolute_error        -3.153844\n",
       "test_neg_mean_squared_error        -16.949664\n",
       "test_neg_root_mean_squared_error    -4.111946\n",
       "dtype: float64"
      ]
     },
     "execution_count": 18,
     "metadata": {},
     "output_type": "execute_result"
    }
   ],
   "source": [
    "mean_scores"
   ]
  },
  {
   "cell_type": "markdown",
   "id": "sweet-moderator",
   "metadata": {},
   "source": [
    "# Export Model Score"
   ]
  },
  {
   "cell_type": "code",
   "execution_count": 19,
   "id": "checked-grave",
   "metadata": {},
   "outputs": [],
   "source": [
    "mean_scores = mean_scores.rename(f'{model_name}')"
   ]
  },
  {
   "cell_type": "code",
   "execution_count": 20,
   "id": "annoying-picking",
   "metadata": {},
   "outputs": [],
   "source": [
    "mean_scores[[2,3,4]] = mean_scores[[2,3,4]].apply(abs)"
   ]
  },
  {
   "cell_type": "code",
   "execution_count": 21,
   "id": "dedicated-court",
   "metadata": {},
   "outputs": [],
   "source": [
    "# mean_scores"
   ]
  },
  {
   "cell_type": "code",
   "execution_count": 22,
   "id": "written-adoption",
   "metadata": {},
   "outputs": [],
   "source": [
    "mean_scores = mean_scores.rename({\n",
    "    'fit_time':'Fit Time',\n",
    "    'score_time':'Score Time',\n",
    "    'test_neg_mean_absolute_error':'MAE',\n",
    "    'test_neg_mean_squared_error':'MSE',\n",
    "    'test_neg_root_mean_squared_error':'RMSE'\n",
    "})"
   ]
  },
  {
   "cell_type": "code",
   "execution_count": 23,
   "id": "whole-slave",
   "metadata": {},
   "outputs": [
    {
     "data": {
      "text/plain": [
       "Fit Time       0.101214\n",
       "Score Time     0.002456\n",
       "MAE            3.153844\n",
       "MSE           16.949664\n",
       "RMSE           4.111946\n",
       "Name: ElNetReg, dtype: float64"
      ]
     },
     "execution_count": 23,
     "metadata": {},
     "output_type": "execute_result"
    }
   ],
   "source": [
    "mean_scores"
   ]
  },
  {
   "cell_type": "code",
   "execution_count": 24,
   "id": "engaged-remark",
   "metadata": {},
   "outputs": [],
   "source": [
    "mean_scores['STD FT'] = scores.fit_time.std()\n",
    "mean_scores['STD ST'] = scores.score_time.std()\n",
    "mean_scores['STD MAE'] = scores.test_neg_mean_absolute_error.std()\n",
    "mean_scores['STD MSE'] = scores.test_neg_mean_squared_error.std()\n",
    "mean_scores['STD RMSE'] = scores.test_neg_root_mean_squared_error.std()"
   ]
  },
  {
   "cell_type": "code",
   "execution_count": 25,
   "id": "parliamentary-therapist",
   "metadata": {},
   "outputs": [
    {
     "data": {
      "text/plain": [
       "Fit Time       0.101214\n",
       "Score Time     0.002456\n",
       "MAE            3.153844\n",
       "MSE           16.949664\n",
       "RMSE           4.111946\n",
       "STD FT         0.018388\n",
       "STD ST         0.001111\n",
       "STD MAE        0.170709\n",
       "STD MSE        1.792404\n",
       "STD RMSE       0.214893\n",
       "Name: ElNetReg, dtype: float64"
      ]
     },
     "execution_count": 25,
     "metadata": {},
     "output_type": "execute_result"
    }
   ],
   "source": [
    "mean_scores"
   ]
  },
  {
   "cell_type": "code",
   "execution_count": 26,
   "id": "tough-paint",
   "metadata": {},
   "outputs": [],
   "source": [
    "mean_scores.to_csv(f'./scores/{model_name}-score.csv')"
   ]
  },
  {
   "cell_type": "markdown",
   "id": "tough-lexington",
   "metadata": {},
   "source": [
    "# Holdout Test"
   ]
  },
  {
   "cell_type": "code",
   "execution_count": 27,
   "id": "italian-symposium",
   "metadata": {},
   "outputs": [
    {
     "data": {
      "text/plain": [
       "ElasticNet(alpha=0.004826971475964716, l1_ratio=1.0)"
      ]
     },
     "execution_count": 27,
     "metadata": {},
     "output_type": "execute_result"
    }
   ],
   "source": [
    "score_model.fit(X_train,y_train)"
   ]
  },
  {
   "cell_type": "code",
   "execution_count": 28,
   "id": "extended-elite",
   "metadata": {},
   "outputs": [],
   "source": [
    "y_holdout = score_model.predict(X_test)"
   ]
  },
  {
   "cell_type": "code",
   "execution_count": 29,
   "id": "anonymous-norman",
   "metadata": {},
   "outputs": [
    {
     "data": {
      "text/plain": [
       "<AxesSubplot:ylabel='Count'>"
      ]
     },
     "execution_count": 29,
     "metadata": {},
     "output_type": "execute_result"
    },
    {
     "data": {
      "image/png": "[encoded data removed]",
      "text/plain": [
       "<Figure size 432x288 with 1 Axes>"
      ]
     },
     "metadata": {
      "needs_background": "light"
     },
     "output_type": "display_data"
    }
   ],
   "source": [
    "sns.histplot(y_holdout,bins=40,kde=True)"
   ]
  },
  {
   "cell_type": "code",
   "execution_count": 30,
   "id": "leading-interim",
   "metadata": {},
   "outputs": [
    {
     "data": {
      "text/plain": [
       "<matplotlib.legend.Legend at 0x7f9cda28cf70>"
      ]
     },
     "execution_count": 30,
     "metadata": {},
     "output_type": "execute_result"
    },
    {
     "data": {
      "image/png": "[encoded data removed]",
      "text/plain": [
       "<Figure size 432x288 with 1 Axes>"
      ]
     },
     "metadata": {
      "needs_background": "light"
     },
     "output_type": "display_data"
    }
   ],
   "source": [
    "fig,ax = plt.subplots()\n",
    "\n",
    "sns.kdeplot(y_test, ax=ax, shade=True, label='Observations')\n",
    "sns.kdeplot(y_holdout, ax=ax,shade=True,label='Predictions')\n",
    "\n",
    "ax.legend(loc='best')"
   ]
  },
  {
   "cell_type": "code",
   "execution_count": 31,
   "id": "operational-python",
   "metadata": {},
   "outputs": [
    {
     "data": {
      "text/plain": [
       "<matplotlib.legend.Legend at 0x7f9cd88f6fa0>"
      ]
     },
     "execution_count": 31,
     "metadata": {},
     "output_type": "execute_result"
    },
    {
     "data": {
      "image/png": "[encoded data removed]",
      "text/plain": [
       "<Figure size 432x288 with 1 Axes>"
      ]
     },
     "metadata": {
      "needs_background": "light"
     },
     "output_type": "display_data"
    }
   ],
   "source": [
    "fig,ax = plt.subplots()\n",
    "\n",
    "sns.ecdfplot(y_test, ax=ax, label='Observations')\n",
    "sns.ecdfplot(y_holdout, ax=ax,label='Predictions')\n",
    "plt.axvline(x=y_test.mean(),color='grey',linestyle='--')\n",
    "\n",
    "ax.legend(loc='best')"
   ]
  },
  {
   "cell_type": "code",
   "execution_count": 32,
   "id": "spatial-toronto",
   "metadata": {},
   "outputs": [],
   "source": [
    "from sklearn.metrics import mean_absolute_error, mean_squared_error\n",
    "\n",
    "mae = mean_absolute_error(y_test,y_holdout)\n",
    "mse = mean_squared_error(y_test,y_holdout)\n",
    "rmse = np.sqrt(mse)"
   ]
  },
  {
   "cell_type": "code",
   "execution_count": 33,
   "id": "daily-warehouse",
   "metadata": {},
   "outputs": [
    {
     "data": {
      "text/html": [
       "<div>\n",
       "<style scoped>\n",
       "    .dataframe tbody tr th:only-of-type {\n",
       "        vertical-align: middle;\n",
       "    }\n",
       "\n",
       "    .dataframe tbody tr th {\n",
       "        vertical-align: top;\n",
       "    }\n",
       "\n",
       "    .dataframe thead th {\n",
       "        text-align: right;\n",
       "    }\n",
       "</style>\n",
       "<table border=\"1\" class=\"dataframe\">\n",
       "  <thead>\n",
       "    <tr style=\"text-align: right;\">\n",
       "      <th></th>\n",
       "      <th>ElNetReg</th>\n",
       "    </tr>\n",
       "  </thead>\n",
       "  <tbody>\n",
       "    <tr>\n",
       "      <th>MAE</th>\n",
       "      <td>3.094348</td>\n",
       "    </tr>\n",
       "    <tr>\n",
       "      <th>MSE</th>\n",
       "      <td>17.821246</td>\n",
       "    </tr>\n",
       "    <tr>\n",
       "      <th>RMSE</th>\n",
       "      <td>4.221522</td>\n",
       "    </tr>\n",
       "  </tbody>\n",
       "</table>\n",
       "</div>"
      ],
      "text/plain": [
       "       ElNetReg\n",
       "MAE    3.094348\n",
       "MSE   17.821246\n",
       "RMSE   4.221522"
      ]
     },
     "execution_count": 33,
     "metadata": {},
     "output_type": "execute_result"
    }
   ],
   "source": [
    "err_df = pd.DataFrame(data=[mae, mse, rmse],index=['MAE','MSE','RMSE'],columns=[f'{model_name}'])\n",
    "err_df"
   ]
  },
  {
   "cell_type": "code",
   "execution_count": 34,
   "id": "proprietary-thesaurus",
   "metadata": {},
   "outputs": [],
   "source": [
    "err_df.to_csv(f'./holdout-test/{model_name}-err.csv')\n",
    "# mean_scores.to_csv(f'./opt-model-err/{model_name}-err.csv')"
   ]
  },
  {
   "cell_type": "code",
   "execution_count": 35,
   "id": "rough-cloud",
   "metadata": {},
   "outputs": [
    {
     "data": {
      "text/plain": [
       "mean    -0.395638\n",
       "std      4.213595\n",
       "min    -12.873399\n",
       "25%     -2.675564\n",
       "50%     -0.641545\n",
       "75%      1.637070\n",
       "max     16.303034\n",
       "Name: throughput, dtype: float64"
      ]
     },
     "execution_count": 35,
     "metadata": {},
     "output_type": "execute_result"
    }
   ],
   "source": [
    "res = y_test - y_holdout\n",
    "res.describe().drop('count')"
   ]
  },
  {
   "cell_type": "code",
   "execution_count": 36,
   "id": "incorporated-macintosh",
   "metadata": {},
   "outputs": [
    {
     "data": {
      "text/plain": [
       "<AxesSubplot:xlabel='throughput', ylabel='Count'>"
      ]
     },
     "execution_count": 36,
     "metadata": {},
     "output_type": "execute_result"
    },
    {
     "data": {
      "image/png": "[encoded data removed]",
      "text/plain": [
       "<Figure size 432x288 with 1 Axes>"
      ]
     },
     "metadata": {
      "needs_background": "light"
     },
     "output_type": "display_data"
    }
   ],
   "source": [
    "sns.histplot(data=res, kde=True,bins=40)"
   ]
  },
  {
   "cell_type": "code",
   "execution_count": 37,
   "id": "flying-jacob",
   "metadata": {},
   "outputs": [
    {
     "data": {
      "text/plain": [
       "<matplotlib.lines.Line2D at 0x7f9cda3b5eb0>"
      ]
     },
     "execution_count": 37,
     "metadata": {},
     "output_type": "execute_result"
    },
    {
     "data": {
      "image/png": "[encoded data removed]",
      "text/plain": [
       "<Figure size 432x288 with 1 Axes>"
      ]
     },
     "metadata": {
      "needs_background": "light"
     },
     "output_type": "display_data"
    }
   ],
   "source": [
    "ax = sns.scatterplot(x=y_test, y=res)\n",
    "ax.set(ylabel='Residuals', xlabel='Test Label')\n",
    "plt.axhline(y=0,color='red',linestyle='--')\n",
    "\n",
    "# there should be no clear pattern / curve in the plot\n",
    "# we see a positive correlation between Test Label and Residuals -> later models should avoid this pattern"
   ]
  },
  {
   "cell_type": "code",
   "execution_count": 38,
   "id": "respiratory-webster",
   "metadata": {},
   "outputs": [
    {
     "data": {
      "image/png": "[encoded data removed]",
      "text/plain": [
       "<Figure size 432x288 with 1 Axes>"
      ]
     },
     "metadata": {
      "needs_background": "light"
     },
     "output_type": "display_data"
    }
   ],
   "source": [
    "import scipy as sp\n",
    "\n",
    "fig, ax = plt.subplots()\n",
    "sp.stats.probplot(res,plot=ax);"
   ]
  },
  {
   "cell_type": "markdown",
   "id": "double-video",
   "metadata": {},
   "source": [
    "# Export Optimized Model"
   ]
  },
  {
   "cell_type": "code",
   "execution_count": 39,
   "id": "bronze-canada",
   "metadata": {},
   "outputs": [
    {
     "data": {
      "text/plain": [
       "StandardScaler()"
      ]
     },
     "execution_count": 39,
     "metadata": {},
     "output_type": "execute_result"
    }
   ],
   "source": [
    "from sklearn.preprocessing import StandardScaler\n",
    "scaler = StandardScaler()\n",
    "scaler.fit(X)"
   ]
  },
  {
   "cell_type": "code",
   "execution_count": 40,
   "id": "obvious-sugar",
   "metadata": {},
   "outputs": [
    {
     "data": {
      "text/plain": [
       "ElasticNet(alpha=0.004826971475964716, l1_ratio=1.0)"
      ]
     },
     "execution_count": 40,
     "metadata": {},
     "output_type": "execute_result"
    }
   ],
   "source": [
    "# MODIFY! \n",
    "X = scaler.transform(X)\n",
    "\n",
    "op_model = score_model\n",
    "\n",
    "op_model.fit(X,y)"
   ]
  },
  {
   "cell_type": "code",
   "execution_count": 41,
   "id": "proprietary-pressure",
   "metadata": {},
   "outputs": [],
   "source": [
    "y_pred = op_model.predict(X)"
   ]
  },
  {
   "cell_type": "code",
   "execution_count": 42,
   "id": "ancient-adoption",
   "metadata": {},
   "outputs": [
    {
     "data": {
      "text/plain": [
       "<AxesSubplot:ylabel='Count'>"
      ]
     },
     "execution_count": 42,
     "metadata": {},
     "output_type": "execute_result"
    },
    {
     "data": {
      "image/png": "[encoded data removed]",
      "text/plain": [
       "<Figure size 432x288 with 1 Axes>"
      ]
     },
     "metadata": {
      "needs_background": "light"
     },
     "output_type": "display_data"
    }
   ],
   "source": [
    "sns.histplot(y_pred,bins=40,kde=True)"
   ]
  },
  {
   "cell_type": "code",
   "execution_count": 43,
   "id": "essential-domestic",
   "metadata": {},
   "outputs": [
    {
     "data": {
      "text/plain": [
       "<matplotlib.legend.Legend at 0x7f9cd8cfd970>"
      ]
     },
     "execution_count": 43,
     "metadata": {},
     "output_type": "execute_result"
    },
    {
     "data": {
      "image/png": "[encoded data removed]",
      "text/plain": [
       "<Figure size 432x288 with 1 Axes>"
      ]
     },
     "metadata": {
      "needs_background": "light"
     },
     "output_type": "display_data"
    }
   ],
   "source": [
    "fig,ax = plt.subplots()\n",
    "\n",
    "sns.kdeplot(y, ax=ax, shade=True, label='Observations')\n",
    "sns.kdeplot(y_pred, ax=ax,shade=True,label='Predictions')\n",
    "\n",
    "ax.legend(loc='best')"
   ]
  },
  {
   "cell_type": "code",
   "execution_count": 44,
   "id": "african-husband",
   "metadata": {},
   "outputs": [
    {
     "data": {
      "text/plain": [
       "<matplotlib.legend.Legend at 0x7f9cd8d93ac0>"
      ]
     },
     "execution_count": 44,
     "metadata": {},
     "output_type": "execute_result"
    },
    {
     "data": {
      "image/png": "[encoded data removed]",
      "text/plain": [
       "<Figure size 432x288 with 1 Axes>"
      ]
     },
     "metadata": {
      "needs_background": "light"
     },
     "output_type": "display_data"
    }
   ],
   "source": [
    "fig,ax = plt.subplots()\n",
    "\n",
    "sns.ecdfplot(y, ax=ax, label='Observations')\n",
    "sns.ecdfplot(y_pred, ax=ax,label='Predictions')\n",
    "plt.axvline(x=y.mean(),color='grey',linestyle='--')\n",
    "\n",
    "ax.legend(loc='best')"
   ]
  },
  {
   "cell_type": "code",
   "execution_count": 45,
   "id": "southern-shelf",
   "metadata": {},
   "outputs": [],
   "source": [
    "mae = mean_absolute_error(y,y_pred)\n",
    "mse = mean_squared_error(y,y_pred)\n",
    "rmse = np.sqrt(mse)"
   ]
  },
  {
   "cell_type": "code",
   "execution_count": 46,
   "id": "signed-accuracy",
   "metadata": {},
   "outputs": [
    {
     "data": {
      "text/html": [
       "<div>\n",
       "<style scoped>\n",
       "    .dataframe tbody tr th:only-of-type {\n",
       "        vertical-align: middle;\n",
       "    }\n",
       "\n",
       "    .dataframe tbody tr th {\n",
       "        vertical-align: top;\n",
       "    }\n",
       "\n",
       "    .dataframe thead th {\n",
       "        text-align: right;\n",
       "    }\n",
       "</style>\n",
       "<table border=\"1\" class=\"dataframe\">\n",
       "  <thead>\n",
       "    <tr style=\"text-align: right;\">\n",
       "      <th></th>\n",
       "      <th>ElNetReg</th>\n",
       "    </tr>\n",
       "  </thead>\n",
       "  <tbody>\n",
       "    <tr>\n",
       "      <th>MAE</th>\n",
       "      <td>2.992803</td>\n",
       "    </tr>\n",
       "    <tr>\n",
       "      <th>MSE</th>\n",
       "      <td>15.429700</td>\n",
       "    </tr>\n",
       "    <tr>\n",
       "      <th>RMSE</th>\n",
       "      <td>3.928066</td>\n",
       "    </tr>\n",
       "  </tbody>\n",
       "</table>\n",
       "</div>"
      ],
      "text/plain": [
       "       ElNetReg\n",
       "MAE    2.992803\n",
       "MSE   15.429700\n",
       "RMSE   3.928066"
      ]
     },
     "execution_count": 46,
     "metadata": {},
     "output_type": "execute_result"
    }
   ],
   "source": [
    "err_df = pd.DataFrame(data=[mae, mse, rmse],index=['MAE','MSE','RMSE'],columns=[f'{model_name}'])\n",
    "err_df"
   ]
  },
  {
   "cell_type": "code",
   "execution_count": 47,
   "id": "powerful-evaluation",
   "metadata": {},
   "outputs": [],
   "source": [
    "err_df.to_csv(f'./model-err/{model_name}-err.csv')\n",
    "# mean_scores.to_csv(f'./opt-model-err/{model_name}-err.csv')"
   ]
  },
  {
   "cell_type": "code",
   "execution_count": 48,
   "id": "handed-wallet",
   "metadata": {},
   "outputs": [
    {
     "data": {
      "text/plain": [
       "['./opt-models/ElNetReg-model.joblib']"
      ]
     },
     "execution_count": 48,
     "metadata": {},
     "output_type": "execute_result"
    }
   ],
   "source": [
    "from joblib import dump, load\n",
    "dump(op_model, f'./opt-models/{model_name}-model.joblib')"
   ]
  },
  {
   "cell_type": "code",
   "execution_count": 49,
   "id": "metric-nursery",
   "metadata": {},
   "outputs": [
    {
     "data": {
      "text/plain": [
       "mean   -4.207161e-16\n",
       "std     3.929060e+00\n",
       "min    -1.645358e+01\n",
       "25%    -2.422971e+00\n",
       "50%    -9.295076e-02\n",
       "75%     2.237172e+00\n",
       "max     1.830055e+01\n",
       "Name: throughput, dtype: float64"
      ]
     },
     "execution_count": 49,
     "metadata": {},
     "output_type": "execute_result"
    }
   ],
   "source": [
    "res = y - y_pred\n",
    "res.describe().drop('count')"
   ]
  },
  {
   "cell_type": "code",
   "execution_count": 50,
   "id": "magnetic-roommate",
   "metadata": {},
   "outputs": [
    {
     "data": {
      "text/plain": [
       "<AxesSubplot:xlabel='throughput', ylabel='Count'>"
      ]
     },
     "execution_count": 50,
     "metadata": {},
     "output_type": "execute_result"
    },
    {
     "data": {
      "image/png": "[encoded data removed]",
      "text/plain": [
       "<Figure size 432x288 with 1 Axes>"
      ]
     },
     "metadata": {
      "needs_background": "light"
     },
     "output_type": "display_data"
    }
   ],
   "source": [
    "sns.histplot(data=res, kde=True,bins=40)"
   ]
  },
  {
   "cell_type": "code",
   "execution_count": 51,
   "id": "unlikely-mining",
   "metadata": {},
   "outputs": [
    {
     "data": {
      "text/plain": [
       "<matplotlib.lines.Line2D at 0x7f9cd9151d30>"
      ]
     },
     "execution_count": 51,
     "metadata": {},
     "output_type": "execute_result"
    },
    {
     "data": {
      "image/png": "[encoded data removed]",
      "text/plain": [
       "<Figure size 432x288 with 1 Axes>"
      ]
     },
     "metadata": {
      "needs_background": "light"
     },
     "output_type": "display_data"
    }
   ],
   "source": [
    "ax = sns.scatterplot(x=y_test, y=res)\n",
    "ax.set(ylabel='Residuals', xlabel='Test Label')\n",
    "plt.axhline(y=0,color='red',linestyle='--')\n",
    "\n",
    "# there should be no clear pattern / curve in the plot\n",
    "# we see a positive correlation between Test Label and Residuals -> later models should avoid this pattern"
   ]
  },
  {
   "cell_type": "code",
   "execution_count": 52,
   "id": "loving-promotion",
   "metadata": {},
   "outputs": [
    {
     "data": {
      "image/png": "[encoded data removed]",
      "text/plain": [
       "<Figure size 432x288 with 1 Axes>"
      ]
     },
     "metadata": {
      "needs_background": "light"
     },
     "output_type": "display_data"
    }
   ],
   "source": [
    "import scipy as sp\n",
    "\n",
    "fig, ax = plt.subplots()\n",
    "sp.stats.probplot(res,plot=ax);"
   ]
  },
  {
   "cell_type": "markdown",
   "id": "generous-surprise",
   "metadata": {},
   "source": [
    "DONE!"
   ]
  },
  {
   "cell_type": "code",
   "execution_count": null,
   "id": "chief-walker",
   "metadata": {},
   "outputs": [],
   "source": []
  }
 ],
 "metadata": {
  "kernelspec": {
   "display_name": "Python 3",
   "language": "python",
   "name": "python3"
  },
  "language_info": {
   "codemirror_mode": {
    "name": "ipython",
    "version": 3
   },
   "file_extension": ".py",
   "mimetype": "text/x-python",
   "name": "python",
   "nbconvert_exporter": "python",
   "pygments_lexer": "ipython3",
   "version": "3.8.6"
  }
 },
 "nbformat": 4,
 "nbformat_minor": 5
}
