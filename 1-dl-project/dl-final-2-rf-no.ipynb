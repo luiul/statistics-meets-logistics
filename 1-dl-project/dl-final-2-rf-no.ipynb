{
 "cells": [
  {
   "cell_type": "markdown",
   "id": "yellow-slovenia",
   "metadata": {},
   "source": [
    "# Final Download Model - Random Forrest Regressor No Outliers\n",
    "\n",
    "--- \n",
    "\n",
    "In this notebook we put together all relevant notebooks to make our predicitions based on our recomendations. "
   ]
  },
  {
   "cell_type": "markdown",
   "id": "relevant-penguin",
   "metadata": {},
   "source": [
    "# Import Libraries and Set Options\n",
    "\n",
    "---"
   ]
  },
  {
   "cell_type": "markdown",
   "id": "affiliated-sampling",
   "metadata": {},
   "source": [
    "## General Libraries"
   ]
  },
  {
   "cell_type": "code",
   "execution_count": 1,
   "id": "curious-landscape",
   "metadata": {},
   "outputs": [],
   "source": [
    "import numpy as np\n",
    "import pandas as pd\n",
    "import matplotlib.pyplot as plt\n",
    "# from mpl_toolkits.mplot3d import Axes3D\n",
    "import seaborn as sns\n",
    "from datetime import datetime"
   ]
  },
  {
   "cell_type": "markdown",
   "id": "trained-ultimate",
   "metadata": {},
   "source": [
    "# Data Preparation\n",
    "\n",
    "---"
   ]
  },
  {
   "cell_type": "markdown",
   "id": "surface-distinction",
   "metadata": {},
   "source": [
    "## Read in Data and Instantiate DataFrame \n",
    "We read in the feature description and the raw download data. The DataFrame 'df' will be transformed in this Section. The DataFrame 'df_raw' will remained unchanged and serves as a reference throughout the Notebook. "
   ]
  },
  {
   "cell_type": "code",
   "execution_count": 2,
   "id": "married-channels",
   "metadata": {},
   "outputs": [],
   "source": [
    "# --> READ IN YOUR DATA HERE! INSTANTIATE BOTH FRAMES! <-- #\n",
    "# --> READ IN YOUR DATA HERE! INSTANTIATE BOTH FRAMES! <-- #\n",
    "# --> READ IN YOUR DATA HERE! INSTANTIATE BOTH FRAMES! <-- #\n",
    "\n",
    "df = pd.read_csv('./data/Data_down.csv', delim_whitespace=True)\n",
    "df_raw = pd.read_csv('./data/Data_down.csv', delim_whitespace=True)\n",
    "\n",
    "# --> READ IN YOUR DATA HERE! INSTANTIATE BOTH FRAMES! <-- #\n",
    "# --> READ IN YOUR DATA HERE! INSTANTIATE BOTH FRAMES! <-- #\n",
    "# --> READ IN YOUR DATA HERE! INSTANTIATE BOTH FRAMES! <-- #"
   ]
  },
  {
   "cell_type": "code",
   "execution_count": 3,
   "id": "warming-homework",
   "metadata": {},
   "outputs": [],
   "source": [
    "# df.head()"
   ]
  },
  {
   "cell_type": "code",
   "execution_count": 4,
   "id": "extreme-colon",
   "metadata": {},
   "outputs": [],
   "source": [
    "# df.columns"
   ]
  },
  {
   "cell_type": "code",
   "execution_count": 5,
   "id": "false-sense",
   "metadata": {},
   "outputs": [],
   "source": [
    "# len(df)"
   ]
  },
  {
   "cell_type": "markdown",
   "id": "analyzed-atlas",
   "metadata": {},
   "source": [
    "## Drop Features Without Information \n",
    "\n",
    "Drop features with no (usable) information."
   ]
  },
  {
   "cell_type": "code",
   "execution_count": 6,
   "id": "everyday-feature",
   "metadata": {},
   "outputs": [
    {
     "name": "stdout",
     "output_type": "stream",
     "text": [
      "Feature 'connected' contains no information!\n",
      "-> Feature was dropped from the DataFrame\n"
     ]
    }
   ],
   "source": [
    "for column in df: \n",
    "    if len(df[column].unique()) < 2:\n",
    "        print(f\"Feature '{column}' contains no information!\")\n",
    "        df = df.drop(column,axis=1)\n",
    "        print(\"-> Feature was dropped from the DataFrame\")"
   ]
  },
  {
   "cell_type": "code",
   "execution_count": 7,
   "id": "powered-unemployment",
   "metadata": {},
   "outputs": [],
   "source": [
    "# df.head()"
   ]
  },
  {
   "cell_type": "markdown",
   "id": "linear-syria",
   "metadata": {},
   "source": [
    "# Visualize Label Data\n",
    "\n",
    "---"
   ]
  },
  {
   "cell_type": "code",
   "execution_count": 8,
   "id": "capable-simulation",
   "metadata": {},
   "outputs": [],
   "source": [
    "# df.info()"
   ]
  },
  {
   "cell_type": "code",
   "execution_count": 9,
   "id": "wireless-clothing",
   "metadata": {},
   "outputs": [],
   "source": [
    "# df.describe()['throughput']"
   ]
  },
  {
   "cell_type": "code",
   "execution_count": 10,
   "id": "cooked-individual",
   "metadata": {},
   "outputs": [],
   "source": [
    "# plt.figure(figsize=(16,10))\n",
    "# sns.histplot(data=df, x='throughput',kde=True);\n",
    "# note that the distribution is not normal (it resembles a exponential / Poisson distribution, which is a plaussible assumption for a communication model). Mass of the curve is shifted to the left. "
   ]
  },
  {
   "cell_type": "code",
   "execution_count": 11,
   "id": "accepted-petroleum",
   "metadata": {},
   "outputs": [],
   "source": [
    "# plt.figure(figsize=(16,10))\n",
    "# sns.boxplot(data=df, x='throughput');\n",
    "\n",
    "# note some outliers by the IQR method "
   ]
  },
  {
   "cell_type": "markdown",
   "id": "thermal-latin",
   "metadata": {},
   "source": [
    "# Explore Correlation Heatmap\n",
    "---"
   ]
  },
  {
   "cell_type": "markdown",
   "id": "accompanied-startup",
   "metadata": {},
   "source": [
    "## Initiate Correlation Heatmap"
   ]
  },
  {
   "cell_type": "code",
   "execution_count": 12,
   "id": "behind-centre",
   "metadata": {},
   "outputs": [],
   "source": [
    "# plt.figure(figsize=(16,14))\n",
    "# sns.heatmap(df.corr(),cmap='magma',annot=True);"
   ]
  },
  {
   "cell_type": "markdown",
   "id": "multiple-senior",
   "metadata": {},
   "source": [
    "**Heatmap Finding**\n",
    "\n",
    "**High Positive Correlation**\n",
    "- id and timestamp\n",
    "- measuremet and rawTimesamp\n",
    "- rsrp and ss (signal strength) \n",
    "\n",
    "**Positive Correlation**\n",
    "- pci and lon\n",
    "\n",
    "**Negative Correlation**\n",
    "- speed and lat\n",
    "\n",
    "**High Negative Correlation**\n",
    "- alt and lat\n",
    "\n",
    "**Label**\n",
    "\n",
    "Throughput shows non-zero correlations with features -> some signal will be picked by the model / no zero importance features\n",
    "\n",
    "**Heatmap Finding Conclusion**\n",
    "\n",
    "- Drop **id** and **measurement**: (a) both enconded in other features (b) irrelevant for our predictions (watch out for systematic errors in the experiment phase!) \n",
    "\n",
    "- For the reason delineated in (b) we also drop **pci** (physical cell id) (watch out for systematic errors in the experiment phase!) \n",
    "\n",
    "- Drop **ss**: calculated based off rsrp / linear transformation of rsrp -> will lead to decreased generalization performance of ML models"
   ]
  },
  {
   "cell_type": "markdown",
   "id": "built-transaction",
   "metadata": {},
   "source": [
    "## Drop Features based on Heatmap Finding"
   ]
  },
  {
   "cell_type": "code",
   "execution_count": 13,
   "id": "incredible-filename",
   "metadata": {},
   "outputs": [],
   "source": [
    "df = df.drop('id',axis=1)\n",
    "df = df.drop('measurement', axis=1)\n",
    "df = df.drop('pci',axis=1)\n",
    "df = df.drop('ss',axis=1)\n",
    "\n",
    "# alt and lat are highly correlated! "
   ]
  },
  {
   "cell_type": "code",
   "execution_count": 14,
   "id": "noted-chemistry",
   "metadata": {},
   "outputs": [],
   "source": [
    "# plt.figure(figsize=(16,14))\n",
    "# sns.heatmap(df.corr(),cmap='magma',annot=True);"
   ]
  },
  {
   "cell_type": "markdown",
   "id": "skilled-gross",
   "metadata": {},
   "source": [
    "# Check for Missing Data\n",
    "---"
   ]
  },
  {
   "cell_type": "code",
   "execution_count": 15,
   "id": "collectible-temple",
   "metadata": {},
   "outputs": [],
   "source": [
    "def percent_missing(df): \n",
    "    percent_nan = df.isnull().sum() / len(df) * 100\n",
    "    percent_nan = percent_nan[percent_nan>0].sort_values()\n",
    "    \n",
    "    return percent_nan"
   ]
  },
  {
   "cell_type": "code",
   "execution_count": 16,
   "id": "fifty-valuation",
   "metadata": {},
   "outputs": [
    {
     "data": {
      "text/plain": [
       "0.0"
      ]
     },
     "execution_count": 16,
     "metadata": {},
     "output_type": "execute_result"
    }
   ],
   "source": [
    "percent_missing(df).sum()\n",
    "# no misiing data"
   ]
  },
  {
   "cell_type": "code",
   "execution_count": 17,
   "id": "removable-elder",
   "metadata": {},
   "outputs": [],
   "source": [
    "# Plot percentage of missing data as bar graph (no missing data in this case)\n",
    "\n",
    "# percent_nan = percent_missing(df)\n",
    "# \n",
    "# plt.figure(figsize=(10,8))\n",
    "# sns.barplot(x=percent_nan.index,y=percent_nan)\n",
    "# plt.xticks(rotation=90);"
   ]
  },
  {
   "cell_type": "markdown",
   "id": "decent-phrase",
   "metadata": {},
   "source": [
    "# Further Feature Exploration and Selection \n",
    "---"
   ]
  },
  {
   "cell_type": "markdown",
   "id": "domestic-constitutional",
   "metadata": {},
   "source": [
    "## Datetime"
   ]
  },
  {
   "cell_type": "code",
   "execution_count": 18,
   "id": "nominated-genius",
   "metadata": {},
   "outputs": [],
   "source": [
    "# df_raw.columns"
   ]
  },
  {
   "cell_type": "markdown",
   "id": "fourth-technique",
   "metadata": {},
   "source": [
    "### timestamp Feature"
   ]
  },
  {
   "cell_type": "code",
   "execution_count": 19,
   "id": "noted-annex",
   "metadata": {},
   "outputs": [],
   "source": [
    "# plt.figure(figsize=(16,10))\n",
    "# sns.scatterplot(data=df_raw, x='rawTimesamp',y='timestamp');\n",
    "# timestamp seems to be an arbitrary value assigned on the datapoint depending on the particular experiment (measurement). "
   ]
  },
  {
   "cell_type": "code",
   "execution_count": 20,
   "id": "explicit-nebraska",
   "metadata": {},
   "outputs": [],
   "source": [
    "# plt.figure(figsize=(16,10))\n",
    "# sns.scatterplot(data=df_raw, x='measurement',y='timestamp');"
   ]
  },
  {
   "cell_type": "code",
   "execution_count": 21,
   "id": "behavioral-recall",
   "metadata": {},
   "outputs": [],
   "source": [
    "# plt.figure(figsize=(16,10))\n",
    "# sns.scatterplot(data=df_raw, y='id',x='timestamp');\n",
    "\n",
    "# note also the timestamp encondes id / higly correlated to id (as noted in the heatmap). We drop timestamp for the following reasons: (a) our predictions should be independent of vehicle / measurement id, (b) rawTimesamp functions as a datetime object for the data frame, and (c) we don't have enough context to interpret id"
   ]
  },
  {
   "cell_type": "code",
   "execution_count": 22,
   "id": "assigned-coordination",
   "metadata": {},
   "outputs": [],
   "source": [
    "df = df.drop('timestamp', axis=1)"
   ]
  },
  {
   "cell_type": "code",
   "execution_count": 23,
   "id": "second-jamaica",
   "metadata": {},
   "outputs": [],
   "source": [
    "# we also rename rawTimesamp to better describe the feature\n",
    "df = df.rename(columns={'rawTimesamp':'unix_time'})"
   ]
  },
  {
   "cell_type": "code",
   "execution_count": 24,
   "id": "neural-party",
   "metadata": {},
   "outputs": [],
   "source": [
    "# we rename location to better describe the feature\n",
    "df = df.rename(columns={'location':'region'})"
   ]
  },
  {
   "cell_type": "code",
   "execution_count": 25,
   "id": "placed-shift",
   "metadata": {},
   "outputs": [],
   "source": [
    "# df.info()"
   ]
  },
  {
   "cell_type": "markdown",
   "id": "funny-antigua",
   "metadata": {},
   "source": [
    "**Features**\n",
    "1. unix time\n",
    "2. distance\n",
    "3. location\n",
    "    - latitude\n",
    "    - longitude\n",
    "    - altitude\n",
    "4. mobility / motion\n",
    "    - speed\n",
    "    - acceleration\n",
    "    - direction\n",
    "5. LTE performance\n",
    "    - rsrp\n",
    "    - rsrq\n",
    "    - sinr\n",
    "    - cqi (categorical?)\n",
    "    - ta (categorical?)\n",
    "6. ci (categorical!)\n",
    "7. payload\n",
    "8. rtt\n",
    "9. location -> region (categorical!)"
   ]
  },
  {
   "cell_type": "markdown",
   "id": "current-mixer",
   "metadata": {},
   "source": [
    "### unix_time Feature\n",
    "\n",
    "We break down Unix time into more useful (categorical) features. "
   ]
  },
  {
   "cell_type": "code",
   "execution_count": 26,
   "id": "understood-destiny",
   "metadata": {},
   "outputs": [],
   "source": [
    "# plt.figure(figsize=(16,10))\n",
    "# sns.scatterplot(data=df, x='unix_time',y='throughput');"
   ]
  },
  {
   "cell_type": "code",
   "execution_count": 27,
   "id": "pleasant-blink",
   "metadata": {},
   "outputs": [],
   "source": [
    "# plt.figure(figsize=(16,16),dpi=200)\n",
    "# sns.scatterplot(data=df_raw, x='lon',y='lat',hue='rawTimesamp',palette='magma');"
   ]
  },
  {
   "cell_type": "code",
   "execution_count": 28,
   "id": "decreased-joint",
   "metadata": {},
   "outputs": [],
   "source": [
    "datetime_series = df['unix_time'].apply(lambda unix_time : datetime.fromtimestamp(unix_time))"
   ]
  },
  {
   "cell_type": "code",
   "execution_count": 29,
   "id": "practical-president",
   "metadata": {},
   "outputs": [
    {
     "data": {
      "text/plain": [
       "0      2018-12-10 10:08:57\n",
       "1      2018-12-10 10:09:09\n",
       "2      2018-12-10 10:09:19\n",
       "3      2018-12-10 10:09:33\n",
       "4      2018-12-10 10:09:42\n",
       "               ...        \n",
       "2136   2019-01-18 10:22:10\n",
       "2137   2019-01-18 10:22:23\n",
       "2138   2019-01-18 10:22:30\n",
       "2139   2019-01-18 10:22:41\n",
       "2140   2019-01-18 10:22:49\n",
       "Name: unix_time, Length: 2141, dtype: datetime64[ns]"
      ]
     },
     "execution_count": 29,
     "metadata": {},
     "output_type": "execute_result"
    }
   ],
   "source": [
    "datetime_series"
   ]
  },
  {
   "cell_type": "code",
   "execution_count": 30,
   "id": "manufactured-mountain",
   "metadata": {},
   "outputs": [
    {
     "data": {
      "text/plain": [
       "array([2018, 2019])"
      ]
     },
     "execution_count": 30,
     "metadata": {},
     "output_type": "execute_result"
    }
   ],
   "source": [
    "datetime_series.apply(lambda dt : dt.year).unique()\n",
    "# not enough data -> disregard"
   ]
  },
  {
   "cell_type": "code",
   "execution_count": 31,
   "id": "tired-greek",
   "metadata": {},
   "outputs": [
    {
     "data": {
      "text/plain": [
       "array([12,  1])"
      ]
     },
     "execution_count": 31,
     "metadata": {},
     "output_type": "execute_result"
    }
   ],
   "source": [
    "datetime_series.apply(lambda dt : dt.month).unique()\n",
    "# not enough data -> disregard"
   ]
  },
  {
   "cell_type": "code",
   "execution_count": 32,
   "id": "entire-armstrong",
   "metadata": {},
   "outputs": [
    {
     "data": {
      "text/plain": [
       "array([10,  9,  6, 14, 15, 12, 13])"
      ]
     },
     "execution_count": 32,
     "metadata": {},
     "output_type": "execute_result"
    }
   ],
   "source": [
    "datetime_series.apply(lambda dt : dt.hour).unique()\n",
    "# might be interesting to engineer the features morning and afternoon -> dive deeper"
   ]
  },
  {
   "cell_type": "code",
   "execution_count": 33,
   "id": "reverse-child",
   "metadata": {},
   "outputs": [],
   "source": [
    "hour_arr = datetime_series.apply(lambda dt : dt.hour)"
   ]
  },
  {
   "cell_type": "code",
   "execution_count": 34,
   "id": "international-vaccine",
   "metadata": {},
   "outputs": [],
   "source": [
    "hour_df = pd.DataFrame(hour_arr)"
   ]
  },
  {
   "cell_type": "code",
   "execution_count": 35,
   "id": "still-brain",
   "metadata": {},
   "outputs": [],
   "source": [
    "hour_df = hour_df.rename({'unix_time':'hour'},axis=1)"
   ]
  },
  {
   "cell_type": "code",
   "execution_count": 36,
   "id": "architectural-strengthening",
   "metadata": {},
   "outputs": [
    {
     "data": {
      "text/plain": [
       "hour\n",
       "6       640\n",
       "14      505\n",
       "10      309\n",
       "13      297\n",
       "15      274\n",
       "9       114\n",
       "12        2\n",
       "dtype: int64"
      ]
     },
     "execution_count": 36,
     "metadata": {},
     "output_type": "execute_result"
    }
   ],
   "source": [
    "hour_df.value_counts()\n",
    "# distributed fairly evenly -> make categories morning (5 < t_0 < 11) and afternoon (11 < t_0 < 16), i.e. a binary categorical feature"
   ]
  },
  {
   "cell_type": "code",
   "execution_count": 37,
   "id": "blessed-series",
   "metadata": {},
   "outputs": [],
   "source": [
    "# plt.figure(figsize=(16,10))\n",
    "# ax = sns.scatterplot(x=hour_arr,y=df['throughput'])\n",
    "# ax.set_xlabel('Hour');"
   ]
  },
  {
   "cell_type": "code",
   "execution_count": 38,
   "id": "friendly-thickness",
   "metadata": {},
   "outputs": [],
   "source": [
    "# Originally we wanted to create categories based on different hour intervalls. This idea was scrapped. \n",
    "\n",
    "# def time_of_day(h): \n",
    "#     if h < 9: \n",
    "#         return 'early morning'\n",
    "#     elif 9 <= h < 12: \n",
    "#         return 'morning'\n",
    "#     elif 12 <= h < 14: \n",
    "#         return 'noon'\n",
    "#     else: \n",
    "#         return 'evening'"
   ]
  },
  {
   "cell_type": "code",
   "execution_count": 39,
   "id": "consolidated-penetration",
   "metadata": {},
   "outputs": [],
   "source": [
    "# hour_df['hour'] = hour_df['hour'].apply(time_of_day)"
   ]
  },
  {
   "cell_type": "code",
   "execution_count": 40,
   "id": "focused-lewis",
   "metadata": {},
   "outputs": [],
   "source": [
    "# hour_df = hour_df.rename({'hour':'time'},axis=1)"
   ]
  },
  {
   "cell_type": "code",
   "execution_count": 41,
   "id": "frequent-making",
   "metadata": {},
   "outputs": [],
   "source": [
    "# hour_df.value_counts()"
   ]
  },
  {
   "cell_type": "code",
   "execution_count": 42,
   "id": "textile-candidate",
   "metadata": {},
   "outputs": [],
   "source": [
    "# plt.figure(figsize=(16,10))\n",
    "# ax = sns.scatterplot(x=hour_df['time'],y=df['throughput'])\n",
    "# ax.set_xlabel('Time');"
   ]
  },
  {
   "cell_type": "markdown",
   "id": "illegal-jackson",
   "metadata": {},
   "source": [
    "---"
   ]
  },
  {
   "cell_type": "code",
   "execution_count": 43,
   "id": "sophisticated-transfer",
   "metadata": {},
   "outputs": [
    {
     "data": {
      "text/plain": [
       "array(['Monday', 'Tuesday', 'Wednesday', 'Thursday', 'Friday'],\n",
       "      dtype=object)"
      ]
     },
     "execution_count": 43,
     "metadata": {},
     "output_type": "execute_result"
    }
   ],
   "source": [
    "datetime_series.apply(lambda dt : dt.day_name()).unique()\n",
    "# all days of the week -> dive deeper; we enconde the weekdays as integers"
   ]
  },
  {
   "cell_type": "code",
   "execution_count": 44,
   "id": "understood-reporter",
   "metadata": {},
   "outputs": [],
   "source": [
    "weekday_arr = datetime_series.apply(lambda dt : dt.day_name())"
   ]
  },
  {
   "cell_type": "code",
   "execution_count": 45,
   "id": "arbitrary-bathroom",
   "metadata": {},
   "outputs": [],
   "source": [
    "weekday_df = pd.DataFrame(weekday_arr)"
   ]
  },
  {
   "cell_type": "code",
   "execution_count": 46,
   "id": "republican-blond",
   "metadata": {},
   "outputs": [],
   "source": [
    "weekday_df = weekday_df.rename({'unix_time':'weekday'},axis=1)"
   ]
  },
  {
   "cell_type": "code",
   "execution_count": 47,
   "id": "dependent-density",
   "metadata": {},
   "outputs": [
    {
     "data": {
      "text/plain": [
       "weekday  \n",
       "Tuesday      563\n",
       "Thursday     493\n",
       "Wednesday    462\n",
       "Monday       324\n",
       "Friday       299\n",
       "dtype: int64"
      ]
     },
     "execution_count": 47,
     "metadata": {},
     "output_type": "execute_result"
    }
   ],
   "source": [
    "weekday_df.value_counts()\n",
    "# make categorical feature weekday"
   ]
  },
  {
   "cell_type": "code",
   "execution_count": 48,
   "id": "million-slide",
   "metadata": {},
   "outputs": [],
   "source": [
    "# plt.figure(figsize=(16,10))\n",
    "# ax = sns.scatterplot(x=weekday_arr,y=df['throughput'],hue=hour_df['hour'],palette='magma')\n",
    "# ax.set_xlabel('Weekday');\n",
    "# note that on Friday we mostly find data in the morning hours, on Monday and Wednesday mostly in the evening and on Tuesday and Thrusday around midday -> suggestion for experiment phase: take data throughout the day for all days"
   ]
  },
  {
   "cell_type": "code",
   "execution_count": 49,
   "id": "hired-following",
   "metadata": {},
   "outputs": [],
   "source": [
    "# add new features to df and drop unix_time: \n",
    "df['hour'] = hour_df['hour']\n",
    "df['weekday'] = weekday_df['weekday']\n",
    "df = df.drop('unix_time',axis=1)"
   ]
  },
  {
   "cell_type": "code",
   "execution_count": 50,
   "id": "determined-mayor",
   "metadata": {},
   "outputs": [],
   "source": [
    "# df.info()"
   ]
  },
  {
   "cell_type": "markdown",
   "id": "nominated-community",
   "metadata": {},
   "source": [
    "## Distance"
   ]
  },
  {
   "cell_type": "code",
   "execution_count": 51,
   "id": "applied-charlotte",
   "metadata": {},
   "outputs": [
    {
     "data": {
      "text/plain": [
       "count     2141.000000\n",
       "mean      4273.932844\n",
       "std       3774.430086\n",
       "min         99.420000\n",
       "25%       1365.830000\n",
       "50%       2825.780000\n",
       "75%       6435.790000\n",
       "max      14124.020000\n",
       "Name: distance, dtype: float64"
      ]
     },
     "execution_count": 51,
     "metadata": {},
     "output_type": "execute_result"
    }
   ],
   "source": [
    "df['distance'].describe()"
   ]
  },
  {
   "cell_type": "markdown",
   "id": "athletic-policy",
   "metadata": {},
   "source": [
    "## Mobility Context"
   ]
  },
  {
   "cell_type": "markdown",
   "id": "stone-missile",
   "metadata": {},
   "source": [
    "### Position: Latitude, Longitude, and Altitude / Elevation\n",
    "\n",
    "Note the small scale of the values -> normalization / standardization necessary!"
   ]
  },
  {
   "cell_type": "code",
   "execution_count": 52,
   "id": "ethical-reasoning",
   "metadata": {},
   "outputs": [
    {
     "data": {
      "text/html": [
       "<div>\n",
       "<style scoped>\n",
       "    .dataframe tbody tr th:only-of-type {\n",
       "        vertical-align: middle;\n",
       "    }\n",
       "\n",
       "    .dataframe tbody tr th {\n",
       "        vertical-align: top;\n",
       "    }\n",
       "\n",
       "    .dataframe thead th {\n",
       "        text-align: right;\n",
       "    }\n",
       "</style>\n",
       "<table border=\"1\" class=\"dataframe\">\n",
       "  <thead>\n",
       "    <tr style=\"text-align: right;\">\n",
       "      <th></th>\n",
       "      <th>mean</th>\n",
       "      <th>std</th>\n",
       "      <th>min</th>\n",
       "      <th>25%</th>\n",
       "      <th>50%</th>\n",
       "      <th>75%</th>\n",
       "      <th>max</th>\n",
       "    </tr>\n",
       "  </thead>\n",
       "  <tbody>\n",
       "    <tr>\n",
       "      <th>lat</th>\n",
       "      <td>51.478644</td>\n",
       "      <td>0.022528</td>\n",
       "      <td>51.437142</td>\n",
       "      <td>51.463083</td>\n",
       "      <td>51.481652</td>\n",
       "      <td>51.490668</td>\n",
       "      <td>51.517905</td>\n",
       "    </tr>\n",
       "    <tr>\n",
       "      <th>lon</th>\n",
       "      <td>7.445595</td>\n",
       "      <td>0.030796</td>\n",
       "      <td>7.393019</td>\n",
       "      <td>7.416637</td>\n",
       "      <td>7.450149</td>\n",
       "      <td>7.473018</td>\n",
       "      <td>7.491755</td>\n",
       "    </tr>\n",
       "    <tr>\n",
       "      <th>alt</th>\n",
       "      <td>177.235390</td>\n",
       "      <td>41.975692</td>\n",
       "      <td>125.060000</td>\n",
       "      <td>152.000000</td>\n",
       "      <td>163.700000</td>\n",
       "      <td>181.920000</td>\n",
       "      <td>297.820000</td>\n",
       "    </tr>\n",
       "  </tbody>\n",
       "</table>\n",
       "</div>"
      ],
      "text/plain": [
       "           mean        std         min         25%         50%         75%  \\\n",
       "lat   51.478644   0.022528   51.437142   51.463083   51.481652   51.490668   \n",
       "lon    7.445595   0.030796    7.393019    7.416637    7.450149    7.473018   \n",
       "alt  177.235390  41.975692  125.060000  152.000000  163.700000  181.920000   \n",
       "\n",
       "            max  \n",
       "lat   51.517905  \n",
       "lon    7.491755  \n",
       "alt  297.820000  "
      ]
     },
     "execution_count": 52,
     "metadata": {},
     "output_type": "execute_result"
    }
   ],
   "source": [
    "df[['lat','lon','alt']].describe().transpose().drop('count',axis=1)\n",
    "# standardize features!  "
   ]
  },
  {
   "cell_type": "markdown",
   "id": "running-shoot",
   "metadata": {},
   "source": [
    "### Motion: Speed, Acceleration, and Direction\n",
    "\n",
    "The ML Paper mentions trajectory of the vehicle as well (engineered featured; see ML Paper). The feature direction seems to be encoded in the feature trajectory in the paper. The feature acceleration is not mentioned in the paper. We explore this feature. "
   ]
  },
  {
   "cell_type": "code",
   "execution_count": 53,
   "id": "russian-absorption",
   "metadata": {},
   "outputs": [
    {
     "data": {
      "text/html": [
       "<div>\n",
       "<style scoped>\n",
       "    .dataframe tbody tr th:only-of-type {\n",
       "        vertical-align: middle;\n",
       "    }\n",
       "\n",
       "    .dataframe tbody tr th {\n",
       "        vertical-align: top;\n",
       "    }\n",
       "\n",
       "    .dataframe thead th {\n",
       "        text-align: right;\n",
       "    }\n",
       "</style>\n",
       "<table border=\"1\" class=\"dataframe\">\n",
       "  <thead>\n",
       "    <tr style=\"text-align: right;\">\n",
       "      <th></th>\n",
       "      <th>mean</th>\n",
       "      <th>std</th>\n",
       "      <th>min</th>\n",
       "      <th>25%</th>\n",
       "      <th>50%</th>\n",
       "      <th>75%</th>\n",
       "      <th>max</th>\n",
       "    </tr>\n",
       "  </thead>\n",
       "  <tbody>\n",
       "    <tr>\n",
       "      <th>speed</th>\n",
       "      <td>12.154703</td>\n",
       "      <td>8.870322</td>\n",
       "      <td>0.00</td>\n",
       "      <td>6.86</td>\n",
       "      <td>12.45</td>\n",
       "      <td>14.99</td>\n",
       "      <td>39.34</td>\n",
       "    </tr>\n",
       "    <tr>\n",
       "      <th>acc</th>\n",
       "      <td>0.004447</td>\n",
       "      <td>1.123975</td>\n",
       "      <td>-11.05</td>\n",
       "      <td>0.00</td>\n",
       "      <td>0.00</td>\n",
       "      <td>0.00</td>\n",
       "      <td>17.26</td>\n",
       "    </tr>\n",
       "    <tr>\n",
       "      <th>dir</th>\n",
       "      <td>164.828720</td>\n",
       "      <td>93.178596</td>\n",
       "      <td>0.03</td>\n",
       "      <td>92.30</td>\n",
       "      <td>150.27</td>\n",
       "      <td>250.64</td>\n",
       "      <td>359.98</td>\n",
       "    </tr>\n",
       "  </tbody>\n",
       "</table>\n",
       "</div>"
      ],
      "text/plain": [
       "             mean        std    min    25%     50%     75%     max\n",
       "speed   12.154703   8.870322   0.00   6.86   12.45   14.99   39.34\n",
       "acc      0.004447   1.123975 -11.05   0.00    0.00    0.00   17.26\n",
       "dir    164.828720  93.178596   0.03  92.30  150.27  250.64  359.98"
      ]
     },
     "execution_count": 53,
     "metadata": {},
     "output_type": "execute_result"
    }
   ],
   "source": [
    "df[['speed','acc','dir']].describe().transpose().drop('count',axis=1)\n",
    "# stardardize features!"
   ]
  },
  {
   "cell_type": "code",
   "execution_count": 54,
   "id": "authorized-passage",
   "metadata": {},
   "outputs": [],
   "source": [
    "# plt.figure(figsize=(16,10))\n",
    "# sns.histplot(data=df, x='acc',bins=100)"
   ]
  },
  {
   "cell_type": "code",
   "execution_count": 55,
   "id": "embedded-dining",
   "metadata": {},
   "outputs": [
    {
     "data": {
      "text/plain": [
       "32"
      ]
     },
     "execution_count": 55,
     "metadata": {},
     "output_type": "execute_result"
    }
   ],
   "source": [
    "acc = df['acc']\n",
    "\n",
    "outliers = acc[(acc < -(3*acc.std())) | (acc > 3*acc.std())]\n",
    "len(outliers)\n",
    "\n",
    "# outliers are 3 STD aways from the mean"
   ]
  },
  {
   "cell_type": "code",
   "execution_count": 56,
   "id": "considered-improvement",
   "metadata": {},
   "outputs": [
    {
     "data": {
      "text/plain": [
       "'Outliers are 1.49% of the Download data set (3 std away from the mean)'"
      ]
     },
     "execution_count": 56,
     "metadata": {},
     "output_type": "execute_result"
    }
   ],
   "source": [
    "f'Outliers are {len(outliers)/len(df)*100:.2f}% of the Download data set (3 std away from the mean)'"
   ]
  },
  {
   "cell_type": "code",
   "execution_count": 57,
   "id": "latest-balloon",
   "metadata": {},
   "outputs": [],
   "source": [
    "# plt.figure(figsize=(16,10))\n",
    "# sns.scatterplot(data=df, x='acc',y='throughput')"
   ]
  },
  {
   "cell_type": "code",
   "execution_count": 58,
   "id": "latest-prescription",
   "metadata": {},
   "outputs": [],
   "source": [
    "# at this points we have two options: (a) drop the outliers or (b) drop the feature entirely. Unfortunately, we do not have enough context or knowledge to make an appropiate decision. Thus we might pursue both options. \n",
    "\n",
    "df = df[(df['acc'] > -3) & (df['acc'] < 3)]"
   ]
  },
  {
   "cell_type": "code",
   "execution_count": 59,
   "id": "earned-blackjack",
   "metadata": {},
   "outputs": [],
   "source": [
    "# plt.figure(figsize=(16,10))\n",
    "# sns.histplot(data=df, x='acc',bins=100)"
   ]
  },
  {
   "cell_type": "code",
   "execution_count": 60,
   "id": "affected-aviation",
   "metadata": {},
   "outputs": [],
   "source": [
    "# plt.figure(figsize=(16,10))\n",
    "# sns.scatterplot(data=df, x='acc',y='throughput')"
   ]
  },
  {
   "cell_type": "markdown",
   "id": "systematic-sending",
   "metadata": {},
   "source": [
    "### Cell ID\n",
    "\n",
    "There is not enough context provided in the feature description. We assume CI represents Cell Id. In the Paper Cell Id is assigned to the Mobility Context. We assume CI is a categorical feature. Read more [here](https://en.wikipedia.org/wiki/GSM_Cell_ID). "
   ]
  },
  {
   "cell_type": "code",
   "execution_count": 61,
   "id": "moderate-appliance",
   "metadata": {},
   "outputs": [],
   "source": [
    "# plt.figure(figsize=(16,10))\n",
    "# sns.scatterplot(data=df, x='ci',y='throughput')\n",
    "# note that certain CIs have a narrower distribution that others. "
   ]
  },
  {
   "cell_type": "markdown",
   "id": "loving-specialist",
   "metadata": {},
   "source": [
    "## Network Context / Channel Performance: RSRP, RSRQ, SINR, CQI, TA\n",
    "\n",
    "The studies agree that passively measurable network quality indicators such as Reference Signal Received Power (RSRP), Reference Signal Received Quality (RSRQ), Signal- to-interference-plus-noise Ratio (SINR), and Channel Quality Indicator (CQI) provide meaningful information, which can be leveraged to estimate the resulting data rate based on machine learning methods even in challenging environments. We also consider Timing Advance (TA). "
   ]
  },
  {
   "cell_type": "code",
   "execution_count": 62,
   "id": "variable-toyota",
   "metadata": {},
   "outputs": [
    {
     "data": {
      "text/html": [
       "<div>\n",
       "<style scoped>\n",
       "    .dataframe tbody tr th:only-of-type {\n",
       "        vertical-align: middle;\n",
       "    }\n",
       "\n",
       "    .dataframe tbody tr th {\n",
       "        vertical-align: top;\n",
       "    }\n",
       "\n",
       "    .dataframe thead th {\n",
       "        text-align: right;\n",
       "    }\n",
       "</style>\n",
       "<table border=\"1\" class=\"dataframe\">\n",
       "  <thead>\n",
       "    <tr style=\"text-align: right;\">\n",
       "      <th></th>\n",
       "      <th>mean</th>\n",
       "      <th>std</th>\n",
       "      <th>min</th>\n",
       "      <th>25%</th>\n",
       "      <th>50%</th>\n",
       "      <th>75%</th>\n",
       "      <th>max</th>\n",
       "    </tr>\n",
       "  </thead>\n",
       "  <tbody>\n",
       "    <tr>\n",
       "      <th>rsrp</th>\n",
       "      <td>-88.546927</td>\n",
       "      <td>9.286616</td>\n",
       "      <td>-113.0</td>\n",
       "      <td>-95.0</td>\n",
       "      <td>-89.0</td>\n",
       "      <td>-83.0</td>\n",
       "      <td>-56.0</td>\n",
       "    </tr>\n",
       "    <tr>\n",
       "      <th>rsrq</th>\n",
       "      <td>-7.465936</td>\n",
       "      <td>2.085438</td>\n",
       "      <td>-19.0</td>\n",
       "      <td>-9.0</td>\n",
       "      <td>-7.0</td>\n",
       "      <td>-6.0</td>\n",
       "      <td>-4.0</td>\n",
       "    </tr>\n",
       "    <tr>\n",
       "      <th>sinr</th>\n",
       "      <td>13.432111</td>\n",
       "      <td>9.748337</td>\n",
       "      <td>-15.0</td>\n",
       "      <td>6.0</td>\n",
       "      <td>12.0</td>\n",
       "      <td>21.0</td>\n",
       "      <td>40.0</td>\n",
       "    </tr>\n",
       "    <tr>\n",
       "      <th>cqi</th>\n",
       "      <td>9.920915</td>\n",
       "      <td>3.325156</td>\n",
       "      <td>1.0</td>\n",
       "      <td>7.0</td>\n",
       "      <td>10.0</td>\n",
       "      <td>12.0</td>\n",
       "      <td>15.0</td>\n",
       "    </tr>\n",
       "    <tr>\n",
       "      <th>ta</th>\n",
       "      <td>7.039066</td>\n",
       "      <td>6.167537</td>\n",
       "      <td>0.0</td>\n",
       "      <td>3.0</td>\n",
       "      <td>6.0</td>\n",
       "      <td>9.0</td>\n",
       "      <td>94.0</td>\n",
       "    </tr>\n",
       "  </tbody>\n",
       "</table>\n",
       "</div>"
      ],
      "text/plain": [
       "           mean       std    min   25%   50%   75%   max\n",
       "rsrp -88.546927  9.286616 -113.0 -95.0 -89.0 -83.0 -56.0\n",
       "rsrq  -7.465936  2.085438  -19.0  -9.0  -7.0  -6.0  -4.0\n",
       "sinr  13.432111  9.748337  -15.0   6.0  12.0  21.0  40.0\n",
       "cqi    9.920915  3.325156    1.0   7.0  10.0  12.0  15.0\n",
       "ta     7.039066  6.167537    0.0   3.0   6.0   9.0  94.0"
      ]
     },
     "execution_count": 62,
     "metadata": {},
     "output_type": "execute_result"
    }
   ],
   "source": [
    "df[['rsrp', 'rsrq','sinr', 'cqi', 'ta']].describe().transpose().drop('count',axis=1)"
   ]
  },
  {
   "cell_type": "code",
   "execution_count": 63,
   "id": "friendly-cuisine",
   "metadata": {},
   "outputs": [
    {
     "data": {
      "text/plain": [
       "count    2099.000000\n",
       "mean        7.039066\n",
       "std         6.167537\n",
       "min         0.000000\n",
       "25%         3.000000\n",
       "50%         6.000000\n",
       "75%         9.000000\n",
       "max        94.000000\n",
       "Name: ta, dtype: float64"
      ]
     },
     "execution_count": 63,
     "metadata": {},
     "output_type": "execute_result"
    }
   ],
   "source": [
    "df['ta'].describe()\n",
    "# extreme outliers in the data -> consider droping some datapoints"
   ]
  },
  {
   "cell_type": "code",
   "execution_count": 64,
   "id": "confused-ontario",
   "metadata": {},
   "outputs": [],
   "source": [
    "ta = df['ta']\n",
    "\n",
    "q75, q25 = np.percentile(a=ta, q=[75,25])\n",
    "IQR = q75 - q25\n",
    "\n",
    "low_lim = q25-1.5*IQR\n",
    "up_lim = q75+1.5*IQR"
   ]
  },
  {
   "cell_type": "code",
   "execution_count": 65,
   "id": "oriental-skiing",
   "metadata": {},
   "outputs": [
    {
     "data": {
      "text/plain": [
       "18.0"
      ]
     },
     "execution_count": 65,
     "metadata": {},
     "output_type": "execute_result"
    }
   ],
   "source": [
    "up_lim\n",
    "# this threshold might be too agressive. "
   ]
  },
  {
   "cell_type": "code",
   "execution_count": 66,
   "id": "meaningful-sodium",
   "metadata": {},
   "outputs": [
    {
     "data": {
      "text/plain": [
       "12"
      ]
     },
     "execution_count": 66,
     "metadata": {},
     "output_type": "execute_result"
    }
   ],
   "source": [
    "outliers = ta[(ta < low_lim) | (ta > 30)]\n",
    "len(outliers)"
   ]
  },
  {
   "cell_type": "code",
   "execution_count": 67,
   "id": "ethical-theorem",
   "metadata": {},
   "outputs": [
    {
     "data": {
      "text/plain": [
       "'Outliers are 0.57% of the Download data set according to the IQR Method'"
      ]
     },
     "execution_count": 67,
     "metadata": {},
     "output_type": "execute_result"
    }
   ],
   "source": [
    "f'Outliers are {len(outliers)/len(df)*100:.2f}% of the Download data set according to the IQR Method'"
   ]
  },
  {
   "cell_type": "code",
   "execution_count": 68,
   "id": "shared-evanescence",
   "metadata": {},
   "outputs": [],
   "source": [
    "# plt.figure(figsize=(16,10))\n",
    "# sns.histplot(data=df, x='ta',kde=True)"
   ]
  },
  {
   "cell_type": "code",
   "execution_count": 69,
   "id": "identical-lying",
   "metadata": {},
   "outputs": [],
   "source": [
    "# plt.figure(figsize=(16,10))\n",
    "# sns.scatterplot(data=df, x='ta',y='throughput')\n",
    "# dropping after 18 might be too aggresive. We an arbitrary threshold at 30. "
   ]
  },
  {
   "cell_type": "code",
   "execution_count": 70,
   "id": "eligible-fraction",
   "metadata": {},
   "outputs": [],
   "source": [
    "# plt.figure(figsize=(16,10))\n",
    "# df_ta = df[df['ta'] < 30]\n",
    "# sns.histplot(data=df_ta, x='ta',bins=100)"
   ]
  },
  {
   "cell_type": "code",
   "execution_count": 71,
   "id": "differential-infrastructure",
   "metadata": {},
   "outputs": [],
   "source": [
    "# plt.figure(figsize=(16,10))\n",
    "# sns.scatterplot(data=df, x='ta',y='throughput')"
   ]
  },
  {
   "cell_type": "code",
   "execution_count": 72,
   "id": "operating-enforcement",
   "metadata": {},
   "outputs": [],
   "source": [
    "df = df[(df['ta'] > low_lim) & (df['ta'] < 30)]"
   ]
  },
  {
   "cell_type": "code",
   "execution_count": 73,
   "id": "exclusive-astronomy",
   "metadata": {},
   "outputs": [
    {
     "data": {
      "text/plain": [
       "2087"
      ]
     },
     "execution_count": 73,
     "metadata": {},
     "output_type": "execute_result"
    }
   ],
   "source": [
    "len(df)"
   ]
  },
  {
   "cell_type": "markdown",
   "id": "latest-power",
   "metadata": {},
   "source": [
    "## Application Context: Payload"
   ]
  },
  {
   "cell_type": "code",
   "execution_count": 74,
   "id": "detailed-communist",
   "metadata": {},
   "outputs": [
    {
     "data": {
      "text/plain": [
       "count    2087.000000\n",
       "mean        4.526737\n",
       "std         3.228119\n",
       "min         0.100000\n",
       "25%         1.000000\n",
       "50%         4.000000\n",
       "75%         7.000000\n",
       "max        10.000000\n",
       "Name: payload, dtype: float64"
      ]
     },
     "execution_count": 74,
     "metadata": {},
     "output_type": "execute_result"
    }
   ],
   "source": [
    "df['payload'].describe()"
   ]
  },
  {
   "cell_type": "markdown",
   "id": "least-heritage",
   "metadata": {},
   "source": [
    "## Additional Features not found in the Paper\n",
    "\n",
    "The Round Trip Time (RTT) and the Location (Region) are not mentioned as Features in the Paper but we'll consider them for our analyis. We explore RTT in this Section. "
   ]
  },
  {
   "cell_type": "code",
   "execution_count": 75,
   "id": "corrected-willow",
   "metadata": {},
   "outputs": [
    {
     "data": {
      "text/plain": [
       "count    2087.000000\n",
       "mean       70.320077\n",
       "std       164.159120\n",
       "min        29.000000\n",
       "25%        37.000000\n",
       "50%        46.000000\n",
       "75%        71.000000\n",
       "max      5323.000000\n",
       "Name: rtt, dtype: float64"
      ]
     },
     "execution_count": 75,
     "metadata": {},
     "output_type": "execute_result"
    }
   ],
   "source": [
    "df['rtt'].describe()\n",
    "# extreme outliers in the data -> consider droping some datapoints"
   ]
  },
  {
   "cell_type": "code",
   "execution_count": 76,
   "id": "fleet-oracle",
   "metadata": {},
   "outputs": [],
   "source": [
    "rtt = df['rtt']\n",
    "\n",
    "q75, q25 = np.percentile(a=rtt, q=[75,25])\n",
    "IQR = q75 - q25\n",
    "\n",
    "low_lim = q25-1.5*IQR\n",
    "up_lim = q75+1.5*IQR"
   ]
  },
  {
   "cell_type": "code",
   "execution_count": 77,
   "id": "enabling-kentucky",
   "metadata": {},
   "outputs": [
    {
     "data": {
      "text/plain": [
       "122.0"
      ]
     },
     "execution_count": 77,
     "metadata": {},
     "output_type": "execute_result"
    }
   ],
   "source": [
    "up_lim"
   ]
  },
  {
   "cell_type": "code",
   "execution_count": 78,
   "id": "expanded-yorkshire",
   "metadata": {},
   "outputs": [
    {
     "data": {
      "text/plain": [
       "88"
      ]
     },
     "execution_count": 78,
     "metadata": {},
     "output_type": "execute_result"
    }
   ],
   "source": [
    "outliers = rtt[(rtt < low_lim) | (rtt > up_lim)]\n",
    "len(outliers)"
   ]
  },
  {
   "cell_type": "code",
   "execution_count": 79,
   "id": "oriental-wealth",
   "metadata": {},
   "outputs": [
    {
     "data": {
      "text/plain": [
       "'Outliers are 4.22% of the Download data set according to the IQR Method'"
      ]
     },
     "execution_count": 79,
     "metadata": {},
     "output_type": "execute_result"
    }
   ],
   "source": [
    "f'Outliers are {len(outliers)/len(df)*100:.2f}% of the Download data set according to the IQR Method'"
   ]
  },
  {
   "cell_type": "code",
   "execution_count": 80,
   "id": "assigned-county",
   "metadata": {},
   "outputs": [],
   "source": [
    "# plt.figure(figsize=(16,10))\n",
    "# sns.histplot(data=df, x='rtt',kde=True)"
   ]
  },
  {
   "cell_type": "code",
   "execution_count": 81,
   "id": "international-harrison",
   "metadata": {},
   "outputs": [],
   "source": [
    "# plt.figure(figsize=(16,10))\n",
    "# sns.scatterplot(data=df_raw, x='rtt',y='throughput')"
   ]
  },
  {
   "cell_type": "code",
   "execution_count": 82,
   "id": "unusual-olive",
   "metadata": {},
   "outputs": [],
   "source": [
    "# plt.figure(figsize=(16,10))\n",
    "# df_rtt = df[df['rtt'] < up_lim]\n",
    "# sns.histplot(data=df_rtt, x='rtt',bins=40)"
   ]
  },
  {
   "cell_type": "code",
   "execution_count": 83,
   "id": "affected-conspiracy",
   "metadata": {},
   "outputs": [],
   "source": [
    "# plt.figure(figsize=(16,10))\n",
    "# sns.scatterplot(data=df_rtt, x='rtt',y='throughput')"
   ]
  },
  {
   "cell_type": "code",
   "execution_count": 84,
   "id": "bottom-stream",
   "metadata": {},
   "outputs": [],
   "source": [
    "# at this points we have two options: (a) drop the outliers or (b) drop the feature entirely. Unfortunately, we do not have enough context or knowledge to make an appropiate decision. Thus we might pursue both options. \n",
    "df = df[df['rtt'] < up_lim]"
   ]
  },
  {
   "cell_type": "markdown",
   "id": "approved-necklace",
   "metadata": {},
   "source": [
    "# Further Considerations: Location\n",
    "---"
   ]
  },
  {
   "cell_type": "markdown",
   "id": "imperial-pavilion",
   "metadata": {},
   "source": [
    "## Investigate Correlation between Altitude and Latitude"
   ]
  },
  {
   "cell_type": "code",
   "execution_count": 85,
   "id": "compatible-arabic",
   "metadata": {},
   "outputs": [],
   "source": [
    "# plt.figure(figsize=(16,14))\n",
    "# sns.heatmap(df.corr(),cmap='magma',annot=True);\n",
    "# note the high negative correlation between altitude and latitude"
   ]
  },
  {
   "cell_type": "code",
   "execution_count": 86,
   "id": "fantastic-malpractice",
   "metadata": {},
   "outputs": [],
   "source": [
    "# plt.figure(figsize=(16,16))\n",
    "# sns.scatterplot(data=df, x='lon',y='lat',hue='alt');\n",
    "\n",
    "# note that this high negative correlation could introduce systematic errors to our model -> suggestion in experiment phase: more variety of latitude, altitude tuples"
   ]
  },
  {
   "cell_type": "code",
   "execution_count": 87,
   "id": "subjective-tokyo",
   "metadata": {},
   "outputs": [],
   "source": [
    "# plt.figure(figsize=(16,16))\n",
    "# sns.scatterplot(data=df, x='alt',y='lat',hue='rsrp',palette='magma');\n",
    "\n",
    "# we see the high negative correlation between the features, but no particular pattern when considering the rsrp"
   ]
  },
  {
   "cell_type": "code",
   "execution_count": 88,
   "id": "front-mills",
   "metadata": {},
   "outputs": [],
   "source": [
    "# plt.figure(figsize=(16,16))\n",
    "# sns.scatterplot(data=df, x='alt',y='lat',hue='throughput',palette='magma');\n",
    "\n",
    "# we see the high negative correlation between the features, but no particular pattern when considering the throughput -> we won't drop either of the features"
   ]
  },
  {
   "cell_type": "code",
   "execution_count": 89,
   "id": "double-process",
   "metadata": {},
   "outputs": [],
   "source": [
    "# we can visualize the rsrp in a 3D plot\n",
    "# from mpl_toolkits.mplot3d import Axes3D\n",
    "# \n",
    "# fig = plt.figure(figsize=(16,10))\n",
    "# ax = Axes3D(fig)\n",
    "# \n",
    "# x = df['lat']\n",
    "# y = df['lon']\n",
    "# z = df['alt']\n",
    "# c = df['rsrp']\n",
    "# \n",
    "# sc = ax.scatter(x,y,z,s=40,c=c,cmap='magma',alpha=.5)\n",
    "# ax.set_xlabel('Latitude')\n",
    "# ax.set_ylabel('Longitude')\n",
    "# ax.set_zlabel('Altitude')\n",
    "# \n",
    "# plt.legend(*sc.legend_elements(), loc='best');\n",
    "\n",
    "# plt.savefig(\"scatter_hue\", bbox_inches='tight')"
   ]
  },
  {
   "cell_type": "code",
   "execution_count": 90,
   "id": "twelve-roads",
   "metadata": {},
   "outputs": [],
   "source": [
    "# we can visualize the throuhput in a 3D plot\n",
    "# from mpl_toolkits.mplot3d import Axes3D\n",
    "# \n",
    "# fig = plt.figure(figsize=(16,10))\n",
    "# ax = Axes3D(fig)\n",
    "# \n",
    "# x = df['lat']\n",
    "# y = df['lon']\n",
    "# z = df['alt']\n",
    "# c = df['throughput']\n",
    "# \n",
    "# sc = ax.scatter(x,y,z,s=40,c=c,cmap='magma',alpha=.5)\n",
    "# ax.set_xlabel('Latitude')\n",
    "# ax.set_ylabel('Longitude')\n",
    "# ax.set_zlabel('Altitude')\n",
    "# \n",
    "# plt.legend(*sc.legend_elements(), loc='best');\n",
    "\n",
    "# plt.savefig(\"scatter_hue\", bbox_inches='tight')"
   ]
  },
  {
   "cell_type": "markdown",
   "id": "small-aircraft",
   "metadata": {},
   "source": [
    "## Drop Data Points outside Street\n",
    "We drop data points outside the street. These points are most likely measurement errors. We export the data to [Google Maps](https://www.google.com/maps/d/edit?mid=16uGNwcuE2fgafLTK6ZG4MUEpYxuT1L7w&usp=sharing) and impute invalid data points. Note that Google Maps can take max. 2000 data points. An alternative to this method is plotly (JavaScript configuration required). \n",
    "\n",
    "<img src=\"./figures/gmaps.png\" width=\"600\" alt=\"Architecture model for the client-based data rate prediction.\" class=\"center\">"
   ]
  },
  {
   "cell_type": "code",
   "execution_count": 91,
   "id": "rational-logic",
   "metadata": {},
   "outputs": [],
   "source": [
    "# plt.figure(figsize=(16,16))\n",
    "# sns.scatterplot(data=df, x='lon',y='lat',hue='region');"
   ]
  },
  {
   "cell_type": "code",
   "execution_count": 92,
   "id": "minimal-hello",
   "metadata": {},
   "outputs": [],
   "source": [
    "# Using Google Maps\n",
    "\n",
    "# df[['lon','lat','region']].to_csv('./data/dl-loc.csv', index=False)\n",
    "\n",
    "# Afterwards convert Google Map to .CSV with https://www.gpsvisualizer.com/convert_input and download the .CSV file\n",
    "# read in file and inner join with df on longitude and latitude"
   ]
  },
  {
   "cell_type": "code",
   "execution_count": 93,
   "id": "balanced-generic",
   "metadata": {},
   "outputs": [],
   "source": [
    "# import plotly.express as px\n",
    "# \n",
    "# fig = px.scatter(data_frame=df, x='lon',y='lat',hover_name=df.index)\n",
    "# fig.show()\n",
    "# \n",
    "# # we drop rows with the following index: 1906,1908,1902,1962 and 780, 1695, 1369, 566, 629,1549,1436"
   ]
  },
  {
   "cell_type": "code",
   "execution_count": 94,
   "id": "contemporary-cover",
   "metadata": {},
   "outputs": [],
   "source": [
    "# drop location that do not exist in the urban region\n",
    "# df = df.drop([1906,1908,1902,1962])"
   ]
  },
  {
   "cell_type": "code",
   "execution_count": 95,
   "id": "senior-spray",
   "metadata": {},
   "outputs": [],
   "source": [
    "# drop location that do not exist in the rest of the regions\n",
    "# df = df.drop([780, 1695, 1369, 566, 629,1549,1436])"
   ]
  },
  {
   "cell_type": "code",
   "execution_count": 96,
   "id": "alone-multiple",
   "metadata": {},
   "outputs": [],
   "source": [
    "# plt.figure(figsize=(16,16))\n",
    "# sns.scatterplot(data=df, x='lon',y='lat',hue='region');"
   ]
  },
  {
   "cell_type": "code",
   "execution_count": 97,
   "id": "prerequisite-blood",
   "metadata": {},
   "outputs": [],
   "source": [
    "# df.info()"
   ]
  },
  {
   "cell_type": "markdown",
   "id": "authentic-cooling",
   "metadata": {},
   "source": [
    "# Check for Outliers"
   ]
  },
  {
   "cell_type": "markdown",
   "id": "established-measurement",
   "metadata": {},
   "source": [
    "## IQR Methodology"
   ]
  },
  {
   "cell_type": "code",
   "execution_count": 98,
   "id": "auburn-berkeley",
   "metadata": {},
   "outputs": [],
   "source": [
    "label = df['throughput']"
   ]
  },
  {
   "cell_type": "code",
   "execution_count": 99,
   "id": "needed-wells",
   "metadata": {},
   "outputs": [],
   "source": [
    "q75, q25 = np.percentile(a=label, q=[75,25])\n",
    "IQR = q75 - q25\n",
    "\n",
    "low_lim = q25-1.5*IQR\n",
    "up_lim = q75+1.5*IQR"
   ]
  },
  {
   "cell_type": "code",
   "execution_count": 100,
   "id": "included-album",
   "metadata": {},
   "outputs": [
    {
     "data": {
      "text/plain": [
       "19"
      ]
     },
     "execution_count": 100,
     "metadata": {},
     "output_type": "execute_result"
    }
   ],
   "source": [
    "outliers = label[(label < low_lim) | (label > up_lim)]\n",
    "len(outliers)\n",
    "\n",
    "# there are 19 outlierts in the data set by IQR method "
   ]
  },
  {
   "cell_type": "code",
   "execution_count": 101,
   "id": "constant-baltimore",
   "metadata": {},
   "outputs": [
    {
     "data": {
      "text/plain": [
       "'Outliers are 0.95% of the Download data according to the IQR Method'"
      ]
     },
     "execution_count": 101,
     "metadata": {},
     "output_type": "execute_result"
    }
   ],
   "source": [
    "f'Outliers are {len(outliers)/len(df)*100:.2f}% of the Download data according to the IQR Method'"
   ]
  },
  {
   "cell_type": "code",
   "execution_count": 102,
   "id": "juvenile-crime",
   "metadata": {},
   "outputs": [],
   "source": [
    "# since the number is low we might consider dropping the these rows; note that the distribution of the throughput is not normal -> dive deeper to determine true outliers"
   ]
  },
  {
   "cell_type": "markdown",
   "id": "saved-business",
   "metadata": {},
   "source": [
    "## Check Feature Correlations with Label & Decide what constitutes an Outlier"
   ]
  },
  {
   "cell_type": "code",
   "execution_count": 103,
   "id": "southeast-monte",
   "metadata": {},
   "outputs": [
    {
     "data": {
      "text/plain": [
       "throughput    1.000000\n",
       "payload       0.684078\n",
       "rsrp          0.286182\n",
       "rsrq          0.275477\n",
       "sinr          0.252092\n",
       "cqi           0.209498\n",
       "distance      0.126083\n",
       "alt           0.051961\n",
       "speed         0.040815\n",
       "acc           0.018016\n",
       "lat           0.005080\n",
       "dir          -0.030099\n",
       "ci           -0.034144\n",
       "lon          -0.037398\n",
       "hour         -0.108033\n",
       "ta           -0.165833\n",
       "rtt          -0.192033\n",
       "Name: throughput, dtype: float64"
      ]
     },
     "execution_count": 103,
     "metadata": {},
     "output_type": "execute_result"
    }
   ],
   "source": [
    "df.corr()['throughput'].sort_values(ascending=False)\n",
    "# note that payload is highly positively correlated to download throughput (it also makes sense that a higher payload produces a high throughput)"
   ]
  },
  {
   "cell_type": "code",
   "execution_count": 104,
   "id": "specialized-source",
   "metadata": {},
   "outputs": [],
   "source": [
    "# plt.figure(figsize=(16,16))\n",
    "# sns.scatterplot(data=df, x='payload', y='throughput',hue='rsrp',palette='magma')\n",
    "# \n",
    "# plt.axhline(y=up_lim,color='orange',alpha=.5,label='q75 + 1.5 IQR')\n",
    "# \n",
    "# plt.legend(loc=(1.02,.5));\n",
    "\n",
    "# note that within every payload size we have a distribution and as payload increses, so does the throughput but also the variane of the distribution within the payload -> not all data points above the upper limit are outliers per se "
   ]
  },
  {
   "cell_type": "code",
   "execution_count": 105,
   "id": "mental-marsh",
   "metadata": {},
   "outputs": [
    {
     "data": {
      "text/plain": [
       "array([ 0.1,  0.5,  1. ,  2. ,  3. ,  4. ,  5. ,  6. ,  7. ,  8. ,  9. ,\n",
       "       10. ])"
      ]
     },
     "execution_count": 105,
     "metadata": {},
     "output_type": "execute_result"
    }
   ],
   "source": [
    "np.sort(df['payload'].unique())\n",
    "# precision of the payload column / x axis "
   ]
  },
  {
   "cell_type": "code",
   "execution_count": 106,
   "id": "monthly-arthritis",
   "metadata": {},
   "outputs": [
    {
     "data": {
      "text/plain": [
       "payload\n",
       "0.5     2.863273\n",
       "0.1     3.281618\n",
       "1.0     3.670574\n",
       "2.0     4.223012\n",
       "3.0     4.598494\n",
       "4.0     4.722336\n",
       "5.0     4.991452\n",
       "6.0     5.714600\n",
       "7.0     5.947428\n",
       "8.0     6.184221\n",
       "9.0     6.634810\n",
       "10.0    7.564087\n",
       "Name: throughput, dtype: float64"
      ]
     },
     "execution_count": 106,
     "metadata": {},
     "output_type": "execute_result"
    }
   ],
   "source": [
    "df.groupby('payload')['throughput'].std().sort_values()\n",
    "# after droping the outliers we want to keep this relationship between the std's by payload"
   ]
  },
  {
   "cell_type": "code",
   "execution_count": 107,
   "id": "genuine-flooring",
   "metadata": {},
   "outputs": [
    {
     "data": {
      "text/html": [
       "<div>\n",
       "<style scoped>\n",
       "    .dataframe tbody tr th:only-of-type {\n",
       "        vertical-align: middle;\n",
       "    }\n",
       "\n",
       "    .dataframe tbody tr th {\n",
       "        vertical-align: top;\n",
       "    }\n",
       "\n",
       "    .dataframe thead th {\n",
       "        text-align: right;\n",
       "    }\n",
       "</style>\n",
       "<table border=\"1\" class=\"dataframe\">\n",
       "  <thead>\n",
       "    <tr style=\"text-align: right;\">\n",
       "      <th>payload</th>\n",
       "      <th>0.1</th>\n",
       "      <th>0.5</th>\n",
       "      <th>1.0</th>\n",
       "      <th>2.0</th>\n",
       "      <th>3.0</th>\n",
       "      <th>4.0</th>\n",
       "      <th>5.0</th>\n",
       "      <th>6.0</th>\n",
       "      <th>7.0</th>\n",
       "      <th>8.0</th>\n",
       "      <th>9.0</th>\n",
       "      <th>10.0</th>\n",
       "    </tr>\n",
       "  </thead>\n",
       "  <tbody>\n",
       "    <tr>\n",
       "      <th>count</th>\n",
       "      <td>177.000000</td>\n",
       "      <td>155.000000</td>\n",
       "      <td>180.000000</td>\n",
       "      <td>159.000000</td>\n",
       "      <td>175.000000</td>\n",
       "      <td>175.000000</td>\n",
       "      <td>181.000000</td>\n",
       "      <td>173.000000</td>\n",
       "      <td>155.000000</td>\n",
       "      <td>162.000000</td>\n",
       "      <td>147.00000</td>\n",
       "      <td>157.000000</td>\n",
       "    </tr>\n",
       "    <tr>\n",
       "      <th>mean</th>\n",
       "      <td>5.361158</td>\n",
       "      <td>6.929305</td>\n",
       "      <td>7.887633</td>\n",
       "      <td>9.773422</td>\n",
       "      <td>11.462117</td>\n",
       "      <td>13.578815</td>\n",
       "      <td>14.777934</td>\n",
       "      <td>16.531106</td>\n",
       "      <td>17.790126</td>\n",
       "      <td>18.276707</td>\n",
       "      <td>19.93746</td>\n",
       "      <td>20.303460</td>\n",
       "    </tr>\n",
       "    <tr>\n",
       "      <th>std</th>\n",
       "      <td>3.281618</td>\n",
       "      <td>2.863273</td>\n",
       "      <td>3.670574</td>\n",
       "      <td>4.223012</td>\n",
       "      <td>4.598494</td>\n",
       "      <td>4.722336</td>\n",
       "      <td>4.991452</td>\n",
       "      <td>5.714600</td>\n",
       "      <td>5.947428</td>\n",
       "      <td>6.184221</td>\n",
       "      <td>6.63481</td>\n",
       "      <td>7.564087</td>\n",
       "    </tr>\n",
       "    <tr>\n",
       "      <th>min</th>\n",
       "      <td>0.070194</td>\n",
       "      <td>0.841220</td>\n",
       "      <td>0.472283</td>\n",
       "      <td>1.808110</td>\n",
       "      <td>2.603320</td>\n",
       "      <td>1.431320</td>\n",
       "      <td>2.960990</td>\n",
       "      <td>5.166290</td>\n",
       "      <td>4.543610</td>\n",
       "      <td>1.371100</td>\n",
       "      <td>5.08008</td>\n",
       "      <td>2.672640</td>\n",
       "    </tr>\n",
       "    <tr>\n",
       "      <th>25%</th>\n",
       "      <td>4.188500</td>\n",
       "      <td>4.742185</td>\n",
       "      <td>5.642748</td>\n",
       "      <td>6.932440</td>\n",
       "      <td>7.831645</td>\n",
       "      <td>10.288200</td>\n",
       "      <td>11.302600</td>\n",
       "      <td>12.124300</td>\n",
       "      <td>13.442150</td>\n",
       "      <td>14.128850</td>\n",
       "      <td>15.15505</td>\n",
       "      <td>14.773800</td>\n",
       "    </tr>\n",
       "    <tr>\n",
       "      <th>50%</th>\n",
       "      <td>4.848500</td>\n",
       "      <td>7.130120</td>\n",
       "      <td>7.533020</td>\n",
       "      <td>9.592330</td>\n",
       "      <td>11.633500</td>\n",
       "      <td>14.375600</td>\n",
       "      <td>14.508500</td>\n",
       "      <td>16.597500</td>\n",
       "      <td>17.891400</td>\n",
       "      <td>18.524000</td>\n",
       "      <td>20.13420</td>\n",
       "      <td>20.010000</td>\n",
       "    </tr>\n",
       "    <tr>\n",
       "      <th>75%</th>\n",
       "      <td>5.839440</td>\n",
       "      <td>8.620730</td>\n",
       "      <td>9.635680</td>\n",
       "      <td>12.599350</td>\n",
       "      <td>14.190100</td>\n",
       "      <td>16.675450</td>\n",
       "      <td>18.050500</td>\n",
       "      <td>20.058500</td>\n",
       "      <td>21.764550</td>\n",
       "      <td>22.533225</td>\n",
       "      <td>23.88070</td>\n",
       "      <td>24.922100</td>\n",
       "    </tr>\n",
       "    <tr>\n",
       "      <th>max</th>\n",
       "      <td>38.095400</td>\n",
       "      <td>15.625000</td>\n",
       "      <td>21.108200</td>\n",
       "      <td>25.518300</td>\n",
       "      <td>25.000000</td>\n",
       "      <td>26.337400</td>\n",
       "      <td>38.167900</td>\n",
       "      <td>33.826600</td>\n",
       "      <td>38.147100</td>\n",
       "      <td>38.392300</td>\n",
       "      <td>43.01080</td>\n",
       "      <td>41.775500</td>\n",
       "    </tr>\n",
       "  </tbody>\n",
       "</table>\n",
       "</div>"
      ],
      "text/plain": [
       "payload        0.1         0.5         1.0         2.0         3.0   \\\n",
       "count    177.000000  155.000000  180.000000  159.000000  175.000000   \n",
       "mean       5.361158    6.929305    7.887633    9.773422   11.462117   \n",
       "std        3.281618    2.863273    3.670574    4.223012    4.598494   \n",
       "min        0.070194    0.841220    0.472283    1.808110    2.603320   \n",
       "25%        4.188500    4.742185    5.642748    6.932440    7.831645   \n",
       "50%        4.848500    7.130120    7.533020    9.592330   11.633500   \n",
       "75%        5.839440    8.620730    9.635680   12.599350   14.190100   \n",
       "max       38.095400   15.625000   21.108200   25.518300   25.000000   \n",
       "\n",
       "payload        4.0         5.0         6.0         7.0         8.0   \\\n",
       "count    175.000000  181.000000  173.000000  155.000000  162.000000   \n",
       "mean      13.578815   14.777934   16.531106   17.790126   18.276707   \n",
       "std        4.722336    4.991452    5.714600    5.947428    6.184221   \n",
       "min        1.431320    2.960990    5.166290    4.543610    1.371100   \n",
       "25%       10.288200   11.302600   12.124300   13.442150   14.128850   \n",
       "50%       14.375600   14.508500   16.597500   17.891400   18.524000   \n",
       "75%       16.675450   18.050500   20.058500   21.764550   22.533225   \n",
       "max       26.337400   38.167900   33.826600   38.147100   38.392300   \n",
       "\n",
       "payload       9.0         10.0  \n",
       "count    147.00000  157.000000  \n",
       "mean      19.93746   20.303460  \n",
       "std        6.63481    7.564087  \n",
       "min        5.08008    2.672640  \n",
       "25%       15.15505   14.773800  \n",
       "50%       20.13420   20.010000  \n",
       "75%       23.88070   24.922100  \n",
       "max       43.01080   41.775500  "
      ]
     },
     "execution_count": 107,
     "metadata": {},
     "output_type": "execute_result"
    }
   ],
   "source": [
    "df.groupby('payload')['throughput'].describe().transpose()"
   ]
  },
  {
   "cell_type": "code",
   "execution_count": 108,
   "id": "separated-manchester",
   "metadata": {},
   "outputs": [],
   "source": [
    "# we remove the outliers with the same method delineated above\n",
    "# fig = px.scatter(data_frame=df, x='payload',y='throughput',hover_name=df.index)\n",
    "# fig.show()\n",
    "# \n",
    "# we drop rows with the following index: 1111, 1835, 871, 569, 1011"
   ]
  },
  {
   "cell_type": "code",
   "execution_count": 109,
   "id": "defined-strengthening",
   "metadata": {},
   "outputs": [],
   "source": [
    "# remove outliers left of the mean\n",
    "# df = df.drop([646])"
   ]
  },
  {
   "cell_type": "code",
   "execution_count": 110,
   "id": "nuclear-wagon",
   "metadata": {},
   "outputs": [],
   "source": [
    "# remove outliert right of the mean\n",
    "# df = df.drop([1111, 1835, 871, 569,612,1011,507,338])"
   ]
  },
  {
   "cell_type": "code",
   "execution_count": 111,
   "id": "reported-bahamas",
   "metadata": {},
   "outputs": [],
   "source": [
    "# plt.figure(figsize=(16,16))\n",
    "# sns.scatterplot(data=df, x='payload', y='throughput',hue='rsrp',palette='magma')\n",
    "# \n",
    "# plt.axhline(y=up_lim,color='orange',alpha=.5,label='q75 + 1.5 IQR')\n",
    "# \n",
    "# plt.legend(loc=(1.02,.5));"
   ]
  },
  {
   "cell_type": "code",
   "execution_count": 112,
   "id": "recognized-impossible",
   "metadata": {},
   "outputs": [
    {
     "data": {
      "text/plain": [
       "payload\n",
       "0.5     2.863273\n",
       "0.1     3.281618\n",
       "1.0     3.670574\n",
       "2.0     4.223012\n",
       "3.0     4.598494\n",
       "4.0     4.722336\n",
       "5.0     4.991452\n",
       "6.0     5.714600\n",
       "7.0     5.947428\n",
       "8.0     6.184221\n",
       "9.0     6.634810\n",
       "10.0    7.564087\n",
       "Name: throughput, dtype: float64"
      ]
     },
     "execution_count": 112,
     "metadata": {},
     "output_type": "execute_result"
    }
   ],
   "source": [
    "df.groupby('payload')['throughput'].std().sort_values()"
   ]
  },
  {
   "cell_type": "markdown",
   "id": "deadly-galaxy",
   "metadata": {},
   "source": [
    "**Comment**: we use a visualization and our (qualitative) judgement to remove outliers. Note that an alternative to this would be an algorithm that (a) groups the data points by payload and (b) removes the outliers per payload by considering an IQR or STD method. Since we have to do the outlier removal operation only once, we won't automate this process\n",
    "\n",
    "---"
   ]
  },
  {
   "cell_type": "code",
   "execution_count": 113,
   "id": "earned-modification",
   "metadata": {},
   "outputs": [],
   "source": [
    "# plt.figure(figsize=(16,16))\n",
    "# sns.scatterplot(data=df, x='rsrp', y='throughput',hue='payload',palette='magma')\n",
    "# \n",
    "# plt.axhline(y=up_lim,color='orange',alpha=.5,label='q75 + 1.5 IQR')\n",
    "# \n",
    "# plt.legend(loc=(1.02,.5));"
   ]
  },
  {
   "cell_type": "code",
   "execution_count": 114,
   "id": "domestic-performance",
   "metadata": {},
   "outputs": [],
   "source": [
    "# df.head()"
   ]
  },
  {
   "cell_type": "code",
   "execution_count": 115,
   "id": "asian-appendix",
   "metadata": {},
   "outputs": [],
   "source": [
    "# df.info()"
   ]
  },
  {
   "cell_type": "code",
   "execution_count": 116,
   "id": "composed-migration",
   "metadata": {},
   "outputs": [],
   "source": [
    "# df.to_csv('./data/d-no-ns-nd.csv', index=False)\n",
    "# pfe = post feature engineering\n",
    "# ns = not scaled\n",
    "# nd = no dummy variables"
   ]
  },
  {
   "cell_type": "markdown",
   "id": "eastern-tucson",
   "metadata": {},
   "source": [
    "# Encoding Categorical Features\n",
    "\n",
    "We create dummy variables for the following features: \n",
    "- region \n",
    "- weekday\n",
    "- ci (we don't have enough domain knowledge to check if this is a correct assumption)\n",
    "\n",
    "The following ordinal features remain unchanged (not enough domain knowledge, but by reading the articles we can infer there is an order to the variable values).\n",
    "- [CQI](https://ytd2525.wordpress.com/2014/02/02/cqi-channel-quality-indicator/)"
   ]
  },
  {
   "cell_type": "code",
   "execution_count": 117,
   "id": "charitable-valuation",
   "metadata": {},
   "outputs": [],
   "source": [
    "cat_features = ['ci','region','weekday']\n",
    "cat_df = df[cat_features].copy()"
   ]
  },
  {
   "cell_type": "code",
   "execution_count": 118,
   "id": "statutory-sequence",
   "metadata": {},
   "outputs": [],
   "source": [
    "# convert CI int -> object\n",
    "cat_df['ci'] = cat_df['ci'].apply(str)"
   ]
  },
  {
   "cell_type": "code",
   "execution_count": 119,
   "id": "expired-illinois",
   "metadata": {},
   "outputs": [
    {
     "name": "stdout",
     "output_type": "stream",
     "text": [
      "<class 'pandas.core.frame.DataFrame'>\n",
      "Int64Index: 1996 entries, 0 to 2140\n",
      "Data columns (total 3 columns):\n",
      " #   Column   Non-Null Count  Dtype \n",
      "---  ------   --------------  ----- \n",
      " 0   ci       1996 non-null   object\n",
      " 1   region   1996 non-null   object\n",
      " 2   weekday  1996 non-null   object\n",
      "dtypes: object(3)\n",
      "memory usage: 62.4+ KB\n"
     ]
    }
   ],
   "source": [
    "cat_df.info()"
   ]
  },
  {
   "cell_type": "code",
   "execution_count": 120,
   "id": "specified-needle",
   "metadata": {},
   "outputs": [],
   "source": [
    "non_cat_df = df.drop(cat_features, axis=1)"
   ]
  },
  {
   "cell_type": "code",
   "execution_count": 121,
   "id": "direct-stuart",
   "metadata": {},
   "outputs": [
    {
     "data": {
      "text/html": [
       "<div>\n",
       "<style scoped>\n",
       "    .dataframe tbody tr th:only-of-type {\n",
       "        vertical-align: middle;\n",
       "    }\n",
       "\n",
       "    .dataframe tbody tr th {\n",
       "        vertical-align: top;\n",
       "    }\n",
       "\n",
       "    .dataframe thead th {\n",
       "        text-align: right;\n",
       "    }\n",
       "</style>\n",
       "<table border=\"1\" class=\"dataframe\">\n",
       "  <thead>\n",
       "    <tr style=\"text-align: right;\">\n",
       "      <th></th>\n",
       "      <th>distance</th>\n",
       "      <th>lat</th>\n",
       "      <th>lon</th>\n",
       "      <th>alt</th>\n",
       "      <th>speed</th>\n",
       "      <th>acc</th>\n",
       "      <th>dir</th>\n",
       "      <th>rsrp</th>\n",
       "      <th>rsrq</th>\n",
       "      <th>sinr</th>\n",
       "      <th>cqi</th>\n",
       "      <th>ta</th>\n",
       "      <th>payload</th>\n",
       "      <th>throughput</th>\n",
       "      <th>rtt</th>\n",
       "      <th>hour</th>\n",
       "    </tr>\n",
       "  </thead>\n",
       "  <tbody>\n",
       "    <tr>\n",
       "      <th>0</th>\n",
       "      <td>99.42</td>\n",
       "      <td>51.490553</td>\n",
       "      <td>7.413966</td>\n",
       "      <td>157.63</td>\n",
       "      <td>11.83</td>\n",
       "      <td>0.00</td>\n",
       "      <td>79.35</td>\n",
       "      <td>-85</td>\n",
       "      <td>-5</td>\n",
       "      <td>22</td>\n",
       "      <td>10</td>\n",
       "      <td>7</td>\n",
       "      <td>0.1</td>\n",
       "      <td>6.83763</td>\n",
       "      <td>41</td>\n",
       "      <td>10</td>\n",
       "    </tr>\n",
       "    <tr>\n",
       "      <th>1</th>\n",
       "      <td>237.43</td>\n",
       "      <td>51.490715</td>\n",
       "      <td>7.416002</td>\n",
       "      <td>152.41</td>\n",
       "      <td>10.76</td>\n",
       "      <td>-0.52</td>\n",
       "      <td>89.45</td>\n",
       "      <td>-84</td>\n",
       "      <td>-6</td>\n",
       "      <td>11</td>\n",
       "      <td>13</td>\n",
       "      <td>4</td>\n",
       "      <td>2.0</td>\n",
       "      <td>9.71463</td>\n",
       "      <td>58</td>\n",
       "      <td>10</td>\n",
       "    </tr>\n",
       "    <tr>\n",
       "      <th>2</th>\n",
       "      <td>325.26</td>\n",
       "      <td>51.490668</td>\n",
       "      <td>7.417176</td>\n",
       "      <td>154.64</td>\n",
       "      <td>6.19</td>\n",
       "      <td>-0.62</td>\n",
       "      <td>27.05</td>\n",
       "      <td>-82</td>\n",
       "      <td>-6</td>\n",
       "      <td>21</td>\n",
       "      <td>15</td>\n",
       "      <td>4</td>\n",
       "      <td>2.0</td>\n",
       "      <td>7.30594</td>\n",
       "      <td>57</td>\n",
       "      <td>10</td>\n",
       "    </tr>\n",
       "    <tr>\n",
       "      <th>4</th>\n",
       "      <td>540.48</td>\n",
       "      <td>51.492531</td>\n",
       "      <td>7.416222</td>\n",
       "      <td>154.41</td>\n",
       "      <td>12.33</td>\n",
       "      <td>0.01</td>\n",
       "      <td>336.68</td>\n",
       "      <td>-90</td>\n",
       "      <td>-6</td>\n",
       "      <td>16</td>\n",
       "      <td>9</td>\n",
       "      <td>4</td>\n",
       "      <td>5.0</td>\n",
       "      <td>8.54884</td>\n",
       "      <td>59</td>\n",
       "      <td>10</td>\n",
       "    </tr>\n",
       "    <tr>\n",
       "      <th>5</th>\n",
       "      <td>673.04</td>\n",
       "      <td>51.493715</td>\n",
       "      <td>7.415771</td>\n",
       "      <td>152.68</td>\n",
       "      <td>11.88</td>\n",
       "      <td>0.09</td>\n",
       "      <td>347.54</td>\n",
       "      <td>-101</td>\n",
       "      <td>-10</td>\n",
       "      <td>13</td>\n",
       "      <td>15</td>\n",
       "      <td>4</td>\n",
       "      <td>8.0</td>\n",
       "      <td>11.29940</td>\n",
       "      <td>51</td>\n",
       "      <td>10</td>\n",
       "    </tr>\n",
       "  </tbody>\n",
       "</table>\n",
       "</div>"
      ],
      "text/plain": [
       "   distance        lat       lon     alt  speed   acc     dir  rsrp  rsrq  \\\n",
       "0     99.42  51.490553  7.413966  157.63  11.83  0.00   79.35   -85    -5   \n",
       "1    237.43  51.490715  7.416002  152.41  10.76 -0.52   89.45   -84    -6   \n",
       "2    325.26  51.490668  7.417176  154.64   6.19 -0.62   27.05   -82    -6   \n",
       "4    540.48  51.492531  7.416222  154.41  12.33  0.01  336.68   -90    -6   \n",
       "5    673.04  51.493715  7.415771  152.68  11.88  0.09  347.54  -101   -10   \n",
       "\n",
       "   sinr  cqi  ta  payload  throughput  rtt  hour  \n",
       "0    22   10   7      0.1     6.83763   41    10  \n",
       "1    11   13   4      2.0     9.71463   58    10  \n",
       "2    21   15   4      2.0     7.30594   57    10  \n",
       "4    16    9   4      5.0     8.54884   59    10  \n",
       "5    13   15   4      8.0    11.29940   51    10  "
      ]
     },
     "execution_count": 121,
     "metadata": {},
     "output_type": "execute_result"
    }
   ],
   "source": [
    "non_cat_df.head()"
   ]
  },
  {
   "cell_type": "code",
   "execution_count": 122,
   "id": "worse-external",
   "metadata": {},
   "outputs": [],
   "source": [
    "cat_df_d = pd.get_dummies(cat_df, drop_first=True)\n",
    "# d = dummy variables, we drop the first column of each set of dummy variables"
   ]
  },
  {
   "cell_type": "code",
   "execution_count": 123,
   "id": "split-meaning",
   "metadata": {},
   "outputs": [
    {
     "data": {
      "text/html": [
       "<div>\n",
       "<style scoped>\n",
       "    .dataframe tbody tr th:only-of-type {\n",
       "        vertical-align: middle;\n",
       "    }\n",
       "\n",
       "    .dataframe tbody tr th {\n",
       "        vertical-align: top;\n",
       "    }\n",
       "\n",
       "    .dataframe thead th {\n",
       "        text-align: right;\n",
       "    }\n",
       "</style>\n",
       "<table border=\"1\" class=\"dataframe\">\n",
       "  <thead>\n",
       "    <tr style=\"text-align: right;\">\n",
       "      <th></th>\n",
       "      <th>ci_26378497</th>\n",
       "      <th>ci_26378498</th>\n",
       "      <th>ci_26378754</th>\n",
       "      <th>ci_26378755</th>\n",
       "      <th>ci_26379013</th>\n",
       "      <th>ci_26385408</th>\n",
       "      <th>ci_26385409</th>\n",
       "      <th>ci_26385410</th>\n",
       "      <th>ci_26796290</th>\n",
       "      <th>ci_26796291</th>\n",
       "      <th>...</th>\n",
       "      <th>ci_33527559</th>\n",
       "      <th>ci_33527561</th>\n",
       "      <th>ci_33837570</th>\n",
       "      <th>region_highway</th>\n",
       "      <th>region_suburban</th>\n",
       "      <th>region_urban</th>\n",
       "      <th>weekday_Monday</th>\n",
       "      <th>weekday_Thursday</th>\n",
       "      <th>weekday_Tuesday</th>\n",
       "      <th>weekday_Wednesday</th>\n",
       "    </tr>\n",
       "  </thead>\n",
       "  <tbody>\n",
       "    <tr>\n",
       "      <th>0</th>\n",
       "      <td>0</td>\n",
       "      <td>0</td>\n",
       "      <td>0</td>\n",
       "      <td>0</td>\n",
       "      <td>0</td>\n",
       "      <td>1</td>\n",
       "      <td>0</td>\n",
       "      <td>0</td>\n",
       "      <td>0</td>\n",
       "      <td>0</td>\n",
       "      <td>...</td>\n",
       "      <td>0</td>\n",
       "      <td>0</td>\n",
       "      <td>0</td>\n",
       "      <td>0</td>\n",
       "      <td>0</td>\n",
       "      <td>0</td>\n",
       "      <td>1</td>\n",
       "      <td>0</td>\n",
       "      <td>0</td>\n",
       "      <td>0</td>\n",
       "    </tr>\n",
       "    <tr>\n",
       "      <th>1</th>\n",
       "      <td>0</td>\n",
       "      <td>0</td>\n",
       "      <td>0</td>\n",
       "      <td>0</td>\n",
       "      <td>0</td>\n",
       "      <td>0</td>\n",
       "      <td>0</td>\n",
       "      <td>0</td>\n",
       "      <td>0</td>\n",
       "      <td>0</td>\n",
       "      <td>...</td>\n",
       "      <td>0</td>\n",
       "      <td>0</td>\n",
       "      <td>0</td>\n",
       "      <td>0</td>\n",
       "      <td>0</td>\n",
       "      <td>0</td>\n",
       "      <td>1</td>\n",
       "      <td>0</td>\n",
       "      <td>0</td>\n",
       "      <td>0</td>\n",
       "    </tr>\n",
       "    <tr>\n",
       "      <th>2</th>\n",
       "      <td>0</td>\n",
       "      <td>0</td>\n",
       "      <td>0</td>\n",
       "      <td>0</td>\n",
       "      <td>0</td>\n",
       "      <td>0</td>\n",
       "      <td>0</td>\n",
       "      <td>0</td>\n",
       "      <td>0</td>\n",
       "      <td>0</td>\n",
       "      <td>...</td>\n",
       "      <td>0</td>\n",
       "      <td>0</td>\n",
       "      <td>0</td>\n",
       "      <td>0</td>\n",
       "      <td>0</td>\n",
       "      <td>0</td>\n",
       "      <td>1</td>\n",
       "      <td>0</td>\n",
       "      <td>0</td>\n",
       "      <td>0</td>\n",
       "    </tr>\n",
       "    <tr>\n",
       "      <th>4</th>\n",
       "      <td>0</td>\n",
       "      <td>0</td>\n",
       "      <td>0</td>\n",
       "      <td>0</td>\n",
       "      <td>0</td>\n",
       "      <td>0</td>\n",
       "      <td>0</td>\n",
       "      <td>0</td>\n",
       "      <td>0</td>\n",
       "      <td>0</td>\n",
       "      <td>...</td>\n",
       "      <td>0</td>\n",
       "      <td>0</td>\n",
       "      <td>0</td>\n",
       "      <td>0</td>\n",
       "      <td>0</td>\n",
       "      <td>0</td>\n",
       "      <td>1</td>\n",
       "      <td>0</td>\n",
       "      <td>0</td>\n",
       "      <td>0</td>\n",
       "    </tr>\n",
       "    <tr>\n",
       "      <th>5</th>\n",
       "      <td>0</td>\n",
       "      <td>0</td>\n",
       "      <td>0</td>\n",
       "      <td>0</td>\n",
       "      <td>0</td>\n",
       "      <td>0</td>\n",
       "      <td>0</td>\n",
       "      <td>0</td>\n",
       "      <td>0</td>\n",
       "      <td>0</td>\n",
       "      <td>...</td>\n",
       "      <td>0</td>\n",
       "      <td>0</td>\n",
       "      <td>0</td>\n",
       "      <td>0</td>\n",
       "      <td>0</td>\n",
       "      <td>0</td>\n",
       "      <td>1</td>\n",
       "      <td>0</td>\n",
       "      <td>0</td>\n",
       "      <td>0</td>\n",
       "    </tr>\n",
       "    <tr>\n",
       "      <th>...</th>\n",
       "      <td>...</td>\n",
       "      <td>...</td>\n",
       "      <td>...</td>\n",
       "      <td>...</td>\n",
       "      <td>...</td>\n",
       "      <td>...</td>\n",
       "      <td>...</td>\n",
       "      <td>...</td>\n",
       "      <td>...</td>\n",
       "      <td>...</td>\n",
       "      <td>...</td>\n",
       "      <td>...</td>\n",
       "      <td>...</td>\n",
       "      <td>...</td>\n",
       "      <td>...</td>\n",
       "      <td>...</td>\n",
       "      <td>...</td>\n",
       "      <td>...</td>\n",
       "      <td>...</td>\n",
       "      <td>...</td>\n",
       "      <td>...</td>\n",
       "    </tr>\n",
       "    <tr>\n",
       "      <th>2136</th>\n",
       "      <td>0</td>\n",
       "      <td>0</td>\n",
       "      <td>0</td>\n",
       "      <td>1</td>\n",
       "      <td>0</td>\n",
       "      <td>0</td>\n",
       "      <td>0</td>\n",
       "      <td>0</td>\n",
       "      <td>0</td>\n",
       "      <td>0</td>\n",
       "      <td>...</td>\n",
       "      <td>0</td>\n",
       "      <td>0</td>\n",
       "      <td>0</td>\n",
       "      <td>0</td>\n",
       "      <td>0</td>\n",
       "      <td>1</td>\n",
       "      <td>0</td>\n",
       "      <td>0</td>\n",
       "      <td>0</td>\n",
       "      <td>0</td>\n",
       "    </tr>\n",
       "    <tr>\n",
       "      <th>2137</th>\n",
       "      <td>0</td>\n",
       "      <td>0</td>\n",
       "      <td>0</td>\n",
       "      <td>0</td>\n",
       "      <td>0</td>\n",
       "      <td>0</td>\n",
       "      <td>0</td>\n",
       "      <td>0</td>\n",
       "      <td>0</td>\n",
       "      <td>0</td>\n",
       "      <td>...</td>\n",
       "      <td>0</td>\n",
       "      <td>0</td>\n",
       "      <td>0</td>\n",
       "      <td>0</td>\n",
       "      <td>0</td>\n",
       "      <td>1</td>\n",
       "      <td>0</td>\n",
       "      <td>0</td>\n",
       "      <td>0</td>\n",
       "      <td>0</td>\n",
       "    </tr>\n",
       "    <tr>\n",
       "      <th>2138</th>\n",
       "      <td>0</td>\n",
       "      <td>0</td>\n",
       "      <td>0</td>\n",
       "      <td>0</td>\n",
       "      <td>0</td>\n",
       "      <td>0</td>\n",
       "      <td>0</td>\n",
       "      <td>0</td>\n",
       "      <td>0</td>\n",
       "      <td>0</td>\n",
       "      <td>...</td>\n",
       "      <td>0</td>\n",
       "      <td>0</td>\n",
       "      <td>0</td>\n",
       "      <td>0</td>\n",
       "      <td>0</td>\n",
       "      <td>1</td>\n",
       "      <td>0</td>\n",
       "      <td>0</td>\n",
       "      <td>0</td>\n",
       "      <td>0</td>\n",
       "    </tr>\n",
       "    <tr>\n",
       "      <th>2139</th>\n",
       "      <td>0</td>\n",
       "      <td>0</td>\n",
       "      <td>0</td>\n",
       "      <td>0</td>\n",
       "      <td>0</td>\n",
       "      <td>0</td>\n",
       "      <td>0</td>\n",
       "      <td>0</td>\n",
       "      <td>0</td>\n",
       "      <td>0</td>\n",
       "      <td>...</td>\n",
       "      <td>0</td>\n",
       "      <td>0</td>\n",
       "      <td>0</td>\n",
       "      <td>0</td>\n",
       "      <td>0</td>\n",
       "      <td>1</td>\n",
       "      <td>0</td>\n",
       "      <td>0</td>\n",
       "      <td>0</td>\n",
       "      <td>0</td>\n",
       "    </tr>\n",
       "    <tr>\n",
       "      <th>2140</th>\n",
       "      <td>0</td>\n",
       "      <td>0</td>\n",
       "      <td>0</td>\n",
       "      <td>0</td>\n",
       "      <td>0</td>\n",
       "      <td>0</td>\n",
       "      <td>0</td>\n",
       "      <td>0</td>\n",
       "      <td>0</td>\n",
       "      <td>0</td>\n",
       "      <td>...</td>\n",
       "      <td>0</td>\n",
       "      <td>0</td>\n",
       "      <td>0</td>\n",
       "      <td>0</td>\n",
       "      <td>0</td>\n",
       "      <td>1</td>\n",
       "      <td>0</td>\n",
       "      <td>0</td>\n",
       "      <td>0</td>\n",
       "      <td>0</td>\n",
       "    </tr>\n",
       "  </tbody>\n",
       "</table>\n",
       "<p>1996 rows × 65 columns</p>\n",
       "</div>"
      ],
      "text/plain": [
       "      ci_26378497  ci_26378498  ci_26378754  ci_26378755  ci_26379013  \\\n",
       "0               0            0            0            0            0   \n",
       "1               0            0            0            0            0   \n",
       "2               0            0            0            0            0   \n",
       "4               0            0            0            0            0   \n",
       "5               0            0            0            0            0   \n",
       "...           ...          ...          ...          ...          ...   \n",
       "2136            0            0            0            1            0   \n",
       "2137            0            0            0            0            0   \n",
       "2138            0            0            0            0            0   \n",
       "2139            0            0            0            0            0   \n",
       "2140            0            0            0            0            0   \n",
       "\n",
       "      ci_26385408  ci_26385409  ci_26385410  ci_26796290  ci_26796291  ...  \\\n",
       "0               1            0            0            0            0  ...   \n",
       "1               0            0            0            0            0  ...   \n",
       "2               0            0            0            0            0  ...   \n",
       "4               0            0            0            0            0  ...   \n",
       "5               0            0            0            0            0  ...   \n",
       "...           ...          ...          ...          ...          ...  ...   \n",
       "2136            0            0            0            0            0  ...   \n",
       "2137            0            0            0            0            0  ...   \n",
       "2138            0            0            0            0            0  ...   \n",
       "2139            0            0            0            0            0  ...   \n",
       "2140            0            0            0            0            0  ...   \n",
       "\n",
       "      ci_33527559  ci_33527561  ci_33837570  region_highway  region_suburban  \\\n",
       "0               0            0            0               0                0   \n",
       "1               0            0            0               0                0   \n",
       "2               0            0            0               0                0   \n",
       "4               0            0            0               0                0   \n",
       "5               0            0            0               0                0   \n",
       "...           ...          ...          ...             ...              ...   \n",
       "2136            0            0            0               0                0   \n",
       "2137            0            0            0               0                0   \n",
       "2138            0            0            0               0                0   \n",
       "2139            0            0            0               0                0   \n",
       "2140            0            0            0               0                0   \n",
       "\n",
       "      region_urban  weekday_Monday  weekday_Thursday  weekday_Tuesday  \\\n",
       "0                0               1                 0                0   \n",
       "1                0               1                 0                0   \n",
       "2                0               1                 0                0   \n",
       "4                0               1                 0                0   \n",
       "5                0               1                 0                0   \n",
       "...            ...             ...               ...              ...   \n",
       "2136             1               0                 0                0   \n",
       "2137             1               0                 0                0   \n",
       "2138             1               0                 0                0   \n",
       "2139             1               0                 0                0   \n",
       "2140             1               0                 0                0   \n",
       "\n",
       "      weekday_Wednesday  \n",
       "0                     0  \n",
       "1                     0  \n",
       "2                     0  \n",
       "4                     0  \n",
       "5                     0  \n",
       "...                 ...  \n",
       "2136                  0  \n",
       "2137                  0  \n",
       "2138                  0  \n",
       "2139                  0  \n",
       "2140                  0  \n",
       "\n",
       "[1996 rows x 65 columns]"
      ]
     },
     "execution_count": 123,
     "metadata": {},
     "output_type": "execute_result"
    }
   ],
   "source": [
    "cat_df_d"
   ]
  },
  {
   "cell_type": "code",
   "execution_count": 124,
   "id": "confidential-geometry",
   "metadata": {},
   "outputs": [],
   "source": [
    "pfe_df = pd.concat([non_cat_df, cat_df_d],axis=1)\n",
    "# pfe = post feature engineering"
   ]
  },
  {
   "cell_type": "code",
   "execution_count": 125,
   "id": "hungarian-commissioner",
   "metadata": {},
   "outputs": [
    {
     "data": {
      "text/html": [
       "<div>\n",
       "<style scoped>\n",
       "    .dataframe tbody tr th:only-of-type {\n",
       "        vertical-align: middle;\n",
       "    }\n",
       "\n",
       "    .dataframe tbody tr th {\n",
       "        vertical-align: top;\n",
       "    }\n",
       "\n",
       "    .dataframe thead th {\n",
       "        text-align: right;\n",
       "    }\n",
       "</style>\n",
       "<table border=\"1\" class=\"dataframe\">\n",
       "  <thead>\n",
       "    <tr style=\"text-align: right;\">\n",
       "      <th></th>\n",
       "      <th>distance</th>\n",
       "      <th>lat</th>\n",
       "      <th>lon</th>\n",
       "      <th>alt</th>\n",
       "      <th>speed</th>\n",
       "      <th>acc</th>\n",
       "      <th>dir</th>\n",
       "      <th>rsrp</th>\n",
       "      <th>rsrq</th>\n",
       "      <th>sinr</th>\n",
       "      <th>...</th>\n",
       "      <th>ci_33527559</th>\n",
       "      <th>ci_33527561</th>\n",
       "      <th>ci_33837570</th>\n",
       "      <th>region_highway</th>\n",
       "      <th>region_suburban</th>\n",
       "      <th>region_urban</th>\n",
       "      <th>weekday_Monday</th>\n",
       "      <th>weekday_Thursday</th>\n",
       "      <th>weekday_Tuesday</th>\n",
       "      <th>weekday_Wednesday</th>\n",
       "    </tr>\n",
       "  </thead>\n",
       "  <tbody>\n",
       "    <tr>\n",
       "      <th>0</th>\n",
       "      <td>99.42</td>\n",
       "      <td>51.490553</td>\n",
       "      <td>7.413966</td>\n",
       "      <td>157.63</td>\n",
       "      <td>11.83</td>\n",
       "      <td>0.00</td>\n",
       "      <td>79.35</td>\n",
       "      <td>-85</td>\n",
       "      <td>-5</td>\n",
       "      <td>22</td>\n",
       "      <td>...</td>\n",
       "      <td>0</td>\n",
       "      <td>0</td>\n",
       "      <td>0</td>\n",
       "      <td>0</td>\n",
       "      <td>0</td>\n",
       "      <td>0</td>\n",
       "      <td>1</td>\n",
       "      <td>0</td>\n",
       "      <td>0</td>\n",
       "      <td>0</td>\n",
       "    </tr>\n",
       "    <tr>\n",
       "      <th>1</th>\n",
       "      <td>237.43</td>\n",
       "      <td>51.490715</td>\n",
       "      <td>7.416002</td>\n",
       "      <td>152.41</td>\n",
       "      <td>10.76</td>\n",
       "      <td>-0.52</td>\n",
       "      <td>89.45</td>\n",
       "      <td>-84</td>\n",
       "      <td>-6</td>\n",
       "      <td>11</td>\n",
       "      <td>...</td>\n",
       "      <td>0</td>\n",
       "      <td>0</td>\n",
       "      <td>0</td>\n",
       "      <td>0</td>\n",
       "      <td>0</td>\n",
       "      <td>0</td>\n",
       "      <td>1</td>\n",
       "      <td>0</td>\n",
       "      <td>0</td>\n",
       "      <td>0</td>\n",
       "    </tr>\n",
       "    <tr>\n",
       "      <th>2</th>\n",
       "      <td>325.26</td>\n",
       "      <td>51.490668</td>\n",
       "      <td>7.417176</td>\n",
       "      <td>154.64</td>\n",
       "      <td>6.19</td>\n",
       "      <td>-0.62</td>\n",
       "      <td>27.05</td>\n",
       "      <td>-82</td>\n",
       "      <td>-6</td>\n",
       "      <td>21</td>\n",
       "      <td>...</td>\n",
       "      <td>0</td>\n",
       "      <td>0</td>\n",
       "      <td>0</td>\n",
       "      <td>0</td>\n",
       "      <td>0</td>\n",
       "      <td>0</td>\n",
       "      <td>1</td>\n",
       "      <td>0</td>\n",
       "      <td>0</td>\n",
       "      <td>0</td>\n",
       "    </tr>\n",
       "    <tr>\n",
       "      <th>4</th>\n",
       "      <td>540.48</td>\n",
       "      <td>51.492531</td>\n",
       "      <td>7.416222</td>\n",
       "      <td>154.41</td>\n",
       "      <td>12.33</td>\n",
       "      <td>0.01</td>\n",
       "      <td>336.68</td>\n",
       "      <td>-90</td>\n",
       "      <td>-6</td>\n",
       "      <td>16</td>\n",
       "      <td>...</td>\n",
       "      <td>0</td>\n",
       "      <td>0</td>\n",
       "      <td>0</td>\n",
       "      <td>0</td>\n",
       "      <td>0</td>\n",
       "      <td>0</td>\n",
       "      <td>1</td>\n",
       "      <td>0</td>\n",
       "      <td>0</td>\n",
       "      <td>0</td>\n",
       "    </tr>\n",
       "    <tr>\n",
       "      <th>5</th>\n",
       "      <td>673.04</td>\n",
       "      <td>51.493715</td>\n",
       "      <td>7.415771</td>\n",
       "      <td>152.68</td>\n",
       "      <td>11.88</td>\n",
       "      <td>0.09</td>\n",
       "      <td>347.54</td>\n",
       "      <td>-101</td>\n",
       "      <td>-10</td>\n",
       "      <td>13</td>\n",
       "      <td>...</td>\n",
       "      <td>0</td>\n",
       "      <td>0</td>\n",
       "      <td>0</td>\n",
       "      <td>0</td>\n",
       "      <td>0</td>\n",
       "      <td>0</td>\n",
       "      <td>1</td>\n",
       "      <td>0</td>\n",
       "      <td>0</td>\n",
       "      <td>0</td>\n",
       "    </tr>\n",
       "  </tbody>\n",
       "</table>\n",
       "<p>5 rows × 81 columns</p>\n",
       "</div>"
      ],
      "text/plain": [
       "   distance        lat       lon     alt  speed   acc     dir  rsrp  rsrq  \\\n",
       "0     99.42  51.490553  7.413966  157.63  11.83  0.00   79.35   -85    -5   \n",
       "1    237.43  51.490715  7.416002  152.41  10.76 -0.52   89.45   -84    -6   \n",
       "2    325.26  51.490668  7.417176  154.64   6.19 -0.62   27.05   -82    -6   \n",
       "4    540.48  51.492531  7.416222  154.41  12.33  0.01  336.68   -90    -6   \n",
       "5    673.04  51.493715  7.415771  152.68  11.88  0.09  347.54  -101   -10   \n",
       "\n",
       "   sinr  ...  ci_33527559  ci_33527561  ci_33837570  region_highway  \\\n",
       "0    22  ...            0            0            0               0   \n",
       "1    11  ...            0            0            0               0   \n",
       "2    21  ...            0            0            0               0   \n",
       "4    16  ...            0            0            0               0   \n",
       "5    13  ...            0            0            0               0   \n",
       "\n",
       "   region_suburban  region_urban  weekday_Monday  weekday_Thursday  \\\n",
       "0                0             0               1                 0   \n",
       "1                0             0               1                 0   \n",
       "2                0             0               1                 0   \n",
       "4                0             0               1                 0   \n",
       "5                0             0               1                 0   \n",
       "\n",
       "   weekday_Tuesday  weekday_Wednesday  \n",
       "0                0                  0  \n",
       "1                0                  0  \n",
       "2                0                  0  \n",
       "4                0                  0  \n",
       "5                0                  0  \n",
       "\n",
       "[5 rows x 81 columns]"
      ]
     },
     "execution_count": 125,
     "metadata": {},
     "output_type": "execute_result"
    }
   ],
   "source": [
    "pfe_df.head()"
   ]
  },
  {
   "cell_type": "code",
   "execution_count": 126,
   "id": "complicated-right",
   "metadata": {},
   "outputs": [
    {
     "data": {
      "text/plain": [
       "rtt               -0.192033\n",
       "ta                -0.165833\n",
       "region_suburban   -0.109712\n",
       "hour              -0.108033\n",
       "ci_28368386       -0.100383\n",
       "                     ...   \n",
       "sinr               0.252092\n",
       "rsrq               0.275477\n",
       "rsrp               0.286182\n",
       "payload            0.684078\n",
       "throughput         1.000000\n",
       "Name: throughput, Length: 81, dtype: float64"
      ]
     },
     "execution_count": 126,
     "metadata": {},
     "output_type": "execute_result"
    }
   ],
   "source": [
    "pfe_df.corr()['throughput'].sort_values()"
   ]
  },
  {
   "cell_type": "code",
   "execution_count": 127,
   "id": "continental-bread",
   "metadata": {},
   "outputs": [],
   "source": [
    "# pfe_df.info()"
   ]
  },
  {
   "cell_type": "code",
   "execution_count": 128,
   "id": "devoted-split",
   "metadata": {},
   "outputs": [],
   "source": [
    "# originally we were going to move the label to the end of the data frame but we decided against it\n",
    "# cols = list(df.columns)\n",
    "# cols.pop(cols.index('throughput'))\n",
    "# \n",
    "# df = df[cols+['throughput']]"
   ]
  },
  {
   "cell_type": "code",
   "execution_count": 129,
   "id": "precise-immunology",
   "metadata": {},
   "outputs": [
    {
     "data": {
      "text/html": [
       "<div>\n",
       "<style scoped>\n",
       "    .dataframe tbody tr th:only-of-type {\n",
       "        vertical-align: middle;\n",
       "    }\n",
       "\n",
       "    .dataframe tbody tr th {\n",
       "        vertical-align: top;\n",
       "    }\n",
       "\n",
       "    .dataframe thead th {\n",
       "        text-align: right;\n",
       "    }\n",
       "</style>\n",
       "<table border=\"1\" class=\"dataframe\">\n",
       "  <thead>\n",
       "    <tr style=\"text-align: right;\">\n",
       "      <th></th>\n",
       "      <th>distance</th>\n",
       "      <th>lat</th>\n",
       "      <th>lon</th>\n",
       "      <th>alt</th>\n",
       "      <th>speed</th>\n",
       "      <th>acc</th>\n",
       "      <th>dir</th>\n",
       "      <th>rsrp</th>\n",
       "      <th>rsrq</th>\n",
       "      <th>sinr</th>\n",
       "      <th>...</th>\n",
       "      <th>ci_33527559</th>\n",
       "      <th>ci_33527561</th>\n",
       "      <th>ci_33837570</th>\n",
       "      <th>region_highway</th>\n",
       "      <th>region_suburban</th>\n",
       "      <th>region_urban</th>\n",
       "      <th>weekday_Monday</th>\n",
       "      <th>weekday_Thursday</th>\n",
       "      <th>weekday_Tuesday</th>\n",
       "      <th>weekday_Wednesday</th>\n",
       "    </tr>\n",
       "  </thead>\n",
       "  <tbody>\n",
       "    <tr>\n",
       "      <th>0</th>\n",
       "      <td>99.42</td>\n",
       "      <td>51.490553</td>\n",
       "      <td>7.413966</td>\n",
       "      <td>157.63</td>\n",
       "      <td>11.83</td>\n",
       "      <td>0.00</td>\n",
       "      <td>79.35</td>\n",
       "      <td>-85</td>\n",
       "      <td>-5</td>\n",
       "      <td>22</td>\n",
       "      <td>...</td>\n",
       "      <td>0</td>\n",
       "      <td>0</td>\n",
       "      <td>0</td>\n",
       "      <td>0</td>\n",
       "      <td>0</td>\n",
       "      <td>0</td>\n",
       "      <td>1</td>\n",
       "      <td>0</td>\n",
       "      <td>0</td>\n",
       "      <td>0</td>\n",
       "    </tr>\n",
       "    <tr>\n",
       "      <th>1</th>\n",
       "      <td>237.43</td>\n",
       "      <td>51.490715</td>\n",
       "      <td>7.416002</td>\n",
       "      <td>152.41</td>\n",
       "      <td>10.76</td>\n",
       "      <td>-0.52</td>\n",
       "      <td>89.45</td>\n",
       "      <td>-84</td>\n",
       "      <td>-6</td>\n",
       "      <td>11</td>\n",
       "      <td>...</td>\n",
       "      <td>0</td>\n",
       "      <td>0</td>\n",
       "      <td>0</td>\n",
       "      <td>0</td>\n",
       "      <td>0</td>\n",
       "      <td>0</td>\n",
       "      <td>1</td>\n",
       "      <td>0</td>\n",
       "      <td>0</td>\n",
       "      <td>0</td>\n",
       "    </tr>\n",
       "    <tr>\n",
       "      <th>2</th>\n",
       "      <td>325.26</td>\n",
       "      <td>51.490668</td>\n",
       "      <td>7.417176</td>\n",
       "      <td>154.64</td>\n",
       "      <td>6.19</td>\n",
       "      <td>-0.62</td>\n",
       "      <td>27.05</td>\n",
       "      <td>-82</td>\n",
       "      <td>-6</td>\n",
       "      <td>21</td>\n",
       "      <td>...</td>\n",
       "      <td>0</td>\n",
       "      <td>0</td>\n",
       "      <td>0</td>\n",
       "      <td>0</td>\n",
       "      <td>0</td>\n",
       "      <td>0</td>\n",
       "      <td>1</td>\n",
       "      <td>0</td>\n",
       "      <td>0</td>\n",
       "      <td>0</td>\n",
       "    </tr>\n",
       "    <tr>\n",
       "      <th>4</th>\n",
       "      <td>540.48</td>\n",
       "      <td>51.492531</td>\n",
       "      <td>7.416222</td>\n",
       "      <td>154.41</td>\n",
       "      <td>12.33</td>\n",
       "      <td>0.01</td>\n",
       "      <td>336.68</td>\n",
       "      <td>-90</td>\n",
       "      <td>-6</td>\n",
       "      <td>16</td>\n",
       "      <td>...</td>\n",
       "      <td>0</td>\n",
       "      <td>0</td>\n",
       "      <td>0</td>\n",
       "      <td>0</td>\n",
       "      <td>0</td>\n",
       "      <td>0</td>\n",
       "      <td>1</td>\n",
       "      <td>0</td>\n",
       "      <td>0</td>\n",
       "      <td>0</td>\n",
       "    </tr>\n",
       "    <tr>\n",
       "      <th>5</th>\n",
       "      <td>673.04</td>\n",
       "      <td>51.493715</td>\n",
       "      <td>7.415771</td>\n",
       "      <td>152.68</td>\n",
       "      <td>11.88</td>\n",
       "      <td>0.09</td>\n",
       "      <td>347.54</td>\n",
       "      <td>-101</td>\n",
       "      <td>-10</td>\n",
       "      <td>13</td>\n",
       "      <td>...</td>\n",
       "      <td>0</td>\n",
       "      <td>0</td>\n",
       "      <td>0</td>\n",
       "      <td>0</td>\n",
       "      <td>0</td>\n",
       "      <td>0</td>\n",
       "      <td>1</td>\n",
       "      <td>0</td>\n",
       "      <td>0</td>\n",
       "      <td>0</td>\n",
       "    </tr>\n",
       "  </tbody>\n",
       "</table>\n",
       "<p>5 rows × 81 columns</p>\n",
       "</div>"
      ],
      "text/plain": [
       "   distance        lat       lon     alt  speed   acc     dir  rsrp  rsrq  \\\n",
       "0     99.42  51.490553  7.413966  157.63  11.83  0.00   79.35   -85    -5   \n",
       "1    237.43  51.490715  7.416002  152.41  10.76 -0.52   89.45   -84    -6   \n",
       "2    325.26  51.490668  7.417176  154.64   6.19 -0.62   27.05   -82    -6   \n",
       "4    540.48  51.492531  7.416222  154.41  12.33  0.01  336.68   -90    -6   \n",
       "5    673.04  51.493715  7.415771  152.68  11.88  0.09  347.54  -101   -10   \n",
       "\n",
       "   sinr  ...  ci_33527559  ci_33527561  ci_33837570  region_highway  \\\n",
       "0    22  ...            0            0            0               0   \n",
       "1    11  ...            0            0            0               0   \n",
       "2    21  ...            0            0            0               0   \n",
       "4    16  ...            0            0            0               0   \n",
       "5    13  ...            0            0            0               0   \n",
       "\n",
       "   region_suburban  region_urban  weekday_Monday  weekday_Thursday  \\\n",
       "0                0             0               1                 0   \n",
       "1                0             0               1                 0   \n",
       "2                0             0               1                 0   \n",
       "4                0             0               1                 0   \n",
       "5                0             0               1                 0   \n",
       "\n",
       "   weekday_Tuesday  weekday_Wednesday  \n",
       "0                0                  0  \n",
       "1                0                  0  \n",
       "2                0                  0  \n",
       "4                0                  0  \n",
       "5                0                  0  \n",
       "\n",
       "[5 rows x 81 columns]"
      ]
     },
     "execution_count": 129,
     "metadata": {},
     "output_type": "execute_result"
    }
   ],
   "source": [
    "pfe_df.head()"
   ]
  },
  {
   "cell_type": "code",
   "execution_count": 130,
   "id": "retired-federal",
   "metadata": {},
   "outputs": [
    {
     "data": {
      "text/plain": [
       "(1996, 81)"
      ]
     },
     "execution_count": 130,
     "metadata": {},
     "output_type": "execute_result"
    }
   ],
   "source": [
    "pfe_df.shape"
   ]
  },
  {
   "cell_type": "markdown",
   "id": "about-honey",
   "metadata": {},
   "source": [
    "# Export Final DataFrame"
   ]
  },
  {
   "cell_type": "code",
   "execution_count": 131,
   "id": "quality-business",
   "metadata": {},
   "outputs": [],
   "source": [
    "# pfe_df.to_csv('./data/d-no-ns.csv', index=False)\n",
    "# pfe = post feature engineering\n",
    "# ns = not scaled"
   ]
  },
  {
   "cell_type": "code",
   "execution_count": 132,
   "id": "traditional-diagram",
   "metadata": {},
   "outputs": [
    {
     "data": {
      "text/plain": [
       "'We dropped 6.77% of the data points in this Section'"
      ]
     },
     "execution_count": 132,
     "metadata": {},
     "output_type": "execute_result"
    }
   ],
   "source": [
    "f'We dropped {(1-(len(pfe_df)/len(df_raw)))*100:.2f}% of the data points in this Section'"
   ]
  },
  {
   "cell_type": "markdown",
   "id": "destroyed-profile",
   "metadata": {},
   "source": [
    "---\n",
    "---\n",
    "---"
   ]
  },
  {
   "cell_type": "markdown",
   "id": "encouraging-orlando",
   "metadata": {},
   "source": [
    "# Random Forrest Regressor No Outliers"
   ]
  },
  {
   "cell_type": "markdown",
   "id": "serious-thought",
   "metadata": {},
   "source": [
    "---"
   ]
  },
  {
   "cell_type": "code",
   "execution_count": 133,
   "id": "portuguese-mathematics",
   "metadata": {},
   "outputs": [],
   "source": [
    "# MODIFY! \n",
    "# use RobustScaler! \n",
    "model_name = 'rf-no'"
   ]
  },
  {
   "cell_type": "markdown",
   "id": "dying-sector",
   "metadata": {},
   "source": [
    "# Import Libraries & Data "
   ]
  },
  {
   "cell_type": "code",
   "execution_count": 134,
   "id": "sublime-collins",
   "metadata": {},
   "outputs": [],
   "source": [
    "import numpy as np\n",
    "import pandas as pd\n",
    "import matplotlib.pyplot as plt\n",
    "import seaborn as sns"
   ]
  },
  {
   "cell_type": "code",
   "execution_count": 135,
   "id": "opposed-blues",
   "metadata": {},
   "outputs": [],
   "source": [
    "df = pfe_df\n",
    "X = df.drop('throughput',axis=1)\n",
    "y = df['throughput']"
   ]
  },
  {
   "cell_type": "markdown",
   "id": "million-healing",
   "metadata": {},
   "source": [
    "---"
   ]
  },
  {
   "cell_type": "markdown",
   "id": "bored-medicine",
   "metadata": {},
   "source": [
    "# Scale Data"
   ]
  },
  {
   "cell_type": "code",
   "execution_count": 136,
   "id": "disturbed-mouse",
   "metadata": {},
   "outputs": [
    {
     "data": {
      "text/plain": [
       "RobustScaler()"
      ]
     },
     "execution_count": 136,
     "metadata": {},
     "output_type": "execute_result"
    }
   ],
   "source": [
    "# Split the data\n",
    "from sklearn.model_selection import train_test_split\n",
    "X_train, X_test, y_train, y_test = train_test_split(X, y, test_size=0.1, random_state=42)\n",
    "\n",
    "# Scale the data\n",
    "from sklearn.preprocessing import RobustScaler\n",
    "scaler = RobustScaler()\n",
    "scaler.fit(X_train)"
   ]
  },
  {
   "cell_type": "code",
   "execution_count": 137,
   "id": "liberal-column",
   "metadata": {},
   "outputs": [],
   "source": [
    "X_train = scaler.transform(X_train)\n",
    "X_test = scaler.transform(X_test)"
   ]
  },
  {
   "cell_type": "markdown",
   "id": "czech-significance",
   "metadata": {},
   "source": [
    "# Determine Hyperparameters"
   ]
  },
  {
   "cell_type": "markdown",
   "id": "white-mileage",
   "metadata": {},
   "source": [
    "## Determine Max Features"
   ]
  },
  {
   "cell_type": "code",
   "execution_count": 138,
   "id": "loose-animal",
   "metadata": {},
   "outputs": [
    {
     "data": {
      "text/plain": [
       "RandomForestRegressor(warm_start=True)"
      ]
     },
     "execution_count": 138,
     "metadata": {},
     "output_type": "execute_result"
    }
   ],
   "source": [
    "# MODIFY!\n",
    "from sklearn.ensemble import RandomForestRegressor\n",
    "\n",
    "model = RandomForestRegressor(warm_start=True)\n",
    "model"
   ]
  },
  {
   "cell_type": "code",
   "execution_count": 139,
   "id": "sought-secretariat",
   "metadata": {},
   "outputs": [],
   "source": [
    "p_grid = {\n",
    "    'max_features':['auto', 'sqrt', 'log2']\n",
    "}"
   ]
  },
  {
   "cell_type": "code",
   "execution_count": 140,
   "id": "regional-overhead",
   "metadata": {},
   "outputs": [],
   "source": [
    "from sklearn.model_selection import GridSearchCV"
   ]
  },
  {
   "cell_type": "code",
   "execution_count": 141,
   "id": "located-survival",
   "metadata": {},
   "outputs": [],
   "source": [
    "grid_model = GridSearchCV(\n",
    "    estimator=model,\n",
    "    param_grid =p_grid, \n",
    "    scoring='neg_mean_squared_error',\n",
    "    cv=10, \n",
    "    verbose=1\n",
    ")"
   ]
  },
  {
   "cell_type": "code",
   "execution_count": 142,
   "id": "dietary-boxing",
   "metadata": {},
   "outputs": [
    {
     "name": "stdout",
     "output_type": "stream",
     "text": [
      "Fitting 10 folds for each of 3 candidates, totalling 30 fits\n"
     ]
    },
    {
     "name": "stderr",
     "output_type": "stream",
     "text": [
      "[Parallel(n_jobs=1)]: Using backend SequentialBackend with 1 concurrent workers.\n",
      "[Parallel(n_jobs=1)]: Done  30 out of  30 | elapsed:   29.8s finished\n"
     ]
    },
    {
     "data": {
      "text/plain": [
       "GridSearchCV(cv=10, estimator=RandomForestRegressor(warm_start=True),\n",
       "             param_grid={'max_features': ['auto', 'sqrt', 'log2']},\n",
       "             scoring='neg_mean_squared_error', verbose=1)"
      ]
     },
     "execution_count": 142,
     "metadata": {},
     "output_type": "execute_result"
    }
   ],
   "source": [
    "grid_model.fit(X_train,y_train)"
   ]
  },
  {
   "cell_type": "code",
   "execution_count": 143,
   "id": "compressed-defeat",
   "metadata": {},
   "outputs": [
    {
     "data": {
      "text/plain": [
       "{'max_features': 'auto'}"
      ]
     },
     "execution_count": 143,
     "metadata": {},
     "output_type": "execute_result"
    }
   ],
   "source": [
    "grid_model.best_params_"
   ]
  },
  {
   "cell_type": "code",
   "execution_count": 144,
   "id": "complimentary-fight",
   "metadata": {},
   "outputs": [],
   "source": [
    "hp = pd.Series(name=f'{model_name} HP', data=grid_model.best_params_)"
   ]
  },
  {
   "cell_type": "code",
   "execution_count": 145,
   "id": "international-bidder",
   "metadata": {},
   "outputs": [
    {
     "data": {
      "text/plain": [
       "max_features    auto\n",
       "Name: rf-no HP, dtype: object"
      ]
     },
     "execution_count": 145,
     "metadata": {},
     "output_type": "execute_result"
    }
   ],
   "source": [
    "hp"
   ]
  },
  {
   "cell_type": "code",
   "execution_count": 146,
   "id": "confirmed-turning",
   "metadata": {},
   "outputs": [],
   "source": [
    "# hp.to_csv(f'./hyperparameters/{model_name}.csv')"
   ]
  },
  {
   "cell_type": "markdown",
   "id": "divided-david",
   "metadata": {},
   "source": [
    "## Determine Number of Estimators"
   ]
  },
  {
   "cell_type": "code",
   "execution_count": 147,
   "id": "catholic-consent",
   "metadata": {},
   "outputs": [],
   "source": [
    "# MODIFY!\n",
    "# import time\n",
    "# \n",
    "# estimators = [5,10,25,50,100,500,1000,2000]\n",
    "# scores_list = []\n",
    "# \n",
    "# from sklearn.ensemble import RandomForestRegressor\n",
    "# \n",
    "# for e in estimators: \n",
    "#     start = time.time()\n",
    "#     print(f'Starting {e} estimators')\n",
    "#     score_model = RandomForestRegressor(\n",
    "#         n_estimators=e,\n",
    "#         max_features=grid_model.best_params_['max_features']\n",
    "#     )\n",
    "#     \n",
    "#     from sklearn.model_selection import cross_validate\n",
    "# \n",
    "#     scores = cross_validate(\n",
    "#         score_model, \n",
    "#         X_train, \n",
    "#         y_train,\n",
    "#         scoring=[\n",
    "#             'neg_mean_absolute_error',\n",
    "#             'neg_mean_squared_error',\n",
    "#             'neg_root_mean_squared_error'\n",
    "#         ],\n",
    "#         cv=10\n",
    "#     )\n",
    "#     \n",
    "#     scores = pd.DataFrame(scores)\n",
    "#     scores\n",
    "#     mean_scores = scores.mean()\n",
    "#     scores_list.append(mean_scores)\n",
    "#     print(f'Done with {e} estimators')\n",
    "#     end = time.time()\n",
    "#     print(f'Elapsed time: {end - start}')\n",
    "#     print('\\n')"
   ]
  },
  {
   "cell_type": "code",
   "execution_count": 148,
   "id": "burning-fitting",
   "metadata": {},
   "outputs": [],
   "source": [
    "# scores_df = pd.DataFrame(scores_list)"
   ]
  },
  {
   "cell_type": "code",
   "execution_count": 149,
   "id": "individual-piano",
   "metadata": {},
   "outputs": [],
   "source": [
    "# scores_df"
   ]
  },
  {
   "cell_type": "code",
   "execution_count": 150,
   "id": "bizarre-interpretation",
   "metadata": {},
   "outputs": [],
   "source": [
    "# scores_df['Est'] = estimators"
   ]
  },
  {
   "cell_type": "code",
   "execution_count": 151,
   "id": "possible-council",
   "metadata": {},
   "outputs": [],
   "source": [
    "# scores_df"
   ]
  },
  {
   "cell_type": "markdown",
   "id": "classified-africa",
   "metadata": {},
   "source": [
    "# Export Scores for Number of Estimators"
   ]
  },
  {
   "cell_type": "code",
   "execution_count": 152,
   "id": "faced-intersection",
   "metadata": {},
   "outputs": [],
   "source": [
    "# mean_scores"
   ]
  },
  {
   "cell_type": "code",
   "execution_count": 153,
   "id": "solved-shoulder",
   "metadata": {},
   "outputs": [],
   "source": [
    "# scores_df = scores_df.rename(columns={\n",
    "#     'fit_time':'Fit Time',\n",
    "#     'score_time':'Score Time',\n",
    "#     'test_neg_mean_absolute_error':'MAE',\n",
    "#     'test_neg_mean_squared_error':'MSE',\n",
    "#     'test_neg_root_mean_squared_error':'RMSE'\n",
    "# })"
   ]
  },
  {
   "cell_type": "code",
   "execution_count": 154,
   "id": "recent-coating",
   "metadata": {},
   "outputs": [],
   "source": [
    "# scores_df"
   ]
  },
  {
   "cell_type": "code",
   "execution_count": 155,
   "id": "increasing-challenge",
   "metadata": {},
   "outputs": [],
   "source": [
    "# scores_df[['MAE','MSE','RMSE']] = scores_df[['MAE','MSE','RMSE']].apply(lambda x : abs(x))"
   ]
  },
  {
   "cell_type": "code",
   "execution_count": 156,
   "id": "worthy-writer",
   "metadata": {},
   "outputs": [],
   "source": [
    "# scores_df\n",
    "# we go for 25 estimations. Note that from 25 -> 50 estimations the error metrics worsen"
   ]
  },
  {
   "cell_type": "code",
   "execution_count": 157,
   "id": "neutral-telling",
   "metadata": {},
   "outputs": [],
   "source": [
    "# scores_df.to_csv(f'./est-scores/{model_name}-est.csv')"
   ]
  },
  {
   "cell_type": "code",
   "execution_count": 158,
   "id": "forty-junction",
   "metadata": {},
   "outputs": [],
   "source": [
    "# pct_scores_df = scores_df.pct_change()"
   ]
  },
  {
   "cell_type": "code",
   "execution_count": 159,
   "id": "sitting-facial",
   "metadata": {},
   "outputs": [],
   "source": [
    "# pct_scores_df"
   ]
  },
  {
   "cell_type": "code",
   "execution_count": 160,
   "id": "suffering-archive",
   "metadata": {},
   "outputs": [],
   "source": [
    "# pct_scores_df.style.background_gradient() \n",
    "# we choose index 4, 100 Estimations <- \n",
    "    # Score time decrease 3->4 & Score time increase dramatically 4->5\n",
    "    # unsubstantial decrease MSE & RMSE 4->5 compared to 3->4"
   ]
  },
  {
   "cell_type": "markdown",
   "id": "configured-patent",
   "metadata": {},
   "source": [
    "# Score Model"
   ]
  },
  {
   "cell_type": "code",
   "execution_count": 161,
   "id": "lonely-healthcare",
   "metadata": {},
   "outputs": [
    {
     "data": {
      "text/plain": [
       "RandomForestRegressor()"
      ]
     },
     "execution_count": 161,
     "metadata": {},
     "output_type": "execute_result"
    }
   ],
   "source": [
    "# MODIFY!\n",
    "# adopt number of estimators from the previous section\n",
    "\n",
    "score_model = RandomForestRegressor(n_estimators=100)\n",
    "score_model"
   ]
  },
  {
   "cell_type": "code",
   "execution_count": 162,
   "id": "editorial-flexibility",
   "metadata": {},
   "outputs": [],
   "source": [
    "from sklearn.model_selection import cross_validate\n",
    "\n",
    "scores = cross_validate(\n",
    "    score_model, \n",
    "    X_train, \n",
    "    y_train,\n",
    "    scoring=[\n",
    "        'neg_mean_absolute_error',\n",
    "        'neg_mean_squared_error',\n",
    "        'neg_root_mean_squared_error'\n",
    "    ],\n",
    "    cv=10\n",
    ")"
   ]
  },
  {
   "cell_type": "code",
   "execution_count": 163,
   "id": "perceived-tragedy",
   "metadata": {},
   "outputs": [],
   "source": [
    "scores = pd.DataFrame(scores)"
   ]
  },
  {
   "cell_type": "code",
   "execution_count": 164,
   "id": "specialized-leeds",
   "metadata": {},
   "outputs": [
    {
     "data": {
      "text/html": [
       "<div>\n",
       "<style scoped>\n",
       "    .dataframe tbody tr th:only-of-type {\n",
       "        vertical-align: middle;\n",
       "    }\n",
       "\n",
       "    .dataframe tbody tr th {\n",
       "        vertical-align: top;\n",
       "    }\n",
       "\n",
       "    .dataframe thead th {\n",
       "        text-align: right;\n",
       "    }\n",
       "</style>\n",
       "<table border=\"1\" class=\"dataframe\">\n",
       "  <thead>\n",
       "    <tr style=\"text-align: right;\">\n",
       "      <th></th>\n",
       "      <th>fit_time</th>\n",
       "      <th>score_time</th>\n",
       "      <th>test_neg_mean_absolute_error</th>\n",
       "      <th>test_neg_mean_squared_error</th>\n",
       "      <th>test_neg_root_mean_squared_error</th>\n",
       "    </tr>\n",
       "  </thead>\n",
       "  <tbody>\n",
       "    <tr>\n",
       "      <th>0</th>\n",
       "      <td>2.274906</td>\n",
       "      <td>0.013246</td>\n",
       "      <td>-3.323086</td>\n",
       "      <td>-21.037346</td>\n",
       "      <td>-4.586649</td>\n",
       "    </tr>\n",
       "    <tr>\n",
       "      <th>1</th>\n",
       "      <td>1.692524</td>\n",
       "      <td>0.012240</td>\n",
       "      <td>-2.597148</td>\n",
       "      <td>-12.050497</td>\n",
       "      <td>-3.471383</td>\n",
       "    </tr>\n",
       "    <tr>\n",
       "      <th>2</th>\n",
       "      <td>1.647926</td>\n",
       "      <td>0.015319</td>\n",
       "      <td>-3.129194</td>\n",
       "      <td>-18.537188</td>\n",
       "      <td>-4.305483</td>\n",
       "    </tr>\n",
       "    <tr>\n",
       "      <th>3</th>\n",
       "      <td>1.678796</td>\n",
       "      <td>0.019659</td>\n",
       "      <td>-3.670087</td>\n",
       "      <td>-23.181383</td>\n",
       "      <td>-4.814705</td>\n",
       "    </tr>\n",
       "    <tr>\n",
       "      <th>4</th>\n",
       "      <td>2.096029</td>\n",
       "      <td>0.013341</td>\n",
       "      <td>-3.192537</td>\n",
       "      <td>-21.177348</td>\n",
       "      <td>-4.601885</td>\n",
       "    </tr>\n",
       "    <tr>\n",
       "      <th>5</th>\n",
       "      <td>1.782307</td>\n",
       "      <td>0.012345</td>\n",
       "      <td>-2.561621</td>\n",
       "      <td>-11.623309</td>\n",
       "      <td>-3.409297</td>\n",
       "    </tr>\n",
       "    <tr>\n",
       "      <th>6</th>\n",
       "      <td>2.023751</td>\n",
       "      <td>0.017292</td>\n",
       "      <td>-3.344837</td>\n",
       "      <td>-24.464379</td>\n",
       "      <td>-4.946148</td>\n",
       "    </tr>\n",
       "    <tr>\n",
       "      <th>7</th>\n",
       "      <td>1.771638</td>\n",
       "      <td>0.012220</td>\n",
       "      <td>-3.256279</td>\n",
       "      <td>-19.988073</td>\n",
       "      <td>-4.470802</td>\n",
       "    </tr>\n",
       "    <tr>\n",
       "      <th>8</th>\n",
       "      <td>1.781611</td>\n",
       "      <td>0.012495</td>\n",
       "      <td>-3.044164</td>\n",
       "      <td>-17.485999</td>\n",
       "      <td>-4.181626</td>\n",
       "    </tr>\n",
       "    <tr>\n",
       "      <th>9</th>\n",
       "      <td>1.807360</td>\n",
       "      <td>0.013080</td>\n",
       "      <td>-2.734785</td>\n",
       "      <td>-14.264058</td>\n",
       "      <td>-3.776779</td>\n",
       "    </tr>\n",
       "  </tbody>\n",
       "</table>\n",
       "</div>"
      ],
      "text/plain": [
       "   fit_time  score_time  test_neg_mean_absolute_error  \\\n",
       "0  2.274906    0.013246                     -3.323086   \n",
       "1  1.692524    0.012240                     -2.597148   \n",
       "2  1.647926    0.015319                     -3.129194   \n",
       "3  1.678796    0.019659                     -3.670087   \n",
       "4  2.096029    0.013341                     -3.192537   \n",
       "5  1.782307    0.012345                     -2.561621   \n",
       "6  2.023751    0.017292                     -3.344837   \n",
       "7  1.771638    0.012220                     -3.256279   \n",
       "8  1.781611    0.012495                     -3.044164   \n",
       "9  1.807360    0.013080                     -2.734785   \n",
       "\n",
       "   test_neg_mean_squared_error  test_neg_root_mean_squared_error  \n",
       "0                   -21.037346                         -4.586649  \n",
       "1                   -12.050497                         -3.471383  \n",
       "2                   -18.537188                         -4.305483  \n",
       "3                   -23.181383                         -4.814705  \n",
       "4                   -21.177348                         -4.601885  \n",
       "5                   -11.623309                         -3.409297  \n",
       "6                   -24.464379                         -4.946148  \n",
       "7                   -19.988073                         -4.470802  \n",
       "8                   -17.485999                         -4.181626  \n",
       "9                   -14.264058                         -3.776779  "
      ]
     },
     "execution_count": 164,
     "metadata": {},
     "output_type": "execute_result"
    }
   ],
   "source": [
    "scores"
   ]
  },
  {
   "cell_type": "code",
   "execution_count": 165,
   "id": "congressional-pledge",
   "metadata": {},
   "outputs": [],
   "source": [
    "mean_scores = scores.mean()"
   ]
  },
  {
   "cell_type": "code",
   "execution_count": 166,
   "id": "legislative-swedish",
   "metadata": {},
   "outputs": [
    {
     "data": {
      "text/plain": [
       "fit_time                             1.855685\n",
       "score_time                           0.014124\n",
       "test_neg_mean_absolute_error        -3.085374\n",
       "test_neg_mean_squared_error        -18.380958\n",
       "test_neg_root_mean_squared_error    -4.256476\n",
       "dtype: float64"
      ]
     },
     "execution_count": 166,
     "metadata": {},
     "output_type": "execute_result"
    }
   ],
   "source": [
    "mean_scores"
   ]
  },
  {
   "cell_type": "markdown",
   "id": "hawaiian-puzzle",
   "metadata": {},
   "source": [
    "# Export Model Scores"
   ]
  },
  {
   "cell_type": "code",
   "execution_count": 167,
   "id": "minus-rotation",
   "metadata": {},
   "outputs": [],
   "source": [
    "mean_scores = mean_scores.rename(f'{model_name}')"
   ]
  },
  {
   "cell_type": "code",
   "execution_count": 168,
   "id": "twelve-humor",
   "metadata": {},
   "outputs": [],
   "source": [
    "mean_scores[[2,3,4]] = mean_scores[[2,3,4]].apply(abs)"
   ]
  },
  {
   "cell_type": "code",
   "execution_count": 169,
   "id": "continuous-engineering",
   "metadata": {},
   "outputs": [],
   "source": [
    "# mean_scores"
   ]
  },
  {
   "cell_type": "code",
   "execution_count": 170,
   "id": "worthy-proportion",
   "metadata": {},
   "outputs": [],
   "source": [
    "mean_scores = mean_scores.rename({\n",
    "    'fit_time':'Fit Time',\n",
    "    'score_time':'Score Time',\n",
    "    'test_neg_mean_absolute_error':'MAE',\n",
    "    'test_neg_mean_squared_error':'MSE',\n",
    "    'test_neg_root_mean_squared_error':'RMSE'\n",
    "})"
   ]
  },
  {
   "cell_type": "code",
   "execution_count": 171,
   "id": "civic-composite",
   "metadata": {},
   "outputs": [
    {
     "data": {
      "text/plain": [
       "Fit Time       1.855685\n",
       "Score Time     0.014124\n",
       "MAE            3.085374\n",
       "MSE           18.380958\n",
       "RMSE           4.256476\n",
       "Name: rf-no, dtype: float64"
      ]
     },
     "execution_count": 171,
     "metadata": {},
     "output_type": "execute_result"
    }
   ],
   "source": [
    "mean_scores"
   ]
  },
  {
   "cell_type": "code",
   "execution_count": 172,
   "id": "manufactured-decimal",
   "metadata": {},
   "outputs": [],
   "source": [
    "mean_scores['STD FT'] = scores.fit_time.std()\n",
    "mean_scores['STD ST'] = scores.score_time.std()\n",
    "mean_scores['STD MAE'] = scores.test_neg_mean_absolute_error.std()\n",
    "mean_scores['STD MSE'] = scores.test_neg_mean_squared_error.std()\n",
    "mean_scores['STD RMSE'] = scores.test_neg_root_mean_squared_error.std()"
   ]
  },
  {
   "cell_type": "code",
   "execution_count": 173,
   "id": "toxic-exposure",
   "metadata": {},
   "outputs": [
    {
     "data": {
      "text/plain": [
       "Fit Time       1.855685\n",
       "Score Time     0.014124\n",
       "MAE            3.085374\n",
       "MSE           18.380958\n",
       "RMSE           4.256476\n",
       "STD FT         0.206318\n",
       "STD ST         0.002529\n",
       "STD MAE        0.356779\n",
       "STD MSE        4.484862\n",
       "STD RMSE       0.540958\n",
       "Name: rf-no, dtype: float64"
      ]
     },
     "execution_count": 173,
     "metadata": {},
     "output_type": "execute_result"
    }
   ],
   "source": [
    "mean_scores"
   ]
  },
  {
   "cell_type": "code",
   "execution_count": 174,
   "id": "marked-importance",
   "metadata": {},
   "outputs": [],
   "source": [
    "# mean_scores.to_csv(f'./scores/{model_name}.csv')"
   ]
  },
  {
   "cell_type": "markdown",
   "id": "forward-clone",
   "metadata": {},
   "source": [
    "# Holdout Test"
   ]
  },
  {
   "cell_type": "code",
   "execution_count": 175,
   "id": "dirty-watson",
   "metadata": {},
   "outputs": [
    {
     "data": {
      "text/plain": [
       "RandomForestRegressor()"
      ]
     },
     "execution_count": 175,
     "metadata": {},
     "output_type": "execute_result"
    }
   ],
   "source": [
    "score_model.fit(X_train,y_train)"
   ]
  },
  {
   "cell_type": "code",
   "execution_count": 176,
   "id": "alternative-cisco",
   "metadata": {},
   "outputs": [],
   "source": [
    "y_holdout = score_model.predict(X_test)"
   ]
  },
  {
   "cell_type": "code",
   "execution_count": 177,
   "id": "trying-production",
   "metadata": {},
   "outputs": [
    {
     "data": {
      "text/plain": [
       "<AxesSubplot:ylabel='Count'>"
      ]
     },
     "execution_count": 177,
     "metadata": {},
     "output_type": "execute_result"
    },
    {
     "data": {
      "image/png": "[encoded data removed]",
      "text/plain": [
       "<Figure size 432x288 with 1 Axes>"
      ]
     },
     "metadata": {
      "needs_background": "light"
     },
     "output_type": "display_data"
    }
   ],
   "source": [
    "sns.histplot(y_holdout,bins=40,kde=True)"
   ]
  },
  {
   "cell_type": "code",
   "execution_count": 178,
   "id": "charming-begin",
   "metadata": {},
   "outputs": [
    {
     "data": {
      "text/plain": [
       "<matplotlib.legend.Legend at 0x7fb032a14370>"
      ]
     },
     "execution_count": 178,
     "metadata": {},
     "output_type": "execute_result"
    },
    {
     "data": {
      "image/png": "[encoded data removed]",
      "text/plain": [
       "<Figure size 432x288 with 1 Axes>"
      ]
     },
     "metadata": {
      "needs_background": "light"
     },
     "output_type": "display_data"
    }
   ],
   "source": [
    "fig,ax = plt.subplots()\n",
    "\n",
    "sns.kdeplot(y_test, ax=ax, shade=True, label='Observations')\n",
    "sns.kdeplot(y_holdout, ax=ax,shade=True,label='Predictions')\n",
    "\n",
    "ax.legend(loc='best')"
   ]
  },
  {
   "cell_type": "code",
   "execution_count": 179,
   "id": "sticky-coalition",
   "metadata": {},
   "outputs": [
    {
     "data": {
      "text/plain": [
       "<matplotlib.legend.Legend at 0x7fb032b77100>"
      ]
     },
     "execution_count": 179,
     "metadata": {},
     "output_type": "execute_result"
    },
    {
     "data": {
      "image/png": "[encoded data removed]",
      "text/plain": [
       "<Figure size 432x288 with 1 Axes>"
      ]
     },
     "metadata": {
      "needs_background": "light"
     },
     "output_type": "display_data"
    }
   ],
   "source": [
    "fig,ax = plt.subplots()\n",
    "\n",
    "sns.ecdfplot(y_test, ax=ax, label='Observations')\n",
    "sns.ecdfplot(y_holdout, ax=ax,label='Predictions')\n",
    "plt.axvline(x=y_test.mean(),color='grey',linestyle='--')\n",
    "\n",
    "ax.legend(loc='best')"
   ]
  },
  {
   "cell_type": "code",
   "execution_count": 180,
   "id": "juvenile-chaos",
   "metadata": {},
   "outputs": [],
   "source": [
    "from sklearn.metrics import mean_absolute_error, mean_squared_error\n",
    "\n",
    "mae = mean_absolute_error(y_test,y_holdout)\n",
    "mse = mean_squared_error(y_test,y_holdout)\n",
    "rmse = np.sqrt(mse)"
   ]
  },
  {
   "cell_type": "code",
   "execution_count": 181,
   "id": "personal-island",
   "metadata": {},
   "outputs": [
    {
     "data": {
      "text/html": [
       "<div>\n",
       "<style scoped>\n",
       "    .dataframe tbody tr th:only-of-type {\n",
       "        vertical-align: middle;\n",
       "    }\n",
       "\n",
       "    .dataframe tbody tr th {\n",
       "        vertical-align: top;\n",
       "    }\n",
       "\n",
       "    .dataframe thead th {\n",
       "        text-align: right;\n",
       "    }\n",
       "</style>\n",
       "<table border=\"1\" class=\"dataframe\">\n",
       "  <thead>\n",
       "    <tr style=\"text-align: right;\">\n",
       "      <th></th>\n",
       "      <th>rf-no</th>\n",
       "    </tr>\n",
       "  </thead>\n",
       "  <tbody>\n",
       "    <tr>\n",
       "      <th>MAE</th>\n",
       "      <td>3.221069</td>\n",
       "    </tr>\n",
       "    <tr>\n",
       "      <th>MSE</th>\n",
       "      <td>19.518482</td>\n",
       "    </tr>\n",
       "    <tr>\n",
       "      <th>RMSE</th>\n",
       "      <td>4.417973</td>\n",
       "    </tr>\n",
       "  </tbody>\n",
       "</table>\n",
       "</div>"
      ],
      "text/plain": [
       "          rf-no\n",
       "MAE    3.221069\n",
       "MSE   19.518482\n",
       "RMSE   4.417973"
      ]
     },
     "execution_count": 181,
     "metadata": {},
     "output_type": "execute_result"
    }
   ],
   "source": [
    "err_df = pd.DataFrame(data=[mae, mse, rmse],index=['MAE','MSE','RMSE'],columns=[f'{model_name}'])\n",
    "err_df"
   ]
  },
  {
   "cell_type": "code",
   "execution_count": 182,
   "id": "exposed-export",
   "metadata": {},
   "outputs": [],
   "source": [
    "# err_df.to_csv(f'./holdout-test/{model_name}.csv')\n",
    "# mean_scores.to_csv(f'./opt-model-err/{model_name}-err.csv')"
   ]
  },
  {
   "cell_type": "code",
   "execution_count": 183,
   "id": "closed-lover",
   "metadata": {},
   "outputs": [
    {
     "data": {
      "text/plain": [
       "mean     0.002731\n",
       "std      4.429058\n",
       "min    -11.763551\n",
       "25%     -2.454833\n",
       "50%     -0.610101\n",
       "75%      1.947508\n",
       "max     15.784777\n",
       "Name: throughput, dtype: float64"
      ]
     },
     "execution_count": 183,
     "metadata": {},
     "output_type": "execute_result"
    }
   ],
   "source": [
    "res = y_test - y_holdout\n",
    "res.describe().drop('count')"
   ]
  },
  {
   "cell_type": "code",
   "execution_count": 184,
   "id": "collected-prophet",
   "metadata": {},
   "outputs": [
    {
     "data": {
      "text/plain": [
       "<AxesSubplot:xlabel='throughput', ylabel='Count'>"
      ]
     },
     "execution_count": 184,
     "metadata": {},
     "output_type": "execute_result"
    },
    {
     "data": {
      "image/png": "[encoded data removed]",
      "text/plain": [
       "<Figure size 432x288 with 1 Axes>"
      ]
     },
     "metadata": {
      "needs_background": "light"
     },
     "output_type": "display_data"
    }
   ],
   "source": [
    "sns.histplot(data=res, kde=True,bins=40)"
   ]
  },
  {
   "cell_type": "code",
   "execution_count": 185,
   "id": "coordinate-turtle",
   "metadata": {},
   "outputs": [
    {
     "data": {
      "text/plain": [
       "<matplotlib.lines.Line2D at 0x7fb032dc1f70>"
      ]
     },
     "execution_count": 185,
     "metadata": {},
     "output_type": "execute_result"
    },
    {
     "data": {
      "image/png": "[encoded data removed]",
      "text/plain": [
       "<Figure size 432x288 with 1 Axes>"
      ]
     },
     "metadata": {
      "needs_background": "light"
     },
     "output_type": "display_data"
    }
   ],
   "source": [
    "ax = sns.scatterplot(x=y_test, y=res)\n",
    "ax.set(ylabel='Residuals', xlabel='Test Label')\n",
    "plt.axhline(y=0,color='red',linestyle='--')\n",
    "\n",
    "# there should be no clear pattern / curve in the plot\n",
    "# we see a positive correlation between Test Label and Residuals -> later models should avoid this pattern"
   ]
  },
  {
   "cell_type": "code",
   "execution_count": 186,
   "id": "sporting-medium",
   "metadata": {},
   "outputs": [
    {
     "data": {
      "image/png": "[encoded data removed]",
      "text/plain": [
       "<Figure size 432x288 with 1 Axes>"
      ]
     },
     "metadata": {
      "needs_background": "light"
     },
     "output_type": "display_data"
    }
   ],
   "source": [
    "import scipy as sp\n",
    "\n",
    "fig, ax = plt.subplots()\n",
    "sp.stats.probplot(res,plot=ax);"
   ]
  },
  {
   "cell_type": "markdown",
   "id": "contemporary-explorer",
   "metadata": {},
   "source": [
    "# Export Optimized Model"
   ]
  },
  {
   "cell_type": "code",
   "execution_count": 187,
   "id": "related-destination",
   "metadata": {},
   "outputs": [
    {
     "data": {
      "text/plain": [
       "RobustScaler()"
      ]
     },
     "execution_count": 187,
     "metadata": {},
     "output_type": "execute_result"
    }
   ],
   "source": [
    "from sklearn.preprocessing import RobustScaler\n",
    "scaler = RobustScaler()\n",
    "scaler.fit(X)"
   ]
  },
  {
   "cell_type": "code",
   "execution_count": 188,
   "id": "efficient-patent",
   "metadata": {},
   "outputs": [
    {
     "data": {
      "text/plain": [
       "RandomForestRegressor()"
      ]
     },
     "execution_count": 188,
     "metadata": {},
     "output_type": "execute_result"
    }
   ],
   "source": [
    "# MODIFY! \n",
    "X = scaler.transform(X)\n",
    "\n",
    "op_model = score_model\n",
    "\n",
    "op_model.fit(X,y)"
   ]
  },
  {
   "cell_type": "code",
   "execution_count": 189,
   "id": "particular-fifth",
   "metadata": {},
   "outputs": [],
   "source": [
    "y_pred = op_model.predict(X)"
   ]
  },
  {
   "cell_type": "code",
   "execution_count": 190,
   "id": "special-imagination",
   "metadata": {},
   "outputs": [
    {
     "data": {
      "text/plain": [
       "<AxesSubplot:ylabel='Count'>"
      ]
     },
     "execution_count": 190,
     "metadata": {},
     "output_type": "execute_result"
    },
    {
     "data": {
      "image/png": "[encoded data removed]",
      "text/plain": [
       "<Figure size 432x288 with 1 Axes>"
      ]
     },
     "metadata": {
      "needs_background": "light"
     },
     "output_type": "display_data"
    }
   ],
   "source": [
    "sns.histplot(y_pred,bins=40,kde=True)"
   ]
  },
  {
   "cell_type": "code",
   "execution_count": 191,
   "id": "concrete-sentence",
   "metadata": {},
   "outputs": [
    {
     "data": {
      "text/plain": [
       "<matplotlib.legend.Legend at 0x7fb0331c9f70>"
      ]
     },
     "execution_count": 191,
     "metadata": {},
     "output_type": "execute_result"
    },
    {
     "data": {
      "image/png": "[encoded data removed]",
      "text/plain": [
       "<Figure size 432x288 with 1 Axes>"
      ]
     },
     "metadata": {
      "needs_background": "light"
     },
     "output_type": "display_data"
    }
   ],
   "source": [
    "fig,ax = plt.subplots()\n",
    "\n",
    "sns.kdeplot(y, ax=ax, shade=True, label='Observations')\n",
    "sns.kdeplot(y_pred, ax=ax,shade=True,label='Predictions')\n",
    "\n",
    "ax.legend(loc='best')"
   ]
  },
  {
   "cell_type": "code",
   "execution_count": 192,
   "id": "raised-tactics",
   "metadata": {},
   "outputs": [
    {
     "data": {
      "text/plain": [
       "<matplotlib.legend.Legend at 0x7fb0333771f0>"
      ]
     },
     "execution_count": 192,
     "metadata": {},
     "output_type": "execute_result"
    },
    {
     "data": {
      "image/png": "[encoded data removed]",
      "text/plain": [
       "<Figure size 432x288 with 1 Axes>"
      ]
     },
     "metadata": {
      "needs_background": "light"
     },
     "output_type": "display_data"
    }
   ],
   "source": [
    "fig,ax = plt.subplots()\n",
    "\n",
    "sns.ecdfplot(y, ax=ax, label='Observations')\n",
    "sns.ecdfplot(y_pred, ax=ax,label='Predictions')\n",
    "plt.axvline(x=y.mean(),color='grey',linestyle='--')\n",
    "\n",
    "ax.legend(loc='best')"
   ]
  },
  {
   "cell_type": "code",
   "execution_count": 193,
   "id": "architectural-indian",
   "metadata": {},
   "outputs": [],
   "source": [
    "mae = mean_absolute_error(y,y_pred)\n",
    "mse = mean_squared_error(y,y_pred)\n",
    "rmse = np.sqrt(mse)"
   ]
  },
  {
   "cell_type": "code",
   "execution_count": 194,
   "id": "colonial-specific",
   "metadata": {},
   "outputs": [
    {
     "data": {
      "text/html": [
       "<div>\n",
       "<style scoped>\n",
       "    .dataframe tbody tr th:only-of-type {\n",
       "        vertical-align: middle;\n",
       "    }\n",
       "\n",
       "    .dataframe tbody tr th {\n",
       "        vertical-align: top;\n",
       "    }\n",
       "\n",
       "    .dataframe thead th {\n",
       "        text-align: right;\n",
       "    }\n",
       "</style>\n",
       "<table border=\"1\" class=\"dataframe\">\n",
       "  <thead>\n",
       "    <tr style=\"text-align: right;\">\n",
       "      <th></th>\n",
       "      <th>rf-no</th>\n",
       "    </tr>\n",
       "  </thead>\n",
       "  <tbody>\n",
       "    <tr>\n",
       "      <th>MAE</th>\n",
       "      <td>1.139801</td>\n",
       "    </tr>\n",
       "    <tr>\n",
       "      <th>MSE</th>\n",
       "      <td>2.580384</td>\n",
       "    </tr>\n",
       "    <tr>\n",
       "      <th>RMSE</th>\n",
       "      <td>1.606357</td>\n",
       "    </tr>\n",
       "  </tbody>\n",
       "</table>\n",
       "</div>"
      ],
      "text/plain": [
       "         rf-no\n",
       "MAE   1.139801\n",
       "MSE   2.580384\n",
       "RMSE  1.606357"
      ]
     },
     "execution_count": 194,
     "metadata": {},
     "output_type": "execute_result"
    }
   ],
   "source": [
    "err_df = pd.DataFrame(data=[mae, mse, rmse],index=['MAE','MSE','RMSE'],columns=[f'{model_name}'])\n",
    "err_df"
   ]
  },
  {
   "cell_type": "code",
   "execution_count": 195,
   "id": "spoken-foster",
   "metadata": {},
   "outputs": [],
   "source": [
    "# err_df.to_csv(f'./model-err/{model_name}.csv')\n",
    "# mean_scores.to_csv(f'./opt-model-err/{model_name}-err.csv')"
   ]
  },
  {
   "cell_type": "code",
   "execution_count": 196,
   "id": "naked-holiday",
   "metadata": {},
   "outputs": [
    {
     "data": {
      "text/plain": [
       "['./opt-models/rf-no.joblib']"
      ]
     },
     "execution_count": 196,
     "metadata": {},
     "output_type": "execute_result"
    }
   ],
   "source": [
    "from joblib import dump, load\n",
    "dump(op_model, f'./opt-models/{model_name}.joblib')"
   ]
  },
  {
   "cell_type": "code",
   "execution_count": 197,
   "id": "chubby-helmet",
   "metadata": {},
   "outputs": [
    {
     "data": {
      "text/plain": [
       "mean    -0.039567\n",
       "std      1.606272\n",
       "min     -8.908469\n",
       "25%     -0.887351\n",
       "50%     -0.123621\n",
       "75%      0.724480\n",
       "max     12.493748\n",
       "Name: throughput, dtype: float64"
      ]
     },
     "execution_count": 197,
     "metadata": {},
     "output_type": "execute_result"
    }
   ],
   "source": [
    "res = y - y_pred\n",
    "res.describe().drop('count')"
   ]
  },
  {
   "cell_type": "code",
   "execution_count": 198,
   "id": "unique-basics",
   "metadata": {},
   "outputs": [
    {
     "data": {
      "text/plain": [
       "<AxesSubplot:xlabel='throughput', ylabel='Count'>"
      ]
     },
     "execution_count": 198,
     "metadata": {},
     "output_type": "execute_result"
    },
    {
     "data": {
      "image/png": "[encoded data removed]",
      "text/plain": [
       "<Figure size 432x288 with 1 Axes>"
      ]
     },
     "metadata": {
      "needs_background": "light"
     },
     "output_type": "display_data"
    }
   ],
   "source": [
    "sns.histplot(data=res, kde=True,bins=40)"
   ]
  },
  {
   "cell_type": "code",
   "execution_count": 199,
   "id": "baking-latin",
   "metadata": {},
   "outputs": [
    {
     "data": {
      "text/plain": [
       "<matplotlib.lines.Line2D at 0x7fb0335cc8e0>"
      ]
     },
     "execution_count": 199,
     "metadata": {},
     "output_type": "execute_result"
    },
    {
     "data": {
      "image/png": "[encoded data removed]",
      "text/plain": [
       "<Figure size 432x288 with 1 Axes>"
      ]
     },
     "metadata": {
      "needs_background": "light"
     },
     "output_type": "display_data"
    }
   ],
   "source": [
    "ax = sns.scatterplot(x=y_test, y=res)\n",
    "ax.set(ylabel='Residuals', xlabel='Test Label')\n",
    "plt.axhline(y=0,color='red',linestyle='--')\n",
    "\n",
    "# there should be no clear pattern / curve in the plot\n",
    "# we see a positive correlation between Test Label and Residuals -> later models should avoid this pattern"
   ]
  },
  {
   "cell_type": "code",
   "execution_count": 200,
   "id": "executive-aberdeen",
   "metadata": {},
   "outputs": [
    {
     "data": {
      "image/png": "[encoded data removed]",
      "text/plain": [
       "<Figure size 432x288 with 1 Axes>"
      ]
     },
     "metadata": {
      "needs_background": "light"
     },
     "output_type": "display_data"
    }
   ],
   "source": [
    "import scipy as sp\n",
    "\n",
    "fig, ax = plt.subplots()\n",
    "sp.stats.probplot(res,plot=ax);"
   ]
  },
  {
   "cell_type": "markdown",
   "id": "amino-curtis",
   "metadata": {},
   "source": [
    "DONE!"
   ]
  },
  {
   "cell_type": "code",
   "execution_count": null,
   "id": "therapeutic-forward",
   "metadata": {},
   "outputs": [],
   "source": []
  }
 ],
 "metadata": {
  "kernelspec": {
   "display_name": "Python 3",
   "language": "python",
   "name": "python3"
  },
  "language_info": {
   "codemirror_mode": {
    "name": "ipython",
    "version": 3
   },
   "file_extension": ".py",
   "mimetype": "text/x-python",
   "name": "python",
   "nbconvert_exporter": "python",
   "pygments_lexer": "ipython3",
   "version": "3.8.6"
  }
 },
 "nbformat": 4,
 "nbformat_minor": 5
}
