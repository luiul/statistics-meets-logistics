{
 "cells": [
  {
   "cell_type": "code",
   "execution_count": 1,
   "metadata": {},
   "outputs": [],
   "source": [
    "import numpy as np\n",
    "import pandas as pd\n",
    "import matplotlib.pyplot as plt\n",
    "import seaborn as sns\n",
    "\n",
    "df = pd.read_csv('./data/dl-pfe-ns.csv')\n",
    "\n",
    "X = df.drop('throughput',axis=1)\n",
    "\n",
    "y = df['throughput']"
   ]
  },
  {
   "cell_type": "markdown",
   "metadata": {},
   "source": [
    "# Scaler Selection\n",
    "---\n",
    "In the last Notebook we examined the Features and their distributions. We concluded non of the Features are normally distributed and the Features have a variaty of scales and units.\n",
    "\n",
    "In this section we settle on the Scaler that yields the best performance in a Linear Regression Model, i.e., the Scaler yields the smallest error metric (MAE, MSE, and RMSE). This will be the baseline model. \n",
    "\n",
    "Note: when fitting data to the Scaler, it's important to fit ONLY on the train data set to avoid data leakage. "
   ]
  },
  {
   "cell_type": "code",
   "execution_count": 2,
   "metadata": {},
   "outputs": [],
   "source": [
    "from sklearn.model_selection import train_test_split\n",
    "X_train, X_test, y_train, y_test = train_test_split(X, y, test_size=0.33, random_state=42)\n",
    "\n",
    "from sklearn import preprocessing\n",
    "mm_scaler = preprocessing.MinMaxScaler()\n",
    "mm_scaler.fit(X_train)\n",
    "\n",
    "rb_scaler = preprocessing.RobustScaler()\n",
    "rb_scaler.fit(X_train)\n",
    "\n",
    "st_scaler = preprocessing.StandardScaler()\n",
    "st_scaler.fit(X_train)\n",
    "\n",
    "scalers = [mm_scaler, rb_scaler, st_scaler]"
   ]
  },
  {
   "cell_type": "code",
   "execution_count": 3,
   "metadata": {},
   "outputs": [
    {
     "data": {
      "text/plain": [
       "[MinMaxScaler(), RobustScaler(), StandardScaler()]"
      ]
     },
     "execution_count": 3,
     "metadata": {},
     "output_type": "execute_result"
    }
   ],
   "source": [
    "scalers"
   ]
  },
  {
   "cell_type": "markdown",
   "metadata": {},
   "source": [
    "# Linear Regression"
   ]
  },
  {
   "cell_type": "code",
   "execution_count": 15,
   "metadata": {},
   "outputs": [],
   "source": [
    "model_name = 'LinReg'"
   ]
  },
  {
   "cell_type": "code",
   "execution_count": 16,
   "metadata": {},
   "outputs": [],
   "source": [
    "from sklearn.linear_model import LinearRegression\n",
    "model = LinearRegression()"
   ]
  },
  {
   "cell_type": "code",
   "execution_count": 17,
   "metadata": {},
   "outputs": [
    {
     "name": "stdout",
     "output_type": "stream",
     "text": [
      "MinMaxScaler() MAE-scores: [-3.65497450e+08 -2.60943965e+11 -3.05180186e+00 -3.44210885e+00\n",
      " -1.58601477e+10 -3.61073947e+00 -3.27890522e+00 -3.09733345e+00\n",
      " -2.75373390e+00 -2.93065408e+00]\n",
      "MinMaxScaler() MSE-scores: [-1.38861577e+19 -9.05620316e+24 -1.61670028e+01 -1.92514481e+01\n",
      " -3.32038455e+22 -2.31452021e+01 -1.79974263e+01 -1.58342133e+01\n",
      " -1.29571075e+01 -1.61919161e+01]\n",
      "MinMaxScaler() RMSE-scores: [-3.72641352e+09 -3.00935261e+12 -4.02082116e+00 -4.38764721e+00\n",
      " -1.82219224e+11 -4.81094607e+00 -4.24233736e+00 -3.97922271e+00\n",
      " -3.59959824e+00 -4.02391801e+00]\n",
      "MinMaxScaler() done!\n",
      "\n",
      "\n",
      "RobustScaler() MAE-scores: [-1.20532725e+12 -2.42252522e+11 -3.05576685e+00 -3.43971806e+00\n",
      " -1.10330867e+12 -3.60802825e+00 -3.27890522e+00 -3.09733345e+00\n",
      " -2.75373390e+00 -2.93107324e+00]\n",
      "RobustScaler() MSE-scores: [-1.18871374e+26 -7.80527582e+24 -1.61799580e+01 -1.92409135e+01\n",
      " -1.60682283e+26 -2.31187839e+01 -1.79974263e+01 -1.58342133e+01\n",
      " -1.29571075e+01 -1.62008021e+01]\n",
      "RobustScaler() RMSE-scores: [-1.09028150e+13 -2.79379237e+12 -4.02243185e+00 -4.38644657e+00\n",
      " -1.26760516e+13 -4.80819966e+00 -4.24233736e+00 -3.97922271e+00\n",
      " -3.59959824e+00 -4.02502200e+00]\n",
      "RobustScaler() done!\n",
      "\n",
      "\n",
      "StandardScaler() MAE-scores: [-3.25396771e+12 -8.47647714e+12 -3.05355725e+00 -3.44237650e+00\n",
      " -2.25536114e+13 -3.61073947e+00 -3.35629783e+00 -3.09524331e+00\n",
      " -2.75044842e+00 -2.93262670e+00]\n",
      "StandardScaler() MSE-scores: [-9.93811032e+26 -9.55613841e+27 -1.61815746e+01 -1.92436828e+01\n",
      " -6.71438311e+28 -2.31452021e+01 -1.85041986e+01 -1.57868780e+01\n",
      " -1.29062832e+01 -1.63705392e+01]\n",
      "StandardScaler() RMSE-scores: [-3.15247686e+13 -9.77555032e+13 -4.02263279e+00 -4.38676222e+00\n",
      " -2.59121267e+14 -4.81094607e+00 -4.30165068e+00 -3.97327044e+00\n",
      " -3.59253159e+00 -4.04605229e+00]\n",
      "StandardScaler() done!\n",
      "\n",
      "\n"
     ]
    }
   ],
   "source": [
    "from sklearn.model_selection import cross_val_score\n",
    "\n",
    "scalers_str = []\n",
    "mae_list = []\n",
    "mse_list = []\n",
    "rmse_list = []\n",
    "\n",
    "for scaler in scalers: \n",
    "    # Scale data\n",
    "    X_train_s = scaler.transform(X_train)\n",
    "    X_test_s = scaler.transform(X_test)\n",
    "    \n",
    "    scores = cross_val_score(model,X_train_s,y_train, scoring='neg_mean_absolute_error',cv=10)\n",
    "    mae_list.append(abs(scores.mean()))\n",
    "    print(f\"{scaler} MAE-scores: {scores}\")\n",
    "    \n",
    "    scores = cross_val_score(model,X_train_s,y_train, scoring='neg_mean_squared_error',cv=10)\n",
    "    mse_list.append(abs(scores.mean()))\n",
    "    print(f\"{scaler} MSE-scores: {scores}\")\n",
    "\n",
    "    scores = cross_val_score(model,X_train_s,y_train, scoring='neg_root_mean_squared_error',cv=10)\n",
    "    rmse_list.append(abs(scores.mean()))\n",
    "    print(f\"{scaler} RMSE-scores: {scores}\")\n",
    "    \n",
    "    print(f\"{scaler} done!\")\n",
    "    print('\\n')\n",
    "    \n",
    "    scalers_str.append(str(scaler))"
   ]
  },
  {
   "cell_type": "code",
   "execution_count": 18,
   "metadata": {},
   "outputs": [],
   "source": [
    "def min_index(l):\n",
    "     return scalers_str[min(range(len(l)), key=l.__getitem__)]"
   ]
  },
  {
   "cell_type": "code",
   "execution_count": 19,
   "metadata": {},
   "outputs": [
    {
     "data": {
      "text/plain": [
       "'MinMaxScaler()'"
      ]
     },
     "execution_count": 19,
     "metadata": {},
     "output_type": "execute_result"
    }
   ],
   "source": [
    "min_index(mae_list)"
   ]
  },
  {
   "cell_type": "code",
   "execution_count": 20,
   "metadata": {},
   "outputs": [
    {
     "data": {
      "text/plain": [
       "'MinMaxScaler()'"
      ]
     },
     "execution_count": 20,
     "metadata": {},
     "output_type": "execute_result"
    }
   ],
   "source": [
    "min_index(mse_list)"
   ]
  },
  {
   "cell_type": "code",
   "execution_count": 21,
   "metadata": {},
   "outputs": [
    {
     "data": {
      "text/plain": [
       "'MinMaxScaler()'"
      ]
     },
     "execution_count": 21,
     "metadata": {},
     "output_type": "execute_result"
    }
   ],
   "source": [
    "min_index(rmse_list)"
   ]
  },
  {
   "cell_type": "code",
   "execution_count": 22,
   "metadata": {},
   "outputs": [],
   "source": [
    "err_list = [mae_list, mse_list, rmse_list]"
   ]
  },
  {
   "cell_type": "code",
   "execution_count": 23,
   "metadata": {},
   "outputs": [],
   "source": [
    "err_df = pd.DataFrame(columns=scalers_str, data=err_list, index=['MAE','MSE','RMSE'])"
   ]
  },
  {
   "cell_type": "code",
   "execution_count": 24,
   "metadata": {},
   "outputs": [
    {
     "data": {
      "text/html": [
       "<div>\n",
       "<style scoped>\n",
       "    .dataframe tbody tr th:only-of-type {\n",
       "        vertical-align: middle;\n",
       "    }\n",
       "\n",
       "    .dataframe tbody tr th {\n",
       "        vertical-align: top;\n",
       "    }\n",
       "\n",
       "    .dataframe thead th {\n",
       "        text-align: right;\n",
       "    }\n",
       "</style>\n",
       "<table border=\"1\" class=\"dataframe\">\n",
       "  <thead>\n",
       "    <tr style=\"text-align: right;\">\n",
       "      <th></th>\n",
       "      <th>MinMaxScaler()</th>\n",
       "      <th>RobustScaler()</th>\n",
       "      <th>StandardScaler()</th>\n",
       "    </tr>\n",
       "  </thead>\n",
       "  <tbody>\n",
       "    <tr>\n",
       "      <th>MAE</th>\n",
       "      <td>2.771696e+10</td>\n",
       "      <td>2.550888e+11</td>\n",
       "      <td>3.428406e+12</td>\n",
       "    </tr>\n",
       "    <tr>\n",
       "      <th>MSE</th>\n",
       "      <td>9.089421e+23</td>\n",
       "      <td>2.873589e+25</td>\n",
       "      <td>7.769378e+27</td>\n",
       "    </tr>\n",
       "    <tr>\n",
       "      <th>RMSE</th>\n",
       "      <td>3.195298e+11</td>\n",
       "      <td>2.637266e+12</td>\n",
       "      <td>3.884015e+13</td>\n",
       "    </tr>\n",
       "  </tbody>\n",
       "</table>\n",
       "</div>"
      ],
      "text/plain": [
       "      MinMaxScaler()  RobustScaler()  StandardScaler()\n",
       "MAE     2.771696e+10    2.550888e+11      3.428406e+12\n",
       "MSE     9.089421e+23    2.873589e+25      7.769378e+27\n",
       "RMSE    3.195298e+11    2.637266e+12      3.884015e+13"
      ]
     },
     "execution_count": 24,
     "metadata": {},
     "output_type": "execute_result"
    }
   ],
   "source": [
    "err_df\n",
    "# -> model produces bad predictions! -> skip linear model with no regularization and go straigth to elastic net model"
   ]
  },
  {
   "cell_type": "code",
   "execution_count": 25,
   "metadata": {},
   "outputs": [],
   "source": [
    "err_df.to_csv(f'./scaler-err/{model_name}-scaler-err.csv')"
   ]
  },
  {
   "cell_type": "markdown",
   "metadata": {},
   "source": [
    "# Poisson Regressor"
   ]
  },
  {
   "cell_type": "code",
   "execution_count": 26,
   "metadata": {},
   "outputs": [],
   "source": [
    "model_name = 'PoiReg'"
   ]
  },
  {
   "cell_type": "code",
   "execution_count": 27,
   "metadata": {},
   "outputs": [],
   "source": [
    "from sklearn.linear_model import PoissonRegressor\n",
    "model = PoissonRegressor()"
   ]
  },
  {
   "cell_type": "code",
   "execution_count": 28,
   "metadata": {},
   "outputs": [
    {
     "name": "stdout",
     "output_type": "stream",
     "text": [
      "MinMaxScaler() MAE-scores: [-3.84560388 -4.01276974 -4.01379454 -4.18745159 -4.00997316 -4.61611536\n",
      " -3.61973899 -3.33099149 -3.41478902 -3.76879175]\n",
      "MinMaxScaler() MSE-scores: [-21.93368454 -25.61094209 -26.00600841 -24.38733702 -24.64566261\n",
      " -33.92884122 -19.11828423 -17.14871036 -16.56318104 -24.10805285]\n",
      "MinMaxScaler() RMSE-scores: [-4.68334117 -5.06072545 -5.09960865 -4.93835368 -4.96443981 -5.82484688\n",
      " -4.37244602 -4.14110014 -4.06978882 -4.9099952 ]\n",
      "MinMaxScaler() done!\n",
      "\n",
      "\n",
      "RobustScaler() MAE-scores: [-3.38665692 -3.68304343 -3.37067662 -3.61832448 -3.44083954 -3.8349792\n",
      " -3.19412472 -3.11618621 -2.99565037 -3.17397426]\n",
      "RobustScaler() MSE-scores: [-19.19358842 -22.07879334 -18.93440133 -19.70100947 -19.09366172\n",
      " -25.57308754 -15.79230346 -15.45941076 -14.07128431 -17.62408532]\n",
      "RobustScaler() RMSE-scores: [-4.38104878 -4.69880765 -4.35136775 -4.43858192 -4.36962947 -5.05698404\n",
      " -3.97395313 -3.93184572 -3.75117106 -4.19810497]\n",
      "RobustScaler() done!\n",
      "\n",
      "\n",
      "StandardScaler() MAE-scores: [-3.19886951 -3.51887281 -3.17459373 -3.4727297  -3.20565104 -3.72372317\n",
      " -3.26477398 -3.16643729 -2.80088564 -2.98985759]\n",
      "StandardScaler() MSE-scores: [-16.42169897 -20.03905365 -17.99365518 -18.96396799 -16.93499697\n",
      " -23.62524246 -17.8023744  -15.73056284 -13.87068466 -16.19489525]\n",
      "StandardScaler() RMSE-scores: [-4.05236955 -4.47650016 -4.24189288 -4.35476383 -4.1152153  -4.86058047\n",
      " -4.21928601 -3.96617736 -3.72433681 -4.02428817]\n",
      "StandardScaler() done!\n",
      "\n",
      "\n"
     ]
    }
   ],
   "source": [
    "from sklearn.model_selection import cross_val_score\n",
    "\n",
    "scalers_str = []\n",
    "mae_list = []\n",
    "mse_list = []\n",
    "rmse_list = []\n",
    "\n",
    "for scaler in scalers: \n",
    "    # Scale data\n",
    "    X_train_s = scaler.transform(X_train)\n",
    "    X_test_s = scaler.transform(X_test)\n",
    "    \n",
    "    scores = cross_val_score(model,X_train_s,y_train, scoring='neg_mean_absolute_error',cv=10)\n",
    "    mae_list.append(abs(scores.mean()))\n",
    "    print(f\"{scaler} MAE-scores: {scores}\")\n",
    "    \n",
    "    scores = cross_val_score(model,X_train_s,y_train, scoring='neg_mean_squared_error',cv=10)\n",
    "    mse_list.append(abs(scores.mean()))\n",
    "    print(f\"{scaler} MSE-scores: {scores}\")\n",
    "\n",
    "    scores = cross_val_score(model,X_train_s,y_train, scoring='neg_root_mean_squared_error',cv=10)\n",
    "    rmse_list.append(abs(scores.mean()))\n",
    "    print(f\"{scaler} RMSE-scores: {scores}\")\n",
    "    \n",
    "    print(f\"{scaler} done!\")\n",
    "    print('\\n')\n",
    "    \n",
    "    scalers_str.append(str(scaler))"
   ]
  },
  {
   "cell_type": "code",
   "execution_count": 29,
   "metadata": {},
   "outputs": [
    {
     "data": {
      "text/plain": [
       "'StandardScaler()'"
      ]
     },
     "execution_count": 29,
     "metadata": {},
     "output_type": "execute_result"
    }
   ],
   "source": [
    "min_index(mae_list)"
   ]
  },
  {
   "cell_type": "code",
   "execution_count": 30,
   "metadata": {},
   "outputs": [
    {
     "data": {
      "text/plain": [
       "'StandardScaler()'"
      ]
     },
     "execution_count": 30,
     "metadata": {},
     "output_type": "execute_result"
    }
   ],
   "source": [
    "min_index(mse_list)"
   ]
  },
  {
   "cell_type": "code",
   "execution_count": 31,
   "metadata": {},
   "outputs": [
    {
     "data": {
      "text/plain": [
       "'StandardScaler()'"
      ]
     },
     "execution_count": 31,
     "metadata": {},
     "output_type": "execute_result"
    }
   ],
   "source": [
    "min_index(rmse_list)"
   ]
  },
  {
   "cell_type": "code",
   "execution_count": 32,
   "metadata": {},
   "outputs": [],
   "source": [
    "err_list = [mae_list, mse_list, rmse_list]"
   ]
  },
  {
   "cell_type": "code",
   "execution_count": 33,
   "metadata": {},
   "outputs": [],
   "source": [
    "err_df = pd.DataFrame(columns=scalers_str, data=err_list, index=['MAE','MSE','RMSE'])"
   ]
  },
  {
   "cell_type": "code",
   "execution_count": 34,
   "metadata": {},
   "outputs": [
    {
     "data": {
      "text/html": [
       "<div>\n",
       "<style scoped>\n",
       "    .dataframe tbody tr th:only-of-type {\n",
       "        vertical-align: middle;\n",
       "    }\n",
       "\n",
       "    .dataframe tbody tr th {\n",
       "        vertical-align: top;\n",
       "    }\n",
       "\n",
       "    .dataframe thead th {\n",
       "        text-align: right;\n",
       "    }\n",
       "</style>\n",
       "<table border=\"1\" class=\"dataframe\">\n",
       "  <thead>\n",
       "    <tr style=\"text-align: right;\">\n",
       "      <th></th>\n",
       "      <th>MinMaxScaler()</th>\n",
       "      <th>RobustScaler()</th>\n",
       "      <th>StandardScaler()</th>\n",
       "    </tr>\n",
       "  </thead>\n",
       "  <tbody>\n",
       "    <tr>\n",
       "      <th>MAE</th>\n",
       "      <td>3.882002</td>\n",
       "      <td>3.381446</td>\n",
       "      <td>3.251639</td>\n",
       "    </tr>\n",
       "    <tr>\n",
       "      <th>MSE</th>\n",
       "      <td>23.345070</td>\n",
       "      <td>18.752163</td>\n",
       "      <td>17.757713</td>\n",
       "    </tr>\n",
       "    <tr>\n",
       "      <th>RMSE</th>\n",
       "      <td>4.806465</td>\n",
       "      <td>4.315149</td>\n",
       "      <td>4.203541</td>\n",
       "    </tr>\n",
       "  </tbody>\n",
       "</table>\n",
       "</div>"
      ],
      "text/plain": [
       "      MinMaxScaler()  RobustScaler()  StandardScaler()\n",
       "MAE         3.882002        3.381446          3.251639\n",
       "MSE        23.345070       18.752163         17.757713\n",
       "RMSE        4.806465        4.315149          4.203541"
      ]
     },
     "execution_count": 34,
     "metadata": {},
     "output_type": "execute_result"
    }
   ],
   "source": [
    "err_df\n",
    "# -> StandardScaler -> use StandardScaler for Elastic Net also"
   ]
  },
  {
   "cell_type": "code",
   "execution_count": 35,
   "metadata": {},
   "outputs": [],
   "source": [
    "err_df.to_csv(f'./scaler-err/{model_name}-scaler-err.csv')"
   ]
  },
  {
   "cell_type": "markdown",
   "metadata": {},
   "source": [
    "# Support Vector Regressor"
   ]
  },
  {
   "cell_type": "code",
   "execution_count": 36,
   "metadata": {},
   "outputs": [],
   "source": [
    "model_name = 'SVR'"
   ]
  },
  {
   "cell_type": "code",
   "execution_count": 37,
   "metadata": {},
   "outputs": [],
   "source": [
    "from sklearn.svm import SVR\n",
    "model = SVR()"
   ]
  },
  {
   "cell_type": "code",
   "execution_count": 38,
   "metadata": {},
   "outputs": [
    {
     "name": "stdout",
     "output_type": "stream",
     "text": [
      "MinMaxScaler() MAE-scores: [-3.32188843 -3.54272184 -3.39099767 -3.63946868 -3.38944601 -3.97613093\n",
      " -3.16522318 -2.94463405 -2.82163205 -3.1457765 ]\n",
      "MinMaxScaler() MSE-scores: [-17.95923517 -21.29882823 -21.05783998 -20.82521198 -20.26188129\n",
      " -27.64123347 -16.46066654 -14.00568036 -12.70980489 -19.29097449]\n",
      "MinMaxScaler() RMSE-scores: [-4.23783378 -4.61506535 -4.58888221 -4.56346491 -4.50131995 -5.25749308\n",
      " -4.0571747  -3.74241638 -3.56508133 -4.39214919]\n",
      "MinMaxScaler() done!\n",
      "\n",
      "\n",
      "RobustScaler() MAE-scores: [-3.24212753 -3.58705906 -3.30808436 -3.4373774  -3.33540011 -3.71618628\n",
      " -3.10649782 -2.88611925 -2.86233909 -3.10408514]\n",
      "RobustScaler() MSE-scores: [-17.67022413 -22.76551843 -19.70829204 -19.50730761 -20.49546936\n",
      " -25.16456757 -16.67733208 -13.52108646 -13.50684539 -18.98103523]\n",
      "RobustScaler() RMSE-scores: [-4.20359657 -4.7713225  -4.43940222 -4.41670778 -4.52719222 -5.01642976\n",
      " -4.08378894 -3.677103   -3.67516604 -4.35672299]\n",
      "RobustScaler() done!\n",
      "\n",
      "\n",
      "StandardScaler() MAE-scores: [-3.67372941 -3.74390765 -3.76489525 -3.86963708 -3.89200394 -4.48583818\n",
      " -3.53324874 -3.31080948 -3.30570927 -3.59999923]\n",
      "StandardScaler() MSE-scores: [-21.34389795 -23.78802561 -24.40098554 -23.45910079 -26.53013389\n",
      " -34.68453464 -19.94203735 -17.12497285 -17.13484834 -23.29472625]\n",
      "StandardScaler() RMSE-scores: [-4.61994567 -4.87729696 -4.93973537 -4.84345959 -5.1507411  -5.88935774\n",
      " -4.46565083 -4.13823306 -4.13942609 -4.82646105]\n",
      "StandardScaler() done!\n",
      "\n",
      "\n"
     ]
    }
   ],
   "source": [
    "from sklearn.model_selection import cross_val_score\n",
    "\n",
    "scalers_str = []\n",
    "mae_list = []\n",
    "mse_list = []\n",
    "rmse_list = []\n",
    "\n",
    "for scaler in scalers: \n",
    "    # Scale data\n",
    "    X_train_s = scaler.transform(X_train)\n",
    "    X_test_s = scaler.transform(X_test)\n",
    "    \n",
    "    scores = cross_val_score(model,X_train_s,y_train, scoring='neg_mean_absolute_error',cv=10)\n",
    "    mae_list.append(abs(scores.mean()))\n",
    "    print(f\"{scaler} MAE-scores: {scores}\")\n",
    "    \n",
    "    scores = cross_val_score(model,X_train_s,y_train, scoring='neg_mean_squared_error',cv=10)\n",
    "    mse_list.append(abs(scores.mean()))\n",
    "    print(f\"{scaler} MSE-scores: {scores}\")\n",
    "\n",
    "    scores = cross_val_score(model,X_train_s,y_train, scoring='neg_root_mean_squared_error',cv=10)\n",
    "    rmse_list.append(abs(scores.mean()))\n",
    "    print(f\"{scaler} RMSE-scores: {scores}\")\n",
    "    \n",
    "    print(f\"{scaler} done!\")\n",
    "    print('\\n')\n",
    "    \n",
    "    scalers_str.append(str(scaler))"
   ]
  },
  {
   "cell_type": "code",
   "execution_count": 39,
   "metadata": {},
   "outputs": [
    {
     "data": {
      "text/plain": [
       "'RobustScaler()'"
      ]
     },
     "execution_count": 39,
     "metadata": {},
     "output_type": "execute_result"
    }
   ],
   "source": [
    "min_index(mae_list)"
   ]
  },
  {
   "cell_type": "code",
   "execution_count": 40,
   "metadata": {},
   "outputs": [
    {
     "data": {
      "text/plain": [
       "'RobustScaler()'"
      ]
     },
     "execution_count": 40,
     "metadata": {},
     "output_type": "execute_result"
    }
   ],
   "source": [
    "min_index(mse_list)"
   ]
  },
  {
   "cell_type": "code",
   "execution_count": 41,
   "metadata": {},
   "outputs": [
    {
     "data": {
      "text/plain": [
       "'RobustScaler()'"
      ]
     },
     "execution_count": 41,
     "metadata": {},
     "output_type": "execute_result"
    }
   ],
   "source": [
    "min_index(rmse_list)"
   ]
  },
  {
   "cell_type": "code",
   "execution_count": 42,
   "metadata": {},
   "outputs": [],
   "source": [
    "err_list = [mae_list, mse_list, rmse_list]"
   ]
  },
  {
   "cell_type": "code",
   "execution_count": 43,
   "metadata": {},
   "outputs": [],
   "source": [
    "err_df = pd.DataFrame(columns=scalers_str, data=err_list, index=['MAE','MSE','RMSE'])"
   ]
  },
  {
   "cell_type": "code",
   "execution_count": 44,
   "metadata": {},
   "outputs": [
    {
     "data": {
      "text/html": [
       "<div>\n",
       "<style scoped>\n",
       "    .dataframe tbody tr th:only-of-type {\n",
       "        vertical-align: middle;\n",
       "    }\n",
       "\n",
       "    .dataframe tbody tr th {\n",
       "        vertical-align: top;\n",
       "    }\n",
       "\n",
       "    .dataframe thead th {\n",
       "        text-align: right;\n",
       "    }\n",
       "</style>\n",
       "<table border=\"1\" class=\"dataframe\">\n",
       "  <thead>\n",
       "    <tr style=\"text-align: right;\">\n",
       "      <th></th>\n",
       "      <th>MinMaxScaler()</th>\n",
       "      <th>RobustScaler()</th>\n",
       "      <th>StandardScaler()</th>\n",
       "    </tr>\n",
       "  </thead>\n",
       "  <tbody>\n",
       "    <tr>\n",
       "      <th>MAE</th>\n",
       "      <td>3.333792</td>\n",
       "      <td>3.258528</td>\n",
       "      <td>3.717978</td>\n",
       "    </tr>\n",
       "    <tr>\n",
       "      <th>MSE</th>\n",
       "      <td>19.151136</td>\n",
       "      <td>18.799768</td>\n",
       "      <td>23.170326</td>\n",
       "    </tr>\n",
       "    <tr>\n",
       "      <th>RMSE</th>\n",
       "      <td>4.352088</td>\n",
       "      <td>4.316743</td>\n",
       "      <td>4.789031</td>\n",
       "    </tr>\n",
       "  </tbody>\n",
       "</table>\n",
       "</div>"
      ],
      "text/plain": [
       "      MinMaxScaler()  RobustScaler()  StandardScaler()\n",
       "MAE         3.333792        3.258528          3.717978\n",
       "MSE        19.151136       18.799768         23.170326\n",
       "RMSE        4.352088        4.316743          4.789031"
      ]
     },
     "execution_count": 44,
     "metadata": {},
     "output_type": "execute_result"
    }
   ],
   "source": [
    "err_df\n",
    "# -> RobustScaler"
   ]
  },
  {
   "cell_type": "code",
   "execution_count": 45,
   "metadata": {},
   "outputs": [],
   "source": [
    "err_df.to_csv(f'./scaler-err/{model_name}-scaler-err.csv')"
   ]
  },
  {
   "cell_type": "code",
   "execution_count": 46,
   "metadata": {},
   "outputs": [],
   "source": [
    "# def highlight_min(s):\n",
    "#     is_min = s == s.min()\n",
    "#     return ['background-color: grey' if v else '' for v in is_min]"
   ]
  },
  {
   "cell_type": "code",
   "execution_count": 47,
   "metadata": {},
   "outputs": [],
   "source": [
    "# scalers_df.transpose().style.apply(highlight_min)"
   ]
  },
  {
   "cell_type": "markdown",
   "metadata": {},
   "source": [
    "# Random Forest Regressor"
   ]
  },
  {
   "cell_type": "code",
   "execution_count": 4,
   "metadata": {},
   "outputs": [],
   "source": [
    "model_name = 'RF'"
   ]
  },
  {
   "cell_type": "code",
   "execution_count": 5,
   "metadata": {},
   "outputs": [],
   "source": [
    "from sklearn.ensemble import RandomForestRegressor\n",
    "model = RandomForestRegressor()"
   ]
  },
  {
   "cell_type": "code",
   "execution_count": 6,
   "metadata": {},
   "outputs": [
    {
     "name": "stdout",
     "output_type": "stream",
     "text": [
      "MinMaxScaler() MAE-scores: [-3.26094993 -3.35499843 -2.71996252 -3.54012992 -2.99669916 -3.30461545\n",
      " -3.0813636  -2.71217336 -2.84891772 -2.85215081]\n",
      "MinMaxScaler() MSE-scores: [-21.821406   -20.41840459 -14.55634021 -20.36740242 -17.71855485\n",
      " -20.18962942 -15.48415526 -13.94490666 -13.07212101 -14.98059201]\n",
      "MinMaxScaler() RMSE-scores: [-4.69404766 -4.50137529 -3.89755416 -4.40829365 -4.22833988 -4.55994863\n",
      " -3.85191174 -3.77593704 -3.64805727 -3.88776048]\n",
      "MinMaxScaler() done!\n",
      "\n",
      "\n",
      "RobustScaler() MAE-scores: [-3.28001747 -3.33307445 -2.70720681 -3.44921539 -3.01773748 -3.37332662\n",
      " -3.05122132 -2.69913581 -2.81209659 -2.91146218]\n",
      "RobustScaler() MSE-scores: [-21.54865976 -20.25735784 -15.10697264 -19.78060356 -16.84728059\n",
      " -20.07714838 -15.09801252 -13.72622129 -12.39717914 -14.93349809]\n",
      "RobustScaler() RMSE-scores: [-4.49879892 -4.48671113 -3.81040824 -4.45666922 -4.14478568 -4.53154382\n",
      " -3.87684881 -3.68202395 -3.65329525 -3.90262659]\n",
      "RobustScaler() done!\n",
      "\n",
      "\n",
      "StandardScaler() MAE-scores: [-3.33235879 -3.37385354 -2.71930483 -3.4363869  -3.03905806 -3.33592539\n",
      " -3.01576286 -2.65487102 -2.81136629 -2.86107716]\n",
      "StandardScaler() MSE-scores: [-21.22076535 -20.6438456  -15.07251352 -19.70569702 -16.80436108\n",
      " -20.63924646 -15.60504112 -13.52507416 -13.46788203 -15.07136995]\n",
      "StandardScaler() RMSE-scores: [-4.57220276 -4.50468825 -3.87161486 -4.5179888  -4.13116623 -4.52250961\n",
      " -3.88758619 -3.71698723 -3.62421114 -3.86857485]\n",
      "StandardScaler() done!\n",
      "\n",
      "\n"
     ]
    }
   ],
   "source": [
    "from sklearn.model_selection import cross_val_score\n",
    "\n",
    "scalers_str = []\n",
    "mae_list = []\n",
    "mse_list = []\n",
    "rmse_list = []\n",
    "\n",
    "for scaler in scalers: \n",
    "    # Scale data\n",
    "    X_train_s = scaler.transform(X_train)\n",
    "    X_test_s = scaler.transform(X_test)\n",
    "    \n",
    "    scores = cross_val_score(model,X_train_s,y_train, scoring='neg_mean_absolute_error',cv=10)\n",
    "    mae_list.append(abs(scores.mean()))\n",
    "    print(f\"{scaler} MAE-scores: {scores}\")\n",
    "    \n",
    "    scores = cross_val_score(model,X_train_s,y_train, scoring='neg_mean_squared_error',cv=10)\n",
    "    mse_list.append(abs(scores.mean()))\n",
    "    print(f\"{scaler} MSE-scores: {scores}\")\n",
    "\n",
    "    scores = cross_val_score(model,X_train_s,y_train, scoring='neg_root_mean_squared_error',cv=10)\n",
    "    rmse_list.append(abs(scores.mean()))\n",
    "    print(f\"{scaler} RMSE-scores: {scores}\")\n",
    "    \n",
    "    print(f\"{scaler} done!\")\n",
    "    print('\\n')\n",
    "    \n",
    "    scalers_str.append(str(scaler))"
   ]
  },
  {
   "cell_type": "code",
   "execution_count": 7,
   "metadata": {},
   "outputs": [],
   "source": [
    "def min_index(l):\n",
    "     return scalers_str[min(range(len(l)), key=l.__getitem__)]"
   ]
  },
  {
   "cell_type": "code",
   "execution_count": 8,
   "metadata": {},
   "outputs": [
    {
     "data": {
      "text/plain": [
       "'StandardScaler()'"
      ]
     },
     "execution_count": 8,
     "metadata": {},
     "output_type": "execute_result"
    }
   ],
   "source": [
    "min_index(mae_list)"
   ]
  },
  {
   "cell_type": "code",
   "execution_count": 9,
   "metadata": {},
   "outputs": [
    {
     "data": {
      "text/plain": [
       "'RobustScaler()'"
      ]
     },
     "execution_count": 9,
     "metadata": {},
     "output_type": "execute_result"
    }
   ],
   "source": [
    "min_index(mse_list)"
   ]
  },
  {
   "cell_type": "code",
   "execution_count": 10,
   "metadata": {},
   "outputs": [
    {
     "data": {
      "text/plain": [
       "'RobustScaler()'"
      ]
     },
     "execution_count": 10,
     "metadata": {},
     "output_type": "execute_result"
    }
   ],
   "source": [
    "min_index(rmse_list)"
   ]
  },
  {
   "cell_type": "code",
   "execution_count": 11,
   "metadata": {},
   "outputs": [],
   "source": [
    "err_list = [mae_list, mse_list, rmse_list]"
   ]
  },
  {
   "cell_type": "code",
   "execution_count": 12,
   "metadata": {},
   "outputs": [],
   "source": [
    "err_df = pd.DataFrame(columns=scalers_str, data=err_list, index=['MAE','MSE','RMSE'])"
   ]
  },
  {
   "cell_type": "code",
   "execution_count": 13,
   "metadata": {},
   "outputs": [
    {
     "data": {
      "text/html": [
       "<div>\n",
       "<style scoped>\n",
       "    .dataframe tbody tr th:only-of-type {\n",
       "        vertical-align: middle;\n",
       "    }\n",
       "\n",
       "    .dataframe tbody tr th {\n",
       "        vertical-align: top;\n",
       "    }\n",
       "\n",
       "    .dataframe thead th {\n",
       "        text-align: right;\n",
       "    }\n",
       "</style>\n",
       "<table border=\"1\" class=\"dataframe\">\n",
       "  <thead>\n",
       "    <tr style=\"text-align: right;\">\n",
       "      <th></th>\n",
       "      <th>MinMaxScaler()</th>\n",
       "      <th>RobustScaler()</th>\n",
       "      <th>StandardScaler()</th>\n",
       "    </tr>\n",
       "  </thead>\n",
       "  <tbody>\n",
       "    <tr>\n",
       "      <th>MAE</th>\n",
       "      <td>3.067196</td>\n",
       "      <td>3.063449</td>\n",
       "      <td>3.057996</td>\n",
       "    </tr>\n",
       "    <tr>\n",
       "      <th>MSE</th>\n",
       "      <td>17.255351</td>\n",
       "      <td>16.977293</td>\n",
       "      <td>17.175580</td>\n",
       "    </tr>\n",
       "    <tr>\n",
       "      <th>RMSE</th>\n",
       "      <td>4.145323</td>\n",
       "      <td>4.104371</td>\n",
       "      <td>4.121753</td>\n",
       "    </tr>\n",
       "  </tbody>\n",
       "</table>\n",
       "</div>"
      ],
      "text/plain": [
       "      MinMaxScaler()  RobustScaler()  StandardScaler()\n",
       "MAE         3.067196        3.063449          3.057996\n",
       "MSE        17.255351       16.977293         17.175580\n",
       "RMSE        4.145323        4.104371          4.121753"
      ]
     },
     "execution_count": 13,
     "metadata": {},
     "output_type": "execute_result"
    }
   ],
   "source": [
    "err_df\n",
    "# -> RobustScaler (marginal difference)"
   ]
  },
  {
   "cell_type": "code",
   "execution_count": 14,
   "metadata": {},
   "outputs": [],
   "source": [
    "err_df.to_csv(f'./scaler-err/{model_name}-scaler-err.csv')"
   ]
  },
  {
   "cell_type": "markdown",
   "metadata": {},
   "source": [
    "DONE!"
   ]
  },
  {
   "cell_type": "code",
   "execution_count": null,
   "metadata": {},
   "outputs": [],
   "source": []
  }
 ],
 "metadata": {
  "kernelspec": {
   "display_name": "Python 3",
   "language": "python",
   "name": "python3"
  },
  "language_info": {
   "codemirror_mode": {
    "name": "ipython",
    "version": 3
   },
   "file_extension": ".py",
   "mimetype": "text/x-python",
   "name": "python",
   "nbconvert_exporter": "python",
   "pygments_lexer": "ipython3",
   "version": "3.8.6"
  },
  "toc-autonumbering": true
 },
 "nbformat": 4,
 "nbformat_minor": 4
}
