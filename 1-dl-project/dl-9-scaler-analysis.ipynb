{
 "cells": [
  {
   "cell_type": "code",
   "execution_count": 1,
   "id": "expected-ranch",
   "metadata": {},
   "outputs": [],
   "source": [
    "# MODIFY! \n",
    "notebook_name = 'scaler'"
   ]
  },
  {
   "cell_type": "markdown",
   "id": "traditional-original",
   "metadata": {},
   "source": [
    "# Import Libaries & Define Functions"
   ]
  },
  {
   "cell_type": "code",
   "execution_count": 2,
   "id": "smaller-algorithm",
   "metadata": {},
   "outputs": [],
   "source": [
    "import numpy as np\n",
    "import pandas as pd\n",
    "import matplotlib.pyplot as plt\n",
    "import seaborn as sns\n",
    "\n",
    "import glob\n",
    "import re"
   ]
  },
  {
   "cell_type": "code",
   "execution_count": 3,
   "id": "ultimate-inside",
   "metadata": {},
   "outputs": [],
   "source": [
    "sns.set(style='whitegrid')"
   ]
  },
  {
   "cell_type": "code",
   "execution_count": 4,
   "id": "infinite-discrimination",
   "metadata": {},
   "outputs": [],
   "source": [
    "def table_name(filename): \n",
    "    pattern = re.compile(r'\\./[a-zA-Z0-9_.+-]+/([a-zA-Z0-9_.+-]+)\\.csv')\n",
    "    matches = pattern.findall(filename)\n",
    "    \n",
    "    for match in matches:\n",
    "        return(match)"
   ]
  },
  {
   "cell_type": "code",
   "execution_count": 5,
   "id": "olympic-ability",
   "metadata": {},
   "outputs": [],
   "source": [
    "def frame_it(path):\n",
    "    # path = f'./{directory}'\n",
    "    csv_files = glob.glob(path + '/*.csv')\n",
    "    df_list = []\n",
    "    for filename in csv_files:\n",
    "        # print(filename)\n",
    "        df = pd.read_csv(filename, index_col=None, header=0)\n",
    "        df['model-outliers-metric'] = table_name(filename)\n",
    "        df_list.append(df)\n",
    "        \n",
    "    df = pd.concat(df_list, axis=0, ignore_index=False).reset_index(drop=True)\n",
    "    df = df.rename({'Unnamed: 0':'metric'},axis=1)\n",
    "    \n",
    "    df['model-outliers-metric'] = df['model-outliers-metric'].map(str) + '-' + df['metric'].map(str)\n",
    "    df = df.set_index('model-outliers-metric')\n",
    "    # df = df.set_index(['model','metric'])\n",
    "    df = df.drop('metric',axis=1)\n",
    "    return df"
   ]
  },
  {
   "cell_type": "code",
   "execution_count": 6,
   "id": "complete-boost",
   "metadata": {},
   "outputs": [],
   "source": [
    "def show_values_on_bars(axs, h_v=\"v\", space=0.4,pct=False,neg=False):\n",
    "    def _show_on_single_plot(ax):\n",
    "        if h_v == \"v\":\n",
    "            for p in ax.patches:\n",
    "                _x = p.get_x() + p.get_width() / 2\n",
    "                _y = p.get_y() + p.get_height()\n",
    "                if pct == True: \n",
    "                    value = '{:.2%}'.format(p.get_height())\n",
    "                else: \n",
    "                    value = '{:.2f}'.format(p.get_height())\n",
    "                ax.text(_x, _y, value, ha=\"center\") \n",
    "        \n",
    "        elif h_v == \"h\":\n",
    "            for p in ax.patches:\n",
    "                _x = p.get_x() + p.get_width() + float(space)\n",
    "                _y = p.get_y() + p.get_height()\n",
    "                if pct == True: \n",
    "                    value = '{:.2%}'.format(p.get_width())\n",
    "                else: \n",
    "                    value = '{:.2f}'.format(p.get_width())\n",
    "                if neg == True: \n",
    "                    ax.text(_x, _y, value, ha=\"right\")\n",
    "                else:\n",
    "                    ax.text(_x, _y, value, ha=\"left\")\n",
    "\n",
    "    if isinstance(axs, np.ndarray):\n",
    "        for idx, ax in np.ndenumerate(axs):\n",
    "            _show_on_single_plot(ax)\n",
    "    else:\n",
    "        _show_on_single_plot(axs)"
   ]
  },
  {
   "cell_type": "markdown",
   "id": "lucky-photographer",
   "metadata": {},
   "source": [
    "# Analysis"
   ]
  },
  {
   "cell_type": "code",
   "execution_count": 7,
   "id": "modern-variable",
   "metadata": {},
   "outputs": [],
   "source": [
    "# MODIFY!\n",
    "df = frame_it('./scaler-err')"
   ]
  },
  {
   "cell_type": "code",
   "execution_count": 8,
   "id": "arabic-public",
   "metadata": {},
   "outputs": [],
   "source": [
    "df.to_csv(f'./analysis/{notebook_name}.csv')"
   ]
  },
  {
   "cell_type": "markdown",
   "id": "industrial-myrtle",
   "metadata": {},
   "source": [
    "## ERR Values [MBit/s] and [(MBit/s)^2]"
   ]
  },
  {
   "cell_type": "code",
   "execution_count": 9,
   "id": "optional-essex",
   "metadata": {},
   "outputs": [
    {
     "data": {
      "text/html": [
       "<style  type=\"text/css\" >\n",
       "    #T_c24d0d5c_5e77_11eb_93f1_60f81dd06e70 tr:hover {\n",
       "          background-color: ;\n",
       "    }#T_c24d0d5c_5e77_11eb_93f1_60f81dd06e70row0_col2,#T_c24d0d5c_5e77_11eb_93f1_60f81dd06e70row1_col2,#T_c24d0d5c_5e77_11eb_93f1_60f81dd06e70row2_col2,#T_c24d0d5c_5e77_11eb_93f1_60f81dd06e70row3_col2,#T_c24d0d5c_5e77_11eb_93f1_60f81dd06e70row4_col2,#T_c24d0d5c_5e77_11eb_93f1_60f81dd06e70row5_col2,#T_c24d0d5c_5e77_11eb_93f1_60f81dd06e70row6_col0,#T_c24d0d5c_5e77_11eb_93f1_60f81dd06e70row7_col0,#T_c24d0d5c_5e77_11eb_93f1_60f81dd06e70row8_col0,#T_c24d0d5c_5e77_11eb_93f1_60f81dd06e70row9_col1,#T_c24d0d5c_5e77_11eb_93f1_60f81dd06e70row10_col1,#T_c24d0d5c_5e77_11eb_93f1_60f81dd06e70row11_col1,#T_c24d0d5c_5e77_11eb_93f1_60f81dd06e70row12_col2,#T_c24d0d5c_5e77_11eb_93f1_60f81dd06e70row13_col2,#T_c24d0d5c_5e77_11eb_93f1_60f81dd06e70row14_col2,#T_c24d0d5c_5e77_11eb_93f1_60f81dd06e70row15_col2,#T_c24d0d5c_5e77_11eb_93f1_60f81dd06e70row16_col2,#T_c24d0d5c_5e77_11eb_93f1_60f81dd06e70row17_col1,#T_c24d0d5c_5e77_11eb_93f1_60f81dd06e70row18_col1,#T_c24d0d5c_5e77_11eb_93f1_60f81dd06e70row19_col1,#T_c24d0d5c_5e77_11eb_93f1_60f81dd06e70row20_col1,#T_c24d0d5c_5e77_11eb_93f1_60f81dd06e70row21_col1,#T_c24d0d5c_5e77_11eb_93f1_60f81dd06e70row22_col1,#T_c24d0d5c_5e77_11eb_93f1_60f81dd06e70row23_col1{\n",
       "            background-color:  lightgrey;\n",
       "        }</style><table id=\"T_c24d0d5c_5e77_11eb_93f1_60f81dd06e70\" ><thead>    <tr>        <th class=\"blank level0\" ></th>        <th class=\"col_heading level0 col0\" >MinMaxScaler()</th>        <th class=\"col_heading level0 col1\" >RobustScaler()</th>        <th class=\"col_heading level0 col2\" >StandardScaler()</th>    </tr>    <tr>        <th class=\"index_name level0\" >model-outliers-metric</th>        <th class=\"blank\" ></th>        <th class=\"blank\" ></th>        <th class=\"blank\" ></th>    </tr></thead><tbody>\n",
       "                <tr>\n",
       "                        <th id=\"T_c24d0d5c_5e77_11eb_93f1_60f81dd06e70level0_row0\" class=\"row_heading level0 row0\" >poi-wo-MAE</th>\n",
       "                        <td id=\"T_c24d0d5c_5e77_11eb_93f1_60f81dd06e70row0_col0\" class=\"data row0 col0\" >4.03e+00</td>\n",
       "                        <td id=\"T_c24d0d5c_5e77_11eb_93f1_60f81dd06e70row0_col1\" class=\"data row0 col1\" >3.46e+00</td>\n",
       "                        <td id=\"T_c24d0d5c_5e77_11eb_93f1_60f81dd06e70row0_col2\" class=\"data row0 col2\" >3.29e+00</td>\n",
       "            </tr>\n",
       "            <tr>\n",
       "                        <th id=\"T_c24d0d5c_5e77_11eb_93f1_60f81dd06e70level0_row1\" class=\"row_heading level0 row1\" >poi-wo-MSE</th>\n",
       "                        <td id=\"T_c24d0d5c_5e77_11eb_93f1_60f81dd06e70row1_col0\" class=\"data row1 col0\" >2.61e+01</td>\n",
       "                        <td id=\"T_c24d0d5c_5e77_11eb_93f1_60f81dd06e70row1_col1\" class=\"data row1 col1\" >2.02e+01</td>\n",
       "                        <td id=\"T_c24d0d5c_5e77_11eb_93f1_60f81dd06e70row1_col2\" class=\"data row1 col2\" >1.89e+01</td>\n",
       "            </tr>\n",
       "            <tr>\n",
       "                        <th id=\"T_c24d0d5c_5e77_11eb_93f1_60f81dd06e70level0_row2\" class=\"row_heading level0 row2\" >poi-wo-RMSE</th>\n",
       "                        <td id=\"T_c24d0d5c_5e77_11eb_93f1_60f81dd06e70row2_col0\" class=\"data row2 col0\" >5.10e+00</td>\n",
       "                        <td id=\"T_c24d0d5c_5e77_11eb_93f1_60f81dd06e70row2_col1\" class=\"data row2 col1\" >4.49e+00</td>\n",
       "                        <td id=\"T_c24d0d5c_5e77_11eb_93f1_60f81dd06e70row2_col2\" class=\"data row2 col2\" >4.34e+00</td>\n",
       "            </tr>\n",
       "            <tr>\n",
       "                        <th id=\"T_c24d0d5c_5e77_11eb_93f1_60f81dd06e70level0_row3\" class=\"row_heading level0 row3\" >poi-no-MAE</th>\n",
       "                        <td id=\"T_c24d0d5c_5e77_11eb_93f1_60f81dd06e70row3_col0\" class=\"data row3 col0\" >3.87e+00</td>\n",
       "                        <td id=\"T_c24d0d5c_5e77_11eb_93f1_60f81dd06e70row3_col1\" class=\"data row3 col1\" >3.41e+00</td>\n",
       "                        <td id=\"T_c24d0d5c_5e77_11eb_93f1_60f81dd06e70row3_col2\" class=\"data row3 col2\" >3.22e+00</td>\n",
       "            </tr>\n",
       "            <tr>\n",
       "                        <th id=\"T_c24d0d5c_5e77_11eb_93f1_60f81dd06e70level0_row4\" class=\"row_heading level0 row4\" >poi-no-MSE</th>\n",
       "                        <td id=\"T_c24d0d5c_5e77_11eb_93f1_60f81dd06e70row4_col0\" class=\"data row4 col0\" >2.33e+01</td>\n",
       "                        <td id=\"T_c24d0d5c_5e77_11eb_93f1_60f81dd06e70row4_col1\" class=\"data row4 col1\" >1.89e+01</td>\n",
       "                        <td id=\"T_c24d0d5c_5e77_11eb_93f1_60f81dd06e70row4_col2\" class=\"data row4 col2\" >1.72e+01</td>\n",
       "            </tr>\n",
       "            <tr>\n",
       "                        <th id=\"T_c24d0d5c_5e77_11eb_93f1_60f81dd06e70level0_row5\" class=\"row_heading level0 row5\" >poi-no-RMSE</th>\n",
       "                        <td id=\"T_c24d0d5c_5e77_11eb_93f1_60f81dd06e70row5_col0\" class=\"data row5 col0\" >4.82e+00</td>\n",
       "                        <td id=\"T_c24d0d5c_5e77_11eb_93f1_60f81dd06e70row5_col1\" class=\"data row5 col1\" >4.34e+00</td>\n",
       "                        <td id=\"T_c24d0d5c_5e77_11eb_93f1_60f81dd06e70row5_col2\" class=\"data row5 col2\" >4.15e+00</td>\n",
       "            </tr>\n",
       "            <tr>\n",
       "                        <th id=\"T_c24d0d5c_5e77_11eb_93f1_60f81dd06e70level0_row6\" class=\"row_heading level0 row6\" >svr-no-MAE</th>\n",
       "                        <td id=\"T_c24d0d5c_5e77_11eb_93f1_60f81dd06e70row6_col0\" class=\"data row6 col0\" >3.23e+00</td>\n",
       "                        <td id=\"T_c24d0d5c_5e77_11eb_93f1_60f81dd06e70row6_col1\" class=\"data row6 col1\" >3.29e+00</td>\n",
       "                        <td id=\"T_c24d0d5c_5e77_11eb_93f1_60f81dd06e70row6_col2\" class=\"data row6 col2\" >3.55e+00</td>\n",
       "            </tr>\n",
       "            <tr>\n",
       "                        <th id=\"T_c24d0d5c_5e77_11eb_93f1_60f81dd06e70level0_row7\" class=\"row_heading level0 row7\" >svr-no-MSE</th>\n",
       "                        <td id=\"T_c24d0d5c_5e77_11eb_93f1_60f81dd06e70row7_col0\" class=\"data row7 col0\" >1.82e+01</td>\n",
       "                        <td id=\"T_c24d0d5c_5e77_11eb_93f1_60f81dd06e70row7_col1\" class=\"data row7 col1\" >1.88e+01</td>\n",
       "                        <td id=\"T_c24d0d5c_5e77_11eb_93f1_60f81dd06e70row7_col2\" class=\"data row7 col2\" >2.11e+01</td>\n",
       "            </tr>\n",
       "            <tr>\n",
       "                        <th id=\"T_c24d0d5c_5e77_11eb_93f1_60f81dd06e70level0_row8\" class=\"row_heading level0 row8\" >svr-no-RMSE</th>\n",
       "                        <td id=\"T_c24d0d5c_5e77_11eb_93f1_60f81dd06e70row8_col0\" class=\"data row8 col0\" >4.25e+00</td>\n",
       "                        <td id=\"T_c24d0d5c_5e77_11eb_93f1_60f81dd06e70row8_col1\" class=\"data row8 col1\" >4.32e+00</td>\n",
       "                        <td id=\"T_c24d0d5c_5e77_11eb_93f1_60f81dd06e70row8_col2\" class=\"data row8 col2\" >4.59e+00</td>\n",
       "            </tr>\n",
       "            <tr>\n",
       "                        <th id=\"T_c24d0d5c_5e77_11eb_93f1_60f81dd06e70level0_row9\" class=\"row_heading level0 row9\" >lin-wo-MAE</th>\n",
       "                        <td id=\"T_c24d0d5c_5e77_11eb_93f1_60f81dd06e70row9_col0\" class=\"data row9 col0\" >3.98e+10</td>\n",
       "                        <td id=\"T_c24d0d5c_5e77_11eb_93f1_60f81dd06e70row9_col1\" class=\"data row9 col1\" >3.35e+00</td>\n",
       "                        <td id=\"T_c24d0d5c_5e77_11eb_93f1_60f81dd06e70row9_col2\" class=\"data row9 col2\" >1.92e+12</td>\n",
       "            </tr>\n",
       "            <tr>\n",
       "                        <th id=\"T_c24d0d5c_5e77_11eb_93f1_60f81dd06e70level0_row10\" class=\"row_heading level0 row10\" >lin-wo-MSE</th>\n",
       "                        <td id=\"T_c24d0d5c_5e77_11eb_93f1_60f81dd06e70row10_col0\" class=\"data row10 col0\" >6.75e+23</td>\n",
       "                        <td id=\"T_c24d0d5c_5e77_11eb_93f1_60f81dd06e70row10_col1\" class=\"data row10 col1\" >1.99e+01</td>\n",
       "                        <td id=\"T_c24d0d5c_5e77_11eb_93f1_60f81dd06e70row10_col2\" class=\"data row10 col2\" >1.59e+27</td>\n",
       "            </tr>\n",
       "            <tr>\n",
       "                        <th id=\"T_c24d0d5c_5e77_11eb_93f1_60f81dd06e70level0_row11\" class=\"row_heading level0 row11\" >lin-wo-RMSE</th>\n",
       "                        <td id=\"T_c24d0d5c_5e77_11eb_93f1_60f81dd06e70row11_col0\" class=\"data row11 col0\" >5.19e+11</td>\n",
       "                        <td id=\"T_c24d0d5c_5e77_11eb_93f1_60f81dd06e70row11_col1\" class=\"data row11 col1\" >4.46e+00</td>\n",
       "                        <td id=\"T_c24d0d5c_5e77_11eb_93f1_60f81dd06e70row11_col2\" class=\"data row11 col2\" >2.47e+13</td>\n",
       "            </tr>\n",
       "            <tr>\n",
       "                        <th id=\"T_c24d0d5c_5e77_11eb_93f1_60f81dd06e70level0_row12\" class=\"row_heading level0 row12\" >rf-no-MAE</th>\n",
       "                        <td id=\"T_c24d0d5c_5e77_11eb_93f1_60f81dd06e70row12_col0\" class=\"data row12 col0\" >3.03e+00</td>\n",
       "                        <td id=\"T_c24d0d5c_5e77_11eb_93f1_60f81dd06e70row12_col1\" class=\"data row12 col1\" >3.03e+00</td>\n",
       "                        <td id=\"T_c24d0d5c_5e77_11eb_93f1_60f81dd06e70row12_col2\" class=\"data row12 col2\" >3.02e+00</td>\n",
       "            </tr>\n",
       "            <tr>\n",
       "                        <th id=\"T_c24d0d5c_5e77_11eb_93f1_60f81dd06e70level0_row13\" class=\"row_heading level0 row13\" >rf-no-MSE</th>\n",
       "                        <td id=\"T_c24d0d5c_5e77_11eb_93f1_60f81dd06e70row13_col0\" class=\"data row13 col0\" >1.70e+01</td>\n",
       "                        <td id=\"T_c24d0d5c_5e77_11eb_93f1_60f81dd06e70row13_col1\" class=\"data row13 col1\" >1.69e+01</td>\n",
       "                        <td id=\"T_c24d0d5c_5e77_11eb_93f1_60f81dd06e70row13_col2\" class=\"data row13 col2\" >1.68e+01</td>\n",
       "            </tr>\n",
       "            <tr>\n",
       "                        <th id=\"T_c24d0d5c_5e77_11eb_93f1_60f81dd06e70level0_row14\" class=\"row_heading level0 row14\" >rf-no-RMSE</th>\n",
       "                        <td id=\"T_c24d0d5c_5e77_11eb_93f1_60f81dd06e70row14_col0\" class=\"data row14 col0\" >4.09e+00</td>\n",
       "                        <td id=\"T_c24d0d5c_5e77_11eb_93f1_60f81dd06e70row14_col1\" class=\"data row14 col1\" >4.09e+00</td>\n",
       "                        <td id=\"T_c24d0d5c_5e77_11eb_93f1_60f81dd06e70row14_col2\" class=\"data row14 col2\" >4.09e+00</td>\n",
       "            </tr>\n",
       "            <tr>\n",
       "                        <th id=\"T_c24d0d5c_5e77_11eb_93f1_60f81dd06e70level0_row15\" class=\"row_heading level0 row15\" >rf-wo-MAE</th>\n",
       "                        <td id=\"T_c24d0d5c_5e77_11eb_93f1_60f81dd06e70row15_col0\" class=\"data row15 col0\" >3.06e+00</td>\n",
       "                        <td id=\"T_c24d0d5c_5e77_11eb_93f1_60f81dd06e70row15_col1\" class=\"data row15 col1\" >3.05e+00</td>\n",
       "                        <td id=\"T_c24d0d5c_5e77_11eb_93f1_60f81dd06e70row15_col2\" class=\"data row15 col2\" >3.05e+00</td>\n",
       "            </tr>\n",
       "            <tr>\n",
       "                        <th id=\"T_c24d0d5c_5e77_11eb_93f1_60f81dd06e70level0_row16\" class=\"row_heading level0 row16\" >rf-wo-MSE</th>\n",
       "                        <td id=\"T_c24d0d5c_5e77_11eb_93f1_60f81dd06e70row16_col0\" class=\"data row16 col0\" >1.79e+01</td>\n",
       "                        <td id=\"T_c24d0d5c_5e77_11eb_93f1_60f81dd06e70row16_col1\" class=\"data row16 col1\" >1.80e+01</td>\n",
       "                        <td id=\"T_c24d0d5c_5e77_11eb_93f1_60f81dd06e70row16_col2\" class=\"data row16 col2\" >1.78e+01</td>\n",
       "            </tr>\n",
       "            <tr>\n",
       "                        <th id=\"T_c24d0d5c_5e77_11eb_93f1_60f81dd06e70level0_row17\" class=\"row_heading level0 row17\" >rf-wo-RMSE</th>\n",
       "                        <td id=\"T_c24d0d5c_5e77_11eb_93f1_60f81dd06e70row17_col0\" class=\"data row17 col0\" >4.22e+00</td>\n",
       "                        <td id=\"T_c24d0d5c_5e77_11eb_93f1_60f81dd06e70row17_col1\" class=\"data row17 col1\" >4.21e+00</td>\n",
       "                        <td id=\"T_c24d0d5c_5e77_11eb_93f1_60f81dd06e70row17_col2\" class=\"data row17 col2\" >4.23e+00</td>\n",
       "            </tr>\n",
       "            <tr>\n",
       "                        <th id=\"T_c24d0d5c_5e77_11eb_93f1_60f81dd06e70level0_row18\" class=\"row_heading level0 row18\" >svr-wo-MAE</th>\n",
       "                        <td id=\"T_c24d0d5c_5e77_11eb_93f1_60f81dd06e70row18_col0\" class=\"data row18 col0\" >3.44e+00</td>\n",
       "                        <td id=\"T_c24d0d5c_5e77_11eb_93f1_60f81dd06e70row18_col1\" class=\"data row18 col1\" >3.32e+00</td>\n",
       "                        <td id=\"T_c24d0d5c_5e77_11eb_93f1_60f81dd06e70row18_col2\" class=\"data row18 col2\" >3.62e+00</td>\n",
       "            </tr>\n",
       "            <tr>\n",
       "                        <th id=\"T_c24d0d5c_5e77_11eb_93f1_60f81dd06e70level0_row19\" class=\"row_heading level0 row19\" >svr-wo-MSE</th>\n",
       "                        <td id=\"T_c24d0d5c_5e77_11eb_93f1_60f81dd06e70row19_col0\" class=\"data row19 col0\" >2.10e+01</td>\n",
       "                        <td id=\"T_c24d0d5c_5e77_11eb_93f1_60f81dd06e70row19_col1\" class=\"data row19 col1\" >2.03e+01</td>\n",
       "                        <td id=\"T_c24d0d5c_5e77_11eb_93f1_60f81dd06e70row19_col2\" class=\"data row19 col2\" >2.30e+01</td>\n",
       "            </tr>\n",
       "            <tr>\n",
       "                        <th id=\"T_c24d0d5c_5e77_11eb_93f1_60f81dd06e70level0_row20\" class=\"row_heading level0 row20\" >svr-wo-RMSE</th>\n",
       "                        <td id=\"T_c24d0d5c_5e77_11eb_93f1_60f81dd06e70row20_col0\" class=\"data row20 col0\" >4.58e+00</td>\n",
       "                        <td id=\"T_c24d0d5c_5e77_11eb_93f1_60f81dd06e70row20_col1\" class=\"data row20 col1\" >4.50e+00</td>\n",
       "                        <td id=\"T_c24d0d5c_5e77_11eb_93f1_60f81dd06e70row20_col2\" class=\"data row20 col2\" >4.79e+00</td>\n",
       "            </tr>\n",
       "            <tr>\n",
       "                        <th id=\"T_c24d0d5c_5e77_11eb_93f1_60f81dd06e70level0_row21\" class=\"row_heading level0 row21\" >lin-no-MAE</th>\n",
       "                        <td id=\"T_c24d0d5c_5e77_11eb_93f1_60f81dd06e70row21_col0\" class=\"data row21 col0\" >2.38e+09</td>\n",
       "                        <td id=\"T_c24d0d5c_5e77_11eb_93f1_60f81dd06e70row21_col1\" class=\"data row21 col1\" >3.15e+00</td>\n",
       "                        <td id=\"T_c24d0d5c_5e77_11eb_93f1_60f81dd06e70row21_col2\" class=\"data row21 col2\" >6.10e+12</td>\n",
       "            </tr>\n",
       "            <tr>\n",
       "                        <th id=\"T_c24d0d5c_5e77_11eb_93f1_60f81dd06e70level0_row22\" class=\"row_heading level0 row22\" >lin-no-MSE</th>\n",
       "                        <td id=\"T_c24d0d5c_5e77_11eb_93f1_60f81dd06e70row22_col0\" class=\"data row22 col0\" >6.12e+21</td>\n",
       "                        <td id=\"T_c24d0d5c_5e77_11eb_93f1_60f81dd06e70row22_col1\" class=\"data row22 col1\" >1.70e+01</td>\n",
       "                        <td id=\"T_c24d0d5c_5e77_11eb_93f1_60f81dd06e70row22_col2\" class=\"data row22 col2\" >4.01e+28</td>\n",
       "            </tr>\n",
       "            <tr>\n",
       "                        <th id=\"T_c24d0d5c_5e77_11eb_93f1_60f81dd06e70level0_row23\" class=\"row_heading level0 row23\" >lin-no-RMSE</th>\n",
       "                        <td id=\"T_c24d0d5c_5e77_11eb_93f1_60f81dd06e70row23_col0\" class=\"data row23 col0\" >3.18e+10</td>\n",
       "                        <td id=\"T_c24d0d5c_5e77_11eb_93f1_60f81dd06e70row23_col1\" class=\"data row23 col1\" >4.11e+00</td>\n",
       "                        <td id=\"T_c24d0d5c_5e77_11eb_93f1_60f81dd06e70row23_col2\" class=\"data row23 col2\" >6.50e+13</td>\n",
       "            </tr>\n",
       "    </tbody></table>"
      ],
      "text/plain": [
       "<pandas.io.formats.style.Styler at 0x7fc60679e940>"
      ]
     },
     "execution_count": 9,
     "metadata": {},
     "output_type": "execute_result"
    }
   ],
   "source": [
    "df.style.highlight_min(color = 'lightgrey', axis = 1).set_table_styles([{'selector': 'tr:hover','props': [('background-color', '')]}]).format('{:.2e}')"
   ]
  },
  {
   "cell_type": "markdown",
   "id": "romantic-enclosure",
   "metadata": {},
   "source": [
    "## Performance Decline based on Best Performance [%]"
   ]
  },
  {
   "cell_type": "code",
   "execution_count": 10,
   "id": "legal-miniature",
   "metadata": {},
   "outputs": [],
   "source": [
    "df_min = df.apply(lambda value: -(value / df.min(axis=1)-1))"
   ]
  },
  {
   "cell_type": "code",
   "execution_count": 11,
   "id": "unique-protein",
   "metadata": {},
   "outputs": [],
   "source": [
    "df_min.to_csv(f'./analysis/{notebook_name}-min.csv')"
   ]
  },
  {
   "cell_type": "code",
   "execution_count": 12,
   "id": "deadly-vessel",
   "metadata": {},
   "outputs": [
    {
     "data": {
      "text/html": [
       "<style  type=\"text/css\" >\n",
       "    #T_c25aa1f6_5e77_11eb_93f1_60f81dd06e70 tr:hover {\n",
       "          background-color: ;\n",
       "    }#T_c25aa1f6_5e77_11eb_93f1_60f81dd06e70row0_col2,#T_c25aa1f6_5e77_11eb_93f1_60f81dd06e70row1_col2,#T_c25aa1f6_5e77_11eb_93f1_60f81dd06e70row2_col2,#T_c25aa1f6_5e77_11eb_93f1_60f81dd06e70row3_col2,#T_c25aa1f6_5e77_11eb_93f1_60f81dd06e70row4_col2,#T_c25aa1f6_5e77_11eb_93f1_60f81dd06e70row5_col2,#T_c25aa1f6_5e77_11eb_93f1_60f81dd06e70row6_col0,#T_c25aa1f6_5e77_11eb_93f1_60f81dd06e70row7_col0,#T_c25aa1f6_5e77_11eb_93f1_60f81dd06e70row8_col0,#T_c25aa1f6_5e77_11eb_93f1_60f81dd06e70row9_col1,#T_c25aa1f6_5e77_11eb_93f1_60f81dd06e70row10_col1,#T_c25aa1f6_5e77_11eb_93f1_60f81dd06e70row11_col1,#T_c25aa1f6_5e77_11eb_93f1_60f81dd06e70row12_col2,#T_c25aa1f6_5e77_11eb_93f1_60f81dd06e70row13_col2,#T_c25aa1f6_5e77_11eb_93f1_60f81dd06e70row14_col2,#T_c25aa1f6_5e77_11eb_93f1_60f81dd06e70row15_col2,#T_c25aa1f6_5e77_11eb_93f1_60f81dd06e70row16_col2,#T_c25aa1f6_5e77_11eb_93f1_60f81dd06e70row17_col1,#T_c25aa1f6_5e77_11eb_93f1_60f81dd06e70row18_col1,#T_c25aa1f6_5e77_11eb_93f1_60f81dd06e70row19_col1,#T_c25aa1f6_5e77_11eb_93f1_60f81dd06e70row20_col1,#T_c25aa1f6_5e77_11eb_93f1_60f81dd06e70row21_col1,#T_c25aa1f6_5e77_11eb_93f1_60f81dd06e70row22_col1,#T_c25aa1f6_5e77_11eb_93f1_60f81dd06e70row23_col1{\n",
       "            background-color:  lightgrey;\n",
       "        }</style><table id=\"T_c25aa1f6_5e77_11eb_93f1_60f81dd06e70\" ><thead>    <tr>        <th class=\"blank level0\" ></th>        <th class=\"col_heading level0 col0\" >MinMaxScaler()</th>        <th class=\"col_heading level0 col1\" >RobustScaler()</th>        <th class=\"col_heading level0 col2\" >StandardScaler()</th>    </tr>    <tr>        <th class=\"index_name level0\" >model-outliers-metric</th>        <th class=\"blank\" ></th>        <th class=\"blank\" ></th>        <th class=\"blank\" ></th>    </tr></thead><tbody>\n",
       "                <tr>\n",
       "                        <th id=\"T_c25aa1f6_5e77_11eb_93f1_60f81dd06e70level0_row0\" class=\"row_heading level0 row0\" >poi-wo-MAE</th>\n",
       "                        <td id=\"T_c25aa1f6_5e77_11eb_93f1_60f81dd06e70row0_col0\" class=\"data row0 col0\" >-22.44%</td>\n",
       "                        <td id=\"T_c25aa1f6_5e77_11eb_93f1_60f81dd06e70row0_col1\" class=\"data row0 col1\" >-4.91%</td>\n",
       "                        <td id=\"T_c25aa1f6_5e77_11eb_93f1_60f81dd06e70row0_col2\" class=\"data row0 col2\" >-0.00%</td>\n",
       "            </tr>\n",
       "            <tr>\n",
       "                        <th id=\"T_c25aa1f6_5e77_11eb_93f1_60f81dd06e70level0_row1\" class=\"row_heading level0 row1\" >poi-wo-MSE</th>\n",
       "                        <td id=\"T_c25aa1f6_5e77_11eb_93f1_60f81dd06e70row1_col0\" class=\"data row1 col0\" >-38.15%</td>\n",
       "                        <td id=\"T_c25aa1f6_5e77_11eb_93f1_60f81dd06e70row1_col1\" class=\"data row1 col1\" >-6.95%</td>\n",
       "                        <td id=\"T_c25aa1f6_5e77_11eb_93f1_60f81dd06e70row1_col2\" class=\"data row1 col2\" >-0.00%</td>\n",
       "            </tr>\n",
       "            <tr>\n",
       "                        <th id=\"T_c25aa1f6_5e77_11eb_93f1_60f81dd06e70level0_row2\" class=\"row_heading level0 row2\" >poi-wo-RMSE</th>\n",
       "                        <td id=\"T_c25aa1f6_5e77_11eb_93f1_60f81dd06e70row2_col0\" class=\"data row2 col0\" >-17.51%</td>\n",
       "                        <td id=\"T_c25aa1f6_5e77_11eb_93f1_60f81dd06e70row2_col1\" class=\"data row2 col1\" >-3.40%</td>\n",
       "                        <td id=\"T_c25aa1f6_5e77_11eb_93f1_60f81dd06e70row2_col2\" class=\"data row2 col2\" >-0.00%</td>\n",
       "            </tr>\n",
       "            <tr>\n",
       "                        <th id=\"T_c25aa1f6_5e77_11eb_93f1_60f81dd06e70level0_row3\" class=\"row_heading level0 row3\" >poi-no-MAE</th>\n",
       "                        <td id=\"T_c25aa1f6_5e77_11eb_93f1_60f81dd06e70row3_col0\" class=\"data row3 col0\" >-20.04%</td>\n",
       "                        <td id=\"T_c25aa1f6_5e77_11eb_93f1_60f81dd06e70row3_col1\" class=\"data row3 col1\" >-5.69%</td>\n",
       "                        <td id=\"T_c25aa1f6_5e77_11eb_93f1_60f81dd06e70row3_col2\" class=\"data row3 col2\" >-0.00%</td>\n",
       "            </tr>\n",
       "            <tr>\n",
       "                        <th id=\"T_c25aa1f6_5e77_11eb_93f1_60f81dd06e70level0_row4\" class=\"row_heading level0 row4\" >poi-no-MSE</th>\n",
       "                        <td id=\"T_c25aa1f6_5e77_11eb_93f1_60f81dd06e70row4_col0\" class=\"data row4 col0\" >-35.42%</td>\n",
       "                        <td id=\"T_c25aa1f6_5e77_11eb_93f1_60f81dd06e70row4_col1\" class=\"data row4 col1\" >-9.53%</td>\n",
       "                        <td id=\"T_c25aa1f6_5e77_11eb_93f1_60f81dd06e70row4_col2\" class=\"data row4 col2\" >-0.00%</td>\n",
       "            </tr>\n",
       "            <tr>\n",
       "                        <th id=\"T_c25aa1f6_5e77_11eb_93f1_60f81dd06e70level0_row5\" class=\"row_heading level0 row5\" >poi-no-RMSE</th>\n",
       "                        <td id=\"T_c25aa1f6_5e77_11eb_93f1_60f81dd06e70row5_col0\" class=\"data row5 col0\" >-16.22%</td>\n",
       "                        <td id=\"T_c25aa1f6_5e77_11eb_93f1_60f81dd06e70row5_col1\" class=\"data row5 col1\" >-4.57%</td>\n",
       "                        <td id=\"T_c25aa1f6_5e77_11eb_93f1_60f81dd06e70row5_col2\" class=\"data row5 col2\" >-0.00%</td>\n",
       "            </tr>\n",
       "            <tr>\n",
       "                        <th id=\"T_c25aa1f6_5e77_11eb_93f1_60f81dd06e70level0_row6\" class=\"row_heading level0 row6\" >svr-no-MAE</th>\n",
       "                        <td id=\"T_c25aa1f6_5e77_11eb_93f1_60f81dd06e70row6_col0\" class=\"data row6 col0\" >-0.00%</td>\n",
       "                        <td id=\"T_c25aa1f6_5e77_11eb_93f1_60f81dd06e70row6_col1\" class=\"data row6 col1\" >-1.93%</td>\n",
       "                        <td id=\"T_c25aa1f6_5e77_11eb_93f1_60f81dd06e70row6_col2\" class=\"data row6 col2\" >-10.00%</td>\n",
       "            </tr>\n",
       "            <tr>\n",
       "                        <th id=\"T_c25aa1f6_5e77_11eb_93f1_60f81dd06e70level0_row7\" class=\"row_heading level0 row7\" >svr-no-MSE</th>\n",
       "                        <td id=\"T_c25aa1f6_5e77_11eb_93f1_60f81dd06e70row7_col0\" class=\"data row7 col0\" >-0.00%</td>\n",
       "                        <td id=\"T_c25aa1f6_5e77_11eb_93f1_60f81dd06e70row7_col1\" class=\"data row7 col1\" >-3.37%</td>\n",
       "                        <td id=\"T_c25aa1f6_5e77_11eb_93f1_60f81dd06e70row7_col2\" class=\"data row7 col2\" >-16.37%</td>\n",
       "            </tr>\n",
       "            <tr>\n",
       "                        <th id=\"T_c25aa1f6_5e77_11eb_93f1_60f81dd06e70level0_row8\" class=\"row_heading level0 row8\" >svr-no-RMSE</th>\n",
       "                        <td id=\"T_c25aa1f6_5e77_11eb_93f1_60f81dd06e70row8_col0\" class=\"data row8 col0\" >-0.00%</td>\n",
       "                        <td id=\"T_c25aa1f6_5e77_11eb_93f1_60f81dd06e70row8_col1\" class=\"data row8 col1\" >-1.68%</td>\n",
       "                        <td id=\"T_c25aa1f6_5e77_11eb_93f1_60f81dd06e70row8_col2\" class=\"data row8 col2\" >-7.84%</td>\n",
       "            </tr>\n",
       "            <tr>\n",
       "                        <th id=\"T_c25aa1f6_5e77_11eb_93f1_60f81dd06e70level0_row9\" class=\"row_heading level0 row9\" >lin-wo-MAE</th>\n",
       "                        <td id=\"T_c25aa1f6_5e77_11eb_93f1_60f81dd06e70row9_col0\" class=\"data row9 col0\" >-1189088004982.94%</td>\n",
       "                        <td id=\"T_c25aa1f6_5e77_11eb_93f1_60f81dd06e70row9_col1\" class=\"data row9 col1\" >-0.00%</td>\n",
       "                        <td id=\"T_c25aa1f6_5e77_11eb_93f1_60f81dd06e70row9_col2\" class=\"data row9 col2\" >-57321992876566.12%</td>\n",
       "            </tr>\n",
       "            <tr>\n",
       "                        <th id=\"T_c25aa1f6_5e77_11eb_93f1_60f81dd06e70level0_row10\" class=\"row_heading level0 row10\" >lin-wo-MSE</th>\n",
       "                        <td id=\"T_c25aa1f6_5e77_11eb_93f1_60f81dd06e70row10_col0\" class=\"data row10 col0\" >-3384979599801117115940864.00%</td>\n",
       "                        <td id=\"T_c25aa1f6_5e77_11eb_93f1_60f81dd06e70row10_col1\" class=\"data row10 col1\" >-0.00%</td>\n",
       "                        <td id=\"T_c25aa1f6_5e77_11eb_93f1_60f81dd06e70row10_col2\" class=\"data row10 col2\" >-7956908032261892304715907072.00%</td>\n",
       "            </tr>\n",
       "            <tr>\n",
       "                        <th id=\"T_c25aa1f6_5e77_11eb_93f1_60f81dd06e70level0_row11\" class=\"row_heading level0 row11\" >lin-wo-RMSE</th>\n",
       "                        <td id=\"T_c25aa1f6_5e77_11eb_93f1_60f81dd06e70row11_col0\" class=\"data row11 col0\" >-11646241504371.57%</td>\n",
       "                        <td id=\"T_c25aa1f6_5e77_11eb_93f1_60f81dd06e70row11_col1\" class=\"data row11 col1\" >-0.00%</td>\n",
       "                        <td id=\"T_c25aa1f6_5e77_11eb_93f1_60f81dd06e70row11_col2\" class=\"data row11 col2\" >-554556909958516.00%</td>\n",
       "            </tr>\n",
       "            <tr>\n",
       "                        <th id=\"T_c25aa1f6_5e77_11eb_93f1_60f81dd06e70level0_row12\" class=\"row_heading level0 row12\" >rf-no-MAE</th>\n",
       "                        <td id=\"T_c25aa1f6_5e77_11eb_93f1_60f81dd06e70row12_col0\" class=\"data row12 col0\" >-0.27%</td>\n",
       "                        <td id=\"T_c25aa1f6_5e77_11eb_93f1_60f81dd06e70row12_col1\" class=\"data row12 col1\" >-0.19%</td>\n",
       "                        <td id=\"T_c25aa1f6_5e77_11eb_93f1_60f81dd06e70row12_col2\" class=\"data row12 col2\" >-0.00%</td>\n",
       "            </tr>\n",
       "            <tr>\n",
       "                        <th id=\"T_c25aa1f6_5e77_11eb_93f1_60f81dd06e70level0_row13\" class=\"row_heading level0 row13\" >rf-no-MSE</th>\n",
       "                        <td id=\"T_c25aa1f6_5e77_11eb_93f1_60f81dd06e70row13_col0\" class=\"data row13 col0\" >-0.69%</td>\n",
       "                        <td id=\"T_c25aa1f6_5e77_11eb_93f1_60f81dd06e70row13_col1\" class=\"data row13 col1\" >-0.13%</td>\n",
       "                        <td id=\"T_c25aa1f6_5e77_11eb_93f1_60f81dd06e70row13_col2\" class=\"data row13 col2\" >-0.00%</td>\n",
       "            </tr>\n",
       "            <tr>\n",
       "                        <th id=\"T_c25aa1f6_5e77_11eb_93f1_60f81dd06e70level0_row14\" class=\"row_heading level0 row14\" >rf-no-RMSE</th>\n",
       "                        <td id=\"T_c25aa1f6_5e77_11eb_93f1_60f81dd06e70row14_col0\" class=\"data row14 col0\" >-0.14%</td>\n",
       "                        <td id=\"T_c25aa1f6_5e77_11eb_93f1_60f81dd06e70row14_col1\" class=\"data row14 col1\" >-0.11%</td>\n",
       "                        <td id=\"T_c25aa1f6_5e77_11eb_93f1_60f81dd06e70row14_col2\" class=\"data row14 col2\" >-0.00%</td>\n",
       "            </tr>\n",
       "            <tr>\n",
       "                        <th id=\"T_c25aa1f6_5e77_11eb_93f1_60f81dd06e70level0_row15\" class=\"row_heading level0 row15\" >rf-wo-MAE</th>\n",
       "                        <td id=\"T_c25aa1f6_5e77_11eb_93f1_60f81dd06e70row15_col0\" class=\"data row15 col0\" >-0.52%</td>\n",
       "                        <td id=\"T_c25aa1f6_5e77_11eb_93f1_60f81dd06e70row15_col1\" class=\"data row15 col1\" >-0.00%</td>\n",
       "                        <td id=\"T_c25aa1f6_5e77_11eb_93f1_60f81dd06e70row15_col2\" class=\"data row15 col2\" >-0.00%</td>\n",
       "            </tr>\n",
       "            <tr>\n",
       "                        <th id=\"T_c25aa1f6_5e77_11eb_93f1_60f81dd06e70level0_row16\" class=\"row_heading level0 row16\" >rf-wo-MSE</th>\n",
       "                        <td id=\"T_c25aa1f6_5e77_11eb_93f1_60f81dd06e70row16_col0\" class=\"data row16 col0\" >-0.80%</td>\n",
       "                        <td id=\"T_c25aa1f6_5e77_11eb_93f1_60f81dd06e70row16_col1\" class=\"data row16 col1\" >-0.92%</td>\n",
       "                        <td id=\"T_c25aa1f6_5e77_11eb_93f1_60f81dd06e70row16_col2\" class=\"data row16 col2\" >-0.00%</td>\n",
       "            </tr>\n",
       "            <tr>\n",
       "                        <th id=\"T_c25aa1f6_5e77_11eb_93f1_60f81dd06e70level0_row17\" class=\"row_heading level0 row17\" >rf-wo-RMSE</th>\n",
       "                        <td id=\"T_c25aa1f6_5e77_11eb_93f1_60f81dd06e70row17_col0\" class=\"data row17 col0\" >-0.12%</td>\n",
       "                        <td id=\"T_c25aa1f6_5e77_11eb_93f1_60f81dd06e70row17_col1\" class=\"data row17 col1\" >-0.00%</td>\n",
       "                        <td id=\"T_c25aa1f6_5e77_11eb_93f1_60f81dd06e70row17_col2\" class=\"data row17 col2\" >-0.50%</td>\n",
       "            </tr>\n",
       "            <tr>\n",
       "                        <th id=\"T_c25aa1f6_5e77_11eb_93f1_60f81dd06e70level0_row18\" class=\"row_heading level0 row18\" >svr-wo-MAE</th>\n",
       "                        <td id=\"T_c25aa1f6_5e77_11eb_93f1_60f81dd06e70row18_col0\" class=\"data row18 col0\" >-3.52%</td>\n",
       "                        <td id=\"T_c25aa1f6_5e77_11eb_93f1_60f81dd06e70row18_col1\" class=\"data row18 col1\" >-0.00%</td>\n",
       "                        <td id=\"T_c25aa1f6_5e77_11eb_93f1_60f81dd06e70row18_col2\" class=\"data row18 col2\" >-9.08%</td>\n",
       "            </tr>\n",
       "            <tr>\n",
       "                        <th id=\"T_c25aa1f6_5e77_11eb_93f1_60f81dd06e70level0_row19\" class=\"row_heading level0 row19\" >svr-wo-MSE</th>\n",
       "                        <td id=\"T_c25aa1f6_5e77_11eb_93f1_60f81dd06e70row19_col0\" class=\"data row19 col0\" >-3.58%</td>\n",
       "                        <td id=\"T_c25aa1f6_5e77_11eb_93f1_60f81dd06e70row19_col1\" class=\"data row19 col1\" >-0.00%</td>\n",
       "                        <td id=\"T_c25aa1f6_5e77_11eb_93f1_60f81dd06e70row19_col2\" class=\"data row19 col2\" >-13.44%</td>\n",
       "            </tr>\n",
       "            <tr>\n",
       "                        <th id=\"T_c25aa1f6_5e77_11eb_93f1_60f81dd06e70level0_row20\" class=\"row_heading level0 row20\" >svr-wo-RMSE</th>\n",
       "                        <td id=\"T_c25aa1f6_5e77_11eb_93f1_60f81dd06e70row20_col0\" class=\"data row20 col0\" >-1.85%</td>\n",
       "                        <td id=\"T_c25aa1f6_5e77_11eb_93f1_60f81dd06e70row20_col1\" class=\"data row20 col1\" >-0.00%</td>\n",
       "                        <td id=\"T_c25aa1f6_5e77_11eb_93f1_60f81dd06e70row20_col2\" class=\"data row20 col2\" >-6.56%</td>\n",
       "            </tr>\n",
       "            <tr>\n",
       "                        <th id=\"T_c25aa1f6_5e77_11eb_93f1_60f81dd06e70level0_row21\" class=\"row_heading level0 row21\" >lin-no-MAE</th>\n",
       "                        <td id=\"T_c25aa1f6_5e77_11eb_93f1_60f81dd06e70row21_col0\" class=\"data row21 col0\" >-75546910843.80%</td>\n",
       "                        <td id=\"T_c25aa1f6_5e77_11eb_93f1_60f81dd06e70row21_col1\" class=\"data row21 col1\" >-0.00%</td>\n",
       "                        <td id=\"T_c25aa1f6_5e77_11eb_93f1_60f81dd06e70row21_col2\" class=\"data row21 col2\" >-193369661718938.19%</td>\n",
       "            </tr>\n",
       "            <tr>\n",
       "                        <th id=\"T_c25aa1f6_5e77_11eb_93f1_60f81dd06e70level0_row22\" class=\"row_heading level0 row22\" >lin-no-MSE</th>\n",
       "                        <td id=\"T_c25aa1f6_5e77_11eb_93f1_60f81dd06e70row22_col0\" class=\"data row22 col0\" >-36075829253072926801920.00%</td>\n",
       "                        <td id=\"T_c25aa1f6_5e77_11eb_93f1_60f81dd06e70row22_col1\" class=\"data row22 col1\" >-0.00%</td>\n",
       "                        <td id=\"T_c25aa1f6_5e77_11eb_93f1_60f81dd06e70row22_col2\" class=\"data row22 col2\" >-236820163691493270366160158720.00%</td>\n",
       "            </tr>\n",
       "            <tr>\n",
       "                        <th id=\"T_c25aa1f6_5e77_11eb_93f1_60f81dd06e70level0_row23\" class=\"row_heading level0 row23\" >lin-no-RMSE</th>\n",
       "                        <td id=\"T_c25aa1f6_5e77_11eb_93f1_60f81dd06e70row23_col0\" class=\"data row23 col0\" >-773131114615.87%</td>\n",
       "                        <td id=\"T_c25aa1f6_5e77_11eb_93f1_60f81dd06e70row23_col1\" class=\"data row23 col1\" >-0.00%</td>\n",
       "                        <td id=\"T_c25aa1f6_5e77_11eb_93f1_60f81dd06e70row23_col2\" class=\"data row23 col2\" >-1580127344929310.25%</td>\n",
       "            </tr>\n",
       "    </tbody></table>"
      ],
      "text/plain": [
       "<pandas.io.formats.style.Styler at 0x7fc6070ebbb0>"
      ]
     },
     "execution_count": 12,
     "metadata": {},
     "output_type": "execute_result"
    }
   ],
   "source": [
    "df_min.style.highlight_max(color = 'lightgrey', axis = 1).set_table_styles([{'selector': 'tr:hover','props': [('background-color', '')]}]).format('{:.2%}')"
   ]
  },
  {
   "cell_type": "markdown",
   "id": "danish-consensus",
   "metadata": {},
   "source": [
    "## Performance Increment based on Worst Performance [%]"
   ]
  },
  {
   "cell_type": "code",
   "execution_count": 13,
   "id": "popular-start",
   "metadata": {},
   "outputs": [],
   "source": [
    "df_pct_max = df.apply(lambda value: abs((value/df.max(axis=1) -1)))"
   ]
  },
  {
   "cell_type": "code",
   "execution_count": 14,
   "id": "opponent-preliminary",
   "metadata": {},
   "outputs": [],
   "source": [
    "df_pct_max.to_csv(f'./analysis/{notebook_name}-max.csv')"
   ]
  },
  {
   "cell_type": "code",
   "execution_count": 15,
   "id": "broke-lithuania",
   "metadata": {},
   "outputs": [
    {
     "data": {
      "text/html": [
       "<style  type=\"text/css\" >\n",
       "    #T_c26c8bf0_5e77_11eb_93f1_60f81dd06e70 tr:hover {\n",
       "          background-color: ;\n",
       "    }#T_c26c8bf0_5e77_11eb_93f1_60f81dd06e70row0_col2,#T_c26c8bf0_5e77_11eb_93f1_60f81dd06e70row1_col2,#T_c26c8bf0_5e77_11eb_93f1_60f81dd06e70row2_col2,#T_c26c8bf0_5e77_11eb_93f1_60f81dd06e70row3_col2,#T_c26c8bf0_5e77_11eb_93f1_60f81dd06e70row4_col2,#T_c26c8bf0_5e77_11eb_93f1_60f81dd06e70row5_col2,#T_c26c8bf0_5e77_11eb_93f1_60f81dd06e70row6_col0,#T_c26c8bf0_5e77_11eb_93f1_60f81dd06e70row7_col0,#T_c26c8bf0_5e77_11eb_93f1_60f81dd06e70row8_col0,#T_c26c8bf0_5e77_11eb_93f1_60f81dd06e70row9_col1,#T_c26c8bf0_5e77_11eb_93f1_60f81dd06e70row10_col1,#T_c26c8bf0_5e77_11eb_93f1_60f81dd06e70row11_col1,#T_c26c8bf0_5e77_11eb_93f1_60f81dd06e70row12_col2,#T_c26c8bf0_5e77_11eb_93f1_60f81dd06e70row13_col2,#T_c26c8bf0_5e77_11eb_93f1_60f81dd06e70row14_col2,#T_c26c8bf0_5e77_11eb_93f1_60f81dd06e70row15_col2,#T_c26c8bf0_5e77_11eb_93f1_60f81dd06e70row16_col2,#T_c26c8bf0_5e77_11eb_93f1_60f81dd06e70row17_col1,#T_c26c8bf0_5e77_11eb_93f1_60f81dd06e70row18_col1,#T_c26c8bf0_5e77_11eb_93f1_60f81dd06e70row19_col1,#T_c26c8bf0_5e77_11eb_93f1_60f81dd06e70row20_col1,#T_c26c8bf0_5e77_11eb_93f1_60f81dd06e70row21_col1,#T_c26c8bf0_5e77_11eb_93f1_60f81dd06e70row22_col1,#T_c26c8bf0_5e77_11eb_93f1_60f81dd06e70row23_col1{\n",
       "            background-color:  lightgrey;\n",
       "        }</style><table id=\"T_c26c8bf0_5e77_11eb_93f1_60f81dd06e70\" ><thead>    <tr>        <th class=\"blank level0\" ></th>        <th class=\"col_heading level0 col0\" >MinMaxScaler()</th>        <th class=\"col_heading level0 col1\" >RobustScaler()</th>        <th class=\"col_heading level0 col2\" >StandardScaler()</th>    </tr>    <tr>        <th class=\"index_name level0\" >model-outliers-metric</th>        <th class=\"blank\" ></th>        <th class=\"blank\" ></th>        <th class=\"blank\" ></th>    </tr></thead><tbody>\n",
       "                <tr>\n",
       "                        <th id=\"T_c26c8bf0_5e77_11eb_93f1_60f81dd06e70level0_row0\" class=\"row_heading level0 row0\" >poi-wo-MAE</th>\n",
       "                        <td id=\"T_c26c8bf0_5e77_11eb_93f1_60f81dd06e70row0_col0\" class=\"data row0 col0\" >0.00%</td>\n",
       "                        <td id=\"T_c26c8bf0_5e77_11eb_93f1_60f81dd06e70row0_col1\" class=\"data row0 col1\" >14.32%</td>\n",
       "                        <td id=\"T_c26c8bf0_5e77_11eb_93f1_60f81dd06e70row0_col2\" class=\"data row0 col2\" >18.33%</td>\n",
       "            </tr>\n",
       "            <tr>\n",
       "                        <th id=\"T_c26c8bf0_5e77_11eb_93f1_60f81dd06e70level0_row1\" class=\"row_heading level0 row1\" >poi-wo-MSE</th>\n",
       "                        <td id=\"T_c26c8bf0_5e77_11eb_93f1_60f81dd06e70row1_col0\" class=\"data row1 col0\" >0.00%</td>\n",
       "                        <td id=\"T_c26c8bf0_5e77_11eb_93f1_60f81dd06e70row1_col1\" class=\"data row1 col1\" >22.58%</td>\n",
       "                        <td id=\"T_c26c8bf0_5e77_11eb_93f1_60f81dd06e70row1_col2\" class=\"data row1 col2\" >27.61%</td>\n",
       "            </tr>\n",
       "            <tr>\n",
       "                        <th id=\"T_c26c8bf0_5e77_11eb_93f1_60f81dd06e70level0_row2\" class=\"row_heading level0 row2\" >poi-wo-RMSE</th>\n",
       "                        <td id=\"T_c26c8bf0_5e77_11eb_93f1_60f81dd06e70row2_col0\" class=\"data row2 col0\" >0.00%</td>\n",
       "                        <td id=\"T_c26c8bf0_5e77_11eb_93f1_60f81dd06e70row2_col1\" class=\"data row2 col1\" >12.01%</td>\n",
       "                        <td id=\"T_c26c8bf0_5e77_11eb_93f1_60f81dd06e70row2_col2\" class=\"data row2 col2\" >14.90%</td>\n",
       "            </tr>\n",
       "            <tr>\n",
       "                        <th id=\"T_c26c8bf0_5e77_11eb_93f1_60f81dd06e70level0_row3\" class=\"row_heading level0 row3\" >poi-no-MAE</th>\n",
       "                        <td id=\"T_c26c8bf0_5e77_11eb_93f1_60f81dd06e70row3_col0\" class=\"data row3 col0\" >0.00%</td>\n",
       "                        <td id=\"T_c26c8bf0_5e77_11eb_93f1_60f81dd06e70row3_col1\" class=\"data row3 col1\" >11.96%</td>\n",
       "                        <td id=\"T_c26c8bf0_5e77_11eb_93f1_60f81dd06e70row3_col2\" class=\"data row3 col2\" >16.69%</td>\n",
       "            </tr>\n",
       "            <tr>\n",
       "                        <th id=\"T_c26c8bf0_5e77_11eb_93f1_60f81dd06e70level0_row4\" class=\"row_heading level0 row4\" >poi-no-MSE</th>\n",
       "                        <td id=\"T_c26c8bf0_5e77_11eb_93f1_60f81dd06e70row4_col0\" class=\"data row4 col0\" >0.00%</td>\n",
       "                        <td id=\"T_c26c8bf0_5e77_11eb_93f1_60f81dd06e70row4_col1\" class=\"data row4 col1\" >19.12%</td>\n",
       "                        <td id=\"T_c26c8bf0_5e77_11eb_93f1_60f81dd06e70row4_col2\" class=\"data row4 col2\" >26.16%</td>\n",
       "            </tr>\n",
       "            <tr>\n",
       "                        <th id=\"T_c26c8bf0_5e77_11eb_93f1_60f81dd06e70level0_row5\" class=\"row_heading level0 row5\" >poi-no-RMSE</th>\n",
       "                        <td id=\"T_c26c8bf0_5e77_11eb_93f1_60f81dd06e70row5_col0\" class=\"data row5 col0\" >0.00%</td>\n",
       "                        <td id=\"T_c26c8bf0_5e77_11eb_93f1_60f81dd06e70row5_col1\" class=\"data row5 col1\" >10.03%</td>\n",
       "                        <td id=\"T_c26c8bf0_5e77_11eb_93f1_60f81dd06e70row5_col2\" class=\"data row5 col2\" >13.96%</td>\n",
       "            </tr>\n",
       "            <tr>\n",
       "                        <th id=\"T_c26c8bf0_5e77_11eb_93f1_60f81dd06e70level0_row6\" class=\"row_heading level0 row6\" >svr-no-MAE</th>\n",
       "                        <td id=\"T_c26c8bf0_5e77_11eb_93f1_60f81dd06e70row6_col0\" class=\"data row6 col0\" >9.09%</td>\n",
       "                        <td id=\"T_c26c8bf0_5e77_11eb_93f1_60f81dd06e70row6_col1\" class=\"data row6 col1\" >7.33%</td>\n",
       "                        <td id=\"T_c26c8bf0_5e77_11eb_93f1_60f81dd06e70row6_col2\" class=\"data row6 col2\" >0.00%</td>\n",
       "            </tr>\n",
       "            <tr>\n",
       "                        <th id=\"T_c26c8bf0_5e77_11eb_93f1_60f81dd06e70level0_row7\" class=\"row_heading level0 row7\" >svr-no-MSE</th>\n",
       "                        <td id=\"T_c26c8bf0_5e77_11eb_93f1_60f81dd06e70row7_col0\" class=\"data row7 col0\" >14.07%</td>\n",
       "                        <td id=\"T_c26c8bf0_5e77_11eb_93f1_60f81dd06e70row7_col1\" class=\"data row7 col1\" >11.18%</td>\n",
       "                        <td id=\"T_c26c8bf0_5e77_11eb_93f1_60f81dd06e70row7_col2\" class=\"data row7 col2\" >0.00%</td>\n",
       "            </tr>\n",
       "            <tr>\n",
       "                        <th id=\"T_c26c8bf0_5e77_11eb_93f1_60f81dd06e70level0_row8\" class=\"row_heading level0 row8\" >svr-no-RMSE</th>\n",
       "                        <td id=\"T_c26c8bf0_5e77_11eb_93f1_60f81dd06e70row8_col0\" class=\"data row8 col0\" >7.27%</td>\n",
       "                        <td id=\"T_c26c8bf0_5e77_11eb_93f1_60f81dd06e70row8_col1\" class=\"data row8 col1\" >5.71%</td>\n",
       "                        <td id=\"T_c26c8bf0_5e77_11eb_93f1_60f81dd06e70row8_col2\" class=\"data row8 col2\" >0.00%</td>\n",
       "            </tr>\n",
       "            <tr>\n",
       "                        <th id=\"T_c26c8bf0_5e77_11eb_93f1_60f81dd06e70level0_row9\" class=\"row_heading level0 row9\" >lin-wo-MAE</th>\n",
       "                        <td id=\"T_c26c8bf0_5e77_11eb_93f1_60f81dd06e70row9_col0\" class=\"data row9 col0\" >97.93%</td>\n",
       "                        <td id=\"T_c26c8bf0_5e77_11eb_93f1_60f81dd06e70row9_col1\" class=\"data row9 col1\" >100.00%</td>\n",
       "                        <td id=\"T_c26c8bf0_5e77_11eb_93f1_60f81dd06e70row9_col2\" class=\"data row9 col2\" >0.00%</td>\n",
       "            </tr>\n",
       "            <tr>\n",
       "                        <th id=\"T_c26c8bf0_5e77_11eb_93f1_60f81dd06e70level0_row10\" class=\"row_heading level0 row10\" >lin-wo-MSE</th>\n",
       "                        <td id=\"T_c26c8bf0_5e77_11eb_93f1_60f81dd06e70row10_col0\" class=\"data row10 col0\" >99.96%</td>\n",
       "                        <td id=\"T_c26c8bf0_5e77_11eb_93f1_60f81dd06e70row10_col1\" class=\"data row10 col1\" >100.00%</td>\n",
       "                        <td id=\"T_c26c8bf0_5e77_11eb_93f1_60f81dd06e70row10_col2\" class=\"data row10 col2\" >0.00%</td>\n",
       "            </tr>\n",
       "            <tr>\n",
       "                        <th id=\"T_c26c8bf0_5e77_11eb_93f1_60f81dd06e70level0_row11\" class=\"row_heading level0 row11\" >lin-wo-RMSE</th>\n",
       "                        <td id=\"T_c26c8bf0_5e77_11eb_93f1_60f81dd06e70row11_col0\" class=\"data row11 col0\" >97.90%</td>\n",
       "                        <td id=\"T_c26c8bf0_5e77_11eb_93f1_60f81dd06e70row11_col1\" class=\"data row11 col1\" >100.00%</td>\n",
       "                        <td id=\"T_c26c8bf0_5e77_11eb_93f1_60f81dd06e70row11_col2\" class=\"data row11 col2\" >0.00%</td>\n",
       "            </tr>\n",
       "            <tr>\n",
       "                        <th id=\"T_c26c8bf0_5e77_11eb_93f1_60f81dd06e70level0_row12\" class=\"row_heading level0 row12\" >rf-no-MAE</th>\n",
       "                        <td id=\"T_c26c8bf0_5e77_11eb_93f1_60f81dd06e70row12_col0\" class=\"data row12 col0\" >0.00%</td>\n",
       "                        <td id=\"T_c26c8bf0_5e77_11eb_93f1_60f81dd06e70row12_col1\" class=\"data row12 col1\" >0.09%</td>\n",
       "                        <td id=\"T_c26c8bf0_5e77_11eb_93f1_60f81dd06e70row12_col2\" class=\"data row12 col2\" >0.27%</td>\n",
       "            </tr>\n",
       "            <tr>\n",
       "                        <th id=\"T_c26c8bf0_5e77_11eb_93f1_60f81dd06e70level0_row13\" class=\"row_heading level0 row13\" >rf-no-MSE</th>\n",
       "                        <td id=\"T_c26c8bf0_5e77_11eb_93f1_60f81dd06e70row13_col0\" class=\"data row13 col0\" >0.00%</td>\n",
       "                        <td id=\"T_c26c8bf0_5e77_11eb_93f1_60f81dd06e70row13_col1\" class=\"data row13 col1\" >0.56%</td>\n",
       "                        <td id=\"T_c26c8bf0_5e77_11eb_93f1_60f81dd06e70row13_col2\" class=\"data row13 col2\" >0.69%</td>\n",
       "            </tr>\n",
       "            <tr>\n",
       "                        <th id=\"T_c26c8bf0_5e77_11eb_93f1_60f81dd06e70level0_row14\" class=\"row_heading level0 row14\" >rf-no-RMSE</th>\n",
       "                        <td id=\"T_c26c8bf0_5e77_11eb_93f1_60f81dd06e70row14_col0\" class=\"data row14 col0\" >0.00%</td>\n",
       "                        <td id=\"T_c26c8bf0_5e77_11eb_93f1_60f81dd06e70row14_col1\" class=\"data row14 col1\" >0.03%</td>\n",
       "                        <td id=\"T_c26c8bf0_5e77_11eb_93f1_60f81dd06e70row14_col2\" class=\"data row14 col2\" >0.14%</td>\n",
       "            </tr>\n",
       "            <tr>\n",
       "                        <th id=\"T_c26c8bf0_5e77_11eb_93f1_60f81dd06e70level0_row15\" class=\"row_heading level0 row15\" >rf-wo-MAE</th>\n",
       "                        <td id=\"T_c26c8bf0_5e77_11eb_93f1_60f81dd06e70row15_col0\" class=\"data row15 col0\" >0.00%</td>\n",
       "                        <td id=\"T_c26c8bf0_5e77_11eb_93f1_60f81dd06e70row15_col1\" class=\"data row15 col1\" >0.51%</td>\n",
       "                        <td id=\"T_c26c8bf0_5e77_11eb_93f1_60f81dd06e70row15_col2\" class=\"data row15 col2\" >0.51%</td>\n",
       "            </tr>\n",
       "            <tr>\n",
       "                        <th id=\"T_c26c8bf0_5e77_11eb_93f1_60f81dd06e70level0_row16\" class=\"row_heading level0 row16\" >rf-wo-MSE</th>\n",
       "                        <td id=\"T_c26c8bf0_5e77_11eb_93f1_60f81dd06e70row16_col0\" class=\"data row16 col0\" >0.12%</td>\n",
       "                        <td id=\"T_c26c8bf0_5e77_11eb_93f1_60f81dd06e70row16_col1\" class=\"data row16 col1\" >0.00%</td>\n",
       "                        <td id=\"T_c26c8bf0_5e77_11eb_93f1_60f81dd06e70row16_col2\" class=\"data row16 col2\" >0.91%</td>\n",
       "            </tr>\n",
       "            <tr>\n",
       "                        <th id=\"T_c26c8bf0_5e77_11eb_93f1_60f81dd06e70level0_row17\" class=\"row_heading level0 row17\" >rf-wo-RMSE</th>\n",
       "                        <td id=\"T_c26c8bf0_5e77_11eb_93f1_60f81dd06e70row17_col0\" class=\"data row17 col0\" >0.37%</td>\n",
       "                        <td id=\"T_c26c8bf0_5e77_11eb_93f1_60f81dd06e70row17_col1\" class=\"data row17 col1\" >0.49%</td>\n",
       "                        <td id=\"T_c26c8bf0_5e77_11eb_93f1_60f81dd06e70row17_col2\" class=\"data row17 col2\" >0.00%</td>\n",
       "            </tr>\n",
       "            <tr>\n",
       "                        <th id=\"T_c26c8bf0_5e77_11eb_93f1_60f81dd06e70level0_row18\" class=\"row_heading level0 row18\" >svr-wo-MAE</th>\n",
       "                        <td id=\"T_c26c8bf0_5e77_11eb_93f1_60f81dd06e70row18_col0\" class=\"data row18 col0\" >5.10%</td>\n",
       "                        <td id=\"T_c26c8bf0_5e77_11eb_93f1_60f81dd06e70row18_col1\" class=\"data row18 col1\" >8.33%</td>\n",
       "                        <td id=\"T_c26c8bf0_5e77_11eb_93f1_60f81dd06e70row18_col2\" class=\"data row18 col2\" >0.00%</td>\n",
       "            </tr>\n",
       "            <tr>\n",
       "                        <th id=\"T_c26c8bf0_5e77_11eb_93f1_60f81dd06e70level0_row19\" class=\"row_heading level0 row19\" >svr-wo-MSE</th>\n",
       "                        <td id=\"T_c26c8bf0_5e77_11eb_93f1_60f81dd06e70row19_col0\" class=\"data row19 col0\" >8.69%</td>\n",
       "                        <td id=\"T_c26c8bf0_5e77_11eb_93f1_60f81dd06e70row19_col1\" class=\"data row19 col1\" >11.85%</td>\n",
       "                        <td id=\"T_c26c8bf0_5e77_11eb_93f1_60f81dd06e70row19_col2\" class=\"data row19 col2\" >0.00%</td>\n",
       "            </tr>\n",
       "            <tr>\n",
       "                        <th id=\"T_c26c8bf0_5e77_11eb_93f1_60f81dd06e70level0_row20\" class=\"row_heading level0 row20\" >svr-wo-RMSE</th>\n",
       "                        <td id=\"T_c26c8bf0_5e77_11eb_93f1_60f81dd06e70row20_col0\" class=\"data row20 col0\" >4.41%</td>\n",
       "                        <td id=\"T_c26c8bf0_5e77_11eb_93f1_60f81dd06e70row20_col1\" class=\"data row20 col1\" >6.15%</td>\n",
       "                        <td id=\"T_c26c8bf0_5e77_11eb_93f1_60f81dd06e70row20_col2\" class=\"data row20 col2\" >0.00%</td>\n",
       "            </tr>\n",
       "            <tr>\n",
       "                        <th id=\"T_c26c8bf0_5e77_11eb_93f1_60f81dd06e70level0_row21\" class=\"row_heading level0 row21\" >lin-no-MAE</th>\n",
       "                        <td id=\"T_c26c8bf0_5e77_11eb_93f1_60f81dd06e70row21_col0\" class=\"data row21 col0\" >99.96%</td>\n",
       "                        <td id=\"T_c26c8bf0_5e77_11eb_93f1_60f81dd06e70row21_col1\" class=\"data row21 col1\" >100.00%</td>\n",
       "                        <td id=\"T_c26c8bf0_5e77_11eb_93f1_60f81dd06e70row21_col2\" class=\"data row21 col2\" >0.00%</td>\n",
       "            </tr>\n",
       "            <tr>\n",
       "                        <th id=\"T_c26c8bf0_5e77_11eb_93f1_60f81dd06e70level0_row22\" class=\"row_heading level0 row22\" >lin-no-MSE</th>\n",
       "                        <td id=\"T_c26c8bf0_5e77_11eb_93f1_60f81dd06e70row22_col0\" class=\"data row22 col0\" >100.00%</td>\n",
       "                        <td id=\"T_c26c8bf0_5e77_11eb_93f1_60f81dd06e70row22_col1\" class=\"data row22 col1\" >100.00%</td>\n",
       "                        <td id=\"T_c26c8bf0_5e77_11eb_93f1_60f81dd06e70row22_col2\" class=\"data row22 col2\" >0.00%</td>\n",
       "            </tr>\n",
       "            <tr>\n",
       "                        <th id=\"T_c26c8bf0_5e77_11eb_93f1_60f81dd06e70level0_row23\" class=\"row_heading level0 row23\" >lin-no-RMSE</th>\n",
       "                        <td id=\"T_c26c8bf0_5e77_11eb_93f1_60f81dd06e70row23_col0\" class=\"data row23 col0\" >99.95%</td>\n",
       "                        <td id=\"T_c26c8bf0_5e77_11eb_93f1_60f81dd06e70row23_col1\" class=\"data row23 col1\" >100.00%</td>\n",
       "                        <td id=\"T_c26c8bf0_5e77_11eb_93f1_60f81dd06e70row23_col2\" class=\"data row23 col2\" >0.00%</td>\n",
       "            </tr>\n",
       "    </tbody></table>"
      ],
      "text/plain": [
       "<pandas.io.formats.style.Styler at 0x7fc60713db50>"
      ]
     },
     "execution_count": 15,
     "metadata": {},
     "output_type": "execute_result"
    }
   ],
   "source": [
    "df_pct_max.style.highlight_max(color = 'lightgrey', axis = 1).set_table_styles([{'selector': 'tr:hover','props': [('background-color', '')]}]).format('{:.2%}')"
   ]
  },
  {
   "cell_type": "markdown",
   "id": "valid-adjustment",
   "metadata": {},
   "source": [
    "# Visualization (RMSE based)"
   ]
  },
  {
   "cell_type": "code",
   "execution_count": 16,
   "id": "convertible-october",
   "metadata": {},
   "outputs": [],
   "source": [
    "models = ['poi', 'svr', 'lin', 'rf']\n",
    "model_df_list = []\n",
    "\n",
    "for i, model in enumerate(models): \n",
    "    df_ = df.loc[[\n",
    "        f'{model}-wo-RMSE', \n",
    "        f'{model}-no-RMSE',\n",
    "    ]]\n",
    "    model_df_list.append(df_)"
   ]
  },
  {
   "cell_type": "code",
   "execution_count": 17,
   "id": "flexible-congo",
   "metadata": {},
   "outputs": [
    {
     "data": {
      "text/html": [
       "<div>\n",
       "<style scoped>\n",
       "    .dataframe tbody tr th:only-of-type {\n",
       "        vertical-align: middle;\n",
       "    }\n",
       "\n",
       "    .dataframe tbody tr th {\n",
       "        vertical-align: top;\n",
       "    }\n",
       "\n",
       "    .dataframe thead th {\n",
       "        text-align: right;\n",
       "    }\n",
       "</style>\n",
       "<table border=\"1\" class=\"dataframe\">\n",
       "  <thead>\n",
       "    <tr style=\"text-align: right;\">\n",
       "      <th></th>\n",
       "      <th>MinMaxScaler()</th>\n",
       "      <th>RobustScaler()</th>\n",
       "      <th>StandardScaler()</th>\n",
       "    </tr>\n",
       "    <tr>\n",
       "      <th>model-outliers-metric</th>\n",
       "      <th></th>\n",
       "      <th></th>\n",
       "      <th></th>\n",
       "    </tr>\n",
       "  </thead>\n",
       "  <tbody>\n",
       "    <tr>\n",
       "      <th>poi-wo-RMSE</th>\n",
       "      <td>5.101762</td>\n",
       "      <td>4.488966</td>\n",
       "      <td>4.341527</td>\n",
       "    </tr>\n",
       "    <tr>\n",
       "      <th>poi-no-RMSE</th>\n",
       "      <td>4.818715</td>\n",
       "      <td>4.335566</td>\n",
       "      <td>4.146260</td>\n",
       "    </tr>\n",
       "  </tbody>\n",
       "</table>\n",
       "</div>"
      ],
      "text/plain": [
       "                       MinMaxScaler()  RobustScaler()  StandardScaler()\n",
       "model-outliers-metric                                                  \n",
       "poi-wo-RMSE                  5.101762        4.488966          4.341527\n",
       "poi-no-RMSE                  4.818715        4.335566          4.146260"
      ]
     },
     "execution_count": 17,
     "metadata": {},
     "output_type": "execute_result"
    }
   ],
   "source": [
    "model_df_list[0]"
   ]
  },
  {
   "cell_type": "code",
   "execution_count": 18,
   "id": "auburn-bronze",
   "metadata": {},
   "outputs": [
    {
     "data": {
      "image/png": "[encoded data removed]",
      "text/plain": [
       "<Figure size 432x288 with 1 Axes>"
      ]
     },
     "metadata": {},
     "output_type": "display_data"
    }
   ],
   "source": [
    "# plt.figure(figsize=(8,8))\n",
    "\n",
    "ax = sns.barplot(data=model_df_list[0],orient='h',palette='mako')\n",
    "show_values_on_bars(ax, \"h\", 0.1)\n",
    "ax.set(ylabel='Scaler Class',xlabel='Avg RMSE Performance [MBit/s]')\n",
    "ax.tick_params(axis=u'both', which=u'both',length=0)\n",
    "\n",
    "ax.set_title('Avg RMSE for Poisson Regressor');"
   ]
  },
  {
   "cell_type": "code",
   "execution_count": 19,
   "id": "constitutional-highway",
   "metadata": {},
   "outputs": [
    {
     "data": {
      "text/html": [
       "<div>\n",
       "<style scoped>\n",
       "    .dataframe tbody tr th:only-of-type {\n",
       "        vertical-align: middle;\n",
       "    }\n",
       "\n",
       "    .dataframe tbody tr th {\n",
       "        vertical-align: top;\n",
       "    }\n",
       "\n",
       "    .dataframe thead th {\n",
       "        text-align: right;\n",
       "    }\n",
       "</style>\n",
       "<table border=\"1\" class=\"dataframe\">\n",
       "  <thead>\n",
       "    <tr style=\"text-align: right;\">\n",
       "      <th></th>\n",
       "      <th>MinMaxScaler()</th>\n",
       "      <th>RobustScaler()</th>\n",
       "      <th>StandardScaler()</th>\n",
       "    </tr>\n",
       "    <tr>\n",
       "      <th>model-outliers-metric</th>\n",
       "      <th></th>\n",
       "      <th></th>\n",
       "      <th></th>\n",
       "    </tr>\n",
       "  </thead>\n",
       "  <tbody>\n",
       "    <tr>\n",
       "      <th>svr-wo-RMSE</th>\n",
       "      <td>4.580768</td>\n",
       "      <td>4.497461</td>\n",
       "      <td>4.792348</td>\n",
       "    </tr>\n",
       "    <tr>\n",
       "      <th>svr-no-RMSE</th>\n",
       "      <td>4.252213</td>\n",
       "      <td>4.323594</td>\n",
       "      <td>4.585628</td>\n",
       "    </tr>\n",
       "  </tbody>\n",
       "</table>\n",
       "</div>"
      ],
      "text/plain": [
       "                       MinMaxScaler()  RobustScaler()  StandardScaler()\n",
       "model-outliers-metric                                                  \n",
       "svr-wo-RMSE                  4.580768        4.497461          4.792348\n",
       "svr-no-RMSE                  4.252213        4.323594          4.585628"
      ]
     },
     "execution_count": 19,
     "metadata": {},
     "output_type": "execute_result"
    }
   ],
   "source": [
    "model_df_list[1]"
   ]
  },
  {
   "cell_type": "code",
   "execution_count": 20,
   "id": "collective-mirror",
   "metadata": {},
   "outputs": [
    {
     "data": {
      "image/png": "[encoded data removed]",
      "text/plain": [
       "<Figure size 432x288 with 1 Axes>"
      ]
     },
     "metadata": {},
     "output_type": "display_data"
    }
   ],
   "source": [
    "ax = sns.barplot(data=model_df_list[1],orient='h',palette='mako')\n",
    "show_values_on_bars(ax, \"h\", 0.1)\n",
    "ax.set(ylabel='Scaler Class',xlabel='Avg RMSE Performance [MBit/s]')\n",
    "ax.tick_params(axis=u'both', which=u'both',length=0)\n",
    "\n",
    "ax.set_title('Avg RMSE for SVR');"
   ]
  },
  {
   "cell_type": "code",
   "execution_count": 21,
   "id": "reliable-emerald",
   "metadata": {},
   "outputs": [
    {
     "data": {
      "text/html": [
       "<div>\n",
       "<style scoped>\n",
       "    .dataframe tbody tr th:only-of-type {\n",
       "        vertical-align: middle;\n",
       "    }\n",
       "\n",
       "    .dataframe tbody tr th {\n",
       "        vertical-align: top;\n",
       "    }\n",
       "\n",
       "    .dataframe thead th {\n",
       "        text-align: right;\n",
       "    }\n",
       "</style>\n",
       "<table border=\"1\" class=\"dataframe\">\n",
       "  <thead>\n",
       "    <tr style=\"text-align: right;\">\n",
       "      <th></th>\n",
       "      <th>MinMaxScaler()</th>\n",
       "      <th>RobustScaler()</th>\n",
       "      <th>StandardScaler()</th>\n",
       "    </tr>\n",
       "    <tr>\n",
       "      <th>model-outliers-metric</th>\n",
       "      <th></th>\n",
       "      <th></th>\n",
       "      <th></th>\n",
       "    </tr>\n",
       "  </thead>\n",
       "  <tbody>\n",
       "    <tr>\n",
       "      <th>lin-wo-RMSE</th>\n",
       "      <td>5.192918e+11</td>\n",
       "      <td>4.458879</td>\n",
       "      <td>2.472702e+13</td>\n",
       "    </tr>\n",
       "    <tr>\n",
       "      <th>lin-no-RMSE</th>\n",
       "      <td>3.179182e+10</td>\n",
       "      <td>4.112087</td>\n",
       "      <td>6.497621e+13</td>\n",
       "    </tr>\n",
       "  </tbody>\n",
       "</table>\n",
       "</div>"
      ],
      "text/plain": [
       "                       MinMaxScaler()  RobustScaler()  StandardScaler()\n",
       "model-outliers-metric                                                  \n",
       "lin-wo-RMSE              5.192918e+11        4.458879      2.472702e+13\n",
       "lin-no-RMSE              3.179182e+10        4.112087      6.497621e+13"
      ]
     },
     "execution_count": 21,
     "metadata": {},
     "output_type": "execute_result"
    }
   ],
   "source": [
    "model_df_list[2]"
   ]
  },
  {
   "cell_type": "code",
   "execution_count": 22,
   "id": "accompanied-radius",
   "metadata": {},
   "outputs": [],
   "source": [
    "# ax = sns.barplot(data=model_df_list[2],orient='h',palette='mako')\n",
    "# show_values_on_bars(ax, \"h\", 0.1)\n",
    "# ax.set(ylabel='Scaler Class',xlabel='Avg RMSE Performance [MBit/s]')\n",
    "# \n",
    "# ax.set_title('Avg RMSE for Linear Regressor');"
   ]
  },
  {
   "cell_type": "code",
   "execution_count": 23,
   "id": "virgin-calculation",
   "metadata": {},
   "outputs": [
    {
     "data": {
      "text/html": [
       "<div>\n",
       "<style scoped>\n",
       "    .dataframe tbody tr th:only-of-type {\n",
       "        vertical-align: middle;\n",
       "    }\n",
       "\n",
       "    .dataframe tbody tr th {\n",
       "        vertical-align: top;\n",
       "    }\n",
       "\n",
       "    .dataframe thead th {\n",
       "        text-align: right;\n",
       "    }\n",
       "</style>\n",
       "<table border=\"1\" class=\"dataframe\">\n",
       "  <thead>\n",
       "    <tr style=\"text-align: right;\">\n",
       "      <th></th>\n",
       "      <th>MinMaxScaler()</th>\n",
       "      <th>RobustScaler()</th>\n",
       "      <th>StandardScaler()</th>\n",
       "    </tr>\n",
       "    <tr>\n",
       "      <th>model-outliers-metric</th>\n",
       "      <th></th>\n",
       "      <th></th>\n",
       "      <th></th>\n",
       "    </tr>\n",
       "  </thead>\n",
       "  <tbody>\n",
       "    <tr>\n",
       "      <th>rf-wo-RMSE</th>\n",
       "      <td>4.218196</td>\n",
       "      <td>4.212960</td>\n",
       "      <td>4.233853</td>\n",
       "    </tr>\n",
       "    <tr>\n",
       "      <th>rf-no-RMSE</th>\n",
       "      <td>4.094968</td>\n",
       "      <td>4.093754</td>\n",
       "      <td>4.089235</td>\n",
       "    </tr>\n",
       "  </tbody>\n",
       "</table>\n",
       "</div>"
      ],
      "text/plain": [
       "                       MinMaxScaler()  RobustScaler()  StandardScaler()\n",
       "model-outliers-metric                                                  \n",
       "rf-wo-RMSE                   4.218196        4.212960          4.233853\n",
       "rf-no-RMSE                   4.094968        4.093754          4.089235"
      ]
     },
     "execution_count": 23,
     "metadata": {},
     "output_type": "execute_result"
    }
   ],
   "source": [
    "model_df_list[3]"
   ]
  },
  {
   "cell_type": "code",
   "execution_count": 24,
   "id": "blessed-armstrong",
   "metadata": {},
   "outputs": [
    {
     "data": {
      "image/png": "[encoded data removed]",
      "text/plain": [
       "<Figure size 432x288 with 1 Axes>"
      ]
     },
     "metadata": {},
     "output_type": "display_data"
    }
   ],
   "source": [
    "ax = sns.barplot(data=model_df_list[3],orient='h',palette='mako')\n",
    "show_values_on_bars(ax, \"h\", 0.1)\n",
    "ax.set(ylabel='Scaler Class',xlabel='Avg RMSE Performance [MBit/s]')\n",
    "ax.tick_params(axis=u'both', which=u'both',length=0)\n",
    "\n",
    "ax.set_title('Avg RMSE for Random Forest Regressor');"
   ]
  },
  {
   "cell_type": "markdown",
   "id": "cultural-bronze",
   "metadata": {},
   "source": [
    "# Visualization (RMSE [%])"
   ]
  },
  {
   "cell_type": "code",
   "execution_count": 25,
   "id": "rocky-holly",
   "metadata": {},
   "outputs": [],
   "source": [
    "models = ['poi', 'svr', 'lin', 'rf']\n",
    "model_df_min_list = []\n",
    "\n",
    "for i, model in enumerate(models): \n",
    "    df_ = df_min.loc[[\n",
    "        f'{model}-wo-RMSE', \n",
    "        f'{model}-no-RMSE',\n",
    "    ]]\n",
    "    model_df_min_list.append(df_)"
   ]
  },
  {
   "cell_type": "code",
   "execution_count": 26,
   "id": "heated-deviation",
   "metadata": {},
   "outputs": [
    {
     "data": {
      "text/html": [
       "<div>\n",
       "<style scoped>\n",
       "    .dataframe tbody tr th:only-of-type {\n",
       "        vertical-align: middle;\n",
       "    }\n",
       "\n",
       "    .dataframe tbody tr th {\n",
       "        vertical-align: top;\n",
       "    }\n",
       "\n",
       "    .dataframe thead th {\n",
       "        text-align: right;\n",
       "    }\n",
       "</style>\n",
       "<table border=\"1\" class=\"dataframe\">\n",
       "  <thead>\n",
       "    <tr style=\"text-align: right;\">\n",
       "      <th></th>\n",
       "      <th>MinMaxScaler()</th>\n",
       "      <th>RobustScaler()</th>\n",
       "      <th>StandardScaler()</th>\n",
       "    </tr>\n",
       "    <tr>\n",
       "      <th>model-outliers-metric</th>\n",
       "      <th></th>\n",
       "      <th></th>\n",
       "      <th></th>\n",
       "    </tr>\n",
       "  </thead>\n",
       "  <tbody>\n",
       "    <tr>\n",
       "      <th>poi-wo-RMSE</th>\n",
       "      <td>-0.175108</td>\n",
       "      <td>-0.033960</td>\n",
       "      <td>-0.0</td>\n",
       "    </tr>\n",
       "    <tr>\n",
       "      <th>poi-no-RMSE</th>\n",
       "      <td>-0.162184</td>\n",
       "      <td>-0.045657</td>\n",
       "      <td>-0.0</td>\n",
       "    </tr>\n",
       "  </tbody>\n",
       "</table>\n",
       "</div>"
      ],
      "text/plain": [
       "                       MinMaxScaler()  RobustScaler()  StandardScaler()\n",
       "model-outliers-metric                                                  \n",
       "poi-wo-RMSE                 -0.175108       -0.033960              -0.0\n",
       "poi-no-RMSE                 -0.162184       -0.045657              -0.0"
      ]
     },
     "execution_count": 26,
     "metadata": {},
     "output_type": "execute_result"
    }
   ],
   "source": [
    "model_df_min_list[0]"
   ]
  },
  {
   "cell_type": "code",
   "execution_count": 27,
   "id": "classical-diary",
   "metadata": {},
   "outputs": [
    {
     "data": {
      "image/png": "[encoded data removed]",
      "text/plain": [
       "<Figure size 432x288 with 1 Axes>"
      ]
     },
     "metadata": {},
     "output_type": "display_data"
    }
   ],
   "source": [
    "# plt.figure(figsize=(8,8))\n",
    "\n",
    "ax = sns.barplot(data=model_df_min_list[0],orient='h',palette='mako')\n",
    "ax.set(ylabel='Scaler Class',xlabel='Avg RMSE Performance Decline [%]')\n",
    "\n",
    "ax.yaxis.set_label_position(\"right\")\n",
    "ax.yaxis.set_ticks_position(\"right\")\n",
    "ax.tick_params(axis=u'both', which=u'both',length=0)\n",
    "\n",
    "show_values_on_bars(ax,\"h\",0.001,True,True)\n",
    "\n",
    "ax.set_title('Avg RMSE Performance Decline for Poisson Regressor');"
   ]
  },
  {
   "cell_type": "code",
   "execution_count": 28,
   "id": "saving-cooperation",
   "metadata": {},
   "outputs": [
    {
     "data": {
      "text/html": [
       "<div>\n",
       "<style scoped>\n",
       "    .dataframe tbody tr th:only-of-type {\n",
       "        vertical-align: middle;\n",
       "    }\n",
       "\n",
       "    .dataframe tbody tr th {\n",
       "        vertical-align: top;\n",
       "    }\n",
       "\n",
       "    .dataframe thead th {\n",
       "        text-align: right;\n",
       "    }\n",
       "</style>\n",
       "<table border=\"1\" class=\"dataframe\">\n",
       "  <thead>\n",
       "    <tr style=\"text-align: right;\">\n",
       "      <th></th>\n",
       "      <th>MinMaxScaler()</th>\n",
       "      <th>RobustScaler()</th>\n",
       "      <th>StandardScaler()</th>\n",
       "    </tr>\n",
       "    <tr>\n",
       "      <th>model-outliers-metric</th>\n",
       "      <th></th>\n",
       "      <th></th>\n",
       "      <th></th>\n",
       "    </tr>\n",
       "  </thead>\n",
       "  <tbody>\n",
       "    <tr>\n",
       "      <th>svr-wo-RMSE</th>\n",
       "      <td>-0.018523</td>\n",
       "      <td>-0.000000</td>\n",
       "      <td>-0.065567</td>\n",
       "    </tr>\n",
       "    <tr>\n",
       "      <th>svr-no-RMSE</th>\n",
       "      <td>-0.000000</td>\n",
       "      <td>-0.016787</td>\n",
       "      <td>-0.078410</td>\n",
       "    </tr>\n",
       "  </tbody>\n",
       "</table>\n",
       "</div>"
      ],
      "text/plain": [
       "                       MinMaxScaler()  RobustScaler()  StandardScaler()\n",
       "model-outliers-metric                                                  \n",
       "svr-wo-RMSE                 -0.018523       -0.000000         -0.065567\n",
       "svr-no-RMSE                 -0.000000       -0.016787         -0.078410"
      ]
     },
     "execution_count": 28,
     "metadata": {},
     "output_type": "execute_result"
    }
   ],
   "source": [
    "model_df_min_list[1]"
   ]
  },
  {
   "cell_type": "code",
   "execution_count": 29,
   "id": "overhead-biodiversity",
   "metadata": {},
   "outputs": [
    {
     "data": {
      "image/png": "[encoded data removed]",
      "text/plain": [
       "<Figure size 432x288 with 1 Axes>"
      ]
     },
     "metadata": {},
     "output_type": "display_data"
    }
   ],
   "source": [
    "ax = sns.barplot(data=model_df_min_list[1],orient='h',palette='mako')\n",
    "ax.set(ylabel='Scaler Class',xlabel='Avg RMSE Performance [MBit/s]')\n",
    "\n",
    "ax.yaxis.set_label_position(\"right\")\n",
    "ax.yaxis.set_ticks_position(\"right\")\n",
    "ax.tick_params(axis=u'both', which=u'both',length=0)\n",
    "\n",
    "show_values_on_bars(ax,\"h\",0.001,True,True)\n",
    "\n",
    "ax.set_title('Avg RMSE Performance Decline for SVR');"
   ]
  },
  {
   "cell_type": "code",
   "execution_count": 30,
   "id": "continent-southeast",
   "metadata": {},
   "outputs": [
    {
     "data": {
      "text/html": [
       "<div>\n",
       "<style scoped>\n",
       "    .dataframe tbody tr th:only-of-type {\n",
       "        vertical-align: middle;\n",
       "    }\n",
       "\n",
       "    .dataframe tbody tr th {\n",
       "        vertical-align: top;\n",
       "    }\n",
       "\n",
       "    .dataframe thead th {\n",
       "        text-align: right;\n",
       "    }\n",
       "</style>\n",
       "<table border=\"1\" class=\"dataframe\">\n",
       "  <thead>\n",
       "    <tr style=\"text-align: right;\">\n",
       "      <th></th>\n",
       "      <th>MinMaxScaler()</th>\n",
       "      <th>RobustScaler()</th>\n",
       "      <th>StandardScaler()</th>\n",
       "    </tr>\n",
       "    <tr>\n",
       "      <th>model-outliers-metric</th>\n",
       "      <th></th>\n",
       "      <th></th>\n",
       "      <th></th>\n",
       "    </tr>\n",
       "  </thead>\n",
       "  <tbody>\n",
       "    <tr>\n",
       "      <th>lin-wo-RMSE</th>\n",
       "      <td>-1.164624e+11</td>\n",
       "      <td>-0.0</td>\n",
       "      <td>-5.545569e+12</td>\n",
       "    </tr>\n",
       "    <tr>\n",
       "      <th>lin-no-RMSE</th>\n",
       "      <td>-7.731311e+09</td>\n",
       "      <td>-0.0</td>\n",
       "      <td>-1.580127e+13</td>\n",
       "    </tr>\n",
       "  </tbody>\n",
       "</table>\n",
       "</div>"
      ],
      "text/plain": [
       "                       MinMaxScaler()  RobustScaler()  StandardScaler()\n",
       "model-outliers-metric                                                  \n",
       "lin-wo-RMSE             -1.164624e+11            -0.0     -5.545569e+12\n",
       "lin-no-RMSE             -7.731311e+09            -0.0     -1.580127e+13"
      ]
     },
     "execution_count": 30,
     "metadata": {},
     "output_type": "execute_result"
    }
   ],
   "source": [
    "model_df_min_list[2]"
   ]
  },
  {
   "cell_type": "code",
   "execution_count": 31,
   "id": "liquid-appointment",
   "metadata": {},
   "outputs": [],
   "source": [
    "# ax = sns.barplot(data=model_df_min_list[2],orient='h',palette='mako')\n",
    "# show_values_on_bars(ax, \"h\", 0.001)\n",
    "# ax.set(ylabel='Scaler Class',xlabel='Avg RMSE Performance [MBit/s]')\n",
    "# \n",
    "# ax.set_title('Avg RMSE Performance Decline for Poisson Regressor');"
   ]
  },
  {
   "cell_type": "code",
   "execution_count": 32,
   "id": "understood-basin",
   "metadata": {},
   "outputs": [
    {
     "data": {
      "text/html": [
       "<div>\n",
       "<style scoped>\n",
       "    .dataframe tbody tr th:only-of-type {\n",
       "        vertical-align: middle;\n",
       "    }\n",
       "\n",
       "    .dataframe tbody tr th {\n",
       "        vertical-align: top;\n",
       "    }\n",
       "\n",
       "    .dataframe thead th {\n",
       "        text-align: right;\n",
       "    }\n",
       "</style>\n",
       "<table border=\"1\" class=\"dataframe\">\n",
       "  <thead>\n",
       "    <tr style=\"text-align: right;\">\n",
       "      <th></th>\n",
       "      <th>MinMaxScaler()</th>\n",
       "      <th>RobustScaler()</th>\n",
       "      <th>StandardScaler()</th>\n",
       "    </tr>\n",
       "    <tr>\n",
       "      <th>model-outliers-metric</th>\n",
       "      <th></th>\n",
       "      <th></th>\n",
       "      <th></th>\n",
       "    </tr>\n",
       "  </thead>\n",
       "  <tbody>\n",
       "    <tr>\n",
       "      <th>rf-wo-RMSE</th>\n",
       "      <td>-0.001243</td>\n",
       "      <td>-0.000000</td>\n",
       "      <td>-0.004959</td>\n",
       "    </tr>\n",
       "    <tr>\n",
       "      <th>rf-no-RMSE</th>\n",
       "      <td>-0.001402</td>\n",
       "      <td>-0.001105</td>\n",
       "      <td>-0.000000</td>\n",
       "    </tr>\n",
       "  </tbody>\n",
       "</table>\n",
       "</div>"
      ],
      "text/plain": [
       "                       MinMaxScaler()  RobustScaler()  StandardScaler()\n",
       "model-outliers-metric                                                  \n",
       "rf-wo-RMSE                  -0.001243       -0.000000         -0.004959\n",
       "rf-no-RMSE                  -0.001402       -0.001105         -0.000000"
      ]
     },
     "execution_count": 32,
     "metadata": {},
     "output_type": "execute_result"
    }
   ],
   "source": [
    "model_df_min_list[3]"
   ]
  },
  {
   "cell_type": "code",
   "execution_count": 33,
   "id": "grateful-sight",
   "metadata": {},
   "outputs": [
    {
     "data": {
      "image/png": "[encoded data removed]",
      "text/plain": [
       "<Figure size 432x288 with 1 Axes>"
      ]
     },
     "metadata": {},
     "output_type": "display_data"
    }
   ],
   "source": [
    "ax = sns.barplot(data=model_df_min_list[3],orient='h',palette='mako')\n",
    "ax.set(ylabel='Scaler Class',xlabel='Avg RMSE Performance [MBit/s]')\n",
    "\n",
    "ax.yaxis.set_label_position(\"right\")\n",
    "ax.yaxis.set_ticks_position(\"right\")\n",
    "ax.tick_params(axis=u'both', which=u'both',length=0)\n",
    "\n",
    "show_values_on_bars(ax,\"h\",0.001,True,True)\n",
    "\n",
    "ax.set_title('Avg RMSE Performance Decline for Random Forest Regressor');"
   ]
  },
  {
   "cell_type": "markdown",
   "id": "finnish-dividend",
   "metadata": {},
   "source": [
    "DONE!"
   ]
  },
  {
   "cell_type": "code",
   "execution_count": null,
   "id": "harmful-artist",
   "metadata": {},
   "outputs": [],
   "source": []
  }
 ],
 "metadata": {
  "kernelspec": {
   "display_name": "Python 3",
   "language": "python",
   "name": "python3"
  },
  "language_info": {
   "codemirror_mode": {
    "name": "ipython",
    "version": 3
   },
   "file_extension": ".py",
   "mimetype": "text/x-python",
   "name": "python",
   "nbconvert_exporter": "python",
   "pygments_lexer": "ipython3",
   "version": "3.8.6"
  }
 },
 "nbformat": 4,
 "nbformat_minor": 5
}
