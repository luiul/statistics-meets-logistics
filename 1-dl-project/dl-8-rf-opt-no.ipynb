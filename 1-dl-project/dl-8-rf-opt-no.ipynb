{
 "cells": [
  {
   "cell_type": "code",
   "execution_count": 1,
   "id": "cubic-mineral",
   "metadata": {},
   "outputs": [],
   "source": [
    "# MODIFY! \n",
    "# use RobustScaler! \n",
    "model_name = 'rf-no'"
   ]
  },
  {
   "cell_type": "markdown",
   "id": "extended-demonstration",
   "metadata": {},
   "source": [
    "# Import Libraries & Data "
   ]
  },
  {
   "cell_type": "code",
   "execution_count": 2,
   "id": "devoted-spice",
   "metadata": {},
   "outputs": [],
   "source": [
    "import numpy as np\n",
    "import pandas as pd\n",
    "import matplotlib.pyplot as plt\n",
    "import seaborn as sns"
   ]
  },
  {
   "cell_type": "code",
   "execution_count": 3,
   "id": "substantial-bones",
   "metadata": {},
   "outputs": [],
   "source": [
    "df = pd.read_csv('./data/d-no-ns.csv')\n",
    "X = df.drop('throughput',axis=1)\n",
    "y = df['throughput']"
   ]
  },
  {
   "cell_type": "markdown",
   "id": "scheduled-chrome",
   "metadata": {},
   "source": [
    "---"
   ]
  },
  {
   "cell_type": "markdown",
   "id": "wrapped-crest",
   "metadata": {},
   "source": [
    "# Scale Data"
   ]
  },
  {
   "cell_type": "code",
   "execution_count": 4,
   "id": "coastal-judge",
   "metadata": {},
   "outputs": [
    {
     "data": {
      "text/plain": [
       "RobustScaler()"
      ]
     },
     "execution_count": 4,
     "metadata": {},
     "output_type": "execute_result"
    }
   ],
   "source": [
    "# Split the data\n",
    "from sklearn.model_selection import train_test_split\n",
    "X_train, X_test, y_train, y_test = train_test_split(X, y, test_size=0.1, random_state=42)\n",
    "\n",
    "# Scale the data\n",
    "from sklearn.preprocessing import RobustScaler\n",
    "scaler = RobustScaler()\n",
    "scaler.fit(X_train)"
   ]
  },
  {
   "cell_type": "code",
   "execution_count": 5,
   "id": "white-indonesian",
   "metadata": {},
   "outputs": [],
   "source": [
    "X_train = scaler.transform(X_train)\n",
    "X_test = scaler.transform(X_test)"
   ]
  },
  {
   "cell_type": "markdown",
   "id": "stunning-insulin",
   "metadata": {},
   "source": [
    "# Determine Hyperparameters"
   ]
  },
  {
   "cell_type": "markdown",
   "id": "republican-machinery",
   "metadata": {},
   "source": [
    "## Determine Max Features"
   ]
  },
  {
   "cell_type": "code",
   "execution_count": 6,
   "id": "spectacular-alaska",
   "metadata": {},
   "outputs": [
    {
     "data": {
      "text/plain": [
       "RandomForestRegressor(warm_start=True)"
      ]
     },
     "execution_count": 6,
     "metadata": {},
     "output_type": "execute_result"
    }
   ],
   "source": [
    "# MODIFY!\n",
    "from sklearn.ensemble import RandomForestRegressor\n",
    "\n",
    "model = RandomForestRegressor(warm_start=True)\n",
    "model"
   ]
  },
  {
   "cell_type": "code",
   "execution_count": 7,
   "id": "wicked-asian",
   "metadata": {},
   "outputs": [],
   "source": [
    "p_grid = {\n",
    "    'max_features':['auto', 'sqrt', 'log2']\n",
    "}"
   ]
  },
  {
   "cell_type": "code",
   "execution_count": 8,
   "id": "cloudy-audit",
   "metadata": {},
   "outputs": [],
   "source": [
    "from sklearn.model_selection import GridSearchCV"
   ]
  },
  {
   "cell_type": "code",
   "execution_count": 9,
   "id": "ignored-force",
   "metadata": {},
   "outputs": [],
   "source": [
    "grid_model = GridSearchCV(\n",
    "    estimator=model,\n",
    "    param_grid =p_grid, \n",
    "    scoring='neg_mean_squared_error',\n",
    "    cv=10, \n",
    "    verbose=1\n",
    ")"
   ]
  },
  {
   "cell_type": "code",
   "execution_count": 10,
   "id": "fabulous-electricity",
   "metadata": {},
   "outputs": [
    {
     "name": "stdout",
     "output_type": "stream",
     "text": [
      "Fitting 10 folds for each of 3 candidates, totalling 30 fits\n"
     ]
    },
    {
     "name": "stderr",
     "output_type": "stream",
     "text": [
      "[Parallel(n_jobs=1)]: Using backend SequentialBackend with 1 concurrent workers.\n",
      "[Parallel(n_jobs=1)]: Done  30 out of  30 | elapsed:   26.6s finished\n"
     ]
    },
    {
     "data": {
      "text/plain": [
       "GridSearchCV(cv=10, estimator=RandomForestRegressor(warm_start=True),\n",
       "             param_grid={'max_features': ['auto', 'sqrt', 'log2']},\n",
       "             scoring='neg_mean_squared_error', verbose=1)"
      ]
     },
     "execution_count": 10,
     "metadata": {},
     "output_type": "execute_result"
    }
   ],
   "source": [
    "grid_model.fit(X_train,y_train)"
   ]
  },
  {
   "cell_type": "code",
   "execution_count": 11,
   "id": "assured-atlantic",
   "metadata": {},
   "outputs": [
    {
     "data": {
      "text/plain": [
       "{'max_features': 'auto'}"
      ]
     },
     "execution_count": 11,
     "metadata": {},
     "output_type": "execute_result"
    }
   ],
   "source": [
    "grid_model.best_params_"
   ]
  },
  {
   "cell_type": "code",
   "execution_count": 12,
   "id": "focal-encoding",
   "metadata": {},
   "outputs": [],
   "source": [
    "hp = pd.Series(name=f'{model_name} HP', data=grid_model.best_params_)"
   ]
  },
  {
   "cell_type": "code",
   "execution_count": 13,
   "id": "twenty-surrey",
   "metadata": {},
   "outputs": [
    {
     "data": {
      "text/plain": [
       "max_features    auto\n",
       "Name: rf-no HP, dtype: object"
      ]
     },
     "execution_count": 13,
     "metadata": {},
     "output_type": "execute_result"
    }
   ],
   "source": [
    "hp"
   ]
  },
  {
   "cell_type": "code",
   "execution_count": 14,
   "id": "nearby-driver",
   "metadata": {},
   "outputs": [],
   "source": [
    "hp.to_csv(f'./hyperparameters/{model_name}.csv')"
   ]
  },
  {
   "cell_type": "markdown",
   "id": "through-summer",
   "metadata": {},
   "source": [
    "## Determine Number of Estimators"
   ]
  },
  {
   "cell_type": "code",
   "execution_count": 15,
   "id": "sitting-community",
   "metadata": {},
   "outputs": [
    {
     "name": "stdout",
     "output_type": "stream",
     "text": [
      "Starting 5 estimators\n",
      "Done with 5 estimators\n",
      "Elapsed time: 1.0114338397979736\n",
      "\n",
      "\n",
      "Starting 10 estimators\n",
      "Done with 10 estimators\n",
      "Elapsed time: 1.8217847347259521\n",
      "\n",
      "\n",
      "Starting 25 estimators\n",
      "Done with 25 estimators\n",
      "Elapsed time: 4.627111911773682\n",
      "\n",
      "\n",
      "Starting 50 estimators\n",
      "Done with 50 estimators\n",
      "Elapsed time: 8.475919723510742\n",
      "\n",
      "\n",
      "Starting 100 estimators\n",
      "Done with 100 estimators\n",
      "Elapsed time: 16.68836522102356\n",
      "\n",
      "\n",
      "Starting 500 estimators\n",
      "Done with 500 estimators\n",
      "Elapsed time: 83.07509016990662\n",
      "\n",
      "\n",
      "Starting 1000 estimators\n",
      "Done with 1000 estimators\n",
      "Elapsed time: 168.91816806793213\n",
      "\n",
      "\n",
      "Starting 2000 estimators\n",
      "Done with 2000 estimators\n",
      "Elapsed time: 437.05894780158997\n",
      "\n",
      "\n"
     ]
    }
   ],
   "source": [
    "# MODIFY!\n",
    "import time\n",
    "\n",
    "estimators = [5,10,25,50,100,500,1000,2000]\n",
    "scores_list = []\n",
    "\n",
    "from sklearn.ensemble import RandomForestRegressor\n",
    "\n",
    "for e in estimators: \n",
    "    start = time.time()\n",
    "    print(f'Starting {e} estimators')\n",
    "    score_model = RandomForestRegressor(\n",
    "        n_estimators=e,\n",
    "        max_features=grid_model.best_params_['max_features']\n",
    "    )\n",
    "    \n",
    "    from sklearn.model_selection import cross_validate\n",
    "\n",
    "    scores = cross_validate(\n",
    "        score_model, \n",
    "        X_train, \n",
    "        y_train,\n",
    "        scoring=[\n",
    "            'neg_mean_absolute_error',\n",
    "            'neg_mean_squared_error',\n",
    "            'neg_root_mean_squared_error'\n",
    "        ],\n",
    "        cv=10\n",
    "    )\n",
    "    \n",
    "    scores = pd.DataFrame(scores)\n",
    "    scores\n",
    "    mean_scores = scores.mean()\n",
    "    scores_list.append(mean_scores)\n",
    "    print(f'Done with {e} estimators')\n",
    "    end = time.time()\n",
    "    print(f'Elapsed time: {end - start}')\n",
    "    print('\\n')"
   ]
  },
  {
   "cell_type": "code",
   "execution_count": 16,
   "id": "connected-beverage",
   "metadata": {},
   "outputs": [],
   "source": [
    "scores_df = pd.DataFrame(scores_list)"
   ]
  },
  {
   "cell_type": "code",
   "execution_count": 17,
   "id": "floppy-upper",
   "metadata": {},
   "outputs": [
    {
     "data": {
      "text/html": [
       "<div>\n",
       "<style scoped>\n",
       "    .dataframe tbody tr th:only-of-type {\n",
       "        vertical-align: middle;\n",
       "    }\n",
       "\n",
       "    .dataframe tbody tr th {\n",
       "        vertical-align: top;\n",
       "    }\n",
       "\n",
       "    .dataframe thead th {\n",
       "        text-align: right;\n",
       "    }\n",
       "</style>\n",
       "<table border=\"1\" class=\"dataframe\">\n",
       "  <thead>\n",
       "    <tr style=\"text-align: right;\">\n",
       "      <th></th>\n",
       "      <th>fit_time</th>\n",
       "      <th>score_time</th>\n",
       "      <th>test_neg_mean_absolute_error</th>\n",
       "      <th>test_neg_mean_squared_error</th>\n",
       "      <th>test_neg_root_mean_squared_error</th>\n",
       "    </tr>\n",
       "  </thead>\n",
       "  <tbody>\n",
       "    <tr>\n",
       "      <th>0</th>\n",
       "      <td>0.097236</td>\n",
       "      <td>0.003048</td>\n",
       "      <td>-3.317039</td>\n",
       "      <td>-20.340872</td>\n",
       "      <td>-4.499399</td>\n",
       "    </tr>\n",
       "    <tr>\n",
       "      <th>1</th>\n",
       "      <td>0.178291</td>\n",
       "      <td>0.003041</td>\n",
       "      <td>-3.211471</td>\n",
       "      <td>-18.382860</td>\n",
       "      <td>-4.280919</td>\n",
       "    </tr>\n",
       "    <tr>\n",
       "      <th>2</th>\n",
       "      <td>0.454885</td>\n",
       "      <td>0.006628</td>\n",
       "      <td>-3.080912</td>\n",
       "      <td>-17.274078</td>\n",
       "      <td>-4.144729</td>\n",
       "    </tr>\n",
       "    <tr>\n",
       "      <th>3</th>\n",
       "      <td>0.838230</td>\n",
       "      <td>0.007674</td>\n",
       "      <td>-3.043685</td>\n",
       "      <td>-17.218653</td>\n",
       "      <td>-4.136652</td>\n",
       "    </tr>\n",
       "    <tr>\n",
       "      <th>4</th>\n",
       "      <td>1.653710</td>\n",
       "      <td>0.012765</td>\n",
       "      <td>-3.011643</td>\n",
       "      <td>-16.752449</td>\n",
       "      <td>-4.085274</td>\n",
       "    </tr>\n",
       "    <tr>\n",
       "      <th>5</th>\n",
       "      <td>8.239485</td>\n",
       "      <td>0.059555</td>\n",
       "      <td>-3.003494</td>\n",
       "      <td>-16.665203</td>\n",
       "      <td>-4.072814</td>\n",
       "    </tr>\n",
       "    <tr>\n",
       "      <th>6</th>\n",
       "      <td>16.755676</td>\n",
       "      <td>0.118415</td>\n",
       "      <td>-3.007113</td>\n",
       "      <td>-16.660734</td>\n",
       "      <td>-4.072567</td>\n",
       "    </tr>\n",
       "    <tr>\n",
       "      <th>7</th>\n",
       "      <td>43.037821</td>\n",
       "      <td>0.619533</td>\n",
       "      <td>-3.004186</td>\n",
       "      <td>-16.613942</td>\n",
       "      <td>-4.066401</td>\n",
       "    </tr>\n",
       "  </tbody>\n",
       "</table>\n",
       "</div>"
      ],
      "text/plain": [
       "    fit_time  score_time  test_neg_mean_absolute_error  \\\n",
       "0   0.097236    0.003048                     -3.317039   \n",
       "1   0.178291    0.003041                     -3.211471   \n",
       "2   0.454885    0.006628                     -3.080912   \n",
       "3   0.838230    0.007674                     -3.043685   \n",
       "4   1.653710    0.012765                     -3.011643   \n",
       "5   8.239485    0.059555                     -3.003494   \n",
       "6  16.755676    0.118415                     -3.007113   \n",
       "7  43.037821    0.619533                     -3.004186   \n",
       "\n",
       "   test_neg_mean_squared_error  test_neg_root_mean_squared_error  \n",
       "0                   -20.340872                         -4.499399  \n",
       "1                   -18.382860                         -4.280919  \n",
       "2                   -17.274078                         -4.144729  \n",
       "3                   -17.218653                         -4.136652  \n",
       "4                   -16.752449                         -4.085274  \n",
       "5                   -16.665203                         -4.072814  \n",
       "6                   -16.660734                         -4.072567  \n",
       "7                   -16.613942                         -4.066401  "
      ]
     },
     "execution_count": 17,
     "metadata": {},
     "output_type": "execute_result"
    }
   ],
   "source": [
    "scores_df"
   ]
  },
  {
   "cell_type": "code",
   "execution_count": 18,
   "id": "foreign-adoption",
   "metadata": {},
   "outputs": [],
   "source": [
    "scores_df['Est'] = estimators"
   ]
  },
  {
   "cell_type": "code",
   "execution_count": 19,
   "id": "upper-dining",
   "metadata": {},
   "outputs": [
    {
     "data": {
      "text/html": [
       "<div>\n",
       "<style scoped>\n",
       "    .dataframe tbody tr th:only-of-type {\n",
       "        vertical-align: middle;\n",
       "    }\n",
       "\n",
       "    .dataframe tbody tr th {\n",
       "        vertical-align: top;\n",
       "    }\n",
       "\n",
       "    .dataframe thead th {\n",
       "        text-align: right;\n",
       "    }\n",
       "</style>\n",
       "<table border=\"1\" class=\"dataframe\">\n",
       "  <thead>\n",
       "    <tr style=\"text-align: right;\">\n",
       "      <th></th>\n",
       "      <th>fit_time</th>\n",
       "      <th>score_time</th>\n",
       "      <th>test_neg_mean_absolute_error</th>\n",
       "      <th>test_neg_mean_squared_error</th>\n",
       "      <th>test_neg_root_mean_squared_error</th>\n",
       "      <th>Est</th>\n",
       "    </tr>\n",
       "  </thead>\n",
       "  <tbody>\n",
       "    <tr>\n",
       "      <th>0</th>\n",
       "      <td>0.097236</td>\n",
       "      <td>0.003048</td>\n",
       "      <td>-3.317039</td>\n",
       "      <td>-20.340872</td>\n",
       "      <td>-4.499399</td>\n",
       "      <td>5</td>\n",
       "    </tr>\n",
       "    <tr>\n",
       "      <th>1</th>\n",
       "      <td>0.178291</td>\n",
       "      <td>0.003041</td>\n",
       "      <td>-3.211471</td>\n",
       "      <td>-18.382860</td>\n",
       "      <td>-4.280919</td>\n",
       "      <td>10</td>\n",
       "    </tr>\n",
       "    <tr>\n",
       "      <th>2</th>\n",
       "      <td>0.454885</td>\n",
       "      <td>0.006628</td>\n",
       "      <td>-3.080912</td>\n",
       "      <td>-17.274078</td>\n",
       "      <td>-4.144729</td>\n",
       "      <td>25</td>\n",
       "    </tr>\n",
       "    <tr>\n",
       "      <th>3</th>\n",
       "      <td>0.838230</td>\n",
       "      <td>0.007674</td>\n",
       "      <td>-3.043685</td>\n",
       "      <td>-17.218653</td>\n",
       "      <td>-4.136652</td>\n",
       "      <td>50</td>\n",
       "    </tr>\n",
       "    <tr>\n",
       "      <th>4</th>\n",
       "      <td>1.653710</td>\n",
       "      <td>0.012765</td>\n",
       "      <td>-3.011643</td>\n",
       "      <td>-16.752449</td>\n",
       "      <td>-4.085274</td>\n",
       "      <td>100</td>\n",
       "    </tr>\n",
       "    <tr>\n",
       "      <th>5</th>\n",
       "      <td>8.239485</td>\n",
       "      <td>0.059555</td>\n",
       "      <td>-3.003494</td>\n",
       "      <td>-16.665203</td>\n",
       "      <td>-4.072814</td>\n",
       "      <td>500</td>\n",
       "    </tr>\n",
       "    <tr>\n",
       "      <th>6</th>\n",
       "      <td>16.755676</td>\n",
       "      <td>0.118415</td>\n",
       "      <td>-3.007113</td>\n",
       "      <td>-16.660734</td>\n",
       "      <td>-4.072567</td>\n",
       "      <td>1000</td>\n",
       "    </tr>\n",
       "    <tr>\n",
       "      <th>7</th>\n",
       "      <td>43.037821</td>\n",
       "      <td>0.619533</td>\n",
       "      <td>-3.004186</td>\n",
       "      <td>-16.613942</td>\n",
       "      <td>-4.066401</td>\n",
       "      <td>2000</td>\n",
       "    </tr>\n",
       "  </tbody>\n",
       "</table>\n",
       "</div>"
      ],
      "text/plain": [
       "    fit_time  score_time  test_neg_mean_absolute_error  \\\n",
       "0   0.097236    0.003048                     -3.317039   \n",
       "1   0.178291    0.003041                     -3.211471   \n",
       "2   0.454885    0.006628                     -3.080912   \n",
       "3   0.838230    0.007674                     -3.043685   \n",
       "4   1.653710    0.012765                     -3.011643   \n",
       "5   8.239485    0.059555                     -3.003494   \n",
       "6  16.755676    0.118415                     -3.007113   \n",
       "7  43.037821    0.619533                     -3.004186   \n",
       "\n",
       "   test_neg_mean_squared_error  test_neg_root_mean_squared_error   Est  \n",
       "0                   -20.340872                         -4.499399     5  \n",
       "1                   -18.382860                         -4.280919    10  \n",
       "2                   -17.274078                         -4.144729    25  \n",
       "3                   -17.218653                         -4.136652    50  \n",
       "4                   -16.752449                         -4.085274   100  \n",
       "5                   -16.665203                         -4.072814   500  \n",
       "6                   -16.660734                         -4.072567  1000  \n",
       "7                   -16.613942                         -4.066401  2000  "
      ]
     },
     "execution_count": 19,
     "metadata": {},
     "output_type": "execute_result"
    }
   ],
   "source": [
    "scores_df"
   ]
  },
  {
   "cell_type": "markdown",
   "id": "written-martial",
   "metadata": {},
   "source": [
    "# Export Scores for Number of Estimators"
   ]
  },
  {
   "cell_type": "code",
   "execution_count": 20,
   "id": "fallen-mitchell",
   "metadata": {},
   "outputs": [],
   "source": [
    "# mean_scores"
   ]
  },
  {
   "cell_type": "code",
   "execution_count": 21,
   "id": "offshore-circumstances",
   "metadata": {},
   "outputs": [],
   "source": [
    "scores_df = scores_df.rename(columns={\n",
    "    'fit_time':'Fit Time',\n",
    "    'score_time':'Score Time',\n",
    "    'test_neg_mean_absolute_error':'MAE',\n",
    "    'test_neg_mean_squared_error':'MSE',\n",
    "    'test_neg_root_mean_squared_error':'RMSE'\n",
    "})"
   ]
  },
  {
   "cell_type": "code",
   "execution_count": 22,
   "id": "after-immigration",
   "metadata": {},
   "outputs": [
    {
     "data": {
      "text/html": [
       "<div>\n",
       "<style scoped>\n",
       "    .dataframe tbody tr th:only-of-type {\n",
       "        vertical-align: middle;\n",
       "    }\n",
       "\n",
       "    .dataframe tbody tr th {\n",
       "        vertical-align: top;\n",
       "    }\n",
       "\n",
       "    .dataframe thead th {\n",
       "        text-align: right;\n",
       "    }\n",
       "</style>\n",
       "<table border=\"1\" class=\"dataframe\">\n",
       "  <thead>\n",
       "    <tr style=\"text-align: right;\">\n",
       "      <th></th>\n",
       "      <th>Fit Time</th>\n",
       "      <th>Score Time</th>\n",
       "      <th>MAE</th>\n",
       "      <th>MSE</th>\n",
       "      <th>RMSE</th>\n",
       "      <th>Est</th>\n",
       "    </tr>\n",
       "  </thead>\n",
       "  <tbody>\n",
       "    <tr>\n",
       "      <th>0</th>\n",
       "      <td>0.097236</td>\n",
       "      <td>0.003048</td>\n",
       "      <td>-3.317039</td>\n",
       "      <td>-20.340872</td>\n",
       "      <td>-4.499399</td>\n",
       "      <td>5</td>\n",
       "    </tr>\n",
       "    <tr>\n",
       "      <th>1</th>\n",
       "      <td>0.178291</td>\n",
       "      <td>0.003041</td>\n",
       "      <td>-3.211471</td>\n",
       "      <td>-18.382860</td>\n",
       "      <td>-4.280919</td>\n",
       "      <td>10</td>\n",
       "    </tr>\n",
       "    <tr>\n",
       "      <th>2</th>\n",
       "      <td>0.454885</td>\n",
       "      <td>0.006628</td>\n",
       "      <td>-3.080912</td>\n",
       "      <td>-17.274078</td>\n",
       "      <td>-4.144729</td>\n",
       "      <td>25</td>\n",
       "    </tr>\n",
       "    <tr>\n",
       "      <th>3</th>\n",
       "      <td>0.838230</td>\n",
       "      <td>0.007674</td>\n",
       "      <td>-3.043685</td>\n",
       "      <td>-17.218653</td>\n",
       "      <td>-4.136652</td>\n",
       "      <td>50</td>\n",
       "    </tr>\n",
       "    <tr>\n",
       "      <th>4</th>\n",
       "      <td>1.653710</td>\n",
       "      <td>0.012765</td>\n",
       "      <td>-3.011643</td>\n",
       "      <td>-16.752449</td>\n",
       "      <td>-4.085274</td>\n",
       "      <td>100</td>\n",
       "    </tr>\n",
       "    <tr>\n",
       "      <th>5</th>\n",
       "      <td>8.239485</td>\n",
       "      <td>0.059555</td>\n",
       "      <td>-3.003494</td>\n",
       "      <td>-16.665203</td>\n",
       "      <td>-4.072814</td>\n",
       "      <td>500</td>\n",
       "    </tr>\n",
       "    <tr>\n",
       "      <th>6</th>\n",
       "      <td>16.755676</td>\n",
       "      <td>0.118415</td>\n",
       "      <td>-3.007113</td>\n",
       "      <td>-16.660734</td>\n",
       "      <td>-4.072567</td>\n",
       "      <td>1000</td>\n",
       "    </tr>\n",
       "    <tr>\n",
       "      <th>7</th>\n",
       "      <td>43.037821</td>\n",
       "      <td>0.619533</td>\n",
       "      <td>-3.004186</td>\n",
       "      <td>-16.613942</td>\n",
       "      <td>-4.066401</td>\n",
       "      <td>2000</td>\n",
       "    </tr>\n",
       "  </tbody>\n",
       "</table>\n",
       "</div>"
      ],
      "text/plain": [
       "    Fit Time  Score Time       MAE        MSE      RMSE   Est\n",
       "0   0.097236    0.003048 -3.317039 -20.340872 -4.499399     5\n",
       "1   0.178291    0.003041 -3.211471 -18.382860 -4.280919    10\n",
       "2   0.454885    0.006628 -3.080912 -17.274078 -4.144729    25\n",
       "3   0.838230    0.007674 -3.043685 -17.218653 -4.136652    50\n",
       "4   1.653710    0.012765 -3.011643 -16.752449 -4.085274   100\n",
       "5   8.239485    0.059555 -3.003494 -16.665203 -4.072814   500\n",
       "6  16.755676    0.118415 -3.007113 -16.660734 -4.072567  1000\n",
       "7  43.037821    0.619533 -3.004186 -16.613942 -4.066401  2000"
      ]
     },
     "execution_count": 22,
     "metadata": {},
     "output_type": "execute_result"
    }
   ],
   "source": [
    "scores_df"
   ]
  },
  {
   "cell_type": "code",
   "execution_count": 23,
   "id": "handy-manchester",
   "metadata": {},
   "outputs": [],
   "source": [
    "scores_df[['MAE','MSE','RMSE']] = scores_df[['MAE','MSE','RMSE']].apply(lambda x : abs(x))"
   ]
  },
  {
   "cell_type": "code",
   "execution_count": 24,
   "id": "artificial-prompt",
   "metadata": {},
   "outputs": [
    {
     "data": {
      "text/html": [
       "<div>\n",
       "<style scoped>\n",
       "    .dataframe tbody tr th:only-of-type {\n",
       "        vertical-align: middle;\n",
       "    }\n",
       "\n",
       "    .dataframe tbody tr th {\n",
       "        vertical-align: top;\n",
       "    }\n",
       "\n",
       "    .dataframe thead th {\n",
       "        text-align: right;\n",
       "    }\n",
       "</style>\n",
       "<table border=\"1\" class=\"dataframe\">\n",
       "  <thead>\n",
       "    <tr style=\"text-align: right;\">\n",
       "      <th></th>\n",
       "      <th>Fit Time</th>\n",
       "      <th>Score Time</th>\n",
       "      <th>MAE</th>\n",
       "      <th>MSE</th>\n",
       "      <th>RMSE</th>\n",
       "      <th>Est</th>\n",
       "    </tr>\n",
       "  </thead>\n",
       "  <tbody>\n",
       "    <tr>\n",
       "      <th>0</th>\n",
       "      <td>0.097236</td>\n",
       "      <td>0.003048</td>\n",
       "      <td>3.317039</td>\n",
       "      <td>20.340872</td>\n",
       "      <td>4.499399</td>\n",
       "      <td>5</td>\n",
       "    </tr>\n",
       "    <tr>\n",
       "      <th>1</th>\n",
       "      <td>0.178291</td>\n",
       "      <td>0.003041</td>\n",
       "      <td>3.211471</td>\n",
       "      <td>18.382860</td>\n",
       "      <td>4.280919</td>\n",
       "      <td>10</td>\n",
       "    </tr>\n",
       "    <tr>\n",
       "      <th>2</th>\n",
       "      <td>0.454885</td>\n",
       "      <td>0.006628</td>\n",
       "      <td>3.080912</td>\n",
       "      <td>17.274078</td>\n",
       "      <td>4.144729</td>\n",
       "      <td>25</td>\n",
       "    </tr>\n",
       "    <tr>\n",
       "      <th>3</th>\n",
       "      <td>0.838230</td>\n",
       "      <td>0.007674</td>\n",
       "      <td>3.043685</td>\n",
       "      <td>17.218653</td>\n",
       "      <td>4.136652</td>\n",
       "      <td>50</td>\n",
       "    </tr>\n",
       "    <tr>\n",
       "      <th>4</th>\n",
       "      <td>1.653710</td>\n",
       "      <td>0.012765</td>\n",
       "      <td>3.011643</td>\n",
       "      <td>16.752449</td>\n",
       "      <td>4.085274</td>\n",
       "      <td>100</td>\n",
       "    </tr>\n",
       "    <tr>\n",
       "      <th>5</th>\n",
       "      <td>8.239485</td>\n",
       "      <td>0.059555</td>\n",
       "      <td>3.003494</td>\n",
       "      <td>16.665203</td>\n",
       "      <td>4.072814</td>\n",
       "      <td>500</td>\n",
       "    </tr>\n",
       "    <tr>\n",
       "      <th>6</th>\n",
       "      <td>16.755676</td>\n",
       "      <td>0.118415</td>\n",
       "      <td>3.007113</td>\n",
       "      <td>16.660734</td>\n",
       "      <td>4.072567</td>\n",
       "      <td>1000</td>\n",
       "    </tr>\n",
       "    <tr>\n",
       "      <th>7</th>\n",
       "      <td>43.037821</td>\n",
       "      <td>0.619533</td>\n",
       "      <td>3.004186</td>\n",
       "      <td>16.613942</td>\n",
       "      <td>4.066401</td>\n",
       "      <td>2000</td>\n",
       "    </tr>\n",
       "  </tbody>\n",
       "</table>\n",
       "</div>"
      ],
      "text/plain": [
       "    Fit Time  Score Time       MAE        MSE      RMSE   Est\n",
       "0   0.097236    0.003048  3.317039  20.340872  4.499399     5\n",
       "1   0.178291    0.003041  3.211471  18.382860  4.280919    10\n",
       "2   0.454885    0.006628  3.080912  17.274078  4.144729    25\n",
       "3   0.838230    0.007674  3.043685  17.218653  4.136652    50\n",
       "4   1.653710    0.012765  3.011643  16.752449  4.085274   100\n",
       "5   8.239485    0.059555  3.003494  16.665203  4.072814   500\n",
       "6  16.755676    0.118415  3.007113  16.660734  4.072567  1000\n",
       "7  43.037821    0.619533  3.004186  16.613942  4.066401  2000"
      ]
     },
     "execution_count": 24,
     "metadata": {},
     "output_type": "execute_result"
    }
   ],
   "source": [
    "scores_df\n",
    "# we go for 25 estimations. Note that from 25 -> 50 estimations the error metrics worsen"
   ]
  },
  {
   "cell_type": "code",
   "execution_count": 25,
   "id": "extended-growth",
   "metadata": {},
   "outputs": [],
   "source": [
    "scores_df.to_csv(f'./est-scores/{model_name}-est.csv')"
   ]
  },
  {
   "cell_type": "code",
   "execution_count": 26,
   "id": "hundred-profession",
   "metadata": {},
   "outputs": [],
   "source": [
    "pct_scores_df = scores_df.pct_change()"
   ]
  },
  {
   "cell_type": "code",
   "execution_count": 27,
   "id": "narrative-freight",
   "metadata": {},
   "outputs": [
    {
     "data": {
      "text/html": [
       "<div>\n",
       "<style scoped>\n",
       "    .dataframe tbody tr th:only-of-type {\n",
       "        vertical-align: middle;\n",
       "    }\n",
       "\n",
       "    .dataframe tbody tr th {\n",
       "        vertical-align: top;\n",
       "    }\n",
       "\n",
       "    .dataframe thead th {\n",
       "        text-align: right;\n",
       "    }\n",
       "</style>\n",
       "<table border=\"1\" class=\"dataframe\">\n",
       "  <thead>\n",
       "    <tr style=\"text-align: right;\">\n",
       "      <th></th>\n",
       "      <th>Fit Time</th>\n",
       "      <th>Score Time</th>\n",
       "      <th>MAE</th>\n",
       "      <th>MSE</th>\n",
       "      <th>RMSE</th>\n",
       "      <th>Est</th>\n",
       "    </tr>\n",
       "  </thead>\n",
       "  <tbody>\n",
       "    <tr>\n",
       "      <th>0</th>\n",
       "      <td>NaN</td>\n",
       "      <td>NaN</td>\n",
       "      <td>NaN</td>\n",
       "      <td>NaN</td>\n",
       "      <td>NaN</td>\n",
       "      <td>NaN</td>\n",
       "    </tr>\n",
       "    <tr>\n",
       "      <th>1</th>\n",
       "      <td>0.833596</td>\n",
       "      <td>-0.002315</td>\n",
       "      <td>-0.031826</td>\n",
       "      <td>-0.096260</td>\n",
       "      <td>-0.048558</td>\n",
       "      <td>1.0</td>\n",
       "    </tr>\n",
       "    <tr>\n",
       "      <th>2</th>\n",
       "      <td>1.551369</td>\n",
       "      <td>1.179233</td>\n",
       "      <td>-0.040654</td>\n",
       "      <td>-0.060316</td>\n",
       "      <td>-0.031813</td>\n",
       "      <td>1.5</td>\n",
       "    </tr>\n",
       "    <tr>\n",
       "      <th>3</th>\n",
       "      <td>0.842727</td>\n",
       "      <td>0.157887</td>\n",
       "      <td>-0.012083</td>\n",
       "      <td>-0.003209</td>\n",
       "      <td>-0.001949</td>\n",
       "      <td>1.0</td>\n",
       "    </tr>\n",
       "    <tr>\n",
       "      <th>4</th>\n",
       "      <td>0.972860</td>\n",
       "      <td>0.663352</td>\n",
       "      <td>-0.010527</td>\n",
       "      <td>-0.027076</td>\n",
       "      <td>-0.012420</td>\n",
       "      <td>1.0</td>\n",
       "    </tr>\n",
       "    <tr>\n",
       "      <th>5</th>\n",
       "      <td>3.982424</td>\n",
       "      <td>3.665631</td>\n",
       "      <td>-0.002706</td>\n",
       "      <td>-0.005208</td>\n",
       "      <td>-0.003050</td>\n",
       "      <td>4.0</td>\n",
       "    </tr>\n",
       "    <tr>\n",
       "      <th>6</th>\n",
       "      <td>1.033583</td>\n",
       "      <td>0.988322</td>\n",
       "      <td>0.001205</td>\n",
       "      <td>-0.000268</td>\n",
       "      <td>-0.000061</td>\n",
       "      <td>1.0</td>\n",
       "    </tr>\n",
       "    <tr>\n",
       "      <th>7</th>\n",
       "      <td>1.568552</td>\n",
       "      <td>4.231894</td>\n",
       "      <td>-0.000973</td>\n",
       "      <td>-0.002809</td>\n",
       "      <td>-0.001514</td>\n",
       "      <td>1.0</td>\n",
       "    </tr>\n",
       "  </tbody>\n",
       "</table>\n",
       "</div>"
      ],
      "text/plain": [
       "   Fit Time  Score Time       MAE       MSE      RMSE  Est\n",
       "0       NaN         NaN       NaN       NaN       NaN  NaN\n",
       "1  0.833596   -0.002315 -0.031826 -0.096260 -0.048558  1.0\n",
       "2  1.551369    1.179233 -0.040654 -0.060316 -0.031813  1.5\n",
       "3  0.842727    0.157887 -0.012083 -0.003209 -0.001949  1.0\n",
       "4  0.972860    0.663352 -0.010527 -0.027076 -0.012420  1.0\n",
       "5  3.982424    3.665631 -0.002706 -0.005208 -0.003050  4.0\n",
       "6  1.033583    0.988322  0.001205 -0.000268 -0.000061  1.0\n",
       "7  1.568552    4.231894 -0.000973 -0.002809 -0.001514  1.0"
      ]
     },
     "execution_count": 27,
     "metadata": {},
     "output_type": "execute_result"
    }
   ],
   "source": [
    "pct_scores_df"
   ]
  },
  {
   "cell_type": "code",
   "execution_count": 28,
   "id": "contained-strategy",
   "metadata": {},
   "outputs": [
    {
     "data": {
      "text/html": [
       "<style  type=\"text/css\" >\n",
       "#T_dccab058_5cf6_11eb_b1f6_60f81dd06e70row0_col0,#T_dccab058_5cf6_11eb_b1f6_60f81dd06e70row0_col1,#T_dccab058_5cf6_11eb_b1f6_60f81dd06e70row0_col2,#T_dccab058_5cf6_11eb_b1f6_60f81dd06e70row0_col3,#T_dccab058_5cf6_11eb_b1f6_60f81dd06e70row0_col4,#T_dccab058_5cf6_11eb_b1f6_60f81dd06e70row0_col5{\n",
       "            background-color:  #000000;\n",
       "            color:  #f1f1f1;\n",
       "        }#T_dccab058_5cf6_11eb_b1f6_60f81dd06e70row1_col0,#T_dccab058_5cf6_11eb_b1f6_60f81dd06e70row1_col1,#T_dccab058_5cf6_11eb_b1f6_60f81dd06e70row1_col3,#T_dccab058_5cf6_11eb_b1f6_60f81dd06e70row1_col4,#T_dccab058_5cf6_11eb_b1f6_60f81dd06e70row1_col5,#T_dccab058_5cf6_11eb_b1f6_60f81dd06e70row2_col2,#T_dccab058_5cf6_11eb_b1f6_60f81dd06e70row3_col0,#T_dccab058_5cf6_11eb_b1f6_60f81dd06e70row3_col5,#T_dccab058_5cf6_11eb_b1f6_60f81dd06e70row4_col5,#T_dccab058_5cf6_11eb_b1f6_60f81dd06e70row6_col5,#T_dccab058_5cf6_11eb_b1f6_60f81dd06e70row7_col5{\n",
       "            background-color:  #fff7fb;\n",
       "            color:  #000000;\n",
       "        }#T_dccab058_5cf6_11eb_b1f6_60f81dd06e70row1_col2{\n",
       "            background-color:  #d9d8ea;\n",
       "            color:  #000000;\n",
       "        }#T_dccab058_5cf6_11eb_b1f6_60f81dd06e70row2_col0{\n",
       "            background-color:  #d5d5e8;\n",
       "            color:  #000000;\n",
       "        }#T_dccab058_5cf6_11eb_b1f6_60f81dd06e70row2_col1{\n",
       "            background-color:  #c6cce3;\n",
       "            color:  #000000;\n",
       "        }#T_dccab058_5cf6_11eb_b1f6_60f81dd06e70row2_col3{\n",
       "            background-color:  #a7bddb;\n",
       "            color:  #000000;\n",
       "        }#T_dccab058_5cf6_11eb_b1f6_60f81dd06e70row2_col4{\n",
       "            background-color:  #b0c2de;\n",
       "            color:  #000000;\n",
       "        }#T_dccab058_5cf6_11eb_b1f6_60f81dd06e70row2_col5{\n",
       "            background-color:  #e3e0ee;\n",
       "            color:  #000000;\n",
       "        }#T_dccab058_5cf6_11eb_b1f6_60f81dd06e70row3_col1{\n",
       "            background-color:  #faf2f8;\n",
       "            color:  #000000;\n",
       "        }#T_dccab058_5cf6_11eb_b1f6_60f81dd06e70row3_col2{\n",
       "            background-color:  #2081b9;\n",
       "            color:  #000000;\n",
       "        }#T_dccab058_5cf6_11eb_b1f6_60f81dd06e70row3_col3,#T_dccab058_5cf6_11eb_b1f6_60f81dd06e70row7_col4{\n",
       "            background-color:  #023f64;\n",
       "            color:  #f1f1f1;\n",
       "        }#T_dccab058_5cf6_11eb_b1f6_60f81dd06e70row3_col4{\n",
       "            background-color:  #034267;\n",
       "            color:  #f1f1f1;\n",
       "        }#T_dccab058_5cf6_11eb_b1f6_60f81dd06e70row4_col0{\n",
       "            background-color:  #f8f1f8;\n",
       "            color:  #000000;\n",
       "        }#T_dccab058_5cf6_11eb_b1f6_60f81dd06e70row4_col1{\n",
       "            background-color:  #e5e1ef;\n",
       "            color:  #000000;\n",
       "        }#T_dccab058_5cf6_11eb_b1f6_60f81dd06e70row4_col2,#T_dccab058_5cf6_11eb_b1f6_60f81dd06e70row4_col3{\n",
       "            background-color:  #1077b4;\n",
       "            color:  #f1f1f1;\n",
       "        }#T_dccab058_5cf6_11eb_b1f6_60f81dd06e70row4_col4{\n",
       "            background-color:  #0771b1;\n",
       "            color:  #f1f1f1;\n",
       "        }#T_dccab058_5cf6_11eb_b1f6_60f81dd06e70row5_col0,#T_dccab058_5cf6_11eb_b1f6_60f81dd06e70row5_col5,#T_dccab058_5cf6_11eb_b1f6_60f81dd06e70row6_col2,#T_dccab058_5cf6_11eb_b1f6_60f81dd06e70row6_col3,#T_dccab058_5cf6_11eb_b1f6_60f81dd06e70row6_col4,#T_dccab058_5cf6_11eb_b1f6_60f81dd06e70row7_col1{\n",
       "            background-color:  #023858;\n",
       "            color:  #f1f1f1;\n",
       "        }#T_dccab058_5cf6_11eb_b1f6_60f81dd06e70row5_col1{\n",
       "            background-color:  #045b8f;\n",
       "            color:  #f1f1f1;\n",
       "        }#T_dccab058_5cf6_11eb_b1f6_60f81dd06e70row5_col2{\n",
       "            background-color:  #03517e;\n",
       "            color:  #f1f1f1;\n",
       "        }#T_dccab058_5cf6_11eb_b1f6_60f81dd06e70row5_col3,#T_dccab058_5cf6_11eb_b1f6_60f81dd06e70row7_col2{\n",
       "            background-color:  #03466e;\n",
       "            color:  #f1f1f1;\n",
       "        }#T_dccab058_5cf6_11eb_b1f6_60f81dd06e70row5_col4{\n",
       "            background-color:  #034871;\n",
       "            color:  #f1f1f1;\n",
       "        }#T_dccab058_5cf6_11eb_b1f6_60f81dd06e70row6_col0{\n",
       "            background-color:  #f5eff6;\n",
       "            color:  #000000;\n",
       "        }#T_dccab058_5cf6_11eb_b1f6_60f81dd06e70row6_col1,#T_dccab058_5cf6_11eb_b1f6_60f81dd06e70row7_col0{\n",
       "            background-color:  #d4d4e8;\n",
       "            color:  #000000;\n",
       "        }#T_dccab058_5cf6_11eb_b1f6_60f81dd06e70row7_col3{\n",
       "            background-color:  #023e62;\n",
       "            color:  #f1f1f1;\n",
       "        }</style><table id=\"T_dccab058_5cf6_11eb_b1f6_60f81dd06e70\" ><thead>    <tr>        <th class=\"blank level0\" ></th>        <th class=\"col_heading level0 col0\" >Fit Time</th>        <th class=\"col_heading level0 col1\" >Score Time</th>        <th class=\"col_heading level0 col2\" >MAE</th>        <th class=\"col_heading level0 col3\" >MSE</th>        <th class=\"col_heading level0 col4\" >RMSE</th>        <th class=\"col_heading level0 col5\" >Est</th>    </tr></thead><tbody>\n",
       "                <tr>\n",
       "                        <th id=\"T_dccab058_5cf6_11eb_b1f6_60f81dd06e70level0_row0\" class=\"row_heading level0 row0\" >0</th>\n",
       "                        <td id=\"T_dccab058_5cf6_11eb_b1f6_60f81dd06e70row0_col0\" class=\"data row0 col0\" >nan</td>\n",
       "                        <td id=\"T_dccab058_5cf6_11eb_b1f6_60f81dd06e70row0_col1\" class=\"data row0 col1\" >nan</td>\n",
       "                        <td id=\"T_dccab058_5cf6_11eb_b1f6_60f81dd06e70row0_col2\" class=\"data row0 col2\" >nan</td>\n",
       "                        <td id=\"T_dccab058_5cf6_11eb_b1f6_60f81dd06e70row0_col3\" class=\"data row0 col3\" >nan</td>\n",
       "                        <td id=\"T_dccab058_5cf6_11eb_b1f6_60f81dd06e70row0_col4\" class=\"data row0 col4\" >nan</td>\n",
       "                        <td id=\"T_dccab058_5cf6_11eb_b1f6_60f81dd06e70row0_col5\" class=\"data row0 col5\" >nan</td>\n",
       "            </tr>\n",
       "            <tr>\n",
       "                        <th id=\"T_dccab058_5cf6_11eb_b1f6_60f81dd06e70level0_row1\" class=\"row_heading level0 row1\" >1</th>\n",
       "                        <td id=\"T_dccab058_5cf6_11eb_b1f6_60f81dd06e70row1_col0\" class=\"data row1 col0\" >0.833596</td>\n",
       "                        <td id=\"T_dccab058_5cf6_11eb_b1f6_60f81dd06e70row1_col1\" class=\"data row1 col1\" >-0.002315</td>\n",
       "                        <td id=\"T_dccab058_5cf6_11eb_b1f6_60f81dd06e70row1_col2\" class=\"data row1 col2\" >-0.031826</td>\n",
       "                        <td id=\"T_dccab058_5cf6_11eb_b1f6_60f81dd06e70row1_col3\" class=\"data row1 col3\" >-0.096260</td>\n",
       "                        <td id=\"T_dccab058_5cf6_11eb_b1f6_60f81dd06e70row1_col4\" class=\"data row1 col4\" >-0.048558</td>\n",
       "                        <td id=\"T_dccab058_5cf6_11eb_b1f6_60f81dd06e70row1_col5\" class=\"data row1 col5\" >1.000000</td>\n",
       "            </tr>\n",
       "            <tr>\n",
       "                        <th id=\"T_dccab058_5cf6_11eb_b1f6_60f81dd06e70level0_row2\" class=\"row_heading level0 row2\" >2</th>\n",
       "                        <td id=\"T_dccab058_5cf6_11eb_b1f6_60f81dd06e70row2_col0\" class=\"data row2 col0\" >1.551369</td>\n",
       "                        <td id=\"T_dccab058_5cf6_11eb_b1f6_60f81dd06e70row2_col1\" class=\"data row2 col1\" >1.179233</td>\n",
       "                        <td id=\"T_dccab058_5cf6_11eb_b1f6_60f81dd06e70row2_col2\" class=\"data row2 col2\" >-0.040654</td>\n",
       "                        <td id=\"T_dccab058_5cf6_11eb_b1f6_60f81dd06e70row2_col3\" class=\"data row2 col3\" >-0.060316</td>\n",
       "                        <td id=\"T_dccab058_5cf6_11eb_b1f6_60f81dd06e70row2_col4\" class=\"data row2 col4\" >-0.031813</td>\n",
       "                        <td id=\"T_dccab058_5cf6_11eb_b1f6_60f81dd06e70row2_col5\" class=\"data row2 col5\" >1.500000</td>\n",
       "            </tr>\n",
       "            <tr>\n",
       "                        <th id=\"T_dccab058_5cf6_11eb_b1f6_60f81dd06e70level0_row3\" class=\"row_heading level0 row3\" >3</th>\n",
       "                        <td id=\"T_dccab058_5cf6_11eb_b1f6_60f81dd06e70row3_col0\" class=\"data row3 col0\" >0.842727</td>\n",
       "                        <td id=\"T_dccab058_5cf6_11eb_b1f6_60f81dd06e70row3_col1\" class=\"data row3 col1\" >0.157887</td>\n",
       "                        <td id=\"T_dccab058_5cf6_11eb_b1f6_60f81dd06e70row3_col2\" class=\"data row3 col2\" >-0.012083</td>\n",
       "                        <td id=\"T_dccab058_5cf6_11eb_b1f6_60f81dd06e70row3_col3\" class=\"data row3 col3\" >-0.003209</td>\n",
       "                        <td id=\"T_dccab058_5cf6_11eb_b1f6_60f81dd06e70row3_col4\" class=\"data row3 col4\" >-0.001949</td>\n",
       "                        <td id=\"T_dccab058_5cf6_11eb_b1f6_60f81dd06e70row3_col5\" class=\"data row3 col5\" >1.000000</td>\n",
       "            </tr>\n",
       "            <tr>\n",
       "                        <th id=\"T_dccab058_5cf6_11eb_b1f6_60f81dd06e70level0_row4\" class=\"row_heading level0 row4\" >4</th>\n",
       "                        <td id=\"T_dccab058_5cf6_11eb_b1f6_60f81dd06e70row4_col0\" class=\"data row4 col0\" >0.972860</td>\n",
       "                        <td id=\"T_dccab058_5cf6_11eb_b1f6_60f81dd06e70row4_col1\" class=\"data row4 col1\" >0.663352</td>\n",
       "                        <td id=\"T_dccab058_5cf6_11eb_b1f6_60f81dd06e70row4_col2\" class=\"data row4 col2\" >-0.010527</td>\n",
       "                        <td id=\"T_dccab058_5cf6_11eb_b1f6_60f81dd06e70row4_col3\" class=\"data row4 col3\" >-0.027076</td>\n",
       "                        <td id=\"T_dccab058_5cf6_11eb_b1f6_60f81dd06e70row4_col4\" class=\"data row4 col4\" >-0.012420</td>\n",
       "                        <td id=\"T_dccab058_5cf6_11eb_b1f6_60f81dd06e70row4_col5\" class=\"data row4 col5\" >1.000000</td>\n",
       "            </tr>\n",
       "            <tr>\n",
       "                        <th id=\"T_dccab058_5cf6_11eb_b1f6_60f81dd06e70level0_row5\" class=\"row_heading level0 row5\" >5</th>\n",
       "                        <td id=\"T_dccab058_5cf6_11eb_b1f6_60f81dd06e70row5_col0\" class=\"data row5 col0\" >3.982424</td>\n",
       "                        <td id=\"T_dccab058_5cf6_11eb_b1f6_60f81dd06e70row5_col1\" class=\"data row5 col1\" >3.665631</td>\n",
       "                        <td id=\"T_dccab058_5cf6_11eb_b1f6_60f81dd06e70row5_col2\" class=\"data row5 col2\" >-0.002706</td>\n",
       "                        <td id=\"T_dccab058_5cf6_11eb_b1f6_60f81dd06e70row5_col3\" class=\"data row5 col3\" >-0.005208</td>\n",
       "                        <td id=\"T_dccab058_5cf6_11eb_b1f6_60f81dd06e70row5_col4\" class=\"data row5 col4\" >-0.003050</td>\n",
       "                        <td id=\"T_dccab058_5cf6_11eb_b1f6_60f81dd06e70row5_col5\" class=\"data row5 col5\" >4.000000</td>\n",
       "            </tr>\n",
       "            <tr>\n",
       "                        <th id=\"T_dccab058_5cf6_11eb_b1f6_60f81dd06e70level0_row6\" class=\"row_heading level0 row6\" >6</th>\n",
       "                        <td id=\"T_dccab058_5cf6_11eb_b1f6_60f81dd06e70row6_col0\" class=\"data row6 col0\" >1.033583</td>\n",
       "                        <td id=\"T_dccab058_5cf6_11eb_b1f6_60f81dd06e70row6_col1\" class=\"data row6 col1\" >0.988322</td>\n",
       "                        <td id=\"T_dccab058_5cf6_11eb_b1f6_60f81dd06e70row6_col2\" class=\"data row6 col2\" >0.001205</td>\n",
       "                        <td id=\"T_dccab058_5cf6_11eb_b1f6_60f81dd06e70row6_col3\" class=\"data row6 col3\" >-0.000268</td>\n",
       "                        <td id=\"T_dccab058_5cf6_11eb_b1f6_60f81dd06e70row6_col4\" class=\"data row6 col4\" >-0.000061</td>\n",
       "                        <td id=\"T_dccab058_5cf6_11eb_b1f6_60f81dd06e70row6_col5\" class=\"data row6 col5\" >1.000000</td>\n",
       "            </tr>\n",
       "            <tr>\n",
       "                        <th id=\"T_dccab058_5cf6_11eb_b1f6_60f81dd06e70level0_row7\" class=\"row_heading level0 row7\" >7</th>\n",
       "                        <td id=\"T_dccab058_5cf6_11eb_b1f6_60f81dd06e70row7_col0\" class=\"data row7 col0\" >1.568552</td>\n",
       "                        <td id=\"T_dccab058_5cf6_11eb_b1f6_60f81dd06e70row7_col1\" class=\"data row7 col1\" >4.231894</td>\n",
       "                        <td id=\"T_dccab058_5cf6_11eb_b1f6_60f81dd06e70row7_col2\" class=\"data row7 col2\" >-0.000973</td>\n",
       "                        <td id=\"T_dccab058_5cf6_11eb_b1f6_60f81dd06e70row7_col3\" class=\"data row7 col3\" >-0.002809</td>\n",
       "                        <td id=\"T_dccab058_5cf6_11eb_b1f6_60f81dd06e70row7_col4\" class=\"data row7 col4\" >-0.001514</td>\n",
       "                        <td id=\"T_dccab058_5cf6_11eb_b1f6_60f81dd06e70row7_col5\" class=\"data row7 col5\" >1.000000</td>\n",
       "            </tr>\n",
       "    </tbody></table>"
      ],
      "text/plain": [
       "<pandas.io.formats.style.Styler at 0x7ff779b18cd0>"
      ]
     },
     "execution_count": 28,
     "metadata": {},
     "output_type": "execute_result"
    }
   ],
   "source": [
    "pct_scores_df.style.background_gradient() \n",
    "# we choose index 4, 100 Estimations <- \n",
    "    # Score time decrease 3->4 & Score time increase dramatically 4->5\n",
    "    # unsubstantial decrease MSE & RMSE 4->5 compared to 3->4"
   ]
  },
  {
   "cell_type": "markdown",
   "id": "plastic-spank",
   "metadata": {},
   "source": [
    "# Score Model"
   ]
  },
  {
   "cell_type": "code",
   "execution_count": 29,
   "id": "stupid-running",
   "metadata": {},
   "outputs": [
    {
     "data": {
      "text/plain": [
       "RandomForestRegressor()"
      ]
     },
     "execution_count": 29,
     "metadata": {},
     "output_type": "execute_result"
    }
   ],
   "source": [
    "# MODIFY!\n",
    "# adopt number of estimators from the previous section\n",
    "\n",
    "score_model = RandomForestRegressor(n_estimators=100)\n",
    "score_model"
   ]
  },
  {
   "cell_type": "code",
   "execution_count": 30,
   "id": "worth-syria",
   "metadata": {},
   "outputs": [],
   "source": [
    "from sklearn.model_selection import cross_validate\n",
    "\n",
    "scores = cross_validate(\n",
    "    score_model, \n",
    "    X_train, \n",
    "    y_train,\n",
    "    scoring=[\n",
    "        'neg_mean_absolute_error',\n",
    "        'neg_mean_squared_error',\n",
    "        'neg_root_mean_squared_error'\n",
    "    ],\n",
    "    cv=10\n",
    ")"
   ]
  },
  {
   "cell_type": "code",
   "execution_count": 31,
   "id": "separated-dublin",
   "metadata": {},
   "outputs": [],
   "source": [
    "scores = pd.DataFrame(scores)"
   ]
  },
  {
   "cell_type": "code",
   "execution_count": 32,
   "id": "british-given",
   "metadata": {},
   "outputs": [
    {
     "data": {
      "text/html": [
       "<div>\n",
       "<style scoped>\n",
       "    .dataframe tbody tr th:only-of-type {\n",
       "        vertical-align: middle;\n",
       "    }\n",
       "\n",
       "    .dataframe tbody tr th {\n",
       "        vertical-align: top;\n",
       "    }\n",
       "\n",
       "    .dataframe thead th {\n",
       "        text-align: right;\n",
       "    }\n",
       "</style>\n",
       "<table border=\"1\" class=\"dataframe\">\n",
       "  <thead>\n",
       "    <tr style=\"text-align: right;\">\n",
       "      <th></th>\n",
       "      <th>fit_time</th>\n",
       "      <th>score_time</th>\n",
       "      <th>test_neg_mean_absolute_error</th>\n",
       "      <th>test_neg_mean_squared_error</th>\n",
       "      <th>test_neg_root_mean_squared_error</th>\n",
       "    </tr>\n",
       "  </thead>\n",
       "  <tbody>\n",
       "    <tr>\n",
       "      <th>0</th>\n",
       "      <td>3.594694</td>\n",
       "      <td>0.020539</td>\n",
       "      <td>-3.025981</td>\n",
       "      <td>-16.937375</td>\n",
       "      <td>-4.115504</td>\n",
       "    </tr>\n",
       "    <tr>\n",
       "      <th>1</th>\n",
       "      <td>3.694014</td>\n",
       "      <td>0.126479</td>\n",
       "      <td>-2.930191</td>\n",
       "      <td>-16.270971</td>\n",
       "      <td>-4.033729</td>\n",
       "    </tr>\n",
       "    <tr>\n",
       "      <th>2</th>\n",
       "      <td>2.699417</td>\n",
       "      <td>0.018463</td>\n",
       "      <td>-3.295049</td>\n",
       "      <td>-19.647355</td>\n",
       "      <td>-4.432534</td>\n",
       "    </tr>\n",
       "    <tr>\n",
       "      <th>3</th>\n",
       "      <td>3.093568</td>\n",
       "      <td>0.021622</td>\n",
       "      <td>-3.100217</td>\n",
       "      <td>-19.043167</td>\n",
       "      <td>-4.363848</td>\n",
       "    </tr>\n",
       "    <tr>\n",
       "      <th>4</th>\n",
       "      <td>2.459038</td>\n",
       "      <td>0.019697</td>\n",
       "      <td>-2.805757</td>\n",
       "      <td>-14.579730</td>\n",
       "      <td>-3.818341</td>\n",
       "    </tr>\n",
       "    <tr>\n",
       "      <th>5</th>\n",
       "      <td>2.233301</td>\n",
       "      <td>0.018906</td>\n",
       "      <td>-3.304750</td>\n",
       "      <td>-18.002667</td>\n",
       "      <td>-4.242955</td>\n",
       "    </tr>\n",
       "    <tr>\n",
       "      <th>6</th>\n",
       "      <td>2.255771</td>\n",
       "      <td>0.019500</td>\n",
       "      <td>-3.415751</td>\n",
       "      <td>-21.504969</td>\n",
       "      <td>-4.637345</td>\n",
       "    </tr>\n",
       "    <tr>\n",
       "      <th>7</th>\n",
       "      <td>3.619218</td>\n",
       "      <td>0.030275</td>\n",
       "      <td>-3.001526</td>\n",
       "      <td>-15.556509</td>\n",
       "      <td>-3.944174</td>\n",
       "    </tr>\n",
       "    <tr>\n",
       "      <th>8</th>\n",
       "      <td>2.947020</td>\n",
       "      <td>0.024195</td>\n",
       "      <td>-2.770823</td>\n",
       "      <td>-13.679615</td>\n",
       "      <td>-3.698596</td>\n",
       "    </tr>\n",
       "    <tr>\n",
       "      <th>9</th>\n",
       "      <td>2.666352</td>\n",
       "      <td>0.021942</td>\n",
       "      <td>-2.763363</td>\n",
       "      <td>-14.041958</td>\n",
       "      <td>-3.747260</td>\n",
       "    </tr>\n",
       "  </tbody>\n",
       "</table>\n",
       "</div>"
      ],
      "text/plain": [
       "   fit_time  score_time  test_neg_mean_absolute_error  \\\n",
       "0  3.594694    0.020539                     -3.025981   \n",
       "1  3.694014    0.126479                     -2.930191   \n",
       "2  2.699417    0.018463                     -3.295049   \n",
       "3  3.093568    0.021622                     -3.100217   \n",
       "4  2.459038    0.019697                     -2.805757   \n",
       "5  2.233301    0.018906                     -3.304750   \n",
       "6  2.255771    0.019500                     -3.415751   \n",
       "7  3.619218    0.030275                     -3.001526   \n",
       "8  2.947020    0.024195                     -2.770823   \n",
       "9  2.666352    0.021942                     -2.763363   \n",
       "\n",
       "   test_neg_mean_squared_error  test_neg_root_mean_squared_error  \n",
       "0                   -16.937375                         -4.115504  \n",
       "1                   -16.270971                         -4.033729  \n",
       "2                   -19.647355                         -4.432534  \n",
       "3                   -19.043167                         -4.363848  \n",
       "4                   -14.579730                         -3.818341  \n",
       "5                   -18.002667                         -4.242955  \n",
       "6                   -21.504969                         -4.637345  \n",
       "7                   -15.556509                         -3.944174  \n",
       "8                   -13.679615                         -3.698596  \n",
       "9                   -14.041958                         -3.747260  "
      ]
     },
     "execution_count": 32,
     "metadata": {},
     "output_type": "execute_result"
    }
   ],
   "source": [
    "scores"
   ]
  },
  {
   "cell_type": "code",
   "execution_count": 33,
   "id": "fitting-response",
   "metadata": {},
   "outputs": [],
   "source": [
    "mean_scores = scores.mean()"
   ]
  },
  {
   "cell_type": "code",
   "execution_count": 34,
   "id": "pleasant-copper",
   "metadata": {},
   "outputs": [
    {
     "data": {
      "text/plain": [
       "fit_time                             2.926239\n",
       "score_time                           0.032162\n",
       "test_neg_mean_absolute_error        -3.041341\n",
       "test_neg_mean_squared_error        -16.926432\n",
       "test_neg_root_mean_squared_error    -4.103429\n",
       "dtype: float64"
      ]
     },
     "execution_count": 34,
     "metadata": {},
     "output_type": "execute_result"
    }
   ],
   "source": [
    "mean_scores"
   ]
  },
  {
   "cell_type": "markdown",
   "id": "serious-public",
   "metadata": {},
   "source": [
    "# Export Model Scores"
   ]
  },
  {
   "cell_type": "code",
   "execution_count": 35,
   "id": "constant-midwest",
   "metadata": {},
   "outputs": [],
   "source": [
    "mean_scores = mean_scores.rename(f'{model_name}')"
   ]
  },
  {
   "cell_type": "code",
   "execution_count": 36,
   "id": "express-dallas",
   "metadata": {},
   "outputs": [],
   "source": [
    "mean_scores[[2,3,4]] = mean_scores[[2,3,4]].apply(abs)"
   ]
  },
  {
   "cell_type": "code",
   "execution_count": 37,
   "id": "familiar-glossary",
   "metadata": {},
   "outputs": [],
   "source": [
    "# mean_scores"
   ]
  },
  {
   "cell_type": "code",
   "execution_count": 38,
   "id": "convertible-player",
   "metadata": {},
   "outputs": [],
   "source": [
    "mean_scores = mean_scores.rename({\n",
    "    'fit_time':'Fit Time',\n",
    "    'score_time':'Score Time',\n",
    "    'test_neg_mean_absolute_error':'MAE',\n",
    "    'test_neg_mean_squared_error':'MSE',\n",
    "    'test_neg_root_mean_squared_error':'RMSE'\n",
    "})"
   ]
  },
  {
   "cell_type": "code",
   "execution_count": 39,
   "id": "static-seller",
   "metadata": {},
   "outputs": [
    {
     "data": {
      "text/plain": [
       "Fit Time       2.926239\n",
       "Score Time     0.032162\n",
       "MAE            3.041341\n",
       "MSE           16.926432\n",
       "RMSE           4.103429\n",
       "Name: rf-no, dtype: float64"
      ]
     },
     "execution_count": 39,
     "metadata": {},
     "output_type": "execute_result"
    }
   ],
   "source": [
    "mean_scores"
   ]
  },
  {
   "cell_type": "code",
   "execution_count": 40,
   "id": "established-scenario",
   "metadata": {},
   "outputs": [],
   "source": [
    "mean_scores['STD FT'] = scores.fit_time.std()\n",
    "mean_scores['STD ST'] = scores.score_time.std()\n",
    "mean_scores['STD MAE'] = scores.test_neg_mean_absolute_error.std()\n",
    "mean_scores['STD MSE'] = scores.test_neg_mean_squared_error.std()\n",
    "mean_scores['STD RMSE'] = scores.test_neg_root_mean_squared_error.std()"
   ]
  },
  {
   "cell_type": "code",
   "execution_count": 41,
   "id": "amino-punishment",
   "metadata": {},
   "outputs": [
    {
     "data": {
      "text/plain": [
       "Fit Time       2.926239\n",
       "Score Time     0.032162\n",
       "MAE            3.041341\n",
       "MSE           16.926432\n",
       "RMSE           4.103429\n",
       "STD FT         0.558959\n",
       "STD ST         0.033321\n",
       "STD MAE        0.235119\n",
       "STD MSE        2.596595\n",
       "STD RMSE       0.313236\n",
       "Name: rf-no, dtype: float64"
      ]
     },
     "execution_count": 41,
     "metadata": {},
     "output_type": "execute_result"
    }
   ],
   "source": [
    "mean_scores"
   ]
  },
  {
   "cell_type": "code",
   "execution_count": 42,
   "id": "different-ireland",
   "metadata": {},
   "outputs": [],
   "source": [
    "mean_scores.to_csv(f'./scores/{model_name}.csv')"
   ]
  },
  {
   "cell_type": "markdown",
   "id": "persistent-player",
   "metadata": {},
   "source": [
    "# Holdout Test"
   ]
  },
  {
   "cell_type": "code",
   "execution_count": 43,
   "id": "improving-adaptation",
   "metadata": {},
   "outputs": [
    {
     "data": {
      "text/plain": [
       "RandomForestRegressor()"
      ]
     },
     "execution_count": 43,
     "metadata": {},
     "output_type": "execute_result"
    }
   ],
   "source": [
    "score_model.fit(X_train,y_train)"
   ]
  },
  {
   "cell_type": "code",
   "execution_count": 44,
   "id": "major-january",
   "metadata": {},
   "outputs": [],
   "source": [
    "y_holdout = score_model.predict(X_test)"
   ]
  },
  {
   "cell_type": "code",
   "execution_count": 45,
   "id": "boxed-cassette",
   "metadata": {},
   "outputs": [
    {
     "data": {
      "text/plain": [
       "<AxesSubplot:ylabel='Count'>"
      ]
     },
     "execution_count": 45,
     "metadata": {},
     "output_type": "execute_result"
    },
    {
     "data": {
      "image/png": "[encoded data removed]",
      "text/plain": [
       "<Figure size 432x288 with 1 Axes>"
      ]
     },
     "metadata": {
      "needs_background": "light"
     },
     "output_type": "display_data"
    }
   ],
   "source": [
    "sns.histplot(y_holdout,bins=40,kde=True)"
   ]
  },
  {
   "cell_type": "code",
   "execution_count": 46,
   "id": "educational-portugal",
   "metadata": {},
   "outputs": [
    {
     "data": {
      "text/plain": [
       "<matplotlib.legend.Legend at 0x7ff7646bbe80>"
      ]
     },
     "execution_count": 46,
     "metadata": {},
     "output_type": "execute_result"
    },
    {
     "data": {
      "image/png": "[encoded data removed]",
      "text/plain": [
       "<Figure size 432x288 with 1 Axes>"
      ]
     },
     "metadata": {
      "needs_background": "light"
     },
     "output_type": "display_data"
    }
   ],
   "source": [
    "fig,ax = plt.subplots()\n",
    "\n",
    "sns.kdeplot(y_test, ax=ax, shade=True, label='Observations')\n",
    "sns.kdeplot(y_holdout, ax=ax,shade=True,label='Predictions')\n",
    "\n",
    "ax.legend(loc='best')"
   ]
  },
  {
   "cell_type": "code",
   "execution_count": 47,
   "id": "alien-carry",
   "metadata": {},
   "outputs": [
    {
     "data": {
      "text/plain": [
       "<matplotlib.legend.Legend at 0x7ff7649536a0>"
      ]
     },
     "execution_count": 47,
     "metadata": {},
     "output_type": "execute_result"
    },
    {
     "data": {
      "image/png": "[encoded data removed]",
      "text/plain": [
       "<Figure size 432x288 with 1 Axes>"
      ]
     },
     "metadata": {
      "needs_background": "light"
     },
     "output_type": "display_data"
    }
   ],
   "source": [
    "fig,ax = plt.subplots()\n",
    "\n",
    "sns.ecdfplot(y_test, ax=ax, label='Observations')\n",
    "sns.ecdfplot(y_holdout, ax=ax,label='Predictions')\n",
    "plt.axvline(x=y_test.mean(),color='grey',linestyle='--')\n",
    "\n",
    "ax.legend(loc='best')"
   ]
  },
  {
   "cell_type": "code",
   "execution_count": 48,
   "id": "rental-family",
   "metadata": {},
   "outputs": [],
   "source": [
    "from sklearn.metrics import mean_absolute_error, mean_squared_error\n",
    "\n",
    "mae = mean_absolute_error(y_test,y_holdout)\n",
    "mse = mean_squared_error(y_test,y_holdout)\n",
    "rmse = np.sqrt(mse)"
   ]
  },
  {
   "cell_type": "code",
   "execution_count": 49,
   "id": "fourth-mixture",
   "metadata": {},
   "outputs": [
    {
     "data": {
      "text/html": [
       "<div>\n",
       "<style scoped>\n",
       "    .dataframe tbody tr th:only-of-type {\n",
       "        vertical-align: middle;\n",
       "    }\n",
       "\n",
       "    .dataframe tbody tr th {\n",
       "        vertical-align: top;\n",
       "    }\n",
       "\n",
       "    .dataframe thead th {\n",
       "        text-align: right;\n",
       "    }\n",
       "</style>\n",
       "<table border=\"1\" class=\"dataframe\">\n",
       "  <thead>\n",
       "    <tr style=\"text-align: right;\">\n",
       "      <th></th>\n",
       "      <th>rf-no</th>\n",
       "    </tr>\n",
       "  </thead>\n",
       "  <tbody>\n",
       "    <tr>\n",
       "      <th>MAE</th>\n",
       "      <td>3.045528</td>\n",
       "    </tr>\n",
       "    <tr>\n",
       "      <th>MSE</th>\n",
       "      <td>17.464225</td>\n",
       "    </tr>\n",
       "    <tr>\n",
       "      <th>RMSE</th>\n",
       "      <td>4.179022</td>\n",
       "    </tr>\n",
       "  </tbody>\n",
       "</table>\n",
       "</div>"
      ],
      "text/plain": [
       "          rf-no\n",
       "MAE    3.045528\n",
       "MSE   17.464225\n",
       "RMSE   4.179022"
      ]
     },
     "execution_count": 49,
     "metadata": {},
     "output_type": "execute_result"
    }
   ],
   "source": [
    "err_df = pd.DataFrame(data=[mae, mse, rmse],index=['MAE','MSE','RMSE'],columns=[f'{model_name}'])\n",
    "err_df"
   ]
  },
  {
   "cell_type": "code",
   "execution_count": 50,
   "id": "duplicate-dakota",
   "metadata": {},
   "outputs": [],
   "source": [
    "err_df.to_csv(f'./holdout-test/{model_name}.csv')\n",
    "# mean_scores.to_csv(f'./opt-model-err/{model_name}-err.csv')"
   ]
  },
  {
   "cell_type": "code",
   "execution_count": 51,
   "id": "satisfied-found",
   "metadata": {},
   "outputs": [
    {
     "data": {
      "text/plain": [
       "mean    -0.382214\n",
       "std      4.172055\n",
       "min    -13.816107\n",
       "25%     -2.731151\n",
       "50%     -0.747411\n",
       "75%      2.026176\n",
       "max     15.122261\n",
       "Name: throughput, dtype: float64"
      ]
     },
     "execution_count": 51,
     "metadata": {},
     "output_type": "execute_result"
    }
   ],
   "source": [
    "res = y_test - y_holdout\n",
    "res.describe().drop('count')"
   ]
  },
  {
   "cell_type": "code",
   "execution_count": 52,
   "id": "expressed-label",
   "metadata": {},
   "outputs": [
    {
     "data": {
      "text/plain": [
       "<AxesSubplot:xlabel='throughput', ylabel='Count'>"
      ]
     },
     "execution_count": 52,
     "metadata": {},
     "output_type": "execute_result"
    },
    {
     "data": {
      "image/png": "[encoded data removed]",
      "text/plain": [
       "<Figure size 432x288 with 1 Axes>"
      ]
     },
     "metadata": {
      "needs_background": "light"
     },
     "output_type": "display_data"
    }
   ],
   "source": [
    "sns.histplot(data=res, kde=True,bins=40)"
   ]
  },
  {
   "cell_type": "code",
   "execution_count": 53,
   "id": "secure-bubble",
   "metadata": {},
   "outputs": [
    {
     "data": {
      "text/plain": [
       "<matplotlib.lines.Line2D at 0x7ff764bc84c0>"
      ]
     },
     "execution_count": 53,
     "metadata": {},
     "output_type": "execute_result"
    },
    {
     "data": {
      "image/png": "[encoded data removed]",
      "text/plain": [
       "<Figure size 432x288 with 1 Axes>"
      ]
     },
     "metadata": {
      "needs_background": "light"
     },
     "output_type": "display_data"
    }
   ],
   "source": [
    "ax = sns.scatterplot(x=y_test, y=res)\n",
    "ax.set(ylabel='Residuals', xlabel='Test Label')\n",
    "plt.axhline(y=0,color='red',linestyle='--')\n",
    "\n",
    "# there should be no clear pattern / curve in the plot\n",
    "# we see a positive correlation between Test Label and Residuals -> later models should avoid this pattern"
   ]
  },
  {
   "cell_type": "code",
   "execution_count": 54,
   "id": "built-formation",
   "metadata": {},
   "outputs": [
    {
     "data": {
      "image/png": "[encoded data removed]",
      "text/plain": [
       "<Figure size 432x288 with 1 Axes>"
      ]
     },
     "metadata": {
      "needs_background": "light"
     },
     "output_type": "display_data"
    }
   ],
   "source": [
    "import scipy as sp\n",
    "\n",
    "fig, ax = plt.subplots()\n",
    "sp.stats.probplot(res,plot=ax);"
   ]
  },
  {
   "cell_type": "markdown",
   "id": "front-office",
   "metadata": {},
   "source": [
    "# Export Optimized Model"
   ]
  },
  {
   "cell_type": "code",
   "execution_count": 55,
   "id": "modular-aging",
   "metadata": {},
   "outputs": [
    {
     "data": {
      "text/plain": [
       "RobustScaler()"
      ]
     },
     "execution_count": 55,
     "metadata": {},
     "output_type": "execute_result"
    }
   ],
   "source": [
    "from sklearn.preprocessing import RobustScaler\n",
    "scaler = RobustScaler()\n",
    "scaler.fit(X)"
   ]
  },
  {
   "cell_type": "code",
   "execution_count": 56,
   "id": "processed-equity",
   "metadata": {},
   "outputs": [
    {
     "data": {
      "text/plain": [
       "RandomForestRegressor()"
      ]
     },
     "execution_count": 56,
     "metadata": {},
     "output_type": "execute_result"
    }
   ],
   "source": [
    "# MODIFY! \n",
    "X = scaler.transform(X)\n",
    "\n",
    "op_model = score_model\n",
    "\n",
    "op_model.fit(X,y)"
   ]
  },
  {
   "cell_type": "code",
   "execution_count": 57,
   "id": "interim-athletics",
   "metadata": {},
   "outputs": [],
   "source": [
    "y_pred = op_model.predict(X)"
   ]
  },
  {
   "cell_type": "code",
   "execution_count": 58,
   "id": "starting-yacht",
   "metadata": {},
   "outputs": [
    {
     "data": {
      "text/plain": [
       "<AxesSubplot:ylabel='Count'>"
      ]
     },
     "execution_count": 58,
     "metadata": {},
     "output_type": "execute_result"
    },
    {
     "data": {
      "image/png": "[encoded data removed]",
      "text/plain": [
       "<Figure size 432x288 with 1 Axes>"
      ]
     },
     "metadata": {
      "needs_background": "light"
     },
     "output_type": "display_data"
    }
   ],
   "source": [
    "sns.histplot(y_pred,bins=40,kde=True)"
   ]
  },
  {
   "cell_type": "code",
   "execution_count": 59,
   "id": "smoking-orchestra",
   "metadata": {},
   "outputs": [
    {
     "data": {
      "text/plain": [
       "<matplotlib.legend.Legend at 0x7ff764f40040>"
      ]
     },
     "execution_count": 59,
     "metadata": {},
     "output_type": "execute_result"
    },
    {
     "data": {
      "image/png": "[encoded data removed]",
      "text/plain": [
       "<Figure size 432x288 with 1 Axes>"
      ]
     },
     "metadata": {
      "needs_background": "light"
     },
     "output_type": "display_data"
    }
   ],
   "source": [
    "fig,ax = plt.subplots()\n",
    "\n",
    "sns.kdeplot(y, ax=ax, shade=True, label='Observations')\n",
    "sns.kdeplot(y_pred, ax=ax,shade=True,label='Predictions')\n",
    "\n",
    "ax.legend(loc='best')"
   ]
  },
  {
   "cell_type": "code",
   "execution_count": 60,
   "id": "beginning-olympus",
   "metadata": {},
   "outputs": [
    {
     "data": {
      "text/plain": [
       "<matplotlib.legend.Legend at 0x7ff76504d7c0>"
      ]
     },
     "execution_count": 60,
     "metadata": {},
     "output_type": "execute_result"
    },
    {
     "data": {
      "image/png": "[encoded data removed]",
      "text/plain": [
       "<Figure size 432x288 with 1 Axes>"
      ]
     },
     "metadata": {
      "needs_background": "light"
     },
     "output_type": "display_data"
    }
   ],
   "source": [
    "fig,ax = plt.subplots()\n",
    "\n",
    "sns.ecdfplot(y, ax=ax, label='Observations')\n",
    "sns.ecdfplot(y_pred, ax=ax,label='Predictions')\n",
    "plt.axvline(x=y.mean(),color='grey',linestyle='--')\n",
    "\n",
    "ax.legend(loc='best')"
   ]
  },
  {
   "cell_type": "code",
   "execution_count": 61,
   "id": "outdoor-raleigh",
   "metadata": {},
   "outputs": [],
   "source": [
    "mae = mean_absolute_error(y,y_pred)\n",
    "mse = mean_squared_error(y,y_pred)\n",
    "rmse = np.sqrt(mse)"
   ]
  },
  {
   "cell_type": "code",
   "execution_count": 62,
   "id": "covered-ownership",
   "metadata": {},
   "outputs": [
    {
     "data": {
      "text/html": [
       "<div>\n",
       "<style scoped>\n",
       "    .dataframe tbody tr th:only-of-type {\n",
       "        vertical-align: middle;\n",
       "    }\n",
       "\n",
       "    .dataframe tbody tr th {\n",
       "        vertical-align: top;\n",
       "    }\n",
       "\n",
       "    .dataframe thead th {\n",
       "        text-align: right;\n",
       "    }\n",
       "</style>\n",
       "<table border=\"1\" class=\"dataframe\">\n",
       "  <thead>\n",
       "    <tr style=\"text-align: right;\">\n",
       "      <th></th>\n",
       "      <th>rf-no</th>\n",
       "    </tr>\n",
       "  </thead>\n",
       "  <tbody>\n",
       "    <tr>\n",
       "      <th>MAE</th>\n",
       "      <td>1.122994</td>\n",
       "    </tr>\n",
       "    <tr>\n",
       "      <th>MSE</th>\n",
       "      <td>2.392761</td>\n",
       "    </tr>\n",
       "    <tr>\n",
       "      <th>RMSE</th>\n",
       "      <td>1.546855</td>\n",
       "    </tr>\n",
       "  </tbody>\n",
       "</table>\n",
       "</div>"
      ],
      "text/plain": [
       "         rf-no\n",
       "MAE   1.122994\n",
       "MSE   2.392761\n",
       "RMSE  1.546855"
      ]
     },
     "execution_count": 62,
     "metadata": {},
     "output_type": "execute_result"
    }
   ],
   "source": [
    "err_df = pd.DataFrame(data=[mae, mse, rmse],index=['MAE','MSE','RMSE'],columns=[f'{model_name}'])\n",
    "err_df"
   ]
  },
  {
   "cell_type": "code",
   "execution_count": 63,
   "id": "handmade-mining",
   "metadata": {},
   "outputs": [],
   "source": [
    "err_df.to_csv(f'./model-err/{model_name}.csv')\n",
    "# mean_scores.to_csv(f'./opt-model-err/{model_name}-err.csv')"
   ]
  },
  {
   "cell_type": "code",
   "execution_count": 64,
   "id": "integral-testament",
   "metadata": {},
   "outputs": [
    {
     "data": {
      "text/plain": [
       "['./opt-models/rf-no.joblib']"
      ]
     },
     "execution_count": 64,
     "metadata": {},
     "output_type": "execute_result"
    }
   ],
   "source": [
    "from joblib import dump, load\n",
    "dump(op_model, f'./opt-models/{model_name}.joblib')"
   ]
  },
  {
   "cell_type": "code",
   "execution_count": 65,
   "id": "bearing-groove",
   "metadata": {},
   "outputs": [
    {
     "data": {
      "text/plain": [
       "mean   -0.036495\n",
       "std     1.546816\n",
       "min    -9.232075\n",
       "25%    -0.874220\n",
       "50%    -0.085099\n",
       "75%     0.768447\n",
       "max     6.951820\n",
       "Name: throughput, dtype: float64"
      ]
     },
     "execution_count": 65,
     "metadata": {},
     "output_type": "execute_result"
    }
   ],
   "source": [
    "res = y - y_pred\n",
    "res.describe().drop('count')"
   ]
  },
  {
   "cell_type": "code",
   "execution_count": 66,
   "id": "effective-victorian",
   "metadata": {},
   "outputs": [
    {
     "data": {
      "text/plain": [
       "<AxesSubplot:xlabel='throughput', ylabel='Count'>"
      ]
     },
     "execution_count": 66,
     "metadata": {},
     "output_type": "execute_result"
    },
    {
     "data": {
      "image/png": "[encoded data removed]",
      "text/plain": [
       "<Figure size 432x288 with 1 Axes>"
      ]
     },
     "metadata": {
      "needs_background": "light"
     },
     "output_type": "display_data"
    }
   ],
   "source": [
    "sns.histplot(data=res, kde=True,bins=40)"
   ]
  },
  {
   "cell_type": "code",
   "execution_count": 67,
   "id": "incorporated-retrieval",
   "metadata": {},
   "outputs": [
    {
     "data": {
      "text/plain": [
       "<matplotlib.lines.Line2D at 0x7ff764b22f70>"
      ]
     },
     "execution_count": 67,
     "metadata": {},
     "output_type": "execute_result"
    },
    {
     "data": {
      "image/png": "[encoded data removed]",
      "text/plain": [
       "<Figure size 432x288 with 1 Axes>"
      ]
     },
     "metadata": {
      "needs_background": "light"
     },
     "output_type": "display_data"
    }
   ],
   "source": [
    "ax = sns.scatterplot(x=y_test, y=res)\n",
    "ax.set(ylabel='Residuals', xlabel='Test Label')\n",
    "plt.axhline(y=0,color='red',linestyle='--')\n",
    "\n",
    "# there should be no clear pattern / curve in the plot\n",
    "# we see a positive correlation between Test Label and Residuals -> later models should avoid this pattern"
   ]
  },
  {
   "cell_type": "code",
   "execution_count": 68,
   "id": "prerequisite-secondary",
   "metadata": {},
   "outputs": [
    {
     "data": {
      "image/png": "[encoded data removed]",
      "text/plain": [
       "<Figure size 432x288 with 1 Axes>"
      ]
     },
     "metadata": {
      "needs_background": "light"
     },
     "output_type": "display_data"
    }
   ],
   "source": [
    "import scipy as sp\n",
    "\n",
    "fig, ax = plt.subplots()\n",
    "sp.stats.probplot(res,plot=ax);"
   ]
  },
  {
   "cell_type": "markdown",
   "id": "characteristic-niagara",
   "metadata": {},
   "source": [
    "DONE!"
   ]
  },
  {
   "cell_type": "code",
   "execution_count": null,
   "id": "massive-pharmaceutical",
   "metadata": {},
   "outputs": [],
   "source": []
  }
 ],
 "metadata": {
  "kernelspec": {
   "display_name": "Python 3",
   "language": "python",
   "name": "python3"
  },
  "language_info": {
   "codemirror_mode": {
    "name": "ipython",
    "version": 3
   },
   "file_extension": ".py",
   "mimetype": "text/x-python",
   "name": "python",
   "nbconvert_exporter": "python",
   "pygments_lexer": "ipython3",
   "version": "3.8.6"
  }
 },
 "nbformat": 4,
 "nbformat_minor": 5
}
