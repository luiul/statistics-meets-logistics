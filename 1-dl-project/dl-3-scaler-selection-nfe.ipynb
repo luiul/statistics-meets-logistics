{
 "cells": [
  {
   "cell_type": "code",
   "execution_count": 1,
   "metadata": {},
   "outputs": [],
   "source": [
    "import numpy as np\n",
    "import pandas as pd\n",
    "import matplotlib.pyplot as plt\n",
    "import seaborn as sns\n",
    "\n",
    "df = pd.read_csv('./data/dl-nfe-ns.csv')\n",
    "\n",
    "X = df.drop('throughput',axis=1)\n",
    "\n",
    "y = df['throughput']"
   ]
  },
  {
   "cell_type": "markdown",
   "metadata": {},
   "source": [
    "# Scaler Selection\n",
    "---\n",
    "In the last Notebook we examined the Features and their distributions. We concluded non of the Features are normally distributed and the Features have a variaty of scales and units.\n",
    "\n",
    "In this section we settle on the Scaler that yields the best performance in a Linear Regression Model, i.e., the Scaler yields the smallest error metric (MAE, MSE, and RMSE). This will be the baseline model. \n",
    "\n",
    "Note: when fitting data to the Scaler, it's important to fit ONLY on the train data set to avoid data leakage. "
   ]
  },
  {
   "cell_type": "code",
   "execution_count": 2,
   "metadata": {},
   "outputs": [],
   "source": [
    "from sklearn.model_selection import train_test_split\n",
    "X_train, X_test, y_train, y_test = train_test_split(X, y, test_size=0.33, random_state=42)\n",
    "\n",
    "from sklearn import preprocessing\n",
    "mm_scaler = preprocessing.MinMaxScaler()\n",
    "mm_scaler.fit(X_train)\n",
    "\n",
    "rb_scaler = preprocessing.RobustScaler()\n",
    "rb_scaler.fit(X_train)\n",
    "\n",
    "st_scaler = preprocessing.StandardScaler()\n",
    "st_scaler.fit(X_train)\n",
    "\n",
    "scalers = [mm_scaler, rb_scaler, st_scaler]"
   ]
  },
  {
   "cell_type": "code",
   "execution_count": 3,
   "metadata": {},
   "outputs": [
    {
     "data": {
      "text/plain": [
       "[MinMaxScaler(), RobustScaler(), StandardScaler()]"
      ]
     },
     "execution_count": 3,
     "metadata": {},
     "output_type": "execute_result"
    }
   ],
   "source": [
    "scalers"
   ]
  },
  {
   "cell_type": "markdown",
   "metadata": {},
   "source": [
    "# Linear Regression"
   ]
  },
  {
   "cell_type": "code",
   "execution_count": 4,
   "metadata": {},
   "outputs": [],
   "source": [
    "model_name = 'LinReg'"
   ]
  },
  {
   "cell_type": "code",
   "execution_count": 5,
   "metadata": {},
   "outputs": [],
   "source": [
    "from sklearn.linear_model import LinearRegression\n",
    "model = LinearRegression()"
   ]
  },
  {
   "cell_type": "code",
   "execution_count": 6,
   "metadata": {},
   "outputs": [
    {
     "name": "stdout",
     "output_type": "stream",
     "text": [
      "MinMaxScaler() MAE-scores: [-3.29991922e+00 -3.51321470e+00 -4.30763886e+10 -2.36967839e+11\n",
      " -3.57772400e+00 -3.13283707e+00 -1.46745968e+11 -3.91089926e+00\n",
      " -6.00351583e+11 -1.88994546e+11]\n",
      "MinMaxScaler() MSE-scores: [-1.70693944e+01 -2.73285161e+01 -2.67202837e+23 -4.28568095e+24\n",
      " -2.11977518e+01 -1.52918804e+01 -3.07941622e+24 -2.46995925e+01\n",
      " -2.58944837e+25 -5.10780817e+24]\n",
      "MinMaxScaler() RMSE-scores: [-4.13151236e+00 -5.22766832e+00 -5.16916664e+11 -2.07018863e+12\n",
      " -4.60410162e+00 -3.91048340e+00 -1.75482655e+12 -4.96986846e+00\n",
      " -5.08866227e+12 -2.26004605e+12]\n",
      "MinMaxScaler() done!\n",
      "\n",
      "\n",
      "RobustScaler() MAE-scores: [-3.30476716 -3.51425973 -3.42361624 -3.78707881 -3.577724   -3.1380967\n",
      " -3.25163631 -3.90866413 -3.14763595 -3.64465367]\n",
      "RobustScaler() MSE-scores: [-17.10839283 -27.33992015 -21.40827128 -25.26192732 -21.19775177\n",
      " -15.34843546 -19.22501916 -24.64375134 -17.87274432 -26.30077257]\n",
      "RobustScaler() RMSE-scores: [-4.1362293  -5.22875895 -4.62690731 -5.02612448 -4.60410162 -3.91770794\n",
      " -4.38463444 -4.96424731 -4.22761686 -5.12842788]\n",
      "RobustScaler() done!\n",
      "\n",
      "\n",
      "StandardScaler() MAE-scores: [-3.30923842e+00 -3.50936508e+00 -7.87771831e+11 -8.92254008e+12\n",
      " -1.24273725e+12 -3.13837645e+00 -7.24384977e+11 -3.90692827e+00\n",
      " -7.24694937e+12 -3.63502553e+00]\n",
      "StandardScaler() MSE-scores: [-1.71682293e+01 -2.72990768e+01 -8.93641620e+25 -6.05428147e+27\n",
      " -2.20848609e+26 -1.53491779e+01 -7.50369040e+25 -2.46688572e+01\n",
      " -5.38290129e+27 -2.60833770e+01]\n",
      "StandardScaler() RMSE-scores: [-4.14345621e+00 -5.22485185e+00 -9.45326198e+12 -7.78092634e+13\n",
      " -1.48609760e+13 -3.91780269e+00 -8.66238443e+12 -4.96677533e+00\n",
      " -7.33682581e+13 -5.10718876e+00]\n",
      "StandardScaler() done!\n",
      "\n",
      "\n"
     ]
    }
   ],
   "source": [
    "from sklearn.model_selection import cross_val_score\n",
    "\n",
    "scalers_str = []\n",
    "mae_list = []\n",
    "mse_list = []\n",
    "rmse_list = []\n",
    "\n",
    "for scaler in scalers: \n",
    "    # Scale data\n",
    "    X_train_s = scaler.transform(X_train)\n",
    "    X_test_s = scaler.transform(X_test)\n",
    "    \n",
    "    scores = cross_val_score(model,X_train_s,y_train, scoring='neg_mean_absolute_error',cv=10)\n",
    "    mae_list.append(abs(scores.mean()))\n",
    "    print(f\"{scaler} MAE-scores: {scores}\")\n",
    "    \n",
    "    scores = cross_val_score(model,X_train_s,y_train, scoring='neg_mean_squared_error',cv=10)\n",
    "    mse_list.append(abs(scores.mean()))\n",
    "    print(f\"{scaler} MSE-scores: {scores}\")\n",
    "\n",
    "    scores = cross_val_score(model,X_train_s,y_train, scoring='neg_root_mean_squared_error',cv=10)\n",
    "    rmse_list.append(abs(scores.mean()))\n",
    "    print(f\"{scaler} RMSE-scores: {scores}\")\n",
    "    \n",
    "    print(f\"{scaler} done!\")\n",
    "    print('\\n')\n",
    "    \n",
    "    scalers_str.append(str(scaler))"
   ]
  },
  {
   "cell_type": "code",
   "execution_count": 7,
   "metadata": {},
   "outputs": [],
   "source": [
    "def min_index(l):\n",
    "     return scalers_str[min(range(len(l)), key=l.__getitem__)]"
   ]
  },
  {
   "cell_type": "code",
   "execution_count": 8,
   "metadata": {},
   "outputs": [
    {
     "data": {
      "text/plain": [
       "'RobustScaler()'"
      ]
     },
     "execution_count": 8,
     "metadata": {},
     "output_type": "execute_result"
    }
   ],
   "source": [
    "min_index(mae_list)"
   ]
  },
  {
   "cell_type": "code",
   "execution_count": 9,
   "metadata": {},
   "outputs": [
    {
     "data": {
      "text/plain": [
       "'RobustScaler()'"
      ]
     },
     "execution_count": 9,
     "metadata": {},
     "output_type": "execute_result"
    }
   ],
   "source": [
    "min_index(mse_list)"
   ]
  },
  {
   "cell_type": "code",
   "execution_count": 10,
   "metadata": {},
   "outputs": [
    {
     "data": {
      "text/plain": [
       "'RobustScaler()'"
      ]
     },
     "execution_count": 10,
     "metadata": {},
     "output_type": "execute_result"
    }
   ],
   "source": [
    "min_index(rmse_list)"
   ]
  },
  {
   "cell_type": "code",
   "execution_count": 11,
   "metadata": {},
   "outputs": [],
   "source": [
    "err_list = [mae_list, mse_list, rmse_list]"
   ]
  },
  {
   "cell_type": "code",
   "execution_count": 12,
   "metadata": {},
   "outputs": [],
   "source": [
    "err_df = pd.DataFrame(columns=scalers_str, data=err_list, index=['MAE','MSE','RMSE'])"
   ]
  },
  {
   "cell_type": "code",
   "execution_count": 13,
   "metadata": {},
   "outputs": [
    {
     "data": {
      "text/html": [
       "<div>\n",
       "<style scoped>\n",
       "    .dataframe tbody tr th:only-of-type {\n",
       "        vertical-align: middle;\n",
       "    }\n",
       "\n",
       "    .dataframe tbody tr th {\n",
       "        vertical-align: top;\n",
       "    }\n",
       "\n",
       "    .dataframe thead th {\n",
       "        text-align: right;\n",
       "    }\n",
       "</style>\n",
       "<table border=\"1\" class=\"dataframe\">\n",
       "  <thead>\n",
       "    <tr style=\"text-align: right;\">\n",
       "      <th></th>\n",
       "      <th>MinMaxScaler()</th>\n",
       "      <th>RobustScaler()</th>\n",
       "      <th>StandardScaler()</th>\n",
       "    </tr>\n",
       "  </thead>\n",
       "  <tbody>\n",
       "    <tr>\n",
       "      <th>MAE</th>\n",
       "      <td>1.216136e+11</td>\n",
       "      <td>3.469813</td>\n",
       "      <td>1.892438e+12</td>\n",
       "    </tr>\n",
       "    <tr>\n",
       "      <th>MSE</th>\n",
       "      <td>3.863459e+24</td>\n",
       "      <td>21.570699</td>\n",
       "      <td>1.182243e+27</td>\n",
       "    </tr>\n",
       "    <tr>\n",
       "      <th>RMSE</th>\n",
       "      <td>1.169064e+12</td>\n",
       "      <td>4.624476</td>\n",
       "      <td>1.841541e+13</td>\n",
       "    </tr>\n",
       "  </tbody>\n",
       "</table>\n",
       "</div>"
      ],
      "text/plain": [
       "      MinMaxScaler()  RobustScaler()  StandardScaler()\n",
       "MAE     1.216136e+11        3.469813      1.892438e+12\n",
       "MSE     3.863459e+24       21.570699      1.182243e+27\n",
       "RMSE    1.169064e+12        4.624476      1.841541e+13"
      ]
     },
     "execution_count": 13,
     "metadata": {},
     "output_type": "execute_result"
    }
   ],
   "source": [
    "err_df\n",
    "# -> model produces bad predictions! -> skip linear model with no regularization and go straigth to elastic net model"
   ]
  },
  {
   "cell_type": "code",
   "execution_count": 14,
   "metadata": {},
   "outputs": [],
   "source": [
    "err_df.to_csv(f'./scaler-err/{model_name}-scaler-err-nfe.csv')"
   ]
  },
  {
   "cell_type": "markdown",
   "metadata": {},
   "source": [
    "# Poisson Regressor"
   ]
  },
  {
   "cell_type": "code",
   "execution_count": 15,
   "metadata": {},
   "outputs": [],
   "source": [
    "model_name = 'PoiReg'"
   ]
  },
  {
   "cell_type": "code",
   "execution_count": 16,
   "metadata": {},
   "outputs": [],
   "source": [
    "from sklearn.linear_model import PoissonRegressor\n",
    "model = PoissonRegressor()"
   ]
  },
  {
   "cell_type": "code",
   "execution_count": 17,
   "metadata": {},
   "outputs": [
    {
     "name": "stdout",
     "output_type": "stream",
     "text": [
      "MinMaxScaler() MAE-scores: [-3.99830061 -4.18194142 -4.05822045 -4.67453496 -3.82469971 -3.72964035\n",
      " -4.33458683 -4.41732445 -3.48330877 -4.18515077]\n",
      "MinMaxScaler() MSE-scores: [-23.28865416 -32.23971368 -28.50544383 -32.70699738 -20.41917561\n",
      " -20.9603554  -30.99720284 -29.97417449 -22.12562924 -27.0828639 ]\n",
      "MinMaxScaler() RMSE-scores: [-4.82583197 -5.67800261 -5.33904896 -5.71900318 -4.51875819 -4.57824807\n",
      " -5.56751316 -5.47486753 -4.70378882 -5.2041199 ]\n",
      "MinMaxScaler() done!\n",
      "\n",
      "\n",
      "RobustScaler() MAE-scores: [-3.44752765 -3.55052689 -3.41520412 -3.93537467 -3.44983903 -3.09403443\n",
      " -3.61726699 -3.88068067 -3.17533258 -3.59168522]\n",
      "RobustScaler() MSE-scores: [-17.6478597  -25.900412   -22.06178961 -25.62428154 -17.20902408\n",
      " -15.28869649 -22.69030163 -23.8458462  -18.52437713 -21.61183776]\n",
      "RobustScaler() RMSE-scores: [-4.20093557 -5.08924474 -4.69699794 -5.06204322 -4.14837608 -3.91007628\n",
      " -4.76343381 -4.88322088 -4.30399548 -4.64885338]\n",
      "RobustScaler() done!\n",
      "\n",
      "\n",
      "StandardScaler() MAE-scores: [-3.09923161 -3.34521443 -3.21847056 -3.5060475  -3.40056734 -3.1210018\n",
      " -3.22024878 -3.90831698 -3.02822935 -3.53856544]\n",
      "StandardScaler() MSE-scores: [-15.84983324 -24.17904346 -18.62168788 -21.29979619 -18.19932561\n",
      " -15.75071336 -19.56464849 -24.94790571 -17.90050907 -21.49899667]\n",
      "StandardScaler() RMSE-scores: [-3.9811849  -4.91721908 -4.31528538 -4.61517022 -4.26606676 -3.96871684\n",
      " -4.42319438 -4.99478785 -4.23089932 -4.63670105]\n",
      "StandardScaler() done!\n",
      "\n",
      "\n"
     ]
    }
   ],
   "source": [
    "from sklearn.model_selection import cross_val_score\n",
    "\n",
    "scalers_str = []\n",
    "mae_list = []\n",
    "mse_list = []\n",
    "rmse_list = []\n",
    "\n",
    "for scaler in scalers: \n",
    "    # Scale data\n",
    "    X_train_s = scaler.transform(X_train)\n",
    "    X_test_s = scaler.transform(X_test)\n",
    "    \n",
    "    scores = cross_val_score(model,X_train_s,y_train, scoring='neg_mean_absolute_error',cv=10)\n",
    "    mae_list.append(abs(scores.mean()))\n",
    "    print(f\"{scaler} MAE-scores: {scores}\")\n",
    "    \n",
    "    scores = cross_val_score(model,X_train_s,y_train, scoring='neg_mean_squared_error',cv=10)\n",
    "    mse_list.append(abs(scores.mean()))\n",
    "    print(f\"{scaler} MSE-scores: {scores}\")\n",
    "\n",
    "    scores = cross_val_score(model,X_train_s,y_train, scoring='neg_root_mean_squared_error',cv=10)\n",
    "    rmse_list.append(abs(scores.mean()))\n",
    "    print(f\"{scaler} RMSE-scores: {scores}\")\n",
    "    \n",
    "    print(f\"{scaler} done!\")\n",
    "    print('\\n')\n",
    "    \n",
    "    scalers_str.append(str(scaler))"
   ]
  },
  {
   "cell_type": "code",
   "execution_count": 18,
   "metadata": {},
   "outputs": [
    {
     "data": {
      "text/plain": [
       "'StandardScaler()'"
      ]
     },
     "execution_count": 18,
     "metadata": {},
     "output_type": "execute_result"
    }
   ],
   "source": [
    "min_index(mae_list)"
   ]
  },
  {
   "cell_type": "code",
   "execution_count": 19,
   "metadata": {},
   "outputs": [
    {
     "data": {
      "text/plain": [
       "'StandardScaler()'"
      ]
     },
     "execution_count": 19,
     "metadata": {},
     "output_type": "execute_result"
    }
   ],
   "source": [
    "min_index(mse_list)"
   ]
  },
  {
   "cell_type": "code",
   "execution_count": 20,
   "metadata": {},
   "outputs": [
    {
     "data": {
      "text/plain": [
       "'StandardScaler()'"
      ]
     },
     "execution_count": 20,
     "metadata": {},
     "output_type": "execute_result"
    }
   ],
   "source": [
    "min_index(rmse_list)"
   ]
  },
  {
   "cell_type": "code",
   "execution_count": 21,
   "metadata": {},
   "outputs": [],
   "source": [
    "err_list = [mae_list, mse_list, rmse_list]"
   ]
  },
  {
   "cell_type": "code",
   "execution_count": 22,
   "metadata": {},
   "outputs": [],
   "source": [
    "err_df = pd.DataFrame(columns=scalers_str, data=err_list, index=['MAE','MSE','RMSE'])"
   ]
  },
  {
   "cell_type": "code",
   "execution_count": 23,
   "metadata": {},
   "outputs": [
    {
     "data": {
      "text/html": [
       "<div>\n",
       "<style scoped>\n",
       "    .dataframe tbody tr th:only-of-type {\n",
       "        vertical-align: middle;\n",
       "    }\n",
       "\n",
       "    .dataframe tbody tr th {\n",
       "        vertical-align: top;\n",
       "    }\n",
       "\n",
       "    .dataframe thead th {\n",
       "        text-align: right;\n",
       "    }\n",
       "</style>\n",
       "<table border=\"1\" class=\"dataframe\">\n",
       "  <thead>\n",
       "    <tr style=\"text-align: right;\">\n",
       "      <th></th>\n",
       "      <th>MinMaxScaler()</th>\n",
       "      <th>RobustScaler()</th>\n",
       "      <th>StandardScaler()</th>\n",
       "    </tr>\n",
       "  </thead>\n",
       "  <tbody>\n",
       "    <tr>\n",
       "      <th>MAE</th>\n",
       "      <td>4.088771</td>\n",
       "      <td>3.515747</td>\n",
       "      <td>3.338589</td>\n",
       "    </tr>\n",
       "    <tr>\n",
       "      <th>MSE</th>\n",
       "      <td>26.830021</td>\n",
       "      <td>21.040443</td>\n",
       "      <td>19.781246</td>\n",
       "    </tr>\n",
       "    <tr>\n",
       "      <th>RMSE</th>\n",
       "      <td>5.160918</td>\n",
       "      <td>4.570718</td>\n",
       "      <td>4.434923</td>\n",
       "    </tr>\n",
       "  </tbody>\n",
       "</table>\n",
       "</div>"
      ],
      "text/plain": [
       "      MinMaxScaler()  RobustScaler()  StandardScaler()\n",
       "MAE         4.088771        3.515747          3.338589\n",
       "MSE        26.830021       21.040443         19.781246\n",
       "RMSE        5.160918        4.570718          4.434923"
      ]
     },
     "execution_count": 23,
     "metadata": {},
     "output_type": "execute_result"
    }
   ],
   "source": [
    "err_df\n",
    "# -> StandardScaler -> use StandardScaler for Elastic Net also"
   ]
  },
  {
   "cell_type": "code",
   "execution_count": 24,
   "metadata": {},
   "outputs": [],
   "source": [
    "err_df.to_csv(f'./scaler-err/{model_name}-scaler-err-nfe.csv')"
   ]
  },
  {
   "cell_type": "markdown",
   "metadata": {},
   "source": [
    "# Support Vector Regressor"
   ]
  },
  {
   "cell_type": "code",
   "execution_count": 25,
   "metadata": {},
   "outputs": [],
   "source": [
    "model_name = 'SVR'"
   ]
  },
  {
   "cell_type": "code",
   "execution_count": 26,
   "metadata": {},
   "outputs": [],
   "source": [
    "from sklearn.svm import SVR\n",
    "model = SVR()"
   ]
  },
  {
   "cell_type": "code",
   "execution_count": 27,
   "metadata": {},
   "outputs": [
    {
     "name": "stdout",
     "output_type": "stream",
     "text": [
      "MinMaxScaler() MAE-scores: [-3.57457245 -3.72172938 -3.4836075  -4.01087608 -3.40743798 -3.16638812\n",
      " -3.59260824 -3.97329324 -3.25020396 -3.79563859]\n",
      "MinMaxScaler() MSE-scores: [-19.88989697 -30.50215737 -23.92292236 -27.13880442 -17.28199234\n",
      " -16.16736476 -24.61222184 -25.33499273 -20.75557209 -25.2985247 ]\n",
      "MinMaxScaler() RMSE-scores: [-4.45980907 -5.52287582 -4.89110646 -5.20949176 -4.15716157 -4.02086617\n",
      " -4.96107063 -5.0333878  -4.55582836 -5.02976388]\n",
      "MinMaxScaler() done!\n",
      "\n",
      "\n",
      "RobustScaler() MAE-scores: [-3.49561075 -3.80201581 -3.6509275  -3.86778742 -3.27026967 -3.01067693\n",
      " -3.48210329 -3.72989678 -3.12295352 -3.45857809]\n",
      "RobustScaler() MSE-scores: [-20.41443991 -29.92032926 -24.7504133  -27.42583604 -15.99649423\n",
      " -15.39911643 -23.77412685 -23.32165492 -19.63585238 -22.18568215]\n",
      "RobustScaler() RMSE-scores: [-4.51823416 -5.46994783 -4.97497872 -5.23696821 -3.99956175 -3.9241708\n",
      " -4.87587191 -4.82924993 -4.43123599 -4.71016795]\n",
      "RobustScaler() done!\n",
      "\n",
      "\n",
      "StandardScaler() MAE-scores: [-3.78666251 -4.0150012  -3.59771006 -4.31668733 -3.65742788 -3.48258657\n",
      " -4.16000295 -4.0207376  -3.43400476 -3.91438142]\n",
      "StandardScaler() MSE-scores: [-23.25139473 -33.69894972 -23.53668173 -29.83436749 -20.02006566\n",
      " -19.2025352  -30.46263737 -28.02498754 -22.19198748 -25.16149055]\n",
      "StandardScaler() RMSE-scores: [-4.82197    -5.80507965 -4.85146181 -5.46208454 -4.4743788  -4.38206974\n",
      " -5.51929682 -5.2938632  -4.71083724 -5.01612306]\n",
      "StandardScaler() done!\n",
      "\n",
      "\n"
     ]
    }
   ],
   "source": [
    "from sklearn.model_selection import cross_val_score\n",
    "\n",
    "scalers_str = []\n",
    "mae_list = []\n",
    "mse_list = []\n",
    "rmse_list = []\n",
    "\n",
    "for scaler in scalers: \n",
    "    # Scale data\n",
    "    X_train_s = scaler.transform(X_train)\n",
    "    X_test_s = scaler.transform(X_test)\n",
    "    \n",
    "    scores = cross_val_score(model,X_train_s,y_train, scoring='neg_mean_absolute_error',cv=10)\n",
    "    mae_list.append(abs(scores.mean()))\n",
    "    print(f\"{scaler} MAE-scores: {scores}\")\n",
    "    \n",
    "    scores = cross_val_score(model,X_train_s,y_train, scoring='neg_mean_squared_error',cv=10)\n",
    "    mse_list.append(abs(scores.mean()))\n",
    "    print(f\"{scaler} MSE-scores: {scores}\")\n",
    "\n",
    "    scores = cross_val_score(model,X_train_s,y_train, scoring='neg_root_mean_squared_error',cv=10)\n",
    "    rmse_list.append(abs(scores.mean()))\n",
    "    print(f\"{scaler} RMSE-scores: {scores}\")\n",
    "    \n",
    "    print(f\"{scaler} done!\")\n",
    "    print('\\n')\n",
    "    \n",
    "    scalers_str.append(str(scaler))"
   ]
  },
  {
   "cell_type": "code",
   "execution_count": 28,
   "metadata": {},
   "outputs": [
    {
     "data": {
      "text/plain": [
       "'RobustScaler()'"
      ]
     },
     "execution_count": 28,
     "metadata": {},
     "output_type": "execute_result"
    }
   ],
   "source": [
    "min_index(mae_list)"
   ]
  },
  {
   "cell_type": "code",
   "execution_count": 29,
   "metadata": {},
   "outputs": [
    {
     "data": {
      "text/plain": [
       "'RobustScaler()'"
      ]
     },
     "execution_count": 29,
     "metadata": {},
     "output_type": "execute_result"
    }
   ],
   "source": [
    "min_index(mse_list)"
   ]
  },
  {
   "cell_type": "code",
   "execution_count": 30,
   "metadata": {},
   "outputs": [
    {
     "data": {
      "text/plain": [
       "'RobustScaler()'"
      ]
     },
     "execution_count": 30,
     "metadata": {},
     "output_type": "execute_result"
    }
   ],
   "source": [
    "min_index(rmse_list)"
   ]
  },
  {
   "cell_type": "code",
   "execution_count": 31,
   "metadata": {},
   "outputs": [],
   "source": [
    "err_list = [mae_list, mse_list, rmse_list]"
   ]
  },
  {
   "cell_type": "code",
   "execution_count": 32,
   "metadata": {},
   "outputs": [],
   "source": [
    "err_df = pd.DataFrame(columns=scalers_str, data=err_list, index=['MAE','MSE','RMSE'])"
   ]
  },
  {
   "cell_type": "code",
   "execution_count": 33,
   "metadata": {},
   "outputs": [
    {
     "data": {
      "text/html": [
       "<div>\n",
       "<style scoped>\n",
       "    .dataframe tbody tr th:only-of-type {\n",
       "        vertical-align: middle;\n",
       "    }\n",
       "\n",
       "    .dataframe tbody tr th {\n",
       "        vertical-align: top;\n",
       "    }\n",
       "\n",
       "    .dataframe thead th {\n",
       "        text-align: right;\n",
       "    }\n",
       "</style>\n",
       "<table border=\"1\" class=\"dataframe\">\n",
       "  <thead>\n",
       "    <tr style=\"text-align: right;\">\n",
       "      <th></th>\n",
       "      <th>MinMaxScaler()</th>\n",
       "      <th>RobustScaler()</th>\n",
       "      <th>StandardScaler()</th>\n",
       "    </tr>\n",
       "  </thead>\n",
       "  <tbody>\n",
       "    <tr>\n",
       "      <th>MAE</th>\n",
       "      <td>3.597636</td>\n",
       "      <td>3.489082</td>\n",
       "      <td>3.838520</td>\n",
       "    </tr>\n",
       "    <tr>\n",
       "      <th>MSE</th>\n",
       "      <td>23.090445</td>\n",
       "      <td>22.282395</td>\n",
       "      <td>25.538510</td>\n",
       "    </tr>\n",
       "    <tr>\n",
       "      <th>RMSE</th>\n",
       "      <td>4.784136</td>\n",
       "      <td>4.697039</td>\n",
       "      <td>5.033716</td>\n",
       "    </tr>\n",
       "  </tbody>\n",
       "</table>\n",
       "</div>"
      ],
      "text/plain": [
       "      MinMaxScaler()  RobustScaler()  StandardScaler()\n",
       "MAE         3.597636        3.489082          3.838520\n",
       "MSE        23.090445       22.282395         25.538510\n",
       "RMSE        4.784136        4.697039          5.033716"
      ]
     },
     "execution_count": 33,
     "metadata": {},
     "output_type": "execute_result"
    }
   ],
   "source": [
    "err_df\n",
    "# -> RobustScaler"
   ]
  },
  {
   "cell_type": "code",
   "execution_count": 34,
   "metadata": {},
   "outputs": [],
   "source": [
    "err_df.to_csv(f'./scaler-err/{model_name}-scaler-err-nfe.csv')"
   ]
  },
  {
   "cell_type": "code",
   "execution_count": 35,
   "metadata": {},
   "outputs": [],
   "source": [
    "# def highlight_min(s):\n",
    "#     is_min = s == s.min()\n",
    "#     return ['background-color: grey' if v else '' for v in is_min]"
   ]
  },
  {
   "cell_type": "code",
   "execution_count": 36,
   "metadata": {},
   "outputs": [],
   "source": [
    "# scalers_df.transpose().style.apply(highlight_min)"
   ]
  },
  {
   "cell_type": "markdown",
   "metadata": {},
   "source": [
    "# Random Forest Regressor"
   ]
  },
  {
   "cell_type": "code",
   "execution_count": 37,
   "metadata": {},
   "outputs": [],
   "source": [
    "model_name = 'RF'"
   ]
  },
  {
   "cell_type": "code",
   "execution_count": 38,
   "metadata": {},
   "outputs": [],
   "source": [
    "from sklearn.ensemble import RandomForestRegressor\n",
    "model = RandomForestRegressor()"
   ]
  },
  {
   "cell_type": "code",
   "execution_count": 39,
   "metadata": {},
   "outputs": [
    {
     "name": "stdout",
     "output_type": "stream",
     "text": [
      "MinMaxScaler() MAE-scores: [-2.90432467 -3.5549293  -3.26936111 -3.36674075 -2.71529663 -2.54958342\n",
      " -3.19306292 -3.43545544 -2.83518068 -3.38720904]\n",
      "MinMaxScaler() MSE-scores: [-13.94790814 -27.67362594 -23.40448082 -21.46925361 -12.31367392\n",
      " -11.83427762 -18.15362996 -19.54766295 -14.80591541 -21.71737653]\n",
      "MinMaxScaler() RMSE-scores: [-3.75292715 -5.26075841 -4.75678798 -4.68039479 -3.56743792 -3.34335313\n",
      " -4.34306865 -4.35852763 -3.90383836 -4.67307816]\n",
      "MinMaxScaler() done!\n",
      "\n",
      "\n",
      "RobustScaler() MAE-scores: [-2.89725723 -3.49196431 -3.30036561 -3.39418524 -2.66441725 -2.48942422\n",
      " -3.17510722 -3.37686957 -2.88379252 -3.38061236]\n",
      "RobustScaler() MSE-scores: [-13.54318679 -27.24715034 -22.26203759 -21.41542048 -12.30123059\n",
      " -10.92786002 -18.13579879 -19.10244515 -14.69107854 -21.43482417]\n",
      "RobustScaler() RMSE-scores: [-3.77505756 -5.31722037 -4.81307278 -4.61320123 -3.51998339 -3.36113496\n",
      " -4.31124544 -4.29204578 -3.91592632 -4.59363829]\n",
      "RobustScaler() done!\n",
      "\n",
      "\n",
      "StandardScaler() MAE-scores: [-2.91418593 -3.49655546 -3.25759476 -3.34726539 -2.79836826 -2.55495572\n",
      " -3.15017859 -3.35728043 -2.88118113 -3.3771314 ]\n",
      "StandardScaler() MSE-scores: [-13.66420639 -27.94717122 -23.26735668 -22.42853265 -12.33716391\n",
      " -10.98682205 -18.89172169 -19.33980264 -14.64684377 -21.17645005]\n",
      "StandardScaler() RMSE-scores: [-3.74912784 -5.30307614 -4.81024851 -4.66176086 -3.67526001 -3.32371143\n",
      " -4.34125279 -4.35209189 -3.87896891 -4.63745037]\n",
      "StandardScaler() done!\n",
      "\n",
      "\n"
     ]
    }
   ],
   "source": [
    "from sklearn.model_selection import cross_val_score\n",
    "\n",
    "scalers_str = []\n",
    "mae_list = []\n",
    "mse_list = []\n",
    "rmse_list = []\n",
    "\n",
    "for scaler in scalers: \n",
    "    # Scale data\n",
    "    X_train_s = scaler.transform(X_train)\n",
    "    X_test_s = scaler.transform(X_test)\n",
    "    \n",
    "    scores = cross_val_score(model,X_train_s,y_train, scoring='neg_mean_absolute_error',cv=10)\n",
    "    mae_list.append(abs(scores.mean()))\n",
    "    print(f\"{scaler} MAE-scores: {scores}\")\n",
    "    \n",
    "    scores = cross_val_score(model,X_train_s,y_train, scoring='neg_mean_squared_error',cv=10)\n",
    "    mse_list.append(abs(scores.mean()))\n",
    "    print(f\"{scaler} MSE-scores: {scores}\")\n",
    "\n",
    "    scores = cross_val_score(model,X_train_s,y_train, scoring='neg_root_mean_squared_error',cv=10)\n",
    "    rmse_list.append(abs(scores.mean()))\n",
    "    print(f\"{scaler} RMSE-scores: {scores}\")\n",
    "    \n",
    "    print(f\"{scaler} done!\")\n",
    "    print('\\n')\n",
    "    \n",
    "    scalers_str.append(str(scaler))"
   ]
  },
  {
   "cell_type": "code",
   "execution_count": 40,
   "metadata": {},
   "outputs": [],
   "source": [
    "def min_index(l):\n",
    "     return scalers_str[min(range(len(l)), key=l.__getitem__)]"
   ]
  },
  {
   "cell_type": "code",
   "execution_count": 41,
   "metadata": {},
   "outputs": [
    {
     "data": {
      "text/plain": [
       "'RobustScaler()'"
      ]
     },
     "execution_count": 41,
     "metadata": {},
     "output_type": "execute_result"
    }
   ],
   "source": [
    "min_index(mae_list)"
   ]
  },
  {
   "cell_type": "code",
   "execution_count": 42,
   "metadata": {},
   "outputs": [
    {
     "data": {
      "text/plain": [
       "'RobustScaler()'"
      ]
     },
     "execution_count": 42,
     "metadata": {},
     "output_type": "execute_result"
    }
   ],
   "source": [
    "min_index(mse_list)"
   ]
  },
  {
   "cell_type": "code",
   "execution_count": 43,
   "metadata": {},
   "outputs": [
    {
     "data": {
      "text/plain": [
       "'RobustScaler()'"
      ]
     },
     "execution_count": 43,
     "metadata": {},
     "output_type": "execute_result"
    }
   ],
   "source": [
    "min_index(rmse_list)"
   ]
  },
  {
   "cell_type": "code",
   "execution_count": 44,
   "metadata": {},
   "outputs": [],
   "source": [
    "err_list = [mae_list, mse_list, rmse_list]"
   ]
  },
  {
   "cell_type": "code",
   "execution_count": 45,
   "metadata": {},
   "outputs": [],
   "source": [
    "err_df = pd.DataFrame(columns=scalers_str, data=err_list, index=['MAE','MSE','RMSE'])"
   ]
  },
  {
   "cell_type": "code",
   "execution_count": 46,
   "metadata": {},
   "outputs": [
    {
     "data": {
      "text/html": [
       "<div>\n",
       "<style scoped>\n",
       "    .dataframe tbody tr th:only-of-type {\n",
       "        vertical-align: middle;\n",
       "    }\n",
       "\n",
       "    .dataframe tbody tr th {\n",
       "        vertical-align: top;\n",
       "    }\n",
       "\n",
       "    .dataframe thead th {\n",
       "        text-align: right;\n",
       "    }\n",
       "</style>\n",
       "<table border=\"1\" class=\"dataframe\">\n",
       "  <thead>\n",
       "    <tr style=\"text-align: right;\">\n",
       "      <th></th>\n",
       "      <th>MinMaxScaler()</th>\n",
       "      <th>RobustScaler()</th>\n",
       "      <th>StandardScaler()</th>\n",
       "    </tr>\n",
       "  </thead>\n",
       "  <tbody>\n",
       "    <tr>\n",
       "      <th>MAE</th>\n",
       "      <td>3.121114</td>\n",
       "      <td>3.105400</td>\n",
       "      <td>3.113470</td>\n",
       "    </tr>\n",
       "    <tr>\n",
       "      <th>MSE</th>\n",
       "      <td>18.486780</td>\n",
       "      <td>18.106103</td>\n",
       "      <td>18.468607</td>\n",
       "    </tr>\n",
       "    <tr>\n",
       "      <th>RMSE</th>\n",
       "      <td>4.264017</td>\n",
       "      <td>4.251253</td>\n",
       "      <td>4.273295</td>\n",
       "    </tr>\n",
       "  </tbody>\n",
       "</table>\n",
       "</div>"
      ],
      "text/plain": [
       "      MinMaxScaler()  RobustScaler()  StandardScaler()\n",
       "MAE         3.121114        3.105400          3.113470\n",
       "MSE        18.486780       18.106103         18.468607\n",
       "RMSE        4.264017        4.251253          4.273295"
      ]
     },
     "execution_count": 46,
     "metadata": {},
     "output_type": "execute_result"
    }
   ],
   "source": [
    "err_df\n",
    "# -> RobustScaler (marginal difference)"
   ]
  },
  {
   "cell_type": "code",
   "execution_count": 47,
   "metadata": {},
   "outputs": [],
   "source": [
    "err_df.to_csv(f'./scaler-err/{model_name}-scaler-err-nfe.csv')"
   ]
  },
  {
   "cell_type": "markdown",
   "metadata": {},
   "source": [
    "DONE!"
   ]
  },
  {
   "cell_type": "code",
   "execution_count": null,
   "metadata": {},
   "outputs": [],
   "source": []
  }
 ],
 "metadata": {
  "kernelspec": {
   "display_name": "Python 3",
   "language": "python",
   "name": "python3"
  },
  "language_info": {
   "codemirror_mode": {
    "name": "ipython",
    "version": 3
   },
   "file_extension": ".py",
   "mimetype": "text/x-python",
   "name": "python",
   "nbconvert_exporter": "python",
   "pygments_lexer": "ipython3",
   "version": "3.8.6"
  },
  "toc-autonumbering": true
 },
 "nbformat": 4,
 "nbformat_minor": 4
}
