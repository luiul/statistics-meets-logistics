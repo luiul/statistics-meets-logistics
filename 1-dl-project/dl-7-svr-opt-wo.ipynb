{
 "cells": [
  {
   "cell_type": "code",
   "execution_count": 1,
   "id": "balanced-congo",
   "metadata": {},
   "outputs": [],
   "source": [
    "# MODIFY! \n",
    "# use RobustScaler! \n",
    "model_name = 'svr-wo'"
   ]
  },
  {
   "cell_type": "markdown",
   "id": "conditional-crowd",
   "metadata": {},
   "source": [
    "# Import Libraries & Data "
   ]
  },
  {
   "cell_type": "code",
   "execution_count": 2,
   "id": "naval-establishment",
   "metadata": {},
   "outputs": [],
   "source": [
    "import numpy as np\n",
    "import pandas as pd\n",
    "import matplotlib.pyplot as plt\n",
    "import seaborn as sns"
   ]
  },
  {
   "cell_type": "code",
   "execution_count": 3,
   "id": "portuguese-marking",
   "metadata": {},
   "outputs": [],
   "source": [
    "df = pd.read_csv('./data/d-wo-ns.csv')\n",
    "X = df.drop('throughput',axis=1)\n",
    "y = df['throughput']"
   ]
  },
  {
   "cell_type": "markdown",
   "id": "interim-specialist",
   "metadata": {},
   "source": [
    "---"
   ]
  },
  {
   "cell_type": "markdown",
   "id": "common-zimbabwe",
   "metadata": {},
   "source": [
    "# Scale Data"
   ]
  },
  {
   "cell_type": "code",
   "execution_count": 4,
   "id": "radical-complexity",
   "metadata": {},
   "outputs": [
    {
     "data": {
      "text/plain": [
       "RobustScaler()"
      ]
     },
     "execution_count": 4,
     "metadata": {},
     "output_type": "execute_result"
    }
   ],
   "source": [
    "# Split the data\n",
    "from sklearn.model_selection import train_test_split\n",
    "X_train, X_test, y_train, y_test = train_test_split(X, y, test_size=0.1, random_state=42)\n",
    "\n",
    "# Scale the data\n",
    "from sklearn.preprocessing import RobustScaler\n",
    "scaler = RobustScaler()\n",
    "scaler.fit(X_train)"
   ]
  },
  {
   "cell_type": "code",
   "execution_count": 5,
   "id": "acoustic-momentum",
   "metadata": {},
   "outputs": [],
   "source": [
    "X_train = scaler.transform(X_train)\n",
    "X_test = scaler.transform(X_test)"
   ]
  },
  {
   "cell_type": "markdown",
   "id": "accompanied-slide",
   "metadata": {},
   "source": [
    "# Determine Hyperparameters"
   ]
  },
  {
   "cell_type": "code",
   "execution_count": 6,
   "id": "bibliographic-tower",
   "metadata": {},
   "outputs": [
    {
     "data": {
      "text/plain": [
       "SVR()"
      ]
     },
     "execution_count": 6,
     "metadata": {},
     "output_type": "execute_result"
    }
   ],
   "source": [
    "# MODIFY!\n",
    "from sklearn.svm import SVR\n",
    "\n",
    "model = SVR()\n",
    "model"
   ]
  },
  {
   "cell_type": "code",
   "execution_count": 7,
   "id": "encouraging-finger",
   "metadata": {},
   "outputs": [],
   "source": [
    "p_grid = {\n",
    "    'C':[.001,.01,.1,.5,1],\n",
    "    'kernel':['linear','rbf','poly'],\n",
    "    'gamma':['scale','auto'],\n",
    "    'degree':[2,3,4],\n",
    "    'epsilon':[0,.01,.1,.5,1,2]\n",
    "}"
   ]
  },
  {
   "cell_type": "code",
   "execution_count": 8,
   "id": "musical-means",
   "metadata": {},
   "outputs": [],
   "source": [
    "from sklearn.model_selection import GridSearchCV"
   ]
  },
  {
   "cell_type": "code",
   "execution_count": 9,
   "id": "funny-windows",
   "metadata": {},
   "outputs": [],
   "source": [
    "grid_model = GridSearchCV(\n",
    "    estimator=model,\n",
    "    param_grid =p_grid, \n",
    "    scoring='neg_mean_squared_error',\n",
    "    cv=3, \n",
    "    verbose=1\n",
    ")"
   ]
  },
  {
   "cell_type": "code",
   "execution_count": 10,
   "id": "global-station",
   "metadata": {},
   "outputs": [
    {
     "name": "stdout",
     "output_type": "stream",
     "text": [
      "Fitting 3 folds for each of 540 candidates, totalling 1620 fits\n"
     ]
    },
    {
     "name": "stderr",
     "output_type": "stream",
     "text": [
      "[Parallel(n_jobs=1)]: Using backend SequentialBackend with 1 concurrent workers.\n",
      "[Parallel(n_jobs=1)]: Done 1620 out of 1620 | elapsed:  8.5min finished\n"
     ]
    },
    {
     "data": {
      "text/plain": [
       "GridSearchCV(cv=3, estimator=SVR(),\n",
       "             param_grid={'C': [0.001, 0.01, 0.1, 0.5, 1], 'degree': [2, 3, 4],\n",
       "                         'epsilon': [0, 0.01, 0.1, 0.5, 1, 2],\n",
       "                         'gamma': ['scale', 'auto'],\n",
       "                         'kernel': ['linear', 'rbf', 'poly']},\n",
       "             scoring='neg_mean_squared_error', verbose=1)"
      ]
     },
     "execution_count": 10,
     "metadata": {},
     "output_type": "execute_result"
    }
   ],
   "source": [
    "grid_model.fit(X_train,y_train)"
   ]
  },
  {
   "cell_type": "code",
   "execution_count": 11,
   "id": "democratic-tractor",
   "metadata": {},
   "outputs": [
    {
     "data": {
      "text/plain": [
       "{'C': 1, 'degree': 2, 'epsilon': 0.1, 'gamma': 'scale', 'kernel': 'linear'}"
      ]
     },
     "execution_count": 11,
     "metadata": {},
     "output_type": "execute_result"
    }
   ],
   "source": [
    "grid_model.best_params_"
   ]
  },
  {
   "cell_type": "code",
   "execution_count": 12,
   "id": "first-constitutional",
   "metadata": {},
   "outputs": [],
   "source": [
    "hp = pd.Series(name=f'{model_name} HP', data=grid_model.best_params_)"
   ]
  },
  {
   "cell_type": "code",
   "execution_count": 13,
   "id": "hollow-elimination",
   "metadata": {},
   "outputs": [
    {
     "data": {
      "text/plain": [
       "C               1\n",
       "degree          2\n",
       "epsilon       0.1\n",
       "gamma       scale\n",
       "kernel     linear\n",
       "Name: svr-wo HP, dtype: object"
      ]
     },
     "execution_count": 13,
     "metadata": {},
     "output_type": "execute_result"
    }
   ],
   "source": [
    "hp"
   ]
  },
  {
   "cell_type": "code",
   "execution_count": 14,
   "id": "narrative-major",
   "metadata": {},
   "outputs": [],
   "source": [
    "hp.to_csv(f'./hyperparameters/{model_name}.csv')"
   ]
  },
  {
   "cell_type": "markdown",
   "id": "collectible-shannon",
   "metadata": {},
   "source": [
    "# Score Model"
   ]
  },
  {
   "cell_type": "code",
   "execution_count": 15,
   "id": "genetic-reason",
   "metadata": {},
   "outputs": [
    {
     "data": {
      "text/plain": [
       "SVR(C=1, degree=2, kernel='linear')"
      ]
     },
     "execution_count": 15,
     "metadata": {},
     "output_type": "execute_result"
    }
   ],
   "source": [
    "# MODIFY!\n",
    "from sklearn.svm import SVR\n",
    "\n",
    "C_, d_, e_, g_, k_ = grid_model.best_params_.values()\n",
    "\n",
    "score_model = SVR(\n",
    "    C = C_,\n",
    "    degree = d_,\n",
    "    epsilon = e_, \n",
    "    gamma = g_,\n",
    "    kernel = k_\n",
    ")\n",
    "\n",
    "score_model"
   ]
  },
  {
   "cell_type": "code",
   "execution_count": 16,
   "id": "indoor-austin",
   "metadata": {},
   "outputs": [],
   "source": [
    "from sklearn.model_selection import cross_validate\n",
    "\n",
    "scores = cross_validate(\n",
    "    score_model, \n",
    "    X_train, \n",
    "    y_train,\n",
    "    scoring=[\n",
    "        'neg_mean_absolute_error',\n",
    "        'neg_mean_squared_error',\n",
    "        'neg_root_mean_squared_error'\n",
    "    ],\n",
    "    cv=10\n",
    ")"
   ]
  },
  {
   "cell_type": "code",
   "execution_count": 17,
   "id": "fancy-cookie",
   "metadata": {},
   "outputs": [],
   "source": [
    "scores = pd.DataFrame(scores)"
   ]
  },
  {
   "cell_type": "code",
   "execution_count": 18,
   "id": "aerial-arnold",
   "metadata": {},
   "outputs": [
    {
     "data": {
      "text/html": [
       "<div>\n",
       "<style scoped>\n",
       "    .dataframe tbody tr th:only-of-type {\n",
       "        vertical-align: middle;\n",
       "    }\n",
       "\n",
       "    .dataframe tbody tr th {\n",
       "        vertical-align: top;\n",
       "    }\n",
       "\n",
       "    .dataframe thead th {\n",
       "        text-align: right;\n",
       "    }\n",
       "</style>\n",
       "<table border=\"1\" class=\"dataframe\">\n",
       "  <thead>\n",
       "    <tr style=\"text-align: right;\">\n",
       "      <th></th>\n",
       "      <th>fit_time</th>\n",
       "      <th>score_time</th>\n",
       "      <th>test_neg_mean_absolute_error</th>\n",
       "      <th>test_neg_mean_squared_error</th>\n",
       "      <th>test_neg_root_mean_squared_error</th>\n",
       "    </tr>\n",
       "  </thead>\n",
       "  <tbody>\n",
       "    <tr>\n",
       "      <th>0</th>\n",
       "      <td>0.759471</td>\n",
       "      <td>0.033406</td>\n",
       "      <td>-3.174780</td>\n",
       "      <td>-15.981434</td>\n",
       "      <td>-3.997679</td>\n",
       "    </tr>\n",
       "    <tr>\n",
       "      <th>1</th>\n",
       "      <td>1.139192</td>\n",
       "      <td>0.025222</td>\n",
       "      <td>-3.149979</td>\n",
       "      <td>-18.343479</td>\n",
       "      <td>-4.282929</td>\n",
       "    </tr>\n",
       "    <tr>\n",
       "      <th>2</th>\n",
       "      <td>0.495226</td>\n",
       "      <td>0.062505</td>\n",
       "      <td>-3.312197</td>\n",
       "      <td>-17.096048</td>\n",
       "      <td>-4.134737</td>\n",
       "    </tr>\n",
       "    <tr>\n",
       "      <th>3</th>\n",
       "      <td>0.675464</td>\n",
       "      <td>0.042668</td>\n",
       "      <td>-3.189216</td>\n",
       "      <td>-22.762237</td>\n",
       "      <td>-4.770979</td>\n",
       "    </tr>\n",
       "    <tr>\n",
       "      <th>4</th>\n",
       "      <td>0.502808</td>\n",
       "      <td>0.030598</td>\n",
       "      <td>-3.342236</td>\n",
       "      <td>-20.993246</td>\n",
       "      <td>-4.581839</td>\n",
       "    </tr>\n",
       "    <tr>\n",
       "      <th>5</th>\n",
       "      <td>0.400813</td>\n",
       "      <td>0.024191</td>\n",
       "      <td>-3.429015</td>\n",
       "      <td>-21.589303</td>\n",
       "      <td>-4.646429</td>\n",
       "    </tr>\n",
       "    <tr>\n",
       "      <th>6</th>\n",
       "      <td>0.424512</td>\n",
       "      <td>0.024367</td>\n",
       "      <td>-3.345202</td>\n",
       "      <td>-17.673058</td>\n",
       "      <td>-4.203934</td>\n",
       "    </tr>\n",
       "    <tr>\n",
       "      <th>7</th>\n",
       "      <td>0.506460</td>\n",
       "      <td>0.027417</td>\n",
       "      <td>-3.266304</td>\n",
       "      <td>-19.816634</td>\n",
       "      <td>-4.451588</td>\n",
       "    </tr>\n",
       "    <tr>\n",
       "      <th>8</th>\n",
       "      <td>0.646558</td>\n",
       "      <td>0.024462</td>\n",
       "      <td>-3.224669</td>\n",
       "      <td>-19.279902</td>\n",
       "      <td>-4.390888</td>\n",
       "    </tr>\n",
       "    <tr>\n",
       "      <th>9</th>\n",
       "      <td>0.499964</td>\n",
       "      <td>0.032614</td>\n",
       "      <td>-3.614984</td>\n",
       "      <td>-27.721908</td>\n",
       "      <td>-5.265160</td>\n",
       "    </tr>\n",
       "  </tbody>\n",
       "</table>\n",
       "</div>"
      ],
      "text/plain": [
       "   fit_time  score_time  test_neg_mean_absolute_error  \\\n",
       "0  0.759471    0.033406                     -3.174780   \n",
       "1  1.139192    0.025222                     -3.149979   \n",
       "2  0.495226    0.062505                     -3.312197   \n",
       "3  0.675464    0.042668                     -3.189216   \n",
       "4  0.502808    0.030598                     -3.342236   \n",
       "5  0.400813    0.024191                     -3.429015   \n",
       "6  0.424512    0.024367                     -3.345202   \n",
       "7  0.506460    0.027417                     -3.266304   \n",
       "8  0.646558    0.024462                     -3.224669   \n",
       "9  0.499964    0.032614                     -3.614984   \n",
       "\n",
       "   test_neg_mean_squared_error  test_neg_root_mean_squared_error  \n",
       "0                   -15.981434                         -3.997679  \n",
       "1                   -18.343479                         -4.282929  \n",
       "2                   -17.096048                         -4.134737  \n",
       "3                   -22.762237                         -4.770979  \n",
       "4                   -20.993246                         -4.581839  \n",
       "5                   -21.589303                         -4.646429  \n",
       "6                   -17.673058                         -4.203934  \n",
       "7                   -19.816634                         -4.451588  \n",
       "8                   -19.279902                         -4.390888  \n",
       "9                   -27.721908                         -5.265160  "
      ]
     },
     "execution_count": 18,
     "metadata": {},
     "output_type": "execute_result"
    }
   ],
   "source": [
    "scores"
   ]
  },
  {
   "cell_type": "code",
   "execution_count": 19,
   "id": "handy-october",
   "metadata": {},
   "outputs": [],
   "source": [
    "mean_scores = scores.mean()"
   ]
  },
  {
   "cell_type": "code",
   "execution_count": 20,
   "id": "maritime-wedding",
   "metadata": {},
   "outputs": [
    {
     "data": {
      "text/plain": [
       "fit_time                             0.605047\n",
       "score_time                           0.032745\n",
       "test_neg_mean_absolute_error        -3.304858\n",
       "test_neg_mean_squared_error        -20.125725\n",
       "test_neg_root_mean_squared_error    -4.472616\n",
       "dtype: float64"
      ]
     },
     "execution_count": 20,
     "metadata": {},
     "output_type": "execute_result"
    }
   ],
   "source": [
    "mean_scores"
   ]
  },
  {
   "cell_type": "markdown",
   "id": "embedded-psychiatry",
   "metadata": {},
   "source": [
    "# Export Model Score"
   ]
  },
  {
   "cell_type": "code",
   "execution_count": 21,
   "id": "terminal-insider",
   "metadata": {},
   "outputs": [],
   "source": [
    "mean_scores = mean_scores.rename(f'{model_name}')"
   ]
  },
  {
   "cell_type": "code",
   "execution_count": 22,
   "id": "honey-sodium",
   "metadata": {},
   "outputs": [],
   "source": [
    "mean_scores[[2,3,4]] = mean_scores[[2,3,4]].apply(abs)"
   ]
  },
  {
   "cell_type": "code",
   "execution_count": 23,
   "id": "flexible-margin",
   "metadata": {},
   "outputs": [],
   "source": [
    "# mean_scores"
   ]
  },
  {
   "cell_type": "code",
   "execution_count": 24,
   "id": "configured-looking",
   "metadata": {},
   "outputs": [],
   "source": [
    "mean_scores = mean_scores.rename({\n",
    "    'fit_time':'Fit Time',\n",
    "    'score_time':'Score Time',\n",
    "    'test_neg_mean_absolute_error':'MAE',\n",
    "    'test_neg_mean_squared_error':'MSE',\n",
    "    'test_neg_root_mean_squared_error':'RMSE'\n",
    "})"
   ]
  },
  {
   "cell_type": "code",
   "execution_count": 25,
   "id": "resistant-merchant",
   "metadata": {},
   "outputs": [
    {
     "data": {
      "text/plain": [
       "Fit Time       0.605047\n",
       "Score Time     0.032745\n",
       "MAE            3.304858\n",
       "MSE           20.125725\n",
       "RMSE           4.472616\n",
       "Name: svr-wo, dtype: float64"
      ]
     },
     "execution_count": 25,
     "metadata": {},
     "output_type": "execute_result"
    }
   ],
   "source": [
    "mean_scores"
   ]
  },
  {
   "cell_type": "code",
   "execution_count": 26,
   "id": "informational-theology",
   "metadata": {},
   "outputs": [],
   "source": [
    "mean_scores['STD FT'] = scores.fit_time.std()\n",
    "mean_scores['STD ST'] = scores.score_time.std()\n",
    "mean_scores['STD MAE'] = scores.test_neg_mean_absolute_error.std()\n",
    "mean_scores['STD MSE'] = scores.test_neg_mean_squared_error.std()\n",
    "mean_scores['STD RMSE'] = scores.test_neg_root_mean_squared_error.std()"
   ]
  },
  {
   "cell_type": "code",
   "execution_count": 27,
   "id": "gothic-graphic",
   "metadata": {},
   "outputs": [
    {
     "data": {
      "text/plain": [
       "Fit Time       0.605047\n",
       "Score Time     0.032745\n",
       "MAE            3.304858\n",
       "MSE           20.125725\n",
       "RMSE           4.472616\n",
       "STD FT         0.219449\n",
       "STD ST         0.011954\n",
       "STD MAE        0.140186\n",
       "STD MSE        3.397791\n",
       "STD RMSE       0.367319\n",
       "Name: svr-wo, dtype: float64"
      ]
     },
     "execution_count": 27,
     "metadata": {},
     "output_type": "execute_result"
    }
   ],
   "source": [
    "mean_scores"
   ]
  },
  {
   "cell_type": "code",
   "execution_count": 28,
   "id": "binding-extension",
   "metadata": {},
   "outputs": [],
   "source": [
    "mean_scores.to_csv(f'./scores/{model_name}.csv')"
   ]
  },
  {
   "cell_type": "markdown",
   "id": "known-special",
   "metadata": {},
   "source": [
    "# Holdout Test"
   ]
  },
  {
   "cell_type": "code",
   "execution_count": 29,
   "id": "parallel-armenia",
   "metadata": {},
   "outputs": [
    {
     "data": {
      "text/plain": [
       "SVR(C=1, degree=2, kernel='linear')"
      ]
     },
     "execution_count": 29,
     "metadata": {},
     "output_type": "execute_result"
    }
   ],
   "source": [
    "score_model.fit(X_train,y_train)"
   ]
  },
  {
   "cell_type": "code",
   "execution_count": 30,
   "id": "acceptable-entity",
   "metadata": {},
   "outputs": [],
   "source": [
    "y_holdout = score_model.predict(X_test)"
   ]
  },
  {
   "cell_type": "code",
   "execution_count": 31,
   "id": "widespread-convertible",
   "metadata": {},
   "outputs": [
    {
     "data": {
      "text/plain": [
       "<AxesSubplot:ylabel='Count'>"
      ]
     },
     "execution_count": 31,
     "metadata": {},
     "output_type": "execute_result"
    },
    {
     "data": {
      "image/png": "[encoded data removed]",
      "text/plain": [
       "<Figure size 432x288 with 1 Axes>"
      ]
     },
     "metadata": {
      "needs_background": "light"
     },
     "output_type": "display_data"
    }
   ],
   "source": [
    "sns.histplot(y_holdout,bins=40,kde=True)"
   ]
  },
  {
   "cell_type": "code",
   "execution_count": 32,
   "id": "least-monday",
   "metadata": {},
   "outputs": [
    {
     "data": {
      "text/plain": [
       "<matplotlib.legend.Legend at 0x7fbd783306d0>"
      ]
     },
     "execution_count": 32,
     "metadata": {},
     "output_type": "execute_result"
    },
    {
     "data": {
      "image/png": "[encoded data removed]",
      "text/plain": [
       "<Figure size 432x288 with 1 Axes>"
      ]
     },
     "metadata": {
      "needs_background": "light"
     },
     "output_type": "display_data"
    }
   ],
   "source": [
    "fig,ax = plt.subplots()\n",
    "\n",
    "sns.kdeplot(y_test, ax=ax, shade=True, label='Observations')\n",
    "sns.kdeplot(y_holdout, ax=ax,shade=True,label='Predictions')\n",
    "\n",
    "ax.legend(loc='best')"
   ]
  },
  {
   "cell_type": "code",
   "execution_count": 33,
   "id": "limiting-velvet",
   "metadata": {},
   "outputs": [
    {
     "data": {
      "text/plain": [
       "<matplotlib.legend.Legend at 0x7fbd7838a7f0>"
      ]
     },
     "execution_count": 33,
     "metadata": {},
     "output_type": "execute_result"
    },
    {
     "data": {
      "image/png": "[encoded data removed]",
      "text/plain": [
       "<Figure size 432x288 with 1 Axes>"
      ]
     },
     "metadata": {
      "needs_background": "light"
     },
     "output_type": "display_data"
    }
   ],
   "source": [
    "fig,ax = plt.subplots()\n",
    "\n",
    "sns.ecdfplot(y_test, ax=ax, label='Observations')\n",
    "sns.ecdfplot(y_holdout, ax=ax,label='Predictions')\n",
    "plt.axvline(x=y_test.mean(),color='grey',linestyle='--')\n",
    "\n",
    "ax.legend(loc='best')"
   ]
  },
  {
   "cell_type": "code",
   "execution_count": 34,
   "id": "missing-legislation",
   "metadata": {},
   "outputs": [],
   "source": [
    "from sklearn.metrics import mean_absolute_error, mean_squared_error\n",
    "\n",
    "mae = mean_absolute_error(y_test,y_holdout)\n",
    "mse = mean_squared_error(y_test,y_holdout)\n",
    "rmse = np.sqrt(mse)"
   ]
  },
  {
   "cell_type": "code",
   "execution_count": 35,
   "id": "interior-preview",
   "metadata": {},
   "outputs": [
    {
     "data": {
      "text/html": [
       "<div>\n",
       "<style scoped>\n",
       "    .dataframe tbody tr th:only-of-type {\n",
       "        vertical-align: middle;\n",
       "    }\n",
       "\n",
       "    .dataframe tbody tr th {\n",
       "        vertical-align: top;\n",
       "    }\n",
       "\n",
       "    .dataframe thead th {\n",
       "        text-align: right;\n",
       "    }\n",
       "</style>\n",
       "<table border=\"1\" class=\"dataframe\">\n",
       "  <thead>\n",
       "    <tr style=\"text-align: right;\">\n",
       "      <th></th>\n",
       "      <th>svr-wo</th>\n",
       "    </tr>\n",
       "  </thead>\n",
       "  <tbody>\n",
       "    <tr>\n",
       "      <th>MAE</th>\n",
       "      <td>3.975099</td>\n",
       "    </tr>\n",
       "    <tr>\n",
       "      <th>MSE</th>\n",
       "      <td>27.905289</td>\n",
       "    </tr>\n",
       "    <tr>\n",
       "      <th>RMSE</th>\n",
       "      <td>5.282546</td>\n",
       "    </tr>\n",
       "  </tbody>\n",
       "</table>\n",
       "</div>"
      ],
      "text/plain": [
       "         svr-wo\n",
       "MAE    3.975099\n",
       "MSE   27.905289\n",
       "RMSE   5.282546"
      ]
     },
     "execution_count": 35,
     "metadata": {},
     "output_type": "execute_result"
    }
   ],
   "source": [
    "err_df = pd.DataFrame(data=[mae, mse, rmse],index=['MAE','MSE','RMSE'],columns=[f'{model_name}'])\n",
    "err_df"
   ]
  },
  {
   "cell_type": "code",
   "execution_count": 36,
   "id": "incident-rwanda",
   "metadata": {},
   "outputs": [],
   "source": [
    "err_df.to_csv(f'./holdout-test/{model_name}.csv')\n",
    "# mean_scores.to_csv(f'./opt-model-err/{model_name}-err.csv')"
   ]
  },
  {
   "cell_type": "code",
   "execution_count": 37,
   "id": "matched-filling",
   "metadata": {},
   "outputs": [
    {
     "data": {
      "text/plain": [
       "mean     0.843810\n",
       "std      5.226887\n",
       "min    -11.727609\n",
       "25%     -2.481597\n",
       "50%     -0.171468\n",
       "75%      3.901490\n",
       "max     17.798030\n",
       "Name: throughput, dtype: float64"
      ]
     },
     "execution_count": 37,
     "metadata": {},
     "output_type": "execute_result"
    }
   ],
   "source": [
    "res = y_test - y_holdout\n",
    "res.describe().drop('count')"
   ]
  },
  {
   "cell_type": "code",
   "execution_count": 38,
   "id": "vietnamese-agriculture",
   "metadata": {},
   "outputs": [
    {
     "data": {
      "text/plain": [
       "<AxesSubplot:xlabel='throughput', ylabel='Count'>"
      ]
     },
     "execution_count": 38,
     "metadata": {},
     "output_type": "execute_result"
    },
    {
     "data": {
      "image/png": "[encoded data removed]",
      "text/plain": [
       "<Figure size 432x288 with 1 Axes>"
      ]
     },
     "metadata": {
      "needs_background": "light"
     },
     "output_type": "display_data"
    }
   ],
   "source": [
    "sns.histplot(data=res, kde=True,bins=40)"
   ]
  },
  {
   "cell_type": "code",
   "execution_count": 39,
   "id": "integrated-meaning",
   "metadata": {},
   "outputs": [
    {
     "data": {
      "text/plain": [
       "<matplotlib.lines.Line2D at 0x7fbd7ac23f10>"
      ]
     },
     "execution_count": 39,
     "metadata": {},
     "output_type": "execute_result"
    },
    {
     "data": {
      "image/png": "[encoded data removed]",
      "text/plain": [
       "<Figure size 432x288 with 1 Axes>"
      ]
     },
     "metadata": {
      "needs_background": "light"
     },
     "output_type": "display_data"
    }
   ],
   "source": [
    "ax = sns.scatterplot(x=y_test, y=res)\n",
    "ax.set(ylabel='Residuals', xlabel='Test Label')\n",
    "plt.axhline(y=0,color='red',linestyle='--')\n",
    "\n",
    "# there should be no clear pattern / curve in the plot\n",
    "# we see a positive correlation between Test Label and Residuals -> later models should avoid this pattern"
   ]
  },
  {
   "cell_type": "code",
   "execution_count": 40,
   "id": "sound-brush",
   "metadata": {},
   "outputs": [
    {
     "data": {
      "image/png": "[encoded data removed]",
      "text/plain": [
       "<Figure size 432x288 with 1 Axes>"
      ]
     },
     "metadata": {
      "needs_background": "light"
     },
     "output_type": "display_data"
    }
   ],
   "source": [
    "import scipy as sp\n",
    "\n",
    "fig, ax = plt.subplots()\n",
    "sp.stats.probplot(res,plot=ax);"
   ]
  },
  {
   "cell_type": "markdown",
   "id": "veterinary-proxy",
   "metadata": {},
   "source": [
    "# Export Optimized Model"
   ]
  },
  {
   "cell_type": "code",
   "execution_count": 41,
   "id": "emotional-factory",
   "metadata": {},
   "outputs": [
    {
     "data": {
      "text/plain": [
       "RobustScaler()"
      ]
     },
     "execution_count": 41,
     "metadata": {},
     "output_type": "execute_result"
    }
   ],
   "source": [
    "from sklearn.preprocessing import RobustScaler\n",
    "scaler = RobustScaler()\n",
    "scaler.fit(X)"
   ]
  },
  {
   "cell_type": "code",
   "execution_count": 42,
   "id": "twelve-lemon",
   "metadata": {},
   "outputs": [
    {
     "data": {
      "text/plain": [
       "SVR(C=1, degree=2, kernel='linear')"
      ]
     },
     "execution_count": 42,
     "metadata": {},
     "output_type": "execute_result"
    }
   ],
   "source": [
    "# MODIFY! \n",
    "X = scaler.transform(X)\n",
    "\n",
    "op_model = score_model\n",
    "\n",
    "op_model.fit(X,y)"
   ]
  },
  {
   "cell_type": "code",
   "execution_count": 43,
   "id": "floating-officer",
   "metadata": {},
   "outputs": [],
   "source": [
    "y_pred = op_model.predict(X)"
   ]
  },
  {
   "cell_type": "code",
   "execution_count": 44,
   "id": "experienced-combine",
   "metadata": {},
   "outputs": [
    {
     "data": {
      "text/plain": [
       "<AxesSubplot:ylabel='Count'>"
      ]
     },
     "execution_count": 44,
     "metadata": {},
     "output_type": "execute_result"
    },
    {
     "data": {
      "image/png": "[encoded data removed]",
      "text/plain": [
       "<Figure size 432x288 with 1 Axes>"
      ]
     },
     "metadata": {
      "needs_background": "light"
     },
     "output_type": "display_data"
    }
   ],
   "source": [
    "sns.histplot(y_pred,bins=40,kde=True)"
   ]
  },
  {
   "cell_type": "code",
   "execution_count": 45,
   "id": "utility-wheel",
   "metadata": {},
   "outputs": [
    {
     "data": {
      "text/plain": [
       "<matplotlib.legend.Legend at 0x7fbd78578e50>"
      ]
     },
     "execution_count": 45,
     "metadata": {},
     "output_type": "execute_result"
    },
    {
     "data": {
      "image/png": "[encoded data removed]",
      "text/plain": [
       "<Figure size 432x288 with 1 Axes>"
      ]
     },
     "metadata": {
      "needs_background": "light"
     },
     "output_type": "display_data"
    }
   ],
   "source": [
    "fig,ax = plt.subplots()\n",
    "\n",
    "sns.kdeplot(y, ax=ax, shade=True, label='Observations')\n",
    "sns.kdeplot(y_pred, ax=ax,shade=True,label='Predictions')\n",
    "\n",
    "ax.legend(loc='best')"
   ]
  },
  {
   "cell_type": "code",
   "execution_count": 46,
   "id": "casual-remedy",
   "metadata": {},
   "outputs": [
    {
     "data": {
      "text/plain": [
       "<matplotlib.legend.Legend at 0x7fbd7879b3d0>"
      ]
     },
     "execution_count": 46,
     "metadata": {},
     "output_type": "execute_result"
    },
    {
     "data": {
      "image/png": "[encoded data removed]",
      "text/plain": [
       "<Figure size 432x288 with 1 Axes>"
      ]
     },
     "metadata": {
      "needs_background": "light"
     },
     "output_type": "display_data"
    }
   ],
   "source": [
    "fig,ax = plt.subplots()\n",
    "\n",
    "sns.ecdfplot(y, ax=ax, label='Observations')\n",
    "sns.ecdfplot(y_pred, ax=ax,label='Predictions')\n",
    "plt.axvline(x=y.mean(),color='grey',linestyle='--')\n",
    "\n",
    "ax.legend(loc='best')"
   ]
  },
  {
   "cell_type": "code",
   "execution_count": 47,
   "id": "colonial-violence",
   "metadata": {},
   "outputs": [],
   "source": [
    "mae = mean_absolute_error(y,y_pred)\n",
    "mse = mean_squared_error(y,y_pred)\n",
    "rmse = np.sqrt(mse)"
   ]
  },
  {
   "cell_type": "code",
   "execution_count": 48,
   "id": "australian-charter",
   "metadata": {},
   "outputs": [
    {
     "data": {
      "text/html": [
       "<div>\n",
       "<style scoped>\n",
       "    .dataframe tbody tr th:only-of-type {\n",
       "        vertical-align: middle;\n",
       "    }\n",
       "\n",
       "    .dataframe tbody tr th {\n",
       "        vertical-align: top;\n",
       "    }\n",
       "\n",
       "    .dataframe thead th {\n",
       "        text-align: right;\n",
       "    }\n",
       "</style>\n",
       "<table border=\"1\" class=\"dataframe\">\n",
       "  <thead>\n",
       "    <tr style=\"text-align: right;\">\n",
       "      <th></th>\n",
       "      <th>svr-wo</th>\n",
       "    </tr>\n",
       "  </thead>\n",
       "  <tbody>\n",
       "    <tr>\n",
       "      <th>MAE</th>\n",
       "      <td>3.214286</td>\n",
       "    </tr>\n",
       "    <tr>\n",
       "      <th>MSE</th>\n",
       "      <td>19.392977</td>\n",
       "    </tr>\n",
       "    <tr>\n",
       "      <th>RMSE</th>\n",
       "      <td>4.403746</td>\n",
       "    </tr>\n",
       "  </tbody>\n",
       "</table>\n",
       "</div>"
      ],
      "text/plain": [
       "         svr-wo\n",
       "MAE    3.214286\n",
       "MSE   19.392977\n",
       "RMSE   4.403746"
      ]
     },
     "execution_count": 48,
     "metadata": {},
     "output_type": "execute_result"
    }
   ],
   "source": [
    "err_df = pd.DataFrame(data=[mae, mse, rmse],index=['MAE','MSE','RMSE'],columns=[f'{model_name}'])\n",
    "err_df"
   ]
  },
  {
   "cell_type": "code",
   "execution_count": 49,
   "id": "sensitive-pizza",
   "metadata": {},
   "outputs": [],
   "source": [
    "err_df.to_csv(f'./model-err/{model_name}.csv')\n",
    "# mean_scores.to_csv(f'./opt-model-err/{model_name}-err.csv')"
   ]
  },
  {
   "cell_type": "code",
   "execution_count": 50,
   "id": "egyptian-palestine",
   "metadata": {},
   "outputs": [
    {
     "data": {
      "text/plain": [
       "['./opt-models/svr-wo.joblib']"
      ]
     },
     "execution_count": 50,
     "metadata": {},
     "output_type": "execute_result"
    }
   ],
   "source": [
    "from joblib import dump, load\n",
    "dump(op_model, f'./opt-models/{model_name}.joblib')"
   ]
  },
  {
   "cell_type": "code",
   "execution_count": 51,
   "id": "multiple-poverty",
   "metadata": {},
   "outputs": [
    {
     "data": {
      "text/plain": [
       "mean     0.287438\n",
       "std      4.395382\n",
       "min    -17.352082\n",
       "25%     -2.438174\n",
       "50%     -0.000121\n",
       "75%      2.512493\n",
       "max     36.286052\n",
       "Name: throughput, dtype: float64"
      ]
     },
     "execution_count": 51,
     "metadata": {},
     "output_type": "execute_result"
    }
   ],
   "source": [
    "res = y - y_pred\n",
    "res.describe().drop('count')"
   ]
  },
  {
   "cell_type": "code",
   "execution_count": 52,
   "id": "vulnerable-desire",
   "metadata": {},
   "outputs": [
    {
     "data": {
      "text/plain": [
       "<AxesSubplot:xlabel='throughput', ylabel='Count'>"
      ]
     },
     "execution_count": 52,
     "metadata": {},
     "output_type": "execute_result"
    },
    {
     "data": {
      "image/png": "[encoded data removed]",
      "text/plain": [
       "<Figure size 432x288 with 1 Axes>"
      ]
     },
     "metadata": {
      "needs_background": "light"
     },
     "output_type": "display_data"
    }
   ],
   "source": [
    "sns.histplot(data=res, kde=True,bins=40)"
   ]
  },
  {
   "cell_type": "code",
   "execution_count": 53,
   "id": "applicable-norwegian",
   "metadata": {},
   "outputs": [
    {
     "data": {
      "text/plain": [
       "<matplotlib.lines.Line2D at 0x7fbd78a4aeb0>"
      ]
     },
     "execution_count": 53,
     "metadata": {},
     "output_type": "execute_result"
    },
    {
     "data": {
      "image/png": "[encoded data removed]",
      "text/plain": [
       "<Figure size 432x288 with 1 Axes>"
      ]
     },
     "metadata": {
      "needs_background": "light"
     },
     "output_type": "display_data"
    }
   ],
   "source": [
    "ax = sns.scatterplot(x=y_test, y=res)\n",
    "ax.set(ylabel='Residuals', xlabel='Test Label')\n",
    "plt.axhline(y=0,color='red',linestyle='--')\n",
    "\n",
    "# there should be no clear pattern / curve in the plot\n",
    "# we see a positive correlation between Test Label and Residuals -> later models should avoid this pattern"
   ]
  },
  {
   "cell_type": "code",
   "execution_count": 54,
   "id": "theoretical-packet",
   "metadata": {},
   "outputs": [
    {
     "data": {
      "image/png": "[encoded data removed]",
      "text/plain": [
       "<Figure size 432x288 with 1 Axes>"
      ]
     },
     "metadata": {
      "needs_background": "light"
     },
     "output_type": "display_data"
    }
   ],
   "source": [
    "import scipy as sp\n",
    "\n",
    "fig, ax = plt.subplots()\n",
    "sp.stats.probplot(res,plot=ax);"
   ]
  },
  {
   "cell_type": "markdown",
   "id": "improved-classic",
   "metadata": {},
   "source": [
    "DONE!"
   ]
  },
  {
   "cell_type": "code",
   "execution_count": null,
   "id": "fallen-essay",
   "metadata": {},
   "outputs": [],
   "source": []
  }
 ],
 "metadata": {
  "kernelspec": {
   "display_name": "Python 3",
   "language": "python",
   "name": "python3"
  },
  "language_info": {
   "codemirror_mode": {
    "name": "ipython",
    "version": 3
   },
   "file_extension": ".py",
   "mimetype": "text/x-python",
   "name": "python",
   "nbconvert_exporter": "python",
   "pygments_lexer": "ipython3",
   "version": "3.8.6"
  },
  "toc-autonumbering": true
 },
 "nbformat": 4,
 "nbformat_minor": 5
}
