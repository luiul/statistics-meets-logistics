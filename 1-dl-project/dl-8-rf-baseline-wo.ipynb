{
 "cells": [
  {
   "cell_type": "code",
   "execution_count": 1,
   "id": "successful-spouse",
   "metadata": {},
   "outputs": [],
   "source": [
    "model_name = 'rf-baseline-wo'"
   ]
  },
  {
   "cell_type": "code",
   "execution_count": 2,
   "id": "veterinary-uzbekistan",
   "metadata": {},
   "outputs": [],
   "source": [
    "import numpy as np\n",
    "import pandas as pd\n",
    "import matplotlib.pyplot as plt\n",
    "import seaborn as sns"
   ]
  },
  {
   "cell_type": "code",
   "execution_count": 3,
   "id": "sapphire-stuff",
   "metadata": {},
   "outputs": [],
   "source": [
    "df = pd.read_csv('./data/d-wo-ns.csv')"
   ]
  },
  {
   "cell_type": "code",
   "execution_count": 4,
   "id": "architectural-indonesia",
   "metadata": {},
   "outputs": [],
   "source": [
    "# df.columns"
   ]
  },
  {
   "cell_type": "code",
   "execution_count": 5,
   "id": "planned-panel",
   "metadata": {},
   "outputs": [],
   "source": [
    "# df.head()"
   ]
  },
  {
   "cell_type": "code",
   "execution_count": 6,
   "id": "sensitive-preparation",
   "metadata": {},
   "outputs": [
    {
     "data": {
      "text/plain": [
       "(2141, 87)"
      ]
     },
     "execution_count": 6,
     "metadata": {},
     "output_type": "execute_result"
    }
   ],
   "source": [
    "df.shape"
   ]
  },
  {
   "cell_type": "code",
   "execution_count": 7,
   "id": "inappropriate-german",
   "metadata": {},
   "outputs": [],
   "source": [
    "# df.info()"
   ]
  },
  {
   "cell_type": "code",
   "execution_count": 8,
   "id": "continuing-express",
   "metadata": {},
   "outputs": [],
   "source": [
    "X = df.drop('throughput',axis=1)"
   ]
  },
  {
   "cell_type": "code",
   "execution_count": 9,
   "id": "victorian-kidney",
   "metadata": {},
   "outputs": [
    {
     "data": {
      "text/plain": [
       "(2141, 86)"
      ]
     },
     "execution_count": 9,
     "metadata": {},
     "output_type": "execute_result"
    }
   ],
   "source": [
    "X.shape"
   ]
  },
  {
   "cell_type": "code",
   "execution_count": 10,
   "id": "different-washer",
   "metadata": {},
   "outputs": [],
   "source": [
    "y = df['throughput']"
   ]
  },
  {
   "cell_type": "code",
   "execution_count": 11,
   "id": "imposed-copper",
   "metadata": {},
   "outputs": [
    {
     "data": {
      "text/plain": [
       "(2141,)"
      ]
     },
     "execution_count": 11,
     "metadata": {},
     "output_type": "execute_result"
    }
   ],
   "source": [
    "y.shape"
   ]
  },
  {
   "cell_type": "code",
   "execution_count": 12,
   "id": "selected-variety",
   "metadata": {},
   "outputs": [],
   "source": [
    "# Split the data\n",
    "from sklearn.model_selection import train_test_split\n",
    "X_train, X_test, y_train, y_test = train_test_split(X, y, test_size=0.33, random_state=42)\n",
    "\n",
    "# Scale the data\n",
    "from sklearn.preprocessing import StandardScaler\n",
    "scaler = StandardScaler()\n",
    "scaler.fit(X_train)\n",
    "\n",
    "X_train = scaler.transform(X_train)\n",
    "X_test = scaler.transform(X_test)\n",
    "\n",
    "# Instantiate model\n",
    "from sklearn.ensemble import RandomForestRegressor\n",
    "model = RandomForestRegressor()\n",
    "\n",
    "model.fit(X_train, y_train)\n",
    "\n",
    "y_pred = model.predict(X_test)\n",
    "\n",
    "from sklearn.metrics import mean_absolute_error, mean_squared_error\n",
    "\n",
    "mae = mean_absolute_error(y_test,y_pred)\n",
    "mse = mean_squared_error(y_test,y_pred)\n",
    "rmse = np.sqrt(mse)"
   ]
  },
  {
   "cell_type": "code",
   "execution_count": 13,
   "id": "continued-sweden",
   "metadata": {},
   "outputs": [
    {
     "data": {
      "text/plain": [
       "3.1960899042347948"
      ]
     },
     "execution_count": 13,
     "metadata": {},
     "output_type": "execute_result"
    }
   ],
   "source": [
    "mae"
   ]
  },
  {
   "cell_type": "code",
   "execution_count": 14,
   "id": "tracked-swift",
   "metadata": {},
   "outputs": [
    {
     "data": {
      "text/plain": [
       "18.920772467914976"
      ]
     },
     "execution_count": 14,
     "metadata": {},
     "output_type": "execute_result"
    }
   ],
   "source": [
    "mse"
   ]
  },
  {
   "cell_type": "code",
   "execution_count": 15,
   "id": "consolidated-breed",
   "metadata": {},
   "outputs": [
    {
     "data": {
      "text/plain": [
       "4.34980142856142"
      ]
     },
     "execution_count": 15,
     "metadata": {},
     "output_type": "execute_result"
    }
   ],
   "source": [
    "rmse"
   ]
  },
  {
   "cell_type": "code",
   "execution_count": 16,
   "id": "bored-subscription",
   "metadata": {},
   "outputs": [
    {
     "data": {
      "text/html": [
       "<div>\n",
       "<style scoped>\n",
       "    .dataframe tbody tr th:only-of-type {\n",
       "        vertical-align: middle;\n",
       "    }\n",
       "\n",
       "    .dataframe tbody tr th {\n",
       "        vertical-align: top;\n",
       "    }\n",
       "\n",
       "    .dataframe thead th {\n",
       "        text-align: right;\n",
       "    }\n",
       "</style>\n",
       "<table border=\"1\" class=\"dataframe\">\n",
       "  <thead>\n",
       "    <tr style=\"text-align: right;\">\n",
       "      <th></th>\n",
       "      <th>rf-baseline-wo</th>\n",
       "    </tr>\n",
       "  </thead>\n",
       "  <tbody>\n",
       "    <tr>\n",
       "      <th>MAE</th>\n",
       "      <td>3.196090</td>\n",
       "    </tr>\n",
       "    <tr>\n",
       "      <th>MSE</th>\n",
       "      <td>18.920772</td>\n",
       "    </tr>\n",
       "    <tr>\n",
       "      <th>RMSE</th>\n",
       "      <td>4.349801</td>\n",
       "    </tr>\n",
       "  </tbody>\n",
       "</table>\n",
       "</div>"
      ],
      "text/plain": [
       "      rf-baseline-wo\n",
       "MAE         3.196090\n",
       "MSE        18.920772\n",
       "RMSE        4.349801"
      ]
     },
     "execution_count": 16,
     "metadata": {},
     "output_type": "execute_result"
    }
   ],
   "source": [
    "err_df = pd.DataFrame(data=[mae, mse, rmse],index=['MAE','MSE','RMSE'],columns=[f'{model_name}'])\n",
    "err_df"
   ]
  },
  {
   "cell_type": "code",
   "execution_count": 17,
   "id": "curious-verification",
   "metadata": {},
   "outputs": [],
   "source": [
    "err_df.to_csv(f'./baseline-err/{model_name}.csv')"
   ]
  },
  {
   "cell_type": "code",
   "execution_count": 18,
   "id": "automated-large",
   "metadata": {},
   "outputs": [
    {
     "data": {
      "text/html": [
       "<div>\n",
       "<style scoped>\n",
       "    .dataframe tbody tr th:only-of-type {\n",
       "        vertical-align: middle;\n",
       "    }\n",
       "\n",
       "    .dataframe tbody tr th {\n",
       "        vertical-align: top;\n",
       "    }\n",
       "\n",
       "    .dataframe thead th {\n",
       "        text-align: right;\n",
       "    }\n",
       "</style>\n",
       "<table border=\"1\" class=\"dataframe\">\n",
       "  <thead>\n",
       "    <tr style=\"text-align: right;\">\n",
       "      <th></th>\n",
       "      <th>throughput_pred</th>\n",
       "    </tr>\n",
       "  </thead>\n",
       "  <tbody>\n",
       "    <tr>\n",
       "      <th>mean</th>\n",
       "      <td>13.361530</td>\n",
       "    </tr>\n",
       "    <tr>\n",
       "      <th>std</th>\n",
       "      <td>5.746756</td>\n",
       "    </tr>\n",
       "    <tr>\n",
       "      <th>min</th>\n",
       "      <td>2.851337</td>\n",
       "    </tr>\n",
       "    <tr>\n",
       "      <th>25%</th>\n",
       "      <td>8.283453</td>\n",
       "    </tr>\n",
       "    <tr>\n",
       "      <th>50%</th>\n",
       "      <td>13.272120</td>\n",
       "    </tr>\n",
       "    <tr>\n",
       "      <th>75%</th>\n",
       "      <td>17.618814</td>\n",
       "    </tr>\n",
       "    <tr>\n",
       "      <th>max</th>\n",
       "      <td>29.000937</td>\n",
       "    </tr>\n",
       "  </tbody>\n",
       "</table>\n",
       "</div>"
      ],
      "text/plain": [
       "      throughput_pred\n",
       "mean        13.361530\n",
       "std          5.746756\n",
       "min          2.851337\n",
       "25%          8.283453\n",
       "50%         13.272120\n",
       "75%         17.618814\n",
       "max         29.000937"
      ]
     },
     "execution_count": 18,
     "metadata": {},
     "output_type": "execute_result"
    }
   ],
   "source": [
    "y_pred_df = pd.DataFrame(y_pred, columns=['throughput_pred'])\n",
    "y_pred_df.describe().drop('count')\n",
    "# no negative predictions"
   ]
  },
  {
   "cell_type": "code",
   "execution_count": 19,
   "id": "double-youth",
   "metadata": {},
   "outputs": [
    {
     "data": {
      "text/plain": [
       "<AxesSubplot:ylabel='Count'>"
      ]
     },
     "execution_count": 19,
     "metadata": {},
     "output_type": "execute_result"
    },
    {
     "data": {
      "image/png": "[encoded data removed]",
      "text/plain": [
       "<Figure size 432x288 with 1 Axes>"
      ]
     },
     "metadata": {
      "needs_background": "light"
     },
     "output_type": "display_data"
    }
   ],
   "source": [
    "sns.histplot(y_pred,bins=40,kde=True)\n",
    "# the distribution better reflects the true distribution of the data set"
   ]
  },
  {
   "cell_type": "code",
   "execution_count": 20,
   "id": "blocked-nitrogen",
   "metadata": {},
   "outputs": [
    {
     "data": {
      "text/plain": [
       "<matplotlib.legend.Legend at 0x7fd4e9ebb940>"
      ]
     },
     "execution_count": 20,
     "metadata": {},
     "output_type": "execute_result"
    },
    {
     "data": {
      "image/png": "[encoded data removed]",
      "text/plain": [
       "<Figure size 432x288 with 1 Axes>"
      ]
     },
     "metadata": {
      "needs_background": "light"
     },
     "output_type": "display_data"
    }
   ],
   "source": [
    "fig,ax = plt.subplots()\n",
    "\n",
    "sns.kdeplot(y_test, ax=ax, shade=True, label='Observations')\n",
    "sns.kdeplot(y_pred, ax=ax,shade=True,label='Predictions')\n",
    "\n",
    "ax.legend(loc='best')"
   ]
  },
  {
   "cell_type": "code",
   "execution_count": 21,
   "id": "protected-titanium",
   "metadata": {},
   "outputs": [
    {
     "data": {
      "text/plain": [
       "<matplotlib.legend.Legend at 0x7fd4e9ff4af0>"
      ]
     },
     "execution_count": 21,
     "metadata": {},
     "output_type": "execute_result"
    },
    {
     "data": {
      "image/png": "[encoded data removed]",
      "text/plain": [
       "<Figure size 432x288 with 1 Axes>"
      ]
     },
     "metadata": {
      "needs_background": "light"
     },
     "output_type": "display_data"
    }
   ],
   "source": [
    "fig,ax = plt.subplots()\n",
    "\n",
    "sns.ecdfplot(y_test, ax=ax, label='Observations')\n",
    "sns.ecdfplot(y_pred, ax=ax,label='Predictions')\n",
    "plt.axvline(x=y.mean(),color='grey',linestyle='--')\n",
    "\n",
    "ax.legend(loc='best')"
   ]
  },
  {
   "cell_type": "code",
   "execution_count": 22,
   "id": "aboriginal-escape",
   "metadata": {},
   "outputs": [],
   "source": [
    "# y.describe().drop(['count'])"
   ]
  },
  {
   "cell_type": "code",
   "execution_count": 23,
   "id": "popular-happening",
   "metadata": {},
   "outputs": [
    {
     "data": {
      "text/plain": [
       "mean    -0.155154\n",
       "std      4.350111\n",
       "min    -13.767038\n",
       "25%     -2.578472\n",
       "50%     -0.503273\n",
       "75%      2.110648\n",
       "max     18.011544\n",
       "Name: throughput, dtype: float64"
      ]
     },
     "execution_count": 23,
     "metadata": {},
     "output_type": "execute_result"
    }
   ],
   "source": [
    "res = y_test - y_pred\n",
    "res.describe().drop('count')"
   ]
  },
  {
   "cell_type": "code",
   "execution_count": 24,
   "id": "nutritional-perth",
   "metadata": {},
   "outputs": [
    {
     "data": {
      "text/plain": [
       "Text(0.5, 0, 'Residuals')"
      ]
     },
     "execution_count": 24,
     "metadata": {},
     "output_type": "execute_result"
    },
    {
     "data": {
      "image/png": "[encoded data removed]",
      "text/plain": [
       "<Figure size 432x288 with 1 Axes>"
      ]
     },
     "metadata": {
      "needs_background": "light"
     },
     "output_type": "display_data"
    }
   ],
   "source": [
    "sns.histplot(data=res, kde=True,bins=40)\n",
    "plt.xlabel('Residuals')"
   ]
  },
  {
   "cell_type": "code",
   "execution_count": 25,
   "id": "reserved-injury",
   "metadata": {},
   "outputs": [
    {
     "data": {
      "text/plain": [
       "<matplotlib.lines.Line2D at 0x7fd4ea284160>"
      ]
     },
     "execution_count": 25,
     "metadata": {},
     "output_type": "execute_result"
    },
    {
     "data": {
      "image/png": "[encoded data removed]",
      "text/plain": [
       "<Figure size 432x288 with 1 Axes>"
      ]
     },
     "metadata": {
      "needs_background": "light"
     },
     "output_type": "display_data"
    }
   ],
   "source": [
    "ax = sns.scatterplot(x=y_test, y=res)\n",
    "ax.set(ylabel='Residuals', xlabel='Test Label')\n",
    "plt.axhline(y=0,color='red',linestyle='--')\n",
    "\n",
    "# there should be no clear pattern / curve in the plot\n",
    "# we see a positive correlation between Test Label and Residuals -> later models should avoid this pattern"
   ]
  },
  {
   "cell_type": "code",
   "execution_count": 26,
   "id": "distinct-wallpaper",
   "metadata": {},
   "outputs": [
    {
     "data": {
      "image/png": "[encoded data removed]",
      "text/plain": [
       "<Figure size 432x288 with 1 Axes>"
      ]
     },
     "metadata": {
      "needs_background": "light"
     },
     "output_type": "display_data"
    }
   ],
   "source": [
    "import scipy as sp\n",
    "\n",
    "fig, ax = plt.subplots()\n",
    "sp.stats.probplot(res,plot=ax);"
   ]
  },
  {
   "cell_type": "code",
   "execution_count": 27,
   "id": "devoted-queens",
   "metadata": {},
   "outputs": [
    {
     "data": {
      "text/plain": [
       "RandomForestRegressor()"
      ]
     },
     "execution_count": 27,
     "metadata": {},
     "output_type": "execute_result"
    }
   ],
   "source": [
    "# Scale the data\n",
    "from sklearn.preprocessing import StandardScaler\n",
    "scaler = StandardScaler()\n",
    "scaler.fit(X)\n",
    "\n",
    "X_rf = scaler.transform(X)\n",
    "\n",
    "rf_model = RandomForestRegressor()\n",
    "rf_model.fit(X_rf,y)"
   ]
  },
  {
   "cell_type": "code",
   "execution_count": 28,
   "id": "naked-relaxation",
   "metadata": {},
   "outputs": [],
   "source": [
    "# model.coef_"
   ]
  },
  {
   "cell_type": "code",
   "execution_count": 29,
   "id": "direct-grace",
   "metadata": {},
   "outputs": [],
   "source": [
    "# coef_df = pd.DataFrame(data=model.coef_,index=X.columns,columns=['beta'])\n",
    "# coef_df"
   ]
  },
  {
   "cell_type": "code",
   "execution_count": 30,
   "id": "opened-package",
   "metadata": {},
   "outputs": [],
   "source": [
    "# rf_model.coef_"
   ]
  },
  {
   "cell_type": "code",
   "execution_count": 31,
   "id": "coral-psychology",
   "metadata": {},
   "outputs": [],
   "source": [
    "# coef_df = pd.DataFrame(data=rf_model.coef_,index=X.columns,columns=['beta'])\n",
    "# coef_df"
   ]
  },
  {
   "cell_type": "code",
   "execution_count": 32,
   "id": "fourth-boost",
   "metadata": {},
   "outputs": [],
   "source": [
    "# delta_df = pd.DataFrame(data=rf_model.coef_ - model.coef_,index=X.columns,columns=['delta_beta'])\n",
    "# delta_df"
   ]
  },
  {
   "cell_type": "code",
   "execution_count": 33,
   "id": "compound-notebook",
   "metadata": {},
   "outputs": [],
   "source": [
    "# pd.set_option('display.max_columns',None)\n",
    "# delta_df.sort_values('delta_beta').sort_values('delta_beta').transpose()"
   ]
  },
  {
   "cell_type": "code",
   "execution_count": 34,
   "id": "democratic-europe",
   "metadata": {},
   "outputs": [],
   "source": [
    "# sns.histplot(data=delta_df,bins=40,kde=True)"
   ]
  },
  {
   "cell_type": "code",
   "execution_count": 35,
   "id": "treated-equation",
   "metadata": {},
   "outputs": [],
   "source": [
    "y_pred_rf = rf_model.predict(X_rf)"
   ]
  },
  {
   "cell_type": "code",
   "execution_count": 36,
   "id": "labeled-bankruptcy",
   "metadata": {},
   "outputs": [
    {
     "data": {
      "text/plain": [
       "<AxesSubplot:ylabel='Count'>"
      ]
     },
     "execution_count": 36,
     "metadata": {},
     "output_type": "execute_result"
    },
    {
     "data": {
      "image/png": "[encoded data removed]",
      "text/plain": [
       "<Figure size 432x288 with 1 Axes>"
      ]
     },
     "metadata": {
      "needs_background": "light"
     },
     "output_type": "display_data"
    }
   ],
   "source": [
    "sns.histplot(y_pred_rf,bins=40,kde=True)"
   ]
  },
  {
   "cell_type": "code",
   "execution_count": 37,
   "id": "hawaiian-barrier",
   "metadata": {},
   "outputs": [
    {
     "data": {
      "text/plain": [
       "<matplotlib.legend.Legend at 0x7fd4ec02a8b0>"
      ]
     },
     "execution_count": 37,
     "metadata": {},
     "output_type": "execute_result"
    },
    {
     "data": {
      "image/png": "[encoded data removed]",
      "text/plain": [
       "<Figure size 432x288 with 1 Axes>"
      ]
     },
     "metadata": {
      "needs_background": "light"
     },
     "output_type": "display_data"
    }
   ],
   "source": [
    "fig,ax = plt.subplots()\n",
    "\n",
    "sns.kdeplot(y, ax=ax, shade=True, label='Observations')\n",
    "sns.kdeplot(y_pred_rf, ax=ax,shade=True,label='Predictions')\n",
    "\n",
    "ax.legend(loc='best')"
   ]
  },
  {
   "cell_type": "code",
   "execution_count": 38,
   "id": "hindu-inclusion",
   "metadata": {},
   "outputs": [
    {
     "data": {
      "text/plain": [
       "<matplotlib.legend.Legend at 0x7fd4ec184790>"
      ]
     },
     "execution_count": 38,
     "metadata": {},
     "output_type": "execute_result"
    },
    {
     "data": {
      "image/png": "[encoded data removed]",
      "text/plain": [
       "<Figure size 432x288 with 1 Axes>"
      ]
     },
     "metadata": {
      "needs_background": "light"
     },
     "output_type": "display_data"
    }
   ],
   "source": [
    "fig,ax = plt.subplots()\n",
    "\n",
    "sns.ecdfplot(y, ax=ax, label='Observations')\n",
    "sns.ecdfplot(y_pred_rf, ax=ax,label='Predictions')\n",
    "plt.axvline(x=y.mean(),color='grey',linestyle='--')\n",
    "\n",
    "ax.legend(loc='best')"
   ]
  },
  {
   "cell_type": "code",
   "execution_count": 39,
   "id": "second-crash",
   "metadata": {},
   "outputs": [],
   "source": [
    "mae = mean_absolute_error(y,y_pred_rf)\n",
    "mse = mean_squared_error(y,y_pred_rf)\n",
    "rmse = np.sqrt(mse)"
   ]
  },
  {
   "cell_type": "code",
   "execution_count": 40,
   "id": "lesser-graph",
   "metadata": {},
   "outputs": [
    {
     "data": {
      "text/html": [
       "<div>\n",
       "<style scoped>\n",
       "    .dataframe tbody tr th:only-of-type {\n",
       "        vertical-align: middle;\n",
       "    }\n",
       "\n",
       "    .dataframe tbody tr th {\n",
       "        vertical-align: top;\n",
       "    }\n",
       "\n",
       "    .dataframe thead th {\n",
       "        text-align: right;\n",
       "    }\n",
       "</style>\n",
       "<table border=\"1\" class=\"dataframe\">\n",
       "  <thead>\n",
       "    <tr style=\"text-align: right;\">\n",
       "      <th></th>\n",
       "      <th>RF</th>\n",
       "    </tr>\n",
       "  </thead>\n",
       "  <tbody>\n",
       "    <tr>\n",
       "      <th>MAE</th>\n",
       "      <td>1.135464</td>\n",
       "    </tr>\n",
       "    <tr>\n",
       "      <th>MSE</th>\n",
       "      <td>2.552577</td>\n",
       "    </tr>\n",
       "    <tr>\n",
       "      <th>RMSE</th>\n",
       "      <td>1.597678</td>\n",
       "    </tr>\n",
       "  </tbody>\n",
       "</table>\n",
       "</div>"
      ],
      "text/plain": [
       "            RF\n",
       "MAE   1.135464\n",
       "MSE   2.552577\n",
       "RMSE  1.597678"
      ]
     },
     "execution_count": 40,
     "metadata": {},
     "output_type": "execute_result"
    }
   ],
   "source": [
    "err_df = pd.DataFrame(data=[mae, mse, rmse],index=['MAE','MSE','RMSE'],columns=['RF'])\n",
    "err_df"
   ]
  },
  {
   "cell_type": "code",
   "execution_count": 41,
   "id": "intended-caribbean",
   "metadata": {},
   "outputs": [],
   "source": [
    "# err_df.to_csv(f'./model-err/{model_name}.csv')"
   ]
  },
  {
   "cell_type": "code",
   "execution_count": 42,
   "id": "meaning-forum",
   "metadata": {},
   "outputs": [
    {
     "data": {
      "text/plain": [
       "['./baseline-models/rf-baseline-wo.joblib']"
      ]
     },
     "execution_count": 42,
     "metadata": {},
     "output_type": "execute_result"
    }
   ],
   "source": [
    "from joblib import dump, load\n",
    "dump(rf_model, f'./baseline-models/{model_name}.joblib')"
   ]
  },
  {
   "cell_type": "markdown",
   "id": "smoking-madagascar",
   "metadata": {},
   "source": [
    "DONE!"
   ]
  },
  {
   "cell_type": "code",
   "execution_count": null,
   "id": "pacific-leisure",
   "metadata": {},
   "outputs": [],
   "source": []
  }
 ],
 "metadata": {
  "kernelspec": {
   "display_name": "Python 3",
   "language": "python",
   "name": "python3"
  },
  "language_info": {
   "codemirror_mode": {
    "name": "ipython",
    "version": 3
   },
   "file_extension": ".py",
   "mimetype": "text/x-python",
   "name": "python",
   "nbconvert_exporter": "python",
   "pygments_lexer": "ipython3",
   "version": "3.8.6"
  }
 },
 "nbformat": 4,
 "nbformat_minor": 5
}
