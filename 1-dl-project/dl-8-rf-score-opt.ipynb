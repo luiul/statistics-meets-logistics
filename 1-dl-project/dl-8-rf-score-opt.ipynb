{
 "cells": [
  {
   "cell_type": "code",
   "execution_count": 24,
   "id": "lightweight-thanksgiving",
   "metadata": {},
   "outputs": [],
   "source": [
    "# MODIFY! \n",
    "# use RobustScaler! \n",
    "model_name = 'RandFo'"
   ]
  },
  {
   "cell_type": "markdown",
   "id": "recovered-hampshire",
   "metadata": {},
   "source": [
    "# Import Libraries & Data "
   ]
  },
  {
   "cell_type": "code",
   "execution_count": 25,
   "id": "historic-disco",
   "metadata": {},
   "outputs": [],
   "source": [
    "import numpy as np\n",
    "import pandas as pd\n",
    "import matplotlib.pyplot as plt\n",
    "import seaborn as sns"
   ]
  },
  {
   "cell_type": "code",
   "execution_count": 26,
   "id": "martial-beijing",
   "metadata": {},
   "outputs": [],
   "source": [
    "df = pd.read_csv('./data/dl-pfe-ns.csv')\n",
    "X = df.drop('throughput',axis=1)\n",
    "y = df['throughput']"
   ]
  },
  {
   "cell_type": "markdown",
   "id": "fuzzy-assault",
   "metadata": {},
   "source": [
    "---"
   ]
  },
  {
   "cell_type": "markdown",
   "id": "fewer-legend",
   "metadata": {},
   "source": [
    "# Scale Data"
   ]
  },
  {
   "cell_type": "code",
   "execution_count": 27,
   "id": "considered-shaft",
   "metadata": {},
   "outputs": [
    {
     "data": {
      "text/plain": [
       "RobustScaler()"
      ]
     },
     "execution_count": 27,
     "metadata": {},
     "output_type": "execute_result"
    }
   ],
   "source": [
    "# Split the data\n",
    "from sklearn.model_selection import train_test_split\n",
    "X_train, X_test, y_train, y_test = train_test_split(X, y, test_size=0.1, random_state=42)\n",
    "\n",
    "# Scale the data\n",
    "from sklearn.preprocessing import RobustScaler\n",
    "scaler = RobustScaler()\n",
    "scaler.fit(X_train)"
   ]
  },
  {
   "cell_type": "code",
   "execution_count": 28,
   "id": "distributed-spirituality",
   "metadata": {},
   "outputs": [],
   "source": [
    "X_train = scaler.transform(X_train)\n",
    "X_test = scaler.transform(X_test)"
   ]
  },
  {
   "cell_type": "markdown",
   "id": "accessible-rabbit",
   "metadata": {},
   "source": [
    "# Determine Hyperparameters"
   ]
  },
  {
   "cell_type": "markdown",
   "id": "random-board",
   "metadata": {},
   "source": [
    "## Determine Max Features"
   ]
  },
  {
   "cell_type": "code",
   "execution_count": 29,
   "id": "brown-concentrate",
   "metadata": {},
   "outputs": [
    {
     "data": {
      "text/plain": [
       "RandomForestRegressor(warm_start=True)"
      ]
     },
     "execution_count": 29,
     "metadata": {},
     "output_type": "execute_result"
    }
   ],
   "source": [
    "# MODIFY!\n",
    "from sklearn.ensemble import RandomForestRegressor\n",
    "\n",
    "model = RandomForestRegressor(warm_start=True)\n",
    "model"
   ]
  },
  {
   "cell_type": "code",
   "execution_count": 30,
   "id": "greater-receiver",
   "metadata": {},
   "outputs": [],
   "source": [
    "p_grid = {\n",
    "    'max_features':['auto', 'sqrt', 'log2']\n",
    "}"
   ]
  },
  {
   "cell_type": "code",
   "execution_count": 31,
   "id": "seeing-prague",
   "metadata": {},
   "outputs": [],
   "source": [
    "from sklearn.model_selection import GridSearchCV"
   ]
  },
  {
   "cell_type": "code",
   "execution_count": 32,
   "id": "substantial-triangle",
   "metadata": {},
   "outputs": [],
   "source": [
    "grid_model = GridSearchCV(\n",
    "    estimator=model,\n",
    "    param_grid =p_grid, \n",
    "    scoring='neg_mean_squared_error',\n",
    "    cv=10, \n",
    "    verbose=1\n",
    ")"
   ]
  },
  {
   "cell_type": "code",
   "execution_count": 33,
   "id": "horizontal-cigarette",
   "metadata": {},
   "outputs": [
    {
     "name": "stdout",
     "output_type": "stream",
     "text": [
      "Fitting 10 folds for each of 3 candidates, totalling 30 fits\n"
     ]
    },
    {
     "name": "stderr",
     "output_type": "stream",
     "text": [
      "[Parallel(n_jobs=1)]: Using backend SequentialBackend with 1 concurrent workers.\n",
      "[Parallel(n_jobs=1)]: Done  30 out of  30 | elapsed:   24.5s finished\n"
     ]
    },
    {
     "data": {
      "text/plain": [
       "GridSearchCV(cv=10, estimator=RandomForestRegressor(warm_start=True),\n",
       "             param_grid={'max_features': ['auto', 'sqrt', 'log2']},\n",
       "             scoring='neg_mean_squared_error', verbose=1)"
      ]
     },
     "execution_count": 33,
     "metadata": {},
     "output_type": "execute_result"
    }
   ],
   "source": [
    "grid_model.fit(X_train,y_train)"
   ]
  },
  {
   "cell_type": "code",
   "execution_count": 34,
   "id": "colonial-devil",
   "metadata": {},
   "outputs": [
    {
     "data": {
      "text/plain": [
       "{'max_features': 'auto'}"
      ]
     },
     "execution_count": 34,
     "metadata": {},
     "output_type": "execute_result"
    }
   ],
   "source": [
    "grid_model.best_params_"
   ]
  },
  {
   "cell_type": "code",
   "execution_count": 35,
   "id": "criminal-entertainment",
   "metadata": {},
   "outputs": [],
   "source": [
    "hp = pd.Series(name=f'{model_name} HP', data=grid_model.best_params_)"
   ]
  },
  {
   "cell_type": "code",
   "execution_count": 36,
   "id": "enhanced-sydney",
   "metadata": {},
   "outputs": [
    {
     "data": {
      "text/plain": [
       "max_features    auto\n",
       "Name: RandFo HP, dtype: object"
      ]
     },
     "execution_count": 36,
     "metadata": {},
     "output_type": "execute_result"
    }
   ],
   "source": [
    "hp"
   ]
  },
  {
   "cell_type": "code",
   "execution_count": 48,
   "id": "modular-cambridge",
   "metadata": {},
   "outputs": [],
   "source": [
    "hp.to_csv(f'./hyperparameters/{model_name}-hp.csv')"
   ]
  },
  {
   "cell_type": "markdown",
   "id": "rental-playing",
   "metadata": {},
   "source": [
    "## Determine Number of Estimators"
   ]
  },
  {
   "cell_type": "code",
   "execution_count": 65,
   "id": "boolean-wireless",
   "metadata": {},
   "outputs": [
    {
     "name": "stdout",
     "output_type": "stream",
     "text": [
      "Starting 5 estimators\n",
      "Done with 5 estimators\n",
      "Elapsed time: 1.1068732738494873\n",
      "\n",
      "\n",
      "Starting 10 estimators\n",
      "Done with 10 estimators\n",
      "Elapsed time: 2.0407936573028564\n",
      "\n",
      "\n",
      "Starting 25 estimators\n",
      "Done with 25 estimators\n",
      "Elapsed time: 4.767342805862427\n",
      "\n",
      "\n",
      "Starting 50 estimators\n",
      "Done with 50 estimators\n",
      "Elapsed time: 30.217728853225708\n",
      "\n",
      "\n",
      "Starting 100 estimators\n",
      "Done with 100 estimators\n",
      "Elapsed time: 24.62099289894104\n",
      "\n",
      "\n",
      "Starting 500 estimators\n",
      "Done with 500 estimators\n",
      "Elapsed time: 104.31003093719482\n",
      "\n",
      "\n",
      "Starting 1000 estimators\n",
      "Done with 1000 estimators\n",
      "Elapsed time: 224.5287570953369\n",
      "\n",
      "\n",
      "Starting 2000 estimators\n",
      "Done with 2000 estimators\n",
      "Elapsed time: 429.16848707199097\n",
      "\n",
      "\n"
     ]
    }
   ],
   "source": [
    "# MODIFY!\n",
    "import time\n",
    "\n",
    "estimators = [5,10,25,50,100,500,1000,2000]\n",
    "scores_list = []\n",
    "\n",
    "from sklearn.ensemble import RandomForestRegressor\n",
    "\n",
    "for e in estimators: \n",
    "    start = time.time()\n",
    "    print(f'Starting {e} estimators')\n",
    "    score_model = RandomForestRegressor(\n",
    "        n_estimators=e,\n",
    "        max_features=grid_model.best_params_['max_features']\n",
    "    )\n",
    "    \n",
    "    from sklearn.model_selection import cross_validate\n",
    "\n",
    "    scores = cross_validate(\n",
    "        score_model, \n",
    "        X_train, \n",
    "        y_train,\n",
    "        scoring=[\n",
    "            'neg_mean_absolute_error',\n",
    "            'neg_mean_squared_error',\n",
    "            'neg_root_mean_squared_error'\n",
    "        ],\n",
    "        cv=10\n",
    "    )\n",
    "    \n",
    "    scores = pd.DataFrame(scores)\n",
    "    scores\n",
    "    mean_scores = scores.mean()\n",
    "    scores_list.append(mean_scores)\n",
    "    print(f'Done with {e} estimators')\n",
    "    end = time.time()\n",
    "    print(f'Elapsed time: {end - start}')\n",
    "    print('\\n')"
   ]
  },
  {
   "cell_type": "code",
   "execution_count": 70,
   "id": "exceptional-census",
   "metadata": {},
   "outputs": [],
   "source": [
    "scores_df = pd.DataFrame(scores_list)"
   ]
  },
  {
   "cell_type": "code",
   "execution_count": 71,
   "id": "subject-banner",
   "metadata": {},
   "outputs": [
    {
     "data": {
      "text/html": [
       "<div>\n",
       "<style scoped>\n",
       "    .dataframe tbody tr th:only-of-type {\n",
       "        vertical-align: middle;\n",
       "    }\n",
       "\n",
       "    .dataframe tbody tr th {\n",
       "        vertical-align: top;\n",
       "    }\n",
       "\n",
       "    .dataframe thead th {\n",
       "        text-align: right;\n",
       "    }\n",
       "</style>\n",
       "<table border=\"1\" class=\"dataframe\">\n",
       "  <thead>\n",
       "    <tr style=\"text-align: right;\">\n",
       "      <th></th>\n",
       "      <th>fit_time</th>\n",
       "      <th>score_time</th>\n",
       "      <th>test_neg_mean_absolute_error</th>\n",
       "      <th>test_neg_mean_squared_error</th>\n",
       "      <th>test_neg_root_mean_squared_error</th>\n",
       "    </tr>\n",
       "  </thead>\n",
       "  <tbody>\n",
       "    <tr>\n",
       "      <th>0</th>\n",
       "      <td>0.105702</td>\n",
       "      <td>0.003816</td>\n",
       "      <td>-3.307852</td>\n",
       "      <td>-20.037608</td>\n",
       "      <td>-4.467688</td>\n",
       "    </tr>\n",
       "    <tr>\n",
       "      <th>1</th>\n",
       "      <td>0.199591</td>\n",
       "      <td>0.003161</td>\n",
       "      <td>-3.176469</td>\n",
       "      <td>-18.412284</td>\n",
       "      <td>-4.283099</td>\n",
       "    </tr>\n",
       "    <tr>\n",
       "      <th>2</th>\n",
       "      <td>0.470657</td>\n",
       "      <td>0.004836</td>\n",
       "      <td>-3.070383</td>\n",
       "      <td>-17.326094</td>\n",
       "      <td>-4.152791</td>\n",
       "    </tr>\n",
       "    <tr>\n",
       "      <th>3</th>\n",
       "      <td>2.978185</td>\n",
       "      <td>0.037266</td>\n",
       "      <td>-3.011804</td>\n",
       "      <td>-16.773294</td>\n",
       "      <td>-4.084647</td>\n",
       "    </tr>\n",
       "    <tr>\n",
       "      <th>4</th>\n",
       "      <td>2.440067</td>\n",
       "      <td>0.019049</td>\n",
       "      <td>-3.014882</td>\n",
       "      <td>-16.715898</td>\n",
       "      <td>-4.078936</td>\n",
       "    </tr>\n",
       "    <tr>\n",
       "      <th>5</th>\n",
       "      <td>10.322474</td>\n",
       "      <td>0.097420</td>\n",
       "      <td>-3.007980</td>\n",
       "      <td>-16.596149</td>\n",
       "      <td>-4.064413</td>\n",
       "    </tr>\n",
       "    <tr>\n",
       "      <th>6</th>\n",
       "      <td>22.168896</td>\n",
       "      <td>0.254339</td>\n",
       "      <td>-3.006173</td>\n",
       "      <td>-16.635206</td>\n",
       "      <td>-4.068881</td>\n",
       "    </tr>\n",
       "    <tr>\n",
       "      <th>7</th>\n",
       "      <td>42.244145</td>\n",
       "      <td>0.616773</td>\n",
       "      <td>-3.007373</td>\n",
       "      <td>-16.650553</td>\n",
       "      <td>-4.071124</td>\n",
       "    </tr>\n",
       "  </tbody>\n",
       "</table>\n",
       "</div>"
      ],
      "text/plain": [
       "    fit_time  score_time  test_neg_mean_absolute_error  \\\n",
       "0   0.105702    0.003816                     -3.307852   \n",
       "1   0.199591    0.003161                     -3.176469   \n",
       "2   0.470657    0.004836                     -3.070383   \n",
       "3   2.978185    0.037266                     -3.011804   \n",
       "4   2.440067    0.019049                     -3.014882   \n",
       "5  10.322474    0.097420                     -3.007980   \n",
       "6  22.168896    0.254339                     -3.006173   \n",
       "7  42.244145    0.616773                     -3.007373   \n",
       "\n",
       "   test_neg_mean_squared_error  test_neg_root_mean_squared_error  \n",
       "0                   -20.037608                         -4.467688  \n",
       "1                   -18.412284                         -4.283099  \n",
       "2                   -17.326094                         -4.152791  \n",
       "3                   -16.773294                         -4.084647  \n",
       "4                   -16.715898                         -4.078936  \n",
       "5                   -16.596149                         -4.064413  \n",
       "6                   -16.635206                         -4.068881  \n",
       "7                   -16.650553                         -4.071124  "
      ]
     },
     "execution_count": 71,
     "metadata": {},
     "output_type": "execute_result"
    }
   ],
   "source": [
    "scores_df"
   ]
  },
  {
   "cell_type": "code",
   "execution_count": 72,
   "id": "north-tomato",
   "metadata": {},
   "outputs": [],
   "source": [
    "scores_df['Est'] = estimators"
   ]
  },
  {
   "cell_type": "code",
   "execution_count": 73,
   "id": "continuous-haiti",
   "metadata": {},
   "outputs": [
    {
     "data": {
      "text/html": [
       "<div>\n",
       "<style scoped>\n",
       "    .dataframe tbody tr th:only-of-type {\n",
       "        vertical-align: middle;\n",
       "    }\n",
       "\n",
       "    .dataframe tbody tr th {\n",
       "        vertical-align: top;\n",
       "    }\n",
       "\n",
       "    .dataframe thead th {\n",
       "        text-align: right;\n",
       "    }\n",
       "</style>\n",
       "<table border=\"1\" class=\"dataframe\">\n",
       "  <thead>\n",
       "    <tr style=\"text-align: right;\">\n",
       "      <th></th>\n",
       "      <th>fit_time</th>\n",
       "      <th>score_time</th>\n",
       "      <th>test_neg_mean_absolute_error</th>\n",
       "      <th>test_neg_mean_squared_error</th>\n",
       "      <th>test_neg_root_mean_squared_error</th>\n",
       "      <th>Est</th>\n",
       "    </tr>\n",
       "  </thead>\n",
       "  <tbody>\n",
       "    <tr>\n",
       "      <th>0</th>\n",
       "      <td>0.105702</td>\n",
       "      <td>0.003816</td>\n",
       "      <td>-3.307852</td>\n",
       "      <td>-20.037608</td>\n",
       "      <td>-4.467688</td>\n",
       "      <td>5</td>\n",
       "    </tr>\n",
       "    <tr>\n",
       "      <th>1</th>\n",
       "      <td>0.199591</td>\n",
       "      <td>0.003161</td>\n",
       "      <td>-3.176469</td>\n",
       "      <td>-18.412284</td>\n",
       "      <td>-4.283099</td>\n",
       "      <td>10</td>\n",
       "    </tr>\n",
       "    <tr>\n",
       "      <th>2</th>\n",
       "      <td>0.470657</td>\n",
       "      <td>0.004836</td>\n",
       "      <td>-3.070383</td>\n",
       "      <td>-17.326094</td>\n",
       "      <td>-4.152791</td>\n",
       "      <td>25</td>\n",
       "    </tr>\n",
       "    <tr>\n",
       "      <th>3</th>\n",
       "      <td>2.978185</td>\n",
       "      <td>0.037266</td>\n",
       "      <td>-3.011804</td>\n",
       "      <td>-16.773294</td>\n",
       "      <td>-4.084647</td>\n",
       "      <td>50</td>\n",
       "    </tr>\n",
       "    <tr>\n",
       "      <th>4</th>\n",
       "      <td>2.440067</td>\n",
       "      <td>0.019049</td>\n",
       "      <td>-3.014882</td>\n",
       "      <td>-16.715898</td>\n",
       "      <td>-4.078936</td>\n",
       "      <td>100</td>\n",
       "    </tr>\n",
       "    <tr>\n",
       "      <th>5</th>\n",
       "      <td>10.322474</td>\n",
       "      <td>0.097420</td>\n",
       "      <td>-3.007980</td>\n",
       "      <td>-16.596149</td>\n",
       "      <td>-4.064413</td>\n",
       "      <td>500</td>\n",
       "    </tr>\n",
       "    <tr>\n",
       "      <th>6</th>\n",
       "      <td>22.168896</td>\n",
       "      <td>0.254339</td>\n",
       "      <td>-3.006173</td>\n",
       "      <td>-16.635206</td>\n",
       "      <td>-4.068881</td>\n",
       "      <td>1000</td>\n",
       "    </tr>\n",
       "    <tr>\n",
       "      <th>7</th>\n",
       "      <td>42.244145</td>\n",
       "      <td>0.616773</td>\n",
       "      <td>-3.007373</td>\n",
       "      <td>-16.650553</td>\n",
       "      <td>-4.071124</td>\n",
       "      <td>2000</td>\n",
       "    </tr>\n",
       "  </tbody>\n",
       "</table>\n",
       "</div>"
      ],
      "text/plain": [
       "    fit_time  score_time  test_neg_mean_absolute_error  \\\n",
       "0   0.105702    0.003816                     -3.307852   \n",
       "1   0.199591    0.003161                     -3.176469   \n",
       "2   0.470657    0.004836                     -3.070383   \n",
       "3   2.978185    0.037266                     -3.011804   \n",
       "4   2.440067    0.019049                     -3.014882   \n",
       "5  10.322474    0.097420                     -3.007980   \n",
       "6  22.168896    0.254339                     -3.006173   \n",
       "7  42.244145    0.616773                     -3.007373   \n",
       "\n",
       "   test_neg_mean_squared_error  test_neg_root_mean_squared_error   Est  \n",
       "0                   -20.037608                         -4.467688     5  \n",
       "1                   -18.412284                         -4.283099    10  \n",
       "2                   -17.326094                         -4.152791    25  \n",
       "3                   -16.773294                         -4.084647    50  \n",
       "4                   -16.715898                         -4.078936   100  \n",
       "5                   -16.596149                         -4.064413   500  \n",
       "6                   -16.635206                         -4.068881  1000  \n",
       "7                   -16.650553                         -4.071124  2000  "
      ]
     },
     "execution_count": 73,
     "metadata": {},
     "output_type": "execute_result"
    }
   ],
   "source": [
    "scores_df"
   ]
  },
  {
   "cell_type": "markdown",
   "id": "pediatric-permission",
   "metadata": {},
   "source": [
    "# Export Scores for Number of Estimators"
   ]
  },
  {
   "cell_type": "code",
   "execution_count": 74,
   "id": "heavy-custody",
   "metadata": {},
   "outputs": [],
   "source": [
    "# mean_scores"
   ]
  },
  {
   "cell_type": "code",
   "execution_count": 75,
   "id": "ambient-webcam",
   "metadata": {},
   "outputs": [],
   "source": [
    "scores_df = scores_df.rename(columns={\n",
    "    'fit_time':'Fit Time',\n",
    "    'score_time':'Score Time',\n",
    "    'test_neg_mean_absolute_error':'MAE',\n",
    "    'test_neg_mean_squared_error':'MSE',\n",
    "    'test_neg_root_mean_squared_error':'RMSE'\n",
    "})"
   ]
  },
  {
   "cell_type": "code",
   "execution_count": 76,
   "id": "jewish-course",
   "metadata": {},
   "outputs": [
    {
     "data": {
      "text/html": [
       "<div>\n",
       "<style scoped>\n",
       "    .dataframe tbody tr th:only-of-type {\n",
       "        vertical-align: middle;\n",
       "    }\n",
       "\n",
       "    .dataframe tbody tr th {\n",
       "        vertical-align: top;\n",
       "    }\n",
       "\n",
       "    .dataframe thead th {\n",
       "        text-align: right;\n",
       "    }\n",
       "</style>\n",
       "<table border=\"1\" class=\"dataframe\">\n",
       "  <thead>\n",
       "    <tr style=\"text-align: right;\">\n",
       "      <th></th>\n",
       "      <th>Fit Time</th>\n",
       "      <th>Score Time</th>\n",
       "      <th>MAE</th>\n",
       "      <th>MSE</th>\n",
       "      <th>RMSE</th>\n",
       "      <th>Est</th>\n",
       "    </tr>\n",
       "  </thead>\n",
       "  <tbody>\n",
       "    <tr>\n",
       "      <th>0</th>\n",
       "      <td>0.105702</td>\n",
       "      <td>0.003816</td>\n",
       "      <td>-3.307852</td>\n",
       "      <td>-20.037608</td>\n",
       "      <td>-4.467688</td>\n",
       "      <td>5</td>\n",
       "    </tr>\n",
       "    <tr>\n",
       "      <th>1</th>\n",
       "      <td>0.199591</td>\n",
       "      <td>0.003161</td>\n",
       "      <td>-3.176469</td>\n",
       "      <td>-18.412284</td>\n",
       "      <td>-4.283099</td>\n",
       "      <td>10</td>\n",
       "    </tr>\n",
       "    <tr>\n",
       "      <th>2</th>\n",
       "      <td>0.470657</td>\n",
       "      <td>0.004836</td>\n",
       "      <td>-3.070383</td>\n",
       "      <td>-17.326094</td>\n",
       "      <td>-4.152791</td>\n",
       "      <td>25</td>\n",
       "    </tr>\n",
       "    <tr>\n",
       "      <th>3</th>\n",
       "      <td>2.978185</td>\n",
       "      <td>0.037266</td>\n",
       "      <td>-3.011804</td>\n",
       "      <td>-16.773294</td>\n",
       "      <td>-4.084647</td>\n",
       "      <td>50</td>\n",
       "    </tr>\n",
       "    <tr>\n",
       "      <th>4</th>\n",
       "      <td>2.440067</td>\n",
       "      <td>0.019049</td>\n",
       "      <td>-3.014882</td>\n",
       "      <td>-16.715898</td>\n",
       "      <td>-4.078936</td>\n",
       "      <td>100</td>\n",
       "    </tr>\n",
       "    <tr>\n",
       "      <th>5</th>\n",
       "      <td>10.322474</td>\n",
       "      <td>0.097420</td>\n",
       "      <td>-3.007980</td>\n",
       "      <td>-16.596149</td>\n",
       "      <td>-4.064413</td>\n",
       "      <td>500</td>\n",
       "    </tr>\n",
       "    <tr>\n",
       "      <th>6</th>\n",
       "      <td>22.168896</td>\n",
       "      <td>0.254339</td>\n",
       "      <td>-3.006173</td>\n",
       "      <td>-16.635206</td>\n",
       "      <td>-4.068881</td>\n",
       "      <td>1000</td>\n",
       "    </tr>\n",
       "    <tr>\n",
       "      <th>7</th>\n",
       "      <td>42.244145</td>\n",
       "      <td>0.616773</td>\n",
       "      <td>-3.007373</td>\n",
       "      <td>-16.650553</td>\n",
       "      <td>-4.071124</td>\n",
       "      <td>2000</td>\n",
       "    </tr>\n",
       "  </tbody>\n",
       "</table>\n",
       "</div>"
      ],
      "text/plain": [
       "    Fit Time  Score Time       MAE        MSE      RMSE   Est\n",
       "0   0.105702    0.003816 -3.307852 -20.037608 -4.467688     5\n",
       "1   0.199591    0.003161 -3.176469 -18.412284 -4.283099    10\n",
       "2   0.470657    0.004836 -3.070383 -17.326094 -4.152791    25\n",
       "3   2.978185    0.037266 -3.011804 -16.773294 -4.084647    50\n",
       "4   2.440067    0.019049 -3.014882 -16.715898 -4.078936   100\n",
       "5  10.322474    0.097420 -3.007980 -16.596149 -4.064413   500\n",
       "6  22.168896    0.254339 -3.006173 -16.635206 -4.068881  1000\n",
       "7  42.244145    0.616773 -3.007373 -16.650553 -4.071124  2000"
      ]
     },
     "execution_count": 76,
     "metadata": {},
     "output_type": "execute_result"
    }
   ],
   "source": [
    "scores_df"
   ]
  },
  {
   "cell_type": "code",
   "execution_count": 77,
   "id": "reliable-storage",
   "metadata": {},
   "outputs": [],
   "source": [
    "scores_df[['MAE','MSE','RMSE']] = scores_df[['MAE','MSE','RMSE']].apply(lambda x : abs(x))"
   ]
  },
  {
   "cell_type": "code",
   "execution_count": 78,
   "id": "neither-gravity",
   "metadata": {},
   "outputs": [
    {
     "data": {
      "text/html": [
       "<div>\n",
       "<style scoped>\n",
       "    .dataframe tbody tr th:only-of-type {\n",
       "        vertical-align: middle;\n",
       "    }\n",
       "\n",
       "    .dataframe tbody tr th {\n",
       "        vertical-align: top;\n",
       "    }\n",
       "\n",
       "    .dataframe thead th {\n",
       "        text-align: right;\n",
       "    }\n",
       "</style>\n",
       "<table border=\"1\" class=\"dataframe\">\n",
       "  <thead>\n",
       "    <tr style=\"text-align: right;\">\n",
       "      <th></th>\n",
       "      <th>Fit Time</th>\n",
       "      <th>Score Time</th>\n",
       "      <th>MAE</th>\n",
       "      <th>MSE</th>\n",
       "      <th>RMSE</th>\n",
       "      <th>Est</th>\n",
       "    </tr>\n",
       "  </thead>\n",
       "  <tbody>\n",
       "    <tr>\n",
       "      <th>0</th>\n",
       "      <td>0.105702</td>\n",
       "      <td>0.003816</td>\n",
       "      <td>3.307852</td>\n",
       "      <td>20.037608</td>\n",
       "      <td>4.467688</td>\n",
       "      <td>5</td>\n",
       "    </tr>\n",
       "    <tr>\n",
       "      <th>1</th>\n",
       "      <td>0.199591</td>\n",
       "      <td>0.003161</td>\n",
       "      <td>3.176469</td>\n",
       "      <td>18.412284</td>\n",
       "      <td>4.283099</td>\n",
       "      <td>10</td>\n",
       "    </tr>\n",
       "    <tr>\n",
       "      <th>2</th>\n",
       "      <td>0.470657</td>\n",
       "      <td>0.004836</td>\n",
       "      <td>3.070383</td>\n",
       "      <td>17.326094</td>\n",
       "      <td>4.152791</td>\n",
       "      <td>25</td>\n",
       "    </tr>\n",
       "    <tr>\n",
       "      <th>3</th>\n",
       "      <td>2.978185</td>\n",
       "      <td>0.037266</td>\n",
       "      <td>3.011804</td>\n",
       "      <td>16.773294</td>\n",
       "      <td>4.084647</td>\n",
       "      <td>50</td>\n",
       "    </tr>\n",
       "    <tr>\n",
       "      <th>4</th>\n",
       "      <td>2.440067</td>\n",
       "      <td>0.019049</td>\n",
       "      <td>3.014882</td>\n",
       "      <td>16.715898</td>\n",
       "      <td>4.078936</td>\n",
       "      <td>100</td>\n",
       "    </tr>\n",
       "    <tr>\n",
       "      <th>5</th>\n",
       "      <td>10.322474</td>\n",
       "      <td>0.097420</td>\n",
       "      <td>3.007980</td>\n",
       "      <td>16.596149</td>\n",
       "      <td>4.064413</td>\n",
       "      <td>500</td>\n",
       "    </tr>\n",
       "    <tr>\n",
       "      <th>6</th>\n",
       "      <td>22.168896</td>\n",
       "      <td>0.254339</td>\n",
       "      <td>3.006173</td>\n",
       "      <td>16.635206</td>\n",
       "      <td>4.068881</td>\n",
       "      <td>1000</td>\n",
       "    </tr>\n",
       "    <tr>\n",
       "      <th>7</th>\n",
       "      <td>42.244145</td>\n",
       "      <td>0.616773</td>\n",
       "      <td>3.007373</td>\n",
       "      <td>16.650553</td>\n",
       "      <td>4.071124</td>\n",
       "      <td>2000</td>\n",
       "    </tr>\n",
       "  </tbody>\n",
       "</table>\n",
       "</div>"
      ],
      "text/plain": [
       "    Fit Time  Score Time       MAE        MSE      RMSE   Est\n",
       "0   0.105702    0.003816  3.307852  20.037608  4.467688     5\n",
       "1   0.199591    0.003161  3.176469  18.412284  4.283099    10\n",
       "2   0.470657    0.004836  3.070383  17.326094  4.152791    25\n",
       "3   2.978185    0.037266  3.011804  16.773294  4.084647    50\n",
       "4   2.440067    0.019049  3.014882  16.715898  4.078936   100\n",
       "5  10.322474    0.097420  3.007980  16.596149  4.064413   500\n",
       "6  22.168896    0.254339  3.006173  16.635206  4.068881  1000\n",
       "7  42.244145    0.616773  3.007373  16.650553  4.071124  2000"
      ]
     },
     "execution_count": 78,
     "metadata": {},
     "output_type": "execute_result"
    }
   ],
   "source": [
    "scores_df\n",
    "# we go for 25 estimations. Note that from 25 -> 50 estimations the error metrics worsen"
   ]
  },
  {
   "cell_type": "code",
   "execution_count": 79,
   "id": "cooperative-bikini",
   "metadata": {},
   "outputs": [],
   "source": [
    "scores_df.to_csv(f'./scores/{model_name}-score.csv')"
   ]
  },
  {
   "cell_type": "code",
   "execution_count": 80,
   "id": "complimentary-spider",
   "metadata": {},
   "outputs": [],
   "source": [
    "pct_scores_df = scores_df.pct_change()"
   ]
  },
  {
   "cell_type": "code",
   "execution_count": 81,
   "id": "found-bookmark",
   "metadata": {},
   "outputs": [
    {
     "data": {
      "text/html": [
       "<div>\n",
       "<style scoped>\n",
       "    .dataframe tbody tr th:only-of-type {\n",
       "        vertical-align: middle;\n",
       "    }\n",
       "\n",
       "    .dataframe tbody tr th {\n",
       "        vertical-align: top;\n",
       "    }\n",
       "\n",
       "    .dataframe thead th {\n",
       "        text-align: right;\n",
       "    }\n",
       "</style>\n",
       "<table border=\"1\" class=\"dataframe\">\n",
       "  <thead>\n",
       "    <tr style=\"text-align: right;\">\n",
       "      <th></th>\n",
       "      <th>Fit Time</th>\n",
       "      <th>Score Time</th>\n",
       "      <th>MAE</th>\n",
       "      <th>MSE</th>\n",
       "      <th>RMSE</th>\n",
       "      <th>Est</th>\n",
       "    </tr>\n",
       "  </thead>\n",
       "  <tbody>\n",
       "    <tr>\n",
       "      <th>0</th>\n",
       "      <td>NaN</td>\n",
       "      <td>NaN</td>\n",
       "      <td>NaN</td>\n",
       "      <td>NaN</td>\n",
       "      <td>NaN</td>\n",
       "      <td>NaN</td>\n",
       "    </tr>\n",
       "    <tr>\n",
       "      <th>1</th>\n",
       "      <td>0.888241</td>\n",
       "      <td>-0.171776</td>\n",
       "      <td>-0.039719</td>\n",
       "      <td>-0.081114</td>\n",
       "      <td>-0.041316</td>\n",
       "      <td>1.0</td>\n",
       "    </tr>\n",
       "    <tr>\n",
       "      <th>2</th>\n",
       "      <td>1.358105</td>\n",
       "      <td>0.530113</td>\n",
       "      <td>-0.033397</td>\n",
       "      <td>-0.058993</td>\n",
       "      <td>-0.030424</td>\n",
       "      <td>1.5</td>\n",
       "    </tr>\n",
       "    <tr>\n",
       "      <th>3</th>\n",
       "      <td>5.327715</td>\n",
       "      <td>6.705774</td>\n",
       "      <td>-0.019079</td>\n",
       "      <td>-0.031906</td>\n",
       "      <td>-0.016409</td>\n",
       "      <td>1.0</td>\n",
       "    </tr>\n",
       "    <tr>\n",
       "      <th>4</th>\n",
       "      <td>-0.180687</td>\n",
       "      <td>-0.488856</td>\n",
       "      <td>0.001022</td>\n",
       "      <td>-0.003422</td>\n",
       "      <td>-0.001398</td>\n",
       "      <td>1.0</td>\n",
       "    </tr>\n",
       "    <tr>\n",
       "      <th>5</th>\n",
       "      <td>3.230407</td>\n",
       "      <td>4.114311</td>\n",
       "      <td>-0.002289</td>\n",
       "      <td>-0.007164</td>\n",
       "      <td>-0.003560</td>\n",
       "      <td>4.0</td>\n",
       "    </tr>\n",
       "    <tr>\n",
       "      <th>6</th>\n",
       "      <td>1.147634</td>\n",
       "      <td>1.610741</td>\n",
       "      <td>-0.000601</td>\n",
       "      <td>0.002353</td>\n",
       "      <td>0.001099</td>\n",
       "      <td>1.0</td>\n",
       "    </tr>\n",
       "    <tr>\n",
       "      <th>7</th>\n",
       "      <td>0.905559</td>\n",
       "      <td>1.425003</td>\n",
       "      <td>0.000399</td>\n",
       "      <td>0.000923</td>\n",
       "      <td>0.000551</td>\n",
       "      <td>1.0</td>\n",
       "    </tr>\n",
       "  </tbody>\n",
       "</table>\n",
       "</div>"
      ],
      "text/plain": [
       "   Fit Time  Score Time       MAE       MSE      RMSE  Est\n",
       "0       NaN         NaN       NaN       NaN       NaN  NaN\n",
       "1  0.888241   -0.171776 -0.039719 -0.081114 -0.041316  1.0\n",
       "2  1.358105    0.530113 -0.033397 -0.058993 -0.030424  1.5\n",
       "3  5.327715    6.705774 -0.019079 -0.031906 -0.016409  1.0\n",
       "4 -0.180687   -0.488856  0.001022 -0.003422 -0.001398  1.0\n",
       "5  3.230407    4.114311 -0.002289 -0.007164 -0.003560  4.0\n",
       "6  1.147634    1.610741 -0.000601  0.002353  0.001099  1.0\n",
       "7  0.905559    1.425003  0.000399  0.000923  0.000551  1.0"
      ]
     },
     "execution_count": 81,
     "metadata": {},
     "output_type": "execute_result"
    }
   ],
   "source": [
    "pct_scores_df"
   ]
  },
  {
   "cell_type": "code",
   "execution_count": 82,
   "id": "expected-reason",
   "metadata": {},
   "outputs": [
    {
     "data": {
      "text/html": [
       "<style  type=\"text/css\" >\n",
       "#T_574e5752_5b3b_11eb_bb08_60f81dd06e70row0_col0,#T_574e5752_5b3b_11eb_bb08_60f81dd06e70row0_col1,#T_574e5752_5b3b_11eb_bb08_60f81dd06e70row0_col2,#T_574e5752_5b3b_11eb_bb08_60f81dd06e70row0_col3,#T_574e5752_5b3b_11eb_bb08_60f81dd06e70row0_col4,#T_574e5752_5b3b_11eb_bb08_60f81dd06e70row0_col5{\n",
       "            background-color:  #000000;\n",
       "            color:  #f1f1f1;\n",
       "        }#T_574e5752_5b3b_11eb_bb08_60f81dd06e70row1_col0{\n",
       "            background-color:  #dddbec;\n",
       "            color:  #000000;\n",
       "        }#T_574e5752_5b3b_11eb_bb08_60f81dd06e70row1_col1{\n",
       "            background-color:  #f8f1f8;\n",
       "            color:  #000000;\n",
       "        }#T_574e5752_5b3b_11eb_bb08_60f81dd06e70row1_col2,#T_574e5752_5b3b_11eb_bb08_60f81dd06e70row1_col3,#T_574e5752_5b3b_11eb_bb08_60f81dd06e70row1_col4,#T_574e5752_5b3b_11eb_bb08_60f81dd06e70row1_col5,#T_574e5752_5b3b_11eb_bb08_60f81dd06e70row3_col5,#T_574e5752_5b3b_11eb_bb08_60f81dd06e70row4_col0,#T_574e5752_5b3b_11eb_bb08_60f81dd06e70row4_col1,#T_574e5752_5b3b_11eb_bb08_60f81dd06e70row4_col5,#T_574e5752_5b3b_11eb_bb08_60f81dd06e70row6_col5,#T_574e5752_5b3b_11eb_bb08_60f81dd06e70row7_col5{\n",
       "            background-color:  #fff7fb;\n",
       "            color:  #000000;\n",
       "        }#T_574e5752_5b3b_11eb_bb08_60f81dd06e70row2_col0{\n",
       "            background-color:  #c6cce3;\n",
       "            color:  #000000;\n",
       "        }#T_574e5752_5b3b_11eb_bb08_60f81dd06e70row2_col1{\n",
       "            background-color:  #e8e4f0;\n",
       "            color:  #000000;\n",
       "        }#T_574e5752_5b3b_11eb_bb08_60f81dd06e70row2_col2{\n",
       "            background-color:  #e6e2ef;\n",
       "            color:  #000000;\n",
       "        }#T_574e5752_5b3b_11eb_bb08_60f81dd06e70row2_col3{\n",
       "            background-color:  #cccfe5;\n",
       "            color:  #000000;\n",
       "        }#T_574e5752_5b3b_11eb_bb08_60f81dd06e70row2_col4{\n",
       "            background-color:  #ced0e6;\n",
       "            color:  #000000;\n",
       "        }#T_574e5752_5b3b_11eb_bb08_60f81dd06e70row2_col5{\n",
       "            background-color:  #e3e0ee;\n",
       "            color:  #000000;\n",
       "        }#T_574e5752_5b3b_11eb_bb08_60f81dd06e70row3_col0,#T_574e5752_5b3b_11eb_bb08_60f81dd06e70row3_col1,#T_574e5752_5b3b_11eb_bb08_60f81dd06e70row4_col2,#T_574e5752_5b3b_11eb_bb08_60f81dd06e70row5_col5,#T_574e5752_5b3b_11eb_bb08_60f81dd06e70row6_col3,#T_574e5752_5b3b_11eb_bb08_60f81dd06e70row6_col4{\n",
       "            background-color:  #023858;\n",
       "            color:  #f1f1f1;\n",
       "        }#T_574e5752_5b3b_11eb_bb08_60f81dd06e70row3_col2{\n",
       "            background-color:  #71a8ce;\n",
       "            color:  #000000;\n",
       "        }#T_574e5752_5b3b_11eb_bb08_60f81dd06e70row3_col3,#T_574e5752_5b3b_11eb_bb08_60f81dd06e70row3_col4{\n",
       "            background-color:  #4897c4;\n",
       "            color:  #000000;\n",
       "        }#T_574e5752_5b3b_11eb_bb08_60f81dd06e70row4_col3{\n",
       "            background-color:  #034a74;\n",
       "            color:  #f1f1f1;\n",
       "        }#T_574e5752_5b3b_11eb_bb08_60f81dd06e70row4_col4{\n",
       "            background-color:  #034871;\n",
       "            color:  #f1f1f1;\n",
       "        }#T_574e5752_5b3b_11eb_bb08_60f81dd06e70row5_col0{\n",
       "            background-color:  #3991c1;\n",
       "            color:  #000000;\n",
       "        }#T_574e5752_5b3b_11eb_bb08_60f81dd06e70row5_col1{\n",
       "            background-color:  #308cbe;\n",
       "            color:  #000000;\n",
       "        }#T_574e5752_5b3b_11eb_bb08_60f81dd06e70row5_col2{\n",
       "            background-color:  #034d79;\n",
       "            color:  #f1f1f1;\n",
       "        }#T_574e5752_5b3b_11eb_bb08_60f81dd06e70row5_col3{\n",
       "            background-color:  #045788;\n",
       "            color:  #f1f1f1;\n",
       "        }#T_574e5752_5b3b_11eb_bb08_60f81dd06e70row5_col4{\n",
       "            background-color:  #045687;\n",
       "            color:  #f1f1f1;\n",
       "        }#T_574e5752_5b3b_11eb_bb08_60f81dd06e70row6_col0{\n",
       "            background-color:  #d2d3e7;\n",
       "            color:  #000000;\n",
       "        }#T_574e5752_5b3b_11eb_bb08_60f81dd06e70row6_col1{\n",
       "            background-color:  #c2cbe2;\n",
       "            color:  #000000;\n",
       "        }#T_574e5752_5b3b_11eb_bb08_60f81dd06e70row6_col2{\n",
       "            background-color:  #034369;\n",
       "            color:  #f1f1f1;\n",
       "        }#T_574e5752_5b3b_11eb_bb08_60f81dd06e70row7_col0{\n",
       "            background-color:  #dcdaeb;\n",
       "            color:  #000000;\n",
       "        }#T_574e5752_5b3b_11eb_bb08_60f81dd06e70row7_col1{\n",
       "            background-color:  #cacee5;\n",
       "            color:  #000000;\n",
       "        }#T_574e5752_5b3b_11eb_bb08_60f81dd06e70row7_col2,#T_574e5752_5b3b_11eb_bb08_60f81dd06e70row7_col4{\n",
       "            background-color:  #023b5d;\n",
       "            color:  #f1f1f1;\n",
       "        }#T_574e5752_5b3b_11eb_bb08_60f81dd06e70row7_col3{\n",
       "            background-color:  #023c5f;\n",
       "            color:  #f1f1f1;\n",
       "        }</style><table id=\"T_574e5752_5b3b_11eb_bb08_60f81dd06e70\" ><thead>    <tr>        <th class=\"blank level0\" ></th>        <th class=\"col_heading level0 col0\" >Fit Time</th>        <th class=\"col_heading level0 col1\" >Score Time</th>        <th class=\"col_heading level0 col2\" >MAE</th>        <th class=\"col_heading level0 col3\" >MSE</th>        <th class=\"col_heading level0 col4\" >RMSE</th>        <th class=\"col_heading level0 col5\" >Est</th>    </tr></thead><tbody>\n",
       "                <tr>\n",
       "                        <th id=\"T_574e5752_5b3b_11eb_bb08_60f81dd06e70level0_row0\" class=\"row_heading level0 row0\" >0</th>\n",
       "                        <td id=\"T_574e5752_5b3b_11eb_bb08_60f81dd06e70row0_col0\" class=\"data row0 col0\" >nan</td>\n",
       "                        <td id=\"T_574e5752_5b3b_11eb_bb08_60f81dd06e70row0_col1\" class=\"data row0 col1\" >nan</td>\n",
       "                        <td id=\"T_574e5752_5b3b_11eb_bb08_60f81dd06e70row0_col2\" class=\"data row0 col2\" >nan</td>\n",
       "                        <td id=\"T_574e5752_5b3b_11eb_bb08_60f81dd06e70row0_col3\" class=\"data row0 col3\" >nan</td>\n",
       "                        <td id=\"T_574e5752_5b3b_11eb_bb08_60f81dd06e70row0_col4\" class=\"data row0 col4\" >nan</td>\n",
       "                        <td id=\"T_574e5752_5b3b_11eb_bb08_60f81dd06e70row0_col5\" class=\"data row0 col5\" >nan</td>\n",
       "            </tr>\n",
       "            <tr>\n",
       "                        <th id=\"T_574e5752_5b3b_11eb_bb08_60f81dd06e70level0_row1\" class=\"row_heading level0 row1\" >1</th>\n",
       "                        <td id=\"T_574e5752_5b3b_11eb_bb08_60f81dd06e70row1_col0\" class=\"data row1 col0\" >0.888241</td>\n",
       "                        <td id=\"T_574e5752_5b3b_11eb_bb08_60f81dd06e70row1_col1\" class=\"data row1 col1\" >-0.171776</td>\n",
       "                        <td id=\"T_574e5752_5b3b_11eb_bb08_60f81dd06e70row1_col2\" class=\"data row1 col2\" >-0.039719</td>\n",
       "                        <td id=\"T_574e5752_5b3b_11eb_bb08_60f81dd06e70row1_col3\" class=\"data row1 col3\" >-0.081114</td>\n",
       "                        <td id=\"T_574e5752_5b3b_11eb_bb08_60f81dd06e70row1_col4\" class=\"data row1 col4\" >-0.041316</td>\n",
       "                        <td id=\"T_574e5752_5b3b_11eb_bb08_60f81dd06e70row1_col5\" class=\"data row1 col5\" >1.000000</td>\n",
       "            </tr>\n",
       "            <tr>\n",
       "                        <th id=\"T_574e5752_5b3b_11eb_bb08_60f81dd06e70level0_row2\" class=\"row_heading level0 row2\" >2</th>\n",
       "                        <td id=\"T_574e5752_5b3b_11eb_bb08_60f81dd06e70row2_col0\" class=\"data row2 col0\" >1.358105</td>\n",
       "                        <td id=\"T_574e5752_5b3b_11eb_bb08_60f81dd06e70row2_col1\" class=\"data row2 col1\" >0.530113</td>\n",
       "                        <td id=\"T_574e5752_5b3b_11eb_bb08_60f81dd06e70row2_col2\" class=\"data row2 col2\" >-0.033397</td>\n",
       "                        <td id=\"T_574e5752_5b3b_11eb_bb08_60f81dd06e70row2_col3\" class=\"data row2 col3\" >-0.058993</td>\n",
       "                        <td id=\"T_574e5752_5b3b_11eb_bb08_60f81dd06e70row2_col4\" class=\"data row2 col4\" >-0.030424</td>\n",
       "                        <td id=\"T_574e5752_5b3b_11eb_bb08_60f81dd06e70row2_col5\" class=\"data row2 col5\" >1.500000</td>\n",
       "            </tr>\n",
       "            <tr>\n",
       "                        <th id=\"T_574e5752_5b3b_11eb_bb08_60f81dd06e70level0_row3\" class=\"row_heading level0 row3\" >3</th>\n",
       "                        <td id=\"T_574e5752_5b3b_11eb_bb08_60f81dd06e70row3_col0\" class=\"data row3 col0\" >5.327715</td>\n",
       "                        <td id=\"T_574e5752_5b3b_11eb_bb08_60f81dd06e70row3_col1\" class=\"data row3 col1\" >6.705774</td>\n",
       "                        <td id=\"T_574e5752_5b3b_11eb_bb08_60f81dd06e70row3_col2\" class=\"data row3 col2\" >-0.019079</td>\n",
       "                        <td id=\"T_574e5752_5b3b_11eb_bb08_60f81dd06e70row3_col3\" class=\"data row3 col3\" >-0.031906</td>\n",
       "                        <td id=\"T_574e5752_5b3b_11eb_bb08_60f81dd06e70row3_col4\" class=\"data row3 col4\" >-0.016409</td>\n",
       "                        <td id=\"T_574e5752_5b3b_11eb_bb08_60f81dd06e70row3_col5\" class=\"data row3 col5\" >1.000000</td>\n",
       "            </tr>\n",
       "            <tr>\n",
       "                        <th id=\"T_574e5752_5b3b_11eb_bb08_60f81dd06e70level0_row4\" class=\"row_heading level0 row4\" >4</th>\n",
       "                        <td id=\"T_574e5752_5b3b_11eb_bb08_60f81dd06e70row4_col0\" class=\"data row4 col0\" >-0.180687</td>\n",
       "                        <td id=\"T_574e5752_5b3b_11eb_bb08_60f81dd06e70row4_col1\" class=\"data row4 col1\" >-0.488856</td>\n",
       "                        <td id=\"T_574e5752_5b3b_11eb_bb08_60f81dd06e70row4_col2\" class=\"data row4 col2\" >0.001022</td>\n",
       "                        <td id=\"T_574e5752_5b3b_11eb_bb08_60f81dd06e70row4_col3\" class=\"data row4 col3\" >-0.003422</td>\n",
       "                        <td id=\"T_574e5752_5b3b_11eb_bb08_60f81dd06e70row4_col4\" class=\"data row4 col4\" >-0.001398</td>\n",
       "                        <td id=\"T_574e5752_5b3b_11eb_bb08_60f81dd06e70row4_col5\" class=\"data row4 col5\" >1.000000</td>\n",
       "            </tr>\n",
       "            <tr>\n",
       "                        <th id=\"T_574e5752_5b3b_11eb_bb08_60f81dd06e70level0_row5\" class=\"row_heading level0 row5\" >5</th>\n",
       "                        <td id=\"T_574e5752_5b3b_11eb_bb08_60f81dd06e70row5_col0\" class=\"data row5 col0\" >3.230407</td>\n",
       "                        <td id=\"T_574e5752_5b3b_11eb_bb08_60f81dd06e70row5_col1\" class=\"data row5 col1\" >4.114311</td>\n",
       "                        <td id=\"T_574e5752_5b3b_11eb_bb08_60f81dd06e70row5_col2\" class=\"data row5 col2\" >-0.002289</td>\n",
       "                        <td id=\"T_574e5752_5b3b_11eb_bb08_60f81dd06e70row5_col3\" class=\"data row5 col3\" >-0.007164</td>\n",
       "                        <td id=\"T_574e5752_5b3b_11eb_bb08_60f81dd06e70row5_col4\" class=\"data row5 col4\" >-0.003560</td>\n",
       "                        <td id=\"T_574e5752_5b3b_11eb_bb08_60f81dd06e70row5_col5\" class=\"data row5 col5\" >4.000000</td>\n",
       "            </tr>\n",
       "            <tr>\n",
       "                        <th id=\"T_574e5752_5b3b_11eb_bb08_60f81dd06e70level0_row6\" class=\"row_heading level0 row6\" >6</th>\n",
       "                        <td id=\"T_574e5752_5b3b_11eb_bb08_60f81dd06e70row6_col0\" class=\"data row6 col0\" >1.147634</td>\n",
       "                        <td id=\"T_574e5752_5b3b_11eb_bb08_60f81dd06e70row6_col1\" class=\"data row6 col1\" >1.610741</td>\n",
       "                        <td id=\"T_574e5752_5b3b_11eb_bb08_60f81dd06e70row6_col2\" class=\"data row6 col2\" >-0.000601</td>\n",
       "                        <td id=\"T_574e5752_5b3b_11eb_bb08_60f81dd06e70row6_col3\" class=\"data row6 col3\" >0.002353</td>\n",
       "                        <td id=\"T_574e5752_5b3b_11eb_bb08_60f81dd06e70row6_col4\" class=\"data row6 col4\" >0.001099</td>\n",
       "                        <td id=\"T_574e5752_5b3b_11eb_bb08_60f81dd06e70row6_col5\" class=\"data row6 col5\" >1.000000</td>\n",
       "            </tr>\n",
       "            <tr>\n",
       "                        <th id=\"T_574e5752_5b3b_11eb_bb08_60f81dd06e70level0_row7\" class=\"row_heading level0 row7\" >7</th>\n",
       "                        <td id=\"T_574e5752_5b3b_11eb_bb08_60f81dd06e70row7_col0\" class=\"data row7 col0\" >0.905559</td>\n",
       "                        <td id=\"T_574e5752_5b3b_11eb_bb08_60f81dd06e70row7_col1\" class=\"data row7 col1\" >1.425003</td>\n",
       "                        <td id=\"T_574e5752_5b3b_11eb_bb08_60f81dd06e70row7_col2\" class=\"data row7 col2\" >0.000399</td>\n",
       "                        <td id=\"T_574e5752_5b3b_11eb_bb08_60f81dd06e70row7_col3\" class=\"data row7 col3\" >0.000923</td>\n",
       "                        <td id=\"T_574e5752_5b3b_11eb_bb08_60f81dd06e70row7_col4\" class=\"data row7 col4\" >0.000551</td>\n",
       "                        <td id=\"T_574e5752_5b3b_11eb_bb08_60f81dd06e70row7_col5\" class=\"data row7 col5\" >1.000000</td>\n",
       "            </tr>\n",
       "    </tbody></table>"
      ],
      "text/plain": [
       "<pandas.io.formats.style.Styler at 0x7ff686e2fbe0>"
      ]
     },
     "execution_count": 82,
     "metadata": {},
     "output_type": "execute_result"
    }
   ],
   "source": [
    "pct_scores_df.style.background_gradient() \n",
    "# we choose index 4, 100 Estimations <- \n",
    "    # Score time decrease 3->4 & Score time increase dramatically 4->5\n",
    "    # unsubstantial decrease MSE & RMSE 4->5 compared to 3->4"
   ]
  },
  {
   "cell_type": "markdown",
   "id": "regulated-polls",
   "metadata": {},
   "source": [
    "# Score Model"
   ]
  },
  {
   "cell_type": "code",
   "execution_count": 83,
   "id": "current-atlantic",
   "metadata": {},
   "outputs": [
    {
     "data": {
      "text/plain": [
       "RandomForestRegressor()"
      ]
     },
     "execution_count": 83,
     "metadata": {},
     "output_type": "execute_result"
    }
   ],
   "source": [
    "# MODIFY!\n",
    "# adopt number of estimators from the previous section\n",
    "\n",
    "score_model = RandomForestRegressor(n_estimators=100)\n",
    "score_model"
   ]
  },
  {
   "cell_type": "code",
   "execution_count": 84,
   "id": "average-hindu",
   "metadata": {},
   "outputs": [],
   "source": [
    "from sklearn.model_selection import cross_validate\n",
    "\n",
    "scores = cross_validate(\n",
    "    score_model, \n",
    "    X_train, \n",
    "    y_train,\n",
    "    scoring=[\n",
    "        'neg_mean_absolute_error',\n",
    "        'neg_mean_squared_error',\n",
    "        'neg_root_mean_squared_error'\n",
    "    ],\n",
    "    cv=10\n",
    ")"
   ]
  },
  {
   "cell_type": "code",
   "execution_count": 85,
   "id": "expanded-oxide",
   "metadata": {},
   "outputs": [],
   "source": [
    "scores = pd.DataFrame(scores)"
   ]
  },
  {
   "cell_type": "code",
   "execution_count": 86,
   "id": "sealed-warner",
   "metadata": {},
   "outputs": [
    {
     "data": {
      "text/html": [
       "<div>\n",
       "<style scoped>\n",
       "    .dataframe tbody tr th:only-of-type {\n",
       "        vertical-align: middle;\n",
       "    }\n",
       "\n",
       "    .dataframe tbody tr th {\n",
       "        vertical-align: top;\n",
       "    }\n",
       "\n",
       "    .dataframe thead th {\n",
       "        text-align: right;\n",
       "    }\n",
       "</style>\n",
       "<table border=\"1\" class=\"dataframe\">\n",
       "  <thead>\n",
       "    <tr style=\"text-align: right;\">\n",
       "      <th></th>\n",
       "      <th>fit_time</th>\n",
       "      <th>score_time</th>\n",
       "      <th>test_neg_mean_absolute_error</th>\n",
       "      <th>test_neg_mean_squared_error</th>\n",
       "      <th>test_neg_root_mean_squared_error</th>\n",
       "    </tr>\n",
       "  </thead>\n",
       "  <tbody>\n",
       "    <tr>\n",
       "      <th>0</th>\n",
       "      <td>2.005647</td>\n",
       "      <td>0.018748</td>\n",
       "      <td>-3.004957</td>\n",
       "      <td>-16.826831</td>\n",
       "      <td>-4.102052</td>\n",
       "    </tr>\n",
       "    <tr>\n",
       "      <th>1</th>\n",
       "      <td>1.717539</td>\n",
       "      <td>0.013996</td>\n",
       "      <td>-2.832815</td>\n",
       "      <td>-15.695460</td>\n",
       "      <td>-3.961750</td>\n",
       "    </tr>\n",
       "    <tr>\n",
       "      <th>2</th>\n",
       "      <td>1.782674</td>\n",
       "      <td>0.012811</td>\n",
       "      <td>-3.285017</td>\n",
       "      <td>-19.782330</td>\n",
       "      <td>-4.447733</td>\n",
       "    </tr>\n",
       "    <tr>\n",
       "      <th>3</th>\n",
       "      <td>1.634927</td>\n",
       "      <td>0.012576</td>\n",
       "      <td>-3.057435</td>\n",
       "      <td>-18.672452</td>\n",
       "      <td>-4.321163</td>\n",
       "    </tr>\n",
       "    <tr>\n",
       "      <th>4</th>\n",
       "      <td>1.704660</td>\n",
       "      <td>0.016080</td>\n",
       "      <td>-2.859191</td>\n",
       "      <td>-15.148121</td>\n",
       "      <td>-3.892059</td>\n",
       "    </tr>\n",
       "    <tr>\n",
       "      <th>5</th>\n",
       "      <td>1.855059</td>\n",
       "      <td>0.013109</td>\n",
       "      <td>-3.265831</td>\n",
       "      <td>-17.850563</td>\n",
       "      <td>-4.224993</td>\n",
       "    </tr>\n",
       "    <tr>\n",
       "      <th>6</th>\n",
       "      <td>1.673420</td>\n",
       "      <td>0.013997</td>\n",
       "      <td>-3.306442</td>\n",
       "      <td>-20.277385</td>\n",
       "      <td>-4.503042</td>\n",
       "    </tr>\n",
       "    <tr>\n",
       "      <th>7</th>\n",
       "      <td>1.687890</td>\n",
       "      <td>0.022493</td>\n",
       "      <td>-2.945883</td>\n",
       "      <td>-15.243690</td>\n",
       "      <td>-3.904317</td>\n",
       "    </tr>\n",
       "    <tr>\n",
       "      <th>8</th>\n",
       "      <td>1.697661</td>\n",
       "      <td>0.015497</td>\n",
       "      <td>-2.839027</td>\n",
       "      <td>-14.313607</td>\n",
       "      <td>-3.783333</td>\n",
       "    </tr>\n",
       "    <tr>\n",
       "      <th>9</th>\n",
       "      <td>1.722747</td>\n",
       "      <td>0.015404</td>\n",
       "      <td>-2.746463</td>\n",
       "      <td>-13.960770</td>\n",
       "      <td>-3.736411</td>\n",
       "    </tr>\n",
       "  </tbody>\n",
       "</table>\n",
       "</div>"
      ],
      "text/plain": [
       "   fit_time  score_time  test_neg_mean_absolute_error  \\\n",
       "0  2.005647    0.018748                     -3.004957   \n",
       "1  1.717539    0.013996                     -2.832815   \n",
       "2  1.782674    0.012811                     -3.285017   \n",
       "3  1.634927    0.012576                     -3.057435   \n",
       "4  1.704660    0.016080                     -2.859191   \n",
       "5  1.855059    0.013109                     -3.265831   \n",
       "6  1.673420    0.013997                     -3.306442   \n",
       "7  1.687890    0.022493                     -2.945883   \n",
       "8  1.697661    0.015497                     -2.839027   \n",
       "9  1.722747    0.015404                     -2.746463   \n",
       "\n",
       "   test_neg_mean_squared_error  test_neg_root_mean_squared_error  \n",
       "0                   -16.826831                         -4.102052  \n",
       "1                   -15.695460                         -3.961750  \n",
       "2                   -19.782330                         -4.447733  \n",
       "3                   -18.672452                         -4.321163  \n",
       "4                   -15.148121                         -3.892059  \n",
       "5                   -17.850563                         -4.224993  \n",
       "6                   -20.277385                         -4.503042  \n",
       "7                   -15.243690                         -3.904317  \n",
       "8                   -14.313607                         -3.783333  \n",
       "9                   -13.960770                         -3.736411  "
      ]
     },
     "execution_count": 86,
     "metadata": {},
     "output_type": "execute_result"
    }
   ],
   "source": [
    "scores"
   ]
  },
  {
   "cell_type": "code",
   "execution_count": 87,
   "id": "interesting-stationery",
   "metadata": {},
   "outputs": [],
   "source": [
    "mean_scores = scores.mean()"
   ]
  },
  {
   "cell_type": "code",
   "execution_count": 88,
   "id": "eastern-fruit",
   "metadata": {},
   "outputs": [
    {
     "data": {
      "text/plain": [
       "fit_time                             1.748222\n",
       "score_time                           0.015471\n",
       "test_neg_mean_absolute_error        -3.014306\n",
       "test_neg_mean_squared_error        -16.777121\n",
       "test_neg_root_mean_squared_error    -4.087685\n",
       "dtype: float64"
      ]
     },
     "execution_count": 88,
     "metadata": {},
     "output_type": "execute_result"
    }
   ],
   "source": [
    "mean_scores"
   ]
  },
  {
   "cell_type": "markdown",
   "id": "technical-appointment",
   "metadata": {},
   "source": [
    "# Export Scores"
   ]
  },
  {
   "cell_type": "code",
   "execution_count": 89,
   "id": "handmade-incident",
   "metadata": {},
   "outputs": [],
   "source": [
    "mean_scores = mean_scores.rename(f'{model_name}')"
   ]
  },
  {
   "cell_type": "code",
   "execution_count": 90,
   "id": "still-singing",
   "metadata": {},
   "outputs": [],
   "source": [
    "mean_scores[[2,3,4]] = mean_scores[[2,3,4]].apply(abs)"
   ]
  },
  {
   "cell_type": "code",
   "execution_count": 91,
   "id": "bizarre-physiology",
   "metadata": {},
   "outputs": [],
   "source": [
    "# mean_scores"
   ]
  },
  {
   "cell_type": "code",
   "execution_count": 92,
   "id": "known-seminar",
   "metadata": {},
   "outputs": [],
   "source": [
    "mean_scores = mean_scores.rename({\n",
    "    'fit_time':'Fit Time',\n",
    "    'score_time':'Score Time',\n",
    "    'test_neg_mean_absolute_error':'MAE',\n",
    "    'test_neg_mean_squared_error':'MSE',\n",
    "    'test_neg_root_mean_squared_error':'RMSE'\n",
    "})"
   ]
  },
  {
   "cell_type": "code",
   "execution_count": 93,
   "id": "valued-boundary",
   "metadata": {},
   "outputs": [
    {
     "data": {
      "text/plain": [
       "Fit Time       1.748222\n",
       "Score Time     0.015471\n",
       "MAE            3.014306\n",
       "MSE           16.777121\n",
       "RMSE           4.087685\n",
       "Name: RandFo, dtype: float64"
      ]
     },
     "execution_count": 93,
     "metadata": {},
     "output_type": "execute_result"
    }
   ],
   "source": [
    "mean_scores"
   ]
  },
  {
   "cell_type": "code",
   "execution_count": 94,
   "id": "german-advancement",
   "metadata": {},
   "outputs": [],
   "source": [
    "mean_scores['STD FT'] = scores.fit_time.std()\n",
    "mean_scores['STD ST'] = scores.score_time.std()\n",
    "mean_scores['STD MAE'] = scores.test_neg_mean_absolute_error.std()\n",
    "mean_scores['STD MSE'] = scores.test_neg_mean_squared_error.std()\n",
    "mean_scores['STD RMSE'] = scores.test_neg_root_mean_squared_error.std()"
   ]
  },
  {
   "cell_type": "code",
   "execution_count": 95,
   "id": "aggressive-atlantic",
   "metadata": {},
   "outputs": [
    {
     "data": {
      "text/plain": [
       "Fit Time       1.748222\n",
       "Score Time     0.015471\n",
       "MAE            3.014306\n",
       "MSE           16.777121\n",
       "RMSE           4.087685\n",
       "STD FT         0.109028\n",
       "STD ST         0.003088\n",
       "STD MAE        0.207628\n",
       "STD MSE        2.265832\n",
       "STD RMSE       0.274774\n",
       "Name: RandFo, dtype: float64"
      ]
     },
     "execution_count": 95,
     "metadata": {},
     "output_type": "execute_result"
    }
   ],
   "source": [
    "mean_scores"
   ]
  },
  {
   "cell_type": "code",
   "execution_count": 96,
   "id": "experienced-fetish",
   "metadata": {},
   "outputs": [],
   "source": [
    "mean_scores.to_csv(f'./scores/{model_name}-100-score.csv')"
   ]
  },
  {
   "cell_type": "markdown",
   "id": "productive-direction",
   "metadata": {},
   "source": [
    "# Holdout Test"
   ]
  },
  {
   "cell_type": "code",
   "execution_count": 97,
   "id": "dying-consolidation",
   "metadata": {},
   "outputs": [
    {
     "data": {
      "text/plain": [
       "RandomForestRegressor()"
      ]
     },
     "execution_count": 97,
     "metadata": {},
     "output_type": "execute_result"
    }
   ],
   "source": [
    "score_model.fit(X_train,y_train)"
   ]
  },
  {
   "cell_type": "code",
   "execution_count": 98,
   "id": "accepting-finnish",
   "metadata": {},
   "outputs": [],
   "source": [
    "y_holdout = score_model.predict(X_test)"
   ]
  },
  {
   "cell_type": "code",
   "execution_count": 99,
   "id": "soviet-colon",
   "metadata": {},
   "outputs": [
    {
     "data": {
      "text/plain": [
       "<AxesSubplot:ylabel='Count'>"
      ]
     },
     "execution_count": 99,
     "metadata": {},
     "output_type": "execute_result"
    },
    {
     "data": {
      "image/png": "[encoded data removed]",
      "text/plain": [
       "<Figure size 432x288 with 1 Axes>"
      ]
     },
     "metadata": {
      "needs_background": "light"
     },
     "output_type": "display_data"
    }
   ],
   "source": [
    "sns.histplot(y_holdout,bins=40,kde=True)"
   ]
  },
  {
   "cell_type": "code",
   "execution_count": 100,
   "id": "duplicate-merchandise",
   "metadata": {},
   "outputs": [
    {
     "data": {
      "text/plain": [
       "<matplotlib.legend.Legend at 0x7ff6881ce490>"
      ]
     },
     "execution_count": 100,
     "metadata": {},
     "output_type": "execute_result"
    },
    {
     "data": {
      "image/png": "[encoded data removed]",
      "text/plain": [
       "<Figure size 432x288 with 1 Axes>"
      ]
     },
     "metadata": {
      "needs_background": "light"
     },
     "output_type": "display_data"
    }
   ],
   "source": [
    "fig,ax = plt.subplots()\n",
    "\n",
    "sns.kdeplot(y_test, ax=ax, shade=True, label='Observations')\n",
    "sns.kdeplot(y_holdout, ax=ax,shade=True,label='Predictions')\n",
    "\n",
    "ax.legend(loc='best')"
   ]
  },
  {
   "cell_type": "code",
   "execution_count": 101,
   "id": "wooden-discretion",
   "metadata": {},
   "outputs": [
    {
     "data": {
      "text/plain": [
       "<matplotlib.legend.Legend at 0x7ff687be6b80>"
      ]
     },
     "execution_count": 101,
     "metadata": {},
     "output_type": "execute_result"
    },
    {
     "data": {
      "image/png": "[encoded data removed]",
      "text/plain": [
       "<Figure size 432x288 with 1 Axes>"
      ]
     },
     "metadata": {
      "needs_background": "light"
     },
     "output_type": "display_data"
    }
   ],
   "source": [
    "fig,ax = plt.subplots()\n",
    "\n",
    "sns.ecdfplot(y_test, ax=ax, label='Observations')\n",
    "sns.ecdfplot(y_holdout, ax=ax,label='Predictions')\n",
    "plt.axvline(x=y_test.mean(),color='grey',linestyle='--')\n",
    "\n",
    "ax.legend(loc='best')"
   ]
  },
  {
   "cell_type": "code",
   "execution_count": 102,
   "id": "relevant-england",
   "metadata": {},
   "outputs": [],
   "source": [
    "from sklearn.metrics import mean_absolute_error, mean_squared_error\n",
    "\n",
    "mae = mean_absolute_error(y_test,y_holdout)\n",
    "mse = mean_squared_error(y_test,y_holdout)\n",
    "rmse = np.sqrt(mse)"
   ]
  },
  {
   "cell_type": "code",
   "execution_count": 103,
   "id": "moderate-auckland",
   "metadata": {},
   "outputs": [
    {
     "data": {
      "text/html": [
       "<div>\n",
       "<style scoped>\n",
       "    .dataframe tbody tr th:only-of-type {\n",
       "        vertical-align: middle;\n",
       "    }\n",
       "\n",
       "    .dataframe tbody tr th {\n",
       "        vertical-align: top;\n",
       "    }\n",
       "\n",
       "    .dataframe thead th {\n",
       "        text-align: right;\n",
       "    }\n",
       "</style>\n",
       "<table border=\"1\" class=\"dataframe\">\n",
       "  <thead>\n",
       "    <tr style=\"text-align: right;\">\n",
       "      <th></th>\n",
       "      <th>RandFo</th>\n",
       "    </tr>\n",
       "  </thead>\n",
       "  <tbody>\n",
       "    <tr>\n",
       "      <th>MAE</th>\n",
       "      <td>3.004429</td>\n",
       "    </tr>\n",
       "    <tr>\n",
       "      <th>MSE</th>\n",
       "      <td>17.242662</td>\n",
       "    </tr>\n",
       "    <tr>\n",
       "      <th>RMSE</th>\n",
       "      <td>4.152428</td>\n",
       "    </tr>\n",
       "  </tbody>\n",
       "</table>\n",
       "</div>"
      ],
      "text/plain": [
       "         RandFo\n",
       "MAE    3.004429\n",
       "MSE   17.242662\n",
       "RMSE   4.152428"
      ]
     },
     "execution_count": 103,
     "metadata": {},
     "output_type": "execute_result"
    }
   ],
   "source": [
    "err_df = pd.DataFrame(data=[mae, mse, rmse],index=['MAE','MSE','RMSE'],columns=[f'{model_name}'])\n",
    "err_df"
   ]
  },
  {
   "cell_type": "code",
   "execution_count": 104,
   "id": "molecular-transition",
   "metadata": {},
   "outputs": [],
   "source": [
    "err_df.to_csv(f'./holdout-test/{model_name}-err.csv')\n",
    "# mean_scores.to_csv(f'./opt-model-err/{model_name}-err.csv')"
   ]
  },
  {
   "cell_type": "code",
   "execution_count": 105,
   "id": "coastal-organic",
   "metadata": {},
   "outputs": [
    {
     "data": {
      "text/plain": [
       "mean    -0.375198\n",
       "std      4.145926\n",
       "min    -13.515220\n",
       "25%     -2.491491\n",
       "50%     -0.546028\n",
       "75%      1.931068\n",
       "max     14.984834\n",
       "Name: throughput, dtype: float64"
      ]
     },
     "execution_count": 105,
     "metadata": {},
     "output_type": "execute_result"
    }
   ],
   "source": [
    "res = y_test - y_holdout\n",
    "res.describe().drop('count')"
   ]
  },
  {
   "cell_type": "code",
   "execution_count": 106,
   "id": "selective-spider",
   "metadata": {},
   "outputs": [
    {
     "data": {
      "text/plain": [
       "<AxesSubplot:xlabel='throughput', ylabel='Count'>"
      ]
     },
     "execution_count": 106,
     "metadata": {},
     "output_type": "execute_result"
    },
    {
     "data": {
      "image/png": "[encoded data removed]",
      "text/plain": [
       "<Figure size 432x288 with 1 Axes>"
      ]
     },
     "metadata": {
      "needs_background": "light"
     },
     "output_type": "display_data"
    }
   ],
   "source": [
    "sns.histplot(data=res, kde=True,bins=40)"
   ]
  },
  {
   "cell_type": "code",
   "execution_count": 107,
   "id": "labeled-hopkins",
   "metadata": {},
   "outputs": [
    {
     "data": {
      "text/plain": [
       "<matplotlib.lines.Line2D at 0x7ff691bddd00>"
      ]
     },
     "execution_count": 107,
     "metadata": {},
     "output_type": "execute_result"
    },
    {
     "data": {
      "image/png": "[encoded data removed]",
      "text/plain": [
       "<Figure size 432x288 with 1 Axes>"
      ]
     },
     "metadata": {
      "needs_background": "light"
     },
     "output_type": "display_data"
    }
   ],
   "source": [
    "ax = sns.scatterplot(x=y_test, y=res)\n",
    "ax.set(ylabel='Residuals', xlabel='Test Label')\n",
    "plt.axhline(y=0,color='red',linestyle='--')\n",
    "\n",
    "# there should be no clear pattern / curve in the plot\n",
    "# we see a positive correlation between Test Label and Residuals -> later models should avoid this pattern"
   ]
  },
  {
   "cell_type": "code",
   "execution_count": 108,
   "id": "medium-matthew",
   "metadata": {},
   "outputs": [
    {
     "data": {
      "image/png": "[encoded data removed]",
      "text/plain": [
       "<Figure size 432x288 with 1 Axes>"
      ]
     },
     "metadata": {
      "needs_background": "light"
     },
     "output_type": "display_data"
    }
   ],
   "source": [
    "import scipy as sp\n",
    "\n",
    "fig, ax = plt.subplots()\n",
    "sp.stats.probplot(res,plot=ax);"
   ]
  },
  {
   "cell_type": "markdown",
   "id": "extended-blood",
   "metadata": {},
   "source": [
    "# Export Optimized Model"
   ]
  },
  {
   "cell_type": "code",
   "execution_count": 109,
   "id": "broken-alberta",
   "metadata": {},
   "outputs": [
    {
     "data": {
      "text/plain": [
       "RobustScaler()"
      ]
     },
     "execution_count": 109,
     "metadata": {},
     "output_type": "execute_result"
    }
   ],
   "source": [
    "from sklearn.preprocessing import RobustScaler\n",
    "scaler = RobustScaler()\n",
    "scaler.fit(X)"
   ]
  },
  {
   "cell_type": "code",
   "execution_count": 110,
   "id": "interested-nowhere",
   "metadata": {},
   "outputs": [
    {
     "data": {
      "text/plain": [
       "RandomForestRegressor()"
      ]
     },
     "execution_count": 110,
     "metadata": {},
     "output_type": "execute_result"
    }
   ],
   "source": [
    "# MODIFY! \n",
    "X = scaler.transform(X)\n",
    "\n",
    "op_model = score_model\n",
    "\n",
    "op_model.fit(X,y)"
   ]
  },
  {
   "cell_type": "code",
   "execution_count": 111,
   "id": "british-samba",
   "metadata": {},
   "outputs": [],
   "source": [
    "y_pred = op_model.predict(X)"
   ]
  },
  {
   "cell_type": "code",
   "execution_count": 112,
   "id": "incident-island",
   "metadata": {},
   "outputs": [
    {
     "data": {
      "text/plain": [
       "<AxesSubplot:ylabel='Count'>"
      ]
     },
     "execution_count": 112,
     "metadata": {},
     "output_type": "execute_result"
    },
    {
     "data": {
      "image/png": "[encoded data removed]",
      "text/plain": [
       "<Figure size 432x288 with 1 Axes>"
      ]
     },
     "metadata": {
      "needs_background": "light"
     },
     "output_type": "display_data"
    }
   ],
   "source": [
    "sns.histplot(y_pred,bins=40,kde=True)"
   ]
  },
  {
   "cell_type": "code",
   "execution_count": 113,
   "id": "cleared-camping",
   "metadata": {},
   "outputs": [
    {
     "data": {
      "text/plain": [
       "<matplotlib.legend.Legend at 0x7ff688d8fe50>"
      ]
     },
     "execution_count": 113,
     "metadata": {},
     "output_type": "execute_result"
    },
    {
     "data": {
      "image/png": "[encoded data removed]",
      "text/plain": [
       "<Figure size 432x288 with 1 Axes>"
      ]
     },
     "metadata": {
      "needs_background": "light"
     },
     "output_type": "display_data"
    }
   ],
   "source": [
    "fig,ax = plt.subplots()\n",
    "\n",
    "sns.kdeplot(y, ax=ax, shade=True, label='Observations')\n",
    "sns.kdeplot(y_pred, ax=ax,shade=True,label='Predictions')\n",
    "\n",
    "ax.legend(loc='best')"
   ]
  },
  {
   "cell_type": "code",
   "execution_count": 114,
   "id": "political-philippines",
   "metadata": {},
   "outputs": [
    {
     "data": {
      "text/plain": [
       "<matplotlib.legend.Legend at 0x7ff688e85070>"
      ]
     },
     "execution_count": 114,
     "metadata": {},
     "output_type": "execute_result"
    },
    {
     "data": {
      "image/png": "[encoded data removed]",
      "text/plain": [
       "<Figure size 432x288 with 1 Axes>"
      ]
     },
     "metadata": {
      "needs_background": "light"
     },
     "output_type": "display_data"
    }
   ],
   "source": [
    "fig,ax = plt.subplots()\n",
    "\n",
    "sns.ecdfplot(y, ax=ax, label='Observations')\n",
    "sns.ecdfplot(y_pred, ax=ax,label='Predictions')\n",
    "plt.axvline(x=y.mean(),color='grey',linestyle='--')\n",
    "\n",
    "ax.legend(loc='best')"
   ]
  },
  {
   "cell_type": "code",
   "execution_count": 115,
   "id": "exposed-earth",
   "metadata": {},
   "outputs": [],
   "source": [
    "mae = mean_absolute_error(y,y_pred)\n",
    "mse = mean_squared_error(y,y_pred)\n",
    "rmse = np.sqrt(mse)"
   ]
  },
  {
   "cell_type": "code",
   "execution_count": 116,
   "id": "related-island",
   "metadata": {},
   "outputs": [
    {
     "data": {
      "text/html": [
       "<div>\n",
       "<style scoped>\n",
       "    .dataframe tbody tr th:only-of-type {\n",
       "        vertical-align: middle;\n",
       "    }\n",
       "\n",
       "    .dataframe tbody tr th {\n",
       "        vertical-align: top;\n",
       "    }\n",
       "\n",
       "    .dataframe thead th {\n",
       "        text-align: right;\n",
       "    }\n",
       "</style>\n",
       "<table border=\"1\" class=\"dataframe\">\n",
       "  <thead>\n",
       "    <tr style=\"text-align: right;\">\n",
       "      <th></th>\n",
       "      <th>RandFo</th>\n",
       "    </tr>\n",
       "  </thead>\n",
       "  <tbody>\n",
       "    <tr>\n",
       "      <th>MAE</th>\n",
       "      <td>1.123234</td>\n",
       "    </tr>\n",
       "    <tr>\n",
       "      <th>MSE</th>\n",
       "      <td>2.360329</td>\n",
       "    </tr>\n",
       "    <tr>\n",
       "      <th>RMSE</th>\n",
       "      <td>1.536336</td>\n",
       "    </tr>\n",
       "  </tbody>\n",
       "</table>\n",
       "</div>"
      ],
      "text/plain": [
       "        RandFo\n",
       "MAE   1.123234\n",
       "MSE   2.360329\n",
       "RMSE  1.536336"
      ]
     },
     "execution_count": 116,
     "metadata": {},
     "output_type": "execute_result"
    }
   ],
   "source": [
    "err_df = pd.DataFrame(data=[mae, mse, rmse],index=['MAE','MSE','RMSE'],columns=[f'{model_name}'])\n",
    "err_df"
   ]
  },
  {
   "cell_type": "code",
   "execution_count": 117,
   "id": "fitting-latvia",
   "metadata": {},
   "outputs": [],
   "source": [
    "err_df.to_csv(f'./model-err/{model_name}-err.csv')\n",
    "# mean_scores.to_csv(f'./opt-model-err/{model_name}-err.csv')"
   ]
  },
  {
   "cell_type": "code",
   "execution_count": 118,
   "id": "collected-reporter",
   "metadata": {},
   "outputs": [
    {
     "data": {
      "text/plain": [
       "['./opt-models/RandFo-model.joblib']"
      ]
     },
     "execution_count": 118,
     "metadata": {},
     "output_type": "execute_result"
    }
   ],
   "source": [
    "from joblib import dump, load\n",
    "dump(op_model, f'./opt-models/{model_name}-model.joblib')"
   ]
  },
  {
   "cell_type": "code",
   "execution_count": 119,
   "id": "competent-bulgarian",
   "metadata": {},
   "outputs": [
    {
     "data": {
      "text/plain": [
       "mean   -0.038916\n",
       "std     1.536232\n",
       "min    -6.658851\n",
       "25%    -0.894703\n",
       "50%    -0.106979\n",
       "75%     0.696700\n",
       "max     7.751977\n",
       "Name: throughput, dtype: float64"
      ]
     },
     "execution_count": 119,
     "metadata": {},
     "output_type": "execute_result"
    }
   ],
   "source": [
    "res = y - y_pred\n",
    "res.describe().drop('count')"
   ]
  },
  {
   "cell_type": "code",
   "execution_count": 120,
   "id": "innovative-house",
   "metadata": {},
   "outputs": [
    {
     "data": {
      "text/plain": [
       "<AxesSubplot:xlabel='throughput', ylabel='Count'>"
      ]
     },
     "execution_count": 120,
     "metadata": {},
     "output_type": "execute_result"
    },
    {
     "data": {
      "image/png": "[encoded data removed]",
      "text/plain": [
       "<Figure size 432x288 with 1 Axes>"
      ]
     },
     "metadata": {
      "needs_background": "light"
     },
     "output_type": "display_data"
    }
   ],
   "source": [
    "sns.histplot(data=res, kde=True,bins=40)"
   ]
  },
  {
   "cell_type": "code",
   "execution_count": 121,
   "id": "smooth-february",
   "metadata": {},
   "outputs": [
    {
     "data": {
      "text/plain": [
       "<matplotlib.lines.Line2D at 0x7ff6892b1a90>"
      ]
     },
     "execution_count": 121,
     "metadata": {},
     "output_type": "execute_result"
    },
    {
     "data": {
      "image/png": "[encoded data removed]",
      "text/plain": [
       "<Figure size 432x288 with 1 Axes>"
      ]
     },
     "metadata": {
      "needs_background": "light"
     },
     "output_type": "display_data"
    }
   ],
   "source": [
    "ax = sns.scatterplot(x=y_test, y=res)\n",
    "ax.set(ylabel='Residuals', xlabel='Test Label')\n",
    "plt.axhline(y=0,color='red',linestyle='--')\n",
    "\n",
    "# there should be no clear pattern / curve in the plot\n",
    "# we see a positive correlation between Test Label and Residuals -> later models should avoid this pattern"
   ]
  },
  {
   "cell_type": "code",
   "execution_count": 122,
   "id": "further-literature",
   "metadata": {},
   "outputs": [
    {
     "data": {
      "image/png": "[encoded data removed]",
      "text/plain": [
       "<Figure size 432x288 with 1 Axes>"
      ]
     },
     "metadata": {
      "needs_background": "light"
     },
     "output_type": "display_data"
    }
   ],
   "source": [
    "import scipy as sp\n",
    "\n",
    "fig, ax = plt.subplots()\n",
    "sp.stats.probplot(res,plot=ax);"
   ]
  },
  {
   "cell_type": "markdown",
   "id": "external-patient",
   "metadata": {},
   "source": [
    "DONE!"
   ]
  },
  {
   "cell_type": "code",
   "execution_count": null,
   "id": "mechanical-absence",
   "metadata": {},
   "outputs": [],
   "source": []
  }
 ],
 "metadata": {
  "kernelspec": {
   "display_name": "Python 3",
   "language": "python",
   "name": "python3"
  },
  "language_info": {
   "codemirror_mode": {
    "name": "ipython",
    "version": 3
   },
   "file_extension": ".py",
   "mimetype": "text/x-python",
   "name": "python",
   "nbconvert_exporter": "python",
   "pygments_lexer": "ipython3",
   "version": "3.8.6"
  }
 },
 "nbformat": 4,
 "nbformat_minor": 5
}
