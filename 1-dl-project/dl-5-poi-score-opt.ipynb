{
 "cells": [
  {
   "cell_type": "code",
   "execution_count": 1,
   "id": "adequate-easter",
   "metadata": {},
   "outputs": [],
   "source": [
    "# MODIFY! \n",
    "model_name = 'PoiReg'"
   ]
  },
  {
   "cell_type": "markdown",
   "id": "rental-method",
   "metadata": {},
   "source": [
    "# Import Libraries & Data "
   ]
  },
  {
   "cell_type": "code",
   "execution_count": 2,
   "id": "moving-reason",
   "metadata": {},
   "outputs": [],
   "source": [
    "import numpy as np\n",
    "import pandas as pd\n",
    "import matplotlib.pyplot as plt\n",
    "import seaborn as sns"
   ]
  },
  {
   "cell_type": "code",
   "execution_count": 3,
   "id": "worse-bermuda",
   "metadata": {},
   "outputs": [],
   "source": [
    "df = pd.read_csv('./data/dl-pfe-ns.csv')\n",
    "X = df.drop('throughput',axis=1)\n",
    "y = df['throughput']"
   ]
  },
  {
   "cell_type": "markdown",
   "id": "periodic-violation",
   "metadata": {},
   "source": [
    "---"
   ]
  },
  {
   "cell_type": "markdown",
   "id": "fundamental-ceiling",
   "metadata": {},
   "source": [
    "# Scale Data"
   ]
  },
  {
   "cell_type": "code",
   "execution_count": 4,
   "id": "duplicate-compensation",
   "metadata": {},
   "outputs": [
    {
     "data": {
      "text/plain": [
       "StandardScaler()"
      ]
     },
     "execution_count": 4,
     "metadata": {},
     "output_type": "execute_result"
    }
   ],
   "source": [
    "# Split the data\n",
    "from sklearn.model_selection import train_test_split\n",
    "X_train, X_test, y_train, y_test = train_test_split(X, y, test_size=0.1, random_state=42)\n",
    "\n",
    "# Scale the data\n",
    "from sklearn.preprocessing import StandardScaler\n",
    "scaler = StandardScaler()\n",
    "scaler.fit(X_train)"
   ]
  },
  {
   "cell_type": "code",
   "execution_count": 5,
   "id": "gross-merchandise",
   "metadata": {},
   "outputs": [],
   "source": [
    "X_train = scaler.transform(X_train)\n",
    "X_test = scaler.transform(X_test)"
   ]
  },
  {
   "cell_type": "markdown",
   "id": "human-stations",
   "metadata": {},
   "source": [
    "# Determine Hyperparameters"
   ]
  },
  {
   "cell_type": "code",
   "execution_count": 6,
   "id": "democratic-poverty",
   "metadata": {},
   "outputs": [
    {
     "data": {
      "text/plain": [
       "PoissonRegressor()"
      ]
     },
     "execution_count": 6,
     "metadata": {},
     "output_type": "execute_result"
    }
   ],
   "source": [
    "# MODIFY!\n",
    "from sklearn.linear_model import PoissonRegressor\n",
    "\n",
    "model = PoissonRegressor()\n",
    "model"
   ]
  },
  {
   "cell_type": "code",
   "execution_count": 7,
   "id": "consolidated-seventh",
   "metadata": {},
   "outputs": [],
   "source": [
    "alphas = np.linspace(0.1,1,10)"
   ]
  },
  {
   "cell_type": "code",
   "execution_count": 8,
   "id": "younger-flavor",
   "metadata": {},
   "outputs": [],
   "source": [
    "p_grid = {\n",
    "    'alpha':alphas,\n",
    "}"
   ]
  },
  {
   "cell_type": "code",
   "execution_count": 9,
   "id": "motivated-render",
   "metadata": {},
   "outputs": [],
   "source": [
    "from sklearn.model_selection import GridSearchCV"
   ]
  },
  {
   "cell_type": "code",
   "execution_count": 10,
   "id": "legal-saturn",
   "metadata": {},
   "outputs": [],
   "source": [
    "grid_model = GridSearchCV(\n",
    "    estimator=model,\n",
    "    param_grid =p_grid, \n",
    "    scoring='neg_mean_squared_error',\n",
    "    cv=10, \n",
    "    verbose=1\n",
    ")"
   ]
  },
  {
   "cell_type": "code",
   "execution_count": 11,
   "id": "supported-democracy",
   "metadata": {},
   "outputs": [
    {
     "name": "stdout",
     "output_type": "stream",
     "text": [
      "Fitting 10 folds for each of 10 candidates, totalling 100 fits\n"
     ]
    },
    {
     "name": "stderr",
     "output_type": "stream",
     "text": [
      "[Parallel(n_jobs=1)]: Using backend SequentialBackend with 1 concurrent workers.\n",
      "[Parallel(n_jobs=1)]: Done 100 out of 100 | elapsed:    3.4s finished\n"
     ]
    },
    {
     "data": {
      "text/plain": [
       "GridSearchCV(cv=10, estimator=PoissonRegressor(),\n",
       "             param_grid={'alpha': array([0.1, 0.2, 0.3, 0.4, 0.5, 0.6, 0.7, 0.8, 0.9, 1. ])},\n",
       "             scoring='neg_mean_squared_error', verbose=1)"
      ]
     },
     "execution_count": 11,
     "metadata": {},
     "output_type": "execute_result"
    }
   ],
   "source": [
    "grid_model.fit(X_train,y_train)"
   ]
  },
  {
   "cell_type": "code",
   "execution_count": 12,
   "id": "disciplinary-commitment",
   "metadata": {},
   "outputs": [
    {
     "data": {
      "text/plain": [
       "{'alpha': 1.0}"
      ]
     },
     "execution_count": 12,
     "metadata": {},
     "output_type": "execute_result"
    }
   ],
   "source": [
    "grid_model.best_params_"
   ]
  },
  {
   "cell_type": "code",
   "execution_count": 13,
   "id": "alien-sense",
   "metadata": {},
   "outputs": [],
   "source": [
    "hp = pd.Series(name=f'{model_name} HP', data=grid_model.best_params_)"
   ]
  },
  {
   "cell_type": "code",
   "execution_count": 14,
   "id": "clean-memphis",
   "metadata": {},
   "outputs": [
    {
     "data": {
      "text/plain": [
       "alpha    1.0\n",
       "Name: PoiReg HP, dtype: float64"
      ]
     },
     "execution_count": 14,
     "metadata": {},
     "output_type": "execute_result"
    }
   ],
   "source": [
    "hp"
   ]
  },
  {
   "cell_type": "code",
   "execution_count": 15,
   "id": "canadian-amendment",
   "metadata": {},
   "outputs": [],
   "source": [
    "hp.to_csv(f'./hyperparameters/{model_name}-hp.csv')"
   ]
  },
  {
   "cell_type": "markdown",
   "id": "concrete-complex",
   "metadata": {},
   "source": [
    "# Score Model"
   ]
  },
  {
   "cell_type": "code",
   "execution_count": 16,
   "id": "invalid-advance",
   "metadata": {},
   "outputs": [
    {
     "data": {
      "text/plain": [
       "PoissonRegressor()"
      ]
     },
     "execution_count": 16,
     "metadata": {},
     "output_type": "execute_result"
    }
   ],
   "source": [
    "# MODIFY! \n",
    "from sklearn.linear_model import PoissonRegressor\n",
    "\n",
    "score_model = PoissonRegressor()\n",
    "score_model"
   ]
  },
  {
   "cell_type": "code",
   "execution_count": 17,
   "id": "located-thinking",
   "metadata": {},
   "outputs": [],
   "source": [
    "from sklearn.model_selection import cross_validate\n",
    "\n",
    "scores = cross_validate(\n",
    "    score_model, \n",
    "    X_train, \n",
    "    y_train,\n",
    "    scoring=[\n",
    "        'neg_mean_absolute_error',\n",
    "        'neg_mean_squared_error',\n",
    "        'neg_root_mean_squared_error'\n",
    "    ],\n",
    "    cv=10\n",
    ")"
   ]
  },
  {
   "cell_type": "code",
   "execution_count": 18,
   "id": "experienced-community",
   "metadata": {},
   "outputs": [],
   "source": [
    "scores = pd.DataFrame(scores)"
   ]
  },
  {
   "cell_type": "code",
   "execution_count": 19,
   "id": "generic-billy",
   "metadata": {},
   "outputs": [
    {
     "data": {
      "text/html": [
       "<div>\n",
       "<style scoped>\n",
       "    .dataframe tbody tr th:only-of-type {\n",
       "        vertical-align: middle;\n",
       "    }\n",
       "\n",
       "    .dataframe tbody tr th {\n",
       "        vertical-align: top;\n",
       "    }\n",
       "\n",
       "    .dataframe thead th {\n",
       "        text-align: right;\n",
       "    }\n",
       "</style>\n",
       "<table border=\"1\" class=\"dataframe\">\n",
       "  <thead>\n",
       "    <tr style=\"text-align: right;\">\n",
       "      <th></th>\n",
       "      <th>fit_time</th>\n",
       "      <th>score_time</th>\n",
       "      <th>test_neg_mean_absolute_error</th>\n",
       "      <th>test_neg_mean_squared_error</th>\n",
       "      <th>test_neg_root_mean_squared_error</th>\n",
       "    </tr>\n",
       "  </thead>\n",
       "  <tbody>\n",
       "    <tr>\n",
       "      <th>0</th>\n",
       "      <td>0.051593</td>\n",
       "      <td>0.002793</td>\n",
       "      <td>-3.222520</td>\n",
       "      <td>-17.502171</td>\n",
       "      <td>-4.183560</td>\n",
       "    </tr>\n",
       "    <tr>\n",
       "      <th>1</th>\n",
       "      <td>0.018805</td>\n",
       "      <td>0.001457</td>\n",
       "      <td>-3.179414</td>\n",
       "      <td>-15.583680</td>\n",
       "      <td>-3.947617</td>\n",
       "    </tr>\n",
       "    <tr>\n",
       "      <th>2</th>\n",
       "      <td>0.014796</td>\n",
       "      <td>0.001425</td>\n",
       "      <td>-3.317271</td>\n",
       "      <td>-17.771484</td>\n",
       "      <td>-4.215624</td>\n",
       "    </tr>\n",
       "    <tr>\n",
       "      <th>3</th>\n",
       "      <td>0.015032</td>\n",
       "      <td>0.001445</td>\n",
       "      <td>-3.343237</td>\n",
       "      <td>-18.140928</td>\n",
       "      <td>-4.259217</td>\n",
       "    </tr>\n",
       "    <tr>\n",
       "      <th>4</th>\n",
       "      <td>0.016065</td>\n",
       "      <td>0.001516</td>\n",
       "      <td>-3.262965</td>\n",
       "      <td>-18.502723</td>\n",
       "      <td>-4.301479</td>\n",
       "    </tr>\n",
       "    <tr>\n",
       "      <th>5</th>\n",
       "      <td>0.014258</td>\n",
       "      <td>0.001438</td>\n",
       "      <td>-3.261580</td>\n",
       "      <td>-16.412859</td>\n",
       "      <td>-4.051279</td>\n",
       "    </tr>\n",
       "    <tr>\n",
       "      <th>6</th>\n",
       "      <td>0.015461</td>\n",
       "      <td>0.001425</td>\n",
       "      <td>-3.502788</td>\n",
       "      <td>-21.285055</td>\n",
       "      <td>-4.613573</td>\n",
       "    </tr>\n",
       "    <tr>\n",
       "      <th>7</th>\n",
       "      <td>0.014567</td>\n",
       "      <td>0.001431</td>\n",
       "      <td>-3.141396</td>\n",
       "      <td>-16.507131</td>\n",
       "      <td>-4.062897</td>\n",
       "    </tr>\n",
       "    <tr>\n",
       "      <th>8</th>\n",
       "      <td>0.014459</td>\n",
       "      <td>0.001421</td>\n",
       "      <td>-3.162433</td>\n",
       "      <td>-16.382820</td>\n",
       "      <td>-4.047570</td>\n",
       "    </tr>\n",
       "    <tr>\n",
       "      <th>9</th>\n",
       "      <td>0.017960</td>\n",
       "      <td>0.001523</td>\n",
       "      <td>-2.849076</td>\n",
       "      <td>-14.286765</td>\n",
       "      <td>-3.779784</td>\n",
       "    </tr>\n",
       "  </tbody>\n",
       "</table>\n",
       "</div>"
      ],
      "text/plain": [
       "   fit_time  score_time  test_neg_mean_absolute_error  \\\n",
       "0  0.051593    0.002793                     -3.222520   \n",
       "1  0.018805    0.001457                     -3.179414   \n",
       "2  0.014796    0.001425                     -3.317271   \n",
       "3  0.015032    0.001445                     -3.343237   \n",
       "4  0.016065    0.001516                     -3.262965   \n",
       "5  0.014258    0.001438                     -3.261580   \n",
       "6  0.015461    0.001425                     -3.502788   \n",
       "7  0.014567    0.001431                     -3.141396   \n",
       "8  0.014459    0.001421                     -3.162433   \n",
       "9  0.017960    0.001523                     -2.849076   \n",
       "\n",
       "   test_neg_mean_squared_error  test_neg_root_mean_squared_error  \n",
       "0                   -17.502171                         -4.183560  \n",
       "1                   -15.583680                         -3.947617  \n",
       "2                   -17.771484                         -4.215624  \n",
       "3                   -18.140928                         -4.259217  \n",
       "4                   -18.502723                         -4.301479  \n",
       "5                   -16.412859                         -4.051279  \n",
       "6                   -21.285055                         -4.613573  \n",
       "7                   -16.507131                         -4.062897  \n",
       "8                   -16.382820                         -4.047570  \n",
       "9                   -14.286765                         -3.779784  "
      ]
     },
     "execution_count": 19,
     "metadata": {},
     "output_type": "execute_result"
    }
   ],
   "source": [
    "scores"
   ]
  },
  {
   "cell_type": "code",
   "execution_count": 20,
   "id": "better-death",
   "metadata": {},
   "outputs": [],
   "source": [
    "mean_scores = scores.mean()"
   ]
  },
  {
   "cell_type": "code",
   "execution_count": 21,
   "id": "acoustic-rouge",
   "metadata": {},
   "outputs": [
    {
     "data": {
      "text/plain": [
       "fit_time                             0.019300\n",
       "score_time                           0.001587\n",
       "test_neg_mean_absolute_error        -3.224268\n",
       "test_neg_mean_squared_error        -17.237562\n",
       "test_neg_root_mean_squared_error    -4.146260\n",
       "dtype: float64"
      ]
     },
     "execution_count": 21,
     "metadata": {},
     "output_type": "execute_result"
    }
   ],
   "source": [
    "mean_scores"
   ]
  },
  {
   "cell_type": "markdown",
   "id": "experienced-spouse",
   "metadata": {},
   "source": [
    "# Export Model Score"
   ]
  },
  {
   "cell_type": "code",
   "execution_count": 22,
   "id": "minimal-borough",
   "metadata": {},
   "outputs": [],
   "source": [
    "mean_scores = mean_scores.rename(f'{model_name}')"
   ]
  },
  {
   "cell_type": "code",
   "execution_count": 23,
   "id": "finished-amino",
   "metadata": {},
   "outputs": [],
   "source": [
    "mean_scores[[2,3,4]] = mean_scores[[2,3,4]].apply(abs)"
   ]
  },
  {
   "cell_type": "code",
   "execution_count": 24,
   "id": "monthly-comfort",
   "metadata": {},
   "outputs": [],
   "source": [
    "# mean_scores"
   ]
  },
  {
   "cell_type": "code",
   "execution_count": 25,
   "id": "partial-cursor",
   "metadata": {},
   "outputs": [],
   "source": [
    "mean_scores = mean_scores.rename({\n",
    "    'fit_time':'Fit Time',\n",
    "    'score_time':'Score Time',\n",
    "    'test_neg_mean_absolute_error':'MAE',\n",
    "    'test_neg_mean_squared_error':'MSE',\n",
    "    'test_neg_root_mean_squared_error':'RMSE'\n",
    "})"
   ]
  },
  {
   "cell_type": "code",
   "execution_count": 26,
   "id": "affected-amber",
   "metadata": {},
   "outputs": [
    {
     "data": {
      "text/plain": [
       "Fit Time       0.019300\n",
       "Score Time     0.001587\n",
       "MAE            3.224268\n",
       "MSE           17.237562\n",
       "RMSE           4.146260\n",
       "Name: PoiReg, dtype: float64"
      ]
     },
     "execution_count": 26,
     "metadata": {},
     "output_type": "execute_result"
    }
   ],
   "source": [
    "mean_scores"
   ]
  },
  {
   "cell_type": "code",
   "execution_count": 27,
   "id": "weird-commissioner",
   "metadata": {},
   "outputs": [],
   "source": [
    "mean_scores['STD FT'] = scores.fit_time.std()\n",
    "mean_scores['STD ST'] = scores.score_time.std()\n",
    "mean_scores['STD MAE'] = scores.test_neg_mean_absolute_error.std()\n",
    "mean_scores['STD MSE'] = scores.test_neg_mean_squared_error.std()\n",
    "mean_scores['STD RMSE'] = scores.test_neg_root_mean_squared_error.std()"
   ]
  },
  {
   "cell_type": "code",
   "execution_count": 28,
   "id": "whole-tower",
   "metadata": {},
   "outputs": [
    {
     "data": {
      "text/plain": [
       "Fit Time       0.019300\n",
       "Score Time     0.001587\n",
       "MAE            3.224268\n",
       "MSE           17.237562\n",
       "RMSE           4.146260\n",
       "STD FT         0.011450\n",
       "STD ST         0.000425\n",
       "STD MAE        0.168899\n",
       "STD MSE        1.901484\n",
       "STD RMSE       0.226301\n",
       "Name: PoiReg, dtype: float64"
      ]
     },
     "execution_count": 28,
     "metadata": {},
     "output_type": "execute_result"
    }
   ],
   "source": [
    "mean_scores"
   ]
  },
  {
   "cell_type": "code",
   "execution_count": 29,
   "id": "hungry-heath",
   "metadata": {},
   "outputs": [],
   "source": [
    "mean_scores.to_csv(f'./scores/{model_name}-score.csv')"
   ]
  },
  {
   "cell_type": "markdown",
   "id": "higher-dance",
   "metadata": {},
   "source": [
    "# Holdout Test"
   ]
  },
  {
   "cell_type": "code",
   "execution_count": 30,
   "id": "adaptive-daisy",
   "metadata": {},
   "outputs": [
    {
     "data": {
      "text/plain": [
       "PoissonRegressor()"
      ]
     },
     "execution_count": 30,
     "metadata": {},
     "output_type": "execute_result"
    }
   ],
   "source": [
    "score_model.fit(X_train,y_train)"
   ]
  },
  {
   "cell_type": "code",
   "execution_count": 31,
   "id": "sexual-illustration",
   "metadata": {},
   "outputs": [],
   "source": [
    "y_holdout = score_model.predict(X_test)"
   ]
  },
  {
   "cell_type": "code",
   "execution_count": 32,
   "id": "median-lender",
   "metadata": {},
   "outputs": [
    {
     "data": {
      "text/plain": [
       "<AxesSubplot:ylabel='Count'>"
      ]
     },
     "execution_count": 32,
     "metadata": {},
     "output_type": "execute_result"
    },
    {
     "data": {
      "image/png": "[encoded data removed]",
      "text/plain": [
       "<Figure size 432x288 with 1 Axes>"
      ]
     },
     "metadata": {
      "needs_background": "light"
     },
     "output_type": "display_data"
    }
   ],
   "source": [
    "sns.histplot(y_holdout,bins=40,kde=True)"
   ]
  },
  {
   "cell_type": "code",
   "execution_count": 33,
   "id": "ranging-china",
   "metadata": {},
   "outputs": [
    {
     "data": {
      "text/plain": [
       "<matplotlib.legend.Legend at 0x7ff3e88f47f0>"
      ]
     },
     "execution_count": 33,
     "metadata": {},
     "output_type": "execute_result"
    },
    {
     "data": {
      "image/png": "[encoded data removed]",
      "text/plain": [
       "<Figure size 432x288 with 1 Axes>"
      ]
     },
     "metadata": {
      "needs_background": "light"
     },
     "output_type": "display_data"
    }
   ],
   "source": [
    "fig,ax = plt.subplots()\n",
    "\n",
    "sns.kdeplot(y_test, ax=ax, shade=True, label='Observations')\n",
    "sns.kdeplot(y_holdout, ax=ax,shade=True,label='Predictions')\n",
    "\n",
    "ax.legend(loc='best')"
   ]
  },
  {
   "cell_type": "code",
   "execution_count": 34,
   "id": "heard-regulation",
   "metadata": {},
   "outputs": [
    {
     "data": {
      "text/plain": [
       "<matplotlib.legend.Legend at 0x7ff3e8946e80>"
      ]
     },
     "execution_count": 34,
     "metadata": {},
     "output_type": "execute_result"
    },
    {
     "data": {
      "image/png": "[encoded data removed]",
      "text/plain": [
       "<Figure size 432x288 with 1 Axes>"
      ]
     },
     "metadata": {
      "needs_background": "light"
     },
     "output_type": "display_data"
    }
   ],
   "source": [
    "fig,ax = plt.subplots()\n",
    "\n",
    "sns.ecdfplot(y_test, ax=ax, label='Observations')\n",
    "sns.ecdfplot(y_holdout, ax=ax,label='Predictions')\n",
    "plt.axvline(x=y_test.mean(),color='grey',linestyle='--')\n",
    "\n",
    "ax.legend(loc='best')"
   ]
  },
  {
   "cell_type": "code",
   "execution_count": 35,
   "id": "accurate-tamil",
   "metadata": {},
   "outputs": [],
   "source": [
    "from sklearn.metrics import mean_absolute_error, mean_squared_error\n",
    "\n",
    "mae = mean_absolute_error(y_test,y_holdout)\n",
    "mse = mean_squared_error(y_test,y_holdout)\n",
    "rmse = np.sqrt(mse)"
   ]
  },
  {
   "cell_type": "code",
   "execution_count": 36,
   "id": "current-egypt",
   "metadata": {},
   "outputs": [
    {
     "data": {
      "text/html": [
       "<div>\n",
       "<style scoped>\n",
       "    .dataframe tbody tr th:only-of-type {\n",
       "        vertical-align: middle;\n",
       "    }\n",
       "\n",
       "    .dataframe tbody tr th {\n",
       "        vertical-align: top;\n",
       "    }\n",
       "\n",
       "    .dataframe thead th {\n",
       "        text-align: right;\n",
       "    }\n",
       "</style>\n",
       "<table border=\"1\" class=\"dataframe\">\n",
       "  <thead>\n",
       "    <tr style=\"text-align: right;\">\n",
       "      <th></th>\n",
       "      <th>PoiReg</th>\n",
       "    </tr>\n",
       "  </thead>\n",
       "  <tbody>\n",
       "    <tr>\n",
       "      <th>MAE</th>\n",
       "      <td>3.305303</td>\n",
       "    </tr>\n",
       "    <tr>\n",
       "      <th>MSE</th>\n",
       "      <td>19.136762</td>\n",
       "    </tr>\n",
       "    <tr>\n",
       "      <th>RMSE</th>\n",
       "      <td>4.374558</td>\n",
       "    </tr>\n",
       "  </tbody>\n",
       "</table>\n",
       "</div>"
      ],
      "text/plain": [
       "         PoiReg\n",
       "MAE    3.305303\n",
       "MSE   19.136762\n",
       "RMSE   4.374558"
      ]
     },
     "execution_count": 36,
     "metadata": {},
     "output_type": "execute_result"
    }
   ],
   "source": [
    "err_df = pd.DataFrame(data=[mae, mse, rmse],index=['MAE','MSE','RMSE'],columns=[f'{model_name}'])\n",
    "err_df"
   ]
  },
  {
   "cell_type": "code",
   "execution_count": 37,
   "id": "published-model",
   "metadata": {},
   "outputs": [],
   "source": [
    "err_df.to_csv(f'./holdout-test/{model_name}-err.csv')\n",
    "# mean_scores.to_csv(f'./opt-model-err/{model_name}-err.csv')"
   ]
  },
  {
   "cell_type": "code",
   "execution_count": 38,
   "id": "trying-playback",
   "metadata": {},
   "outputs": [
    {
     "data": {
      "text/plain": [
       "mean    -0.568087\n",
       "std      4.348510\n",
       "min    -14.008585\n",
       "25%     -3.141052\n",
       "50%     -1.006405\n",
       "75%      1.527337\n",
       "max     15.309255\n",
       "Name: throughput, dtype: float64"
      ]
     },
     "execution_count": 38,
     "metadata": {},
     "output_type": "execute_result"
    }
   ],
   "source": [
    "res = y_test - y_holdout\n",
    "res.describe().drop('count')"
   ]
  },
  {
   "cell_type": "code",
   "execution_count": 39,
   "id": "powerful-billion",
   "metadata": {},
   "outputs": [
    {
     "data": {
      "text/plain": [
       "<AxesSubplot:xlabel='throughput', ylabel='Count'>"
      ]
     },
     "execution_count": 39,
     "metadata": {},
     "output_type": "execute_result"
    },
    {
     "data": {
      "image/png": "[encoded data removed]",
      "text/plain": [
       "<Figure size 432x288 with 1 Axes>"
      ]
     },
     "metadata": {
      "needs_background": "light"
     },
     "output_type": "display_data"
    }
   ],
   "source": [
    "sns.histplot(data=res, kde=True,bins=40)"
   ]
  },
  {
   "cell_type": "code",
   "execution_count": 40,
   "id": "consolidated-reynolds",
   "metadata": {},
   "outputs": [
    {
     "data": {
      "text/plain": [
       "<matplotlib.lines.Line2D at 0x7ff3e8e6af10>"
      ]
     },
     "execution_count": 40,
     "metadata": {},
     "output_type": "execute_result"
    },
    {
     "data": {
      "image/png": "[encoded data removed]",
      "text/plain": [
       "<Figure size 432x288 with 1 Axes>"
      ]
     },
     "metadata": {
      "needs_background": "light"
     },
     "output_type": "display_data"
    }
   ],
   "source": [
    "ax = sns.scatterplot(x=y_test, y=res)\n",
    "ax.set(ylabel='Residuals', xlabel='Test Label')\n",
    "plt.axhline(y=0,color='red',linestyle='--')\n",
    "\n",
    "# there should be no clear pattern / curve in the plot\n",
    "# we see a positive correlation between Test Label and Residuals -> later models should avoid this pattern"
   ]
  },
  {
   "cell_type": "code",
   "execution_count": 41,
   "id": "retained-multimedia",
   "metadata": {},
   "outputs": [
    {
     "data": {
      "image/png": "[encoded data removed]",
      "text/plain": [
       "<Figure size 432x288 with 1 Axes>"
      ]
     },
     "metadata": {
      "needs_background": "light"
     },
     "output_type": "display_data"
    }
   ],
   "source": [
    "import scipy as sp\n",
    "\n",
    "fig, ax = plt.subplots()\n",
    "sp.stats.probplot(res,plot=ax);"
   ]
  },
  {
   "cell_type": "markdown",
   "id": "consecutive-financing",
   "metadata": {},
   "source": [
    "# Export Optimized Model"
   ]
  },
  {
   "cell_type": "code",
   "execution_count": 42,
   "id": "bigger-literacy",
   "metadata": {},
   "outputs": [
    {
     "data": {
      "text/plain": [
       "StandardScaler()"
      ]
     },
     "execution_count": 42,
     "metadata": {},
     "output_type": "execute_result"
    }
   ],
   "source": [
    "from sklearn.preprocessing import StandardScaler\n",
    "scaler = StandardScaler()\n",
    "scaler.fit(X)"
   ]
  },
  {
   "cell_type": "code",
   "execution_count": 43,
   "id": "interior-surface",
   "metadata": {},
   "outputs": [
    {
     "data": {
      "text/plain": [
       "PoissonRegressor()"
      ]
     },
     "execution_count": 43,
     "metadata": {},
     "output_type": "execute_result"
    }
   ],
   "source": [
    "# MODIFY! \n",
    "X = scaler.transform(X)\n",
    "\n",
    "op_model = score_model\n",
    "\n",
    "op_model.fit(X,y)"
   ]
  },
  {
   "cell_type": "code",
   "execution_count": 44,
   "id": "geological-cisco",
   "metadata": {},
   "outputs": [],
   "source": [
    "y_pred = op_model.predict(X)"
   ]
  },
  {
   "cell_type": "code",
   "execution_count": 45,
   "id": "nutritional-nickname",
   "metadata": {},
   "outputs": [
    {
     "data": {
      "text/plain": [
       "<AxesSubplot:ylabel='Count'>"
      ]
     },
     "execution_count": 45,
     "metadata": {},
     "output_type": "execute_result"
    },
    {
     "data": {
      "image/png": "[encoded data removed]",
      "text/plain": [
       "<Figure size 432x288 with 1 Axes>"
      ]
     },
     "metadata": {
      "needs_background": "light"
     },
     "output_type": "display_data"
    }
   ],
   "source": [
    "sns.histplot(y_pred,bins=40,kde=True)"
   ]
  },
  {
   "cell_type": "code",
   "execution_count": 46,
   "id": "communist-concert",
   "metadata": {},
   "outputs": [
    {
     "data": {
      "text/plain": [
       "<matplotlib.legend.Legend at 0x7ff3e7217760>"
      ]
     },
     "execution_count": 46,
     "metadata": {},
     "output_type": "execute_result"
    },
    {
     "data": {
      "image/png": "[encoded data removed]",
      "text/plain": [
       "<Figure size 432x288 with 1 Axes>"
      ]
     },
     "metadata": {
      "needs_background": "light"
     },
     "output_type": "display_data"
    }
   ],
   "source": [
    "fig,ax = plt.subplots()\n",
    "\n",
    "sns.kdeplot(y, ax=ax, shade=True, label='Observations')\n",
    "sns.kdeplot(y_pred, ax=ax,shade=True,label='Predictions')\n",
    "\n",
    "ax.legend(loc='best')"
   ]
  },
  {
   "cell_type": "code",
   "execution_count": 47,
   "id": "touched-legend",
   "metadata": {},
   "outputs": [
    {
     "data": {
      "text/plain": [
       "<matplotlib.legend.Legend at 0x7ff3e7299fa0>"
      ]
     },
     "execution_count": 47,
     "metadata": {},
     "output_type": "execute_result"
    },
    {
     "data": {
      "image/png": "[encoded data removed]",
      "text/plain": [
       "<Figure size 432x288 with 1 Axes>"
      ]
     },
     "metadata": {
      "needs_background": "light"
     },
     "output_type": "display_data"
    }
   ],
   "source": [
    "fig,ax = plt.subplots()\n",
    "\n",
    "sns.ecdfplot(y, ax=ax, label='Observations')\n",
    "sns.ecdfplot(y_pred, ax=ax,label='Predictions')\n",
    "plt.axvline(x=y.mean(),color='grey',linestyle='--')\n",
    "\n",
    "ax.legend(loc='best')"
   ]
  },
  {
   "cell_type": "code",
   "execution_count": 48,
   "id": "impaired-asset",
   "metadata": {},
   "outputs": [],
   "source": [
    "mae = mean_absolute_error(y,y_pred)\n",
    "mse = mean_squared_error(y,y_pred)\n",
    "rmse = np.sqrt(mse)"
   ]
  },
  {
   "cell_type": "code",
   "execution_count": 49,
   "id": "conscious-argentina",
   "metadata": {},
   "outputs": [
    {
     "data": {
      "text/html": [
       "<div>\n",
       "<style scoped>\n",
       "    .dataframe tbody tr th:only-of-type {\n",
       "        vertical-align: middle;\n",
       "    }\n",
       "\n",
       "    .dataframe tbody tr th {\n",
       "        vertical-align: top;\n",
       "    }\n",
       "\n",
       "    .dataframe thead th {\n",
       "        text-align: right;\n",
       "    }\n",
       "</style>\n",
       "<table border=\"1\" class=\"dataframe\">\n",
       "  <thead>\n",
       "    <tr style=\"text-align: right;\">\n",
       "      <th></th>\n",
       "      <th>PoiReg</th>\n",
       "    </tr>\n",
       "  </thead>\n",
       "  <tbody>\n",
       "    <tr>\n",
       "      <th>MAE</th>\n",
       "      <td>3.072909</td>\n",
       "    </tr>\n",
       "    <tr>\n",
       "      <th>MSE</th>\n",
       "      <td>15.779219</td>\n",
       "    </tr>\n",
       "    <tr>\n",
       "      <th>RMSE</th>\n",
       "      <td>3.972306</td>\n",
       "    </tr>\n",
       "  </tbody>\n",
       "</table>\n",
       "</div>"
      ],
      "text/plain": [
       "         PoiReg\n",
       "MAE    3.072909\n",
       "MSE   15.779219\n",
       "RMSE   3.972306"
      ]
     },
     "execution_count": 49,
     "metadata": {},
     "output_type": "execute_result"
    }
   ],
   "source": [
    "err_df = pd.DataFrame(data=[mae, mse, rmse],index=['MAE','MSE','RMSE'],columns=[f'{model_name}'])\n",
    "err_df"
   ]
  },
  {
   "cell_type": "code",
   "execution_count": 50,
   "id": "demographic-consortium",
   "metadata": {},
   "outputs": [],
   "source": [
    "err_df.to_csv(f'./model-err/{model_name}-err.csv')\n",
    "# mean_scores.to_csv(f'./opt-model-err/{model_name}-err.csv')"
   ]
  },
  {
   "cell_type": "code",
   "execution_count": 51,
   "id": "favorite-journey",
   "metadata": {},
   "outputs": [
    {
     "data": {
      "text/plain": [
       "['./opt-models/PoiReg-model.joblib']"
      ]
     },
     "execution_count": 51,
     "metadata": {},
     "output_type": "execute_result"
    }
   ],
   "source": [
    "from joblib import dump, load\n",
    "dump(op_model, f'./opt-models/{model_name}-model.joblib')"
   ]
  },
  {
   "cell_type": "code",
   "execution_count": 52,
   "id": "considerable-association",
   "metadata": {},
   "outputs": [
    {
     "data": {
      "text/plain": [
       "mean     0.000044\n",
       "std      3.973312\n",
       "min    -17.504499\n",
       "25%     -2.561240\n",
       "50%     -0.441172\n",
       "75%      2.313062\n",
       "max     19.502553\n",
       "Name: throughput, dtype: float64"
      ]
     },
     "execution_count": 52,
     "metadata": {},
     "output_type": "execute_result"
    }
   ],
   "source": [
    "res = y - y_pred\n",
    "res.describe().drop('count')"
   ]
  },
  {
   "cell_type": "code",
   "execution_count": 53,
   "id": "proud-cooler",
   "metadata": {},
   "outputs": [
    {
     "data": {
      "text/plain": [
       "<AxesSubplot:xlabel='throughput', ylabel='Count'>"
      ]
     },
     "execution_count": 53,
     "metadata": {},
     "output_type": "execute_result"
    },
    {
     "data": {
      "image/png": "[encoded data removed]",
      "text/plain": [
       "<Figure size 432x288 with 1 Axes>"
      ]
     },
     "metadata": {
      "needs_background": "light"
     },
     "output_type": "display_data"
    }
   ],
   "source": [
    "sns.histplot(data=res, kde=True,bins=40)"
   ]
  },
  {
   "cell_type": "code",
   "execution_count": 54,
   "id": "allied-theater",
   "metadata": {},
   "outputs": [
    {
     "data": {
      "text/plain": [
       "<matplotlib.lines.Line2D at 0x7ff3e7543f70>"
      ]
     },
     "execution_count": 54,
     "metadata": {},
     "output_type": "execute_result"
    },
    {
     "data": {
      "image/png": "[encoded data removed]",
      "text/plain": [
       "<Figure size 432x288 with 1 Axes>"
      ]
     },
     "metadata": {
      "needs_background": "light"
     },
     "output_type": "display_data"
    }
   ],
   "source": [
    "ax = sns.scatterplot(x=y_test, y=res)\n",
    "ax.set(ylabel='Residuals', xlabel='Test Label')\n",
    "plt.axhline(y=0,color='red',linestyle='--')\n",
    "\n",
    "# there should be no clear pattern / curve in the plot\n",
    "# we see a positive correlation between Test Label and Residuals -> later models should avoid this pattern"
   ]
  },
  {
   "cell_type": "code",
   "execution_count": 55,
   "id": "lightweight-collective",
   "metadata": {},
   "outputs": [
    {
     "data": {
      "image/png": "[encoded data removed]",
      "text/plain": [
       "<Figure size 432x288 with 1 Axes>"
      ]
     },
     "metadata": {
      "needs_background": "light"
     },
     "output_type": "display_data"
    }
   ],
   "source": [
    "import scipy as sp\n",
    "\n",
    "fig, ax = plt.subplots()\n",
    "sp.stats.probplot(res,plot=ax);"
   ]
  },
  {
   "cell_type": "markdown",
   "id": "invalid-beads",
   "metadata": {},
   "source": [
    "DONE!"
   ]
  },
  {
   "cell_type": "code",
   "execution_count": null,
   "id": "following-rendering",
   "metadata": {},
   "outputs": [],
   "source": []
  }
 ],
 "metadata": {
  "kernelspec": {
   "display_name": "Python 3",
   "language": "python",
   "name": "python3"
  },
  "language_info": {
   "codemirror_mode": {
    "name": "ipython",
    "version": 3
   },
   "file_extension": ".py",
   "mimetype": "text/x-python",
   "name": "python",
   "nbconvert_exporter": "python",
   "pygments_lexer": "ipython3",
   "version": "3.8.6"
  }
 },
 "nbformat": 4,
 "nbformat_minor": 5
}
