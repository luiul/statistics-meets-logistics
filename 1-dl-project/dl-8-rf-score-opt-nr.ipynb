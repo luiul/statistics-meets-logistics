{
 "cells": [
  {
   "cell_type": "code",
   "execution_count": 1,
   "id": "ahead-ghana",
   "metadata": {},
   "outputs": [],
   "source": [
    "# MODIFY! \n",
    "# use RobustScaler! \n",
    "model_name = 'RF'"
   ]
  },
  {
   "cell_type": "markdown",
   "id": "backed-invalid",
   "metadata": {},
   "source": [
    "# Import Libraries & Data "
   ]
  },
  {
   "cell_type": "code",
   "execution_count": 2,
   "id": "political-patio",
   "metadata": {},
   "outputs": [],
   "source": [
    "import numpy as np\n",
    "import pandas as pd\n",
    "import matplotlib.pyplot as plt\n",
    "import seaborn as sns"
   ]
  },
  {
   "cell_type": "code",
   "execution_count": 3,
   "id": "emotional-surveillance",
   "metadata": {},
   "outputs": [],
   "source": [
    "df = pd.read_csv('./data/dl-pfe-ns.csv')\n",
    "X = df.drop('throughput',axis=1)\n",
    "y = df['throughput']"
   ]
  },
  {
   "cell_type": "markdown",
   "id": "inclusive-cradle",
   "metadata": {},
   "source": [
    "---"
   ]
  },
  {
   "cell_type": "markdown",
   "id": "enormous-mounting",
   "metadata": {},
   "source": [
    "# Scale Data"
   ]
  },
  {
   "cell_type": "code",
   "execution_count": 4,
   "id": "revised-columbia",
   "metadata": {},
   "outputs": [
    {
     "data": {
      "text/plain": [
       "RobustScaler()"
      ]
     },
     "execution_count": 4,
     "metadata": {},
     "output_type": "execute_result"
    }
   ],
   "source": [
    "# Split the data\n",
    "from sklearn.model_selection import train_test_split\n",
    "X_train, X_test, y_train, y_test = train_test_split(X, y, test_size=0.33, random_state=42)\n",
    "\n",
    "# Scale the data\n",
    "from sklearn.preprocessing import RobustScaler\n",
    "scaler = RobustScaler()\n",
    "scaler.fit(X_train)"
   ]
  },
  {
   "cell_type": "code",
   "execution_count": 5,
   "id": "indoor-script",
   "metadata": {},
   "outputs": [],
   "source": [
    "X_train = scaler.transform(X_train)\n",
    "X_test = scaler.transform(X_test)"
   ]
  },
  {
   "cell_type": "markdown",
   "id": "clinical-bouquet",
   "metadata": {},
   "source": [
    "# Determine Hyperparameters"
   ]
  },
  {
   "cell_type": "code",
   "execution_count": 6,
   "id": "continent-ready",
   "metadata": {},
   "outputs": [
    {
     "data": {
      "text/plain": [
       "RandomForestRegressor(warm_start=True)"
      ]
     },
     "execution_count": 6,
     "metadata": {},
     "output_type": "execute_result"
    }
   ],
   "source": [
    "# MODIFY!\n",
    "from sklearn.ensemble import RandomForestRegressor\n",
    "\n",
    "model = RandomForestRegressor(warm_start=True)\n",
    "model"
   ]
  },
  {
   "cell_type": "code",
   "execution_count": 7,
   "id": "final-constitution",
   "metadata": {},
   "outputs": [],
   "source": [
    "p_grid = {\n",
    "    'max_features':['auto', 'sqrt', 'log2']\n",
    "}"
   ]
  },
  {
   "cell_type": "code",
   "execution_count": 8,
   "id": "annual-pregnancy",
   "metadata": {},
   "outputs": [],
   "source": [
    "from sklearn.model_selection import GridSearchCV"
   ]
  },
  {
   "cell_type": "code",
   "execution_count": 9,
   "id": "remarkable-gilbert",
   "metadata": {},
   "outputs": [],
   "source": [
    "grid_model = GridSearchCV(\n",
    "    estimator=model,\n",
    "    param_grid =p_grid, \n",
    "    scoring='neg_mean_squared_error',\n",
    "    cv=3, \n",
    "    verbose=1\n",
    ")"
   ]
  },
  {
   "cell_type": "code",
   "execution_count": 10,
   "id": "cleared-sunrise",
   "metadata": {},
   "outputs": [
    {
     "name": "stdout",
     "output_type": "stream",
     "text": [
      "Fitting 3 folds for each of 3 candidates, totalling 9 fits\n"
     ]
    },
    {
     "name": "stderr",
     "output_type": "stream",
     "text": [
      "[Parallel(n_jobs=1)]: Using backend SequentialBackend with 1 concurrent workers.\n",
      "[Parallel(n_jobs=1)]: Done   9 out of   9 | elapsed:   11.2s finished\n"
     ]
    },
    {
     "data": {
      "text/plain": [
       "GridSearchCV(cv=3, estimator=RandomForestRegressor(warm_start=True),\n",
       "             param_grid={'max_features': ['auto', 'sqrt', 'log2']},\n",
       "             scoring='neg_mean_squared_error', verbose=1)"
      ]
     },
     "execution_count": 10,
     "metadata": {},
     "output_type": "execute_result"
    }
   ],
   "source": [
    "grid_model.fit(X_train,y_train)"
   ]
  },
  {
   "cell_type": "markdown",
   "id": "sweet-oliver",
   "metadata": {},
   "source": [
    "# Score Models"
   ]
  },
  {
   "cell_type": "code",
   "execution_count": 11,
   "id": "hairy-alcohol",
   "metadata": {},
   "outputs": [
    {
     "name": "stdout",
     "output_type": "stream",
     "text": [
      "Starting 5 estimators\n",
      "Done with 5 estimators\n",
      "Starting 10 estimators\n",
      "Done with 10 estimators\n",
      "Starting 25 estimators\n",
      "Done with 25 estimators\n",
      "Starting 50 estimators\n",
      "Done with 50 estimators\n",
      "Starting 100 estimators\n",
      "Done with 100 estimators\n",
      "Starting 200 estimators\n",
      "Done with 200 estimators\n",
      "Starting 1000 estimators\n",
      "Done with 1000 estimators\n",
      "Starting 2000 estimators\n",
      "Done with 2000 estimators\n",
      "Starting 5000 estimators\n",
      "Done with 5000 estimators\n"
     ]
    }
   ],
   "source": [
    "estimators = [5,10,25,50,100,200,1000,2000,5000]\n",
    "scores_list = []\n",
    "\n",
    "from sklearn.ensemble import RandomForestRegressor\n",
    "\n",
    "for e in estimators: \n",
    "    print(f'Starting {e} estimators')\n",
    "    score_model = RandomForestRegressor(n_estimators=e)\n",
    "    \n",
    "    from sklearn.model_selection import cross_validate\n",
    "\n",
    "    scores = cross_validate(\n",
    "        score_model, \n",
    "        X_train, \n",
    "        y_train,\n",
    "        scoring=[\n",
    "            'neg_mean_absolute_error',\n",
    "            'neg_mean_squared_error',\n",
    "            'neg_root_mean_squared_error'\n",
    "        ],\n",
    "        cv=10\n",
    "    )\n",
    "    \n",
    "    scores = pd.DataFrame(scores)\n",
    "    scores\n",
    "    mean_scores = scores.mean()\n",
    "    scores_list.append(mean_scores)\n",
    "    print(f'Done with {e} estimators')"
   ]
  },
  {
   "cell_type": "code",
   "execution_count": 12,
   "id": "analyzed-version",
   "metadata": {},
   "outputs": [],
   "source": [
    "scores_df = pd.DataFrame(scores_list)"
   ]
  },
  {
   "cell_type": "code",
   "execution_count": 13,
   "id": "atlantic-fountain",
   "metadata": {},
   "outputs": [
    {
     "data": {
      "text/html": [
       "<div>\n",
       "<style scoped>\n",
       "    .dataframe tbody tr th:only-of-type {\n",
       "        vertical-align: middle;\n",
       "    }\n",
       "\n",
       "    .dataframe tbody tr th {\n",
       "        vertical-align: top;\n",
       "    }\n",
       "\n",
       "    .dataframe thead th {\n",
       "        text-align: right;\n",
       "    }\n",
       "</style>\n",
       "<table border=\"1\" class=\"dataframe\">\n",
       "  <thead>\n",
       "    <tr style=\"text-align: right;\">\n",
       "      <th></th>\n",
       "      <th>fit_time</th>\n",
       "      <th>score_time</th>\n",
       "      <th>test_neg_mean_absolute_error</th>\n",
       "      <th>test_neg_mean_squared_error</th>\n",
       "      <th>test_neg_root_mean_squared_error</th>\n",
       "    </tr>\n",
       "  </thead>\n",
       "  <tbody>\n",
       "    <tr>\n",
       "      <th>0</th>\n",
       "      <td>0.138848</td>\n",
       "      <td>0.005172</td>\n",
       "      <td>-3.364167</td>\n",
       "      <td>-20.410156</td>\n",
       "      <td>-4.503044</td>\n",
       "    </tr>\n",
       "    <tr>\n",
       "      <th>1</th>\n",
       "      <td>0.234372</td>\n",
       "      <td>0.006328</td>\n",
       "      <td>-3.179680</td>\n",
       "      <td>-18.544610</td>\n",
       "      <td>-4.280042</td>\n",
       "    </tr>\n",
       "    <tr>\n",
       "      <th>2</th>\n",
       "      <td>0.563397</td>\n",
       "      <td>0.006578</td>\n",
       "      <td>-3.125820</td>\n",
       "      <td>-17.769321</td>\n",
       "      <td>-4.200942</td>\n",
       "    </tr>\n",
       "    <tr>\n",
       "      <th>3</th>\n",
       "      <td>2.482376</td>\n",
       "      <td>0.048875</td>\n",
       "      <td>-3.078728</td>\n",
       "      <td>-17.146302</td>\n",
       "      <td>-4.126349</td>\n",
       "    </tr>\n",
       "    <tr>\n",
       "      <th>4</th>\n",
       "      <td>2.843103</td>\n",
       "      <td>0.031439</td>\n",
       "      <td>-3.053816</td>\n",
       "      <td>-17.133003</td>\n",
       "      <td>-4.123428</td>\n",
       "    </tr>\n",
       "    <tr>\n",
       "      <th>5</th>\n",
       "      <td>3.168424</td>\n",
       "      <td>0.031987</td>\n",
       "      <td>-3.058948</td>\n",
       "      <td>-17.091996</td>\n",
       "      <td>-4.119199</td>\n",
       "    </tr>\n",
       "    <tr>\n",
       "      <th>6</th>\n",
       "      <td>28.228104</td>\n",
       "      <td>0.535285</td>\n",
       "      <td>-3.040036</td>\n",
       "      <td>-16.944588</td>\n",
       "      <td>-4.100663</td>\n",
       "    </tr>\n",
       "    <tr>\n",
       "      <th>7</th>\n",
       "      <td>35.336651</td>\n",
       "      <td>0.336339</td>\n",
       "      <td>-3.043702</td>\n",
       "      <td>-16.967762</td>\n",
       "      <td>-4.103664</td>\n",
       "    </tr>\n",
       "    <tr>\n",
       "      <th>8</th>\n",
       "      <td>66.626516</td>\n",
       "      <td>0.580251</td>\n",
       "      <td>-3.040829</td>\n",
       "      <td>-16.934674</td>\n",
       "      <td>-4.099363</td>\n",
       "    </tr>\n",
       "  </tbody>\n",
       "</table>\n",
       "</div>"
      ],
      "text/plain": [
       "    fit_time  score_time  test_neg_mean_absolute_error  \\\n",
       "0   0.138848    0.005172                     -3.364167   \n",
       "1   0.234372    0.006328                     -3.179680   \n",
       "2   0.563397    0.006578                     -3.125820   \n",
       "3   2.482376    0.048875                     -3.078728   \n",
       "4   2.843103    0.031439                     -3.053816   \n",
       "5   3.168424    0.031987                     -3.058948   \n",
       "6  28.228104    0.535285                     -3.040036   \n",
       "7  35.336651    0.336339                     -3.043702   \n",
       "8  66.626516    0.580251                     -3.040829   \n",
       "\n",
       "   test_neg_mean_squared_error  test_neg_root_mean_squared_error  \n",
       "0                   -20.410156                         -4.503044  \n",
       "1                   -18.544610                         -4.280042  \n",
       "2                   -17.769321                         -4.200942  \n",
       "3                   -17.146302                         -4.126349  \n",
       "4                   -17.133003                         -4.123428  \n",
       "5                   -17.091996                         -4.119199  \n",
       "6                   -16.944588                         -4.100663  \n",
       "7                   -16.967762                         -4.103664  \n",
       "8                   -16.934674                         -4.099363  "
      ]
     },
     "execution_count": 13,
     "metadata": {},
     "output_type": "execute_result"
    }
   ],
   "source": [
    "scores_df"
   ]
  },
  {
   "cell_type": "code",
   "execution_count": 14,
   "id": "wound-assumption",
   "metadata": {},
   "outputs": [],
   "source": [
    "scores_df['Est'] = estimators"
   ]
  },
  {
   "cell_type": "code",
   "execution_count": 15,
   "id": "vulnerable-surrey",
   "metadata": {},
   "outputs": [
    {
     "data": {
      "text/html": [
       "<div>\n",
       "<style scoped>\n",
       "    .dataframe tbody tr th:only-of-type {\n",
       "        vertical-align: middle;\n",
       "    }\n",
       "\n",
       "    .dataframe tbody tr th {\n",
       "        vertical-align: top;\n",
       "    }\n",
       "\n",
       "    .dataframe thead th {\n",
       "        text-align: right;\n",
       "    }\n",
       "</style>\n",
       "<table border=\"1\" class=\"dataframe\">\n",
       "  <thead>\n",
       "    <tr style=\"text-align: right;\">\n",
       "      <th></th>\n",
       "      <th>fit_time</th>\n",
       "      <th>score_time</th>\n",
       "      <th>test_neg_mean_absolute_error</th>\n",
       "      <th>test_neg_mean_squared_error</th>\n",
       "      <th>test_neg_root_mean_squared_error</th>\n",
       "      <th>Est</th>\n",
       "    </tr>\n",
       "  </thead>\n",
       "  <tbody>\n",
       "    <tr>\n",
       "      <th>0</th>\n",
       "      <td>0.138848</td>\n",
       "      <td>0.005172</td>\n",
       "      <td>-3.364167</td>\n",
       "      <td>-20.410156</td>\n",
       "      <td>-4.503044</td>\n",
       "      <td>5</td>\n",
       "    </tr>\n",
       "    <tr>\n",
       "      <th>1</th>\n",
       "      <td>0.234372</td>\n",
       "      <td>0.006328</td>\n",
       "      <td>-3.179680</td>\n",
       "      <td>-18.544610</td>\n",
       "      <td>-4.280042</td>\n",
       "      <td>10</td>\n",
       "    </tr>\n",
       "    <tr>\n",
       "      <th>2</th>\n",
       "      <td>0.563397</td>\n",
       "      <td>0.006578</td>\n",
       "      <td>-3.125820</td>\n",
       "      <td>-17.769321</td>\n",
       "      <td>-4.200942</td>\n",
       "      <td>25</td>\n",
       "    </tr>\n",
       "    <tr>\n",
       "      <th>3</th>\n",
       "      <td>2.482376</td>\n",
       "      <td>0.048875</td>\n",
       "      <td>-3.078728</td>\n",
       "      <td>-17.146302</td>\n",
       "      <td>-4.126349</td>\n",
       "      <td>50</td>\n",
       "    </tr>\n",
       "    <tr>\n",
       "      <th>4</th>\n",
       "      <td>2.843103</td>\n",
       "      <td>0.031439</td>\n",
       "      <td>-3.053816</td>\n",
       "      <td>-17.133003</td>\n",
       "      <td>-4.123428</td>\n",
       "      <td>100</td>\n",
       "    </tr>\n",
       "    <tr>\n",
       "      <th>5</th>\n",
       "      <td>3.168424</td>\n",
       "      <td>0.031987</td>\n",
       "      <td>-3.058948</td>\n",
       "      <td>-17.091996</td>\n",
       "      <td>-4.119199</td>\n",
       "      <td>200</td>\n",
       "    </tr>\n",
       "    <tr>\n",
       "      <th>6</th>\n",
       "      <td>28.228104</td>\n",
       "      <td>0.535285</td>\n",
       "      <td>-3.040036</td>\n",
       "      <td>-16.944588</td>\n",
       "      <td>-4.100663</td>\n",
       "      <td>1000</td>\n",
       "    </tr>\n",
       "    <tr>\n",
       "      <th>7</th>\n",
       "      <td>35.336651</td>\n",
       "      <td>0.336339</td>\n",
       "      <td>-3.043702</td>\n",
       "      <td>-16.967762</td>\n",
       "      <td>-4.103664</td>\n",
       "      <td>2000</td>\n",
       "    </tr>\n",
       "    <tr>\n",
       "      <th>8</th>\n",
       "      <td>66.626516</td>\n",
       "      <td>0.580251</td>\n",
       "      <td>-3.040829</td>\n",
       "      <td>-16.934674</td>\n",
       "      <td>-4.099363</td>\n",
       "      <td>5000</td>\n",
       "    </tr>\n",
       "  </tbody>\n",
       "</table>\n",
       "</div>"
      ],
      "text/plain": [
       "    fit_time  score_time  test_neg_mean_absolute_error  \\\n",
       "0   0.138848    0.005172                     -3.364167   \n",
       "1   0.234372    0.006328                     -3.179680   \n",
       "2   0.563397    0.006578                     -3.125820   \n",
       "3   2.482376    0.048875                     -3.078728   \n",
       "4   2.843103    0.031439                     -3.053816   \n",
       "5   3.168424    0.031987                     -3.058948   \n",
       "6  28.228104    0.535285                     -3.040036   \n",
       "7  35.336651    0.336339                     -3.043702   \n",
       "8  66.626516    0.580251                     -3.040829   \n",
       "\n",
       "   test_neg_mean_squared_error  test_neg_root_mean_squared_error   Est  \n",
       "0                   -20.410156                         -4.503044     5  \n",
       "1                   -18.544610                         -4.280042    10  \n",
       "2                   -17.769321                         -4.200942    25  \n",
       "3                   -17.146302                         -4.126349    50  \n",
       "4                   -17.133003                         -4.123428   100  \n",
       "5                   -17.091996                         -4.119199   200  \n",
       "6                   -16.944588                         -4.100663  1000  \n",
       "7                   -16.967762                         -4.103664  2000  \n",
       "8                   -16.934674                         -4.099363  5000  "
      ]
     },
     "execution_count": 15,
     "metadata": {},
     "output_type": "execute_result"
    }
   ],
   "source": [
    "scores_df"
   ]
  },
  {
   "cell_type": "markdown",
   "id": "large-physics",
   "metadata": {},
   "source": [
    "# Export Scores"
   ]
  },
  {
   "cell_type": "code",
   "execution_count": 16,
   "id": "disturbed-conditioning",
   "metadata": {},
   "outputs": [],
   "source": [
    "# mean_scores"
   ]
  },
  {
   "cell_type": "code",
   "execution_count": 17,
   "id": "better-emerald",
   "metadata": {},
   "outputs": [],
   "source": [
    "scores_df = scores_df.rename(columns={\n",
    "    'fit_time':'Fit Time',\n",
    "    'score_time':'Score Time',\n",
    "    'test_neg_mean_absolute_error':'MAE',\n",
    "    'test_neg_mean_squared_error':'MSE',\n",
    "    'test_neg_root_mean_squared_error':'RMSE'\n",
    "})"
   ]
  },
  {
   "cell_type": "code",
   "execution_count": 18,
   "id": "verified-garbage",
   "metadata": {},
   "outputs": [
    {
     "data": {
      "text/html": [
       "<div>\n",
       "<style scoped>\n",
       "    .dataframe tbody tr th:only-of-type {\n",
       "        vertical-align: middle;\n",
       "    }\n",
       "\n",
       "    .dataframe tbody tr th {\n",
       "        vertical-align: top;\n",
       "    }\n",
       "\n",
       "    .dataframe thead th {\n",
       "        text-align: right;\n",
       "    }\n",
       "</style>\n",
       "<table border=\"1\" class=\"dataframe\">\n",
       "  <thead>\n",
       "    <tr style=\"text-align: right;\">\n",
       "      <th></th>\n",
       "      <th>Fit Time</th>\n",
       "      <th>Score Time</th>\n",
       "      <th>MAE</th>\n",
       "      <th>MSE</th>\n",
       "      <th>RMSE</th>\n",
       "      <th>Est</th>\n",
       "    </tr>\n",
       "  </thead>\n",
       "  <tbody>\n",
       "    <tr>\n",
       "      <th>0</th>\n",
       "      <td>0.138848</td>\n",
       "      <td>0.005172</td>\n",
       "      <td>-3.364167</td>\n",
       "      <td>-20.410156</td>\n",
       "      <td>-4.503044</td>\n",
       "      <td>5</td>\n",
       "    </tr>\n",
       "    <tr>\n",
       "      <th>1</th>\n",
       "      <td>0.234372</td>\n",
       "      <td>0.006328</td>\n",
       "      <td>-3.179680</td>\n",
       "      <td>-18.544610</td>\n",
       "      <td>-4.280042</td>\n",
       "      <td>10</td>\n",
       "    </tr>\n",
       "    <tr>\n",
       "      <th>2</th>\n",
       "      <td>0.563397</td>\n",
       "      <td>0.006578</td>\n",
       "      <td>-3.125820</td>\n",
       "      <td>-17.769321</td>\n",
       "      <td>-4.200942</td>\n",
       "      <td>25</td>\n",
       "    </tr>\n",
       "    <tr>\n",
       "      <th>3</th>\n",
       "      <td>2.482376</td>\n",
       "      <td>0.048875</td>\n",
       "      <td>-3.078728</td>\n",
       "      <td>-17.146302</td>\n",
       "      <td>-4.126349</td>\n",
       "      <td>50</td>\n",
       "    </tr>\n",
       "    <tr>\n",
       "      <th>4</th>\n",
       "      <td>2.843103</td>\n",
       "      <td>0.031439</td>\n",
       "      <td>-3.053816</td>\n",
       "      <td>-17.133003</td>\n",
       "      <td>-4.123428</td>\n",
       "      <td>100</td>\n",
       "    </tr>\n",
       "    <tr>\n",
       "      <th>5</th>\n",
       "      <td>3.168424</td>\n",
       "      <td>0.031987</td>\n",
       "      <td>-3.058948</td>\n",
       "      <td>-17.091996</td>\n",
       "      <td>-4.119199</td>\n",
       "      <td>200</td>\n",
       "    </tr>\n",
       "    <tr>\n",
       "      <th>6</th>\n",
       "      <td>28.228104</td>\n",
       "      <td>0.535285</td>\n",
       "      <td>-3.040036</td>\n",
       "      <td>-16.944588</td>\n",
       "      <td>-4.100663</td>\n",
       "      <td>1000</td>\n",
       "    </tr>\n",
       "    <tr>\n",
       "      <th>7</th>\n",
       "      <td>35.336651</td>\n",
       "      <td>0.336339</td>\n",
       "      <td>-3.043702</td>\n",
       "      <td>-16.967762</td>\n",
       "      <td>-4.103664</td>\n",
       "      <td>2000</td>\n",
       "    </tr>\n",
       "    <tr>\n",
       "      <th>8</th>\n",
       "      <td>66.626516</td>\n",
       "      <td>0.580251</td>\n",
       "      <td>-3.040829</td>\n",
       "      <td>-16.934674</td>\n",
       "      <td>-4.099363</td>\n",
       "      <td>5000</td>\n",
       "    </tr>\n",
       "  </tbody>\n",
       "</table>\n",
       "</div>"
      ],
      "text/plain": [
       "    Fit Time  Score Time       MAE        MSE      RMSE   Est\n",
       "0   0.138848    0.005172 -3.364167 -20.410156 -4.503044     5\n",
       "1   0.234372    0.006328 -3.179680 -18.544610 -4.280042    10\n",
       "2   0.563397    0.006578 -3.125820 -17.769321 -4.200942    25\n",
       "3   2.482376    0.048875 -3.078728 -17.146302 -4.126349    50\n",
       "4   2.843103    0.031439 -3.053816 -17.133003 -4.123428   100\n",
       "5   3.168424    0.031987 -3.058948 -17.091996 -4.119199   200\n",
       "6  28.228104    0.535285 -3.040036 -16.944588 -4.100663  1000\n",
       "7  35.336651    0.336339 -3.043702 -16.967762 -4.103664  2000\n",
       "8  66.626516    0.580251 -3.040829 -16.934674 -4.099363  5000"
      ]
     },
     "execution_count": 18,
     "metadata": {},
     "output_type": "execute_result"
    }
   ],
   "source": [
    "scores_df"
   ]
  },
  {
   "cell_type": "code",
   "execution_count": 19,
   "id": "monetary-announcement",
   "metadata": {},
   "outputs": [],
   "source": [
    "scores_df[['MAE','MSE','RMSE']] = scores_df[['MAE','MSE','RMSE']].apply(lambda x : abs(x))"
   ]
  },
  {
   "cell_type": "code",
   "execution_count": 20,
   "id": "premium-intensity",
   "metadata": {},
   "outputs": [
    {
     "data": {
      "text/html": [
       "<div>\n",
       "<style scoped>\n",
       "    .dataframe tbody tr th:only-of-type {\n",
       "        vertical-align: middle;\n",
       "    }\n",
       "\n",
       "    .dataframe tbody tr th {\n",
       "        vertical-align: top;\n",
       "    }\n",
       "\n",
       "    .dataframe thead th {\n",
       "        text-align: right;\n",
       "    }\n",
       "</style>\n",
       "<table border=\"1\" class=\"dataframe\">\n",
       "  <thead>\n",
       "    <tr style=\"text-align: right;\">\n",
       "      <th></th>\n",
       "      <th>Fit Time</th>\n",
       "      <th>Score Time</th>\n",
       "      <th>MAE</th>\n",
       "      <th>MSE</th>\n",
       "      <th>RMSE</th>\n",
       "      <th>Est</th>\n",
       "    </tr>\n",
       "  </thead>\n",
       "  <tbody>\n",
       "    <tr>\n",
       "      <th>0</th>\n",
       "      <td>0.138848</td>\n",
       "      <td>0.005172</td>\n",
       "      <td>3.364167</td>\n",
       "      <td>20.410156</td>\n",
       "      <td>4.503044</td>\n",
       "      <td>5</td>\n",
       "    </tr>\n",
       "    <tr>\n",
       "      <th>1</th>\n",
       "      <td>0.234372</td>\n",
       "      <td>0.006328</td>\n",
       "      <td>3.179680</td>\n",
       "      <td>18.544610</td>\n",
       "      <td>4.280042</td>\n",
       "      <td>10</td>\n",
       "    </tr>\n",
       "    <tr>\n",
       "      <th>2</th>\n",
       "      <td>0.563397</td>\n",
       "      <td>0.006578</td>\n",
       "      <td>3.125820</td>\n",
       "      <td>17.769321</td>\n",
       "      <td>4.200942</td>\n",
       "      <td>25</td>\n",
       "    </tr>\n",
       "    <tr>\n",
       "      <th>3</th>\n",
       "      <td>2.482376</td>\n",
       "      <td>0.048875</td>\n",
       "      <td>3.078728</td>\n",
       "      <td>17.146302</td>\n",
       "      <td>4.126349</td>\n",
       "      <td>50</td>\n",
       "    </tr>\n",
       "    <tr>\n",
       "      <th>4</th>\n",
       "      <td>2.843103</td>\n",
       "      <td>0.031439</td>\n",
       "      <td>3.053816</td>\n",
       "      <td>17.133003</td>\n",
       "      <td>4.123428</td>\n",
       "      <td>100</td>\n",
       "    </tr>\n",
       "    <tr>\n",
       "      <th>5</th>\n",
       "      <td>3.168424</td>\n",
       "      <td>0.031987</td>\n",
       "      <td>3.058948</td>\n",
       "      <td>17.091996</td>\n",
       "      <td>4.119199</td>\n",
       "      <td>200</td>\n",
       "    </tr>\n",
       "    <tr>\n",
       "      <th>6</th>\n",
       "      <td>28.228104</td>\n",
       "      <td>0.535285</td>\n",
       "      <td>3.040036</td>\n",
       "      <td>16.944588</td>\n",
       "      <td>4.100663</td>\n",
       "      <td>1000</td>\n",
       "    </tr>\n",
       "    <tr>\n",
       "      <th>7</th>\n",
       "      <td>35.336651</td>\n",
       "      <td>0.336339</td>\n",
       "      <td>3.043702</td>\n",
       "      <td>16.967762</td>\n",
       "      <td>4.103664</td>\n",
       "      <td>2000</td>\n",
       "    </tr>\n",
       "    <tr>\n",
       "      <th>8</th>\n",
       "      <td>66.626516</td>\n",
       "      <td>0.580251</td>\n",
       "      <td>3.040829</td>\n",
       "      <td>16.934674</td>\n",
       "      <td>4.099363</td>\n",
       "      <td>5000</td>\n",
       "    </tr>\n",
       "  </tbody>\n",
       "</table>\n",
       "</div>"
      ],
      "text/plain": [
       "    Fit Time  Score Time       MAE        MSE      RMSE   Est\n",
       "0   0.138848    0.005172  3.364167  20.410156  4.503044     5\n",
       "1   0.234372    0.006328  3.179680  18.544610  4.280042    10\n",
       "2   0.563397    0.006578  3.125820  17.769321  4.200942    25\n",
       "3   2.482376    0.048875  3.078728  17.146302  4.126349    50\n",
       "4   2.843103    0.031439  3.053816  17.133003  4.123428   100\n",
       "5   3.168424    0.031987  3.058948  17.091996  4.119199   200\n",
       "6  28.228104    0.535285  3.040036  16.944588  4.100663  1000\n",
       "7  35.336651    0.336339  3.043702  16.967762  4.103664  2000\n",
       "8  66.626516    0.580251  3.040829  16.934674  4.099363  5000"
      ]
     },
     "execution_count": 20,
     "metadata": {},
     "output_type": "execute_result"
    }
   ],
   "source": [
    "scores_df\n",
    "# we go for 25 estimations. Note that from 25 -> 50 estimations the error metrics worsen"
   ]
  },
  {
   "cell_type": "code",
   "execution_count": 21,
   "id": "modified-lincoln",
   "metadata": {},
   "outputs": [],
   "source": [
    "scores_df.to_csv(f'./scores/{model_name}-score.csv')"
   ]
  },
  {
   "cell_type": "code",
   "execution_count": 81,
   "id": "little-ordinary",
   "metadata": {},
   "outputs": [],
   "source": [
    "pct_scores_df = scores_df.pct_change()"
   ]
  },
  {
   "cell_type": "code",
   "execution_count": 82,
   "id": "likely-arrow",
   "metadata": {},
   "outputs": [
    {
     "data": {
      "text/html": [
       "<div>\n",
       "<style scoped>\n",
       "    .dataframe tbody tr th:only-of-type {\n",
       "        vertical-align: middle;\n",
       "    }\n",
       "\n",
       "    .dataframe tbody tr th {\n",
       "        vertical-align: top;\n",
       "    }\n",
       "\n",
       "    .dataframe thead th {\n",
       "        text-align: right;\n",
       "    }\n",
       "</style>\n",
       "<table border=\"1\" class=\"dataframe\">\n",
       "  <thead>\n",
       "    <tr style=\"text-align: right;\">\n",
       "      <th></th>\n",
       "      <th>Fit Time</th>\n",
       "      <th>Score Time</th>\n",
       "      <th>MAE</th>\n",
       "      <th>MSE</th>\n",
       "      <th>RMSE</th>\n",
       "      <th>Est</th>\n",
       "    </tr>\n",
       "  </thead>\n",
       "  <tbody>\n",
       "    <tr>\n",
       "      <th>0</th>\n",
       "      <td>NaN</td>\n",
       "      <td>NaN</td>\n",
       "      <td>NaN</td>\n",
       "      <td>NaN</td>\n",
       "      <td>NaN</td>\n",
       "      <td>NaN</td>\n",
       "    </tr>\n",
       "    <tr>\n",
       "      <th>1</th>\n",
       "      <td>0.687977</td>\n",
       "      <td>0.223523</td>\n",
       "      <td>-0.054839</td>\n",
       "      <td>-0.091403</td>\n",
       "      <td>-0.049523</td>\n",
       "      <td>1.0</td>\n",
       "    </tr>\n",
       "    <tr>\n",
       "      <th>2</th>\n",
       "      <td>1.403862</td>\n",
       "      <td>0.039438</td>\n",
       "      <td>-0.016939</td>\n",
       "      <td>-0.041807</td>\n",
       "      <td>-0.018481</td>\n",
       "      <td>1.5</td>\n",
       "    </tr>\n",
       "    <tr>\n",
       "      <th>3</th>\n",
       "      <td>3.406086</td>\n",
       "      <td>6.430067</td>\n",
       "      <td>-0.015065</td>\n",
       "      <td>-0.035061</td>\n",
       "      <td>-0.017756</td>\n",
       "      <td>1.0</td>\n",
       "    </tr>\n",
       "    <tr>\n",
       "      <th>4</th>\n",
       "      <td>0.145315</td>\n",
       "      <td>-0.356747</td>\n",
       "      <td>-0.008092</td>\n",
       "      <td>-0.000776</td>\n",
       "      <td>-0.000708</td>\n",
       "      <td>1.0</td>\n",
       "    </tr>\n",
       "    <tr>\n",
       "      <th>5</th>\n",
       "      <td>0.114425</td>\n",
       "      <td>0.017443</td>\n",
       "      <td>0.001680</td>\n",
       "      <td>-0.002393</td>\n",
       "      <td>-0.001026</td>\n",
       "      <td>1.0</td>\n",
       "    </tr>\n",
       "    <tr>\n",
       "      <th>6</th>\n",
       "      <td>7.909194</td>\n",
       "      <td>15.734417</td>\n",
       "      <td>-0.006183</td>\n",
       "      <td>-0.008624</td>\n",
       "      <td>-0.004500</td>\n",
       "      <td>4.0</td>\n",
       "    </tr>\n",
       "    <tr>\n",
       "      <th>7</th>\n",
       "      <td>0.251825</td>\n",
       "      <td>-0.371664</td>\n",
       "      <td>0.001206</td>\n",
       "      <td>0.001368</td>\n",
       "      <td>0.000732</td>\n",
       "      <td>1.0</td>\n",
       "    </tr>\n",
       "    <tr>\n",
       "      <th>8</th>\n",
       "      <td>0.885479</td>\n",
       "      <td>0.725195</td>\n",
       "      <td>-0.000944</td>\n",
       "      <td>-0.001950</td>\n",
       "      <td>-0.001048</td>\n",
       "      <td>1.5</td>\n",
       "    </tr>\n",
       "  </tbody>\n",
       "</table>\n",
       "</div>"
      ],
      "text/plain": [
       "   Fit Time  Score Time       MAE       MSE      RMSE  Est\n",
       "0       NaN         NaN       NaN       NaN       NaN  NaN\n",
       "1  0.687977    0.223523 -0.054839 -0.091403 -0.049523  1.0\n",
       "2  1.403862    0.039438 -0.016939 -0.041807 -0.018481  1.5\n",
       "3  3.406086    6.430067 -0.015065 -0.035061 -0.017756  1.0\n",
       "4  0.145315   -0.356747 -0.008092 -0.000776 -0.000708  1.0\n",
       "5  0.114425    0.017443  0.001680 -0.002393 -0.001026  1.0\n",
       "6  7.909194   15.734417 -0.006183 -0.008624 -0.004500  4.0\n",
       "7  0.251825   -0.371664  0.001206  0.001368  0.000732  1.0\n",
       "8  0.885479    0.725195 -0.000944 -0.001950 -0.001048  1.5"
      ]
     },
     "execution_count": 82,
     "metadata": {},
     "output_type": "execute_result"
    }
   ],
   "source": [
    "pct_scores_df"
   ]
  },
  {
   "cell_type": "code",
   "execution_count": 83,
   "id": "handy-robinson",
   "metadata": {},
   "outputs": [
    {
     "data": {
      "text/html": [
       "<style  type=\"text/css\" >\n",
       "#T_0ac89cd2_5a9e_11eb_a9f6_60f81dd06e70row0_col0,#T_0ac89cd2_5a9e_11eb_a9f6_60f81dd06e70row0_col1,#T_0ac89cd2_5a9e_11eb_a9f6_60f81dd06e70row0_col2,#T_0ac89cd2_5a9e_11eb_a9f6_60f81dd06e70row0_col3,#T_0ac89cd2_5a9e_11eb_a9f6_60f81dd06e70row0_col4,#T_0ac89cd2_5a9e_11eb_a9f6_60f81dd06e70row0_col5{\n",
       "            background-color:  #000000;\n",
       "            color:  #f1f1f1;\n",
       "        }#T_0ac89cd2_5a9e_11eb_a9f6_60f81dd06e70row1_col0{\n",
       "            background-color:  #f4eef6;\n",
       "            color:  #000000;\n",
       "        }#T_0ac89cd2_5a9e_11eb_a9f6_60f81dd06e70row1_col1{\n",
       "            background-color:  #faf2f8;\n",
       "            color:  #000000;\n",
       "        }#T_0ac89cd2_5a9e_11eb_a9f6_60f81dd06e70row1_col2,#T_0ac89cd2_5a9e_11eb_a9f6_60f81dd06e70row1_col3,#T_0ac89cd2_5a9e_11eb_a9f6_60f81dd06e70row1_col4,#T_0ac89cd2_5a9e_11eb_a9f6_60f81dd06e70row1_col5,#T_0ac89cd2_5a9e_11eb_a9f6_60f81dd06e70row3_col5,#T_0ac89cd2_5a9e_11eb_a9f6_60f81dd06e70row4_col1,#T_0ac89cd2_5a9e_11eb_a9f6_60f81dd06e70row4_col5,#T_0ac89cd2_5a9e_11eb_a9f6_60f81dd06e70row5_col0,#T_0ac89cd2_5a9e_11eb_a9f6_60f81dd06e70row5_col5,#T_0ac89cd2_5a9e_11eb_a9f6_60f81dd06e70row7_col1,#T_0ac89cd2_5a9e_11eb_a9f6_60f81dd06e70row7_col5{\n",
       "            background-color:  #fff7fb;\n",
       "            color:  #000000;\n",
       "        }#T_0ac89cd2_5a9e_11eb_a9f6_60f81dd06e70row2_col0,#T_0ac89cd2_5a9e_11eb_a9f6_60f81dd06e70row2_col5,#T_0ac89cd2_5a9e_11eb_a9f6_60f81dd06e70row8_col5{\n",
       "            background-color:  #e3e0ee;\n",
       "            color:  #000000;\n",
       "        }#T_0ac89cd2_5a9e_11eb_a9f6_60f81dd06e70row2_col1,#T_0ac89cd2_5a9e_11eb_a9f6_60f81dd06e70row5_col1{\n",
       "            background-color:  #fbf4f9;\n",
       "            color:  #000000;\n",
       "        }#T_0ac89cd2_5a9e_11eb_a9f6_60f81dd06e70row2_col2{\n",
       "            background-color:  #2484ba;\n",
       "            color:  #000000;\n",
       "        }#T_0ac89cd2_5a9e_11eb_a9f6_60f81dd06e70row2_col3{\n",
       "            background-color:  #63a2cb;\n",
       "            color:  #000000;\n",
       "        }#T_0ac89cd2_5a9e_11eb_a9f6_60f81dd06e70row2_col4{\n",
       "            background-color:  #3991c1;\n",
       "            color:  #000000;\n",
       "        }#T_0ac89cd2_5a9e_11eb_a9f6_60f81dd06e70row3_col0,#T_0ac89cd2_5a9e_11eb_a9f6_60f81dd06e70row3_col1{\n",
       "            background-color:  #93b5d6;\n",
       "            color:  #000000;\n",
       "        }#T_0ac89cd2_5a9e_11eb_a9f6_60f81dd06e70row3_col2{\n",
       "            background-color:  #167bb6;\n",
       "            color:  #000000;\n",
       "        }#T_0ac89cd2_5a9e_11eb_a9f6_60f81dd06e70row3_col3{\n",
       "            background-color:  #3f93c2;\n",
       "            color:  #000000;\n",
       "        }#T_0ac89cd2_5a9e_11eb_a9f6_60f81dd06e70row3_col4{\n",
       "            background-color:  #348ebf;\n",
       "            color:  #000000;\n",
       "        }#T_0ac89cd2_5a9e_11eb_a9f6_60f81dd06e70row4_col0{\n",
       "            background-color:  #fef6fb;\n",
       "            color:  #000000;\n",
       "        }#T_0ac89cd2_5a9e_11eb_a9f6_60f81dd06e70row4_col2{\n",
       "            background-color:  #04629a;\n",
       "            color:  #f1f1f1;\n",
       "        }#T_0ac89cd2_5a9e_11eb_a9f6_60f81dd06e70row4_col3{\n",
       "            background-color:  #023d60;\n",
       "            color:  #f1f1f1;\n",
       "        }#T_0ac89cd2_5a9e_11eb_a9f6_60f81dd06e70row4_col4{\n",
       "            background-color:  #023f64;\n",
       "            color:  #f1f1f1;\n",
       "        }#T_0ac89cd2_5a9e_11eb_a9f6_60f81dd06e70row5_col2,#T_0ac89cd2_5a9e_11eb_a9f6_60f81dd06e70row6_col0,#T_0ac89cd2_5a9e_11eb_a9f6_60f81dd06e70row6_col1,#T_0ac89cd2_5a9e_11eb_a9f6_60f81dd06e70row6_col5,#T_0ac89cd2_5a9e_11eb_a9f6_60f81dd06e70row7_col3,#T_0ac89cd2_5a9e_11eb_a9f6_60f81dd06e70row7_col4{\n",
       "            background-color:  #023858;\n",
       "            color:  #f1f1f1;\n",
       "        }#T_0ac89cd2_5a9e_11eb_a9f6_60f81dd06e70row5_col3{\n",
       "            background-color:  #034369;\n",
       "            color:  #f1f1f1;\n",
       "        }#T_0ac89cd2_5a9e_11eb_a9f6_60f81dd06e70row5_col4{\n",
       "            background-color:  #034165;\n",
       "            color:  #f1f1f1;\n",
       "        }#T_0ac89cd2_5a9e_11eb_a9f6_60f81dd06e70row6_col2{\n",
       "            background-color:  #045c90;\n",
       "            color:  #f1f1f1;\n",
       "        }#T_0ac89cd2_5a9e_11eb_a9f6_60f81dd06e70row6_col3{\n",
       "            background-color:  #045585;\n",
       "            color:  #f1f1f1;\n",
       "        }#T_0ac89cd2_5a9e_11eb_a9f6_60f81dd06e70row6_col4{\n",
       "            background-color:  #045483;\n",
       "            color:  #f1f1f1;\n",
       "        }#T_0ac89cd2_5a9e_11eb_a9f6_60f81dd06e70row7_col0{\n",
       "            background-color:  #fdf5fa;\n",
       "            color:  #000000;\n",
       "        }#T_0ac89cd2_5a9e_11eb_a9f6_60f81dd06e70row7_col2{\n",
       "            background-color:  #023a5b;\n",
       "            color:  #f1f1f1;\n",
       "        }#T_0ac89cd2_5a9e_11eb_a9f6_60f81dd06e70row8_col0{\n",
       "            background-color:  #f0eaf4;\n",
       "            color:  #000000;\n",
       "        }#T_0ac89cd2_5a9e_11eb_a9f6_60f81dd06e70row8_col1{\n",
       "            background-color:  #f5eef6;\n",
       "            color:  #000000;\n",
       "        }#T_0ac89cd2_5a9e_11eb_a9f6_60f81dd06e70row8_col2{\n",
       "            background-color:  #03446a;\n",
       "            color:  #f1f1f1;\n",
       "        }#T_0ac89cd2_5a9e_11eb_a9f6_60f81dd06e70row8_col3,#T_0ac89cd2_5a9e_11eb_a9f6_60f81dd06e70row8_col4{\n",
       "            background-color:  #034267;\n",
       "            color:  #f1f1f1;\n",
       "        }</style><table id=\"T_0ac89cd2_5a9e_11eb_a9f6_60f81dd06e70\" ><thead>    <tr>        <th class=\"blank level0\" ></th>        <th class=\"col_heading level0 col0\" >Fit Time</th>        <th class=\"col_heading level0 col1\" >Score Time</th>        <th class=\"col_heading level0 col2\" >MAE</th>        <th class=\"col_heading level0 col3\" >MSE</th>        <th class=\"col_heading level0 col4\" >RMSE</th>        <th class=\"col_heading level0 col5\" >Est</th>    </tr></thead><tbody>\n",
       "                <tr>\n",
       "                        <th id=\"T_0ac89cd2_5a9e_11eb_a9f6_60f81dd06e70level0_row0\" class=\"row_heading level0 row0\" >0</th>\n",
       "                        <td id=\"T_0ac89cd2_5a9e_11eb_a9f6_60f81dd06e70row0_col0\" class=\"data row0 col0\" >nan</td>\n",
       "                        <td id=\"T_0ac89cd2_5a9e_11eb_a9f6_60f81dd06e70row0_col1\" class=\"data row0 col1\" >nan</td>\n",
       "                        <td id=\"T_0ac89cd2_5a9e_11eb_a9f6_60f81dd06e70row0_col2\" class=\"data row0 col2\" >nan</td>\n",
       "                        <td id=\"T_0ac89cd2_5a9e_11eb_a9f6_60f81dd06e70row0_col3\" class=\"data row0 col3\" >nan</td>\n",
       "                        <td id=\"T_0ac89cd2_5a9e_11eb_a9f6_60f81dd06e70row0_col4\" class=\"data row0 col4\" >nan</td>\n",
       "                        <td id=\"T_0ac89cd2_5a9e_11eb_a9f6_60f81dd06e70row0_col5\" class=\"data row0 col5\" >nan</td>\n",
       "            </tr>\n",
       "            <tr>\n",
       "                        <th id=\"T_0ac89cd2_5a9e_11eb_a9f6_60f81dd06e70level0_row1\" class=\"row_heading level0 row1\" >1</th>\n",
       "                        <td id=\"T_0ac89cd2_5a9e_11eb_a9f6_60f81dd06e70row1_col0\" class=\"data row1 col0\" >0.687977</td>\n",
       "                        <td id=\"T_0ac89cd2_5a9e_11eb_a9f6_60f81dd06e70row1_col1\" class=\"data row1 col1\" >0.223523</td>\n",
       "                        <td id=\"T_0ac89cd2_5a9e_11eb_a9f6_60f81dd06e70row1_col2\" class=\"data row1 col2\" >-0.054839</td>\n",
       "                        <td id=\"T_0ac89cd2_5a9e_11eb_a9f6_60f81dd06e70row1_col3\" class=\"data row1 col3\" >-0.091403</td>\n",
       "                        <td id=\"T_0ac89cd2_5a9e_11eb_a9f6_60f81dd06e70row1_col4\" class=\"data row1 col4\" >-0.049523</td>\n",
       "                        <td id=\"T_0ac89cd2_5a9e_11eb_a9f6_60f81dd06e70row1_col5\" class=\"data row1 col5\" >1.000000</td>\n",
       "            </tr>\n",
       "            <tr>\n",
       "                        <th id=\"T_0ac89cd2_5a9e_11eb_a9f6_60f81dd06e70level0_row2\" class=\"row_heading level0 row2\" >2</th>\n",
       "                        <td id=\"T_0ac89cd2_5a9e_11eb_a9f6_60f81dd06e70row2_col0\" class=\"data row2 col0\" >1.403862</td>\n",
       "                        <td id=\"T_0ac89cd2_5a9e_11eb_a9f6_60f81dd06e70row2_col1\" class=\"data row2 col1\" >0.039438</td>\n",
       "                        <td id=\"T_0ac89cd2_5a9e_11eb_a9f6_60f81dd06e70row2_col2\" class=\"data row2 col2\" >-0.016939</td>\n",
       "                        <td id=\"T_0ac89cd2_5a9e_11eb_a9f6_60f81dd06e70row2_col3\" class=\"data row2 col3\" >-0.041807</td>\n",
       "                        <td id=\"T_0ac89cd2_5a9e_11eb_a9f6_60f81dd06e70row2_col4\" class=\"data row2 col4\" >-0.018481</td>\n",
       "                        <td id=\"T_0ac89cd2_5a9e_11eb_a9f6_60f81dd06e70row2_col5\" class=\"data row2 col5\" >1.500000</td>\n",
       "            </tr>\n",
       "            <tr>\n",
       "                        <th id=\"T_0ac89cd2_5a9e_11eb_a9f6_60f81dd06e70level0_row3\" class=\"row_heading level0 row3\" >3</th>\n",
       "                        <td id=\"T_0ac89cd2_5a9e_11eb_a9f6_60f81dd06e70row3_col0\" class=\"data row3 col0\" >3.406086</td>\n",
       "                        <td id=\"T_0ac89cd2_5a9e_11eb_a9f6_60f81dd06e70row3_col1\" class=\"data row3 col1\" >6.430067</td>\n",
       "                        <td id=\"T_0ac89cd2_5a9e_11eb_a9f6_60f81dd06e70row3_col2\" class=\"data row3 col2\" >-0.015065</td>\n",
       "                        <td id=\"T_0ac89cd2_5a9e_11eb_a9f6_60f81dd06e70row3_col3\" class=\"data row3 col3\" >-0.035061</td>\n",
       "                        <td id=\"T_0ac89cd2_5a9e_11eb_a9f6_60f81dd06e70row3_col4\" class=\"data row3 col4\" >-0.017756</td>\n",
       "                        <td id=\"T_0ac89cd2_5a9e_11eb_a9f6_60f81dd06e70row3_col5\" class=\"data row3 col5\" >1.000000</td>\n",
       "            </tr>\n",
       "            <tr>\n",
       "                        <th id=\"T_0ac89cd2_5a9e_11eb_a9f6_60f81dd06e70level0_row4\" class=\"row_heading level0 row4\" >4</th>\n",
       "                        <td id=\"T_0ac89cd2_5a9e_11eb_a9f6_60f81dd06e70row4_col0\" class=\"data row4 col0\" >0.145315</td>\n",
       "                        <td id=\"T_0ac89cd2_5a9e_11eb_a9f6_60f81dd06e70row4_col1\" class=\"data row4 col1\" >-0.356747</td>\n",
       "                        <td id=\"T_0ac89cd2_5a9e_11eb_a9f6_60f81dd06e70row4_col2\" class=\"data row4 col2\" >-0.008092</td>\n",
       "                        <td id=\"T_0ac89cd2_5a9e_11eb_a9f6_60f81dd06e70row4_col3\" class=\"data row4 col3\" >-0.000776</td>\n",
       "                        <td id=\"T_0ac89cd2_5a9e_11eb_a9f6_60f81dd06e70row4_col4\" class=\"data row4 col4\" >-0.000708</td>\n",
       "                        <td id=\"T_0ac89cd2_5a9e_11eb_a9f6_60f81dd06e70row4_col5\" class=\"data row4 col5\" >1.000000</td>\n",
       "            </tr>\n",
       "            <tr>\n",
       "                        <th id=\"T_0ac89cd2_5a9e_11eb_a9f6_60f81dd06e70level0_row5\" class=\"row_heading level0 row5\" >5</th>\n",
       "                        <td id=\"T_0ac89cd2_5a9e_11eb_a9f6_60f81dd06e70row5_col0\" class=\"data row5 col0\" >0.114425</td>\n",
       "                        <td id=\"T_0ac89cd2_5a9e_11eb_a9f6_60f81dd06e70row5_col1\" class=\"data row5 col1\" >0.017443</td>\n",
       "                        <td id=\"T_0ac89cd2_5a9e_11eb_a9f6_60f81dd06e70row5_col2\" class=\"data row5 col2\" >0.001680</td>\n",
       "                        <td id=\"T_0ac89cd2_5a9e_11eb_a9f6_60f81dd06e70row5_col3\" class=\"data row5 col3\" >-0.002393</td>\n",
       "                        <td id=\"T_0ac89cd2_5a9e_11eb_a9f6_60f81dd06e70row5_col4\" class=\"data row5 col4\" >-0.001026</td>\n",
       "                        <td id=\"T_0ac89cd2_5a9e_11eb_a9f6_60f81dd06e70row5_col5\" class=\"data row5 col5\" >1.000000</td>\n",
       "            </tr>\n",
       "            <tr>\n",
       "                        <th id=\"T_0ac89cd2_5a9e_11eb_a9f6_60f81dd06e70level0_row6\" class=\"row_heading level0 row6\" >6</th>\n",
       "                        <td id=\"T_0ac89cd2_5a9e_11eb_a9f6_60f81dd06e70row6_col0\" class=\"data row6 col0\" >7.909194</td>\n",
       "                        <td id=\"T_0ac89cd2_5a9e_11eb_a9f6_60f81dd06e70row6_col1\" class=\"data row6 col1\" >15.734417</td>\n",
       "                        <td id=\"T_0ac89cd2_5a9e_11eb_a9f6_60f81dd06e70row6_col2\" class=\"data row6 col2\" >-0.006183</td>\n",
       "                        <td id=\"T_0ac89cd2_5a9e_11eb_a9f6_60f81dd06e70row6_col3\" class=\"data row6 col3\" >-0.008624</td>\n",
       "                        <td id=\"T_0ac89cd2_5a9e_11eb_a9f6_60f81dd06e70row6_col4\" class=\"data row6 col4\" >-0.004500</td>\n",
       "                        <td id=\"T_0ac89cd2_5a9e_11eb_a9f6_60f81dd06e70row6_col5\" class=\"data row6 col5\" >4.000000</td>\n",
       "            </tr>\n",
       "            <tr>\n",
       "                        <th id=\"T_0ac89cd2_5a9e_11eb_a9f6_60f81dd06e70level0_row7\" class=\"row_heading level0 row7\" >7</th>\n",
       "                        <td id=\"T_0ac89cd2_5a9e_11eb_a9f6_60f81dd06e70row7_col0\" class=\"data row7 col0\" >0.251825</td>\n",
       "                        <td id=\"T_0ac89cd2_5a9e_11eb_a9f6_60f81dd06e70row7_col1\" class=\"data row7 col1\" >-0.371664</td>\n",
       "                        <td id=\"T_0ac89cd2_5a9e_11eb_a9f6_60f81dd06e70row7_col2\" class=\"data row7 col2\" >0.001206</td>\n",
       "                        <td id=\"T_0ac89cd2_5a9e_11eb_a9f6_60f81dd06e70row7_col3\" class=\"data row7 col3\" >0.001368</td>\n",
       "                        <td id=\"T_0ac89cd2_5a9e_11eb_a9f6_60f81dd06e70row7_col4\" class=\"data row7 col4\" >0.000732</td>\n",
       "                        <td id=\"T_0ac89cd2_5a9e_11eb_a9f6_60f81dd06e70row7_col5\" class=\"data row7 col5\" >1.000000</td>\n",
       "            </tr>\n",
       "            <tr>\n",
       "                        <th id=\"T_0ac89cd2_5a9e_11eb_a9f6_60f81dd06e70level0_row8\" class=\"row_heading level0 row8\" >8</th>\n",
       "                        <td id=\"T_0ac89cd2_5a9e_11eb_a9f6_60f81dd06e70row8_col0\" class=\"data row8 col0\" >0.885479</td>\n",
       "                        <td id=\"T_0ac89cd2_5a9e_11eb_a9f6_60f81dd06e70row8_col1\" class=\"data row8 col1\" >0.725195</td>\n",
       "                        <td id=\"T_0ac89cd2_5a9e_11eb_a9f6_60f81dd06e70row8_col2\" class=\"data row8 col2\" >-0.000944</td>\n",
       "                        <td id=\"T_0ac89cd2_5a9e_11eb_a9f6_60f81dd06e70row8_col3\" class=\"data row8 col3\" >-0.001950</td>\n",
       "                        <td id=\"T_0ac89cd2_5a9e_11eb_a9f6_60f81dd06e70row8_col4\" class=\"data row8 col4\" >-0.001048</td>\n",
       "                        <td id=\"T_0ac89cd2_5a9e_11eb_a9f6_60f81dd06e70row8_col5\" class=\"data row8 col5\" >1.500000</td>\n",
       "            </tr>\n",
       "    </tbody></table>"
      ],
      "text/plain": [
       "<pandas.io.formats.style.Styler at 0x7f8dbceafc70>"
      ]
     },
     "execution_count": 83,
     "metadata": {},
     "output_type": "execute_result"
    }
   ],
   "source": [
    "pct_scores_df.style.background_gradient() \n",
    "# we choose index 4, 100 Estimations<- \n",
    "    # Score time decrease 3->4 & Score time increase 4->5\n",
    "    # MAE increase 4->5\n",
    "    # unsubstantial decrease MSE & RMSE 4->5 compared to 3->4"
   ]
  },
  {
   "cell_type": "markdown",
   "id": "front-probe",
   "metadata": {},
   "source": [
    "# Export Optimized Model Scores"
   ]
  },
  {
   "cell_type": "code",
   "execution_count": 95,
   "id": "northern-wallpaper",
   "metadata": {},
   "outputs": [
    {
     "data": {
      "text/plain": [
       "RandomForestRegressor()"
      ]
     },
     "execution_count": 95,
     "metadata": {},
     "output_type": "execute_result"
    }
   ],
   "source": [
    "score_model = RandomForestRegressor(n_estimators=100)\n",
    "score_model"
   ]
  },
  {
   "cell_type": "code",
   "execution_count": 96,
   "id": "japanese-venice",
   "metadata": {},
   "outputs": [],
   "source": [
    "from sklearn.model_selection import cross_validate\n",
    "\n",
    "scores = cross_validate(\n",
    "    score_model, \n",
    "    X_train, \n",
    "    y_train,\n",
    "    scoring=[\n",
    "        'neg_mean_absolute_error',\n",
    "        'neg_mean_squared_error',\n",
    "        'neg_root_mean_squared_error'\n",
    "    ],\n",
    "    cv=10\n",
    ")"
   ]
  },
  {
   "cell_type": "code",
   "execution_count": 97,
   "id": "attractive-frost",
   "metadata": {},
   "outputs": [],
   "source": [
    "scores = pd.DataFrame(scores)"
   ]
  },
  {
   "cell_type": "code",
   "execution_count": 98,
   "id": "proper-facial",
   "metadata": {},
   "outputs": [
    {
     "data": {
      "text/html": [
       "<div>\n",
       "<style scoped>\n",
       "    .dataframe tbody tr th:only-of-type {\n",
       "        vertical-align: middle;\n",
       "    }\n",
       "\n",
       "    .dataframe tbody tr th {\n",
       "        vertical-align: top;\n",
       "    }\n",
       "\n",
       "    .dataframe thead th {\n",
       "        text-align: right;\n",
       "    }\n",
       "</style>\n",
       "<table border=\"1\" class=\"dataframe\">\n",
       "  <thead>\n",
       "    <tr style=\"text-align: right;\">\n",
       "      <th></th>\n",
       "      <th>fit_time</th>\n",
       "      <th>score_time</th>\n",
       "      <th>test_neg_mean_absolute_error</th>\n",
       "      <th>test_neg_mean_squared_error</th>\n",
       "      <th>test_neg_root_mean_squared_error</th>\n",
       "    </tr>\n",
       "  </thead>\n",
       "  <tbody>\n",
       "    <tr>\n",
       "      <th>0</th>\n",
       "      <td>2.095634</td>\n",
       "      <td>0.015555</td>\n",
       "      <td>-3.267403</td>\n",
       "      <td>-20.630509</td>\n",
       "      <td>-4.542082</td>\n",
       "    </tr>\n",
       "    <tr>\n",
       "      <th>1</th>\n",
       "      <td>1.847911</td>\n",
       "      <td>0.013810</td>\n",
       "      <td>-3.333077</td>\n",
       "      <td>-20.597332</td>\n",
       "      <td>-4.538428</td>\n",
       "    </tr>\n",
       "    <tr>\n",
       "      <th>2</th>\n",
       "      <td>1.994758</td>\n",
       "      <td>0.411993</td>\n",
       "      <td>-2.734193</td>\n",
       "      <td>-14.582156</td>\n",
       "      <td>-3.818659</td>\n",
       "    </tr>\n",
       "    <tr>\n",
       "      <th>3</th>\n",
       "      <td>2.441103</td>\n",
       "      <td>0.025186</td>\n",
       "      <td>-3.491755</td>\n",
       "      <td>-20.244486</td>\n",
       "      <td>-4.499387</td>\n",
       "    </tr>\n",
       "    <tr>\n",
       "      <th>4</th>\n",
       "      <td>1.776034</td>\n",
       "      <td>0.020097</td>\n",
       "      <td>-3.036056</td>\n",
       "      <td>-17.142245</td>\n",
       "      <td>-4.140319</td>\n",
       "    </tr>\n",
       "    <tr>\n",
       "      <th>5</th>\n",
       "      <td>1.668144</td>\n",
       "      <td>0.011911</td>\n",
       "      <td>-3.346504</td>\n",
       "      <td>-20.612892</td>\n",
       "      <td>-4.540142</td>\n",
       "    </tr>\n",
       "    <tr>\n",
       "      <th>6</th>\n",
       "      <td>1.423494</td>\n",
       "      <td>0.013691</td>\n",
       "      <td>-3.062740</td>\n",
       "      <td>-15.591032</td>\n",
       "      <td>-3.948548</td>\n",
       "    </tr>\n",
       "    <tr>\n",
       "      <th>7</th>\n",
       "      <td>1.736357</td>\n",
       "      <td>0.020622</td>\n",
       "      <td>-2.643585</td>\n",
       "      <td>-13.645160</td>\n",
       "      <td>-3.693936</td>\n",
       "    </tr>\n",
       "    <tr>\n",
       "      <th>8</th>\n",
       "      <td>1.757671</td>\n",
       "      <td>0.011389</td>\n",
       "      <td>-2.745647</td>\n",
       "      <td>-12.185107</td>\n",
       "      <td>-3.490717</td>\n",
       "    </tr>\n",
       "    <tr>\n",
       "      <th>9</th>\n",
       "      <td>2.417053</td>\n",
       "      <td>0.043995</td>\n",
       "      <td>-2.876251</td>\n",
       "      <td>-15.156289</td>\n",
       "      <td>-3.893108</td>\n",
       "    </tr>\n",
       "  </tbody>\n",
       "</table>\n",
       "</div>"
      ],
      "text/plain": [
       "   fit_time  score_time  test_neg_mean_absolute_error  \\\n",
       "0  2.095634    0.015555                     -3.267403   \n",
       "1  1.847911    0.013810                     -3.333077   \n",
       "2  1.994758    0.411993                     -2.734193   \n",
       "3  2.441103    0.025186                     -3.491755   \n",
       "4  1.776034    0.020097                     -3.036056   \n",
       "5  1.668144    0.011911                     -3.346504   \n",
       "6  1.423494    0.013691                     -3.062740   \n",
       "7  1.736357    0.020622                     -2.643585   \n",
       "8  1.757671    0.011389                     -2.745647   \n",
       "9  2.417053    0.043995                     -2.876251   \n",
       "\n",
       "   test_neg_mean_squared_error  test_neg_root_mean_squared_error  \n",
       "0                   -20.630509                         -4.542082  \n",
       "1                   -20.597332                         -4.538428  \n",
       "2                   -14.582156                         -3.818659  \n",
       "3                   -20.244486                         -4.499387  \n",
       "4                   -17.142245                         -4.140319  \n",
       "5                   -20.612892                         -4.540142  \n",
       "6                   -15.591032                         -3.948548  \n",
       "7                   -13.645160                         -3.693936  \n",
       "8                   -12.185107                         -3.490717  \n",
       "9                   -15.156289                         -3.893108  "
      ]
     },
     "execution_count": 98,
     "metadata": {},
     "output_type": "execute_result"
    }
   ],
   "source": [
    "scores"
   ]
  },
  {
   "cell_type": "code",
   "execution_count": 99,
   "id": "deadly-binary",
   "metadata": {},
   "outputs": [],
   "source": [
    "mean_scores = scores.mean()"
   ]
  },
  {
   "cell_type": "code",
   "execution_count": 100,
   "id": "demanding-resort",
   "metadata": {},
   "outputs": [
    {
     "data": {
      "text/plain": [
       "fit_time                             1.915816\n",
       "score_time                           0.058825\n",
       "test_neg_mean_absolute_error        -3.053721\n",
       "test_neg_mean_squared_error        -17.038721\n",
       "test_neg_root_mean_squared_error    -4.110533\n",
       "dtype: float64"
      ]
     },
     "execution_count": 100,
     "metadata": {},
     "output_type": "execute_result"
    }
   ],
   "source": [
    "mean_scores"
   ]
  },
  {
   "cell_type": "markdown",
   "id": "stuck-amplifier",
   "metadata": {},
   "source": [
    "# Export Scores"
   ]
  },
  {
   "cell_type": "code",
   "execution_count": 101,
   "id": "physical-honey",
   "metadata": {},
   "outputs": [],
   "source": [
    "mean_scores = mean_scores.rename(f'{model_name}')"
   ]
  },
  {
   "cell_type": "code",
   "execution_count": 102,
   "id": "sexual-minneapolis",
   "metadata": {},
   "outputs": [],
   "source": [
    "mean_scores[[2,3,4]] = mean_scores[[2,3,4]].apply(abs)"
   ]
  },
  {
   "cell_type": "code",
   "execution_count": 103,
   "id": "documented-damage",
   "metadata": {},
   "outputs": [],
   "source": [
    "# mean_scores"
   ]
  },
  {
   "cell_type": "code",
   "execution_count": 104,
   "id": "after-north",
   "metadata": {},
   "outputs": [],
   "source": [
    "mean_scores = mean_scores.rename({\n",
    "    'fit_time':'Fit Time',\n",
    "    'score_time':'Score Time',\n",
    "    'test_neg_mean_absolute_error':'MAE',\n",
    "    'test_neg_mean_squared_error':'MSE',\n",
    "    'test_neg_root_mean_squared_error':'RMSE'\n",
    "})"
   ]
  },
  {
   "cell_type": "code",
   "execution_count": 105,
   "id": "damaged-biology",
   "metadata": {},
   "outputs": [
    {
     "data": {
      "text/plain": [
       "Fit Time       1.915816\n",
       "Score Time     0.058825\n",
       "MAE            3.053721\n",
       "MSE           17.038721\n",
       "RMSE           4.110533\n",
       "Name: RF, dtype: float64"
      ]
     },
     "execution_count": 105,
     "metadata": {},
     "output_type": "execute_result"
    }
   ],
   "source": [
    "mean_scores"
   ]
  },
  {
   "cell_type": "code",
   "execution_count": 106,
   "id": "meaningful-revision",
   "metadata": {},
   "outputs": [],
   "source": [
    "mean_scores['STD FT'] = scores.fit_time.std()\n",
    "mean_scores['STD ST'] = scores.score_time.std()\n",
    "mean_scores['STD MAE'] = scores.test_neg_mean_absolute_error.std()\n",
    "mean_scores['STD MSE'] = scores.test_neg_mean_squared_error.std()\n",
    "mean_scores['STD RMSE'] = scores.test_neg_root_mean_squared_error.std()"
   ]
  },
  {
   "cell_type": "code",
   "execution_count": 107,
   "id": "three-joshua",
   "metadata": {},
   "outputs": [
    {
     "data": {
      "text/plain": [
       "Fit Time       1.915816\n",
       "Score Time     0.058825\n",
       "MAE            3.053721\n",
       "MSE           17.038721\n",
       "RMSE           4.110533\n",
       "STD FT         0.325033\n",
       "STD ST         0.124466\n",
       "STD MAE        0.297845\n",
       "STD MSE        3.255336\n",
       "STD RMSE       0.397550\n",
       "Name: RF, dtype: float64"
      ]
     },
     "execution_count": 107,
     "metadata": {},
     "output_type": "execute_result"
    }
   ],
   "source": [
    "mean_scores"
   ]
  },
  {
   "cell_type": "code",
   "execution_count": 108,
   "id": "collect-astronomy",
   "metadata": {},
   "outputs": [],
   "source": [
    "mean_scores.to_csv(f'./scores/{model_name}-100-score.csv')"
   ]
  },
  {
   "cell_type": "markdown",
   "id": "heard-robertson",
   "metadata": {},
   "source": [
    "# Export Optimized Model (100 Estimators)"
   ]
  },
  {
   "cell_type": "code",
   "execution_count": 84,
   "id": "actual-producer",
   "metadata": {},
   "outputs": [],
   "source": [
    "est = 100"
   ]
  },
  {
   "cell_type": "code",
   "execution_count": 85,
   "id": "ongoing-favor",
   "metadata": {},
   "outputs": [
    {
     "data": {
      "text/plain": [
       "RandomForestRegressor()"
      ]
     },
     "execution_count": 85,
     "metadata": {},
     "output_type": "execute_result"
    }
   ],
   "source": [
    "# MODIFY! \n",
    "from sklearn.preprocessing import RobustScaler\n",
    "scaler = RobustScaler()\n",
    "scaler.fit(X)\n",
    "\n",
    "X_rf = scaler.transform(X)\n",
    "\n",
    "rf_model = RandomForestRegressor(n_estimators=est)\n",
    "rf_model.fit(X_rf, y)"
   ]
  },
  {
   "cell_type": "code",
   "execution_count": 86,
   "id": "caring-migration",
   "metadata": {},
   "outputs": [],
   "source": [
    "y_pred_rf = rf_model.predict(X_rf)"
   ]
  },
  {
   "cell_type": "code",
   "execution_count": 87,
   "id": "technical-station",
   "metadata": {},
   "outputs": [
    {
     "data": {
      "text/plain": [
       "<AxesSubplot:ylabel='Count'>"
      ]
     },
     "execution_count": 87,
     "metadata": {},
     "output_type": "execute_result"
    },
    {
     "data": {
      "image/png": "[encoded data removed]",
      "text/plain": [
       "<Figure size 432x288 with 1 Axes>"
      ]
     },
     "metadata": {
      "needs_background": "light"
     },
     "output_type": "display_data"
    }
   ],
   "source": [
    "sns.histplot(y_pred_rf,bins=40,kde=True)"
   ]
  },
  {
   "cell_type": "code",
   "execution_count": 88,
   "id": "naval-cornwall",
   "metadata": {},
   "outputs": [
    {
     "data": {
      "text/plain": [
       "<matplotlib.legend.Legend at 0x7f8dbd760e20>"
      ]
     },
     "execution_count": 88,
     "metadata": {},
     "output_type": "execute_result"
    },
    {
     "data": {
      "image/png": "[encoded data removed]",
      "text/plain": [
       "<Figure size 432x288 with 1 Axes>"
      ]
     },
     "metadata": {
      "needs_background": "light"
     },
     "output_type": "display_data"
    }
   ],
   "source": [
    "fig,ax = plt.subplots()\n",
    "\n",
    "sns.kdeplot(y, ax=ax, shade=True, label='Observations')\n",
    "sns.kdeplot(y_pred_rf, ax=ax,shade=True,label='Predictions')\n",
    "\n",
    "ax.legend(loc='best')"
   ]
  },
  {
   "cell_type": "code",
   "execution_count": 89,
   "id": "fancy-resource",
   "metadata": {},
   "outputs": [
    {
     "data": {
      "text/plain": [
       "<matplotlib.legend.Legend at 0x7f8dbd849730>"
      ]
     },
     "execution_count": 89,
     "metadata": {},
     "output_type": "execute_result"
    },
    {
     "data": {
      "image/png": "[encoded data removed]",
      "text/plain": [
       "<Figure size 432x288 with 1 Axes>"
      ]
     },
     "metadata": {
      "needs_background": "light"
     },
     "output_type": "display_data"
    }
   ],
   "source": [
    "fig,ax = plt.subplots()\n",
    "\n",
    "sns.ecdfplot(y, ax=ax, label='Observations')\n",
    "sns.ecdfplot(y_pred_rf, ax=ax,label='Predictions')\n",
    "plt.axvline(x=y.mean(),color='grey',linestyle='--')\n",
    "\n",
    "ax.legend(loc='best')"
   ]
  },
  {
   "cell_type": "code",
   "execution_count": 90,
   "id": "handled-substance",
   "metadata": {},
   "outputs": [],
   "source": [
    "from sklearn.metrics import mean_absolute_error, mean_squared_error\n",
    "\n",
    "mae = mean_absolute_error(y,y_pred_rf)\n",
    "mse = mean_squared_error(y,y_pred_rf)\n",
    "rmse = np.sqrt(mse)"
   ]
  },
  {
   "cell_type": "code",
   "execution_count": 91,
   "id": "white-alexander",
   "metadata": {},
   "outputs": [
    {
     "data": {
      "text/html": [
       "<div>\n",
       "<style scoped>\n",
       "    .dataframe tbody tr th:only-of-type {\n",
       "        vertical-align: middle;\n",
       "    }\n",
       "\n",
       "    .dataframe tbody tr th {\n",
       "        vertical-align: top;\n",
       "    }\n",
       "\n",
       "    .dataframe thead th {\n",
       "        text-align: right;\n",
       "    }\n",
       "</style>\n",
       "<table border=\"1\" class=\"dataframe\">\n",
       "  <thead>\n",
       "    <tr style=\"text-align: right;\">\n",
       "      <th></th>\n",
       "      <th>RF</th>\n",
       "    </tr>\n",
       "  </thead>\n",
       "  <tbody>\n",
       "    <tr>\n",
       "      <th>MAE</th>\n",
       "      <td>1.116324</td>\n",
       "    </tr>\n",
       "    <tr>\n",
       "      <th>MSE</th>\n",
       "      <td>2.329715</td>\n",
       "    </tr>\n",
       "    <tr>\n",
       "      <th>RMSE</th>\n",
       "      <td>1.526341</td>\n",
       "    </tr>\n",
       "  </tbody>\n",
       "</table>\n",
       "</div>"
      ],
      "text/plain": [
       "            RF\n",
       "MAE   1.116324\n",
       "MSE   2.329715\n",
       "RMSE  1.526341"
      ]
     },
     "execution_count": 91,
     "metadata": {},
     "output_type": "execute_result"
    }
   ],
   "source": [
    "err_df = pd.DataFrame(data=[mae, mse, rmse],index=['MAE','MSE','RMSE'],columns=[f'{model_name}'])\n",
    "err_df"
   ]
  },
  {
   "cell_type": "code",
   "execution_count": 92,
   "id": "military-behalf",
   "metadata": {},
   "outputs": [],
   "source": [
    "err_df.to_csv(f'./model-err/{model_name}-{est}-err.csv')\n",
    "# mean_scores.to_csv(f'./opt-model-err/{model_name}-err.csv')"
   ]
  },
  {
   "cell_type": "code",
   "execution_count": 93,
   "id": "developing-sheffield",
   "metadata": {},
   "outputs": [
    {
     "data": {
      "text/plain": [
       "['./opt-models/RF-100-model.joblib']"
      ]
     },
     "execution_count": 93,
     "metadata": {},
     "output_type": "execute_result"
    }
   ],
   "source": [
    "from joblib import dump, load\n",
    "dump(rf_model, f'./opt-models/{model_name}-{est}-model.joblib')"
   ]
  },
  {
   "cell_type": "markdown",
   "id": "reverse-clark",
   "metadata": {},
   "source": [
    "DONE!"
   ]
  },
  {
   "cell_type": "code",
   "execution_count": null,
   "id": "subject-alexandria",
   "metadata": {},
   "outputs": [],
   "source": []
  }
 ],
 "metadata": {
  "kernelspec": {
   "display_name": "Python 3",
   "language": "python",
   "name": "python3"
  },
  "language_info": {
   "codemirror_mode": {
    "name": "ipython",
    "version": 3
   },
   "file_extension": ".py",
   "mimetype": "text/x-python",
   "name": "python",
   "nbconvert_exporter": "python",
   "pygments_lexer": "ipython3",
   "version": "3.8.6"
  }
 },
 "nbformat": 4,
 "nbformat_minor": 5
}
