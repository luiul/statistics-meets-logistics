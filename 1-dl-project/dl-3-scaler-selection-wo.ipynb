{
 "cells": [
  {
   "cell_type": "code",
   "execution_count": 1,
   "metadata": {},
   "outputs": [],
   "source": [
    "import numpy as np\n",
    "import pandas as pd\n",
    "import matplotlib.pyplot as plt\n",
    "import seaborn as sns\n",
    "\n",
    "df = pd.read_csv('./data/d-wo-ns.csv')\n",
    "\n",
    "X = df.drop('throughput',axis=1)\n",
    "\n",
    "y = df['throughput']"
   ]
  },
  {
   "cell_type": "markdown",
   "metadata": {},
   "source": [
    "# Scaler Selection\n",
    "---\n",
    "In the last Notebook we examined the Features and their distributions. We concluded non of the Features are normally distributed and the Features have a variaty of scales and units.\n",
    "\n",
    "In this section we settle on the Scaler that yields the best performance in a Linear Regression Model, i.e., the Scaler yields the smallest error metric (MAE, MSE, and RMSE). This will be the baseline model. \n",
    "\n",
    "Note: when fitting data to the Scaler, it's important to fit ONLY on the train data set to avoid data leakage. "
   ]
  },
  {
   "cell_type": "code",
   "execution_count": 2,
   "metadata": {},
   "outputs": [],
   "source": [
    "from sklearn.model_selection import train_test_split\n",
    "X_train, X_test, y_train, y_test = train_test_split(X, y, test_size=0.1, random_state=42)\n",
    "\n",
    "from sklearn import preprocessing\n",
    "mm_scaler = preprocessing.MinMaxScaler()\n",
    "mm_scaler.fit(X_train)\n",
    "\n",
    "rb_scaler = preprocessing.RobustScaler()\n",
    "rb_scaler.fit(X_train)\n",
    "\n",
    "st_scaler = preprocessing.StandardScaler()\n",
    "st_scaler.fit(X_train)\n",
    "\n",
    "scalers = [mm_scaler, rb_scaler, st_scaler]"
   ]
  },
  {
   "cell_type": "code",
   "execution_count": 3,
   "metadata": {},
   "outputs": [
    {
     "data": {
      "text/plain": [
       "[MinMaxScaler(), RobustScaler(), StandardScaler()]"
      ]
     },
     "execution_count": 3,
     "metadata": {},
     "output_type": "execute_result"
    }
   ],
   "source": [
    "scalers"
   ]
  },
  {
   "cell_type": "markdown",
   "metadata": {},
   "source": [
    "# Linear Regression"
   ]
  },
  {
   "cell_type": "code",
   "execution_count": 4,
   "metadata": {},
   "outputs": [],
   "source": [
    "model_name = 'lin'"
   ]
  },
  {
   "cell_type": "code",
   "execution_count": 5,
   "metadata": {},
   "outputs": [],
   "source": [
    "from sklearn.linear_model import LinearRegression\n",
    "model = LinearRegression()"
   ]
  },
  {
   "cell_type": "code",
   "execution_count": 6,
   "metadata": {},
   "outputs": [
    {
     "name": "stdout",
     "output_type": "stream",
     "text": [
      "MinMaxScaler() MAE-scores: [-3.31684955e+00 -1.26335829e+10 -3.29969556e+00 -3.26534808e+00\n",
      " -1.43152556e+11 -6.41354675e+10 -9.64065835e+10 -3.32176380e+00\n",
      " -4.50374071e+10 -3.70325737e+10]\n",
      "MinMaxScaler() MSE-scores: [-1.69671704e+01 -3.08042315e+22 -1.71260151e+01 -2.32301756e+01\n",
      " -3.95508230e+24 -4.00213154e+23 -1.78449203e+24 -1.97053341e+01\n",
      " -3.89446663e+23 -1.90216394e+23]\n",
      "MinMaxScaler() RMSE-scores: [-4.11912252e+00 -1.75511343e+11 -4.13835898e+00 -4.81976925e+00\n",
      " -1.98873887e+12 -6.32624022e+11 -1.33584881e+12 -4.43906906e+00\n",
      " -6.24056618e+11 -4.36138045e+11]\n",
      "MinMaxScaler() done!\n",
      "\n",
      "\n",
      "RobustScaler() MAE-scores: [-3.28710178 -3.23900263 -3.29993451 -3.26534808 -3.30040569 -3.48738587\n",
      " -3.40672355 -3.3217638  -3.37326807 -3.5235812 ]\n",
      "RobustScaler() MSE-scores: [-16.70071589 -19.22896508 -17.13131745 -23.23017559 -20.02288822\n",
      " -22.2047757  -18.05039757 -19.70533412 -20.11370607 -23.02961075]\n",
      "RobustScaler() RMSE-scores: [-4.08665094 -4.38508439 -4.13899957 -4.81976925 -4.4746942  -4.71219436\n",
      " -4.24857595 -4.43906906 -4.48483066 -4.79891766]\n",
      "RobustScaler() done!\n",
      "\n",
      "\n",
      "StandardScaler() MAE-scores: [-3.28888029e+00 -4.08766364e+12 -3.29939149e+00 -3.26569248e+00\n",
      " -4.23791895e+10 -5.95929501e+12 -6.21368479e+12 -2.32447279e+12\n",
      " -2.80654161e+11 -2.97306212e+11]\n",
      "StandardScaler() MSE-scores: [-1.67144150e+01 -3.22483585e+27 -1.71278694e+01 -2.32287806e+01\n",
      " -3.46627170e+23 -4.16678809e+27 -7.41309671e+27 -1.03740936e+27\n",
      " -1.51232175e+25 -9.89795977e+24]\n",
      "StandardScaler() RMSE-scores: [-4.08832667e+00 -5.67876382e+13 -4.13858302e+00 -4.81962453e+00\n",
      " -5.88750516e+11 -6.45506630e+13 -8.60993421e+13 -3.22088398e+13\n",
      " -3.88885812e+12 -3.14610231e+12]\n",
      "StandardScaler() done!\n",
      "\n",
      "\n"
     ]
    }
   ],
   "source": [
    "from sklearn.model_selection import cross_val_score\n",
    "\n",
    "scalers_str = []\n",
    "mae_list = []\n",
    "mse_list = []\n",
    "rmse_list = []\n",
    "\n",
    "for scaler in scalers: \n",
    "    # Scale data\n",
    "    X_train_s = scaler.transform(X_train)\n",
    "    X_test_s = scaler.transform(X_test)\n",
    "    \n",
    "    scores = cross_val_score(model,X_train_s,y_train, scoring='neg_mean_absolute_error',cv=10)\n",
    "    mae_list.append(abs(scores.mean()))\n",
    "    print(f\"{scaler} MAE-scores: {scores}\")\n",
    "    \n",
    "    scores = cross_val_score(model,X_train_s,y_train, scoring='neg_mean_squared_error',cv=10)\n",
    "    mse_list.append(abs(scores.mean()))\n",
    "    print(f\"{scaler} MSE-scores: {scores}\")\n",
    "\n",
    "    scores = cross_val_score(model,X_train_s,y_train, scoring='neg_root_mean_squared_error',cv=10)\n",
    "    rmse_list.append(abs(scores.mean()))\n",
    "    print(f\"{scaler} RMSE-scores: {scores}\")\n",
    "    \n",
    "    print(f\"{scaler} done!\")\n",
    "    print('\\n')\n",
    "    \n",
    "    scalers_str.append(str(scaler))"
   ]
  },
  {
   "cell_type": "code",
   "execution_count": 7,
   "metadata": {},
   "outputs": [],
   "source": [
    "def min_index(l):\n",
    "     return scalers_str[min(range(len(l)), key=l.__getitem__)]"
   ]
  },
  {
   "cell_type": "code",
   "execution_count": 8,
   "metadata": {},
   "outputs": [
    {
     "data": {
      "text/plain": [
       "'RobustScaler()'"
      ]
     },
     "execution_count": 8,
     "metadata": {},
     "output_type": "execute_result"
    }
   ],
   "source": [
    "min_index(mae_list)"
   ]
  },
  {
   "cell_type": "code",
   "execution_count": 9,
   "metadata": {},
   "outputs": [
    {
     "data": {
      "text/plain": [
       "'RobustScaler()'"
      ]
     },
     "execution_count": 9,
     "metadata": {},
     "output_type": "execute_result"
    }
   ],
   "source": [
    "min_index(mse_list)"
   ]
  },
  {
   "cell_type": "code",
   "execution_count": 10,
   "metadata": {},
   "outputs": [
    {
     "data": {
      "text/plain": [
       "'RobustScaler()'"
      ]
     },
     "execution_count": 10,
     "metadata": {},
     "output_type": "execute_result"
    }
   ],
   "source": [
    "min_index(rmse_list)"
   ]
  },
  {
   "cell_type": "code",
   "execution_count": 11,
   "metadata": {},
   "outputs": [],
   "source": [
    "err_list = [mae_list, mse_list, rmse_list]"
   ]
  },
  {
   "cell_type": "code",
   "execution_count": 12,
   "metadata": {},
   "outputs": [],
   "source": [
    "err_df = pd.DataFrame(columns=scalers_str, data=err_list, index=['MAE','MSE','RMSE'])"
   ]
  },
  {
   "cell_type": "code",
   "execution_count": 13,
   "metadata": {},
   "outputs": [
    {
     "data": {
      "text/html": [
       "<div>\n",
       "<style scoped>\n",
       "    .dataframe tbody tr th:only-of-type {\n",
       "        vertical-align: middle;\n",
       "    }\n",
       "\n",
       "    .dataframe tbody tr th {\n",
       "        vertical-align: top;\n",
       "    }\n",
       "\n",
       "    .dataframe thead th {\n",
       "        text-align: right;\n",
       "    }\n",
       "</style>\n",
       "<table border=\"1\" class=\"dataframe\">\n",
       "  <thead>\n",
       "    <tr style=\"text-align: right;\">\n",
       "      <th></th>\n",
       "      <th>MinMaxScaler()</th>\n",
       "      <th>RobustScaler()</th>\n",
       "      <th>StandardScaler()</th>\n",
       "    </tr>\n",
       "  </thead>\n",
       "  <tbody>\n",
       "    <tr>\n",
       "      <th>MAE</th>\n",
       "      <td>3.983982e+10</td>\n",
       "      <td>3.350452</td>\n",
       "      <td>1.920546e+12</td>\n",
       "    </tr>\n",
       "    <tr>\n",
       "      <th>MSE</th>\n",
       "      <td>6.750255e+23</td>\n",
       "      <td>19.941789</td>\n",
       "      <td>1.586750e+27</td>\n",
       "    </tr>\n",
       "    <tr>\n",
       "      <th>RMSE</th>\n",
       "      <td>5.192918e+11</td>\n",
       "      <td>4.458879</td>\n",
       "      <td>2.472702e+13</td>\n",
       "    </tr>\n",
       "  </tbody>\n",
       "</table>\n",
       "</div>"
      ],
      "text/plain": [
       "      MinMaxScaler()  RobustScaler()  StandardScaler()\n",
       "MAE     3.983982e+10        3.350452      1.920546e+12\n",
       "MSE     6.750255e+23       19.941789      1.586750e+27\n",
       "RMSE    5.192918e+11        4.458879      2.472702e+13"
      ]
     },
     "execution_count": 13,
     "metadata": {},
     "output_type": "execute_result"
    }
   ],
   "source": [
    "err_df\n",
    "# -> model produces bad predictions! -> skip linear model with no regularization and go straigth to elastic net model"
   ]
  },
  {
   "cell_type": "code",
   "execution_count": 14,
   "metadata": {},
   "outputs": [],
   "source": [
    "err_df.to_csv(f'./scaler-err/{model_name}-wo.csv')"
   ]
  },
  {
   "cell_type": "markdown",
   "metadata": {},
   "source": [
    "# Poisson Regressor"
   ]
  },
  {
   "cell_type": "code",
   "execution_count": 15,
   "metadata": {},
   "outputs": [],
   "source": [
    "model_name = 'poi'"
   ]
  },
  {
   "cell_type": "code",
   "execution_count": 16,
   "metadata": {},
   "outputs": [],
   "source": [
    "from sklearn.linear_model import PoissonRegressor\n",
    "model = PoissonRegressor()"
   ]
  },
  {
   "cell_type": "code",
   "execution_count": 17,
   "metadata": {},
   "outputs": [
    {
     "name": "stdout",
     "output_type": "stream",
     "text": [
      "MinMaxScaler() MAE-scores: [-3.84662944 -4.05523473 -4.0903293  -3.87960648 -4.09892334 -4.33663429\n",
      " -3.77518904 -4.3298293  -3.84841555 -4.07860893]\n",
      "MinMaxScaler() MSE-scores: [-23.5907888  -25.65925403 -25.7243442  -26.85222706 -27.87941259\n",
      " -28.13269911 -21.06589786 -30.94937633 -24.81452891 -26.24246773]\n",
      "MinMaxScaler() RMSE-scores: [-4.85703498 -5.06549642 -5.07191721 -5.18191346 -5.28009589 -5.30402669\n",
      " -4.58976011 -5.56321637 -4.98141836 -5.12274026]\n",
      "MinMaxScaler() done!\n",
      "\n",
      "\n",
      "RobustScaler() MAE-scores: [-3.34428936 -3.46249729 -3.45625522 -3.31559788 -3.45244336 -3.68912853\n",
      " -3.27214373 -3.59711767 -3.42953052 -3.54530066]\n",
      "RobustScaler() MSE-scores: [-17.54307315 -20.41385088 -18.16503995 -21.62899003 -21.68336317\n",
      " -21.89783368 -16.58300868 -22.41284392 -20.56158926 -21.09858703]\n",
      "RobustScaler() RMSE-scores: [-4.1884452  -4.51816897 -4.26204645 -4.6506978  -4.65653983 -4.67951212\n",
      " -4.07222405 -4.73422052 -4.53448886 -4.59331983]\n",
      "RobustScaler() done!\n",
      "\n",
      "\n",
      "StandardScaler() MAE-scores: [-3.28461373 -3.26652404 -3.1847181  -3.12821579 -3.18143287 -3.41263075\n",
      " -3.28524837 -3.34808179 -3.42302595 -3.43149586]\n",
      "StandardScaler() MSE-scores: [-17.18048052 -18.7248107  -16.07523031 -20.71801246 -17.41709156\n",
      " -19.82991233 -17.50075771 -19.61556231 -20.92937364 -20.86995857]\n",
      "StandardScaler() RMSE-scores: [-4.14493432 -4.32721743 -4.00939276 -4.55170435 -4.17337891 -4.45307897\n",
      " -4.1833907  -4.42894596 -4.57486324 -4.56836498]\n",
      "StandardScaler() done!\n",
      "\n",
      "\n"
     ]
    }
   ],
   "source": [
    "from sklearn.model_selection import cross_val_score\n",
    "\n",
    "scalers_str = []\n",
    "mae_list = []\n",
    "mse_list = []\n",
    "rmse_list = []\n",
    "\n",
    "for scaler in scalers: \n",
    "    # Scale data\n",
    "    X_train_s = scaler.transform(X_train)\n",
    "    X_test_s = scaler.transform(X_test)\n",
    "    \n",
    "    scores = cross_val_score(model,X_train_s,y_train, scoring='neg_mean_absolute_error',cv=10)\n",
    "    mae_list.append(abs(scores.mean()))\n",
    "    print(f\"{scaler} MAE-scores: {scores}\")\n",
    "    \n",
    "    scores = cross_val_score(model,X_train_s,y_train, scoring='neg_mean_squared_error',cv=10)\n",
    "    mse_list.append(abs(scores.mean()))\n",
    "    print(f\"{scaler} MSE-scores: {scores}\")\n",
    "\n",
    "    scores = cross_val_score(model,X_train_s,y_train, scoring='neg_root_mean_squared_error',cv=10)\n",
    "    rmse_list.append(abs(scores.mean()))\n",
    "    print(f\"{scaler} RMSE-scores: {scores}\")\n",
    "    \n",
    "    print(f\"{scaler} done!\")\n",
    "    print('\\n')\n",
    "    \n",
    "    scalers_str.append(str(scaler))"
   ]
  },
  {
   "cell_type": "code",
   "execution_count": 18,
   "metadata": {},
   "outputs": [
    {
     "data": {
      "text/plain": [
       "'StandardScaler()'"
      ]
     },
     "execution_count": 18,
     "metadata": {},
     "output_type": "execute_result"
    }
   ],
   "source": [
    "min_index(mae_list)"
   ]
  },
  {
   "cell_type": "code",
   "execution_count": 19,
   "metadata": {},
   "outputs": [
    {
     "data": {
      "text/plain": [
       "'StandardScaler()'"
      ]
     },
     "execution_count": 19,
     "metadata": {},
     "output_type": "execute_result"
    }
   ],
   "source": [
    "min_index(mse_list)"
   ]
  },
  {
   "cell_type": "code",
   "execution_count": 20,
   "metadata": {},
   "outputs": [
    {
     "data": {
      "text/plain": [
       "'StandardScaler()'"
      ]
     },
     "execution_count": 20,
     "metadata": {},
     "output_type": "execute_result"
    }
   ],
   "source": [
    "min_index(rmse_list)"
   ]
  },
  {
   "cell_type": "code",
   "execution_count": 21,
   "metadata": {},
   "outputs": [],
   "source": [
    "err_list = [mae_list, mse_list, rmse_list]"
   ]
  },
  {
   "cell_type": "code",
   "execution_count": 22,
   "metadata": {},
   "outputs": [],
   "source": [
    "err_df = pd.DataFrame(columns=scalers_str, data=err_list, index=['MAE','MSE','RMSE'])"
   ]
  },
  {
   "cell_type": "code",
   "execution_count": 23,
   "metadata": {},
   "outputs": [
    {
     "data": {
      "text/html": [
       "<div>\n",
       "<style scoped>\n",
       "    .dataframe tbody tr th:only-of-type {\n",
       "        vertical-align: middle;\n",
       "    }\n",
       "\n",
       "    .dataframe tbody tr th {\n",
       "        vertical-align: top;\n",
       "    }\n",
       "\n",
       "    .dataframe thead th {\n",
       "        text-align: right;\n",
       "    }\n",
       "</style>\n",
       "<table border=\"1\" class=\"dataframe\">\n",
       "  <thead>\n",
       "    <tr style=\"text-align: right;\">\n",
       "      <th></th>\n",
       "      <th>MinMaxScaler()</th>\n",
       "      <th>RobustScaler()</th>\n",
       "      <th>StandardScaler()</th>\n",
       "    </tr>\n",
       "  </thead>\n",
       "  <tbody>\n",
       "    <tr>\n",
       "      <th>MAE</th>\n",
       "      <td>4.033940</td>\n",
       "      <td>3.456430</td>\n",
       "      <td>3.294599</td>\n",
       "    </tr>\n",
       "    <tr>\n",
       "      <th>MSE</th>\n",
       "      <td>26.091100</td>\n",
       "      <td>20.198818</td>\n",
       "      <td>18.886119</td>\n",
       "    </tr>\n",
       "    <tr>\n",
       "      <th>RMSE</th>\n",
       "      <td>5.101762</td>\n",
       "      <td>4.488966</td>\n",
       "      <td>4.341527</td>\n",
       "    </tr>\n",
       "  </tbody>\n",
       "</table>\n",
       "</div>"
      ],
      "text/plain": [
       "      MinMaxScaler()  RobustScaler()  StandardScaler()\n",
       "MAE         4.033940        3.456430          3.294599\n",
       "MSE        26.091100       20.198818         18.886119\n",
       "RMSE        5.101762        4.488966          4.341527"
      ]
     },
     "execution_count": 23,
     "metadata": {},
     "output_type": "execute_result"
    }
   ],
   "source": [
    "err_df\n",
    "# -> StandardScaler -> use StandardScaler for Elastic Net also"
   ]
  },
  {
   "cell_type": "code",
   "execution_count": 24,
   "metadata": {},
   "outputs": [],
   "source": [
    "err_df.to_csv(f'./scaler-err/{model_name}-wo.csv')"
   ]
  },
  {
   "cell_type": "markdown",
   "metadata": {},
   "source": [
    "# Support Vector Regressor"
   ]
  },
  {
   "cell_type": "code",
   "execution_count": 25,
   "metadata": {},
   "outputs": [],
   "source": [
    "model_name = 'svr'"
   ]
  },
  {
   "cell_type": "code",
   "execution_count": 26,
   "metadata": {},
   "outputs": [],
   "source": [
    "from sklearn.svm import SVR\n",
    "model = SVR()"
   ]
  },
  {
   "cell_type": "code",
   "execution_count": 27,
   "metadata": {},
   "outputs": [
    {
     "name": "stdout",
     "output_type": "stream",
     "text": [
      "MinMaxScaler() MAE-scores: [-3.24279859 -3.29719305 -3.59268095 -3.33981114 -3.43013458 -3.58566365\n",
      " -3.27615874 -3.57064433 -3.41416529 -3.63435548]\n",
      "MinMaxScaler() MSE-scores: [-18.196192   -19.35204491 -20.71573432 -24.03742865 -21.96327667\n",
      " -22.18669032 -16.81336476 -23.40690218 -20.4955409  -23.29200457]\n",
      "MinMaxScaler() RMSE-scores: [-4.26569947 -4.39909592 -4.55145409 -4.90279804 -4.6864994  -4.71027497\n",
      " -4.10041032 -4.83806802 -4.52720012 -4.82617909]\n",
      "MinMaxScaler() done!\n",
      "\n",
      "\n",
      "RobustScaler() MAE-scores: [-3.20886173 -3.36567222 -3.44520808 -3.31002794 -3.43370981 -3.51094043\n",
      " -2.96771837 -3.41417029 -3.18839017 -3.36835001]\n",
      "RobustScaler() MSE-scores: [-17.87441392 -19.9347764  -19.91914755 -23.30195309 -21.79195653\n",
      " -22.46992199 -14.55640074 -23.05126643 -18.3725854  -21.90658609]\n",
      "RobustScaler() RMSE-scores: [-4.22781432 -4.46483778 -4.46308722 -4.82720966 -4.66818557 -4.74024493\n",
      " -3.81528515 -4.80117344 -4.2863254  -4.68044721]\n",
      "RobustScaler() done!\n",
      "\n",
      "\n",
      "StandardScaler() MAE-scores: [-3.60374427 -3.48087661 -3.74639271 -3.63427431 -3.46703818 -3.77724511\n",
      " -3.4206603  -3.95359476 -3.50891641 -3.63752362]\n",
      "StandardScaler() MSE-scores: [-23.63227053 -20.33729612 -22.81234394 -27.24359025 -21.23788097\n",
      " -23.70448166 -18.49186314 -28.1576707  -22.07678623 -22.79443029]\n",
      "StandardScaler() RMSE-scores: [-4.86130338 -4.50968914 -4.77622696 -5.21953928 -4.60845755 -4.86872485\n",
      " -4.30021664 -5.30638019 -4.69859407 -4.7743513 ]\n",
      "StandardScaler() done!\n",
      "\n",
      "\n"
     ]
    }
   ],
   "source": [
    "from sklearn.model_selection import cross_val_score\n",
    "\n",
    "scalers_str = []\n",
    "mae_list = []\n",
    "mse_list = []\n",
    "rmse_list = []\n",
    "\n",
    "for scaler in scalers: \n",
    "    # Scale data\n",
    "    X_train_s = scaler.transform(X_train)\n",
    "    X_test_s = scaler.transform(X_test)\n",
    "    \n",
    "    scores = cross_val_score(model,X_train_s,y_train, scoring='neg_mean_absolute_error',cv=10)\n",
    "    mae_list.append(abs(scores.mean()))\n",
    "    print(f\"{scaler} MAE-scores: {scores}\")\n",
    "    \n",
    "    scores = cross_val_score(model,X_train_s,y_train, scoring='neg_mean_squared_error',cv=10)\n",
    "    mse_list.append(abs(scores.mean()))\n",
    "    print(f\"{scaler} MSE-scores: {scores}\")\n",
    "\n",
    "    scores = cross_val_score(model,X_train_s,y_train, scoring='neg_root_mean_squared_error',cv=10)\n",
    "    rmse_list.append(abs(scores.mean()))\n",
    "    print(f\"{scaler} RMSE-scores: {scores}\")\n",
    "    \n",
    "    print(f\"{scaler} done!\")\n",
    "    print('\\n')\n",
    "    \n",
    "    scalers_str.append(str(scaler))"
   ]
  },
  {
   "cell_type": "code",
   "execution_count": 28,
   "metadata": {},
   "outputs": [
    {
     "data": {
      "text/plain": [
       "'RobustScaler()'"
      ]
     },
     "execution_count": 28,
     "metadata": {},
     "output_type": "execute_result"
    }
   ],
   "source": [
    "min_index(mae_list)"
   ]
  },
  {
   "cell_type": "code",
   "execution_count": 29,
   "metadata": {},
   "outputs": [
    {
     "data": {
      "text/plain": [
       "'RobustScaler()'"
      ]
     },
     "execution_count": 29,
     "metadata": {},
     "output_type": "execute_result"
    }
   ],
   "source": [
    "min_index(mse_list)"
   ]
  },
  {
   "cell_type": "code",
   "execution_count": 30,
   "metadata": {},
   "outputs": [
    {
     "data": {
      "text/plain": [
       "'RobustScaler()'"
      ]
     },
     "execution_count": 30,
     "metadata": {},
     "output_type": "execute_result"
    }
   ],
   "source": [
    "min_index(rmse_list)"
   ]
  },
  {
   "cell_type": "code",
   "execution_count": 31,
   "metadata": {},
   "outputs": [],
   "source": [
    "err_list = [mae_list, mse_list, rmse_list]"
   ]
  },
  {
   "cell_type": "code",
   "execution_count": 32,
   "metadata": {},
   "outputs": [],
   "source": [
    "err_df = pd.DataFrame(columns=scalers_str, data=err_list, index=['MAE','MSE','RMSE'])"
   ]
  },
  {
   "cell_type": "code",
   "execution_count": 33,
   "metadata": {},
   "outputs": [
    {
     "data": {
      "text/html": [
       "<div>\n",
       "<style scoped>\n",
       "    .dataframe tbody tr th:only-of-type {\n",
       "        vertical-align: middle;\n",
       "    }\n",
       "\n",
       "    .dataframe tbody tr th {\n",
       "        vertical-align: top;\n",
       "    }\n",
       "\n",
       "    .dataframe thead th {\n",
       "        text-align: right;\n",
       "    }\n",
       "</style>\n",
       "<table border=\"1\" class=\"dataframe\">\n",
       "  <thead>\n",
       "    <tr style=\"text-align: right;\">\n",
       "      <th></th>\n",
       "      <th>MinMaxScaler()</th>\n",
       "      <th>RobustScaler()</th>\n",
       "      <th>StandardScaler()</th>\n",
       "    </tr>\n",
       "  </thead>\n",
       "  <tbody>\n",
       "    <tr>\n",
       "      <th>MAE</th>\n",
       "      <td>3.438361</td>\n",
       "      <td>3.321305</td>\n",
       "      <td>3.623027</td>\n",
       "    </tr>\n",
       "    <tr>\n",
       "      <th>MSE</th>\n",
       "      <td>21.045918</td>\n",
       "      <td>20.317901</td>\n",
       "      <td>23.048861</td>\n",
       "    </tr>\n",
       "    <tr>\n",
       "      <th>RMSE</th>\n",
       "      <td>4.580768</td>\n",
       "      <td>4.497461</td>\n",
       "      <td>4.792348</td>\n",
       "    </tr>\n",
       "  </tbody>\n",
       "</table>\n",
       "</div>"
      ],
      "text/plain": [
       "      MinMaxScaler()  RobustScaler()  StandardScaler()\n",
       "MAE         3.438361        3.321305          3.623027\n",
       "MSE        21.045918       20.317901         23.048861\n",
       "RMSE        4.580768        4.497461          4.792348"
      ]
     },
     "execution_count": 33,
     "metadata": {},
     "output_type": "execute_result"
    }
   ],
   "source": [
    "err_df\n",
    "# -> RobustScaler"
   ]
  },
  {
   "cell_type": "code",
   "execution_count": 34,
   "metadata": {},
   "outputs": [],
   "source": [
    "err_df.to_csv(f'./scaler-err/{model_name}-wo.csv')"
   ]
  },
  {
   "cell_type": "code",
   "execution_count": 35,
   "metadata": {},
   "outputs": [],
   "source": [
    "# def highlight_min(s):\n",
    "#     is_min = s == s.min()\n",
    "#     return ['background-color: grey' if v else '' for v in is_min]"
   ]
  },
  {
   "cell_type": "code",
   "execution_count": 36,
   "metadata": {},
   "outputs": [],
   "source": [
    "# scalers_df.transpose().style.apply(highlight_min)"
   ]
  },
  {
   "cell_type": "markdown",
   "metadata": {},
   "source": [
    "# Random Forest Regressor"
   ]
  },
  {
   "cell_type": "code",
   "execution_count": 37,
   "metadata": {},
   "outputs": [],
   "source": [
    "model_name = 'rf'"
   ]
  },
  {
   "cell_type": "code",
   "execution_count": 38,
   "metadata": {},
   "outputs": [],
   "source": [
    "from sklearn.ensemble import RandomForestRegressor\n",
    "model = RandomForestRegressor()"
   ]
  },
  {
   "cell_type": "code",
   "execution_count": 39,
   "metadata": {},
   "outputs": [
    {
     "name": "stdout",
     "output_type": "stream",
     "text": [
      "MinMaxScaler() MAE-scores: [-2.9972226  -2.9875783  -2.95545789 -3.36789564 -3.2302077  -3.00011203\n",
      " -2.73231039 -2.99880202 -3.08519259 -3.2551668 ]\n",
      "MinMaxScaler() MSE-scores: [-15.63804221 -17.25400367 -15.15017385 -23.33901466 -23.09447721\n",
      " -18.1870698  -12.52985298 -17.39247288 -17.79647224 -19.05305125]\n",
      "MinMaxScaler() RMSE-scores: [-3.90692076 -4.16493694 -4.03904811 -4.76106457 -4.7799185  -4.25555535\n",
      " -3.62938881 -4.1475583  -4.14737459 -4.35019011]\n",
      "MinMaxScaler() done!\n",
      "\n",
      "\n",
      "RobustScaler() MAE-scores: [-3.02329248 -2.98882803 -2.98244818 -3.24864647 -3.16495413 -2.98169185\n",
      " -2.69927873 -3.03827643 -3.11737348 -3.20799682]\n",
      "RobustScaler() MSE-scores: [-15.3644501  -17.76783958 -15.75698487 -23.16352044 -23.29789049\n",
      " -18.30194333 -12.56600528 -17.24125263 -17.18944635 -18.99273683]\n",
      "RobustScaler() RMSE-scores: [-3.94801595 -4.19198187 -4.00185797 -4.82953268 -4.76461773 -4.22350057\n",
      " -3.57953216 -4.05042319 -4.15176703 -4.38837242]\n",
      "RobustScaler() done!\n",
      "\n",
      "\n",
      "StandardScaler() MAE-scores: [-3.0358275  -3.02079093 -2.96753081 -3.28553586 -3.21904291 -2.96383547\n",
      " -2.71913932 -3.01222061 -3.09088053 -3.13762781]\n",
      "StandardScaler() MSE-scores: [-15.29329447 -17.35419861 -15.50902762 -22.52347044 -23.20113614\n",
      " -18.32088491 -12.16554206 -17.47956849 -17.20581963 -18.95684536]\n",
      "StandardScaler() RMSE-scores: [-3.99451978 -4.23688228 -3.99933896 -4.80794049 -4.84032669 -4.2669306\n",
      " -3.53574916 -4.11749701 -4.19584259 -4.34350256]\n",
      "StandardScaler() done!\n",
      "\n",
      "\n"
     ]
    }
   ],
   "source": [
    "from sklearn.model_selection import cross_val_score\n",
    "\n",
    "scalers_str = []\n",
    "mae_list = []\n",
    "mse_list = []\n",
    "rmse_list = []\n",
    "\n",
    "for scaler in scalers: \n",
    "    # Scale data\n",
    "    X_train_s = scaler.transform(X_train)\n",
    "    X_test_s = scaler.transform(X_test)\n",
    "    \n",
    "    scores = cross_val_score(model,X_train_s,y_train, scoring='neg_mean_absolute_error',cv=10)\n",
    "    mae_list.append(abs(scores.mean()))\n",
    "    print(f\"{scaler} MAE-scores: {scores}\")\n",
    "    \n",
    "    scores = cross_val_score(model,X_train_s,y_train, scoring='neg_mean_squared_error',cv=10)\n",
    "    mse_list.append(abs(scores.mean()))\n",
    "    print(f\"{scaler} MSE-scores: {scores}\")\n",
    "\n",
    "    scores = cross_val_score(model,X_train_s,y_train, scoring='neg_root_mean_squared_error',cv=10)\n",
    "    rmse_list.append(abs(scores.mean()))\n",
    "    print(f\"{scaler} RMSE-scores: {scores}\")\n",
    "    \n",
    "    print(f\"{scaler} done!\")\n",
    "    print('\\n')\n",
    "    \n",
    "    scalers_str.append(str(scaler))"
   ]
  },
  {
   "cell_type": "code",
   "execution_count": 40,
   "metadata": {},
   "outputs": [],
   "source": [
    "def min_index(l):\n",
    "     return scalers_str[min(range(len(l)), key=l.__getitem__)]"
   ]
  },
  {
   "cell_type": "code",
   "execution_count": 41,
   "metadata": {},
   "outputs": [
    {
     "data": {
      "text/plain": [
       "'StandardScaler()'"
      ]
     },
     "execution_count": 41,
     "metadata": {},
     "output_type": "execute_result"
    }
   ],
   "source": [
    "min_index(mae_list)"
   ]
  },
  {
   "cell_type": "code",
   "execution_count": 42,
   "metadata": {},
   "outputs": [
    {
     "data": {
      "text/plain": [
       "'StandardScaler()'"
      ]
     },
     "execution_count": 42,
     "metadata": {},
     "output_type": "execute_result"
    }
   ],
   "source": [
    "min_index(mse_list)"
   ]
  },
  {
   "cell_type": "code",
   "execution_count": 43,
   "metadata": {},
   "outputs": [
    {
     "data": {
      "text/plain": [
       "'RobustScaler()'"
      ]
     },
     "execution_count": 43,
     "metadata": {},
     "output_type": "execute_result"
    }
   ],
   "source": [
    "min_index(rmse_list)"
   ]
  },
  {
   "cell_type": "code",
   "execution_count": 44,
   "metadata": {},
   "outputs": [],
   "source": [
    "err_list = [mae_list, mse_list, rmse_list]"
   ]
  },
  {
   "cell_type": "code",
   "execution_count": 45,
   "metadata": {},
   "outputs": [],
   "source": [
    "err_df = pd.DataFrame(columns=scalers_str, data=err_list, index=['MAE','MSE','RMSE'])"
   ]
  },
  {
   "cell_type": "code",
   "execution_count": 46,
   "metadata": {},
   "outputs": [
    {
     "data": {
      "text/html": [
       "<div>\n",
       "<style scoped>\n",
       "    .dataframe tbody tr th:only-of-type {\n",
       "        vertical-align: middle;\n",
       "    }\n",
       "\n",
       "    .dataframe tbody tr th {\n",
       "        vertical-align: top;\n",
       "    }\n",
       "\n",
       "    .dataframe thead th {\n",
       "        text-align: right;\n",
       "    }\n",
       "</style>\n",
       "<table border=\"1\" class=\"dataframe\">\n",
       "  <thead>\n",
       "    <tr style=\"text-align: right;\">\n",
       "      <th></th>\n",
       "      <th>MinMaxScaler()</th>\n",
       "      <th>RobustScaler()</th>\n",
       "      <th>StandardScaler()</th>\n",
       "    </tr>\n",
       "  </thead>\n",
       "  <tbody>\n",
       "    <tr>\n",
       "      <th>MAE</th>\n",
       "      <td>3.060995</td>\n",
       "      <td>3.045279</td>\n",
       "      <td>3.045243</td>\n",
       "    </tr>\n",
       "    <tr>\n",
       "      <th>MSE</th>\n",
       "      <td>17.943463</td>\n",
       "      <td>17.964207</td>\n",
       "      <td>17.800979</td>\n",
       "    </tr>\n",
       "    <tr>\n",
       "      <th>RMSE</th>\n",
       "      <td>4.218196</td>\n",
       "      <td>4.212960</td>\n",
       "      <td>4.233853</td>\n",
       "    </tr>\n",
       "  </tbody>\n",
       "</table>\n",
       "</div>"
      ],
      "text/plain": [
       "      MinMaxScaler()  RobustScaler()  StandardScaler()\n",
       "MAE         3.060995        3.045279          3.045243\n",
       "MSE        17.943463       17.964207         17.800979\n",
       "RMSE        4.218196        4.212960          4.233853"
      ]
     },
     "execution_count": 46,
     "metadata": {},
     "output_type": "execute_result"
    }
   ],
   "source": [
    "err_df\n",
    "# -> RobustScaler (marginal difference)"
   ]
  },
  {
   "cell_type": "code",
   "execution_count": 47,
   "metadata": {},
   "outputs": [],
   "source": [
    "err_df.to_csv(f'./scaler-err/{model_name}-wo.csv')"
   ]
  },
  {
   "cell_type": "markdown",
   "metadata": {},
   "source": [
    "DONE!"
   ]
  },
  {
   "cell_type": "code",
   "execution_count": null,
   "metadata": {},
   "outputs": [],
   "source": []
  }
 ],
 "metadata": {
  "kernelspec": {
   "display_name": "Python 3",
   "language": "python",
   "name": "python3"
  },
  "language_info": {
   "codemirror_mode": {
    "name": "ipython",
    "version": 3
   },
   "file_extension": ".py",
   "mimetype": "text/x-python",
   "name": "python",
   "nbconvert_exporter": "python",
   "pygments_lexer": "ipython3",
   "version": "3.8.6"
  },
  "toc-autonumbering": true
 },
 "nbformat": 4,
 "nbformat_minor": 4
}
