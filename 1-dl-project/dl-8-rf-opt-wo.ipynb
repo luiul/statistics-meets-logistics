{
 "cells": [
  {
   "cell_type": "code",
   "execution_count": 1,
   "id": "ordinary-blond",
   "metadata": {},
   "outputs": [],
   "source": [
    "# MODIFY! \n",
    "# use RobustScaler! \n",
    "model_name = 'rf-wo'"
   ]
  },
  {
   "cell_type": "markdown",
   "id": "split-jimmy",
   "metadata": {},
   "source": [
    "# Import Libraries & Data "
   ]
  },
  {
   "cell_type": "code",
   "execution_count": 2,
   "id": "damaged-andrews",
   "metadata": {},
   "outputs": [],
   "source": [
    "import numpy as np\n",
    "import pandas as pd\n",
    "import matplotlib.pyplot as plt\n",
    "import seaborn as sns"
   ]
  },
  {
   "cell_type": "code",
   "execution_count": 3,
   "id": "disturbed-comparison",
   "metadata": {},
   "outputs": [],
   "source": [
    "df = pd.read_csv('./data/d-wo-ns.csv')\n",
    "X = df.drop('throughput',axis=1)\n",
    "y = df['throughput']"
   ]
  },
  {
   "cell_type": "markdown",
   "id": "premier-reporter",
   "metadata": {},
   "source": [
    "---"
   ]
  },
  {
   "cell_type": "markdown",
   "id": "moving-revelation",
   "metadata": {},
   "source": [
    "# Scale Data"
   ]
  },
  {
   "cell_type": "code",
   "execution_count": 4,
   "id": "postal-desktop",
   "metadata": {},
   "outputs": [
    {
     "data": {
      "text/plain": [
       "RobustScaler()"
      ]
     },
     "execution_count": 4,
     "metadata": {},
     "output_type": "execute_result"
    }
   ],
   "source": [
    "# Split the data\n",
    "from sklearn.model_selection import train_test_split\n",
    "X_train, X_test, y_train, y_test = train_test_split(X, y, test_size=0.1, random_state=42)\n",
    "\n",
    "# Scale the data\n",
    "from sklearn.preprocessing import RobustScaler\n",
    "scaler = RobustScaler()\n",
    "scaler.fit(X_train)"
   ]
  },
  {
   "cell_type": "code",
   "execution_count": 5,
   "id": "sporting-backing",
   "metadata": {},
   "outputs": [],
   "source": [
    "X_train = scaler.transform(X_train)\n",
    "X_test = scaler.transform(X_test)"
   ]
  },
  {
   "cell_type": "markdown",
   "id": "false-puzzle",
   "metadata": {},
   "source": [
    "# Determine Hyperparameters"
   ]
  },
  {
   "cell_type": "markdown",
   "id": "welsh-participant",
   "metadata": {},
   "source": [
    "## Determine Max Features"
   ]
  },
  {
   "cell_type": "code",
   "execution_count": 6,
   "id": "younger-shanghai",
   "metadata": {},
   "outputs": [
    {
     "data": {
      "text/plain": [
       "RandomForestRegressor(warm_start=True)"
      ]
     },
     "execution_count": 6,
     "metadata": {},
     "output_type": "execute_result"
    }
   ],
   "source": [
    "# MODIFY!\n",
    "from sklearn.ensemble import RandomForestRegressor\n",
    "\n",
    "model = RandomForestRegressor(warm_start=True)\n",
    "model"
   ]
  },
  {
   "cell_type": "code",
   "execution_count": 7,
   "id": "unlikely-notebook",
   "metadata": {},
   "outputs": [],
   "source": [
    "p_grid = {\n",
    "    'max_features':['auto', 'sqrt', 'log2']\n",
    "}"
   ]
  },
  {
   "cell_type": "code",
   "execution_count": 8,
   "id": "palestinian-american",
   "metadata": {},
   "outputs": [],
   "source": [
    "from sklearn.model_selection import GridSearchCV"
   ]
  },
  {
   "cell_type": "code",
   "execution_count": 9,
   "id": "useful-birmingham",
   "metadata": {},
   "outputs": [],
   "source": [
    "grid_model = GridSearchCV(\n",
    "    estimator=model,\n",
    "    param_grid =p_grid, \n",
    "    scoring='neg_mean_squared_error',\n",
    "    cv=10, \n",
    "    verbose=1\n",
    ")"
   ]
  },
  {
   "cell_type": "code",
   "execution_count": 10,
   "id": "electoral-cutting",
   "metadata": {},
   "outputs": [
    {
     "name": "stdout",
     "output_type": "stream",
     "text": [
      "Fitting 10 folds for each of 3 candidates, totalling 30 fits\n"
     ]
    },
    {
     "name": "stderr",
     "output_type": "stream",
     "text": [
      "[Parallel(n_jobs=1)]: Using backend SequentialBackend with 1 concurrent workers.\n",
      "[Parallel(n_jobs=1)]: Done  30 out of  30 | elapsed:   27.0s finished\n"
     ]
    },
    {
     "data": {
      "text/plain": [
       "GridSearchCV(cv=10, estimator=RandomForestRegressor(warm_start=True),\n",
       "             param_grid={'max_features': ['auto', 'sqrt', 'log2']},\n",
       "             scoring='neg_mean_squared_error', verbose=1)"
      ]
     },
     "execution_count": 10,
     "metadata": {},
     "output_type": "execute_result"
    }
   ],
   "source": [
    "grid_model.fit(X_train,y_train)"
   ]
  },
  {
   "cell_type": "code",
   "execution_count": 11,
   "id": "compound-bathroom",
   "metadata": {},
   "outputs": [
    {
     "data": {
      "text/plain": [
       "{'max_features': 'auto'}"
      ]
     },
     "execution_count": 11,
     "metadata": {},
     "output_type": "execute_result"
    }
   ],
   "source": [
    "grid_model.best_params_"
   ]
  },
  {
   "cell_type": "code",
   "execution_count": 12,
   "id": "italic-telling",
   "metadata": {},
   "outputs": [],
   "source": [
    "hp = pd.Series(name=f'{model_name} HP', data=grid_model.best_params_)"
   ]
  },
  {
   "cell_type": "code",
   "execution_count": 13,
   "id": "approximate-favor",
   "metadata": {},
   "outputs": [
    {
     "data": {
      "text/plain": [
       "max_features    auto\n",
       "Name: rf-wo HP, dtype: object"
      ]
     },
     "execution_count": 13,
     "metadata": {},
     "output_type": "execute_result"
    }
   ],
   "source": [
    "hp"
   ]
  },
  {
   "cell_type": "code",
   "execution_count": 14,
   "id": "black-reply",
   "metadata": {},
   "outputs": [],
   "source": [
    "hp.to_csv(f'./hyperparameters/{model_name}.csv')"
   ]
  },
  {
   "cell_type": "markdown",
   "id": "packed-discharge",
   "metadata": {},
   "source": [
    "## Determine Number of Estimators"
   ]
  },
  {
   "cell_type": "code",
   "execution_count": 15,
   "id": "therapeutic-married",
   "metadata": {},
   "outputs": [
    {
     "name": "stdout",
     "output_type": "stream",
     "text": [
      "Starting 5 estimators\n",
      "Done with 5 estimators\n",
      "Elapsed time: 1.1123089790344238\n",
      "\n",
      "\n",
      "Starting 10 estimators\n",
      "Done with 10 estimators\n",
      "Elapsed time: 2.145754098892212\n",
      "\n",
      "\n",
      "Starting 25 estimators\n",
      "Done with 25 estimators\n",
      "Elapsed time: 4.612892150878906\n",
      "\n",
      "\n",
      "Starting 50 estimators\n",
      "Done with 50 estimators\n",
      "Elapsed time: 9.08408808708191\n",
      "\n",
      "\n",
      "Starting 100 estimators\n",
      "Done with 100 estimators\n",
      "Elapsed time: 18.024692058563232\n",
      "\n",
      "\n",
      "Starting 500 estimators\n",
      "Done with 500 estimators\n",
      "Elapsed time: 127.84653425216675\n",
      "\n",
      "\n",
      "Starting 1000 estimators\n",
      "Done with 1000 estimators\n",
      "Elapsed time: 222.815034866333\n",
      "\n",
      "\n",
      "Starting 2000 estimators\n",
      "Done with 2000 estimators\n",
      "Elapsed time: 388.0314869880676\n",
      "\n",
      "\n"
     ]
    }
   ],
   "source": [
    "# MODIFY!\n",
    "import time\n",
    "\n",
    "estimators = [5,10,25,50,100,500,1000,2000]\n",
    "scores_list = []\n",
    "\n",
    "from sklearn.ensemble import RandomForestRegressor\n",
    "\n",
    "for e in estimators: \n",
    "    start = time.time()\n",
    "    print(f'Starting {e} estimators')\n",
    "    score_model = RandomForestRegressor(\n",
    "        n_estimators=e,\n",
    "        max_features=grid_model.best_params_['max_features']\n",
    "    )\n",
    "    \n",
    "    from sklearn.model_selection import cross_validate\n",
    "\n",
    "    scores = cross_validate(\n",
    "        score_model, \n",
    "        X_train, \n",
    "        y_train,\n",
    "        scoring=[\n",
    "            'neg_mean_absolute_error',\n",
    "            'neg_mean_squared_error',\n",
    "            'neg_root_mean_squared_error'\n",
    "        ],\n",
    "        cv=10\n",
    "    )\n",
    "    \n",
    "    scores = pd.DataFrame(scores)\n",
    "    scores\n",
    "    mean_scores = scores.mean()\n",
    "    scores_list.append(mean_scores)\n",
    "    print(f'Done with {e} estimators')\n",
    "    end = time.time()\n",
    "    print(f'Elapsed time: {end - start}')\n",
    "    print('\\n')"
   ]
  },
  {
   "cell_type": "code",
   "execution_count": 16,
   "id": "dressed-residence",
   "metadata": {},
   "outputs": [],
   "source": [
    "scores_df = pd.DataFrame(scores_list)"
   ]
  },
  {
   "cell_type": "code",
   "execution_count": 17,
   "id": "patient-skirt",
   "metadata": {},
   "outputs": [
    {
     "data": {
      "text/html": [
       "<div>\n",
       "<style scoped>\n",
       "    .dataframe tbody tr th:only-of-type {\n",
       "        vertical-align: middle;\n",
       "    }\n",
       "\n",
       "    .dataframe tbody tr th {\n",
       "        vertical-align: top;\n",
       "    }\n",
       "\n",
       "    .dataframe thead th {\n",
       "        text-align: right;\n",
       "    }\n",
       "</style>\n",
       "<table border=\"1\" class=\"dataframe\">\n",
       "  <thead>\n",
       "    <tr style=\"text-align: right;\">\n",
       "      <th></th>\n",
       "      <th>fit_time</th>\n",
       "      <th>score_time</th>\n",
       "      <th>test_neg_mean_absolute_error</th>\n",
       "      <th>test_neg_mean_squared_error</th>\n",
       "      <th>test_neg_root_mean_squared_error</th>\n",
       "    </tr>\n",
       "  </thead>\n",
       "  <tbody>\n",
       "    <tr>\n",
       "      <th>0</th>\n",
       "      <td>0.107624</td>\n",
       "      <td>0.002794</td>\n",
       "      <td>-3.311402</td>\n",
       "      <td>-21.016407</td>\n",
       "      <td>-4.573499</td>\n",
       "    </tr>\n",
       "    <tr>\n",
       "      <th>1</th>\n",
       "      <td>0.210628</td>\n",
       "      <td>0.003193</td>\n",
       "      <td>-3.230063</td>\n",
       "      <td>-19.910406</td>\n",
       "      <td>-4.449278</td>\n",
       "    </tr>\n",
       "    <tr>\n",
       "      <th>2</th>\n",
       "      <td>0.455510</td>\n",
       "      <td>0.004516</td>\n",
       "      <td>-3.096841</td>\n",
       "      <td>-18.383631</td>\n",
       "      <td>-4.272730</td>\n",
       "    </tr>\n",
       "    <tr>\n",
       "      <th>3</th>\n",
       "      <td>0.899361</td>\n",
       "      <td>0.007370</td>\n",
       "      <td>-3.057131</td>\n",
       "      <td>-18.085787</td>\n",
       "      <td>-4.239436</td>\n",
       "    </tr>\n",
       "    <tr>\n",
       "      <th>4</th>\n",
       "      <td>1.786931</td>\n",
       "      <td>0.013056</td>\n",
       "      <td>-3.057719</td>\n",
       "      <td>-17.936412</td>\n",
       "      <td>-4.220029</td>\n",
       "    </tr>\n",
       "    <tr>\n",
       "      <th>5</th>\n",
       "      <td>12.656635</td>\n",
       "      <td>0.113165</td>\n",
       "      <td>-3.042380</td>\n",
       "      <td>-17.840698</td>\n",
       "      <td>-4.208618</td>\n",
       "    </tr>\n",
       "    <tr>\n",
       "      <th>6</th>\n",
       "      <td>22.052606</td>\n",
       "      <td>0.202752</td>\n",
       "      <td>-3.033254</td>\n",
       "      <td>-17.763239</td>\n",
       "      <td>-4.199867</td>\n",
       "    </tr>\n",
       "    <tr>\n",
       "      <th>7</th>\n",
       "      <td>38.463426</td>\n",
       "      <td>0.293668</td>\n",
       "      <td>-3.030812</td>\n",
       "      <td>-17.745160</td>\n",
       "      <td>-4.197193</td>\n",
       "    </tr>\n",
       "  </tbody>\n",
       "</table>\n",
       "</div>"
      ],
      "text/plain": [
       "    fit_time  score_time  test_neg_mean_absolute_error  \\\n",
       "0   0.107624    0.002794                     -3.311402   \n",
       "1   0.210628    0.003193                     -3.230063   \n",
       "2   0.455510    0.004516                     -3.096841   \n",
       "3   0.899361    0.007370                     -3.057131   \n",
       "4   1.786931    0.013056                     -3.057719   \n",
       "5  12.656635    0.113165                     -3.042380   \n",
       "6  22.052606    0.202752                     -3.033254   \n",
       "7  38.463426    0.293668                     -3.030812   \n",
       "\n",
       "   test_neg_mean_squared_error  test_neg_root_mean_squared_error  \n",
       "0                   -21.016407                         -4.573499  \n",
       "1                   -19.910406                         -4.449278  \n",
       "2                   -18.383631                         -4.272730  \n",
       "3                   -18.085787                         -4.239436  \n",
       "4                   -17.936412                         -4.220029  \n",
       "5                   -17.840698                         -4.208618  \n",
       "6                   -17.763239                         -4.199867  \n",
       "7                   -17.745160                         -4.197193  "
      ]
     },
     "execution_count": 17,
     "metadata": {},
     "output_type": "execute_result"
    }
   ],
   "source": [
    "scores_df"
   ]
  },
  {
   "cell_type": "code",
   "execution_count": 18,
   "id": "sacred-beauty",
   "metadata": {},
   "outputs": [],
   "source": [
    "scores_df['Est'] = estimators"
   ]
  },
  {
   "cell_type": "code",
   "execution_count": 19,
   "id": "crude-austin",
   "metadata": {},
   "outputs": [
    {
     "data": {
      "text/html": [
       "<div>\n",
       "<style scoped>\n",
       "    .dataframe tbody tr th:only-of-type {\n",
       "        vertical-align: middle;\n",
       "    }\n",
       "\n",
       "    .dataframe tbody tr th {\n",
       "        vertical-align: top;\n",
       "    }\n",
       "\n",
       "    .dataframe thead th {\n",
       "        text-align: right;\n",
       "    }\n",
       "</style>\n",
       "<table border=\"1\" class=\"dataframe\">\n",
       "  <thead>\n",
       "    <tr style=\"text-align: right;\">\n",
       "      <th></th>\n",
       "      <th>fit_time</th>\n",
       "      <th>score_time</th>\n",
       "      <th>test_neg_mean_absolute_error</th>\n",
       "      <th>test_neg_mean_squared_error</th>\n",
       "      <th>test_neg_root_mean_squared_error</th>\n",
       "      <th>Est</th>\n",
       "    </tr>\n",
       "  </thead>\n",
       "  <tbody>\n",
       "    <tr>\n",
       "      <th>0</th>\n",
       "      <td>0.107624</td>\n",
       "      <td>0.002794</td>\n",
       "      <td>-3.311402</td>\n",
       "      <td>-21.016407</td>\n",
       "      <td>-4.573499</td>\n",
       "      <td>5</td>\n",
       "    </tr>\n",
       "    <tr>\n",
       "      <th>1</th>\n",
       "      <td>0.210628</td>\n",
       "      <td>0.003193</td>\n",
       "      <td>-3.230063</td>\n",
       "      <td>-19.910406</td>\n",
       "      <td>-4.449278</td>\n",
       "      <td>10</td>\n",
       "    </tr>\n",
       "    <tr>\n",
       "      <th>2</th>\n",
       "      <td>0.455510</td>\n",
       "      <td>0.004516</td>\n",
       "      <td>-3.096841</td>\n",
       "      <td>-18.383631</td>\n",
       "      <td>-4.272730</td>\n",
       "      <td>25</td>\n",
       "    </tr>\n",
       "    <tr>\n",
       "      <th>3</th>\n",
       "      <td>0.899361</td>\n",
       "      <td>0.007370</td>\n",
       "      <td>-3.057131</td>\n",
       "      <td>-18.085787</td>\n",
       "      <td>-4.239436</td>\n",
       "      <td>50</td>\n",
       "    </tr>\n",
       "    <tr>\n",
       "      <th>4</th>\n",
       "      <td>1.786931</td>\n",
       "      <td>0.013056</td>\n",
       "      <td>-3.057719</td>\n",
       "      <td>-17.936412</td>\n",
       "      <td>-4.220029</td>\n",
       "      <td>100</td>\n",
       "    </tr>\n",
       "    <tr>\n",
       "      <th>5</th>\n",
       "      <td>12.656635</td>\n",
       "      <td>0.113165</td>\n",
       "      <td>-3.042380</td>\n",
       "      <td>-17.840698</td>\n",
       "      <td>-4.208618</td>\n",
       "      <td>500</td>\n",
       "    </tr>\n",
       "    <tr>\n",
       "      <th>6</th>\n",
       "      <td>22.052606</td>\n",
       "      <td>0.202752</td>\n",
       "      <td>-3.033254</td>\n",
       "      <td>-17.763239</td>\n",
       "      <td>-4.199867</td>\n",
       "      <td>1000</td>\n",
       "    </tr>\n",
       "    <tr>\n",
       "      <th>7</th>\n",
       "      <td>38.463426</td>\n",
       "      <td>0.293668</td>\n",
       "      <td>-3.030812</td>\n",
       "      <td>-17.745160</td>\n",
       "      <td>-4.197193</td>\n",
       "      <td>2000</td>\n",
       "    </tr>\n",
       "  </tbody>\n",
       "</table>\n",
       "</div>"
      ],
      "text/plain": [
       "    fit_time  score_time  test_neg_mean_absolute_error  \\\n",
       "0   0.107624    0.002794                     -3.311402   \n",
       "1   0.210628    0.003193                     -3.230063   \n",
       "2   0.455510    0.004516                     -3.096841   \n",
       "3   0.899361    0.007370                     -3.057131   \n",
       "4   1.786931    0.013056                     -3.057719   \n",
       "5  12.656635    0.113165                     -3.042380   \n",
       "6  22.052606    0.202752                     -3.033254   \n",
       "7  38.463426    0.293668                     -3.030812   \n",
       "\n",
       "   test_neg_mean_squared_error  test_neg_root_mean_squared_error   Est  \n",
       "0                   -21.016407                         -4.573499     5  \n",
       "1                   -19.910406                         -4.449278    10  \n",
       "2                   -18.383631                         -4.272730    25  \n",
       "3                   -18.085787                         -4.239436    50  \n",
       "4                   -17.936412                         -4.220029   100  \n",
       "5                   -17.840698                         -4.208618   500  \n",
       "6                   -17.763239                         -4.199867  1000  \n",
       "7                   -17.745160                         -4.197193  2000  "
      ]
     },
     "execution_count": 19,
     "metadata": {},
     "output_type": "execute_result"
    }
   ],
   "source": [
    "scores_df"
   ]
  },
  {
   "cell_type": "markdown",
   "id": "growing-complaint",
   "metadata": {},
   "source": [
    "# Export Scores for Number of Estimators"
   ]
  },
  {
   "cell_type": "code",
   "execution_count": 20,
   "id": "empirical-belly",
   "metadata": {},
   "outputs": [],
   "source": [
    "# mean_scores"
   ]
  },
  {
   "cell_type": "code",
   "execution_count": 21,
   "id": "willing-moral",
   "metadata": {},
   "outputs": [],
   "source": [
    "scores_df = scores_df.rename(columns={\n",
    "    'fit_time':'Fit Time',\n",
    "    'score_time':'Score Time',\n",
    "    'test_neg_mean_absolute_error':'MAE',\n",
    "    'test_neg_mean_squared_error':'MSE',\n",
    "    'test_neg_root_mean_squared_error':'RMSE'\n",
    "})"
   ]
  },
  {
   "cell_type": "code",
   "execution_count": 22,
   "id": "decent-armor",
   "metadata": {},
   "outputs": [
    {
     "data": {
      "text/html": [
       "<div>\n",
       "<style scoped>\n",
       "    .dataframe tbody tr th:only-of-type {\n",
       "        vertical-align: middle;\n",
       "    }\n",
       "\n",
       "    .dataframe tbody tr th {\n",
       "        vertical-align: top;\n",
       "    }\n",
       "\n",
       "    .dataframe thead th {\n",
       "        text-align: right;\n",
       "    }\n",
       "</style>\n",
       "<table border=\"1\" class=\"dataframe\">\n",
       "  <thead>\n",
       "    <tr style=\"text-align: right;\">\n",
       "      <th></th>\n",
       "      <th>Fit Time</th>\n",
       "      <th>Score Time</th>\n",
       "      <th>MAE</th>\n",
       "      <th>MSE</th>\n",
       "      <th>RMSE</th>\n",
       "      <th>Est</th>\n",
       "    </tr>\n",
       "  </thead>\n",
       "  <tbody>\n",
       "    <tr>\n",
       "      <th>0</th>\n",
       "      <td>0.107624</td>\n",
       "      <td>0.002794</td>\n",
       "      <td>-3.311402</td>\n",
       "      <td>-21.016407</td>\n",
       "      <td>-4.573499</td>\n",
       "      <td>5</td>\n",
       "    </tr>\n",
       "    <tr>\n",
       "      <th>1</th>\n",
       "      <td>0.210628</td>\n",
       "      <td>0.003193</td>\n",
       "      <td>-3.230063</td>\n",
       "      <td>-19.910406</td>\n",
       "      <td>-4.449278</td>\n",
       "      <td>10</td>\n",
       "    </tr>\n",
       "    <tr>\n",
       "      <th>2</th>\n",
       "      <td>0.455510</td>\n",
       "      <td>0.004516</td>\n",
       "      <td>-3.096841</td>\n",
       "      <td>-18.383631</td>\n",
       "      <td>-4.272730</td>\n",
       "      <td>25</td>\n",
       "    </tr>\n",
       "    <tr>\n",
       "      <th>3</th>\n",
       "      <td>0.899361</td>\n",
       "      <td>0.007370</td>\n",
       "      <td>-3.057131</td>\n",
       "      <td>-18.085787</td>\n",
       "      <td>-4.239436</td>\n",
       "      <td>50</td>\n",
       "    </tr>\n",
       "    <tr>\n",
       "      <th>4</th>\n",
       "      <td>1.786931</td>\n",
       "      <td>0.013056</td>\n",
       "      <td>-3.057719</td>\n",
       "      <td>-17.936412</td>\n",
       "      <td>-4.220029</td>\n",
       "      <td>100</td>\n",
       "    </tr>\n",
       "    <tr>\n",
       "      <th>5</th>\n",
       "      <td>12.656635</td>\n",
       "      <td>0.113165</td>\n",
       "      <td>-3.042380</td>\n",
       "      <td>-17.840698</td>\n",
       "      <td>-4.208618</td>\n",
       "      <td>500</td>\n",
       "    </tr>\n",
       "    <tr>\n",
       "      <th>6</th>\n",
       "      <td>22.052606</td>\n",
       "      <td>0.202752</td>\n",
       "      <td>-3.033254</td>\n",
       "      <td>-17.763239</td>\n",
       "      <td>-4.199867</td>\n",
       "      <td>1000</td>\n",
       "    </tr>\n",
       "    <tr>\n",
       "      <th>7</th>\n",
       "      <td>38.463426</td>\n",
       "      <td>0.293668</td>\n",
       "      <td>-3.030812</td>\n",
       "      <td>-17.745160</td>\n",
       "      <td>-4.197193</td>\n",
       "      <td>2000</td>\n",
       "    </tr>\n",
       "  </tbody>\n",
       "</table>\n",
       "</div>"
      ],
      "text/plain": [
       "    Fit Time  Score Time       MAE        MSE      RMSE   Est\n",
       "0   0.107624    0.002794 -3.311402 -21.016407 -4.573499     5\n",
       "1   0.210628    0.003193 -3.230063 -19.910406 -4.449278    10\n",
       "2   0.455510    0.004516 -3.096841 -18.383631 -4.272730    25\n",
       "3   0.899361    0.007370 -3.057131 -18.085787 -4.239436    50\n",
       "4   1.786931    0.013056 -3.057719 -17.936412 -4.220029   100\n",
       "5  12.656635    0.113165 -3.042380 -17.840698 -4.208618   500\n",
       "6  22.052606    0.202752 -3.033254 -17.763239 -4.199867  1000\n",
       "7  38.463426    0.293668 -3.030812 -17.745160 -4.197193  2000"
      ]
     },
     "execution_count": 22,
     "metadata": {},
     "output_type": "execute_result"
    }
   ],
   "source": [
    "scores_df"
   ]
  },
  {
   "cell_type": "code",
   "execution_count": 23,
   "id": "equal-immunology",
   "metadata": {},
   "outputs": [],
   "source": [
    "scores_df[['MAE','MSE','RMSE']] = scores_df[['MAE','MSE','RMSE']].apply(lambda x : abs(x))"
   ]
  },
  {
   "cell_type": "code",
   "execution_count": 24,
   "id": "injured-reader",
   "metadata": {},
   "outputs": [
    {
     "data": {
      "text/html": [
       "<div>\n",
       "<style scoped>\n",
       "    .dataframe tbody tr th:only-of-type {\n",
       "        vertical-align: middle;\n",
       "    }\n",
       "\n",
       "    .dataframe tbody tr th {\n",
       "        vertical-align: top;\n",
       "    }\n",
       "\n",
       "    .dataframe thead th {\n",
       "        text-align: right;\n",
       "    }\n",
       "</style>\n",
       "<table border=\"1\" class=\"dataframe\">\n",
       "  <thead>\n",
       "    <tr style=\"text-align: right;\">\n",
       "      <th></th>\n",
       "      <th>Fit Time</th>\n",
       "      <th>Score Time</th>\n",
       "      <th>MAE</th>\n",
       "      <th>MSE</th>\n",
       "      <th>RMSE</th>\n",
       "      <th>Est</th>\n",
       "    </tr>\n",
       "  </thead>\n",
       "  <tbody>\n",
       "    <tr>\n",
       "      <th>0</th>\n",
       "      <td>0.107624</td>\n",
       "      <td>0.002794</td>\n",
       "      <td>3.311402</td>\n",
       "      <td>21.016407</td>\n",
       "      <td>4.573499</td>\n",
       "      <td>5</td>\n",
       "    </tr>\n",
       "    <tr>\n",
       "      <th>1</th>\n",
       "      <td>0.210628</td>\n",
       "      <td>0.003193</td>\n",
       "      <td>3.230063</td>\n",
       "      <td>19.910406</td>\n",
       "      <td>4.449278</td>\n",
       "      <td>10</td>\n",
       "    </tr>\n",
       "    <tr>\n",
       "      <th>2</th>\n",
       "      <td>0.455510</td>\n",
       "      <td>0.004516</td>\n",
       "      <td>3.096841</td>\n",
       "      <td>18.383631</td>\n",
       "      <td>4.272730</td>\n",
       "      <td>25</td>\n",
       "    </tr>\n",
       "    <tr>\n",
       "      <th>3</th>\n",
       "      <td>0.899361</td>\n",
       "      <td>0.007370</td>\n",
       "      <td>3.057131</td>\n",
       "      <td>18.085787</td>\n",
       "      <td>4.239436</td>\n",
       "      <td>50</td>\n",
       "    </tr>\n",
       "    <tr>\n",
       "      <th>4</th>\n",
       "      <td>1.786931</td>\n",
       "      <td>0.013056</td>\n",
       "      <td>3.057719</td>\n",
       "      <td>17.936412</td>\n",
       "      <td>4.220029</td>\n",
       "      <td>100</td>\n",
       "    </tr>\n",
       "    <tr>\n",
       "      <th>5</th>\n",
       "      <td>12.656635</td>\n",
       "      <td>0.113165</td>\n",
       "      <td>3.042380</td>\n",
       "      <td>17.840698</td>\n",
       "      <td>4.208618</td>\n",
       "      <td>500</td>\n",
       "    </tr>\n",
       "    <tr>\n",
       "      <th>6</th>\n",
       "      <td>22.052606</td>\n",
       "      <td>0.202752</td>\n",
       "      <td>3.033254</td>\n",
       "      <td>17.763239</td>\n",
       "      <td>4.199867</td>\n",
       "      <td>1000</td>\n",
       "    </tr>\n",
       "    <tr>\n",
       "      <th>7</th>\n",
       "      <td>38.463426</td>\n",
       "      <td>0.293668</td>\n",
       "      <td>3.030812</td>\n",
       "      <td>17.745160</td>\n",
       "      <td>4.197193</td>\n",
       "      <td>2000</td>\n",
       "    </tr>\n",
       "  </tbody>\n",
       "</table>\n",
       "</div>"
      ],
      "text/plain": [
       "    Fit Time  Score Time       MAE        MSE      RMSE   Est\n",
       "0   0.107624    0.002794  3.311402  21.016407  4.573499     5\n",
       "1   0.210628    0.003193  3.230063  19.910406  4.449278    10\n",
       "2   0.455510    0.004516  3.096841  18.383631  4.272730    25\n",
       "3   0.899361    0.007370  3.057131  18.085787  4.239436    50\n",
       "4   1.786931    0.013056  3.057719  17.936412  4.220029   100\n",
       "5  12.656635    0.113165  3.042380  17.840698  4.208618   500\n",
       "6  22.052606    0.202752  3.033254  17.763239  4.199867  1000\n",
       "7  38.463426    0.293668  3.030812  17.745160  4.197193  2000"
      ]
     },
     "execution_count": 24,
     "metadata": {},
     "output_type": "execute_result"
    }
   ],
   "source": [
    "scores_df\n",
    "# we go for 25 estimations. Note that from 25 -> 50 estimations the error metrics worsen"
   ]
  },
  {
   "cell_type": "code",
   "execution_count": 25,
   "id": "significant-latitude",
   "metadata": {},
   "outputs": [],
   "source": [
    "scores_df.to_csv(f'./est-scores/{model_name}-est.csv')"
   ]
  },
  {
   "cell_type": "code",
   "execution_count": 26,
   "id": "increasing-mandate",
   "metadata": {},
   "outputs": [],
   "source": [
    "pct_scores_df = scores_df.pct_change()"
   ]
  },
  {
   "cell_type": "code",
   "execution_count": 27,
   "id": "surprised-light",
   "metadata": {},
   "outputs": [
    {
     "data": {
      "text/html": [
       "<div>\n",
       "<style scoped>\n",
       "    .dataframe tbody tr th:only-of-type {\n",
       "        vertical-align: middle;\n",
       "    }\n",
       "\n",
       "    .dataframe tbody tr th {\n",
       "        vertical-align: top;\n",
       "    }\n",
       "\n",
       "    .dataframe thead th {\n",
       "        text-align: right;\n",
       "    }\n",
       "</style>\n",
       "<table border=\"1\" class=\"dataframe\">\n",
       "  <thead>\n",
       "    <tr style=\"text-align: right;\">\n",
       "      <th></th>\n",
       "      <th>Fit Time</th>\n",
       "      <th>Score Time</th>\n",
       "      <th>MAE</th>\n",
       "      <th>MSE</th>\n",
       "      <th>RMSE</th>\n",
       "      <th>Est</th>\n",
       "    </tr>\n",
       "  </thead>\n",
       "  <tbody>\n",
       "    <tr>\n",
       "      <th>0</th>\n",
       "      <td>NaN</td>\n",
       "      <td>NaN</td>\n",
       "      <td>NaN</td>\n",
       "      <td>NaN</td>\n",
       "      <td>NaN</td>\n",
       "      <td>NaN</td>\n",
       "    </tr>\n",
       "    <tr>\n",
       "      <th>1</th>\n",
       "      <td>0.957074</td>\n",
       "      <td>0.142995</td>\n",
       "      <td>-0.024563</td>\n",
       "      <td>-0.052626</td>\n",
       "      <td>-0.027161</td>\n",
       "      <td>1.0</td>\n",
       "    </tr>\n",
       "    <tr>\n",
       "      <th>2</th>\n",
       "      <td>1.162624</td>\n",
       "      <td>0.414343</td>\n",
       "      <td>-0.041244</td>\n",
       "      <td>-0.076682</td>\n",
       "      <td>-0.039680</td>\n",
       "      <td>1.5</td>\n",
       "    </tr>\n",
       "    <tr>\n",
       "      <th>3</th>\n",
       "      <td>0.974405</td>\n",
       "      <td>0.631838</td>\n",
       "      <td>-0.012823</td>\n",
       "      <td>-0.016202</td>\n",
       "      <td>-0.007792</td>\n",
       "      <td>1.0</td>\n",
       "    </tr>\n",
       "    <tr>\n",
       "      <th>4</th>\n",
       "      <td>0.986891</td>\n",
       "      <td>0.771518</td>\n",
       "      <td>0.000192</td>\n",
       "      <td>-0.008259</td>\n",
       "      <td>-0.004578</td>\n",
       "      <td>1.0</td>\n",
       "    </tr>\n",
       "    <tr>\n",
       "      <th>5</th>\n",
       "      <td>6.082889</td>\n",
       "      <td>7.667654</td>\n",
       "      <td>-0.005016</td>\n",
       "      <td>-0.005336</td>\n",
       "      <td>-0.002704</td>\n",
       "      <td>4.0</td>\n",
       "    </tr>\n",
       "    <tr>\n",
       "      <th>6</th>\n",
       "      <td>0.742375</td>\n",
       "      <td>0.791648</td>\n",
       "      <td>-0.002999</td>\n",
       "      <td>-0.004342</td>\n",
       "      <td>-0.002079</td>\n",
       "      <td>1.0</td>\n",
       "    </tr>\n",
       "    <tr>\n",
       "      <th>7</th>\n",
       "      <td>0.744167</td>\n",
       "      <td>0.448410</td>\n",
       "      <td>-0.000805</td>\n",
       "      <td>-0.001018</td>\n",
       "      <td>-0.000637</td>\n",
       "      <td>1.0</td>\n",
       "    </tr>\n",
       "  </tbody>\n",
       "</table>\n",
       "</div>"
      ],
      "text/plain": [
       "   Fit Time  Score Time       MAE       MSE      RMSE  Est\n",
       "0       NaN         NaN       NaN       NaN       NaN  NaN\n",
       "1  0.957074    0.142995 -0.024563 -0.052626 -0.027161  1.0\n",
       "2  1.162624    0.414343 -0.041244 -0.076682 -0.039680  1.5\n",
       "3  0.974405    0.631838 -0.012823 -0.016202 -0.007792  1.0\n",
       "4  0.986891    0.771518  0.000192 -0.008259 -0.004578  1.0\n",
       "5  6.082889    7.667654 -0.005016 -0.005336 -0.002704  4.0\n",
       "6  0.742375    0.791648 -0.002999 -0.004342 -0.002079  1.0\n",
       "7  0.744167    0.448410 -0.000805 -0.001018 -0.000637  1.0"
      ]
     },
     "execution_count": 27,
     "metadata": {},
     "output_type": "execute_result"
    }
   ],
   "source": [
    "pct_scores_df"
   ]
  },
  {
   "cell_type": "code",
   "execution_count": 28,
   "id": "proud-direction",
   "metadata": {},
   "outputs": [
    {
     "data": {
      "text/html": [
       "<style  type=\"text/css\" >\n",
       "#T_f1901516_5cf4_11eb_90bc_60f81dd06e70row0_col0,#T_f1901516_5cf4_11eb_90bc_60f81dd06e70row0_col1,#T_f1901516_5cf4_11eb_90bc_60f81dd06e70row0_col2,#T_f1901516_5cf4_11eb_90bc_60f81dd06e70row0_col3,#T_f1901516_5cf4_11eb_90bc_60f81dd06e70row0_col4,#T_f1901516_5cf4_11eb_90bc_60f81dd06e70row0_col5{\n",
       "            background-color:  #000000;\n",
       "            color:  #f1f1f1;\n",
       "        }#T_f1901516_5cf4_11eb_90bc_60f81dd06e70row1_col0,#T_f1901516_5cf4_11eb_90bc_60f81dd06e70row7_col1{\n",
       "            background-color:  #f9f2f8;\n",
       "            color:  #000000;\n",
       "        }#T_f1901516_5cf4_11eb_90bc_60f81dd06e70row1_col1,#T_f1901516_5cf4_11eb_90bc_60f81dd06e70row1_col5,#T_f1901516_5cf4_11eb_90bc_60f81dd06e70row2_col2,#T_f1901516_5cf4_11eb_90bc_60f81dd06e70row2_col3,#T_f1901516_5cf4_11eb_90bc_60f81dd06e70row2_col4,#T_f1901516_5cf4_11eb_90bc_60f81dd06e70row3_col5,#T_f1901516_5cf4_11eb_90bc_60f81dd06e70row4_col5,#T_f1901516_5cf4_11eb_90bc_60f81dd06e70row6_col0,#T_f1901516_5cf4_11eb_90bc_60f81dd06e70row6_col5,#T_f1901516_5cf4_11eb_90bc_60f81dd06e70row7_col0,#T_f1901516_5cf4_11eb_90bc_60f81dd06e70row7_col5{\n",
       "            background-color:  #fff7fb;\n",
       "            color:  #000000;\n",
       "        }#T_f1901516_5cf4_11eb_90bc_60f81dd06e70row1_col2{\n",
       "            background-color:  #9ab8d8;\n",
       "            color:  #000000;\n",
       "        }#T_f1901516_5cf4_11eb_90bc_60f81dd06e70row1_col3{\n",
       "            background-color:  #b9c6e0;\n",
       "            color:  #000000;\n",
       "        }#T_f1901516_5cf4_11eb_90bc_60f81dd06e70row1_col4{\n",
       "            background-color:  #b8c6e0;\n",
       "            color:  #000000;\n",
       "        }#T_f1901516_5cf4_11eb_90bc_60f81dd06e70row2_col0{\n",
       "            background-color:  #f3edf5;\n",
       "            color:  #000000;\n",
       "        }#T_f1901516_5cf4_11eb_90bc_60f81dd06e70row2_col1{\n",
       "            background-color:  #faf2f8;\n",
       "            color:  #000000;\n",
       "        }#T_f1901516_5cf4_11eb_90bc_60f81dd06e70row2_col5{\n",
       "            background-color:  #e3e0ee;\n",
       "            color:  #000000;\n",
       "        }#T_f1901516_5cf4_11eb_90bc_60f81dd06e70row3_col0,#T_f1901516_5cf4_11eb_90bc_60f81dd06e70row4_col0{\n",
       "            background-color:  #f8f1f8;\n",
       "            color:  #000000;\n",
       "        }#T_f1901516_5cf4_11eb_90bc_60f81dd06e70row3_col1{\n",
       "            background-color:  #f5eff6;\n",
       "            color:  #000000;\n",
       "        }#T_f1901516_5cf4_11eb_90bc_60f81dd06e70row3_col2{\n",
       "            background-color:  #1e80b8;\n",
       "            color:  #000000;\n",
       "        }#T_f1901516_5cf4_11eb_90bc_60f81dd06e70row3_col3{\n",
       "            background-color:  #0567a2;\n",
       "            color:  #f1f1f1;\n",
       "        }#T_f1901516_5cf4_11eb_90bc_60f81dd06e70row3_col4{\n",
       "            background-color:  #04649d;\n",
       "            color:  #f1f1f1;\n",
       "        }#T_f1901516_5cf4_11eb_90bc_60f81dd06e70row4_col1,#T_f1901516_5cf4_11eb_90bc_60f81dd06e70row6_col1{\n",
       "            background-color:  #f2ecf5;\n",
       "            color:  #000000;\n",
       "        }#T_f1901516_5cf4_11eb_90bc_60f81dd06e70row4_col2,#T_f1901516_5cf4_11eb_90bc_60f81dd06e70row5_col0,#T_f1901516_5cf4_11eb_90bc_60f81dd06e70row5_col1,#T_f1901516_5cf4_11eb_90bc_60f81dd06e70row5_col5,#T_f1901516_5cf4_11eb_90bc_60f81dd06e70row7_col3,#T_f1901516_5cf4_11eb_90bc_60f81dd06e70row7_col4{\n",
       "            background-color:  #023858;\n",
       "            color:  #f1f1f1;\n",
       "        }#T_f1901516_5cf4_11eb_90bc_60f81dd06e70row4_col3{\n",
       "            background-color:  #045280;\n",
       "            color:  #f1f1f1;\n",
       "        }#T_f1901516_5cf4_11eb_90bc_60f81dd06e70row4_col4{\n",
       "            background-color:  #045382;\n",
       "            color:  #f1f1f1;\n",
       "        }#T_f1901516_5cf4_11eb_90bc_60f81dd06e70row5_col2{\n",
       "            background-color:  #045a8d;\n",
       "            color:  #f1f1f1;\n",
       "        }#T_f1901516_5cf4_11eb_90bc_60f81dd06e70row5_col3{\n",
       "            background-color:  #03476f;\n",
       "            color:  #f1f1f1;\n",
       "        }#T_f1901516_5cf4_11eb_90bc_60f81dd06e70row5_col4{\n",
       "            background-color:  #03466e;\n",
       "            color:  #f1f1f1;\n",
       "        }#T_f1901516_5cf4_11eb_90bc_60f81dd06e70row6_col2{\n",
       "            background-color:  #034c78;\n",
       "            color:  #f1f1f1;\n",
       "        }#T_f1901516_5cf4_11eb_90bc_60f81dd06e70row6_col3{\n",
       "            background-color:  #03446a;\n",
       "            color:  #f1f1f1;\n",
       "        }#T_f1901516_5cf4_11eb_90bc_60f81dd06e70row6_col4{\n",
       "            background-color:  #034267;\n",
       "            color:  #f1f1f1;\n",
       "        }#T_f1901516_5cf4_11eb_90bc_60f81dd06e70row7_col2{\n",
       "            background-color:  #023e62;\n",
       "            color:  #f1f1f1;\n",
       "        }</style><table id=\"T_f1901516_5cf4_11eb_90bc_60f81dd06e70\" ><thead>    <tr>        <th class=\"blank level0\" ></th>        <th class=\"col_heading level0 col0\" >Fit Time</th>        <th class=\"col_heading level0 col1\" >Score Time</th>        <th class=\"col_heading level0 col2\" >MAE</th>        <th class=\"col_heading level0 col3\" >MSE</th>        <th class=\"col_heading level0 col4\" >RMSE</th>        <th class=\"col_heading level0 col5\" >Est</th>    </tr></thead><tbody>\n",
       "                <tr>\n",
       "                        <th id=\"T_f1901516_5cf4_11eb_90bc_60f81dd06e70level0_row0\" class=\"row_heading level0 row0\" >0</th>\n",
       "                        <td id=\"T_f1901516_5cf4_11eb_90bc_60f81dd06e70row0_col0\" class=\"data row0 col0\" >nan</td>\n",
       "                        <td id=\"T_f1901516_5cf4_11eb_90bc_60f81dd06e70row0_col1\" class=\"data row0 col1\" >nan</td>\n",
       "                        <td id=\"T_f1901516_5cf4_11eb_90bc_60f81dd06e70row0_col2\" class=\"data row0 col2\" >nan</td>\n",
       "                        <td id=\"T_f1901516_5cf4_11eb_90bc_60f81dd06e70row0_col3\" class=\"data row0 col3\" >nan</td>\n",
       "                        <td id=\"T_f1901516_5cf4_11eb_90bc_60f81dd06e70row0_col4\" class=\"data row0 col4\" >nan</td>\n",
       "                        <td id=\"T_f1901516_5cf4_11eb_90bc_60f81dd06e70row0_col5\" class=\"data row0 col5\" >nan</td>\n",
       "            </tr>\n",
       "            <tr>\n",
       "                        <th id=\"T_f1901516_5cf4_11eb_90bc_60f81dd06e70level0_row1\" class=\"row_heading level0 row1\" >1</th>\n",
       "                        <td id=\"T_f1901516_5cf4_11eb_90bc_60f81dd06e70row1_col0\" class=\"data row1 col0\" >0.957074</td>\n",
       "                        <td id=\"T_f1901516_5cf4_11eb_90bc_60f81dd06e70row1_col1\" class=\"data row1 col1\" >0.142995</td>\n",
       "                        <td id=\"T_f1901516_5cf4_11eb_90bc_60f81dd06e70row1_col2\" class=\"data row1 col2\" >-0.024563</td>\n",
       "                        <td id=\"T_f1901516_5cf4_11eb_90bc_60f81dd06e70row1_col3\" class=\"data row1 col3\" >-0.052626</td>\n",
       "                        <td id=\"T_f1901516_5cf4_11eb_90bc_60f81dd06e70row1_col4\" class=\"data row1 col4\" >-0.027161</td>\n",
       "                        <td id=\"T_f1901516_5cf4_11eb_90bc_60f81dd06e70row1_col5\" class=\"data row1 col5\" >1.000000</td>\n",
       "            </tr>\n",
       "            <tr>\n",
       "                        <th id=\"T_f1901516_5cf4_11eb_90bc_60f81dd06e70level0_row2\" class=\"row_heading level0 row2\" >2</th>\n",
       "                        <td id=\"T_f1901516_5cf4_11eb_90bc_60f81dd06e70row2_col0\" class=\"data row2 col0\" >1.162624</td>\n",
       "                        <td id=\"T_f1901516_5cf4_11eb_90bc_60f81dd06e70row2_col1\" class=\"data row2 col1\" >0.414343</td>\n",
       "                        <td id=\"T_f1901516_5cf4_11eb_90bc_60f81dd06e70row2_col2\" class=\"data row2 col2\" >-0.041244</td>\n",
       "                        <td id=\"T_f1901516_5cf4_11eb_90bc_60f81dd06e70row2_col3\" class=\"data row2 col3\" >-0.076682</td>\n",
       "                        <td id=\"T_f1901516_5cf4_11eb_90bc_60f81dd06e70row2_col4\" class=\"data row2 col4\" >-0.039680</td>\n",
       "                        <td id=\"T_f1901516_5cf4_11eb_90bc_60f81dd06e70row2_col5\" class=\"data row2 col5\" >1.500000</td>\n",
       "            </tr>\n",
       "            <tr>\n",
       "                        <th id=\"T_f1901516_5cf4_11eb_90bc_60f81dd06e70level0_row3\" class=\"row_heading level0 row3\" >3</th>\n",
       "                        <td id=\"T_f1901516_5cf4_11eb_90bc_60f81dd06e70row3_col0\" class=\"data row3 col0\" >0.974405</td>\n",
       "                        <td id=\"T_f1901516_5cf4_11eb_90bc_60f81dd06e70row3_col1\" class=\"data row3 col1\" >0.631838</td>\n",
       "                        <td id=\"T_f1901516_5cf4_11eb_90bc_60f81dd06e70row3_col2\" class=\"data row3 col2\" >-0.012823</td>\n",
       "                        <td id=\"T_f1901516_5cf4_11eb_90bc_60f81dd06e70row3_col3\" class=\"data row3 col3\" >-0.016202</td>\n",
       "                        <td id=\"T_f1901516_5cf4_11eb_90bc_60f81dd06e70row3_col4\" class=\"data row3 col4\" >-0.007792</td>\n",
       "                        <td id=\"T_f1901516_5cf4_11eb_90bc_60f81dd06e70row3_col5\" class=\"data row3 col5\" >1.000000</td>\n",
       "            </tr>\n",
       "            <tr>\n",
       "                        <th id=\"T_f1901516_5cf4_11eb_90bc_60f81dd06e70level0_row4\" class=\"row_heading level0 row4\" >4</th>\n",
       "                        <td id=\"T_f1901516_5cf4_11eb_90bc_60f81dd06e70row4_col0\" class=\"data row4 col0\" >0.986891</td>\n",
       "                        <td id=\"T_f1901516_5cf4_11eb_90bc_60f81dd06e70row4_col1\" class=\"data row4 col1\" >0.771518</td>\n",
       "                        <td id=\"T_f1901516_5cf4_11eb_90bc_60f81dd06e70row4_col2\" class=\"data row4 col2\" >0.000192</td>\n",
       "                        <td id=\"T_f1901516_5cf4_11eb_90bc_60f81dd06e70row4_col3\" class=\"data row4 col3\" >-0.008259</td>\n",
       "                        <td id=\"T_f1901516_5cf4_11eb_90bc_60f81dd06e70row4_col4\" class=\"data row4 col4\" >-0.004578</td>\n",
       "                        <td id=\"T_f1901516_5cf4_11eb_90bc_60f81dd06e70row4_col5\" class=\"data row4 col5\" >1.000000</td>\n",
       "            </tr>\n",
       "            <tr>\n",
       "                        <th id=\"T_f1901516_5cf4_11eb_90bc_60f81dd06e70level0_row5\" class=\"row_heading level0 row5\" >5</th>\n",
       "                        <td id=\"T_f1901516_5cf4_11eb_90bc_60f81dd06e70row5_col0\" class=\"data row5 col0\" >6.082889</td>\n",
       "                        <td id=\"T_f1901516_5cf4_11eb_90bc_60f81dd06e70row5_col1\" class=\"data row5 col1\" >7.667654</td>\n",
       "                        <td id=\"T_f1901516_5cf4_11eb_90bc_60f81dd06e70row5_col2\" class=\"data row5 col2\" >-0.005016</td>\n",
       "                        <td id=\"T_f1901516_5cf4_11eb_90bc_60f81dd06e70row5_col3\" class=\"data row5 col3\" >-0.005336</td>\n",
       "                        <td id=\"T_f1901516_5cf4_11eb_90bc_60f81dd06e70row5_col4\" class=\"data row5 col4\" >-0.002704</td>\n",
       "                        <td id=\"T_f1901516_5cf4_11eb_90bc_60f81dd06e70row5_col5\" class=\"data row5 col5\" >4.000000</td>\n",
       "            </tr>\n",
       "            <tr>\n",
       "                        <th id=\"T_f1901516_5cf4_11eb_90bc_60f81dd06e70level0_row6\" class=\"row_heading level0 row6\" >6</th>\n",
       "                        <td id=\"T_f1901516_5cf4_11eb_90bc_60f81dd06e70row6_col0\" class=\"data row6 col0\" >0.742375</td>\n",
       "                        <td id=\"T_f1901516_5cf4_11eb_90bc_60f81dd06e70row6_col1\" class=\"data row6 col1\" >0.791648</td>\n",
       "                        <td id=\"T_f1901516_5cf4_11eb_90bc_60f81dd06e70row6_col2\" class=\"data row6 col2\" >-0.002999</td>\n",
       "                        <td id=\"T_f1901516_5cf4_11eb_90bc_60f81dd06e70row6_col3\" class=\"data row6 col3\" >-0.004342</td>\n",
       "                        <td id=\"T_f1901516_5cf4_11eb_90bc_60f81dd06e70row6_col4\" class=\"data row6 col4\" >-0.002079</td>\n",
       "                        <td id=\"T_f1901516_5cf4_11eb_90bc_60f81dd06e70row6_col5\" class=\"data row6 col5\" >1.000000</td>\n",
       "            </tr>\n",
       "            <tr>\n",
       "                        <th id=\"T_f1901516_5cf4_11eb_90bc_60f81dd06e70level0_row7\" class=\"row_heading level0 row7\" >7</th>\n",
       "                        <td id=\"T_f1901516_5cf4_11eb_90bc_60f81dd06e70row7_col0\" class=\"data row7 col0\" >0.744167</td>\n",
       "                        <td id=\"T_f1901516_5cf4_11eb_90bc_60f81dd06e70row7_col1\" class=\"data row7 col1\" >0.448410</td>\n",
       "                        <td id=\"T_f1901516_5cf4_11eb_90bc_60f81dd06e70row7_col2\" class=\"data row7 col2\" >-0.000805</td>\n",
       "                        <td id=\"T_f1901516_5cf4_11eb_90bc_60f81dd06e70row7_col3\" class=\"data row7 col3\" >-0.001018</td>\n",
       "                        <td id=\"T_f1901516_5cf4_11eb_90bc_60f81dd06e70row7_col4\" class=\"data row7 col4\" >-0.000637</td>\n",
       "                        <td id=\"T_f1901516_5cf4_11eb_90bc_60f81dd06e70row7_col5\" class=\"data row7 col5\" >1.000000</td>\n",
       "            </tr>\n",
       "    </tbody></table>"
      ],
      "text/plain": [
       "<pandas.io.formats.style.Styler at 0x7ff10daab9d0>"
      ]
     },
     "execution_count": 28,
     "metadata": {},
     "output_type": "execute_result"
    }
   ],
   "source": [
    "pct_scores_df.style.background_gradient() \n",
    "# we choose index 4, 100 Estimations <- \n",
    "    # Score time decrease 3->4 & Score time increase dramatically 4->5\n",
    "    # unsubstantial decrease MSE & RMSE 4->5 compared to 3->4"
   ]
  },
  {
   "cell_type": "markdown",
   "id": "particular-witch",
   "metadata": {},
   "source": [
    "# Score Model"
   ]
  },
  {
   "cell_type": "code",
   "execution_count": 29,
   "id": "stuck-thumb",
   "metadata": {},
   "outputs": [
    {
     "data": {
      "text/plain": [
       "RandomForestRegressor(warm_start=True)"
      ]
     },
     "execution_count": 29,
     "metadata": {},
     "output_type": "execute_result"
    }
   ],
   "source": [
    "# MODIFY!\n",
    "# adopt number of estimators from the previous section\n",
    "\n",
    "score_model = RandomForestRegressor(n_estimators=100,warm_start=True)\n",
    "score_model"
   ]
  },
  {
   "cell_type": "code",
   "execution_count": 30,
   "id": "desperate-aquarium",
   "metadata": {},
   "outputs": [],
   "source": [
    "from sklearn.model_selection import cross_validate\n",
    "\n",
    "scores = cross_validate(\n",
    "    score_model, \n",
    "    X_train, \n",
    "    y_train,\n",
    "    scoring=[\n",
    "        'neg_mean_absolute_error',\n",
    "        'neg_mean_squared_error',\n",
    "        'neg_root_mean_squared_error'\n",
    "    ],\n",
    "    cv=10\n",
    ")"
   ]
  },
  {
   "cell_type": "code",
   "execution_count": 31,
   "id": "capital-jewel",
   "metadata": {},
   "outputs": [],
   "source": [
    "scores = pd.DataFrame(scores)"
   ]
  },
  {
   "cell_type": "code",
   "execution_count": 32,
   "id": "august-drink",
   "metadata": {},
   "outputs": [
    {
     "data": {
      "text/html": [
       "<div>\n",
       "<style scoped>\n",
       "    .dataframe tbody tr th:only-of-type {\n",
       "        vertical-align: middle;\n",
       "    }\n",
       "\n",
       "    .dataframe tbody tr th {\n",
       "        vertical-align: top;\n",
       "    }\n",
       "\n",
       "    .dataframe thead th {\n",
       "        text-align: right;\n",
       "    }\n",
       "</style>\n",
       "<table border=\"1\" class=\"dataframe\">\n",
       "  <thead>\n",
       "    <tr style=\"text-align: right;\">\n",
       "      <th></th>\n",
       "      <th>fit_time</th>\n",
       "      <th>score_time</th>\n",
       "      <th>test_neg_mean_absolute_error</th>\n",
       "      <th>test_neg_mean_squared_error</th>\n",
       "      <th>test_neg_root_mean_squared_error</th>\n",
       "    </tr>\n",
       "  </thead>\n",
       "  <tbody>\n",
       "    <tr>\n",
       "      <th>0</th>\n",
       "      <td>2.332699</td>\n",
       "      <td>0.013970</td>\n",
       "      <td>-3.025310</td>\n",
       "      <td>-15.496049</td>\n",
       "      <td>-3.936502</td>\n",
       "    </tr>\n",
       "    <tr>\n",
       "      <th>1</th>\n",
       "      <td>2.195743</td>\n",
       "      <td>0.025364</td>\n",
       "      <td>-2.974305</td>\n",
       "      <td>-16.885003</td>\n",
       "      <td>-4.109136</td>\n",
       "    </tr>\n",
       "    <tr>\n",
       "      <th>2</th>\n",
       "      <td>1.975829</td>\n",
       "      <td>0.013406</td>\n",
       "      <td>-2.932213</td>\n",
       "      <td>-15.353194</td>\n",
       "      <td>-3.918315</td>\n",
       "    </tr>\n",
       "    <tr>\n",
       "      <th>3</th>\n",
       "      <td>2.023836</td>\n",
       "      <td>0.013144</td>\n",
       "      <td>-3.286877</td>\n",
       "      <td>-22.753494</td>\n",
       "      <td>-4.770062</td>\n",
       "    </tr>\n",
       "    <tr>\n",
       "      <th>4</th>\n",
       "      <td>3.229563</td>\n",
       "      <td>0.013693</td>\n",
       "      <td>-3.256563</td>\n",
       "      <td>-23.349320</td>\n",
       "      <td>-4.832113</td>\n",
       "    </tr>\n",
       "    <tr>\n",
       "      <th>5</th>\n",
       "      <td>1.977622</td>\n",
       "      <td>0.012794</td>\n",
       "      <td>-3.036775</td>\n",
       "      <td>-18.691656</td>\n",
       "      <td>-4.323385</td>\n",
       "    </tr>\n",
       "    <tr>\n",
       "      <th>6</th>\n",
       "      <td>2.085626</td>\n",
       "      <td>0.019308</td>\n",
       "      <td>-2.667424</td>\n",
       "      <td>-12.410283</td>\n",
       "      <td>-3.522823</td>\n",
       "    </tr>\n",
       "    <tr>\n",
       "      <th>7</th>\n",
       "      <td>1.924015</td>\n",
       "      <td>0.012637</td>\n",
       "      <td>-3.066960</td>\n",
       "      <td>-17.427979</td>\n",
       "      <td>-4.174683</td>\n",
       "    </tr>\n",
       "    <tr>\n",
       "      <th>8</th>\n",
       "      <td>1.976282</td>\n",
       "      <td>0.017500</td>\n",
       "      <td>-3.093711</td>\n",
       "      <td>-17.116046</td>\n",
       "      <td>-4.137154</td>\n",
       "    </tr>\n",
       "    <tr>\n",
       "      <th>9</th>\n",
       "      <td>2.713884</td>\n",
       "      <td>0.013704</td>\n",
       "      <td>-3.173564</td>\n",
       "      <td>-19.085259</td>\n",
       "      <td>-4.368668</td>\n",
       "    </tr>\n",
       "  </tbody>\n",
       "</table>\n",
       "</div>"
      ],
      "text/plain": [
       "   fit_time  score_time  test_neg_mean_absolute_error  \\\n",
       "0  2.332699    0.013970                     -3.025310   \n",
       "1  2.195743    0.025364                     -2.974305   \n",
       "2  1.975829    0.013406                     -2.932213   \n",
       "3  2.023836    0.013144                     -3.286877   \n",
       "4  3.229563    0.013693                     -3.256563   \n",
       "5  1.977622    0.012794                     -3.036775   \n",
       "6  2.085626    0.019308                     -2.667424   \n",
       "7  1.924015    0.012637                     -3.066960   \n",
       "8  1.976282    0.017500                     -3.093711   \n",
       "9  2.713884    0.013704                     -3.173564   \n",
       "\n",
       "   test_neg_mean_squared_error  test_neg_root_mean_squared_error  \n",
       "0                   -15.496049                         -3.936502  \n",
       "1                   -16.885003                         -4.109136  \n",
       "2                   -15.353194                         -3.918315  \n",
       "3                   -22.753494                         -4.770062  \n",
       "4                   -23.349320                         -4.832113  \n",
       "5                   -18.691656                         -4.323385  \n",
       "6                   -12.410283                         -3.522823  \n",
       "7                   -17.427979                         -4.174683  \n",
       "8                   -17.116046                         -4.137154  \n",
       "9                   -19.085259                         -4.368668  "
      ]
     },
     "execution_count": 32,
     "metadata": {},
     "output_type": "execute_result"
    }
   ],
   "source": [
    "scores"
   ]
  },
  {
   "cell_type": "code",
   "execution_count": 33,
   "id": "joint-apollo",
   "metadata": {},
   "outputs": [],
   "source": [
    "mean_scores = scores.mean()"
   ]
  },
  {
   "cell_type": "code",
   "execution_count": 34,
   "id": "limiting-ribbon",
   "metadata": {},
   "outputs": [
    {
     "data": {
      "text/plain": [
       "fit_time                             2.243510\n",
       "score_time                           0.015552\n",
       "test_neg_mean_absolute_error        -3.051370\n",
       "test_neg_mean_squared_error        -17.856828\n",
       "test_neg_root_mean_squared_error    -4.209284\n",
       "dtype: float64"
      ]
     },
     "execution_count": 34,
     "metadata": {},
     "output_type": "execute_result"
    }
   ],
   "source": [
    "mean_scores"
   ]
  },
  {
   "cell_type": "markdown",
   "id": "continuous-jewel",
   "metadata": {},
   "source": [
    "# Export Model Scores"
   ]
  },
  {
   "cell_type": "code",
   "execution_count": 35,
   "id": "compound-papua",
   "metadata": {},
   "outputs": [],
   "source": [
    "mean_scores = mean_scores.rename(f'{model_name}')"
   ]
  },
  {
   "cell_type": "code",
   "execution_count": 36,
   "id": "separate-tuner",
   "metadata": {},
   "outputs": [],
   "source": [
    "mean_scores[[2,3,4]] = mean_scores[[2,3,4]].apply(abs)"
   ]
  },
  {
   "cell_type": "code",
   "execution_count": 37,
   "id": "expired-cargo",
   "metadata": {},
   "outputs": [],
   "source": [
    "# mean_scores"
   ]
  },
  {
   "cell_type": "code",
   "execution_count": 38,
   "id": "beautiful-store",
   "metadata": {},
   "outputs": [],
   "source": [
    "mean_scores = mean_scores.rename({\n",
    "    'fit_time':'Fit Time',\n",
    "    'score_time':'Score Time',\n",
    "    'test_neg_mean_absolute_error':'MAE',\n",
    "    'test_neg_mean_squared_error':'MSE',\n",
    "    'test_neg_root_mean_squared_error':'RMSE'\n",
    "})"
   ]
  },
  {
   "cell_type": "code",
   "execution_count": 39,
   "id": "stock-corpus",
   "metadata": {},
   "outputs": [
    {
     "data": {
      "text/plain": [
       "Fit Time       2.243510\n",
       "Score Time     0.015552\n",
       "MAE            3.051370\n",
       "MSE           17.856828\n",
       "RMSE           4.209284\n",
       "Name: rf-wo, dtype: float64"
      ]
     },
     "execution_count": 39,
     "metadata": {},
     "output_type": "execute_result"
    }
   ],
   "source": [
    "mean_scores"
   ]
  },
  {
   "cell_type": "code",
   "execution_count": 40,
   "id": "boolean-musical",
   "metadata": {},
   "outputs": [],
   "source": [
    "mean_scores['STD FT'] = scores.fit_time.std()\n",
    "mean_scores['STD ST'] = scores.score_time.std()\n",
    "mean_scores['STD MAE'] = scores.test_neg_mean_absolute_error.std()\n",
    "mean_scores['STD MSE'] = scores.test_neg_mean_squared_error.std()\n",
    "mean_scores['STD RMSE'] = scores.test_neg_root_mean_squared_error.std()"
   ]
  },
  {
   "cell_type": "code",
   "execution_count": 41,
   "id": "searching-portfolio",
   "metadata": {},
   "outputs": [
    {
     "data": {
      "text/plain": [
       "Fit Time       2.243510\n",
       "Score Time     0.015552\n",
       "MAE            3.051370\n",
       "MSE           17.856828\n",
       "RMSE           4.209284\n",
       "STD FT         0.420689\n",
       "STD ST         0.004083\n",
       "STD MAE        0.177319\n",
       "STD MSE        3.325561\n",
       "STD RMSE       0.392647\n",
       "Name: rf-wo, dtype: float64"
      ]
     },
     "execution_count": 41,
     "metadata": {},
     "output_type": "execute_result"
    }
   ],
   "source": [
    "mean_scores"
   ]
  },
  {
   "cell_type": "code",
   "execution_count": 42,
   "id": "stunning-arbitration",
   "metadata": {},
   "outputs": [],
   "source": [
    "mean_scores.to_csv(f'./scores/{model_name}.csv')"
   ]
  },
  {
   "cell_type": "markdown",
   "id": "quick-health",
   "metadata": {},
   "source": [
    "# Holdout Test"
   ]
  },
  {
   "cell_type": "code",
   "execution_count": 43,
   "id": "recognized-narrative",
   "metadata": {},
   "outputs": [
    {
     "data": {
      "text/plain": [
       "RandomForestRegressor(warm_start=True)"
      ]
     },
     "execution_count": 43,
     "metadata": {},
     "output_type": "execute_result"
    }
   ],
   "source": [
    "score_model.fit(X_train,y_train)"
   ]
  },
  {
   "cell_type": "code",
   "execution_count": 44,
   "id": "assumed-pension",
   "metadata": {},
   "outputs": [],
   "source": [
    "y_holdout = score_model.predict(X_test)"
   ]
  },
  {
   "cell_type": "code",
   "execution_count": 45,
   "id": "identical-jewel",
   "metadata": {},
   "outputs": [
    {
     "data": {
      "text/plain": [
       "<AxesSubplot:ylabel='Count'>"
      ]
     },
     "execution_count": 45,
     "metadata": {},
     "output_type": "execute_result"
    },
    {
     "data": {
      "image/png": "[encoded data removed]",
      "text/plain": [
       "<Figure size 432x288 with 1 Axes>"
      ]
     },
     "metadata": {
      "needs_background": "light"
     },
     "output_type": "display_data"
    }
   ],
   "source": [
    "sns.histplot(y_holdout,bins=40,kde=True)"
   ]
  },
  {
   "cell_type": "code",
   "execution_count": 46,
   "id": "atomic-bobby",
   "metadata": {},
   "outputs": [
    {
     "data": {
      "text/plain": [
       "<matplotlib.legend.Legend at 0x7ff0fdef7760>"
      ]
     },
     "execution_count": 46,
     "metadata": {},
     "output_type": "execute_result"
    },
    {
     "data": {
      "image/png": "[encoded data removed]",
      "text/plain": [
       "<Figure size 432x288 with 1 Axes>"
      ]
     },
     "metadata": {
      "needs_background": "light"
     },
     "output_type": "display_data"
    }
   ],
   "source": [
    "fig,ax = plt.subplots()\n",
    "\n",
    "sns.kdeplot(y_test, ax=ax, shade=True, label='Observations')\n",
    "sns.kdeplot(y_holdout, ax=ax,shade=True,label='Predictions')\n",
    "\n",
    "ax.legend(loc='best')"
   ]
  },
  {
   "cell_type": "code",
   "execution_count": 47,
   "id": "located-retreat",
   "metadata": {},
   "outputs": [
    {
     "data": {
      "text/plain": [
       "<matplotlib.legend.Legend at 0x7ff0fdfe3bb0>"
      ]
     },
     "execution_count": 47,
     "metadata": {},
     "output_type": "execute_result"
    },
    {
     "data": {
      "image/png": "[encoded data removed]",
      "text/plain": [
       "<Figure size 432x288 with 1 Axes>"
      ]
     },
     "metadata": {
      "needs_background": "light"
     },
     "output_type": "display_data"
    }
   ],
   "source": [
    "fig,ax = plt.subplots()\n",
    "\n",
    "sns.ecdfplot(y_test, ax=ax, label='Observations')\n",
    "sns.ecdfplot(y_holdout, ax=ax,label='Predictions')\n",
    "plt.axvline(x=y_test.mean(),color='grey',linestyle='--')\n",
    "\n",
    "ax.legend(loc='best')"
   ]
  },
  {
   "cell_type": "code",
   "execution_count": 48,
   "id": "minute-structure",
   "metadata": {},
   "outputs": [],
   "source": [
    "from sklearn.metrics import mean_absolute_error, mean_squared_error\n",
    "\n",
    "mae = mean_absolute_error(y_test,y_holdout)\n",
    "mse = mean_squared_error(y_test,y_holdout)\n",
    "rmse = np.sqrt(mse)"
   ]
  },
  {
   "cell_type": "code",
   "execution_count": 49,
   "id": "reverse-watson",
   "metadata": {},
   "outputs": [
    {
     "data": {
      "text/html": [
       "<div>\n",
       "<style scoped>\n",
       "    .dataframe tbody tr th:only-of-type {\n",
       "        vertical-align: middle;\n",
       "    }\n",
       "\n",
       "    .dataframe tbody tr th {\n",
       "        vertical-align: top;\n",
       "    }\n",
       "\n",
       "    .dataframe thead th {\n",
       "        text-align: right;\n",
       "    }\n",
       "</style>\n",
       "<table border=\"1\" class=\"dataframe\">\n",
       "  <thead>\n",
       "    <tr style=\"text-align: right;\">\n",
       "      <th></th>\n",
       "      <th>rf-wo</th>\n",
       "    </tr>\n",
       "  </thead>\n",
       "  <tbody>\n",
       "    <tr>\n",
       "      <th>MAE</th>\n",
       "      <td>3.363837</td>\n",
       "    </tr>\n",
       "    <tr>\n",
       "      <th>MSE</th>\n",
       "      <td>21.058934</td>\n",
       "    </tr>\n",
       "    <tr>\n",
       "      <th>RMSE</th>\n",
       "      <td>4.589001</td>\n",
       "    </tr>\n",
       "  </tbody>\n",
       "</table>\n",
       "</div>"
      ],
      "text/plain": [
       "          rf-wo\n",
       "MAE    3.363837\n",
       "MSE   21.058934\n",
       "RMSE   4.589001"
      ]
     },
     "execution_count": 49,
     "metadata": {},
     "output_type": "execute_result"
    }
   ],
   "source": [
    "err_df = pd.DataFrame(data=[mae, mse, rmse],index=['MAE','MSE','RMSE'],columns=[f'{model_name}'])\n",
    "err_df"
   ]
  },
  {
   "cell_type": "code",
   "execution_count": 50,
   "id": "unlike-garage",
   "metadata": {},
   "outputs": [],
   "source": [
    "err_df.to_csv(f'./holdout-test/{model_name}.csv')\n",
    "# mean_scores.to_csv(f'./opt-model-err/{model_name}-err.csv')"
   ]
  },
  {
   "cell_type": "code",
   "execution_count": 51,
   "id": "aboriginal-hamburg",
   "metadata": {},
   "outputs": [
    {
     "data": {
      "text/plain": [
       "mean     0.350125\n",
       "std      4.586303\n",
       "min    -10.781164\n",
       "25%     -2.290987\n",
       "50%     -0.261479\n",
       "75%      2.575492\n",
       "max     18.821622\n",
       "Name: throughput, dtype: float64"
      ]
     },
     "execution_count": 51,
     "metadata": {},
     "output_type": "execute_result"
    }
   ],
   "source": [
    "res = y_test - y_holdout\n",
    "res.describe().drop('count')"
   ]
  },
  {
   "cell_type": "code",
   "execution_count": 52,
   "id": "fallen-importance",
   "metadata": {},
   "outputs": [
    {
     "data": {
      "text/plain": [
       "<AxesSubplot:xlabel='throughput', ylabel='Count'>"
      ]
     },
     "execution_count": 52,
     "metadata": {},
     "output_type": "execute_result"
    },
    {
     "data": {
      "image/png": "[encoded data removed]",
      "text/plain": [
       "<Figure size 432x288 with 1 Axes>"
      ]
     },
     "metadata": {
      "needs_background": "light"
     },
     "output_type": "display_data"
    }
   ],
   "source": [
    "sns.histplot(data=res, kde=True,bins=40)"
   ]
  },
  {
   "cell_type": "code",
   "execution_count": 53,
   "id": "stuffed-machine",
   "metadata": {},
   "outputs": [
    {
     "data": {
      "text/plain": [
       "<matplotlib.lines.Line2D at 0x7ff0fe2861f0>"
      ]
     },
     "execution_count": 53,
     "metadata": {},
     "output_type": "execute_result"
    },
    {
     "data": {
      "image/png": "[encoded data removed]",
      "text/plain": [
       "<Figure size 432x288 with 1 Axes>"
      ]
     },
     "metadata": {
      "needs_background": "light"
     },
     "output_type": "display_data"
    }
   ],
   "source": [
    "ax = sns.scatterplot(x=y_test, y=res)\n",
    "ax.set(ylabel='Residuals', xlabel='Test Label')\n",
    "plt.axhline(y=0,color='red',linestyle='--')\n",
    "\n",
    "# there should be no clear pattern / curve in the plot\n",
    "# we see a positive correlation between Test Label and Residuals -> later models should avoid this pattern"
   ]
  },
  {
   "cell_type": "code",
   "execution_count": 54,
   "id": "primary-slave",
   "metadata": {},
   "outputs": [
    {
     "data": {
      "image/png": "[encoded data removed]",
      "text/plain": [
       "<Figure size 432x288 with 1 Axes>"
      ]
     },
     "metadata": {
      "needs_background": "light"
     },
     "output_type": "display_data"
    }
   ],
   "source": [
    "import scipy as sp\n",
    "\n",
    "fig, ax = plt.subplots()\n",
    "sp.stats.probplot(res,plot=ax);"
   ]
  },
  {
   "cell_type": "markdown",
   "id": "whole-conference",
   "metadata": {},
   "source": [
    "# Export Optimized Model"
   ]
  },
  {
   "cell_type": "code",
   "execution_count": 55,
   "id": "irish-collect",
   "metadata": {},
   "outputs": [
    {
     "data": {
      "text/plain": [
       "RobustScaler()"
      ]
     },
     "execution_count": 55,
     "metadata": {},
     "output_type": "execute_result"
    }
   ],
   "source": [
    "from sklearn.preprocessing import RobustScaler\n",
    "scaler = RobustScaler()\n",
    "scaler.fit(X)"
   ]
  },
  {
   "cell_type": "code",
   "execution_count": 56,
   "id": "sweet-dating",
   "metadata": {},
   "outputs": [
    {
     "name": "stderr",
     "output_type": "stream",
     "text": [
      "/Users/aceituno/opt/anaconda3/envs/masterclass/lib/python3.8/site-packages/sklearn/ensemble/_forest.py:368: UserWarning: Warm-start fitting without increasing n_estimators does not fit new trees.\n",
      "  warn(\"Warm-start fitting without increasing n_estimators does not \"\n"
     ]
    },
    {
     "data": {
      "text/plain": [
       "RandomForestRegressor(warm_start=True)"
      ]
     },
     "execution_count": 56,
     "metadata": {},
     "output_type": "execute_result"
    }
   ],
   "source": [
    "# MODIFY! \n",
    "X = scaler.transform(X)\n",
    "\n",
    "op_model = score_model\n",
    "\n",
    "op_model.fit(X,y)"
   ]
  },
  {
   "cell_type": "code",
   "execution_count": 57,
   "id": "straight-husband",
   "metadata": {},
   "outputs": [],
   "source": [
    "y_pred = op_model.predict(X)"
   ]
  },
  {
   "cell_type": "code",
   "execution_count": 58,
   "id": "better-white",
   "metadata": {},
   "outputs": [
    {
     "data": {
      "text/plain": [
       "<AxesSubplot:ylabel='Count'>"
      ]
     },
     "execution_count": 58,
     "metadata": {},
     "output_type": "execute_result"
    },
    {
     "data": {
      "image/png": "[encoded data removed]",
      "text/plain": [
       "<Figure size 432x288 with 1 Axes>"
      ]
     },
     "metadata": {
      "needs_background": "light"
     },
     "output_type": "display_data"
    }
   ],
   "source": [
    "sns.histplot(y_pred,bins=40,kde=True)"
   ]
  },
  {
   "cell_type": "code",
   "execution_count": 59,
   "id": "heard-affiliation",
   "metadata": {},
   "outputs": [
    {
     "data": {
      "text/plain": [
       "<matplotlib.legend.Legend at 0x7ff0ff078fa0>"
      ]
     },
     "execution_count": 59,
     "metadata": {},
     "output_type": "execute_result"
    },
    {
     "data": {
      "image/png": "[encoded data removed]",
      "text/plain": [
       "<Figure size 432x288 with 1 Axes>"
      ]
     },
     "metadata": {
      "needs_background": "light"
     },
     "output_type": "display_data"
    }
   ],
   "source": [
    "fig,ax = plt.subplots()\n",
    "\n",
    "sns.kdeplot(y, ax=ax, shade=True, label='Observations')\n",
    "sns.kdeplot(y_pred, ax=ax,shade=True,label='Predictions')\n",
    "\n",
    "ax.legend(loc='best')"
   ]
  },
  {
   "cell_type": "code",
   "execution_count": 60,
   "id": "hundred-california",
   "metadata": {},
   "outputs": [
    {
     "data": {
      "text/plain": [
       "<matplotlib.legend.Legend at 0x7ff0ff1d4f10>"
      ]
     },
     "execution_count": 60,
     "metadata": {},
     "output_type": "execute_result"
    },
    {
     "data": {
      "image/png": "[encoded data removed]",
      "text/plain": [
       "<Figure size 432x288 with 1 Axes>"
      ]
     },
     "metadata": {
      "needs_background": "light"
     },
     "output_type": "display_data"
    }
   ],
   "source": [
    "fig,ax = plt.subplots()\n",
    "\n",
    "sns.ecdfplot(y, ax=ax, label='Observations')\n",
    "sns.ecdfplot(y_pred, ax=ax,label='Predictions')\n",
    "plt.axvline(x=y.mean(),color='grey',linestyle='--')\n",
    "\n",
    "ax.legend(loc='best')"
   ]
  },
  {
   "cell_type": "code",
   "execution_count": 61,
   "id": "useful-active",
   "metadata": {},
   "outputs": [],
   "source": [
    "mae = mean_absolute_error(y,y_pred)\n",
    "mse = mean_squared_error(y,y_pred)\n",
    "rmse = np.sqrt(mse)"
   ]
  },
  {
   "cell_type": "code",
   "execution_count": 62,
   "id": "lonely-domestic",
   "metadata": {},
   "outputs": [
    {
     "data": {
      "text/html": [
       "<div>\n",
       "<style scoped>\n",
       "    .dataframe tbody tr th:only-of-type {\n",
       "        vertical-align: middle;\n",
       "    }\n",
       "\n",
       "    .dataframe tbody tr th {\n",
       "        vertical-align: top;\n",
       "    }\n",
       "\n",
       "    .dataframe thead th {\n",
       "        text-align: right;\n",
       "    }\n",
       "</style>\n",
       "<table border=\"1\" class=\"dataframe\">\n",
       "  <thead>\n",
       "    <tr style=\"text-align: right;\">\n",
       "      <th></th>\n",
       "      <th>rf-wo</th>\n",
       "    </tr>\n",
       "  </thead>\n",
       "  <tbody>\n",
       "    <tr>\n",
       "      <th>MAE</th>\n",
       "      <td>1.557244</td>\n",
       "    </tr>\n",
       "    <tr>\n",
       "      <th>MSE</th>\n",
       "      <td>5.541898</td>\n",
       "    </tr>\n",
       "    <tr>\n",
       "      <th>RMSE</th>\n",
       "      <td>2.354124</td>\n",
       "    </tr>\n",
       "  </tbody>\n",
       "</table>\n",
       "</div>"
      ],
      "text/plain": [
       "         rf-wo\n",
       "MAE   1.557244\n",
       "MSE   5.541898\n",
       "RMSE  2.354124"
      ]
     },
     "execution_count": 62,
     "metadata": {},
     "output_type": "execute_result"
    }
   ],
   "source": [
    "err_df = pd.DataFrame(data=[mae, mse, rmse],index=['MAE','MSE','RMSE'],columns=[f'{model_name}'])\n",
    "err_df"
   ]
  },
  {
   "cell_type": "code",
   "execution_count": 63,
   "id": "norwegian-continent",
   "metadata": {},
   "outputs": [],
   "source": [
    "err_df.to_csv(f'./model-err/{model_name}.csv')\n",
    "# mean_scores.to_csv(f'./opt-model-err/{model_name}-err.csv')"
   ]
  },
  {
   "cell_type": "code",
   "execution_count": 64,
   "id": "dirty-diagram",
   "metadata": {},
   "outputs": [
    {
     "data": {
      "text/plain": [
       "['./opt-models/rf-wo.joblib']"
      ]
     },
     "execution_count": 64,
     "metadata": {},
     "output_type": "execute_result"
    }
   ],
   "source": [
    "from joblib import dump, load\n",
    "dump(op_model, f'./opt-models/{model_name}.joblib')"
   ]
  },
  {
   "cell_type": "code",
   "execution_count": 65,
   "id": "adjustable-thesis",
   "metadata": {},
   "outputs": [
    {
     "data": {
      "text/plain": [
       "mean    -0.014418\n",
       "std      2.354629\n",
       "min    -11.322524\n",
       "25%     -1.096975\n",
       "50%     -0.148874\n",
       "75%      0.923218\n",
       "max     18.978575\n",
       "Name: throughput, dtype: float64"
      ]
     },
     "execution_count": 65,
     "metadata": {},
     "output_type": "execute_result"
    }
   ],
   "source": [
    "res = y - y_pred\n",
    "res.describe().drop('count')"
   ]
  },
  {
   "cell_type": "code",
   "execution_count": 66,
   "id": "adult-rubber",
   "metadata": {},
   "outputs": [
    {
     "data": {
      "text/plain": [
       "<AxesSubplot:xlabel='throughput', ylabel='Count'>"
      ]
     },
     "execution_count": 66,
     "metadata": {},
     "output_type": "execute_result"
    },
    {
     "data": {
      "image/png": "[encoded data removed]",
      "text/plain": [
       "<Figure size 432x288 with 1 Axes>"
      ]
     },
     "metadata": {
      "needs_background": "light"
     },
     "output_type": "display_data"
    }
   ],
   "source": [
    "sns.histplot(data=res, kde=True,bins=40)"
   ]
  },
  {
   "cell_type": "code",
   "execution_count": 67,
   "id": "conservative-operation",
   "metadata": {},
   "outputs": [
    {
     "data": {
      "text/plain": [
       "<matplotlib.lines.Line2D at 0x7ff0fe271a90>"
      ]
     },
     "execution_count": 67,
     "metadata": {},
     "output_type": "execute_result"
    },
    {
     "data": {
      "image/png": "[encoded data removed]",
      "text/plain": [
       "<Figure size 432x288 with 1 Axes>"
      ]
     },
     "metadata": {
      "needs_background": "light"
     },
     "output_type": "display_data"
    }
   ],
   "source": [
    "ax = sns.scatterplot(x=y_test, y=res)\n",
    "ax.set(ylabel='Residuals', xlabel='Test Label')\n",
    "plt.axhline(y=0,color='red',linestyle='--')\n",
    "\n",
    "# there should be no clear pattern / curve in the plot\n",
    "# we see a positive correlation between Test Label and Residuals -> later models should avoid this pattern"
   ]
  },
  {
   "cell_type": "code",
   "execution_count": 68,
   "id": "massive-balloon",
   "metadata": {},
   "outputs": [
    {
     "data": {
      "image/png": "[encoded data removed]",
      "text/plain": [
       "<Figure size 432x288 with 1 Axes>"
      ]
     },
     "metadata": {
      "needs_background": "light"
     },
     "output_type": "display_data"
    }
   ],
   "source": [
    "import scipy as sp\n",
    "\n",
    "fig, ax = plt.subplots()\n",
    "sp.stats.probplot(res,plot=ax);"
   ]
  },
  {
   "cell_type": "markdown",
   "id": "balanced-optimum",
   "metadata": {},
   "source": [
    "DONE!"
   ]
  },
  {
   "cell_type": "code",
   "execution_count": null,
   "id": "collaborative-image",
   "metadata": {},
   "outputs": [],
   "source": []
  }
 ],
 "metadata": {
  "kernelspec": {
   "display_name": "Python 3",
   "language": "python",
   "name": "python3"
  },
  "language_info": {
   "codemirror_mode": {
    "name": "ipython",
    "version": 3
   },
   "file_extension": ".py",
   "mimetype": "text/x-python",
   "name": "python",
   "nbconvert_exporter": "python",
   "pygments_lexer": "ipython3",
   "version": "3.8.6"
  }
 },
 "nbformat": 4,
 "nbformat_minor": 5
}
