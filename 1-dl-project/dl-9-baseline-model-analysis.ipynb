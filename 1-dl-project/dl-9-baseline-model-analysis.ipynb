{
 "cells": [
  {
   "cell_type": "code",
   "execution_count": 1,
   "id": "hawaiian-portable",
   "metadata": {},
   "outputs": [],
   "source": [
    "# MODIFY!\n",
    "notebook_name = 'baseline'"
   ]
  },
  {
   "cell_type": "markdown",
   "id": "favorite-hunger",
   "metadata": {},
   "source": [
    "# Import Libaries & Define Functions"
   ]
  },
  {
   "cell_type": "code",
   "execution_count": 2,
   "id": "nearby-trailer",
   "metadata": {},
   "outputs": [],
   "source": [
    "import numpy as np\n",
    "import pandas as pd\n",
    "import matplotlib.pyplot as plt\n",
    "import seaborn as sns\n",
    "import glob"
   ]
  },
  {
   "cell_type": "code",
   "execution_count": 3,
   "id": "traditional-manufacturer",
   "metadata": {},
   "outputs": [],
   "source": [
    "sns.set(style='whitegrid')"
   ]
  },
  {
   "cell_type": "code",
   "execution_count": 4,
   "id": "czech-agreement",
   "metadata": {},
   "outputs": [],
   "source": [
    "def frame_it(path):\n",
    "    csv_files = glob.glob(path + '/*.csv')\n",
    "    df_list = []\n",
    "    \n",
    "    for filename in csv_files:\n",
    "        df = pd.read_csv(filename, index_col='Unnamed: 0', header=0)\n",
    "        df_list.append(df)\n",
    "\n",
    "    return pd.concat(df_list, axis=1)"
   ]
  },
  {
   "cell_type": "code",
   "execution_count": 5,
   "id": "beneficial-infection",
   "metadata": {},
   "outputs": [],
   "source": [
    "def show_values_on_bars(axs, h_v=\"v\", space=0.4,pct=False,neg=False):\n",
    "    def _show_on_single_plot(ax):\n",
    "        if h_v == \"v\":\n",
    "            for p in ax.patches:\n",
    "                _x = p.get_x() + p.get_width() / 2\n",
    "                _y = p.get_y() + p.get_height()\n",
    "                if pct == True: \n",
    "                    value = '{:.2%}'.format(p.get_height())\n",
    "                else: \n",
    "                    value = '{:.2f}'.format(p.get_height())\n",
    "                ax.text(_x, _y, value, ha=\"center\") \n",
    "        \n",
    "        elif h_v == \"h\":\n",
    "            for p in ax.patches:\n",
    "                _x = p.get_x() + p.get_width() + float(space)\n",
    "                _y = p.get_y() + p.get_height()\n",
    "                if pct == True: \n",
    "                    value = '{:.2%}'.format(p.get_width())\n",
    "                else: \n",
    "                    value = '{:.2f}'.format(p.get_width())\n",
    "                if neg == True: \n",
    "                    ax.text(_x, _y, value, ha=\"right\")\n",
    "                else:\n",
    "                    ax.text(_x, _y, value, ha=\"left\")\n",
    "\n",
    "    if isinstance(axs, np.ndarray):\n",
    "        for idx, ax in np.ndenumerate(axs):\n",
    "            _show_on_single_plot(ax)\n",
    "    else:\n",
    "        _show_on_single_plot(axs)"
   ]
  },
  {
   "cell_type": "markdown",
   "id": "technological-rocket",
   "metadata": {},
   "source": [
    "# Analysis"
   ]
  },
  {
   "cell_type": "code",
   "execution_count": 6,
   "id": "baking-growing",
   "metadata": {},
   "outputs": [],
   "source": [
    "# MODIFY!\n",
    "df = frame_it('./baseline-err')\n",
    "# we tranpose the data frame for the analysis"
   ]
  },
  {
   "cell_type": "code",
   "execution_count": 7,
   "id": "junior-container",
   "metadata": {},
   "outputs": [],
   "source": [
    "df = df.T\n",
    "# we transpose the data frame due to way we exported the data"
   ]
  },
  {
   "cell_type": "code",
   "execution_count": 8,
   "id": "bizarre-lender",
   "metadata": {},
   "outputs": [
    {
     "data": {
      "text/html": [
       "<div>\n",
       "<style scoped>\n",
       "    .dataframe tbody tr th:only-of-type {\n",
       "        vertical-align: middle;\n",
       "    }\n",
       "\n",
       "    .dataframe tbody tr th {\n",
       "        vertical-align: top;\n",
       "    }\n",
       "\n",
       "    .dataframe thead th {\n",
       "        text-align: right;\n",
       "    }\n",
       "</style>\n",
       "<table border=\"1\" class=\"dataframe\">\n",
       "  <thead>\n",
       "    <tr style=\"text-align: right;\">\n",
       "      <th></th>\n",
       "      <th>MAE</th>\n",
       "      <th>MSE</th>\n",
       "      <th>RMSE</th>\n",
       "    </tr>\n",
       "  </thead>\n",
       "  <tbody>\n",
       "    <tr>\n",
       "      <th>rf-baseline-no</th>\n",
       "      <td>2.954400</td>\n",
       "      <td>16.312539</td>\n",
       "      <td>4.038878</td>\n",
       "    </tr>\n",
       "    <tr>\n",
       "      <th>poi-baseline-no</th>\n",
       "      <td>3.219939</td>\n",
       "      <td>17.410467</td>\n",
       "      <td>4.172585</td>\n",
       "    </tr>\n",
       "    <tr>\n",
       "      <th>rf-baseline-wo</th>\n",
       "      <td>3.196090</td>\n",
       "      <td>18.920772</td>\n",
       "      <td>4.349801</td>\n",
       "    </tr>\n",
       "    <tr>\n",
       "      <th>poi-baseline-wo</th>\n",
       "      <td>3.441623</td>\n",
       "      <td>19.861670</td>\n",
       "      <td>4.456643</td>\n",
       "    </tr>\n",
       "    <tr>\n",
       "      <th>svr-baseline-no</th>\n",
       "      <td>3.712189</td>\n",
       "      <td>23.466414</td>\n",
       "      <td>4.844215</td>\n",
       "    </tr>\n",
       "    <tr>\n",
       "      <th>svr-baseline-wo</th>\n",
       "      <td>3.896938</td>\n",
       "      <td>26.342061</td>\n",
       "      <td>5.132452</td>\n",
       "    </tr>\n",
       "  </tbody>\n",
       "</table>\n",
       "</div>"
      ],
      "text/plain": [
       "                      MAE        MSE      RMSE\n",
       "rf-baseline-no   2.954400  16.312539  4.038878\n",
       "poi-baseline-no  3.219939  17.410467  4.172585\n",
       "rf-baseline-wo   3.196090  18.920772  4.349801\n",
       "poi-baseline-wo  3.441623  19.861670  4.456643\n",
       "svr-baseline-no  3.712189  23.466414  4.844215\n",
       "svr-baseline-wo  3.896938  26.342061  5.132452"
      ]
     },
     "execution_count": 8,
     "metadata": {},
     "output_type": "execute_result"
    }
   ],
   "source": [
    "df_rmse = df.sort_values('RMSE')\n",
    "df_rmse"
   ]
  },
  {
   "cell_type": "code",
   "execution_count": 9,
   "id": "conditional-couple",
   "metadata": {},
   "outputs": [],
   "source": [
    "df_rmse.to_csv(f'./analysis/{notebook_name}.csv')"
   ]
  },
  {
   "cell_type": "markdown",
   "id": "collectible-wells",
   "metadata": {},
   "source": [
    "## ERR Values [MBit/s] and [(MBit/s)^2]"
   ]
  },
  {
   "cell_type": "code",
   "execution_count": 10,
   "id": "clear-government",
   "metadata": {},
   "outputs": [
    {
     "data": {
      "text/html": [
       "<style  type=\"text/css\" >\n",
       "    #T_9446c128_5e77_11eb_a403_60f81dd06e70 tr:hover {\n",
       "          background-color: ;\n",
       "    }#T_9446c128_5e77_11eb_a403_60f81dd06e70row0_col0,#T_9446c128_5e77_11eb_a403_60f81dd06e70row0_col1,#T_9446c128_5e77_11eb_a403_60f81dd06e70row0_col2{\n",
       "            background-color:  lightgrey;\n",
       "        }</style><table id=\"T_9446c128_5e77_11eb_a403_60f81dd06e70\" ><thead>    <tr>        <th class=\"blank level0\" ></th>        <th class=\"col_heading level0 col0\" >MAE</th>        <th class=\"col_heading level0 col1\" >MSE</th>        <th class=\"col_heading level0 col2\" >RMSE</th>    </tr></thead><tbody>\n",
       "                <tr>\n",
       "                        <th id=\"T_9446c128_5e77_11eb_a403_60f81dd06e70level0_row0\" class=\"row_heading level0 row0\" >rf-baseline-no</th>\n",
       "                        <td id=\"T_9446c128_5e77_11eb_a403_60f81dd06e70row0_col0\" class=\"data row0 col0\" >2.954400</td>\n",
       "                        <td id=\"T_9446c128_5e77_11eb_a403_60f81dd06e70row0_col1\" class=\"data row0 col1\" >16.312539</td>\n",
       "                        <td id=\"T_9446c128_5e77_11eb_a403_60f81dd06e70row0_col2\" class=\"data row0 col2\" >4.038878</td>\n",
       "            </tr>\n",
       "            <tr>\n",
       "                        <th id=\"T_9446c128_5e77_11eb_a403_60f81dd06e70level0_row1\" class=\"row_heading level0 row1\" >poi-baseline-no</th>\n",
       "                        <td id=\"T_9446c128_5e77_11eb_a403_60f81dd06e70row1_col0\" class=\"data row1 col0\" >3.219939</td>\n",
       "                        <td id=\"T_9446c128_5e77_11eb_a403_60f81dd06e70row1_col1\" class=\"data row1 col1\" >17.410467</td>\n",
       "                        <td id=\"T_9446c128_5e77_11eb_a403_60f81dd06e70row1_col2\" class=\"data row1 col2\" >4.172585</td>\n",
       "            </tr>\n",
       "            <tr>\n",
       "                        <th id=\"T_9446c128_5e77_11eb_a403_60f81dd06e70level0_row2\" class=\"row_heading level0 row2\" >rf-baseline-wo</th>\n",
       "                        <td id=\"T_9446c128_5e77_11eb_a403_60f81dd06e70row2_col0\" class=\"data row2 col0\" >3.196090</td>\n",
       "                        <td id=\"T_9446c128_5e77_11eb_a403_60f81dd06e70row2_col1\" class=\"data row2 col1\" >18.920772</td>\n",
       "                        <td id=\"T_9446c128_5e77_11eb_a403_60f81dd06e70row2_col2\" class=\"data row2 col2\" >4.349801</td>\n",
       "            </tr>\n",
       "            <tr>\n",
       "                        <th id=\"T_9446c128_5e77_11eb_a403_60f81dd06e70level0_row3\" class=\"row_heading level0 row3\" >poi-baseline-wo</th>\n",
       "                        <td id=\"T_9446c128_5e77_11eb_a403_60f81dd06e70row3_col0\" class=\"data row3 col0\" >3.441623</td>\n",
       "                        <td id=\"T_9446c128_5e77_11eb_a403_60f81dd06e70row3_col1\" class=\"data row3 col1\" >19.861670</td>\n",
       "                        <td id=\"T_9446c128_5e77_11eb_a403_60f81dd06e70row3_col2\" class=\"data row3 col2\" >4.456643</td>\n",
       "            </tr>\n",
       "            <tr>\n",
       "                        <th id=\"T_9446c128_5e77_11eb_a403_60f81dd06e70level0_row4\" class=\"row_heading level0 row4\" >svr-baseline-no</th>\n",
       "                        <td id=\"T_9446c128_5e77_11eb_a403_60f81dd06e70row4_col0\" class=\"data row4 col0\" >3.712189</td>\n",
       "                        <td id=\"T_9446c128_5e77_11eb_a403_60f81dd06e70row4_col1\" class=\"data row4 col1\" >23.466414</td>\n",
       "                        <td id=\"T_9446c128_5e77_11eb_a403_60f81dd06e70row4_col2\" class=\"data row4 col2\" >4.844215</td>\n",
       "            </tr>\n",
       "            <tr>\n",
       "                        <th id=\"T_9446c128_5e77_11eb_a403_60f81dd06e70level0_row5\" class=\"row_heading level0 row5\" >svr-baseline-wo</th>\n",
       "                        <td id=\"T_9446c128_5e77_11eb_a403_60f81dd06e70row5_col0\" class=\"data row5 col0\" >3.896938</td>\n",
       "                        <td id=\"T_9446c128_5e77_11eb_a403_60f81dd06e70row5_col1\" class=\"data row5 col1\" >26.342061</td>\n",
       "                        <td id=\"T_9446c128_5e77_11eb_a403_60f81dd06e70row5_col2\" class=\"data row5 col2\" >5.132452</td>\n",
       "            </tr>\n",
       "    </tbody></table>"
      ],
      "text/plain": [
       "<pandas.io.formats.style.Styler at 0x7fe987ea1730>"
      ]
     },
     "execution_count": 10,
     "metadata": {},
     "output_type": "execute_result"
    }
   ],
   "source": [
    "df_rmse.style.highlight_min(color = 'lightgrey', axis = 0).set_table_styles([{'selector': 'tr:hover','props': [('background-color', '')]}])"
   ]
  },
  {
   "cell_type": "markdown",
   "id": "alien-enemy",
   "metadata": {},
   "source": [
    "## RMSE Performance Decline based on Best Performance [%]"
   ]
  },
  {
   "cell_type": "code",
   "execution_count": 11,
   "id": "standard-notice",
   "metadata": {},
   "outputs": [],
   "source": [
    "df_rmse_min = df_rmse.apply(lambda value : -((value/df.min())-1),axis=1)"
   ]
  },
  {
   "cell_type": "code",
   "execution_count": 12,
   "id": "terminal-incidence",
   "metadata": {},
   "outputs": [],
   "source": [
    "df_rmse_min = df_rmse_min.sort_values('RMSE',ascending=False)"
   ]
  },
  {
   "cell_type": "code",
   "execution_count": 13,
   "id": "facial-poland",
   "metadata": {},
   "outputs": [],
   "source": [
    "df_rmse_min.to_csv(f'./analysis/{notebook_name}-min.csv')"
   ]
  },
  {
   "cell_type": "code",
   "execution_count": 14,
   "id": "found-yukon",
   "metadata": {},
   "outputs": [
    {
     "data": {
      "text/html": [
       "<style  type=\"text/css\" >\n",
       "    #T_9466d6d4_5e77_11eb_a403_60f81dd06e70 tr:hover {\n",
       "          background-color: ;\n",
       "    }#T_9466d6d4_5e77_11eb_a403_60f81dd06e70row0_col0,#T_9466d6d4_5e77_11eb_a403_60f81dd06e70row0_col1,#T_9466d6d4_5e77_11eb_a403_60f81dd06e70row0_col2{\n",
       "            background-color:  lightgrey;\n",
       "        }</style><table id=\"T_9466d6d4_5e77_11eb_a403_60f81dd06e70\" ><thead>    <tr>        <th class=\"blank level0\" ></th>        <th class=\"col_heading level0 col0\" >MAE</th>        <th class=\"col_heading level0 col1\" >MSE</th>        <th class=\"col_heading level0 col2\" >RMSE</th>    </tr></thead><tbody>\n",
       "                <tr>\n",
       "                        <th id=\"T_9466d6d4_5e77_11eb_a403_60f81dd06e70level0_row0\" class=\"row_heading level0 row0\" >rf-baseline-no</th>\n",
       "                        <td id=\"T_9466d6d4_5e77_11eb_a403_60f81dd06e70row0_col0\" class=\"data row0 col0\" >-0.00%</td>\n",
       "                        <td id=\"T_9466d6d4_5e77_11eb_a403_60f81dd06e70row0_col1\" class=\"data row0 col1\" >-0.00%</td>\n",
       "                        <td id=\"T_9466d6d4_5e77_11eb_a403_60f81dd06e70row0_col2\" class=\"data row0 col2\" >-0.00%</td>\n",
       "            </tr>\n",
       "            <tr>\n",
       "                        <th id=\"T_9466d6d4_5e77_11eb_a403_60f81dd06e70level0_row1\" class=\"row_heading level0 row1\" >poi-baseline-no</th>\n",
       "                        <td id=\"T_9466d6d4_5e77_11eb_a403_60f81dd06e70row1_col0\" class=\"data row1 col0\" >-8.99%</td>\n",
       "                        <td id=\"T_9466d6d4_5e77_11eb_a403_60f81dd06e70row1_col1\" class=\"data row1 col1\" >-6.73%</td>\n",
       "                        <td id=\"T_9466d6d4_5e77_11eb_a403_60f81dd06e70row1_col2\" class=\"data row1 col2\" >-3.31%</td>\n",
       "            </tr>\n",
       "            <tr>\n",
       "                        <th id=\"T_9466d6d4_5e77_11eb_a403_60f81dd06e70level0_row2\" class=\"row_heading level0 row2\" >rf-baseline-wo</th>\n",
       "                        <td id=\"T_9466d6d4_5e77_11eb_a403_60f81dd06e70row2_col0\" class=\"data row2 col0\" >-8.18%</td>\n",
       "                        <td id=\"T_9466d6d4_5e77_11eb_a403_60f81dd06e70row2_col1\" class=\"data row2 col1\" >-15.99%</td>\n",
       "                        <td id=\"T_9466d6d4_5e77_11eb_a403_60f81dd06e70row2_col2\" class=\"data row2 col2\" >-7.70%</td>\n",
       "            </tr>\n",
       "            <tr>\n",
       "                        <th id=\"T_9466d6d4_5e77_11eb_a403_60f81dd06e70level0_row3\" class=\"row_heading level0 row3\" >poi-baseline-wo</th>\n",
       "                        <td id=\"T_9466d6d4_5e77_11eb_a403_60f81dd06e70row3_col0\" class=\"data row3 col0\" >-16.49%</td>\n",
       "                        <td id=\"T_9466d6d4_5e77_11eb_a403_60f81dd06e70row3_col1\" class=\"data row3 col1\" >-21.76%</td>\n",
       "                        <td id=\"T_9466d6d4_5e77_11eb_a403_60f81dd06e70row3_col2\" class=\"data row3 col2\" >-10.34%</td>\n",
       "            </tr>\n",
       "            <tr>\n",
       "                        <th id=\"T_9466d6d4_5e77_11eb_a403_60f81dd06e70level0_row4\" class=\"row_heading level0 row4\" >svr-baseline-no</th>\n",
       "                        <td id=\"T_9466d6d4_5e77_11eb_a403_60f81dd06e70row4_col0\" class=\"data row4 col0\" >-25.65%</td>\n",
       "                        <td id=\"T_9466d6d4_5e77_11eb_a403_60f81dd06e70row4_col1\" class=\"data row4 col1\" >-43.86%</td>\n",
       "                        <td id=\"T_9466d6d4_5e77_11eb_a403_60f81dd06e70row4_col2\" class=\"data row4 col2\" >-19.94%</td>\n",
       "            </tr>\n",
       "            <tr>\n",
       "                        <th id=\"T_9466d6d4_5e77_11eb_a403_60f81dd06e70level0_row5\" class=\"row_heading level0 row5\" >svr-baseline-wo</th>\n",
       "                        <td id=\"T_9466d6d4_5e77_11eb_a403_60f81dd06e70row5_col0\" class=\"data row5 col0\" >-31.90%</td>\n",
       "                        <td id=\"T_9466d6d4_5e77_11eb_a403_60f81dd06e70row5_col1\" class=\"data row5 col1\" >-61.48%</td>\n",
       "                        <td id=\"T_9466d6d4_5e77_11eb_a403_60f81dd06e70row5_col2\" class=\"data row5 col2\" >-27.08%</td>\n",
       "            </tr>\n",
       "    </tbody></table>"
      ],
      "text/plain": [
       "<pandas.io.formats.style.Styler at 0x7fe988a394f0>"
      ]
     },
     "execution_count": 14,
     "metadata": {},
     "output_type": "execute_result"
    }
   ],
   "source": [
    "df_rmse_min.style.highlight_max(color = 'lightgrey', axis = 0).set_table_styles([{'selector': 'tr:hover','props': [('background-color', '')]}]).format('{:.2%}')"
   ]
  },
  {
   "cell_type": "markdown",
   "id": "fluid-violence",
   "metadata": {},
   "source": [
    "## RMSE Performance Increment based on Worst Performance [%]"
   ]
  },
  {
   "cell_type": "code",
   "execution_count": 15,
   "id": "several-perfume",
   "metadata": {},
   "outputs": [],
   "source": [
    "df_rmse_max = df.apply(lambda value : abs((value/df.max())-1),axis=1)"
   ]
  },
  {
   "cell_type": "code",
   "execution_count": 16,
   "id": "christian-understanding",
   "metadata": {},
   "outputs": [],
   "source": [
    "df_rmse_max = df_rmse_max.sort_values('RMSE',ascending=False)"
   ]
  },
  {
   "cell_type": "code",
   "execution_count": 17,
   "id": "african-pilot",
   "metadata": {},
   "outputs": [],
   "source": [
    "df_rmse_max.to_csv(f'./analysis/{notebook_name}-max.csv')"
   ]
  },
  {
   "cell_type": "code",
   "execution_count": 18,
   "id": "educated-diploma",
   "metadata": {},
   "outputs": [
    {
     "data": {
      "text/html": [
       "<style  type=\"text/css\" >\n",
       "    #T_94859a60_5e77_11eb_a403_60f81dd06e70 tr:hover {\n",
       "          background-color: ;\n",
       "    }#T_94859a60_5e77_11eb_a403_60f81dd06e70row0_col0,#T_94859a60_5e77_11eb_a403_60f81dd06e70row0_col1,#T_94859a60_5e77_11eb_a403_60f81dd06e70row0_col2{\n",
       "            background-color:  lightgrey;\n",
       "        }</style><table id=\"T_94859a60_5e77_11eb_a403_60f81dd06e70\" ><thead>    <tr>        <th class=\"blank level0\" ></th>        <th class=\"col_heading level0 col0\" >MAE</th>        <th class=\"col_heading level0 col1\" >MSE</th>        <th class=\"col_heading level0 col2\" >RMSE</th>    </tr></thead><tbody>\n",
       "                <tr>\n",
       "                        <th id=\"T_94859a60_5e77_11eb_a403_60f81dd06e70level0_row0\" class=\"row_heading level0 row0\" >rf-baseline-no</th>\n",
       "                        <td id=\"T_94859a60_5e77_11eb_a403_60f81dd06e70row0_col0\" class=\"data row0 col0\" >24.19%</td>\n",
       "                        <td id=\"T_94859a60_5e77_11eb_a403_60f81dd06e70row0_col1\" class=\"data row0 col1\" >38.07%</td>\n",
       "                        <td id=\"T_94859a60_5e77_11eb_a403_60f81dd06e70row0_col2\" class=\"data row0 col2\" >21.31%</td>\n",
       "            </tr>\n",
       "            <tr>\n",
       "                        <th id=\"T_94859a60_5e77_11eb_a403_60f81dd06e70level0_row1\" class=\"row_heading level0 row1\" >poi-baseline-no</th>\n",
       "                        <td id=\"T_94859a60_5e77_11eb_a403_60f81dd06e70row1_col0\" class=\"data row1 col0\" >17.37%</td>\n",
       "                        <td id=\"T_94859a60_5e77_11eb_a403_60f81dd06e70row1_col1\" class=\"data row1 col1\" >33.91%</td>\n",
       "                        <td id=\"T_94859a60_5e77_11eb_a403_60f81dd06e70row1_col2\" class=\"data row1 col2\" >18.70%</td>\n",
       "            </tr>\n",
       "            <tr>\n",
       "                        <th id=\"T_94859a60_5e77_11eb_a403_60f81dd06e70level0_row2\" class=\"row_heading level0 row2\" >rf-baseline-wo</th>\n",
       "                        <td id=\"T_94859a60_5e77_11eb_a403_60f81dd06e70row2_col0\" class=\"data row2 col0\" >17.98%</td>\n",
       "                        <td id=\"T_94859a60_5e77_11eb_a403_60f81dd06e70row2_col1\" class=\"data row2 col1\" >28.17%</td>\n",
       "                        <td id=\"T_94859a60_5e77_11eb_a403_60f81dd06e70row2_col2\" class=\"data row2 col2\" >15.25%</td>\n",
       "            </tr>\n",
       "            <tr>\n",
       "                        <th id=\"T_94859a60_5e77_11eb_a403_60f81dd06e70level0_row3\" class=\"row_heading level0 row3\" >poi-baseline-wo</th>\n",
       "                        <td id=\"T_94859a60_5e77_11eb_a403_60f81dd06e70row3_col0\" class=\"data row3 col0\" >11.68%</td>\n",
       "                        <td id=\"T_94859a60_5e77_11eb_a403_60f81dd06e70row3_col1\" class=\"data row3 col1\" >24.60%</td>\n",
       "                        <td id=\"T_94859a60_5e77_11eb_a403_60f81dd06e70row3_col2\" class=\"data row3 col2\" >13.17%</td>\n",
       "            </tr>\n",
       "            <tr>\n",
       "                        <th id=\"T_94859a60_5e77_11eb_a403_60f81dd06e70level0_row4\" class=\"row_heading level0 row4\" >svr-baseline-no</th>\n",
       "                        <td id=\"T_94859a60_5e77_11eb_a403_60f81dd06e70row4_col0\" class=\"data row4 col0\" >4.74%</td>\n",
       "                        <td id=\"T_94859a60_5e77_11eb_a403_60f81dd06e70row4_col1\" class=\"data row4 col1\" >10.92%</td>\n",
       "                        <td id=\"T_94859a60_5e77_11eb_a403_60f81dd06e70row4_col2\" class=\"data row4 col2\" >5.62%</td>\n",
       "            </tr>\n",
       "            <tr>\n",
       "                        <th id=\"T_94859a60_5e77_11eb_a403_60f81dd06e70level0_row5\" class=\"row_heading level0 row5\" >svr-baseline-wo</th>\n",
       "                        <td id=\"T_94859a60_5e77_11eb_a403_60f81dd06e70row5_col0\" class=\"data row5 col0\" >0.00%</td>\n",
       "                        <td id=\"T_94859a60_5e77_11eb_a403_60f81dd06e70row5_col1\" class=\"data row5 col1\" >0.00%</td>\n",
       "                        <td id=\"T_94859a60_5e77_11eb_a403_60f81dd06e70row5_col2\" class=\"data row5 col2\" >0.00%</td>\n",
       "            </tr>\n",
       "    </tbody></table>"
      ],
      "text/plain": [
       "<pandas.io.formats.style.Styler at 0x7fe988a39ee0>"
      ]
     },
     "execution_count": 18,
     "metadata": {},
     "output_type": "execute_result"
    }
   ],
   "source": [
    "df_rmse_max.style.highlight_max(color = 'lightgrey', axis = 0).set_table_styles([{'selector': 'tr:hover','props': [('background-color', '')]}]).format('{:.2%}')\n",
    "# the information in this table is not that meaningful / useful"
   ]
  },
  {
   "cell_type": "markdown",
   "id": "wrapped-jordan",
   "metadata": {},
   "source": [
    "# Visualization"
   ]
  },
  {
   "cell_type": "code",
   "execution_count": 19,
   "id": "latest-syndrome",
   "metadata": {},
   "outputs": [
    {
     "data": {
      "image/png": "[encoded data removed]",
      "text/plain": [
       "<Figure size 432x288 with 1 Axes>"
      ]
     },
     "metadata": {},
     "output_type": "display_data"
    }
   ],
   "source": [
    "ax = sns.barplot(data=df_rmse, x='RMSE',y=df_rmse.index, palette='mako')\n",
    "show_values_on_bars(ax, \"h\", 0.1)\n",
    "ax.set(ylabel='Model',xlabel='RMSE [MBit/s]')\n",
    "ax.tick_params(axis=u'both', which=u'both',length=0)\n",
    "\n",
    "ax.set_title('Baseline Model RMSE');"
   ]
  },
  {
   "cell_type": "code",
   "execution_count": 20,
   "id": "treated-house",
   "metadata": {},
   "outputs": [
    {
     "data": {
      "image/png": "[encoded data removed]",
      "text/plain": [
       "<Figure size 432x288 with 1 Axes>"
      ]
     },
     "metadata": {},
     "output_type": "display_data"
    }
   ],
   "source": [
    "ax = sns.barplot(data=df_rmse_min,x='RMSE',y=df_rmse_min.index,palette='mako')\n",
    "\n",
    "ax.set(ylabel='Model',xlabel='RMSE Performance Decline [%]')\n",
    "\n",
    "ax.yaxis.set_label_position(\"right\")\n",
    "ax.yaxis.set_ticks_position(\"right\")\n",
    "ax.tick_params(axis=u'both', which=u'both',length=0)\n",
    "\n",
    "show_values_on_bars(ax,\"h\",0.001,True,True)\n",
    "\n",
    "ax.set_title('Baseline Model RMSE Perfomance Decline based on Best Performance');"
   ]
  },
  {
   "cell_type": "code",
   "execution_count": 21,
   "id": "correct-scottish",
   "metadata": {},
   "outputs": [
    {
     "data": {
      "image/png": "[encoded data removed]",
      "text/plain": [
       "<Figure size 432x288 with 1 Axes>"
      ]
     },
     "metadata": {},
     "output_type": "display_data"
    }
   ],
   "source": [
    "ax = sns.barplot(data=df_rmse_max,x='RMSE',y=df_rmse_max.index,palette='mako')\n",
    "show_values_on_bars(ax,\"h\",0.001,True)\n",
    "\n",
    "ax.tick_params(axis=u'both', which=u'both',length=0)\n",
    "\n",
    "ax.set(ylabel='Model',xlabel='RMSE Performance Increment [%]')\n",
    "\n",
    "ax.set_title('Baseline Model RMSE Perfomance Increment based on Worst Performance');"
   ]
  },
  {
   "cell_type": "markdown",
   "id": "continuous-panel",
   "metadata": {},
   "source": [
    "DONE!"
   ]
  },
  {
   "cell_type": "code",
   "execution_count": null,
   "id": "correct-fountain",
   "metadata": {},
   "outputs": [],
   "source": []
  }
 ],
 "metadata": {
  "kernelspec": {
   "display_name": "Python 3",
   "language": "python",
   "name": "python3"
  },
  "language_info": {
   "codemirror_mode": {
    "name": "ipython",
    "version": 3
   },
   "file_extension": ".py",
   "mimetype": "text/x-python",
   "name": "python",
   "nbconvert_exporter": "python",
   "pygments_lexer": "ipython3",
   "version": "3.8.6"
  }
 },
 "nbformat": 4,
 "nbformat_minor": 5
}
