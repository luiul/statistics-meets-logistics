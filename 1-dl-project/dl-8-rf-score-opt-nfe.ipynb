{
 "cells": [
  {
   "cell_type": "code",
   "execution_count": 1,
   "id": "exclusive-village",
   "metadata": {},
   "outputs": [],
   "source": [
    "# MODIFY! \n",
    "# use RobustScaler! \n",
    "model_name = 'RandFoNFE'"
   ]
  },
  {
   "cell_type": "markdown",
   "id": "postal-award",
   "metadata": {},
   "source": [
    "# Import Libraries & Data "
   ]
  },
  {
   "cell_type": "code",
   "execution_count": 2,
   "id": "necessary-parking",
   "metadata": {},
   "outputs": [],
   "source": [
    "import numpy as np\n",
    "import pandas as pd\n",
    "import matplotlib.pyplot as plt\n",
    "import seaborn as sns"
   ]
  },
  {
   "cell_type": "code",
   "execution_count": 3,
   "id": "rubber-calvin",
   "metadata": {},
   "outputs": [],
   "source": [
    "df = pd.read_csv('./data/dl-nfe-ns.csv')\n",
    "X = df.drop('throughput',axis=1)\n",
    "y = df['throughput']"
   ]
  },
  {
   "cell_type": "markdown",
   "id": "daily-probe",
   "metadata": {},
   "source": [
    "---"
   ]
  },
  {
   "cell_type": "markdown",
   "id": "active-stuff",
   "metadata": {},
   "source": [
    "# Scale Data"
   ]
  },
  {
   "cell_type": "code",
   "execution_count": 4,
   "id": "acquired-promotion",
   "metadata": {},
   "outputs": [
    {
     "data": {
      "text/plain": [
       "RobustScaler()"
      ]
     },
     "execution_count": 4,
     "metadata": {},
     "output_type": "execute_result"
    }
   ],
   "source": [
    "# Split the data\n",
    "from sklearn.model_selection import train_test_split\n",
    "X_train, X_test, y_train, y_test = train_test_split(X, y, test_size=0.1, random_state=42)\n",
    "\n",
    "# Scale the data\n",
    "from sklearn.preprocessing import RobustScaler\n",
    "scaler = RobustScaler()\n",
    "scaler.fit(X_train)"
   ]
  },
  {
   "cell_type": "code",
   "execution_count": 5,
   "id": "narrative-programming",
   "metadata": {},
   "outputs": [],
   "source": [
    "X_train = scaler.transform(X_train)\n",
    "X_test = scaler.transform(X_test)"
   ]
  },
  {
   "cell_type": "markdown",
   "id": "capital-settlement",
   "metadata": {},
   "source": [
    "# Determine Hyperparameters"
   ]
  },
  {
   "cell_type": "markdown",
   "id": "elementary-father",
   "metadata": {},
   "source": [
    "## Determine Max Features"
   ]
  },
  {
   "cell_type": "code",
   "execution_count": 6,
   "id": "horizontal-insured",
   "metadata": {},
   "outputs": [
    {
     "data": {
      "text/plain": [
       "RandomForestRegressor(warm_start=True)"
      ]
     },
     "execution_count": 6,
     "metadata": {},
     "output_type": "execute_result"
    }
   ],
   "source": [
    "# MODIFY!\n",
    "from sklearn.ensemble import RandomForestRegressor\n",
    "\n",
    "model = RandomForestRegressor(warm_start=True)\n",
    "model"
   ]
  },
  {
   "cell_type": "code",
   "execution_count": 7,
   "id": "olympic-international",
   "metadata": {},
   "outputs": [],
   "source": [
    "p_grid = {\n",
    "    'max_features':['auto', 'sqrt', 'log2']\n",
    "}"
   ]
  },
  {
   "cell_type": "code",
   "execution_count": 8,
   "id": "direct-wrestling",
   "metadata": {},
   "outputs": [],
   "source": [
    "from sklearn.model_selection import GridSearchCV"
   ]
  },
  {
   "cell_type": "code",
   "execution_count": 9,
   "id": "bottom-impact",
   "metadata": {},
   "outputs": [],
   "source": [
    "grid_model = GridSearchCV(\n",
    "    estimator=model,\n",
    "    param_grid =p_grid, \n",
    "    scoring='neg_mean_squared_error',\n",
    "    cv=10, \n",
    "    verbose=1\n",
    ")"
   ]
  },
  {
   "cell_type": "code",
   "execution_count": 10,
   "id": "hundred-wallpaper",
   "metadata": {},
   "outputs": [
    {
     "name": "stdout",
     "output_type": "stream",
     "text": [
      "Fitting 10 folds for each of 3 candidates, totalling 30 fits\n"
     ]
    },
    {
     "name": "stderr",
     "output_type": "stream",
     "text": [
      "[Parallel(n_jobs=1)]: Using backend SequentialBackend with 1 concurrent workers.\n",
      "[Parallel(n_jobs=1)]: Done  30 out of  30 | elapsed:   28.0s finished\n"
     ]
    },
    {
     "data": {
      "text/plain": [
       "GridSearchCV(cv=10, estimator=RandomForestRegressor(warm_start=True),\n",
       "             param_grid={'max_features': ['auto', 'sqrt', 'log2']},\n",
       "             scoring='neg_mean_squared_error', verbose=1)"
      ]
     },
     "execution_count": 10,
     "metadata": {},
     "output_type": "execute_result"
    }
   ],
   "source": [
    "grid_model.fit(X_train,y_train)"
   ]
  },
  {
   "cell_type": "code",
   "execution_count": 11,
   "id": "described-intake",
   "metadata": {},
   "outputs": [
    {
     "data": {
      "text/plain": [
       "{'max_features': 'auto'}"
      ]
     },
     "execution_count": 11,
     "metadata": {},
     "output_type": "execute_result"
    }
   ],
   "source": [
    "grid_model.best_params_"
   ]
  },
  {
   "cell_type": "code",
   "execution_count": 12,
   "id": "discrete-provincial",
   "metadata": {},
   "outputs": [],
   "source": [
    "hp = pd.Series(name=f'{model_name} HP', data=grid_model.best_params_)"
   ]
  },
  {
   "cell_type": "code",
   "execution_count": 13,
   "id": "oriental-mills",
   "metadata": {},
   "outputs": [
    {
     "data": {
      "text/plain": [
       "max_features    auto\n",
       "Name: RandFoNFE HP, dtype: object"
      ]
     },
     "execution_count": 13,
     "metadata": {},
     "output_type": "execute_result"
    }
   ],
   "source": [
    "hp"
   ]
  },
  {
   "cell_type": "code",
   "execution_count": 14,
   "id": "united-freeware",
   "metadata": {},
   "outputs": [],
   "source": [
    "hp.to_csv(f'./hyperparameters/{model_name}-hp.csv')"
   ]
  },
  {
   "cell_type": "markdown",
   "id": "strong-dover",
   "metadata": {},
   "source": [
    "## Determine Number of Estimators"
   ]
  },
  {
   "cell_type": "code",
   "execution_count": 17,
   "id": "municipal-soviet",
   "metadata": {},
   "outputs": [
    {
     "name": "stdout",
     "output_type": "stream",
     "text": [
      "Starting 5 estimators\n",
      "Done with 5 estimators\n",
      "Elapsed time: 1.2854740619659424\n",
      "\n",
      "\n",
      "Starting 10 estimators\n",
      "Done with 10 estimators\n",
      "Elapsed time: 2.3488268852233887\n",
      "\n",
      "\n",
      "Starting 25 estimators\n",
      "Done with 25 estimators\n",
      "Elapsed time: 5.565361022949219\n",
      "\n",
      "\n",
      "Starting 50 estimators\n",
      "Done with 50 estimators\n",
      "Elapsed time: 13.010085105895996\n",
      "\n",
      "\n",
      "Starting 100 estimators\n",
      "Done with 100 estimators\n",
      "Elapsed time: 25.729158878326416\n",
      "\n",
      "\n",
      "Starting 500 estimators\n",
      "Done with 500 estimators\n",
      "Elapsed time: 130.33762121200562\n",
      "\n",
      "\n",
      "Starting 1000 estimators\n",
      "Done with 1000 estimators\n",
      "Elapsed time: 236.18822598457336\n",
      "\n",
      "\n",
      "Starting 2000 estimators\n",
      "Done with 2000 estimators\n",
      "Elapsed time: 598.978747844696\n",
      "\n",
      "\n"
     ]
    }
   ],
   "source": [
    "# MODIFY!\n",
    "import time\n",
    "\n",
    "estimators = [5,10,25,50,100,500,1000,2000]\n",
    "scores_list = []\n",
    "\n",
    "from sklearn.ensemble import RandomForestRegressor\n",
    "\n",
    "for e in estimators: \n",
    "    start = time.time()\n",
    "    print(f'Starting {e} estimators')\n",
    "    score_model = RandomForestRegressor(\n",
    "        n_estimators=e,\n",
    "        max_features=grid_model.best_params_['max_features']\n",
    "    )\n",
    "    \n",
    "    from sklearn.model_selection import cross_validate\n",
    "\n",
    "    scores = cross_validate(\n",
    "        score_model, \n",
    "        X_train, \n",
    "        y_train,\n",
    "        scoring=[\n",
    "            'neg_mean_absolute_error',\n",
    "            'neg_mean_squared_error',\n",
    "            'neg_root_mean_squared_error'\n",
    "        ],\n",
    "        cv=10\n",
    "    )\n",
    "    \n",
    "    scores = pd.DataFrame(scores)\n",
    "    scores\n",
    "    mean_scores = scores.mean()\n",
    "    scores_list.append(mean_scores)\n",
    "    print(f'Done with {e} estimators')\n",
    "    end = time.time()\n",
    "    print(f'Elapsed time: {end - start}')\n",
    "    print('\\n')"
   ]
  },
  {
   "cell_type": "code",
   "execution_count": 18,
   "id": "powerful-wrestling",
   "metadata": {},
   "outputs": [],
   "source": [
    "scores_df = pd.DataFrame(scores_list)"
   ]
  },
  {
   "cell_type": "code",
   "execution_count": 19,
   "id": "exempt-president",
   "metadata": {},
   "outputs": [
    {
     "data": {
      "text/html": [
       "<div>\n",
       "<style scoped>\n",
       "    .dataframe tbody tr th:only-of-type {\n",
       "        vertical-align: middle;\n",
       "    }\n",
       "\n",
       "    .dataframe tbody tr th {\n",
       "        vertical-align: top;\n",
       "    }\n",
       "\n",
       "    .dataframe thead th {\n",
       "        text-align: right;\n",
       "    }\n",
       "</style>\n",
       "<table border=\"1\" class=\"dataframe\">\n",
       "  <thead>\n",
       "    <tr style=\"text-align: right;\">\n",
       "      <th></th>\n",
       "      <th>fit_time</th>\n",
       "      <th>score_time</th>\n",
       "      <th>test_neg_mean_absolute_error</th>\n",
       "      <th>test_neg_mean_squared_error</th>\n",
       "      <th>test_neg_root_mean_squared_error</th>\n",
       "    </tr>\n",
       "  </thead>\n",
       "  <tbody>\n",
       "    <tr>\n",
       "      <th>0</th>\n",
       "      <td>0.123868</td>\n",
       "      <td>0.003671</td>\n",
       "      <td>-3.403930</td>\n",
       "      <td>-22.008160</td>\n",
       "      <td>-4.674958</td>\n",
       "    </tr>\n",
       "    <tr>\n",
       "      <th>1</th>\n",
       "      <td>0.228516</td>\n",
       "      <td>0.005463</td>\n",
       "      <td>-3.158966</td>\n",
       "      <td>-19.350467</td>\n",
       "      <td>-4.383474</td>\n",
       "    </tr>\n",
       "    <tr>\n",
       "      <th>2</th>\n",
       "      <td>0.549501</td>\n",
       "      <td>0.005670</td>\n",
       "      <td>-3.128277</td>\n",
       "      <td>-18.653839</td>\n",
       "      <td>-4.307584</td>\n",
       "    </tr>\n",
       "    <tr>\n",
       "      <th>3</th>\n",
       "      <td>1.285379</td>\n",
       "      <td>0.011500</td>\n",
       "      <td>-3.052466</td>\n",
       "      <td>-17.864684</td>\n",
       "      <td>-4.211412</td>\n",
       "    </tr>\n",
       "    <tr>\n",
       "      <th>4</th>\n",
       "      <td>2.547330</td>\n",
       "      <td>0.022418</td>\n",
       "      <td>-3.055044</td>\n",
       "      <td>-17.947391</td>\n",
       "      <td>-4.223487</td>\n",
       "    </tr>\n",
       "    <tr>\n",
       "      <th>5</th>\n",
       "      <td>12.915429</td>\n",
       "      <td>0.102786</td>\n",
       "      <td>-3.038092</td>\n",
       "      <td>-17.797980</td>\n",
       "      <td>-4.203056</td>\n",
       "    </tr>\n",
       "    <tr>\n",
       "      <th>6</th>\n",
       "      <td>23.394587</td>\n",
       "      <td>0.191180</td>\n",
       "      <td>-3.038006</td>\n",
       "      <td>-17.804321</td>\n",
       "      <td>-4.204119</td>\n",
       "    </tr>\n",
       "    <tr>\n",
       "      <th>7</th>\n",
       "      <td>59.087064</td>\n",
       "      <td>0.717331</td>\n",
       "      <td>-3.034503</td>\n",
       "      <td>-17.749638</td>\n",
       "      <td>-4.197672</td>\n",
       "    </tr>\n",
       "  </tbody>\n",
       "</table>\n",
       "</div>"
      ],
      "text/plain": [
       "    fit_time  score_time  test_neg_mean_absolute_error  \\\n",
       "0   0.123868    0.003671                     -3.403930   \n",
       "1   0.228516    0.005463                     -3.158966   \n",
       "2   0.549501    0.005670                     -3.128277   \n",
       "3   1.285379    0.011500                     -3.052466   \n",
       "4   2.547330    0.022418                     -3.055044   \n",
       "5  12.915429    0.102786                     -3.038092   \n",
       "6  23.394587    0.191180                     -3.038006   \n",
       "7  59.087064    0.717331                     -3.034503   \n",
       "\n",
       "   test_neg_mean_squared_error  test_neg_root_mean_squared_error  \n",
       "0                   -22.008160                         -4.674958  \n",
       "1                   -19.350467                         -4.383474  \n",
       "2                   -18.653839                         -4.307584  \n",
       "3                   -17.864684                         -4.211412  \n",
       "4                   -17.947391                         -4.223487  \n",
       "5                   -17.797980                         -4.203056  \n",
       "6                   -17.804321                         -4.204119  \n",
       "7                   -17.749638                         -4.197672  "
      ]
     },
     "execution_count": 19,
     "metadata": {},
     "output_type": "execute_result"
    }
   ],
   "source": [
    "scores_df"
   ]
  },
  {
   "cell_type": "code",
   "execution_count": 20,
   "id": "short-mother",
   "metadata": {},
   "outputs": [],
   "source": [
    "scores_df['Est'] = estimators"
   ]
  },
  {
   "cell_type": "code",
   "execution_count": 21,
   "id": "polyphonic-ghana",
   "metadata": {},
   "outputs": [
    {
     "data": {
      "text/html": [
       "<div>\n",
       "<style scoped>\n",
       "    .dataframe tbody tr th:only-of-type {\n",
       "        vertical-align: middle;\n",
       "    }\n",
       "\n",
       "    .dataframe tbody tr th {\n",
       "        vertical-align: top;\n",
       "    }\n",
       "\n",
       "    .dataframe thead th {\n",
       "        text-align: right;\n",
       "    }\n",
       "</style>\n",
       "<table border=\"1\" class=\"dataframe\">\n",
       "  <thead>\n",
       "    <tr style=\"text-align: right;\">\n",
       "      <th></th>\n",
       "      <th>fit_time</th>\n",
       "      <th>score_time</th>\n",
       "      <th>test_neg_mean_absolute_error</th>\n",
       "      <th>test_neg_mean_squared_error</th>\n",
       "      <th>test_neg_root_mean_squared_error</th>\n",
       "      <th>Est</th>\n",
       "    </tr>\n",
       "  </thead>\n",
       "  <tbody>\n",
       "    <tr>\n",
       "      <th>0</th>\n",
       "      <td>0.123868</td>\n",
       "      <td>0.003671</td>\n",
       "      <td>-3.403930</td>\n",
       "      <td>-22.008160</td>\n",
       "      <td>-4.674958</td>\n",
       "      <td>5</td>\n",
       "    </tr>\n",
       "    <tr>\n",
       "      <th>1</th>\n",
       "      <td>0.228516</td>\n",
       "      <td>0.005463</td>\n",
       "      <td>-3.158966</td>\n",
       "      <td>-19.350467</td>\n",
       "      <td>-4.383474</td>\n",
       "      <td>10</td>\n",
       "    </tr>\n",
       "    <tr>\n",
       "      <th>2</th>\n",
       "      <td>0.549501</td>\n",
       "      <td>0.005670</td>\n",
       "      <td>-3.128277</td>\n",
       "      <td>-18.653839</td>\n",
       "      <td>-4.307584</td>\n",
       "      <td>25</td>\n",
       "    </tr>\n",
       "    <tr>\n",
       "      <th>3</th>\n",
       "      <td>1.285379</td>\n",
       "      <td>0.011500</td>\n",
       "      <td>-3.052466</td>\n",
       "      <td>-17.864684</td>\n",
       "      <td>-4.211412</td>\n",
       "      <td>50</td>\n",
       "    </tr>\n",
       "    <tr>\n",
       "      <th>4</th>\n",
       "      <td>2.547330</td>\n",
       "      <td>0.022418</td>\n",
       "      <td>-3.055044</td>\n",
       "      <td>-17.947391</td>\n",
       "      <td>-4.223487</td>\n",
       "      <td>100</td>\n",
       "    </tr>\n",
       "    <tr>\n",
       "      <th>5</th>\n",
       "      <td>12.915429</td>\n",
       "      <td>0.102786</td>\n",
       "      <td>-3.038092</td>\n",
       "      <td>-17.797980</td>\n",
       "      <td>-4.203056</td>\n",
       "      <td>500</td>\n",
       "    </tr>\n",
       "    <tr>\n",
       "      <th>6</th>\n",
       "      <td>23.394587</td>\n",
       "      <td>0.191180</td>\n",
       "      <td>-3.038006</td>\n",
       "      <td>-17.804321</td>\n",
       "      <td>-4.204119</td>\n",
       "      <td>1000</td>\n",
       "    </tr>\n",
       "    <tr>\n",
       "      <th>7</th>\n",
       "      <td>59.087064</td>\n",
       "      <td>0.717331</td>\n",
       "      <td>-3.034503</td>\n",
       "      <td>-17.749638</td>\n",
       "      <td>-4.197672</td>\n",
       "      <td>2000</td>\n",
       "    </tr>\n",
       "  </tbody>\n",
       "</table>\n",
       "</div>"
      ],
      "text/plain": [
       "    fit_time  score_time  test_neg_mean_absolute_error  \\\n",
       "0   0.123868    0.003671                     -3.403930   \n",
       "1   0.228516    0.005463                     -3.158966   \n",
       "2   0.549501    0.005670                     -3.128277   \n",
       "3   1.285379    0.011500                     -3.052466   \n",
       "4   2.547330    0.022418                     -3.055044   \n",
       "5  12.915429    0.102786                     -3.038092   \n",
       "6  23.394587    0.191180                     -3.038006   \n",
       "7  59.087064    0.717331                     -3.034503   \n",
       "\n",
       "   test_neg_mean_squared_error  test_neg_root_mean_squared_error   Est  \n",
       "0                   -22.008160                         -4.674958     5  \n",
       "1                   -19.350467                         -4.383474    10  \n",
       "2                   -18.653839                         -4.307584    25  \n",
       "3                   -17.864684                         -4.211412    50  \n",
       "4                   -17.947391                         -4.223487   100  \n",
       "5                   -17.797980                         -4.203056   500  \n",
       "6                   -17.804321                         -4.204119  1000  \n",
       "7                   -17.749638                         -4.197672  2000  "
      ]
     },
     "execution_count": 21,
     "metadata": {},
     "output_type": "execute_result"
    }
   ],
   "source": [
    "scores_df"
   ]
  },
  {
   "cell_type": "markdown",
   "id": "trying-apparatus",
   "metadata": {},
   "source": [
    "# Export Scores for Number of Estimators"
   ]
  },
  {
   "cell_type": "code",
   "execution_count": 22,
   "id": "unable-venue",
   "metadata": {},
   "outputs": [],
   "source": [
    "# mean_scores"
   ]
  },
  {
   "cell_type": "code",
   "execution_count": 23,
   "id": "welsh-register",
   "metadata": {},
   "outputs": [],
   "source": [
    "scores_df = scores_df.rename(columns={\n",
    "    'fit_time':'Fit Time',\n",
    "    'score_time':'Score Time',\n",
    "    'test_neg_mean_absolute_error':'MAE',\n",
    "    'test_neg_mean_squared_error':'MSE',\n",
    "    'test_neg_root_mean_squared_error':'RMSE'\n",
    "})"
   ]
  },
  {
   "cell_type": "code",
   "execution_count": 24,
   "id": "devoted-valley",
   "metadata": {},
   "outputs": [
    {
     "data": {
      "text/html": [
       "<div>\n",
       "<style scoped>\n",
       "    .dataframe tbody tr th:only-of-type {\n",
       "        vertical-align: middle;\n",
       "    }\n",
       "\n",
       "    .dataframe tbody tr th {\n",
       "        vertical-align: top;\n",
       "    }\n",
       "\n",
       "    .dataframe thead th {\n",
       "        text-align: right;\n",
       "    }\n",
       "</style>\n",
       "<table border=\"1\" class=\"dataframe\">\n",
       "  <thead>\n",
       "    <tr style=\"text-align: right;\">\n",
       "      <th></th>\n",
       "      <th>Fit Time</th>\n",
       "      <th>Score Time</th>\n",
       "      <th>MAE</th>\n",
       "      <th>MSE</th>\n",
       "      <th>RMSE</th>\n",
       "      <th>Est</th>\n",
       "    </tr>\n",
       "  </thead>\n",
       "  <tbody>\n",
       "    <tr>\n",
       "      <th>0</th>\n",
       "      <td>0.123868</td>\n",
       "      <td>0.003671</td>\n",
       "      <td>-3.403930</td>\n",
       "      <td>-22.008160</td>\n",
       "      <td>-4.674958</td>\n",
       "      <td>5</td>\n",
       "    </tr>\n",
       "    <tr>\n",
       "      <th>1</th>\n",
       "      <td>0.228516</td>\n",
       "      <td>0.005463</td>\n",
       "      <td>-3.158966</td>\n",
       "      <td>-19.350467</td>\n",
       "      <td>-4.383474</td>\n",
       "      <td>10</td>\n",
       "    </tr>\n",
       "    <tr>\n",
       "      <th>2</th>\n",
       "      <td>0.549501</td>\n",
       "      <td>0.005670</td>\n",
       "      <td>-3.128277</td>\n",
       "      <td>-18.653839</td>\n",
       "      <td>-4.307584</td>\n",
       "      <td>25</td>\n",
       "    </tr>\n",
       "    <tr>\n",
       "      <th>3</th>\n",
       "      <td>1.285379</td>\n",
       "      <td>0.011500</td>\n",
       "      <td>-3.052466</td>\n",
       "      <td>-17.864684</td>\n",
       "      <td>-4.211412</td>\n",
       "      <td>50</td>\n",
       "    </tr>\n",
       "    <tr>\n",
       "      <th>4</th>\n",
       "      <td>2.547330</td>\n",
       "      <td>0.022418</td>\n",
       "      <td>-3.055044</td>\n",
       "      <td>-17.947391</td>\n",
       "      <td>-4.223487</td>\n",
       "      <td>100</td>\n",
       "    </tr>\n",
       "    <tr>\n",
       "      <th>5</th>\n",
       "      <td>12.915429</td>\n",
       "      <td>0.102786</td>\n",
       "      <td>-3.038092</td>\n",
       "      <td>-17.797980</td>\n",
       "      <td>-4.203056</td>\n",
       "      <td>500</td>\n",
       "    </tr>\n",
       "    <tr>\n",
       "      <th>6</th>\n",
       "      <td>23.394587</td>\n",
       "      <td>0.191180</td>\n",
       "      <td>-3.038006</td>\n",
       "      <td>-17.804321</td>\n",
       "      <td>-4.204119</td>\n",
       "      <td>1000</td>\n",
       "    </tr>\n",
       "    <tr>\n",
       "      <th>7</th>\n",
       "      <td>59.087064</td>\n",
       "      <td>0.717331</td>\n",
       "      <td>-3.034503</td>\n",
       "      <td>-17.749638</td>\n",
       "      <td>-4.197672</td>\n",
       "      <td>2000</td>\n",
       "    </tr>\n",
       "  </tbody>\n",
       "</table>\n",
       "</div>"
      ],
      "text/plain": [
       "    Fit Time  Score Time       MAE        MSE      RMSE   Est\n",
       "0   0.123868    0.003671 -3.403930 -22.008160 -4.674958     5\n",
       "1   0.228516    0.005463 -3.158966 -19.350467 -4.383474    10\n",
       "2   0.549501    0.005670 -3.128277 -18.653839 -4.307584    25\n",
       "3   1.285379    0.011500 -3.052466 -17.864684 -4.211412    50\n",
       "4   2.547330    0.022418 -3.055044 -17.947391 -4.223487   100\n",
       "5  12.915429    0.102786 -3.038092 -17.797980 -4.203056   500\n",
       "6  23.394587    0.191180 -3.038006 -17.804321 -4.204119  1000\n",
       "7  59.087064    0.717331 -3.034503 -17.749638 -4.197672  2000"
      ]
     },
     "execution_count": 24,
     "metadata": {},
     "output_type": "execute_result"
    }
   ],
   "source": [
    "scores_df"
   ]
  },
  {
   "cell_type": "code",
   "execution_count": 25,
   "id": "steady-verification",
   "metadata": {},
   "outputs": [],
   "source": [
    "scores_df[['MAE','MSE','RMSE']] = scores_df[['MAE','MSE','RMSE']].apply(lambda x : abs(x))"
   ]
  },
  {
   "cell_type": "code",
   "execution_count": 26,
   "id": "advanced-blanket",
   "metadata": {},
   "outputs": [
    {
     "data": {
      "text/html": [
       "<div>\n",
       "<style scoped>\n",
       "    .dataframe tbody tr th:only-of-type {\n",
       "        vertical-align: middle;\n",
       "    }\n",
       "\n",
       "    .dataframe tbody tr th {\n",
       "        vertical-align: top;\n",
       "    }\n",
       "\n",
       "    .dataframe thead th {\n",
       "        text-align: right;\n",
       "    }\n",
       "</style>\n",
       "<table border=\"1\" class=\"dataframe\">\n",
       "  <thead>\n",
       "    <tr style=\"text-align: right;\">\n",
       "      <th></th>\n",
       "      <th>Fit Time</th>\n",
       "      <th>Score Time</th>\n",
       "      <th>MAE</th>\n",
       "      <th>MSE</th>\n",
       "      <th>RMSE</th>\n",
       "      <th>Est</th>\n",
       "    </tr>\n",
       "  </thead>\n",
       "  <tbody>\n",
       "    <tr>\n",
       "      <th>0</th>\n",
       "      <td>0.123868</td>\n",
       "      <td>0.003671</td>\n",
       "      <td>3.403930</td>\n",
       "      <td>22.008160</td>\n",
       "      <td>4.674958</td>\n",
       "      <td>5</td>\n",
       "    </tr>\n",
       "    <tr>\n",
       "      <th>1</th>\n",
       "      <td>0.228516</td>\n",
       "      <td>0.005463</td>\n",
       "      <td>3.158966</td>\n",
       "      <td>19.350467</td>\n",
       "      <td>4.383474</td>\n",
       "      <td>10</td>\n",
       "    </tr>\n",
       "    <tr>\n",
       "      <th>2</th>\n",
       "      <td>0.549501</td>\n",
       "      <td>0.005670</td>\n",
       "      <td>3.128277</td>\n",
       "      <td>18.653839</td>\n",
       "      <td>4.307584</td>\n",
       "      <td>25</td>\n",
       "    </tr>\n",
       "    <tr>\n",
       "      <th>3</th>\n",
       "      <td>1.285379</td>\n",
       "      <td>0.011500</td>\n",
       "      <td>3.052466</td>\n",
       "      <td>17.864684</td>\n",
       "      <td>4.211412</td>\n",
       "      <td>50</td>\n",
       "    </tr>\n",
       "    <tr>\n",
       "      <th>4</th>\n",
       "      <td>2.547330</td>\n",
       "      <td>0.022418</td>\n",
       "      <td>3.055044</td>\n",
       "      <td>17.947391</td>\n",
       "      <td>4.223487</td>\n",
       "      <td>100</td>\n",
       "    </tr>\n",
       "    <tr>\n",
       "      <th>5</th>\n",
       "      <td>12.915429</td>\n",
       "      <td>0.102786</td>\n",
       "      <td>3.038092</td>\n",
       "      <td>17.797980</td>\n",
       "      <td>4.203056</td>\n",
       "      <td>500</td>\n",
       "    </tr>\n",
       "    <tr>\n",
       "      <th>6</th>\n",
       "      <td>23.394587</td>\n",
       "      <td>0.191180</td>\n",
       "      <td>3.038006</td>\n",
       "      <td>17.804321</td>\n",
       "      <td>4.204119</td>\n",
       "      <td>1000</td>\n",
       "    </tr>\n",
       "    <tr>\n",
       "      <th>7</th>\n",
       "      <td>59.087064</td>\n",
       "      <td>0.717331</td>\n",
       "      <td>3.034503</td>\n",
       "      <td>17.749638</td>\n",
       "      <td>4.197672</td>\n",
       "      <td>2000</td>\n",
       "    </tr>\n",
       "  </tbody>\n",
       "</table>\n",
       "</div>"
      ],
      "text/plain": [
       "    Fit Time  Score Time       MAE        MSE      RMSE   Est\n",
       "0   0.123868    0.003671  3.403930  22.008160  4.674958     5\n",
       "1   0.228516    0.005463  3.158966  19.350467  4.383474    10\n",
       "2   0.549501    0.005670  3.128277  18.653839  4.307584    25\n",
       "3   1.285379    0.011500  3.052466  17.864684  4.211412    50\n",
       "4   2.547330    0.022418  3.055044  17.947391  4.223487   100\n",
       "5  12.915429    0.102786  3.038092  17.797980  4.203056   500\n",
       "6  23.394587    0.191180  3.038006  17.804321  4.204119  1000\n",
       "7  59.087064    0.717331  3.034503  17.749638  4.197672  2000"
      ]
     },
     "execution_count": 26,
     "metadata": {},
     "output_type": "execute_result"
    }
   ],
   "source": [
    "scores_df\n",
    "# we go for 25 estimations. Note that from 25 -> 50 estimations the error metrics worsen"
   ]
  },
  {
   "cell_type": "code",
   "execution_count": 27,
   "id": "stable-receiver",
   "metadata": {},
   "outputs": [],
   "source": [
    "scores_df.to_csv(f'./scores/{model_name}-score.csv')"
   ]
  },
  {
   "cell_type": "code",
   "execution_count": 28,
   "id": "valid-pattern",
   "metadata": {},
   "outputs": [],
   "source": [
    "pct_scores_df = scores_df.pct_change()"
   ]
  },
  {
   "cell_type": "code",
   "execution_count": 29,
   "id": "numerical-large",
   "metadata": {},
   "outputs": [
    {
     "data": {
      "text/html": [
       "<div>\n",
       "<style scoped>\n",
       "    .dataframe tbody tr th:only-of-type {\n",
       "        vertical-align: middle;\n",
       "    }\n",
       "\n",
       "    .dataframe tbody tr th {\n",
       "        vertical-align: top;\n",
       "    }\n",
       "\n",
       "    .dataframe thead th {\n",
       "        text-align: right;\n",
       "    }\n",
       "</style>\n",
       "<table border=\"1\" class=\"dataframe\">\n",
       "  <thead>\n",
       "    <tr style=\"text-align: right;\">\n",
       "      <th></th>\n",
       "      <th>Fit Time</th>\n",
       "      <th>Score Time</th>\n",
       "      <th>MAE</th>\n",
       "      <th>MSE</th>\n",
       "      <th>RMSE</th>\n",
       "      <th>Est</th>\n",
       "    </tr>\n",
       "  </thead>\n",
       "  <tbody>\n",
       "    <tr>\n",
       "      <th>0</th>\n",
       "      <td>NaN</td>\n",
       "      <td>NaN</td>\n",
       "      <td>NaN</td>\n",
       "      <td>NaN</td>\n",
       "      <td>NaN</td>\n",
       "      <td>NaN</td>\n",
       "    </tr>\n",
       "    <tr>\n",
       "      <th>1</th>\n",
       "      <td>0.844829</td>\n",
       "      <td>0.488303</td>\n",
       "      <td>-0.071965</td>\n",
       "      <td>-0.120759</td>\n",
       "      <td>-0.062350</td>\n",
       "      <td>1.0</td>\n",
       "    </tr>\n",
       "    <tr>\n",
       "      <th>2</th>\n",
       "      <td>1.404649</td>\n",
       "      <td>0.037797</td>\n",
       "      <td>-0.009715</td>\n",
       "      <td>-0.036001</td>\n",
       "      <td>-0.017313</td>\n",
       "      <td>1.5</td>\n",
       "    </tr>\n",
       "    <tr>\n",
       "      <th>3</th>\n",
       "      <td>1.339178</td>\n",
       "      <td>1.028199</td>\n",
       "      <td>-0.024234</td>\n",
       "      <td>-0.042305</td>\n",
       "      <td>-0.022326</td>\n",
       "      <td>1.0</td>\n",
       "    </tr>\n",
       "    <tr>\n",
       "      <th>4</th>\n",
       "      <td>0.981773</td>\n",
       "      <td>0.949449</td>\n",
       "      <td>0.000845</td>\n",
       "      <td>0.004630</td>\n",
       "      <td>0.002867</td>\n",
       "      <td>1.0</td>\n",
       "    </tr>\n",
       "    <tr>\n",
       "      <th>5</th>\n",
       "      <td>4.070183</td>\n",
       "      <td>3.585024</td>\n",
       "      <td>-0.005549</td>\n",
       "      <td>-0.008325</td>\n",
       "      <td>-0.004837</td>\n",
       "      <td>4.0</td>\n",
       "    </tr>\n",
       "    <tr>\n",
       "      <th>6</th>\n",
       "      <td>0.811367</td>\n",
       "      <td>0.859986</td>\n",
       "      <td>-0.000028</td>\n",
       "      <td>0.000356</td>\n",
       "      <td>0.000253</td>\n",
       "      <td>1.0</td>\n",
       "    </tr>\n",
       "    <tr>\n",
       "      <th>7</th>\n",
       "      <td>1.525672</td>\n",
       "      <td>2.752125</td>\n",
       "      <td>-0.001153</td>\n",
       "      <td>-0.003071</td>\n",
       "      <td>-0.001534</td>\n",
       "      <td>1.0</td>\n",
       "    </tr>\n",
       "  </tbody>\n",
       "</table>\n",
       "</div>"
      ],
      "text/plain": [
       "   Fit Time  Score Time       MAE       MSE      RMSE  Est\n",
       "0       NaN         NaN       NaN       NaN       NaN  NaN\n",
       "1  0.844829    0.488303 -0.071965 -0.120759 -0.062350  1.0\n",
       "2  1.404649    0.037797 -0.009715 -0.036001 -0.017313  1.5\n",
       "3  1.339178    1.028199 -0.024234 -0.042305 -0.022326  1.0\n",
       "4  0.981773    0.949449  0.000845  0.004630  0.002867  1.0\n",
       "5  4.070183    3.585024 -0.005549 -0.008325 -0.004837  4.0\n",
       "6  0.811367    0.859986 -0.000028  0.000356  0.000253  1.0\n",
       "7  1.525672    2.752125 -0.001153 -0.003071 -0.001534  1.0"
      ]
     },
     "execution_count": 29,
     "metadata": {},
     "output_type": "execute_result"
    }
   ],
   "source": [
    "pct_scores_df"
   ]
  },
  {
   "cell_type": "code",
   "execution_count": 30,
   "id": "unauthorized-charity",
   "metadata": {},
   "outputs": [
    {
     "data": {
      "text/html": [
       "<style  type=\"text/css\" >\n",
       "#T_c05b0a32_5b46_11eb_bd56_60f81dd06e70row0_col0,#T_c05b0a32_5b46_11eb_bd56_60f81dd06e70row0_col1,#T_c05b0a32_5b46_11eb_bd56_60f81dd06e70row0_col2,#T_c05b0a32_5b46_11eb_bd56_60f81dd06e70row0_col3,#T_c05b0a32_5b46_11eb_bd56_60f81dd06e70row0_col4,#T_c05b0a32_5b46_11eb_bd56_60f81dd06e70row0_col5{\n",
       "            background-color:  #000000;\n",
       "            color:  #f1f1f1;\n",
       "        }#T_c05b0a32_5b46_11eb_bd56_60f81dd06e70row1_col0{\n",
       "            background-color:  #fef6fa;\n",
       "            color:  #000000;\n",
       "        }#T_c05b0a32_5b46_11eb_bd56_60f81dd06e70row1_col1{\n",
       "            background-color:  #ece7f2;\n",
       "            color:  #000000;\n",
       "        }#T_c05b0a32_5b46_11eb_bd56_60f81dd06e70row1_col2,#T_c05b0a32_5b46_11eb_bd56_60f81dd06e70row1_col3,#T_c05b0a32_5b46_11eb_bd56_60f81dd06e70row1_col4,#T_c05b0a32_5b46_11eb_bd56_60f81dd06e70row1_col5,#T_c05b0a32_5b46_11eb_bd56_60f81dd06e70row2_col1,#T_c05b0a32_5b46_11eb_bd56_60f81dd06e70row3_col5,#T_c05b0a32_5b46_11eb_bd56_60f81dd06e70row4_col5,#T_c05b0a32_5b46_11eb_bd56_60f81dd06e70row6_col0,#T_c05b0a32_5b46_11eb_bd56_60f81dd06e70row6_col5,#T_c05b0a32_5b46_11eb_bd56_60f81dd06e70row7_col5{\n",
       "            background-color:  #fff7fb;\n",
       "            color:  #000000;\n",
       "        }#T_c05b0a32_5b46_11eb_bd56_60f81dd06e70row2_col0{\n",
       "            background-color:  #e0dded;\n",
       "            color:  #000000;\n",
       "        }#T_c05b0a32_5b46_11eb_bd56_60f81dd06e70row2_col2{\n",
       "            background-color:  #045e93;\n",
       "            color:  #f1f1f1;\n",
       "        }#T_c05b0a32_5b46_11eb_bd56_60f81dd06e70row2_col3{\n",
       "            background-color:  #2182b9;\n",
       "            color:  #000000;\n",
       "        }#T_c05b0a32_5b46_11eb_bd56_60f81dd06e70row2_col4{\n",
       "            background-color:  #1c7fb8;\n",
       "            color:  #000000;\n",
       "        }#T_c05b0a32_5b46_11eb_bd56_60f81dd06e70row2_col5{\n",
       "            background-color:  #e3e0ee;\n",
       "            color:  #000000;\n",
       "        }#T_c05b0a32_5b46_11eb_bd56_60f81dd06e70row3_col0{\n",
       "            background-color:  #e4e1ef;\n",
       "            color:  #000000;\n",
       "        }#T_c05b0a32_5b46_11eb_bd56_60f81dd06e70row3_col1{\n",
       "            background-color:  #c6cce3;\n",
       "            color:  #000000;\n",
       "        }#T_c05b0a32_5b46_11eb_bd56_60f81dd06e70row3_col2{\n",
       "            background-color:  #2a88bc;\n",
       "            color:  #000000;\n",
       "        }#T_c05b0a32_5b46_11eb_bd56_60f81dd06e70row3_col3{\n",
       "            background-color:  #358fc0;\n",
       "            color:  #000000;\n",
       "        }#T_c05b0a32_5b46_11eb_bd56_60f81dd06e70row3_col4{\n",
       "            background-color:  #3b92c1;\n",
       "            color:  #000000;\n",
       "        }#T_c05b0a32_5b46_11eb_bd56_60f81dd06e70row4_col0{\n",
       "            background-color:  #f7f0f7;\n",
       "            color:  #000000;\n",
       "        }#T_c05b0a32_5b46_11eb_bd56_60f81dd06e70row4_col1{\n",
       "            background-color:  #ced0e6;\n",
       "            color:  #000000;\n",
       "        }#T_c05b0a32_5b46_11eb_bd56_60f81dd06e70row4_col2,#T_c05b0a32_5b46_11eb_bd56_60f81dd06e70row4_col3,#T_c05b0a32_5b46_11eb_bd56_60f81dd06e70row4_col4,#T_c05b0a32_5b46_11eb_bd56_60f81dd06e70row5_col0,#T_c05b0a32_5b46_11eb_bd56_60f81dd06e70row5_col1,#T_c05b0a32_5b46_11eb_bd56_60f81dd06e70row5_col5{\n",
       "            background-color:  #023858;\n",
       "            color:  #f1f1f1;\n",
       "        }#T_c05b0a32_5b46_11eb_bd56_60f81dd06e70row5_col2{\n",
       "            background-color:  #034f7d;\n",
       "            color:  #f1f1f1;\n",
       "        }#T_c05b0a32_5b46_11eb_bd56_60f81dd06e70row5_col3{\n",
       "            background-color:  #045483;\n",
       "            color:  #f1f1f1;\n",
       "        }#T_c05b0a32_5b46_11eb_bd56_60f81dd06e70row5_col4{\n",
       "            background-color:  #04588a;\n",
       "            color:  #f1f1f1;\n",
       "        }#T_c05b0a32_5b46_11eb_bd56_60f81dd06e70row6_col1{\n",
       "            background-color:  #d4d4e8;\n",
       "            color:  #000000;\n",
       "        }#T_c05b0a32_5b46_11eb_bd56_60f81dd06e70row6_col2{\n",
       "            background-color:  #023b5d;\n",
       "            color:  #f1f1f1;\n",
       "        }#T_c05b0a32_5b46_11eb_bd56_60f81dd06e70row6_col3{\n",
       "            background-color:  #034165;\n",
       "            color:  #f1f1f1;\n",
       "        }#T_c05b0a32_5b46_11eb_bd56_60f81dd06e70row6_col4{\n",
       "            background-color:  #034369;\n",
       "            color:  #f1f1f1;\n",
       "        }#T_c05b0a32_5b46_11eb_bd56_60f81dd06e70row7_col0{\n",
       "            background-color:  #d7d6e9;\n",
       "            color:  #000000;\n",
       "        }#T_c05b0a32_5b46_11eb_bd56_60f81dd06e70row7_col1{\n",
       "            background-color:  #056dac;\n",
       "            color:  #f1f1f1;\n",
       "        }#T_c05b0a32_5b46_11eb_bd56_60f81dd06e70row7_col2{\n",
       "            background-color:  #023f64;\n",
       "            color:  #f1f1f1;\n",
       "        }#T_c05b0a32_5b46_11eb_bd56_60f81dd06e70row7_col3{\n",
       "            background-color:  #034871;\n",
       "            color:  #f1f1f1;\n",
       "        }#T_c05b0a32_5b46_11eb_bd56_60f81dd06e70row7_col4{\n",
       "            background-color:  #034a74;\n",
       "            color:  #f1f1f1;\n",
       "        }</style><table id=\"T_c05b0a32_5b46_11eb_bd56_60f81dd06e70\" ><thead>    <tr>        <th class=\"blank level0\" ></th>        <th class=\"col_heading level0 col0\" >Fit Time</th>        <th class=\"col_heading level0 col1\" >Score Time</th>        <th class=\"col_heading level0 col2\" >MAE</th>        <th class=\"col_heading level0 col3\" >MSE</th>        <th class=\"col_heading level0 col4\" >RMSE</th>        <th class=\"col_heading level0 col5\" >Est</th>    </tr></thead><tbody>\n",
       "                <tr>\n",
       "                        <th id=\"T_c05b0a32_5b46_11eb_bd56_60f81dd06e70level0_row0\" class=\"row_heading level0 row0\" >0</th>\n",
       "                        <td id=\"T_c05b0a32_5b46_11eb_bd56_60f81dd06e70row0_col0\" class=\"data row0 col0\" >nan</td>\n",
       "                        <td id=\"T_c05b0a32_5b46_11eb_bd56_60f81dd06e70row0_col1\" class=\"data row0 col1\" >nan</td>\n",
       "                        <td id=\"T_c05b0a32_5b46_11eb_bd56_60f81dd06e70row0_col2\" class=\"data row0 col2\" >nan</td>\n",
       "                        <td id=\"T_c05b0a32_5b46_11eb_bd56_60f81dd06e70row0_col3\" class=\"data row0 col3\" >nan</td>\n",
       "                        <td id=\"T_c05b0a32_5b46_11eb_bd56_60f81dd06e70row0_col4\" class=\"data row0 col4\" >nan</td>\n",
       "                        <td id=\"T_c05b0a32_5b46_11eb_bd56_60f81dd06e70row0_col5\" class=\"data row0 col5\" >nan</td>\n",
       "            </tr>\n",
       "            <tr>\n",
       "                        <th id=\"T_c05b0a32_5b46_11eb_bd56_60f81dd06e70level0_row1\" class=\"row_heading level0 row1\" >1</th>\n",
       "                        <td id=\"T_c05b0a32_5b46_11eb_bd56_60f81dd06e70row1_col0\" class=\"data row1 col0\" >0.844829</td>\n",
       "                        <td id=\"T_c05b0a32_5b46_11eb_bd56_60f81dd06e70row1_col1\" class=\"data row1 col1\" >0.488303</td>\n",
       "                        <td id=\"T_c05b0a32_5b46_11eb_bd56_60f81dd06e70row1_col2\" class=\"data row1 col2\" >-0.071965</td>\n",
       "                        <td id=\"T_c05b0a32_5b46_11eb_bd56_60f81dd06e70row1_col3\" class=\"data row1 col3\" >-0.120759</td>\n",
       "                        <td id=\"T_c05b0a32_5b46_11eb_bd56_60f81dd06e70row1_col4\" class=\"data row1 col4\" >-0.062350</td>\n",
       "                        <td id=\"T_c05b0a32_5b46_11eb_bd56_60f81dd06e70row1_col5\" class=\"data row1 col5\" >1.000000</td>\n",
       "            </tr>\n",
       "            <tr>\n",
       "                        <th id=\"T_c05b0a32_5b46_11eb_bd56_60f81dd06e70level0_row2\" class=\"row_heading level0 row2\" >2</th>\n",
       "                        <td id=\"T_c05b0a32_5b46_11eb_bd56_60f81dd06e70row2_col0\" class=\"data row2 col0\" >1.404649</td>\n",
       "                        <td id=\"T_c05b0a32_5b46_11eb_bd56_60f81dd06e70row2_col1\" class=\"data row2 col1\" >0.037797</td>\n",
       "                        <td id=\"T_c05b0a32_5b46_11eb_bd56_60f81dd06e70row2_col2\" class=\"data row2 col2\" >-0.009715</td>\n",
       "                        <td id=\"T_c05b0a32_5b46_11eb_bd56_60f81dd06e70row2_col3\" class=\"data row2 col3\" >-0.036001</td>\n",
       "                        <td id=\"T_c05b0a32_5b46_11eb_bd56_60f81dd06e70row2_col4\" class=\"data row2 col4\" >-0.017313</td>\n",
       "                        <td id=\"T_c05b0a32_5b46_11eb_bd56_60f81dd06e70row2_col5\" class=\"data row2 col5\" >1.500000</td>\n",
       "            </tr>\n",
       "            <tr>\n",
       "                        <th id=\"T_c05b0a32_5b46_11eb_bd56_60f81dd06e70level0_row3\" class=\"row_heading level0 row3\" >3</th>\n",
       "                        <td id=\"T_c05b0a32_5b46_11eb_bd56_60f81dd06e70row3_col0\" class=\"data row3 col0\" >1.339178</td>\n",
       "                        <td id=\"T_c05b0a32_5b46_11eb_bd56_60f81dd06e70row3_col1\" class=\"data row3 col1\" >1.028199</td>\n",
       "                        <td id=\"T_c05b0a32_5b46_11eb_bd56_60f81dd06e70row3_col2\" class=\"data row3 col2\" >-0.024234</td>\n",
       "                        <td id=\"T_c05b0a32_5b46_11eb_bd56_60f81dd06e70row3_col3\" class=\"data row3 col3\" >-0.042305</td>\n",
       "                        <td id=\"T_c05b0a32_5b46_11eb_bd56_60f81dd06e70row3_col4\" class=\"data row3 col4\" >-0.022326</td>\n",
       "                        <td id=\"T_c05b0a32_5b46_11eb_bd56_60f81dd06e70row3_col5\" class=\"data row3 col5\" >1.000000</td>\n",
       "            </tr>\n",
       "            <tr>\n",
       "                        <th id=\"T_c05b0a32_5b46_11eb_bd56_60f81dd06e70level0_row4\" class=\"row_heading level0 row4\" >4</th>\n",
       "                        <td id=\"T_c05b0a32_5b46_11eb_bd56_60f81dd06e70row4_col0\" class=\"data row4 col0\" >0.981773</td>\n",
       "                        <td id=\"T_c05b0a32_5b46_11eb_bd56_60f81dd06e70row4_col1\" class=\"data row4 col1\" >0.949449</td>\n",
       "                        <td id=\"T_c05b0a32_5b46_11eb_bd56_60f81dd06e70row4_col2\" class=\"data row4 col2\" >0.000845</td>\n",
       "                        <td id=\"T_c05b0a32_5b46_11eb_bd56_60f81dd06e70row4_col3\" class=\"data row4 col3\" >0.004630</td>\n",
       "                        <td id=\"T_c05b0a32_5b46_11eb_bd56_60f81dd06e70row4_col4\" class=\"data row4 col4\" >0.002867</td>\n",
       "                        <td id=\"T_c05b0a32_5b46_11eb_bd56_60f81dd06e70row4_col5\" class=\"data row4 col5\" >1.000000</td>\n",
       "            </tr>\n",
       "            <tr>\n",
       "                        <th id=\"T_c05b0a32_5b46_11eb_bd56_60f81dd06e70level0_row5\" class=\"row_heading level0 row5\" >5</th>\n",
       "                        <td id=\"T_c05b0a32_5b46_11eb_bd56_60f81dd06e70row5_col0\" class=\"data row5 col0\" >4.070183</td>\n",
       "                        <td id=\"T_c05b0a32_5b46_11eb_bd56_60f81dd06e70row5_col1\" class=\"data row5 col1\" >3.585024</td>\n",
       "                        <td id=\"T_c05b0a32_5b46_11eb_bd56_60f81dd06e70row5_col2\" class=\"data row5 col2\" >-0.005549</td>\n",
       "                        <td id=\"T_c05b0a32_5b46_11eb_bd56_60f81dd06e70row5_col3\" class=\"data row5 col3\" >-0.008325</td>\n",
       "                        <td id=\"T_c05b0a32_5b46_11eb_bd56_60f81dd06e70row5_col4\" class=\"data row5 col4\" >-0.004837</td>\n",
       "                        <td id=\"T_c05b0a32_5b46_11eb_bd56_60f81dd06e70row5_col5\" class=\"data row5 col5\" >4.000000</td>\n",
       "            </tr>\n",
       "            <tr>\n",
       "                        <th id=\"T_c05b0a32_5b46_11eb_bd56_60f81dd06e70level0_row6\" class=\"row_heading level0 row6\" >6</th>\n",
       "                        <td id=\"T_c05b0a32_5b46_11eb_bd56_60f81dd06e70row6_col0\" class=\"data row6 col0\" >0.811367</td>\n",
       "                        <td id=\"T_c05b0a32_5b46_11eb_bd56_60f81dd06e70row6_col1\" class=\"data row6 col1\" >0.859986</td>\n",
       "                        <td id=\"T_c05b0a32_5b46_11eb_bd56_60f81dd06e70row6_col2\" class=\"data row6 col2\" >-0.000028</td>\n",
       "                        <td id=\"T_c05b0a32_5b46_11eb_bd56_60f81dd06e70row6_col3\" class=\"data row6 col3\" >0.000356</td>\n",
       "                        <td id=\"T_c05b0a32_5b46_11eb_bd56_60f81dd06e70row6_col4\" class=\"data row6 col4\" >0.000253</td>\n",
       "                        <td id=\"T_c05b0a32_5b46_11eb_bd56_60f81dd06e70row6_col5\" class=\"data row6 col5\" >1.000000</td>\n",
       "            </tr>\n",
       "            <tr>\n",
       "                        <th id=\"T_c05b0a32_5b46_11eb_bd56_60f81dd06e70level0_row7\" class=\"row_heading level0 row7\" >7</th>\n",
       "                        <td id=\"T_c05b0a32_5b46_11eb_bd56_60f81dd06e70row7_col0\" class=\"data row7 col0\" >1.525672</td>\n",
       "                        <td id=\"T_c05b0a32_5b46_11eb_bd56_60f81dd06e70row7_col1\" class=\"data row7 col1\" >2.752125</td>\n",
       "                        <td id=\"T_c05b0a32_5b46_11eb_bd56_60f81dd06e70row7_col2\" class=\"data row7 col2\" >-0.001153</td>\n",
       "                        <td id=\"T_c05b0a32_5b46_11eb_bd56_60f81dd06e70row7_col3\" class=\"data row7 col3\" >-0.003071</td>\n",
       "                        <td id=\"T_c05b0a32_5b46_11eb_bd56_60f81dd06e70row7_col4\" class=\"data row7 col4\" >-0.001534</td>\n",
       "                        <td id=\"T_c05b0a32_5b46_11eb_bd56_60f81dd06e70row7_col5\" class=\"data row7 col5\" >1.000000</td>\n",
       "            </tr>\n",
       "    </tbody></table>"
      ],
      "text/plain": [
       "<pandas.io.formats.style.Styler at 0x7fde760e0790>"
      ]
     },
     "execution_count": 30,
     "metadata": {},
     "output_type": "execute_result"
    }
   ],
   "source": [
    "pct_scores_df.style.background_gradient() \n",
    "# we choose index 4, 100 Estimations <- \n",
    "    # Score time decrease 3->4 & Score time increase dramatically 4->5\n",
    "    # unsubstantial decrease MSE & RMSE 4->5 compared to 3->4"
   ]
  },
  {
   "cell_type": "markdown",
   "id": "republican-nicholas",
   "metadata": {},
   "source": [
    "# Score Model"
   ]
  },
  {
   "cell_type": "code",
   "execution_count": 31,
   "id": "rolled-steam",
   "metadata": {},
   "outputs": [
    {
     "data": {
      "text/plain": [
       "RandomForestRegressor()"
      ]
     },
     "execution_count": 31,
     "metadata": {},
     "output_type": "execute_result"
    }
   ],
   "source": [
    "# MODIFY!\n",
    "# adopt number of estimators from the previous section\n",
    "\n",
    "score_model = RandomForestRegressor(n_estimators=100)\n",
    "score_model"
   ]
  },
  {
   "cell_type": "code",
   "execution_count": 32,
   "id": "valued-tattoo",
   "metadata": {},
   "outputs": [],
   "source": [
    "from sklearn.model_selection import cross_validate\n",
    "\n",
    "scores = cross_validate(\n",
    "    score_model, \n",
    "    X_train, \n",
    "    y_train,\n",
    "    scoring=[\n",
    "        'neg_mean_absolute_error',\n",
    "        'neg_mean_squared_error',\n",
    "        'neg_root_mean_squared_error'\n",
    "    ],\n",
    "    cv=10\n",
    ")"
   ]
  },
  {
   "cell_type": "code",
   "execution_count": 33,
   "id": "liable-evanescence",
   "metadata": {},
   "outputs": [],
   "source": [
    "scores = pd.DataFrame(scores)"
   ]
  },
  {
   "cell_type": "code",
   "execution_count": 34,
   "id": "chinese-father",
   "metadata": {},
   "outputs": [
    {
     "data": {
      "text/html": [
       "<div>\n",
       "<style scoped>\n",
       "    .dataframe tbody tr th:only-of-type {\n",
       "        vertical-align: middle;\n",
       "    }\n",
       "\n",
       "    .dataframe tbody tr th {\n",
       "        vertical-align: top;\n",
       "    }\n",
       "\n",
       "    .dataframe thead th {\n",
       "        text-align: right;\n",
       "    }\n",
       "</style>\n",
       "<table border=\"1\" class=\"dataframe\">\n",
       "  <thead>\n",
       "    <tr style=\"text-align: right;\">\n",
       "      <th></th>\n",
       "      <th>fit_time</th>\n",
       "      <th>score_time</th>\n",
       "      <th>test_neg_mean_absolute_error</th>\n",
       "      <th>test_neg_mean_squared_error</th>\n",
       "      <th>test_neg_root_mean_squared_error</th>\n",
       "    </tr>\n",
       "  </thead>\n",
       "  <tbody>\n",
       "    <tr>\n",
       "      <th>0</th>\n",
       "      <td>4.035935</td>\n",
       "      <td>0.024283</td>\n",
       "      <td>-3.019149</td>\n",
       "      <td>-15.277321</td>\n",
       "      <td>-3.908621</td>\n",
       "    </tr>\n",
       "    <tr>\n",
       "      <th>1</th>\n",
       "      <td>7.338989</td>\n",
       "      <td>0.077195</td>\n",
       "      <td>-2.982036</td>\n",
       "      <td>-17.235342</td>\n",
       "      <td>-4.151547</td>\n",
       "    </tr>\n",
       "    <tr>\n",
       "      <th>2</th>\n",
       "      <td>5.684114</td>\n",
       "      <td>0.067306</td>\n",
       "      <td>-2.920479</td>\n",
       "      <td>-15.378280</td>\n",
       "      <td>-3.921515</td>\n",
       "    </tr>\n",
       "    <tr>\n",
       "      <th>3</th>\n",
       "      <td>7.690343</td>\n",
       "      <td>0.042963</td>\n",
       "      <td>-3.317819</td>\n",
       "      <td>-22.994946</td>\n",
       "      <td>-4.795305</td>\n",
       "    </tr>\n",
       "    <tr>\n",
       "      <th>4</th>\n",
       "      <td>7.334403</td>\n",
       "      <td>0.017639</td>\n",
       "      <td>-3.182762</td>\n",
       "      <td>-22.382037</td>\n",
       "      <td>-4.730966</td>\n",
       "    </tr>\n",
       "    <tr>\n",
       "      <th>5</th>\n",
       "      <td>3.733059</td>\n",
       "      <td>0.025458</td>\n",
       "      <td>-2.976977</td>\n",
       "      <td>-18.484458</td>\n",
       "      <td>-4.299356</td>\n",
       "    </tr>\n",
       "    <tr>\n",
       "      <th>6</th>\n",
       "      <td>2.564030</td>\n",
       "      <td>0.025956</td>\n",
       "      <td>-2.739721</td>\n",
       "      <td>-12.644897</td>\n",
       "      <td>-3.555966</td>\n",
       "    </tr>\n",
       "    <tr>\n",
       "      <th>7</th>\n",
       "      <td>2.380148</td>\n",
       "      <td>0.015738</td>\n",
       "      <td>-3.029372</td>\n",
       "      <td>-17.369075</td>\n",
       "      <td>-4.167622</td>\n",
       "    </tr>\n",
       "    <tr>\n",
       "      <th>8</th>\n",
       "      <td>2.376922</td>\n",
       "      <td>0.018468</td>\n",
       "      <td>-3.102948</td>\n",
       "      <td>-17.140046</td>\n",
       "      <td>-4.140054</td>\n",
       "    </tr>\n",
       "    <tr>\n",
       "      <th>9</th>\n",
       "      <td>2.560681</td>\n",
       "      <td>0.024030</td>\n",
       "      <td>-3.167243</td>\n",
       "      <td>-19.027413</td>\n",
       "      <td>-4.362042</td>\n",
       "    </tr>\n",
       "  </tbody>\n",
       "</table>\n",
       "</div>"
      ],
      "text/plain": [
       "   fit_time  score_time  test_neg_mean_absolute_error  \\\n",
       "0  4.035935    0.024283                     -3.019149   \n",
       "1  7.338989    0.077195                     -2.982036   \n",
       "2  5.684114    0.067306                     -2.920479   \n",
       "3  7.690343    0.042963                     -3.317819   \n",
       "4  7.334403    0.017639                     -3.182762   \n",
       "5  3.733059    0.025458                     -2.976977   \n",
       "6  2.564030    0.025956                     -2.739721   \n",
       "7  2.380148    0.015738                     -3.029372   \n",
       "8  2.376922    0.018468                     -3.102948   \n",
       "9  2.560681    0.024030                     -3.167243   \n",
       "\n",
       "   test_neg_mean_squared_error  test_neg_root_mean_squared_error  \n",
       "0                   -15.277321                         -3.908621  \n",
       "1                   -17.235342                         -4.151547  \n",
       "2                   -15.378280                         -3.921515  \n",
       "3                   -22.994946                         -4.795305  \n",
       "4                   -22.382037                         -4.730966  \n",
       "5                   -18.484458                         -4.299356  \n",
       "6                   -12.644897                         -3.555966  \n",
       "7                   -17.369075                         -4.167622  \n",
       "8                   -17.140046                         -4.140054  \n",
       "9                   -19.027413                         -4.362042  "
      ]
     },
     "execution_count": 34,
     "metadata": {},
     "output_type": "execute_result"
    }
   ],
   "source": [
    "scores"
   ]
  },
  {
   "cell_type": "code",
   "execution_count": 35,
   "id": "cleared-interstate",
   "metadata": {},
   "outputs": [],
   "source": [
    "mean_scores = scores.mean()"
   ]
  },
  {
   "cell_type": "code",
   "execution_count": 36,
   "id": "ordinary-given",
   "metadata": {},
   "outputs": [
    {
     "data": {
      "text/plain": [
       "fit_time                             4.569862\n",
       "score_time                           0.033904\n",
       "test_neg_mean_absolute_error        -3.043851\n",
       "test_neg_mean_squared_error        -17.793381\n",
       "test_neg_root_mean_squared_error    -4.203299\n",
       "dtype: float64"
      ]
     },
     "execution_count": 36,
     "metadata": {},
     "output_type": "execute_result"
    }
   ],
   "source": [
    "mean_scores"
   ]
  },
  {
   "cell_type": "markdown",
   "id": "outer-booking",
   "metadata": {},
   "source": [
    "# Export Scores"
   ]
  },
  {
   "cell_type": "code",
   "execution_count": 37,
   "id": "colored-metabolism",
   "metadata": {},
   "outputs": [],
   "source": [
    "mean_scores = mean_scores.rename(f'{model_name}')"
   ]
  },
  {
   "cell_type": "code",
   "execution_count": 38,
   "id": "adult-christmas",
   "metadata": {},
   "outputs": [],
   "source": [
    "mean_scores[[2,3,4]] = mean_scores[[2,3,4]].apply(abs)"
   ]
  },
  {
   "cell_type": "code",
   "execution_count": 39,
   "id": "great-source",
   "metadata": {},
   "outputs": [],
   "source": [
    "# mean_scores"
   ]
  },
  {
   "cell_type": "code",
   "execution_count": 40,
   "id": "announced-ukraine",
   "metadata": {},
   "outputs": [],
   "source": [
    "mean_scores = mean_scores.rename({\n",
    "    'fit_time':'Fit Time',\n",
    "    'score_time':'Score Time',\n",
    "    'test_neg_mean_absolute_error':'MAE',\n",
    "    'test_neg_mean_squared_error':'MSE',\n",
    "    'test_neg_root_mean_squared_error':'RMSE'\n",
    "})"
   ]
  },
  {
   "cell_type": "code",
   "execution_count": 41,
   "id": "three-retailer",
   "metadata": {},
   "outputs": [
    {
     "data": {
      "text/plain": [
       "Fit Time       4.569862\n",
       "Score Time     0.033904\n",
       "MAE            3.043851\n",
       "MSE           17.793381\n",
       "RMSE           4.203299\n",
       "Name: RandFoNFE, dtype: float64"
      ]
     },
     "execution_count": 41,
     "metadata": {},
     "output_type": "execute_result"
    }
   ],
   "source": [
    "mean_scores"
   ]
  },
  {
   "cell_type": "code",
   "execution_count": 42,
   "id": "ranking-graphics",
   "metadata": {},
   "outputs": [],
   "source": [
    "mean_scores['STD FT'] = scores.fit_time.std()\n",
    "mean_scores['STD ST'] = scores.score_time.std()\n",
    "mean_scores['STD MAE'] = scores.test_neg_mean_absolute_error.std()\n",
    "mean_scores['STD MSE'] = scores.test_neg_mean_squared_error.std()\n",
    "mean_scores['STD RMSE'] = scores.test_neg_root_mean_squared_error.std()"
   ]
  },
  {
   "cell_type": "code",
   "execution_count": 43,
   "id": "printable-sullivan",
   "metadata": {},
   "outputs": [
    {
     "data": {
      "text/plain": [
       "Fit Time       4.569862\n",
       "Score Time     0.033904\n",
       "MAE            3.043851\n",
       "MSE           17.793381\n",
       "RMSE           4.203299\n",
       "STD FT         2.234553\n",
       "STD ST         0.021678\n",
       "STD MAE        0.159827\n",
       "STD MSE        3.157019\n",
       "STD RMSE       0.373654\n",
       "Name: RandFoNFE, dtype: float64"
      ]
     },
     "execution_count": 43,
     "metadata": {},
     "output_type": "execute_result"
    }
   ],
   "source": [
    "mean_scores"
   ]
  },
  {
   "cell_type": "code",
   "execution_count": 44,
   "id": "renewable-kazakhstan",
   "metadata": {},
   "outputs": [],
   "source": [
    "mean_scores.to_csv(f'./scores/{model_name}-100-score.csv')"
   ]
  },
  {
   "cell_type": "markdown",
   "id": "exceptional-rebecca",
   "metadata": {},
   "source": [
    "# Holdout Test"
   ]
  },
  {
   "cell_type": "code",
   "execution_count": 45,
   "id": "developmental-trauma",
   "metadata": {},
   "outputs": [
    {
     "data": {
      "text/plain": [
       "RandomForestRegressor()"
      ]
     },
     "execution_count": 45,
     "metadata": {},
     "output_type": "execute_result"
    }
   ],
   "source": [
    "score_model.fit(X_train,y_train)"
   ]
  },
  {
   "cell_type": "code",
   "execution_count": 46,
   "id": "frozen-whale",
   "metadata": {},
   "outputs": [],
   "source": [
    "y_holdout = score_model.predict(X_test)"
   ]
  },
  {
   "cell_type": "code",
   "execution_count": 47,
   "id": "liberal-peter",
   "metadata": {},
   "outputs": [
    {
     "data": {
      "text/plain": [
       "<AxesSubplot:ylabel='Count'>"
      ]
     },
     "execution_count": 47,
     "metadata": {},
     "output_type": "execute_result"
    },
    {
     "data": {
      "image/png": "[encoded data removed]",
      "text/plain": [
       "<Figure size 432x288 with 1 Axes>"
      ]
     },
     "metadata": {
      "needs_background": "light"
     },
     "output_type": "display_data"
    }
   ],
   "source": [
    "sns.histplot(y_holdout,bins=40,kde=True)"
   ]
  },
  {
   "cell_type": "code",
   "execution_count": 48,
   "id": "former-spencer",
   "metadata": {},
   "outputs": [
    {
     "data": {
      "text/plain": [
       "<matplotlib.legend.Legend at 0x7fde4ee06370>"
      ]
     },
     "execution_count": 48,
     "metadata": {},
     "output_type": "execute_result"
    },
    {
     "data": {
      "image/png": "[encoded data removed]",
      "text/plain": [
       "<Figure size 432x288 with 1 Axes>"
      ]
     },
     "metadata": {
      "needs_background": "light"
     },
     "output_type": "display_data"
    }
   ],
   "source": [
    "fig,ax = plt.subplots()\n",
    "\n",
    "sns.kdeplot(y_test, ax=ax, shade=True, label='Observations')\n",
    "sns.kdeplot(y_holdout, ax=ax,shade=True,label='Predictions')\n",
    "\n",
    "ax.legend(loc='best')"
   ]
  },
  {
   "cell_type": "code",
   "execution_count": 49,
   "id": "balanced-throat",
   "metadata": {},
   "outputs": [
    {
     "data": {
      "text/plain": [
       "<matplotlib.legend.Legend at 0x7fde4ef19670>"
      ]
     },
     "execution_count": 49,
     "metadata": {},
     "output_type": "execute_result"
    },
    {
     "data": {
      "image/png": "[encoded data removed]",
      "text/plain": [
       "<Figure size 432x288 with 1 Axes>"
      ]
     },
     "metadata": {
      "needs_background": "light"
     },
     "output_type": "display_data"
    }
   ],
   "source": [
    "fig,ax = plt.subplots()\n",
    "\n",
    "sns.ecdfplot(y_test, ax=ax, label='Observations')\n",
    "sns.ecdfplot(y_holdout, ax=ax,label='Predictions')\n",
    "plt.axvline(x=y_test.mean(),color='grey',linestyle='--')\n",
    "\n",
    "ax.legend(loc='best')"
   ]
  },
  {
   "cell_type": "code",
   "execution_count": 50,
   "id": "automatic-dakota",
   "metadata": {},
   "outputs": [],
   "source": [
    "from sklearn.metrics import mean_absolute_error, mean_squared_error\n",
    "\n",
    "mae = mean_absolute_error(y_test,y_holdout)\n",
    "mse = mean_squared_error(y_test,y_holdout)\n",
    "rmse = np.sqrt(mse)"
   ]
  },
  {
   "cell_type": "code",
   "execution_count": 51,
   "id": "protected-details",
   "metadata": {},
   "outputs": [
    {
     "data": {
      "text/html": [
       "<div>\n",
       "<style scoped>\n",
       "    .dataframe tbody tr th:only-of-type {\n",
       "        vertical-align: middle;\n",
       "    }\n",
       "\n",
       "    .dataframe tbody tr th {\n",
       "        vertical-align: top;\n",
       "    }\n",
       "\n",
       "    .dataframe thead th {\n",
       "        text-align: right;\n",
       "    }\n",
       "</style>\n",
       "<table border=\"1\" class=\"dataframe\">\n",
       "  <thead>\n",
       "    <tr style=\"text-align: right;\">\n",
       "      <th></th>\n",
       "      <th>RandFoNFE</th>\n",
       "    </tr>\n",
       "  </thead>\n",
       "  <tbody>\n",
       "    <tr>\n",
       "      <th>MAE</th>\n",
       "      <td>3.373077</td>\n",
       "    </tr>\n",
       "    <tr>\n",
       "      <th>MSE</th>\n",
       "      <td>21.179184</td>\n",
       "    </tr>\n",
       "    <tr>\n",
       "      <th>RMSE</th>\n",
       "      <td>4.602085</td>\n",
       "    </tr>\n",
       "  </tbody>\n",
       "</table>\n",
       "</div>"
      ],
      "text/plain": [
       "      RandFoNFE\n",
       "MAE    3.373077\n",
       "MSE   21.179184\n",
       "RMSE   4.602085"
      ]
     },
     "execution_count": 51,
     "metadata": {},
     "output_type": "execute_result"
    }
   ],
   "source": [
    "err_df = pd.DataFrame(data=[mae, mse, rmse],index=['MAE','MSE','RMSE'],columns=[f'{model_name}'])\n",
    "err_df"
   ]
  },
  {
   "cell_type": "code",
   "execution_count": 52,
   "id": "married-radar",
   "metadata": {},
   "outputs": [],
   "source": [
    "err_df.to_csv(f'./holdout-test/{model_name}-err.csv')\n",
    "# mean_scores.to_csv(f'./opt-model-err/{model_name}-err.csv')"
   ]
  },
  {
   "cell_type": "code",
   "execution_count": 53,
   "id": "brilliant-charter",
   "metadata": {},
   "outputs": [
    {
     "data": {
      "text/plain": [
       "mean     0.426972\n",
       "std      4.592929\n",
       "min    -11.184142\n",
       "25%     -2.469454\n",
       "50%     -0.184351\n",
       "75%      2.690662\n",
       "max     19.466110\n",
       "Name: throughput, dtype: float64"
      ]
     },
     "execution_count": 53,
     "metadata": {},
     "output_type": "execute_result"
    }
   ],
   "source": [
    "res = y_test - y_holdout\n",
    "res.describe().drop('count')"
   ]
  },
  {
   "cell_type": "code",
   "execution_count": 54,
   "id": "prepared-investment",
   "metadata": {},
   "outputs": [
    {
     "data": {
      "text/plain": [
       "<AxesSubplot:xlabel='throughput', ylabel='Count'>"
      ]
     },
     "execution_count": 54,
     "metadata": {},
     "output_type": "execute_result"
    },
    {
     "data": {
      "image/png": "[encoded data removed]",
      "text/plain": [
       "<Figure size 432x288 with 1 Axes>"
      ]
     },
     "metadata": {
      "needs_background": "light"
     },
     "output_type": "display_data"
    }
   ],
   "source": [
    "sns.histplot(data=res, kde=True,bins=40)"
   ]
  },
  {
   "cell_type": "code",
   "execution_count": 55,
   "id": "classical-assignment",
   "metadata": {},
   "outputs": [
    {
     "data": {
      "text/plain": [
       "<matplotlib.lines.Line2D at 0x7fde4f2135b0>"
      ]
     },
     "execution_count": 55,
     "metadata": {},
     "output_type": "execute_result"
    },
    {
     "data": {
      "image/png": "[encoded data removed]",
      "text/plain": [
       "<Figure size 432x288 with 1 Axes>"
      ]
     },
     "metadata": {
      "needs_background": "light"
     },
     "output_type": "display_data"
    }
   ],
   "source": [
    "ax = sns.scatterplot(x=y_test, y=res)\n",
    "ax.set(ylabel='Residuals', xlabel='Test Label')\n",
    "plt.axhline(y=0,color='red',linestyle='--')\n",
    "\n",
    "# there should be no clear pattern / curve in the plot\n",
    "# we see a positive correlation between Test Label and Residuals -> later models should avoid this pattern"
   ]
  },
  {
   "cell_type": "code",
   "execution_count": 56,
   "id": "final-postcard",
   "metadata": {},
   "outputs": [
    {
     "data": {
      "image/png": "[encoded data removed]",
      "text/plain": [
       "<Figure size 432x288 with 1 Axes>"
      ]
     },
     "metadata": {
      "needs_background": "light"
     },
     "output_type": "display_data"
    }
   ],
   "source": [
    "import scipy as sp\n",
    "\n",
    "fig, ax = plt.subplots()\n",
    "sp.stats.probplot(res,plot=ax);"
   ]
  },
  {
   "cell_type": "markdown",
   "id": "allied-outline",
   "metadata": {},
   "source": [
    "# Export Optimized Model"
   ]
  },
  {
   "cell_type": "code",
   "execution_count": 57,
   "id": "sustained-richardson",
   "metadata": {},
   "outputs": [
    {
     "data": {
      "text/plain": [
       "RobustScaler()"
      ]
     },
     "execution_count": 57,
     "metadata": {},
     "output_type": "execute_result"
    }
   ],
   "source": [
    "from sklearn.preprocessing import RobustScaler\n",
    "scaler = RobustScaler()\n",
    "scaler.fit(X)"
   ]
  },
  {
   "cell_type": "code",
   "execution_count": 58,
   "id": "altered-nevada",
   "metadata": {},
   "outputs": [
    {
     "data": {
      "text/plain": [
       "RandomForestRegressor()"
      ]
     },
     "execution_count": 58,
     "metadata": {},
     "output_type": "execute_result"
    }
   ],
   "source": [
    "# MODIFY! \n",
    "X = scaler.transform(X)\n",
    "\n",
    "op_model = score_model\n",
    "\n",
    "op_model.fit(X,y)"
   ]
  },
  {
   "cell_type": "code",
   "execution_count": 59,
   "id": "commercial-festival",
   "metadata": {},
   "outputs": [],
   "source": [
    "y_pred = op_model.predict(X)"
   ]
  },
  {
   "cell_type": "code",
   "execution_count": 60,
   "id": "described-bahrain",
   "metadata": {},
   "outputs": [
    {
     "data": {
      "text/plain": [
       "<AxesSubplot:ylabel='Count'>"
      ]
     },
     "execution_count": 60,
     "metadata": {},
     "output_type": "execute_result"
    },
    {
     "data": {
      "image/png": "[encoded data removed]",
      "text/plain": [
       "<Figure size 432x288 with 1 Axes>"
      ]
     },
     "metadata": {
      "needs_background": "light"
     },
     "output_type": "display_data"
    }
   ],
   "source": [
    "sns.histplot(y_pred,bins=40,kde=True)"
   ]
  },
  {
   "cell_type": "code",
   "execution_count": 61,
   "id": "modern-advancement",
   "metadata": {},
   "outputs": [
    {
     "data": {
      "text/plain": [
       "<matplotlib.legend.Legend at 0x7fde4f91b400>"
      ]
     },
     "execution_count": 61,
     "metadata": {},
     "output_type": "execute_result"
    },
    {
     "data": {
      "image/png": "[encoded data removed]",
      "text/plain": [
       "<Figure size 432x288 with 1 Axes>"
      ]
     },
     "metadata": {
      "needs_background": "light"
     },
     "output_type": "display_data"
    }
   ],
   "source": [
    "fig,ax = plt.subplots()\n",
    "\n",
    "sns.kdeplot(y, ax=ax, shade=True, label='Observations')\n",
    "sns.kdeplot(y_pred, ax=ax,shade=True,label='Predictions')\n",
    "\n",
    "ax.legend(loc='best')"
   ]
  },
  {
   "cell_type": "code",
   "execution_count": 62,
   "id": "immune-finder",
   "metadata": {},
   "outputs": [
    {
     "data": {
      "text/plain": [
       "<matplotlib.legend.Legend at 0x7fde4fa43160>"
      ]
     },
     "execution_count": 62,
     "metadata": {},
     "output_type": "execute_result"
    },
    {
     "data": {
      "image/png": "[encoded data removed]",
      "text/plain": [
       "<Figure size 432x288 with 1 Axes>"
      ]
     },
     "metadata": {
      "needs_background": "light"
     },
     "output_type": "display_data"
    }
   ],
   "source": [
    "fig,ax = plt.subplots()\n",
    "\n",
    "sns.ecdfplot(y, ax=ax, label='Observations')\n",
    "sns.ecdfplot(y_pred, ax=ax,label='Predictions')\n",
    "plt.axvline(x=y.mean(),color='grey',linestyle='--')\n",
    "\n",
    "ax.legend(loc='best')"
   ]
  },
  {
   "cell_type": "code",
   "execution_count": 63,
   "id": "noticed-blair",
   "metadata": {},
   "outputs": [],
   "source": [
    "mae = mean_absolute_error(y,y_pred)\n",
    "mse = mean_squared_error(y,y_pred)\n",
    "rmse = np.sqrt(mse)"
   ]
  },
  {
   "cell_type": "code",
   "execution_count": 64,
   "id": "academic-processor",
   "metadata": {},
   "outputs": [
    {
     "data": {
      "text/html": [
       "<div>\n",
       "<style scoped>\n",
       "    .dataframe tbody tr th:only-of-type {\n",
       "        vertical-align: middle;\n",
       "    }\n",
       "\n",
       "    .dataframe tbody tr th {\n",
       "        vertical-align: top;\n",
       "    }\n",
       "\n",
       "    .dataframe thead th {\n",
       "        text-align: right;\n",
       "    }\n",
       "</style>\n",
       "<table border=\"1\" class=\"dataframe\">\n",
       "  <thead>\n",
       "    <tr style=\"text-align: right;\">\n",
       "      <th></th>\n",
       "      <th>RandFoNFE</th>\n",
       "    </tr>\n",
       "  </thead>\n",
       "  <tbody>\n",
       "    <tr>\n",
       "      <th>MAE</th>\n",
       "      <td>1.132859</td>\n",
       "    </tr>\n",
       "    <tr>\n",
       "      <th>MSE</th>\n",
       "      <td>2.519387</td>\n",
       "    </tr>\n",
       "    <tr>\n",
       "      <th>RMSE</th>\n",
       "      <td>1.587258</td>\n",
       "    </tr>\n",
       "  </tbody>\n",
       "</table>\n",
       "</div>"
      ],
      "text/plain": [
       "      RandFoNFE\n",
       "MAE    1.132859\n",
       "MSE    2.519387\n",
       "RMSE   1.587258"
      ]
     },
     "execution_count": 64,
     "metadata": {},
     "output_type": "execute_result"
    }
   ],
   "source": [
    "err_df = pd.DataFrame(data=[mae, mse, rmse],index=['MAE','MSE','RMSE'],columns=[f'{model_name}'])\n",
    "err_df"
   ]
  },
  {
   "cell_type": "code",
   "execution_count": 65,
   "id": "separate-appliance",
   "metadata": {},
   "outputs": [],
   "source": [
    "err_df.to_csv(f'./model-err/{model_name}-err.csv')\n",
    "# mean_scores.to_csv(f'./opt-model-err/{model_name}-err.csv')"
   ]
  },
  {
   "cell_type": "code",
   "execution_count": 66,
   "id": "alpha-belief",
   "metadata": {},
   "outputs": [
    {
     "data": {
      "text/plain": [
       "['./opt-models/RandFoNFE-model.joblib']"
      ]
     },
     "execution_count": 66,
     "metadata": {},
     "output_type": "execute_result"
    }
   ],
   "source": [
    "from joblib import dump, load\n",
    "dump(op_model, f'./opt-models/{model_name}-model.joblib')"
   ]
  },
  {
   "cell_type": "code",
   "execution_count": 67,
   "id": "sharp-honolulu",
   "metadata": {},
   "outputs": [
    {
     "data": {
      "text/plain": [
       "mean    -0.050033\n",
       "std      1.586839\n",
       "min     -9.592341\n",
       "25%     -0.886737\n",
       "50%     -0.145351\n",
       "75%      0.685385\n",
       "max     12.893856\n",
       "Name: throughput, dtype: float64"
      ]
     },
     "execution_count": 67,
     "metadata": {},
     "output_type": "execute_result"
    }
   ],
   "source": [
    "res = y - y_pred\n",
    "res.describe().drop('count')"
   ]
  },
  {
   "cell_type": "code",
   "execution_count": 68,
   "id": "cardiovascular-increase",
   "metadata": {},
   "outputs": [
    {
     "data": {
      "text/plain": [
       "<AxesSubplot:xlabel='throughput', ylabel='Count'>"
      ]
     },
     "execution_count": 68,
     "metadata": {},
     "output_type": "execute_result"
    },
    {
     "data": {
      "image/png": "[encoded data removed]",
      "text/plain": [
       "<Figure size 432x288 with 1 Axes>"
      ]
     },
     "metadata": {
      "needs_background": "light"
     },
     "output_type": "display_data"
    }
   ],
   "source": [
    "sns.histplot(data=res, kde=True,bins=40)"
   ]
  },
  {
   "cell_type": "code",
   "execution_count": 69,
   "id": "caring-island",
   "metadata": {},
   "outputs": [
    {
     "data": {
      "text/plain": [
       "<matplotlib.lines.Line2D at 0x7fde760fa550>"
      ]
     },
     "execution_count": 69,
     "metadata": {},
     "output_type": "execute_result"
    },
    {
     "data": {
      "image/png": "[encoded data removed]",
      "text/plain": [
       "<Figure size 432x288 with 1 Axes>"
      ]
     },
     "metadata": {
      "needs_background": "light"
     },
     "output_type": "display_data"
    }
   ],
   "source": [
    "ax = sns.scatterplot(x=y_test, y=res)\n",
    "ax.set(ylabel='Residuals', xlabel='Test Label')\n",
    "plt.axhline(y=0,color='red',linestyle='--')\n",
    "\n",
    "# there should be no clear pattern / curve in the plot\n",
    "# we see a positive correlation between Test Label and Residuals -> later models should avoid this pattern"
   ]
  },
  {
   "cell_type": "code",
   "execution_count": 70,
   "id": "round-acrobat",
   "metadata": {},
   "outputs": [
    {
     "data": {
      "image/png": "[encoded data removed]",
      "text/plain": [
       "<Figure size 432x288 with 1 Axes>"
      ]
     },
     "metadata": {
      "needs_background": "light"
     },
     "output_type": "display_data"
    }
   ],
   "source": [
    "import scipy as sp\n",
    "\n",
    "fig, ax = plt.subplots()\n",
    "sp.stats.probplot(res,plot=ax);"
   ]
  },
  {
   "cell_type": "markdown",
   "id": "dress-collapse",
   "metadata": {},
   "source": [
    "DONE!"
   ]
  },
  {
   "cell_type": "code",
   "execution_count": null,
   "id": "advance-portland",
   "metadata": {},
   "outputs": [],
   "source": []
  }
 ],
 "metadata": {
  "kernelspec": {
   "display_name": "Python 3",
   "language": "python",
   "name": "python3"
  },
  "language_info": {
   "codemirror_mode": {
    "name": "ipython",
    "version": 3
   },
   "file_extension": ".py",
   "mimetype": "text/x-python",
   "name": "python",
   "nbconvert_exporter": "python",
   "pygments_lexer": "ipython3",
   "version": "3.8.6"
  }
 },
 "nbformat": 4,
 "nbformat_minor": 5
}
