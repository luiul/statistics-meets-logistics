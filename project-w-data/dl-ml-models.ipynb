{
 "cells": [
  {
   "cell_type": "markdown",
   "metadata": {},
   "source": [
    "# Import Libraries and Set Options\n",
    "---"
   ]
  },
  {
   "cell_type": "markdown",
   "metadata": {},
   "source": [
    "## Import Libraries"
   ]
  },
  {
   "cell_type": "code",
   "execution_count": 1,
   "metadata": {},
   "outputs": [],
   "source": [
    "# Vector (Series) & Matrix (DateFrame) manipulation \n",
    "import numpy as np\n",
    "import pandas as pd"
   ]
  },
  {
   "cell_type": "code",
   "execution_count": 2,
   "metadata": {},
   "outputs": [],
   "source": [
    "# Data Visualization\n",
    "import matplotlib.pyplot as plt\n",
    "# from mpl_toolkits.mplot3d import Axes3D\n",
    "import seaborn as sns\n",
    "\n",
    "# If JaveScript is configured and enabled: \n",
    "# static images: \n",
    "# %matplotlib inline\n",
    "\n",
    "# interactive images: \n",
    "# %matplotlib notebook"
   ]
  },
  {
   "cell_type": "code",
   "execution_count": 3,
   "metadata": {},
   "outputs": [],
   "source": [
    "# Interactive Data Visualization\n",
    "# import plotly.express as px"
   ]
  },
  {
   "cell_type": "code",
   "execution_count": 4,
   "metadata": {},
   "outputs": [],
   "source": [
    "# Python Utilities\n",
    "# Generate datetime objects from raw timestamps and vice versa\n",
    "# from datetime import datetime\n",
    "\n",
    "# OS Interface\n",
    "# import os\n",
    "\n",
    "# Regex search patterns \n",
    "# import re"
   ]
  },
  {
   "cell_type": "markdown",
   "metadata": {},
   "source": [
    "## Check Prerequisites"
   ]
  },
  {
   "cell_type": "code",
   "execution_count": 5,
   "metadata": {},
   "outputs": [],
   "source": [
    "# calling np.version.version should return 1.18.1\n",
    "# np.version.version\n",
    "\n",
    "# calling pd.__version__ should return 1.1.2\n",
    "# pd.__version__"
   ]
  },
  {
   "cell_type": "markdown",
   "metadata": {},
   "source": [
    "## Set Options"
   ]
  },
  {
   "cell_type": "code",
   "execution_count": 6,
   "metadata": {},
   "outputs": [],
   "source": [
    "# pd.set_option('display.max_columns',None)\n",
    "# avoid truncate view of DataFrame (scroll to view all columns); set to 0 for pandas to auto-detect the with of the terminal and print truncated object that fits the screen width. Data frames will a big number of columns are extremely slow to output with this option. \n",
    "\n",
    "# pd.set_option('float_format', '{:,.2f}'.format)\n",
    "# prints floats with two decimal points; do not comment out in this project since the features lat and lon have sigficant figures after two decimal points"
   ]
  },
  {
   "cell_type": "code",
   "execution_count": 7,
   "metadata": {},
   "outputs": [],
   "source": [
    "# Display all outsputs if the cell has multiple commands as its input\n",
    "\n",
    "# from IPython.core.interactiveshell import InteractiveShell\n",
    "# InteractiveShell.ast_node_interactivity = \"all\""
   ]
  },
  {
   "cell_type": "markdown",
   "metadata": {},
   "source": [
    "## Scikit-learn Libraries"
   ]
  },
  {
   "cell_type": "markdown",
   "metadata": {},
   "source": [
    "### Train | Test Split & Pre-Processing"
   ]
  },
  {
   "cell_type": "code",
   "execution_count": 8,
   "metadata": {},
   "outputs": [],
   "source": [
    "# Split Function (see Signature for correct tuple unpacking)\n",
    "# from sklearn.model_selection import train_test_split\n",
    "\n",
    "# Default split\n",
    "# X_train, X_test, y_train, y_test = train_test_split(X, y, test_size=0.33, random_state=42)"
   ]
  },
  {
   "cell_type": "code",
   "execution_count": 9,
   "metadata": {},
   "outputs": [],
   "source": [
    "# When perfroming a classic Train | Test Spit fit ONLY to X_train to avoid data leakage! (Follow Procedure described in documentation under Cross Validation and Linear Regression Project)\n",
    "\n",
    "# Data Scaling (iff values are in different order of magnitude)\n",
    "# from sklearn.preprocessing import StandardScaler"
   ]
  },
  {
   "cell_type": "code",
   "execution_count": 10,
   "metadata": {},
   "outputs": [],
   "source": [
    "# k-fold cross validation scores; estimator = ML model, cv = fold value, scoring = error metric (use the ones provided by sklearn!)\n",
    "\n",
    "# from sklearn.model_selection import cross_val_score"
   ]
  },
  {
   "cell_type": "code",
   "execution_count": 11,
   "metadata": {},
   "outputs": [],
   "source": [
    "# Polynomial Regression ( poly_trafo: X->X*...*X )\n",
    "# from sklearn.preprocessing import PolynomialFeatures"
   ]
  },
  {
   "cell_type": "code",
   "execution_count": 12,
   "metadata": {},
   "outputs": [],
   "source": [
    "# Grid search with cross vadlidation\n",
    "# from sklearn.model_selection import GridSearchCV"
   ]
  },
  {
   "cell_type": "markdown",
   "metadata": {},
   "source": [
    "### Linear Models"
   ]
  },
  {
   "cell_type": "code",
   "execution_count": 13,
   "metadata": {},
   "outputs": [],
   "source": [
    "# Linear Regression Model\n",
    "# from sklearn.linear_model import LinearRegression"
   ]
  },
  {
   "cell_type": "code",
   "execution_count": 14,
   "metadata": {},
   "outputs": [],
   "source": [
    "# Elastic Net Regularization: start here for regularization in Linear Regression. Make sure to keep an l1_ratio that allows us to go fully to Lasso or fully to Ridge. See Lasso and Ridge explanations below. \n",
    "# from sklearn.linear_model import ElasticNetCV\n",
    "\n",
    "# Use from sklearn.linear_model import ElasticNet in case CV done manually / grid search\n",
    "\n",
    "# Standard procedure with no grid search: create X and y, split data, scale data (stadardize)\n",
    "# Standard procedure with grid search: create X and y, split data, scale data (stadardize), instantiate base model, "
   ]
  },
  {
   "cell_type": "code",
   "execution_count": 15,
   "metadata": {},
   "outputs": [],
   "source": [
    "# L2: Ridge Regularization: adds beta squared shrinkage penalty. Hyper-parameter alpha: alpha=0 -> RSS minimization. L2 CV takes an alpha tuple and computes the hyper-parameter that delivers the best performance (either based on default scorer or one from the SCORES dictionary)\n",
    "# from sklearn.linear_model import RidgeCV\n",
    "\n",
    "# Use from sklearn.linear_model import Ridge in case CV done manually"
   ]
  },
  {
   "cell_type": "code",
   "execution_count": 16,
   "metadata": {},
   "outputs": [],
   "source": [
    "# L1: Lasso Regularization: adds absolute beta value shrinkage penalty. Hyper-parameter alpha: alpha=0 -> RSS minimization. There are two ways to determine the alpha hyper-parameter: (a) provide list of alphas as an array (b) alpha can be set automatically by the class based off epsilon and n_alphas (we use the default values)\n",
    "# from sklearn.linear_model import LassoCV\n",
    "\n",
    "# Use from sklearn.linear_model import Lasso in case no CV done manually"
   ]
  },
  {
   "cell_type": "markdown",
   "metadata": {},
   "source": [
    "### Support Vector Machines"
   ]
  },
  {
   "cell_type": "code",
   "execution_count": 17,
   "metadata": {},
   "outputs": [],
   "source": [
    "# from sklearn.svm import SVR\n",
    "\n",
    "# from sklearn.svm import LinearSVC\n",
    "# faster than the generic version with the caveat that it only has a linear kernel"
   ]
  },
  {
   "cell_type": "markdown",
   "metadata": {},
   "source": [
    "### Performance Metrics"
   ]
  },
  {
   "cell_type": "code",
   "execution_count": 18,
   "metadata": {},
   "outputs": [],
   "source": [
    "# Performance Evaluation: common evaluation metrics; they can also be found in the SCORES dictionary (although transformed s.t. the higher the score the better, the model performance)\n",
    "# from sklearn.metrics import mean_absolute_error, mean_squared_error"
   ]
  },
  {
   "cell_type": "code",
   "execution_count": 19,
   "metadata": {},
   "outputs": [],
   "source": [
    "# Dictionary with different scorer objects; higher return values are better than lower return values by convention, e.g. negative error maximization -> the higher the score, the better the model performance\n",
    "# from sklearn.metrics import SCORERS"
   ]
  },
  {
   "cell_type": "code",
   "execution_count": 20,
   "metadata": {},
   "outputs": [],
   "source": [
    "# Normal Probability Plot\n",
    "# import scipy as sp"
   ]
  },
  {
   "cell_type": "markdown",
   "metadata": {},
   "source": [
    "### Model Deployment"
   ]
  },
  {
   "cell_type": "code",
   "execution_count": 21,
   "metadata": {},
   "outputs": [],
   "source": [
    "# ML Model Deployment \n",
    "# from joblib import dump, load"
   ]
  },
  {
   "cell_type": "markdown",
   "metadata": {},
   "source": [
    "# Instantiate Feature Matrix and Label Vector\n",
    "---\n",
    "\n",
    "We read in the final version of the Download data set produced in the Feature Engineering Notebook and analyzed visually in the Preliminary Analysis Notebook. \n",
    "\n",
    "We create differenet ML Models, train them on the data set with a Grid Search strategy for Hyperparameter Optimization, and evaluate the Model Performance on a test set. "
   ]
  },
  {
   "cell_type": "code",
   "execution_count": 22,
   "metadata": {},
   "outputs": [],
   "source": [
    "df = pd.read_csv('./data/dl-pfe-ns.csv')"
   ]
  },
  {
   "cell_type": "code",
   "execution_count": 23,
   "metadata": {},
   "outputs": [
    {
     "data": {
      "text/html": [
       "<div>\n",
       "<style scoped>\n",
       "    .dataframe tbody tr th:only-of-type {\n",
       "        vertical-align: middle;\n",
       "    }\n",
       "\n",
       "    .dataframe tbody tr th {\n",
       "        vertical-align: top;\n",
       "    }\n",
       "\n",
       "    .dataframe thead th {\n",
       "        text-align: right;\n",
       "    }\n",
       "</style>\n",
       "<table border=\"1\" class=\"dataframe\">\n",
       "  <thead>\n",
       "    <tr style=\"text-align: right;\">\n",
       "      <th></th>\n",
       "      <th>distance</th>\n",
       "      <th>lat</th>\n",
       "      <th>lon</th>\n",
       "      <th>alt</th>\n",
       "      <th>speed</th>\n",
       "      <th>acc</th>\n",
       "      <th>dir</th>\n",
       "      <th>rsrp</th>\n",
       "      <th>rsrq</th>\n",
       "      <th>sinr</th>\n",
       "      <th>...</th>\n",
       "      <th>ci_33527559</th>\n",
       "      <th>ci_33527561</th>\n",
       "      <th>ci_33837570</th>\n",
       "      <th>region_highway</th>\n",
       "      <th>region_suburban</th>\n",
       "      <th>region_urban</th>\n",
       "      <th>weekday_Monday</th>\n",
       "      <th>weekday_Thursday</th>\n",
       "      <th>weekday_Tuesday</th>\n",
       "      <th>weekday_Wednesday</th>\n",
       "    </tr>\n",
       "  </thead>\n",
       "  <tbody>\n",
       "    <tr>\n",
       "      <th>0</th>\n",
       "      <td>99.42</td>\n",
       "      <td>51.490553</td>\n",
       "      <td>7.413966</td>\n",
       "      <td>157.63</td>\n",
       "      <td>11.83</td>\n",
       "      <td>0.00</td>\n",
       "      <td>79.35</td>\n",
       "      <td>-85</td>\n",
       "      <td>-5</td>\n",
       "      <td>22</td>\n",
       "      <td>...</td>\n",
       "      <td>0</td>\n",
       "      <td>0</td>\n",
       "      <td>0</td>\n",
       "      <td>0</td>\n",
       "      <td>0</td>\n",
       "      <td>0</td>\n",
       "      <td>1</td>\n",
       "      <td>0</td>\n",
       "      <td>0</td>\n",
       "      <td>0</td>\n",
       "    </tr>\n",
       "    <tr>\n",
       "      <th>1</th>\n",
       "      <td>237.43</td>\n",
       "      <td>51.490715</td>\n",
       "      <td>7.416002</td>\n",
       "      <td>152.41</td>\n",
       "      <td>10.76</td>\n",
       "      <td>-0.52</td>\n",
       "      <td>89.45</td>\n",
       "      <td>-84</td>\n",
       "      <td>-6</td>\n",
       "      <td>11</td>\n",
       "      <td>...</td>\n",
       "      <td>0</td>\n",
       "      <td>0</td>\n",
       "      <td>0</td>\n",
       "      <td>0</td>\n",
       "      <td>0</td>\n",
       "      <td>0</td>\n",
       "      <td>1</td>\n",
       "      <td>0</td>\n",
       "      <td>0</td>\n",
       "      <td>0</td>\n",
       "    </tr>\n",
       "    <tr>\n",
       "      <th>2</th>\n",
       "      <td>325.26</td>\n",
       "      <td>51.490668</td>\n",
       "      <td>7.417176</td>\n",
       "      <td>154.64</td>\n",
       "      <td>6.19</td>\n",
       "      <td>-0.62</td>\n",
       "      <td>27.05</td>\n",
       "      <td>-82</td>\n",
       "      <td>-6</td>\n",
       "      <td>21</td>\n",
       "      <td>...</td>\n",
       "      <td>0</td>\n",
       "      <td>0</td>\n",
       "      <td>0</td>\n",
       "      <td>0</td>\n",
       "      <td>0</td>\n",
       "      <td>0</td>\n",
       "      <td>1</td>\n",
       "      <td>0</td>\n",
       "      <td>0</td>\n",
       "      <td>0</td>\n",
       "    </tr>\n",
       "    <tr>\n",
       "      <th>3</th>\n",
       "      <td>448.27</td>\n",
       "      <td>51.491839</td>\n",
       "      <td>7.416804</td>\n",
       "      <td>155.87</td>\n",
       "      <td>9.77</td>\n",
       "      <td>-0.98</td>\n",
       "      <td>342.45</td>\n",
       "      <td>-94</td>\n",
       "      <td>-9</td>\n",
       "      <td>9</td>\n",
       "      <td>...</td>\n",
       "      <td>0</td>\n",
       "      <td>0</td>\n",
       "      <td>0</td>\n",
       "      <td>0</td>\n",
       "      <td>0</td>\n",
       "      <td>0</td>\n",
       "      <td>1</td>\n",
       "      <td>0</td>\n",
       "      <td>0</td>\n",
       "      <td>0</td>\n",
       "    </tr>\n",
       "    <tr>\n",
       "      <th>4</th>\n",
       "      <td>540.48</td>\n",
       "      <td>51.492531</td>\n",
       "      <td>7.416222</td>\n",
       "      <td>154.41</td>\n",
       "      <td>12.33</td>\n",
       "      <td>0.01</td>\n",
       "      <td>336.68</td>\n",
       "      <td>-90</td>\n",
       "      <td>-6</td>\n",
       "      <td>16</td>\n",
       "      <td>...</td>\n",
       "      <td>0</td>\n",
       "      <td>0</td>\n",
       "      <td>0</td>\n",
       "      <td>0</td>\n",
       "      <td>0</td>\n",
       "      <td>0</td>\n",
       "      <td>1</td>\n",
       "      <td>0</td>\n",
       "      <td>0</td>\n",
       "      <td>0</td>\n",
       "    </tr>\n",
       "  </tbody>\n",
       "</table>\n",
       "<p>5 rows × 85 columns</p>\n",
       "</div>"
      ],
      "text/plain": [
       "   distance        lat       lon     alt  speed   acc     dir  rsrp  rsrq  \\\n",
       "0     99.42  51.490553  7.413966  157.63  11.83  0.00   79.35   -85    -5   \n",
       "1    237.43  51.490715  7.416002  152.41  10.76 -0.52   89.45   -84    -6   \n",
       "2    325.26  51.490668  7.417176  154.64   6.19 -0.62   27.05   -82    -6   \n",
       "3    448.27  51.491839  7.416804  155.87   9.77 -0.98  342.45   -94    -9   \n",
       "4    540.48  51.492531  7.416222  154.41  12.33  0.01  336.68   -90    -6   \n",
       "\n",
       "   sinr  ...  ci_33527559  ci_33527561  ci_33837570  region_highway  \\\n",
       "0    22  ...            0            0            0               0   \n",
       "1    11  ...            0            0            0               0   \n",
       "2    21  ...            0            0            0               0   \n",
       "3     9  ...            0            0            0               0   \n",
       "4    16  ...            0            0            0               0   \n",
       "\n",
       "   region_suburban  region_urban  weekday_Monday  weekday_Thursday  \\\n",
       "0                0             0               1                 0   \n",
       "1                0             0               1                 0   \n",
       "2                0             0               1                 0   \n",
       "3                0             0               1                 0   \n",
       "4                0             0               1                 0   \n",
       "\n",
       "   weekday_Tuesday  weekday_Wednesday  \n",
       "0                0                  0  \n",
       "1                0                  0  \n",
       "2                0                  0  \n",
       "3                0                  0  \n",
       "4                0                  0  \n",
       "\n",
       "[5 rows x 85 columns]"
      ]
     },
     "execution_count": 23,
     "metadata": {},
     "output_type": "execute_result"
    }
   ],
   "source": [
    "df.head()"
   ]
  },
  {
   "cell_type": "code",
   "execution_count": 46,
   "metadata": {},
   "outputs": [],
   "source": [
    "# df.columns"
   ]
  },
  {
   "cell_type": "code",
   "execution_count": 24,
   "metadata": {},
   "outputs": [
    {
     "data": {
      "text/plain": [
       "2118"
      ]
     },
     "execution_count": 24,
     "metadata": {},
     "output_type": "execute_result"
    }
   ],
   "source": [
    "len(df)"
   ]
  },
  {
   "cell_type": "code",
   "execution_count": 25,
   "metadata": {},
   "outputs": [],
   "source": [
    "X = df.drop('throughput',axis=1)"
   ]
  },
  {
   "cell_type": "code",
   "execution_count": 26,
   "metadata": {},
   "outputs": [],
   "source": [
    "y = df['throughput']"
   ]
  },
  {
   "cell_type": "markdown",
   "metadata": {},
   "source": [
    "# ML Models\n",
    "---"
   ]
  },
  {
   "cell_type": "markdown",
   "metadata": {},
   "source": [
    "## Split Data\n",
    "\n",
    "We perform a Train | Validation | Test Split. The test size for the initial split is therefore remains smaller than the conventional 33%. "
   ]
  },
  {
   "cell_type": "code",
   "execution_count": 27,
   "metadata": {},
   "outputs": [],
   "source": [
    "# from sklearn.model_selection import train_test_split"
   ]
  },
  {
   "cell_type": "code",
   "execution_count": 28,
   "metadata": {},
   "outputs": [],
   "source": [
    "# X_train, X_test, y_train, y_test = train_test_split(X, y, test_size=.33, random_state=42)"
   ]
  },
  {
   "cell_type": "code",
   "execution_count": 29,
   "metadata": {},
   "outputs": [],
   "source": [
    "# X_train.shape"
   ]
  },
  {
   "cell_type": "code",
   "execution_count": 30,
   "metadata": {},
   "outputs": [],
   "source": [
    "# X_test.shape"
   ]
  },
  {
   "cell_type": "markdown",
   "metadata": {},
   "source": [
    "## Choosing the Scaler\n",
    "The features have a variety of scales and units. First, we narrow down on a Scaler with good performance on Linear Regression (based on MAE and RMSE). We try to improve on this initial result. \n",
    "\n",
    "It is important to fit ONLY on the train data set to avoid any data leakage. "
   ]
  },
  {
   "cell_type": "code",
   "execution_count": 31,
   "metadata": {},
   "outputs": [],
   "source": [
    "# Import Libraries\n",
    "from sklearn import preprocessing\n",
    "from sklearn.linear_model import LinearRegression\n",
    "from sklearn.metrics import mean_absolute_error, mean_squared_error\n",
    "from sklearn.model_selection import train_test_split\n",
    "\n",
    "# Instantiate Scalers\n",
    "mm_scaler = preprocessing.MinMaxScaler()\n",
    "rb_scaler = preprocessing.RobustScaler()\n",
    "st_scaler = preprocessing.StandardScaler()\n",
    "\n",
    "# Create Scaler List & Empty Scaler String List (for DataFrame)\n",
    "scalers = [mm_scaler, rb_scaler, st_scaler]\n",
    "scalers_str = []\n",
    "\n",
    "# Instantiate Linear Model\n",
    "model = LinearRegression()\n",
    "\n",
    "# Create Empty Stats Lists\n",
    "mean_list = []\n",
    "mae_list = []\n",
    "rmse_list = []\n",
    "\n",
    "# Iterate Scaler List\n",
    "for s in scalers: \n",
    "    # Split the Data\n",
    "    X_train, X_test, y_train, y_test = train_test_split(X, y, test_size=.33, random_state=42)\n",
    "    \n",
    "    # Fit Scaler & Transform Data\n",
    "    s.fit(X_train)\n",
    "    X_train = s.transform(X_train)\n",
    "    X_test = s.transform(X_test)\n",
    "    \n",
    "    # Fit Model & Predict Label & Append to List\n",
    "    model.fit(X_train, y_train)\n",
    "    y_pred = model.predict(X_test)\n",
    "    mean_list.append(y_pred.mean())\n",
    "    \n",
    "    # Computer Stats & Append to Lists\n",
    "    mae = mean_absolute_error(y_test, y_pred)\n",
    "    mae_list.append(mae)\n",
    "    \n",
    "    rmse = np.sqrt(mean_squared_error(y_test,y_pred))\n",
    "    rmse_list.append(rmse)\n",
    "    \n",
    "    # Populate Scaler String List (for DataFrame)\n",
    "    scalers_str.append(str(s))"
   ]
  },
  {
   "cell_type": "code",
   "execution_count": 32,
   "metadata": {},
   "outputs": [],
   "source": [
    "# scalers"
   ]
  },
  {
   "cell_type": "code",
   "execution_count": 33,
   "metadata": {},
   "outputs": [],
   "source": [
    "# mean_list"
   ]
  },
  {
   "cell_type": "code",
   "execution_count": 34,
   "metadata": {},
   "outputs": [],
   "source": [
    "# mae_list"
   ]
  },
  {
   "cell_type": "code",
   "execution_count": 35,
   "metadata": {},
   "outputs": [],
   "source": [
    "# rmse_list"
   ]
  },
  {
   "cell_type": "code",
   "execution_count": 36,
   "metadata": {},
   "outputs": [],
   "source": [
    "scaler_stats = [mean_list, mae_list, rmse_list]"
   ]
  },
  {
   "cell_type": "code",
   "execution_count": 37,
   "metadata": {},
   "outputs": [],
   "source": [
    "scalers_df = pd.DataFrame(columns=scalers_str, data=scaler_stats, index=['Pred Mean','MAE','RMSE'])"
   ]
  },
  {
   "cell_type": "code",
   "execution_count": 44,
   "metadata": {},
   "outputs": [
    {
     "data": {
      "text/html": [
       "<div>\n",
       "<style scoped>\n",
       "    .dataframe tbody tr th:only-of-type {\n",
       "        vertical-align: middle;\n",
       "    }\n",
       "\n",
       "    .dataframe tbody tr th {\n",
       "        vertical-align: top;\n",
       "    }\n",
       "\n",
       "    .dataframe thead th {\n",
       "        text-align: right;\n",
       "    }\n",
       "</style>\n",
       "<table border=\"1\" class=\"dataframe\">\n",
       "  <thead>\n",
       "    <tr style=\"text-align: right;\">\n",
       "      <th></th>\n",
       "      <th>MinMaxScaler()</th>\n",
       "      <th>RobustScaler()</th>\n",
       "      <th>StandardScaler()</th>\n",
       "    </tr>\n",
       "  </thead>\n",
       "  <tbody>\n",
       "    <tr>\n",
       "      <th>Pred Mean</th>\n",
       "      <td>2.716614e+11</td>\n",
       "      <td>12.834624</td>\n",
       "      <td>4.523093e+10</td>\n",
       "    </tr>\n",
       "    <tr>\n",
       "      <th>MAE</th>\n",
       "      <td>2.716614e+11</td>\n",
       "      <td>3.405958</td>\n",
       "      <td>6.985069e+10</td>\n",
       "    </tr>\n",
       "    <tr>\n",
       "      <th>RMSE</th>\n",
       "      <td>3.258705e+12</td>\n",
       "      <td>4.506353</td>\n",
       "      <td>8.278009e+11</td>\n",
       "    </tr>\n",
       "  </tbody>\n",
       "</table>\n",
       "</div>"
      ],
      "text/plain": [
       "           MinMaxScaler()  RobustScaler()  StandardScaler()\n",
       "Pred Mean    2.716614e+11       12.834624      4.523093e+10\n",
       "MAE          2.716614e+11        3.405958      6.985069e+10\n",
       "RMSE         3.258705e+12        4.506353      8.278009e+11"
      ]
     },
     "execution_count": 44,
     "metadata": {},
     "output_type": "execute_result"
    }
   ],
   "source": [
    "scalers_df\n",
    "# we favor / choose the RobustScaler() for our ML Models. Linear Regression with Robust Scaling will be our baseline.  "
   ]
  },
  {
   "cell_type": "code",
   "execution_count": 39,
   "metadata": {},
   "outputs": [
    {
     "data": {
      "text/html": [
       "<div>\n",
       "<style scoped>\n",
       "    .dataframe tbody tr th:only-of-type {\n",
       "        vertical-align: middle;\n",
       "    }\n",
       "\n",
       "    .dataframe tbody tr th {\n",
       "        vertical-align: top;\n",
       "    }\n",
       "\n",
       "    .dataframe thead th {\n",
       "        text-align: right;\n",
       "    }\n",
       "</style>\n",
       "<table border=\"1\" class=\"dataframe\">\n",
       "  <thead>\n",
       "    <tr style=\"text-align: right;\">\n",
       "      <th></th>\n",
       "      <th>throughput</th>\n",
       "    </tr>\n",
       "  </thead>\n",
       "  <tbody>\n",
       "    <tr>\n",
       "      <th>mean</th>\n",
       "      <td>13.073617</td>\n",
       "    </tr>\n",
       "    <tr>\n",
       "      <th>std</th>\n",
       "      <td>7.080615</td>\n",
       "    </tr>\n",
       "    <tr>\n",
       "      <th>25%</th>\n",
       "      <td>7.307607</td>\n",
       "    </tr>\n",
       "    <tr>\n",
       "      <th>50%</th>\n",
       "      <td>12.336200</td>\n",
       "    </tr>\n",
       "    <tr>\n",
       "      <th>75%</th>\n",
       "      <td>17.923175</td>\n",
       "    </tr>\n",
       "  </tbody>\n",
       "</table>\n",
       "</div>"
      ],
      "text/plain": [
       "      throughput\n",
       "mean   13.073617\n",
       "std     7.080615\n",
       "25%     7.307607\n",
       "50%    12.336200\n",
       "75%    17.923175"
      ]
     },
     "execution_count": 39,
     "metadata": {},
     "output_type": "execute_result"
    }
   ],
   "source": [
    "pd.DataFrame(y.describe()).drop(['count','min','max'], axis=0)"
   ]
  },
  {
   "cell_type": "code",
   "execution_count": 40,
   "metadata": {},
   "outputs": [],
   "source": [
    "def highlight_min(s):\n",
    "    is_min = s == s.min()\n",
    "    return ['background-color: grey' if v else '' for v in is_min]"
   ]
  },
  {
   "cell_type": "code",
   "execution_count": 106,
   "metadata": {},
   "outputs": [
    {
     "data": {
      "text/html": [
       "<style  type=\"text/css\" >\n",
       "#T_d1f008ec_5768_11eb_a8cf_60f81dd06e70row1_col0,#T_d1f008ec_5768_11eb_a8cf_60f81dd06e70row1_col1,#T_d1f008ec_5768_11eb_a8cf_60f81dd06e70row1_col2{\n",
       "            background-color:  grey;\n",
       "        }</style><table id=\"T_d1f008ec_5768_11eb_a8cf_60f81dd06e70\" ><thead>    <tr>        <th class=\"blank level0\" ></th>        <th class=\"col_heading level0 col0\" >Pred Mean</th>        <th class=\"col_heading level0 col1\" >MAE</th>        <th class=\"col_heading level0 col2\" >RMSE</th>    </tr></thead><tbody>\n",
       "                <tr>\n",
       "                        <th id=\"T_d1f008ec_5768_11eb_a8cf_60f81dd06e70level0_row0\" class=\"row_heading level0 row0\" >MinMaxScaler()</th>\n",
       "                        <td id=\"T_d1f008ec_5768_11eb_a8cf_60f81dd06e70row0_col0\" class=\"data row0 col0\" >271661438625.685577</td>\n",
       "                        <td id=\"T_d1f008ec_5768_11eb_a8cf_60f81dd06e70row0_col1\" class=\"data row0 col1\" >271661438616.203156</td>\n",
       "                        <td id=\"T_d1f008ec_5768_11eb_a8cf_60f81dd06e70row0_col2\" class=\"data row0 col2\" >3258705297126.703125</td>\n",
       "            </tr>\n",
       "            <tr>\n",
       "                        <th id=\"T_d1f008ec_5768_11eb_a8cf_60f81dd06e70level0_row1\" class=\"row_heading level0 row1\" >RobustScaler()</th>\n",
       "                        <td id=\"T_d1f008ec_5768_11eb_a8cf_60f81dd06e70row1_col0\" class=\"data row1 col0\" >12.834624</td>\n",
       "                        <td id=\"T_d1f008ec_5768_11eb_a8cf_60f81dd06e70row1_col1\" class=\"data row1 col1\" >3.405958</td>\n",
       "                        <td id=\"T_d1f008ec_5768_11eb_a8cf_60f81dd06e70row1_col2\" class=\"data row1 col2\" >4.506353</td>\n",
       "            </tr>\n",
       "            <tr>\n",
       "                        <th id=\"T_d1f008ec_5768_11eb_a8cf_60f81dd06e70level0_row2\" class=\"row_heading level0 row2\" >StandardScaler()</th>\n",
       "                        <td id=\"T_d1f008ec_5768_11eb_a8cf_60f81dd06e70row2_col0\" class=\"data row2 col0\" >45230934330.852211</td>\n",
       "                        <td id=\"T_d1f008ec_5768_11eb_a8cf_60f81dd06e70row2_col1\" class=\"data row2 col1\" >69850693326.042099</td>\n",
       "                        <td id=\"T_d1f008ec_5768_11eb_a8cf_60f81dd06e70row2_col2\" class=\"data row2 col2\" >827800945276.243408</td>\n",
       "            </tr>\n",
       "    </tbody></table>"
      ],
      "text/plain": [
       "<pandas.io.formats.style.Styler at 0x7f992148b8e0>"
      ]
     },
     "execution_count": 106,
     "metadata": {},
     "output_type": "execute_result"
    }
   ],
   "source": [
    "scalers_df.transpose().style.apply(highlight_min)"
   ]
  },
  {
   "cell_type": "markdown",
   "metadata": {},
   "source": [
    "# Baseline Model"
   ]
  },
  {
   "cell_type": "code",
   "execution_count": 92,
   "metadata": {},
   "outputs": [],
   "source": [
    "X_train, X_test, y_train, y_test = train_test_split(X, y, test_size=.33, random_state=42)\n",
    "\n",
    "scaler = preprocessing.RobustScaler()\n",
    "scaler.fit(X_train)\n",
    "\n",
    "X_train = scaler.transform(X_train)\n",
    "X_test = scaler.transform(X_test)\n",
    "\n",
    "model = LinearRegression()\n",
    "model.fit(X_train, y_train)\n",
    "\n",
    "y_pred = model.predict(X_test)\n",
    "    \n",
    "mae = mean_absolute_error(y_test, y_pred)\n",
    "rmse = np.sqrt(mean_squared_error(y_test,y_pred))"
   ]
  },
  {
   "cell_type": "code",
   "execution_count": 93,
   "metadata": {},
   "outputs": [
    {
     "data": {
      "text/plain": [
       "3.4059583227871135"
      ]
     },
     "execution_count": 93,
     "metadata": {},
     "output_type": "execute_result"
    }
   ],
   "source": [
    "mae"
   ]
  },
  {
   "cell_type": "code",
   "execution_count": 94,
   "metadata": {},
   "outputs": [
    {
     "data": {
      "text/plain": [
       "4.506353223060181"
      ]
     },
     "execution_count": 94,
     "metadata": {},
     "output_type": "execute_result"
    }
   ],
   "source": [
    "rmse"
   ]
  },
  {
   "cell_type": "code",
   "execution_count": 95,
   "metadata": {},
   "outputs": [],
   "source": [
    "res = (y_test-y_pred)"
   ]
  },
  {
   "cell_type": "code",
   "execution_count": 99,
   "metadata": {},
   "outputs": [
    {
     "data": {
      "text/plain": [
       "count    699.000000\n",
       "mean       0.168218\n",
       "std        4.506437\n",
       "min      -17.293299\n",
       "25%       -2.930638\n",
       "50%        0.012543\n",
       "75%        2.420659\n",
       "max       19.230379\n",
       "Name: throughput, dtype: float64"
      ]
     },
     "execution_count": 99,
     "metadata": {},
     "output_type": "execute_result"
    }
   ],
   "source": [
    "res.describe()"
   ]
  },
  {
   "cell_type": "code",
   "execution_count": 97,
   "metadata": {},
   "outputs": [
    {
     "data": {
      "image/png": "[encoded data removed]",
      "text/plain": [
       "<Figure size 432x288 with 1 Axes>"
      ]
     },
     "metadata": {
      "needs_background": "light"
     },
     "output_type": "display_data"
    }
   ],
   "source": [
    "ax = sns.histplot(data=res,bins=100,kde=True)\n",
    "ax.set(xlabel='Residuals');"
   ]
  },
  {
   "cell_type": "code",
   "execution_count": 98,
   "metadata": {},
   "outputs": [
    {
     "data": {
      "text/plain": [
       "<matplotlib.lines.Line2D at 0x7f9921a53d00>"
      ]
     },
     "execution_count": 98,
     "metadata": {},
     "output_type": "execute_result"
    },
    {
     "data": {
      "image/png": "[encoded data removed]",
      "text/plain": [
       "<Figure size 432x288 with 1 Axes>"
      ]
     },
     "metadata": {
      "needs_background": "light"
     },
     "output_type": "display_data"
    }
   ],
   "source": [
    "ax = sns.scatterplot(x=y_test, y=res)\n",
    "ax.set(ylabel='Residuals', xlabel='Test Labels')\n",
    "plt.axhline(y=0,color='red',linestyle='--')\n",
    "\n",
    "# there should be no clear pattern / curve in the plot"
   ]
  },
  {
   "cell_type": "code",
   "execution_count": 102,
   "metadata": {},
   "outputs": [
    {
     "data": {
      "image/png": "[encoded data removed]",
      "text/plain": [
       "<Figure size 432x288 with 1 Axes>"
      ]
     },
     "metadata": {
      "needs_background": "light"
     },
     "output_type": "display_data"
    }
   ],
   "source": [
    "import scipy as sp\n",
    "\n",
    "fig, ax = plt.subplots()\n",
    "sp.stats.probplot(res,plot=ax);"
   ]
  },
  {
   "cell_type": "code",
   "execution_count": null,
   "metadata": {},
   "outputs": [],
   "source": []
  },
  {
   "cell_type": "code",
   "execution_count": null,
   "metadata": {},
   "outputs": [],
   "source": []
  },
  {
   "cell_type": "code",
   "execution_count": null,
   "metadata": {},
   "outputs": [],
   "source": []
  },
  {
   "cell_type": "code",
   "execution_count": 49,
   "metadata": {},
   "outputs": [],
   "source": [
    "from sklearn import preprocessing"
   ]
  },
  {
   "cell_type": "code",
   "execution_count": 50,
   "metadata": {},
   "outputs": [],
   "source": [
    "scaler = preprocessing.StandardScaler()"
   ]
  },
  {
   "cell_type": "code",
   "execution_count": 51,
   "metadata": {},
   "outputs": [
    {
     "data": {
      "text/plain": [
       "StandardScaler()"
      ]
     },
     "execution_count": 51,
     "metadata": {},
     "output_type": "execute_result"
    }
   ],
   "source": [
    "scaler.fit(X_train)\n",
    "# be careful of data leakage! Only fit on X_train! "
   ]
  },
  {
   "cell_type": "code",
   "execution_count": 52,
   "metadata": {},
   "outputs": [],
   "source": [
    "X_train = scaler.transform(X_train)"
   ]
  },
  {
   "cell_type": "code",
   "execution_count": 53,
   "metadata": {},
   "outputs": [],
   "source": [
    "X_test = scaler.transform(X_test)"
   ]
  },
  {
   "cell_type": "code",
   "execution_count": 54,
   "metadata": {},
   "outputs": [
    {
     "data": {
      "text/html": [
       "<div>\n",
       "<style scoped>\n",
       "    .dataframe tbody tr th:only-of-type {\n",
       "        vertical-align: middle;\n",
       "    }\n",
       "\n",
       "    .dataframe tbody tr th {\n",
       "        vertical-align: top;\n",
       "    }\n",
       "\n",
       "    .dataframe thead th {\n",
       "        text-align: right;\n",
       "    }\n",
       "</style>\n",
       "<table border=\"1\" class=\"dataframe\">\n",
       "  <thead>\n",
       "    <tr style=\"text-align: right;\">\n",
       "      <th></th>\n",
       "      <th>0</th>\n",
       "      <th>1</th>\n",
       "      <th>2</th>\n",
       "      <th>3</th>\n",
       "      <th>4</th>\n",
       "      <th>5</th>\n",
       "      <th>6</th>\n",
       "      <th>7</th>\n",
       "      <th>8</th>\n",
       "      <th>9</th>\n",
       "      <th>...</th>\n",
       "      <th>74</th>\n",
       "      <th>75</th>\n",
       "      <th>76</th>\n",
       "      <th>77</th>\n",
       "      <th>78</th>\n",
       "      <th>79</th>\n",
       "      <th>80</th>\n",
       "      <th>81</th>\n",
       "      <th>82</th>\n",
       "      <th>83</th>\n",
       "    </tr>\n",
       "  </thead>\n",
       "  <tbody>\n",
       "    <tr>\n",
       "      <th>0</th>\n",
       "      <td>-0.437851</td>\n",
       "      <td>1.470759</td>\n",
       "      <td>0.432048</td>\n",
       "      <td>-0.410271</td>\n",
       "      <td>-1.383921</td>\n",
       "      <td>0.010858</td>\n",
       "      <td>-0.359524</td>\n",
       "      <td>0.050570</td>\n",
       "      <td>0.214346</td>\n",
       "      <td>-0.150894</td>\n",
       "      <td>...</td>\n",
       "      <td>-0.059465</td>\n",
       "      <td>-0.065164</td>\n",
       "      <td>-0.026556</td>\n",
       "      <td>-0.640731</td>\n",
       "      <td>-0.821781</td>\n",
       "      <td>2.199888</td>\n",
       "      <td>-0.424891</td>\n",
       "      <td>1.816590</td>\n",
       "      <td>-0.5939</td>\n",
       "      <td>-0.514496</td>\n",
       "    </tr>\n",
       "    <tr>\n",
       "      <th>1</th>\n",
       "      <td>-0.065569</td>\n",
       "      <td>-0.193179</td>\n",
       "      <td>0.090280</td>\n",
       "      <td>-0.333207</td>\n",
       "      <td>-1.383921</td>\n",
       "      <td>0.010858</td>\n",
       "      <td>-0.252370</td>\n",
       "      <td>-1.152707</td>\n",
       "      <td>-0.765224</td>\n",
       "      <td>-0.565048</td>\n",
       "      <td>...</td>\n",
       "      <td>-0.059465</td>\n",
       "      <td>-0.065164</td>\n",
       "      <td>-0.026556</td>\n",
       "      <td>-0.640731</td>\n",
       "      <td>1.216869</td>\n",
       "      <td>-0.454569</td>\n",
       "      <td>-0.424891</td>\n",
       "      <td>-0.550482</td>\n",
       "      <td>-0.5939</td>\n",
       "      <td>1.943651</td>\n",
       "    </tr>\n",
       "    <tr>\n",
       "      <th>2</th>\n",
       "      <td>0.765820</td>\n",
       "      <td>-1.489769</td>\n",
       "      <td>-0.425497</td>\n",
       "      <td>0.730795</td>\n",
       "      <td>2.724851</td>\n",
       "      <td>-0.027374</td>\n",
       "      <td>1.476154</td>\n",
       "      <td>1.582014</td>\n",
       "      <td>0.704130</td>\n",
       "      <td>1.712803</td>\n",
       "      <td>...</td>\n",
       "      <td>-0.059465</td>\n",
       "      <td>15.346009</td>\n",
       "      <td>-0.026556</td>\n",
       "      <td>1.560716</td>\n",
       "      <td>-0.821781</td>\n",
       "      <td>-0.454569</td>\n",
       "      <td>-0.424891</td>\n",
       "      <td>-0.550482</td>\n",
       "      <td>-0.5939</td>\n",
       "      <td>1.943651</td>\n",
       "    </tr>\n",
       "    <tr>\n",
       "      <th>3</th>\n",
       "      <td>-1.002830</td>\n",
       "      <td>1.516381</td>\n",
       "      <td>0.877490</td>\n",
       "      <td>-0.933389</td>\n",
       "      <td>0.260274</td>\n",
       "      <td>0.364499</td>\n",
       "      <td>-1.709711</td>\n",
       "      <td>-0.058819</td>\n",
       "      <td>1.193915</td>\n",
       "      <td>0.573877</td>\n",
       "      <td>...</td>\n",
       "      <td>-0.059465</td>\n",
       "      <td>-0.065164</td>\n",
       "      <td>-0.026556</td>\n",
       "      <td>-0.640731</td>\n",
       "      <td>-0.821781</td>\n",
       "      <td>2.199888</td>\n",
       "      <td>-0.424891</td>\n",
       "      <td>1.816590</td>\n",
       "      <td>-0.5939</td>\n",
       "      <td>-0.514496</td>\n",
       "    </tr>\n",
       "    <tr>\n",
       "      <th>4</th>\n",
       "      <td>2.482874</td>\n",
       "      <td>0.474438</td>\n",
       "      <td>-1.350208</td>\n",
       "      <td>0.027382</td>\n",
       "      <td>0.211074</td>\n",
       "      <td>0.010858</td>\n",
       "      <td>-0.790412</td>\n",
       "      <td>1.800792</td>\n",
       "      <td>0.704130</td>\n",
       "      <td>1.091571</td>\n",
       "      <td>...</td>\n",
       "      <td>-0.059465</td>\n",
       "      <td>-0.065164</td>\n",
       "      <td>-0.026556</td>\n",
       "      <td>1.560716</td>\n",
       "      <td>-0.821781</td>\n",
       "      <td>-0.454569</td>\n",
       "      <td>-0.424891</td>\n",
       "      <td>1.816590</td>\n",
       "      <td>-0.5939</td>\n",
       "      <td>-0.514496</td>\n",
       "    </tr>\n",
       "  </tbody>\n",
       "</table>\n",
       "<p>5 rows × 84 columns</p>\n",
       "</div>"
      ],
      "text/plain": [
       "         0         1         2         3         4         5         6   \\\n",
       "0 -0.437851  1.470759  0.432048 -0.410271 -1.383921  0.010858 -0.359524   \n",
       "1 -0.065569 -0.193179  0.090280 -0.333207 -1.383921  0.010858 -0.252370   \n",
       "2  0.765820 -1.489769 -0.425497  0.730795  2.724851 -0.027374  1.476154   \n",
       "3 -1.002830  1.516381  0.877490 -0.933389  0.260274  0.364499 -1.709711   \n",
       "4  2.482874  0.474438 -1.350208  0.027382  0.211074  0.010858 -0.790412   \n",
       "\n",
       "         7         8         9   ...        74         75        76        77  \\\n",
       "0  0.050570  0.214346 -0.150894  ... -0.059465  -0.065164 -0.026556 -0.640731   \n",
       "1 -1.152707 -0.765224 -0.565048  ... -0.059465  -0.065164 -0.026556 -0.640731   \n",
       "2  1.582014  0.704130  1.712803  ... -0.059465  15.346009 -0.026556  1.560716   \n",
       "3 -0.058819  1.193915  0.573877  ... -0.059465  -0.065164 -0.026556 -0.640731   \n",
       "4  1.800792  0.704130  1.091571  ... -0.059465  -0.065164 -0.026556  1.560716   \n",
       "\n",
       "         78        79        80        81      82        83  \n",
       "0 -0.821781  2.199888 -0.424891  1.816590 -0.5939 -0.514496  \n",
       "1  1.216869 -0.454569 -0.424891 -0.550482 -0.5939  1.943651  \n",
       "2 -0.821781 -0.454569 -0.424891 -0.550482 -0.5939  1.943651  \n",
       "3 -0.821781  2.199888 -0.424891  1.816590 -0.5939 -0.514496  \n",
       "4 -0.821781 -0.454569 -0.424891  1.816590 -0.5939 -0.514496  \n",
       "\n",
       "[5 rows x 84 columns]"
      ]
     },
     "execution_count": 54,
     "metadata": {},
     "output_type": "execute_result"
    }
   ],
   "source": [
    "pd.DataFrame(X_train).head()"
   ]
  },
  {
   "cell_type": "code",
   "execution_count": 55,
   "metadata": {},
   "outputs": [
    {
     "data": {
      "text/html": [
       "<div>\n",
       "<style scoped>\n",
       "    .dataframe tbody tr th:only-of-type {\n",
       "        vertical-align: middle;\n",
       "    }\n",
       "\n",
       "    .dataframe tbody tr th {\n",
       "        vertical-align: top;\n",
       "    }\n",
       "\n",
       "    .dataframe thead th {\n",
       "        text-align: right;\n",
       "    }\n",
       "</style>\n",
       "<table border=\"1\" class=\"dataframe\">\n",
       "  <thead>\n",
       "    <tr style=\"text-align: right;\">\n",
       "      <th></th>\n",
       "      <th>0</th>\n",
       "      <th>1</th>\n",
       "      <th>2</th>\n",
       "      <th>3</th>\n",
       "      <th>4</th>\n",
       "      <th>5</th>\n",
       "      <th>6</th>\n",
       "      <th>7</th>\n",
       "      <th>8</th>\n",
       "      <th>9</th>\n",
       "      <th>...</th>\n",
       "      <th>74</th>\n",
       "      <th>75</th>\n",
       "      <th>76</th>\n",
       "      <th>77</th>\n",
       "      <th>78</th>\n",
       "      <th>79</th>\n",
       "      <th>80</th>\n",
       "      <th>81</th>\n",
       "      <th>82</th>\n",
       "      <th>83</th>\n",
       "    </tr>\n",
       "  </thead>\n",
       "  <tbody>\n",
       "    <tr>\n",
       "      <th>0</th>\n",
       "      <td>-0.072848</td>\n",
       "      <td>-0.189399</td>\n",
       "      <td>0.086584</td>\n",
       "      <td>-0.249182</td>\n",
       "      <td>-1.383921</td>\n",
       "      <td>0.010858</td>\n",
       "      <td>-0.261885</td>\n",
       "      <td>-1.152707</td>\n",
       "      <td>0.214346</td>\n",
       "      <td>-0.357971</td>\n",
       "      <td>...</td>\n",
       "      <td>-0.059465</td>\n",
       "      <td>-0.065164</td>\n",
       "      <td>-0.026556</td>\n",
       "      <td>-0.640731</td>\n",
       "      <td>1.216869</td>\n",
       "      <td>-0.454569</td>\n",
       "      <td>2.353544</td>\n",
       "      <td>-0.550482</td>\n",
       "      <td>-0.5939</td>\n",
       "      <td>-0.514496</td>\n",
       "    </tr>\n",
       "    <tr>\n",
       "      <th>1</th>\n",
       "      <td>-0.488663</td>\n",
       "      <td>0.157099</td>\n",
       "      <td>-0.439252</td>\n",
       "      <td>-0.858487</td>\n",
       "      <td>-1.261493</td>\n",
       "      <td>1.004877</td>\n",
       "      <td>-0.759487</td>\n",
       "      <td>-0.386985</td>\n",
       "      <td>-0.275439</td>\n",
       "      <td>0.780955</td>\n",
       "      <td>...</td>\n",
       "      <td>-0.059465</td>\n",
       "      <td>-0.065164</td>\n",
       "      <td>-0.026556</td>\n",
       "      <td>-0.640731</td>\n",
       "      <td>1.216869</td>\n",
       "      <td>-0.454569</td>\n",
       "      <td>-0.424891</td>\n",
       "      <td>1.816590</td>\n",
       "      <td>-0.5939</td>\n",
       "      <td>-0.514496</td>\n",
       "    </tr>\n",
       "    <tr>\n",
       "      <th>2</th>\n",
       "      <td>0.786816</td>\n",
       "      <td>-0.720644</td>\n",
       "      <td>1.122781</td>\n",
       "      <td>0.043467</td>\n",
       "      <td>0.085214</td>\n",
       "      <td>0.010858</td>\n",
       "      <td>0.341357</td>\n",
       "      <td>2.347737</td>\n",
       "      <td>1.193915</td>\n",
       "      <td>0.470339</td>\n",
       "      <td>...</td>\n",
       "      <td>-0.059465</td>\n",
       "      <td>-0.065164</td>\n",
       "      <td>-0.026556</td>\n",
       "      <td>-0.640731</td>\n",
       "      <td>1.216869</td>\n",
       "      <td>-0.454569</td>\n",
       "      <td>2.353544</td>\n",
       "      <td>-0.550482</td>\n",
       "      <td>-0.5939</td>\n",
       "      <td>-0.514496</td>\n",
       "    </tr>\n",
       "    <tr>\n",
       "      <th>3</th>\n",
       "      <td>-0.821522</td>\n",
       "      <td>0.185833</td>\n",
       "      <td>-0.916575</td>\n",
       "      <td>-0.589605</td>\n",
       "      <td>0.150433</td>\n",
       "      <td>0.010858</td>\n",
       "      <td>0.457486</td>\n",
       "      <td>-1.699652</td>\n",
       "      <td>-0.765224</td>\n",
       "      <td>-0.668587</td>\n",
       "      <td>...</td>\n",
       "      <td>-0.059465</td>\n",
       "      <td>-0.065164</td>\n",
       "      <td>-0.026556</td>\n",
       "      <td>-0.640731</td>\n",
       "      <td>1.216869</td>\n",
       "      <td>-0.454569</td>\n",
       "      <td>2.353544</td>\n",
       "      <td>-0.550482</td>\n",
       "      <td>-0.5939</td>\n",
       "      <td>-0.514496</td>\n",
       "    </tr>\n",
       "    <tr>\n",
       "      <th>4</th>\n",
       "      <td>1.755748</td>\n",
       "      <td>-0.350118</td>\n",
       "      <td>-1.461836</td>\n",
       "      <td>-0.297677</td>\n",
       "      <td>1.864423</td>\n",
       "      <td>-1.346361</td>\n",
       "      <td>1.664187</td>\n",
       "      <td>0.269348</td>\n",
       "      <td>-0.765224</td>\n",
       "      <td>-0.565048</td>\n",
       "      <td>...</td>\n",
       "      <td>-0.059465</td>\n",
       "      <td>-0.065164</td>\n",
       "      <td>-0.026556</td>\n",
       "      <td>1.560716</td>\n",
       "      <td>-0.821781</td>\n",
       "      <td>-0.454569</td>\n",
       "      <td>-0.424891</td>\n",
       "      <td>-0.550482</td>\n",
       "      <td>-0.5939</td>\n",
       "      <td>1.943651</td>\n",
       "    </tr>\n",
       "  </tbody>\n",
       "</table>\n",
       "<p>5 rows × 84 columns</p>\n",
       "</div>"
      ],
      "text/plain": [
       "         0         1         2         3         4         5         6   \\\n",
       "0 -0.072848 -0.189399  0.086584 -0.249182 -1.383921  0.010858 -0.261885   \n",
       "1 -0.488663  0.157099 -0.439252 -0.858487 -1.261493  1.004877 -0.759487   \n",
       "2  0.786816 -0.720644  1.122781  0.043467  0.085214  0.010858  0.341357   \n",
       "3 -0.821522  0.185833 -0.916575 -0.589605  0.150433  0.010858  0.457486   \n",
       "4  1.755748 -0.350118 -1.461836 -0.297677  1.864423 -1.346361  1.664187   \n",
       "\n",
       "         7         8         9   ...        74        75        76        77  \\\n",
       "0 -1.152707  0.214346 -0.357971  ... -0.059465 -0.065164 -0.026556 -0.640731   \n",
       "1 -0.386985 -0.275439  0.780955  ... -0.059465 -0.065164 -0.026556 -0.640731   \n",
       "2  2.347737  1.193915  0.470339  ... -0.059465 -0.065164 -0.026556 -0.640731   \n",
       "3 -1.699652 -0.765224 -0.668587  ... -0.059465 -0.065164 -0.026556 -0.640731   \n",
       "4  0.269348 -0.765224 -0.565048  ... -0.059465 -0.065164 -0.026556  1.560716   \n",
       "\n",
       "         78        79        80        81      82        83  \n",
       "0  1.216869 -0.454569  2.353544 -0.550482 -0.5939 -0.514496  \n",
       "1  1.216869 -0.454569 -0.424891  1.816590 -0.5939 -0.514496  \n",
       "2  1.216869 -0.454569  2.353544 -0.550482 -0.5939 -0.514496  \n",
       "3  1.216869 -0.454569  2.353544 -0.550482 -0.5939 -0.514496  \n",
       "4 -0.821781 -0.454569 -0.424891 -0.550482 -0.5939  1.943651  \n",
       "\n",
       "[5 rows x 84 columns]"
      ]
     },
     "execution_count": 55,
     "metadata": {},
     "output_type": "execute_result"
    }
   ],
   "source": [
    "pd.DataFrame(X_test).head()"
   ]
  },
  {
   "cell_type": "markdown",
   "metadata": {},
   "source": [
    "# ML Models\n",
    "--- \n",
    "We begin this Section with relatively simple ML models and we increae the complexity in subsequent Sections. "
   ]
  },
  {
   "cell_type": "markdown",
   "metadata": {},
   "source": [
    "## Simple Linear Regression"
   ]
  },
  {
   "cell_type": "code",
   "execution_count": 56,
   "metadata": {},
   "outputs": [],
   "source": [
    "from sklearn.linear_model import LinearRegression"
   ]
  },
  {
   "cell_type": "code",
   "execution_count": 57,
   "metadata": {},
   "outputs": [],
   "source": [
    "model = LinearRegression()"
   ]
  },
  {
   "cell_type": "code",
   "execution_count": 58,
   "metadata": {},
   "outputs": [
    {
     "data": {
      "text/plain": [
       "LinearRegression()"
      ]
     },
     "execution_count": 58,
     "metadata": {},
     "output_type": "execute_result"
    }
   ],
   "source": [
    "model.fit(X_train, y_train)"
   ]
  },
  {
   "cell_type": "code",
   "execution_count": 59,
   "metadata": {},
   "outputs": [],
   "source": [
    "y_pred = model.predict(X_test)"
   ]
  },
  {
   "cell_type": "code",
   "execution_count": 60,
   "metadata": {},
   "outputs": [],
   "source": [
    "from sklearn.metrics import mean_absolute_error, mean_squared_error"
   ]
  },
  {
   "cell_type": "code",
   "execution_count": 61,
   "metadata": {},
   "outputs": [
    {
     "data": {
      "text/plain": [
       "13.073617070443817"
      ]
     },
     "execution_count": 61,
     "metadata": {},
     "output_type": "execute_result"
    }
   ],
   "source": [
    "df['throughput'].mean()"
   ]
  },
  {
   "cell_type": "code",
   "execution_count": 62,
   "metadata": {},
   "outputs": [
    {
     "data": {
      "text/plain": [
       "13.073617070443817"
      ]
     },
     "execution_count": 62,
     "metadata": {},
     "output_type": "execute_result"
    }
   ],
   "source": [
    "y.mean()"
   ]
  },
  {
   "cell_type": "code",
   "execution_count": 63,
   "metadata": {},
   "outputs": [
    {
     "data": {
      "text/plain": [
       "31854507025.392616"
      ]
     },
     "execution_count": 63,
     "metadata": {},
     "output_type": "execute_result"
    }
   ],
   "source": [
    "y_pred.mean()"
   ]
  },
  {
   "cell_type": "code",
   "execution_count": 64,
   "metadata": {},
   "outputs": [
    {
     "data": {
      "text/html": [
       "<div>\n",
       "<style scoped>\n",
       "    .dataframe tbody tr th:only-of-type {\n",
       "        vertical-align: middle;\n",
       "    }\n",
       "\n",
       "    .dataframe tbody tr th {\n",
       "        vertical-align: top;\n",
       "    }\n",
       "\n",
       "    .dataframe thead th {\n",
       "        text-align: right;\n",
       "    }\n",
       "</style>\n",
       "<table border=\"1\" class=\"dataframe\">\n",
       "  <thead>\n",
       "    <tr style=\"text-align: right;\">\n",
       "      <th></th>\n",
       "      <th>0</th>\n",
       "    </tr>\n",
       "  </thead>\n",
       "  <tbody>\n",
       "    <tr>\n",
       "      <th>count</th>\n",
       "      <td>6.990000e+02</td>\n",
       "    </tr>\n",
       "    <tr>\n",
       "      <th>mean</th>\n",
       "      <td>3.185451e+10</td>\n",
       "    </tr>\n",
       "    <tr>\n",
       "      <th>std</th>\n",
       "      <td>7.145163e+11</td>\n",
       "    </tr>\n",
       "    <tr>\n",
       "      <th>min</th>\n",
       "      <td>-7.305260e+12</td>\n",
       "    </tr>\n",
       "    <tr>\n",
       "      <th>25%</th>\n",
       "      <td>8.459095e+00</td>\n",
       "    </tr>\n",
       "    <tr>\n",
       "      <th>50%</th>\n",
       "      <td>1.269236e+01</td>\n",
       "    </tr>\n",
       "    <tr>\n",
       "      <th>75%</th>\n",
       "      <td>1.764781e+01</td>\n",
       "    </tr>\n",
       "    <tr>\n",
       "      <th>max</th>\n",
       "      <td>1.418092e+13</td>\n",
       "    </tr>\n",
       "  </tbody>\n",
       "</table>\n",
       "</div>"
      ],
      "text/plain": [
       "                  0\n",
       "count  6.990000e+02\n",
       "mean   3.185451e+10\n",
       "std    7.145163e+11\n",
       "min   -7.305260e+12\n",
       "25%    8.459095e+00\n",
       "50%    1.269236e+01\n",
       "75%    1.764781e+01\n",
       "max    1.418092e+13"
      ]
     },
     "execution_count": 64,
     "metadata": {},
     "output_type": "execute_result"
    }
   ],
   "source": [
    "pd.DataFrame(y_pred).describe()\n",
    "# note that the 50th percentile is 12.67, but the mean is 4.52*10^10"
   ]
  },
  {
   "cell_type": "code",
   "execution_count": 65,
   "metadata": {},
   "outputs": [
    {
     "data": {
      "text/plain": [
       "699"
      ]
     },
     "execution_count": 65,
     "metadata": {},
     "output_type": "execute_result"
    }
   ],
   "source": [
    "len(y_test)"
   ]
  },
  {
   "cell_type": "code",
   "execution_count": 66,
   "metadata": {},
   "outputs": [
    {
     "data": {
      "text/plain": [
       "52756538175.07538"
      ]
     },
     "execution_count": 66,
     "metadata": {},
     "output_type": "execute_result"
    }
   ],
   "source": [
    "mean_absolute_error(y_test,y_pred)"
   ]
  },
  {
   "cell_type": "code",
   "execution_count": 67,
   "metadata": {},
   "outputs": [],
   "source": [
    "# mean_squared_error(y_test,y_pred)"
   ]
  },
  {
   "cell_type": "code",
   "execution_count": 68,
   "metadata": {},
   "outputs": [
    {
     "data": {
      "text/plain": [
       "714715207172.0975"
      ]
     },
     "execution_count": 68,
     "metadata": {},
     "output_type": "execute_result"
    }
   ],
   "source": [
    "np.sqrt(mean_squared_error(y_test,y_pred))"
   ]
  },
  {
   "cell_type": "code",
   "execution_count": 69,
   "metadata": {},
   "outputs": [],
   "source": [
    "res = (y_test-y_pred)"
   ]
  },
  {
   "cell_type": "code",
   "execution_count": 70,
   "metadata": {},
   "outputs": [
    {
     "data": {
      "text/plain": [
       "-31854507012.389763"
      ]
     },
     "execution_count": 70,
     "metadata": {},
     "output_type": "execute_result"
    }
   ],
   "source": [
    "res.mean()"
   ]
  },
  {
   "cell_type": "code",
   "execution_count": 71,
   "metadata": {},
   "outputs": [
    {
     "data": {
      "text/plain": [
       "count    6.990000e+02\n",
       "mean    -3.185451e+10\n",
       "std      7.145163e+11\n",
       "min     -1.418092e+13\n",
       "25%     -2.943480e+00\n",
       "50%      6.226390e-03\n",
       "75%      2.397008e+00\n",
       "max      7.305260e+12\n",
       "Name: throughput, dtype: float64"
      ]
     },
     "execution_count": 71,
     "metadata": {},
     "output_type": "execute_result"
    }
   ],
   "source": [
    "res.describe()"
   ]
  },
  {
   "cell_type": "code",
   "execution_count": 72,
   "metadata": {},
   "outputs": [
    {
     "data": {
      "text/plain": [
       "1766    7.305260e+12\n",
       "353     1.920148e+01\n",
       "1719    1.759192e+01\n",
       "1745    1.510816e+01\n",
       "354     1.454532e+01\n",
       "298     1.342709e+01\n",
       "829     1.308201e+01\n",
       "374    -1.587234e+01\n",
       "507    -1.729512e+01\n",
       "376    -2.166565e+12\n",
       "634    -4.324656e+12\n",
       "1222   -8.899416e+12\n",
       "315    -1.418092e+13\n",
       "Name: throughput, dtype: float64"
      ]
     },
     "execution_count": 72,
     "metadata": {},
     "output_type": "execute_result"
    }
   ],
   "source": [
    "res.sort_values(ascending=False)[abs(res)>y.mean()]\n",
    "# note that some values are extremly off"
   ]
  },
  {
   "cell_type": "code",
   "execution_count": null,
   "metadata": {},
   "outputs": [],
   "source": []
  },
  {
   "cell_type": "code",
   "execution_count": null,
   "metadata": {},
   "outputs": [],
   "source": []
  },
  {
   "cell_type": "code",
   "execution_count": 73,
   "metadata": {},
   "outputs": [
    {
     "data": {
      "image/png": "[encoded data removed]",
      "text/plain": [
       "<Figure size 432x288 with 1 Axes>"
      ]
     },
     "metadata": {
      "needs_background": "light"
     },
     "output_type": "display_data"
    }
   ],
   "source": [
    "ax = sns.histplot(data=res,bins=100,kde=True)\n",
    "ax.set(xlabel='Residuals');"
   ]
  },
  {
   "cell_type": "code",
   "execution_count": 74,
   "metadata": {},
   "outputs": [
    {
     "data": {
      "text/plain": [
       "<matplotlib.lines.Line2D at 0x7f99225178b0>"
      ]
     },
     "execution_count": 74,
     "metadata": {},
     "output_type": "execute_result"
    },
    {
     "data": {
      "image/png": "[encoded data removed]",
      "text/plain": [
       "<Figure size 432x288 with 1 Axes>"
      ]
     },
     "metadata": {
      "needs_background": "light"
     },
     "output_type": "display_data"
    }
   ],
   "source": [
    "ax = sns.scatterplot(x=y_test, y=res)\n",
    "ax.set(ylabel='Residuals', xlabel='Test Labels')\n",
    "plt.axhline(y=0,color='red',linestyle='--')\n",
    "\n",
    "# there should be no clear pattern / curve in the plot"
   ]
  },
  {
   "cell_type": "code",
   "execution_count": 75,
   "metadata": {},
   "outputs": [],
   "source": [
    "import scipy as sp"
   ]
  },
  {
   "cell_type": "code",
   "execution_count": 76,
   "metadata": {},
   "outputs": [
    {
     "data": {
      "image/png": "[encoded data removed]",
      "text/plain": [
       "<Figure size 432x288 with 1 Axes>"
      ]
     },
     "metadata": {
      "needs_background": "light"
     },
     "output_type": "display_data"
    }
   ],
   "source": [
    "fig, ax = plt.subplots()\n",
    "sp.stats.probplot(res,plot=ax);\n",
    "\n",
    "# note that the residuals are not distributed normally and the are extreme outliers -> remove outliers more aggresively/ regularization / other model "
   ]
  },
  {
   "cell_type": "code",
   "execution_count": 77,
   "metadata": {},
   "outputs": [],
   "source": [
    "final_model = LinearRegression()"
   ]
  },
  {
   "cell_type": "code",
   "execution_count": 78,
   "metadata": {},
   "outputs": [
    {
     "data": {
      "text/plain": [
       "LinearRegression()"
      ]
     },
     "execution_count": 78,
     "metadata": {},
     "output_type": "execute_result"
    }
   ],
   "source": [
    "final_model.fit(X,y)"
   ]
  },
  {
   "cell_type": "code",
   "execution_count": 79,
   "metadata": {},
   "outputs": [],
   "source": [
    "coef_df = pd.DataFrame(data=final_model.coef_,index=X.columns,columns=['b_Coeff'])"
   ]
  },
  {
   "cell_type": "code",
   "execution_count": 80,
   "metadata": {},
   "outputs": [
    {
     "data": {
      "text/html": [
       "<div>\n",
       "<style scoped>\n",
       "    .dataframe tbody tr th:only-of-type {\n",
       "        vertical-align: middle;\n",
       "    }\n",
       "\n",
       "    .dataframe tbody tr th {\n",
       "        vertical-align: top;\n",
       "    }\n",
       "\n",
       "    .dataframe thead th {\n",
       "        text-align: right;\n",
       "    }\n",
       "</style>\n",
       "<table border=\"1\" class=\"dataframe\">\n",
       "  <thead>\n",
       "    <tr style=\"text-align: right;\">\n",
       "      <th></th>\n",
       "      <th>distance</th>\n",
       "      <th>lat</th>\n",
       "      <th>lon</th>\n",
       "      <th>alt</th>\n",
       "      <th>speed</th>\n",
       "      <th>acc</th>\n",
       "      <th>dir</th>\n",
       "      <th>rsrp</th>\n",
       "      <th>rsrq</th>\n",
       "      <th>sinr</th>\n",
       "      <th>...</th>\n",
       "      <th>ci_33527559</th>\n",
       "      <th>ci_33527561</th>\n",
       "      <th>ci_33837570</th>\n",
       "      <th>region_highway</th>\n",
       "      <th>region_suburban</th>\n",
       "      <th>region_urban</th>\n",
       "      <th>weekday_Monday</th>\n",
       "      <th>weekday_Thursday</th>\n",
       "      <th>weekday_Tuesday</th>\n",
       "      <th>weekday_Wednesday</th>\n",
       "    </tr>\n",
       "  </thead>\n",
       "  <tbody>\n",
       "    <tr>\n",
       "      <th>b_Coeff</th>\n",
       "      <td>-0.000526</td>\n",
       "      <td>124.998432</td>\n",
       "      <td>39.374307</td>\n",
       "      <td>-0.022046</td>\n",
       "      <td>0.080378</td>\n",
       "      <td>0.08577</td>\n",
       "      <td>-0.000576</td>\n",
       "      <td>0.168804</td>\n",
       "      <td>0.229848</td>\n",
       "      <td>0.040098</td>\n",
       "      <td>...</td>\n",
       "      <td>-3.877941</td>\n",
       "      <td>-8.460709</td>\n",
       "      <td>0.204823</td>\n",
       "      <td>7.205322</td>\n",
       "      <td>0.655514</td>\n",
       "      <td>-7.25349</td>\n",
       "      <td>0.090084</td>\n",
       "      <td>-0.04683</td>\n",
       "      <td>0.028479</td>\n",
       "      <td>0.237415</td>\n",
       "    </tr>\n",
       "  </tbody>\n",
       "</table>\n",
       "<p>1 rows × 84 columns</p>\n",
       "</div>"
      ],
      "text/plain": [
       "         distance         lat        lon       alt     speed      acc  \\\n",
       "b_Coeff -0.000526  124.998432  39.374307 -0.022046  0.080378  0.08577   \n",
       "\n",
       "              dir      rsrp      rsrq      sinr  ...  ci_33527559  \\\n",
       "b_Coeff -0.000576  0.168804  0.229848  0.040098  ...    -3.877941   \n",
       "\n",
       "         ci_33527561  ci_33837570  region_highway  region_suburban  \\\n",
       "b_Coeff    -8.460709     0.204823        7.205322         0.655514   \n",
       "\n",
       "         region_urban  weekday_Monday  weekday_Thursday  weekday_Tuesday  \\\n",
       "b_Coeff      -7.25349        0.090084          -0.04683         0.028479   \n",
       "\n",
       "         weekday_Wednesday  \n",
       "b_Coeff           0.237415  \n",
       "\n",
       "[1 rows x 84 columns]"
      ]
     },
     "execution_count": 80,
     "metadata": {},
     "output_type": "execute_result"
    }
   ],
   "source": [
    "coef_df.transpose()"
   ]
  },
  {
   "cell_type": "code",
   "execution_count": 81,
   "metadata": {},
   "outputs": [],
   "source": [
    "y_hat = final_model.predict(X)"
   ]
  },
  {
   "cell_type": "code",
   "execution_count": 82,
   "metadata": {},
   "outputs": [
    {
     "ename": "FileNotFoundError",
     "evalue": "[Errno 2] No such file or directory: './data/dl-final-no-scale-no-dummies.csv'",
     "output_type": "error",
     "traceback": [
      "\u001b[0;31m---------------------------------------------------------------------------\u001b[0m",
      "\u001b[0;31mFileNotFoundError\u001b[0m                         Traceback (most recent call last)",
      "\u001b[0;32m<ipython-input-82-e57ad88913f3>\u001b[0m in \u001b[0;36m<module>\u001b[0;34m\u001b[0m\n\u001b[0;32m----> 1\u001b[0;31m \u001b[0mdf_nd\u001b[0m \u001b[0;34m=\u001b[0m \u001b[0mpd\u001b[0m\u001b[0;34m.\u001b[0m\u001b[0mread_csv\u001b[0m\u001b[0;34m(\u001b[0m\u001b[0;34m'./data/dl-final-no-scale-no-dummies.csv'\u001b[0m\u001b[0;34m)\u001b[0m\u001b[0;34m\u001b[0m\u001b[0;34m\u001b[0m\u001b[0m\n\u001b[0m\u001b[1;32m      2\u001b[0m \u001b[0;34m\u001b[0m\u001b[0m\n\u001b[1;32m      3\u001b[0m \u001b[0mdf_nd_vis\u001b[0m \u001b[0;34m=\u001b[0m \u001b[0mdf_nd\u001b[0m\u001b[0;34m[\u001b[0m\u001b[0;34m[\u001b[0m\u001b[0;34m'payload'\u001b[0m\u001b[0;34m,\u001b[0m \u001b[0;34m'rsrp'\u001b[0m\u001b[0;34m,\u001b[0m \u001b[0;34m'rsrq'\u001b[0m\u001b[0;34m,\u001b[0m \u001b[0;34m'sinr'\u001b[0m\u001b[0;34m,\u001b[0m \u001b[0;34m'cqi'\u001b[0m\u001b[0;34m,\u001b[0m \u001b[0;34m'region'\u001b[0m\u001b[0;34m,\u001b[0m\u001b[0;34m'throughput'\u001b[0m\u001b[0;34m,\u001b[0m\u001b[0;34m'weekday'\u001b[0m\u001b[0;34m,\u001b[0m\u001b[0;34m'hour'\u001b[0m\u001b[0;34m]\u001b[0m\u001b[0;34m]\u001b[0m\u001b[0;34m\u001b[0m\u001b[0;34m\u001b[0m\u001b[0m\n\u001b[1;32m      4\u001b[0m \u001b[0;34m\u001b[0m\u001b[0m\n\u001b[1;32m      5\u001b[0m \u001b[0;34m\u001b[0m\u001b[0m\n",
      "\u001b[0;32m~/opt/anaconda3/envs/masterclass/lib/python3.8/site-packages/pandas/io/parsers.py\u001b[0m in \u001b[0;36mread_csv\u001b[0;34m(filepath_or_buffer, sep, delimiter, header, names, index_col, usecols, squeeze, prefix, mangle_dupe_cols, dtype, engine, converters, true_values, false_values, skipinitialspace, skiprows, skipfooter, nrows, na_values, keep_default_na, na_filter, verbose, skip_blank_lines, parse_dates, infer_datetime_format, keep_date_col, date_parser, dayfirst, cache_dates, iterator, chunksize, compression, thousands, decimal, lineterminator, quotechar, quoting, doublequote, escapechar, comment, encoding, dialect, error_bad_lines, warn_bad_lines, delim_whitespace, low_memory, memory_map, float_precision)\u001b[0m\n\u001b[1;32m    684\u001b[0m     )\n\u001b[1;32m    685\u001b[0m \u001b[0;34m\u001b[0m\u001b[0m\n\u001b[0;32m--> 686\u001b[0;31m     \u001b[0;32mreturn\u001b[0m \u001b[0m_read\u001b[0m\u001b[0;34m(\u001b[0m\u001b[0mfilepath_or_buffer\u001b[0m\u001b[0;34m,\u001b[0m \u001b[0mkwds\u001b[0m\u001b[0;34m)\u001b[0m\u001b[0;34m\u001b[0m\u001b[0;34m\u001b[0m\u001b[0m\n\u001b[0m\u001b[1;32m    687\u001b[0m \u001b[0;34m\u001b[0m\u001b[0m\n\u001b[1;32m    688\u001b[0m \u001b[0;34m\u001b[0m\u001b[0m\n",
      "\u001b[0;32m~/opt/anaconda3/envs/masterclass/lib/python3.8/site-packages/pandas/io/parsers.py\u001b[0m in \u001b[0;36m_read\u001b[0;34m(filepath_or_buffer, kwds)\u001b[0m\n\u001b[1;32m    450\u001b[0m \u001b[0;34m\u001b[0m\u001b[0m\n\u001b[1;32m    451\u001b[0m     \u001b[0;31m# Create the parser.\u001b[0m\u001b[0;34m\u001b[0m\u001b[0;34m\u001b[0m\u001b[0;34m\u001b[0m\u001b[0m\n\u001b[0;32m--> 452\u001b[0;31m     \u001b[0mparser\u001b[0m \u001b[0;34m=\u001b[0m \u001b[0mTextFileReader\u001b[0m\u001b[0;34m(\u001b[0m\u001b[0mfp_or_buf\u001b[0m\u001b[0;34m,\u001b[0m \u001b[0;34m**\u001b[0m\u001b[0mkwds\u001b[0m\u001b[0;34m)\u001b[0m\u001b[0;34m\u001b[0m\u001b[0;34m\u001b[0m\u001b[0m\n\u001b[0m\u001b[1;32m    453\u001b[0m \u001b[0;34m\u001b[0m\u001b[0m\n\u001b[1;32m    454\u001b[0m     \u001b[0;32mif\u001b[0m \u001b[0mchunksize\u001b[0m \u001b[0;32mor\u001b[0m \u001b[0miterator\u001b[0m\u001b[0;34m:\u001b[0m\u001b[0;34m\u001b[0m\u001b[0;34m\u001b[0m\u001b[0m\n",
      "\u001b[0;32m~/opt/anaconda3/envs/masterclass/lib/python3.8/site-packages/pandas/io/parsers.py\u001b[0m in \u001b[0;36m__init__\u001b[0;34m(self, f, engine, **kwds)\u001b[0m\n\u001b[1;32m    934\u001b[0m             \u001b[0mself\u001b[0m\u001b[0;34m.\u001b[0m\u001b[0moptions\u001b[0m\u001b[0;34m[\u001b[0m\u001b[0;34m\"has_index_names\"\u001b[0m\u001b[0;34m]\u001b[0m \u001b[0;34m=\u001b[0m \u001b[0mkwds\u001b[0m\u001b[0;34m[\u001b[0m\u001b[0;34m\"has_index_names\"\u001b[0m\u001b[0;34m]\u001b[0m\u001b[0;34m\u001b[0m\u001b[0;34m\u001b[0m\u001b[0m\n\u001b[1;32m    935\u001b[0m \u001b[0;34m\u001b[0m\u001b[0m\n\u001b[0;32m--> 936\u001b[0;31m         \u001b[0mself\u001b[0m\u001b[0;34m.\u001b[0m\u001b[0m_make_engine\u001b[0m\u001b[0;34m(\u001b[0m\u001b[0mself\u001b[0m\u001b[0;34m.\u001b[0m\u001b[0mengine\u001b[0m\u001b[0;34m)\u001b[0m\u001b[0;34m\u001b[0m\u001b[0;34m\u001b[0m\u001b[0m\n\u001b[0m\u001b[1;32m    937\u001b[0m \u001b[0;34m\u001b[0m\u001b[0m\n\u001b[1;32m    938\u001b[0m     \u001b[0;32mdef\u001b[0m \u001b[0mclose\u001b[0m\u001b[0;34m(\u001b[0m\u001b[0mself\u001b[0m\u001b[0;34m)\u001b[0m\u001b[0;34m:\u001b[0m\u001b[0;34m\u001b[0m\u001b[0;34m\u001b[0m\u001b[0m\n",
      "\u001b[0;32m~/opt/anaconda3/envs/masterclass/lib/python3.8/site-packages/pandas/io/parsers.py\u001b[0m in \u001b[0;36m_make_engine\u001b[0;34m(self, engine)\u001b[0m\n\u001b[1;32m   1166\u001b[0m     \u001b[0;32mdef\u001b[0m \u001b[0m_make_engine\u001b[0m\u001b[0;34m(\u001b[0m\u001b[0mself\u001b[0m\u001b[0;34m,\u001b[0m \u001b[0mengine\u001b[0m\u001b[0;34m=\u001b[0m\u001b[0;34m\"c\"\u001b[0m\u001b[0;34m)\u001b[0m\u001b[0;34m:\u001b[0m\u001b[0;34m\u001b[0m\u001b[0;34m\u001b[0m\u001b[0m\n\u001b[1;32m   1167\u001b[0m         \u001b[0;32mif\u001b[0m \u001b[0mengine\u001b[0m \u001b[0;34m==\u001b[0m \u001b[0;34m\"c\"\u001b[0m\u001b[0;34m:\u001b[0m\u001b[0;34m\u001b[0m\u001b[0;34m\u001b[0m\u001b[0m\n\u001b[0;32m-> 1168\u001b[0;31m             \u001b[0mself\u001b[0m\u001b[0;34m.\u001b[0m\u001b[0m_engine\u001b[0m \u001b[0;34m=\u001b[0m \u001b[0mCParserWrapper\u001b[0m\u001b[0;34m(\u001b[0m\u001b[0mself\u001b[0m\u001b[0;34m.\u001b[0m\u001b[0mf\u001b[0m\u001b[0;34m,\u001b[0m \u001b[0;34m**\u001b[0m\u001b[0mself\u001b[0m\u001b[0;34m.\u001b[0m\u001b[0moptions\u001b[0m\u001b[0;34m)\u001b[0m\u001b[0;34m\u001b[0m\u001b[0;34m\u001b[0m\u001b[0m\n\u001b[0m\u001b[1;32m   1169\u001b[0m         \u001b[0;32melse\u001b[0m\u001b[0;34m:\u001b[0m\u001b[0;34m\u001b[0m\u001b[0;34m\u001b[0m\u001b[0m\n\u001b[1;32m   1170\u001b[0m             \u001b[0;32mif\u001b[0m \u001b[0mengine\u001b[0m \u001b[0;34m==\u001b[0m \u001b[0;34m\"python\"\u001b[0m\u001b[0;34m:\u001b[0m\u001b[0;34m\u001b[0m\u001b[0;34m\u001b[0m\u001b[0m\n",
      "\u001b[0;32m~/opt/anaconda3/envs/masterclass/lib/python3.8/site-packages/pandas/io/parsers.py\u001b[0m in \u001b[0;36m__init__\u001b[0;34m(self, src, **kwds)\u001b[0m\n\u001b[1;32m   1996\u001b[0m         \u001b[0mkwds\u001b[0m\u001b[0;34m[\u001b[0m\u001b[0;34m\"usecols\"\u001b[0m\u001b[0;34m]\u001b[0m \u001b[0;34m=\u001b[0m \u001b[0mself\u001b[0m\u001b[0;34m.\u001b[0m\u001b[0musecols\u001b[0m\u001b[0;34m\u001b[0m\u001b[0;34m\u001b[0m\u001b[0m\n\u001b[1;32m   1997\u001b[0m \u001b[0;34m\u001b[0m\u001b[0m\n\u001b[0;32m-> 1998\u001b[0;31m         \u001b[0mself\u001b[0m\u001b[0;34m.\u001b[0m\u001b[0m_reader\u001b[0m \u001b[0;34m=\u001b[0m \u001b[0mparsers\u001b[0m\u001b[0;34m.\u001b[0m\u001b[0mTextReader\u001b[0m\u001b[0;34m(\u001b[0m\u001b[0msrc\u001b[0m\u001b[0;34m,\u001b[0m \u001b[0;34m**\u001b[0m\u001b[0mkwds\u001b[0m\u001b[0;34m)\u001b[0m\u001b[0;34m\u001b[0m\u001b[0;34m\u001b[0m\u001b[0m\n\u001b[0m\u001b[1;32m   1999\u001b[0m         \u001b[0mself\u001b[0m\u001b[0;34m.\u001b[0m\u001b[0munnamed_cols\u001b[0m \u001b[0;34m=\u001b[0m \u001b[0mself\u001b[0m\u001b[0;34m.\u001b[0m\u001b[0m_reader\u001b[0m\u001b[0;34m.\u001b[0m\u001b[0munnamed_cols\u001b[0m\u001b[0;34m\u001b[0m\u001b[0;34m\u001b[0m\u001b[0m\n\u001b[1;32m   2000\u001b[0m \u001b[0;34m\u001b[0m\u001b[0m\n",
      "\u001b[0;32mpandas/_libs/parsers.pyx\u001b[0m in \u001b[0;36mpandas._libs.parsers.TextReader.__cinit__\u001b[0;34m()\u001b[0m\n",
      "\u001b[0;32mpandas/_libs/parsers.pyx\u001b[0m in \u001b[0;36mpandas._libs.parsers.TextReader._setup_parser_source\u001b[0;34m()\u001b[0m\n",
      "\u001b[0;31mFileNotFoundError\u001b[0m: [Errno 2] No such file or directory: './data/dl-final-no-scale-no-dummies.csv'"
     ]
    }
   ],
   "source": [
    "df_nd = pd.read_csv('./data/dl-final-no-scale-no-dummies.csv')\n",
    "\n",
    "df_nd_vis = df_nd[['payload', 'rsrp', 'rsrq', 'sinr', 'cqi', 'region','throughput','weekday','hour']]\n",
    "\n",
    "\n",
    "plt.figure(figsize=(16,16))\n",
    "\n",
    "sns.set_style('whitegrid')\n",
    "fig,axes = plt.subplots(nrows=7, ncols=1,figsize=(16,20))\n",
    "\n",
    "for i, column in enumerate(df_nd_vis.drop(['throughput','region'], axis=1)):\n",
    "    sns.scatterplot(data=df_nd_vis, x=column, y='throughput', ax=axes[i],alpha=.2)\n",
    "    sns.scatterplot(data=df_nd_vis, x=column, y=y_hat, ax=axes[i],color='red',alpha=0.2)\n",
    "    # ax.legend(loc=(1.03,0.5))\n",
    "    # axes[i].set_title(f'{column.capitalize()}') \n",
    "\n",
    "plt.subplots_adjust(hspace = 0.5)\n",
    "\n",
    "# Note that the region plays a significant role in determining the mean and variance "
   ]
  },
  {
   "cell_type": "markdown",
   "metadata": {},
   "source": [
    "# Polynomial Regression"
   ]
  },
  {
   "cell_type": "code",
   "execution_count": null,
   "metadata": {},
   "outputs": [],
   "source": [
    "from sklearn.preprocessing import PolynomialFeatures"
   ]
  },
  {
   "cell_type": "code",
   "execution_count": null,
   "metadata": {},
   "outputs": [],
   "source": [
    "train_rmse_errs_list = []\n",
    "test_rmse_errs_list = []\n",
    "\n",
    "for d in range(1,4): \n",
    "    # create transformation poly_converter:X->X'\n",
    "    poly_trafo = PolynomialFeatures(degree=d, include_bias=False)\n",
    "    # store transformed features\n",
    "    poly_features = poly_trafo.fit_transform(X)\n",
    "    \n",
    "    # split the transformed data\n",
    "    X_train, X_test, y_train, y_test = train_test_split(poly_features, y, test_size=0.33, random_state=42)\n",
    "    \n",
    "    # create model\n",
    "    model = LinearRegression()\n",
    "    # train the model\n",
    "    model.fit(X_train, y_train)\n",
    "    \n",
    "    # predict on training data\n",
    "    train_pred = model.predict(X_train)\n",
    "    print(train_pred.mean())\n",
    "    # predict on test data\n",
    "    test_pred = model.predict(X_test)\n",
    "    print(test_pred.mean())\n",
    "    \n",
    "    \n",
    "    # generate error statistic\n",
    "    train_rmse = np.sqrt(mean_squared_error(y_train,train_pred))\n",
    "    test_rmse = np.sqrt(mean_squared_error(y_test,test_pred))\n",
    "    \n",
    "    # append the error statistic to the list\n",
    "    train_rmse_errs_list.append(train_rmse)\n",
    "    test_rmse_errs_list.append(test_rmse)\n",
    "    \n",
    "# train_rmse_errs_ser = pd.Series(train_rmse_errs_list,index=list(range(1,4)))\n",
    "# test_rmse_errs_ser = pd.Series(test_rmse_errs_list,index=list(range(1,4)))"
   ]
  },
  {
   "cell_type": "code",
   "execution_count": null,
   "metadata": {},
   "outputs": [],
   "source": [
    "train_rmse_errs_ser = pd.Series(train_rmse_errs_list,index=list(range(1,4)))\n",
    "test_rmse_errs_ser = pd.Series(test_rmse_errs_list,index=list(range(1,4)))"
   ]
  },
  {
   "cell_type": "code",
   "execution_count": null,
   "metadata": {},
   "outputs": [],
   "source": [
    "train_rmse_errs_ser"
   ]
  },
  {
   "cell_type": "code",
   "execution_count": null,
   "metadata": {},
   "outputs": [],
   "source": [
    "test_rmse_errs_ser"
   ]
  },
  {
   "cell_type": "code",
   "execution_count": null,
   "metadata": {},
   "outputs": [],
   "source": [
    "plt.plot(range(1,4), train_rmse_errs_ser[:5], label='Train RMSE')\n",
    "plt.plot(range(1,4), test_rmse_errs_ser[:5], label='Test RMSE')\n",
    "\n",
    "\n",
    "plt.legend(loc='upper left')\n",
    "plt.ylabel('RMSE')\n",
    "plt.xlabel('Degree of Polynomial')"
   ]
  },
  {
   "cell_type": "code",
   "execution_count": null,
   "metadata": {},
   "outputs": [],
   "source": []
  },
  {
   "cell_type": "code",
   "execution_count": null,
   "metadata": {},
   "outputs": [],
   "source": []
  },
  {
   "cell_type": "code",
   "execution_count": null,
   "metadata": {},
   "outputs": [],
   "source": []
  },
  {
   "cell_type": "code",
   "execution_count": null,
   "metadata": {},
   "outputs": [],
   "source": []
  },
  {
   "cell_type": "code",
   "execution_count": null,
   "metadata": {},
   "outputs": [],
   "source": []
  },
  {
   "cell_type": "code",
   "execution_count": null,
   "metadata": {},
   "outputs": [],
   "source": [
    "poly_trafo = PolynomialFeatures(degree=3, include_bias=False)"
   ]
  },
  {
   "cell_type": "code",
   "execution_count": null,
   "metadata": {},
   "outputs": [],
   "source": [
    "poly_trafo.fit(X)"
   ]
  },
  {
   "cell_type": "code",
   "execution_count": null,
   "metadata": {},
   "outputs": [],
   "source": [
    "poly_features = poly_trafo.transform(X)"
   ]
  },
  {
   "cell_type": "code",
   "execution_count": null,
   "metadata": {},
   "outputs": [],
   "source": [
    "X.shape"
   ]
  },
  {
   "cell_type": "code",
   "execution_count": null,
   "metadata": {},
   "outputs": [],
   "source": [
    "poly_features.shape"
   ]
  },
  {
   "cell_type": "code",
   "execution_count": null,
   "metadata": {},
   "outputs": [],
   "source": [
    "poly_features_df = pd.DataFrame(poly_features, columns=poly_trafo.get_feature_names(X.columns))"
   ]
  },
  {
   "cell_type": "code",
   "execution_count": null,
   "metadata": {},
   "outputs": [],
   "source": [
    "poly_features_df.head()"
   ]
  },
  {
   "cell_type": "code",
   "execution_count": null,
   "metadata": {},
   "outputs": [],
   "source": []
  },
  {
   "cell_type": "code",
   "execution_count": null,
   "metadata": {},
   "outputs": [],
   "source": [
    "# we do a split with the polynomial features\n",
    "X_train, X_test, y_train, y_test = train_test_split(poly_features, y, test_size=0.33, random_state=42)"
   ]
  },
  {
   "cell_type": "code",
   "execution_count": null,
   "metadata": {},
   "outputs": [],
   "source": [
    "model = LinearRegression()"
   ]
  },
  {
   "cell_type": "code",
   "execution_count": null,
   "metadata": {},
   "outputs": [],
   "source": [
    "model.fit(X_train, y_train)"
   ]
  },
  {
   "cell_type": "code",
   "execution_count": null,
   "metadata": {},
   "outputs": [],
   "source": [
    "y_pred = model.predict(X_test)"
   ]
  },
  {
   "cell_type": "code",
   "execution_count": null,
   "metadata": {},
   "outputs": [],
   "source": [
    "y.mean()"
   ]
  },
  {
   "cell_type": "code",
   "execution_count": null,
   "metadata": {},
   "outputs": [],
   "source": [
    "y_pred.mean()"
   ]
  },
  {
   "cell_type": "code",
   "execution_count": null,
   "metadata": {},
   "outputs": [],
   "source": [
    "model.coef_"
   ]
  },
  {
   "cell_type": "code",
   "execution_count": null,
   "metadata": {},
   "outputs": [],
   "source": [
    "len(model.coef_)"
   ]
  },
  {
   "cell_type": "code",
   "execution_count": null,
   "metadata": {},
   "outputs": [],
   "source": [
    "MAE = mean_absolute_error(y_test, y_pred)"
   ]
  },
  {
   "cell_type": "code",
   "execution_count": null,
   "metadata": {},
   "outputs": [],
   "source": [
    "MSE = mean_squared_error(y_test, y_pred)"
   ]
  },
  {
   "cell_type": "code",
   "execution_count": null,
   "metadata": {},
   "outputs": [],
   "source": [
    "RMSE = np.sqrt(MSE)"
   ]
  },
  {
   "cell_type": "code",
   "execution_count": null,
   "metadata": {},
   "outputs": [],
   "source": [
    "MAE"
   ]
  },
  {
   "cell_type": "code",
   "execution_count": null,
   "metadata": {},
   "outputs": [],
   "source": [
    "MSE"
   ]
  },
  {
   "cell_type": "code",
   "execution_count": null,
   "metadata": {},
   "outputs": [],
   "source": [
    "RMSE"
   ]
  },
  {
   "cell_type": "code",
   "execution_count": null,
   "metadata": {},
   "outputs": [],
   "source": [
    "res = y_test - y_pred"
   ]
  },
  {
   "cell_type": "code",
   "execution_count": null,
   "metadata": {},
   "outputs": [],
   "source": [
    "res.mean()"
   ]
  },
  {
   "cell_type": "code",
   "execution_count": null,
   "metadata": {},
   "outputs": [],
   "source": [
    "ax = sns.histplot(data=res,bins=100,kde=True)\n",
    "ax.set(xlabel='Residuals');"
   ]
  },
  {
   "cell_type": "code",
   "execution_count": null,
   "metadata": {},
   "outputs": [],
   "source": [
    "ax = sns.scatterplot(x=y_test, y=res)\n",
    "ax.set(ylabel='Residuals', xlabel='Test Labels')\n",
    "plt.axhline(y=0,color='red',linestyle='--')\n",
    "\n",
    "# there should be no clear pattern / curve in the plot"
   ]
  },
  {
   "cell_type": "code",
   "execution_count": null,
   "metadata": {},
   "outputs": [],
   "source": [
    "fig, ax = plt.subplots()\n",
    "sp.stats.probplot(res,plot=ax);\n",
    "\n",
    "# note that the residuals are not distributed normally and the are extreme outliers -> remove outliers more aggresively/ regularization / other model "
   ]
  },
  {
   "cell_type": "code",
   "execution_count": null,
   "metadata": {},
   "outputs": [],
   "source": [
    "# or i, feature in enumerate(poly_features_df):\n",
    "#    print(f'{feature} = {model.coef_[i]:.3f}')"
   ]
  },
  {
   "cell_type": "code",
   "execution_count": null,
   "metadata": {},
   "outputs": [],
   "source": [
    "train_rmse_errs_list = []\n",
    "test_rmse_errs_list = []\n",
    "\n",
    "for d in range(1,6): \n",
    "    # create transformation poly_converter:X->X'\n",
    "    poly_trafo = PolynomialFeatures(degree=d, include_bias=False)\n",
    "    # store transformed features\n",
    "    poly_features = poly_trafo.fit_transform(X)\n",
    "    \n",
    "    # split the transformed data\n",
    "    X_train, X_test, y_train, y_test = train_test_split(pol_features, y, test_size=0.33, random_state=42)\n",
    "    \n",
    "    # create model\n",
    "    model = LinearRegression()\n",
    "    # train the model\n",
    "    model.fit(X_train, y_train)\n",
    "    \n",
    "    # predict on training data\n",
    "    train_pred = model.predict(X_train)\n",
    "    # predict on test data\n",
    "    test_pred = model.predict(X_test)\n",
    "    \n",
    "    # generate error statistic\n",
    "    train_rmse = np.sqrt(mean_squared_error(y_train,train_pred))\n",
    "    test_rmse = np.sqrt(mean_squared_error(y_test,test_pred))\n",
    "    \n",
    "    # append the error statistic to the list\n",
    "    train_rmse_errs_list.append(train_rmse)\n",
    "    test_rmse_errs_list.append(test_rmse)\n",
    "    \n",
    "train_rmse_errs_ser = pd.Series(train_rmse_errs_list,index=list(range(1,10)))\n",
    "test_rmse_errs_ser = pd.Series(test_rmse_errs_list,index=list(range(1,10)))"
   ]
  },
  {
   "cell_type": "code",
   "execution_count": null,
   "metadata": {},
   "outputs": [],
   "source": []
  }
 ],
 "metadata": {
  "kernelspec": {
   "display_name": "Python 3",
   "language": "python",
   "name": "python3"
  },
  "language_info": {
   "codemirror_mode": {
    "name": "ipython",
    "version": 3
   },
   "file_extension": ".py",
   "mimetype": "text/x-python",
   "name": "python",
   "nbconvert_exporter": "python",
   "pygments_lexer": "ipython3",
   "version": "3.8.6"
  }
 },
 "nbformat": 4,
 "nbformat_minor": 4
}
