{
 "cells": [
  {
   "cell_type": "markdown",
   "metadata": {},
   "source": [
    "# Statistics Meets Logistics\n",
    "--- \n",
    "\n",
    "## Description\n",
    "This notebook holds the DataFrames and analysis for the project.\n",
    "\n",
    "Requirements for the project environment can be found in https://github.com/luiul/statistics-meets-logistics/blob/main/requirements.txt. **Disclaimer**: the project has not been tested in other environments. \n",
    "\n",
    "## Overview\n",
    "Start here!\n",
    "\n",
    "## Goal \n",
    "The goal of this project is to perform a regression analysis given raw download and upload data to estimate the throughput of the system, i.e. the label we're trying to predict. \n",
    "\n",
    "## In General\n",
    "In statistical modeling, regression analysis is a set of statistical processes for estimating the relationships between a dependent variable (often called the 'outcome variable') and one or more independent variables (often called 'predictors', 'covariates', or 'features').\n",
    "\n",
    "## Question"
   ]
  },
  {
   "cell_type": "markdown",
   "metadata": {},
   "source": [
    "# Import Libraries and Set Options\n",
    "---"
   ]
  },
  {
   "cell_type": "markdown",
   "metadata": {},
   "source": [
    "## Import Libraries"
   ]
  },
  {
   "cell_type": "code",
   "execution_count": 1,
   "metadata": {},
   "outputs": [],
   "source": [
    "# Vector (Series) & Matrix (DateFrame) manipulation \n",
    "import numpy as np\n",
    "import pandas as pd\n",
    "\n",
    "# Data Visualization\n",
    "import matplotlib.pyplot as plt\n",
    "import seaborn as sns\n",
    "\n",
    "# Python Utilities\n",
    "# Generate datetime objects from raw timestamps and vice versa\n",
    "from datetime import datetime\n",
    "\n",
    "# OS Interface\n",
    "# import os\n",
    "\n",
    "# Regex search patterns \n",
    "# import re"
   ]
  },
  {
   "cell_type": "code",
   "execution_count": null,
   "metadata": {},
   "outputs": [],
   "source": [
    "# Split Function (see Signature for correct tuple unpacking)\n",
    "# from sklearn.model_selection import train_test_split\n",
    "\n",
    "# Linear Regression Model\n",
    "# from sklearn.linear_model import LinearRegression"
   ]
  },
  {
   "cell_type": "code",
   "execution_count": null,
   "metadata": {},
   "outputs": [],
   "source": [
    "# Polynomial Regression ( poly_trafo: X->X*...*X )\n",
    "# from sklearn.preprocessing import PolynomialFeatures"
   ]
  },
  {
   "cell_type": "code",
   "execution_count": null,
   "metadata": {},
   "outputs": [],
   "source": [
    "# Data Scaling (iff values are in different order of magnitude)\n",
    "# from sklearn.preprocessing import StandardScaler"
   ]
  },
  {
   "cell_type": "code",
   "execution_count": null,
   "metadata": {},
   "outputs": [],
   "source": [
    "# Elastic Net Regularization: start here for regularization in Linear Regression. Make sure to keep an l1_ratio that allows us to go fully to Lasso or fully to Ridge. See Lasso and Ridge explanations below. \n",
    "# from sklearn.linear_model import ElasticNetCV"
   ]
  },
  {
   "cell_type": "code",
   "execution_count": null,
   "metadata": {},
   "outputs": [],
   "source": [
    "# L2: Ridge Regularization: adds beta squared shrinkage penalty. Hyper-parameter alpha: alpha=0 -> RSS minimization. L2 CV takes an alpha tuple and computes the hyper-parameter that delivers the best performance (either based on default scorer or one from the SCORES dictionary)\n",
    "# from sklearn.linear_model import RidgeCV\n",
    "\n",
    "# Use from sklearn.linear_model import Ridge in case no CV is needed"
   ]
  },
  {
   "cell_type": "code",
   "execution_count": null,
   "metadata": {},
   "outputs": [],
   "source": [
    "# L1: Lasso Regularization: adds absolute beta value shrinkage penalty. Hyper-parameter alpha: alpha=0 -> RSS minimization. There are two ways to determine the alpha hyper-parameter: (a) provide list of alphas as an array (b) alpha can be set automatically by the class based off epsilon and n_alphas (we use the default values)\n",
    "# from sklearn.linear_model import LassoCV\n",
    "\n",
    "# Use from sklearn.linear_model import Lasso in case no CV is needed"
   ]
  },
  {
   "cell_type": "code",
   "execution_count": null,
   "metadata": {},
   "outputs": [],
   "source": [
    "# Performance Evaluation: common evaluation metrics; they can also be found in the SCORES dictionary (although transformed s.t. the higher the score the better, the model performance)\n",
    "# from sklearn.metrics import mean_absolute_error, mean_squared_error"
   ]
  },
  {
   "cell_type": "code",
   "execution_count": null,
   "metadata": {},
   "outputs": [],
   "source": [
    "# Dictionary with different scorer objects; higher return values are better than lower return values by convention, e.g. negative error maximization -> the higher the score, the better the model performance\n",
    "# from sklearn.metrics import SCORERS"
   ]
  },
  {
   "cell_type": "code",
   "execution_count": null,
   "metadata": {},
   "outputs": [],
   "source": [
    "# Normal Probability Plot\n",
    "# import scipy as sp"
   ]
  },
  {
   "cell_type": "code",
   "execution_count": null,
   "metadata": {},
   "outputs": [],
   "source": [
    "# ML Model Deployment \n",
    "# from joblib import dump, load"
   ]
  },
  {
   "cell_type": "markdown",
   "metadata": {},
   "source": [
    "## Check Prerequisites"
   ]
  },
  {
   "cell_type": "code",
   "execution_count": null,
   "metadata": {},
   "outputs": [],
   "source": [
    "# calling np.version.version should return 1.18.1\n",
    "# np.version.version\n",
    "\n",
    "# calling pd.__version__ should return 1.1.2\n",
    "# pd.__version__"
   ]
  },
  {
   "cell_type": "markdown",
   "metadata": {},
   "source": [
    "## Set Options"
   ]
  },
  {
   "cell_type": "code",
   "execution_count": 31,
   "metadata": {},
   "outputs": [],
   "source": [
    "pd.set_option('display.max_columns',None)\n",
    "# avoid truncate view of DataFrame (scroll to view all columns); set to 0 for pandas to auto-detect the with of the terminal and print truncated object that fits the screen width\n",
    "\n",
    "# pd.set_option('float_format', '{:.2f}'.format)\n",
    "# prints floats with two decimal points; do not comment out in this project since the features lat and lon have sigficant figures after two decimal points"
   ]
  },
  {
   "cell_type": "code",
   "execution_count": null,
   "metadata": {},
   "outputs": [],
   "source": [
    "# Display all outsputs if the cell has multiple commands as its input\n",
    "\n",
    "# from IPython.core.interactiveshell import InteractiveShell\n",
    "# InteractiveShell.ast_node_interactivity = \"all\""
   ]
  },
  {
   "cell_type": "markdown",
   "metadata": {},
   "source": [
    "# Feature Engineering and Data Preparation\n",
    "---"
   ]
  },
  {
   "cell_type": "markdown",
   "metadata": {},
   "source": [
    "## Instantiate DataFrames and Explore Features"
   ]
  },
  {
   "cell_type": "markdown",
   "metadata": {},
   "source": [
    "### Read in Data\n",
    "We read in the feature description and the raw data (d_df is the raw download data and u_df is the raw upload data). "
   ]
  },
  {
   "cell_type": "code",
   "execution_count": 127,
   "metadata": {},
   "outputs": [],
   "source": [
    "# with open('feature-description.txt',mode='r') as f:\n",
    "#     print(f.read())  "
   ]
  },
  {
   "cell_type": "code",
   "execution_count": 2,
   "metadata": {},
   "outputs": [],
   "source": [
    "d_df = pd.read_csv('raw_data_dl.csv', delim_whitespace=True)"
   ]
  },
  {
   "cell_type": "code",
   "execution_count": 33,
   "metadata": {},
   "outputs": [
    {
     "data": {
      "text/html": [
       "<div>\n",
       "<style scoped>\n",
       "    .dataframe tbody tr th:only-of-type {\n",
       "        vertical-align: middle;\n",
       "    }\n",
       "\n",
       "    .dataframe tbody tr th {\n",
       "        vertical-align: top;\n",
       "    }\n",
       "\n",
       "    .dataframe thead th {\n",
       "        text-align: right;\n",
       "    }\n",
       "</style>\n",
       "<table border=\"1\" class=\"dataframe\">\n",
       "  <thead>\n",
       "    <tr style=\"text-align: right;\">\n",
       "      <th></th>\n",
       "      <th>timestamp</th>\n",
       "      <th>rawTimesamp</th>\n",
       "      <th>distance</th>\n",
       "      <th>lat</th>\n",
       "      <th>lon</th>\n",
       "      <th>alt</th>\n",
       "      <th>speed</th>\n",
       "      <th>acc</th>\n",
       "      <th>dir</th>\n",
       "      <th>connected</th>\n",
       "      <th>rsrp</th>\n",
       "      <th>rsrq</th>\n",
       "      <th>sinr</th>\n",
       "      <th>cqi</th>\n",
       "      <th>ss</th>\n",
       "      <th>ta</th>\n",
       "      <th>ci</th>\n",
       "      <th>pci</th>\n",
       "      <th>id</th>\n",
       "      <th>payload</th>\n",
       "      <th>rtt</th>\n",
       "      <th>measurement</th>\n",
       "      <th>location</th>\n",
       "      <th>throughput</th>\n",
       "    </tr>\n",
       "  </thead>\n",
       "  <tbody>\n",
       "    <tr>\n",
       "      <th>0</th>\n",
       "      <td>10.33</td>\n",
       "      <td>1544432937</td>\n",
       "      <td>99.42</td>\n",
       "      <td>51.490553</td>\n",
       "      <td>7.413966</td>\n",
       "      <td>157.63</td>\n",
       "      <td>11.83</td>\n",
       "      <td>0.00</td>\n",
       "      <td>79.35</td>\n",
       "      <td>1</td>\n",
       "      <td>-85</td>\n",
       "      <td>-5</td>\n",
       "      <td>22</td>\n",
       "      <td>10</td>\n",
       "      <td>50</td>\n",
       "      <td>7</td>\n",
       "      <td>26385408</td>\n",
       "      <td>95</td>\n",
       "      <td>0</td>\n",
       "      <td>0.1</td>\n",
       "      <td>41</td>\n",
       "      <td>1544432927</td>\n",
       "      <td>campus</td>\n",
       "      <td>6.83763</td>\n",
       "    </tr>\n",
       "    <tr>\n",
       "      <th>1</th>\n",
       "      <td>21.87</td>\n",
       "      <td>1544432949</td>\n",
       "      <td>237.43</td>\n",
       "      <td>51.490715</td>\n",
       "      <td>7.416002</td>\n",
       "      <td>152.41</td>\n",
       "      <td>10.76</td>\n",
       "      <td>-0.52</td>\n",
       "      <td>89.45</td>\n",
       "      <td>1</td>\n",
       "      <td>-84</td>\n",
       "      <td>-6</td>\n",
       "      <td>11</td>\n",
       "      <td>13</td>\n",
       "      <td>52</td>\n",
       "      <td>4</td>\n",
       "      <td>29391105</td>\n",
       "      <td>167</td>\n",
       "      <td>1</td>\n",
       "      <td>2.0</td>\n",
       "      <td>58</td>\n",
       "      <td>1544432927</td>\n",
       "      <td>campus</td>\n",
       "      <td>9.71463</td>\n",
       "    </tr>\n",
       "    <tr>\n",
       "      <th>2</th>\n",
       "      <td>32.46</td>\n",
       "      <td>1544432959</td>\n",
       "      <td>325.26</td>\n",
       "      <td>51.490668</td>\n",
       "      <td>7.417176</td>\n",
       "      <td>154.64</td>\n",
       "      <td>6.19</td>\n",
       "      <td>-0.62</td>\n",
       "      <td>27.05</td>\n",
       "      <td>1</td>\n",
       "      <td>-82</td>\n",
       "      <td>-6</td>\n",
       "      <td>21</td>\n",
       "      <td>15</td>\n",
       "      <td>54</td>\n",
       "      <td>4</td>\n",
       "      <td>29391105</td>\n",
       "      <td>167</td>\n",
       "      <td>2</td>\n",
       "      <td>2.0</td>\n",
       "      <td>57</td>\n",
       "      <td>1544432927</td>\n",
       "      <td>campus</td>\n",
       "      <td>7.30594</td>\n",
       "    </tr>\n",
       "    <tr>\n",
       "      <th>3</th>\n",
       "      <td>46.40</td>\n",
       "      <td>1544432973</td>\n",
       "      <td>448.27</td>\n",
       "      <td>51.491839</td>\n",
       "      <td>7.416804</td>\n",
       "      <td>155.87</td>\n",
       "      <td>9.77</td>\n",
       "      <td>-0.98</td>\n",
       "      <td>342.45</td>\n",
       "      <td>1</td>\n",
       "      <td>-94</td>\n",
       "      <td>-9</td>\n",
       "      <td>9</td>\n",
       "      <td>9</td>\n",
       "      <td>45</td>\n",
       "      <td>4</td>\n",
       "      <td>29391105</td>\n",
       "      <td>167</td>\n",
       "      <td>3</td>\n",
       "      <td>3.0</td>\n",
       "      <td>163</td>\n",
       "      <td>1544432927</td>\n",
       "      <td>campus</td>\n",
       "      <td>3.94997</td>\n",
       "    </tr>\n",
       "    <tr>\n",
       "      <th>4</th>\n",
       "      <td>54.95</td>\n",
       "      <td>1544432982</td>\n",
       "      <td>540.48</td>\n",
       "      <td>51.492531</td>\n",
       "      <td>7.416222</td>\n",
       "      <td>154.41</td>\n",
       "      <td>12.33</td>\n",
       "      <td>0.01</td>\n",
       "      <td>336.68</td>\n",
       "      <td>1</td>\n",
       "      <td>-90</td>\n",
       "      <td>-6</td>\n",
       "      <td>16</td>\n",
       "      <td>9</td>\n",
       "      <td>45</td>\n",
       "      <td>4</td>\n",
       "      <td>29391105</td>\n",
       "      <td>167</td>\n",
       "      <td>4</td>\n",
       "      <td>5.0</td>\n",
       "      <td>59</td>\n",
       "      <td>1544432927</td>\n",
       "      <td>campus</td>\n",
       "      <td>8.54884</td>\n",
       "    </tr>\n",
       "  </tbody>\n",
       "</table>\n",
       "</div>"
      ],
      "text/plain": [
       "   timestamp  rawTimesamp  distance        lat       lon     alt  speed   acc  \\\n",
       "0      10.33   1544432937     99.42  51.490553  7.413966  157.63  11.83  0.00   \n",
       "1      21.87   1544432949    237.43  51.490715  7.416002  152.41  10.76 -0.52   \n",
       "2      32.46   1544432959    325.26  51.490668  7.417176  154.64   6.19 -0.62   \n",
       "3      46.40   1544432973    448.27  51.491839  7.416804  155.87   9.77 -0.98   \n",
       "4      54.95   1544432982    540.48  51.492531  7.416222  154.41  12.33  0.01   \n",
       "\n",
       "      dir  connected  rsrp  rsrq  sinr  cqi  ss  ta        ci  pci  id  \\\n",
       "0   79.35          1   -85    -5    22   10  50   7  26385408   95   0   \n",
       "1   89.45          1   -84    -6    11   13  52   4  29391105  167   1   \n",
       "2   27.05          1   -82    -6    21   15  54   4  29391105  167   2   \n",
       "3  342.45          1   -94    -9     9    9  45   4  29391105  167   3   \n",
       "4  336.68          1   -90    -6    16    9  45   4  29391105  167   4   \n",
       "\n",
       "   payload  rtt  measurement location  throughput  \n",
       "0      0.1   41   1544432927   campus     6.83763  \n",
       "1      2.0   58   1544432927   campus     9.71463  \n",
       "2      2.0   57   1544432927   campus     7.30594  \n",
       "3      3.0  163   1544432927   campus     3.94997  \n",
       "4      5.0   59   1544432927   campus     8.54884  "
      ]
     },
     "execution_count": 33,
     "metadata": {},
     "output_type": "execute_result"
    }
   ],
   "source": [
    "d_df.head()"
   ]
  },
  {
   "cell_type": "code",
   "execution_count": 4,
   "metadata": {},
   "outputs": [
    {
     "name": "stdout",
     "output_type": "stream",
     "text": [
      "<class 'pandas.core.frame.DataFrame'>\n",
      "RangeIndex: 2141 entries, 0 to 2140\n",
      "Data columns (total 24 columns):\n",
      " #   Column       Non-Null Count  Dtype  \n",
      "---  ------       --------------  -----  \n",
      " 0   timestamp    2141 non-null   float64\n",
      " 1   rawTimesamp  2141 non-null   int64  \n",
      " 2   distance     2141 non-null   float64\n",
      " 3   lat          2141 non-null   float64\n",
      " 4   lon          2141 non-null   float64\n",
      " 5   alt          2141 non-null   float64\n",
      " 6   speed        2141 non-null   float64\n",
      " 7   acc          2141 non-null   float64\n",
      " 8   dir          2141 non-null   float64\n",
      " 9   connected    2141 non-null   int64  \n",
      " 10  rsrp         2141 non-null   int64  \n",
      " 11  rsrq         2141 non-null   int64  \n",
      " 12  sinr         2141 non-null   int64  \n",
      " 13  cqi          2141 non-null   int64  \n",
      " 14  ss           2141 non-null   int64  \n",
      " 15  ta           2141 non-null   int64  \n",
      " 16  ci           2141 non-null   int64  \n",
      " 17  pci          2141 non-null   int64  \n",
      " 18  id           2141 non-null   int64  \n",
      " 19  payload      2141 non-null   float64\n",
      " 20  throughput   2141 non-null   float64\n",
      " 21  rtt          2141 non-null   int64  \n",
      " 22  measurement  2141 non-null   int64  \n",
      " 23  location     2141 non-null   object \n",
      "dtypes: float64(10), int64(13), object(1)\n",
      "memory usage: 401.6+ KB\n"
     ]
    }
   ],
   "source": [
    "d_df.info()"
   ]
  },
  {
   "cell_type": "markdown",
   "metadata": {},
   "source": [
    "---"
   ]
  },
  {
   "cell_type": "code",
   "execution_count": 38,
   "metadata": {},
   "outputs": [],
   "source": [
    "u_df = pd.read_csv('raw_data_ul.csv', delim_whitespace=True)"
   ]
  },
  {
   "cell_type": "code",
   "execution_count": 5,
   "metadata": {},
   "outputs": [
    {
     "data": {
      "text/html": [
       "<div>\n",
       "<style scoped>\n",
       "    .dataframe tbody tr th:only-of-type {\n",
       "        vertical-align: middle;\n",
       "    }\n",
       "\n",
       "    .dataframe tbody tr th {\n",
       "        vertical-align: top;\n",
       "    }\n",
       "\n",
       "    .dataframe thead th {\n",
       "        text-align: right;\n",
       "    }\n",
       "</style>\n",
       "<table border=\"1\" class=\"dataframe\">\n",
       "  <thead>\n",
       "    <tr style=\"text-align: right;\">\n",
       "      <th></th>\n",
       "      <th>timestamp</th>\n",
       "      <th>rawTimesamp</th>\n",
       "      <th>distance</th>\n",
       "      <th>lat</th>\n",
       "      <th>lon</th>\n",
       "      <th>alt</th>\n",
       "      <th>speed</th>\n",
       "      <th>acc</th>\n",
       "      <th>dir</th>\n",
       "      <th>connected</th>\n",
       "      <th>...</th>\n",
       "      <th>ta</th>\n",
       "      <th>ci</th>\n",
       "      <th>pci</th>\n",
       "      <th>id</th>\n",
       "      <th>payload</th>\n",
       "      <th>throughput</th>\n",
       "      <th>rtt</th>\n",
       "      <th>txPower</th>\n",
       "      <th>measurement</th>\n",
       "      <th>location</th>\n",
       "    </tr>\n",
       "  </thead>\n",
       "  <tbody>\n",
       "    <tr>\n",
       "      <th>0</th>\n",
       "      <td>11.53</td>\n",
       "      <td>1544432938</td>\n",
       "      <td>113.75</td>\n",
       "      <td>51.490592</td>\n",
       "      <td>7.414306</td>\n",
       "      <td>156.39</td>\n",
       "      <td>12.21</td>\n",
       "      <td>0.50</td>\n",
       "      <td>77.59</td>\n",
       "      <td>1</td>\n",
       "      <td>...</td>\n",
       "      <td>7</td>\n",
       "      <td>26385408</td>\n",
       "      <td>95</td>\n",
       "      <td>0</td>\n",
       "      <td>4.0</td>\n",
       "      <td>24.5211</td>\n",
       "      <td>35</td>\n",
       "      <td>12.30470</td>\n",
       "      <td>1544432927</td>\n",
       "      <td>campus</td>\n",
       "    </tr>\n",
       "    <tr>\n",
       "      <th>1</th>\n",
       "      <td>21.33</td>\n",
       "      <td>1544432948</td>\n",
       "      <td>231.40</td>\n",
       "      <td>51.490717</td>\n",
       "      <td>7.415835</td>\n",
       "      <td>152.53</td>\n",
       "      <td>11.17</td>\n",
       "      <td>0.00</td>\n",
       "      <td>87.24</td>\n",
       "      <td>1</td>\n",
       "      <td>...</td>\n",
       "      <td>4</td>\n",
       "      <td>29391105</td>\n",
       "      <td>167</td>\n",
       "      <td>1</td>\n",
       "      <td>2.0</td>\n",
       "      <td>14.8561</td>\n",
       "      <td>51</td>\n",
       "      <td>10.01560</td>\n",
       "      <td>1544432927</td>\n",
       "      <td>campus</td>\n",
       "    </tr>\n",
       "    <tr>\n",
       "      <th>2</th>\n",
       "      <td>32.22</td>\n",
       "      <td>1544432959</td>\n",
       "      <td>323.73</td>\n",
       "      <td>51.490634</td>\n",
       "      <td>7.417138</td>\n",
       "      <td>154.23</td>\n",
       "      <td>6.44</td>\n",
       "      <td>0.00</td>\n",
       "      <td>48.55</td>\n",
       "      <td>1</td>\n",
       "      <td>...</td>\n",
       "      <td>4</td>\n",
       "      <td>29391105</td>\n",
       "      <td>167</td>\n",
       "      <td>2</td>\n",
       "      <td>4.0</td>\n",
       "      <td>16.2684</td>\n",
       "      <td>57</td>\n",
       "      <td>4.34375</td>\n",
       "      <td>1544432927</td>\n",
       "      <td>campus</td>\n",
       "    </tr>\n",
       "    <tr>\n",
       "      <th>3</th>\n",
       "      <td>54.69</td>\n",
       "      <td>1544432982</td>\n",
       "      <td>537.34</td>\n",
       "      <td>51.492531</td>\n",
       "      <td>7.416222</td>\n",
       "      <td>154.41</td>\n",
       "      <td>12.33</td>\n",
       "      <td>0.02</td>\n",
       "      <td>336.68</td>\n",
       "      <td>1</td>\n",
       "      <td>...</td>\n",
       "      <td>4</td>\n",
       "      <td>29391105</td>\n",
       "      <td>167</td>\n",
       "      <td>4</td>\n",
       "      <td>8.0</td>\n",
       "      <td>14.5886</td>\n",
       "      <td>60</td>\n",
       "      <td>17.31250</td>\n",
       "      <td>1544432927</td>\n",
       "      <td>campus</td>\n",
       "    </tr>\n",
       "    <tr>\n",
       "      <th>4</th>\n",
       "      <td>63.98</td>\n",
       "      <td>1544432991</td>\n",
       "      <td>650.07</td>\n",
       "      <td>51.493484</td>\n",
       "      <td>7.415836</td>\n",
       "      <td>153.05</td>\n",
       "      <td>11.69</td>\n",
       "      <td>-0.18</td>\n",
       "      <td>348.09</td>\n",
       "      <td>1</td>\n",
       "      <td>...</td>\n",
       "      <td>4</td>\n",
       "      <td>29391105</td>\n",
       "      <td>167</td>\n",
       "      <td>5</td>\n",
       "      <td>6.0</td>\n",
       "      <td>13.1255</td>\n",
       "      <td>57</td>\n",
       "      <td>19.93750</td>\n",
       "      <td>1544432927</td>\n",
       "      <td>campus</td>\n",
       "    </tr>\n",
       "  </tbody>\n",
       "</table>\n",
       "<p>5 rows × 25 columns</p>\n",
       "</div>"
      ],
      "text/plain": [
       "   timestamp  rawTimesamp  distance        lat       lon     alt  speed   acc  \\\n",
       "0      11.53   1544432938    113.75  51.490592  7.414306  156.39  12.21  0.50   \n",
       "1      21.33   1544432948    231.40  51.490717  7.415835  152.53  11.17  0.00   \n",
       "2      32.22   1544432959    323.73  51.490634  7.417138  154.23   6.44  0.00   \n",
       "3      54.69   1544432982    537.34  51.492531  7.416222  154.41  12.33  0.02   \n",
       "4      63.98   1544432991    650.07  51.493484  7.415836  153.05  11.69 -0.18   \n",
       "\n",
       "      dir  connected  ...  ta        ci  pci  id  payload  throughput  rtt  \\\n",
       "0   77.59          1  ...   7  26385408   95   0      4.0     24.5211   35   \n",
       "1   87.24          1  ...   4  29391105  167   1      2.0     14.8561   51   \n",
       "2   48.55          1  ...   4  29391105  167   2      4.0     16.2684   57   \n",
       "3  336.68          1  ...   4  29391105  167   4      8.0     14.5886   60   \n",
       "4  348.09          1  ...   4  29391105  167   5      6.0     13.1255   57   \n",
       "\n",
       "    txPower  measurement  location  \n",
       "0  12.30470   1544432927    campus  \n",
       "1  10.01560   1544432927    campus  \n",
       "2   4.34375   1544432927    campus  \n",
       "3  17.31250   1544432927    campus  \n",
       "4  19.93750   1544432927    campus  \n",
       "\n",
       "[5 rows x 25 columns]"
      ]
     },
     "execution_count": 5,
     "metadata": {},
     "output_type": "execute_result"
    }
   ],
   "source": [
    "u_df.head()"
   ]
  },
  {
   "cell_type": "code",
   "execution_count": 6,
   "metadata": {},
   "outputs": [
    {
     "name": "stdout",
     "output_type": "stream",
     "text": [
      "<class 'pandas.core.frame.DataFrame'>\n",
      "RangeIndex: 2142 entries, 0 to 2141\n",
      "Data columns (total 25 columns):\n",
      " #   Column       Non-Null Count  Dtype  \n",
      "---  ------       --------------  -----  \n",
      " 0   timestamp    2142 non-null   float64\n",
      " 1   rawTimesamp  2142 non-null   int64  \n",
      " 2   distance     2142 non-null   float64\n",
      " 3   lat          2142 non-null   float64\n",
      " 4   lon          2142 non-null   float64\n",
      " 5   alt          2142 non-null   float64\n",
      " 6   speed        2142 non-null   float64\n",
      " 7   acc          2142 non-null   float64\n",
      " 8   dir          2142 non-null   float64\n",
      " 9   connected    2142 non-null   int64  \n",
      " 10  rsrp         2142 non-null   int64  \n",
      " 11  rsrq         2142 non-null   int64  \n",
      " 12  sinr         2142 non-null   int64  \n",
      " 13  cqi          2142 non-null   int64  \n",
      " 14  ss           2142 non-null   int64  \n",
      " 15  ta           2142 non-null   int64  \n",
      " 16  ci           2142 non-null   int64  \n",
      " 17  pci          2142 non-null   int64  \n",
      " 18  id           2142 non-null   int64  \n",
      " 19  payload      2142 non-null   float64\n",
      " 20  throughput   2142 non-null   float64\n",
      " 21  rtt          2142 non-null   int64  \n",
      " 22  txPower      2142 non-null   float64\n",
      " 23  measurement  2142 non-null   int64  \n",
      " 24  location     2142 non-null   object \n",
      "dtypes: float64(11), int64(13), object(1)\n",
      "memory usage: 418.5+ KB\n"
     ]
    }
   ],
   "source": [
    "u_df.info()"
   ]
  },
  {
   "cell_type": "markdown",
   "metadata": {},
   "source": [
    "### Move Label to the End of the DataFrame & Drop Columns without Significant Information\n",
    "\n",
    "Note that the label we're trying to predict given the features is not at the end of the DataFrame. For convenience we're going to rearrange the columns in the data frame. "
   ]
  },
  {
   "cell_type": "code",
   "execution_count": 35,
   "metadata": {},
   "outputs": [],
   "source": [
    "label = 'throughput'\n",
    "\n",
    "d_cols = list(d_df.columns)\n",
    "d_cols.pop(d_cols.index(label))\n",
    "\n",
    "d_df = d_df[d_cols+[label]]\n",
    "\n",
    "d_df = d_df.drop('connected',axis=1)"
   ]
  },
  {
   "cell_type": "code",
   "execution_count": 40,
   "metadata": {},
   "outputs": [
    {
     "data": {
      "text/html": [
       "<div>\n",
       "<style scoped>\n",
       "    .dataframe tbody tr th:only-of-type {\n",
       "        vertical-align: middle;\n",
       "    }\n",
       "\n",
       "    .dataframe tbody tr th {\n",
       "        vertical-align: top;\n",
       "    }\n",
       "\n",
       "    .dataframe thead th {\n",
       "        text-align: right;\n",
       "    }\n",
       "</style>\n",
       "<table border=\"1\" class=\"dataframe\">\n",
       "  <thead>\n",
       "    <tr style=\"text-align: right;\">\n",
       "      <th></th>\n",
       "      <th>timestamp</th>\n",
       "      <th>rawTimesamp</th>\n",
       "      <th>distance</th>\n",
       "      <th>lat</th>\n",
       "      <th>lon</th>\n",
       "      <th>alt</th>\n",
       "      <th>speed</th>\n",
       "      <th>acc</th>\n",
       "      <th>dir</th>\n",
       "      <th>rsrp</th>\n",
       "      <th>rsrq</th>\n",
       "      <th>sinr</th>\n",
       "      <th>cqi</th>\n",
       "      <th>ss</th>\n",
       "      <th>ta</th>\n",
       "      <th>ci</th>\n",
       "      <th>pci</th>\n",
       "      <th>id</th>\n",
       "      <th>payload</th>\n",
       "      <th>rtt</th>\n",
       "      <th>measurement</th>\n",
       "      <th>location</th>\n",
       "      <th>throughput</th>\n",
       "    </tr>\n",
       "  </thead>\n",
       "  <tbody>\n",
       "    <tr>\n",
       "      <th>0</th>\n",
       "      <td>10.33</td>\n",
       "      <td>1544432937</td>\n",
       "      <td>99.42</td>\n",
       "      <td>51.490553</td>\n",
       "      <td>7.413966</td>\n",
       "      <td>157.63</td>\n",
       "      <td>11.83</td>\n",
       "      <td>0.00</td>\n",
       "      <td>79.35</td>\n",
       "      <td>-85</td>\n",
       "      <td>-5</td>\n",
       "      <td>22</td>\n",
       "      <td>10</td>\n",
       "      <td>50</td>\n",
       "      <td>7</td>\n",
       "      <td>26385408</td>\n",
       "      <td>95</td>\n",
       "      <td>0</td>\n",
       "      <td>0.1</td>\n",
       "      <td>41</td>\n",
       "      <td>1544432927</td>\n",
       "      <td>campus</td>\n",
       "      <td>6.83763</td>\n",
       "    </tr>\n",
       "    <tr>\n",
       "      <th>1</th>\n",
       "      <td>21.87</td>\n",
       "      <td>1544432949</td>\n",
       "      <td>237.43</td>\n",
       "      <td>51.490715</td>\n",
       "      <td>7.416002</td>\n",
       "      <td>152.41</td>\n",
       "      <td>10.76</td>\n",
       "      <td>-0.52</td>\n",
       "      <td>89.45</td>\n",
       "      <td>-84</td>\n",
       "      <td>-6</td>\n",
       "      <td>11</td>\n",
       "      <td>13</td>\n",
       "      <td>52</td>\n",
       "      <td>4</td>\n",
       "      <td>29391105</td>\n",
       "      <td>167</td>\n",
       "      <td>1</td>\n",
       "      <td>2.0</td>\n",
       "      <td>58</td>\n",
       "      <td>1544432927</td>\n",
       "      <td>campus</td>\n",
       "      <td>9.71463</td>\n",
       "    </tr>\n",
       "    <tr>\n",
       "      <th>2</th>\n",
       "      <td>32.46</td>\n",
       "      <td>1544432959</td>\n",
       "      <td>325.26</td>\n",
       "      <td>51.490668</td>\n",
       "      <td>7.417176</td>\n",
       "      <td>154.64</td>\n",
       "      <td>6.19</td>\n",
       "      <td>-0.62</td>\n",
       "      <td>27.05</td>\n",
       "      <td>-82</td>\n",
       "      <td>-6</td>\n",
       "      <td>21</td>\n",
       "      <td>15</td>\n",
       "      <td>54</td>\n",
       "      <td>4</td>\n",
       "      <td>29391105</td>\n",
       "      <td>167</td>\n",
       "      <td>2</td>\n",
       "      <td>2.0</td>\n",
       "      <td>57</td>\n",
       "      <td>1544432927</td>\n",
       "      <td>campus</td>\n",
       "      <td>7.30594</td>\n",
       "    </tr>\n",
       "    <tr>\n",
       "      <th>3</th>\n",
       "      <td>46.40</td>\n",
       "      <td>1544432973</td>\n",
       "      <td>448.27</td>\n",
       "      <td>51.491839</td>\n",
       "      <td>7.416804</td>\n",
       "      <td>155.87</td>\n",
       "      <td>9.77</td>\n",
       "      <td>-0.98</td>\n",
       "      <td>342.45</td>\n",
       "      <td>-94</td>\n",
       "      <td>-9</td>\n",
       "      <td>9</td>\n",
       "      <td>9</td>\n",
       "      <td>45</td>\n",
       "      <td>4</td>\n",
       "      <td>29391105</td>\n",
       "      <td>167</td>\n",
       "      <td>3</td>\n",
       "      <td>3.0</td>\n",
       "      <td>163</td>\n",
       "      <td>1544432927</td>\n",
       "      <td>campus</td>\n",
       "      <td>3.94997</td>\n",
       "    </tr>\n",
       "    <tr>\n",
       "      <th>4</th>\n",
       "      <td>54.95</td>\n",
       "      <td>1544432982</td>\n",
       "      <td>540.48</td>\n",
       "      <td>51.492531</td>\n",
       "      <td>7.416222</td>\n",
       "      <td>154.41</td>\n",
       "      <td>12.33</td>\n",
       "      <td>0.01</td>\n",
       "      <td>336.68</td>\n",
       "      <td>-90</td>\n",
       "      <td>-6</td>\n",
       "      <td>16</td>\n",
       "      <td>9</td>\n",
       "      <td>45</td>\n",
       "      <td>4</td>\n",
       "      <td>29391105</td>\n",
       "      <td>167</td>\n",
       "      <td>4</td>\n",
       "      <td>5.0</td>\n",
       "      <td>59</td>\n",
       "      <td>1544432927</td>\n",
       "      <td>campus</td>\n",
       "      <td>8.54884</td>\n",
       "    </tr>\n",
       "  </tbody>\n",
       "</table>\n",
       "</div>"
      ],
      "text/plain": [
       "   timestamp  rawTimesamp  distance        lat       lon     alt  speed   acc  \\\n",
       "0      10.33   1544432937     99.42  51.490553  7.413966  157.63  11.83  0.00   \n",
       "1      21.87   1544432949    237.43  51.490715  7.416002  152.41  10.76 -0.52   \n",
       "2      32.46   1544432959    325.26  51.490668  7.417176  154.64   6.19 -0.62   \n",
       "3      46.40   1544432973    448.27  51.491839  7.416804  155.87   9.77 -0.98   \n",
       "4      54.95   1544432982    540.48  51.492531  7.416222  154.41  12.33  0.01   \n",
       "\n",
       "      dir  rsrp  rsrq  sinr  cqi  ss  ta        ci  pci  id  payload  rtt  \\\n",
       "0   79.35   -85    -5    22   10  50   7  26385408   95   0      0.1   41   \n",
       "1   89.45   -84    -6    11   13  52   4  29391105  167   1      2.0   58   \n",
       "2   27.05   -82    -6    21   15  54   4  29391105  167   2      2.0   57   \n",
       "3  342.45   -94    -9     9    9  45   4  29391105  167   3      3.0  163   \n",
       "4  336.68   -90    -6    16    9  45   4  29391105  167   4      5.0   59   \n",
       "\n",
       "   measurement location  throughput  \n",
       "0   1544432927   campus     6.83763  \n",
       "1   1544432927   campus     9.71463  \n",
       "2   1544432927   campus     7.30594  \n",
       "3   1544432927   campus     3.94997  \n",
       "4   1544432927   campus     8.54884  "
      ]
     },
     "execution_count": 40,
     "metadata": {},
     "output_type": "execute_result"
    }
   ],
   "source": [
    "d_df.head()"
   ]
  },
  {
   "cell_type": "code",
   "execution_count": 124,
   "metadata": {},
   "outputs": [
    {
     "data": {
      "text/html": [
       "<div>\n",
       "<style scoped>\n",
       "    .dataframe tbody tr th:only-of-type {\n",
       "        vertical-align: middle;\n",
       "    }\n",
       "\n",
       "    .dataframe tbody tr th {\n",
       "        vertical-align: top;\n",
       "    }\n",
       "\n",
       "    .dataframe thead th {\n",
       "        text-align: right;\n",
       "    }\n",
       "</style>\n",
       "<table border=\"1\" class=\"dataframe\">\n",
       "  <thead>\n",
       "    <tr style=\"text-align: right;\">\n",
       "      <th></th>\n",
       "      <th>rsrp</th>\n",
       "      <th>rsrq</th>\n",
       "      <th>sinr</th>\n",
       "      <th>cqi</th>\n",
       "      <th>ss</th>\n",
       "    </tr>\n",
       "  </thead>\n",
       "  <tbody>\n",
       "    <tr>\n",
       "      <th>rsrp</th>\n",
       "      <td>1.000000</td>\n",
       "      <td>0.596054</td>\n",
       "      <td>0.657801</td>\n",
       "      <td>0.556257</td>\n",
       "      <td>0.958165</td>\n",
       "    </tr>\n",
       "    <tr>\n",
       "      <th>rsrq</th>\n",
       "      <td>0.596054</td>\n",
       "      <td>1.000000</td>\n",
       "      <td>0.675048</td>\n",
       "      <td>0.559617</td>\n",
       "      <td>0.450645</td>\n",
       "    </tr>\n",
       "    <tr>\n",
       "      <th>sinr</th>\n",
       "      <td>0.657801</td>\n",
       "      <td>0.675048</td>\n",
       "      <td>1.000000</td>\n",
       "      <td>0.634304</td>\n",
       "      <td>0.597780</td>\n",
       "    </tr>\n",
       "    <tr>\n",
       "      <th>cqi</th>\n",
       "      <td>0.556257</td>\n",
       "      <td>0.559617</td>\n",
       "      <td>0.634304</td>\n",
       "      <td>1.000000</td>\n",
       "      <td>0.501218</td>\n",
       "    </tr>\n",
       "    <tr>\n",
       "      <th>ss</th>\n",
       "      <td>0.958165</td>\n",
       "      <td>0.450645</td>\n",
       "      <td>0.597780</td>\n",
       "      <td>0.501218</td>\n",
       "      <td>1.000000</td>\n",
       "    </tr>\n",
       "  </tbody>\n",
       "</table>\n",
       "</div>"
      ],
      "text/plain": [
       "          rsrp      rsrq      sinr       cqi        ss\n",
       "rsrp  1.000000  0.596054  0.657801  0.556257  0.958165\n",
       "rsrq  0.596054  1.000000  0.675048  0.559617  0.450645\n",
       "sinr  0.657801  0.675048  1.000000  0.634304  0.597780\n",
       "cqi   0.556257  0.559617  0.634304  1.000000  0.501218\n",
       "ss    0.958165  0.450645  0.597780  0.501218  1.000000"
      ]
     },
     "execution_count": 124,
     "metadata": {},
     "output_type": "execute_result"
    }
   ],
   "source": [
    "# note that although per the documentation the SS is made redundant by the RSRP the correlation is not 1. \n",
    "\n",
    "# (we'll focus on SS (signal strentgh) as it is defined for various different stadards (see: https://www.lte-anbieter.info/technik/asu.php))\n",
    "\n",
    "d_df[['rsrp', 'rsrq', 'sinr', 'cqi', 'ss']].corr()"
   ]
  },
  {
   "cell_type": "code",
   "execution_count": 82,
   "metadata": {},
   "outputs": [
    {
     "data": {
      "text/plain": [
       "<AxesSubplot:xlabel='rsrp', ylabel='ss'>"
      ]
     },
     "execution_count": 82,
     "metadata": {},
     "output_type": "execute_result"
    },
    {
     "data": {
      "image/png": "[encoded data removed]",
      "text/plain": [
       "<Figure size 432x288 with 1 Axes>"
      ]
     },
     "metadata": {
      "needs_background": "light"
     },
     "output_type": "display_data"
    }
   ],
   "source": [
    "sns.scatterplot(data=d_df, x='rsrp', y='ss')"
   ]
  },
  {
   "cell_type": "code",
   "execution_count": null,
   "metadata": {},
   "outputs": [],
   "source": []
  },
  {
   "cell_type": "markdown",
   "metadata": {},
   "source": [
    "---"
   ]
  },
  {
   "cell_type": "code",
   "execution_count": 41,
   "metadata": {},
   "outputs": [],
   "source": [
    "u_cols = list(u_df.columns)\n",
    "u_cols.pop(u_cols.index(label))\n",
    "\n",
    "u_df = u_df[u_cols+[label]]\n",
    "\n",
    "u_df = u_df.drop('connected',axis=1)"
   ]
  },
  {
   "cell_type": "code",
   "execution_count": 42,
   "metadata": {},
   "outputs": [
    {
     "data": {
      "text/html": [
       "<div>\n",
       "<style scoped>\n",
       "    .dataframe tbody tr th:only-of-type {\n",
       "        vertical-align: middle;\n",
       "    }\n",
       "\n",
       "    .dataframe tbody tr th {\n",
       "        vertical-align: top;\n",
       "    }\n",
       "\n",
       "    .dataframe thead th {\n",
       "        text-align: right;\n",
       "    }\n",
       "</style>\n",
       "<table border=\"1\" class=\"dataframe\">\n",
       "  <thead>\n",
       "    <tr style=\"text-align: right;\">\n",
       "      <th></th>\n",
       "      <th>timestamp</th>\n",
       "      <th>rawTimesamp</th>\n",
       "      <th>distance</th>\n",
       "      <th>lat</th>\n",
       "      <th>lon</th>\n",
       "      <th>alt</th>\n",
       "      <th>speed</th>\n",
       "      <th>acc</th>\n",
       "      <th>dir</th>\n",
       "      <th>rsrp</th>\n",
       "      <th>rsrq</th>\n",
       "      <th>sinr</th>\n",
       "      <th>cqi</th>\n",
       "      <th>ss</th>\n",
       "      <th>ta</th>\n",
       "      <th>ci</th>\n",
       "      <th>pci</th>\n",
       "      <th>id</th>\n",
       "      <th>payload</th>\n",
       "      <th>rtt</th>\n",
       "      <th>txPower</th>\n",
       "      <th>measurement</th>\n",
       "      <th>location</th>\n",
       "      <th>throughput</th>\n",
       "    </tr>\n",
       "  </thead>\n",
       "  <tbody>\n",
       "    <tr>\n",
       "      <th>0</th>\n",
       "      <td>11.53</td>\n",
       "      <td>1544432938</td>\n",
       "      <td>113.75</td>\n",
       "      <td>51.490592</td>\n",
       "      <td>7.414306</td>\n",
       "      <td>156.39</td>\n",
       "      <td>12.21</td>\n",
       "      <td>0.50</td>\n",
       "      <td>77.59</td>\n",
       "      <td>-85</td>\n",
       "      <td>-5</td>\n",
       "      <td>22</td>\n",
       "      <td>10</td>\n",
       "      <td>50</td>\n",
       "      <td>7</td>\n",
       "      <td>26385408</td>\n",
       "      <td>95</td>\n",
       "      <td>0</td>\n",
       "      <td>4.0</td>\n",
       "      <td>35</td>\n",
       "      <td>12.30470</td>\n",
       "      <td>1544432927</td>\n",
       "      <td>campus</td>\n",
       "      <td>24.5211</td>\n",
       "    </tr>\n",
       "    <tr>\n",
       "      <th>1</th>\n",
       "      <td>21.33</td>\n",
       "      <td>1544432948</td>\n",
       "      <td>231.40</td>\n",
       "      <td>51.490717</td>\n",
       "      <td>7.415835</td>\n",
       "      <td>152.53</td>\n",
       "      <td>11.17</td>\n",
       "      <td>0.00</td>\n",
       "      <td>87.24</td>\n",
       "      <td>-84</td>\n",
       "      <td>-6</td>\n",
       "      <td>11</td>\n",
       "      <td>13</td>\n",
       "      <td>52</td>\n",
       "      <td>4</td>\n",
       "      <td>29391105</td>\n",
       "      <td>167</td>\n",
       "      <td>1</td>\n",
       "      <td>2.0</td>\n",
       "      <td>51</td>\n",
       "      <td>10.01560</td>\n",
       "      <td>1544432927</td>\n",
       "      <td>campus</td>\n",
       "      <td>14.8561</td>\n",
       "    </tr>\n",
       "    <tr>\n",
       "      <th>2</th>\n",
       "      <td>32.22</td>\n",
       "      <td>1544432959</td>\n",
       "      <td>323.73</td>\n",
       "      <td>51.490634</td>\n",
       "      <td>7.417138</td>\n",
       "      <td>154.23</td>\n",
       "      <td>6.44</td>\n",
       "      <td>0.00</td>\n",
       "      <td>48.55</td>\n",
       "      <td>-82</td>\n",
       "      <td>-6</td>\n",
       "      <td>21</td>\n",
       "      <td>15</td>\n",
       "      <td>54</td>\n",
       "      <td>4</td>\n",
       "      <td>29391105</td>\n",
       "      <td>167</td>\n",
       "      <td>2</td>\n",
       "      <td>4.0</td>\n",
       "      <td>57</td>\n",
       "      <td>4.34375</td>\n",
       "      <td>1544432927</td>\n",
       "      <td>campus</td>\n",
       "      <td>16.2684</td>\n",
       "    </tr>\n",
       "    <tr>\n",
       "      <th>3</th>\n",
       "      <td>54.69</td>\n",
       "      <td>1544432982</td>\n",
       "      <td>537.34</td>\n",
       "      <td>51.492531</td>\n",
       "      <td>7.416222</td>\n",
       "      <td>154.41</td>\n",
       "      <td>12.33</td>\n",
       "      <td>0.02</td>\n",
       "      <td>336.68</td>\n",
       "      <td>-90</td>\n",
       "      <td>-6</td>\n",
       "      <td>16</td>\n",
       "      <td>9</td>\n",
       "      <td>45</td>\n",
       "      <td>4</td>\n",
       "      <td>29391105</td>\n",
       "      <td>167</td>\n",
       "      <td>4</td>\n",
       "      <td>8.0</td>\n",
       "      <td>60</td>\n",
       "      <td>17.31250</td>\n",
       "      <td>1544432927</td>\n",
       "      <td>campus</td>\n",
       "      <td>14.5886</td>\n",
       "    </tr>\n",
       "    <tr>\n",
       "      <th>4</th>\n",
       "      <td>63.98</td>\n",
       "      <td>1544432991</td>\n",
       "      <td>650.07</td>\n",
       "      <td>51.493484</td>\n",
       "      <td>7.415836</td>\n",
       "      <td>153.05</td>\n",
       "      <td>11.69</td>\n",
       "      <td>-0.18</td>\n",
       "      <td>348.09</td>\n",
       "      <td>-101</td>\n",
       "      <td>-10</td>\n",
       "      <td>13</td>\n",
       "      <td>15</td>\n",
       "      <td>40</td>\n",
       "      <td>4</td>\n",
       "      <td>29391105</td>\n",
       "      <td>167</td>\n",
       "      <td>5</td>\n",
       "      <td>6.0</td>\n",
       "      <td>57</td>\n",
       "      <td>19.93750</td>\n",
       "      <td>1544432927</td>\n",
       "      <td>campus</td>\n",
       "      <td>13.1255</td>\n",
       "    </tr>\n",
       "  </tbody>\n",
       "</table>\n",
       "</div>"
      ],
      "text/plain": [
       "   timestamp  rawTimesamp  distance        lat       lon     alt  speed   acc  \\\n",
       "0      11.53   1544432938    113.75  51.490592  7.414306  156.39  12.21  0.50   \n",
       "1      21.33   1544432948    231.40  51.490717  7.415835  152.53  11.17  0.00   \n",
       "2      32.22   1544432959    323.73  51.490634  7.417138  154.23   6.44  0.00   \n",
       "3      54.69   1544432982    537.34  51.492531  7.416222  154.41  12.33  0.02   \n",
       "4      63.98   1544432991    650.07  51.493484  7.415836  153.05  11.69 -0.18   \n",
       "\n",
       "      dir  rsrp  rsrq  sinr  cqi  ss  ta        ci  pci  id  payload  rtt  \\\n",
       "0   77.59   -85    -5    22   10  50   7  26385408   95   0      4.0   35   \n",
       "1   87.24   -84    -6    11   13  52   4  29391105  167   1      2.0   51   \n",
       "2   48.55   -82    -6    21   15  54   4  29391105  167   2      4.0   57   \n",
       "3  336.68   -90    -6    16    9  45   4  29391105  167   4      8.0   60   \n",
       "4  348.09  -101   -10    13   15  40   4  29391105  167   5      6.0   57   \n",
       "\n",
       "    txPower  measurement location  throughput  \n",
       "0  12.30470   1544432927   campus     24.5211  \n",
       "1  10.01560   1544432927   campus     14.8561  \n",
       "2   4.34375   1544432927   campus     16.2684  \n",
       "3  17.31250   1544432927   campus     14.5886  \n",
       "4  19.93750   1544432927   campus     13.1255  "
      ]
     },
     "execution_count": 42,
     "metadata": {},
     "output_type": "execute_result"
    }
   ],
   "source": [
    "u_df.head()"
   ]
  },
  {
   "cell_type": "markdown",
   "metadata": {},
   "source": [
    "### Check for Outliers"
   ]
  },
  {
   "cell_type": "code",
   "execution_count": 43,
   "metadata": {},
   "outputs": [
    {
     "data": {
      "text/plain": [
       "<AxesSubplot:xlabel='throughput', ylabel='Count'>"
      ]
     },
     "execution_count": 43,
     "metadata": {},
     "output_type": "execute_result"
    },
    {
     "data": {
      "image/png": "[encoded data removed]",
      "text/plain": [
       "<Figure size 432x288 with 1 Axes>"
      ]
     },
     "metadata": {
      "needs_background": "light"
     },
     "output_type": "display_data"
    }
   ],
   "source": [
    "sns.histplot(data=d_df, x=label, kde=True)"
   ]
  },
  {
   "cell_type": "code",
   "execution_count": 44,
   "metadata": {},
   "outputs": [
    {
     "data": {
      "text/plain": [
       "<AxesSubplot:xlabel='throughput'>"
      ]
     },
     "execution_count": 44,
     "metadata": {},
     "output_type": "execute_result"
    },
    {
     "data": {
      "image/png": "[encoded data removed]",
      "text/plain": [
       "<Figure size 432x288 with 1 Axes>"
      ]
     },
     "metadata": {
      "needs_background": "light"
     },
     "output_type": "display_data"
    }
   ],
   "source": [
    "sns.boxplot(data=d_df, x=label)"
   ]
  },
  {
   "cell_type": "code",
   "execution_count": 13,
   "metadata": {},
   "outputs": [],
   "source": [
    "d_label = d_df[label]"
   ]
  },
  {
   "cell_type": "code",
   "execution_count": 15,
   "metadata": {},
   "outputs": [],
   "source": [
    "q75, q25 = np.percentile(a=d_label, q=[75,25])\n",
    "d_IQR = q75 - q25\n",
    "\n",
    "d_low_lim = q25-1.5*d_IQR\n",
    "d_up_lim = q75+1.5*d_IQR"
   ]
  },
  {
   "cell_type": "code",
   "execution_count": 16,
   "metadata": {},
   "outputs": [
    {
     "data": {
      "text/plain": [
       "19"
      ]
     },
     "execution_count": 16,
     "metadata": {},
     "output_type": "execute_result"
    }
   ],
   "source": [
    "d_outliers = d_label[(d_label < d_low_lim) | (d_label > d_up_lim)]\n",
    "len(d_outliers)\n",
    "\n",
    "# there are 19 outlierts in the data set by IQR method "
   ]
  },
  {
   "cell_type": "code",
   "execution_count": 22,
   "metadata": {},
   "outputs": [
    {
     "data": {
      "text/plain": [
       "'Outliers are 0.89% of the Download data'"
      ]
     },
     "execution_count": 22,
     "metadata": {},
     "output_type": "execute_result"
    }
   ],
   "source": [
    "f'Outliers are {len(d_outliers)/len(d_df)*100:.2f}% of the Download data'"
   ]
  },
  {
   "cell_type": "code",
   "execution_count": 24,
   "metadata": {},
   "outputs": [
    {
     "data": {
      "text/plain": [
       "<AxesSubplot:xlabel='throughput', ylabel='Count'>"
      ]
     },
     "execution_count": 24,
     "metadata": {},
     "output_type": "execute_result"
    },
    {
     "data": {
      "image/png": "[encoded data removed]",
      "text/plain": [
       "<Figure size 432x288 with 1 Axes>"
      ]
     },
     "metadata": {
      "needs_background": "light"
     },
     "output_type": "display_data"
    }
   ],
   "source": [
    "sns.histplot(data=u_df, x=label, kde=True)"
   ]
  },
  {
   "cell_type": "code",
   "execution_count": 25,
   "metadata": {},
   "outputs": [
    {
     "data": {
      "text/plain": [
       "<AxesSubplot:xlabel='throughput'>"
      ]
     },
     "execution_count": 25,
     "metadata": {},
     "output_type": "execute_result"
    },
    {
     "data": {
      "image/png": "[encoded data removed]",
      "text/plain": [
       "<Figure size 432x288 with 1 Axes>"
      ]
     },
     "metadata": {
      "needs_background": "light"
     },
     "output_type": "display_data"
    }
   ],
   "source": [
    "sns.boxplot(data=u_df, x=label)"
   ]
  },
  {
   "cell_type": "code",
   "execution_count": 28,
   "metadata": {},
   "outputs": [
    {
     "data": {
      "text/plain": [
       "0"
      ]
     },
     "execution_count": 28,
     "metadata": {},
     "output_type": "execute_result"
    }
   ],
   "source": [
    "u_label = u_df[label]\n",
    "\n",
    "q75, q25 = np.percentile(a=u_label, q=[75,25])\n",
    "u_IQR = q75 - q25\n",
    "\n",
    "u_low_lim = q25-1.5*u_IQR\n",
    "u_up_lim = q75+1.5*u_IQR\n",
    "\n",
    "u_outliers = u_label[(u_label < u_low_lim) | (u_label > u_up_lim)]\n",
    "len(u_outliers)"
   ]
  },
  {
   "cell_type": "markdown",
   "metadata": {},
   "source": [
    "### Check existing Correlations in the Data"
   ]
  },
  {
   "cell_type": "code",
   "execution_count": 51,
   "metadata": {},
   "outputs": [
    {
     "data": {
      "text/plain": [
       "throughput     1.000000\n",
       "payload        0.672673\n",
       "ss             0.309925\n",
       "rsrp           0.309611\n",
       "rsrq           0.297185\n",
       "sinr           0.276993\n",
       "cqi            0.232431\n",
       "distance       0.132209\n",
       "id             0.081843\n",
       "timestamp      0.080304\n",
       "rawTimesamp    0.044219\n",
       "measurement    0.044205\n",
       "lat            0.037768\n",
       "speed          0.028435\n",
       "alt            0.020332\n",
       "acc           -0.020694\n",
       "lon           -0.041582\n",
       "ci            -0.043159\n",
       "dir           -0.045619\n",
       "pci           -0.046434\n",
       "rtt           -0.136432\n",
       "ta            -0.172634\n",
       "Name: throughput, dtype: float64"
      ]
     },
     "execution_count": 51,
     "metadata": {},
     "output_type": "execute_result"
    }
   ],
   "source": [
    "d_df.corr()['throughput'].sort_values(ascending=False)\n",
    "# note that payload is highly positively correlated to download throughput (it also makes sense that a higher payload produces a high throughput)"
   ]
  },
  {
   "cell_type": "code",
   "execution_count": 1,
   "metadata": {},
   "outputs": [
    {
     "ename": "NameError",
     "evalue": "name 'plt' is not defined",
     "output_type": "error",
     "traceback": [
      "\u001b[0;31m---------------------------------------------------------------------------\u001b[0m",
      "\u001b[0;31mNameError\u001b[0m                                 Traceback (most recent call last)",
      "\u001b[0;32m<ipython-input-1-9102efe46d6a>\u001b[0m in \u001b[0;36m<module>\u001b[0;34m\u001b[0m\n\u001b[0;32m----> 1\u001b[0;31m \u001b[0mplt\u001b[0m\u001b[0;34m.\u001b[0m\u001b[0mfigure\u001b[0m\u001b[0;34m(\u001b[0m\u001b[0mfigsize\u001b[0m\u001b[0;34m=\u001b[0m\u001b[0;34m(\u001b[0m\u001b[0;36m10\u001b[0m\u001b[0;34m,\u001b[0m\u001b[0;36m8\u001b[0m\u001b[0;34m)\u001b[0m\u001b[0;34m)\u001b[0m\u001b[0;34m\u001b[0m\u001b[0;34m\u001b[0m\u001b[0m\n\u001b[0m\u001b[1;32m      2\u001b[0m \u001b[0;34m\u001b[0m\u001b[0m\n\u001b[1;32m      3\u001b[0m \u001b[0msns\u001b[0m\u001b[0;34m.\u001b[0m\u001b[0mscatterplot\u001b[0m\u001b[0;34m(\u001b[0m\u001b[0mdata\u001b[0m\u001b[0;34m=\u001b[0m\u001b[0md_df\u001b[0m\u001b[0;34m,\u001b[0m \u001b[0mx\u001b[0m\u001b[0;34m=\u001b[0m\u001b[0;34m'payload'\u001b[0m\u001b[0;34m,\u001b[0m \u001b[0my\u001b[0m\u001b[0;34m=\u001b[0m\u001b[0;34m'throughput'\u001b[0m\u001b[0;34m,\u001b[0m\u001b[0mhue\u001b[0m\u001b[0;34m=\u001b[0m\u001b[0;34m'rsrp'\u001b[0m\u001b[0;34m,\u001b[0m\u001b[0mpalette\u001b[0m\u001b[0;34m=\u001b[0m\u001b[0;34m'magma'\u001b[0m\u001b[0;34m)\u001b[0m\u001b[0;34m\u001b[0m\u001b[0;34m\u001b[0m\u001b[0m\n\u001b[1;32m      4\u001b[0m \u001b[0;34m\u001b[0m\u001b[0m\n\u001b[1;32m      5\u001b[0m \u001b[0;31m#plt.axhline(y=d_up_lim,color='orange')\u001b[0m\u001b[0;34m\u001b[0m\u001b[0;34m\u001b[0m\u001b[0;34m\u001b[0m\u001b[0m\n",
      "\u001b[0;31mNameError\u001b[0m: name 'plt' is not defined"
     ]
    }
   ],
   "source": [
    "plt.figure(figsize=(10,8))\n",
    "\n",
    "sns.scatterplot(data=d_df, x='payload', y='throughput',hue='rsrp',palette='magma')\n",
    "\n",
    "#plt.axhline(y=d_up_lim,color='orange')\n",
    "#plt.axhline(y=d_low_lim,color='orange')\n",
    "\n",
    "# note that within every payload size we have a distribution and as payload increses, so does the throughput but also the variane of the distribution within the payload\n",
    "\n",
    "# remove the outlier at x=0.1"
   ]
  },
  {
   "cell_type": "code",
   "execution_count": 68,
   "metadata": {},
   "outputs": [
    {
     "data": {
      "text/plain": [
       "array([ 0.1,  0.5,  1. ,  2. ,  3. ,  4. ,  5. ,  6. ,  7. ,  8. ,  9. ,\n",
       "       10. ])"
      ]
     },
     "execution_count": 68,
     "metadata": {},
     "output_type": "execute_result"
    }
   ],
   "source": [
    "np.sort(d_df['payload'].unique())\n",
    "# precision of the payload column / x axis "
   ]
  },
  {
   "cell_type": "code",
   "execution_count": 116,
   "metadata": {},
   "outputs": [
    {
     "data": {
      "text/plain": [
       "<matplotlib.lines.Line2D at 0x7fa171efffa0>"
      ]
     },
     "execution_count": 116,
     "metadata": {},
     "output_type": "execute_result"
    },
    {
     "data": {
      "image/png": "[encoded data removed]",
      "text/plain": [
       "<Figure size 720x576 with 1 Axes>"
      ]
     },
     "metadata": {
      "needs_background": "light"
     },
     "output_type": "display_data"
    }
   ],
   "source": [
    "plt.figure(figsize=(10,8))\n",
    "\n",
    "sns.scatterplot(data=d_df, x='ss', y='throughput',hue='rsrp',palette='magma')\n",
    "\n",
    "plt.axhline(y=d_up_lim,color='orange')"
   ]
  },
  {
   "cell_type": "code",
   "execution_count": 103,
   "metadata": {},
   "outputs": [
    {
     "data": {
      "text/plain": [
       "<matplotlib.lines.Line2D at 0x7fa170af2160>"
      ]
     },
     "execution_count": 103,
     "metadata": {},
     "output_type": "execute_result"
    },
    {
     "data": {
      "image/png": "[encoded data removed]",
      "text/plain": [
       "<Figure size 432x288 with 1 Axes>"
      ]
     },
     "metadata": {
      "needs_background": "light"
     },
     "output_type": "display_data"
    }
   ],
   "source": [
    "sns.scatterplot(data=d_df, x='rsrp', y='throughput')\n",
    "plt.axhline(y=d_up_lim,color='orange')"
   ]
  },
  {
   "cell_type": "code",
   "execution_count": 104,
   "metadata": {},
   "outputs": [
    {
     "data": {
      "text/plain": [
       "<matplotlib.lines.Line2D at 0x7fa170019910>"
      ]
     },
     "execution_count": 104,
     "metadata": {},
     "output_type": "execute_result"
    },
    {
     "data": {
      "image/png": "[encoded data removed]",
      "text/plain": [
       "<Figure size 432x288 with 1 Axes>"
      ]
     },
     "metadata": {
      "needs_background": "light"
     },
     "output_type": "display_data"
    }
   ],
   "source": [
    "sns.scatterplot(data=d_df, x='rsrq', y='throughput')\n",
    "plt.axhline(y=d_up_lim,color='orange')"
   ]
  },
  {
   "cell_type": "code",
   "execution_count": 105,
   "metadata": {},
   "outputs": [
    {
     "data": {
      "text/plain": [
       "<matplotlib.lines.Line2D at 0x7fa17006b310>"
      ]
     },
     "execution_count": 105,
     "metadata": {},
     "output_type": "execute_result"
    },
    {
     "data": {
      "image/png": "[encoded data removed]",
      "text/plain": [
       "<Figure size 432x288 with 1 Axes>"
      ]
     },
     "metadata": {
      "needs_background": "light"
     },
     "output_type": "display_data"
    }
   ],
   "source": [
    "sns.scatterplot(data=d_df, x='sinr', y='throughput')\n",
    "plt.axhline(y=d_up_lim,color='orange')"
   ]
  },
  {
   "cell_type": "code",
   "execution_count": 106,
   "metadata": {},
   "outputs": [
    {
     "data": {
      "text/plain": [
       "<matplotlib.lines.Line2D at 0x7fa170047f10>"
      ]
     },
     "execution_count": 106,
     "metadata": {},
     "output_type": "execute_result"
    },
    {
     "data": {
      "image/png": "[encoded data removed]",
      "text/plain": [
       "<Figure size 432x288 with 1 Axes>"
      ]
     },
     "metadata": {
      "needs_background": "light"
     },
     "output_type": "display_data"
    }
   ],
   "source": [
    "sns.scatterplot(data=d_df, x='cqi', y='throughput')\n",
    "plt.axhline(y=d_up_lim,color='orange')"
   ]
  },
  {
   "cell_type": "markdown",
   "metadata": {},
   "source": [
    "---"
   ]
  },
  {
   "cell_type": "code",
   "execution_count": 52,
   "metadata": {},
   "outputs": [
    {
     "data": {
      "text/plain": [
       "throughput     1.000000\n",
       "payload        0.607698\n",
       "ss             0.386890\n",
       "rsrp           0.379373\n",
       "rsrq           0.333265\n",
       "sinr           0.323090\n",
       "cqi            0.254415\n",
       "distance       0.093922\n",
       "id             0.083222\n",
       "timestamp      0.082215\n",
       "lat            0.059516\n",
       "acc            0.025546\n",
       "rawTimesamp    0.018246\n",
       "measurement    0.018232\n",
       "alt           -0.009411\n",
       "pci           -0.014262\n",
       "speed         -0.019170\n",
       "lon           -0.053865\n",
       "dir           -0.055719\n",
       "ci            -0.059875\n",
       "rtt           -0.148920\n",
       "ta            -0.209764\n",
       "txPower       -0.230067\n",
       "Name: throughput, dtype: float64"
      ]
     },
     "execution_count": 52,
     "metadata": {},
     "output_type": "execute_result"
    }
   ],
   "source": [
    "u_df.corr()['throughput'].sort_values(ascending=False)\n",
    "# note that payload is highly positively correlated to upload throughput (it also makes sense that a higher payload produces a high throughput)"
   ]
  },
  {
   "cell_type": "code",
   "execution_count": null,
   "metadata": {},
   "outputs": [],
   "source": []
  },
  {
   "cell_type": "code",
   "execution_count": null,
   "metadata": {},
   "outputs": [],
   "source": []
  },
  {
   "cell_type": "code",
   "execution_count": null,
   "metadata": {},
   "outputs": [],
   "source": []
  },
  {
   "cell_type": "code",
   "execution_count": null,
   "metadata": {},
   "outputs": [],
   "source": [
    "dl = df[[]]"
   ]
  },
  {
   "cell_type": "code",
   "execution_count": null,
   "metadata": {},
   "outputs": [],
   "source": [
    "dl.corr()"
   ]
  },
  {
   "cell_type": "markdown",
   "metadata": {},
   "source": [
    "---"
   ]
  },
  {
   "cell_type": "code",
   "execution_count": null,
   "metadata": {},
   "outputs": [],
   "source": [
    "sns.scatterplot(data=dl, x='lat',y='lon',hue='location')"
   ]
  },
  {
   "cell_type": "code",
   "execution_count": null,
   "metadata": {},
   "outputs": [],
   "source": [
    "sns.scatterplot(data=dl, x='lat',y='lon',hue='distance',palette='magma')"
   ]
  },
  {
   "cell_type": "code",
   "execution_count": null,
   "metadata": {},
   "outputs": [],
   "source": [
    "sns.scatterplot(data=dl, x='lat',y='lon',hue='speed',palette='magma')"
   ]
  },
  {
   "cell_type": "code",
   "execution_count": null,
   "metadata": {},
   "outputs": [],
   "source": [
    "sns.scatterplot(data=dl, x='lat',y='lon',hue='acc',palette='magma')"
   ]
  },
  {
   "cell_type": "code",
   "execution_count": null,
   "metadata": {},
   "outputs": [],
   "source": [
    "sns.scatterplot(data=dl, x='lat',y='lon',hue='rawTimesamp')"
   ]
  },
  {
   "cell_type": "code",
   "execution_count": null,
   "metadata": {},
   "outputs": [],
   "source": [
    "sns.scatterplot(data=dl, x='lat',y='lon',hue='timestamp')"
   ]
  },
  {
   "cell_type": "code",
   "execution_count": null,
   "metadata": {},
   "outputs": [],
   "source": [
    "sns.scatterplot(data=dl, x='lat',y='lon',hue='measurement')"
   ]
  },
  {
   "cell_type": "code",
   "execution_count": null,
   "metadata": {},
   "outputs": [],
   "source": [
    "sns.scatterplot(data=ul, x='lat',y='lon',hue='location')"
   ]
  },
  {
   "cell_type": "code",
   "execution_count": null,
   "metadata": {},
   "outputs": [],
   "source": [
    "sns.scatterplot(data=dl, x='lat',y='lon',hue='alt')"
   ]
  },
  {
   "cell_type": "code",
   "execution_count": null,
   "metadata": {},
   "outputs": [],
   "source": [
    "sns.scatterplot(data=ul, x='lat',y='lon',hue='alt')"
   ]
  },
  {
   "cell_type": "code",
   "execution_count": null,
   "metadata": {},
   "outputs": [],
   "source": [
    "sns.scatterplot(data=dl, x='lat',y='lon',hue='throughput',palette='magma')"
   ]
  },
  {
   "cell_type": "code",
   "execution_count": null,
   "metadata": {},
   "outputs": [],
   "source": [
    "sns.scatterplot(data=ul, x='lat',y='lon',hue='throughput',palette='magma')"
   ]
  },
  {
   "cell_type": "code",
   "execution_count": null,
   "metadata": {},
   "outputs": [],
   "source": [
    "dl.isnull().sum().sum()\n",
    "# no missing data in dl"
   ]
  },
  {
   "cell_type": "code",
   "execution_count": null,
   "metadata": {},
   "outputs": [],
   "source": [
    "ul.isnull().sum().sum()\n",
    "# no missing data in ul"
   ]
  },
  {
   "cell_type": "code",
   "execution_count": null,
   "metadata": {},
   "outputs": [],
   "source": [
    "dl.info()\n",
    "# dl has almost 2,200 data points, unlabeled index, 24 features, no missing data; dtypes: 13 ints, 10 floats, and 1 object"
   ]
  },
  {
   "cell_type": "code",
   "execution_count": null,
   "metadata": {},
   "outputs": [],
   "source": [
    "ul.info()\n",
    "# ul has almost 2,200 data points, unlabeled index, 25 features (versus 24), no missing data; dtypes: 13 ints, 11 floats and 1 object"
   ]
  },
  {
   "cell_type": "code",
   "execution_count": null,
   "metadata": {},
   "outputs": [],
   "source": [
    "# timestamp: seems like an 'arbitrary' variable (drop this column?)\n",
    "# rawTimesamp: unix timestamp; visit unixtimestamp.com/ to convert (correction of column name!)\n",
    "# distance: distance from cell tower\n",
    "# lat: latitude\n",
    "# lon: longitude\n",
    "# alt: altitude relative to NHN\n",
    "# speed: [speed] = m/s\n",
    "# acc: [acc] = m/s**2; contains negative values!\n",
    "# dir: [dir] = grad; north === 0; dir: S -> [0,359.99]\n",
    "# connect: LTE connection; here always one (drop this column!)\n",
    "\n",
    "# signal performance indicator; visit cablefree.net/wirelesstechnology/4glte/rsrp-rsrq-measurement-lte/ for more detail\n",
    "    # rsrp: performance indicator based on path loss; all values are negative (possibly irrelevant!)\n",
    "    # rsrq: performance indicator; can contain negative values (possible irrelevant!)\n",
    "    # sinr: performance indicator; can contain negative values (possible irrelevant!)\n",
    "    # cqi: ? \n",
    "    # ss === Arbitrary Strength Unit (ASU); rsrp = ASU - 140 (redudant! drop this column!) \n",
    "    # ta: ? \n",
    "    # ci: ? \n",
    "\n",
    "# pci: physical cell ID; internal information (irrelevant!)\n",
    "# id: vehicle ID\n",
    "# payload: [payload] = MB\n",
    "# throughput: [throughput] = mbits (key value!)\n",
    "# rtt: [rtt] = ms; round trip time for the signal (vehicle -> tower -> vehicle)\n",
    "# measuremt: experiment number \n",
    "# location: name of the location; location: S -> {'campus', 'highway', 'suburban', 'urban'}\n",
    "\n",
    "# there is no column reflecting the frequency of the signal (see Variablenbeschreibung in moodle) (?)\n",
    "\n",
    "# drop: timestamp, connect, ss, pci (?)\n",
    "# rename: rawTimesamp -> timestamp\n",
    "dl.columns"
   ]
  },
  {
   "cell_type": "code",
   "execution_count": null,
   "metadata": {},
   "outputs": [],
   "source": [
    "# txPower: [txPower] = dBm; measurement of signal strength \n",
    "\n",
    "# drop: timestamp, connect, ss, pci (?)\n",
    "# rename: rawTimesamp -> timestamp\n",
    "ul.columns"
   ]
  },
  {
   "cell_type": "code",
   "execution_count": null,
   "metadata": {},
   "outputs": [],
   "source": [
    "# Variablenbeschreibung\n",
    "\n",
    "# - timestamp_ms ist ein Unix Timestamp, welcher die Umrechnung in eine konkrete Uhrzeit ermöglicht\n",
    "# (siehe https://www.unixtimestamp.com/)\n",
    "# - altitude_m die Höhe über Normalnull\n",
    "# - veclocity ist in meter/s und acceleration in meter/s^2: Für die Beschleunigung sind negative Werte durch Bremsen \n",
    "# möglich (Änderung der Geschwindigkeit)\n",
    "# - direction ist die Richtung in Grad, Norden entspricht 0 - isRegistered gibt an, ob das Gerät eine aktive \n",
    "# Verbindung zu einer LTE Zelle hat\n",
    "# - rsrp ist ein Indikator für die Empfangsleistung und durch den Pfadverlust immer negativ – das heißt dann \n",
    "# einfach, dass nur sehr geringe Leistungsmengen beim Endgerät ankommen - rsrq und rssinr sind Verhältnisse von \n",
    "# Leistungen, auch hier sind negative werte möglich \n",
    "# (siehe auch https://www.cablefree.net/wirelesstechnology/4glte/rsrp-rsrq-measurement-lte/)\n",
    "# - ss entspricht der Arbitrary Strength Unit (ASU) und ist redundant zum RSRP, da RSRP = ASU – 140\n",
    "# - pci ist die Physical Cell Id, welche intern vom Endgerät verwendet wird, um Codierungsaufgaben zu machen \n",
    "# -> Sollte für euch nicht wichtig sein\n",
    "# - payload entspricht der übertragenden Datenmenge in Megabyte\n",
    "# - througput_mbits entspricht der Datenrate und somit der Zielgröße\n",
    "# - connected 1 wenn eine Verbindung besteht 0 sonst\n",
    "# - rtt_ms ist die Round Trip Time: Also die Signallaufzeit vom Sender zum Empfänger und wieder zurück\n",
    "# - txPower_dBm entspricht der Sendeleistung des Endgerätes (somit auch nur im Uplink verfügbar, weil das \n",
    "# Endgerät im Downlink nur empfängt)\n",
    "# - f_mhz entspricht der Trägerfrequenz der Basisstation, daher ist dies auch in wichtiges Feature, da die \n",
    "# Frequenz einen großen Einfluss auf die Funkausbreitungseigenschaften hat \n",
    "# - measurement ist die jeweilige Messfahrt"
   ]
  },
  {
   "cell_type": "code",
   "execution_count": null,
   "metadata": {},
   "outputs": [],
   "source": [
    "dl = dl.drop(['connected','timestamp'],axis=1)"
   ]
  },
  {
   "cell_type": "code",
   "execution_count": null,
   "metadata": {},
   "outputs": [],
   "source": [
    "ul = ul.drop(['connected','timestamp'],axis=1)"
   ]
  },
  {
   "cell_type": "code",
   "execution_count": null,
   "metadata": {},
   "outputs": [],
   "source": [
    "dl.head(3)"
   ]
  },
  {
   "cell_type": "code",
   "execution_count": null,
   "metadata": {},
   "outputs": [],
   "source": [
    "ul.head(3)"
   ]
  },
  {
   "cell_type": "code",
   "execution_count": null,
   "metadata": {},
   "outputs": [],
   "source": [
    "dl.describe().transpose()\n",
    "# some statistical values have no meaningful interpretation!"
   ]
  },
  {
   "cell_type": "code",
   "execution_count": null,
   "metadata": {},
   "outputs": [],
   "source": [
    "ul.describe().transpose()\n",
    "# some statistical values have no meaningful interpretation!"
   ]
  },
  {
   "cell_type": "code",
   "execution_count": null,
   "metadata": {},
   "outputs": [],
   "source": [
    "dl['id'].unique()\n",
    "# array of vehicle IDs?"
   ]
  },
  {
   "cell_type": "code",
   "execution_count": null,
   "metadata": {},
   "outputs": [],
   "source": [
    "ul['id'].unique()\n",
    "# array of vehicle IDs?"
   ]
  },
  {
   "cell_type": "code",
   "execution_count": null,
   "metadata": {},
   "outputs": [],
   "source": [
    "dl['id'].unique() == ul['id'].unique()\n",
    "# note that the vehicles are not identical "
   ]
  },
  {
   "cell_type": "code",
   "execution_count": null,
   "metadata": {},
   "outputs": [],
   "source": [
    "dl['location'].unique()"
   ]
  },
  {
   "cell_type": "code",
   "execution_count": null,
   "metadata": {},
   "outputs": [],
   "source": [
    "dl['location'].unique() == ul['location'].unique()"
   ]
  },
  {
   "cell_type": "code",
   "execution_count": null,
   "metadata": {},
   "outputs": [],
   "source": [
    "# len(dl['timestamp'].unique())\n",
    "# we dropped this feature"
   ]
  },
  {
   "cell_type": "code",
   "execution_count": null,
   "metadata": {},
   "outputs": [],
   "source": [
    "len(dl['rawTimesamp'].unique())\n",
    "# note that 'timestamp' and 'rawTimesamp' are differing amount of unique values"
   ]
  },
  {
   "cell_type": "code",
   "execution_count": null,
   "metadata": {},
   "outputs": [],
   "source": [
    "len(dl)\n",
    "# rawTimesamp cannot be index because it's not unique"
   ]
  },
  {
   "cell_type": "code",
   "execution_count": null,
   "metadata": {},
   "outputs": [],
   "source": [
    "# len(ul['timestamp'].unique())\n",
    "# we dropped this feature"
   ]
  },
  {
   "cell_type": "code",
   "execution_count": null,
   "metadata": {},
   "outputs": [],
   "source": [
    "len(ul['rawTimesamp'].unique())\n",
    "# note that 'timestamp' and 'rawTimesamp' are differing amount of unique values"
   ]
  },
  {
   "cell_type": "code",
   "execution_count": null,
   "metadata": {},
   "outputs": [],
   "source": [
    "len(ul)"
   ]
  },
  {
   "cell_type": "code",
   "execution_count": null,
   "metadata": {},
   "outputs": [],
   "source": [
    "dl.equals(dl.drop_duplicates())\n",
    "# no duplicates in download DataFrame"
   ]
  },
  {
   "cell_type": "code",
   "execution_count": null,
   "metadata": {},
   "outputs": [],
   "source": [
    "ul.equals(ul.drop_duplicates())\n",
    "# no duplicates in upload DataFrame"
   ]
  },
  {
   "cell_type": "code",
   "execution_count": null,
   "metadata": {
    "scrolled": true
   },
   "outputs": [],
   "source": [
    "dl.sort_values('rawTimesamp').head()"
   ]
  },
  {
   "cell_type": "code",
   "execution_count": null,
   "metadata": {},
   "outputs": [],
   "source": [
    "# pd.to_datetime(dl['rawTimesamp'],unit='s')\n",
    "# pd.to_datetime(ul['rawTimesamp'],unit='s')\n",
    "# change the timestamp format if neccessary"
   ]
  },
  {
   "cell_type": "code",
   "execution_count": null,
   "metadata": {},
   "outputs": [],
   "source": [
    "# apply filters to DataFrame? \n",
    "\n",
    "# sub-DataFrame per location with a filter or with isin() method\n",
    "    # dl[dl['location']=='campus']\n",
    "    # dl[dl['location']=='highway']\n",
    "    # dl[dl['location']=='suburban']\n",
    "    # dl[dl['location']=='urban']\n",
    "    \n",
    "    # ul[ul['location']=='campus']\n",
    "    # ul[ul['location']=='highway']\n",
    "    # ul[ul['location']=='suburban']\n",
    "    # ul[ul['location']=='urban']"
   ]
  },
  {
   "cell_type": "markdown",
   "metadata": {},
   "source": [
    "## Part 4"
   ]
  },
  {
   "cell_type": "code",
   "execution_count": null,
   "metadata": {},
   "outputs": [],
   "source": [
    "dl.corr()"
   ]
  },
  {
   "cell_type": "code",
   "execution_count": null,
   "metadata": {},
   "outputs": [],
   "source": [
    "ul.corr()"
   ]
  },
  {
   "cell_type": "code",
   "execution_count": null,
   "metadata": {},
   "outputs": [],
   "source": [
    "dl['location'].value_counts()\n",
    "# good categorical data to group by"
   ]
  },
  {
   "cell_type": "code",
   "execution_count": null,
   "metadata": {},
   "outputs": [],
   "source": [
    "ul['location'].value_counts()\n",
    "# good categorical data to group by\n",
    "\n",
    "# is there more categorical data to group by? "
   ]
  },
  {
   "cell_type": "code",
   "execution_count": null,
   "metadata": {},
   "outputs": [],
   "source": [
    "dl.duplicated()"
   ]
  },
  {
   "cell_type": "code",
   "execution_count": null,
   "metadata": {},
   "outputs": [],
   "source": [
    "dl.nlargest(5,'throughput')"
   ]
  },
  {
   "cell_type": "code",
   "execution_count": null,
   "metadata": {},
   "outputs": [],
   "source": [
    "dl.nsmallest(5,'throughput')"
   ]
  },
  {
   "cell_type": "code",
   "execution_count": null,
   "metadata": {},
   "outputs": [],
   "source": [
    "ul.nlargest(5,'throughput')"
   ]
  },
  {
   "cell_type": "code",
   "execution_count": null,
   "metadata": {},
   "outputs": [],
   "source": [
    "ul.nsmallest(5,'throughput')"
   ]
  },
  {
   "cell_type": "markdown",
   "metadata": {},
   "source": [
    "## Part 5"
   ]
  },
  {
   "cell_type": "code",
   "execution_count": null,
   "metadata": {},
   "outputs": [],
   "source": [
    "# df.groupby(['model_year','cylinders']).describe().transpose()"
   ]
  },
  {
   "cell_type": "code",
   "execution_count": null,
   "metadata": {},
   "outputs": [],
   "source": [
    "dl['rawTimesamp']\n",
    "# convert the rawTimesamp from an integer into a datetime object"
   ]
  },
  {
   "cell_type": "code",
   "execution_count": null,
   "metadata": {},
   "outputs": [],
   "source": [
    "# sns.pairplot(data=dl, kind='kde')\n",
    "# plt.savefig('plot1.png')"
   ]
  },
  {
   "cell_type": "markdown",
   "metadata": {},
   "source": [
    "# Machine Learning Models: Supervised Learning - Predict an Outcome"
   ]
  },
  {
   "cell_type": "markdown",
   "metadata": {},
   "source": [
    "Starting situation: We start with a collection of organized data based on history. We have **historical labeled** data on previous rides / tours, i.e. a set of features and a label (throughput). \n",
    "\n",
    "Task: Create a data product that: If we take a new ride / make a new tour with a know Latitude, Longitude, ...; predict what will be the throughput. \n",
    "\n",
    "Data product: \n",
    "- Input: ride / tour / experiment features\n",
    "- Output: predicted throughput \n",
    "\n",
    "Principle: we're using historical, labeled data to predict a future outcome or result\n",
    "\n",
    "For process see GitHub Repo. "
   ]
  },
  {
   "cell_type": "markdown",
   "metadata": {},
   "source": [
    "# Linear Regression"
   ]
  },
  {
   "cell_type": "code",
   "execution_count": null,
   "metadata": {},
   "outputs": [],
   "source": [
    "dl.head()"
   ]
  },
  {
   "cell_type": "code",
   "execution_count": null,
   "metadata": {},
   "outputs": [],
   "source": [
    "X = dl.drop('throughput',axis=1)"
   ]
  },
  {
   "cell_type": "code",
   "execution_count": null,
   "metadata": {},
   "outputs": [],
   "source": [
    "# consider the original data frame when evaluating the performance of the regression with an error evaluation metric. \n",
    "# consider the range for the values (and compare to the mean absolute error)"
   ]
  },
  {
   "cell_type": "code",
   "execution_count": null,
   "metadata": {},
   "outputs": [],
   "source": [
    "dl['throughput'].mean()"
   ]
  },
  {
   "cell_type": "code",
   "execution_count": null,
   "metadata": {},
   "outputs": [],
   "source": [
    "sns.histplot(data=dl,x='throughput', kde=True)\n",
    "# the distribution is not normal but it rathers resembles a Poisson distribution"
   ]
  },
  {
   "cell_type": "code",
   "execution_count": null,
   "metadata": {},
   "outputs": [],
   "source": [
    "ul['throughput'].mean()"
   ]
  },
  {
   "cell_type": "code",
   "execution_count": null,
   "metadata": {},
   "outputs": [],
   "source": [
    "sns.histplot(data=ul,x='throughput', kde=True)\n",
    "# the distribution resembles a unitform distribution"
   ]
  },
  {
   "cell_type": "markdown",
   "metadata": {},
   "source": [
    "# Cleaning, Analysis and Feature Engineering"
   ]
  },
  {
   "cell_type": "code",
   "execution_count": null,
   "metadata": {},
   "outputs": [],
   "source": []
  },
  {
   "cell_type": "markdown",
   "metadata": {},
   "source": [
    "# Train Linear Regression Model"
   ]
  },
  {
   "cell_type": "code",
   "execution_count": null,
   "metadata": {},
   "outputs": [],
   "source": []
  }
 ],
 "metadata": {
  "kernelspec": {
   "display_name": "Python 3",
   "language": "python",
   "name": "python3"
  },
  "language_info": {
   "codemirror_mode": {
    "name": "ipython",
    "version": 3
   },
   "file_extension": ".py",
   "mimetype": "text/x-python",
   "name": "python",
   "nbconvert_exporter": "python",
   "pygments_lexer": "ipython3",
   "version": "3.8.6"
  },
  "toc-autonumbering": false,
  "toc-showcode": false,
  "toc-showmarkdowntxt": false,
  "toc-showtags": false
 },
 "nbformat": 4,
 "nbformat_minor": 4
}
