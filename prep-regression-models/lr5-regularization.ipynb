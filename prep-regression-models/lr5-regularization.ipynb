{
 "cells": [
  {
   "cell_type": "code",
   "execution_count": 1,
   "metadata": {},
   "outputs": [],
   "source": [
    "import numpy as np\n",
    "import pandas as pd\n",
    "import matplotlib.pyplot as plt\n",
    "import seaborn as sns"
   ]
  },
  {
   "cell_type": "code",
   "execution_count": 2,
   "metadata": {},
   "outputs": [],
   "source": [
    "df = pd.read_csv('./course-data/Advertising.csv')"
   ]
  },
  {
   "cell_type": "code",
   "execution_count": 3,
   "metadata": {},
   "outputs": [
    {
     "data": {
      "text/html": [
       "<div>\n",
       "<style scoped>\n",
       "    .dataframe tbody tr th:only-of-type {\n",
       "        vertical-align: middle;\n",
       "    }\n",
       "\n",
       "    .dataframe tbody tr th {\n",
       "        vertical-align: top;\n",
       "    }\n",
       "\n",
       "    .dataframe thead th {\n",
       "        text-align: right;\n",
       "    }\n",
       "</style>\n",
       "<table border=\"1\" class=\"dataframe\">\n",
       "  <thead>\n",
       "    <tr style=\"text-align: right;\">\n",
       "      <th></th>\n",
       "      <th>TV</th>\n",
       "      <th>radio</th>\n",
       "      <th>newspaper</th>\n",
       "      <th>sales</th>\n",
       "    </tr>\n",
       "  </thead>\n",
       "  <tbody>\n",
       "    <tr>\n",
       "      <th>0</th>\n",
       "      <td>230.1</td>\n",
       "      <td>37.8</td>\n",
       "      <td>69.2</td>\n",
       "      <td>22.1</td>\n",
       "    </tr>\n",
       "    <tr>\n",
       "      <th>1</th>\n",
       "      <td>44.5</td>\n",
       "      <td>39.3</td>\n",
       "      <td>45.1</td>\n",
       "      <td>10.4</td>\n",
       "    </tr>\n",
       "    <tr>\n",
       "      <th>2</th>\n",
       "      <td>17.2</td>\n",
       "      <td>45.9</td>\n",
       "      <td>69.3</td>\n",
       "      <td>9.3</td>\n",
       "    </tr>\n",
       "    <tr>\n",
       "      <th>3</th>\n",
       "      <td>151.5</td>\n",
       "      <td>41.3</td>\n",
       "      <td>58.5</td>\n",
       "      <td>18.5</td>\n",
       "    </tr>\n",
       "    <tr>\n",
       "      <th>4</th>\n",
       "      <td>180.8</td>\n",
       "      <td>10.8</td>\n",
       "      <td>58.4</td>\n",
       "      <td>12.9</td>\n",
       "    </tr>\n",
       "  </tbody>\n",
       "</table>\n",
       "</div>"
      ],
      "text/plain": [
       "      TV  radio  newspaper  sales\n",
       "0  230.1   37.8       69.2   22.1\n",
       "1   44.5   39.3       45.1   10.4\n",
       "2   17.2   45.9       69.3    9.3\n",
       "3  151.5   41.3       58.5   18.5\n",
       "4  180.8   10.8       58.4   12.9"
      ]
     },
     "execution_count": 3,
     "metadata": {},
     "output_type": "execute_result"
    }
   ],
   "source": [
    "df.head()"
   ]
  },
  {
   "cell_type": "code",
   "execution_count": 4,
   "metadata": {},
   "outputs": [],
   "source": [
    "X = df.drop('sales',axis=1)"
   ]
  },
  {
   "cell_type": "code",
   "execution_count": 5,
   "metadata": {},
   "outputs": [],
   "source": [
    "y = df['sales']"
   ]
  },
  {
   "cell_type": "markdown",
   "metadata": {},
   "source": [
    "---"
   ]
  },
  {
   "cell_type": "code",
   "execution_count": 6,
   "metadata": {},
   "outputs": [],
   "source": [
    "from sklearn.preprocessing import PolynomialFeatures"
   ]
  },
  {
   "cell_type": "code",
   "execution_count": 7,
   "metadata": {},
   "outputs": [],
   "source": [
    "pol_trafo = PolynomialFeatures(degree=3, include_bias=False)"
   ]
  },
  {
   "cell_type": "code",
   "execution_count": 10,
   "metadata": {},
   "outputs": [
    {
     "data": {
      "text/plain": [
       "PolynomialFeatures(degree=3, include_bias=False)"
      ]
     },
     "execution_count": 10,
     "metadata": {},
     "output_type": "execute_result"
    }
   ],
   "source": [
    "pol_trafo.fit(X)"
   ]
  },
  {
   "cell_type": "code",
   "execution_count": 11,
   "metadata": {},
   "outputs": [
    {
     "data": {
      "text/plain": [
       "['TV',\n",
       " 'radio',\n",
       " 'newspaper',\n",
       " 'TV^2',\n",
       " 'TV radio',\n",
       " 'TV newspaper',\n",
       " 'radio^2',\n",
       " 'radio newspaper',\n",
       " 'newspaper^2',\n",
       " 'TV^3',\n",
       " 'TV^2 radio',\n",
       " 'TV^2 newspaper',\n",
       " 'TV radio^2',\n",
       " 'TV radio newspaper',\n",
       " 'TV newspaper^2',\n",
       " 'radio^3',\n",
       " 'radio^2 newspaper',\n",
       " 'radio newspaper^2',\n",
       " 'newspaper^3']"
      ]
     },
     "execution_count": 11,
     "metadata": {},
     "output_type": "execute_result"
    }
   ],
   "source": [
    "pol_trafo.get_feature_names(X.columns)"
   ]
  },
  {
   "cell_type": "code",
   "execution_count": 12,
   "metadata": {},
   "outputs": [],
   "source": [
    "pol_features = pol_trafo.transform(X)"
   ]
  },
  {
   "cell_type": "code",
   "execution_count": 23,
   "metadata": {},
   "outputs": [
    {
     "data": {
      "text/plain": [
       "(200, 19)"
      ]
     },
     "execution_count": 23,
     "metadata": {},
     "output_type": "execute_result"
    }
   ],
   "source": [
    "# ndarray of poly trafo features\n",
    "pol_features.shape"
   ]
  },
  {
   "cell_type": "code",
   "execution_count": 18,
   "metadata": {},
   "outputs": [],
   "source": [
    "# dataframe of poly trafo features\n",
    "X_pol_trafo = pd.DataFrame(pol_features, columns=pol_trafo.get_feature_names(X.columns))"
   ]
  },
  {
   "cell_type": "code",
   "execution_count": 19,
   "metadata": {},
   "outputs": [
    {
     "data": {
      "text/html": [
       "<div>\n",
       "<style scoped>\n",
       "    .dataframe tbody tr th:only-of-type {\n",
       "        vertical-align: middle;\n",
       "    }\n",
       "\n",
       "    .dataframe tbody tr th {\n",
       "        vertical-align: top;\n",
       "    }\n",
       "\n",
       "    .dataframe thead th {\n",
       "        text-align: right;\n",
       "    }\n",
       "</style>\n",
       "<table border=\"1\" class=\"dataframe\">\n",
       "  <thead>\n",
       "    <tr style=\"text-align: right;\">\n",
       "      <th></th>\n",
       "      <th>TV</th>\n",
       "      <th>radio</th>\n",
       "      <th>newspaper</th>\n",
       "      <th>TV^2</th>\n",
       "      <th>TV radio</th>\n",
       "      <th>TV newspaper</th>\n",
       "      <th>radio^2</th>\n",
       "      <th>radio newspaper</th>\n",
       "      <th>newspaper^2</th>\n",
       "      <th>TV^3</th>\n",
       "      <th>TV^2 radio</th>\n",
       "      <th>TV^2 newspaper</th>\n",
       "      <th>TV radio^2</th>\n",
       "      <th>TV radio newspaper</th>\n",
       "      <th>TV newspaper^2</th>\n",
       "      <th>radio^3</th>\n",
       "      <th>radio^2 newspaper</th>\n",
       "      <th>radio newspaper^2</th>\n",
       "      <th>newspaper^3</th>\n",
       "    </tr>\n",
       "  </thead>\n",
       "  <tbody>\n",
       "    <tr>\n",
       "      <th>0</th>\n",
       "      <td>230.1</td>\n",
       "      <td>37.8</td>\n",
       "      <td>69.2</td>\n",
       "      <td>52946.01</td>\n",
       "      <td>8697.78</td>\n",
       "      <td>15922.92</td>\n",
       "      <td>1428.84</td>\n",
       "      <td>2615.76</td>\n",
       "      <td>4788.64</td>\n",
       "      <td>1.218288e+07</td>\n",
       "      <td>2001359.178</td>\n",
       "      <td>3663863.892</td>\n",
       "      <td>328776.084</td>\n",
       "      <td>601886.376</td>\n",
       "      <td>1101866.064</td>\n",
       "      <td>54010.152</td>\n",
       "      <td>98875.728</td>\n",
       "      <td>181010.592</td>\n",
       "      <td>331373.888</td>\n",
       "    </tr>\n",
       "    <tr>\n",
       "      <th>1</th>\n",
       "      <td>44.5</td>\n",
       "      <td>39.3</td>\n",
       "      <td>45.1</td>\n",
       "      <td>1980.25</td>\n",
       "      <td>1748.85</td>\n",
       "      <td>2006.95</td>\n",
       "      <td>1544.49</td>\n",
       "      <td>1772.43</td>\n",
       "      <td>2034.01</td>\n",
       "      <td>8.812112e+04</td>\n",
       "      <td>77823.825</td>\n",
       "      <td>89309.275</td>\n",
       "      <td>68729.805</td>\n",
       "      <td>78873.135</td>\n",
       "      <td>90513.445</td>\n",
       "      <td>60698.457</td>\n",
       "      <td>69656.499</td>\n",
       "      <td>79936.593</td>\n",
       "      <td>91733.851</td>\n",
       "    </tr>\n",
       "    <tr>\n",
       "      <th>2</th>\n",
       "      <td>17.2</td>\n",
       "      <td>45.9</td>\n",
       "      <td>69.3</td>\n",
       "      <td>295.84</td>\n",
       "      <td>789.48</td>\n",
       "      <td>1191.96</td>\n",
       "      <td>2106.81</td>\n",
       "      <td>3180.87</td>\n",
       "      <td>4802.49</td>\n",
       "      <td>5.088448e+03</td>\n",
       "      <td>13579.056</td>\n",
       "      <td>20501.712</td>\n",
       "      <td>36237.132</td>\n",
       "      <td>54710.964</td>\n",
       "      <td>82602.828</td>\n",
       "      <td>96702.579</td>\n",
       "      <td>146001.933</td>\n",
       "      <td>220434.291</td>\n",
       "      <td>332812.557</td>\n",
       "    </tr>\n",
       "    <tr>\n",
       "      <th>3</th>\n",
       "      <td>151.5</td>\n",
       "      <td>41.3</td>\n",
       "      <td>58.5</td>\n",
       "      <td>22952.25</td>\n",
       "      <td>6256.95</td>\n",
       "      <td>8862.75</td>\n",
       "      <td>1705.69</td>\n",
       "      <td>2416.05</td>\n",
       "      <td>3422.25</td>\n",
       "      <td>3.477266e+06</td>\n",
       "      <td>947927.925</td>\n",
       "      <td>1342706.625</td>\n",
       "      <td>258412.035</td>\n",
       "      <td>366031.575</td>\n",
       "      <td>518470.875</td>\n",
       "      <td>70444.997</td>\n",
       "      <td>99782.865</td>\n",
       "      <td>141338.925</td>\n",
       "      <td>200201.625</td>\n",
       "    </tr>\n",
       "    <tr>\n",
       "      <th>4</th>\n",
       "      <td>180.8</td>\n",
       "      <td>10.8</td>\n",
       "      <td>58.4</td>\n",
       "      <td>32688.64</td>\n",
       "      <td>1952.64</td>\n",
       "      <td>10558.72</td>\n",
       "      <td>116.64</td>\n",
       "      <td>630.72</td>\n",
       "      <td>3410.56</td>\n",
       "      <td>5.910106e+06</td>\n",
       "      <td>353037.312</td>\n",
       "      <td>1909016.576</td>\n",
       "      <td>21088.512</td>\n",
       "      <td>114034.176</td>\n",
       "      <td>616629.248</td>\n",
       "      <td>1259.712</td>\n",
       "      <td>6811.776</td>\n",
       "      <td>36834.048</td>\n",
       "      <td>199176.704</td>\n",
       "    </tr>\n",
       "  </tbody>\n",
       "</table>\n",
       "</div>"
      ],
      "text/plain": [
       "      TV  radio  newspaper      TV^2  TV radio  TV newspaper  radio^2  \\\n",
       "0  230.1   37.8       69.2  52946.01   8697.78      15922.92  1428.84   \n",
       "1   44.5   39.3       45.1   1980.25   1748.85       2006.95  1544.49   \n",
       "2   17.2   45.9       69.3    295.84    789.48       1191.96  2106.81   \n",
       "3  151.5   41.3       58.5  22952.25   6256.95       8862.75  1705.69   \n",
       "4  180.8   10.8       58.4  32688.64   1952.64      10558.72   116.64   \n",
       "\n",
       "   radio newspaper  newspaper^2          TV^3   TV^2 radio  TV^2 newspaper  \\\n",
       "0          2615.76      4788.64  1.218288e+07  2001359.178     3663863.892   \n",
       "1          1772.43      2034.01  8.812112e+04    77823.825       89309.275   \n",
       "2          3180.87      4802.49  5.088448e+03    13579.056       20501.712   \n",
       "3          2416.05      3422.25  3.477266e+06   947927.925     1342706.625   \n",
       "4           630.72      3410.56  5.910106e+06   353037.312     1909016.576   \n",
       "\n",
       "   TV radio^2  TV radio newspaper  TV newspaper^2    radio^3  \\\n",
       "0  328776.084          601886.376     1101866.064  54010.152   \n",
       "1   68729.805           78873.135       90513.445  60698.457   \n",
       "2   36237.132           54710.964       82602.828  96702.579   \n",
       "3  258412.035          366031.575      518470.875  70444.997   \n",
       "4   21088.512          114034.176      616629.248   1259.712   \n",
       "\n",
       "   radio^2 newspaper  radio newspaper^2  newspaper^3  \n",
       "0          98875.728         181010.592   331373.888  \n",
       "1          69656.499          79936.593    91733.851  \n",
       "2         146001.933         220434.291   332812.557  \n",
       "3          99782.865         141338.925   200201.625  \n",
       "4           6811.776          36834.048   199176.704  "
      ]
     },
     "execution_count": 19,
     "metadata": {},
     "output_type": "execute_result"
    }
   ],
   "source": [
    "X_pol_trafo.head()"
   ]
  },
  {
   "cell_type": "code",
   "execution_count": 15,
   "metadata": {},
   "outputs": [
    {
     "data": {
      "text/plain": [
       "(200, 19)"
      ]
     },
     "execution_count": 15,
     "metadata": {},
     "output_type": "execute_result"
    }
   ],
   "source": [
    "pol_features_df.shape"
   ]
  },
  {
   "cell_type": "markdown",
   "metadata": {},
   "source": [
    "---"
   ]
  },
  {
   "cell_type": "code",
   "execution_count": 16,
   "metadata": {},
   "outputs": [],
   "source": [
    "from sklearn.model_selection import train_test_split"
   ]
  },
  {
   "cell_type": "code",
   "execution_count": 20,
   "metadata": {},
   "outputs": [],
   "source": [
    "X_train, X_test, y_train, y_test = train_test_split(X_pol_trafo, y, test_size=0.33, random_state=42)"
   ]
  },
  {
   "cell_type": "markdown",
   "metadata": {},
   "source": [
    "---"
   ]
  },
  {
   "cell_type": "code",
   "execution_count": 25,
   "metadata": {},
   "outputs": [],
   "source": [
    "from sklearn.preprocessing import StandardScaler"
   ]
  },
  {
   "cell_type": "code",
   "execution_count": 26,
   "metadata": {},
   "outputs": [],
   "source": [
    "scaler = StandardScaler()"
   ]
  },
  {
   "cell_type": "code",
   "execution_count": 27,
   "metadata": {},
   "outputs": [
    {
     "data": {
      "text/plain": [
       "StandardScaler()"
      ]
     },
     "execution_count": 27,
     "metadata": {},
     "output_type": "execute_result"
    }
   ],
   "source": [
    "# we have to fit the instance of the StandardScaler to compute the statistics; it is important to avoid data leakage (from the test set)!\n",
    "scaler.fit(X_train)"
   ]
  },
  {
   "cell_type": "code",
   "execution_count": 28,
   "metadata": {},
   "outputs": [],
   "source": [
    "X_train_scaled = scaler.transform(X_train)"
   ]
  },
  {
   "cell_type": "code",
   "execution_count": 29,
   "metadata": {},
   "outputs": [],
   "source": [
    "X_test_scaled = scaler.transform(X_test)"
   ]
  },
  {
   "cell_type": "code",
   "execution_count": 34,
   "metadata": {},
   "outputs": [
    {
     "name": "stdout",
     "output_type": "stream",
     "text": [
      "TV: 1.6675933595243773\n",
      "radio: 0.26512404474449547\n",
      "newspaper: -1.395536624584335\n",
      "TV^2: 2.2015037251311553\n",
      "TV radio: 1.2775702597215366\n",
      "TV newspaper: -0.9050233092675088\n",
      "radio^2: -0.021316020241327022\n",
      "radio newspaper: -0.8758223006221503\n",
      "newspaper^2: -0.8399005581595183\n",
      "TV^3: 2.64499976035433\n",
      "TV^2 radio: 1.8207324927559239\n",
      "TV^2 newspaper: -0.6501089609340481\n",
      "TV radio^2: 0.656672040208119\n",
      "TV radio newspaper: -0.6414214631292395\n",
      "TV newspaper^2: -0.6127684143457218\n",
      "radio^3: -0.23015660766502286\n",
      "radio^2 newspaper: -0.7133113005297929\n",
      "radio newspaper^2: -0.6502876624686\n",
      "newspaper^3: -0.5691177845412948\n"
     ]
    }
   ],
   "source": [
    "for i, column in enumerate(X_pol_trafo):\n",
    "    print(f'{column}: {X_train_scaled[0][i]}')"
   ]
  },
  {
   "cell_type": "markdown",
   "metadata": {},
   "source": [
    "---"
   ]
  },
  {
   "cell_type": "code",
   "execution_count": null,
   "metadata": {},
   "outputs": [],
   "source": []
  }
 ],
 "metadata": {
  "kernelspec": {
   "display_name": "Python 3",
   "language": "python",
   "name": "python3"
  },
  "language_info": {
   "codemirror_mode": {
    "name": "ipython",
    "version": 3
   },
   "file_extension": ".py",
   "mimetype": "text/x-python",
   "name": "python",
   "nbconvert_exporter": "python",
   "pygments_lexer": "ipython3",
   "version": "3.8.6"
  }
 },
 "nbformat": 4,
 "nbformat_minor": 4
}
