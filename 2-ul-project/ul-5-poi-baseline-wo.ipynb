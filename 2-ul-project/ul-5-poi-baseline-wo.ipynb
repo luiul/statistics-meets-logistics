{
 "cells": [
  {
   "cell_type": "code",
   "execution_count": 1,
   "metadata": {},
   "outputs": [],
   "source": [
    "# MODIFY! \n",
    "# use Robust! \n",
    "model_name = 'poi-baseline-wo'"
   ]
  },
  {
   "cell_type": "code",
   "execution_count": 2,
   "metadata": {},
   "outputs": [],
   "source": [
    "import numpy as np\n",
    "import pandas as pd\n",
    "import matplotlib.pyplot as plt\n",
    "import seaborn as sns"
   ]
  },
  {
   "cell_type": "code",
   "execution_count": 3,
   "metadata": {},
   "outputs": [],
   "source": [
    "df = pd.read_csv('./data/d-wo-ns.csv')"
   ]
  },
  {
   "cell_type": "code",
   "execution_count": 4,
   "metadata": {},
   "outputs": [],
   "source": [
    "# df.columns"
   ]
  },
  {
   "cell_type": "code",
   "execution_count": 5,
   "metadata": {},
   "outputs": [],
   "source": [
    "# df.head()"
   ]
  },
  {
   "cell_type": "code",
   "execution_count": 6,
   "metadata": {},
   "outputs": [
    {
     "data": {
      "text/plain": [
       "(2142, 87)"
      ]
     },
     "execution_count": 6,
     "metadata": {},
     "output_type": "execute_result"
    }
   ],
   "source": [
    "df.shape"
   ]
  },
  {
   "cell_type": "code",
   "execution_count": 7,
   "metadata": {},
   "outputs": [],
   "source": [
    "# df.info()"
   ]
  },
  {
   "cell_type": "code",
   "execution_count": 8,
   "metadata": {},
   "outputs": [],
   "source": [
    "X = df.drop('throughput',axis=1)"
   ]
  },
  {
   "cell_type": "code",
   "execution_count": 9,
   "metadata": {},
   "outputs": [
    {
     "data": {
      "text/plain": [
       "(2142, 86)"
      ]
     },
     "execution_count": 9,
     "metadata": {},
     "output_type": "execute_result"
    }
   ],
   "source": [
    "X.shape"
   ]
  },
  {
   "cell_type": "code",
   "execution_count": 10,
   "metadata": {},
   "outputs": [],
   "source": [
    "y = df['throughput']"
   ]
  },
  {
   "cell_type": "code",
   "execution_count": 11,
   "metadata": {},
   "outputs": [
    {
     "data": {
      "text/plain": [
       "(2142,)"
      ]
     },
     "execution_count": 11,
     "metadata": {},
     "output_type": "execute_result"
    }
   ],
   "source": [
    "y.shape"
   ]
  },
  {
   "cell_type": "code",
   "execution_count": 12,
   "metadata": {},
   "outputs": [],
   "source": [
    "# Split the data\n",
    "from sklearn.model_selection import train_test_split\n",
    "X_train, X_test, y_train, y_test = train_test_split(X, y, test_size=0.33, random_state=42)\n",
    "\n",
    "# Scale the data\n",
    "from sklearn.preprocessing import StandardScaler\n",
    "scaler = StandardScaler()\n",
    "scaler.fit(X_train)\n",
    "\n",
    "X_train = scaler.transform(X_train)\n",
    "X_test = scaler.transform(X_test)\n",
    "\n",
    "# Instantiate model\n",
    "from sklearn.linear_model import PoissonRegressor\n",
    "model = PoissonRegressor()\n",
    "\n",
    "model.fit(X_train, y_train)\n",
    "\n",
    "y_pred = model.predict(X_test)\n",
    "\n",
    "from sklearn.metrics import mean_absolute_error, mean_squared_error\n",
    "\n",
    "mae = mean_absolute_error(y_test,y_pred)\n",
    "mse = mean_squared_error(y_test,y_pred)\n",
    "rmse = np.sqrt(mse)"
   ]
  },
  {
   "cell_type": "code",
   "execution_count": 13,
   "metadata": {},
   "outputs": [
    {
     "data": {
      "text/plain": [
       "PoissonRegressor()"
      ]
     },
     "execution_count": 13,
     "metadata": {},
     "output_type": "execute_result"
    }
   ],
   "source": [
    "model"
   ]
  },
  {
   "cell_type": "code",
   "execution_count": 14,
   "metadata": {},
   "outputs": [
    {
     "data": {
      "text/plain": [
       "4.533693109008443"
      ]
     },
     "execution_count": 14,
     "metadata": {},
     "output_type": "execute_result"
    }
   ],
   "source": [
    "mae"
   ]
  },
  {
   "cell_type": "code",
   "execution_count": 15,
   "metadata": {},
   "outputs": [
    {
     "data": {
      "text/plain": [
       "32.14353855749357"
      ]
     },
     "execution_count": 15,
     "metadata": {},
     "output_type": "execute_result"
    }
   ],
   "source": [
    "mse"
   ]
  },
  {
   "cell_type": "code",
   "execution_count": 16,
   "metadata": {},
   "outputs": [
    {
     "data": {
      "text/plain": [
       "5.669527189942171"
      ]
     },
     "execution_count": 16,
     "metadata": {},
     "output_type": "execute_result"
    }
   ],
   "source": [
    "rmse"
   ]
  },
  {
   "cell_type": "code",
   "execution_count": 17,
   "metadata": {},
   "outputs": [
    {
     "data": {
      "text/html": [
       "<div>\n",
       "<style scoped>\n",
       "    .dataframe tbody tr th:only-of-type {\n",
       "        vertical-align: middle;\n",
       "    }\n",
       "\n",
       "    .dataframe tbody tr th {\n",
       "        vertical-align: top;\n",
       "    }\n",
       "\n",
       "    .dataframe thead th {\n",
       "        text-align: right;\n",
       "    }\n",
       "</style>\n",
       "<table border=\"1\" class=\"dataframe\">\n",
       "  <thead>\n",
       "    <tr style=\"text-align: right;\">\n",
       "      <th></th>\n",
       "      <th>poi-baseline-wo</th>\n",
       "    </tr>\n",
       "  </thead>\n",
       "  <tbody>\n",
       "    <tr>\n",
       "      <th>MAE</th>\n",
       "      <td>4.533693</td>\n",
       "    </tr>\n",
       "    <tr>\n",
       "      <th>MSE</th>\n",
       "      <td>32.143539</td>\n",
       "    </tr>\n",
       "    <tr>\n",
       "      <th>RMSE</th>\n",
       "      <td>5.669527</td>\n",
       "    </tr>\n",
       "  </tbody>\n",
       "</table>\n",
       "</div>"
      ],
      "text/plain": [
       "      poi-baseline-wo\n",
       "MAE          4.533693\n",
       "MSE         32.143539\n",
       "RMSE         5.669527"
      ]
     },
     "execution_count": 17,
     "metadata": {},
     "output_type": "execute_result"
    }
   ],
   "source": [
    "err_df = pd.DataFrame(data=[mae, mse, rmse],index=['MAE','MSE','RMSE'],columns=[f'{model_name}'])\n",
    "err_df"
   ]
  },
  {
   "cell_type": "code",
   "execution_count": 18,
   "metadata": {},
   "outputs": [],
   "source": [
    "err_df.to_csv(f'./baseline-err/{model_name}.csv')"
   ]
  },
  {
   "cell_type": "code",
   "execution_count": 19,
   "metadata": {},
   "outputs": [
    {
     "data": {
      "text/html": [
       "<div>\n",
       "<style scoped>\n",
       "    .dataframe tbody tr th:only-of-type {\n",
       "        vertical-align: middle;\n",
       "    }\n",
       "\n",
       "    .dataframe tbody tr th {\n",
       "        vertical-align: top;\n",
       "    }\n",
       "\n",
       "    .dataframe thead th {\n",
       "        text-align: right;\n",
       "    }\n",
       "</style>\n",
       "<table border=\"1\" class=\"dataframe\">\n",
       "  <thead>\n",
       "    <tr style=\"text-align: right;\">\n",
       "      <th></th>\n",
       "      <th>throughput_pred</th>\n",
       "    </tr>\n",
       "  </thead>\n",
       "  <tbody>\n",
       "    <tr>\n",
       "      <th>mean</th>\n",
       "      <td>18.164829</td>\n",
       "    </tr>\n",
       "    <tr>\n",
       "      <th>std</th>\n",
       "      <td>7.056004</td>\n",
       "    </tr>\n",
       "    <tr>\n",
       "      <th>min</th>\n",
       "      <td>0.223440</td>\n",
       "    </tr>\n",
       "    <tr>\n",
       "      <th>25%</th>\n",
       "      <td>13.097196</td>\n",
       "    </tr>\n",
       "    <tr>\n",
       "      <th>50%</th>\n",
       "      <td>16.546537</td>\n",
       "    </tr>\n",
       "    <tr>\n",
       "      <th>75%</th>\n",
       "      <td>22.799049</td>\n",
       "    </tr>\n",
       "    <tr>\n",
       "      <th>max</th>\n",
       "      <td>42.291370</td>\n",
       "    </tr>\n",
       "  </tbody>\n",
       "</table>\n",
       "</div>"
      ],
      "text/plain": [
       "      throughput_pred\n",
       "mean        18.164829\n",
       "std          7.056004\n",
       "min          0.223440\n",
       "25%         13.097196\n",
       "50%         16.546537\n",
       "75%         22.799049\n",
       "max         42.291370"
      ]
     },
     "execution_count": 19,
     "metadata": {},
     "output_type": "execute_result"
    }
   ],
   "source": [
    "y_pred_df = pd.DataFrame(y_pred, columns=['throughput_pred'])\n",
    "y_pred_df.describe().drop('count')\n",
    "# no negative predictions"
   ]
  },
  {
   "cell_type": "code",
   "execution_count": 20,
   "metadata": {},
   "outputs": [
    {
     "data": {
      "text/plain": [
       "<AxesSubplot:ylabel='Count'>"
      ]
     },
     "execution_count": 20,
     "metadata": {},
     "output_type": "execute_result"
    },
    {
     "data": {
      "image/png": "[encoded data removed]",
      "text/plain": [
       "<Figure size 432x288 with 1 Axes>"
      ]
     },
     "metadata": {
      "needs_background": "light"
     },
     "output_type": "display_data"
    }
   ],
   "source": [
    "sns.histplot(y_pred,bins=40,kde=True)\n",
    "# the distribution better reflects the true distribution of the data set"
   ]
  },
  {
   "cell_type": "code",
   "execution_count": 21,
   "metadata": {},
   "outputs": [
    {
     "data": {
      "text/plain": [
       "<matplotlib.legend.Legend at 0x7fab169b2a90>"
      ]
     },
     "execution_count": 21,
     "metadata": {},
     "output_type": "execute_result"
    },
    {
     "data": {
      "image/png": "[encoded data removed]",
      "text/plain": [
       "<Figure size 432x288 with 1 Axes>"
      ]
     },
     "metadata": {
      "needs_background": "light"
     },
     "output_type": "display_data"
    }
   ],
   "source": [
    "fig,ax = plt.subplots()\n",
    "\n",
    "sns.kdeplot(y_test, ax=ax, shade=True, label='Observations')\n",
    "sns.kdeplot(y_pred, ax=ax,shade=True,label='Predictions')\n",
    "\n",
    "ax.legend(loc='best')"
   ]
  },
  {
   "cell_type": "code",
   "execution_count": 22,
   "metadata": {},
   "outputs": [
    {
     "data": {
      "text/plain": [
       "<matplotlib.legend.Legend at 0x7fab16af1760>"
      ]
     },
     "execution_count": 22,
     "metadata": {},
     "output_type": "execute_result"
    },
    {
     "data": {
      "image/png": "[encoded data removed]",
      "text/plain": [
       "<Figure size 432x288 with 1 Axes>"
      ]
     },
     "metadata": {
      "needs_background": "light"
     },
     "output_type": "display_data"
    }
   ],
   "source": [
    "fig,ax = plt.subplots()\n",
    "\n",
    "sns.ecdfplot(y_test, ax=ax, label='Observations')\n",
    "sns.ecdfplot(y_pred, ax=ax,label='Predictions')\n",
    "plt.axvline(x=y.mean(),color='grey',linestyle='--')\n",
    "\n",
    "ax.legend(loc='best')"
   ]
  },
  {
   "cell_type": "code",
   "execution_count": 23,
   "metadata": {},
   "outputs": [],
   "source": [
    "# y.describe().drop(['count'])"
   ]
  },
  {
   "cell_type": "code",
   "execution_count": 24,
   "metadata": {},
   "outputs": [
    {
     "data": {
      "text/plain": [
       "mean     0.278877\n",
       "std      5.666673\n",
       "min    -15.419281\n",
       "25%     -3.456941\n",
       "50%      0.311321\n",
       "75%      4.187008\n",
       "max     16.727716\n",
       "Name: throughput, dtype: float64"
      ]
     },
     "execution_count": 24,
     "metadata": {},
     "output_type": "execute_result"
    }
   ],
   "source": [
    "res = y_test - y_pred\n",
    "res.describe().drop('count')"
   ]
  },
  {
   "cell_type": "code",
   "execution_count": 25,
   "metadata": {},
   "outputs": [
    {
     "data": {
      "text/plain": [
       "<AxesSubplot:xlabel='throughput', ylabel='Count'>"
      ]
     },
     "execution_count": 25,
     "metadata": {},
     "output_type": "execute_result"
    },
    {
     "data": {
      "image/png": "[encoded data removed]",
      "text/plain": [
       "<Figure size 432x288 with 1 Axes>"
      ]
     },
     "metadata": {
      "needs_background": "light"
     },
     "output_type": "display_data"
    }
   ],
   "source": [
    "sns.histplot(data=res, kde=True,bins=40)"
   ]
  },
  {
   "cell_type": "code",
   "execution_count": 26,
   "metadata": {},
   "outputs": [
    {
     "data": {
      "text/plain": [
       "<matplotlib.lines.Line2D at 0x7fab16d581c0>"
      ]
     },
     "execution_count": 26,
     "metadata": {},
     "output_type": "execute_result"
    },
    {
     "data": {
      "image/png": "[encoded data removed]",
      "text/plain": [
       "<Figure size 432x288 with 1 Axes>"
      ]
     },
     "metadata": {
      "needs_background": "light"
     },
     "output_type": "display_data"
    }
   ],
   "source": [
    "ax = sns.scatterplot(x=y_test, y=res)\n",
    "ax.set(ylabel='Residuals', xlabel='Test Label')\n",
    "plt.axhline(y=0,color='red',linestyle='--')\n",
    "\n",
    "# there should be no clear pattern / curve in the plot\n",
    "# we see a positive correlation between Test Label and Residuals -> later models should avoid this pattern"
   ]
  },
  {
   "cell_type": "code",
   "execution_count": 27,
   "metadata": {},
   "outputs": [
    {
     "data": {
      "image/png": "[encoded data removed]",
      "text/plain": [
       "<Figure size 432x288 with 1 Axes>"
      ]
     },
     "metadata": {
      "needs_background": "light"
     },
     "output_type": "display_data"
    }
   ],
   "source": [
    "import scipy as sp\n",
    "\n",
    "fig, ax = plt.subplots()\n",
    "sp.stats.probplot(res,plot=ax);"
   ]
  },
  {
   "cell_type": "code",
   "execution_count": 28,
   "metadata": {},
   "outputs": [
    {
     "data": {
      "text/plain": [
       "PoissonRegressor()"
      ]
     },
     "execution_count": 28,
     "metadata": {},
     "output_type": "execute_result"
    }
   ],
   "source": [
    "# Scale the data\n",
    "from sklearn.preprocessing import StandardScaler\n",
    "scaler = StandardScaler()\n",
    "scaler.fit(X)\n",
    "\n",
    "X_poisson = scaler.transform(X)\n",
    "\n",
    "poisson_model = PoissonRegressor()\n",
    "poisson_model.fit(X_poisson,y)"
   ]
  },
  {
   "cell_type": "code",
   "execution_count": 29,
   "metadata": {},
   "outputs": [
    {
     "data": {
      "text/plain": [
       "array([ 0.01874152,  0.01237476, -0.004848  , -0.02588143,  0.00848569,\n",
       "        0.01517793, -0.0111622 ,  0.16503539,  0.03711252,  0.03293776,\n",
       "        0.01631444, -0.03875804,  0.2750015 , -0.08836026,  0.07249228,\n",
       "       -0.00063792,  0.01707851,  0.0082706 , -0.01298756, -0.01002745,\n",
       "       -0.01976441,  0.00037441, -0.01112303, -0.00585305, -0.01368685,\n",
       "       -0.00268133,  0.00104797,  0.011751  ,  0.00869633, -0.03095145,\n",
       "       -0.00372278,  0.00981883,  0.        ,  0.01539417,  0.00090907,\n",
       "        0.00139016,  0.01956457, -0.03904476, -0.02321979, -0.01847287,\n",
       "        0.00110459,  0.01798174,  0.00737518, -0.00669968,  0.00049988,\n",
       "       -0.01267556, -0.04763683,  0.007625  ,  0.01632639, -0.00927219,\n",
       "       -0.0553318 , -0.01236748, -0.0243245 ,  0.00223246, -0.0376079 ,\n",
       "        0.02537285,  0.01451152, -0.02354731, -0.01236954, -0.00091973,\n",
       "        0.00592592, -0.0097385 ,  0.03089199,  0.00083845,  0.        ,\n",
       "       -0.01613418,  0.02188786, -0.00051376,  0.01776686, -0.0118366 ,\n",
       "       -0.00406783, -0.01283647, -0.01173117,  0.01566132,  0.04122351,\n",
       "        0.00407133, -0.05832388, -0.06070165,  0.01181691, -0.01190608,\n",
       "       -0.01328413,  0.01274408, -0.00707211, -0.00561293,  0.00035216,\n",
       "       -0.02440869])"
      ]
     },
     "execution_count": 29,
     "metadata": {},
     "output_type": "execute_result"
    }
   ],
   "source": [
    "model.coef_"
   ]
  },
  {
   "cell_type": "code",
   "execution_count": 30,
   "metadata": {},
   "outputs": [],
   "source": [
    "# coef_df = pd.DataFrame(data=model.coef_,index=X.columns,columns=['beta'])\n",
    "# coef_df"
   ]
  },
  {
   "cell_type": "code",
   "execution_count": 31,
   "metadata": {},
   "outputs": [
    {
     "data": {
      "text/plain": [
       "array([ 1.53936279e-02,  1.12958381e-02, -1.00614598e-02, -1.37970731e-02,\n",
       "        8.84353982e-03,  1.49109145e-02, -1.59894584e-02,  1.64878779e-01,\n",
       "        3.84498798e-02,  4.13513613e-02,  9.74793728e-03, -4.29705599e-02,\n",
       "        2.80690642e-01, -9.65785444e-02,  7.90093963e-02, -1.10130742e-02,\n",
       "        1.77761774e-02,  5.01845153e-03, -6.46334701e-03, -8.37088115e-03,\n",
       "       -1.44501151e-02,  1.37843509e-03, -9.81760878e-03, -6.71734048e-03,\n",
       "        3.92766037e-05,  7.55050787e-03,  6.27213973e-03,  9.96863310e-03,\n",
       "        1.10721035e-02, -1.55531210e-02,  3.87204187e-03,  9.47350378e-03,\n",
       "       -1.34092234e-02,  1.24828469e-02, -3.61936153e-03,  4.78842492e-03,\n",
       "        2.13790415e-02, -3.44295394e-02, -4.23874886e-02, -2.40268703e-02,\n",
       "        9.82101636e-03,  1.44750710e-02,  8.00177654e-03, -3.31509083e-03,\n",
       "        5.17861430e-06, -9.99662330e-03, -3.90871729e-02,  1.46087533e-03,\n",
       "        1.69056846e-02, -8.98516888e-03, -5.04393921e-02, -9.73818051e-03,\n",
       "       -1.95585143e-02,  1.00583375e-03, -4.02170257e-02,  1.85809797e-02,\n",
       "        1.38697263e-02, -2.19986671e-02, -1.08968161e-02,  4.48536334e-03,\n",
       "        4.03555534e-03, -7.68956743e-03,  3.33443131e-02,  1.19535765e-03,\n",
       "       -5.81396243e-04, -1.16197910e-02,  2.22557532e-02,  2.75165258e-03,\n",
       "        1.87088648e-02, -1.77456114e-02,  2.36554950e-03, -9.37927978e-03,\n",
       "       -5.61386579e-03,  1.50802210e-02,  3.61022704e-02,  1.16405924e-02,\n",
       "       -5.75563499e-02, -6.57739594e-02,  5.46862085e-03, -2.25905908e-02,\n",
       "       -1.19479176e-02,  6.18482547e-03, -6.71186175e-03, -6.59791302e-03,\n",
       "        2.10966255e-03, -1.51532340e-02])"
      ]
     },
     "execution_count": 31,
     "metadata": {},
     "output_type": "execute_result"
    }
   ],
   "source": [
    "poisson_model.coef_"
   ]
  },
  {
   "cell_type": "code",
   "execution_count": 32,
   "metadata": {},
   "outputs": [],
   "source": [
    "# coef_df = pd.DataFrame(data=poisson_model.coef_,index=X.columns,columns=['beta'])\n",
    "# coef_df"
   ]
  },
  {
   "cell_type": "code",
   "execution_count": 33,
   "metadata": {},
   "outputs": [
    {
     "data": {
      "text/html": [
       "<div>\n",
       "<style scoped>\n",
       "    .dataframe tbody tr th:only-of-type {\n",
       "        vertical-align: middle;\n",
       "    }\n",
       "\n",
       "    .dataframe tbody tr th {\n",
       "        vertical-align: top;\n",
       "    }\n",
       "\n",
       "    .dataframe thead th {\n",
       "        text-align: right;\n",
       "    }\n",
       "</style>\n",
       "<table border=\"1\" class=\"dataframe\">\n",
       "  <thead>\n",
       "    <tr style=\"text-align: right;\">\n",
       "      <th></th>\n",
       "      <th>delta_beta</th>\n",
       "    </tr>\n",
       "  </thead>\n",
       "  <tbody>\n",
       "    <tr>\n",
       "      <th>distance</th>\n",
       "      <td>-0.003348</td>\n",
       "    </tr>\n",
       "    <tr>\n",
       "      <th>lat</th>\n",
       "      <td>-0.001079</td>\n",
       "    </tr>\n",
       "    <tr>\n",
       "      <th>lon</th>\n",
       "      <td>-0.005213</td>\n",
       "    </tr>\n",
       "    <tr>\n",
       "      <th>alt</th>\n",
       "      <td>0.012084</td>\n",
       "    </tr>\n",
       "    <tr>\n",
       "      <th>speed</th>\n",
       "      <td>0.000358</td>\n",
       "    </tr>\n",
       "    <tr>\n",
       "      <th>...</th>\n",
       "      <td>...</td>\n",
       "    </tr>\n",
       "    <tr>\n",
       "      <th>region_urban</th>\n",
       "      <td>-0.006559</td>\n",
       "    </tr>\n",
       "    <tr>\n",
       "      <th>weekday_Monday</th>\n",
       "      <td>0.000360</td>\n",
       "    </tr>\n",
       "    <tr>\n",
       "      <th>weekday_Thursday</th>\n",
       "      <td>-0.000985</td>\n",
       "    </tr>\n",
       "    <tr>\n",
       "      <th>weekday_Tuesday</th>\n",
       "      <td>0.001758</td>\n",
       "    </tr>\n",
       "    <tr>\n",
       "      <th>weekday_Wednesday</th>\n",
       "      <td>0.009255</td>\n",
       "    </tr>\n",
       "  </tbody>\n",
       "</table>\n",
       "<p>86 rows × 1 columns</p>\n",
       "</div>"
      ],
      "text/plain": [
       "                   delta_beta\n",
       "distance            -0.003348\n",
       "lat                 -0.001079\n",
       "lon                 -0.005213\n",
       "alt                  0.012084\n",
       "speed                0.000358\n",
       "...                       ...\n",
       "region_urban        -0.006559\n",
       "weekday_Monday       0.000360\n",
       "weekday_Thursday    -0.000985\n",
       "weekday_Tuesday      0.001758\n",
       "weekday_Wednesday    0.009255\n",
       "\n",
       "[86 rows x 1 columns]"
      ]
     },
     "execution_count": 33,
     "metadata": {},
     "output_type": "execute_result"
    }
   ],
   "source": [
    "delta_df = pd.DataFrame(data=poisson_model.coef_ - model.coef_,index=X.columns,columns=['delta_beta'])\n",
    "delta_df"
   ]
  },
  {
   "cell_type": "code",
   "execution_count": 34,
   "metadata": {},
   "outputs": [
    {
     "data": {
      "text/html": [
       "<div>\n",
       "<style scoped>\n",
       "    .dataframe tbody tr th:only-of-type {\n",
       "        vertical-align: middle;\n",
       "    }\n",
       "\n",
       "    .dataframe tbody tr th {\n",
       "        vertical-align: top;\n",
       "    }\n",
       "\n",
       "    .dataframe thead th {\n",
       "        text-align: right;\n",
       "    }\n",
       "</style>\n",
       "<table border=\"1\" class=\"dataframe\">\n",
       "  <thead>\n",
       "    <tr style=\"text-align: right;\">\n",
       "      <th></th>\n",
       "      <th>ci_27771905</th>\n",
       "      <th>ci_27770886</th>\n",
       "      <th>region_highway</th>\n",
       "      <th>hour</th>\n",
       "      <th>rtt</th>\n",
       "      <th>ci_28371202</th>\n",
       "      <th>cqi</th>\n",
       "      <th>region_urban</th>\n",
       "      <th>ci_33837570</th>\n",
       "      <th>ci_28367105</th>\n",
       "      <th>ci_30422273</th>\n",
       "      <th>ci_27771906</th>\n",
       "      <th>lon</th>\n",
       "      <th>ci_33527552</th>\n",
       "      <th>ci_33527561</th>\n",
       "      <th>dir</th>\n",
       "      <th>ci_27770889</th>\n",
       "      <th>ta</th>\n",
       "      <th>ci_27771908</th>\n",
       "      <th>distance</th>\n",
       "      <th>ci_26378498</th>\n",
       "      <th>ci_27770888</th>\n",
       "      <th>ci_28371201</th>\n",
       "      <th>ci_29401601</th>\n",
       "      <th>ci_27256324</th>\n",
       "      <th>ci_28371200</th>\n",
       "      <th>lat</th>\n",
       "      <th>weekday_Thursday</th>\n",
       "      <th>ci_26385410</th>\n",
       "      <th>ci_29391104</th>\n",
       "      <th>ci_29568770</th>\n",
       "      <th>ci_33519104</th>\n",
       "      <th>ci_28365057</th>\n",
       "      <th>ci_27770885</th>\n",
       "      <th>acc</th>\n",
       "      <th>rsrp</th>\n",
       "      <th>ci_28368384</th>\n",
       "      <th>ci_29568769</th>\n",
       "      <th>speed</th>\n",
       "      <th>weekday_Monday</th>\n",
       "      <th>ci_29913344</th>\n",
       "      <th>ci_28367106</th>\n",
       "      <th>ci_27771909</th>\n",
       "      <th>ci_26378497</th>\n",
       "      <th>ci_33527559</th>\n",
       "      <th>ci_29913346</th>\n",
       "      <th>ci_26385408</th>\n",
       "      <th>ci_26385409</th>\n",
       "      <th>region_suburban</th>\n",
       "      <th>rsrq</th>\n",
       "      <th>ci_29391106</th>\n",
       "      <th>ci_29391105</th>\n",
       "      <th>ci_26378755</th>\n",
       "      <th>weekday_Tuesday</th>\n",
       "      <th>ci_27771140</th>\n",
       "      <th>ci_29563904</th>\n",
       "      <th>ci_27256325</th>\n",
       "      <th>ci_29568768</th>\n",
       "      <th>ci_28368642</th>\n",
       "      <th>ci_28365058</th>\n",
       "      <th>ci_29913345</th>\n",
       "      <th>ci_28365056</th>\n",
       "      <th>ci_27771139</th>\n",
       "      <th>ci_31263232</th>\n",
       "      <th>ci_29908736</th>\n",
       "      <th>ci_27771904</th>\n",
       "      <th>ci_28368651</th>\n",
       "      <th>ci_28368386</th>\n",
       "      <th>ci_27029251</th>\n",
       "      <th>ci_26379013</th>\n",
       "      <th>ci_29398276</th>\n",
       "      <th>payload</th>\n",
       "      <th>ci_31281409</th>\n",
       "      <th>ci_30492930</th>\n",
       "      <th>txPower</th>\n",
       "      <th>ci_26378754</th>\n",
       "      <th>ci_33527554</th>\n",
       "      <th>ci_27770883</th>\n",
       "      <th>sinr</th>\n",
       "      <th>ci_28365063</th>\n",
       "      <th>ci_27771907</th>\n",
       "      <th>weekday_Wednesday</th>\n",
       "      <th>ci_26796291</th>\n",
       "      <th>alt</th>\n",
       "      <th>ci_26796290</th>\n",
       "      <th>ci_27299332</th>\n",
       "    </tr>\n",
       "  </thead>\n",
       "  <tbody>\n",
       "    <tr>\n",
       "      <th>delta_beta</th>\n",
       "      <td>-0.019168</td>\n",
       "      <td>-0.013409</td>\n",
       "      <td>-0.010685</td>\n",
       "      <td>-0.010375</td>\n",
       "      <td>-0.008218</td>\n",
       "      <td>-0.006792</td>\n",
       "      <td>-0.006567</td>\n",
       "      <td>-0.006559</td>\n",
       "      <td>-0.006348</td>\n",
       "      <td>-0.006164</td>\n",
       "      <td>-0.005909</td>\n",
       "      <td>-0.005554</td>\n",
       "      <td>-0.005213</td>\n",
       "      <td>-0.005121</td>\n",
       "      <td>-0.005072</td>\n",
       "      <td>-0.004827</td>\n",
       "      <td>-0.004528</td>\n",
       "      <td>-0.004213</td>\n",
       "      <td>-0.003507</td>\n",
       "      <td>-0.003348</td>\n",
       "      <td>-0.003252</td>\n",
       "      <td>-0.002911</td>\n",
       "      <td>-0.002609</td>\n",
       "      <td>-0.00189</td>\n",
       "      <td>-0.001782</td>\n",
       "      <td>-0.001227</td>\n",
       "      <td>-0.001079</td>\n",
       "      <td>-0.000985</td>\n",
       "      <td>-0.000864</td>\n",
       "      <td>-0.000642</td>\n",
       "      <td>-0.000581</td>\n",
       "      <td>-0.000581</td>\n",
       "      <td>-0.000495</td>\n",
       "      <td>-0.000345</td>\n",
       "      <td>-0.000267</td>\n",
       "      <td>-0.000157</td>\n",
       "      <td>0.000287</td>\n",
       "      <td>0.000357</td>\n",
       "      <td>0.000358</td>\n",
       "      <td>0.00036</td>\n",
       "      <td>0.000368</td>\n",
       "      <td>0.000579</td>\n",
       "      <td>0.000627</td>\n",
       "      <td>0.000698</td>\n",
       "      <td>0.000768</td>\n",
       "      <td>0.000942</td>\n",
       "      <td>0.001004</td>\n",
       "      <td>0.001305</td>\n",
       "      <td>0.001336</td>\n",
       "      <td>0.001337</td>\n",
       "      <td>0.001473</td>\n",
       "      <td>0.001549</td>\n",
       "      <td>0.001657</td>\n",
       "      <td>0.001758</td>\n",
       "      <td>0.001814</td>\n",
       "      <td>0.002049</td>\n",
       "      <td>0.002376</td>\n",
       "      <td>0.002452</td>\n",
       "      <td>0.002629</td>\n",
       "      <td>0.002679</td>\n",
       "      <td>0.003265</td>\n",
       "      <td>0.003385</td>\n",
       "      <td>0.003398</td>\n",
       "      <td>0.003457</td>\n",
       "      <td>0.004514</td>\n",
       "      <td>0.004615</td>\n",
       "      <td>0.004766</td>\n",
       "      <td>0.004892</td>\n",
       "      <td>0.005224</td>\n",
       "      <td>0.005314</td>\n",
       "      <td>0.005405</td>\n",
       "      <td>0.005689</td>\n",
       "      <td>0.006117</td>\n",
       "      <td>0.006433</td>\n",
       "      <td>0.006517</td>\n",
       "      <td>0.006524</td>\n",
       "      <td>0.007569</td>\n",
       "      <td>0.007595</td>\n",
       "      <td>0.008414</td>\n",
       "      <td>0.00855</td>\n",
       "      <td>0.008716</td>\n",
       "      <td>0.009255</td>\n",
       "      <td>0.010232</td>\n",
       "      <td>0.012084</td>\n",
       "      <td>0.013726</td>\n",
       "      <td>0.015398</td>\n",
       "    </tr>\n",
       "  </tbody>\n",
       "</table>\n",
       "</div>"
      ],
      "text/plain": [
       "            ci_27771905  ci_27770886  region_highway      hour       rtt  \\\n",
       "delta_beta    -0.019168    -0.013409       -0.010685 -0.010375 -0.008218   \n",
       "\n",
       "            ci_28371202       cqi  region_urban  ci_33837570  ci_28367105  \\\n",
       "delta_beta    -0.006792 -0.006567     -0.006559    -0.006348    -0.006164   \n",
       "\n",
       "            ci_30422273  ci_27771906       lon  ci_33527552  ci_33527561  \\\n",
       "delta_beta    -0.005909    -0.005554 -0.005213    -0.005121    -0.005072   \n",
       "\n",
       "                 dir  ci_27770889        ta  ci_27771908  distance  \\\n",
       "delta_beta -0.004827    -0.004528 -0.004213    -0.003507 -0.003348   \n",
       "\n",
       "            ci_26378498  ci_27770888  ci_28371201  ci_29401601  ci_27256324  \\\n",
       "delta_beta    -0.003252    -0.002911    -0.002609     -0.00189    -0.001782   \n",
       "\n",
       "            ci_28371200       lat  weekday_Thursday  ci_26385410  ci_29391104  \\\n",
       "delta_beta    -0.001227 -0.001079         -0.000985    -0.000864    -0.000642   \n",
       "\n",
       "            ci_29568770  ci_33519104  ci_28365057  ci_27770885       acc  \\\n",
       "delta_beta    -0.000581    -0.000581    -0.000495    -0.000345 -0.000267   \n",
       "\n",
       "                rsrp  ci_28368384  ci_29568769     speed  weekday_Monday  \\\n",
       "delta_beta -0.000157     0.000287     0.000357  0.000358         0.00036   \n",
       "\n",
       "            ci_29913344  ci_28367106  ci_27771909  ci_26378497  ci_33527559  \\\n",
       "delta_beta     0.000368     0.000579     0.000627     0.000698     0.000768   \n",
       "\n",
       "            ci_29913346  ci_26385408  ci_26385409  region_suburban      rsrq  \\\n",
       "delta_beta     0.000942     0.001004     0.001305         0.001336  0.001337   \n",
       "\n",
       "            ci_29391106  ci_29391105  ci_26378755  weekday_Tuesday  \\\n",
       "delta_beta     0.001473     0.001549     0.001657         0.001758   \n",
       "\n",
       "            ci_27771140  ci_29563904  ci_27256325  ci_29568768  ci_28368642  \\\n",
       "delta_beta     0.001814     0.002049     0.002376     0.002452     0.002629   \n",
       "\n",
       "            ci_28365058  ci_29913345  ci_28365056  ci_27771139  ci_31263232  \\\n",
       "delta_beta     0.002679     0.003265     0.003385     0.003398     0.003457   \n",
       "\n",
       "            ci_29908736  ci_27771904  ci_28368651  ci_28368386  ci_27029251  \\\n",
       "delta_beta     0.004514     0.004615     0.004766     0.004892     0.005224   \n",
       "\n",
       "            ci_26379013  ci_29398276   payload  ci_31281409  ci_30492930  \\\n",
       "delta_beta     0.005314     0.005405  0.005689     0.006117     0.006433   \n",
       "\n",
       "             txPower  ci_26378754  ci_33527554  ci_27770883      sinr  \\\n",
       "delta_beta  0.006517     0.006524     0.007569     0.007595  0.008414   \n",
       "\n",
       "            ci_28365063  ci_27771907  weekday_Wednesday  ci_26796291  \\\n",
       "delta_beta      0.00855     0.008716           0.009255     0.010232   \n",
       "\n",
       "                 alt  ci_26796290  ci_27299332  \n",
       "delta_beta  0.012084     0.013726     0.015398  "
      ]
     },
     "execution_count": 34,
     "metadata": {},
     "output_type": "execute_result"
    }
   ],
   "source": [
    "pd.set_option('display.max_columns',None)\n",
    "delta_df.sort_values('delta_beta').sort_values('delta_beta').transpose()"
   ]
  },
  {
   "cell_type": "code",
   "execution_count": 35,
   "metadata": {},
   "outputs": [
    {
     "data": {
      "text/plain": [
       "<AxesSubplot:ylabel='Count'>"
      ]
     },
     "execution_count": 35,
     "metadata": {},
     "output_type": "execute_result"
    },
    {
     "data": {
      "image/png": "[encoded data removed]",
      "text/plain": [
       "<Figure size 432x288 with 1 Axes>"
      ]
     },
     "metadata": {
      "needs_background": "light"
     },
     "output_type": "display_data"
    }
   ],
   "source": [
    "sns.histplot(data=delta_df,bins=40,kde=True)"
   ]
  },
  {
   "cell_type": "code",
   "execution_count": 36,
   "metadata": {},
   "outputs": [],
   "source": [
    "y_pred_poisson = poisson_model.predict(X_poisson)"
   ]
  },
  {
   "cell_type": "code",
   "execution_count": 37,
   "metadata": {},
   "outputs": [
    {
     "data": {
      "text/plain": [
       "<AxesSubplot:ylabel='Count'>"
      ]
     },
     "execution_count": 37,
     "metadata": {},
     "output_type": "execute_result"
    },
    {
     "data": {
      "image/png": "[encoded data removed]",
      "text/plain": [
       "<Figure size 432x288 with 1 Axes>"
      ]
     },
     "metadata": {
      "needs_background": "light"
     },
     "output_type": "display_data"
    }
   ],
   "source": [
    "sns.histplot(y_pred_poisson,bins=40,kde=True)"
   ]
  },
  {
   "cell_type": "code",
   "execution_count": 38,
   "metadata": {},
   "outputs": [
    {
     "data": {
      "text/plain": [
       "<matplotlib.legend.Legend at 0x7fab174740d0>"
      ]
     },
     "execution_count": 38,
     "metadata": {},
     "output_type": "execute_result"
    },
    {
     "data": {
      "image/png": "[encoded data removed]",
      "text/plain": [
       "<Figure size 432x288 with 1 Axes>"
      ]
     },
     "metadata": {
      "needs_background": "light"
     },
     "output_type": "display_data"
    }
   ],
   "source": [
    "fig,ax = plt.subplots()\n",
    "\n",
    "sns.kdeplot(y, ax=ax, shade=True, label='Observations')\n",
    "sns.kdeplot(y_pred_poisson, ax=ax,shade=True,label='Predictions')\n",
    "\n",
    "ax.legend(loc='best')"
   ]
  },
  {
   "cell_type": "code",
   "execution_count": 39,
   "metadata": {},
   "outputs": [
    {
     "data": {
      "text/plain": [
       "<matplotlib.legend.Legend at 0x7fab175f2940>"
      ]
     },
     "execution_count": 39,
     "metadata": {},
     "output_type": "execute_result"
    },
    {
     "data": {
      "image/png": "[encoded data removed]",
      "text/plain": [
       "<Figure size 432x288 with 1 Axes>"
      ]
     },
     "metadata": {
      "needs_background": "light"
     },
     "output_type": "display_data"
    }
   ],
   "source": [
    "fig,ax = plt.subplots()\n",
    "\n",
    "sns.ecdfplot(y, ax=ax, label='Observations')\n",
    "sns.ecdfplot(y_pred_poisson, ax=ax,label='Predictions')\n",
    "plt.axvline(x=y.mean(),color='grey',linestyle='--')\n",
    "\n",
    "ax.legend(loc='best')"
   ]
  },
  {
   "cell_type": "code",
   "execution_count": 40,
   "metadata": {},
   "outputs": [],
   "source": [
    "mae = mean_absolute_error(y,y_pred_poisson)\n",
    "mse = mean_squared_error(y,y_pred_poisson)\n",
    "rmse = np.sqrt(mse)"
   ]
  },
  {
   "cell_type": "code",
   "execution_count": 41,
   "metadata": {},
   "outputs": [
    {
     "data": {
      "text/html": [
       "<div>\n",
       "<style scoped>\n",
       "    .dataframe tbody tr th:only-of-type {\n",
       "        vertical-align: middle;\n",
       "    }\n",
       "\n",
       "    .dataframe tbody tr th {\n",
       "        vertical-align: top;\n",
       "    }\n",
       "\n",
       "    .dataframe thead th {\n",
       "        text-align: right;\n",
       "    }\n",
       "</style>\n",
       "<table border=\"1\" class=\"dataframe\">\n",
       "  <thead>\n",
       "    <tr style=\"text-align: right;\">\n",
       "      <th></th>\n",
       "      <th>PR</th>\n",
       "    </tr>\n",
       "  </thead>\n",
       "  <tbody>\n",
       "    <tr>\n",
       "      <th>MAE</th>\n",
       "      <td>4.414181</td>\n",
       "    </tr>\n",
       "    <tr>\n",
       "      <th>MSE</th>\n",
       "      <td>29.744203</td>\n",
       "    </tr>\n",
       "    <tr>\n",
       "      <th>RMSE</th>\n",
       "      <td>5.453825</td>\n",
       "    </tr>\n",
       "  </tbody>\n",
       "</table>\n",
       "</div>"
      ],
      "text/plain": [
       "             PR\n",
       "MAE    4.414181\n",
       "MSE   29.744203\n",
       "RMSE   5.453825"
      ]
     },
     "execution_count": 41,
     "metadata": {},
     "output_type": "execute_result"
    }
   ],
   "source": [
    "err_df = pd.DataFrame(data=[mae, mse, rmse],index=['MAE','MSE','RMSE'],columns=['PR'])\n",
    "err_df"
   ]
  },
  {
   "cell_type": "code",
   "execution_count": 42,
   "metadata": {},
   "outputs": [],
   "source": [
    "# err_df.to_csv('./model-err/poi-model-err.csv')"
   ]
  },
  {
   "cell_type": "code",
   "execution_count": 43,
   "metadata": {},
   "outputs": [
    {
     "data": {
      "text/plain": [
       "['./baseline-models/poi-baseline-wo.joblib']"
      ]
     },
     "execution_count": 43,
     "metadata": {},
     "output_type": "execute_result"
    }
   ],
   "source": [
    "from joblib import dump, load\n",
    "dump(poisson_model, f'./baseline-models/{model_name}.joblib')"
   ]
  },
  {
   "cell_type": "markdown",
   "metadata": {},
   "source": [
    "DONE!"
   ]
  },
  {
   "cell_type": "code",
   "execution_count": null,
   "metadata": {},
   "outputs": [],
   "source": []
  }
 ],
 "metadata": {
  "kernelspec": {
   "display_name": "Python 3",
   "language": "python",
   "name": "python3"
  },
  "language_info": {
   "codemirror_mode": {
    "name": "ipython",
    "version": 3
   },
   "file_extension": ".py",
   "mimetype": "text/x-python",
   "name": "python",
   "nbconvert_exporter": "python",
   "pygments_lexer": "ipython3",
   "version": "3.8.6"
  }
 },
 "nbformat": 4,
 "nbformat_minor": 4
}
