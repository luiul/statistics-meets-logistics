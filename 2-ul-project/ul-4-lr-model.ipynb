{
 "cells": [
  {
   "cell_type": "code",
   "execution_count": 1,
   "metadata": {},
   "outputs": [],
   "source": [
    "import numpy as np\n",
    "import pandas as pd\n",
    "import matplotlib.pyplot as plt\n",
    "import seaborn as sns"
   ]
  },
  {
   "cell_type": "code",
   "execution_count": 2,
   "metadata": {},
   "outputs": [],
   "source": [
    "pd.set_option('display.max_columns',None)"
   ]
  },
  {
   "cell_type": "code",
   "execution_count": 3,
   "metadata": {},
   "outputs": [],
   "source": [
    "df = pd.read_csv('./data/ul-pfe-ns.csv')"
   ]
  },
  {
   "cell_type": "code",
   "execution_count": 4,
   "metadata": {},
   "outputs": [],
   "source": [
    "# df.columns"
   ]
  },
  {
   "cell_type": "code",
   "execution_count": 5,
   "metadata": {},
   "outputs": [],
   "source": [
    "# df.head()"
   ]
  },
  {
   "cell_type": "code",
   "execution_count": 6,
   "metadata": {},
   "outputs": [
    {
     "data": {
      "text/plain": [
       "(1972, 80)"
      ]
     },
     "execution_count": 6,
     "metadata": {},
     "output_type": "execute_result"
    }
   ],
   "source": [
    "df.shape"
   ]
  },
  {
   "cell_type": "code",
   "execution_count": 7,
   "metadata": {},
   "outputs": [],
   "source": [
    "# df.info()"
   ]
  },
  {
   "cell_type": "code",
   "execution_count": 8,
   "metadata": {},
   "outputs": [],
   "source": [
    "X = df.drop('throughput',axis=1)"
   ]
  },
  {
   "cell_type": "code",
   "execution_count": 9,
   "metadata": {},
   "outputs": [
    {
     "data": {
      "text/plain": [
       "(1972, 79)"
      ]
     },
     "execution_count": 9,
     "metadata": {},
     "output_type": "execute_result"
    }
   ],
   "source": [
    "X.shape"
   ]
  },
  {
   "cell_type": "code",
   "execution_count": 10,
   "metadata": {},
   "outputs": [],
   "source": [
    "y = df['throughput']"
   ]
  },
  {
   "cell_type": "code",
   "execution_count": 11,
   "metadata": {},
   "outputs": [
    {
     "data": {
      "text/plain": [
       "(1972,)"
      ]
     },
     "execution_count": 11,
     "metadata": {},
     "output_type": "execute_result"
    }
   ],
   "source": [
    "y.shape"
   ]
  },
  {
   "cell_type": "code",
   "execution_count": 12,
   "metadata": {},
   "outputs": [],
   "source": [
    "# Split the data\n",
    "from sklearn.model_selection import train_test_split\n",
    "X_train, X_test, y_train, y_test = train_test_split(X, y, test_size=0.33, random_state=42)\n",
    "\n",
    "# Scale the data\n",
    "from sklearn.preprocessing import StandardScaler\n",
    "scaler = StandardScaler()\n",
    "scaler.fit(X_train)\n",
    "\n",
    "X_train = scaler.transform(X_train)\n",
    "X_test = scaler.transform(X_test)\n",
    "\n",
    "# Instantiate & fit model\n",
    "from sklearn.linear_model import LinearRegression\n",
    "model = LinearRegression()\n",
    "model.fit(X_train, y_train)\n",
    "\n",
    "# Predictions\n",
    "y_pred = model.predict(X_test)\n",
    "\n",
    "# Err stats\n",
    "from sklearn.metrics import mean_absolute_error, mean_squared_error\n",
    "\n",
    "mae = mean_absolute_error(y_test,y_pred)\n",
    "mse = mean_squared_error(y_test,y_pred)\n",
    "rmse = np.sqrt(mse)"
   ]
  },
  {
   "cell_type": "code",
   "execution_count": 13,
   "metadata": {},
   "outputs": [
    {
     "data": {
      "text/plain": [
       "4.46514859175413"
      ]
     },
     "execution_count": 13,
     "metadata": {},
     "output_type": "execute_result"
    }
   ],
   "source": [
    "mae"
   ]
  },
  {
   "cell_type": "code",
   "execution_count": 14,
   "metadata": {},
   "outputs": [
    {
     "data": {
      "text/plain": [
       "31.00499472886566"
      ]
     },
     "execution_count": 14,
     "metadata": {},
     "output_type": "execute_result"
    }
   ],
   "source": [
    "mse"
   ]
  },
  {
   "cell_type": "code",
   "execution_count": 15,
   "metadata": {},
   "outputs": [
    {
     "data": {
      "text/plain": [
       "5.568212884657488"
      ]
     },
     "execution_count": 15,
     "metadata": {},
     "output_type": "execute_result"
    }
   ],
   "source": [
    "rmse"
   ]
  },
  {
   "cell_type": "code",
   "execution_count": 16,
   "metadata": {},
   "outputs": [
    {
     "data": {
      "text/html": [
       "<div>\n",
       "<style scoped>\n",
       "    .dataframe tbody tr th:only-of-type {\n",
       "        vertical-align: middle;\n",
       "    }\n",
       "\n",
       "    .dataframe tbody tr th {\n",
       "        vertical-align: top;\n",
       "    }\n",
       "\n",
       "    .dataframe thead th {\n",
       "        text-align: right;\n",
       "    }\n",
       "</style>\n",
       "<table border=\"1\" class=\"dataframe\">\n",
       "  <thead>\n",
       "    <tr style=\"text-align: right;\">\n",
       "      <th></th>\n",
       "      <th>LR</th>\n",
       "    </tr>\n",
       "  </thead>\n",
       "  <tbody>\n",
       "    <tr>\n",
       "      <th>MAE</th>\n",
       "      <td>4.465149</td>\n",
       "    </tr>\n",
       "    <tr>\n",
       "      <th>MSE</th>\n",
       "      <td>31.004995</td>\n",
       "    </tr>\n",
       "    <tr>\n",
       "      <th>RMSE</th>\n",
       "      <td>5.568213</td>\n",
       "    </tr>\n",
       "  </tbody>\n",
       "</table>\n",
       "</div>"
      ],
      "text/plain": [
       "             LR\n",
       "MAE    4.465149\n",
       "MSE   31.004995\n",
       "RMSE   5.568213"
      ]
     },
     "execution_count": 16,
     "metadata": {},
     "output_type": "execute_result"
    }
   ],
   "source": [
    "err_df = pd.DataFrame(data=[mae, mse, rmse],index=['MAE','MSE','RMSE'],columns=['LR'])\n",
    "err_df"
   ]
  },
  {
   "cell_type": "code",
   "execution_count": 17,
   "metadata": {},
   "outputs": [],
   "source": [
    "err_df.to_csv('./test-err/lin-test-err.csv')"
   ]
  },
  {
   "cell_type": "code",
   "execution_count": 18,
   "metadata": {},
   "outputs": [
    {
     "data": {
      "text/html": [
       "<div>\n",
       "<style scoped>\n",
       "    .dataframe tbody tr th:only-of-type {\n",
       "        vertical-align: middle;\n",
       "    }\n",
       "\n",
       "    .dataframe tbody tr th {\n",
       "        vertical-align: top;\n",
       "    }\n",
       "\n",
       "    .dataframe thead th {\n",
       "        text-align: right;\n",
       "    }\n",
       "</style>\n",
       "<table border=\"1\" class=\"dataframe\">\n",
       "  <thead>\n",
       "    <tr style=\"text-align: right;\">\n",
       "      <th></th>\n",
       "      <th>throughput_pred</th>\n",
       "    </tr>\n",
       "  </thead>\n",
       "  <tbody>\n",
       "    <tr>\n",
       "      <th>mean</th>\n",
       "      <td>18.443633</td>\n",
       "    </tr>\n",
       "    <tr>\n",
       "      <th>std</th>\n",
       "      <td>7.148731</td>\n",
       "    </tr>\n",
       "    <tr>\n",
       "      <th>min</th>\n",
       "      <td>-1.469804</td>\n",
       "    </tr>\n",
       "    <tr>\n",
       "      <th>25%</th>\n",
       "      <td>13.251306</td>\n",
       "    </tr>\n",
       "    <tr>\n",
       "      <th>50%</th>\n",
       "      <td>17.976322</td>\n",
       "    </tr>\n",
       "    <tr>\n",
       "      <th>75%</th>\n",
       "      <td>23.914206</td>\n",
       "    </tr>\n",
       "    <tr>\n",
       "      <th>max</th>\n",
       "      <td>35.412176</td>\n",
       "    </tr>\n",
       "  </tbody>\n",
       "</table>\n",
       "</div>"
      ],
      "text/plain": [
       "      throughput_pred\n",
       "mean        18.443633\n",
       "std          7.148731\n",
       "min         -1.469804\n",
       "25%         13.251306\n",
       "50%         17.976322\n",
       "75%         23.914206\n",
       "max         35.412176"
      ]
     },
     "execution_count": 18,
     "metadata": {},
     "output_type": "execute_result"
    }
   ],
   "source": [
    "y_pred_df = pd.DataFrame(y_pred, columns=['throughput_pred'])\n",
    "y_pred_df.describe().drop('count')\n",
    "# negative predictions are outside the range! "
   ]
  },
  {
   "cell_type": "code",
   "execution_count": 19,
   "metadata": {},
   "outputs": [
    {
     "data": {
      "text/plain": [
       "array([-1.46980358])"
      ]
     },
     "execution_count": 19,
     "metadata": {},
     "output_type": "execute_result"
    }
   ],
   "source": [
    "y_pred[y_pred < 0]\n",
    "# model generates four negative predictions -> make predicition in two steps: (1) generate prediction with the model (2) set negative values to zero"
   ]
  },
  {
   "cell_type": "code",
   "execution_count": 20,
   "metadata": {},
   "outputs": [
    {
     "data": {
      "text/plain": [
       "0.15360983102918588"
      ]
     },
     "execution_count": 20,
     "metadata": {},
     "output_type": "execute_result"
    }
   ],
   "source": [
    "len(y_pred[y_pred < 0])/len(y_pred_df)*100"
   ]
  },
  {
   "cell_type": "code",
   "execution_count": 21,
   "metadata": {},
   "outputs": [
    {
     "data": {
      "text/plain": [
       "<AxesSubplot:ylabel='Count'>"
      ]
     },
     "execution_count": 21,
     "metadata": {},
     "output_type": "execute_result"
    },
    {
     "data": {
      "image/png": "[encoded data removed]",
      "text/plain": [
       "<Figure size 432x288 with 1 Axes>"
      ]
     },
     "metadata": {
      "needs_background": "light"
     },
     "output_type": "display_data"
    }
   ],
   "source": [
    "sns.histplot(y_pred,bins=40,kde=True)\n",
    "# the predictions are distributed normally, although we noted at the beginning of the project that the throughput is not distributed normally but rather exponentially"
   ]
  },
  {
   "cell_type": "code",
   "execution_count": 22,
   "metadata": {},
   "outputs": [],
   "source": [
    "# y.describe().drop(['count'])"
   ]
  },
  {
   "cell_type": "code",
   "execution_count": 23,
   "metadata": {},
   "outputs": [
    {
     "data": {
      "text/plain": [
       "mean    -0.277817\n",
       "std      5.565554\n",
       "min    -16.127050\n",
       "25%     -3.909834\n",
       "50%      0.122497\n",
       "75%      3.738599\n",
       "max     13.569418\n",
       "Name: throughput, dtype: float64"
      ]
     },
     "execution_count": 23,
     "metadata": {},
     "output_type": "execute_result"
    }
   ],
   "source": [
    "res = y_test - y_pred\n",
    "res.describe().drop('count')"
   ]
  },
  {
   "cell_type": "code",
   "execution_count": 24,
   "metadata": {},
   "outputs": [
    {
     "data": {
      "text/plain": [
       "<AxesSubplot:xlabel='throughput', ylabel='Count'>"
      ]
     },
     "execution_count": 24,
     "metadata": {},
     "output_type": "execute_result"
    },
    {
     "data": {
      "image/png": "[encoded data removed]",
      "text/plain": [
       "<Figure size 432x288 with 1 Axes>"
      ]
     },
     "metadata": {
      "needs_background": "light"
     },
     "output_type": "display_data"
    }
   ],
   "source": [
    "sns.histplot(data=res, kde=True,bins=40)"
   ]
  },
  {
   "cell_type": "code",
   "execution_count": 25,
   "metadata": {},
   "outputs": [
    {
     "data": {
      "text/plain": [
       "<matplotlib.lines.Line2D at 0x7fda916aa790>"
      ]
     },
     "execution_count": 25,
     "metadata": {},
     "output_type": "execute_result"
    },
    {
     "data": {
      "image/png": "[encoded data removed]",
      "text/plain": [
       "<Figure size 432x288 with 1 Axes>"
      ]
     },
     "metadata": {
      "needs_background": "light"
     },
     "output_type": "display_data"
    }
   ],
   "source": [
    "ax = sns.scatterplot(x=y_test, y=res)\n",
    "ax.set(ylabel='Residuals', xlabel='Test Label')\n",
    "plt.axhline(y=0,color='red',linestyle='--')\n",
    "\n",
    "# there should be no clear pattern / curve in the plot\n",
    "# we see a positive correlation between Test Label and Residuals -> later models should avoid this pattern"
   ]
  },
  {
   "cell_type": "code",
   "execution_count": 26,
   "metadata": {},
   "outputs": [
    {
     "data": {
      "image/png": "[encoded data removed]",
      "text/plain": [
       "<Figure size 432x288 with 1 Axes>"
      ]
     },
     "metadata": {
      "needs_background": "light"
     },
     "output_type": "display_data"
    }
   ],
   "source": [
    "import scipy as sp\n",
    "\n",
    "fig, ax = plt.subplots()\n",
    "sp.stats.probplot(res,plot=ax);"
   ]
  },
  {
   "cell_type": "code",
   "execution_count": 27,
   "metadata": {},
   "outputs": [
    {
     "data": {
      "text/plain": [
       "LinearRegression()"
      ]
     },
     "execution_count": 27,
     "metadata": {},
     "output_type": "execute_result"
    }
   ],
   "source": [
    "from sklearn.preprocessing import StandardScaler\n",
    "scaler = StandardScaler()\n",
    "scaler.fit(X)\n",
    "\n",
    "X_lin = scaler.transform(X)\n",
    "\n",
    "linear_model = LinearRegression()\n",
    "linear_model.fit(X_lin,y)"
   ]
  },
  {
   "cell_type": "code",
   "execution_count": 28,
   "metadata": {},
   "outputs": [],
   "source": [
    "# model.coef_"
   ]
  },
  {
   "cell_type": "code",
   "execution_count": 29,
   "metadata": {},
   "outputs": [],
   "source": [
    "# coef_df = pd.DataFrame(data=model.coef_,index=X.columns,columns=['beta'])\n",
    "# coef_df.sort_values('beta')"
   ]
  },
  {
   "cell_type": "code",
   "execution_count": 30,
   "metadata": {},
   "outputs": [],
   "source": [
    "# linear_model.coef_"
   ]
  },
  {
   "cell_type": "code",
   "execution_count": 31,
   "metadata": {},
   "outputs": [
    {
     "data": {
      "text/html": [
       "<div>\n",
       "<style scoped>\n",
       "    .dataframe tbody tr th:only-of-type {\n",
       "        vertical-align: middle;\n",
       "    }\n",
       "\n",
       "    .dataframe tbody tr th {\n",
       "        vertical-align: top;\n",
       "    }\n",
       "\n",
       "    .dataframe thead th {\n",
       "        text-align: right;\n",
       "    }\n",
       "</style>\n",
       "<table border=\"1\" class=\"dataframe\">\n",
       "  <thead>\n",
       "    <tr style=\"text-align: right;\">\n",
       "      <th></th>\n",
       "      <th>lon</th>\n",
       "      <th>ci_29391105</th>\n",
       "      <th>ta</th>\n",
       "      <th>alt</th>\n",
       "      <th>ci_26385410</th>\n",
       "      <th>hour</th>\n",
       "      <th>ci_28368386</th>\n",
       "      <th>ci_33527561</th>\n",
       "      <th>distance</th>\n",
       "      <th>ci_26385408</th>\n",
       "      <th>ci_29391106</th>\n",
       "      <th>ci_27771139</th>\n",
       "      <th>region_urban</th>\n",
       "      <th>dir</th>\n",
       "      <th>ci_33527559</th>\n",
       "      <th>ci_26385409</th>\n",
       "      <th>ci_28365058</th>\n",
       "      <th>ci_27771905</th>\n",
       "      <th>ci_27299332</th>\n",
       "      <th>rtt</th>\n",
       "      <th>ci_28365056</th>\n",
       "      <th>ci_26378755</th>\n",
       "      <th>ci_27771904</th>\n",
       "      <th>ci_28365057</th>\n",
       "      <th>ci_27771906</th>\n",
       "      <th>region_suburban</th>\n",
       "      <th>ci_26379013</th>\n",
       "      <th>ci_28371201</th>\n",
       "      <th>ci_26378754</th>\n",
       "      <th>ci_29391104</th>\n",
       "      <th>ci_27770883</th>\n",
       "      <th>ci_28367105</th>\n",
       "      <th>ci_29563904</th>\n",
       "      <th>ci_29398276</th>\n",
       "      <th>ci_26796290</th>\n",
       "      <th>ci_26796291</th>\n",
       "      <th>weekday_Wednesday</th>\n",
       "      <th>ci_27029251</th>\n",
       "      <th>ci_27770885</th>\n",
       "      <th>ci_27256325</th>\n",
       "      <th>ci_28368384</th>\n",
       "      <th>speed</th>\n",
       "      <th>weekday_Monday</th>\n",
       "      <th>ci_30422273</th>\n",
       "      <th>ci_33837570</th>\n",
       "      <th>ci_28367106</th>\n",
       "      <th>cqi</th>\n",
       "      <th>weekday_Thursday</th>\n",
       "      <th>weekday_Tuesday</th>\n",
       "      <th>ci_27771140</th>\n",
       "      <th>ci_29568769</th>\n",
       "      <th>ci_27256324</th>\n",
       "      <th>ci_33527554</th>\n",
       "      <th>ci_33519104</th>\n",
       "      <th>ci_27770888</th>\n",
       "      <th>ci_31281409</th>\n",
       "      <th>ci_30492930</th>\n",
       "      <th>acc</th>\n",
       "      <th>ci_26378498</th>\n",
       "      <th>ci_29401601</th>\n",
       "      <th>rsrq</th>\n",
       "      <th>ci_28371200</th>\n",
       "      <th>ci_31263232</th>\n",
       "      <th>sinr</th>\n",
       "      <th>region_highway</th>\n",
       "      <th>ci_27771909</th>\n",
       "      <th>ci_29913345</th>\n",
       "      <th>ci_27771908</th>\n",
       "      <th>ci_26378497</th>\n",
       "      <th>ci_29568768</th>\n",
       "      <th>ci_27771907</th>\n",
       "      <th>ci_29913344</th>\n",
       "      <th>ci_29913346</th>\n",
       "      <th>ci_28371202</th>\n",
       "      <th>ci_33527552</th>\n",
       "      <th>lat</th>\n",
       "      <th>txPower</th>\n",
       "      <th>rsrp</th>\n",
       "      <th>payload</th>\n",
       "    </tr>\n",
       "  </thead>\n",
       "  <tbody>\n",
       "    <tr>\n",
       "      <th>beta</th>\n",
       "      <td>-1.576253</td>\n",
       "      <td>-1.282878</td>\n",
       "      <td>-1.124107</td>\n",
       "      <td>-1.031171</td>\n",
       "      <td>-0.925096</td>\n",
       "      <td>-0.881384</td>\n",
       "      <td>-0.851871</td>\n",
       "      <td>-0.743425</td>\n",
       "      <td>-0.729474</td>\n",
       "      <td>-0.707955</td>\n",
       "      <td>-0.668906</td>\n",
       "      <td>-0.636503</td>\n",
       "      <td>-0.626271</td>\n",
       "      <td>-0.511138</td>\n",
       "      <td>-0.505518</td>\n",
       "      <td>-0.485149</td>\n",
       "      <td>-0.475943</td>\n",
       "      <td>-0.447802</td>\n",
       "      <td>-0.436378</td>\n",
       "      <td>-0.417554</td>\n",
       "      <td>-0.411205</td>\n",
       "      <td>-0.410051</td>\n",
       "      <td>-0.402986</td>\n",
       "      <td>-0.399391</td>\n",
       "      <td>-0.397924</td>\n",
       "      <td>-0.39008</td>\n",
       "      <td>-0.301999</td>\n",
       "      <td>-0.270315</td>\n",
       "      <td>-0.264861</td>\n",
       "      <td>-0.220774</td>\n",
       "      <td>-0.167889</td>\n",
       "      <td>-0.164308</td>\n",
       "      <td>-0.159637</td>\n",
       "      <td>-0.156469</td>\n",
       "      <td>-0.129394</td>\n",
       "      <td>-0.12836</td>\n",
       "      <td>-0.122889</td>\n",
       "      <td>-0.110869</td>\n",
       "      <td>-0.036554</td>\n",
       "      <td>-0.024338</td>\n",
       "      <td>-0.006298</td>\n",
       "      <td>0.01317</td>\n",
       "      <td>0.030053</td>\n",
       "      <td>0.030243</td>\n",
       "      <td>0.0396</td>\n",
       "      <td>0.047291</td>\n",
       "      <td>0.060764</td>\n",
       "      <td>0.062227</td>\n",
       "      <td>0.066872</td>\n",
       "      <td>0.075425</td>\n",
       "      <td>0.077723</td>\n",
       "      <td>0.147137</td>\n",
       "      <td>0.167066</td>\n",
       "      <td>0.175567</td>\n",
       "      <td>0.2655</td>\n",
       "      <td>0.295862</td>\n",
       "      <td>0.383999</td>\n",
       "      <td>0.400117</td>\n",
       "      <td>0.41206</td>\n",
       "      <td>0.445528</td>\n",
       "      <td>0.455594</td>\n",
       "      <td>0.491834</td>\n",
       "      <td>0.537869</td>\n",
       "      <td>0.562549</td>\n",
       "      <td>0.568727</td>\n",
       "      <td>0.578289</td>\n",
       "      <td>0.746826</td>\n",
       "      <td>0.751305</td>\n",
       "      <td>0.773719</td>\n",
       "      <td>0.895351</td>\n",
       "      <td>0.902959</td>\n",
       "      <td>0.919832</td>\n",
       "      <td>1.03887</td>\n",
       "      <td>1.124908</td>\n",
       "      <td>1.147276</td>\n",
       "      <td>1.821222</td>\n",
       "      <td>2.464557</td>\n",
       "      <td>4.280057</td>\n",
       "      <td>5.413262</td>\n",
       "    </tr>\n",
       "  </tbody>\n",
       "</table>\n",
       "</div>"
      ],
      "text/plain": [
       "           lon  ci_29391105        ta       alt  ci_26385410      hour  \\\n",
       "beta -1.576253    -1.282878 -1.124107 -1.031171    -0.925096 -0.881384   \n",
       "\n",
       "      ci_28368386  ci_33527561  distance  ci_26385408  ci_29391106  \\\n",
       "beta    -0.851871    -0.743425 -0.729474    -0.707955    -0.668906   \n",
       "\n",
       "      ci_27771139  region_urban       dir  ci_33527559  ci_26385409  \\\n",
       "beta    -0.636503     -0.626271 -0.511138    -0.505518    -0.485149   \n",
       "\n",
       "      ci_28365058  ci_27771905  ci_27299332       rtt  ci_28365056  \\\n",
       "beta    -0.475943    -0.447802    -0.436378 -0.417554    -0.411205   \n",
       "\n",
       "      ci_26378755  ci_27771904  ci_28365057  ci_27771906  region_suburban  \\\n",
       "beta    -0.410051    -0.402986    -0.399391    -0.397924         -0.39008   \n",
       "\n",
       "      ci_26379013  ci_28371201  ci_26378754  ci_29391104  ci_27770883  \\\n",
       "beta    -0.301999    -0.270315    -0.264861    -0.220774    -0.167889   \n",
       "\n",
       "      ci_28367105  ci_29563904  ci_29398276  ci_26796290  ci_26796291  \\\n",
       "beta    -0.164308    -0.159637    -0.156469    -0.129394     -0.12836   \n",
       "\n",
       "      weekday_Wednesday  ci_27029251  ci_27770885  ci_27256325  ci_28368384  \\\n",
       "beta          -0.122889    -0.110869    -0.036554    -0.024338    -0.006298   \n",
       "\n",
       "        speed  weekday_Monday  ci_30422273  ci_33837570  ci_28367106  \\\n",
       "beta  0.01317        0.030053     0.030243       0.0396     0.047291   \n",
       "\n",
       "           cqi  weekday_Thursday  weekday_Tuesday  ci_27771140  ci_29568769  \\\n",
       "beta  0.060764          0.062227         0.066872     0.075425     0.077723   \n",
       "\n",
       "      ci_27256324  ci_33527554  ci_33519104  ci_27770888  ci_31281409  \\\n",
       "beta     0.147137     0.167066     0.175567       0.2655     0.295862   \n",
       "\n",
       "      ci_30492930       acc  ci_26378498  ci_29401601      rsrq  ci_28371200  \\\n",
       "beta     0.383999  0.400117      0.41206     0.445528  0.455594     0.491834   \n",
       "\n",
       "      ci_31263232      sinr  region_highway  ci_27771909  ci_29913345  \\\n",
       "beta     0.537869  0.562549        0.568727     0.578289     0.746826   \n",
       "\n",
       "      ci_27771908  ci_26378497  ci_29568768  ci_27771907  ci_29913344  \\\n",
       "beta     0.751305     0.773719     0.895351     0.902959     0.919832   \n",
       "\n",
       "      ci_29913346  ci_28371202  ci_33527552       lat   txPower      rsrp  \\\n",
       "beta      1.03887     1.124908     1.147276  1.821222  2.464557  4.280057   \n",
       "\n",
       "       payload  \n",
       "beta  5.413262  "
      ]
     },
     "execution_count": 31,
     "metadata": {},
     "output_type": "execute_result"
    }
   ],
   "source": [
    "coef_df = pd.DataFrame(data=linear_model.coef_,index=X.columns,columns=['beta'])\n",
    "coef_df.sort_values('beta').transpose()"
   ]
  },
  {
   "cell_type": "code",
   "execution_count": 32,
   "metadata": {},
   "outputs": [
    {
     "data": {
      "text/html": [
       "<div>\n",
       "<style scoped>\n",
       "    .dataframe tbody tr th:only-of-type {\n",
       "        vertical-align: middle;\n",
       "    }\n",
       "\n",
       "    .dataframe tbody tr th {\n",
       "        vertical-align: top;\n",
       "    }\n",
       "\n",
       "    .dataframe thead th {\n",
       "        text-align: right;\n",
       "    }\n",
       "</style>\n",
       "<table border=\"1\" class=\"dataframe\">\n",
       "  <thead>\n",
       "    <tr style=\"text-align: right;\">\n",
       "      <th></th>\n",
       "      <th>beta</th>\n",
       "    </tr>\n",
       "  </thead>\n",
       "  <tbody>\n",
       "    <tr>\n",
       "      <th>count</th>\n",
       "      <td>79.000000</td>\n",
       "    </tr>\n",
       "    <tr>\n",
       "      <th>mean</th>\n",
       "      <td>0.113036</td>\n",
       "    </tr>\n",
       "    <tr>\n",
       "      <th>std</th>\n",
       "      <td>1.019782</td>\n",
       "    </tr>\n",
       "    <tr>\n",
       "      <th>min</th>\n",
       "      <td>-1.576253</td>\n",
       "    </tr>\n",
       "    <tr>\n",
       "      <th>25%</th>\n",
       "      <td>-0.414379</td>\n",
       "    </tr>\n",
       "    <tr>\n",
       "      <th>50%</th>\n",
       "      <td>-0.024338</td>\n",
       "    </tr>\n",
       "    <tr>\n",
       "      <th>75%</th>\n",
       "      <td>0.428794</td>\n",
       "    </tr>\n",
       "    <tr>\n",
       "      <th>max</th>\n",
       "      <td>5.413262</td>\n",
       "    </tr>\n",
       "  </tbody>\n",
       "</table>\n",
       "</div>"
      ],
      "text/plain": [
       "            beta\n",
       "count  79.000000\n",
       "mean    0.113036\n",
       "std     1.019782\n",
       "min    -1.576253\n",
       "25%    -0.414379\n",
       "50%    -0.024338\n",
       "75%     0.428794\n",
       "max     5.413262"
      ]
     },
     "execution_count": 32,
     "metadata": {},
     "output_type": "execute_result"
    }
   ],
   "source": [
    "coef_df.describe()"
   ]
  },
  {
   "cell_type": "code",
   "execution_count": 33,
   "metadata": {},
   "outputs": [
    {
     "data": {
      "text/html": [
       "<div>\n",
       "<style scoped>\n",
       "    .dataframe tbody tr th:only-of-type {\n",
       "        vertical-align: middle;\n",
       "    }\n",
       "\n",
       "    .dataframe tbody tr th {\n",
       "        vertical-align: top;\n",
       "    }\n",
       "\n",
       "    .dataframe thead th {\n",
       "        text-align: right;\n",
       "    }\n",
       "</style>\n",
       "<table border=\"1\" class=\"dataframe\">\n",
       "  <thead>\n",
       "    <tr style=\"text-align: right;\">\n",
       "      <th></th>\n",
       "      <th>delta_beta</th>\n",
       "    </tr>\n",
       "  </thead>\n",
       "  <tbody>\n",
       "    <tr>\n",
       "      <th>distance</th>\n",
       "      <td>7.713017e-01</td>\n",
       "    </tr>\n",
       "    <tr>\n",
       "      <th>lat</th>\n",
       "      <td>-1.144960e+00</td>\n",
       "    </tr>\n",
       "    <tr>\n",
       "      <th>lon</th>\n",
       "      <td>-1.246090e+00</td>\n",
       "    </tr>\n",
       "    <tr>\n",
       "      <th>alt</th>\n",
       "      <td>-6.246370e-01</td>\n",
       "    </tr>\n",
       "    <tr>\n",
       "      <th>speed</th>\n",
       "      <td>-1.497345e-01</td>\n",
       "    </tr>\n",
       "    <tr>\n",
       "      <th>...</th>\n",
       "      <td>...</td>\n",
       "    </tr>\n",
       "    <tr>\n",
       "      <th>region_urban</th>\n",
       "      <td>-2.111704e+13</td>\n",
       "    </tr>\n",
       "    <tr>\n",
       "      <th>weekday_Monday</th>\n",
       "      <td>-9.201755e-02</td>\n",
       "    </tr>\n",
       "    <tr>\n",
       "      <th>weekday_Thursday</th>\n",
       "      <td>-8.291478e-02</td>\n",
       "    </tr>\n",
       "    <tr>\n",
       "      <th>weekday_Tuesday</th>\n",
       "      <td>1.609108e-02</td>\n",
       "    </tr>\n",
       "    <tr>\n",
       "      <th>weekday_Wednesday</th>\n",
       "      <td>-1.410778e-01</td>\n",
       "    </tr>\n",
       "  </tbody>\n",
       "</table>\n",
       "<p>79 rows × 1 columns</p>\n",
       "</div>"
      ],
      "text/plain": [
       "                     delta_beta\n",
       "distance           7.713017e-01\n",
       "lat               -1.144960e+00\n",
       "lon               -1.246090e+00\n",
       "alt               -6.246370e-01\n",
       "speed             -1.497345e-01\n",
       "...                         ...\n",
       "region_urban      -2.111704e+13\n",
       "weekday_Monday    -9.201755e-02\n",
       "weekday_Thursday  -8.291478e-02\n",
       "weekday_Tuesday    1.609108e-02\n",
       "weekday_Wednesday -1.410778e-01\n",
       "\n",
       "[79 rows x 1 columns]"
      ]
     },
     "execution_count": 33,
     "metadata": {},
     "output_type": "execute_result"
    }
   ],
   "source": [
    "delta_df = pd.DataFrame(data=linear_model.coef_ - model.coef_,index=X.columns,columns=['delta_beta'])\n",
    "delta_df"
   ]
  },
  {
   "cell_type": "code",
   "execution_count": 34,
   "metadata": {},
   "outputs": [
    {
     "data": {
      "text/html": [
       "<div>\n",
       "<style scoped>\n",
       "    .dataframe tbody tr th:only-of-type {\n",
       "        vertical-align: middle;\n",
       "    }\n",
       "\n",
       "    .dataframe tbody tr th {\n",
       "        vertical-align: top;\n",
       "    }\n",
       "\n",
       "    .dataframe thead th {\n",
       "        text-align: right;\n",
       "    }\n",
       "</style>\n",
       "<table border=\"1\" class=\"dataframe\">\n",
       "  <thead>\n",
       "    <tr style=\"text-align: right;\">\n",
       "      <th></th>\n",
       "      <th>region_urban</th>\n",
       "      <th>ci_29391105</th>\n",
       "      <th>ci_29568768</th>\n",
       "      <th>ci_26385410</th>\n",
       "      <th>ci_26385408</th>\n",
       "      <th>ci_28365056</th>\n",
       "      <th>ci_28368386</th>\n",
       "      <th>ci_27771909</th>\n",
       "      <th>ci_27771139</th>\n",
       "      <th>ci_27771908</th>\n",
       "      <th>ci_29913346</th>\n",
       "      <th>ci_26378497</th>\n",
       "      <th>ci_28368384</th>\n",
       "      <th>ci_29913344</th>\n",
       "      <th>ci_27771140</th>\n",
       "      <th>ci_29913345</th>\n",
       "      <th>ci_28367105</th>\n",
       "      <th>ci_29391104</th>\n",
       "      <th>ci_28367106</th>\n",
       "      <th>ci_27771907</th>\n",
       "      <th>ci_33527554</th>\n",
       "      <th>ci_28365058</th>\n",
       "      <th>ci_29391106</th>\n",
       "      <th>ci_33527552</th>\n",
       "      <th>ci_26378498</th>\n",
       "      <th>ci_27770883</th>\n",
       "      <th>ci_31263232</th>\n",
       "      <th>ci_28371202</th>\n",
       "      <th>ci_28365057</th>\n",
       "      <th>ci_29401601</th>\n",
       "      <th>ci_28371200</th>\n",
       "      <th>ci_31281409</th>\n",
       "      <th>ci_26385409</th>\n",
       "      <th>ci_30422273</th>\n",
       "      <th>ci_27770885</th>\n",
       "      <th>ci_28371201</th>\n",
       "      <th>ci_33527559</th>\n",
       "      <th>ci_29568769</th>\n",
       "      <th>ci_33837570</th>\n",
       "      <th>ci_27771905</th>\n",
       "      <th>ci_27771906</th>\n",
       "      <th>ci_33527561</th>\n",
       "      <th>ci_33519104</th>\n",
       "      <th>ci_27771904</th>\n",
       "      <th>ci_30492930</th>\n",
       "      <th>ci_29563904</th>\n",
       "      <th>ci_27770888</th>\n",
       "      <th>lon</th>\n",
       "      <th>lat</th>\n",
       "      <th>region_highway</th>\n",
       "      <th>alt</th>\n",
       "      <th>rsrp</th>\n",
       "      <th>region_suburban</th>\n",
       "      <th>speed</th>\n",
       "      <th>rtt</th>\n",
       "      <th>weekday_Wednesday</th>\n",
       "      <th>txPower</th>\n",
       "      <th>weekday_Monday</th>\n",
       "      <th>ci_26796291</th>\n",
       "      <th>weekday_Thursday</th>\n",
       "      <th>ci_27256324</th>\n",
       "      <th>sinr</th>\n",
       "      <th>dir</th>\n",
       "      <th>acc</th>\n",
       "      <th>weekday_Tuesday</th>\n",
       "      <th>ta</th>\n",
       "      <th>cqi</th>\n",
       "      <th>ci_26378755</th>\n",
       "      <th>ci_27256325</th>\n",
       "      <th>hour</th>\n",
       "      <th>ci_27029251</th>\n",
       "      <th>ci_26378754</th>\n",
       "      <th>ci_27299332</th>\n",
       "      <th>ci_26379013</th>\n",
       "      <th>payload</th>\n",
       "      <th>ci_29398276</th>\n",
       "      <th>ci_26796290</th>\n",
       "      <th>rsrq</th>\n",
       "      <th>distance</th>\n",
       "    </tr>\n",
       "  </thead>\n",
       "  <tbody>\n",
       "    <tr>\n",
       "      <th>delta_beta</th>\n",
       "      <td>-2.111704e+13</td>\n",
       "      <td>-1.405557e+13</td>\n",
       "      <td>-1.308152e+13</td>\n",
       "      <td>-1.200402e+13</td>\n",
       "      <td>-1.191606e+13</td>\n",
       "      <td>-1.173772e+13</td>\n",
       "      <td>-1.048858e+13</td>\n",
       "      <td>-1.048858e+13</td>\n",
       "      <td>-1.028037e+13</td>\n",
       "      <td>-9.958570e+12</td>\n",
       "      <td>-9.157113e+12</td>\n",
       "      <td>-8.788281e+12</td>\n",
       "      <td>-8.788281e+12</td>\n",
       "      <td>-8.661440e+12</td>\n",
       "      <td>-7.993803e+12</td>\n",
       "      <td>-7.993803e+12</td>\n",
       "      <td>-7.852794e+12</td>\n",
       "      <td>-7.562192e+12</td>\n",
       "      <td>-7.562192e+12</td>\n",
       "      <td>-7.412263e+12</td>\n",
       "      <td>-6.776865e+12</td>\n",
       "      <td>-6.255160e+12</td>\n",
       "      <td>-6.255160e+12</td>\n",
       "      <td>-6.255160e+12</td>\n",
       "      <td>-6.070723e+12</td>\n",
       "      <td>-5.880204e+12</td>\n",
       "      <td>-5.880204e+12</td>\n",
       "      <td>-5.880204e+12</td>\n",
       "      <td>-5.682991e+12</td>\n",
       "      <td>-5.043211e+12</td>\n",
       "      <td>-5.043211e+12</td>\n",
       "      <td>-5.043211e+12</td>\n",
       "      <td>-4.810348e+12</td>\n",
       "      <td>-4.565237e+12</td>\n",
       "      <td>-4.565237e+12</td>\n",
       "      <td>-4.029228e+12</td>\n",
       "      <td>-4.029228e+12</td>\n",
       "      <td>-3.407910e+12</td>\n",
       "      <td>-3.049285e+12</td>\n",
       "      <td>-2.641761e+12</td>\n",
       "      <td>-2.157807e+12</td>\n",
       "      <td>-2.157807e+12</td>\n",
       "      <td>-2.157807e+12</td>\n",
       "      <td>-2.157807e+12</td>\n",
       "      <td>-2.157807e+12</td>\n",
       "      <td>-1.526378e+12</td>\n",
       "      <td>-1.526378e+12</td>\n",
       "      <td>-1.24609</td>\n",
       "      <td>-1.14496</td>\n",
       "      <td>-1.081175</td>\n",
       "      <td>-0.624637</td>\n",
       "      <td>-0.551243</td>\n",
       "      <td>-0.30048</td>\n",
       "      <td>-0.149735</td>\n",
       "      <td>-0.143065</td>\n",
       "      <td>-0.141078</td>\n",
       "      <td>-0.098531</td>\n",
       "      <td>-0.092018</td>\n",
       "      <td>-0.08918</td>\n",
       "      <td>-0.082915</td>\n",
       "      <td>-0.0825</td>\n",
       "      <td>-0.059014</td>\n",
       "      <td>-0.046685</td>\n",
       "      <td>-0.012119</td>\n",
       "      <td>0.016091</td>\n",
       "      <td>0.036341</td>\n",
       "      <td>0.048654</td>\n",
       "      <td>0.073821</td>\n",
       "      <td>0.081339</td>\n",
       "      <td>0.082854</td>\n",
       "      <td>0.088095</td>\n",
       "      <td>0.09751</td>\n",
       "      <td>0.105339</td>\n",
       "      <td>0.187373</td>\n",
       "      <td>0.22426</td>\n",
       "      <td>0.236842</td>\n",
       "      <td>0.267306</td>\n",
       "      <td>0.317587</td>\n",
       "      <td>0.771302</td>\n",
       "    </tr>\n",
       "  </tbody>\n",
       "</table>\n",
       "</div>"
      ],
      "text/plain": [
       "            region_urban   ci_29391105   ci_29568768   ci_26385410  \\\n",
       "delta_beta -2.111704e+13 -1.405557e+13 -1.308152e+13 -1.200402e+13   \n",
       "\n",
       "             ci_26385408   ci_28365056   ci_28368386   ci_27771909  \\\n",
       "delta_beta -1.191606e+13 -1.173772e+13 -1.048858e+13 -1.048858e+13   \n",
       "\n",
       "             ci_27771139   ci_27771908   ci_29913346   ci_26378497  \\\n",
       "delta_beta -1.028037e+13 -9.958570e+12 -9.157113e+12 -8.788281e+12   \n",
       "\n",
       "             ci_28368384   ci_29913344   ci_27771140   ci_29913345  \\\n",
       "delta_beta -8.788281e+12 -8.661440e+12 -7.993803e+12 -7.993803e+12   \n",
       "\n",
       "             ci_28367105   ci_29391104   ci_28367106   ci_27771907  \\\n",
       "delta_beta -7.852794e+12 -7.562192e+12 -7.562192e+12 -7.412263e+12   \n",
       "\n",
       "             ci_33527554   ci_28365058   ci_29391106   ci_33527552  \\\n",
       "delta_beta -6.776865e+12 -6.255160e+12 -6.255160e+12 -6.255160e+12   \n",
       "\n",
       "             ci_26378498   ci_27770883   ci_31263232   ci_28371202  \\\n",
       "delta_beta -6.070723e+12 -5.880204e+12 -5.880204e+12 -5.880204e+12   \n",
       "\n",
       "             ci_28365057   ci_29401601   ci_28371200   ci_31281409  \\\n",
       "delta_beta -5.682991e+12 -5.043211e+12 -5.043211e+12 -5.043211e+12   \n",
       "\n",
       "             ci_26385409   ci_30422273   ci_27770885   ci_28371201  \\\n",
       "delta_beta -4.810348e+12 -4.565237e+12 -4.565237e+12 -4.029228e+12   \n",
       "\n",
       "             ci_33527559   ci_29568769   ci_33837570   ci_27771905  \\\n",
       "delta_beta -4.029228e+12 -3.407910e+12 -3.049285e+12 -2.641761e+12   \n",
       "\n",
       "             ci_27771906   ci_33527561   ci_33519104   ci_27771904  \\\n",
       "delta_beta -2.157807e+12 -2.157807e+12 -2.157807e+12 -2.157807e+12   \n",
       "\n",
       "             ci_30492930   ci_29563904   ci_27770888      lon      lat  \\\n",
       "delta_beta -2.157807e+12 -1.526378e+12 -1.526378e+12 -1.24609 -1.14496   \n",
       "\n",
       "            region_highway       alt      rsrp  region_suburban     speed  \\\n",
       "delta_beta       -1.081175 -0.624637 -0.551243         -0.30048 -0.149735   \n",
       "\n",
       "                 rtt  weekday_Wednesday   txPower  weekday_Monday  \\\n",
       "delta_beta -0.143065          -0.141078 -0.098531       -0.092018   \n",
       "\n",
       "            ci_26796291  weekday_Thursday  ci_27256324      sinr       dir  \\\n",
       "delta_beta     -0.08918         -0.082915      -0.0825 -0.059014 -0.046685   \n",
       "\n",
       "                 acc  weekday_Tuesday        ta       cqi  ci_26378755  \\\n",
       "delta_beta -0.012119         0.016091  0.036341  0.048654     0.073821   \n",
       "\n",
       "            ci_27256325      hour  ci_27029251  ci_26378754  ci_27299332  \\\n",
       "delta_beta     0.081339  0.082854     0.088095      0.09751     0.105339   \n",
       "\n",
       "            ci_26379013  payload  ci_29398276  ci_26796290      rsrq  distance  \n",
       "delta_beta     0.187373  0.22426     0.236842     0.267306  0.317587  0.771302  "
      ]
     },
     "execution_count": 34,
     "metadata": {},
     "output_type": "execute_result"
    }
   ],
   "source": [
    "delta_df.sort_values('delta_beta').transpose()"
   ]
  },
  {
   "cell_type": "code",
   "execution_count": 35,
   "metadata": {},
   "outputs": [
    {
     "data": {
      "text/plain": [
       "<AxesSubplot:ylabel='Count'>"
      ]
     },
     "execution_count": 35,
     "metadata": {},
     "output_type": "execute_result"
    },
    {
     "data": {
      "image/png": "[encoded data removed]",
      "text/plain": [
       "<Figure size 432x288 with 1 Axes>"
      ]
     },
     "metadata": {
      "needs_background": "light"
     },
     "output_type": "display_data"
    }
   ],
   "source": [
    "sns.histplot(data=delta_df,bins=40,kde=True)"
   ]
  },
  {
   "cell_type": "code",
   "execution_count": 36,
   "metadata": {},
   "outputs": [],
   "source": [
    "y_pred_lin = linear_model.predict(X_lin)"
   ]
  },
  {
   "cell_type": "code",
   "execution_count": 37,
   "metadata": {},
   "outputs": [
    {
     "data": {
      "text/plain": [
       "<AxesSubplot:ylabel='Count'>"
      ]
     },
     "execution_count": 37,
     "metadata": {},
     "output_type": "execute_result"
    },
    {
     "data": {
      "image/png": "[encoded data removed]",
      "text/plain": [
       "<Figure size 432x288 with 1 Axes>"
      ]
     },
     "metadata": {
      "needs_background": "light"
     },
     "output_type": "display_data"
    }
   ],
   "source": [
    "sns.histplot(y_pred_lin,bins=40,kde=True)"
   ]
  },
  {
   "cell_type": "code",
   "execution_count": 38,
   "metadata": {},
   "outputs": [],
   "source": [
    "# sns.histplot(y,bins=40,kde=True)"
   ]
  },
  {
   "cell_type": "code",
   "execution_count": 39,
   "metadata": {},
   "outputs": [
    {
     "data": {
      "text/plain": [
       "<matplotlib.legend.Legend at 0x7fda91e0a6d0>"
      ]
     },
     "execution_count": 39,
     "metadata": {},
     "output_type": "execute_result"
    },
    {
     "data": {
      "image/png": "[encoded data removed]",
      "text/plain": [
       "<Figure size 432x288 with 1 Axes>"
      ]
     },
     "metadata": {
      "needs_background": "light"
     },
     "output_type": "display_data"
    }
   ],
   "source": [
    "fig,ax = plt.subplots()\n",
    "\n",
    "sns.kdeplot(y, ax=ax, shade=True, label='Observations')\n",
    "sns.kdeplot(y_pred_lin, ax=ax,shade=True,label='Predictions')\n",
    "\n",
    "ax.legend(loc='best')"
   ]
  },
  {
   "cell_type": "code",
   "execution_count": 40,
   "metadata": {},
   "outputs": [
    {
     "data": {
      "text/plain": [
       "<matplotlib.legend.Legend at 0x7fda91e630a0>"
      ]
     },
     "execution_count": 40,
     "metadata": {},
     "output_type": "execute_result"
    },
    {
     "data": {
      "image/png": "[encoded data removed]",
      "text/plain": [
       "<Figure size 432x288 with 1 Axes>"
      ]
     },
     "metadata": {
      "needs_background": "light"
     },
     "output_type": "display_data"
    }
   ],
   "source": [
    "fig,ax = plt.subplots()\n",
    "\n",
    "sns.ecdfplot(y, ax=ax, label='Observations')\n",
    "sns.ecdfplot(y_pred_lin, ax=ax,label='Predictions')\n",
    "plt.axvline(x=y.mean(),color='grey',linestyle='--')\n",
    "\n",
    "ax.legend(loc='best')"
   ]
  },
  {
   "cell_type": "code",
   "execution_count": 41,
   "metadata": {},
   "outputs": [],
   "source": [
    "mae = mean_absolute_error(y,y_pred_lin)\n",
    "mse = mean_squared_error(y,y_pred_lin)\n",
    "rmse = np.sqrt(mse)"
   ]
  },
  {
   "cell_type": "code",
   "execution_count": 42,
   "metadata": {},
   "outputs": [
    {
     "data": {
      "text/html": [
       "<div>\n",
       "<style scoped>\n",
       "    .dataframe tbody tr th:only-of-type {\n",
       "        vertical-align: middle;\n",
       "    }\n",
       "\n",
       "    .dataframe tbody tr th {\n",
       "        vertical-align: top;\n",
       "    }\n",
       "\n",
       "    .dataframe thead th {\n",
       "        text-align: right;\n",
       "    }\n",
       "</style>\n",
       "<table border=\"1\" class=\"dataframe\">\n",
       "  <thead>\n",
       "    <tr style=\"text-align: right;\">\n",
       "      <th></th>\n",
       "      <th>LR</th>\n",
       "    </tr>\n",
       "  </thead>\n",
       "  <tbody>\n",
       "    <tr>\n",
       "      <th>MAE</th>\n",
       "      <td>4.259795</td>\n",
       "    </tr>\n",
       "    <tr>\n",
       "      <th>MSE</th>\n",
       "      <td>27.721972</td>\n",
       "    </tr>\n",
       "    <tr>\n",
       "      <th>RMSE</th>\n",
       "      <td>5.265166</td>\n",
       "    </tr>\n",
       "  </tbody>\n",
       "</table>\n",
       "</div>"
      ],
      "text/plain": [
       "             LR\n",
       "MAE    4.259795\n",
       "MSE   27.721972\n",
       "RMSE   5.265166"
      ]
     },
     "execution_count": 42,
     "metadata": {},
     "output_type": "execute_result"
    }
   ],
   "source": [
    "err_df = pd.DataFrame(data=[mae, mse, rmse],index=['MAE','MSE','RMSE'],columns=['LR'])\n",
    "err_df"
   ]
  },
  {
   "cell_type": "code",
   "execution_count": 43,
   "metadata": {},
   "outputs": [],
   "source": [
    "# y_pred_lin.mean()"
   ]
  },
  {
   "cell_type": "code",
   "execution_count": 44,
   "metadata": {},
   "outputs": [],
   "source": [
    "# y.describe().drop('count')"
   ]
  },
  {
   "cell_type": "code",
   "execution_count": 45,
   "metadata": {},
   "outputs": [],
   "source": [
    "err_df.to_csv('./model-err/lin-model-err.csv')"
   ]
  },
  {
   "cell_type": "code",
   "execution_count": 46,
   "metadata": {},
   "outputs": [
    {
     "data": {
      "text/plain": [
       "['./models/lin-model.joblib']"
      ]
     },
     "execution_count": 46,
     "metadata": {},
     "output_type": "execute_result"
    }
   ],
   "source": [
    "from joblib import dump, load\n",
    "dump(linear_model, './models/lin-model.joblib')"
   ]
  },
  {
   "cell_type": "markdown",
   "metadata": {},
   "source": [
    "DONE!"
   ]
  },
  {
   "cell_type": "code",
   "execution_count": null,
   "metadata": {},
   "outputs": [],
   "source": []
  }
 ],
 "metadata": {
  "kernelspec": {
   "display_name": "Python 3",
   "language": "python",
   "name": "python3"
  },
  "language_info": {
   "codemirror_mode": {
    "name": "ipython",
    "version": 3
   },
   "file_extension": ".py",
   "mimetype": "text/x-python",
   "name": "python",
   "nbconvert_exporter": "python",
   "pygments_lexer": "ipython3",
   "version": "3.8.6"
  }
 },
 "nbformat": 4,
 "nbformat_minor": 4
}
