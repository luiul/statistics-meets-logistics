{
 "cells": [
  {
   "cell_type": "code",
   "execution_count": 1,
   "id": "racial-lodging",
   "metadata": {},
   "outputs": [],
   "source": [
    "# MODIFY! \n",
    "# use RobustScaler! \n",
    "model_name = 'rf-no'"
   ]
  },
  {
   "cell_type": "markdown",
   "id": "endangered-purchase",
   "metadata": {},
   "source": [
    "# Import Libraries & Data "
   ]
  },
  {
   "cell_type": "code",
   "execution_count": 2,
   "id": "worthy-fifth",
   "metadata": {},
   "outputs": [],
   "source": [
    "import numpy as np\n",
    "import pandas as pd\n",
    "import matplotlib.pyplot as plt\n",
    "import seaborn as sns"
   ]
  },
  {
   "cell_type": "code",
   "execution_count": 3,
   "id": "representative-error",
   "metadata": {},
   "outputs": [],
   "source": [
    "df = pd.read_csv('./data/d-no-ns.csv')\n",
    "X = df.drop('throughput',axis=1)\n",
    "y = df['throughput']"
   ]
  },
  {
   "cell_type": "markdown",
   "id": "prescribed-gnome",
   "metadata": {},
   "source": [
    "---"
   ]
  },
  {
   "cell_type": "markdown",
   "id": "german-tenant",
   "metadata": {},
   "source": [
    "# Scale Data"
   ]
  },
  {
   "cell_type": "code",
   "execution_count": 4,
   "id": "under-beatles",
   "metadata": {},
   "outputs": [
    {
     "data": {
      "text/plain": [
       "RobustScaler()"
      ]
     },
     "execution_count": 4,
     "metadata": {},
     "output_type": "execute_result"
    }
   ],
   "source": [
    "# Split the data\n",
    "from sklearn.model_selection import train_test_split\n",
    "X_train, X_test, y_train, y_test = train_test_split(X, y, test_size=0.1, random_state=42)\n",
    "\n",
    "# Scale the data\n",
    "from sklearn.preprocessing import RobustScaler\n",
    "scaler = RobustScaler()\n",
    "scaler.fit(X_train)"
   ]
  },
  {
   "cell_type": "code",
   "execution_count": 5,
   "id": "designing-cattle",
   "metadata": {},
   "outputs": [],
   "source": [
    "X_train = scaler.transform(X_train)\n",
    "X_test = scaler.transform(X_test)"
   ]
  },
  {
   "cell_type": "markdown",
   "id": "renewable-airfare",
   "metadata": {},
   "source": [
    "# Determine Hyperparameters"
   ]
  },
  {
   "cell_type": "markdown",
   "id": "alternative-brunei",
   "metadata": {},
   "source": [
    "## Determine Max Features"
   ]
  },
  {
   "cell_type": "code",
   "execution_count": 6,
   "id": "intimate-extraction",
   "metadata": {},
   "outputs": [
    {
     "data": {
      "text/plain": [
       "RandomForestRegressor(warm_start=True)"
      ]
     },
     "execution_count": 6,
     "metadata": {},
     "output_type": "execute_result"
    }
   ],
   "source": [
    "# MODIFY!\n",
    "from sklearn.ensemble import RandomForestRegressor\n",
    "\n",
    "model = RandomForestRegressor(warm_start=True)\n",
    "model"
   ]
  },
  {
   "cell_type": "code",
   "execution_count": 7,
   "id": "found-language",
   "metadata": {},
   "outputs": [],
   "source": [
    "p_grid = {\n",
    "    'max_features':['auto', 'sqrt', 'log2']\n",
    "}"
   ]
  },
  {
   "cell_type": "code",
   "execution_count": 8,
   "id": "retained-wallace",
   "metadata": {},
   "outputs": [],
   "source": [
    "from sklearn.model_selection import GridSearchCV"
   ]
  },
  {
   "cell_type": "code",
   "execution_count": 9,
   "id": "theoretical-spare",
   "metadata": {},
   "outputs": [],
   "source": [
    "grid_model = GridSearchCV(\n",
    "    estimator=model,\n",
    "    param_grid =p_grid, \n",
    "    scoring='neg_mean_squared_error',\n",
    "    cv=10, \n",
    "    verbose=1\n",
    ")"
   ]
  },
  {
   "cell_type": "code",
   "execution_count": 10,
   "id": "difficult-bandwidth",
   "metadata": {},
   "outputs": [
    {
     "name": "stdout",
     "output_type": "stream",
     "text": [
      "Fitting 10 folds for each of 3 candidates, totalling 30 fits\n"
     ]
    },
    {
     "name": "stderr",
     "output_type": "stream",
     "text": [
      "[Parallel(n_jobs=1)]: Using backend SequentialBackend with 1 concurrent workers.\n",
      "[Parallel(n_jobs=1)]: Done  30 out of  30 | elapsed:   37.6s finished\n"
     ]
    },
    {
     "data": {
      "text/plain": [
       "GridSearchCV(cv=10, estimator=RandomForestRegressor(warm_start=True),\n",
       "             param_grid={'max_features': ['auto', 'sqrt', 'log2']},\n",
       "             scoring='neg_mean_squared_error', verbose=1)"
      ]
     },
     "execution_count": 10,
     "metadata": {},
     "output_type": "execute_result"
    }
   ],
   "source": [
    "grid_model.fit(X_train,y_train)"
   ]
  },
  {
   "cell_type": "code",
   "execution_count": 11,
   "id": "structured-match",
   "metadata": {},
   "outputs": [
    {
     "data": {
      "text/plain": [
       "{'max_features': 'auto'}"
      ]
     },
     "execution_count": 11,
     "metadata": {},
     "output_type": "execute_result"
    }
   ],
   "source": [
    "grid_model.best_params_"
   ]
  },
  {
   "cell_type": "code",
   "execution_count": 12,
   "id": "proof-planning",
   "metadata": {},
   "outputs": [],
   "source": [
    "hp = pd.Series(name=f'{model_name} HP', data=grid_model.best_params_)"
   ]
  },
  {
   "cell_type": "code",
   "execution_count": 13,
   "id": "normal-bathroom",
   "metadata": {},
   "outputs": [
    {
     "data": {
      "text/plain": [
       "max_features    auto\n",
       "Name: rf-no HP, dtype: object"
      ]
     },
     "execution_count": 13,
     "metadata": {},
     "output_type": "execute_result"
    }
   ],
   "source": [
    "hp"
   ]
  },
  {
   "cell_type": "code",
   "execution_count": 14,
   "id": "agricultural-marsh",
   "metadata": {},
   "outputs": [],
   "source": [
    "hp.to_csv(f'./hyperparameters/{model_name}.csv')"
   ]
  },
  {
   "cell_type": "markdown",
   "id": "dirty-assumption",
   "metadata": {},
   "source": [
    "## Determine Number of Estimators"
   ]
  },
  {
   "cell_type": "code",
   "execution_count": 15,
   "id": "bigger-pavilion",
   "metadata": {},
   "outputs": [
    {
     "name": "stdout",
     "output_type": "stream",
     "text": [
      "Starting 5 estimators\n",
      "Done with 5 estimators\n",
      "Elapsed time: 1.7690539360046387\n",
      "\n",
      "\n",
      "Starting 10 estimators\n",
      "Done with 10 estimators\n",
      "Elapsed time: 2.289903163909912\n",
      "\n",
      "\n",
      "Starting 25 estimators\n",
      "Done with 25 estimators\n",
      "Elapsed time: 5.769585847854614\n",
      "\n",
      "\n",
      "Starting 50 estimators\n",
      "Done with 50 estimators\n",
      "Elapsed time: 11.534534215927124\n",
      "\n",
      "\n",
      "Starting 100 estimators\n",
      "Done with 100 estimators\n",
      "Elapsed time: 30.612385034561157\n",
      "\n",
      "\n",
      "Starting 500 estimators\n",
      "Done with 500 estimators\n",
      "Elapsed time: 124.3610851764679\n",
      "\n",
      "\n",
      "Starting 1000 estimators\n",
      "Done with 1000 estimators\n",
      "Elapsed time: 220.77700901031494\n",
      "\n",
      "\n",
      "Starting 2000 estimators\n",
      "Done with 2000 estimators\n",
      "Elapsed time: 863.9045739173889\n",
      "\n",
      "\n"
     ]
    }
   ],
   "source": [
    "# MODIFY!\n",
    "import time\n",
    "\n",
    "estimators = [5,10,25,50,100,500,1000,2000]\n",
    "scores_list = []\n",
    "\n",
    "from sklearn.ensemble import RandomForestRegressor\n",
    "\n",
    "for e in estimators: \n",
    "    start = time.time()\n",
    "    print(f'Starting {e} estimators')\n",
    "    score_model = RandomForestRegressor(\n",
    "        n_estimators=e,\n",
    "        max_features=grid_model.best_params_['max_features']\n",
    "    )\n",
    "    \n",
    "    from sklearn.model_selection import cross_validate\n",
    "\n",
    "    scores = cross_validate(\n",
    "        score_model, \n",
    "        X_train, \n",
    "        y_train,\n",
    "        scoring=[\n",
    "            'neg_mean_absolute_error',\n",
    "            'neg_mean_squared_error',\n",
    "            'neg_root_mean_squared_error'\n",
    "        ],\n",
    "        cv=10\n",
    "    )\n",
    "    \n",
    "    scores = pd.DataFrame(scores)\n",
    "    scores\n",
    "    mean_scores = scores.mean()\n",
    "    scores_list.append(mean_scores)\n",
    "    print(f'Done with {e} estimators')\n",
    "    end = time.time()\n",
    "    print(f'Elapsed time: {end - start}')\n",
    "    print('\\n')"
   ]
  },
  {
   "cell_type": "code",
   "execution_count": 16,
   "id": "starting-logic",
   "metadata": {},
   "outputs": [],
   "source": [
    "scores_df = pd.DataFrame(scores_list)"
   ]
  },
  {
   "cell_type": "code",
   "execution_count": 17,
   "id": "operational-practitioner",
   "metadata": {},
   "outputs": [
    {
     "data": {
      "text/html": [
       "<div>\n",
       "<style scoped>\n",
       "    .dataframe tbody tr th:only-of-type {\n",
       "        vertical-align: middle;\n",
       "    }\n",
       "\n",
       "    .dataframe tbody tr th {\n",
       "        vertical-align: top;\n",
       "    }\n",
       "\n",
       "    .dataframe thead th {\n",
       "        text-align: right;\n",
       "    }\n",
       "</style>\n",
       "<table border=\"1\" class=\"dataframe\">\n",
       "  <thead>\n",
       "    <tr style=\"text-align: right;\">\n",
       "      <th></th>\n",
       "      <th>fit_time</th>\n",
       "      <th>score_time</th>\n",
       "      <th>test_neg_mean_absolute_error</th>\n",
       "      <th>test_neg_mean_squared_error</th>\n",
       "      <th>test_neg_root_mean_squared_error</th>\n",
       "    </tr>\n",
       "  </thead>\n",
       "  <tbody>\n",
       "    <tr>\n",
       "      <th>0</th>\n",
       "      <td>0.171094</td>\n",
       "      <td>0.004069</td>\n",
       "      <td>-3.043054</td>\n",
       "      <td>-18.171000</td>\n",
       "      <td>-4.247393</td>\n",
       "    </tr>\n",
       "    <tr>\n",
       "      <th>1</th>\n",
       "      <td>0.223830</td>\n",
       "      <td>0.004277</td>\n",
       "      <td>-2.953408</td>\n",
       "      <td>-17.021798</td>\n",
       "      <td>-4.100414</td>\n",
       "    </tr>\n",
       "    <tr>\n",
       "      <th>2</th>\n",
       "      <td>0.569950</td>\n",
       "      <td>0.005599</td>\n",
       "      <td>-2.797186</td>\n",
       "      <td>-15.682247</td>\n",
       "      <td>-3.945593</td>\n",
       "    </tr>\n",
       "    <tr>\n",
       "      <th>3</th>\n",
       "      <td>1.140864</td>\n",
       "      <td>0.010636</td>\n",
       "      <td>-2.770126</td>\n",
       "      <td>-15.183979</td>\n",
       "      <td>-3.883175</td>\n",
       "    </tr>\n",
       "    <tr>\n",
       "      <th>4</th>\n",
       "      <td>3.023198</td>\n",
       "      <td>0.034863</td>\n",
       "      <td>-2.746151</td>\n",
       "      <td>-15.024164</td>\n",
       "      <td>-3.862763</td>\n",
       "    </tr>\n",
       "    <tr>\n",
       "      <th>5</th>\n",
       "      <td>12.347116</td>\n",
       "      <td>0.078061</td>\n",
       "      <td>-2.736286</td>\n",
       "      <td>-14.906599</td>\n",
       "      <td>-3.846315</td>\n",
       "    </tr>\n",
       "    <tr>\n",
       "      <th>6</th>\n",
       "      <td>21.884180</td>\n",
       "      <td>0.172201</td>\n",
       "      <td>-2.733538</td>\n",
       "      <td>-14.792618</td>\n",
       "      <td>-3.831847</td>\n",
       "    </tr>\n",
       "    <tr>\n",
       "      <th>7</th>\n",
       "      <td>84.609357</td>\n",
       "      <td>1.693021</td>\n",
       "      <td>-2.730631</td>\n",
       "      <td>-14.815535</td>\n",
       "      <td>-3.835199</td>\n",
       "    </tr>\n",
       "  </tbody>\n",
       "</table>\n",
       "</div>"
      ],
      "text/plain": [
       "    fit_time  score_time  test_neg_mean_absolute_error  \\\n",
       "0   0.171094    0.004069                     -3.043054   \n",
       "1   0.223830    0.004277                     -2.953408   \n",
       "2   0.569950    0.005599                     -2.797186   \n",
       "3   1.140864    0.010636                     -2.770126   \n",
       "4   3.023198    0.034863                     -2.746151   \n",
       "5  12.347116    0.078061                     -2.736286   \n",
       "6  21.884180    0.172201                     -2.733538   \n",
       "7  84.609357    1.693021                     -2.730631   \n",
       "\n",
       "   test_neg_mean_squared_error  test_neg_root_mean_squared_error  \n",
       "0                   -18.171000                         -4.247393  \n",
       "1                   -17.021798                         -4.100414  \n",
       "2                   -15.682247                         -3.945593  \n",
       "3                   -15.183979                         -3.883175  \n",
       "4                   -15.024164                         -3.862763  \n",
       "5                   -14.906599                         -3.846315  \n",
       "6                   -14.792618                         -3.831847  \n",
       "7                   -14.815535                         -3.835199  "
      ]
     },
     "execution_count": 17,
     "metadata": {},
     "output_type": "execute_result"
    }
   ],
   "source": [
    "scores_df"
   ]
  },
  {
   "cell_type": "code",
   "execution_count": 18,
   "id": "amateur-studio",
   "metadata": {},
   "outputs": [],
   "source": [
    "scores_df['Est'] = estimators"
   ]
  },
  {
   "cell_type": "code",
   "execution_count": 19,
   "id": "sophisticated-eight",
   "metadata": {},
   "outputs": [
    {
     "data": {
      "text/html": [
       "<div>\n",
       "<style scoped>\n",
       "    .dataframe tbody tr th:only-of-type {\n",
       "        vertical-align: middle;\n",
       "    }\n",
       "\n",
       "    .dataframe tbody tr th {\n",
       "        vertical-align: top;\n",
       "    }\n",
       "\n",
       "    .dataframe thead th {\n",
       "        text-align: right;\n",
       "    }\n",
       "</style>\n",
       "<table border=\"1\" class=\"dataframe\">\n",
       "  <thead>\n",
       "    <tr style=\"text-align: right;\">\n",
       "      <th></th>\n",
       "      <th>fit_time</th>\n",
       "      <th>score_time</th>\n",
       "      <th>test_neg_mean_absolute_error</th>\n",
       "      <th>test_neg_mean_squared_error</th>\n",
       "      <th>test_neg_root_mean_squared_error</th>\n",
       "      <th>Est</th>\n",
       "    </tr>\n",
       "  </thead>\n",
       "  <tbody>\n",
       "    <tr>\n",
       "      <th>0</th>\n",
       "      <td>0.171094</td>\n",
       "      <td>0.004069</td>\n",
       "      <td>-3.043054</td>\n",
       "      <td>-18.171000</td>\n",
       "      <td>-4.247393</td>\n",
       "      <td>5</td>\n",
       "    </tr>\n",
       "    <tr>\n",
       "      <th>1</th>\n",
       "      <td>0.223830</td>\n",
       "      <td>0.004277</td>\n",
       "      <td>-2.953408</td>\n",
       "      <td>-17.021798</td>\n",
       "      <td>-4.100414</td>\n",
       "      <td>10</td>\n",
       "    </tr>\n",
       "    <tr>\n",
       "      <th>2</th>\n",
       "      <td>0.569950</td>\n",
       "      <td>0.005599</td>\n",
       "      <td>-2.797186</td>\n",
       "      <td>-15.682247</td>\n",
       "      <td>-3.945593</td>\n",
       "      <td>25</td>\n",
       "    </tr>\n",
       "    <tr>\n",
       "      <th>3</th>\n",
       "      <td>1.140864</td>\n",
       "      <td>0.010636</td>\n",
       "      <td>-2.770126</td>\n",
       "      <td>-15.183979</td>\n",
       "      <td>-3.883175</td>\n",
       "      <td>50</td>\n",
       "    </tr>\n",
       "    <tr>\n",
       "      <th>4</th>\n",
       "      <td>3.023198</td>\n",
       "      <td>0.034863</td>\n",
       "      <td>-2.746151</td>\n",
       "      <td>-15.024164</td>\n",
       "      <td>-3.862763</td>\n",
       "      <td>100</td>\n",
       "    </tr>\n",
       "    <tr>\n",
       "      <th>5</th>\n",
       "      <td>12.347116</td>\n",
       "      <td>0.078061</td>\n",
       "      <td>-2.736286</td>\n",
       "      <td>-14.906599</td>\n",
       "      <td>-3.846315</td>\n",
       "      <td>500</td>\n",
       "    </tr>\n",
       "    <tr>\n",
       "      <th>6</th>\n",
       "      <td>21.884180</td>\n",
       "      <td>0.172201</td>\n",
       "      <td>-2.733538</td>\n",
       "      <td>-14.792618</td>\n",
       "      <td>-3.831847</td>\n",
       "      <td>1000</td>\n",
       "    </tr>\n",
       "    <tr>\n",
       "      <th>7</th>\n",
       "      <td>84.609357</td>\n",
       "      <td>1.693021</td>\n",
       "      <td>-2.730631</td>\n",
       "      <td>-14.815535</td>\n",
       "      <td>-3.835199</td>\n",
       "      <td>2000</td>\n",
       "    </tr>\n",
       "  </tbody>\n",
       "</table>\n",
       "</div>"
      ],
      "text/plain": [
       "    fit_time  score_time  test_neg_mean_absolute_error  \\\n",
       "0   0.171094    0.004069                     -3.043054   \n",
       "1   0.223830    0.004277                     -2.953408   \n",
       "2   0.569950    0.005599                     -2.797186   \n",
       "3   1.140864    0.010636                     -2.770126   \n",
       "4   3.023198    0.034863                     -2.746151   \n",
       "5  12.347116    0.078061                     -2.736286   \n",
       "6  21.884180    0.172201                     -2.733538   \n",
       "7  84.609357    1.693021                     -2.730631   \n",
       "\n",
       "   test_neg_mean_squared_error  test_neg_root_mean_squared_error   Est  \n",
       "0                   -18.171000                         -4.247393     5  \n",
       "1                   -17.021798                         -4.100414    10  \n",
       "2                   -15.682247                         -3.945593    25  \n",
       "3                   -15.183979                         -3.883175    50  \n",
       "4                   -15.024164                         -3.862763   100  \n",
       "5                   -14.906599                         -3.846315   500  \n",
       "6                   -14.792618                         -3.831847  1000  \n",
       "7                   -14.815535                         -3.835199  2000  "
      ]
     },
     "execution_count": 19,
     "metadata": {},
     "output_type": "execute_result"
    }
   ],
   "source": [
    "scores_df"
   ]
  },
  {
   "cell_type": "markdown",
   "id": "hollow-visitor",
   "metadata": {},
   "source": [
    "# Export Scores for Number of Estimators"
   ]
  },
  {
   "cell_type": "code",
   "execution_count": 20,
   "id": "fatal-envelope",
   "metadata": {},
   "outputs": [],
   "source": [
    "# mean_scores"
   ]
  },
  {
   "cell_type": "code",
   "execution_count": 21,
   "id": "coupled-ecuador",
   "metadata": {},
   "outputs": [],
   "source": [
    "scores_df = scores_df.rename(columns={\n",
    "    'fit_time':'Fit Time',\n",
    "    'score_time':'Score Time',\n",
    "    'test_neg_mean_absolute_error':'MAE',\n",
    "    'test_neg_mean_squared_error':'MSE',\n",
    "    'test_neg_root_mean_squared_error':'RMSE'\n",
    "})"
   ]
  },
  {
   "cell_type": "code",
   "execution_count": 22,
   "id": "chemical-exercise",
   "metadata": {},
   "outputs": [
    {
     "data": {
      "text/html": [
       "<div>\n",
       "<style scoped>\n",
       "    .dataframe tbody tr th:only-of-type {\n",
       "        vertical-align: middle;\n",
       "    }\n",
       "\n",
       "    .dataframe tbody tr th {\n",
       "        vertical-align: top;\n",
       "    }\n",
       "\n",
       "    .dataframe thead th {\n",
       "        text-align: right;\n",
       "    }\n",
       "</style>\n",
       "<table border=\"1\" class=\"dataframe\">\n",
       "  <thead>\n",
       "    <tr style=\"text-align: right;\">\n",
       "      <th></th>\n",
       "      <th>Fit Time</th>\n",
       "      <th>Score Time</th>\n",
       "      <th>MAE</th>\n",
       "      <th>MSE</th>\n",
       "      <th>RMSE</th>\n",
       "      <th>Est</th>\n",
       "    </tr>\n",
       "  </thead>\n",
       "  <tbody>\n",
       "    <tr>\n",
       "      <th>0</th>\n",
       "      <td>0.171094</td>\n",
       "      <td>0.004069</td>\n",
       "      <td>-3.043054</td>\n",
       "      <td>-18.171000</td>\n",
       "      <td>-4.247393</td>\n",
       "      <td>5</td>\n",
       "    </tr>\n",
       "    <tr>\n",
       "      <th>1</th>\n",
       "      <td>0.223830</td>\n",
       "      <td>0.004277</td>\n",
       "      <td>-2.953408</td>\n",
       "      <td>-17.021798</td>\n",
       "      <td>-4.100414</td>\n",
       "      <td>10</td>\n",
       "    </tr>\n",
       "    <tr>\n",
       "      <th>2</th>\n",
       "      <td>0.569950</td>\n",
       "      <td>0.005599</td>\n",
       "      <td>-2.797186</td>\n",
       "      <td>-15.682247</td>\n",
       "      <td>-3.945593</td>\n",
       "      <td>25</td>\n",
       "    </tr>\n",
       "    <tr>\n",
       "      <th>3</th>\n",
       "      <td>1.140864</td>\n",
       "      <td>0.010636</td>\n",
       "      <td>-2.770126</td>\n",
       "      <td>-15.183979</td>\n",
       "      <td>-3.883175</td>\n",
       "      <td>50</td>\n",
       "    </tr>\n",
       "    <tr>\n",
       "      <th>4</th>\n",
       "      <td>3.023198</td>\n",
       "      <td>0.034863</td>\n",
       "      <td>-2.746151</td>\n",
       "      <td>-15.024164</td>\n",
       "      <td>-3.862763</td>\n",
       "      <td>100</td>\n",
       "    </tr>\n",
       "    <tr>\n",
       "      <th>5</th>\n",
       "      <td>12.347116</td>\n",
       "      <td>0.078061</td>\n",
       "      <td>-2.736286</td>\n",
       "      <td>-14.906599</td>\n",
       "      <td>-3.846315</td>\n",
       "      <td>500</td>\n",
       "    </tr>\n",
       "    <tr>\n",
       "      <th>6</th>\n",
       "      <td>21.884180</td>\n",
       "      <td>0.172201</td>\n",
       "      <td>-2.733538</td>\n",
       "      <td>-14.792618</td>\n",
       "      <td>-3.831847</td>\n",
       "      <td>1000</td>\n",
       "    </tr>\n",
       "    <tr>\n",
       "      <th>7</th>\n",
       "      <td>84.609357</td>\n",
       "      <td>1.693021</td>\n",
       "      <td>-2.730631</td>\n",
       "      <td>-14.815535</td>\n",
       "      <td>-3.835199</td>\n",
       "      <td>2000</td>\n",
       "    </tr>\n",
       "  </tbody>\n",
       "</table>\n",
       "</div>"
      ],
      "text/plain": [
       "    Fit Time  Score Time       MAE        MSE      RMSE   Est\n",
       "0   0.171094    0.004069 -3.043054 -18.171000 -4.247393     5\n",
       "1   0.223830    0.004277 -2.953408 -17.021798 -4.100414    10\n",
       "2   0.569950    0.005599 -2.797186 -15.682247 -3.945593    25\n",
       "3   1.140864    0.010636 -2.770126 -15.183979 -3.883175    50\n",
       "4   3.023198    0.034863 -2.746151 -15.024164 -3.862763   100\n",
       "5  12.347116    0.078061 -2.736286 -14.906599 -3.846315   500\n",
       "6  21.884180    0.172201 -2.733538 -14.792618 -3.831847  1000\n",
       "7  84.609357    1.693021 -2.730631 -14.815535 -3.835199  2000"
      ]
     },
     "execution_count": 22,
     "metadata": {},
     "output_type": "execute_result"
    }
   ],
   "source": [
    "scores_df"
   ]
  },
  {
   "cell_type": "code",
   "execution_count": 23,
   "id": "potential-facing",
   "metadata": {},
   "outputs": [],
   "source": [
    "scores_df[['MAE','MSE','RMSE']] = scores_df[['MAE','MSE','RMSE']].apply(lambda x : abs(x))"
   ]
  },
  {
   "cell_type": "code",
   "execution_count": 24,
   "id": "vital-expense",
   "metadata": {},
   "outputs": [
    {
     "data": {
      "text/html": [
       "<div>\n",
       "<style scoped>\n",
       "    .dataframe tbody tr th:only-of-type {\n",
       "        vertical-align: middle;\n",
       "    }\n",
       "\n",
       "    .dataframe tbody tr th {\n",
       "        vertical-align: top;\n",
       "    }\n",
       "\n",
       "    .dataframe thead th {\n",
       "        text-align: right;\n",
       "    }\n",
       "</style>\n",
       "<table border=\"1\" class=\"dataframe\">\n",
       "  <thead>\n",
       "    <tr style=\"text-align: right;\">\n",
       "      <th></th>\n",
       "      <th>Fit Time</th>\n",
       "      <th>Score Time</th>\n",
       "      <th>MAE</th>\n",
       "      <th>MSE</th>\n",
       "      <th>RMSE</th>\n",
       "      <th>Est</th>\n",
       "    </tr>\n",
       "  </thead>\n",
       "  <tbody>\n",
       "    <tr>\n",
       "      <th>0</th>\n",
       "      <td>0.171094</td>\n",
       "      <td>0.004069</td>\n",
       "      <td>3.043054</td>\n",
       "      <td>18.171000</td>\n",
       "      <td>4.247393</td>\n",
       "      <td>5</td>\n",
       "    </tr>\n",
       "    <tr>\n",
       "      <th>1</th>\n",
       "      <td>0.223830</td>\n",
       "      <td>0.004277</td>\n",
       "      <td>2.953408</td>\n",
       "      <td>17.021798</td>\n",
       "      <td>4.100414</td>\n",
       "      <td>10</td>\n",
       "    </tr>\n",
       "    <tr>\n",
       "      <th>2</th>\n",
       "      <td>0.569950</td>\n",
       "      <td>0.005599</td>\n",
       "      <td>2.797186</td>\n",
       "      <td>15.682247</td>\n",
       "      <td>3.945593</td>\n",
       "      <td>25</td>\n",
       "    </tr>\n",
       "    <tr>\n",
       "      <th>3</th>\n",
       "      <td>1.140864</td>\n",
       "      <td>0.010636</td>\n",
       "      <td>2.770126</td>\n",
       "      <td>15.183979</td>\n",
       "      <td>3.883175</td>\n",
       "      <td>50</td>\n",
       "    </tr>\n",
       "    <tr>\n",
       "      <th>4</th>\n",
       "      <td>3.023198</td>\n",
       "      <td>0.034863</td>\n",
       "      <td>2.746151</td>\n",
       "      <td>15.024164</td>\n",
       "      <td>3.862763</td>\n",
       "      <td>100</td>\n",
       "    </tr>\n",
       "    <tr>\n",
       "      <th>5</th>\n",
       "      <td>12.347116</td>\n",
       "      <td>0.078061</td>\n",
       "      <td>2.736286</td>\n",
       "      <td>14.906599</td>\n",
       "      <td>3.846315</td>\n",
       "      <td>500</td>\n",
       "    </tr>\n",
       "    <tr>\n",
       "      <th>6</th>\n",
       "      <td>21.884180</td>\n",
       "      <td>0.172201</td>\n",
       "      <td>2.733538</td>\n",
       "      <td>14.792618</td>\n",
       "      <td>3.831847</td>\n",
       "      <td>1000</td>\n",
       "    </tr>\n",
       "    <tr>\n",
       "      <th>7</th>\n",
       "      <td>84.609357</td>\n",
       "      <td>1.693021</td>\n",
       "      <td>2.730631</td>\n",
       "      <td>14.815535</td>\n",
       "      <td>3.835199</td>\n",
       "      <td>2000</td>\n",
       "    </tr>\n",
       "  </tbody>\n",
       "</table>\n",
       "</div>"
      ],
      "text/plain": [
       "    Fit Time  Score Time       MAE        MSE      RMSE   Est\n",
       "0   0.171094    0.004069  3.043054  18.171000  4.247393     5\n",
       "1   0.223830    0.004277  2.953408  17.021798  4.100414    10\n",
       "2   0.569950    0.005599  2.797186  15.682247  3.945593    25\n",
       "3   1.140864    0.010636  2.770126  15.183979  3.883175    50\n",
       "4   3.023198    0.034863  2.746151  15.024164  3.862763   100\n",
       "5  12.347116    0.078061  2.736286  14.906599  3.846315   500\n",
       "6  21.884180    0.172201  2.733538  14.792618  3.831847  1000\n",
       "7  84.609357    1.693021  2.730631  14.815535  3.835199  2000"
      ]
     },
     "execution_count": 24,
     "metadata": {},
     "output_type": "execute_result"
    }
   ],
   "source": [
    "scores_df\n",
    "# we go for 25 estimations. Note that from 25 -> 50 estimations the error metrics worsen"
   ]
  },
  {
   "cell_type": "code",
   "execution_count": 25,
   "id": "congressional-istanbul",
   "metadata": {},
   "outputs": [],
   "source": [
    "scores_df.to_csv(f'./est-scores/{model_name}-est.csv')"
   ]
  },
  {
   "cell_type": "code",
   "execution_count": 26,
   "id": "economic-underground",
   "metadata": {},
   "outputs": [],
   "source": [
    "pct_scores_df = scores_df.pct_change()"
   ]
  },
  {
   "cell_type": "code",
   "execution_count": 27,
   "id": "wrapped-butterfly",
   "metadata": {},
   "outputs": [
    {
     "data": {
      "text/html": [
       "<div>\n",
       "<style scoped>\n",
       "    .dataframe tbody tr th:only-of-type {\n",
       "        vertical-align: middle;\n",
       "    }\n",
       "\n",
       "    .dataframe tbody tr th {\n",
       "        vertical-align: top;\n",
       "    }\n",
       "\n",
       "    .dataframe thead th {\n",
       "        text-align: right;\n",
       "    }\n",
       "</style>\n",
       "<table border=\"1\" class=\"dataframe\">\n",
       "  <thead>\n",
       "    <tr style=\"text-align: right;\">\n",
       "      <th></th>\n",
       "      <th>Fit Time</th>\n",
       "      <th>Score Time</th>\n",
       "      <th>MAE</th>\n",
       "      <th>MSE</th>\n",
       "      <th>RMSE</th>\n",
       "      <th>Est</th>\n",
       "    </tr>\n",
       "  </thead>\n",
       "  <tbody>\n",
       "    <tr>\n",
       "      <th>0</th>\n",
       "      <td>NaN</td>\n",
       "      <td>NaN</td>\n",
       "      <td>NaN</td>\n",
       "      <td>NaN</td>\n",
       "      <td>NaN</td>\n",
       "      <td>NaN</td>\n",
       "    </tr>\n",
       "    <tr>\n",
       "      <th>1</th>\n",
       "      <td>0.308224</td>\n",
       "      <td>0.050918</td>\n",
       "      <td>-0.029459</td>\n",
       "      <td>-0.063244</td>\n",
       "      <td>-0.034605</td>\n",
       "      <td>1.0</td>\n",
       "    </tr>\n",
       "    <tr>\n",
       "      <th>2</th>\n",
       "      <td>1.546357</td>\n",
       "      <td>0.309172</td>\n",
       "      <td>-0.052895</td>\n",
       "      <td>-0.078696</td>\n",
       "      <td>-0.037757</td>\n",
       "      <td>1.5</td>\n",
       "    </tr>\n",
       "    <tr>\n",
       "      <th>3</th>\n",
       "      <td>1.001690</td>\n",
       "      <td>0.899597</td>\n",
       "      <td>-0.009674</td>\n",
       "      <td>-0.031773</td>\n",
       "      <td>-0.015820</td>\n",
       "      <td>1.0</td>\n",
       "    </tr>\n",
       "    <tr>\n",
       "      <th>4</th>\n",
       "      <td>1.649921</td>\n",
       "      <td>2.277989</td>\n",
       "      <td>-0.008655</td>\n",
       "      <td>-0.010525</td>\n",
       "      <td>-0.005256</td>\n",
       "      <td>1.0</td>\n",
       "    </tr>\n",
       "    <tr>\n",
       "      <th>5</th>\n",
       "      <td>3.084124</td>\n",
       "      <td>1.239056</td>\n",
       "      <td>-0.003592</td>\n",
       "      <td>-0.007825</td>\n",
       "      <td>-0.004258</td>\n",
       "      <td>4.0</td>\n",
       "    </tr>\n",
       "    <tr>\n",
       "      <th>6</th>\n",
       "      <td>0.772412</td>\n",
       "      <td>1.205982</td>\n",
       "      <td>-0.001004</td>\n",
       "      <td>-0.007646</td>\n",
       "      <td>-0.003761</td>\n",
       "      <td>1.0</td>\n",
       "    </tr>\n",
       "    <tr>\n",
       "      <th>7</th>\n",
       "      <td>2.866234</td>\n",
       "      <td>8.831628</td>\n",
       "      <td>-0.001064</td>\n",
       "      <td>0.001549</td>\n",
       "      <td>0.000875</td>\n",
       "      <td>1.0</td>\n",
       "    </tr>\n",
       "  </tbody>\n",
       "</table>\n",
       "</div>"
      ],
      "text/plain": [
       "   Fit Time  Score Time       MAE       MSE      RMSE  Est\n",
       "0       NaN         NaN       NaN       NaN       NaN  NaN\n",
       "1  0.308224    0.050918 -0.029459 -0.063244 -0.034605  1.0\n",
       "2  1.546357    0.309172 -0.052895 -0.078696 -0.037757  1.5\n",
       "3  1.001690    0.899597 -0.009674 -0.031773 -0.015820  1.0\n",
       "4  1.649921    2.277989 -0.008655 -0.010525 -0.005256  1.0\n",
       "5  3.084124    1.239056 -0.003592 -0.007825 -0.004258  4.0\n",
       "6  0.772412    1.205982 -0.001004 -0.007646 -0.003761  1.0\n",
       "7  2.866234    8.831628 -0.001064  0.001549  0.000875  1.0"
      ]
     },
     "execution_count": 27,
     "metadata": {},
     "output_type": "execute_result"
    }
   ],
   "source": [
    "pct_scores_df"
   ]
  },
  {
   "cell_type": "code",
   "execution_count": 28,
   "id": "automatic-confidence",
   "metadata": {},
   "outputs": [
    {
     "data": {
      "text/html": [
       "<style  type=\"text/css\" >\n",
       "#T_971e4916_5dbe_11eb_baef_60f81dd06e70row0_col0,#T_971e4916_5dbe_11eb_baef_60f81dd06e70row0_col1,#T_971e4916_5dbe_11eb_baef_60f81dd06e70row0_col2,#T_971e4916_5dbe_11eb_baef_60f81dd06e70row0_col3,#T_971e4916_5dbe_11eb_baef_60f81dd06e70row0_col4,#T_971e4916_5dbe_11eb_baef_60f81dd06e70row0_col5{\n",
       "            background-color:  #000000;\n",
       "            color:  #f1f1f1;\n",
       "        }#T_971e4916_5dbe_11eb_baef_60f81dd06e70row1_col0,#T_971e4916_5dbe_11eb_baef_60f81dd06e70row1_col1,#T_971e4916_5dbe_11eb_baef_60f81dd06e70row1_col5,#T_971e4916_5dbe_11eb_baef_60f81dd06e70row2_col2,#T_971e4916_5dbe_11eb_baef_60f81dd06e70row2_col3,#T_971e4916_5dbe_11eb_baef_60f81dd06e70row2_col4,#T_971e4916_5dbe_11eb_baef_60f81dd06e70row3_col5,#T_971e4916_5dbe_11eb_baef_60f81dd06e70row4_col5,#T_971e4916_5dbe_11eb_baef_60f81dd06e70row6_col5,#T_971e4916_5dbe_11eb_baef_60f81dd06e70row7_col5{\n",
       "            background-color:  #fff7fb;\n",
       "            color:  #000000;\n",
       "        }#T_971e4916_5dbe_11eb_baef_60f81dd06e70row1_col2{\n",
       "            background-color:  #88b1d4;\n",
       "            color:  #000000;\n",
       "        }#T_971e4916_5dbe_11eb_baef_60f81dd06e70row1_col3{\n",
       "            background-color:  #dddbec;\n",
       "            color:  #000000;\n",
       "        }#T_971e4916_5dbe_11eb_baef_60f81dd06e70row1_col4{\n",
       "            background-color:  #f3edf5;\n",
       "            color:  #000000;\n",
       "        }#T_971e4916_5dbe_11eb_baef_60f81dd06e70row2_col0{\n",
       "            background-color:  #89b1d4;\n",
       "            color:  #000000;\n",
       "        }#T_971e4916_5dbe_11eb_baef_60f81dd06e70row2_col1{\n",
       "            background-color:  #fbf3f9;\n",
       "            color:  #000000;\n",
       "        }#T_971e4916_5dbe_11eb_baef_60f81dd06e70row2_col5,#T_971e4916_5dbe_11eb_baef_60f81dd06e70row6_col0{\n",
       "            background-color:  #e3e0ee;\n",
       "            color:  #000000;\n",
       "        }#T_971e4916_5dbe_11eb_baef_60f81dd06e70row3_col0{\n",
       "            background-color:  #d1d2e6;\n",
       "            color:  #000000;\n",
       "        }#T_971e4916_5dbe_11eb_baef_60f81dd06e70row3_col1{\n",
       "            background-color:  #f1ebf4;\n",
       "            color:  #000000;\n",
       "        }#T_971e4916_5dbe_11eb_baef_60f81dd06e70row3_col2{\n",
       "            background-color:  #046198;\n",
       "            color:  #f1f1f1;\n",
       "        }#T_971e4916_5dbe_11eb_baef_60f81dd06e70row3_col3{\n",
       "            background-color:  #4a98c5;\n",
       "            color:  #000000;\n",
       "        }#T_971e4916_5dbe_11eb_baef_60f81dd06e70row3_col4{\n",
       "            background-color:  #529bc7;\n",
       "            color:  #000000;\n",
       "        }#T_971e4916_5dbe_11eb_baef_60f81dd06e70row4_col0{\n",
       "            background-color:  #7bacd1;\n",
       "            color:  #000000;\n",
       "        }#T_971e4916_5dbe_11eb_baef_60f81dd06e70row4_col1{\n",
       "            background-color:  #d0d1e6;\n",
       "            color:  #000000;\n",
       "        }#T_971e4916_5dbe_11eb_baef_60f81dd06e70row4_col2{\n",
       "            background-color:  #045e93;\n",
       "            color:  #f1f1f1;\n",
       "        }#T_971e4916_5dbe_11eb_baef_60f81dd06e70row4_col3{\n",
       "            background-color:  #045e94;\n",
       "            color:  #f1f1f1;\n",
       "        }#T_971e4916_5dbe_11eb_baef_60f81dd06e70row4_col4{\n",
       "            background-color:  #046096;\n",
       "            color:  #f1f1f1;\n",
       "        }#T_971e4916_5dbe_11eb_baef_60f81dd06e70row5_col0,#T_971e4916_5dbe_11eb_baef_60f81dd06e70row5_col5,#T_971e4916_5dbe_11eb_baef_60f81dd06e70row6_col2,#T_971e4916_5dbe_11eb_baef_60f81dd06e70row7_col1,#T_971e4916_5dbe_11eb_baef_60f81dd06e70row7_col2,#T_971e4916_5dbe_11eb_baef_60f81dd06e70row7_col3,#T_971e4916_5dbe_11eb_baef_60f81dd06e70row7_col4{\n",
       "            background-color:  #023858;\n",
       "            color:  #f1f1f1;\n",
       "        }#T_971e4916_5dbe_11eb_baef_60f81dd06e70row5_col1{\n",
       "            background-color:  #eae6f1;\n",
       "            color:  #000000;\n",
       "        }#T_971e4916_5dbe_11eb_baef_60f81dd06e70row5_col2{\n",
       "            background-color:  #03456c;\n",
       "            color:  #f1f1f1;\n",
       "        }#T_971e4916_5dbe_11eb_baef_60f81dd06e70row5_col3,#T_971e4916_5dbe_11eb_baef_60f81dd06e70row6_col3{\n",
       "            background-color:  #045788;\n",
       "            color:  #f1f1f1;\n",
       "        }#T_971e4916_5dbe_11eb_baef_60f81dd06e70row5_col4{\n",
       "            background-color:  #045b8f;\n",
       "            color:  #f1f1f1;\n",
       "        }#T_971e4916_5dbe_11eb_baef_60f81dd06e70row6_col1{\n",
       "            background-color:  #ebe6f2;\n",
       "            color:  #000000;\n",
       "        }#T_971e4916_5dbe_11eb_baef_60f81dd06e70row6_col4{\n",
       "            background-color:  #04588a;\n",
       "            color:  #f1f1f1;\n",
       "        }#T_971e4916_5dbe_11eb_baef_60f81dd06e70row7_col0{\n",
       "            background-color:  #034d79;\n",
       "            color:  #f1f1f1;\n",
       "        }</style><table id=\"T_971e4916_5dbe_11eb_baef_60f81dd06e70\" ><thead>    <tr>        <th class=\"blank level0\" ></th>        <th class=\"col_heading level0 col0\" >Fit Time</th>        <th class=\"col_heading level0 col1\" >Score Time</th>        <th class=\"col_heading level0 col2\" >MAE</th>        <th class=\"col_heading level0 col3\" >MSE</th>        <th class=\"col_heading level0 col4\" >RMSE</th>        <th class=\"col_heading level0 col5\" >Est</th>    </tr></thead><tbody>\n",
       "                <tr>\n",
       "                        <th id=\"T_971e4916_5dbe_11eb_baef_60f81dd06e70level0_row0\" class=\"row_heading level0 row0\" >0</th>\n",
       "                        <td id=\"T_971e4916_5dbe_11eb_baef_60f81dd06e70row0_col0\" class=\"data row0 col0\" >nan</td>\n",
       "                        <td id=\"T_971e4916_5dbe_11eb_baef_60f81dd06e70row0_col1\" class=\"data row0 col1\" >nan</td>\n",
       "                        <td id=\"T_971e4916_5dbe_11eb_baef_60f81dd06e70row0_col2\" class=\"data row0 col2\" >nan</td>\n",
       "                        <td id=\"T_971e4916_5dbe_11eb_baef_60f81dd06e70row0_col3\" class=\"data row0 col3\" >nan</td>\n",
       "                        <td id=\"T_971e4916_5dbe_11eb_baef_60f81dd06e70row0_col4\" class=\"data row0 col4\" >nan</td>\n",
       "                        <td id=\"T_971e4916_5dbe_11eb_baef_60f81dd06e70row0_col5\" class=\"data row0 col5\" >nan</td>\n",
       "            </tr>\n",
       "            <tr>\n",
       "                        <th id=\"T_971e4916_5dbe_11eb_baef_60f81dd06e70level0_row1\" class=\"row_heading level0 row1\" >1</th>\n",
       "                        <td id=\"T_971e4916_5dbe_11eb_baef_60f81dd06e70row1_col0\" class=\"data row1 col0\" >0.308224</td>\n",
       "                        <td id=\"T_971e4916_5dbe_11eb_baef_60f81dd06e70row1_col1\" class=\"data row1 col1\" >0.050918</td>\n",
       "                        <td id=\"T_971e4916_5dbe_11eb_baef_60f81dd06e70row1_col2\" class=\"data row1 col2\" >-0.029459</td>\n",
       "                        <td id=\"T_971e4916_5dbe_11eb_baef_60f81dd06e70row1_col3\" class=\"data row1 col3\" >-0.063244</td>\n",
       "                        <td id=\"T_971e4916_5dbe_11eb_baef_60f81dd06e70row1_col4\" class=\"data row1 col4\" >-0.034605</td>\n",
       "                        <td id=\"T_971e4916_5dbe_11eb_baef_60f81dd06e70row1_col5\" class=\"data row1 col5\" >1.000000</td>\n",
       "            </tr>\n",
       "            <tr>\n",
       "                        <th id=\"T_971e4916_5dbe_11eb_baef_60f81dd06e70level0_row2\" class=\"row_heading level0 row2\" >2</th>\n",
       "                        <td id=\"T_971e4916_5dbe_11eb_baef_60f81dd06e70row2_col0\" class=\"data row2 col0\" >1.546357</td>\n",
       "                        <td id=\"T_971e4916_5dbe_11eb_baef_60f81dd06e70row2_col1\" class=\"data row2 col1\" >0.309172</td>\n",
       "                        <td id=\"T_971e4916_5dbe_11eb_baef_60f81dd06e70row2_col2\" class=\"data row2 col2\" >-0.052895</td>\n",
       "                        <td id=\"T_971e4916_5dbe_11eb_baef_60f81dd06e70row2_col3\" class=\"data row2 col3\" >-0.078696</td>\n",
       "                        <td id=\"T_971e4916_5dbe_11eb_baef_60f81dd06e70row2_col4\" class=\"data row2 col4\" >-0.037757</td>\n",
       "                        <td id=\"T_971e4916_5dbe_11eb_baef_60f81dd06e70row2_col5\" class=\"data row2 col5\" >1.500000</td>\n",
       "            </tr>\n",
       "            <tr>\n",
       "                        <th id=\"T_971e4916_5dbe_11eb_baef_60f81dd06e70level0_row3\" class=\"row_heading level0 row3\" >3</th>\n",
       "                        <td id=\"T_971e4916_5dbe_11eb_baef_60f81dd06e70row3_col0\" class=\"data row3 col0\" >1.001690</td>\n",
       "                        <td id=\"T_971e4916_5dbe_11eb_baef_60f81dd06e70row3_col1\" class=\"data row3 col1\" >0.899597</td>\n",
       "                        <td id=\"T_971e4916_5dbe_11eb_baef_60f81dd06e70row3_col2\" class=\"data row3 col2\" >-0.009674</td>\n",
       "                        <td id=\"T_971e4916_5dbe_11eb_baef_60f81dd06e70row3_col3\" class=\"data row3 col3\" >-0.031773</td>\n",
       "                        <td id=\"T_971e4916_5dbe_11eb_baef_60f81dd06e70row3_col4\" class=\"data row3 col4\" >-0.015820</td>\n",
       "                        <td id=\"T_971e4916_5dbe_11eb_baef_60f81dd06e70row3_col5\" class=\"data row3 col5\" >1.000000</td>\n",
       "            </tr>\n",
       "            <tr>\n",
       "                        <th id=\"T_971e4916_5dbe_11eb_baef_60f81dd06e70level0_row4\" class=\"row_heading level0 row4\" >4</th>\n",
       "                        <td id=\"T_971e4916_5dbe_11eb_baef_60f81dd06e70row4_col0\" class=\"data row4 col0\" >1.649921</td>\n",
       "                        <td id=\"T_971e4916_5dbe_11eb_baef_60f81dd06e70row4_col1\" class=\"data row4 col1\" >2.277989</td>\n",
       "                        <td id=\"T_971e4916_5dbe_11eb_baef_60f81dd06e70row4_col2\" class=\"data row4 col2\" >-0.008655</td>\n",
       "                        <td id=\"T_971e4916_5dbe_11eb_baef_60f81dd06e70row4_col3\" class=\"data row4 col3\" >-0.010525</td>\n",
       "                        <td id=\"T_971e4916_5dbe_11eb_baef_60f81dd06e70row4_col4\" class=\"data row4 col4\" >-0.005256</td>\n",
       "                        <td id=\"T_971e4916_5dbe_11eb_baef_60f81dd06e70row4_col5\" class=\"data row4 col5\" >1.000000</td>\n",
       "            </tr>\n",
       "            <tr>\n",
       "                        <th id=\"T_971e4916_5dbe_11eb_baef_60f81dd06e70level0_row5\" class=\"row_heading level0 row5\" >5</th>\n",
       "                        <td id=\"T_971e4916_5dbe_11eb_baef_60f81dd06e70row5_col0\" class=\"data row5 col0\" >3.084124</td>\n",
       "                        <td id=\"T_971e4916_5dbe_11eb_baef_60f81dd06e70row5_col1\" class=\"data row5 col1\" >1.239056</td>\n",
       "                        <td id=\"T_971e4916_5dbe_11eb_baef_60f81dd06e70row5_col2\" class=\"data row5 col2\" >-0.003592</td>\n",
       "                        <td id=\"T_971e4916_5dbe_11eb_baef_60f81dd06e70row5_col3\" class=\"data row5 col3\" >-0.007825</td>\n",
       "                        <td id=\"T_971e4916_5dbe_11eb_baef_60f81dd06e70row5_col4\" class=\"data row5 col4\" >-0.004258</td>\n",
       "                        <td id=\"T_971e4916_5dbe_11eb_baef_60f81dd06e70row5_col5\" class=\"data row5 col5\" >4.000000</td>\n",
       "            </tr>\n",
       "            <tr>\n",
       "                        <th id=\"T_971e4916_5dbe_11eb_baef_60f81dd06e70level0_row6\" class=\"row_heading level0 row6\" >6</th>\n",
       "                        <td id=\"T_971e4916_5dbe_11eb_baef_60f81dd06e70row6_col0\" class=\"data row6 col0\" >0.772412</td>\n",
       "                        <td id=\"T_971e4916_5dbe_11eb_baef_60f81dd06e70row6_col1\" class=\"data row6 col1\" >1.205982</td>\n",
       "                        <td id=\"T_971e4916_5dbe_11eb_baef_60f81dd06e70row6_col2\" class=\"data row6 col2\" >-0.001004</td>\n",
       "                        <td id=\"T_971e4916_5dbe_11eb_baef_60f81dd06e70row6_col3\" class=\"data row6 col3\" >-0.007646</td>\n",
       "                        <td id=\"T_971e4916_5dbe_11eb_baef_60f81dd06e70row6_col4\" class=\"data row6 col4\" >-0.003761</td>\n",
       "                        <td id=\"T_971e4916_5dbe_11eb_baef_60f81dd06e70row6_col5\" class=\"data row6 col5\" >1.000000</td>\n",
       "            </tr>\n",
       "            <tr>\n",
       "                        <th id=\"T_971e4916_5dbe_11eb_baef_60f81dd06e70level0_row7\" class=\"row_heading level0 row7\" >7</th>\n",
       "                        <td id=\"T_971e4916_5dbe_11eb_baef_60f81dd06e70row7_col0\" class=\"data row7 col0\" >2.866234</td>\n",
       "                        <td id=\"T_971e4916_5dbe_11eb_baef_60f81dd06e70row7_col1\" class=\"data row7 col1\" >8.831628</td>\n",
       "                        <td id=\"T_971e4916_5dbe_11eb_baef_60f81dd06e70row7_col2\" class=\"data row7 col2\" >-0.001064</td>\n",
       "                        <td id=\"T_971e4916_5dbe_11eb_baef_60f81dd06e70row7_col3\" class=\"data row7 col3\" >0.001549</td>\n",
       "                        <td id=\"T_971e4916_5dbe_11eb_baef_60f81dd06e70row7_col4\" class=\"data row7 col4\" >0.000875</td>\n",
       "                        <td id=\"T_971e4916_5dbe_11eb_baef_60f81dd06e70row7_col5\" class=\"data row7 col5\" >1.000000</td>\n",
       "            </tr>\n",
       "    </tbody></table>"
      ],
      "text/plain": [
       "<pandas.io.formats.style.Styler at 0x7fa2ab97a280>"
      ]
     },
     "execution_count": 28,
     "metadata": {},
     "output_type": "execute_result"
    }
   ],
   "source": [
    "pct_scores_df.style.background_gradient() \n",
    "# we choose index 4, 100 Estimations <- \n",
    "    # Score time decrease 3->4 & Score time increase dramatically 4->5\n",
    "    # unsubstantial decrease MSE & RMSE 4->5 compared to 3->4"
   ]
  },
  {
   "cell_type": "markdown",
   "id": "amber-antique",
   "metadata": {},
   "source": [
    "# Score Model"
   ]
  },
  {
   "cell_type": "code",
   "execution_count": 29,
   "id": "encouraging-coaching",
   "metadata": {},
   "outputs": [
    {
     "data": {
      "text/plain": [
       "RandomForestRegressor()"
      ]
     },
     "execution_count": 29,
     "metadata": {},
     "output_type": "execute_result"
    }
   ],
   "source": [
    "# MODIFY!\n",
    "# adopt number of estimators from the previous section\n",
    "\n",
    "score_model = RandomForestRegressor(n_estimators=100)\n",
    "score_model"
   ]
  },
  {
   "cell_type": "code",
   "execution_count": 30,
   "id": "dental-trial",
   "metadata": {},
   "outputs": [],
   "source": [
    "from sklearn.model_selection import cross_validate\n",
    "\n",
    "scores = cross_validate(\n",
    "    score_model, \n",
    "    X_train, \n",
    "    y_train,\n",
    "    scoring=[\n",
    "        'neg_mean_absolute_error',\n",
    "        'neg_mean_squared_error',\n",
    "        'neg_root_mean_squared_error'\n",
    "    ],\n",
    "    cv=10\n",
    ")"
   ]
  },
  {
   "cell_type": "code",
   "execution_count": 31,
   "id": "american-parking",
   "metadata": {},
   "outputs": [],
   "source": [
    "scores = pd.DataFrame(scores)"
   ]
  },
  {
   "cell_type": "code",
   "execution_count": 32,
   "id": "stainless-thanks",
   "metadata": {},
   "outputs": [
    {
     "data": {
      "text/html": [
       "<div>\n",
       "<style scoped>\n",
       "    .dataframe tbody tr th:only-of-type {\n",
       "        vertical-align: middle;\n",
       "    }\n",
       "\n",
       "    .dataframe tbody tr th {\n",
       "        vertical-align: top;\n",
       "    }\n",
       "\n",
       "    .dataframe thead th {\n",
       "        text-align: right;\n",
       "    }\n",
       "</style>\n",
       "<table border=\"1\" class=\"dataframe\">\n",
       "  <thead>\n",
       "    <tr style=\"text-align: right;\">\n",
       "      <th></th>\n",
       "      <th>fit_time</th>\n",
       "      <th>score_time</th>\n",
       "      <th>test_neg_mean_absolute_error</th>\n",
       "      <th>test_neg_mean_squared_error</th>\n",
       "      <th>test_neg_root_mean_squared_error</th>\n",
       "    </tr>\n",
       "  </thead>\n",
       "  <tbody>\n",
       "    <tr>\n",
       "      <th>0</th>\n",
       "      <td>1.916715</td>\n",
       "      <td>0.019873</td>\n",
       "      <td>-2.726208</td>\n",
       "      <td>-14.478384</td>\n",
       "      <td>-3.805047</td>\n",
       "    </tr>\n",
       "    <tr>\n",
       "      <th>1</th>\n",
       "      <td>2.076484</td>\n",
       "      <td>0.013830</td>\n",
       "      <td>-2.660255</td>\n",
       "      <td>-14.203729</td>\n",
       "      <td>-3.768783</td>\n",
       "    </tr>\n",
       "    <tr>\n",
       "      <th>2</th>\n",
       "      <td>1.815638</td>\n",
       "      <td>0.013662</td>\n",
       "      <td>-2.576911</td>\n",
       "      <td>-13.732067</td>\n",
       "      <td>-3.705680</td>\n",
       "    </tr>\n",
       "    <tr>\n",
       "      <th>3</th>\n",
       "      <td>1.863124</td>\n",
       "      <td>0.013945</td>\n",
       "      <td>-2.907251</td>\n",
       "      <td>-15.327095</td>\n",
       "      <td>-3.914983</td>\n",
       "    </tr>\n",
       "    <tr>\n",
       "      <th>4</th>\n",
       "      <td>1.858530</td>\n",
       "      <td>0.013523</td>\n",
       "      <td>-3.079179</td>\n",
       "      <td>-21.356821</td>\n",
       "      <td>-4.621344</td>\n",
       "    </tr>\n",
       "    <tr>\n",
       "      <th>5</th>\n",
       "      <td>1.771013</td>\n",
       "      <td>0.013215</td>\n",
       "      <td>-2.477925</td>\n",
       "      <td>-11.281730</td>\n",
       "      <td>-3.358829</td>\n",
       "    </tr>\n",
       "    <tr>\n",
       "      <th>6</th>\n",
       "      <td>1.831749</td>\n",
       "      <td>0.015071</td>\n",
       "      <td>-2.894888</td>\n",
       "      <td>-15.652770</td>\n",
       "      <td>-3.956358</td>\n",
       "    </tr>\n",
       "    <tr>\n",
       "      <th>7</th>\n",
       "      <td>1.881055</td>\n",
       "      <td>0.013206</td>\n",
       "      <td>-2.664530</td>\n",
       "      <td>-13.332245</td>\n",
       "      <td>-3.651335</td>\n",
       "    </tr>\n",
       "    <tr>\n",
       "      <th>8</th>\n",
       "      <td>1.844298</td>\n",
       "      <td>0.013885</td>\n",
       "      <td>-2.582821</td>\n",
       "      <td>-12.670202</td>\n",
       "      <td>-3.559523</td>\n",
       "    </tr>\n",
       "    <tr>\n",
       "      <th>9</th>\n",
       "      <td>1.797775</td>\n",
       "      <td>0.014035</td>\n",
       "      <td>-2.858461</td>\n",
       "      <td>-17.612430</td>\n",
       "      <td>-4.196717</td>\n",
       "    </tr>\n",
       "  </tbody>\n",
       "</table>\n",
       "</div>"
      ],
      "text/plain": [
       "   fit_time  score_time  test_neg_mean_absolute_error  \\\n",
       "0  1.916715    0.019873                     -2.726208   \n",
       "1  2.076484    0.013830                     -2.660255   \n",
       "2  1.815638    0.013662                     -2.576911   \n",
       "3  1.863124    0.013945                     -2.907251   \n",
       "4  1.858530    0.013523                     -3.079179   \n",
       "5  1.771013    0.013215                     -2.477925   \n",
       "6  1.831749    0.015071                     -2.894888   \n",
       "7  1.881055    0.013206                     -2.664530   \n",
       "8  1.844298    0.013885                     -2.582821   \n",
       "9  1.797775    0.014035                     -2.858461   \n",
       "\n",
       "   test_neg_mean_squared_error  test_neg_root_mean_squared_error  \n",
       "0                   -14.478384                         -3.805047  \n",
       "1                   -14.203729                         -3.768783  \n",
       "2                   -13.732067                         -3.705680  \n",
       "3                   -15.327095                         -3.914983  \n",
       "4                   -21.356821                         -4.621344  \n",
       "5                   -11.281730                         -3.358829  \n",
       "6                   -15.652770                         -3.956358  \n",
       "7                   -13.332245                         -3.651335  \n",
       "8                   -12.670202                         -3.559523  \n",
       "9                   -17.612430                         -4.196717  "
      ]
     },
     "execution_count": 32,
     "metadata": {},
     "output_type": "execute_result"
    }
   ],
   "source": [
    "scores"
   ]
  },
  {
   "cell_type": "code",
   "execution_count": 33,
   "id": "eligible-fence",
   "metadata": {},
   "outputs": [],
   "source": [
    "mean_scores = scores.mean()"
   ]
  },
  {
   "cell_type": "code",
   "execution_count": 34,
   "id": "tight-liability",
   "metadata": {},
   "outputs": [
    {
     "data": {
      "text/plain": [
       "fit_time                             1.865638\n",
       "score_time                           0.014425\n",
       "test_neg_mean_absolute_error        -2.742843\n",
       "test_neg_mean_squared_error        -14.964747\n",
       "test_neg_root_mean_squared_error    -3.853860\n",
       "dtype: float64"
      ]
     },
     "execution_count": 34,
     "metadata": {},
     "output_type": "execute_result"
    }
   ],
   "source": [
    "mean_scores"
   ]
  },
  {
   "cell_type": "markdown",
   "id": "regular-execution",
   "metadata": {},
   "source": [
    "# Export Model Scores"
   ]
  },
  {
   "cell_type": "code",
   "execution_count": 35,
   "id": "desirable-timber",
   "metadata": {},
   "outputs": [],
   "source": [
    "mean_scores = mean_scores.rename(f'{model_name}')"
   ]
  },
  {
   "cell_type": "code",
   "execution_count": 36,
   "id": "speaking-august",
   "metadata": {},
   "outputs": [],
   "source": [
    "mean_scores[[2,3,4]] = mean_scores[[2,3,4]].apply(abs)"
   ]
  },
  {
   "cell_type": "code",
   "execution_count": 37,
   "id": "described-surge",
   "metadata": {},
   "outputs": [],
   "source": [
    "# mean_scores"
   ]
  },
  {
   "cell_type": "code",
   "execution_count": 38,
   "id": "italian-swiss",
   "metadata": {},
   "outputs": [],
   "source": [
    "mean_scores = mean_scores.rename({\n",
    "    'fit_time':'Fit Time',\n",
    "    'score_time':'Score Time',\n",
    "    'test_neg_mean_absolute_error':'MAE',\n",
    "    'test_neg_mean_squared_error':'MSE',\n",
    "    'test_neg_root_mean_squared_error':'RMSE'\n",
    "})"
   ]
  },
  {
   "cell_type": "code",
   "execution_count": 39,
   "id": "suitable-peninsula",
   "metadata": {},
   "outputs": [
    {
     "data": {
      "text/plain": [
       "Fit Time       1.865638\n",
       "Score Time     0.014425\n",
       "MAE            2.742843\n",
       "MSE           14.964747\n",
       "RMSE           3.853860\n",
       "Name: rf-no, dtype: float64"
      ]
     },
     "execution_count": 39,
     "metadata": {},
     "output_type": "execute_result"
    }
   ],
   "source": [
    "mean_scores"
   ]
  },
  {
   "cell_type": "code",
   "execution_count": 40,
   "id": "prepared-pitch",
   "metadata": {},
   "outputs": [],
   "source": [
    "mean_scores['STD FT'] = scores.fit_time.std()\n",
    "mean_scores['STD ST'] = scores.score_time.std()\n",
    "mean_scores['STD MAE'] = scores.test_neg_mean_absolute_error.std()\n",
    "mean_scores['STD MSE'] = scores.test_neg_mean_squared_error.std()\n",
    "mean_scores['STD RMSE'] = scores.test_neg_root_mean_squared_error.std()"
   ]
  },
  {
   "cell_type": "code",
   "execution_count": 41,
   "id": "coupled-morrison",
   "metadata": {},
   "outputs": [
    {
     "data": {
      "text/plain": [
       "Fit Time       1.865638\n",
       "Score Time     0.014425\n",
       "MAE            2.742843\n",
       "MSE           14.964747\n",
       "RMSE           3.853860\n",
       "STD FT         0.084998\n",
       "STD ST         0.001985\n",
       "STD MAE        0.186544\n",
       "STD MSE        2.834379\n",
       "STD RMSE       0.353571\n",
       "Name: rf-no, dtype: float64"
      ]
     },
     "execution_count": 41,
     "metadata": {},
     "output_type": "execute_result"
    }
   ],
   "source": [
    "mean_scores"
   ]
  },
  {
   "cell_type": "code",
   "execution_count": 42,
   "id": "comparable-center",
   "metadata": {},
   "outputs": [],
   "source": [
    "mean_scores.to_csv(f'./scores/{model_name}.csv')"
   ]
  },
  {
   "cell_type": "markdown",
   "id": "dietary-reader",
   "metadata": {},
   "source": [
    "# Holdout Test"
   ]
  },
  {
   "cell_type": "code",
   "execution_count": 43,
   "id": "muslim-richards",
   "metadata": {},
   "outputs": [
    {
     "data": {
      "text/plain": [
       "RandomForestRegressor()"
      ]
     },
     "execution_count": 43,
     "metadata": {},
     "output_type": "execute_result"
    }
   ],
   "source": [
    "score_model.fit(X_train,y_train)"
   ]
  },
  {
   "cell_type": "code",
   "execution_count": 44,
   "id": "satisfied-wright",
   "metadata": {},
   "outputs": [],
   "source": [
    "y_holdout = score_model.predict(X_test)"
   ]
  },
  {
   "cell_type": "code",
   "execution_count": 45,
   "id": "dedicated-preview",
   "metadata": {},
   "outputs": [
    {
     "data": {
      "text/plain": [
       "<AxesSubplot:ylabel='Count'>"
      ]
     },
     "execution_count": 45,
     "metadata": {},
     "output_type": "execute_result"
    },
    {
     "data": {
      "image/png": "[encoded data removed]",
      "text/plain": [
       "<Figure size 432x288 with 1 Axes>"
      ]
     },
     "metadata": {
      "needs_background": "light"
     },
     "output_type": "display_data"
    }
   ],
   "source": [
    "sns.histplot(y_holdout,bins=40,kde=True)"
   ]
  },
  {
   "cell_type": "code",
   "execution_count": 46,
   "id": "aboriginal-accused",
   "metadata": {},
   "outputs": [
    {
     "data": {
      "text/plain": [
       "<matplotlib.legend.Legend at 0x7fa294e79820>"
      ]
     },
     "execution_count": 46,
     "metadata": {},
     "output_type": "execute_result"
    },
    {
     "data": {
      "image/png": "[encoded data removed]",
      "text/plain": [
       "<Figure size 432x288 with 1 Axes>"
      ]
     },
     "metadata": {
      "needs_background": "light"
     },
     "output_type": "display_data"
    }
   ],
   "source": [
    "fig,ax = plt.subplots()\n",
    "\n",
    "sns.kdeplot(y_test, ax=ax, shade=True, label='Observations')\n",
    "sns.kdeplot(y_holdout, ax=ax,shade=True,label='Predictions')\n",
    "\n",
    "ax.legend(loc='best')"
   ]
  },
  {
   "cell_type": "code",
   "execution_count": 47,
   "id": "intellectual-laser",
   "metadata": {},
   "outputs": [
    {
     "data": {
      "text/plain": [
       "<matplotlib.legend.Legend at 0x7fa294f89af0>"
      ]
     },
     "execution_count": 47,
     "metadata": {},
     "output_type": "execute_result"
    },
    {
     "data": {
      "image/png": "[encoded data removed]",
      "text/plain": [
       "<Figure size 432x288 with 1 Axes>"
      ]
     },
     "metadata": {
      "needs_background": "light"
     },
     "output_type": "display_data"
    }
   ],
   "source": [
    "fig,ax = plt.subplots()\n",
    "\n",
    "sns.ecdfplot(y_test, ax=ax, label='Observations')\n",
    "sns.ecdfplot(y_holdout, ax=ax,label='Predictions')\n",
    "plt.axvline(x=y_test.mean(),color='grey',linestyle='--')\n",
    "\n",
    "ax.legend(loc='best')"
   ]
  },
  {
   "cell_type": "code",
   "execution_count": 48,
   "id": "exclusive-ceramic",
   "metadata": {},
   "outputs": [],
   "source": [
    "from sklearn.metrics import mean_absolute_error, mean_squared_error\n",
    "\n",
    "mae = mean_absolute_error(y_test,y_holdout)\n",
    "mse = mean_squared_error(y_test,y_holdout)\n",
    "rmse = np.sqrt(mse)"
   ]
  },
  {
   "cell_type": "code",
   "execution_count": 49,
   "id": "manual-absolute",
   "metadata": {},
   "outputs": [
    {
     "data": {
      "text/html": [
       "<div>\n",
       "<style scoped>\n",
       "    .dataframe tbody tr th:only-of-type {\n",
       "        vertical-align: middle;\n",
       "    }\n",
       "\n",
       "    .dataframe tbody tr th {\n",
       "        vertical-align: top;\n",
       "    }\n",
       "\n",
       "    .dataframe thead th {\n",
       "        text-align: right;\n",
       "    }\n",
       "</style>\n",
       "<table border=\"1\" class=\"dataframe\">\n",
       "  <thead>\n",
       "    <tr style=\"text-align: right;\">\n",
       "      <th></th>\n",
       "      <th>rf-no</th>\n",
       "    </tr>\n",
       "  </thead>\n",
       "  <tbody>\n",
       "    <tr>\n",
       "      <th>MAE</th>\n",
       "      <td>2.872122</td>\n",
       "    </tr>\n",
       "    <tr>\n",
       "      <th>MSE</th>\n",
       "      <td>17.206420</td>\n",
       "    </tr>\n",
       "    <tr>\n",
       "      <th>RMSE</th>\n",
       "      <td>4.148062</td>\n",
       "    </tr>\n",
       "  </tbody>\n",
       "</table>\n",
       "</div>"
      ],
      "text/plain": [
       "          rf-no\n",
       "MAE    2.872122\n",
       "MSE   17.206420\n",
       "RMSE   4.148062"
      ]
     },
     "execution_count": 49,
     "metadata": {},
     "output_type": "execute_result"
    }
   ],
   "source": [
    "err_df = pd.DataFrame(data=[mae, mse, rmse],index=['MAE','MSE','RMSE'],columns=[f'{model_name}'])\n",
    "err_df"
   ]
  },
  {
   "cell_type": "code",
   "execution_count": 50,
   "id": "lonely-portal",
   "metadata": {},
   "outputs": [],
   "source": [
    "err_df.to_csv(f'./holdout-test/{model_name}.csv')\n",
    "# mean_scores.to_csv(f'./opt-model-err/{model_name}-err.csv')"
   ]
  },
  {
   "cell_type": "code",
   "execution_count": 51,
   "id": "advanced-thompson",
   "metadata": {},
   "outputs": [
    {
     "data": {
      "text/plain": [
       "mean    -0.212039\n",
       "std      4.153140\n",
       "min    -11.139511\n",
       "25%     -2.061679\n",
       "50%      0.118501\n",
       "75%      1.817542\n",
       "max     20.433812\n",
       "Name: throughput, dtype: float64"
      ]
     },
     "execution_count": 51,
     "metadata": {},
     "output_type": "execute_result"
    }
   ],
   "source": [
    "res = y_test - y_holdout\n",
    "res.describe().drop('count')"
   ]
  },
  {
   "cell_type": "code",
   "execution_count": 52,
   "id": "infinite-typing",
   "metadata": {},
   "outputs": [
    {
     "data": {
      "text/plain": [
       "<AxesSubplot:xlabel='throughput', ylabel='Count'>"
      ]
     },
     "execution_count": 52,
     "metadata": {},
     "output_type": "execute_result"
    },
    {
     "data": {
      "image/png": "[encoded data removed]",
      "text/plain": [
       "<Figure size 432x288 with 1 Axes>"
      ]
     },
     "metadata": {
      "needs_background": "light"
     },
     "output_type": "display_data"
    }
   ],
   "source": [
    "sns.histplot(data=res, kde=True,bins=40)"
   ]
  },
  {
   "cell_type": "code",
   "execution_count": 53,
   "id": "published-paradise",
   "metadata": {},
   "outputs": [
    {
     "data": {
      "text/plain": [
       "<matplotlib.lines.Line2D at 0x7fa295241c40>"
      ]
     },
     "execution_count": 53,
     "metadata": {},
     "output_type": "execute_result"
    },
    {
     "data": {
      "image/png": "[encoded data removed]",
      "text/plain": [
       "<Figure size 432x288 with 1 Axes>"
      ]
     },
     "metadata": {
      "needs_background": "light"
     },
     "output_type": "display_data"
    }
   ],
   "source": [
    "ax = sns.scatterplot(x=y_test, y=res)\n",
    "ax.set(ylabel='Residuals', xlabel='Test Label')\n",
    "plt.axhline(y=0,color='red',linestyle='--')\n",
    "\n",
    "# there should be no clear pattern / curve in the plot\n",
    "# we see a positive correlation between Test Label and Residuals -> later models should avoid this pattern"
   ]
  },
  {
   "cell_type": "code",
   "execution_count": 54,
   "id": "grave-marking",
   "metadata": {},
   "outputs": [
    {
     "data": {
      "image/png": "[encoded data removed]",
      "text/plain": [
       "<Figure size 432x288 with 1 Axes>"
      ]
     },
     "metadata": {
      "needs_background": "light"
     },
     "output_type": "display_data"
    }
   ],
   "source": [
    "import scipy as sp\n",
    "\n",
    "fig, ax = plt.subplots()\n",
    "sp.stats.probplot(res,plot=ax);"
   ]
  },
  {
   "cell_type": "markdown",
   "id": "military-diagram",
   "metadata": {},
   "source": [
    "# Export Optimized Model"
   ]
  },
  {
   "cell_type": "code",
   "execution_count": 55,
   "id": "incident-slovenia",
   "metadata": {},
   "outputs": [
    {
     "data": {
      "text/plain": [
       "RobustScaler()"
      ]
     },
     "execution_count": 55,
     "metadata": {},
     "output_type": "execute_result"
    }
   ],
   "source": [
    "from sklearn.preprocessing import RobustScaler\n",
    "scaler = RobustScaler()\n",
    "scaler.fit(X)"
   ]
  },
  {
   "cell_type": "code",
   "execution_count": 56,
   "id": "isolated-union",
   "metadata": {},
   "outputs": [
    {
     "data": {
      "text/plain": [
       "RandomForestRegressor()"
      ]
     },
     "execution_count": 56,
     "metadata": {},
     "output_type": "execute_result"
    }
   ],
   "source": [
    "# MODIFY! \n",
    "X = scaler.transform(X)\n",
    "\n",
    "op_model = score_model\n",
    "\n",
    "op_model.fit(X,y)"
   ]
  },
  {
   "cell_type": "code",
   "execution_count": 57,
   "id": "proper-discrimination",
   "metadata": {},
   "outputs": [],
   "source": [
    "y_pred = op_model.predict(X)"
   ]
  },
  {
   "cell_type": "code",
   "execution_count": 58,
   "id": "threaded-criticism",
   "metadata": {},
   "outputs": [
    {
     "data": {
      "text/plain": [
       "<AxesSubplot:ylabel='Count'>"
      ]
     },
     "execution_count": 58,
     "metadata": {},
     "output_type": "execute_result"
    },
    {
     "data": {
      "image/png": "[encoded data removed]",
      "text/plain": [
       "<Figure size 432x288 with 1 Axes>"
      ]
     },
     "metadata": {
      "needs_background": "light"
     },
     "output_type": "display_data"
    }
   ],
   "source": [
    "sns.histplot(y_pred,bins=40,kde=True)"
   ]
  },
  {
   "cell_type": "code",
   "execution_count": 59,
   "id": "conceptual-sound",
   "metadata": {},
   "outputs": [
    {
     "data": {
      "text/plain": [
       "<matplotlib.legend.Legend at 0x7fa2955c1d90>"
      ]
     },
     "execution_count": 59,
     "metadata": {},
     "output_type": "execute_result"
    },
    {
     "data": {
      "image/png": "[encoded data removed]",
      "text/plain": [
       "<Figure size 432x288 with 1 Axes>"
      ]
     },
     "metadata": {
      "needs_background": "light"
     },
     "output_type": "display_data"
    }
   ],
   "source": [
    "fig,ax = plt.subplots()\n",
    "\n",
    "sns.kdeplot(y, ax=ax, shade=True, label='Observations')\n",
    "sns.kdeplot(y_pred, ax=ax,shade=True,label='Predictions')\n",
    "\n",
    "ax.legend(loc='best')"
   ]
  },
  {
   "cell_type": "code",
   "execution_count": 60,
   "id": "guided-jesus",
   "metadata": {},
   "outputs": [
    {
     "data": {
      "text/plain": [
       "<matplotlib.legend.Legend at 0x7fa2953778e0>"
      ]
     },
     "execution_count": 60,
     "metadata": {},
     "output_type": "execute_result"
    },
    {
     "data": {
      "image/png": "[encoded data removed]",
      "text/plain": [
       "<Figure size 432x288 with 1 Axes>"
      ]
     },
     "metadata": {
      "needs_background": "light"
     },
     "output_type": "display_data"
    }
   ],
   "source": [
    "fig,ax = plt.subplots()\n",
    "\n",
    "sns.ecdfplot(y, ax=ax, label='Observations')\n",
    "sns.ecdfplot(y_pred, ax=ax,label='Predictions')\n",
    "plt.axvline(x=y.mean(),color='grey',linestyle='--')\n",
    "\n",
    "ax.legend(loc='best')"
   ]
  },
  {
   "cell_type": "code",
   "execution_count": 61,
   "id": "relative-olive",
   "metadata": {},
   "outputs": [],
   "source": [
    "mae = mean_absolute_error(y,y_pred)\n",
    "mse = mean_squared_error(y,y_pred)\n",
    "rmse = np.sqrt(mse)"
   ]
  },
  {
   "cell_type": "code",
   "execution_count": 62,
   "id": "forced-magnet",
   "metadata": {},
   "outputs": [
    {
     "data": {
      "text/html": [
       "<div>\n",
       "<style scoped>\n",
       "    .dataframe tbody tr th:only-of-type {\n",
       "        vertical-align: middle;\n",
       "    }\n",
       "\n",
       "    .dataframe tbody tr th {\n",
       "        vertical-align: top;\n",
       "    }\n",
       "\n",
       "    .dataframe thead th {\n",
       "        text-align: right;\n",
       "    }\n",
       "</style>\n",
       "<table border=\"1\" class=\"dataframe\">\n",
       "  <thead>\n",
       "    <tr style=\"text-align: right;\">\n",
       "      <th></th>\n",
       "      <th>rf-no</th>\n",
       "    </tr>\n",
       "  </thead>\n",
       "  <tbody>\n",
       "    <tr>\n",
       "      <th>MAE</th>\n",
       "      <td>1.007010</td>\n",
       "    </tr>\n",
       "    <tr>\n",
       "      <th>MSE</th>\n",
       "      <td>1.999398</td>\n",
       "    </tr>\n",
       "    <tr>\n",
       "      <th>RMSE</th>\n",
       "      <td>1.414001</td>\n",
       "    </tr>\n",
       "  </tbody>\n",
       "</table>\n",
       "</div>"
      ],
      "text/plain": [
       "         rf-no\n",
       "MAE   1.007010\n",
       "MSE   1.999398\n",
       "RMSE  1.414001"
      ]
     },
     "execution_count": 62,
     "metadata": {},
     "output_type": "execute_result"
    }
   ],
   "source": [
    "err_df = pd.DataFrame(data=[mae, mse, rmse],index=['MAE','MSE','RMSE'],columns=[f'{model_name}'])\n",
    "err_df"
   ]
  },
  {
   "cell_type": "code",
   "execution_count": 63,
   "id": "complex-tokyo",
   "metadata": {},
   "outputs": [],
   "source": [
    "err_df.to_csv(f'./model-err/{model_name}.csv')\n",
    "# mean_scores.to_csv(f'./opt-model-err/{model_name}-err.csv')"
   ]
  },
  {
   "cell_type": "code",
   "execution_count": 64,
   "id": "naval-marsh",
   "metadata": {},
   "outputs": [
    {
     "data": {
      "text/plain": [
       "['./opt-models/rf-no.joblib']"
      ]
     },
     "execution_count": 64,
     "metadata": {},
     "output_type": "execute_result"
    }
   ],
   "source": [
    "from joblib import dump, load\n",
    "dump(op_model, f'./opt-models/{model_name}.joblib')"
   ]
  },
  {
   "cell_type": "code",
   "execution_count": 65,
   "id": "broad-joseph",
   "metadata": {},
   "outputs": [
    {
     "data": {
      "text/plain": [
       "mean   -0.039808\n",
       "std     1.413799\n",
       "min    -7.849034\n",
       "25%    -0.721226\n",
       "50%     0.003818\n",
       "75%     0.736970\n",
       "max     6.777742\n",
       "Name: throughput, dtype: float64"
      ]
     },
     "execution_count": 65,
     "metadata": {},
     "output_type": "execute_result"
    }
   ],
   "source": [
    "res = y - y_pred\n",
    "res.describe().drop('count')"
   ]
  },
  {
   "cell_type": "code",
   "execution_count": 66,
   "id": "higher-daughter",
   "metadata": {},
   "outputs": [
    {
     "data": {
      "text/plain": [
       "<AxesSubplot:xlabel='throughput', ylabel='Count'>"
      ]
     },
     "execution_count": 66,
     "metadata": {},
     "output_type": "execute_result"
    },
    {
     "data": {
      "image/png": "[encoded data removed]",
      "text/plain": [
       "<Figure size 432x288 with 1 Axes>"
      ]
     },
     "metadata": {
      "needs_background": "light"
     },
     "output_type": "display_data"
    }
   ],
   "source": [
    "sns.histplot(data=res, kde=True,bins=40)"
   ]
  },
  {
   "cell_type": "code",
   "execution_count": 67,
   "id": "eastern-sculpture",
   "metadata": {},
   "outputs": [
    {
     "data": {
      "text/plain": [
       "<matplotlib.lines.Line2D at 0x7fa295a1c2b0>"
      ]
     },
     "execution_count": 67,
     "metadata": {},
     "output_type": "execute_result"
    },
    {
     "data": {
      "image/png": "[encoded data removed]",
      "text/plain": [
       "<Figure size 432x288 with 1 Axes>"
      ]
     },
     "metadata": {
      "needs_background": "light"
     },
     "output_type": "display_data"
    }
   ],
   "source": [
    "ax = sns.scatterplot(x=y_test, y=res)\n",
    "ax.set(ylabel='Residuals', xlabel='Test Label')\n",
    "plt.axhline(y=0,color='red',linestyle='--')\n",
    "\n",
    "# there should be no clear pattern / curve in the plot\n",
    "# we see a positive correlation between Test Label and Residuals -> later models should avoid this pattern"
   ]
  },
  {
   "cell_type": "code",
   "execution_count": 68,
   "id": "blond-chart",
   "metadata": {},
   "outputs": [
    {
     "data": {
      "image/png": "[encoded data removed]",
      "text/plain": [
       "<Figure size 432x288 with 1 Axes>"
      ]
     },
     "metadata": {
      "needs_background": "light"
     },
     "output_type": "display_data"
    }
   ],
   "source": [
    "import scipy as sp\n",
    "\n",
    "fig, ax = plt.subplots()\n",
    "sp.stats.probplot(res,plot=ax);"
   ]
  },
  {
   "cell_type": "markdown",
   "id": "surprising-portfolio",
   "metadata": {},
   "source": [
    "DONE!"
   ]
  },
  {
   "cell_type": "code",
   "execution_count": null,
   "id": "aboriginal-things",
   "metadata": {},
   "outputs": [],
   "source": []
  }
 ],
 "metadata": {
  "kernelspec": {
   "display_name": "Python 3",
   "language": "python",
   "name": "python3"
  },
  "language_info": {
   "codemirror_mode": {
    "name": "ipython",
    "version": 3
   },
   "file_extension": ".py",
   "mimetype": "text/x-python",
   "name": "python",
   "nbconvert_exporter": "python",
   "pygments_lexer": "ipython3",
   "version": "3.8.6"
  }
 },
 "nbformat": 4,
 "nbformat_minor": 5
}
