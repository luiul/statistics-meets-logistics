{
 "cells": [
  {
   "cell_type": "code",
   "execution_count": 1,
   "metadata": {},
   "outputs": [],
   "source": [
    "import numpy as np\n",
    "import pandas as pd\n",
    "import matplotlib.pyplot as plt\n",
    "import seaborn as sns\n",
    "\n",
    "df = pd.read_csv('./data/ul-pfe-ns.csv')\n",
    "\n",
    "X = df.drop('throughput',axis=1)\n",
    "\n",
    "y = df['throughput']"
   ]
  },
  {
   "cell_type": "markdown",
   "metadata": {},
   "source": [
    "# Scaler Selection\n",
    "---\n",
    "In the last Notebook we examined the Features and their distributions. We concluded non of the Features are normally distributed and the Features have a variaty of scales and units.\n",
    "\n",
    "In this section we settle on the Scaler that yields the best performance in a Linear Regression Model, i.e., the Scaler yields the smallest error metric (MAE, MSE, and RMSE). This will be the baseline model. \n",
    "\n",
    "Note: when fitting data to the Scaler, it's important to fit ONLY on the train data set to avoid data leakage. "
   ]
  },
  {
   "cell_type": "code",
   "execution_count": 2,
   "metadata": {},
   "outputs": [],
   "source": [
    "from sklearn.model_selection import train_test_split\n",
    "X_train, X_test, y_train, y_test = train_test_split(X, y, test_size=0.33, random_state=42)\n",
    "\n",
    "from sklearn import preprocessing\n",
    "mm_scaler = preprocessing.MinMaxScaler()\n",
    "mm_scaler.fit(X_train)\n",
    "\n",
    "rb_scaler = preprocessing.RobustScaler()\n",
    "rb_scaler.fit(X_train)\n",
    "\n",
    "st_scaler = preprocessing.StandardScaler()\n",
    "st_scaler.fit(X_train)\n",
    "\n",
    "scalers = [mm_scaler, rb_scaler, st_scaler]"
   ]
  },
  {
   "cell_type": "code",
   "execution_count": 3,
   "metadata": {},
   "outputs": [
    {
     "data": {
      "text/plain": [
       "[MinMaxScaler(), RobustScaler(), StandardScaler()]"
      ]
     },
     "execution_count": 3,
     "metadata": {},
     "output_type": "execute_result"
    }
   ],
   "source": [
    "scalers"
   ]
  },
  {
   "cell_type": "markdown",
   "metadata": {},
   "source": [
    "# Linear Regression"
   ]
  },
  {
   "cell_type": "code",
   "execution_count": 4,
   "metadata": {},
   "outputs": [],
   "source": [
    "model_name = 'LinReg'"
   ]
  },
  {
   "cell_type": "code",
   "execution_count": 5,
   "metadata": {},
   "outputs": [],
   "source": [
    "from sklearn.linear_model import LinearRegression\n",
    "model = LinearRegression()"
   ]
  },
  {
   "cell_type": "code",
   "execution_count": 6,
   "metadata": {},
   "outputs": [
    {
     "name": "stdout",
     "output_type": "stream",
     "text": [
      "MinMaxScaler() MAE-scores: [-4.52877974e+00 -2.16464313e+11 -4.48331102e+00 -4.89128889e+00\n",
      " -4.44136320e+00 -4.66205931e+11 -4.09752531e+00 -4.30348247e+00\n",
      " -4.35774819e+00 -4.34765560e+00]\n",
      "MinMaxScaler() MSE-scores: [-3.17605482e+01 -6.18509746e+24 -3.09040552e+01 -3.54911780e+01\n",
      " -2.97422047e+01 -2.86899320e+25 -2.55209405e+01 -2.93520912e+01\n",
      " -2.97492253e+01 -3.21351488e+01]\n",
      "MinMaxScaler() RMSE-scores: [-5.63564976e+00 -2.48698562e+12 -5.55914159e+00 -5.95744727e+00\n",
      " -5.45364141e+00 -5.35629835e+12 -5.05182546e+00 -5.41775703e+00\n",
      " -5.45428504e+00 -5.66878725e+00]\n",
      "MinMaxScaler() done!\n",
      "\n",
      "\n",
      "RobustScaler() MAE-scores: [-4.52877974e+00 -4.69810032e+00 -4.47828203e+00 -4.89128889e+00\n",
      " -4.44136320e+00 -2.63942447e+10 -4.09752531e+00 -4.30348247e+00\n",
      " -4.35759909e+00 -4.34765560e+00]\n",
      "RobustScaler() MSE-scores: [-3.17605482e+01 -3.28869732e+01 -3.09277548e+01 -3.54911780e+01\n",
      " -2.97422047e+01 -9.19586124e+22 -2.55209405e+01 -2.93520912e+01\n",
      " -2.97808821e+01 -3.21351488e+01]\n",
      "RobustScaler() RMSE-scores: [-5.63564976e+00 -5.73471649e+00 -5.56127276e+00 -5.95744727e+00\n",
      " -5.45364141e+00 -3.03246785e+11 -5.05182546e+00 -5.41775703e+00\n",
      " -5.45718628e+00 -5.66878725e+00]\n",
      "RobustScaler() done!\n",
      "\n",
      "\n",
      "StandardScaler() MAE-scores: [-4.52873936e+00 -2.61421306e+12 -4.46586632e+00 -4.89128889e+00\n",
      " -4.44136320e+00 -1.08271751e+13 -4.09831761e+00 -4.30348247e+00\n",
      " -4.35759909e+00 -4.34765560e+00]\n",
      "StandardScaler() MSE-scores: [-3.17698530e+01 -9.02102511e+26 -3.08227102e+01 -3.54911780e+01\n",
      " -2.97422047e+01 -1.54740592e+28 -2.55274965e+01 -2.93520912e+01\n",
      " -2.97808821e+01 -3.21351488e+01]\n",
      "StandardScaler() RMSE-scores: [-5.63647523e+00 -3.00350214e+13 -5.55182044e+00 -5.95744727e+00\n",
      " -5.45364141e+00 -1.24394771e+14 -5.05247430e+00 -5.41775703e+00\n",
      " -5.45718628e+00 -5.66878725e+00]\n",
      "StandardScaler() done!\n",
      "\n",
      "\n"
     ]
    }
   ],
   "source": [
    "from sklearn.model_selection import cross_val_score\n",
    "\n",
    "scalers_str = []\n",
    "mae_list = []\n",
    "mse_list = []\n",
    "rmse_list = []\n",
    "\n",
    "for scaler in scalers: \n",
    "    # Scale data\n",
    "    X_train_s = scaler.transform(X_train)\n",
    "    X_test_s = scaler.transform(X_test)\n",
    "    \n",
    "    scores = cross_val_score(model,X_train_s,y_train, scoring='neg_mean_absolute_error',cv=10)\n",
    "    mae_list.append(abs(scores.mean()))\n",
    "    print(f\"{scaler} MAE-scores: {scores}\")\n",
    "    \n",
    "    scores = cross_val_score(model,X_train_s,y_train, scoring='neg_mean_squared_error',cv=10)\n",
    "    mse_list.append(abs(scores.mean()))\n",
    "    print(f\"{scaler} MSE-scores: {scores}\")\n",
    "\n",
    "    scores = cross_val_score(model,X_train_s,y_train, scoring='neg_root_mean_squared_error',cv=10)\n",
    "    rmse_list.append(abs(scores.mean()))\n",
    "    print(f\"{scaler} RMSE-scores: {scores}\")\n",
    "    \n",
    "    print(f\"{scaler} done!\")\n",
    "    print('\\n')\n",
    "    \n",
    "    scalers_str.append(str(scaler))"
   ]
  },
  {
   "cell_type": "code",
   "execution_count": 7,
   "metadata": {},
   "outputs": [],
   "source": [
    "def min_index(l):\n",
    "     return scalers_str[min(range(len(l)), key=l.__getitem__)]"
   ]
  },
  {
   "cell_type": "code",
   "execution_count": 8,
   "metadata": {},
   "outputs": [
    {
     "data": {
      "text/plain": [
       "'RobustScaler()'"
      ]
     },
     "execution_count": 8,
     "metadata": {},
     "output_type": "execute_result"
    }
   ],
   "source": [
    "min_index(mae_list)"
   ]
  },
  {
   "cell_type": "code",
   "execution_count": 9,
   "metadata": {},
   "outputs": [
    {
     "data": {
      "text/plain": [
       "'RobustScaler()'"
      ]
     },
     "execution_count": 9,
     "metadata": {},
     "output_type": "execute_result"
    }
   ],
   "source": [
    "min_index(mse_list)"
   ]
  },
  {
   "cell_type": "code",
   "execution_count": 10,
   "metadata": {},
   "outputs": [
    {
     "data": {
      "text/plain": [
       "'RobustScaler()'"
      ]
     },
     "execution_count": 10,
     "metadata": {},
     "output_type": "execute_result"
    }
   ],
   "source": [
    "min_index(rmse_list)"
   ]
  },
  {
   "cell_type": "code",
   "execution_count": 11,
   "metadata": {},
   "outputs": [],
   "source": [
    "err_list = [mae_list, mse_list, rmse_list]"
   ]
  },
  {
   "cell_type": "code",
   "execution_count": 12,
   "metadata": {},
   "outputs": [],
   "source": [
    "err_df = pd.DataFrame(columns=scalers_str, data=err_list, index=['MAE','MSE','RMSE'])"
   ]
  },
  {
   "cell_type": "code",
   "execution_count": 13,
   "metadata": {},
   "outputs": [
    {
     "data": {
      "text/html": [
       "<div>\n",
       "<style scoped>\n",
       "    .dataframe tbody tr th:only-of-type {\n",
       "        vertical-align: middle;\n",
       "    }\n",
       "\n",
       "    .dataframe tbody tr th {\n",
       "        vertical-align: top;\n",
       "    }\n",
       "\n",
       "    .dataframe thead th {\n",
       "        text-align: right;\n",
       "    }\n",
       "</style>\n",
       "<table border=\"1\" class=\"dataframe\">\n",
       "  <thead>\n",
       "    <tr style=\"text-align: right;\">\n",
       "      <th></th>\n",
       "      <th>MinMaxScaler()</th>\n",
       "      <th>RobustScaler()</th>\n",
       "      <th>StandardScaler()</th>\n",
       "    </tr>\n",
       "  </thead>\n",
       "  <tbody>\n",
       "    <tr>\n",
       "      <th>MAE</th>\n",
       "      <td>6.826702e+10</td>\n",
       "      <td>2.639424e+09</td>\n",
       "      <td>1.344139e+12</td>\n",
       "    </tr>\n",
       "    <tr>\n",
       "      <th>MSE</th>\n",
       "      <td>3.487503e+24</td>\n",
       "      <td>9.195861e+21</td>\n",
       "      <td>1.637616e+27</td>\n",
       "    </tr>\n",
       "    <tr>\n",
       "      <th>RMSE</th>\n",
       "      <td>7.843284e+11</td>\n",
       "      <td>3.032468e+10</td>\n",
       "      <td>1.544298e+13</td>\n",
       "    </tr>\n",
       "  </tbody>\n",
       "</table>\n",
       "</div>"
      ],
      "text/plain": [
       "      MinMaxScaler()  RobustScaler()  StandardScaler()\n",
       "MAE     6.826702e+10    2.639424e+09      1.344139e+12\n",
       "MSE     3.487503e+24    9.195861e+21      1.637616e+27\n",
       "RMSE    7.843284e+11    3.032468e+10      1.544298e+13"
      ]
     },
     "execution_count": 13,
     "metadata": {},
     "output_type": "execute_result"
    }
   ],
   "source": [
    "err_df"
   ]
  },
  {
   "cell_type": "code",
   "execution_count": 14,
   "metadata": {},
   "outputs": [],
   "source": [
    "err_df.to_csv(f'./scaler-err/{model_name}-scaler-err.csv')"
   ]
  },
  {
   "cell_type": "markdown",
   "metadata": {},
   "source": [
    "# Poisson Regressor"
   ]
  },
  {
   "cell_type": "code",
   "execution_count": 15,
   "metadata": {},
   "outputs": [],
   "source": [
    "model_name = 'PoiReg'"
   ]
  },
  {
   "cell_type": "code",
   "execution_count": 16,
   "metadata": {},
   "outputs": [],
   "source": [
    "from sklearn.linear_model import PoissonRegressor\n",
    "model = PoissonRegressor()"
   ]
  },
  {
   "cell_type": "code",
   "execution_count": 17,
   "metadata": {},
   "outputs": [
    {
     "name": "stdout",
     "output_type": "stream",
     "text": [
      "MinMaxScaler() MAE-scores: [-5.43448946 -5.59018201 -5.06268748 -5.87306525 -4.90775553 -5.14390266\n",
      " -4.62335324 -4.78131881 -5.2678741  -5.23419079]\n",
      "MinMaxScaler() MSE-scores: [-40.91413435 -42.15908271 -40.27596866 -49.03080802 -34.98355889\n",
      " -38.73017792 -31.63067713 -34.11318265 -39.02401271 -41.63023172]\n",
      "MinMaxScaler() RMSE-scores: [-6.39641574 -6.4930026  -6.34633506 -7.00220023 -5.91469009 -6.22335745\n",
      " -5.62411567 -5.84064916 -6.24692026 -6.45214939]\n",
      "MinMaxScaler() done!\n",
      "\n",
      "\n",
      "RobustScaler() MAE-scores: [-4.81025358 -5.08721286 -4.88169352 -5.45177358 -4.40059456 -4.90122461\n",
      " -4.07257787 -4.25958542 -4.73402873 -4.86620108]\n",
      "RobustScaler() MSE-scores: [-33.71554869 -37.57168535 -40.18692657 -41.15454604 -29.07845639\n",
      " -36.2043109  -25.48698018 -29.95674583 -35.23289167 -37.0608788 ]\n",
      "RobustScaler() RMSE-scores: [-5.80650917 -6.12957465 -6.33931594 -6.4151809  -5.39244438 -6.01700182\n",
      " -5.04846315 -5.4732756  -5.93573009 -6.08776468]\n",
      "RobustScaler() done!\n",
      "\n",
      "\n",
      "StandardScaler() MAE-scores: [-4.67176017 -4.79456658 -4.55870435 -5.05499138 -4.50026071 -4.92269587\n",
      " -4.08237205 -4.32412274 -4.47663243 -4.60952092]\n",
      "StandardScaler() MSE-scores: [-32.29601516 -34.23572946 -31.97421349 -37.16347381 -30.49298615\n",
      " -36.18579417 -26.17681005 -30.73180492 -30.22616586 -34.47849906]\n",
      "StandardScaler() RMSE-scores: [-5.68295831 -5.85113061 -5.65457456 -6.09618518 -5.52204547 -6.01546292\n",
      " -5.11632779 -5.54362742 -5.49783283 -5.8718395 ]\n",
      "StandardScaler() done!\n",
      "\n",
      "\n"
     ]
    }
   ],
   "source": [
    "from sklearn.model_selection import cross_val_score\n",
    "\n",
    "scalers_str = []\n",
    "mae_list = []\n",
    "mse_list = []\n",
    "rmse_list = []\n",
    "\n",
    "for scaler in scalers: \n",
    "    # Scale data\n",
    "    X_train_s = scaler.transform(X_train)\n",
    "    X_test_s = scaler.transform(X_test)\n",
    "    \n",
    "    scores = cross_val_score(model,X_train_s,y_train, scoring='neg_mean_absolute_error',cv=10)\n",
    "    mae_list.append(abs(scores.mean()))\n",
    "    print(f\"{scaler} MAE-scores: {scores}\")\n",
    "    \n",
    "    scores = cross_val_score(model,X_train_s,y_train, scoring='neg_mean_squared_error',cv=10)\n",
    "    mse_list.append(abs(scores.mean()))\n",
    "    print(f\"{scaler} MSE-scores: {scores}\")\n",
    "\n",
    "    scores = cross_val_score(model,X_train_s,y_train, scoring='neg_root_mean_squared_error',cv=10)\n",
    "    rmse_list.append(abs(scores.mean()))\n",
    "    print(f\"{scaler} RMSE-scores: {scores}\")\n",
    "    \n",
    "    print(f\"{scaler} done!\")\n",
    "    print('\\n')\n",
    "    \n",
    "    scalers_str.append(str(scaler))"
   ]
  },
  {
   "cell_type": "code",
   "execution_count": 18,
   "metadata": {},
   "outputs": [
    {
     "data": {
      "text/plain": [
       "'StandardScaler()'"
      ]
     },
     "execution_count": 18,
     "metadata": {},
     "output_type": "execute_result"
    }
   ],
   "source": [
    "min_index(mae_list)"
   ]
  },
  {
   "cell_type": "code",
   "execution_count": 19,
   "metadata": {},
   "outputs": [
    {
     "data": {
      "text/plain": [
       "'StandardScaler()'"
      ]
     },
     "execution_count": 19,
     "metadata": {},
     "output_type": "execute_result"
    }
   ],
   "source": [
    "min_index(mse_list)"
   ]
  },
  {
   "cell_type": "code",
   "execution_count": 20,
   "metadata": {},
   "outputs": [
    {
     "data": {
      "text/plain": [
       "'StandardScaler()'"
      ]
     },
     "execution_count": 20,
     "metadata": {},
     "output_type": "execute_result"
    }
   ],
   "source": [
    "min_index(rmse_list)"
   ]
  },
  {
   "cell_type": "code",
   "execution_count": 21,
   "metadata": {},
   "outputs": [],
   "source": [
    "err_list = [mae_list, mse_list, rmse_list]"
   ]
  },
  {
   "cell_type": "code",
   "execution_count": 22,
   "metadata": {},
   "outputs": [],
   "source": [
    "err_df = pd.DataFrame(columns=scalers_str, data=err_list, index=['MAE','MSE','RMSE'])"
   ]
  },
  {
   "cell_type": "code",
   "execution_count": 23,
   "metadata": {},
   "outputs": [
    {
     "data": {
      "text/html": [
       "<div>\n",
       "<style scoped>\n",
       "    .dataframe tbody tr th:only-of-type {\n",
       "        vertical-align: middle;\n",
       "    }\n",
       "\n",
       "    .dataframe tbody tr th {\n",
       "        vertical-align: top;\n",
       "    }\n",
       "\n",
       "    .dataframe thead th {\n",
       "        text-align: right;\n",
       "    }\n",
       "</style>\n",
       "<table border=\"1\" class=\"dataframe\">\n",
       "  <thead>\n",
       "    <tr style=\"text-align: right;\">\n",
       "      <th></th>\n",
       "      <th>MinMaxScaler()</th>\n",
       "      <th>RobustScaler()</th>\n",
       "      <th>StandardScaler()</th>\n",
       "    </tr>\n",
       "  </thead>\n",
       "  <tbody>\n",
       "    <tr>\n",
       "      <th>MAE</th>\n",
       "      <td>5.191882</td>\n",
       "      <td>4.746515</td>\n",
       "      <td>4.599563</td>\n",
       "    </tr>\n",
       "    <tr>\n",
       "      <th>MSE</th>\n",
       "      <td>39.249183</td>\n",
       "      <td>34.564897</td>\n",
       "      <td>32.396149</td>\n",
       "    </tr>\n",
       "    <tr>\n",
       "      <th>RMSE</th>\n",
       "      <td>6.253984</td>\n",
       "      <td>5.864526</td>\n",
       "      <td>5.685198</td>\n",
       "    </tr>\n",
       "  </tbody>\n",
       "</table>\n",
       "</div>"
      ],
      "text/plain": [
       "      MinMaxScaler()  RobustScaler()  StandardScaler()\n",
       "MAE         5.191882        4.746515          4.599563\n",
       "MSE        39.249183       34.564897         32.396149\n",
       "RMSE        6.253984        5.864526          5.685198"
      ]
     },
     "execution_count": 23,
     "metadata": {},
     "output_type": "execute_result"
    }
   ],
   "source": [
    "err_df\n",
    "# -> StandardScaler -> use StandardScaler for Elastic Net also"
   ]
  },
  {
   "cell_type": "code",
   "execution_count": 24,
   "metadata": {},
   "outputs": [],
   "source": [
    "err_df.to_csv(f'./scaler-err/{model_name}-scaler-err.csv')"
   ]
  },
  {
   "cell_type": "markdown",
   "metadata": {},
   "source": [
    "# Support Vector Regressor"
   ]
  },
  {
   "cell_type": "code",
   "execution_count": 25,
   "metadata": {},
   "outputs": [],
   "source": [
    "model_name = 'SVR'"
   ]
  },
  {
   "cell_type": "code",
   "execution_count": 26,
   "metadata": {},
   "outputs": [],
   "source": [
    "from sklearn.svm import SVR\n",
    "model = SVR()"
   ]
  },
  {
   "cell_type": "code",
   "execution_count": 27,
   "metadata": {},
   "outputs": [
    {
     "name": "stdout",
     "output_type": "stream",
     "text": [
      "MinMaxScaler() MAE-scores: [-5.13858805 -5.18677899 -4.69815458 -5.39285225 -4.56200214 -4.93164024\n",
      " -4.26607081 -4.42422889 -4.86908717 -5.10857194]\n",
      "MinMaxScaler() MSE-scores: [-39.09115152 -38.23189941 -36.07790473 -42.77065716 -32.47371281\n",
      " -36.83808013 -28.28494169 -31.40535623 -35.19648403 -42.61191762]\n",
      "MinMaxScaler() RMSE-scores: [-6.2522917  -6.18319492 -6.00648855 -6.53992792 -5.69857112 -6.06943821\n",
      " -5.31835893 -5.6040482  -5.93266247 -6.52778045]\n",
      "MinMaxScaler() done!\n",
      "\n",
      "\n",
      "RobustScaler() MAE-scores: [-5.17163839 -5.25342532 -4.77615137 -5.2215659  -4.54045038 -5.10708349\n",
      " -4.16827078 -4.50757533 -4.94876155 -5.214592  ]\n",
      "RobustScaler() MSE-scores: [-43.75531786 -42.7708013  -36.53546858 -41.4292383  -34.09816885\n",
      " -38.86457851 -28.72990214 -34.19070576 -37.2679849  -45.24982551]\n",
      "RobustScaler() RMSE-scores: [-6.61478026 -6.53993894 -6.04445767 -6.43655485 -5.83936374 -6.23414617\n",
      " -5.36002818 -5.84728191 -6.10475101 -6.72679905]\n",
      "RobustScaler() done!\n",
      "\n",
      "\n",
      "StandardScaler() MAE-scores: [-5.38188416 -5.29569585 -4.80973731 -5.50839368 -4.84339055 -5.17307034\n",
      " -4.45631844 -4.714701   -5.25296572 -5.45220586]\n",
      "StandardScaler() MSE-scores: [-46.76069426 -43.1195375  -36.42580378 -47.2631259  -39.7137232\n",
      " -41.96558459 -32.94101328 -36.6414473  -42.59861513 -50.4712741 ]\n",
      "StandardScaler() RMSE-scores: [-6.83817916 -6.56654685 -6.03537934 -6.87481824 -6.30188251 -6.47808495\n",
      " -5.73942622 -6.05321793 -6.52676146 -7.10431377]\n",
      "StandardScaler() done!\n",
      "\n",
      "\n"
     ]
    }
   ],
   "source": [
    "from sklearn.model_selection import cross_val_score\n",
    "\n",
    "scalers_str = []\n",
    "mae_list = []\n",
    "mse_list = []\n",
    "rmse_list = []\n",
    "\n",
    "for scaler in scalers: \n",
    "    # Scale data\n",
    "    X_train_s = scaler.transform(X_train)\n",
    "    X_test_s = scaler.transform(X_test)\n",
    "    \n",
    "    scores = cross_val_score(model,X_train_s,y_train, scoring='neg_mean_absolute_error',cv=10)\n",
    "    mae_list.append(abs(scores.mean()))\n",
    "    print(f\"{scaler} MAE-scores: {scores}\")\n",
    "    \n",
    "    scores = cross_val_score(model,X_train_s,y_train, scoring='neg_mean_squared_error',cv=10)\n",
    "    mse_list.append(abs(scores.mean()))\n",
    "    print(f\"{scaler} MSE-scores: {scores}\")\n",
    "\n",
    "    scores = cross_val_score(model,X_train_s,y_train, scoring='neg_root_mean_squared_error',cv=10)\n",
    "    rmse_list.append(abs(scores.mean()))\n",
    "    print(f\"{scaler} RMSE-scores: {scores}\")\n",
    "    \n",
    "    print(f\"{scaler} done!\")\n",
    "    print('\\n')\n",
    "    \n",
    "    scalers_str.append(str(scaler))"
   ]
  },
  {
   "cell_type": "code",
   "execution_count": 28,
   "metadata": {},
   "outputs": [
    {
     "data": {
      "text/plain": [
       "'MinMaxScaler()'"
      ]
     },
     "execution_count": 28,
     "metadata": {},
     "output_type": "execute_result"
    }
   ],
   "source": [
    "min_index(mae_list)"
   ]
  },
  {
   "cell_type": "code",
   "execution_count": 29,
   "metadata": {},
   "outputs": [
    {
     "data": {
      "text/plain": [
       "'MinMaxScaler()'"
      ]
     },
     "execution_count": 29,
     "metadata": {},
     "output_type": "execute_result"
    }
   ],
   "source": [
    "min_index(mse_list)"
   ]
  },
  {
   "cell_type": "code",
   "execution_count": 30,
   "metadata": {},
   "outputs": [
    {
     "data": {
      "text/plain": [
       "'MinMaxScaler()'"
      ]
     },
     "execution_count": 30,
     "metadata": {},
     "output_type": "execute_result"
    }
   ],
   "source": [
    "min_index(rmse_list)"
   ]
  },
  {
   "cell_type": "code",
   "execution_count": 31,
   "metadata": {},
   "outputs": [],
   "source": [
    "err_list = [mae_list, mse_list, rmse_list]"
   ]
  },
  {
   "cell_type": "code",
   "execution_count": 32,
   "metadata": {},
   "outputs": [],
   "source": [
    "err_df = pd.DataFrame(columns=scalers_str, data=err_list, index=['MAE','MSE','RMSE'])"
   ]
  },
  {
   "cell_type": "code",
   "execution_count": 33,
   "metadata": {},
   "outputs": [
    {
     "data": {
      "text/html": [
       "<div>\n",
       "<style scoped>\n",
       "    .dataframe tbody tr th:only-of-type {\n",
       "        vertical-align: middle;\n",
       "    }\n",
       "\n",
       "    .dataframe tbody tr th {\n",
       "        vertical-align: top;\n",
       "    }\n",
       "\n",
       "    .dataframe thead th {\n",
       "        text-align: right;\n",
       "    }\n",
       "</style>\n",
       "<table border=\"1\" class=\"dataframe\">\n",
       "  <thead>\n",
       "    <tr style=\"text-align: right;\">\n",
       "      <th></th>\n",
       "      <th>MinMaxScaler()</th>\n",
       "      <th>RobustScaler()</th>\n",
       "      <th>StandardScaler()</th>\n",
       "    </tr>\n",
       "  </thead>\n",
       "  <tbody>\n",
       "    <tr>\n",
       "      <th>MAE</th>\n",
       "      <td>4.857798</td>\n",
       "      <td>4.890951</td>\n",
       "      <td>5.088836</td>\n",
       "    </tr>\n",
       "    <tr>\n",
       "      <th>MSE</th>\n",
       "      <td>36.298211</td>\n",
       "      <td>38.289199</td>\n",
       "      <td>41.790082</td>\n",
       "    </tr>\n",
       "    <tr>\n",
       "      <th>RMSE</th>\n",
       "      <td>6.013276</td>\n",
       "      <td>6.174810</td>\n",
       "      <td>6.451861</td>\n",
       "    </tr>\n",
       "  </tbody>\n",
       "</table>\n",
       "</div>"
      ],
      "text/plain": [
       "      MinMaxScaler()  RobustScaler()  StandardScaler()\n",
       "MAE         4.857798        4.890951          5.088836\n",
       "MSE        36.298211       38.289199         41.790082\n",
       "RMSE        6.013276        6.174810          6.451861"
      ]
     },
     "execution_count": 33,
     "metadata": {},
     "output_type": "execute_result"
    }
   ],
   "source": [
    "err_df\n",
    "# -> RobustScaler"
   ]
  },
  {
   "cell_type": "code",
   "execution_count": 34,
   "metadata": {},
   "outputs": [],
   "source": [
    "err_df.to_csv(f'./scaler-err/{model_name}-scaler-err.csv')"
   ]
  },
  {
   "cell_type": "code",
   "execution_count": 35,
   "metadata": {},
   "outputs": [],
   "source": [
    "# def highlight_min(s):\n",
    "#     is_min = s == s.min()\n",
    "#     return ['background-color: grey' if v else '' for v in is_min]"
   ]
  },
  {
   "cell_type": "code",
   "execution_count": 36,
   "metadata": {},
   "outputs": [],
   "source": [
    "# scalers_df.transpose().style.apply(highlight_min)"
   ]
  },
  {
   "cell_type": "markdown",
   "metadata": {},
   "source": [
    "# Random Forest Regressor"
   ]
  },
  {
   "cell_type": "code",
   "execution_count": 37,
   "metadata": {},
   "outputs": [],
   "source": [
    "model_name = 'RF'"
   ]
  },
  {
   "cell_type": "code",
   "execution_count": 38,
   "metadata": {},
   "outputs": [],
   "source": [
    "from sklearn.ensemble import RandomForestRegressor\n",
    "model = RandomForestRegressor()"
   ]
  },
  {
   "cell_type": "code",
   "execution_count": 39,
   "metadata": {},
   "outputs": [
    {
     "name": "stdout",
     "output_type": "stream",
     "text": [
      "MinMaxScaler() MAE-scores: [-2.67606526 -2.9716964  -3.13682407 -2.83328125 -2.48252304 -3.30619703\n",
      " -2.6949694  -2.64747899 -2.86785642 -2.7682976 ]\n",
      "MinMaxScaler() MSE-scores: [-13.88307292 -15.28164409 -22.87440137 -14.66938936 -11.7819451\n",
      " -18.12657902 -15.46179559 -12.58659285 -16.34182706 -18.67151728]\n",
      "MinMaxScaler() RMSE-scores: [-3.6805268  -3.9801155  -4.73044434 -3.87029182 -3.43238137 -4.26583313\n",
      " -3.86508779 -3.58086383 -3.97030847 -4.26351005]\n",
      "MinMaxScaler() done!\n",
      "\n",
      "\n",
      "RobustScaler() MAE-scores: [-2.72528422 -3.0113267  -3.13345598 -2.85416243 -2.55639204 -3.27211227\n",
      " -2.79782754 -2.52809361 -2.83850806 -2.84350115]\n",
      "RobustScaler() MSE-scores: [-14.42387019 -15.42258292 -22.67427269 -14.7499135  -11.91698858\n",
      " -17.841119   -15.4905078  -12.64447462 -16.27897347 -18.0611915 ]\n",
      "RobustScaler() RMSE-scores: [-3.6719889  -3.88641599 -4.76073739 -3.81071498 -3.32197752 -4.31540053\n",
      " -3.89093682 -3.46556914 -3.97989466 -4.37782951]\n",
      "RobustScaler() done!\n",
      "\n",
      "\n",
      "StandardScaler() MAE-scores: [-2.69840106 -2.91213682 -3.18101536 -2.86457985 -2.5710444  -3.27667017\n",
      " -2.87441752 -2.56129472 -2.76827949 -2.76410549]\n",
      "StandardScaler() MSE-scores: [-14.14826221 -16.32480795 -23.21806899 -14.35459257 -11.47167962\n",
      " -18.46143259 -15.79281852 -11.704459   -16.29362267 -18.82702488]\n",
      "StandardScaler() RMSE-scores: [-3.69921115 -3.98874939 -4.75333869 -3.87656442 -3.35327761 -4.25261151\n",
      " -3.88274449 -3.55368449 -4.0188295  -4.37115762]\n",
      "StandardScaler() done!\n",
      "\n",
      "\n"
     ]
    }
   ],
   "source": [
    "from sklearn.model_selection import cross_val_score\n",
    "\n",
    "scalers_str = []\n",
    "mae_list = []\n",
    "mse_list = []\n",
    "rmse_list = []\n",
    "\n",
    "for scaler in scalers: \n",
    "    # Scale data\n",
    "    X_train_s = scaler.transform(X_train)\n",
    "    X_test_s = scaler.transform(X_test)\n",
    "    \n",
    "    scores = cross_val_score(model,X_train_s,y_train, scoring='neg_mean_absolute_error',cv=10)\n",
    "    mae_list.append(abs(scores.mean()))\n",
    "    print(f\"{scaler} MAE-scores: {scores}\")\n",
    "    \n",
    "    scores = cross_val_score(model,X_train_s,y_train, scoring='neg_mean_squared_error',cv=10)\n",
    "    mse_list.append(abs(scores.mean()))\n",
    "    print(f\"{scaler} MSE-scores: {scores}\")\n",
    "\n",
    "    scores = cross_val_score(model,X_train_s,y_train, scoring='neg_root_mean_squared_error',cv=10)\n",
    "    rmse_list.append(abs(scores.mean()))\n",
    "    print(f\"{scaler} RMSE-scores: {scores}\")\n",
    "    \n",
    "    print(f\"{scaler} done!\")\n",
    "    print('\\n')\n",
    "    \n",
    "    scalers_str.append(str(scaler))"
   ]
  },
  {
   "cell_type": "code",
   "execution_count": 40,
   "metadata": {},
   "outputs": [],
   "source": [
    "def min_index(l):\n",
    "     return scalers_str[min(range(len(l)), key=l.__getitem__)]"
   ]
  },
  {
   "cell_type": "code",
   "execution_count": 41,
   "metadata": {},
   "outputs": [
    {
     "data": {
      "text/plain": [
       "'MinMaxScaler()'"
      ]
     },
     "execution_count": 41,
     "metadata": {},
     "output_type": "execute_result"
    }
   ],
   "source": [
    "min_index(mae_list)"
   ]
  },
  {
   "cell_type": "code",
   "execution_count": 42,
   "metadata": {},
   "outputs": [
    {
     "data": {
      "text/plain": [
       "'RobustScaler()'"
      ]
     },
     "execution_count": 42,
     "metadata": {},
     "output_type": "execute_result"
    }
   ],
   "source": [
    "min_index(mse_list)"
   ]
  },
  {
   "cell_type": "code",
   "execution_count": 43,
   "metadata": {},
   "outputs": [
    {
     "data": {
      "text/plain": [
       "'RobustScaler()'"
      ]
     },
     "execution_count": 43,
     "metadata": {},
     "output_type": "execute_result"
    }
   ],
   "source": [
    "min_index(rmse_list)"
   ]
  },
  {
   "cell_type": "code",
   "execution_count": 44,
   "metadata": {},
   "outputs": [],
   "source": [
    "err_list = [mae_list, mse_list, rmse_list]"
   ]
  },
  {
   "cell_type": "code",
   "execution_count": 45,
   "metadata": {},
   "outputs": [],
   "source": [
    "err_df = pd.DataFrame(columns=scalers_str, data=err_list, index=['MAE','MSE','RMSE'])"
   ]
  },
  {
   "cell_type": "code",
   "execution_count": 46,
   "metadata": {},
   "outputs": [
    {
     "data": {
      "text/html": [
       "<div>\n",
       "<style scoped>\n",
       "    .dataframe tbody tr th:only-of-type {\n",
       "        vertical-align: middle;\n",
       "    }\n",
       "\n",
       "    .dataframe tbody tr th {\n",
       "        vertical-align: top;\n",
       "    }\n",
       "\n",
       "    .dataframe thead th {\n",
       "        text-align: right;\n",
       "    }\n",
       "</style>\n",
       "<table border=\"1\" class=\"dataframe\">\n",
       "  <thead>\n",
       "    <tr style=\"text-align: right;\">\n",
       "      <th></th>\n",
       "      <th>MinMaxScaler()</th>\n",
       "      <th>RobustScaler()</th>\n",
       "      <th>StandardScaler()</th>\n",
       "    </tr>\n",
       "  </thead>\n",
       "  <tbody>\n",
       "    <tr>\n",
       "      <th>MAE</th>\n",
       "      <td>2.838519</td>\n",
       "      <td>2.856066</td>\n",
       "      <td>2.847194</td>\n",
       "    </tr>\n",
       "    <tr>\n",
       "      <th>MSE</th>\n",
       "      <td>15.967876</td>\n",
       "      <td>15.950389</td>\n",
       "      <td>16.059677</td>\n",
       "    </tr>\n",
       "    <tr>\n",
       "      <th>RMSE</th>\n",
       "      <td>3.963936</td>\n",
       "      <td>3.948147</td>\n",
       "      <td>3.975017</td>\n",
       "    </tr>\n",
       "  </tbody>\n",
       "</table>\n",
       "</div>"
      ],
      "text/plain": [
       "      MinMaxScaler()  RobustScaler()  StandardScaler()\n",
       "MAE         2.838519        2.856066          2.847194\n",
       "MSE        15.967876       15.950389         16.059677\n",
       "RMSE        3.963936        3.948147          3.975017"
      ]
     },
     "execution_count": 46,
     "metadata": {},
     "output_type": "execute_result"
    }
   ],
   "source": [
    "err_df\n",
    "# -> RobustScaler (marginal difference)"
   ]
  },
  {
   "cell_type": "code",
   "execution_count": 47,
   "metadata": {},
   "outputs": [],
   "source": [
    "err_df.to_csv(f'./scaler-err/{model_name}-scaler-err.csv')"
   ]
  },
  {
   "cell_type": "markdown",
   "metadata": {},
   "source": [
    "DONE!"
   ]
  },
  {
   "cell_type": "code",
   "execution_count": null,
   "metadata": {},
   "outputs": [],
   "source": []
  }
 ],
 "metadata": {
  "kernelspec": {
   "display_name": "Python 3",
   "language": "python",
   "name": "python3"
  },
  "language_info": {
   "codemirror_mode": {
    "name": "ipython",
    "version": 3
   },
   "file_extension": ".py",
   "mimetype": "text/x-python",
   "name": "python",
   "nbconvert_exporter": "python",
   "pygments_lexer": "ipython3",
   "version": "3.8.6"
  },
  "toc-autonumbering": true
 },
 "nbformat": 4,
 "nbformat_minor": 4
}
