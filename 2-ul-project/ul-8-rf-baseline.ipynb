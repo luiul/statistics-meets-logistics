{
 "cells": [
  {
   "cell_type": "code",
   "execution_count": 1,
   "id": "cooperative-singing",
   "metadata": {},
   "outputs": [],
   "source": [
    "import numpy as np\n",
    "import pandas as pd\n",
    "import matplotlib.pyplot as plt\n",
    "import seaborn as sns"
   ]
  },
  {
   "cell_type": "code",
   "execution_count": 2,
   "id": "polyphonic-delicious",
   "metadata": {},
   "outputs": [],
   "source": [
    "df = pd.read_csv('./data/ul-pfe-ns.csv')"
   ]
  },
  {
   "cell_type": "code",
   "execution_count": 3,
   "id": "accurate-destiny",
   "metadata": {},
   "outputs": [],
   "source": [
    "# df.columns"
   ]
  },
  {
   "cell_type": "code",
   "execution_count": 4,
   "id": "universal-illness",
   "metadata": {},
   "outputs": [],
   "source": [
    "# df.head()"
   ]
  },
  {
   "cell_type": "code",
   "execution_count": 5,
   "id": "criminal-agriculture",
   "metadata": {},
   "outputs": [
    {
     "data": {
      "text/plain": [
       "(1972, 80)"
      ]
     },
     "execution_count": 5,
     "metadata": {},
     "output_type": "execute_result"
    }
   ],
   "source": [
    "df.shape"
   ]
  },
  {
   "cell_type": "code",
   "execution_count": 6,
   "id": "right-netherlands",
   "metadata": {},
   "outputs": [],
   "source": [
    "# df.info()"
   ]
  },
  {
   "cell_type": "code",
   "execution_count": 7,
   "id": "individual-convert",
   "metadata": {},
   "outputs": [],
   "source": [
    "X = df.drop('throughput',axis=1)"
   ]
  },
  {
   "cell_type": "code",
   "execution_count": 8,
   "id": "graphic-activity",
   "metadata": {},
   "outputs": [
    {
     "data": {
      "text/plain": [
       "(1972, 79)"
      ]
     },
     "execution_count": 8,
     "metadata": {},
     "output_type": "execute_result"
    }
   ],
   "source": [
    "X.shape"
   ]
  },
  {
   "cell_type": "code",
   "execution_count": 9,
   "id": "closing-cradle",
   "metadata": {},
   "outputs": [],
   "source": [
    "y = df['throughput']"
   ]
  },
  {
   "cell_type": "code",
   "execution_count": 10,
   "id": "compressed-ceremony",
   "metadata": {},
   "outputs": [
    {
     "data": {
      "text/plain": [
       "(1972,)"
      ]
     },
     "execution_count": 10,
     "metadata": {},
     "output_type": "execute_result"
    }
   ],
   "source": [
    "y.shape"
   ]
  },
  {
   "cell_type": "code",
   "execution_count": 11,
   "id": "abroad-subcommittee",
   "metadata": {},
   "outputs": [],
   "source": [
    "# Split the data\n",
    "from sklearn.model_selection import train_test_split\n",
    "X_train, X_test, y_train, y_test = train_test_split(X, y, test_size=0.33, random_state=42)\n",
    "\n",
    "# Scale the data\n",
    "from sklearn.preprocessing import RobustScaler\n",
    "scaler = RobustScaler()\n",
    "scaler.fit(X_train)\n",
    "\n",
    "X_train = scaler.transform(X_train)\n",
    "X_test = scaler.transform(X_test)\n",
    "\n",
    "# Instantiate model\n",
    "from sklearn.ensemble import RandomForestRegressor\n",
    "model = RandomForestRegressor()\n",
    "\n",
    "model.fit(X_train, y_train)\n",
    "\n",
    "y_pred = model.predict(X_test)\n",
    "\n",
    "from sklearn.metrics import mean_absolute_error, mean_squared_error\n",
    "\n",
    "mae = mean_absolute_error(y_test,y_pred)\n",
    "mse = mean_squared_error(y_test,y_pred)\n",
    "rmse = np.sqrt(mse)"
   ]
  },
  {
   "cell_type": "code",
   "execution_count": 12,
   "id": "given-camera",
   "metadata": {},
   "outputs": [
    {
     "data": {
      "text/plain": [
       "2.813826310752688"
      ]
     },
     "execution_count": 12,
     "metadata": {},
     "output_type": "execute_result"
    }
   ],
   "source": [
    "mae"
   ]
  },
  {
   "cell_type": "code",
   "execution_count": 13,
   "id": "renewable-granny",
   "metadata": {},
   "outputs": [
    {
     "data": {
      "text/plain": [
       "16.71426492824455"
      ]
     },
     "execution_count": 13,
     "metadata": {},
     "output_type": "execute_result"
    }
   ],
   "source": [
    "mse"
   ]
  },
  {
   "cell_type": "code",
   "execution_count": 14,
   "id": "graphic-hunger",
   "metadata": {},
   "outputs": [
    {
     "data": {
      "text/plain": [
       "4.088308321083985"
      ]
     },
     "execution_count": 14,
     "metadata": {},
     "output_type": "execute_result"
    }
   ],
   "source": [
    "rmse"
   ]
  },
  {
   "cell_type": "code",
   "execution_count": 15,
   "id": "administrative-camcorder",
   "metadata": {},
   "outputs": [
    {
     "data": {
      "text/html": [
       "<div>\n",
       "<style scoped>\n",
       "    .dataframe tbody tr th:only-of-type {\n",
       "        vertical-align: middle;\n",
       "    }\n",
       "\n",
       "    .dataframe tbody tr th {\n",
       "        vertical-align: top;\n",
       "    }\n",
       "\n",
       "    .dataframe thead th {\n",
       "        text-align: right;\n",
       "    }\n",
       "</style>\n",
       "<table border=\"1\" class=\"dataframe\">\n",
       "  <thead>\n",
       "    <tr style=\"text-align: right;\">\n",
       "      <th></th>\n",
       "      <th>RF</th>\n",
       "    </tr>\n",
       "  </thead>\n",
       "  <tbody>\n",
       "    <tr>\n",
       "      <th>MAE</th>\n",
       "      <td>2.813826</td>\n",
       "    </tr>\n",
       "    <tr>\n",
       "      <th>MSE</th>\n",
       "      <td>16.714265</td>\n",
       "    </tr>\n",
       "    <tr>\n",
       "      <th>RMSE</th>\n",
       "      <td>4.088308</td>\n",
       "    </tr>\n",
       "  </tbody>\n",
       "</table>\n",
       "</div>"
      ],
      "text/plain": [
       "             RF\n",
       "MAE    2.813826\n",
       "MSE   16.714265\n",
       "RMSE   4.088308"
      ]
     },
     "execution_count": 15,
     "metadata": {},
     "output_type": "execute_result"
    }
   ],
   "source": [
    "err_df = pd.DataFrame(data=[mae, mse, rmse],index=['MAE','MSE','RMSE'],columns=['RF'])\n",
    "err_df"
   ]
  },
  {
   "cell_type": "code",
   "execution_count": 16,
   "id": "eight-forge",
   "metadata": {},
   "outputs": [],
   "source": [
    "err_df.to_csv('./baseline-test-err/rf-def-test-err.csv')"
   ]
  },
  {
   "cell_type": "code",
   "execution_count": 17,
   "id": "least-tutorial",
   "metadata": {},
   "outputs": [
    {
     "data": {
      "text/html": [
       "<div>\n",
       "<style scoped>\n",
       "    .dataframe tbody tr th:only-of-type {\n",
       "        vertical-align: middle;\n",
       "    }\n",
       "\n",
       "    .dataframe tbody tr th {\n",
       "        vertical-align: top;\n",
       "    }\n",
       "\n",
       "    .dataframe thead th {\n",
       "        text-align: right;\n",
       "    }\n",
       "</style>\n",
       "<table border=\"1\" class=\"dataframe\">\n",
       "  <thead>\n",
       "    <tr style=\"text-align: right;\">\n",
       "      <th></th>\n",
       "      <th>throughput_pred</th>\n",
       "    </tr>\n",
       "  </thead>\n",
       "  <tbody>\n",
       "    <tr>\n",
       "      <th>mean</th>\n",
       "      <td>18.117081</td>\n",
       "    </tr>\n",
       "    <tr>\n",
       "      <th>std</th>\n",
       "      <td>8.176993</td>\n",
       "    </tr>\n",
       "    <tr>\n",
       "      <th>min</th>\n",
       "      <td>3.138116</td>\n",
       "    </tr>\n",
       "    <tr>\n",
       "      <th>25%</th>\n",
       "      <td>11.403461</td>\n",
       "    </tr>\n",
       "    <tr>\n",
       "      <th>50%</th>\n",
       "      <td>18.911166</td>\n",
       "    </tr>\n",
       "    <tr>\n",
       "      <th>75%</th>\n",
       "      <td>25.364245</td>\n",
       "    </tr>\n",
       "    <tr>\n",
       "      <th>max</th>\n",
       "      <td>33.454141</td>\n",
       "    </tr>\n",
       "  </tbody>\n",
       "</table>\n",
       "</div>"
      ],
      "text/plain": [
       "      throughput_pred\n",
       "mean        18.117081\n",
       "std          8.176993\n",
       "min          3.138116\n",
       "25%         11.403461\n",
       "50%         18.911166\n",
       "75%         25.364245\n",
       "max         33.454141"
      ]
     },
     "execution_count": 17,
     "metadata": {},
     "output_type": "execute_result"
    }
   ],
   "source": [
    "y_pred_df = pd.DataFrame(y_pred, columns=['throughput_pred'])\n",
    "y_pred_df.describe().drop('count')\n",
    "# no negative predictions"
   ]
  },
  {
   "cell_type": "code",
   "execution_count": 18,
   "id": "printable-giant",
   "metadata": {},
   "outputs": [
    {
     "data": {
      "text/plain": [
       "<AxesSubplot:ylabel='Count'>"
      ]
     },
     "execution_count": 18,
     "metadata": {},
     "output_type": "execute_result"
    },
    {
     "data": {
      "image/png": "[encoded data removed]",
      "text/plain": [
       "<Figure size 432x288 with 1 Axes>"
      ]
     },
     "metadata": {
      "needs_background": "light"
     },
     "output_type": "display_data"
    }
   ],
   "source": [
    "sns.histplot(y_pred,bins=40,kde=True)\n",
    "# the distribution better reflects the true distribution of the data set"
   ]
  },
  {
   "cell_type": "code",
   "execution_count": 19,
   "id": "german-excellence",
   "metadata": {},
   "outputs": [],
   "source": [
    "# y.describe().drop(['count'])"
   ]
  },
  {
   "cell_type": "code",
   "execution_count": 20,
   "id": "aging-maryland",
   "metadata": {},
   "outputs": [
    {
     "data": {
      "text/plain": [
       "mean     0.048735\n",
       "std      4.091161\n",
       "min    -22.456340\n",
       "25%     -1.708737\n",
       "50%      0.199286\n",
       "75%      2.026879\n",
       "max     21.167689\n",
       "Name: throughput, dtype: float64"
      ]
     },
     "execution_count": 20,
     "metadata": {},
     "output_type": "execute_result"
    }
   ],
   "source": [
    "res = y_test - y_pred\n",
    "res.describe().drop('count')"
   ]
  },
  {
   "cell_type": "code",
   "execution_count": 21,
   "id": "wrapped-knight",
   "metadata": {},
   "outputs": [
    {
     "data": {
      "text/plain": [
       "Text(0.5, 0, 'Residuals')"
      ]
     },
     "execution_count": 21,
     "metadata": {},
     "output_type": "execute_result"
    },
    {
     "data": {
      "image/png": "[encoded data removed]",
      "text/plain": [
       "<Figure size 432x288 with 1 Axes>"
      ]
     },
     "metadata": {
      "needs_background": "light"
     },
     "output_type": "display_data"
    }
   ],
   "source": [
    "sns.histplot(data=res, kde=True,bins=40)\n",
    "plt.xlabel('Residuals')"
   ]
  },
  {
   "cell_type": "code",
   "execution_count": 22,
   "id": "dense-support",
   "metadata": {},
   "outputs": [
    {
     "data": {
      "text/plain": [
       "<matplotlib.lines.Line2D at 0x7f81626bfbe0>"
      ]
     },
     "execution_count": 22,
     "metadata": {},
     "output_type": "execute_result"
    },
    {
     "data": {
      "image/png": "[encoded data removed]",
      "text/plain": [
       "<Figure size 432x288 with 1 Axes>"
      ]
     },
     "metadata": {
      "needs_background": "light"
     },
     "output_type": "display_data"
    }
   ],
   "source": [
    "ax = sns.scatterplot(x=y_test, y=res)\n",
    "ax.set(ylabel='Residuals', xlabel='Test Label')\n",
    "plt.axhline(y=0,color='red',linestyle='--')\n",
    "\n",
    "# there should be no clear pattern / curve in the plot\n",
    "# we see a positive correlation between Test Label and Residuals -> later models should avoid this pattern"
   ]
  },
  {
   "cell_type": "code",
   "execution_count": 23,
   "id": "cathedral-cologne",
   "metadata": {},
   "outputs": [
    {
     "data": {
      "image/png": "[encoded data removed]",
      "text/plain": [
       "<Figure size 432x288 with 1 Axes>"
      ]
     },
     "metadata": {
      "needs_background": "light"
     },
     "output_type": "display_data"
    }
   ],
   "source": [
    "import scipy as sp\n",
    "\n",
    "fig, ax = plt.subplots()\n",
    "sp.stats.probplot(res,plot=ax);"
   ]
  },
  {
   "cell_type": "code",
   "execution_count": 24,
   "id": "unlike-victorian",
   "metadata": {},
   "outputs": [
    {
     "data": {
      "text/plain": [
       "RandomForestRegressor()"
      ]
     },
     "execution_count": 24,
     "metadata": {},
     "output_type": "execute_result"
    }
   ],
   "source": [
    "# Scale the data\n",
    "from sklearn.preprocessing import RobustScaler\n",
    "scaler = RobustScaler()\n",
    "scaler.fit(X)\n",
    "\n",
    "X_rf = scaler.transform(X)\n",
    "\n",
    "rf_model = RandomForestRegressor()\n",
    "rf_model.fit(X_rf,y)"
   ]
  },
  {
   "cell_type": "code",
   "execution_count": 25,
   "id": "attempted-component",
   "metadata": {},
   "outputs": [],
   "source": [
    "# model.coef_"
   ]
  },
  {
   "cell_type": "code",
   "execution_count": 26,
   "id": "individual-reliance",
   "metadata": {},
   "outputs": [],
   "source": [
    "# coef_df = pd.DataFrame(data=model.coef_,index=X.columns,columns=['beta'])\n",
    "# coef_df"
   ]
  },
  {
   "cell_type": "code",
   "execution_count": 27,
   "id": "front-grass",
   "metadata": {},
   "outputs": [],
   "source": [
    "# rf_model.coef_"
   ]
  },
  {
   "cell_type": "code",
   "execution_count": 28,
   "id": "social-click",
   "metadata": {},
   "outputs": [],
   "source": [
    "# coef_df = pd.DataFrame(data=rf_model.coef_,index=X.columns,columns=['beta'])\n",
    "# coef_df"
   ]
  },
  {
   "cell_type": "code",
   "execution_count": 29,
   "id": "actual-family",
   "metadata": {},
   "outputs": [],
   "source": [
    "# delta_df = pd.DataFrame(data=rf_model.coef_ - model.coef_,index=X.columns,columns=['delta_beta'])\n",
    "# delta_df"
   ]
  },
  {
   "cell_type": "code",
   "execution_count": 30,
   "id": "prompt-message",
   "metadata": {},
   "outputs": [],
   "source": [
    "# pd.set_option('display.max_columns',None)\n",
    "# delta_df.sort_values('delta_beta').sort_values('delta_beta').transpose()"
   ]
  },
  {
   "cell_type": "code",
   "execution_count": 31,
   "id": "important-shame",
   "metadata": {},
   "outputs": [],
   "source": [
    "# sns.histplot(data=delta_df,bins=40,kde=True)"
   ]
  },
  {
   "cell_type": "code",
   "execution_count": 32,
   "id": "technical-architecture",
   "metadata": {},
   "outputs": [],
   "source": [
    "y_pred_rf = rf_model.predict(X_rf)"
   ]
  },
  {
   "cell_type": "code",
   "execution_count": 33,
   "id": "ethical-medicine",
   "metadata": {},
   "outputs": [
    {
     "data": {
      "text/plain": [
       "<AxesSubplot:ylabel='Count'>"
      ]
     },
     "execution_count": 33,
     "metadata": {},
     "output_type": "execute_result"
    },
    {
     "data": {
      "image/png": "[encoded data removed]",
      "text/plain": [
       "<Figure size 432x288 with 1 Axes>"
      ]
     },
     "metadata": {
      "needs_background": "light"
     },
     "output_type": "display_data"
    }
   ],
   "source": [
    "sns.histplot(y_pred_rf,bins=40,kde=True)"
   ]
  },
  {
   "cell_type": "code",
   "execution_count": 34,
   "id": "junior-cowboy",
   "metadata": {},
   "outputs": [
    {
     "data": {
      "text/plain": [
       "<matplotlib.legend.Legend at 0x7f81649558b0>"
      ]
     },
     "execution_count": 34,
     "metadata": {},
     "output_type": "execute_result"
    },
    {
     "data": {
      "image/png": "[encoded data removed]",
      "text/plain": [
       "<Figure size 432x288 with 1 Axes>"
      ]
     },
     "metadata": {
      "needs_background": "light"
     },
     "output_type": "display_data"
    }
   ],
   "source": [
    "fig,ax = plt.subplots()\n",
    "\n",
    "sns.kdeplot(y, ax=ax, shade=True, label='Observations')\n",
    "sns.kdeplot(y_pred_rf, ax=ax,shade=True,label='Predictions')\n",
    "\n",
    "ax.legend(loc='best')"
   ]
  },
  {
   "cell_type": "code",
   "execution_count": 35,
   "id": "valid-printing",
   "metadata": {},
   "outputs": [
    {
     "data": {
      "text/plain": [
       "<matplotlib.legend.Legend at 0x7f81649ed970>"
      ]
     },
     "execution_count": 35,
     "metadata": {},
     "output_type": "execute_result"
    },
    {
     "data": {
      "image/png": "[encoded data removed]",
      "text/plain": [
       "<Figure size 432x288 with 1 Axes>"
      ]
     },
     "metadata": {
      "needs_background": "light"
     },
     "output_type": "display_data"
    }
   ],
   "source": [
    "fig,ax = plt.subplots()\n",
    "\n",
    "sns.ecdfplot(y, ax=ax, label='Observations')\n",
    "sns.ecdfplot(y_pred_rf, ax=ax,label='Predictions')\n",
    "plt.axvline(x=y.mean(),color='grey',linestyle='--')\n",
    "\n",
    "ax.legend(loc='best')"
   ]
  },
  {
   "cell_type": "code",
   "execution_count": 36,
   "id": "universal-brand",
   "metadata": {},
   "outputs": [],
   "source": [
    "mae = mean_absolute_error(y,y_pred_rf)\n",
    "mse = mean_squared_error(y,y_pred_rf)\n",
    "rmse = np.sqrt(mse)"
   ]
  },
  {
   "cell_type": "code",
   "execution_count": 37,
   "id": "sufficient-retailer",
   "metadata": {},
   "outputs": [
    {
     "data": {
      "text/html": [
       "<div>\n",
       "<style scoped>\n",
       "    .dataframe tbody tr th:only-of-type {\n",
       "        vertical-align: middle;\n",
       "    }\n",
       "\n",
       "    .dataframe tbody tr th {\n",
       "        vertical-align: top;\n",
       "    }\n",
       "\n",
       "    .dataframe thead th {\n",
       "        text-align: right;\n",
       "    }\n",
       "</style>\n",
       "<table border=\"1\" class=\"dataframe\">\n",
       "  <thead>\n",
       "    <tr style=\"text-align: right;\">\n",
       "      <th></th>\n",
       "      <th>RF</th>\n",
       "    </tr>\n",
       "  </thead>\n",
       "  <tbody>\n",
       "    <tr>\n",
       "      <th>MAE</th>\n",
       "      <td>1.007010</td>\n",
       "    </tr>\n",
       "    <tr>\n",
       "      <th>MSE</th>\n",
       "      <td>2.049224</td>\n",
       "    </tr>\n",
       "    <tr>\n",
       "      <th>RMSE</th>\n",
       "      <td>1.431511</td>\n",
       "    </tr>\n",
       "  </tbody>\n",
       "</table>\n",
       "</div>"
      ],
      "text/plain": [
       "            RF\n",
       "MAE   1.007010\n",
       "MSE   2.049224\n",
       "RMSE  1.431511"
      ]
     },
     "execution_count": 37,
     "metadata": {},
     "output_type": "execute_result"
    }
   ],
   "source": [
    "err_df = pd.DataFrame(data=[mae, mse, rmse],index=['MAE','MSE','RMSE'],columns=['RF'])\n",
    "err_df"
   ]
  },
  {
   "cell_type": "code",
   "execution_count": 38,
   "id": "previous-rental",
   "metadata": {},
   "outputs": [],
   "source": [
    "err_df.to_csv('./model-err/rf-def-err.csv')"
   ]
  },
  {
   "cell_type": "code",
   "execution_count": 39,
   "id": "abstract-builder",
   "metadata": {},
   "outputs": [
    {
     "data": {
      "text/plain": [
       "['./baseline-models/rf-def-model.joblib']"
      ]
     },
     "execution_count": 39,
     "metadata": {},
     "output_type": "execute_result"
    }
   ],
   "source": [
    "from joblib import dump, load\n",
    "dump(rf_model, './baseline-models/rf-def-model.joblib')"
   ]
  },
  {
   "cell_type": "markdown",
   "id": "further-envelope",
   "metadata": {},
   "source": [
    "DONE!"
   ]
  },
  {
   "cell_type": "code",
   "execution_count": null,
   "id": "pretty-abuse",
   "metadata": {},
   "outputs": [],
   "source": []
  }
 ],
 "metadata": {
  "kernelspec": {
   "display_name": "Python 3",
   "language": "python",
   "name": "python3"
  },
  "language_info": {
   "codemirror_mode": {
    "name": "ipython",
    "version": 3
   },
   "file_extension": ".py",
   "mimetype": "text/x-python",
   "name": "python",
   "nbconvert_exporter": "python",
   "pygments_lexer": "ipython3",
   "version": "3.8.6"
  }
 },
 "nbformat": 4,
 "nbformat_minor": 5
}
