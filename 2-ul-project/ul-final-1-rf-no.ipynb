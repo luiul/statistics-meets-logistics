{
 "cells": [
  {
   "cell_type": "markdown",
   "id": "impaired-machine",
   "metadata": {},
   "source": [
    "# Final Upload Model - Random Forrest Regressor No Outliers\n",
    "\n",
    "--- \n",
    "\n",
    "In this notebook we put together all relevant notebooks to make our predicitions based on our recomendations. "
   ]
  },
  {
   "cell_type": "markdown",
   "id": "sophisticated-intersection",
   "metadata": {},
   "source": [
    "# Import Libraries and Set Options\n",
    "\n",
    "---"
   ]
  },
  {
   "cell_type": "markdown",
   "id": "restricted-language",
   "metadata": {},
   "source": [
    "## General Libraries"
   ]
  },
  {
   "cell_type": "code",
   "execution_count": 1,
   "id": "accessory-spray",
   "metadata": {},
   "outputs": [],
   "source": [
    "import numpy as np\n",
    "import pandas as pd\n",
    "import matplotlib.pyplot as plt\n",
    "# from mpl_toolkits.mplot3d import Axes3D\n",
    "import seaborn as sns\n",
    "from datetime import datetime"
   ]
  },
  {
   "cell_type": "markdown",
   "id": "advanced-giant",
   "metadata": {},
   "source": [
    "# Data Preparation\n",
    "\n",
    "---"
   ]
  },
  {
   "cell_type": "markdown",
   "id": "boring-spectacular",
   "metadata": {},
   "source": [
    "## Read in Data and Instantiate DataFrame \n",
    "We read in the feature description and the raw download data. The DataFrame 'df' will be transformed in this Section. The DataFrame 'df_raw' will remained unchanged and serves as a reference throughout the Notebook. "
   ]
  },
  {
   "cell_type": "code",
   "execution_count": 2,
   "id": "large-hughes",
   "metadata": {},
   "outputs": [],
   "source": [
    "# --> READ IN YOUR DATA HERE! INSTANTIATE BOTH FRAMES! <-- #\n",
    "# --> READ IN YOUR DATA HERE! INSTANTIATE BOTH FRAMES! <-- #\n",
    "# --> READ IN YOUR DATA HERE! INSTANTIATE BOTH FRAMES! <-- #\n",
    "\n",
    "df = pd.read_csv('./data/Data_up.csv', delim_whitespace=True)\n",
    "df_raw = pd.read_csv('./data/Data_up.csv', delim_whitespace=True)\n",
    "\n",
    "# --> READ IN YOUR DATA HERE! INSTANTIATE BOTH FRAMES! <-- #\n",
    "# --> READ IN YOUR DATA HERE! INSTANTIATE BOTH FRAMES! <-- #\n",
    "# --> READ IN YOUR DATA HERE! INSTANTIATE BOTH FRAMES! <-- #"
   ]
  },
  {
   "cell_type": "code",
   "execution_count": 3,
   "id": "junior-cattle",
   "metadata": {},
   "outputs": [],
   "source": [
    "# df.head()"
   ]
  },
  {
   "cell_type": "code",
   "execution_count": 4,
   "id": "sunset-serum",
   "metadata": {},
   "outputs": [],
   "source": [
    "# df.columns"
   ]
  },
  {
   "cell_type": "code",
   "execution_count": 5,
   "id": "written-lyric",
   "metadata": {},
   "outputs": [],
   "source": [
    "# len(df)"
   ]
  },
  {
   "cell_type": "markdown",
   "id": "abstract-temperature",
   "metadata": {},
   "source": [
    "## Drop Features Without Information \n",
    "\n",
    "Drop features with no (usable) information."
   ]
  },
  {
   "cell_type": "code",
   "execution_count": 6,
   "id": "fossil-edition",
   "metadata": {},
   "outputs": [
    {
     "name": "stdout",
     "output_type": "stream",
     "text": [
      "Feature 'connected' contains no information!\n",
      "-> Feature was dropped from the DataFrame\n"
     ]
    }
   ],
   "source": [
    "for column in df: \n",
    "    if len(df[column].unique()) < 2:\n",
    "        print(f\"Feature '{column}' contains no information!\")\n",
    "        df = df.drop(column,axis=1)\n",
    "        print(\"-> Feature was dropped from the DataFrame\")"
   ]
  },
  {
   "cell_type": "code",
   "execution_count": 7,
   "id": "prospective-migration",
   "metadata": {},
   "outputs": [],
   "source": [
    "# df.head()"
   ]
  },
  {
   "cell_type": "markdown",
   "id": "documentary-cradle",
   "metadata": {},
   "source": [
    "# Visualize Label Data\n",
    "\n",
    "---"
   ]
  },
  {
   "cell_type": "code",
   "execution_count": 8,
   "id": "iraqi-pressing",
   "metadata": {},
   "outputs": [],
   "source": [
    "# df.info()"
   ]
  },
  {
   "cell_type": "code",
   "execution_count": 9,
   "id": "apparent-baptist",
   "metadata": {},
   "outputs": [],
   "source": [
    "# df.describe()['throughput']"
   ]
  },
  {
   "cell_type": "code",
   "execution_count": 10,
   "id": "deadly-lying",
   "metadata": {},
   "outputs": [],
   "source": [
    "# plt.figure(figsize=(16,10))\n",
    "# sns.histplot(data=df, x='throughput',kde=True);\n",
    "# note that the distribution is not normal (it resembles a exponential / Poisson distribution, which is a plaussible assumption for a communication model). Mass of the curve is shifted to the left. "
   ]
  },
  {
   "cell_type": "code",
   "execution_count": 11,
   "id": "annual-serbia",
   "metadata": {},
   "outputs": [],
   "source": [
    "# plt.figure(figsize=(16,10))\n",
    "# sns.boxplot(data=df, x='throughput');\n",
    "\n",
    "# note some outliers by the IQR method "
   ]
  },
  {
   "cell_type": "markdown",
   "id": "spectacular-advance",
   "metadata": {},
   "source": [
    "# Explore Correlation Heatmap\n",
    "---"
   ]
  },
  {
   "cell_type": "markdown",
   "id": "funny-building",
   "metadata": {},
   "source": [
    "## Initiate Correlation Heatmap"
   ]
  },
  {
   "cell_type": "code",
   "execution_count": 12,
   "id": "otherwise-robin",
   "metadata": {},
   "outputs": [],
   "source": [
    "# plt.figure(figsize=(16,14))\n",
    "# sns.heatmap(df.corr(),cmap='magma',annot=True);"
   ]
  },
  {
   "cell_type": "markdown",
   "id": "nutritional-northwest",
   "metadata": {},
   "source": [
    "**Heatmap Finding**\n",
    "\n",
    "**High Positive Correlation**\n",
    "- id and timestamp\n",
    "- measuremet and rawTimesamp\n",
    "- rsrp and ss (signal strength) \n",
    "\n",
    "**Positive Correlation**\n",
    "- pci and lon\n",
    "\n",
    "**Negative Correlation**\n",
    "- speed and lat\n",
    "\n",
    "**High Negative Correlation**\n",
    "- alt and lat\n",
    "\n",
    "**Label**\n",
    "\n",
    "Throughput shows non-zero correlations with features -> some signal will be picked by the model / no zero importance features\n",
    "\n",
    "**Heatmap Finding Conclusion**\n",
    "\n",
    "- Drop **id** and **measurement**: (a) both enconded in other features (b) irrelevant for our predictions (watch out for systematic errors in the experiment phase!) \n",
    "\n",
    "- For the reason delineated in (b) we also drop **pci** (physical cell id) (watch out for systematic errors in the experiment phase!) \n",
    "\n",
    "- Drop **ss**: calculated based off rsrp / linear transformation of rsrp -> will lead to decreased generalization performance of ML models"
   ]
  },
  {
   "cell_type": "markdown",
   "id": "naked-egyptian",
   "metadata": {},
   "source": [
    "## Drop Features based on Heatmap Finding"
   ]
  },
  {
   "cell_type": "code",
   "execution_count": 13,
   "id": "distant-atlantic",
   "metadata": {},
   "outputs": [],
   "source": [
    "df = df.drop('id',axis=1)\n",
    "df = df.drop('measurement', axis=1)\n",
    "df = df.drop('pci',axis=1)\n",
    "df = df.drop('ss',axis=1)\n",
    "\n",
    "# alt and lat are highly correlated! "
   ]
  },
  {
   "cell_type": "code",
   "execution_count": 14,
   "id": "ambient-forest",
   "metadata": {},
   "outputs": [],
   "source": [
    "# plt.figure(figsize=(16,14))\n",
    "# sns.heatmap(df.corr(),cmap='magma',annot=True);"
   ]
  },
  {
   "cell_type": "markdown",
   "id": "aquatic-profession",
   "metadata": {},
   "source": [
    "# Check for Missing Data\n",
    "---"
   ]
  },
  {
   "cell_type": "code",
   "execution_count": 15,
   "id": "other-dividend",
   "metadata": {},
   "outputs": [],
   "source": [
    "def percent_missing(df): \n",
    "    percent_nan = df.isnull().sum() / len(df) * 100\n",
    "    percent_nan = percent_nan[percent_nan>0].sort_values()\n",
    "    \n",
    "    return percent_nan"
   ]
  },
  {
   "cell_type": "code",
   "execution_count": 16,
   "id": "authorized-intelligence",
   "metadata": {},
   "outputs": [
    {
     "data": {
      "text/plain": [
       "0.0"
      ]
     },
     "execution_count": 16,
     "metadata": {},
     "output_type": "execute_result"
    }
   ],
   "source": [
    "percent_missing(df).sum()\n",
    "# no misiing data"
   ]
  },
  {
   "cell_type": "code",
   "execution_count": 17,
   "id": "considered-russell",
   "metadata": {},
   "outputs": [],
   "source": [
    "# Plot percentage of missing data as bar graph (no missing data in this case)\n",
    "\n",
    "# percent_nan = percent_missing(df)\n",
    "# \n",
    "# plt.figure(figsize=(10,8))\n",
    "# sns.barplot(x=percent_nan.index,y=percent_nan)\n",
    "# plt.xticks(rotation=90);"
   ]
  },
  {
   "cell_type": "markdown",
   "id": "numeric-shannon",
   "metadata": {},
   "source": [
    "# Further Feature Exploration and Selection \n",
    "---"
   ]
  },
  {
   "cell_type": "markdown",
   "id": "broke-airline",
   "metadata": {},
   "source": [
    "## Datetime"
   ]
  },
  {
   "cell_type": "code",
   "execution_count": 18,
   "id": "fallen-manhattan",
   "metadata": {},
   "outputs": [],
   "source": [
    "# df_raw.columns"
   ]
  },
  {
   "cell_type": "markdown",
   "id": "challenging-halifax",
   "metadata": {},
   "source": [
    "### timestamp Feature"
   ]
  },
  {
   "cell_type": "code",
   "execution_count": 19,
   "id": "entire-dollar",
   "metadata": {},
   "outputs": [],
   "source": [
    "# plt.figure(figsize=(16,10))\n",
    "# sns.scatterplot(data=df_raw, x='rawTimesamp',y='timestamp');\n",
    "# timestamp seems to be an arbitrary value assigned on the datapoint depending on the particular experiment (measurement). "
   ]
  },
  {
   "cell_type": "code",
   "execution_count": 20,
   "id": "improved-criminal",
   "metadata": {},
   "outputs": [],
   "source": [
    "# plt.figure(figsize=(16,10))\n",
    "# sns.scatterplot(data=df_raw, x='measurement',y='timestamp');"
   ]
  },
  {
   "cell_type": "code",
   "execution_count": 21,
   "id": "fifteen-gross",
   "metadata": {},
   "outputs": [],
   "source": [
    "# plt.figure(figsize=(16,10))\n",
    "# sns.scatterplot(data=df_raw, y='id',x='timestamp');\n",
    "\n",
    "# note also the timestamp encondes id / higly correlated to id (as noted in the heatmap). We drop timestamp for the following reasons: (a) our predictions should be independent of vehicle / measurement id, (b) rawTimesamp functions as a datetime object for the data frame, and (c) we don't have enough context to interpret id"
   ]
  },
  {
   "cell_type": "code",
   "execution_count": 22,
   "id": "alien-refund",
   "metadata": {},
   "outputs": [],
   "source": [
    "df = df.drop('timestamp', axis=1)"
   ]
  },
  {
   "cell_type": "code",
   "execution_count": 23,
   "id": "accessible-professional",
   "metadata": {},
   "outputs": [],
   "source": [
    "# we also rename rawTimesamp to better describe the feature\n",
    "df = df.rename(columns={'rawTimesamp':'unix_time'})"
   ]
  },
  {
   "cell_type": "code",
   "execution_count": 24,
   "id": "regulated-protocol",
   "metadata": {},
   "outputs": [],
   "source": [
    "# we rename location to better describe the feature\n",
    "df = df.rename(columns={'location':'region'})"
   ]
  },
  {
   "cell_type": "code",
   "execution_count": 25,
   "id": "appreciated-invitation",
   "metadata": {},
   "outputs": [],
   "source": [
    "# df.info()"
   ]
  },
  {
   "cell_type": "markdown",
   "id": "departmental-fifty",
   "metadata": {},
   "source": [
    "**Features**\n",
    "1. unix time\n",
    "2. distance\n",
    "3. location\n",
    "    - latitude\n",
    "    - longitude\n",
    "    - altitude\n",
    "4. mobility / motion\n",
    "    - speed\n",
    "    - acceleration\n",
    "    - direction\n",
    "5. LTE performance\n",
    "    - rsrp\n",
    "    - rsrq\n",
    "    - sinr\n",
    "    - cqi (categorical?)\n",
    "    - ta (categorical?)\n",
    "6. ci (categorical!)\n",
    "7. payload\n",
    "8. rtt\n",
    "9. location -> region (categorical!)"
   ]
  },
  {
   "cell_type": "markdown",
   "id": "engaging-barbados",
   "metadata": {},
   "source": [
    "### unix_time Feature\n",
    "\n",
    "We break down Unix time into more useful (categorical) features. "
   ]
  },
  {
   "cell_type": "code",
   "execution_count": 26,
   "id": "through-fighter",
   "metadata": {},
   "outputs": [],
   "source": [
    "# plt.figure(figsize=(16,10))\n",
    "# sns.scatterplot(data=df, x='unix_time',y='throughput');"
   ]
  },
  {
   "cell_type": "code",
   "execution_count": 27,
   "id": "empirical-death",
   "metadata": {},
   "outputs": [],
   "source": [
    "# plt.figure(figsize=(16,16),dpi=200)\n",
    "# sns.scatterplot(data=df_raw, x='lon',y='lat',hue='rawTimesamp',palette='magma');"
   ]
  },
  {
   "cell_type": "code",
   "execution_count": 28,
   "id": "southern-implement",
   "metadata": {},
   "outputs": [],
   "source": [
    "datetime_series = df['unix_time'].apply(lambda unix_time : datetime.fromtimestamp(unix_time))"
   ]
  },
  {
   "cell_type": "code",
   "execution_count": 29,
   "id": "sealed-revolution",
   "metadata": {},
   "outputs": [
    {
     "data": {
      "text/plain": [
       "0      2018-12-10 10:08:58\n",
       "1      2018-12-10 10:09:08\n",
       "2      2018-12-10 10:09:19\n",
       "3      2018-12-10 10:09:42\n",
       "4      2018-12-10 10:09:51\n",
       "               ...        \n",
       "2137   2019-01-18 10:22:11\n",
       "2138   2019-01-18 10:22:22\n",
       "2139   2019-01-18 10:22:31\n",
       "2140   2019-01-18 10:22:40\n",
       "2141   2019-01-18 10:22:49\n",
       "Name: unix_time, Length: 2142, dtype: datetime64[ns]"
      ]
     },
     "execution_count": 29,
     "metadata": {},
     "output_type": "execute_result"
    }
   ],
   "source": [
    "datetime_series"
   ]
  },
  {
   "cell_type": "code",
   "execution_count": 30,
   "id": "million-possession",
   "metadata": {},
   "outputs": [
    {
     "data": {
      "text/plain": [
       "array([2018, 2019])"
      ]
     },
     "execution_count": 30,
     "metadata": {},
     "output_type": "execute_result"
    }
   ],
   "source": [
    "datetime_series.apply(lambda dt : dt.year).unique()\n",
    "# not enough data -> disregard"
   ]
  },
  {
   "cell_type": "code",
   "execution_count": 31,
   "id": "optical-valentine",
   "metadata": {},
   "outputs": [
    {
     "data": {
      "text/plain": [
       "array([12,  1])"
      ]
     },
     "execution_count": 31,
     "metadata": {},
     "output_type": "execute_result"
    }
   ],
   "source": [
    "datetime_series.apply(lambda dt : dt.month).unique()\n",
    "# not enough data -> disregard"
   ]
  },
  {
   "cell_type": "code",
   "execution_count": 32,
   "id": "built-monaco",
   "metadata": {},
   "outputs": [
    {
     "data": {
      "text/plain": [
       "array([10,  9,  6, 14, 15, 12, 13])"
      ]
     },
     "execution_count": 32,
     "metadata": {},
     "output_type": "execute_result"
    }
   ],
   "source": [
    "datetime_series.apply(lambda dt : dt.hour).unique()\n",
    "# might be interesting to engineer the features morning and afternoon -> dive deeper"
   ]
  },
  {
   "cell_type": "code",
   "execution_count": 33,
   "id": "statutory-masters",
   "metadata": {},
   "outputs": [],
   "source": [
    "hour_arr = datetime_series.apply(lambda dt : dt.hour)"
   ]
  },
  {
   "cell_type": "code",
   "execution_count": 34,
   "id": "juvenile-luther",
   "metadata": {},
   "outputs": [],
   "source": [
    "hour_df = pd.DataFrame(hour_arr)"
   ]
  },
  {
   "cell_type": "code",
   "execution_count": 35,
   "id": "overall-mattress",
   "metadata": {},
   "outputs": [],
   "source": [
    "hour_df = hour_df.rename({'unix_time':'hour'},axis=1)"
   ]
  },
  {
   "cell_type": "code",
   "execution_count": 36,
   "id": "olympic-crawford",
   "metadata": {},
   "outputs": [
    {
     "data": {
      "text/plain": [
       "hour\n",
       "6       650\n",
       "14      508\n",
       "10      316\n",
       "13      293\n",
       "15      263\n",
       "9       110\n",
       "12        2\n",
       "dtype: int64"
      ]
     },
     "execution_count": 36,
     "metadata": {},
     "output_type": "execute_result"
    }
   ],
   "source": [
    "hour_df.value_counts()\n",
    "# distributed fairly evenly -> make categories morning (5 < t_0 < 11) and afternoon (11 < t_0 < 16), i.e. a binary categorical feature"
   ]
  },
  {
   "cell_type": "code",
   "execution_count": 37,
   "id": "valued-safety",
   "metadata": {},
   "outputs": [],
   "source": [
    "# plt.figure(figsize=(16,10))\n",
    "# ax = sns.scatterplot(x=hour_arr,y=df['throughput'])\n",
    "# ax.set_xlabel('Hour');"
   ]
  },
  {
   "cell_type": "code",
   "execution_count": 38,
   "id": "involved-asthma",
   "metadata": {},
   "outputs": [],
   "source": [
    "# Originally we wanted to create categories based on different hour intervalls. This idea was scrapped. \n",
    "\n",
    "# def time_of_day(h): \n",
    "#     if h < 9: \n",
    "#         return 'early morning'\n",
    "#     elif 9 <= h < 12: \n",
    "#         return 'morning'\n",
    "#     elif 12 <= h < 14: \n",
    "#         return 'noon'\n",
    "#     else: \n",
    "#         return 'evening'"
   ]
  },
  {
   "cell_type": "code",
   "execution_count": 39,
   "id": "outdoor-prompt",
   "metadata": {},
   "outputs": [],
   "source": [
    "# hour_df['hour'] = hour_df['hour'].apply(time_of_day)"
   ]
  },
  {
   "cell_type": "code",
   "execution_count": 40,
   "id": "ambient-sculpture",
   "metadata": {},
   "outputs": [],
   "source": [
    "# hour_df = hour_df.rename({'hour':'time'},axis=1)"
   ]
  },
  {
   "cell_type": "code",
   "execution_count": 41,
   "id": "golden-jackson",
   "metadata": {},
   "outputs": [],
   "source": [
    "# hour_df.value_counts()"
   ]
  },
  {
   "cell_type": "code",
   "execution_count": 42,
   "id": "lovely-tennis",
   "metadata": {},
   "outputs": [],
   "source": [
    "# plt.figure(figsize=(16,10))\n",
    "# ax = sns.scatterplot(x=hour_df['time'],y=df['throughput'])\n",
    "# ax.set_xlabel('Time');"
   ]
  },
  {
   "cell_type": "markdown",
   "id": "opposed-contractor",
   "metadata": {},
   "source": [
    "---"
   ]
  },
  {
   "cell_type": "code",
   "execution_count": 43,
   "id": "assumed-investor",
   "metadata": {},
   "outputs": [
    {
     "data": {
      "text/plain": [
       "array(['Monday', 'Tuesday', 'Wednesday', 'Thursday', 'Friday'],\n",
       "      dtype=object)"
      ]
     },
     "execution_count": 43,
     "metadata": {},
     "output_type": "execute_result"
    }
   ],
   "source": [
    "datetime_series.apply(lambda dt : dt.day_name()).unique()\n",
    "# all days of the week -> dive deeper; we enconde the weekdays as integers"
   ]
  },
  {
   "cell_type": "code",
   "execution_count": 44,
   "id": "downtown-mortgage",
   "metadata": {},
   "outputs": [],
   "source": [
    "weekday_arr = datetime_series.apply(lambda dt : dt.day_name())"
   ]
  },
  {
   "cell_type": "code",
   "execution_count": 45,
   "id": "aboriginal-appointment",
   "metadata": {},
   "outputs": [],
   "source": [
    "weekday_df = pd.DataFrame(weekday_arr)"
   ]
  },
  {
   "cell_type": "code",
   "execution_count": 46,
   "id": "romantic-honey",
   "metadata": {},
   "outputs": [],
   "source": [
    "weekday_df = weekday_df.rename({'unix_time':'weekday'},axis=1)"
   ]
  },
  {
   "cell_type": "code",
   "execution_count": 47,
   "id": "irish-processor",
   "metadata": {},
   "outputs": [
    {
     "data": {
      "text/plain": [
       "weekday  \n",
       "Tuesday      559\n",
       "Thursday     492\n",
       "Wednesday    463\n",
       "Monday       325\n",
       "Friday       303\n",
       "dtype: int64"
      ]
     },
     "execution_count": 47,
     "metadata": {},
     "output_type": "execute_result"
    }
   ],
   "source": [
    "weekday_df.value_counts()\n",
    "# make categorical feature weekday"
   ]
  },
  {
   "cell_type": "code",
   "execution_count": 48,
   "id": "handy-calculation",
   "metadata": {},
   "outputs": [],
   "source": [
    "# plt.figure(figsize=(16,10))\n",
    "# ax = sns.scatterplot(x=weekday_arr,y=df['throughput'],hue=hour_df['hour'],palette='magma')\n",
    "# ax.set_xlabel('Weekday');\n",
    "# note that on Friday we mostly find data in the morning hours, on Monday and Wednesday mostly in the evening and on Tuesday and Thrusday around midday -> suggestion for experiment phase: take data throughout the day for all days"
   ]
  },
  {
   "cell_type": "code",
   "execution_count": 49,
   "id": "double-practitioner",
   "metadata": {},
   "outputs": [],
   "source": [
    "# add new features to df and drop unix_time: \n",
    "df['hour'] = hour_df['hour']\n",
    "df['weekday'] = weekday_df['weekday']\n",
    "df = df.drop('unix_time',axis=1)"
   ]
  },
  {
   "cell_type": "code",
   "execution_count": 50,
   "id": "continued-confirmation",
   "metadata": {},
   "outputs": [],
   "source": [
    "# df.info()"
   ]
  },
  {
   "cell_type": "markdown",
   "id": "numerous-chair",
   "metadata": {},
   "source": [
    "## Distance"
   ]
  },
  {
   "cell_type": "code",
   "execution_count": 51,
   "id": "aware-aquarium",
   "metadata": {},
   "outputs": [
    {
     "data": {
      "text/plain": [
       "count     2142.000000\n",
       "mean      4282.101695\n",
       "std       3766.633882\n",
       "min         79.870000\n",
       "25%       1378.810000\n",
       "50%       2836.010000\n",
       "75%       6444.035000\n",
       "max      14125.340000\n",
       "Name: distance, dtype: float64"
      ]
     },
     "execution_count": 51,
     "metadata": {},
     "output_type": "execute_result"
    }
   ],
   "source": [
    "df['distance'].describe()"
   ]
  },
  {
   "cell_type": "markdown",
   "id": "offshore-killing",
   "metadata": {},
   "source": [
    "## Mobility Context"
   ]
  },
  {
   "cell_type": "markdown",
   "id": "basic-cherry",
   "metadata": {},
   "source": [
    "### Position: Latitude, Longitude, and Altitude / Elevation\n",
    "\n",
    "Note the small scale of the values -> normalization / standardization necessary!"
   ]
  },
  {
   "cell_type": "code",
   "execution_count": 52,
   "id": "heated-prerequisite",
   "metadata": {},
   "outputs": [
    {
     "data": {
      "text/html": [
       "<div>\n",
       "<style scoped>\n",
       "    .dataframe tbody tr th:only-of-type {\n",
       "        vertical-align: middle;\n",
       "    }\n",
       "\n",
       "    .dataframe tbody tr th {\n",
       "        vertical-align: top;\n",
       "    }\n",
       "\n",
       "    .dataframe thead th {\n",
       "        text-align: right;\n",
       "    }\n",
       "</style>\n",
       "<table border=\"1\" class=\"dataframe\">\n",
       "  <thead>\n",
       "    <tr style=\"text-align: right;\">\n",
       "      <th></th>\n",
       "      <th>mean</th>\n",
       "      <th>std</th>\n",
       "      <th>min</th>\n",
       "      <th>25%</th>\n",
       "      <th>50%</th>\n",
       "      <th>75%</th>\n",
       "      <th>max</th>\n",
       "    </tr>\n",
       "  </thead>\n",
       "  <tbody>\n",
       "    <tr>\n",
       "      <th>lat</th>\n",
       "      <td>51.478517</td>\n",
       "      <td>0.022679</td>\n",
       "      <td>51.437179</td>\n",
       "      <td>51.462611</td>\n",
       "      <td>51.481650</td>\n",
       "      <td>51.490657</td>\n",
       "      <td>51.521823</td>\n",
       "    </tr>\n",
       "    <tr>\n",
       "      <th>lon</th>\n",
       "      <td>7.445505</td>\n",
       "      <td>0.030740</td>\n",
       "      <td>7.392997</td>\n",
       "      <td>7.416640</td>\n",
       "      <td>7.450149</td>\n",
       "      <td>7.472981</td>\n",
       "      <td>7.491727</td>\n",
       "    </tr>\n",
       "    <tr>\n",
       "      <th>alt</th>\n",
       "      <td>177.289463</td>\n",
       "      <td>41.983027</td>\n",
       "      <td>118.170000</td>\n",
       "      <td>151.917500</td>\n",
       "      <td>163.770000</td>\n",
       "      <td>182.185000</td>\n",
       "      <td>297.160000</td>\n",
       "    </tr>\n",
       "  </tbody>\n",
       "</table>\n",
       "</div>"
      ],
      "text/plain": [
       "           mean        std         min         25%         50%         75%  \\\n",
       "lat   51.478517   0.022679   51.437179   51.462611   51.481650   51.490657   \n",
       "lon    7.445505   0.030740    7.392997    7.416640    7.450149    7.472981   \n",
       "alt  177.289463  41.983027  118.170000  151.917500  163.770000  182.185000   \n",
       "\n",
       "            max  \n",
       "lat   51.521823  \n",
       "lon    7.491727  \n",
       "alt  297.160000  "
      ]
     },
     "execution_count": 52,
     "metadata": {},
     "output_type": "execute_result"
    }
   ],
   "source": [
    "df[['lat','lon','alt']].describe().transpose().drop('count',axis=1)\n",
    "# standardize features!  "
   ]
  },
  {
   "cell_type": "markdown",
   "id": "functioning-thong",
   "metadata": {},
   "source": [
    "### Motion: Speed, Acceleration, and Direction\n",
    "\n",
    "The ML Paper mentions trajectory of the vehicle as well (engineered featured; see ML Paper). The feature direction seems to be encoded in the feature trajectory in the paper. The feature acceleration is not mentioned in the paper. We explore this feature. "
   ]
  },
  {
   "cell_type": "code",
   "execution_count": 53,
   "id": "devoted-income",
   "metadata": {},
   "outputs": [
    {
     "data": {
      "text/html": [
       "<div>\n",
       "<style scoped>\n",
       "    .dataframe tbody tr th:only-of-type {\n",
       "        vertical-align: middle;\n",
       "    }\n",
       "\n",
       "    .dataframe tbody tr th {\n",
       "        vertical-align: top;\n",
       "    }\n",
       "\n",
       "    .dataframe thead th {\n",
       "        text-align: right;\n",
       "    }\n",
       "</style>\n",
       "<table border=\"1\" class=\"dataframe\">\n",
       "  <thead>\n",
       "    <tr style=\"text-align: right;\">\n",
       "      <th></th>\n",
       "      <th>mean</th>\n",
       "      <th>std</th>\n",
       "      <th>min</th>\n",
       "      <th>25%</th>\n",
       "      <th>50%</th>\n",
       "      <th>75%</th>\n",
       "      <th>max</th>\n",
       "    </tr>\n",
       "  </thead>\n",
       "  <tbody>\n",
       "    <tr>\n",
       "      <th>speed</th>\n",
       "      <td>12.336036</td>\n",
       "      <td>8.950635</td>\n",
       "      <td>0.00</td>\n",
       "      <td>7.1525</td>\n",
       "      <td>12.540</td>\n",
       "      <td>15.0950</td>\n",
       "      <td>39.34</td>\n",
       "    </tr>\n",
       "    <tr>\n",
       "      <th>acc</th>\n",
       "      <td>0.020556</td>\n",
       "      <td>0.923075</td>\n",
       "      <td>-6.03</td>\n",
       "      <td>0.0000</td>\n",
       "      <td>0.000</td>\n",
       "      <td>0.0000</td>\n",
       "      <td>13.04</td>\n",
       "    </tr>\n",
       "    <tr>\n",
       "      <th>dir</th>\n",
       "      <td>165.689220</td>\n",
       "      <td>93.093156</td>\n",
       "      <td>0.04</td>\n",
       "      <td>91.3400</td>\n",
       "      <td>151.375</td>\n",
       "      <td>251.1425</td>\n",
       "      <td>359.95</td>\n",
       "    </tr>\n",
       "  </tbody>\n",
       "</table>\n",
       "</div>"
      ],
      "text/plain": [
       "             mean        std   min      25%      50%       75%     max\n",
       "speed   12.336036   8.950635  0.00   7.1525   12.540   15.0950   39.34\n",
       "acc      0.020556   0.923075 -6.03   0.0000    0.000    0.0000   13.04\n",
       "dir    165.689220  93.093156  0.04  91.3400  151.375  251.1425  359.95"
      ]
     },
     "execution_count": 53,
     "metadata": {},
     "output_type": "execute_result"
    }
   ],
   "source": [
    "df[['speed','acc','dir']].describe().transpose().drop('count',axis=1)\n",
    "# stardardize features!"
   ]
  },
  {
   "cell_type": "code",
   "execution_count": 54,
   "id": "numerous-protest",
   "metadata": {},
   "outputs": [],
   "source": [
    "# plt.figure(figsize=(16,10))\n",
    "# sns.histplot(data=df, x='acc',bins=100)"
   ]
  },
  {
   "cell_type": "code",
   "execution_count": 55,
   "id": "necessary-classics",
   "metadata": {},
   "outputs": [
    {
     "data": {
      "text/plain": [
       "42"
      ]
     },
     "execution_count": 55,
     "metadata": {},
     "output_type": "execute_result"
    }
   ],
   "source": [
    "acc = df['acc']\n",
    "\n",
    "outliers = acc[(acc < -(3*acc.std())) | (acc > 3*acc.std())]\n",
    "len(outliers)\n",
    "\n",
    "# outliers are 3 STD aways from the mean"
   ]
  },
  {
   "cell_type": "code",
   "execution_count": 56,
   "id": "future-owner",
   "metadata": {},
   "outputs": [
    {
     "data": {
      "text/plain": [
       "'Outliers are 1.96% of the Download data set (3 std away from the mean)'"
      ]
     },
     "execution_count": 56,
     "metadata": {},
     "output_type": "execute_result"
    }
   ],
   "source": [
    "f'Outliers are {len(outliers)/len(df)*100:.2f}% of the Download data set (3 std away from the mean)'"
   ]
  },
  {
   "cell_type": "code",
   "execution_count": 57,
   "id": "focused-philadelphia",
   "metadata": {},
   "outputs": [],
   "source": [
    "# plt.figure(figsize=(16,10))\n",
    "# sns.scatterplot(data=df, x='acc',y='throughput')"
   ]
  },
  {
   "cell_type": "code",
   "execution_count": 58,
   "id": "introductory-horse",
   "metadata": {},
   "outputs": [],
   "source": [
    "# at this points we have two options: (a) drop the outliers or (b) drop the feature entirely. Unfortunately, we do not have enough context or knowledge to make an appropiate decision. Thus we might pursue both options. \n",
    "\n",
    "df = df[(df['acc'] > -3) & (df['acc'] < 3)]"
   ]
  },
  {
   "cell_type": "code",
   "execution_count": 59,
   "id": "simplified-header",
   "metadata": {},
   "outputs": [],
   "source": [
    "# plt.figure(figsize=(16,10))\n",
    "# sns.histplot(data=df, x='acc',bins=100)"
   ]
  },
  {
   "cell_type": "code",
   "execution_count": 60,
   "id": "athletic-upset",
   "metadata": {},
   "outputs": [],
   "source": [
    "# plt.figure(figsize=(16,10))\n",
    "# sns.scatterplot(data=df, x='acc',y='throughput')"
   ]
  },
  {
   "cell_type": "markdown",
   "id": "applicable-extension",
   "metadata": {},
   "source": [
    "### Cell ID\n",
    "\n",
    "There is not enough context provided in the feature description. We assume CI represents Cell Id. In the Paper Cell Id is assigned to the Mobility Context. We assume CI is a categorical feature. Read more [here](https://en.wikipedia.org/wiki/GSM_Cell_ID). "
   ]
  },
  {
   "cell_type": "code",
   "execution_count": 61,
   "id": "beginning-delaware",
   "metadata": {},
   "outputs": [],
   "source": [
    "# plt.figure(figsize=(16,10))\n",
    "# sns.scatterplot(data=df, x='ci',y='throughput')\n",
    "# note that certain CIs have a narrower distribution that others. "
   ]
  },
  {
   "cell_type": "markdown",
   "id": "brave-ladder",
   "metadata": {},
   "source": [
    "## Network Context / Channel Performance: RSRP, RSRQ, SINR, CQI, TA\n",
    "\n",
    "The studies agree that passively measurable network quality indicators such as Reference Signal Received Power (RSRP), Reference Signal Received Quality (RSRQ), Signal- to-interference-plus-noise Ratio (SINR), and Channel Quality Indicator (CQI) provide meaningful information, which can be leveraged to estimate the resulting data rate based on machine learning methods even in challenging environments. We also consider Timing Advance (TA). "
   ]
  },
  {
   "cell_type": "code",
   "execution_count": 62,
   "id": "coral-vessel",
   "metadata": {},
   "outputs": [
    {
     "data": {
      "text/html": [
       "<div>\n",
       "<style scoped>\n",
       "    .dataframe tbody tr th:only-of-type {\n",
       "        vertical-align: middle;\n",
       "    }\n",
       "\n",
       "    .dataframe tbody tr th {\n",
       "        vertical-align: top;\n",
       "    }\n",
       "\n",
       "    .dataframe thead th {\n",
       "        text-align: right;\n",
       "    }\n",
       "</style>\n",
       "<table border=\"1\" class=\"dataframe\">\n",
       "  <thead>\n",
       "    <tr style=\"text-align: right;\">\n",
       "      <th></th>\n",
       "      <th>mean</th>\n",
       "      <th>std</th>\n",
       "      <th>min</th>\n",
       "      <th>25%</th>\n",
       "      <th>50%</th>\n",
       "      <th>75%</th>\n",
       "      <th>max</th>\n",
       "    </tr>\n",
       "  </thead>\n",
       "  <tbody>\n",
       "    <tr>\n",
       "      <th>rsrp</th>\n",
       "      <td>-88.380703</td>\n",
       "      <td>9.356115</td>\n",
       "      <td>-113.0</td>\n",
       "      <td>-95.0</td>\n",
       "      <td>-89.0</td>\n",
       "      <td>-83.0</td>\n",
       "      <td>-56.0</td>\n",
       "    </tr>\n",
       "    <tr>\n",
       "      <th>rsrq</th>\n",
       "      <td>-7.442015</td>\n",
       "      <td>2.103924</td>\n",
       "      <td>-19.0</td>\n",
       "      <td>-9.0</td>\n",
       "      <td>-7.0</td>\n",
       "      <td>-6.0</td>\n",
       "      <td>-4.0</td>\n",
       "    </tr>\n",
       "    <tr>\n",
       "      <th>sinr</th>\n",
       "      <td>13.402567</td>\n",
       "      <td>9.822825</td>\n",
       "      <td>-15.0</td>\n",
       "      <td>6.0</td>\n",
       "      <td>12.0</td>\n",
       "      <td>21.0</td>\n",
       "      <td>40.0</td>\n",
       "    </tr>\n",
       "    <tr>\n",
       "      <th>cqi</th>\n",
       "      <td>9.936312</td>\n",
       "      <td>3.325964</td>\n",
       "      <td>1.0</td>\n",
       "      <td>7.0</td>\n",
       "      <td>10.0</td>\n",
       "      <td>12.0</td>\n",
       "      <td>15.0</td>\n",
       "    </tr>\n",
       "    <tr>\n",
       "      <th>ta</th>\n",
       "      <td>7.060361</td>\n",
       "      <td>6.233960</td>\n",
       "      <td>0.0</td>\n",
       "      <td>3.0</td>\n",
       "      <td>6.0</td>\n",
       "      <td>9.0</td>\n",
       "      <td>94.0</td>\n",
       "    </tr>\n",
       "  </tbody>\n",
       "</table>\n",
       "</div>"
      ],
      "text/plain": [
       "           mean       std    min   25%   50%   75%   max\n",
       "rsrp -88.380703  9.356115 -113.0 -95.0 -89.0 -83.0 -56.0\n",
       "rsrq  -7.442015  2.103924  -19.0  -9.0  -7.0  -6.0  -4.0\n",
       "sinr  13.402567  9.822825  -15.0   6.0  12.0  21.0  40.0\n",
       "cqi    9.936312  3.325964    1.0   7.0  10.0  12.0  15.0\n",
       "ta     7.060361  6.233960    0.0   3.0   6.0   9.0  94.0"
      ]
     },
     "execution_count": 62,
     "metadata": {},
     "output_type": "execute_result"
    }
   ],
   "source": [
    "df[['rsrp', 'rsrq','sinr', 'cqi', 'ta']].describe().transpose().drop('count',axis=1)"
   ]
  },
  {
   "cell_type": "code",
   "execution_count": 63,
   "id": "reasonable-warning",
   "metadata": {},
   "outputs": [
    {
     "data": {
      "text/plain": [
       "count    2104.000000\n",
       "mean        7.060361\n",
       "std         6.233960\n",
       "min         0.000000\n",
       "25%         3.000000\n",
       "50%         6.000000\n",
       "75%         9.000000\n",
       "max        94.000000\n",
       "Name: ta, dtype: float64"
      ]
     },
     "execution_count": 63,
     "metadata": {},
     "output_type": "execute_result"
    }
   ],
   "source": [
    "df['ta'].describe()\n",
    "# extreme outliers in the data -> consider droping some datapoints"
   ]
  },
  {
   "cell_type": "code",
   "execution_count": 64,
   "id": "widespread-integrity",
   "metadata": {},
   "outputs": [],
   "source": [
    "ta = df['ta']\n",
    "\n",
    "q75, q25 = np.percentile(a=ta, q=[75,25])\n",
    "IQR = q75 - q25\n",
    "\n",
    "low_lim = q25-1.5*IQR\n",
    "up_lim = q75+1.5*IQR"
   ]
  },
  {
   "cell_type": "code",
   "execution_count": 65,
   "id": "therapeutic-apache",
   "metadata": {},
   "outputs": [
    {
     "data": {
      "text/plain": [
       "18.0"
      ]
     },
     "execution_count": 65,
     "metadata": {},
     "output_type": "execute_result"
    }
   ],
   "source": [
    "up_lim\n",
    "# this threshold might be too agressive. "
   ]
  },
  {
   "cell_type": "code",
   "execution_count": 66,
   "id": "controversial-psychiatry",
   "metadata": {},
   "outputs": [
    {
     "data": {
      "text/plain": [
       "13"
      ]
     },
     "execution_count": 66,
     "metadata": {},
     "output_type": "execute_result"
    }
   ],
   "source": [
    "outliers = ta[(ta < low_lim) | (ta > 30)]\n",
    "len(outliers)"
   ]
  },
  {
   "cell_type": "code",
   "execution_count": 67,
   "id": "absolute-behavior",
   "metadata": {},
   "outputs": [
    {
     "data": {
      "text/plain": [
       "'Outliers are 0.62% of the Download data set according to the IQR Method'"
      ]
     },
     "execution_count": 67,
     "metadata": {},
     "output_type": "execute_result"
    }
   ],
   "source": [
    "f'Outliers are {len(outliers)/len(df)*100:.2f}% of the Download data set according to the IQR Method'"
   ]
  },
  {
   "cell_type": "code",
   "execution_count": 68,
   "id": "answering-richardson",
   "metadata": {},
   "outputs": [],
   "source": [
    "# plt.figure(figsize=(16,10))\n",
    "# sns.histplot(data=df, x='ta',kde=True)"
   ]
  },
  {
   "cell_type": "code",
   "execution_count": 69,
   "id": "short-active",
   "metadata": {},
   "outputs": [],
   "source": [
    "# plt.figure(figsize=(16,10))\n",
    "# sns.scatterplot(data=df, x='ta',y='throughput')\n",
    "# dropping after 18 might be too aggresive. We an arbitrary threshold at 30. "
   ]
  },
  {
   "cell_type": "code",
   "execution_count": 70,
   "id": "surprised-motion",
   "metadata": {},
   "outputs": [],
   "source": [
    "# plt.figure(figsize=(16,10))\n",
    "# df_ta = df[df['ta'] < 30]\n",
    "# sns.histplot(data=df_ta, x='ta',bins=100)"
   ]
  },
  {
   "cell_type": "code",
   "execution_count": 71,
   "id": "delayed-classification",
   "metadata": {},
   "outputs": [],
   "source": [
    "# plt.figure(figsize=(16,10))\n",
    "# sns.scatterplot(data=df, x='ta',y='throughput')"
   ]
  },
  {
   "cell_type": "code",
   "execution_count": 72,
   "id": "closed-stamp",
   "metadata": {},
   "outputs": [],
   "source": [
    "df = df[(df['ta'] > low_lim) & (df['ta'] < 30)]"
   ]
  },
  {
   "cell_type": "code",
   "execution_count": 73,
   "id": "angry-apartment",
   "metadata": {},
   "outputs": [
    {
     "data": {
      "text/plain": [
       "2091"
      ]
     },
     "execution_count": 73,
     "metadata": {},
     "output_type": "execute_result"
    }
   ],
   "source": [
    "len(df)"
   ]
  },
  {
   "cell_type": "markdown",
   "id": "wicked-farming",
   "metadata": {},
   "source": [
    "## Application Context: Payload"
   ]
  },
  {
   "cell_type": "code",
   "execution_count": 74,
   "id": "bulgarian-electricity",
   "metadata": {},
   "outputs": [
    {
     "data": {
      "text/plain": [
       "count    2091.000000\n",
       "mean        4.583214\n",
       "std         3.254274\n",
       "min         0.100000\n",
       "25%         2.000000\n",
       "50%         4.000000\n",
       "75%         8.000000\n",
       "max        10.000000\n",
       "Name: payload, dtype: float64"
      ]
     },
     "execution_count": 74,
     "metadata": {},
     "output_type": "execute_result"
    }
   ],
   "source": [
    "df['payload'].describe()"
   ]
  },
  {
   "cell_type": "markdown",
   "id": "speaking-discrimination",
   "metadata": {},
   "source": [
    "## Additional Features not found in the Paper\n",
    "\n",
    "The Round Trip Time (RTT) and the Location (Region) are not mentioned as Features in the Paper but we'll consider them for our analyis. We explore RTT in this Section. "
   ]
  },
  {
   "cell_type": "code",
   "execution_count": 75,
   "id": "biological-canyon",
   "metadata": {},
   "outputs": [
    {
     "data": {
      "text/plain": [
       "count    2091.000000\n",
       "mean       59.571975\n",
       "std       165.239273\n",
       "min        29.000000\n",
       "25%        38.000000\n",
       "50%        42.000000\n",
       "75%        50.000000\n",
       "max      5322.000000\n",
       "Name: rtt, dtype: float64"
      ]
     },
     "execution_count": 75,
     "metadata": {},
     "output_type": "execute_result"
    }
   ],
   "source": [
    "df['rtt'].describe()\n",
    "# extreme outliers in the data -> consider droping some datapoints"
   ]
  },
  {
   "cell_type": "code",
   "execution_count": 76,
   "id": "affiliated-chain",
   "metadata": {},
   "outputs": [],
   "source": [
    "rtt = df['rtt']\n",
    "\n",
    "q75, q25 = np.percentile(a=rtt, q=[75,25])\n",
    "IQR = q75 - q25\n",
    "\n",
    "low_lim = q25-1.5*IQR\n",
    "up_lim = q75+1.5*IQR"
   ]
  },
  {
   "cell_type": "code",
   "execution_count": 77,
   "id": "revised-introduction",
   "metadata": {},
   "outputs": [
    {
     "data": {
      "text/plain": [
       "68.0"
      ]
     },
     "execution_count": 77,
     "metadata": {},
     "output_type": "execute_result"
    }
   ],
   "source": [
    "up_lim"
   ]
  },
  {
   "cell_type": "code",
   "execution_count": 78,
   "id": "tracked-norwegian",
   "metadata": {},
   "outputs": [
    {
     "data": {
      "text/plain": [
       "101"
      ]
     },
     "execution_count": 78,
     "metadata": {},
     "output_type": "execute_result"
    }
   ],
   "source": [
    "outliers = rtt[(rtt < low_lim) | (rtt > up_lim)]\n",
    "len(outliers)"
   ]
  },
  {
   "cell_type": "code",
   "execution_count": 79,
   "id": "demanding-interview",
   "metadata": {},
   "outputs": [
    {
     "data": {
      "text/plain": [
       "'Outliers are 4.83% of the Download data set according to the IQR Method'"
      ]
     },
     "execution_count": 79,
     "metadata": {},
     "output_type": "execute_result"
    }
   ],
   "source": [
    "f'Outliers are {len(outliers)/len(df)*100:.2f}% of the Download data set according to the IQR Method'"
   ]
  },
  {
   "cell_type": "code",
   "execution_count": 80,
   "id": "boring-orbit",
   "metadata": {},
   "outputs": [],
   "source": [
    "# plt.figure(figsize=(16,10))\n",
    "# sns.histplot(data=df, x='rtt',kde=True)"
   ]
  },
  {
   "cell_type": "code",
   "execution_count": 81,
   "id": "female-assurance",
   "metadata": {},
   "outputs": [],
   "source": [
    "# plt.figure(figsize=(16,10))\n",
    "# sns.scatterplot(data=df_raw, x='rtt',y='throughput')"
   ]
  },
  {
   "cell_type": "code",
   "execution_count": 82,
   "id": "atomic-dakota",
   "metadata": {},
   "outputs": [],
   "source": [
    "# plt.figure(figsize=(16,10))\n",
    "# df_rtt = df[df['rtt'] < up_lim]\n",
    "# sns.histplot(data=df_rtt, x='rtt',bins=40)"
   ]
  },
  {
   "cell_type": "code",
   "execution_count": 83,
   "id": "legal-brazil",
   "metadata": {},
   "outputs": [],
   "source": [
    "# plt.figure(figsize=(16,10))\n",
    "# sns.scatterplot(data=df_rtt, x='rtt',y='throughput')"
   ]
  },
  {
   "cell_type": "code",
   "execution_count": 84,
   "id": "geological-nerve",
   "metadata": {},
   "outputs": [],
   "source": [
    "# at this points we have two options: (a) drop the outliers or (b) drop the feature entirely. Unfortunately, we do not have enough context or knowledge to make an appropiate decision. Thus we might pursue both options. \n",
    "df = df[df['rtt'] < up_lim]"
   ]
  },
  {
   "cell_type": "markdown",
   "id": "three-garden",
   "metadata": {},
   "source": [
    "# Further Considerations: Location\n",
    "---"
   ]
  },
  {
   "cell_type": "markdown",
   "id": "ongoing-prediction",
   "metadata": {},
   "source": [
    "## Investigate Correlation between Altitude and Latitude"
   ]
  },
  {
   "cell_type": "code",
   "execution_count": 85,
   "id": "outside-southeast",
   "metadata": {},
   "outputs": [],
   "source": [
    "# plt.figure(figsize=(16,14))\n",
    "# sns.heatmap(df.corr(),cmap='magma',annot=True);\n",
    "# note the high negative correlation between altitude and latitude"
   ]
  },
  {
   "cell_type": "code",
   "execution_count": 86,
   "id": "configured-creativity",
   "metadata": {},
   "outputs": [],
   "source": [
    "# plt.figure(figsize=(16,16))\n",
    "# sns.scatterplot(data=df, x='lon',y='lat',hue='alt');\n",
    "\n",
    "# note that this high negative correlation could introduce systematic errors to our model -> suggestion in experiment phase: more variety of latitude, altitude tuples"
   ]
  },
  {
   "cell_type": "code",
   "execution_count": 87,
   "id": "challenging-screen",
   "metadata": {},
   "outputs": [],
   "source": [
    "# plt.figure(figsize=(16,16))\n",
    "# sns.scatterplot(data=df, x='alt',y='lat',hue='rsrp',palette='magma');\n",
    "\n",
    "# we see the high negative correlation between the features, but no particular pattern when considering the rsrp"
   ]
  },
  {
   "cell_type": "code",
   "execution_count": 88,
   "id": "coordinate-preview",
   "metadata": {},
   "outputs": [],
   "source": [
    "# plt.figure(figsize=(16,16))\n",
    "# sns.scatterplot(data=df, x='alt',y='lat',hue='throughput',palette='magma');\n",
    "\n",
    "# we see the high negative correlation between the features, but no particular pattern when considering the throughput -> we won't drop either of the features"
   ]
  },
  {
   "cell_type": "code",
   "execution_count": 89,
   "id": "rural-drawing",
   "metadata": {},
   "outputs": [],
   "source": [
    "# we can visualize the rsrp in a 3D plot\n",
    "# from mpl_toolkits.mplot3d import Axes3D\n",
    "# \n",
    "# fig = plt.figure(figsize=(16,10))\n",
    "# ax = Axes3D(fig)\n",
    "# \n",
    "# x = df['lat']\n",
    "# y = df['lon']\n",
    "# z = df['alt']\n",
    "# c = df['rsrp']\n",
    "# \n",
    "# sc = ax.scatter(x,y,z,s=40,c=c,cmap='magma',alpha=.5)\n",
    "# ax.set_xlabel('Latitude')\n",
    "# ax.set_ylabel('Longitude')\n",
    "# ax.set_zlabel('Altitude')\n",
    "# \n",
    "# plt.legend(*sc.legend_elements(), loc='best');\n",
    "\n",
    "# plt.savefig(\"scatter_hue\", bbox_inches='tight')"
   ]
  },
  {
   "cell_type": "code",
   "execution_count": 90,
   "id": "breathing-genealogy",
   "metadata": {},
   "outputs": [],
   "source": [
    "# we can visualize the throuhput in a 3D plot\n",
    "# from mpl_toolkits.mplot3d import Axes3D\n",
    "# \n",
    "# fig = plt.figure(figsize=(16,10))\n",
    "# ax = Axes3D(fig)\n",
    "# \n",
    "# x = df['lat']\n",
    "# y = df['lon']\n",
    "# z = df['alt']\n",
    "# c = df['throughput']\n",
    "# \n",
    "# sc = ax.scatter(x,y,z,s=40,c=c,cmap='magma',alpha=.5)\n",
    "# ax.set_xlabel('Latitude')\n",
    "# ax.set_ylabel('Longitude')\n",
    "# ax.set_zlabel('Altitude')\n",
    "# \n",
    "# plt.legend(*sc.legend_elements(), loc='best');\n",
    "\n",
    "# plt.savefig(\"scatter_hue\", bbox_inches='tight')"
   ]
  },
  {
   "cell_type": "markdown",
   "id": "brief-sullivan",
   "metadata": {},
   "source": [
    "## Drop Data Points outside Street\n",
    "We drop data points outside the street. These points are most likely measurement errors. We export the data to [Google Maps](https://www.google.com/maps/d/edit?mid=16uGNwcuE2fgafLTK6ZG4MUEpYxuT1L7w&usp=sharing) and impute invalid data points. Note that Google Maps can take max. 2000 data points. An alternative to this method is plotly (JavaScript configuration required). \n",
    "\n",
    "<img src=\"./figures/gmaps.png\" width=\"600\" alt=\"Architecture model for the client-based data rate prediction.\" class=\"center\">"
   ]
  },
  {
   "cell_type": "code",
   "execution_count": 91,
   "id": "complex-comment",
   "metadata": {},
   "outputs": [],
   "source": [
    "# plt.figure(figsize=(16,16))\n",
    "# sns.scatterplot(data=df, x='lon',y='lat',hue='region');"
   ]
  },
  {
   "cell_type": "code",
   "execution_count": 92,
   "id": "unique-economics",
   "metadata": {},
   "outputs": [],
   "source": [
    "# Using Google Maps\n",
    "\n",
    "# df[['lon','lat','region']].to_csv('./data/dl-loc.csv', index=False)\n",
    "\n",
    "# Afterwards convert Google Map to .CSV with https://www.gpsvisualizer.com/convert_input and download the .CSV file\n",
    "# read in file and inner join with df on longitude and latitude"
   ]
  },
  {
   "cell_type": "code",
   "execution_count": 93,
   "id": "fundamental-charity",
   "metadata": {},
   "outputs": [],
   "source": [
    "# import plotly.express as px\n",
    "# \n",
    "# fig = px.scatter(data_frame=df, x='lon',y='lat',hover_name=df.index)\n",
    "# fig.show()\n",
    "# \n",
    "# # we drop rows with the following index: 1906,1908,1902,1962 and 780, 1695, 1369, 566, 629,1549,1436"
   ]
  },
  {
   "cell_type": "code",
   "execution_count": 94,
   "id": "convenient-kitty",
   "metadata": {},
   "outputs": [],
   "source": [
    "# drop location that do not exist in the urban region\n",
    "# df = df.drop([1906,1908,1902,1962])"
   ]
  },
  {
   "cell_type": "code",
   "execution_count": 95,
   "id": "exposed-steps",
   "metadata": {},
   "outputs": [],
   "source": [
    "# drop location that do not exist in the rest of the regions\n",
    "# df = df.drop([780, 1695, 1369, 566, 629,1549,1436])"
   ]
  },
  {
   "cell_type": "code",
   "execution_count": 96,
   "id": "later-hungarian",
   "metadata": {},
   "outputs": [],
   "source": [
    "# plt.figure(figsize=(16,16))\n",
    "# sns.scatterplot(data=df, x='lon',y='lat',hue='region');"
   ]
  },
  {
   "cell_type": "code",
   "execution_count": 97,
   "id": "canadian-albania",
   "metadata": {},
   "outputs": [],
   "source": [
    "# df.info()"
   ]
  },
  {
   "cell_type": "markdown",
   "id": "narrative-justice",
   "metadata": {},
   "source": [
    "# Check for Outliers"
   ]
  },
  {
   "cell_type": "markdown",
   "id": "corporate-playback",
   "metadata": {},
   "source": [
    "## IQR Methodology"
   ]
  },
  {
   "cell_type": "code",
   "execution_count": 98,
   "id": "continuing-occurrence",
   "metadata": {},
   "outputs": [],
   "source": [
    "label = df['throughput']"
   ]
  },
  {
   "cell_type": "code",
   "execution_count": 99,
   "id": "julian-proportion",
   "metadata": {},
   "outputs": [],
   "source": [
    "q75, q25 = np.percentile(a=label, q=[75,25])\n",
    "IQR = q75 - q25\n",
    "\n",
    "low_lim = q25-1.5*IQR\n",
    "up_lim = q75+1.5*IQR"
   ]
  },
  {
   "cell_type": "code",
   "execution_count": 100,
   "id": "settled-praise",
   "metadata": {},
   "outputs": [
    {
     "data": {
      "text/plain": [
       "0"
      ]
     },
     "execution_count": 100,
     "metadata": {},
     "output_type": "execute_result"
    }
   ],
   "source": [
    "outliers = label[(label < low_lim) | (label > up_lim)]\n",
    "len(outliers)\n",
    "\n",
    "# there are 19 outlierts in the data set by IQR method "
   ]
  },
  {
   "cell_type": "code",
   "execution_count": 101,
   "id": "normal-opportunity",
   "metadata": {},
   "outputs": [
    {
     "data": {
      "text/plain": [
       "'Outliers are 0.00% of the Download data according to the IQR Method'"
      ]
     },
     "execution_count": 101,
     "metadata": {},
     "output_type": "execute_result"
    }
   ],
   "source": [
    "f'Outliers are {len(outliers)/len(df)*100:.2f}% of the Download data according to the IQR Method'"
   ]
  },
  {
   "cell_type": "code",
   "execution_count": 102,
   "id": "variable-organic",
   "metadata": {},
   "outputs": [],
   "source": [
    "# since the number is low we might consider dropping the these rows; note that the distribution of the throughput is not normal -> dive deeper to determine true outliers"
   ]
  },
  {
   "cell_type": "markdown",
   "id": "informative-berkeley",
   "metadata": {},
   "source": [
    "## Check Feature Correlations with Label & Decide what constitutes an Outlier"
   ]
  },
  {
   "cell_type": "code",
   "execution_count": 103,
   "id": "informed-pontiac",
   "metadata": {},
   "outputs": [
    {
     "data": {
      "text/plain": [
       "throughput    1.000000\n",
       "payload       0.621466\n",
       "rsrp          0.374755\n",
       "rsrq          0.313497\n",
       "sinr          0.300554\n",
       "cqi           0.237682\n",
       "distance      0.097347\n",
       "acc           0.051953\n",
       "lat           0.031983\n",
       "alt           0.017299\n",
       "speed        -0.008068\n",
       "dir          -0.034751\n",
       "lon          -0.047091\n",
       "ci           -0.053684\n",
       "rtt          -0.058077\n",
       "hour         -0.095956\n",
       "ta           -0.205873\n",
       "txPower      -0.225743\n",
       "Name: throughput, dtype: float64"
      ]
     },
     "execution_count": 103,
     "metadata": {},
     "output_type": "execute_result"
    }
   ],
   "source": [
    "df.corr()['throughput'].sort_values(ascending=False)\n",
    "# note that payload is highly positively correlated to download throughput (it also makes sense that a higher payload produces a high throughput)"
   ]
  },
  {
   "cell_type": "code",
   "execution_count": 104,
   "id": "heated-briefing",
   "metadata": {},
   "outputs": [],
   "source": [
    "# plt.figure(figsize=(16,16))\n",
    "# sns.scatterplot(data=df, x='payload', y='throughput',hue='rsrp',palette='magma')\n",
    "# \n",
    "# plt.axhline(y=up_lim,color='orange',alpha=.5,label='q75 + 1.5 IQR')\n",
    "# \n",
    "# plt.legend(loc=(1.02,.5));\n",
    "\n",
    "# note that within every payload size we have a distribution and as payload increses, so does the throughput but also the variane of the distribution within the payload -> not all data points above the upper limit are outliers per se "
   ]
  },
  {
   "cell_type": "code",
   "execution_count": 105,
   "id": "vocal-moscow",
   "metadata": {},
   "outputs": [
    {
     "data": {
      "text/plain": [
       "array([ 0.1,  0.5,  1. ,  2. ,  3. ,  4. ,  5. ,  6. ,  7. ,  8. ,  9. ,\n",
       "       10. ])"
      ]
     },
     "execution_count": 105,
     "metadata": {},
     "output_type": "execute_result"
    }
   ],
   "source": [
    "np.sort(df['payload'].unique())\n",
    "# precision of the payload column / x axis "
   ]
  },
  {
   "cell_type": "code",
   "execution_count": 106,
   "id": "behind-coffee",
   "metadata": {},
   "outputs": [
    {
     "data": {
      "text/plain": [
       "payload\n",
       "0.1     0.785976\n",
       "0.5     1.809091\n",
       "1.0     2.748854\n",
       "2.0     4.542475\n",
       "3.0     5.886279\n",
       "5.0     6.792011\n",
       "4.0     6.867180\n",
       "6.0     7.577134\n",
       "7.0     7.605823\n",
       "10.0    7.805224\n",
       "9.0     7.857979\n",
       "8.0     7.875634\n",
       "Name: throughput, dtype: float64"
      ]
     },
     "execution_count": 106,
     "metadata": {},
     "output_type": "execute_result"
    }
   ],
   "source": [
    "df.groupby('payload')['throughput'].std().sort_values()\n",
    "# after droping the outliers we want to keep this relationship between the std's by payload"
   ]
  },
  {
   "cell_type": "code",
   "execution_count": 107,
   "id": "organic-hamilton",
   "metadata": {},
   "outputs": [
    {
     "data": {
      "text/html": [
       "<div>\n",
       "<style scoped>\n",
       "    .dataframe tbody tr th:only-of-type {\n",
       "        vertical-align: middle;\n",
       "    }\n",
       "\n",
       "    .dataframe tbody tr th {\n",
       "        vertical-align: top;\n",
       "    }\n",
       "\n",
       "    .dataframe thead th {\n",
       "        text-align: right;\n",
       "    }\n",
       "</style>\n",
       "<table border=\"1\" class=\"dataframe\">\n",
       "  <thead>\n",
       "    <tr style=\"text-align: right;\">\n",
       "      <th>payload</th>\n",
       "      <th>0.1</th>\n",
       "      <th>0.5</th>\n",
       "      <th>1.0</th>\n",
       "      <th>2.0</th>\n",
       "      <th>3.0</th>\n",
       "      <th>4.0</th>\n",
       "      <th>5.0</th>\n",
       "      <th>6.0</th>\n",
       "      <th>7.0</th>\n",
       "      <th>8.0</th>\n",
       "      <th>9.0</th>\n",
       "      <th>10.0</th>\n",
       "    </tr>\n",
       "  </thead>\n",
       "  <tbody>\n",
       "    <tr>\n",
       "      <th>count</th>\n",
       "      <td>157.000000</td>\n",
       "      <td>170.000000</td>\n",
       "      <td>153.000000</td>\n",
       "      <td>175.000000</td>\n",
       "      <td>189.000000</td>\n",
       "      <td>182.000000</td>\n",
       "      <td>156.000000</td>\n",
       "      <td>143.000000</td>\n",
       "      <td>149.000000</td>\n",
       "      <td>178.000000</td>\n",
       "      <td>164.000000</td>\n",
       "      <td>163.000000</td>\n",
       "    </tr>\n",
       "    <tr>\n",
       "      <th>mean</th>\n",
       "      <td>3.989810</td>\n",
       "      <td>8.545989</td>\n",
       "      <td>12.542205</td>\n",
       "      <td>17.498986</td>\n",
       "      <td>18.849210</td>\n",
       "      <td>21.006899</td>\n",
       "      <td>22.402607</td>\n",
       "      <td>22.878936</td>\n",
       "      <td>23.389663</td>\n",
       "      <td>23.665778</td>\n",
       "      <td>23.441841</td>\n",
       "      <td>24.507279</td>\n",
       "    </tr>\n",
       "    <tr>\n",
       "      <th>std</th>\n",
       "      <td>0.785976</td>\n",
       "      <td>1.809091</td>\n",
       "      <td>2.748854</td>\n",
       "      <td>4.542475</td>\n",
       "      <td>5.886279</td>\n",
       "      <td>6.867180</td>\n",
       "      <td>6.792011</td>\n",
       "      <td>7.577134</td>\n",
       "      <td>7.605823</td>\n",
       "      <td>7.875634</td>\n",
       "      <td>7.857979</td>\n",
       "      <td>7.805224</td>\n",
       "    </tr>\n",
       "    <tr>\n",
       "      <th>min</th>\n",
       "      <td>1.856160</td>\n",
       "      <td>3.319500</td>\n",
       "      <td>5.115090</td>\n",
       "      <td>3.686640</td>\n",
       "      <td>5.339270</td>\n",
       "      <td>3.727870</td>\n",
       "      <td>5.091000</td>\n",
       "      <td>3.630310</td>\n",
       "      <td>2.055270</td>\n",
       "      <td>3.191540</td>\n",
       "      <td>4.578990</td>\n",
       "      <td>3.930820</td>\n",
       "    </tr>\n",
       "    <tr>\n",
       "      <th>25%</th>\n",
       "      <td>3.418820</td>\n",
       "      <td>7.540080</td>\n",
       "      <td>10.929000</td>\n",
       "      <td>14.088450</td>\n",
       "      <td>14.059800</td>\n",
       "      <td>15.960075</td>\n",
       "      <td>17.230275</td>\n",
       "      <td>17.847350</td>\n",
       "      <td>18.324600</td>\n",
       "      <td>17.831075</td>\n",
       "      <td>17.197125</td>\n",
       "      <td>18.975550</td>\n",
       "    </tr>\n",
       "    <tr>\n",
       "      <th>50%</th>\n",
       "      <td>4.060930</td>\n",
       "      <td>8.602190</td>\n",
       "      <td>12.698400</td>\n",
       "      <td>18.327600</td>\n",
       "      <td>19.688300</td>\n",
       "      <td>22.801400</td>\n",
       "      <td>24.169200</td>\n",
       "      <td>24.439900</td>\n",
       "      <td>23.178800</td>\n",
       "      <td>25.671900</td>\n",
       "      <td>24.093700</td>\n",
       "      <td>26.220900</td>\n",
       "    </tr>\n",
       "    <tr>\n",
       "      <th>75%</th>\n",
       "      <td>4.571450</td>\n",
       "      <td>9.720578</td>\n",
       "      <td>14.466500</td>\n",
       "      <td>21.011250</td>\n",
       "      <td>23.762400</td>\n",
       "      <td>26.202650</td>\n",
       "      <td>27.533950</td>\n",
       "      <td>29.038150</td>\n",
       "      <td>29.755600</td>\n",
       "      <td>29.517250</td>\n",
       "      <td>29.912800</td>\n",
       "      <td>30.622700</td>\n",
       "    </tr>\n",
       "    <tr>\n",
       "      <th>max</th>\n",
       "      <td>5.714310</td>\n",
       "      <td>13.513500</td>\n",
       "      <td>19.093100</td>\n",
       "      <td>27.538700</td>\n",
       "      <td>30.341300</td>\n",
       "      <td>34.298000</td>\n",
       "      <td>34.602100</td>\n",
       "      <td>34.782600</td>\n",
       "      <td>35.851500</td>\n",
       "      <td>36.343000</td>\n",
       "      <td>38.135600</td>\n",
       "      <td>40.060100</td>\n",
       "    </tr>\n",
       "  </tbody>\n",
       "</table>\n",
       "</div>"
      ],
      "text/plain": [
       "payload        0.1         0.5         1.0         2.0         3.0   \\\n",
       "count    157.000000  170.000000  153.000000  175.000000  189.000000   \n",
       "mean       3.989810    8.545989   12.542205   17.498986   18.849210   \n",
       "std        0.785976    1.809091    2.748854    4.542475    5.886279   \n",
       "min        1.856160    3.319500    5.115090    3.686640    5.339270   \n",
       "25%        3.418820    7.540080   10.929000   14.088450   14.059800   \n",
       "50%        4.060930    8.602190   12.698400   18.327600   19.688300   \n",
       "75%        4.571450    9.720578   14.466500   21.011250   23.762400   \n",
       "max        5.714310   13.513500   19.093100   27.538700   30.341300   \n",
       "\n",
       "payload        4.0         5.0         6.0         7.0         8.0   \\\n",
       "count    182.000000  156.000000  143.000000  149.000000  178.000000   \n",
       "mean      21.006899   22.402607   22.878936   23.389663   23.665778   \n",
       "std        6.867180    6.792011    7.577134    7.605823    7.875634   \n",
       "min        3.727870    5.091000    3.630310    2.055270    3.191540   \n",
       "25%       15.960075   17.230275   17.847350   18.324600   17.831075   \n",
       "50%       22.801400   24.169200   24.439900   23.178800   25.671900   \n",
       "75%       26.202650   27.533950   29.038150   29.755600   29.517250   \n",
       "max       34.298000   34.602100   34.782600   35.851500   36.343000   \n",
       "\n",
       "payload        9.0         10.0  \n",
       "count    164.000000  163.000000  \n",
       "mean      23.441841   24.507279  \n",
       "std        7.857979    7.805224  \n",
       "min        4.578990    3.930820  \n",
       "25%       17.197125   18.975550  \n",
       "50%       24.093700   26.220900  \n",
       "75%       29.912800   30.622700  \n",
       "max       38.135600   40.060100  "
      ]
     },
     "execution_count": 107,
     "metadata": {},
     "output_type": "execute_result"
    }
   ],
   "source": [
    "df.groupby('payload')['throughput'].describe().transpose()"
   ]
  },
  {
   "cell_type": "code",
   "execution_count": 108,
   "id": "bizarre-former",
   "metadata": {},
   "outputs": [],
   "source": [
    "# we remove the outliers with the same method delineated above\n",
    "# fig = px.scatter(data_frame=df, x='payload',y='throughput',hover_name=df.index)\n",
    "# fig.show()\n",
    "# \n",
    "# we drop rows with the following index: 1111, 1835, 871, 569, 1011"
   ]
  },
  {
   "cell_type": "code",
   "execution_count": 109,
   "id": "breeding-decimal",
   "metadata": {},
   "outputs": [],
   "source": [
    "# remove outliers left of the mean\n",
    "# df = df.drop([646])"
   ]
  },
  {
   "cell_type": "code",
   "execution_count": 110,
   "id": "rubber-korea",
   "metadata": {},
   "outputs": [],
   "source": [
    "# remove outliert right of the mean\n",
    "# df = df.drop([1111, 1835, 871, 569,612,1011,507,338])"
   ]
  },
  {
   "cell_type": "code",
   "execution_count": 111,
   "id": "honey-comedy",
   "metadata": {},
   "outputs": [],
   "source": [
    "# plt.figure(figsize=(16,16))\n",
    "# sns.scatterplot(data=df, x='payload', y='throughput',hue='rsrp',palette='magma')\n",
    "# \n",
    "# plt.axhline(y=up_lim,color='orange',alpha=.5,label='q75 + 1.5 IQR')\n",
    "# \n",
    "# plt.legend(loc=(1.02,.5));"
   ]
  },
  {
   "cell_type": "code",
   "execution_count": 112,
   "id": "dramatic-banks",
   "metadata": {},
   "outputs": [
    {
     "data": {
      "text/plain": [
       "payload\n",
       "0.1     0.785976\n",
       "0.5     1.809091\n",
       "1.0     2.748854\n",
       "2.0     4.542475\n",
       "3.0     5.886279\n",
       "5.0     6.792011\n",
       "4.0     6.867180\n",
       "6.0     7.577134\n",
       "7.0     7.605823\n",
       "10.0    7.805224\n",
       "9.0     7.857979\n",
       "8.0     7.875634\n",
       "Name: throughput, dtype: float64"
      ]
     },
     "execution_count": 112,
     "metadata": {},
     "output_type": "execute_result"
    }
   ],
   "source": [
    "df.groupby('payload')['throughput'].std().sort_values()"
   ]
  },
  {
   "cell_type": "markdown",
   "id": "systematic-insulin",
   "metadata": {},
   "source": [
    "**Comment**: we use a visualization and our (qualitative) judgement to remove outliers. Note that an alternative to this would be an algorithm that (a) groups the data points by payload and (b) removes the outliers per payload by considering an IQR or STD method. Since we have to do the outlier removal operation only once, we won't automate this process\n",
    "\n",
    "---"
   ]
  },
  {
   "cell_type": "code",
   "execution_count": 113,
   "id": "impressive-child",
   "metadata": {},
   "outputs": [],
   "source": [
    "# plt.figure(figsize=(16,16))\n",
    "# sns.scatterplot(data=df, x='rsrp', y='throughput',hue='payload',palette='magma')\n",
    "# \n",
    "# plt.axhline(y=up_lim,color='orange',alpha=.5,label='q75 + 1.5 IQR')\n",
    "# \n",
    "# plt.legend(loc=(1.02,.5));"
   ]
  },
  {
   "cell_type": "code",
   "execution_count": 114,
   "id": "opposite-johns",
   "metadata": {},
   "outputs": [],
   "source": [
    "# df.head()"
   ]
  },
  {
   "cell_type": "code",
   "execution_count": 115,
   "id": "primary-embassy",
   "metadata": {},
   "outputs": [],
   "source": [
    "# df.info()"
   ]
  },
  {
   "cell_type": "code",
   "execution_count": 116,
   "id": "associate-piece",
   "metadata": {},
   "outputs": [],
   "source": [
    "# df.to_csv('./data/d-no-ns-nd.csv', index=False)\n",
    "# pfe = post feature engineering\n",
    "# ns = not scaled\n",
    "# nd = no dummy variables"
   ]
  },
  {
   "cell_type": "markdown",
   "id": "respiratory-forum",
   "metadata": {},
   "source": [
    "# Encoding Categorical Features\n",
    "\n",
    "We create dummy variables for the following features: \n",
    "- region \n",
    "- weekday\n",
    "- ci (we don't have enough domain knowledge to check if this is a correct assumption)\n",
    "\n",
    "The following ordinal features remain unchanged (not enough domain knowledge, but by reading the articles we can infer there is an order to the variable values).\n",
    "- [CQI](https://ytd2525.wordpress.com/2014/02/02/cqi-channel-quality-indicator/)"
   ]
  },
  {
   "cell_type": "code",
   "execution_count": 117,
   "id": "confidential-wiring",
   "metadata": {},
   "outputs": [],
   "source": [
    "cat_features = ['ci','region','weekday']\n",
    "cat_df = df[cat_features].copy()"
   ]
  },
  {
   "cell_type": "code",
   "execution_count": 118,
   "id": "soviet-gender",
   "metadata": {},
   "outputs": [],
   "source": [
    "# convert CI int -> object\n",
    "cat_df['ci'] = cat_df['ci'].apply(str)"
   ]
  },
  {
   "cell_type": "code",
   "execution_count": 119,
   "id": "invalid-translation",
   "metadata": {},
   "outputs": [
    {
     "name": "stdout",
     "output_type": "stream",
     "text": [
      "<class 'pandas.core.frame.DataFrame'>\n",
      "Int64Index: 1979 entries, 0 to 2141\n",
      "Data columns (total 3 columns):\n",
      " #   Column   Non-Null Count  Dtype \n",
      "---  ------   --------------  ----- \n",
      " 0   ci       1979 non-null   object\n",
      " 1   region   1979 non-null   object\n",
      " 2   weekday  1979 non-null   object\n",
      "dtypes: object(3)\n",
      "memory usage: 61.8+ KB\n"
     ]
    }
   ],
   "source": [
    "cat_df.info()"
   ]
  },
  {
   "cell_type": "code",
   "execution_count": 120,
   "id": "growing-chocolate",
   "metadata": {},
   "outputs": [],
   "source": [
    "non_cat_df = df.drop(cat_features, axis=1)"
   ]
  },
  {
   "cell_type": "code",
   "execution_count": 121,
   "id": "heavy-township",
   "metadata": {},
   "outputs": [
    {
     "data": {
      "text/html": [
       "<div>\n",
       "<style scoped>\n",
       "    .dataframe tbody tr th:only-of-type {\n",
       "        vertical-align: middle;\n",
       "    }\n",
       "\n",
       "    .dataframe tbody tr th {\n",
       "        vertical-align: top;\n",
       "    }\n",
       "\n",
       "    .dataframe thead th {\n",
       "        text-align: right;\n",
       "    }\n",
       "</style>\n",
       "<table border=\"1\" class=\"dataframe\">\n",
       "  <thead>\n",
       "    <tr style=\"text-align: right;\">\n",
       "      <th></th>\n",
       "      <th>distance</th>\n",
       "      <th>lat</th>\n",
       "      <th>lon</th>\n",
       "      <th>alt</th>\n",
       "      <th>speed</th>\n",
       "      <th>acc</th>\n",
       "      <th>dir</th>\n",
       "      <th>rsrp</th>\n",
       "      <th>rsrq</th>\n",
       "      <th>sinr</th>\n",
       "      <th>cqi</th>\n",
       "      <th>ta</th>\n",
       "      <th>payload</th>\n",
       "      <th>throughput</th>\n",
       "      <th>rtt</th>\n",
       "      <th>txPower</th>\n",
       "      <th>hour</th>\n",
       "    </tr>\n",
       "  </thead>\n",
       "  <tbody>\n",
       "    <tr>\n",
       "      <th>0</th>\n",
       "      <td>113.75</td>\n",
       "      <td>51.490592</td>\n",
       "      <td>7.414306</td>\n",
       "      <td>156.39</td>\n",
       "      <td>12.21</td>\n",
       "      <td>0.50</td>\n",
       "      <td>77.59</td>\n",
       "      <td>-85</td>\n",
       "      <td>-5</td>\n",
       "      <td>22</td>\n",
       "      <td>10</td>\n",
       "      <td>7</td>\n",
       "      <td>4.0</td>\n",
       "      <td>24.5211</td>\n",
       "      <td>35</td>\n",
       "      <td>12.30470</td>\n",
       "      <td>10</td>\n",
       "    </tr>\n",
       "    <tr>\n",
       "      <th>1</th>\n",
       "      <td>231.40</td>\n",
       "      <td>51.490717</td>\n",
       "      <td>7.415835</td>\n",
       "      <td>152.53</td>\n",
       "      <td>11.17</td>\n",
       "      <td>0.00</td>\n",
       "      <td>87.24</td>\n",
       "      <td>-84</td>\n",
       "      <td>-6</td>\n",
       "      <td>11</td>\n",
       "      <td>13</td>\n",
       "      <td>4</td>\n",
       "      <td>2.0</td>\n",
       "      <td>14.8561</td>\n",
       "      <td>51</td>\n",
       "      <td>10.01560</td>\n",
       "      <td>10</td>\n",
       "    </tr>\n",
       "    <tr>\n",
       "      <th>2</th>\n",
       "      <td>323.73</td>\n",
       "      <td>51.490634</td>\n",
       "      <td>7.417138</td>\n",
       "      <td>154.23</td>\n",
       "      <td>6.44</td>\n",
       "      <td>0.00</td>\n",
       "      <td>48.55</td>\n",
       "      <td>-82</td>\n",
       "      <td>-6</td>\n",
       "      <td>21</td>\n",
       "      <td>15</td>\n",
       "      <td>4</td>\n",
       "      <td>4.0</td>\n",
       "      <td>16.2684</td>\n",
       "      <td>57</td>\n",
       "      <td>4.34375</td>\n",
       "      <td>10</td>\n",
       "    </tr>\n",
       "    <tr>\n",
       "      <th>3</th>\n",
       "      <td>537.34</td>\n",
       "      <td>51.492531</td>\n",
       "      <td>7.416222</td>\n",
       "      <td>154.41</td>\n",
       "      <td>12.33</td>\n",
       "      <td>0.02</td>\n",
       "      <td>336.68</td>\n",
       "      <td>-90</td>\n",
       "      <td>-6</td>\n",
       "      <td>16</td>\n",
       "      <td>9</td>\n",
       "      <td>4</td>\n",
       "      <td>8.0</td>\n",
       "      <td>14.5886</td>\n",
       "      <td>60</td>\n",
       "      <td>17.31250</td>\n",
       "      <td>10</td>\n",
       "    </tr>\n",
       "    <tr>\n",
       "      <th>4</th>\n",
       "      <td>650.07</td>\n",
       "      <td>51.493484</td>\n",
       "      <td>7.415836</td>\n",
       "      <td>153.05</td>\n",
       "      <td>11.69</td>\n",
       "      <td>-0.18</td>\n",
       "      <td>348.09</td>\n",
       "      <td>-101</td>\n",
       "      <td>-10</td>\n",
       "      <td>13</td>\n",
       "      <td>15</td>\n",
       "      <td>4</td>\n",
       "      <td>6.0</td>\n",
       "      <td>13.1255</td>\n",
       "      <td>57</td>\n",
       "      <td>19.93750</td>\n",
       "      <td>10</td>\n",
       "    </tr>\n",
       "  </tbody>\n",
       "</table>\n",
       "</div>"
      ],
      "text/plain": [
       "   distance        lat       lon     alt  speed   acc     dir  rsrp  rsrq  \\\n",
       "0    113.75  51.490592  7.414306  156.39  12.21  0.50   77.59   -85    -5   \n",
       "1    231.40  51.490717  7.415835  152.53  11.17  0.00   87.24   -84    -6   \n",
       "2    323.73  51.490634  7.417138  154.23   6.44  0.00   48.55   -82    -6   \n",
       "3    537.34  51.492531  7.416222  154.41  12.33  0.02  336.68   -90    -6   \n",
       "4    650.07  51.493484  7.415836  153.05  11.69 -0.18  348.09  -101   -10   \n",
       "\n",
       "   sinr  cqi  ta  payload  throughput  rtt   txPower  hour  \n",
       "0    22   10   7      4.0     24.5211   35  12.30470    10  \n",
       "1    11   13   4      2.0     14.8561   51  10.01560    10  \n",
       "2    21   15   4      4.0     16.2684   57   4.34375    10  \n",
       "3    16    9   4      8.0     14.5886   60  17.31250    10  \n",
       "4    13   15   4      6.0     13.1255   57  19.93750    10  "
      ]
     },
     "execution_count": 121,
     "metadata": {},
     "output_type": "execute_result"
    }
   ],
   "source": [
    "non_cat_df.head()"
   ]
  },
  {
   "cell_type": "code",
   "execution_count": 122,
   "id": "engaged-drilling",
   "metadata": {},
   "outputs": [],
   "source": [
    "cat_df_d = pd.get_dummies(cat_df, drop_first=True)\n",
    "# d = dummy variables, we drop the first column of each set of dummy variables"
   ]
  },
  {
   "cell_type": "code",
   "execution_count": 123,
   "id": "matched-edwards",
   "metadata": {},
   "outputs": [
    {
     "data": {
      "text/html": [
       "<div>\n",
       "<style scoped>\n",
       "    .dataframe tbody tr th:only-of-type {\n",
       "        vertical-align: middle;\n",
       "    }\n",
       "\n",
       "    .dataframe tbody tr th {\n",
       "        vertical-align: top;\n",
       "    }\n",
       "\n",
       "    .dataframe thead th {\n",
       "        text-align: right;\n",
       "    }\n",
       "</style>\n",
       "<table border=\"1\" class=\"dataframe\">\n",
       "  <thead>\n",
       "    <tr style=\"text-align: right;\">\n",
       "      <th></th>\n",
       "      <th>ci_26378497</th>\n",
       "      <th>ci_26378498</th>\n",
       "      <th>ci_26378754</th>\n",
       "      <th>ci_26378755</th>\n",
       "      <th>ci_26379013</th>\n",
       "      <th>ci_26385408</th>\n",
       "      <th>ci_26385409</th>\n",
       "      <th>ci_26385410</th>\n",
       "      <th>ci_26796290</th>\n",
       "      <th>ci_26796291</th>\n",
       "      <th>...</th>\n",
       "      <th>ci_33527559</th>\n",
       "      <th>ci_33527561</th>\n",
       "      <th>ci_33837570</th>\n",
       "      <th>region_highway</th>\n",
       "      <th>region_suburban</th>\n",
       "      <th>region_urban</th>\n",
       "      <th>weekday_Monday</th>\n",
       "      <th>weekday_Thursday</th>\n",
       "      <th>weekday_Tuesday</th>\n",
       "      <th>weekday_Wednesday</th>\n",
       "    </tr>\n",
       "  </thead>\n",
       "  <tbody>\n",
       "    <tr>\n",
       "      <th>0</th>\n",
       "      <td>0</td>\n",
       "      <td>0</td>\n",
       "      <td>0</td>\n",
       "      <td>0</td>\n",
       "      <td>0</td>\n",
       "      <td>1</td>\n",
       "      <td>0</td>\n",
       "      <td>0</td>\n",
       "      <td>0</td>\n",
       "      <td>0</td>\n",
       "      <td>...</td>\n",
       "      <td>0</td>\n",
       "      <td>0</td>\n",
       "      <td>0</td>\n",
       "      <td>0</td>\n",
       "      <td>0</td>\n",
       "      <td>0</td>\n",
       "      <td>1</td>\n",
       "      <td>0</td>\n",
       "      <td>0</td>\n",
       "      <td>0</td>\n",
       "    </tr>\n",
       "    <tr>\n",
       "      <th>1</th>\n",
       "      <td>0</td>\n",
       "      <td>0</td>\n",
       "      <td>0</td>\n",
       "      <td>0</td>\n",
       "      <td>0</td>\n",
       "      <td>0</td>\n",
       "      <td>0</td>\n",
       "      <td>0</td>\n",
       "      <td>0</td>\n",
       "      <td>0</td>\n",
       "      <td>...</td>\n",
       "      <td>0</td>\n",
       "      <td>0</td>\n",
       "      <td>0</td>\n",
       "      <td>0</td>\n",
       "      <td>0</td>\n",
       "      <td>0</td>\n",
       "      <td>1</td>\n",
       "      <td>0</td>\n",
       "      <td>0</td>\n",
       "      <td>0</td>\n",
       "    </tr>\n",
       "    <tr>\n",
       "      <th>2</th>\n",
       "      <td>0</td>\n",
       "      <td>0</td>\n",
       "      <td>0</td>\n",
       "      <td>0</td>\n",
       "      <td>0</td>\n",
       "      <td>0</td>\n",
       "      <td>0</td>\n",
       "      <td>0</td>\n",
       "      <td>0</td>\n",
       "      <td>0</td>\n",
       "      <td>...</td>\n",
       "      <td>0</td>\n",
       "      <td>0</td>\n",
       "      <td>0</td>\n",
       "      <td>0</td>\n",
       "      <td>0</td>\n",
       "      <td>0</td>\n",
       "      <td>1</td>\n",
       "      <td>0</td>\n",
       "      <td>0</td>\n",
       "      <td>0</td>\n",
       "    </tr>\n",
       "    <tr>\n",
       "      <th>3</th>\n",
       "      <td>0</td>\n",
       "      <td>0</td>\n",
       "      <td>0</td>\n",
       "      <td>0</td>\n",
       "      <td>0</td>\n",
       "      <td>0</td>\n",
       "      <td>0</td>\n",
       "      <td>0</td>\n",
       "      <td>0</td>\n",
       "      <td>0</td>\n",
       "      <td>...</td>\n",
       "      <td>0</td>\n",
       "      <td>0</td>\n",
       "      <td>0</td>\n",
       "      <td>0</td>\n",
       "      <td>0</td>\n",
       "      <td>0</td>\n",
       "      <td>1</td>\n",
       "      <td>0</td>\n",
       "      <td>0</td>\n",
       "      <td>0</td>\n",
       "    </tr>\n",
       "    <tr>\n",
       "      <th>4</th>\n",
       "      <td>0</td>\n",
       "      <td>0</td>\n",
       "      <td>0</td>\n",
       "      <td>0</td>\n",
       "      <td>0</td>\n",
       "      <td>0</td>\n",
       "      <td>0</td>\n",
       "      <td>0</td>\n",
       "      <td>0</td>\n",
       "      <td>0</td>\n",
       "      <td>...</td>\n",
       "      <td>0</td>\n",
       "      <td>0</td>\n",
       "      <td>0</td>\n",
       "      <td>0</td>\n",
       "      <td>0</td>\n",
       "      <td>0</td>\n",
       "      <td>1</td>\n",
       "      <td>0</td>\n",
       "      <td>0</td>\n",
       "      <td>0</td>\n",
       "    </tr>\n",
       "    <tr>\n",
       "      <th>...</th>\n",
       "      <td>...</td>\n",
       "      <td>...</td>\n",
       "      <td>...</td>\n",
       "      <td>...</td>\n",
       "      <td>...</td>\n",
       "      <td>...</td>\n",
       "      <td>...</td>\n",
       "      <td>...</td>\n",
       "      <td>...</td>\n",
       "      <td>...</td>\n",
       "      <td>...</td>\n",
       "      <td>...</td>\n",
       "      <td>...</td>\n",
       "      <td>...</td>\n",
       "      <td>...</td>\n",
       "      <td>...</td>\n",
       "      <td>...</td>\n",
       "      <td>...</td>\n",
       "      <td>...</td>\n",
       "      <td>...</td>\n",
       "      <td>...</td>\n",
       "    </tr>\n",
       "    <tr>\n",
       "      <th>2137</th>\n",
       "      <td>0</td>\n",
       "      <td>0</td>\n",
       "      <td>0</td>\n",
       "      <td>1</td>\n",
       "      <td>0</td>\n",
       "      <td>0</td>\n",
       "      <td>0</td>\n",
       "      <td>0</td>\n",
       "      <td>0</td>\n",
       "      <td>0</td>\n",
       "      <td>...</td>\n",
       "      <td>0</td>\n",
       "      <td>0</td>\n",
       "      <td>0</td>\n",
       "      <td>0</td>\n",
       "      <td>0</td>\n",
       "      <td>1</td>\n",
       "      <td>0</td>\n",
       "      <td>0</td>\n",
       "      <td>0</td>\n",
       "      <td>0</td>\n",
       "    </tr>\n",
       "    <tr>\n",
       "      <th>2138</th>\n",
       "      <td>0</td>\n",
       "      <td>0</td>\n",
       "      <td>0</td>\n",
       "      <td>0</td>\n",
       "      <td>0</td>\n",
       "      <td>0</td>\n",
       "      <td>0</td>\n",
       "      <td>0</td>\n",
       "      <td>0</td>\n",
       "      <td>0</td>\n",
       "      <td>...</td>\n",
       "      <td>0</td>\n",
       "      <td>0</td>\n",
       "      <td>0</td>\n",
       "      <td>0</td>\n",
       "      <td>0</td>\n",
       "      <td>1</td>\n",
       "      <td>0</td>\n",
       "      <td>0</td>\n",
       "      <td>0</td>\n",
       "      <td>0</td>\n",
       "    </tr>\n",
       "    <tr>\n",
       "      <th>2139</th>\n",
       "      <td>0</td>\n",
       "      <td>0</td>\n",
       "      <td>0</td>\n",
       "      <td>0</td>\n",
       "      <td>0</td>\n",
       "      <td>0</td>\n",
       "      <td>0</td>\n",
       "      <td>0</td>\n",
       "      <td>0</td>\n",
       "      <td>0</td>\n",
       "      <td>...</td>\n",
       "      <td>0</td>\n",
       "      <td>0</td>\n",
       "      <td>0</td>\n",
       "      <td>0</td>\n",
       "      <td>0</td>\n",
       "      <td>1</td>\n",
       "      <td>0</td>\n",
       "      <td>0</td>\n",
       "      <td>0</td>\n",
       "      <td>0</td>\n",
       "    </tr>\n",
       "    <tr>\n",
       "      <th>2140</th>\n",
       "      <td>0</td>\n",
       "      <td>0</td>\n",
       "      <td>0</td>\n",
       "      <td>0</td>\n",
       "      <td>0</td>\n",
       "      <td>0</td>\n",
       "      <td>0</td>\n",
       "      <td>0</td>\n",
       "      <td>0</td>\n",
       "      <td>0</td>\n",
       "      <td>...</td>\n",
       "      <td>0</td>\n",
       "      <td>0</td>\n",
       "      <td>0</td>\n",
       "      <td>0</td>\n",
       "      <td>0</td>\n",
       "      <td>1</td>\n",
       "      <td>0</td>\n",
       "      <td>0</td>\n",
       "      <td>0</td>\n",
       "      <td>0</td>\n",
       "    </tr>\n",
       "    <tr>\n",
       "      <th>2141</th>\n",
       "      <td>0</td>\n",
       "      <td>0</td>\n",
       "      <td>0</td>\n",
       "      <td>0</td>\n",
       "      <td>0</td>\n",
       "      <td>0</td>\n",
       "      <td>0</td>\n",
       "      <td>0</td>\n",
       "      <td>0</td>\n",
       "      <td>0</td>\n",
       "      <td>...</td>\n",
       "      <td>0</td>\n",
       "      <td>0</td>\n",
       "      <td>0</td>\n",
       "      <td>0</td>\n",
       "      <td>0</td>\n",
       "      <td>1</td>\n",
       "      <td>0</td>\n",
       "      <td>0</td>\n",
       "      <td>0</td>\n",
       "      <td>0</td>\n",
       "    </tr>\n",
       "  </tbody>\n",
       "</table>\n",
       "<p>1979 rows × 63 columns</p>\n",
       "</div>"
      ],
      "text/plain": [
       "      ci_26378497  ci_26378498  ci_26378754  ci_26378755  ci_26379013  \\\n",
       "0               0            0            0            0            0   \n",
       "1               0            0            0            0            0   \n",
       "2               0            0            0            0            0   \n",
       "3               0            0            0            0            0   \n",
       "4               0            0            0            0            0   \n",
       "...           ...          ...          ...          ...          ...   \n",
       "2137            0            0            0            1            0   \n",
       "2138            0            0            0            0            0   \n",
       "2139            0            0            0            0            0   \n",
       "2140            0            0            0            0            0   \n",
       "2141            0            0            0            0            0   \n",
       "\n",
       "      ci_26385408  ci_26385409  ci_26385410  ci_26796290  ci_26796291  ...  \\\n",
       "0               1            0            0            0            0  ...   \n",
       "1               0            0            0            0            0  ...   \n",
       "2               0            0            0            0            0  ...   \n",
       "3               0            0            0            0            0  ...   \n",
       "4               0            0            0            0            0  ...   \n",
       "...           ...          ...          ...          ...          ...  ...   \n",
       "2137            0            0            0            0            0  ...   \n",
       "2138            0            0            0            0            0  ...   \n",
       "2139            0            0            0            0            0  ...   \n",
       "2140            0            0            0            0            0  ...   \n",
       "2141            0            0            0            0            0  ...   \n",
       "\n",
       "      ci_33527559  ci_33527561  ci_33837570  region_highway  region_suburban  \\\n",
       "0               0            0            0               0                0   \n",
       "1               0            0            0               0                0   \n",
       "2               0            0            0               0                0   \n",
       "3               0            0            0               0                0   \n",
       "4               0            0            0               0                0   \n",
       "...           ...          ...          ...             ...              ...   \n",
       "2137            0            0            0               0                0   \n",
       "2138            0            0            0               0                0   \n",
       "2139            0            0            0               0                0   \n",
       "2140            0            0            0               0                0   \n",
       "2141            0            0            0               0                0   \n",
       "\n",
       "      region_urban  weekday_Monday  weekday_Thursday  weekday_Tuesday  \\\n",
       "0                0               1                 0                0   \n",
       "1                0               1                 0                0   \n",
       "2                0               1                 0                0   \n",
       "3                0               1                 0                0   \n",
       "4                0               1                 0                0   \n",
       "...            ...             ...               ...              ...   \n",
       "2137             1               0                 0                0   \n",
       "2138             1               0                 0                0   \n",
       "2139             1               0                 0                0   \n",
       "2140             1               0                 0                0   \n",
       "2141             1               0                 0                0   \n",
       "\n",
       "      weekday_Wednesday  \n",
       "0                     0  \n",
       "1                     0  \n",
       "2                     0  \n",
       "3                     0  \n",
       "4                     0  \n",
       "...                 ...  \n",
       "2137                  0  \n",
       "2138                  0  \n",
       "2139                  0  \n",
       "2140                  0  \n",
       "2141                  0  \n",
       "\n",
       "[1979 rows x 63 columns]"
      ]
     },
     "execution_count": 123,
     "metadata": {},
     "output_type": "execute_result"
    }
   ],
   "source": [
    "cat_df_d"
   ]
  },
  {
   "cell_type": "code",
   "execution_count": 124,
   "id": "central-champagne",
   "metadata": {},
   "outputs": [],
   "source": [
    "pfe_df = pd.concat([non_cat_df, cat_df_d],axis=1)\n",
    "# pfe = post feature engineering"
   ]
  },
  {
   "cell_type": "code",
   "execution_count": 125,
   "id": "personal-snapshot",
   "metadata": {},
   "outputs": [
    {
     "data": {
      "text/html": [
       "<div>\n",
       "<style scoped>\n",
       "    .dataframe tbody tr th:only-of-type {\n",
       "        vertical-align: middle;\n",
       "    }\n",
       "\n",
       "    .dataframe tbody tr th {\n",
       "        vertical-align: top;\n",
       "    }\n",
       "\n",
       "    .dataframe thead th {\n",
       "        text-align: right;\n",
       "    }\n",
       "</style>\n",
       "<table border=\"1\" class=\"dataframe\">\n",
       "  <thead>\n",
       "    <tr style=\"text-align: right;\">\n",
       "      <th></th>\n",
       "      <th>distance</th>\n",
       "      <th>lat</th>\n",
       "      <th>lon</th>\n",
       "      <th>alt</th>\n",
       "      <th>speed</th>\n",
       "      <th>acc</th>\n",
       "      <th>dir</th>\n",
       "      <th>rsrp</th>\n",
       "      <th>rsrq</th>\n",
       "      <th>sinr</th>\n",
       "      <th>...</th>\n",
       "      <th>ci_33527559</th>\n",
       "      <th>ci_33527561</th>\n",
       "      <th>ci_33837570</th>\n",
       "      <th>region_highway</th>\n",
       "      <th>region_suburban</th>\n",
       "      <th>region_urban</th>\n",
       "      <th>weekday_Monday</th>\n",
       "      <th>weekday_Thursday</th>\n",
       "      <th>weekday_Tuesday</th>\n",
       "      <th>weekday_Wednesday</th>\n",
       "    </tr>\n",
       "  </thead>\n",
       "  <tbody>\n",
       "    <tr>\n",
       "      <th>0</th>\n",
       "      <td>113.75</td>\n",
       "      <td>51.490592</td>\n",
       "      <td>7.414306</td>\n",
       "      <td>156.39</td>\n",
       "      <td>12.21</td>\n",
       "      <td>0.50</td>\n",
       "      <td>77.59</td>\n",
       "      <td>-85</td>\n",
       "      <td>-5</td>\n",
       "      <td>22</td>\n",
       "      <td>...</td>\n",
       "      <td>0</td>\n",
       "      <td>0</td>\n",
       "      <td>0</td>\n",
       "      <td>0</td>\n",
       "      <td>0</td>\n",
       "      <td>0</td>\n",
       "      <td>1</td>\n",
       "      <td>0</td>\n",
       "      <td>0</td>\n",
       "      <td>0</td>\n",
       "    </tr>\n",
       "    <tr>\n",
       "      <th>1</th>\n",
       "      <td>231.40</td>\n",
       "      <td>51.490717</td>\n",
       "      <td>7.415835</td>\n",
       "      <td>152.53</td>\n",
       "      <td>11.17</td>\n",
       "      <td>0.00</td>\n",
       "      <td>87.24</td>\n",
       "      <td>-84</td>\n",
       "      <td>-6</td>\n",
       "      <td>11</td>\n",
       "      <td>...</td>\n",
       "      <td>0</td>\n",
       "      <td>0</td>\n",
       "      <td>0</td>\n",
       "      <td>0</td>\n",
       "      <td>0</td>\n",
       "      <td>0</td>\n",
       "      <td>1</td>\n",
       "      <td>0</td>\n",
       "      <td>0</td>\n",
       "      <td>0</td>\n",
       "    </tr>\n",
       "    <tr>\n",
       "      <th>2</th>\n",
       "      <td>323.73</td>\n",
       "      <td>51.490634</td>\n",
       "      <td>7.417138</td>\n",
       "      <td>154.23</td>\n",
       "      <td>6.44</td>\n",
       "      <td>0.00</td>\n",
       "      <td>48.55</td>\n",
       "      <td>-82</td>\n",
       "      <td>-6</td>\n",
       "      <td>21</td>\n",
       "      <td>...</td>\n",
       "      <td>0</td>\n",
       "      <td>0</td>\n",
       "      <td>0</td>\n",
       "      <td>0</td>\n",
       "      <td>0</td>\n",
       "      <td>0</td>\n",
       "      <td>1</td>\n",
       "      <td>0</td>\n",
       "      <td>0</td>\n",
       "      <td>0</td>\n",
       "    </tr>\n",
       "    <tr>\n",
       "      <th>3</th>\n",
       "      <td>537.34</td>\n",
       "      <td>51.492531</td>\n",
       "      <td>7.416222</td>\n",
       "      <td>154.41</td>\n",
       "      <td>12.33</td>\n",
       "      <td>0.02</td>\n",
       "      <td>336.68</td>\n",
       "      <td>-90</td>\n",
       "      <td>-6</td>\n",
       "      <td>16</td>\n",
       "      <td>...</td>\n",
       "      <td>0</td>\n",
       "      <td>0</td>\n",
       "      <td>0</td>\n",
       "      <td>0</td>\n",
       "      <td>0</td>\n",
       "      <td>0</td>\n",
       "      <td>1</td>\n",
       "      <td>0</td>\n",
       "      <td>0</td>\n",
       "      <td>0</td>\n",
       "    </tr>\n",
       "    <tr>\n",
       "      <th>4</th>\n",
       "      <td>650.07</td>\n",
       "      <td>51.493484</td>\n",
       "      <td>7.415836</td>\n",
       "      <td>153.05</td>\n",
       "      <td>11.69</td>\n",
       "      <td>-0.18</td>\n",
       "      <td>348.09</td>\n",
       "      <td>-101</td>\n",
       "      <td>-10</td>\n",
       "      <td>13</td>\n",
       "      <td>...</td>\n",
       "      <td>0</td>\n",
       "      <td>0</td>\n",
       "      <td>0</td>\n",
       "      <td>0</td>\n",
       "      <td>0</td>\n",
       "      <td>0</td>\n",
       "      <td>1</td>\n",
       "      <td>0</td>\n",
       "      <td>0</td>\n",
       "      <td>0</td>\n",
       "    </tr>\n",
       "  </tbody>\n",
       "</table>\n",
       "<p>5 rows × 80 columns</p>\n",
       "</div>"
      ],
      "text/plain": [
       "   distance        lat       lon     alt  speed   acc     dir  rsrp  rsrq  \\\n",
       "0    113.75  51.490592  7.414306  156.39  12.21  0.50   77.59   -85    -5   \n",
       "1    231.40  51.490717  7.415835  152.53  11.17  0.00   87.24   -84    -6   \n",
       "2    323.73  51.490634  7.417138  154.23   6.44  0.00   48.55   -82    -6   \n",
       "3    537.34  51.492531  7.416222  154.41  12.33  0.02  336.68   -90    -6   \n",
       "4    650.07  51.493484  7.415836  153.05  11.69 -0.18  348.09  -101   -10   \n",
       "\n",
       "   sinr  ...  ci_33527559  ci_33527561  ci_33837570  region_highway  \\\n",
       "0    22  ...            0            0            0               0   \n",
       "1    11  ...            0            0            0               0   \n",
       "2    21  ...            0            0            0               0   \n",
       "3    16  ...            0            0            0               0   \n",
       "4    13  ...            0            0            0               0   \n",
       "\n",
       "   region_suburban  region_urban  weekday_Monday  weekday_Thursday  \\\n",
       "0                0             0               1                 0   \n",
       "1                0             0               1                 0   \n",
       "2                0             0               1                 0   \n",
       "3                0             0               1                 0   \n",
       "4                0             0               1                 0   \n",
       "\n",
       "   weekday_Tuesday  weekday_Wednesday  \n",
       "0                0                  0  \n",
       "1                0                  0  \n",
       "2                0                  0  \n",
       "3                0                  0  \n",
       "4                0                  0  \n",
       "\n",
       "[5 rows x 80 columns]"
      ]
     },
     "execution_count": 125,
     "metadata": {},
     "output_type": "execute_result"
    }
   ],
   "source": [
    "pfe_df.head()"
   ]
  },
  {
   "cell_type": "code",
   "execution_count": 126,
   "id": "physical-timber",
   "metadata": {},
   "outputs": [
    {
     "data": {
      "text/plain": [
       "txPower           -0.225743\n",
       "ta                -0.205873\n",
       "ci_28368386       -0.169817\n",
       "region_suburban   -0.120191\n",
       "ci_31263232       -0.110502\n",
       "                     ...   \n",
       "sinr               0.300554\n",
       "rsrq               0.313497\n",
       "rsrp               0.374755\n",
       "payload            0.621466\n",
       "throughput         1.000000\n",
       "Name: throughput, Length: 80, dtype: float64"
      ]
     },
     "execution_count": 126,
     "metadata": {},
     "output_type": "execute_result"
    }
   ],
   "source": [
    "pfe_df.corr()['throughput'].sort_values()"
   ]
  },
  {
   "cell_type": "code",
   "execution_count": 127,
   "id": "reasonable-switch",
   "metadata": {},
   "outputs": [],
   "source": [
    "# pfe_df.info()"
   ]
  },
  {
   "cell_type": "code",
   "execution_count": 128,
   "id": "bigger-smell",
   "metadata": {},
   "outputs": [],
   "source": [
    "# originally we were going to move the label to the end of the data frame but we decided against it\n",
    "# cols = list(df.columns)\n",
    "# cols.pop(cols.index('throughput'))\n",
    "# \n",
    "# df = df[cols+['throughput']]"
   ]
  },
  {
   "cell_type": "code",
   "execution_count": 129,
   "id": "young-click",
   "metadata": {},
   "outputs": [
    {
     "data": {
      "text/html": [
       "<div>\n",
       "<style scoped>\n",
       "    .dataframe tbody tr th:only-of-type {\n",
       "        vertical-align: middle;\n",
       "    }\n",
       "\n",
       "    .dataframe tbody tr th {\n",
       "        vertical-align: top;\n",
       "    }\n",
       "\n",
       "    .dataframe thead th {\n",
       "        text-align: right;\n",
       "    }\n",
       "</style>\n",
       "<table border=\"1\" class=\"dataframe\">\n",
       "  <thead>\n",
       "    <tr style=\"text-align: right;\">\n",
       "      <th></th>\n",
       "      <th>distance</th>\n",
       "      <th>lat</th>\n",
       "      <th>lon</th>\n",
       "      <th>alt</th>\n",
       "      <th>speed</th>\n",
       "      <th>acc</th>\n",
       "      <th>dir</th>\n",
       "      <th>rsrp</th>\n",
       "      <th>rsrq</th>\n",
       "      <th>sinr</th>\n",
       "      <th>...</th>\n",
       "      <th>ci_33527559</th>\n",
       "      <th>ci_33527561</th>\n",
       "      <th>ci_33837570</th>\n",
       "      <th>region_highway</th>\n",
       "      <th>region_suburban</th>\n",
       "      <th>region_urban</th>\n",
       "      <th>weekday_Monday</th>\n",
       "      <th>weekday_Thursday</th>\n",
       "      <th>weekday_Tuesday</th>\n",
       "      <th>weekday_Wednesday</th>\n",
       "    </tr>\n",
       "  </thead>\n",
       "  <tbody>\n",
       "    <tr>\n",
       "      <th>0</th>\n",
       "      <td>113.75</td>\n",
       "      <td>51.490592</td>\n",
       "      <td>7.414306</td>\n",
       "      <td>156.39</td>\n",
       "      <td>12.21</td>\n",
       "      <td>0.50</td>\n",
       "      <td>77.59</td>\n",
       "      <td>-85</td>\n",
       "      <td>-5</td>\n",
       "      <td>22</td>\n",
       "      <td>...</td>\n",
       "      <td>0</td>\n",
       "      <td>0</td>\n",
       "      <td>0</td>\n",
       "      <td>0</td>\n",
       "      <td>0</td>\n",
       "      <td>0</td>\n",
       "      <td>1</td>\n",
       "      <td>0</td>\n",
       "      <td>0</td>\n",
       "      <td>0</td>\n",
       "    </tr>\n",
       "    <tr>\n",
       "      <th>1</th>\n",
       "      <td>231.40</td>\n",
       "      <td>51.490717</td>\n",
       "      <td>7.415835</td>\n",
       "      <td>152.53</td>\n",
       "      <td>11.17</td>\n",
       "      <td>0.00</td>\n",
       "      <td>87.24</td>\n",
       "      <td>-84</td>\n",
       "      <td>-6</td>\n",
       "      <td>11</td>\n",
       "      <td>...</td>\n",
       "      <td>0</td>\n",
       "      <td>0</td>\n",
       "      <td>0</td>\n",
       "      <td>0</td>\n",
       "      <td>0</td>\n",
       "      <td>0</td>\n",
       "      <td>1</td>\n",
       "      <td>0</td>\n",
       "      <td>0</td>\n",
       "      <td>0</td>\n",
       "    </tr>\n",
       "    <tr>\n",
       "      <th>2</th>\n",
       "      <td>323.73</td>\n",
       "      <td>51.490634</td>\n",
       "      <td>7.417138</td>\n",
       "      <td>154.23</td>\n",
       "      <td>6.44</td>\n",
       "      <td>0.00</td>\n",
       "      <td>48.55</td>\n",
       "      <td>-82</td>\n",
       "      <td>-6</td>\n",
       "      <td>21</td>\n",
       "      <td>...</td>\n",
       "      <td>0</td>\n",
       "      <td>0</td>\n",
       "      <td>0</td>\n",
       "      <td>0</td>\n",
       "      <td>0</td>\n",
       "      <td>0</td>\n",
       "      <td>1</td>\n",
       "      <td>0</td>\n",
       "      <td>0</td>\n",
       "      <td>0</td>\n",
       "    </tr>\n",
       "    <tr>\n",
       "      <th>3</th>\n",
       "      <td>537.34</td>\n",
       "      <td>51.492531</td>\n",
       "      <td>7.416222</td>\n",
       "      <td>154.41</td>\n",
       "      <td>12.33</td>\n",
       "      <td>0.02</td>\n",
       "      <td>336.68</td>\n",
       "      <td>-90</td>\n",
       "      <td>-6</td>\n",
       "      <td>16</td>\n",
       "      <td>...</td>\n",
       "      <td>0</td>\n",
       "      <td>0</td>\n",
       "      <td>0</td>\n",
       "      <td>0</td>\n",
       "      <td>0</td>\n",
       "      <td>0</td>\n",
       "      <td>1</td>\n",
       "      <td>0</td>\n",
       "      <td>0</td>\n",
       "      <td>0</td>\n",
       "    </tr>\n",
       "    <tr>\n",
       "      <th>4</th>\n",
       "      <td>650.07</td>\n",
       "      <td>51.493484</td>\n",
       "      <td>7.415836</td>\n",
       "      <td>153.05</td>\n",
       "      <td>11.69</td>\n",
       "      <td>-0.18</td>\n",
       "      <td>348.09</td>\n",
       "      <td>-101</td>\n",
       "      <td>-10</td>\n",
       "      <td>13</td>\n",
       "      <td>...</td>\n",
       "      <td>0</td>\n",
       "      <td>0</td>\n",
       "      <td>0</td>\n",
       "      <td>0</td>\n",
       "      <td>0</td>\n",
       "      <td>0</td>\n",
       "      <td>1</td>\n",
       "      <td>0</td>\n",
       "      <td>0</td>\n",
       "      <td>0</td>\n",
       "    </tr>\n",
       "  </tbody>\n",
       "</table>\n",
       "<p>5 rows × 80 columns</p>\n",
       "</div>"
      ],
      "text/plain": [
       "   distance        lat       lon     alt  speed   acc     dir  rsrp  rsrq  \\\n",
       "0    113.75  51.490592  7.414306  156.39  12.21  0.50   77.59   -85    -5   \n",
       "1    231.40  51.490717  7.415835  152.53  11.17  0.00   87.24   -84    -6   \n",
       "2    323.73  51.490634  7.417138  154.23   6.44  0.00   48.55   -82    -6   \n",
       "3    537.34  51.492531  7.416222  154.41  12.33  0.02  336.68   -90    -6   \n",
       "4    650.07  51.493484  7.415836  153.05  11.69 -0.18  348.09  -101   -10   \n",
       "\n",
       "   sinr  ...  ci_33527559  ci_33527561  ci_33837570  region_highway  \\\n",
       "0    22  ...            0            0            0               0   \n",
       "1    11  ...            0            0            0               0   \n",
       "2    21  ...            0            0            0               0   \n",
       "3    16  ...            0            0            0               0   \n",
       "4    13  ...            0            0            0               0   \n",
       "\n",
       "   region_suburban  region_urban  weekday_Monday  weekday_Thursday  \\\n",
       "0                0             0               1                 0   \n",
       "1                0             0               1                 0   \n",
       "2                0             0               1                 0   \n",
       "3                0             0               1                 0   \n",
       "4                0             0               1                 0   \n",
       "\n",
       "   weekday_Tuesday  weekday_Wednesday  \n",
       "0                0                  0  \n",
       "1                0                  0  \n",
       "2                0                  0  \n",
       "3                0                  0  \n",
       "4                0                  0  \n",
       "\n",
       "[5 rows x 80 columns]"
      ]
     },
     "execution_count": 129,
     "metadata": {},
     "output_type": "execute_result"
    }
   ],
   "source": [
    "pfe_df.head()"
   ]
  },
  {
   "cell_type": "code",
   "execution_count": 130,
   "id": "formal-mason",
   "metadata": {},
   "outputs": [
    {
     "data": {
      "text/plain": [
       "(1979, 80)"
      ]
     },
     "execution_count": 130,
     "metadata": {},
     "output_type": "execute_result"
    }
   ],
   "source": [
    "pfe_df.shape"
   ]
  },
  {
   "cell_type": "markdown",
   "id": "expensive-copying",
   "metadata": {},
   "source": [
    "# Export Final DataFrame"
   ]
  },
  {
   "cell_type": "code",
   "execution_count": 131,
   "id": "welcome-halloween",
   "metadata": {},
   "outputs": [],
   "source": [
    "# pfe_df.to_csv('./data/d-no-ns.csv', index=False)\n",
    "# pfe = post feature engineering\n",
    "# ns = not scaled"
   ]
  },
  {
   "cell_type": "code",
   "execution_count": 132,
   "id": "capital-sheep",
   "metadata": {},
   "outputs": [
    {
     "data": {
      "text/plain": [
       "'We dropped 7.61% of the data points in this Section'"
      ]
     },
     "execution_count": 132,
     "metadata": {},
     "output_type": "execute_result"
    }
   ],
   "source": [
    "f'We dropped {(1-(len(pfe_df)/len(df_raw)))*100:.2f}% of the data points in this Section'"
   ]
  },
  {
   "cell_type": "markdown",
   "id": "abroad-april",
   "metadata": {},
   "source": [
    "---\n",
    "---\n",
    "---"
   ]
  },
  {
   "cell_type": "markdown",
   "id": "industrial-party",
   "metadata": {},
   "source": [
    "# Random Forest Regressor No Outliers"
   ]
  },
  {
   "cell_type": "markdown",
   "id": "drawn-potter",
   "metadata": {},
   "source": [
    "---"
   ]
  },
  {
   "cell_type": "code",
   "execution_count": 133,
   "id": "economic-relaxation",
   "metadata": {},
   "outputs": [],
   "source": [
    "# MODIFY! \n",
    "# use RobustScaler! \n",
    "model_name = 'rf-no'"
   ]
  },
  {
   "cell_type": "markdown",
   "id": "assisted-fever",
   "metadata": {},
   "source": [
    "# Import Libraries & Data "
   ]
  },
  {
   "cell_type": "code",
   "execution_count": 134,
   "id": "infinite-diameter",
   "metadata": {},
   "outputs": [],
   "source": [
    "import numpy as np\n",
    "import pandas as pd\n",
    "import matplotlib.pyplot as plt\n",
    "import seaborn as sns"
   ]
  },
  {
   "cell_type": "code",
   "execution_count": 135,
   "id": "novel-affiliation",
   "metadata": {},
   "outputs": [],
   "source": [
    "df = pfe_df\n",
    "X = df.drop('throughput',axis=1)\n",
    "y = df['throughput']"
   ]
  },
  {
   "cell_type": "markdown",
   "id": "colonial-degree",
   "metadata": {},
   "source": [
    "---"
   ]
  },
  {
   "cell_type": "markdown",
   "id": "interested-mustang",
   "metadata": {},
   "source": [
    "# Scale Data"
   ]
  },
  {
   "cell_type": "code",
   "execution_count": 136,
   "id": "prospective-barrier",
   "metadata": {},
   "outputs": [
    {
     "data": {
      "text/plain": [
       "RobustScaler()"
      ]
     },
     "execution_count": 136,
     "metadata": {},
     "output_type": "execute_result"
    }
   ],
   "source": [
    "# Split the data\n",
    "from sklearn.model_selection import train_test_split\n",
    "X_train, X_test, y_train, y_test = train_test_split(X, y, test_size=0.1, random_state=42)\n",
    "\n",
    "# Scale the data\n",
    "from sklearn.preprocessing import RobustScaler\n",
    "scaler = RobustScaler()\n",
    "scaler.fit(X_train)"
   ]
  },
  {
   "cell_type": "code",
   "execution_count": 137,
   "id": "stuck-projector",
   "metadata": {},
   "outputs": [],
   "source": [
    "X_train = scaler.transform(X_train)\n",
    "X_test = scaler.transform(X_test)"
   ]
  },
  {
   "cell_type": "markdown",
   "id": "conditional-ideal",
   "metadata": {},
   "source": [
    "# Determine Hyperparameters"
   ]
  },
  {
   "cell_type": "markdown",
   "id": "korean-invasion",
   "metadata": {},
   "source": [
    "## Determine Max Features"
   ]
  },
  {
   "cell_type": "code",
   "execution_count": 138,
   "id": "breeding-freeze",
   "metadata": {},
   "outputs": [
    {
     "data": {
      "text/plain": [
       "RandomForestRegressor(warm_start=True)"
      ]
     },
     "execution_count": 138,
     "metadata": {},
     "output_type": "execute_result"
    }
   ],
   "source": [
    "# MODIFY!\n",
    "from sklearn.ensemble import RandomForestRegressor\n",
    "\n",
    "model = RandomForestRegressor(warm_start=True)\n",
    "model"
   ]
  },
  {
   "cell_type": "code",
   "execution_count": 139,
   "id": "elegant-surname",
   "metadata": {},
   "outputs": [],
   "source": [
    "p_grid = {\n",
    "    'max_features':['auto', 'sqrt', 'log2']\n",
    "}"
   ]
  },
  {
   "cell_type": "code",
   "execution_count": 140,
   "id": "blocked-slide",
   "metadata": {},
   "outputs": [],
   "source": [
    "from sklearn.model_selection import GridSearchCV"
   ]
  },
  {
   "cell_type": "code",
   "execution_count": 141,
   "id": "million-brown",
   "metadata": {},
   "outputs": [],
   "source": [
    "grid_model = GridSearchCV(\n",
    "    estimator=model,\n",
    "    param_grid =p_grid, \n",
    "    scoring='neg_mean_squared_error',\n",
    "    cv=10, \n",
    "    verbose=1\n",
    ")"
   ]
  },
  {
   "cell_type": "code",
   "execution_count": 142,
   "id": "wireless-wagner",
   "metadata": {},
   "outputs": [
    {
     "name": "stdout",
     "output_type": "stream",
     "text": [
      "Fitting 10 folds for each of 3 candidates, totalling 30 fits\n"
     ]
    },
    {
     "name": "stderr",
     "output_type": "stream",
     "text": [
      "[Parallel(n_jobs=1)]: Using backend SequentialBackend with 1 concurrent workers.\n",
      "[Parallel(n_jobs=1)]: Done  30 out of  30 | elapsed:   32.2s finished\n"
     ]
    },
    {
     "data": {
      "text/plain": [
       "GridSearchCV(cv=10, estimator=RandomForestRegressor(warm_start=True),\n",
       "             param_grid={'max_features': ['auto', 'sqrt', 'log2']},\n",
       "             scoring='neg_mean_squared_error', verbose=1)"
      ]
     },
     "execution_count": 142,
     "metadata": {},
     "output_type": "execute_result"
    }
   ],
   "source": [
    "grid_model.fit(X_train,y_train)"
   ]
  },
  {
   "cell_type": "code",
   "execution_count": 143,
   "id": "coordinated-paste",
   "metadata": {},
   "outputs": [
    {
     "data": {
      "text/plain": [
       "{'max_features': 'auto'}"
      ]
     },
     "execution_count": 143,
     "metadata": {},
     "output_type": "execute_result"
    }
   ],
   "source": [
    "grid_model.best_params_"
   ]
  },
  {
   "cell_type": "code",
   "execution_count": 144,
   "id": "musical-calendar",
   "metadata": {},
   "outputs": [],
   "source": [
    "hp = pd.Series(name=f'{model_name} HP', data=grid_model.best_params_)"
   ]
  },
  {
   "cell_type": "code",
   "execution_count": 145,
   "id": "threatened-orchestra",
   "metadata": {},
   "outputs": [
    {
     "data": {
      "text/plain": [
       "max_features    auto\n",
       "Name: rf-no HP, dtype: object"
      ]
     },
     "execution_count": 145,
     "metadata": {},
     "output_type": "execute_result"
    }
   ],
   "source": [
    "hp"
   ]
  },
  {
   "cell_type": "code",
   "execution_count": 146,
   "id": "independent-milan",
   "metadata": {},
   "outputs": [],
   "source": [
    "# hp.to_csv(f'./hyperparameters/{model_name}.csv')"
   ]
  },
  {
   "cell_type": "markdown",
   "id": "recreational-lottery",
   "metadata": {},
   "source": [
    "## Determine Number of Estimators"
   ]
  },
  {
   "cell_type": "code",
   "execution_count": 147,
   "id": "bigger-module",
   "metadata": {},
   "outputs": [],
   "source": [
    "# MODIFY!\n",
    "# import time\n",
    "# \n",
    "# estimators = [5,10,25,50,100,500,1000,2000]\n",
    "# scores_list = []\n",
    "# \n",
    "# from sklearn.ensemble import RandomForestRegressor\n",
    "# \n",
    "# for e in estimators: \n",
    "#     start = time.time()\n",
    "#     print(f'Starting {e} estimators')\n",
    "#     score_model = RandomForestRegressor(\n",
    "#         n_estimators=e,\n",
    "#         max_features=grid_model.best_params_['max_features']\n",
    "#     )\n",
    "#     \n",
    "#     from sklearn.model_selection import cross_validate\n",
    "# \n",
    "#     scores = cross_validate(\n",
    "#         score_model, \n",
    "#         X_train, \n",
    "#         y_train,\n",
    "#         scoring=[\n",
    "#             'neg_mean_absolute_error',\n",
    "#             'neg_mean_squared_error',\n",
    "#             'neg_root_mean_squared_error'\n",
    "#         ],\n",
    "#         cv=10\n",
    "#     )\n",
    "#     \n",
    "#     scores = pd.DataFrame(scores)\n",
    "#     scores\n",
    "#     mean_scores = scores.mean()\n",
    "#     scores_list.append(mean_scores)\n",
    "#     print(f'Done with {e} estimators')\n",
    "#     end = time.time()\n",
    "#     print(f'Elapsed time: {end - start}')\n",
    "#     print('\\n')"
   ]
  },
  {
   "cell_type": "code",
   "execution_count": 148,
   "id": "impressive-suicide",
   "metadata": {},
   "outputs": [],
   "source": [
    "# scores_df = pd.DataFrame(scores_list)"
   ]
  },
  {
   "cell_type": "code",
   "execution_count": 149,
   "id": "renewable-retirement",
   "metadata": {},
   "outputs": [],
   "source": [
    "# scores_df"
   ]
  },
  {
   "cell_type": "code",
   "execution_count": 150,
   "id": "seventh-affairs",
   "metadata": {},
   "outputs": [],
   "source": [
    "# scores_df['Est'] = estimators"
   ]
  },
  {
   "cell_type": "code",
   "execution_count": 151,
   "id": "nearby-contractor",
   "metadata": {},
   "outputs": [],
   "source": [
    "# scores_df"
   ]
  },
  {
   "cell_type": "markdown",
   "id": "conceptual-lithuania",
   "metadata": {},
   "source": [
    "# Export Scores for Number of Estimators"
   ]
  },
  {
   "cell_type": "code",
   "execution_count": 152,
   "id": "informative-ordinance",
   "metadata": {},
   "outputs": [],
   "source": [
    "# mean_scores"
   ]
  },
  {
   "cell_type": "code",
   "execution_count": 153,
   "id": "clear-amateur",
   "metadata": {},
   "outputs": [],
   "source": [
    "# scores_df = scores_df.rename(columns={\n",
    "#     'fit_time':'Fit Time',\n",
    "#     'score_time':'Score Time',\n",
    "#     'test_neg_mean_absolute_error':'MAE',\n",
    "#     'test_neg_mean_squared_error':'MSE',\n",
    "#     'test_neg_root_mean_squared_error':'RMSE'\n",
    "# })"
   ]
  },
  {
   "cell_type": "code",
   "execution_count": 154,
   "id": "chinese-grove",
   "metadata": {},
   "outputs": [],
   "source": [
    "# scores_df"
   ]
  },
  {
   "cell_type": "code",
   "execution_count": 155,
   "id": "black-violin",
   "metadata": {},
   "outputs": [],
   "source": [
    "# scores_df[['MAE','MSE','RMSE']] = scores_df[['MAE','MSE','RMSE']].apply(lambda x : abs(x))"
   ]
  },
  {
   "cell_type": "code",
   "execution_count": 156,
   "id": "international-coffee",
   "metadata": {},
   "outputs": [],
   "source": [
    "# scores_df\n",
    "# we go for 25 estimations. Note that from 25 -> 50 estimations the error metrics worsen"
   ]
  },
  {
   "cell_type": "code",
   "execution_count": 157,
   "id": "studied-forty",
   "metadata": {},
   "outputs": [],
   "source": [
    "# scores_df.to_csv(f'./est-scores/{model_name}-est.csv')"
   ]
  },
  {
   "cell_type": "code",
   "execution_count": 158,
   "id": "practical-scroll",
   "metadata": {},
   "outputs": [],
   "source": [
    "# pct_scores_df = scores_df.pct_change()"
   ]
  },
  {
   "cell_type": "code",
   "execution_count": 159,
   "id": "private-induction",
   "metadata": {},
   "outputs": [],
   "source": [
    "# pct_scores_df"
   ]
  },
  {
   "cell_type": "code",
   "execution_count": 160,
   "id": "requested-variation",
   "metadata": {},
   "outputs": [],
   "source": [
    "# pct_scores_df.style.background_gradient() \n",
    "# we choose index 4, 100 Estimations <- \n",
    "    # Score time decrease 3->4 & Score time increase dramatically 4->5\n",
    "    # unsubstantial decrease MSE & RMSE 4->5 compared to 3->4"
   ]
  },
  {
   "cell_type": "markdown",
   "id": "quantitative-timothy",
   "metadata": {},
   "source": [
    "# Score Model"
   ]
  },
  {
   "cell_type": "code",
   "execution_count": 161,
   "id": "average-abortion",
   "metadata": {},
   "outputs": [
    {
     "data": {
      "text/plain": [
       "RandomForestRegressor()"
      ]
     },
     "execution_count": 161,
     "metadata": {},
     "output_type": "execute_result"
    }
   ],
   "source": [
    "# MODIFY!\n",
    "# adopt number of estimators from the previous section\n",
    "\n",
    "score_model = RandomForestRegressor(n_estimators=100)\n",
    "score_model"
   ]
  },
  {
   "cell_type": "code",
   "execution_count": 162,
   "id": "fourth-liability",
   "metadata": {},
   "outputs": [],
   "source": [
    "from sklearn.model_selection import cross_validate\n",
    "\n",
    "scores = cross_validate(\n",
    "    score_model, \n",
    "    X_train, \n",
    "    y_train,\n",
    "    scoring=[\n",
    "        'neg_mean_absolute_error',\n",
    "        'neg_mean_squared_error',\n",
    "        'neg_root_mean_squared_error'\n",
    "    ],\n",
    "    cv=10\n",
    ")"
   ]
  },
  {
   "cell_type": "code",
   "execution_count": 163,
   "id": "selected-briefing",
   "metadata": {},
   "outputs": [],
   "source": [
    "scores = pd.DataFrame(scores)"
   ]
  },
  {
   "cell_type": "code",
   "execution_count": 164,
   "id": "western-secretariat",
   "metadata": {},
   "outputs": [
    {
     "data": {
      "text/html": [
       "<div>\n",
       "<style scoped>\n",
       "    .dataframe tbody tr th:only-of-type {\n",
       "        vertical-align: middle;\n",
       "    }\n",
       "\n",
       "    .dataframe tbody tr th {\n",
       "        vertical-align: top;\n",
       "    }\n",
       "\n",
       "    .dataframe thead th {\n",
       "        text-align: right;\n",
       "    }\n",
       "</style>\n",
       "<table border=\"1\" class=\"dataframe\">\n",
       "  <thead>\n",
       "    <tr style=\"text-align: right;\">\n",
       "      <th></th>\n",
       "      <th>fit_time</th>\n",
       "      <th>score_time</th>\n",
       "      <th>test_neg_mean_absolute_error</th>\n",
       "      <th>test_neg_mean_squared_error</th>\n",
       "      <th>test_neg_root_mean_squared_error</th>\n",
       "    </tr>\n",
       "  </thead>\n",
       "  <tbody>\n",
       "    <tr>\n",
       "      <th>0</th>\n",
       "      <td>2.349211</td>\n",
       "      <td>0.023830</td>\n",
       "      <td>-2.567347</td>\n",
       "      <td>-12.697602</td>\n",
       "      <td>-3.563370</td>\n",
       "    </tr>\n",
       "    <tr>\n",
       "      <th>1</th>\n",
       "      <td>1.992140</td>\n",
       "      <td>0.015875</td>\n",
       "      <td>-2.687039</td>\n",
       "      <td>-14.189686</td>\n",
       "      <td>-3.766920</td>\n",
       "    </tr>\n",
       "    <tr>\n",
       "      <th>2</th>\n",
       "      <td>1.846786</td>\n",
       "      <td>0.012620</td>\n",
       "      <td>-2.788271</td>\n",
       "      <td>-14.915334</td>\n",
       "      <td>-3.862038</td>\n",
       "    </tr>\n",
       "    <tr>\n",
       "      <th>3</th>\n",
       "      <td>1.873331</td>\n",
       "      <td>0.014134</td>\n",
       "      <td>-2.654149</td>\n",
       "      <td>-14.270537</td>\n",
       "      <td>-3.777636</td>\n",
       "    </tr>\n",
       "    <tr>\n",
       "      <th>4</th>\n",
       "      <td>2.497688</td>\n",
       "      <td>0.018766</td>\n",
       "      <td>-2.563229</td>\n",
       "      <td>-17.399839</td>\n",
       "      <td>-4.171311</td>\n",
       "    </tr>\n",
       "    <tr>\n",
       "      <th>5</th>\n",
       "      <td>1.943053</td>\n",
       "      <td>0.019014</td>\n",
       "      <td>-2.845596</td>\n",
       "      <td>-14.828981</td>\n",
       "      <td>-3.850842</td>\n",
       "    </tr>\n",
       "    <tr>\n",
       "      <th>6</th>\n",
       "      <td>1.999181</td>\n",
       "      <td>0.014067</td>\n",
       "      <td>-2.681376</td>\n",
       "      <td>-15.020196</td>\n",
       "      <td>-3.875590</td>\n",
       "    </tr>\n",
       "    <tr>\n",
       "      <th>7</th>\n",
       "      <td>2.119476</td>\n",
       "      <td>0.015265</td>\n",
       "      <td>-2.817378</td>\n",
       "      <td>-18.285915</td>\n",
       "      <td>-4.276203</td>\n",
       "    </tr>\n",
       "    <tr>\n",
       "      <th>8</th>\n",
       "      <td>2.652808</td>\n",
       "      <td>0.030428</td>\n",
       "      <td>-2.628229</td>\n",
       "      <td>-11.703671</td>\n",
       "      <td>-3.421063</td>\n",
       "    </tr>\n",
       "    <tr>\n",
       "      <th>9</th>\n",
       "      <td>3.952548</td>\n",
       "      <td>0.035402</td>\n",
       "      <td>-2.706107</td>\n",
       "      <td>-14.064470</td>\n",
       "      <td>-3.750263</td>\n",
       "    </tr>\n",
       "  </tbody>\n",
       "</table>\n",
       "</div>"
      ],
      "text/plain": [
       "   fit_time  score_time  test_neg_mean_absolute_error  \\\n",
       "0  2.349211    0.023830                     -2.567347   \n",
       "1  1.992140    0.015875                     -2.687039   \n",
       "2  1.846786    0.012620                     -2.788271   \n",
       "3  1.873331    0.014134                     -2.654149   \n",
       "4  2.497688    0.018766                     -2.563229   \n",
       "5  1.943053    0.019014                     -2.845596   \n",
       "6  1.999181    0.014067                     -2.681376   \n",
       "7  2.119476    0.015265                     -2.817378   \n",
       "8  2.652808    0.030428                     -2.628229   \n",
       "9  3.952548    0.035402                     -2.706107   \n",
       "\n",
       "   test_neg_mean_squared_error  test_neg_root_mean_squared_error  \n",
       "0                   -12.697602                         -3.563370  \n",
       "1                   -14.189686                         -3.766920  \n",
       "2                   -14.915334                         -3.862038  \n",
       "3                   -14.270537                         -3.777636  \n",
       "4                   -17.399839                         -4.171311  \n",
       "5                   -14.828981                         -3.850842  \n",
       "6                   -15.020196                         -3.875590  \n",
       "7                   -18.285915                         -4.276203  \n",
       "8                   -11.703671                         -3.421063  \n",
       "9                   -14.064470                         -3.750263  "
      ]
     },
     "execution_count": 164,
     "metadata": {},
     "output_type": "execute_result"
    }
   ],
   "source": [
    "scores"
   ]
  },
  {
   "cell_type": "code",
   "execution_count": 165,
   "id": "independent-password",
   "metadata": {},
   "outputs": [],
   "source": [
    "mean_scores = scores.mean()"
   ]
  },
  {
   "cell_type": "code",
   "execution_count": 166,
   "id": "analyzed-argentina",
   "metadata": {},
   "outputs": [
    {
     "data": {
      "text/plain": [
       "fit_time                             2.322622\n",
       "score_time                           0.019940\n",
       "test_neg_mean_absolute_error        -2.693872\n",
       "test_neg_mean_squared_error        -14.737623\n",
       "test_neg_root_mean_squared_error    -3.831524\n",
       "dtype: float64"
      ]
     },
     "execution_count": 166,
     "metadata": {},
     "output_type": "execute_result"
    }
   ],
   "source": [
    "mean_scores"
   ]
  },
  {
   "cell_type": "markdown",
   "id": "printable-locking",
   "metadata": {},
   "source": [
    "# Export Model Scores"
   ]
  },
  {
   "cell_type": "code",
   "execution_count": 167,
   "id": "checked-calculation",
   "metadata": {},
   "outputs": [],
   "source": [
    "mean_scores = mean_scores.rename(f'{model_name}')"
   ]
  },
  {
   "cell_type": "code",
   "execution_count": 168,
   "id": "alert-migration",
   "metadata": {},
   "outputs": [],
   "source": [
    "mean_scores[[2,3,4]] = mean_scores[[2,3,4]].apply(abs)"
   ]
  },
  {
   "cell_type": "code",
   "execution_count": 169,
   "id": "baking-toyota",
   "metadata": {},
   "outputs": [],
   "source": [
    "# mean_scores"
   ]
  },
  {
   "cell_type": "code",
   "execution_count": 170,
   "id": "innocent-leadership",
   "metadata": {},
   "outputs": [],
   "source": [
    "mean_scores = mean_scores.rename({\n",
    "    'fit_time':'Fit Time',\n",
    "    'score_time':'Score Time',\n",
    "    'test_neg_mean_absolute_error':'MAE',\n",
    "    'test_neg_mean_squared_error':'MSE',\n",
    "    'test_neg_root_mean_squared_error':'RMSE'\n",
    "})"
   ]
  },
  {
   "cell_type": "code",
   "execution_count": 171,
   "id": "embedded-metadata",
   "metadata": {},
   "outputs": [
    {
     "data": {
      "text/plain": [
       "Fit Time       2.322622\n",
       "Score Time     0.019940\n",
       "MAE            2.693872\n",
       "MSE           14.737623\n",
       "RMSE           3.831524\n",
       "Name: rf-no, dtype: float64"
      ]
     },
     "execution_count": 171,
     "metadata": {},
     "output_type": "execute_result"
    }
   ],
   "source": [
    "mean_scores"
   ]
  },
  {
   "cell_type": "code",
   "execution_count": 172,
   "id": "occupational-operation",
   "metadata": {},
   "outputs": [],
   "source": [
    "mean_scores['STD FT'] = scores.fit_time.std()\n",
    "mean_scores['STD ST'] = scores.score_time.std()\n",
    "mean_scores['STD MAE'] = scores.test_neg_mean_absolute_error.std()\n",
    "mean_scores['STD MSE'] = scores.test_neg_mean_squared_error.std()\n",
    "mean_scores['STD RMSE'] = scores.test_neg_root_mean_squared_error.std()"
   ]
  },
  {
   "cell_type": "code",
   "execution_count": 173,
   "id": "nominated-grenada",
   "metadata": {},
   "outputs": [
    {
     "data": {
      "text/plain": [
       "Fit Time       2.322622\n",
       "Score Time     0.019940\n",
       "MAE            2.693872\n",
       "MSE           14.737623\n",
       "RMSE           3.831524\n",
       "STD FT         0.634603\n",
       "STD ST         0.007649\n",
       "STD MAE        0.098037\n",
       "STD MSE        1.947524\n",
       "STD RMSE       0.251773\n",
       "Name: rf-no, dtype: float64"
      ]
     },
     "execution_count": 173,
     "metadata": {},
     "output_type": "execute_result"
    }
   ],
   "source": [
    "mean_scores"
   ]
  },
  {
   "cell_type": "code",
   "execution_count": 174,
   "id": "virgin-generation",
   "metadata": {},
   "outputs": [],
   "source": [
    "# mean_scores.to_csv(f'./scores/{model_name}.csv')"
   ]
  },
  {
   "cell_type": "markdown",
   "id": "sudden-disney",
   "metadata": {},
   "source": [
    "# Holdout Test"
   ]
  },
  {
   "cell_type": "code",
   "execution_count": 175,
   "id": "found-merit",
   "metadata": {},
   "outputs": [
    {
     "data": {
      "text/plain": [
       "RandomForestRegressor()"
      ]
     },
     "execution_count": 175,
     "metadata": {},
     "output_type": "execute_result"
    }
   ],
   "source": [
    "score_model.fit(X_train,y_train)"
   ]
  },
  {
   "cell_type": "code",
   "execution_count": 176,
   "id": "round-formula",
   "metadata": {},
   "outputs": [],
   "source": [
    "y_holdout = score_model.predict(X_test)"
   ]
  },
  {
   "cell_type": "code",
   "execution_count": 177,
   "id": "offshore-witness",
   "metadata": {},
   "outputs": [
    {
     "data": {
      "text/plain": [
       "<AxesSubplot:ylabel='Count'>"
      ]
     },
     "execution_count": 177,
     "metadata": {},
     "output_type": "execute_result"
    },
    {
     "data": {
      "image/png": "[encoded data removed]",
      "text/plain": [
       "<Figure size 432x288 with 1 Axes>"
      ]
     },
     "metadata": {
      "needs_background": "light"
     },
     "output_type": "display_data"
    }
   ],
   "source": [
    "sns.histplot(y_holdout,bins=40,kde=True)"
   ]
  },
  {
   "cell_type": "code",
   "execution_count": 178,
   "id": "fewer-cathedral",
   "metadata": {},
   "outputs": [
    {
     "data": {
      "text/plain": [
       "<matplotlib.legend.Legend at 0x7fc3092f4520>"
      ]
     },
     "execution_count": 178,
     "metadata": {},
     "output_type": "execute_result"
    },
    {
     "data": {
      "image/png": "[encoded data removed]",
      "text/plain": [
       "<Figure size 432x288 with 1 Axes>"
      ]
     },
     "metadata": {
      "needs_background": "light"
     },
     "output_type": "display_data"
    }
   ],
   "source": [
    "fig,ax = plt.subplots()\n",
    "\n",
    "sns.kdeplot(y_test, ax=ax, shade=True, label='Observations')\n",
    "sns.kdeplot(y_holdout, ax=ax,shade=True,label='Predictions')\n",
    "\n",
    "ax.legend(loc='best')"
   ]
  },
  {
   "cell_type": "code",
   "execution_count": 179,
   "id": "following-rebound",
   "metadata": {},
   "outputs": [
    {
     "data": {
      "text/plain": [
       "<matplotlib.legend.Legend at 0x7fc3094287f0>"
      ]
     },
     "execution_count": 179,
     "metadata": {},
     "output_type": "execute_result"
    },
    {
     "data": {
      "image/png": "[encoded data removed]",
      "text/plain": [
       "<Figure size 432x288 with 1 Axes>"
      ]
     },
     "metadata": {
      "needs_background": "light"
     },
     "output_type": "display_data"
    }
   ],
   "source": [
    "fig,ax = plt.subplots()\n",
    "\n",
    "sns.ecdfplot(y_test, ax=ax, label='Observations')\n",
    "sns.ecdfplot(y_holdout, ax=ax,label='Predictions')\n",
    "plt.axvline(x=y_test.mean(),color='grey',linestyle='--')\n",
    "\n",
    "ax.legend(loc='best')"
   ]
  },
  {
   "cell_type": "code",
   "execution_count": 180,
   "id": "earlier-office",
   "metadata": {},
   "outputs": [],
   "source": [
    "from sklearn.metrics import mean_absolute_error, mean_squared_error\n",
    "\n",
    "mae = mean_absolute_error(y_test,y_holdout)\n",
    "mse = mean_squared_error(y_test,y_holdout)\n",
    "rmse = np.sqrt(mse)"
   ]
  },
  {
   "cell_type": "code",
   "execution_count": 181,
   "id": "gross-converter",
   "metadata": {},
   "outputs": [
    {
     "data": {
      "text/html": [
       "<div>\n",
       "<style scoped>\n",
       "    .dataframe tbody tr th:only-of-type {\n",
       "        vertical-align: middle;\n",
       "    }\n",
       "\n",
       "    .dataframe tbody tr th {\n",
       "        vertical-align: top;\n",
       "    }\n",
       "\n",
       "    .dataframe thead th {\n",
       "        text-align: right;\n",
       "    }\n",
       "</style>\n",
       "<table border=\"1\" class=\"dataframe\">\n",
       "  <thead>\n",
       "    <tr style=\"text-align: right;\">\n",
       "      <th></th>\n",
       "      <th>rf-no</th>\n",
       "    </tr>\n",
       "  </thead>\n",
       "  <tbody>\n",
       "    <tr>\n",
       "      <th>MAE</th>\n",
       "      <td>3.083399</td>\n",
       "    </tr>\n",
       "    <tr>\n",
       "      <th>MSE</th>\n",
       "      <td>17.535033</td>\n",
       "    </tr>\n",
       "    <tr>\n",
       "      <th>RMSE</th>\n",
       "      <td>4.187485</td>\n",
       "    </tr>\n",
       "  </tbody>\n",
       "</table>\n",
       "</div>"
      ],
      "text/plain": [
       "          rf-no\n",
       "MAE    3.083399\n",
       "MSE   17.535033\n",
       "RMSE   4.187485"
      ]
     },
     "execution_count": 181,
     "metadata": {},
     "output_type": "execute_result"
    }
   ],
   "source": [
    "err_df = pd.DataFrame(data=[mae, mse, rmse],index=['MAE','MSE','RMSE'],columns=[f'{model_name}'])\n",
    "err_df"
   ]
  },
  {
   "cell_type": "code",
   "execution_count": 182,
   "id": "bigger-absorption",
   "metadata": {},
   "outputs": [],
   "source": [
    "# err_df.to_csv(f'./holdout-test/{model_name}.csv')\n",
    "# mean_scores.to_csv(f'./opt-model-err/{model_name}-err.csv')"
   ]
  },
  {
   "cell_type": "code",
   "execution_count": 183,
   "id": "ranging-threat",
   "metadata": {},
   "outputs": [
    {
     "data": {
      "text/plain": [
       "mean     0.079407\n",
       "std      4.197345\n",
       "min    -12.057119\n",
       "25%     -2.252665\n",
       "50%      0.111840\n",
       "75%      2.307734\n",
       "max     18.968845\n",
       "Name: throughput, dtype: float64"
      ]
     },
     "execution_count": 183,
     "metadata": {},
     "output_type": "execute_result"
    }
   ],
   "source": [
    "res = y_test - y_holdout\n",
    "res.describe().drop('count')"
   ]
  },
  {
   "cell_type": "code",
   "execution_count": 184,
   "id": "crude-horizon",
   "metadata": {},
   "outputs": [
    {
     "data": {
      "text/plain": [
       "<AxesSubplot:xlabel='throughput', ylabel='Count'>"
      ]
     },
     "execution_count": 184,
     "metadata": {},
     "output_type": "execute_result"
    },
    {
     "data": {
      "image/png": "[encoded data removed]",
      "text/plain": [
       "<Figure size 432x288 with 1 Axes>"
      ]
     },
     "metadata": {
      "needs_background": "light"
     },
     "output_type": "display_data"
    }
   ],
   "source": [
    "sns.histplot(data=res, kde=True,bins=40)"
   ]
  },
  {
   "cell_type": "code",
   "execution_count": 185,
   "id": "noticed-pressing",
   "metadata": {},
   "outputs": [
    {
     "data": {
      "text/plain": [
       "<matplotlib.lines.Line2D at 0x7fc3095fd580>"
      ]
     },
     "execution_count": 185,
     "metadata": {},
     "output_type": "execute_result"
    },
    {
     "data": {
      "image/png": "[encoded data removed]",
      "text/plain": [
       "<Figure size 432x288 with 1 Axes>"
      ]
     },
     "metadata": {
      "needs_background": "light"
     },
     "output_type": "display_data"
    }
   ],
   "source": [
    "ax = sns.scatterplot(x=y_test, y=res)\n",
    "ax.set(ylabel='Residuals', xlabel='Test Label')\n",
    "plt.axhline(y=0,color='red',linestyle='--')\n",
    "\n",
    "# there should be no clear pattern / curve in the plot\n",
    "# we see a positive correlation between Test Label and Residuals -> later models should avoid this pattern"
   ]
  },
  {
   "cell_type": "code",
   "execution_count": 186,
   "id": "hybrid-confusion",
   "metadata": {},
   "outputs": [
    {
     "data": {
      "image/png": "[encoded data removed]",
      "text/plain": [
       "<Figure size 432x288 with 1 Axes>"
      ]
     },
     "metadata": {
      "needs_background": "light"
     },
     "output_type": "display_data"
    }
   ],
   "source": [
    "import scipy as sp\n",
    "\n",
    "fig, ax = plt.subplots()\n",
    "sp.stats.probplot(res,plot=ax);"
   ]
  },
  {
   "cell_type": "markdown",
   "id": "frequent-alloy",
   "metadata": {},
   "source": [
    "# Export Optimized Model"
   ]
  },
  {
   "cell_type": "code",
   "execution_count": 187,
   "id": "agreed-thong",
   "metadata": {},
   "outputs": [
    {
     "data": {
      "text/plain": [
       "RobustScaler()"
      ]
     },
     "execution_count": 187,
     "metadata": {},
     "output_type": "execute_result"
    }
   ],
   "source": [
    "from sklearn.preprocessing import RobustScaler\n",
    "scaler = RobustScaler()\n",
    "scaler.fit(X)"
   ]
  },
  {
   "cell_type": "code",
   "execution_count": 188,
   "id": "southern-religious",
   "metadata": {},
   "outputs": [
    {
     "data": {
      "text/plain": [
       "RandomForestRegressor()"
      ]
     },
     "execution_count": 188,
     "metadata": {},
     "output_type": "execute_result"
    }
   ],
   "source": [
    "# MODIFY! \n",
    "X = scaler.transform(X)\n",
    "\n",
    "op_model = score_model\n",
    "\n",
    "op_model.fit(X,y)"
   ]
  },
  {
   "cell_type": "code",
   "execution_count": 189,
   "id": "sound-popularity",
   "metadata": {},
   "outputs": [],
   "source": [
    "y_pred = op_model.predict(X)"
   ]
  },
  {
   "cell_type": "code",
   "execution_count": 190,
   "id": "raised-timothy",
   "metadata": {},
   "outputs": [
    {
     "data": {
      "text/plain": [
       "<AxesSubplot:ylabel='Count'>"
      ]
     },
     "execution_count": 190,
     "metadata": {},
     "output_type": "execute_result"
    },
    {
     "data": {
      "image/png": "[encoded data removed]",
      "text/plain": [
       "<Figure size 432x288 with 1 Axes>"
      ]
     },
     "metadata": {
      "needs_background": "light"
     },
     "output_type": "display_data"
    }
   ],
   "source": [
    "sns.histplot(y_pred,bins=40,kde=True)"
   ]
  },
  {
   "cell_type": "code",
   "execution_count": 191,
   "id": "offensive-produce",
   "metadata": {},
   "outputs": [
    {
     "data": {
      "text/plain": [
       "<matplotlib.legend.Legend at 0x7fc3090f2190>"
      ]
     },
     "execution_count": 191,
     "metadata": {},
     "output_type": "execute_result"
    },
    {
     "data": {
      "image/png": "[encoded data removed]",
      "text/plain": [
       "<Figure size 432x288 with 1 Axes>"
      ]
     },
     "metadata": {
      "needs_background": "light"
     },
     "output_type": "display_data"
    }
   ],
   "source": [
    "fig,ax = plt.subplots()\n",
    "\n",
    "sns.kdeplot(y, ax=ax, shade=True, label='Observations')\n",
    "sns.kdeplot(y_pred, ax=ax,shade=True,label='Predictions')\n",
    "\n",
    "ax.legend(loc='best')"
   ]
  },
  {
   "cell_type": "code",
   "execution_count": 192,
   "id": "ultimate-clothing",
   "metadata": {},
   "outputs": [
    {
     "data": {
      "text/plain": [
       "<matplotlib.legend.Legend at 0x7fc309c98640>"
      ]
     },
     "execution_count": 192,
     "metadata": {},
     "output_type": "execute_result"
    },
    {
     "data": {
      "image/png": "[encoded data removed]",
      "text/plain": [
       "<Figure size 432x288 with 1 Axes>"
      ]
     },
     "metadata": {
      "needs_background": "light"
     },
     "output_type": "display_data"
    }
   ],
   "source": [
    "fig,ax = plt.subplots()\n",
    "\n",
    "sns.ecdfplot(y, ax=ax, label='Observations')\n",
    "sns.ecdfplot(y_pred, ax=ax,label='Predictions')\n",
    "plt.axvline(x=y.mean(),color='grey',linestyle='--')\n",
    "\n",
    "ax.legend(loc='best')"
   ]
  },
  {
   "cell_type": "code",
   "execution_count": 193,
   "id": "bizarre-floating",
   "metadata": {},
   "outputs": [],
   "source": [
    "mae = mean_absolute_error(y,y_pred)\n",
    "mse = mean_squared_error(y,y_pred)\n",
    "rmse = np.sqrt(mse)"
   ]
  },
  {
   "cell_type": "code",
   "execution_count": 194,
   "id": "blessed-supplier",
   "metadata": {},
   "outputs": [
    {
     "data": {
      "text/html": [
       "<div>\n",
       "<style scoped>\n",
       "    .dataframe tbody tr th:only-of-type {\n",
       "        vertical-align: middle;\n",
       "    }\n",
       "\n",
       "    .dataframe tbody tr th {\n",
       "        vertical-align: top;\n",
       "    }\n",
       "\n",
       "    .dataframe thead th {\n",
       "        text-align: right;\n",
       "    }\n",
       "</style>\n",
       "<table border=\"1\" class=\"dataframe\">\n",
       "  <thead>\n",
       "    <tr style=\"text-align: right;\">\n",
       "      <th></th>\n",
       "      <th>rf-no</th>\n",
       "    </tr>\n",
       "  </thead>\n",
       "  <tbody>\n",
       "    <tr>\n",
       "      <th>MAE</th>\n",
       "      <td>1.004810</td>\n",
       "    </tr>\n",
       "    <tr>\n",
       "      <th>MSE</th>\n",
       "      <td>2.020758</td>\n",
       "    </tr>\n",
       "    <tr>\n",
       "      <th>RMSE</th>\n",
       "      <td>1.421534</td>\n",
       "    </tr>\n",
       "  </tbody>\n",
       "</table>\n",
       "</div>"
      ],
      "text/plain": [
       "         rf-no\n",
       "MAE   1.004810\n",
       "MSE   2.020758\n",
       "RMSE  1.421534"
      ]
     },
     "execution_count": 194,
     "metadata": {},
     "output_type": "execute_result"
    }
   ],
   "source": [
    "err_df = pd.DataFrame(data=[mae, mse, rmse],index=['MAE','MSE','RMSE'],columns=[f'{model_name}'])\n",
    "err_df"
   ]
  },
  {
   "cell_type": "code",
   "execution_count": 195,
   "id": "medical-international",
   "metadata": {},
   "outputs": [],
   "source": [
    "# err_df.to_csv(f'./model-err/{model_name}.csv')\n",
    "# mean_scores.to_csv(f'./opt-model-err/{model_name}-err.csv')"
   ]
  },
  {
   "cell_type": "code",
   "execution_count": 196,
   "id": "amazing-mercury",
   "metadata": {},
   "outputs": [
    {
     "data": {
      "text/plain": [
       "['./opt-models/rf-no.joblib']"
      ]
     },
     "execution_count": 196,
     "metadata": {},
     "output_type": "execute_result"
    }
   ],
   "source": [
    "from joblib import dump, load\n",
    "dump(op_model, f'./opt-models/{model_name}.joblib')"
   ]
  },
  {
   "cell_type": "code",
   "execution_count": 197,
   "id": "nominated-taiwan",
   "metadata": {},
   "outputs": [
    {
     "data": {
      "text/plain": [
       "mean   -0.018261\n",
       "std     1.421776\n",
       "min    -9.141288\n",
       "25%    -0.690665\n",
       "50%     0.029751\n",
       "75%     0.748109\n",
       "max     8.042887\n",
       "Name: throughput, dtype: float64"
      ]
     },
     "execution_count": 197,
     "metadata": {},
     "output_type": "execute_result"
    }
   ],
   "source": [
    "res = y - y_pred\n",
    "res.describe().drop('count')"
   ]
  },
  {
   "cell_type": "code",
   "execution_count": 198,
   "id": "anonymous-tulsa",
   "metadata": {},
   "outputs": [
    {
     "data": {
      "text/plain": [
       "<AxesSubplot:xlabel='throughput', ylabel='Count'>"
      ]
     },
     "execution_count": 198,
     "metadata": {},
     "output_type": "execute_result"
    },
    {
     "data": {
      "image/png": "[encoded data removed]",
      "text/plain": [
       "<Figure size 432x288 with 1 Axes>"
      ]
     },
     "metadata": {
      "needs_background": "light"
     },
     "output_type": "display_data"
    }
   ],
   "source": [
    "sns.histplot(data=res, kde=True,bins=40)"
   ]
  },
  {
   "cell_type": "code",
   "execution_count": 199,
   "id": "deluxe-return",
   "metadata": {},
   "outputs": [
    {
     "data": {
      "text/plain": [
       "<matplotlib.lines.Line2D at 0x7fc309fade80>"
      ]
     },
     "execution_count": 199,
     "metadata": {},
     "output_type": "execute_result"
    },
    {
     "data": {
      "image/png": "[encoded data removed]",
      "text/plain": [
       "<Figure size 432x288 with 1 Axes>"
      ]
     },
     "metadata": {
      "needs_background": "light"
     },
     "output_type": "display_data"
    }
   ],
   "source": [
    "ax = sns.scatterplot(x=y_test, y=res)\n",
    "ax.set(ylabel='Residuals', xlabel='Test Label')\n",
    "plt.axhline(y=0,color='red',linestyle='--')\n",
    "\n",
    "# there should be no clear pattern / curve in the plot\n",
    "# we see a positive correlation between Test Label and Residuals -> later models should avoid this pattern"
   ]
  },
  {
   "cell_type": "code",
   "execution_count": 200,
   "id": "serious-military",
   "metadata": {},
   "outputs": [
    {
     "data": {
      "image/png": "[encoded data removed]",
      "text/plain": [
       "<Figure size 432x288 with 1 Axes>"
      ]
     },
     "metadata": {
      "needs_background": "light"
     },
     "output_type": "display_data"
    }
   ],
   "source": [
    "import scipy as sp\n",
    "\n",
    "fig, ax = plt.subplots()\n",
    "sp.stats.probplot(res,plot=ax);"
   ]
  },
  {
   "cell_type": "markdown",
   "id": "worth-percentage",
   "metadata": {},
   "source": [
    "DONE!"
   ]
  },
  {
   "cell_type": "code",
   "execution_count": null,
   "id": "floating-madness",
   "metadata": {},
   "outputs": [],
   "source": []
  }
 ],
 "metadata": {
  "kernelspec": {
   "display_name": "Python 3",
   "language": "python",
   "name": "python3"
  },
  "language_info": {
   "codemirror_mode": {
    "name": "ipython",
    "version": 3
   },
   "file_extension": ".py",
   "mimetype": "text/x-python",
   "name": "python",
   "nbconvert_exporter": "python",
   "pygments_lexer": "ipython3",
   "version": "3.8.6"
  }
 },
 "nbformat": 4,
 "nbformat_minor": 5
}
