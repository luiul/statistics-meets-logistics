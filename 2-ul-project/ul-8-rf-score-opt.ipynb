{
 "cells": [
  {
   "cell_type": "code",
   "execution_count": 1,
   "id": "engaging-hearing",
   "metadata": {},
   "outputs": [],
   "source": [
    "# MODIFY! \n",
    "# use RobustScaler! \n",
    "model_name = 'RandFo'"
   ]
  },
  {
   "cell_type": "markdown",
   "id": "legal-lender",
   "metadata": {},
   "source": [
    "# Import Libraries & Data "
   ]
  },
  {
   "cell_type": "code",
   "execution_count": 2,
   "id": "attended-installation",
   "metadata": {},
   "outputs": [],
   "source": [
    "import numpy as np\n",
    "import pandas as pd\n",
    "import matplotlib.pyplot as plt\n",
    "import seaborn as sns"
   ]
  },
  {
   "cell_type": "code",
   "execution_count": 3,
   "id": "tamil-helena",
   "metadata": {},
   "outputs": [],
   "source": [
    "df = pd.read_csv('./data/ul-pfe-ns.csv')\n",
    "X = df.drop('throughput',axis=1)\n",
    "y = df['throughput']"
   ]
  },
  {
   "cell_type": "markdown",
   "id": "pressed-bread",
   "metadata": {},
   "source": [
    "---"
   ]
  },
  {
   "cell_type": "markdown",
   "id": "charitable-charity",
   "metadata": {},
   "source": [
    "# Scale Data"
   ]
  },
  {
   "cell_type": "code",
   "execution_count": 4,
   "id": "ready-veteran",
   "metadata": {},
   "outputs": [
    {
     "data": {
      "text/plain": [
       "RobustScaler()"
      ]
     },
     "execution_count": 4,
     "metadata": {},
     "output_type": "execute_result"
    }
   ],
   "source": [
    "# Split the data\n",
    "from sklearn.model_selection import train_test_split\n",
    "X_train, X_test, y_train, y_test = train_test_split(X, y, test_size=0.1, random_state=42)\n",
    "\n",
    "# Scale the data\n",
    "from sklearn.preprocessing import RobustScaler\n",
    "scaler = RobustScaler()\n",
    "scaler.fit(X_train)"
   ]
  },
  {
   "cell_type": "code",
   "execution_count": 5,
   "id": "vietnamese-customs",
   "metadata": {},
   "outputs": [],
   "source": [
    "X_train = scaler.transform(X_train)\n",
    "X_test = scaler.transform(X_test)"
   ]
  },
  {
   "cell_type": "markdown",
   "id": "requested-auckland",
   "metadata": {},
   "source": [
    "# Determine Hyperparameters"
   ]
  },
  {
   "cell_type": "markdown",
   "id": "laughing-paraguay",
   "metadata": {},
   "source": [
    "## Determine Max Features"
   ]
  },
  {
   "cell_type": "code",
   "execution_count": 6,
   "id": "automated-reason",
   "metadata": {},
   "outputs": [
    {
     "data": {
      "text/plain": [
       "RandomForestRegressor(warm_start=True)"
      ]
     },
     "execution_count": 6,
     "metadata": {},
     "output_type": "execute_result"
    }
   ],
   "source": [
    "# MODIFY!\n",
    "from sklearn.ensemble import RandomForestRegressor\n",
    "\n",
    "model = RandomForestRegressor(warm_start=True)\n",
    "model"
   ]
  },
  {
   "cell_type": "code",
   "execution_count": 7,
   "id": "endangered-clearing",
   "metadata": {},
   "outputs": [],
   "source": [
    "p_grid = {\n",
    "    'max_features':['auto', 'sqrt', 'log2']\n",
    "}"
   ]
  },
  {
   "cell_type": "code",
   "execution_count": 8,
   "id": "forbidden-beatles",
   "metadata": {},
   "outputs": [],
   "source": [
    "from sklearn.model_selection import GridSearchCV"
   ]
  },
  {
   "cell_type": "code",
   "execution_count": 9,
   "id": "south-vertical",
   "metadata": {},
   "outputs": [],
   "source": [
    "grid_model = GridSearchCV(\n",
    "    estimator=model,\n",
    "    param_grid =p_grid, \n",
    "    scoring='neg_mean_squared_error',\n",
    "    cv=10, \n",
    "    verbose=1\n",
    ")"
   ]
  },
  {
   "cell_type": "code",
   "execution_count": 10,
   "id": "chronic-zoning",
   "metadata": {},
   "outputs": [
    {
     "name": "stdout",
     "output_type": "stream",
     "text": [
      "Fitting 10 folds for each of 3 candidates, totalling 30 fits\n"
     ]
    },
    {
     "name": "stderr",
     "output_type": "stream",
     "text": [
      "[Parallel(n_jobs=1)]: Using backend SequentialBackend with 1 concurrent workers.\n",
      "[Parallel(n_jobs=1)]: Done  30 out of  30 | elapsed:   31.2s finished\n"
     ]
    },
    {
     "data": {
      "text/plain": [
       "GridSearchCV(cv=10, estimator=RandomForestRegressor(warm_start=True),\n",
       "             param_grid={'max_features': ['auto', 'sqrt', 'log2']},\n",
       "             scoring='neg_mean_squared_error', verbose=1)"
      ]
     },
     "execution_count": 10,
     "metadata": {},
     "output_type": "execute_result"
    }
   ],
   "source": [
    "grid_model.fit(X_train,y_train)"
   ]
  },
  {
   "cell_type": "code",
   "execution_count": 11,
   "id": "colonial-title",
   "metadata": {},
   "outputs": [
    {
     "data": {
      "text/plain": [
       "{'max_features': 'auto'}"
      ]
     },
     "execution_count": 11,
     "metadata": {},
     "output_type": "execute_result"
    }
   ],
   "source": [
    "grid_model.best_params_"
   ]
  },
  {
   "cell_type": "code",
   "execution_count": 12,
   "id": "familiar-daniel",
   "metadata": {},
   "outputs": [],
   "source": [
    "hp = pd.Series(name=f'{model_name} HP', data=grid_model.best_params_)"
   ]
  },
  {
   "cell_type": "code",
   "execution_count": 13,
   "id": "binding-advocate",
   "metadata": {},
   "outputs": [
    {
     "data": {
      "text/plain": [
       "max_features    auto\n",
       "Name: RandFo HP, dtype: object"
      ]
     },
     "execution_count": 13,
     "metadata": {},
     "output_type": "execute_result"
    }
   ],
   "source": [
    "hp"
   ]
  },
  {
   "cell_type": "code",
   "execution_count": 14,
   "id": "steady-hearing",
   "metadata": {},
   "outputs": [],
   "source": [
    "hp.to_csv(f'./hyperparameters/{model_name}-hp.csv')"
   ]
  },
  {
   "cell_type": "markdown",
   "id": "strong-telephone",
   "metadata": {},
   "source": [
    "## Determine Number of Estimators"
   ]
  },
  {
   "cell_type": "code",
   "execution_count": 16,
   "id": "sunset-bradford",
   "metadata": {},
   "outputs": [
    {
     "name": "stdout",
     "output_type": "stream",
     "text": [
      "Starting 5 estimators\n",
      "Done with 5 estimators\n",
      "Elapsed time: 1.3214120864868164\n",
      "\n",
      "\n",
      "Starting 10 estimators\n",
      "Done with 10 estimators\n",
      "Elapsed time: 2.3994109630584717\n",
      "\n",
      "\n",
      "Starting 25 estimators\n",
      "Done with 25 estimators\n",
      "Elapsed time: 11.256076097488403\n",
      "\n",
      "\n",
      "Starting 50 estimators\n",
      "Done with 50 estimators\n",
      "Elapsed time: 13.466692924499512\n",
      "\n",
      "\n",
      "Starting 100 estimators\n",
      "Done with 100 estimators\n",
      "Elapsed time: 26.217790842056274\n",
      "\n",
      "\n",
      "Starting 500 estimators\n",
      "Done with 500 estimators\n",
      "Elapsed time: 118.80493211746216\n",
      "\n",
      "\n",
      "Starting 1000 estimators\n",
      "Done with 1000 estimators\n",
      "Elapsed time: 229.708575963974\n",
      "\n",
      "\n",
      "Starting 2000 estimators\n",
      "Done with 2000 estimators\n",
      "Elapsed time: 578.0545830726624\n",
      "\n",
      "\n"
     ]
    }
   ],
   "source": [
    "# MODIFY!\n",
    "import time\n",
    "\n",
    "estimators = [5,10,25,50,100,500,1000,2000]\n",
    "scores_list = []\n",
    "\n",
    "from sklearn.ensemble import RandomForestRegressor\n",
    "\n",
    "for e in estimators: \n",
    "    start = time.time()\n",
    "    print(f'Starting {e} estimators')\n",
    "    score_model = RandomForestRegressor(\n",
    "        n_estimators=e,\n",
    "        max_features=grid_model.best_params_['max_features']\n",
    "    )\n",
    "    \n",
    "    from sklearn.model_selection import cross_validate\n",
    "\n",
    "    scores = cross_validate(\n",
    "        score_model, \n",
    "        X_train, \n",
    "        y_train,\n",
    "        scoring=[\n",
    "            'neg_mean_absolute_error',\n",
    "            'neg_mean_squared_error',\n",
    "            'neg_root_mean_squared_error'\n",
    "        ],\n",
    "        cv=10\n",
    "    )\n",
    "    \n",
    "    scores = pd.DataFrame(scores)\n",
    "    scores\n",
    "    mean_scores = scores.mean()\n",
    "    scores_list.append(mean_scores)\n",
    "    print(f'Done with {e} estimators')\n",
    "    end = time.time()\n",
    "    print(f'Elapsed time: {end - start}')\n",
    "    print('\\n')"
   ]
  },
  {
   "cell_type": "code",
   "execution_count": 17,
   "id": "cross-coach",
   "metadata": {},
   "outputs": [],
   "source": [
    "scores_df = pd.DataFrame(scores_list)"
   ]
  },
  {
   "cell_type": "code",
   "execution_count": 18,
   "id": "developmental-missile",
   "metadata": {},
   "outputs": [
    {
     "data": {
      "text/html": [
       "<div>\n",
       "<style scoped>\n",
       "    .dataframe tbody tr th:only-of-type {\n",
       "        vertical-align: middle;\n",
       "    }\n",
       "\n",
       "    .dataframe tbody tr th {\n",
       "        vertical-align: top;\n",
       "    }\n",
       "\n",
       "    .dataframe thead th {\n",
       "        text-align: right;\n",
       "    }\n",
       "</style>\n",
       "<table border=\"1\" class=\"dataframe\">\n",
       "  <thead>\n",
       "    <tr style=\"text-align: right;\">\n",
       "      <th></th>\n",
       "      <th>fit_time</th>\n",
       "      <th>score_time</th>\n",
       "      <th>test_neg_mean_absolute_error</th>\n",
       "      <th>test_neg_mean_squared_error</th>\n",
       "      <th>test_neg_root_mean_squared_error</th>\n",
       "    </tr>\n",
       "  </thead>\n",
       "  <tbody>\n",
       "    <tr>\n",
       "      <th>0</th>\n",
       "      <td>0.128193</td>\n",
       "      <td>0.002739</td>\n",
       "      <td>-2.970314</td>\n",
       "      <td>-17.543108</td>\n",
       "      <td>-4.178371</td>\n",
       "    </tr>\n",
       "    <tr>\n",
       "      <th>1</th>\n",
       "      <td>0.235732</td>\n",
       "      <td>0.003332</td>\n",
       "      <td>-2.931822</td>\n",
       "      <td>-16.770604</td>\n",
       "      <td>-4.085381</td>\n",
       "    </tr>\n",
       "    <tr>\n",
       "      <th>2</th>\n",
       "      <td>1.107047</td>\n",
       "      <td>0.015868</td>\n",
       "      <td>-2.801773</td>\n",
       "      <td>-15.678732</td>\n",
       "      <td>-3.948150</td>\n",
       "    </tr>\n",
       "    <tr>\n",
       "      <th>3</th>\n",
       "      <td>1.334818</td>\n",
       "      <td>0.009513</td>\n",
       "      <td>-2.766563</td>\n",
       "      <td>-15.240759</td>\n",
       "      <td>-3.887810</td>\n",
       "    </tr>\n",
       "    <tr>\n",
       "      <th>4</th>\n",
       "      <td>2.601423</td>\n",
       "      <td>0.017731</td>\n",
       "      <td>-2.738599</td>\n",
       "      <td>-14.842419</td>\n",
       "      <td>-3.839081</td>\n",
       "    </tr>\n",
       "    <tr>\n",
       "      <th>5</th>\n",
       "      <td>11.782848</td>\n",
       "      <td>0.084266</td>\n",
       "      <td>-2.739025</td>\n",
       "      <td>-14.922818</td>\n",
       "      <td>-3.849084</td>\n",
       "    </tr>\n",
       "    <tr>\n",
       "      <th>6</th>\n",
       "      <td>22.726268</td>\n",
       "      <td>0.221068</td>\n",
       "      <td>-2.735530</td>\n",
       "      <td>-14.871393</td>\n",
       "      <td>-3.842873</td>\n",
       "    </tr>\n",
       "    <tr>\n",
       "      <th>7</th>\n",
       "      <td>56.759501</td>\n",
       "      <td>0.975931</td>\n",
       "      <td>-2.733193</td>\n",
       "      <td>-14.811595</td>\n",
       "      <td>-3.834100</td>\n",
       "    </tr>\n",
       "  </tbody>\n",
       "</table>\n",
       "</div>"
      ],
      "text/plain": [
       "    fit_time  score_time  test_neg_mean_absolute_error  \\\n",
       "0   0.128193    0.002739                     -2.970314   \n",
       "1   0.235732    0.003332                     -2.931822   \n",
       "2   1.107047    0.015868                     -2.801773   \n",
       "3   1.334818    0.009513                     -2.766563   \n",
       "4   2.601423    0.017731                     -2.738599   \n",
       "5  11.782848    0.084266                     -2.739025   \n",
       "6  22.726268    0.221068                     -2.735530   \n",
       "7  56.759501    0.975931                     -2.733193   \n",
       "\n",
       "   test_neg_mean_squared_error  test_neg_root_mean_squared_error  \n",
       "0                   -17.543108                         -4.178371  \n",
       "1                   -16.770604                         -4.085381  \n",
       "2                   -15.678732                         -3.948150  \n",
       "3                   -15.240759                         -3.887810  \n",
       "4                   -14.842419                         -3.839081  \n",
       "5                   -14.922818                         -3.849084  \n",
       "6                   -14.871393                         -3.842873  \n",
       "7                   -14.811595                         -3.834100  "
      ]
     },
     "execution_count": 18,
     "metadata": {},
     "output_type": "execute_result"
    }
   ],
   "source": [
    "scores_df"
   ]
  },
  {
   "cell_type": "code",
   "execution_count": 19,
   "id": "acute-serbia",
   "metadata": {},
   "outputs": [],
   "source": [
    "scores_df['Est'] = estimators"
   ]
  },
  {
   "cell_type": "code",
   "execution_count": 20,
   "id": "fossil-journalism",
   "metadata": {},
   "outputs": [
    {
     "data": {
      "text/html": [
       "<div>\n",
       "<style scoped>\n",
       "    .dataframe tbody tr th:only-of-type {\n",
       "        vertical-align: middle;\n",
       "    }\n",
       "\n",
       "    .dataframe tbody tr th {\n",
       "        vertical-align: top;\n",
       "    }\n",
       "\n",
       "    .dataframe thead th {\n",
       "        text-align: right;\n",
       "    }\n",
       "</style>\n",
       "<table border=\"1\" class=\"dataframe\">\n",
       "  <thead>\n",
       "    <tr style=\"text-align: right;\">\n",
       "      <th></th>\n",
       "      <th>fit_time</th>\n",
       "      <th>score_time</th>\n",
       "      <th>test_neg_mean_absolute_error</th>\n",
       "      <th>test_neg_mean_squared_error</th>\n",
       "      <th>test_neg_root_mean_squared_error</th>\n",
       "      <th>Est</th>\n",
       "    </tr>\n",
       "  </thead>\n",
       "  <tbody>\n",
       "    <tr>\n",
       "      <th>0</th>\n",
       "      <td>0.128193</td>\n",
       "      <td>0.002739</td>\n",
       "      <td>-2.970314</td>\n",
       "      <td>-17.543108</td>\n",
       "      <td>-4.178371</td>\n",
       "      <td>5</td>\n",
       "    </tr>\n",
       "    <tr>\n",
       "      <th>1</th>\n",
       "      <td>0.235732</td>\n",
       "      <td>0.003332</td>\n",
       "      <td>-2.931822</td>\n",
       "      <td>-16.770604</td>\n",
       "      <td>-4.085381</td>\n",
       "      <td>10</td>\n",
       "    </tr>\n",
       "    <tr>\n",
       "      <th>2</th>\n",
       "      <td>1.107047</td>\n",
       "      <td>0.015868</td>\n",
       "      <td>-2.801773</td>\n",
       "      <td>-15.678732</td>\n",
       "      <td>-3.948150</td>\n",
       "      <td>25</td>\n",
       "    </tr>\n",
       "    <tr>\n",
       "      <th>3</th>\n",
       "      <td>1.334818</td>\n",
       "      <td>0.009513</td>\n",
       "      <td>-2.766563</td>\n",
       "      <td>-15.240759</td>\n",
       "      <td>-3.887810</td>\n",
       "      <td>50</td>\n",
       "    </tr>\n",
       "    <tr>\n",
       "      <th>4</th>\n",
       "      <td>2.601423</td>\n",
       "      <td>0.017731</td>\n",
       "      <td>-2.738599</td>\n",
       "      <td>-14.842419</td>\n",
       "      <td>-3.839081</td>\n",
       "      <td>100</td>\n",
       "    </tr>\n",
       "    <tr>\n",
       "      <th>5</th>\n",
       "      <td>11.782848</td>\n",
       "      <td>0.084266</td>\n",
       "      <td>-2.739025</td>\n",
       "      <td>-14.922818</td>\n",
       "      <td>-3.849084</td>\n",
       "      <td>500</td>\n",
       "    </tr>\n",
       "    <tr>\n",
       "      <th>6</th>\n",
       "      <td>22.726268</td>\n",
       "      <td>0.221068</td>\n",
       "      <td>-2.735530</td>\n",
       "      <td>-14.871393</td>\n",
       "      <td>-3.842873</td>\n",
       "      <td>1000</td>\n",
       "    </tr>\n",
       "    <tr>\n",
       "      <th>7</th>\n",
       "      <td>56.759501</td>\n",
       "      <td>0.975931</td>\n",
       "      <td>-2.733193</td>\n",
       "      <td>-14.811595</td>\n",
       "      <td>-3.834100</td>\n",
       "      <td>2000</td>\n",
       "    </tr>\n",
       "  </tbody>\n",
       "</table>\n",
       "</div>"
      ],
      "text/plain": [
       "    fit_time  score_time  test_neg_mean_absolute_error  \\\n",
       "0   0.128193    0.002739                     -2.970314   \n",
       "1   0.235732    0.003332                     -2.931822   \n",
       "2   1.107047    0.015868                     -2.801773   \n",
       "3   1.334818    0.009513                     -2.766563   \n",
       "4   2.601423    0.017731                     -2.738599   \n",
       "5  11.782848    0.084266                     -2.739025   \n",
       "6  22.726268    0.221068                     -2.735530   \n",
       "7  56.759501    0.975931                     -2.733193   \n",
       "\n",
       "   test_neg_mean_squared_error  test_neg_root_mean_squared_error   Est  \n",
       "0                   -17.543108                         -4.178371     5  \n",
       "1                   -16.770604                         -4.085381    10  \n",
       "2                   -15.678732                         -3.948150    25  \n",
       "3                   -15.240759                         -3.887810    50  \n",
       "4                   -14.842419                         -3.839081   100  \n",
       "5                   -14.922818                         -3.849084   500  \n",
       "6                   -14.871393                         -3.842873  1000  \n",
       "7                   -14.811595                         -3.834100  2000  "
      ]
     },
     "execution_count": 20,
     "metadata": {},
     "output_type": "execute_result"
    }
   ],
   "source": [
    "scores_df"
   ]
  },
  {
   "cell_type": "markdown",
   "id": "transsexual-identity",
   "metadata": {},
   "source": [
    "# Export Scores for Number of Estimators"
   ]
  },
  {
   "cell_type": "code",
   "execution_count": 21,
   "id": "green-administration",
   "metadata": {},
   "outputs": [],
   "source": [
    "# mean_scores"
   ]
  },
  {
   "cell_type": "code",
   "execution_count": 22,
   "id": "buried-entertainment",
   "metadata": {},
   "outputs": [],
   "source": [
    "scores_df = scores_df.rename(columns={\n",
    "    'fit_time':'Fit Time',\n",
    "    'score_time':'Score Time',\n",
    "    'test_neg_mean_absolute_error':'MAE',\n",
    "    'test_neg_mean_squared_error':'MSE',\n",
    "    'test_neg_root_mean_squared_error':'RMSE'\n",
    "})"
   ]
  },
  {
   "cell_type": "code",
   "execution_count": 23,
   "id": "loving-merchant",
   "metadata": {},
   "outputs": [
    {
     "data": {
      "text/html": [
       "<div>\n",
       "<style scoped>\n",
       "    .dataframe tbody tr th:only-of-type {\n",
       "        vertical-align: middle;\n",
       "    }\n",
       "\n",
       "    .dataframe tbody tr th {\n",
       "        vertical-align: top;\n",
       "    }\n",
       "\n",
       "    .dataframe thead th {\n",
       "        text-align: right;\n",
       "    }\n",
       "</style>\n",
       "<table border=\"1\" class=\"dataframe\">\n",
       "  <thead>\n",
       "    <tr style=\"text-align: right;\">\n",
       "      <th></th>\n",
       "      <th>Fit Time</th>\n",
       "      <th>Score Time</th>\n",
       "      <th>MAE</th>\n",
       "      <th>MSE</th>\n",
       "      <th>RMSE</th>\n",
       "      <th>Est</th>\n",
       "    </tr>\n",
       "  </thead>\n",
       "  <tbody>\n",
       "    <tr>\n",
       "      <th>0</th>\n",
       "      <td>0.128193</td>\n",
       "      <td>0.002739</td>\n",
       "      <td>-2.970314</td>\n",
       "      <td>-17.543108</td>\n",
       "      <td>-4.178371</td>\n",
       "      <td>5</td>\n",
       "    </tr>\n",
       "    <tr>\n",
       "      <th>1</th>\n",
       "      <td>0.235732</td>\n",
       "      <td>0.003332</td>\n",
       "      <td>-2.931822</td>\n",
       "      <td>-16.770604</td>\n",
       "      <td>-4.085381</td>\n",
       "      <td>10</td>\n",
       "    </tr>\n",
       "    <tr>\n",
       "      <th>2</th>\n",
       "      <td>1.107047</td>\n",
       "      <td>0.015868</td>\n",
       "      <td>-2.801773</td>\n",
       "      <td>-15.678732</td>\n",
       "      <td>-3.948150</td>\n",
       "      <td>25</td>\n",
       "    </tr>\n",
       "    <tr>\n",
       "      <th>3</th>\n",
       "      <td>1.334818</td>\n",
       "      <td>0.009513</td>\n",
       "      <td>-2.766563</td>\n",
       "      <td>-15.240759</td>\n",
       "      <td>-3.887810</td>\n",
       "      <td>50</td>\n",
       "    </tr>\n",
       "    <tr>\n",
       "      <th>4</th>\n",
       "      <td>2.601423</td>\n",
       "      <td>0.017731</td>\n",
       "      <td>-2.738599</td>\n",
       "      <td>-14.842419</td>\n",
       "      <td>-3.839081</td>\n",
       "      <td>100</td>\n",
       "    </tr>\n",
       "    <tr>\n",
       "      <th>5</th>\n",
       "      <td>11.782848</td>\n",
       "      <td>0.084266</td>\n",
       "      <td>-2.739025</td>\n",
       "      <td>-14.922818</td>\n",
       "      <td>-3.849084</td>\n",
       "      <td>500</td>\n",
       "    </tr>\n",
       "    <tr>\n",
       "      <th>6</th>\n",
       "      <td>22.726268</td>\n",
       "      <td>0.221068</td>\n",
       "      <td>-2.735530</td>\n",
       "      <td>-14.871393</td>\n",
       "      <td>-3.842873</td>\n",
       "      <td>1000</td>\n",
       "    </tr>\n",
       "    <tr>\n",
       "      <th>7</th>\n",
       "      <td>56.759501</td>\n",
       "      <td>0.975931</td>\n",
       "      <td>-2.733193</td>\n",
       "      <td>-14.811595</td>\n",
       "      <td>-3.834100</td>\n",
       "      <td>2000</td>\n",
       "    </tr>\n",
       "  </tbody>\n",
       "</table>\n",
       "</div>"
      ],
      "text/plain": [
       "    Fit Time  Score Time       MAE        MSE      RMSE   Est\n",
       "0   0.128193    0.002739 -2.970314 -17.543108 -4.178371     5\n",
       "1   0.235732    0.003332 -2.931822 -16.770604 -4.085381    10\n",
       "2   1.107047    0.015868 -2.801773 -15.678732 -3.948150    25\n",
       "3   1.334818    0.009513 -2.766563 -15.240759 -3.887810    50\n",
       "4   2.601423    0.017731 -2.738599 -14.842419 -3.839081   100\n",
       "5  11.782848    0.084266 -2.739025 -14.922818 -3.849084   500\n",
       "6  22.726268    0.221068 -2.735530 -14.871393 -3.842873  1000\n",
       "7  56.759501    0.975931 -2.733193 -14.811595 -3.834100  2000"
      ]
     },
     "execution_count": 23,
     "metadata": {},
     "output_type": "execute_result"
    }
   ],
   "source": [
    "scores_df"
   ]
  },
  {
   "cell_type": "code",
   "execution_count": 24,
   "id": "moved-candidate",
   "metadata": {},
   "outputs": [],
   "source": [
    "scores_df[['MAE','MSE','RMSE']] = scores_df[['MAE','MSE','RMSE']].apply(lambda x : abs(x))"
   ]
  },
  {
   "cell_type": "code",
   "execution_count": 25,
   "id": "cloudy-boundary",
   "metadata": {},
   "outputs": [
    {
     "data": {
      "text/html": [
       "<div>\n",
       "<style scoped>\n",
       "    .dataframe tbody tr th:only-of-type {\n",
       "        vertical-align: middle;\n",
       "    }\n",
       "\n",
       "    .dataframe tbody tr th {\n",
       "        vertical-align: top;\n",
       "    }\n",
       "\n",
       "    .dataframe thead th {\n",
       "        text-align: right;\n",
       "    }\n",
       "</style>\n",
       "<table border=\"1\" class=\"dataframe\">\n",
       "  <thead>\n",
       "    <tr style=\"text-align: right;\">\n",
       "      <th></th>\n",
       "      <th>Fit Time</th>\n",
       "      <th>Score Time</th>\n",
       "      <th>MAE</th>\n",
       "      <th>MSE</th>\n",
       "      <th>RMSE</th>\n",
       "      <th>Est</th>\n",
       "    </tr>\n",
       "  </thead>\n",
       "  <tbody>\n",
       "    <tr>\n",
       "      <th>0</th>\n",
       "      <td>0.128193</td>\n",
       "      <td>0.002739</td>\n",
       "      <td>2.970314</td>\n",
       "      <td>17.543108</td>\n",
       "      <td>4.178371</td>\n",
       "      <td>5</td>\n",
       "    </tr>\n",
       "    <tr>\n",
       "      <th>1</th>\n",
       "      <td>0.235732</td>\n",
       "      <td>0.003332</td>\n",
       "      <td>2.931822</td>\n",
       "      <td>16.770604</td>\n",
       "      <td>4.085381</td>\n",
       "      <td>10</td>\n",
       "    </tr>\n",
       "    <tr>\n",
       "      <th>2</th>\n",
       "      <td>1.107047</td>\n",
       "      <td>0.015868</td>\n",
       "      <td>2.801773</td>\n",
       "      <td>15.678732</td>\n",
       "      <td>3.948150</td>\n",
       "      <td>25</td>\n",
       "    </tr>\n",
       "    <tr>\n",
       "      <th>3</th>\n",
       "      <td>1.334818</td>\n",
       "      <td>0.009513</td>\n",
       "      <td>2.766563</td>\n",
       "      <td>15.240759</td>\n",
       "      <td>3.887810</td>\n",
       "      <td>50</td>\n",
       "    </tr>\n",
       "    <tr>\n",
       "      <th>4</th>\n",
       "      <td>2.601423</td>\n",
       "      <td>0.017731</td>\n",
       "      <td>2.738599</td>\n",
       "      <td>14.842419</td>\n",
       "      <td>3.839081</td>\n",
       "      <td>100</td>\n",
       "    </tr>\n",
       "    <tr>\n",
       "      <th>5</th>\n",
       "      <td>11.782848</td>\n",
       "      <td>0.084266</td>\n",
       "      <td>2.739025</td>\n",
       "      <td>14.922818</td>\n",
       "      <td>3.849084</td>\n",
       "      <td>500</td>\n",
       "    </tr>\n",
       "    <tr>\n",
       "      <th>6</th>\n",
       "      <td>22.726268</td>\n",
       "      <td>0.221068</td>\n",
       "      <td>2.735530</td>\n",
       "      <td>14.871393</td>\n",
       "      <td>3.842873</td>\n",
       "      <td>1000</td>\n",
       "    </tr>\n",
       "    <tr>\n",
       "      <th>7</th>\n",
       "      <td>56.759501</td>\n",
       "      <td>0.975931</td>\n",
       "      <td>2.733193</td>\n",
       "      <td>14.811595</td>\n",
       "      <td>3.834100</td>\n",
       "      <td>2000</td>\n",
       "    </tr>\n",
       "  </tbody>\n",
       "</table>\n",
       "</div>"
      ],
      "text/plain": [
       "    Fit Time  Score Time       MAE        MSE      RMSE   Est\n",
       "0   0.128193    0.002739  2.970314  17.543108  4.178371     5\n",
       "1   0.235732    0.003332  2.931822  16.770604  4.085381    10\n",
       "2   1.107047    0.015868  2.801773  15.678732  3.948150    25\n",
       "3   1.334818    0.009513  2.766563  15.240759  3.887810    50\n",
       "4   2.601423    0.017731  2.738599  14.842419  3.839081   100\n",
       "5  11.782848    0.084266  2.739025  14.922818  3.849084   500\n",
       "6  22.726268    0.221068  2.735530  14.871393  3.842873  1000\n",
       "7  56.759501    0.975931  2.733193  14.811595  3.834100  2000"
      ]
     },
     "execution_count": 25,
     "metadata": {},
     "output_type": "execute_result"
    }
   ],
   "source": [
    "scores_df\n",
    "# we go for 25 estimations. Note that from 25 -> 50 estimations the error metrics worsen"
   ]
  },
  {
   "cell_type": "code",
   "execution_count": 26,
   "id": "pregnant-sharp",
   "metadata": {},
   "outputs": [],
   "source": [
    "scores_df.to_csv(f'./scores/{model_name}-score.csv')"
   ]
  },
  {
   "cell_type": "code",
   "execution_count": 27,
   "id": "defensive-integration",
   "metadata": {},
   "outputs": [],
   "source": [
    "pct_scores_df = scores_df.pct_change()"
   ]
  },
  {
   "cell_type": "code",
   "execution_count": 28,
   "id": "figured-stuart",
   "metadata": {},
   "outputs": [
    {
     "data": {
      "text/html": [
       "<div>\n",
       "<style scoped>\n",
       "    .dataframe tbody tr th:only-of-type {\n",
       "        vertical-align: middle;\n",
       "    }\n",
       "\n",
       "    .dataframe tbody tr th {\n",
       "        vertical-align: top;\n",
       "    }\n",
       "\n",
       "    .dataframe thead th {\n",
       "        text-align: right;\n",
       "    }\n",
       "</style>\n",
       "<table border=\"1\" class=\"dataframe\">\n",
       "  <thead>\n",
       "    <tr style=\"text-align: right;\">\n",
       "      <th></th>\n",
       "      <th>Fit Time</th>\n",
       "      <th>Score Time</th>\n",
       "      <th>MAE</th>\n",
       "      <th>MSE</th>\n",
       "      <th>RMSE</th>\n",
       "      <th>Est</th>\n",
       "    </tr>\n",
       "  </thead>\n",
       "  <tbody>\n",
       "    <tr>\n",
       "      <th>0</th>\n",
       "      <td>NaN</td>\n",
       "      <td>NaN</td>\n",
       "      <td>NaN</td>\n",
       "      <td>NaN</td>\n",
       "      <td>NaN</td>\n",
       "      <td>NaN</td>\n",
       "    </tr>\n",
       "    <tr>\n",
       "      <th>1</th>\n",
       "      <td>0.838885</td>\n",
       "      <td>0.216509</td>\n",
       "      <td>-0.012959</td>\n",
       "      <td>-0.044035</td>\n",
       "      <td>-0.022255</td>\n",
       "      <td>1.0</td>\n",
       "    </tr>\n",
       "    <tr>\n",
       "      <th>2</th>\n",
       "      <td>3.696207</td>\n",
       "      <td>3.761626</td>\n",
       "      <td>-0.044358</td>\n",
       "      <td>-0.065106</td>\n",
       "      <td>-0.033591</td>\n",
       "      <td>1.5</td>\n",
       "    </tr>\n",
       "    <tr>\n",
       "      <th>3</th>\n",
       "      <td>0.205746</td>\n",
       "      <td>-0.400480</td>\n",
       "      <td>-0.012567</td>\n",
       "      <td>-0.027934</td>\n",
       "      <td>-0.015283</td>\n",
       "      <td>1.0</td>\n",
       "    </tr>\n",
       "    <tr>\n",
       "      <th>4</th>\n",
       "      <td>0.948897</td>\n",
       "      <td>0.863837</td>\n",
       "      <td>-0.010108</td>\n",
       "      <td>-0.026137</td>\n",
       "      <td>-0.012534</td>\n",
       "      <td>1.0</td>\n",
       "    </tr>\n",
       "    <tr>\n",
       "      <th>5</th>\n",
       "      <td>3.529386</td>\n",
       "      <td>3.752545</td>\n",
       "      <td>0.000155</td>\n",
       "      <td>0.005417</td>\n",
       "      <td>0.002606</td>\n",
       "      <td>4.0</td>\n",
       "    </tr>\n",
       "    <tr>\n",
       "      <th>6</th>\n",
       "      <td>0.928759</td>\n",
       "      <td>1.623448</td>\n",
       "      <td>-0.001276</td>\n",
       "      <td>-0.003446</td>\n",
       "      <td>-0.001614</td>\n",
       "      <td>1.0</td>\n",
       "    </tr>\n",
       "    <tr>\n",
       "      <th>7</th>\n",
       "      <td>1.497528</td>\n",
       "      <td>3.414615</td>\n",
       "      <td>-0.000854</td>\n",
       "      <td>-0.004021</td>\n",
       "      <td>-0.002283</td>\n",
       "      <td>1.0</td>\n",
       "    </tr>\n",
       "  </tbody>\n",
       "</table>\n",
       "</div>"
      ],
      "text/plain": [
       "   Fit Time  Score Time       MAE       MSE      RMSE  Est\n",
       "0       NaN         NaN       NaN       NaN       NaN  NaN\n",
       "1  0.838885    0.216509 -0.012959 -0.044035 -0.022255  1.0\n",
       "2  3.696207    3.761626 -0.044358 -0.065106 -0.033591  1.5\n",
       "3  0.205746   -0.400480 -0.012567 -0.027934 -0.015283  1.0\n",
       "4  0.948897    0.863837 -0.010108 -0.026137 -0.012534  1.0\n",
       "5  3.529386    3.752545  0.000155  0.005417  0.002606  4.0\n",
       "6  0.928759    1.623448 -0.001276 -0.003446 -0.001614  1.0\n",
       "7  1.497528    3.414615 -0.000854 -0.004021 -0.002283  1.0"
      ]
     },
     "execution_count": 28,
     "metadata": {},
     "output_type": "execute_result"
    }
   ],
   "source": [
    "pct_scores_df"
   ]
  },
  {
   "cell_type": "code",
   "execution_count": 29,
   "id": "declared-mandate",
   "metadata": {},
   "outputs": [
    {
     "data": {
      "text/html": [
       "<style  type=\"text/css\" >\n",
       "#T_57252250_5b55_11eb_af6a_60f81dd06e70row0_col0,#T_57252250_5b55_11eb_af6a_60f81dd06e70row0_col1,#T_57252250_5b55_11eb_af6a_60f81dd06e70row0_col2,#T_57252250_5b55_11eb_af6a_60f81dd06e70row0_col3,#T_57252250_5b55_11eb_af6a_60f81dd06e70row0_col4,#T_57252250_5b55_11eb_af6a_60f81dd06e70row0_col5{\n",
       "            background-color:  #000000;\n",
       "            color:  #f1f1f1;\n",
       "        }#T_57252250_5b55_11eb_af6a_60f81dd06e70row1_col0{\n",
       "            background-color:  #e0dded;\n",
       "            color:  #000000;\n",
       "        }#T_57252250_5b55_11eb_af6a_60f81dd06e70row1_col1{\n",
       "            background-color:  #e7e3f0;\n",
       "            color:  #000000;\n",
       "        }#T_57252250_5b55_11eb_af6a_60f81dd06e70row1_col2{\n",
       "            background-color:  #167bb6;\n",
       "            color:  #000000;\n",
       "        }#T_57252250_5b55_11eb_af6a_60f81dd06e70row1_col3{\n",
       "            background-color:  #c0c9e2;\n",
       "            color:  #000000;\n",
       "        }#T_57252250_5b55_11eb_af6a_60f81dd06e70row1_col4{\n",
       "            background-color:  #bbc7e0;\n",
       "            color:  #000000;\n",
       "        }#T_57252250_5b55_11eb_af6a_60f81dd06e70row1_col5,#T_57252250_5b55_11eb_af6a_60f81dd06e70row2_col2,#T_57252250_5b55_11eb_af6a_60f81dd06e70row2_col3,#T_57252250_5b55_11eb_af6a_60f81dd06e70row2_col4,#T_57252250_5b55_11eb_af6a_60f81dd06e70row3_col0,#T_57252250_5b55_11eb_af6a_60f81dd06e70row3_col1,#T_57252250_5b55_11eb_af6a_60f81dd06e70row3_col5,#T_57252250_5b55_11eb_af6a_60f81dd06e70row4_col5,#T_57252250_5b55_11eb_af6a_60f81dd06e70row6_col5,#T_57252250_5b55_11eb_af6a_60f81dd06e70row7_col5{\n",
       "            background-color:  #fff7fb;\n",
       "            color:  #000000;\n",
       "        }#T_57252250_5b55_11eb_af6a_60f81dd06e70row2_col0,#T_57252250_5b55_11eb_af6a_60f81dd06e70row2_col1,#T_57252250_5b55_11eb_af6a_60f81dd06e70row5_col1,#T_57252250_5b55_11eb_af6a_60f81dd06e70row5_col2,#T_57252250_5b55_11eb_af6a_60f81dd06e70row5_col3,#T_57252250_5b55_11eb_af6a_60f81dd06e70row5_col4,#T_57252250_5b55_11eb_af6a_60f81dd06e70row5_col5{\n",
       "            background-color:  #023858;\n",
       "            color:  #f1f1f1;\n",
       "        }#T_57252250_5b55_11eb_af6a_60f81dd06e70row2_col5{\n",
       "            background-color:  #e3e0ee;\n",
       "            color:  #000000;\n",
       "        }#T_57252250_5b55_11eb_af6a_60f81dd06e70row3_col2{\n",
       "            background-color:  #1379b5;\n",
       "            color:  #f1f1f1;\n",
       "        }#T_57252250_5b55_11eb_af6a_60f81dd06e70row3_col3{\n",
       "            background-color:  #67a4cc;\n",
       "            color:  #000000;\n",
       "        }#T_57252250_5b55_11eb_af6a_60f81dd06e70row3_col4{\n",
       "            background-color:  #71a8ce;\n",
       "            color:  #000000;\n",
       "        }#T_57252250_5b55_11eb_af6a_60f81dd06e70row4_col0,#T_57252250_5b55_11eb_af6a_60f81dd06e70row6_col0{\n",
       "            background-color:  #d9d8ea;\n",
       "            color:  #000000;\n",
       "        }#T_57252250_5b55_11eb_af6a_60f81dd06e70row4_col1{\n",
       "            background-color:  #bfc9e1;\n",
       "            color:  #000000;\n",
       "        }#T_57252250_5b55_11eb_af6a_60f81dd06e70row4_col2{\n",
       "            background-color:  #056dab;\n",
       "            color:  #f1f1f1;\n",
       "        }#T_57252250_5b55_11eb_af6a_60f81dd06e70row4_col3{\n",
       "            background-color:  #5a9ec9;\n",
       "            color:  #000000;\n",
       "        }#T_57252250_5b55_11eb_af6a_60f81dd06e70row4_col4{\n",
       "            background-color:  #4c99c5;\n",
       "            color:  #000000;\n",
       "        }#T_57252250_5b55_11eb_af6a_60f81dd06e70row5_col0{\n",
       "            background-color:  #03456c;\n",
       "            color:  #f1f1f1;\n",
       "        }#T_57252250_5b55_11eb_af6a_60f81dd06e70row6_col1{\n",
       "            background-color:  #79abd0;\n",
       "            color:  #000000;\n",
       "        }#T_57252250_5b55_11eb_af6a_60f81dd06e70row6_col2{\n",
       "            background-color:  #034165;\n",
       "            color:  #f1f1f1;\n",
       "        }#T_57252250_5b55_11eb_af6a_60f81dd06e70row6_col3{\n",
       "            background-color:  #045a8d;\n",
       "            color:  #f1f1f1;\n",
       "        }#T_57252250_5b55_11eb_af6a_60f81dd06e70row6_col4{\n",
       "            background-color:  #045788;\n",
       "            color:  #f1f1f1;\n",
       "        }#T_57252250_5b55_11eb_af6a_60f81dd06e70row7_col0{\n",
       "            background-color:  #a8bedc;\n",
       "            color:  #000000;\n",
       "        }#T_57252250_5b55_11eb_af6a_60f81dd06e70row7_col1{\n",
       "            background-color:  #034e7b;\n",
       "            color:  #f1f1f1;\n",
       "        }#T_57252250_5b55_11eb_af6a_60f81dd06e70row7_col2{\n",
       "            background-color:  #023d60;\n",
       "            color:  #f1f1f1;\n",
       "        }#T_57252250_5b55_11eb_af6a_60f81dd06e70row7_col3,#T_57252250_5b55_11eb_af6a_60f81dd06e70row7_col4{\n",
       "            background-color:  #045b8f;\n",
       "            color:  #f1f1f1;\n",
       "        }</style><table id=\"T_57252250_5b55_11eb_af6a_60f81dd06e70\" ><thead>    <tr>        <th class=\"blank level0\" ></th>        <th class=\"col_heading level0 col0\" >Fit Time</th>        <th class=\"col_heading level0 col1\" >Score Time</th>        <th class=\"col_heading level0 col2\" >MAE</th>        <th class=\"col_heading level0 col3\" >MSE</th>        <th class=\"col_heading level0 col4\" >RMSE</th>        <th class=\"col_heading level0 col5\" >Est</th>    </tr></thead><tbody>\n",
       "                <tr>\n",
       "                        <th id=\"T_57252250_5b55_11eb_af6a_60f81dd06e70level0_row0\" class=\"row_heading level0 row0\" >0</th>\n",
       "                        <td id=\"T_57252250_5b55_11eb_af6a_60f81dd06e70row0_col0\" class=\"data row0 col0\" >nan</td>\n",
       "                        <td id=\"T_57252250_5b55_11eb_af6a_60f81dd06e70row0_col1\" class=\"data row0 col1\" >nan</td>\n",
       "                        <td id=\"T_57252250_5b55_11eb_af6a_60f81dd06e70row0_col2\" class=\"data row0 col2\" >nan</td>\n",
       "                        <td id=\"T_57252250_5b55_11eb_af6a_60f81dd06e70row0_col3\" class=\"data row0 col3\" >nan</td>\n",
       "                        <td id=\"T_57252250_5b55_11eb_af6a_60f81dd06e70row0_col4\" class=\"data row0 col4\" >nan</td>\n",
       "                        <td id=\"T_57252250_5b55_11eb_af6a_60f81dd06e70row0_col5\" class=\"data row0 col5\" >nan</td>\n",
       "            </tr>\n",
       "            <tr>\n",
       "                        <th id=\"T_57252250_5b55_11eb_af6a_60f81dd06e70level0_row1\" class=\"row_heading level0 row1\" >1</th>\n",
       "                        <td id=\"T_57252250_5b55_11eb_af6a_60f81dd06e70row1_col0\" class=\"data row1 col0\" >0.838885</td>\n",
       "                        <td id=\"T_57252250_5b55_11eb_af6a_60f81dd06e70row1_col1\" class=\"data row1 col1\" >0.216509</td>\n",
       "                        <td id=\"T_57252250_5b55_11eb_af6a_60f81dd06e70row1_col2\" class=\"data row1 col2\" >-0.012959</td>\n",
       "                        <td id=\"T_57252250_5b55_11eb_af6a_60f81dd06e70row1_col3\" class=\"data row1 col3\" >-0.044035</td>\n",
       "                        <td id=\"T_57252250_5b55_11eb_af6a_60f81dd06e70row1_col4\" class=\"data row1 col4\" >-0.022255</td>\n",
       "                        <td id=\"T_57252250_5b55_11eb_af6a_60f81dd06e70row1_col5\" class=\"data row1 col5\" >1.000000</td>\n",
       "            </tr>\n",
       "            <tr>\n",
       "                        <th id=\"T_57252250_5b55_11eb_af6a_60f81dd06e70level0_row2\" class=\"row_heading level0 row2\" >2</th>\n",
       "                        <td id=\"T_57252250_5b55_11eb_af6a_60f81dd06e70row2_col0\" class=\"data row2 col0\" >3.696207</td>\n",
       "                        <td id=\"T_57252250_5b55_11eb_af6a_60f81dd06e70row2_col1\" class=\"data row2 col1\" >3.761626</td>\n",
       "                        <td id=\"T_57252250_5b55_11eb_af6a_60f81dd06e70row2_col2\" class=\"data row2 col2\" >-0.044358</td>\n",
       "                        <td id=\"T_57252250_5b55_11eb_af6a_60f81dd06e70row2_col3\" class=\"data row2 col3\" >-0.065106</td>\n",
       "                        <td id=\"T_57252250_5b55_11eb_af6a_60f81dd06e70row2_col4\" class=\"data row2 col4\" >-0.033591</td>\n",
       "                        <td id=\"T_57252250_5b55_11eb_af6a_60f81dd06e70row2_col5\" class=\"data row2 col5\" >1.500000</td>\n",
       "            </tr>\n",
       "            <tr>\n",
       "                        <th id=\"T_57252250_5b55_11eb_af6a_60f81dd06e70level0_row3\" class=\"row_heading level0 row3\" >3</th>\n",
       "                        <td id=\"T_57252250_5b55_11eb_af6a_60f81dd06e70row3_col0\" class=\"data row3 col0\" >0.205746</td>\n",
       "                        <td id=\"T_57252250_5b55_11eb_af6a_60f81dd06e70row3_col1\" class=\"data row3 col1\" >-0.400480</td>\n",
       "                        <td id=\"T_57252250_5b55_11eb_af6a_60f81dd06e70row3_col2\" class=\"data row3 col2\" >-0.012567</td>\n",
       "                        <td id=\"T_57252250_5b55_11eb_af6a_60f81dd06e70row3_col3\" class=\"data row3 col3\" >-0.027934</td>\n",
       "                        <td id=\"T_57252250_5b55_11eb_af6a_60f81dd06e70row3_col4\" class=\"data row3 col4\" >-0.015283</td>\n",
       "                        <td id=\"T_57252250_5b55_11eb_af6a_60f81dd06e70row3_col5\" class=\"data row3 col5\" >1.000000</td>\n",
       "            </tr>\n",
       "            <tr>\n",
       "                        <th id=\"T_57252250_5b55_11eb_af6a_60f81dd06e70level0_row4\" class=\"row_heading level0 row4\" >4</th>\n",
       "                        <td id=\"T_57252250_5b55_11eb_af6a_60f81dd06e70row4_col0\" class=\"data row4 col0\" >0.948897</td>\n",
       "                        <td id=\"T_57252250_5b55_11eb_af6a_60f81dd06e70row4_col1\" class=\"data row4 col1\" >0.863837</td>\n",
       "                        <td id=\"T_57252250_5b55_11eb_af6a_60f81dd06e70row4_col2\" class=\"data row4 col2\" >-0.010108</td>\n",
       "                        <td id=\"T_57252250_5b55_11eb_af6a_60f81dd06e70row4_col3\" class=\"data row4 col3\" >-0.026137</td>\n",
       "                        <td id=\"T_57252250_5b55_11eb_af6a_60f81dd06e70row4_col4\" class=\"data row4 col4\" >-0.012534</td>\n",
       "                        <td id=\"T_57252250_5b55_11eb_af6a_60f81dd06e70row4_col5\" class=\"data row4 col5\" >1.000000</td>\n",
       "            </tr>\n",
       "            <tr>\n",
       "                        <th id=\"T_57252250_5b55_11eb_af6a_60f81dd06e70level0_row5\" class=\"row_heading level0 row5\" >5</th>\n",
       "                        <td id=\"T_57252250_5b55_11eb_af6a_60f81dd06e70row5_col0\" class=\"data row5 col0\" >3.529386</td>\n",
       "                        <td id=\"T_57252250_5b55_11eb_af6a_60f81dd06e70row5_col1\" class=\"data row5 col1\" >3.752545</td>\n",
       "                        <td id=\"T_57252250_5b55_11eb_af6a_60f81dd06e70row5_col2\" class=\"data row5 col2\" >0.000155</td>\n",
       "                        <td id=\"T_57252250_5b55_11eb_af6a_60f81dd06e70row5_col3\" class=\"data row5 col3\" >0.005417</td>\n",
       "                        <td id=\"T_57252250_5b55_11eb_af6a_60f81dd06e70row5_col4\" class=\"data row5 col4\" >0.002606</td>\n",
       "                        <td id=\"T_57252250_5b55_11eb_af6a_60f81dd06e70row5_col5\" class=\"data row5 col5\" >4.000000</td>\n",
       "            </tr>\n",
       "            <tr>\n",
       "                        <th id=\"T_57252250_5b55_11eb_af6a_60f81dd06e70level0_row6\" class=\"row_heading level0 row6\" >6</th>\n",
       "                        <td id=\"T_57252250_5b55_11eb_af6a_60f81dd06e70row6_col0\" class=\"data row6 col0\" >0.928759</td>\n",
       "                        <td id=\"T_57252250_5b55_11eb_af6a_60f81dd06e70row6_col1\" class=\"data row6 col1\" >1.623448</td>\n",
       "                        <td id=\"T_57252250_5b55_11eb_af6a_60f81dd06e70row6_col2\" class=\"data row6 col2\" >-0.001276</td>\n",
       "                        <td id=\"T_57252250_5b55_11eb_af6a_60f81dd06e70row6_col3\" class=\"data row6 col3\" >-0.003446</td>\n",
       "                        <td id=\"T_57252250_5b55_11eb_af6a_60f81dd06e70row6_col4\" class=\"data row6 col4\" >-0.001614</td>\n",
       "                        <td id=\"T_57252250_5b55_11eb_af6a_60f81dd06e70row6_col5\" class=\"data row6 col5\" >1.000000</td>\n",
       "            </tr>\n",
       "            <tr>\n",
       "                        <th id=\"T_57252250_5b55_11eb_af6a_60f81dd06e70level0_row7\" class=\"row_heading level0 row7\" >7</th>\n",
       "                        <td id=\"T_57252250_5b55_11eb_af6a_60f81dd06e70row7_col0\" class=\"data row7 col0\" >1.497528</td>\n",
       "                        <td id=\"T_57252250_5b55_11eb_af6a_60f81dd06e70row7_col1\" class=\"data row7 col1\" >3.414615</td>\n",
       "                        <td id=\"T_57252250_5b55_11eb_af6a_60f81dd06e70row7_col2\" class=\"data row7 col2\" >-0.000854</td>\n",
       "                        <td id=\"T_57252250_5b55_11eb_af6a_60f81dd06e70row7_col3\" class=\"data row7 col3\" >-0.004021</td>\n",
       "                        <td id=\"T_57252250_5b55_11eb_af6a_60f81dd06e70row7_col4\" class=\"data row7 col4\" >-0.002283</td>\n",
       "                        <td id=\"T_57252250_5b55_11eb_af6a_60f81dd06e70row7_col5\" class=\"data row7 col5\" >1.000000</td>\n",
       "            </tr>\n",
       "    </tbody></table>"
      ],
      "text/plain": [
       "<pandas.io.formats.style.Styler at 0x7ff948bd6520>"
      ]
     },
     "execution_count": 29,
     "metadata": {},
     "output_type": "execute_result"
    }
   ],
   "source": [
    "pct_scores_df.style.background_gradient() \n",
    "# we choose index 4, 100 Estimations <- \n",
    "    # Score time decrease 3->4 & Score time increase dramatically 4->5\n",
    "    # unsubstantial decrease MSE & RMSE 4->5 compared to 3->4"
   ]
  },
  {
   "cell_type": "markdown",
   "id": "retained-damages",
   "metadata": {},
   "source": [
    "# Score Model"
   ]
  },
  {
   "cell_type": "code",
   "execution_count": 30,
   "id": "valid-capitol",
   "metadata": {},
   "outputs": [
    {
     "data": {
      "text/plain": [
       "RandomForestRegressor()"
      ]
     },
     "execution_count": 30,
     "metadata": {},
     "output_type": "execute_result"
    }
   ],
   "source": [
    "# MODIFY!\n",
    "# adopt number of estimators from the previous section\n",
    "\n",
    "score_model = RandomForestRegressor(n_estimators=100)\n",
    "score_model"
   ]
  },
  {
   "cell_type": "code",
   "execution_count": 31,
   "id": "national-speed",
   "metadata": {},
   "outputs": [],
   "source": [
    "from sklearn.model_selection import cross_validate\n",
    "\n",
    "scores = cross_validate(\n",
    "    score_model, \n",
    "    X_train, \n",
    "    y_train,\n",
    "    scoring=[\n",
    "        'neg_mean_absolute_error',\n",
    "        'neg_mean_squared_error',\n",
    "        'neg_root_mean_squared_error'\n",
    "    ],\n",
    "    cv=10\n",
    ")"
   ]
  },
  {
   "cell_type": "code",
   "execution_count": 32,
   "id": "helpful-holder",
   "metadata": {},
   "outputs": [],
   "source": [
    "scores = pd.DataFrame(scores)"
   ]
  },
  {
   "cell_type": "code",
   "execution_count": 33,
   "id": "measured-evidence",
   "metadata": {},
   "outputs": [
    {
     "data": {
      "text/html": [
       "<div>\n",
       "<style scoped>\n",
       "    .dataframe tbody tr th:only-of-type {\n",
       "        vertical-align: middle;\n",
       "    }\n",
       "\n",
       "    .dataframe tbody tr th {\n",
       "        vertical-align: top;\n",
       "    }\n",
       "\n",
       "    .dataframe thead th {\n",
       "        text-align: right;\n",
       "    }\n",
       "</style>\n",
       "<table border=\"1\" class=\"dataframe\">\n",
       "  <thead>\n",
       "    <tr style=\"text-align: right;\">\n",
       "      <th></th>\n",
       "      <th>fit_time</th>\n",
       "      <th>score_time</th>\n",
       "      <th>test_neg_mean_absolute_error</th>\n",
       "      <th>test_neg_mean_squared_error</th>\n",
       "      <th>test_neg_root_mean_squared_error</th>\n",
       "    </tr>\n",
       "  </thead>\n",
       "  <tbody>\n",
       "    <tr>\n",
       "      <th>0</th>\n",
       "      <td>2.555543</td>\n",
       "      <td>0.016704</td>\n",
       "      <td>-2.754574</td>\n",
       "      <td>-15.257585</td>\n",
       "      <td>-3.906096</td>\n",
       "    </tr>\n",
       "    <tr>\n",
       "      <th>1</th>\n",
       "      <td>2.222908</td>\n",
       "      <td>0.017831</td>\n",
       "      <td>-2.648538</td>\n",
       "      <td>-14.002637</td>\n",
       "      <td>-3.742010</td>\n",
       "    </tr>\n",
       "    <tr>\n",
       "      <th>2</th>\n",
       "      <td>2.070483</td>\n",
       "      <td>0.016585</td>\n",
       "      <td>-2.641521</td>\n",
       "      <td>-14.386436</td>\n",
       "      <td>-3.792946</td>\n",
       "    </tr>\n",
       "    <tr>\n",
       "      <th>3</th>\n",
       "      <td>2.251624</td>\n",
       "      <td>0.015229</td>\n",
       "      <td>-2.884156</td>\n",
       "      <td>-15.091713</td>\n",
       "      <td>-3.884805</td>\n",
       "    </tr>\n",
       "    <tr>\n",
       "      <th>4</th>\n",
       "      <td>2.152272</td>\n",
       "      <td>0.014123</td>\n",
       "      <td>-3.044747</td>\n",
       "      <td>-20.528654</td>\n",
       "      <td>-4.530856</td>\n",
       "    </tr>\n",
       "    <tr>\n",
       "      <th>5</th>\n",
       "      <td>2.299549</td>\n",
       "      <td>0.021202</td>\n",
       "      <td>-2.458497</td>\n",
       "      <td>-10.983888</td>\n",
       "      <td>-3.314195</td>\n",
       "    </tr>\n",
       "    <tr>\n",
       "      <th>6</th>\n",
       "      <td>2.146433</td>\n",
       "      <td>0.016706</td>\n",
       "      <td>-2.920331</td>\n",
       "      <td>-15.963751</td>\n",
       "      <td>-3.995466</td>\n",
       "    </tr>\n",
       "    <tr>\n",
       "      <th>7</th>\n",
       "      <td>2.227369</td>\n",
       "      <td>0.021313</td>\n",
       "      <td>-2.674111</td>\n",
       "      <td>-13.354995</td>\n",
       "      <td>-3.654449</td>\n",
       "    </tr>\n",
       "    <tr>\n",
       "      <th>8</th>\n",
       "      <td>2.364990</td>\n",
       "      <td>0.017920</td>\n",
       "      <td>-2.480129</td>\n",
       "      <td>-12.009348</td>\n",
       "      <td>-3.465451</td>\n",
       "    </tr>\n",
       "    <tr>\n",
       "      <th>9</th>\n",
       "      <td>2.313748</td>\n",
       "      <td>0.022223</td>\n",
       "      <td>-2.877728</td>\n",
       "      <td>-17.768390</td>\n",
       "      <td>-4.215257</td>\n",
       "    </tr>\n",
       "  </tbody>\n",
       "</table>\n",
       "</div>"
      ],
      "text/plain": [
       "   fit_time  score_time  test_neg_mean_absolute_error  \\\n",
       "0  2.555543    0.016704                     -2.754574   \n",
       "1  2.222908    0.017831                     -2.648538   \n",
       "2  2.070483    0.016585                     -2.641521   \n",
       "3  2.251624    0.015229                     -2.884156   \n",
       "4  2.152272    0.014123                     -3.044747   \n",
       "5  2.299549    0.021202                     -2.458497   \n",
       "6  2.146433    0.016706                     -2.920331   \n",
       "7  2.227369    0.021313                     -2.674111   \n",
       "8  2.364990    0.017920                     -2.480129   \n",
       "9  2.313748    0.022223                     -2.877728   \n",
       "\n",
       "   test_neg_mean_squared_error  test_neg_root_mean_squared_error  \n",
       "0                   -15.257585                         -3.906096  \n",
       "1                   -14.002637                         -3.742010  \n",
       "2                   -14.386436                         -3.792946  \n",
       "3                   -15.091713                         -3.884805  \n",
       "4                   -20.528654                         -4.530856  \n",
       "5                   -10.983888                         -3.314195  \n",
       "6                   -15.963751                         -3.995466  \n",
       "7                   -13.354995                         -3.654449  \n",
       "8                   -12.009348                         -3.465451  \n",
       "9                   -17.768390                         -4.215257  "
      ]
     },
     "execution_count": 33,
     "metadata": {},
     "output_type": "execute_result"
    }
   ],
   "source": [
    "scores"
   ]
  },
  {
   "cell_type": "code",
   "execution_count": 34,
   "id": "banner-policy",
   "metadata": {},
   "outputs": [],
   "source": [
    "mean_scores = scores.mean()"
   ]
  },
  {
   "cell_type": "code",
   "execution_count": 35,
   "id": "heated-velvet",
   "metadata": {},
   "outputs": [
    {
     "data": {
      "text/plain": [
       "fit_time                             2.260492\n",
       "score_time                           0.017984\n",
       "test_neg_mean_absolute_error        -2.738433\n",
       "test_neg_mean_squared_error        -14.934740\n",
       "test_neg_root_mean_squared_error    -3.850153\n",
       "dtype: float64"
      ]
     },
     "execution_count": 35,
     "metadata": {},
     "output_type": "execute_result"
    }
   ],
   "source": [
    "mean_scores"
   ]
  },
  {
   "cell_type": "markdown",
   "id": "unlike-wales",
   "metadata": {},
   "source": [
    "# Export Scores"
   ]
  },
  {
   "cell_type": "code",
   "execution_count": 36,
   "id": "round-spyware",
   "metadata": {},
   "outputs": [],
   "source": [
    "mean_scores = mean_scores.rename(f'{model_name}')"
   ]
  },
  {
   "cell_type": "code",
   "execution_count": 37,
   "id": "approximate-harris",
   "metadata": {},
   "outputs": [],
   "source": [
    "mean_scores[[2,3,4]] = mean_scores[[2,3,4]].apply(abs)"
   ]
  },
  {
   "cell_type": "code",
   "execution_count": 38,
   "id": "serial-garbage",
   "metadata": {},
   "outputs": [],
   "source": [
    "# mean_scores"
   ]
  },
  {
   "cell_type": "code",
   "execution_count": 39,
   "id": "artificial-technician",
   "metadata": {},
   "outputs": [],
   "source": [
    "mean_scores = mean_scores.rename({\n",
    "    'fit_time':'Fit Time',\n",
    "    'score_time':'Score Time',\n",
    "    'test_neg_mean_absolute_error':'MAE',\n",
    "    'test_neg_mean_squared_error':'MSE',\n",
    "    'test_neg_root_mean_squared_error':'RMSE'\n",
    "})"
   ]
  },
  {
   "cell_type": "code",
   "execution_count": 40,
   "id": "statistical-lebanon",
   "metadata": {},
   "outputs": [
    {
     "data": {
      "text/plain": [
       "Fit Time       2.260492\n",
       "Score Time     0.017984\n",
       "MAE            2.738433\n",
       "MSE           14.934740\n",
       "RMSE           3.850153\n",
       "Name: RandFo, dtype: float64"
      ]
     },
     "execution_count": 40,
     "metadata": {},
     "output_type": "execute_result"
    }
   ],
   "source": [
    "mean_scores"
   ]
  },
  {
   "cell_type": "code",
   "execution_count": 41,
   "id": "steady-burning",
   "metadata": {},
   "outputs": [],
   "source": [
    "mean_scores['STD FT'] = scores.fit_time.std()\n",
    "mean_scores['STD ST'] = scores.score_time.std()\n",
    "mean_scores['STD MAE'] = scores.test_neg_mean_absolute_error.std()\n",
    "mean_scores['STD MSE'] = scores.test_neg_mean_squared_error.std()\n",
    "mean_scores['STD RMSE'] = scores.test_neg_root_mean_squared_error.std()"
   ]
  },
  {
   "cell_type": "code",
   "execution_count": 42,
   "id": "laden-hunter",
   "metadata": {},
   "outputs": [
    {
     "data": {
      "text/plain": [
       "Fit Time       2.260492\n",
       "Score Time     0.017984\n",
       "MAE            2.738433\n",
       "MSE           14.934740\n",
       "RMSE           3.850153\n",
       "STD FT         0.135708\n",
       "STD ST         0.002732\n",
       "STD MAE        0.192789\n",
       "STD MSE        2.755628\n",
       "STD RMSE       0.351286\n",
       "Name: RandFo, dtype: float64"
      ]
     },
     "execution_count": 42,
     "metadata": {},
     "output_type": "execute_result"
    }
   ],
   "source": [
    "mean_scores"
   ]
  },
  {
   "cell_type": "code",
   "execution_count": 43,
   "id": "decreased-university",
   "metadata": {},
   "outputs": [],
   "source": [
    "mean_scores.to_csv(f'./scores/{model_name}-100-score.csv')"
   ]
  },
  {
   "cell_type": "markdown",
   "id": "compliant-stocks",
   "metadata": {},
   "source": [
    "# Holdout Test"
   ]
  },
  {
   "cell_type": "code",
   "execution_count": 44,
   "id": "invisible-columbus",
   "metadata": {},
   "outputs": [
    {
     "data": {
      "text/plain": [
       "RandomForestRegressor()"
      ]
     },
     "execution_count": 44,
     "metadata": {},
     "output_type": "execute_result"
    }
   ],
   "source": [
    "score_model.fit(X_train,y_train)"
   ]
  },
  {
   "cell_type": "code",
   "execution_count": 45,
   "id": "instructional-boxing",
   "metadata": {},
   "outputs": [],
   "source": [
    "y_holdout = score_model.predict(X_test)"
   ]
  },
  {
   "cell_type": "code",
   "execution_count": 46,
   "id": "common-driving",
   "metadata": {},
   "outputs": [
    {
     "data": {
      "text/plain": [
       "<AxesSubplot:ylabel='Count'>"
      ]
     },
     "execution_count": 46,
     "metadata": {},
     "output_type": "execute_result"
    },
    {
     "data": {
      "image/png": "[encoded data removed]",
      "text/plain": [
       "<Figure size 432x288 with 1 Axes>"
      ]
     },
     "metadata": {
      "needs_background": "light"
     },
     "output_type": "display_data"
    }
   ],
   "source": [
    "sns.histplot(y_holdout,bins=40,kde=True)"
   ]
  },
  {
   "cell_type": "code",
   "execution_count": 47,
   "id": "animated-split",
   "metadata": {},
   "outputs": [
    {
     "data": {
      "text/plain": [
       "<matplotlib.legend.Legend at 0x7ff930ec35b0>"
      ]
     },
     "execution_count": 47,
     "metadata": {},
     "output_type": "execute_result"
    },
    {
     "data": {
      "image/png": "[encoded data removed]",
      "text/plain": [
       "<Figure size 432x288 with 1 Axes>"
      ]
     },
     "metadata": {
      "needs_background": "light"
     },
     "output_type": "display_data"
    }
   ],
   "source": [
    "fig,ax = plt.subplots()\n",
    "\n",
    "sns.kdeplot(y_test, ax=ax, shade=True, label='Observations')\n",
    "sns.kdeplot(y_holdout, ax=ax,shade=True,label='Predictions')\n",
    "\n",
    "ax.legend(loc='best')"
   ]
  },
  {
   "cell_type": "code",
   "execution_count": 48,
   "id": "false-butterfly",
   "metadata": {},
   "outputs": [
    {
     "data": {
      "text/plain": [
       "<matplotlib.legend.Legend at 0x7ff930ffa7c0>"
      ]
     },
     "execution_count": 48,
     "metadata": {},
     "output_type": "execute_result"
    },
    {
     "data": {
      "image/png": "[encoded data removed]",
      "text/plain": [
       "<Figure size 432x288 with 1 Axes>"
      ]
     },
     "metadata": {
      "needs_background": "light"
     },
     "output_type": "display_data"
    }
   ],
   "source": [
    "fig,ax = plt.subplots()\n",
    "\n",
    "sns.ecdfplot(y_test, ax=ax, label='Observations')\n",
    "sns.ecdfplot(y_holdout, ax=ax,label='Predictions')\n",
    "plt.axvline(x=y_test.mean(),color='grey',linestyle='--')\n",
    "\n",
    "ax.legend(loc='best')"
   ]
  },
  {
   "cell_type": "code",
   "execution_count": 49,
   "id": "published-contribution",
   "metadata": {},
   "outputs": [],
   "source": [
    "from sklearn.metrics import mean_absolute_error, mean_squared_error\n",
    "\n",
    "mae = mean_absolute_error(y_test,y_holdout)\n",
    "mse = mean_squared_error(y_test,y_holdout)\n",
    "rmse = np.sqrt(mse)"
   ]
  },
  {
   "cell_type": "code",
   "execution_count": 50,
   "id": "valid-music",
   "metadata": {},
   "outputs": [
    {
     "data": {
      "text/html": [
       "<div>\n",
       "<style scoped>\n",
       "    .dataframe tbody tr th:only-of-type {\n",
       "        vertical-align: middle;\n",
       "    }\n",
       "\n",
       "    .dataframe tbody tr th {\n",
       "        vertical-align: top;\n",
       "    }\n",
       "\n",
       "    .dataframe thead th {\n",
       "        text-align: right;\n",
       "    }\n",
       "</style>\n",
       "<table border=\"1\" class=\"dataframe\">\n",
       "  <thead>\n",
       "    <tr style=\"text-align: right;\">\n",
       "      <th></th>\n",
       "      <th>RandFo</th>\n",
       "    </tr>\n",
       "  </thead>\n",
       "  <tbody>\n",
       "    <tr>\n",
       "      <th>MAE</th>\n",
       "      <td>2.891808</td>\n",
       "    </tr>\n",
       "    <tr>\n",
       "      <th>MSE</th>\n",
       "      <td>17.639584</td>\n",
       "    </tr>\n",
       "    <tr>\n",
       "      <th>RMSE</th>\n",
       "      <td>4.199950</td>\n",
       "    </tr>\n",
       "  </tbody>\n",
       "</table>\n",
       "</div>"
      ],
      "text/plain": [
       "         RandFo\n",
       "MAE    2.891808\n",
       "MSE   17.639584\n",
       "RMSE   4.199950"
      ]
     },
     "execution_count": 50,
     "metadata": {},
     "output_type": "execute_result"
    }
   ],
   "source": [
    "err_df = pd.DataFrame(data=[mae, mse, rmse],index=['MAE','MSE','RMSE'],columns=[f'{model_name}'])\n",
    "err_df"
   ]
  },
  {
   "cell_type": "code",
   "execution_count": 51,
   "id": "internal-growth",
   "metadata": {},
   "outputs": [],
   "source": [
    "err_df.to_csv(f'./holdout-test/{model_name}-err.csv')\n",
    "# mean_scores.to_csv(f'./opt-model-err/{model_name}-err.csv')"
   ]
  },
  {
   "cell_type": "code",
   "execution_count": 52,
   "id": "asian-voluntary",
   "metadata": {},
   "outputs": [
    {
     "data": {
      "text/plain": [
       "mean    -0.208438\n",
       "std      4.205408\n",
       "min    -11.771061\n",
       "25%     -2.137424\n",
       "50%     -0.086054\n",
       "75%      1.754944\n",
       "max     19.914228\n",
       "Name: throughput, dtype: float64"
      ]
     },
     "execution_count": 52,
     "metadata": {},
     "output_type": "execute_result"
    }
   ],
   "source": [
    "res = y_test - y_holdout\n",
    "res.describe().drop('count')"
   ]
  },
  {
   "cell_type": "code",
   "execution_count": 53,
   "id": "behavioral-algebra",
   "metadata": {},
   "outputs": [
    {
     "data": {
      "text/plain": [
       "<AxesSubplot:xlabel='throughput', ylabel='Count'>"
      ]
     },
     "execution_count": 53,
     "metadata": {},
     "output_type": "execute_result"
    },
    {
     "data": {
      "image/png": "[encoded data removed]",
      "text/plain": [
       "<Figure size 432x288 with 1 Axes>"
      ]
     },
     "metadata": {
      "needs_background": "light"
     },
     "output_type": "display_data"
    }
   ],
   "source": [
    "sns.histplot(data=res, kde=True,bins=40)"
   ]
  },
  {
   "cell_type": "code",
   "execution_count": 54,
   "id": "defined-northern",
   "metadata": {},
   "outputs": [
    {
     "data": {
      "text/plain": [
       "<matplotlib.lines.Line2D at 0x7ff931250340>"
      ]
     },
     "execution_count": 54,
     "metadata": {},
     "output_type": "execute_result"
    },
    {
     "data": {
      "image/png": "[encoded data removed]",
      "text/plain": [
       "<Figure size 432x288 with 1 Axes>"
      ]
     },
     "metadata": {
      "needs_background": "light"
     },
     "output_type": "display_data"
    }
   ],
   "source": [
    "ax = sns.scatterplot(x=y_test, y=res)\n",
    "ax.set(ylabel='Residuals', xlabel='Test Label')\n",
    "plt.axhline(y=0,color='red',linestyle='--')\n",
    "\n",
    "# there should be no clear pattern / curve in the plot\n",
    "# we see a positive correlation between Test Label and Residuals -> later models should avoid this pattern"
   ]
  },
  {
   "cell_type": "code",
   "execution_count": 55,
   "id": "extensive-lithuania",
   "metadata": {},
   "outputs": [
    {
     "data": {
      "image/png": "[encoded data removed]",
      "text/plain": [
       "<Figure size 432x288 with 1 Axes>"
      ]
     },
     "metadata": {
      "needs_background": "light"
     },
     "output_type": "display_data"
    }
   ],
   "source": [
    "import scipy as sp\n",
    "\n",
    "fig, ax = plt.subplots()\n",
    "sp.stats.probplot(res,plot=ax);"
   ]
  },
  {
   "cell_type": "markdown",
   "id": "changed-nurse",
   "metadata": {},
   "source": [
    "# Export Optimized Model"
   ]
  },
  {
   "cell_type": "code",
   "execution_count": 56,
   "id": "daily-disclosure",
   "metadata": {},
   "outputs": [
    {
     "data": {
      "text/plain": [
       "RobustScaler()"
      ]
     },
     "execution_count": 56,
     "metadata": {},
     "output_type": "execute_result"
    }
   ],
   "source": [
    "from sklearn.preprocessing import RobustScaler\n",
    "scaler = RobustScaler()\n",
    "scaler.fit(X)"
   ]
  },
  {
   "cell_type": "code",
   "execution_count": 57,
   "id": "technological-vinyl",
   "metadata": {},
   "outputs": [
    {
     "data": {
      "text/plain": [
       "RandomForestRegressor()"
      ]
     },
     "execution_count": 57,
     "metadata": {},
     "output_type": "execute_result"
    }
   ],
   "source": [
    "# MODIFY! \n",
    "X = scaler.transform(X)\n",
    "\n",
    "op_model = score_model\n",
    "\n",
    "op_model.fit(X,y)"
   ]
  },
  {
   "cell_type": "code",
   "execution_count": 58,
   "id": "altered-archives",
   "metadata": {},
   "outputs": [],
   "source": [
    "y_pred = op_model.predict(X)"
   ]
  },
  {
   "cell_type": "code",
   "execution_count": 59,
   "id": "adjusted-facility",
   "metadata": {},
   "outputs": [
    {
     "data": {
      "text/plain": [
       "<AxesSubplot:ylabel='Count'>"
      ]
     },
     "execution_count": 59,
     "metadata": {},
     "output_type": "execute_result"
    },
    {
     "data": {
      "image/png": "[encoded data removed]",
      "text/plain": [
       "<Figure size 432x288 with 1 Axes>"
      ]
     },
     "metadata": {
      "needs_background": "light"
     },
     "output_type": "display_data"
    }
   ],
   "source": [
    "sns.histplot(y_pred,bins=40,kde=True)"
   ]
  },
  {
   "cell_type": "code",
   "execution_count": 60,
   "id": "blessed-steal",
   "metadata": {},
   "outputs": [
    {
     "data": {
      "text/plain": [
       "<matplotlib.legend.Legend at 0x7ff9316c1df0>"
      ]
     },
     "execution_count": 60,
     "metadata": {},
     "output_type": "execute_result"
    },
    {
     "data": {
      "image/png": "[encoded data removed]",
      "text/plain": [
       "<Figure size 432x288 with 1 Axes>"
      ]
     },
     "metadata": {
      "needs_background": "light"
     },
     "output_type": "display_data"
    }
   ],
   "source": [
    "fig,ax = plt.subplots()\n",
    "\n",
    "sns.kdeplot(y, ax=ax, shade=True, label='Observations')\n",
    "sns.kdeplot(y_pred, ax=ax,shade=True,label='Predictions')\n",
    "\n",
    "ax.legend(loc='best')"
   ]
  },
  {
   "cell_type": "code",
   "execution_count": 61,
   "id": "centered-netscape",
   "metadata": {},
   "outputs": [
    {
     "data": {
      "text/plain": [
       "<matplotlib.legend.Legend at 0x7ff9317279d0>"
      ]
     },
     "execution_count": 61,
     "metadata": {},
     "output_type": "execute_result"
    },
    {
     "data": {
      "image/png": "[encoded data removed]",
      "text/plain": [
       "<Figure size 432x288 with 1 Axes>"
      ]
     },
     "metadata": {
      "needs_background": "light"
     },
     "output_type": "display_data"
    }
   ],
   "source": [
    "fig,ax = plt.subplots()\n",
    "\n",
    "sns.ecdfplot(y, ax=ax, label='Observations')\n",
    "sns.ecdfplot(y_pred, ax=ax,label='Predictions')\n",
    "plt.axvline(x=y.mean(),color='grey',linestyle='--')\n",
    "\n",
    "ax.legend(loc='best')"
   ]
  },
  {
   "cell_type": "code",
   "execution_count": 62,
   "id": "short-gasoline",
   "metadata": {},
   "outputs": [],
   "source": [
    "mae = mean_absolute_error(y,y_pred)\n",
    "mse = mean_squared_error(y,y_pred)\n",
    "rmse = np.sqrt(mse)"
   ]
  },
  {
   "cell_type": "code",
   "execution_count": 63,
   "id": "dirty-immigration",
   "metadata": {},
   "outputs": [
    {
     "data": {
      "text/html": [
       "<div>\n",
       "<style scoped>\n",
       "    .dataframe tbody tr th:only-of-type {\n",
       "        vertical-align: middle;\n",
       "    }\n",
       "\n",
       "    .dataframe tbody tr th {\n",
       "        vertical-align: top;\n",
       "    }\n",
       "\n",
       "    .dataframe thead th {\n",
       "        text-align: right;\n",
       "    }\n",
       "</style>\n",
       "<table border=\"1\" class=\"dataframe\">\n",
       "  <thead>\n",
       "    <tr style=\"text-align: right;\">\n",
       "      <th></th>\n",
       "      <th>RandFo</th>\n",
       "    </tr>\n",
       "  </thead>\n",
       "  <tbody>\n",
       "    <tr>\n",
       "      <th>MAE</th>\n",
       "      <td>1.010740</td>\n",
       "    </tr>\n",
       "    <tr>\n",
       "      <th>MSE</th>\n",
       "      <td>2.044441</td>\n",
       "    </tr>\n",
       "    <tr>\n",
       "      <th>RMSE</th>\n",
       "      <td>1.429840</td>\n",
       "    </tr>\n",
       "  </tbody>\n",
       "</table>\n",
       "</div>"
      ],
      "text/plain": [
       "        RandFo\n",
       "MAE   1.010740\n",
       "MSE   2.044441\n",
       "RMSE  1.429840"
      ]
     },
     "execution_count": 63,
     "metadata": {},
     "output_type": "execute_result"
    }
   ],
   "source": [
    "err_df = pd.DataFrame(data=[mae, mse, rmse],index=['MAE','MSE','RMSE'],columns=[f'{model_name}'])\n",
    "err_df"
   ]
  },
  {
   "cell_type": "code",
   "execution_count": 64,
   "id": "postal-iceland",
   "metadata": {},
   "outputs": [],
   "source": [
    "err_df.to_csv(f'./model-err/{model_name}-err.csv')\n",
    "# mean_scores.to_csv(f'./opt-model-err/{model_name}-err.csv')"
   ]
  },
  {
   "cell_type": "code",
   "execution_count": 65,
   "id": "buried-terminal",
   "metadata": {},
   "outputs": [
    {
     "data": {
      "text/plain": [
       "['./opt-models/RandFo-model.joblib']"
      ]
     },
     "execution_count": 65,
     "metadata": {},
     "output_type": "execute_result"
    }
   ],
   "source": [
    "from joblib import dump, load\n",
    "dump(op_model, f'./opt-models/{model_name}-model.joblib')"
   ]
  },
  {
   "cell_type": "code",
   "execution_count": 66,
   "id": "nearby-rally",
   "metadata": {},
   "outputs": [
    {
     "data": {
      "text/plain": [
       "mean   -0.002790\n",
       "std     1.430200\n",
       "min    -8.193024\n",
       "25%    -0.669966\n",
       "50%     0.017962\n",
       "75%     0.758684\n",
       "max     7.404971\n",
       "Name: throughput, dtype: float64"
      ]
     },
     "execution_count": 66,
     "metadata": {},
     "output_type": "execute_result"
    }
   ],
   "source": [
    "res = y - y_pred\n",
    "res.describe().drop('count')"
   ]
  },
  {
   "cell_type": "code",
   "execution_count": 67,
   "id": "miniature-witch",
   "metadata": {},
   "outputs": [
    {
     "data": {
      "text/plain": [
       "<AxesSubplot:xlabel='throughput', ylabel='Count'>"
      ]
     },
     "execution_count": 67,
     "metadata": {},
     "output_type": "execute_result"
    },
    {
     "data": {
      "image/png": "[encoded data removed]",
      "text/plain": [
       "<Figure size 432x288 with 1 Axes>"
      ]
     },
     "metadata": {
      "needs_background": "light"
     },
     "output_type": "display_data"
    }
   ],
   "source": [
    "sns.histplot(data=res, kde=True,bins=40)"
   ]
  },
  {
   "cell_type": "code",
   "execution_count": 68,
   "id": "representative-preliminary",
   "metadata": {},
   "outputs": [
    {
     "data": {
      "text/plain": [
       "<matplotlib.lines.Line2D at 0x7ff9319b59a0>"
      ]
     },
     "execution_count": 68,
     "metadata": {},
     "output_type": "execute_result"
    },
    {
     "data": {
      "image/png": "[encoded data removed]",
      "text/plain": [
       "<Figure size 432x288 with 1 Axes>"
      ]
     },
     "metadata": {
      "needs_background": "light"
     },
     "output_type": "display_data"
    }
   ],
   "source": [
    "ax = sns.scatterplot(x=y_test, y=res)\n",
    "ax.set(ylabel='Residuals', xlabel='Test Label')\n",
    "plt.axhline(y=0,color='red',linestyle='--')\n",
    "\n",
    "# there should be no clear pattern / curve in the plot\n",
    "# we see a positive correlation between Test Label and Residuals -> later models should avoid this pattern"
   ]
  },
  {
   "cell_type": "code",
   "execution_count": 69,
   "id": "quality-registration",
   "metadata": {},
   "outputs": [
    {
     "data": {
      "image/png": "[encoded data removed]",
      "text/plain": [
       "<Figure size 432x288 with 1 Axes>"
      ]
     },
     "metadata": {
      "needs_background": "light"
     },
     "output_type": "display_data"
    }
   ],
   "source": [
    "import scipy as sp\n",
    "\n",
    "fig, ax = plt.subplots()\n",
    "sp.stats.probplot(res,plot=ax);"
   ]
  },
  {
   "cell_type": "markdown",
   "id": "altered-plumbing",
   "metadata": {},
   "source": [
    "DONE!"
   ]
  },
  {
   "cell_type": "code",
   "execution_count": null,
   "id": "ideal-willow",
   "metadata": {},
   "outputs": [],
   "source": []
  }
 ],
 "metadata": {
  "kernelspec": {
   "display_name": "Python 3",
   "language": "python",
   "name": "python3"
  },
  "language_info": {
   "codemirror_mode": {
    "name": "ipython",
    "version": 3
   },
   "file_extension": ".py",
   "mimetype": "text/x-python",
   "name": "python",
   "nbconvert_exporter": "python",
   "pygments_lexer": "ipython3",
   "version": "3.8.6"
  }
 },
 "nbformat": 4,
 "nbformat_minor": 5
}
