{
 "cells": [
  {
   "cell_type": "code",
   "execution_count": 1,
   "metadata": {},
   "outputs": [],
   "source": [
    "import numpy as np\n",
    "import pandas as pd\n",
    "import matplotlib.pyplot as plt\n",
    "import seaborn as sns\n",
    "\n",
    "df = pd.read_csv('./data/d-wo-ns.csv')\n",
    "\n",
    "X = df.drop('throughput',axis=1)\n",
    "\n",
    "y = df['throughput']"
   ]
  },
  {
   "cell_type": "markdown",
   "metadata": {},
   "source": [
    "# Scaler Selection\n",
    "---\n",
    "In the last Notebook we examined the Features and their distributions. We concluded non of the Features are normally distributed and the Features have a variaty of scales and units.\n",
    "\n",
    "In this section we settle on the Scaler that yields the best performance in a Linear Regression Model, i.e., the Scaler yields the smallest error metric (MAE, MSE, and RMSE). This will be the baseline model. \n",
    "\n",
    "Note: when fitting data to the Scaler, it's important to fit ONLY on the train data set to avoid data leakage. "
   ]
  },
  {
   "cell_type": "code",
   "execution_count": 2,
   "metadata": {},
   "outputs": [],
   "source": [
    "from sklearn.model_selection import train_test_split\n",
    "X_train, X_test, y_train, y_test = train_test_split(X, y, test_size=0.1, random_state=42)\n",
    "\n",
    "from sklearn import preprocessing\n",
    "mm_scaler = preprocessing.MinMaxScaler()\n",
    "mm_scaler.fit(X_train)\n",
    "\n",
    "rb_scaler = preprocessing.RobustScaler()\n",
    "rb_scaler.fit(X_train)\n",
    "\n",
    "st_scaler = preprocessing.StandardScaler()\n",
    "st_scaler.fit(X_train)\n",
    "\n",
    "scalers = [mm_scaler, rb_scaler, st_scaler]"
   ]
  },
  {
   "cell_type": "code",
   "execution_count": 3,
   "metadata": {},
   "outputs": [
    {
     "data": {
      "text/plain": [
       "[MinMaxScaler(), RobustScaler(), StandardScaler()]"
      ]
     },
     "execution_count": 3,
     "metadata": {},
     "output_type": "execute_result"
    }
   ],
   "source": [
    "scalers"
   ]
  },
  {
   "cell_type": "markdown",
   "metadata": {},
   "source": [
    "# Linear Regression"
   ]
  },
  {
   "cell_type": "code",
   "execution_count": 4,
   "metadata": {},
   "outputs": [],
   "source": [
    "model_name = 'lin'"
   ]
  },
  {
   "cell_type": "code",
   "execution_count": 5,
   "metadata": {},
   "outputs": [],
   "source": [
    "from sklearn.linear_model import LinearRegression\n",
    "model = LinearRegression()"
   ]
  },
  {
   "cell_type": "code",
   "execution_count": 6,
   "metadata": {},
   "outputs": [
    {
     "name": "stdout",
     "output_type": "stream",
     "text": [
      "MinMaxScaler() MAE-scores: [-8.56137455e+09 -4.95564680e+11 -4.28623553e+00 -4.19446020e+00\n",
      " -7.11603122e+10 -4.93175014e+00 -4.29759639e+00 -7.27136753e+10\n",
      " -7.17345955e+11 -4.56699035e+11]\n",
      "MinMaxScaler() MSE-scores: [-1.41463469e+22 -4.73977800e+25 -2.85807561e+01 -2.74393513e+01\n",
      " -4.89049612e+23 -3.80861430e+01 -2.86523498e+01 -1.01515749e+24\n",
      " -4.98494304e+25 -4.00462096e+25]\n",
      "MinMaxScaler() RMSE-scores: [-1.18938416e+11 -6.88460457e+12 -5.34609728e+00 -5.23825842e+00\n",
      " -6.99320822e+11 -6.17139716e+00 -5.35278898e+00 -1.00755024e+12\n",
      " -7.06041291e+12 -6.32820746e+12]\n",
      "MinMaxScaler() done!\n",
      "\n",
      "\n",
      "RobustScaler() MAE-scores: [-4.05999257 -5.23258377 -4.27368365 -4.19665424 -4.65141011 -4.93195488\n",
      " -4.29187386 -4.00130188 -4.775689   -4.68530046]\n",
      "RobustScaler() MSE-scores: [-25.4203735  -42.01663193 -28.45698555 -27.44304367 -33.66199007\n",
      " -38.09133588 -28.58893538 -25.04565529 -32.78869514 -32.86310721]\n",
      "RobustScaler() RMSE-scores: [-5.04186211 -6.48202375 -5.33450893 -5.23861085 -5.80189539 -6.17181788\n",
      " -5.3468622  -5.00456345 -5.72614138 -5.73263528]\n",
      "RobustScaler() done!\n",
      "\n",
      "\n",
      "StandardScaler() MAE-scores: [-3.36691276e+11 -3.50918507e+12 -4.27368365e+00 -4.19665424e+00\n",
      " -2.45445227e+12 -4.93195488e+00 -4.29187386e+00 -6.35726499e+12\n",
      " -9.00747680e+12 -6.41697157e+10]\n",
      "StandardScaler() MSE-scores: [-2.18786759e+25 -2.37667532e+27 -2.84569855e+01 -2.74430437e+01\n",
      " -8.17093771e+26 -3.80913359e+01 -2.85889354e+01 -7.75964508e+27\n",
      " -7.90233911e+27 -7.90608464e+23]\n",
      "StandardScaler() RMSE-scores: [-4.67746469e+12 -4.87511571e+13 -5.33450893e+00 -5.23861085e+00\n",
      " -2.85848521e+13 -6.17181788e+00 -5.34686220e+00 -8.80888476e+13\n",
      " -8.88951017e+13 -8.89161663e+11]\n",
      "StandardScaler() done!\n",
      "\n",
      "\n"
     ]
    }
   ],
   "source": [
    "from sklearn.model_selection import cross_val_score\n",
    "\n",
    "scalers_str = []\n",
    "mae_list = []\n",
    "mse_list = []\n",
    "rmse_list = []\n",
    "\n",
    "for scaler in scalers: \n",
    "    # Scale data\n",
    "    X_train_s = scaler.transform(X_train)\n",
    "    X_test_s = scaler.transform(X_test)\n",
    "    \n",
    "    scores = cross_val_score(model,X_train_s,y_train, scoring='neg_mean_absolute_error',cv=10)\n",
    "    mae_list.append(abs(scores.mean()))\n",
    "    print(f\"{scaler} MAE-scores: {scores}\")\n",
    "    \n",
    "    scores = cross_val_score(model,X_train_s,y_train, scoring='neg_mean_squared_error',cv=10)\n",
    "    mse_list.append(abs(scores.mean()))\n",
    "    print(f\"{scaler} MSE-scores: {scores}\")\n",
    "\n",
    "    scores = cross_val_score(model,X_train_s,y_train, scoring='neg_root_mean_squared_error',cv=10)\n",
    "    rmse_list.append(abs(scores.mean()))\n",
    "    print(f\"{scaler} RMSE-scores: {scores}\")\n",
    "    \n",
    "    print(f\"{scaler} done!\")\n",
    "    print('\\n')\n",
    "    \n",
    "    scalers_str.append(str(scaler))"
   ]
  },
  {
   "cell_type": "code",
   "execution_count": 7,
   "metadata": {},
   "outputs": [],
   "source": [
    "def min_index(l):\n",
    "     return scalers_str[min(range(len(l)), key=l.__getitem__)]"
   ]
  },
  {
   "cell_type": "code",
   "execution_count": 8,
   "metadata": {},
   "outputs": [
    {
     "data": {
      "text/plain": [
       "'RobustScaler()'"
      ]
     },
     "execution_count": 8,
     "metadata": {},
     "output_type": "execute_result"
    }
   ],
   "source": [
    "min_index(mae_list)"
   ]
  },
  {
   "cell_type": "code",
   "execution_count": 9,
   "metadata": {},
   "outputs": [
    {
     "data": {
      "text/plain": [
       "'RobustScaler()'"
      ]
     },
     "execution_count": 9,
     "metadata": {},
     "output_type": "execute_result"
    }
   ],
   "source": [
    "min_index(mse_list)"
   ]
  },
  {
   "cell_type": "code",
   "execution_count": 10,
   "metadata": {},
   "outputs": [
    {
     "data": {
      "text/plain": [
       "'RobustScaler()'"
      ]
     },
     "execution_count": 10,
     "metadata": {},
     "output_type": "execute_result"
    }
   ],
   "source": [
    "min_index(rmse_list)"
   ]
  },
  {
   "cell_type": "code",
   "execution_count": 11,
   "metadata": {},
   "outputs": [],
   "source": [
    "err_list = [mae_list, mse_list, rmse_list]"
   ]
  },
  {
   "cell_type": "code",
   "execution_count": 12,
   "metadata": {},
   "outputs": [],
   "source": [
    "err_df = pd.DataFrame(columns=scalers_str, data=err_list, index=['MAE','MSE','RMSE'])"
   ]
  },
  {
   "cell_type": "code",
   "execution_count": 13,
   "metadata": {},
   "outputs": [
    {
     "data": {
      "text/html": [
       "<div>\n",
       "<style scoped>\n",
       "    .dataframe tbody tr th:only-of-type {\n",
       "        vertical-align: middle;\n",
       "    }\n",
       "\n",
       "    .dataframe tbody tr th {\n",
       "        vertical-align: top;\n",
       "    }\n",
       "\n",
       "    .dataframe thead th {\n",
       "        text-align: right;\n",
       "    }\n",
       "</style>\n",
       "<table border=\"1\" class=\"dataframe\">\n",
       "  <thead>\n",
       "    <tr style=\"text-align: right;\">\n",
       "      <th></th>\n",
       "      <th>MinMaxScaler()</th>\n",
       "      <th>RobustScaler()</th>\n",
       "      <th>StandardScaler()</th>\n",
       "    </tr>\n",
       "  </thead>\n",
       "  <tbody>\n",
       "    <tr>\n",
       "      <th>MAE</th>\n",
       "      <td>1.822045e+11</td>\n",
       "      <td>4.510044</td>\n",
       "      <td>2.172924e+12</td>\n",
       "    </tr>\n",
       "    <tr>\n",
       "      <th>MSE</th>\n",
       "      <td>1.388118e+25</td>\n",
       "      <td>31.437675</td>\n",
       "      <td>1.887842e+27</td>\n",
       "    </tr>\n",
       "    <tr>\n",
       "      <th>RMSE</th>\n",
       "      <td>2.209903e+12</td>\n",
       "      <td>5.588092</td>\n",
       "      <td>2.598866e+13</td>\n",
       "    </tr>\n",
       "  </tbody>\n",
       "</table>\n",
       "</div>"
      ],
      "text/plain": [
       "      MinMaxScaler()  RobustScaler()  StandardScaler()\n",
       "MAE     1.822045e+11        4.510044      2.172924e+12\n",
       "MSE     1.388118e+25       31.437675      1.887842e+27\n",
       "RMSE    2.209903e+12        5.588092      2.598866e+13"
      ]
     },
     "execution_count": 13,
     "metadata": {},
     "output_type": "execute_result"
    }
   ],
   "source": [
    "err_df\n",
    "# -> model produces bad predictions! -> skip linear model with no regularization and go straigth to elastic net model"
   ]
  },
  {
   "cell_type": "code",
   "execution_count": 14,
   "metadata": {},
   "outputs": [],
   "source": [
    "err_df.to_csv(f'./scaler-err/{model_name}-wo.csv')"
   ]
  },
  {
   "cell_type": "markdown",
   "metadata": {},
   "source": [
    "# Poisson Regressor"
   ]
  },
  {
   "cell_type": "code",
   "execution_count": 15,
   "metadata": {},
   "outputs": [],
   "source": [
    "model_name = 'poi'"
   ]
  },
  {
   "cell_type": "code",
   "execution_count": 16,
   "metadata": {},
   "outputs": [],
   "source": [
    "from sklearn.linear_model import PoissonRegressor\n",
    "model = PoissonRegressor()"
   ]
  },
  {
   "cell_type": "code",
   "execution_count": 17,
   "metadata": {},
   "outputs": [
    {
     "name": "stdout",
     "output_type": "stream",
     "text": [
      "MinMaxScaler() MAE-scores: [-5.12749283 -5.9137481  -5.13333563 -5.22435439 -5.62168201 -5.39582849\n",
      " -4.7990192  -5.17076078 -5.4893257  -5.27806285]\n",
      "MinMaxScaler() MSE-scores: [-36.79626515 -49.82908155 -38.39794681 -38.72531133 -46.0741724\n",
      " -42.45565127 -34.68344399 -38.69858346 -42.86752053 -41.05275678]\n",
      "MinMaxScaler() RMSE-scores: [-6.06599251 -7.05897171 -6.19660769 -6.22296644 -6.78779584 -6.51580012\n",
      " -5.88926515 -6.22081855 -6.54732927 -6.40724253]\n",
      "MinMaxScaler() done!\n",
      "\n",
      "\n",
      "RobustScaler() MAE-scores: [-4.37877267 -5.22383166 -4.65221504 -4.70955294 -4.89569948 -5.15580498\n",
      " -4.44712911 -4.61277363 -4.95985894 -4.74238624]\n",
      "RobustScaler() MSE-scores: [-28.76991647 -41.72242104 -33.7929554  -32.80201863 -37.89693255\n",
      " -41.03936851 -31.1489553  -31.78570084 -36.77056208 -32.82756382]\n",
      "RobustScaler() RMSE-scores: [-5.36375955 -6.45928951 -5.81317086 -5.72730466 -6.15604845 -6.40619766\n",
      " -5.58112491 -5.63788088 -6.06387352 -5.72953435]\n",
      "RobustScaler() done!\n",
      "\n",
      "\n",
      "StandardScaler() MAE-scores: [-4.1699534  -5.09268241 -4.32815717 -4.33852565 -4.68839618 -4.94233519\n",
      " -4.33800325 -4.2567723  -4.92343888 -4.69766079]\n",
      "StandardScaler() MSE-scores: [-26.69471695 -41.08369822 -28.8605192  -29.91470802 -33.30201277\n",
      " -36.73184812 -29.11290065 -27.39212474 -35.37785697 -32.13859264]\n",
      "StandardScaler() RMSE-scores: [-5.16669304 -6.40965664 -5.37219873 -5.46943398 -5.77078961 -6.0606805\n",
      " -5.39563719 -5.23374863 -5.9479288  -5.66909099]\n",
      "StandardScaler() done!\n",
      "\n",
      "\n"
     ]
    }
   ],
   "source": [
    "from sklearn.model_selection import cross_val_score\n",
    "\n",
    "scalers_str = []\n",
    "mae_list = []\n",
    "mse_list = []\n",
    "rmse_list = []\n",
    "\n",
    "for scaler in scalers: \n",
    "    # Scale data\n",
    "    X_train_s = scaler.transform(X_train)\n",
    "    X_test_s = scaler.transform(X_test)\n",
    "    \n",
    "    scores = cross_val_score(model,X_train_s,y_train, scoring='neg_mean_absolute_error',cv=10)\n",
    "    mae_list.append(abs(scores.mean()))\n",
    "    print(f\"{scaler} MAE-scores: {scores}\")\n",
    "    \n",
    "    scores = cross_val_score(model,X_train_s,y_train, scoring='neg_mean_squared_error',cv=10)\n",
    "    mse_list.append(abs(scores.mean()))\n",
    "    print(f\"{scaler} MSE-scores: {scores}\")\n",
    "\n",
    "    scores = cross_val_score(model,X_train_s,y_train, scoring='neg_root_mean_squared_error',cv=10)\n",
    "    rmse_list.append(abs(scores.mean()))\n",
    "    print(f\"{scaler} RMSE-scores: {scores}\")\n",
    "    \n",
    "    print(f\"{scaler} done!\")\n",
    "    print('\\n')\n",
    "    \n",
    "    scalers_str.append(str(scaler))"
   ]
  },
  {
   "cell_type": "code",
   "execution_count": 18,
   "metadata": {},
   "outputs": [
    {
     "data": {
      "text/plain": [
       "'StandardScaler()'"
      ]
     },
     "execution_count": 18,
     "metadata": {},
     "output_type": "execute_result"
    }
   ],
   "source": [
    "min_index(mae_list)"
   ]
  },
  {
   "cell_type": "code",
   "execution_count": 19,
   "metadata": {},
   "outputs": [
    {
     "data": {
      "text/plain": [
       "'StandardScaler()'"
      ]
     },
     "execution_count": 19,
     "metadata": {},
     "output_type": "execute_result"
    }
   ],
   "source": [
    "min_index(mse_list)"
   ]
  },
  {
   "cell_type": "code",
   "execution_count": 20,
   "metadata": {},
   "outputs": [
    {
     "data": {
      "text/plain": [
       "'StandardScaler()'"
      ]
     },
     "execution_count": 20,
     "metadata": {},
     "output_type": "execute_result"
    }
   ],
   "source": [
    "min_index(rmse_list)"
   ]
  },
  {
   "cell_type": "code",
   "execution_count": 21,
   "metadata": {},
   "outputs": [],
   "source": [
    "err_list = [mae_list, mse_list, rmse_list]"
   ]
  },
  {
   "cell_type": "code",
   "execution_count": 22,
   "metadata": {},
   "outputs": [],
   "source": [
    "err_df = pd.DataFrame(columns=scalers_str, data=err_list, index=['MAE','MSE','RMSE'])"
   ]
  },
  {
   "cell_type": "code",
   "execution_count": 23,
   "metadata": {},
   "outputs": [
    {
     "data": {
      "text/html": [
       "<div>\n",
       "<style scoped>\n",
       "    .dataframe tbody tr th:only-of-type {\n",
       "        vertical-align: middle;\n",
       "    }\n",
       "\n",
       "    .dataframe tbody tr th {\n",
       "        vertical-align: top;\n",
       "    }\n",
       "\n",
       "    .dataframe thead th {\n",
       "        text-align: right;\n",
       "    }\n",
       "</style>\n",
       "<table border=\"1\" class=\"dataframe\">\n",
       "  <thead>\n",
       "    <tr style=\"text-align: right;\">\n",
       "      <th></th>\n",
       "      <th>MinMaxScaler()</th>\n",
       "      <th>RobustScaler()</th>\n",
       "      <th>StandardScaler()</th>\n",
       "    </tr>\n",
       "  </thead>\n",
       "  <tbody>\n",
       "    <tr>\n",
       "      <th>MAE</th>\n",
       "      <td>5.315361</td>\n",
       "      <td>4.777802</td>\n",
       "      <td>4.577593</td>\n",
       "    </tr>\n",
       "    <tr>\n",
       "      <th>MSE</th>\n",
       "      <td>40.958073</td>\n",
       "      <td>34.855639</td>\n",
       "      <td>32.060898</td>\n",
       "    </tr>\n",
       "    <tr>\n",
       "      <th>RMSE</th>\n",
       "      <td>6.391279</td>\n",
       "      <td>5.893818</td>\n",
       "      <td>5.649586</td>\n",
       "    </tr>\n",
       "  </tbody>\n",
       "</table>\n",
       "</div>"
      ],
      "text/plain": [
       "      MinMaxScaler()  RobustScaler()  StandardScaler()\n",
       "MAE         5.315361        4.777802          4.577593\n",
       "MSE        40.958073       34.855639         32.060898\n",
       "RMSE        6.391279        5.893818          5.649586"
      ]
     },
     "execution_count": 23,
     "metadata": {},
     "output_type": "execute_result"
    }
   ],
   "source": [
    "err_df\n",
    "# -> StandardScaler -> use StandardScaler for Elastic Net also"
   ]
  },
  {
   "cell_type": "code",
   "execution_count": 24,
   "metadata": {},
   "outputs": [],
   "source": [
    "err_df.to_csv(f'./scaler-err/{model_name}-wo.csv')"
   ]
  },
  {
   "cell_type": "markdown",
   "metadata": {},
   "source": [
    "# Support Vector Regressor"
   ]
  },
  {
   "cell_type": "code",
   "execution_count": 25,
   "metadata": {},
   "outputs": [],
   "source": [
    "model_name = 'svr'"
   ]
  },
  {
   "cell_type": "code",
   "execution_count": 26,
   "metadata": {},
   "outputs": [],
   "source": [
    "from sklearn.svm import SVR\n",
    "model = SVR()"
   ]
  },
  {
   "cell_type": "code",
   "execution_count": 27,
   "metadata": {},
   "outputs": [
    {
     "name": "stdout",
     "output_type": "stream",
     "text": [
      "MinMaxScaler() MAE-scores: [-4.46228244 -5.30657891 -4.60207978 -4.64709339 -4.98762856 -4.86015145\n",
      " -4.30809958 -4.63501161 -4.94092774 -4.78183516]\n",
      "MinMaxScaler() MSE-scores: [-29.69795624 -42.44157363 -33.17501143 -32.95183124 -37.67674096\n",
      " -36.89149768 -30.09733418 -32.32265509 -35.9738163  -34.73919184]\n",
      "MinMaxScaler() RMSE-scores: [-5.44958313 -6.51471977 -5.75977529 -5.74036856 -6.13813823 -6.07383715\n",
      " -5.48610373 -5.68530167 -5.99781763 -5.89399625]\n",
      "MinMaxScaler() done!\n",
      "\n",
      "\n",
      "RobustScaler() MAE-scores: [-5.17847904 -5.95791665 -4.97662762 -5.33755831 -5.63063489 -5.27606829\n",
      " -4.89265852 -5.33276772 -5.20913764 -4.89294282]\n",
      "RobustScaler() MSE-scores: [-40.77521156 -51.21665706 -41.19556614 -43.42648076 -47.51224479\n",
      " -43.49107336 -38.3217912  -43.2467605  -42.48746563 -37.04220933]\n",
      "RobustScaler() RMSE-scores: [-6.38554708 -7.15658138 -6.41837722 -6.58987714 -6.89291265 -6.59477622\n",
      " -6.19045969 -6.57622692 -6.51824099 -6.08623113]\n",
      "RobustScaler() done!\n",
      "\n",
      "\n",
      "StandardScaler() MAE-scores: [-4.71601752 -5.81216512 -4.32494005 -4.95631361 -5.31458585 -4.90747729\n",
      " -4.38842206 -4.84909449 -5.0579328  -4.8863633 ]\n",
      "StandardScaler() MSE-scores: [-34.59647689 -51.14282337 -32.07365941 -37.89579679 -44.22256004\n",
      " -38.18812537 -31.61419627 -36.91833501 -40.68851431 -38.17921816]\n",
      "StandardScaler() RMSE-scores: [-5.88187699 -7.15142107 -5.66336114 -6.1559562  -6.65000451 -6.17965415\n",
      " -5.62265029 -6.076046   -6.37875492 -6.17893342]\n",
      "StandardScaler() done!\n",
      "\n",
      "\n"
     ]
    }
   ],
   "source": [
    "from sklearn.model_selection import cross_val_score\n",
    "\n",
    "scalers_str = []\n",
    "mae_list = []\n",
    "mse_list = []\n",
    "rmse_list = []\n",
    "\n",
    "for scaler in scalers: \n",
    "    # Scale data\n",
    "    X_train_s = scaler.transform(X_train)\n",
    "    X_test_s = scaler.transform(X_test)\n",
    "    \n",
    "    scores = cross_val_score(model,X_train_s,y_train, scoring='neg_mean_absolute_error',cv=10)\n",
    "    mae_list.append(abs(scores.mean()))\n",
    "    print(f\"{scaler} MAE-scores: {scores}\")\n",
    "    \n",
    "    scores = cross_val_score(model,X_train_s,y_train, scoring='neg_mean_squared_error',cv=10)\n",
    "    mse_list.append(abs(scores.mean()))\n",
    "    print(f\"{scaler} MSE-scores: {scores}\")\n",
    "\n",
    "    scores = cross_val_score(model,X_train_s,y_train, scoring='neg_root_mean_squared_error',cv=10)\n",
    "    rmse_list.append(abs(scores.mean()))\n",
    "    print(f\"{scaler} RMSE-scores: {scores}\")\n",
    "    \n",
    "    print(f\"{scaler} done!\")\n",
    "    print('\\n')\n",
    "    \n",
    "    scalers_str.append(str(scaler))"
   ]
  },
  {
   "cell_type": "code",
   "execution_count": 28,
   "metadata": {},
   "outputs": [
    {
     "data": {
      "text/plain": [
       "'MinMaxScaler()'"
      ]
     },
     "execution_count": 28,
     "metadata": {},
     "output_type": "execute_result"
    }
   ],
   "source": [
    "min_index(mae_list)"
   ]
  },
  {
   "cell_type": "code",
   "execution_count": 29,
   "metadata": {},
   "outputs": [
    {
     "data": {
      "text/plain": [
       "'MinMaxScaler()'"
      ]
     },
     "execution_count": 29,
     "metadata": {},
     "output_type": "execute_result"
    }
   ],
   "source": [
    "min_index(mse_list)"
   ]
  },
  {
   "cell_type": "code",
   "execution_count": 30,
   "metadata": {},
   "outputs": [
    {
     "data": {
      "text/plain": [
       "'MinMaxScaler()'"
      ]
     },
     "execution_count": 30,
     "metadata": {},
     "output_type": "execute_result"
    }
   ],
   "source": [
    "min_index(rmse_list)"
   ]
  },
  {
   "cell_type": "code",
   "execution_count": 31,
   "metadata": {},
   "outputs": [],
   "source": [
    "err_list = [mae_list, mse_list, rmse_list]"
   ]
  },
  {
   "cell_type": "code",
   "execution_count": 32,
   "metadata": {},
   "outputs": [],
   "source": [
    "err_df = pd.DataFrame(columns=scalers_str, data=err_list, index=['MAE','MSE','RMSE'])"
   ]
  },
  {
   "cell_type": "code",
   "execution_count": 33,
   "metadata": {},
   "outputs": [
    {
     "data": {
      "text/html": [
       "<div>\n",
       "<style scoped>\n",
       "    .dataframe tbody tr th:only-of-type {\n",
       "        vertical-align: middle;\n",
       "    }\n",
       "\n",
       "    .dataframe tbody tr th {\n",
       "        vertical-align: top;\n",
       "    }\n",
       "\n",
       "    .dataframe thead th {\n",
       "        text-align: right;\n",
       "    }\n",
       "</style>\n",
       "<table border=\"1\" class=\"dataframe\">\n",
       "  <thead>\n",
       "    <tr style=\"text-align: right;\">\n",
       "      <th></th>\n",
       "      <th>MinMaxScaler()</th>\n",
       "      <th>RobustScaler()</th>\n",
       "      <th>StandardScaler()</th>\n",
       "    </tr>\n",
       "  </thead>\n",
       "  <tbody>\n",
       "    <tr>\n",
       "      <th>MAE</th>\n",
       "      <td>4.753169</td>\n",
       "      <td>5.268479</td>\n",
       "      <td>4.921331</td>\n",
       "    </tr>\n",
       "    <tr>\n",
       "      <th>MSE</th>\n",
       "      <td>34.596761</td>\n",
       "      <td>42.871546</td>\n",
       "      <td>38.551971</td>\n",
       "    </tr>\n",
       "    <tr>\n",
       "      <th>RMSE</th>\n",
       "      <td>5.873964</td>\n",
       "      <td>6.540923</td>\n",
       "      <td>6.193866</td>\n",
       "    </tr>\n",
       "  </tbody>\n",
       "</table>\n",
       "</div>"
      ],
      "text/plain": [
       "      MinMaxScaler()  RobustScaler()  StandardScaler()\n",
       "MAE         4.753169        5.268479          4.921331\n",
       "MSE        34.596761       42.871546         38.551971\n",
       "RMSE        5.873964        6.540923          6.193866"
      ]
     },
     "execution_count": 33,
     "metadata": {},
     "output_type": "execute_result"
    }
   ],
   "source": [
    "err_df\n",
    "# -> RobustScaler"
   ]
  },
  {
   "cell_type": "code",
   "execution_count": 34,
   "metadata": {},
   "outputs": [],
   "source": [
    "err_df.to_csv(f'./scaler-err/{model_name}-wo.csv')"
   ]
  },
  {
   "cell_type": "code",
   "execution_count": 35,
   "metadata": {},
   "outputs": [],
   "source": [
    "# def highlight_min(s):\n",
    "#     is_min = s == s.min()\n",
    "#     return ['background-color: grey' if v else '' for v in is_min]"
   ]
  },
  {
   "cell_type": "code",
   "execution_count": 36,
   "metadata": {},
   "outputs": [],
   "source": [
    "# scalers_df.transpose().style.apply(highlight_min)"
   ]
  },
  {
   "cell_type": "markdown",
   "metadata": {},
   "source": [
    "# Random Forest Regressor"
   ]
  },
  {
   "cell_type": "code",
   "execution_count": 37,
   "metadata": {},
   "outputs": [],
   "source": [
    "model_name = 'rf'"
   ]
  },
  {
   "cell_type": "code",
   "execution_count": 38,
   "metadata": {},
   "outputs": [],
   "source": [
    "from sklearn.ensemble import RandomForestRegressor\n",
    "model = RandomForestRegressor()"
   ]
  },
  {
   "cell_type": "code",
   "execution_count": 39,
   "metadata": {},
   "outputs": [
    {
     "name": "stdout",
     "output_type": "stream",
     "text": [
      "MinMaxScaler() MAE-scores: [-2.51902018 -3.50414799 -2.94292598 -2.69167594 -2.63451314 -2.65297809\n",
      " -2.97957268 -2.6793037  -2.77528607 -2.67152796]\n",
      "MinMaxScaler() MSE-scores: [-12.1916587  -23.66618305 -17.00152489 -14.9292984  -14.15868393\n",
      " -14.90109344 -16.37634508 -13.61073807 -14.05439817 -12.12381543]\n",
      "MinMaxScaler() RMSE-scores: [-3.52751898 -4.95140921 -4.19418341 -3.77616553 -3.73876079 -3.88201817\n",
      " -4.05718136 -3.6668904  -3.72495327 -3.56538653]\n",
      "MinMaxScaler() done!\n",
      "\n",
      "\n",
      "RobustScaler() MAE-scores: [-2.44751959 -3.44815776 -2.90819867 -2.77134031 -2.63028391 -2.65619106\n",
      " -2.96264054 -2.675063   -2.76715903 -2.59673378]\n",
      "RobustScaler() MSE-scores: [-11.94848838 -23.88055464 -17.36889942 -14.21862585 -13.72196315\n",
      " -15.42610698 -16.44710064 -13.5901223  -13.96846325 -12.60827085]\n",
      "RobustScaler() RMSE-scores: [-3.41178756 -4.88379848 -4.20578423 -3.70797126 -3.74233538 -3.82866818\n",
      " -4.09456665 -3.69072569 -3.70833291 -3.4729535 ]\n",
      "RobustScaler() done!\n",
      "\n",
      "\n",
      "StandardScaler() MAE-scores: [-2.50312713 -3.43964043 -2.89351464 -2.75279858 -2.66248695 -2.66979729\n",
      " -2.9725563  -2.65605149 -2.80990946 -2.58942752]\n",
      "StandardScaler() MSE-scores: [-12.09298775 -23.91852079 -17.72649112 -14.53830982 -13.06125084\n",
      " -15.30432471 -16.34726376 -13.97548212 -13.88758371 -12.70822296]\n",
      "StandardScaler() RMSE-scores: [-3.42548297 -4.81260334 -4.15643308 -3.7806147  -3.76796905 -3.90844735\n",
      " -4.08748815 -3.58766671 -3.76397733 -3.52310858]\n",
      "StandardScaler() done!\n",
      "\n",
      "\n"
     ]
    }
   ],
   "source": [
    "from sklearn.model_selection import cross_val_score\n",
    "\n",
    "scalers_str = []\n",
    "mae_list = []\n",
    "mse_list = []\n",
    "rmse_list = []\n",
    "\n",
    "for scaler in scalers: \n",
    "    # Scale data\n",
    "    X_train_s = scaler.transform(X_train)\n",
    "    X_test_s = scaler.transform(X_test)\n",
    "    \n",
    "    scores = cross_val_score(model,X_train_s,y_train, scoring='neg_mean_absolute_error',cv=10)\n",
    "    mae_list.append(abs(scores.mean()))\n",
    "    print(f\"{scaler} MAE-scores: {scores}\")\n",
    "    \n",
    "    scores = cross_val_score(model,X_train_s,y_train, scoring='neg_mean_squared_error',cv=10)\n",
    "    mse_list.append(abs(scores.mean()))\n",
    "    print(f\"{scaler} MSE-scores: {scores}\")\n",
    "\n",
    "    scores = cross_val_score(model,X_train_s,y_train, scoring='neg_root_mean_squared_error',cv=10)\n",
    "    rmse_list.append(abs(scores.mean()))\n",
    "    print(f\"{scaler} RMSE-scores: {scores}\")\n",
    "    \n",
    "    print(f\"{scaler} done!\")\n",
    "    print('\\n')\n",
    "    \n",
    "    scalers_str.append(str(scaler))"
   ]
  },
  {
   "cell_type": "code",
   "execution_count": 40,
   "metadata": {},
   "outputs": [],
   "source": [
    "def min_index(l):\n",
    "     return scalers_str[min(range(len(l)), key=l.__getitem__)]"
   ]
  },
  {
   "cell_type": "code",
   "execution_count": 41,
   "metadata": {},
   "outputs": [
    {
     "data": {
      "text/plain": [
       "'RobustScaler()'"
      ]
     },
     "execution_count": 41,
     "metadata": {},
     "output_type": "execute_result"
    }
   ],
   "source": [
    "min_index(mae_list)"
   ]
  },
  {
   "cell_type": "code",
   "execution_count": 42,
   "metadata": {},
   "outputs": [
    {
     "data": {
      "text/plain": [
       "'MinMaxScaler()'"
      ]
     },
     "execution_count": 42,
     "metadata": {},
     "output_type": "execute_result"
    }
   ],
   "source": [
    "min_index(mse_list)"
   ]
  },
  {
   "cell_type": "code",
   "execution_count": 43,
   "metadata": {},
   "outputs": [
    {
     "data": {
      "text/plain": [
       "'RobustScaler()'"
      ]
     },
     "execution_count": 43,
     "metadata": {},
     "output_type": "execute_result"
    }
   ],
   "source": [
    "min_index(rmse_list)"
   ]
  },
  {
   "cell_type": "code",
   "execution_count": 44,
   "metadata": {},
   "outputs": [],
   "source": [
    "err_list = [mae_list, mse_list, rmse_list]"
   ]
  },
  {
   "cell_type": "code",
   "execution_count": 45,
   "metadata": {},
   "outputs": [],
   "source": [
    "err_df = pd.DataFrame(columns=scalers_str, data=err_list, index=['MAE','MSE','RMSE'])"
   ]
  },
  {
   "cell_type": "code",
   "execution_count": 46,
   "metadata": {},
   "outputs": [
    {
     "data": {
      "text/html": [
       "<div>\n",
       "<style scoped>\n",
       "    .dataframe tbody tr th:only-of-type {\n",
       "        vertical-align: middle;\n",
       "    }\n",
       "\n",
       "    .dataframe tbody tr th {\n",
       "        vertical-align: top;\n",
       "    }\n",
       "\n",
       "    .dataframe thead th {\n",
       "        text-align: right;\n",
       "    }\n",
       "</style>\n",
       "<table border=\"1\" class=\"dataframe\">\n",
       "  <thead>\n",
       "    <tr style=\"text-align: right;\">\n",
       "      <th></th>\n",
       "      <th>MinMaxScaler()</th>\n",
       "      <th>RobustScaler()</th>\n",
       "      <th>StandardScaler()</th>\n",
       "    </tr>\n",
       "  </thead>\n",
       "  <tbody>\n",
       "    <tr>\n",
       "      <th>MAE</th>\n",
       "      <td>2.805095</td>\n",
       "      <td>2.786329</td>\n",
       "      <td>2.794931</td>\n",
       "    </tr>\n",
       "    <tr>\n",
       "      <th>MSE</th>\n",
       "      <td>15.301374</td>\n",
       "      <td>15.317860</td>\n",
       "      <td>15.356044</td>\n",
       "    </tr>\n",
       "    <tr>\n",
       "      <th>RMSE</th>\n",
       "      <td>3.908447</td>\n",
       "      <td>3.874692</td>\n",
       "      <td>3.881379</td>\n",
       "    </tr>\n",
       "  </tbody>\n",
       "</table>\n",
       "</div>"
      ],
      "text/plain": [
       "      MinMaxScaler()  RobustScaler()  StandardScaler()\n",
       "MAE         2.805095        2.786329          2.794931\n",
       "MSE        15.301374       15.317860         15.356044\n",
       "RMSE        3.908447        3.874692          3.881379"
      ]
     },
     "execution_count": 46,
     "metadata": {},
     "output_type": "execute_result"
    }
   ],
   "source": [
    "err_df\n",
    "# -> RobustScaler (marginal difference)"
   ]
  },
  {
   "cell_type": "code",
   "execution_count": 47,
   "metadata": {},
   "outputs": [],
   "source": [
    "err_df.to_csv(f'./scaler-err/{model_name}-wo.csv')"
   ]
  },
  {
   "cell_type": "markdown",
   "metadata": {},
   "source": [
    "DONE!"
   ]
  },
  {
   "cell_type": "code",
   "execution_count": null,
   "metadata": {},
   "outputs": [],
   "source": []
  }
 ],
 "metadata": {
  "kernelspec": {
   "display_name": "Python 3",
   "language": "python",
   "name": "python3"
  },
  "language_info": {
   "codemirror_mode": {
    "name": "ipython",
    "version": 3
   },
   "file_extension": ".py",
   "mimetype": "text/x-python",
   "name": "python",
   "nbconvert_exporter": "python",
   "pygments_lexer": "ipython3",
   "version": "3.8.6"
  },
  "toc-autonumbering": true
 },
 "nbformat": 4,
 "nbformat_minor": 4
}
