{
 "cells": [
  {
   "cell_type": "code",
   "execution_count": 1,
   "id": "pursuant-crest",
   "metadata": {},
   "outputs": [],
   "source": [
    "# MODIFY! \n",
    "model_name = 'PoiReg'"
   ]
  },
  {
   "cell_type": "markdown",
   "id": "increased-reminder",
   "metadata": {},
   "source": [
    "# Import Libraries & Data "
   ]
  },
  {
   "cell_type": "code",
   "execution_count": 2,
   "id": "front-focus",
   "metadata": {},
   "outputs": [],
   "source": [
    "import numpy as np\n",
    "import pandas as pd\n",
    "import matplotlib.pyplot as plt\n",
    "import seaborn as sns"
   ]
  },
  {
   "cell_type": "code",
   "execution_count": 3,
   "id": "solar-database",
   "metadata": {},
   "outputs": [],
   "source": [
    "df = pd.read_csv('./data/ul-pfe-ns.csv')\n",
    "X = df.drop('throughput',axis=1)\n",
    "y = df['throughput']"
   ]
  },
  {
   "cell_type": "markdown",
   "id": "dying-attendance",
   "metadata": {},
   "source": [
    "---"
   ]
  },
  {
   "cell_type": "markdown",
   "id": "injured-following",
   "metadata": {},
   "source": [
    "# Scale Data"
   ]
  },
  {
   "cell_type": "code",
   "execution_count": 4,
   "id": "dress-visiting",
   "metadata": {},
   "outputs": [
    {
     "data": {
      "text/plain": [
       "StandardScaler()"
      ]
     },
     "execution_count": 4,
     "metadata": {},
     "output_type": "execute_result"
    }
   ],
   "source": [
    "# Split the data\n",
    "from sklearn.model_selection import train_test_split\n",
    "X_train, X_test, y_train, y_test = train_test_split(X, y, test_size=0.1, random_state=42)\n",
    "\n",
    "# Scale the data\n",
    "from sklearn.preprocessing import StandardScaler\n",
    "scaler = StandardScaler()\n",
    "scaler.fit(X_train)"
   ]
  },
  {
   "cell_type": "code",
   "execution_count": 5,
   "id": "adjacent-johnston",
   "metadata": {},
   "outputs": [],
   "source": [
    "X_train = scaler.transform(X_train)\n",
    "X_test = scaler.transform(X_test)"
   ]
  },
  {
   "cell_type": "markdown",
   "id": "medium-medium",
   "metadata": {},
   "source": [
    "# Determine Hyperparameters"
   ]
  },
  {
   "cell_type": "code",
   "execution_count": 6,
   "id": "derived-electric",
   "metadata": {},
   "outputs": [
    {
     "data": {
      "text/plain": [
       "PoissonRegressor()"
      ]
     },
     "execution_count": 6,
     "metadata": {},
     "output_type": "execute_result"
    }
   ],
   "source": [
    "# MODIFY!\n",
    "from sklearn.linear_model import PoissonRegressor\n",
    "\n",
    "model = PoissonRegressor()\n",
    "model"
   ]
  },
  {
   "cell_type": "code",
   "execution_count": 7,
   "id": "ranging-france",
   "metadata": {},
   "outputs": [],
   "source": [
    "alphas = np.linspace(0.1,1,10)"
   ]
  },
  {
   "cell_type": "code",
   "execution_count": 8,
   "id": "billion-theta",
   "metadata": {},
   "outputs": [],
   "source": [
    "p_grid = {\n",
    "    'alpha':alphas,\n",
    "}"
   ]
  },
  {
   "cell_type": "code",
   "execution_count": 9,
   "id": "multiple-movie",
   "metadata": {},
   "outputs": [],
   "source": [
    "from sklearn.model_selection import GridSearchCV"
   ]
  },
  {
   "cell_type": "code",
   "execution_count": 10,
   "id": "amazing-bullet",
   "metadata": {},
   "outputs": [],
   "source": [
    "grid_model = GridSearchCV(\n",
    "    estimator=model,\n",
    "    param_grid =p_grid, \n",
    "    scoring='neg_mean_squared_error',\n",
    "    cv=10, \n",
    "    verbose=1\n",
    ")"
   ]
  },
  {
   "cell_type": "code",
   "execution_count": 11,
   "id": "apparent-prevention",
   "metadata": {},
   "outputs": [
    {
     "name": "stdout",
     "output_type": "stream",
     "text": [
      "Fitting 10 folds for each of 10 candidates, totalling 100 fits\n"
     ]
    },
    {
     "name": "stderr",
     "output_type": "stream",
     "text": [
      "[Parallel(n_jobs=1)]: Using backend SequentialBackend with 1 concurrent workers.\n",
      "[Parallel(n_jobs=1)]: Done 100 out of 100 | elapsed:    5.9s finished\n"
     ]
    },
    {
     "data": {
      "text/plain": [
       "GridSearchCV(cv=10, estimator=PoissonRegressor(),\n",
       "             param_grid={'alpha': array([0.1, 0.2, 0.3, 0.4, 0.5, 0.6, 0.7, 0.8, 0.9, 1. ])},\n",
       "             scoring='neg_mean_squared_error', verbose=1)"
      ]
     },
     "execution_count": 11,
     "metadata": {},
     "output_type": "execute_result"
    }
   ],
   "source": [
    "grid_model.fit(X_train,y_train)"
   ]
  },
  {
   "cell_type": "code",
   "execution_count": 12,
   "id": "eleven-possibility",
   "metadata": {},
   "outputs": [
    {
     "data": {
      "text/plain": [
       "{'alpha': 1.0}"
      ]
     },
     "execution_count": 12,
     "metadata": {},
     "output_type": "execute_result"
    }
   ],
   "source": [
    "grid_model.best_params_"
   ]
  },
  {
   "cell_type": "code",
   "execution_count": 13,
   "id": "running-ordering",
   "metadata": {},
   "outputs": [],
   "source": [
    "hp = pd.Series(name=f'{model_name} HP', data=grid_model.best_params_)"
   ]
  },
  {
   "cell_type": "code",
   "execution_count": 14,
   "id": "filled-louis",
   "metadata": {},
   "outputs": [
    {
     "data": {
      "text/plain": [
       "alpha    1.0\n",
       "Name: PoiReg HP, dtype: float64"
      ]
     },
     "execution_count": 14,
     "metadata": {},
     "output_type": "execute_result"
    }
   ],
   "source": [
    "hp"
   ]
  },
  {
   "cell_type": "code",
   "execution_count": 15,
   "id": "noble-complex",
   "metadata": {},
   "outputs": [],
   "source": [
    "hp.to_csv(f'./hyperparameters/{model_name}-hp.csv')"
   ]
  },
  {
   "cell_type": "markdown",
   "id": "cooperative-bronze",
   "metadata": {},
   "source": [
    "# Score Model"
   ]
  },
  {
   "cell_type": "code",
   "execution_count": 16,
   "id": "oriented-minority",
   "metadata": {},
   "outputs": [
    {
     "data": {
      "text/plain": [
       "PoissonRegressor()"
      ]
     },
     "execution_count": 16,
     "metadata": {},
     "output_type": "execute_result"
    }
   ],
   "source": [
    "# MODIFY! \n",
    "from sklearn.linear_model import PoissonRegressor\n",
    "\n",
    "score_model = PoissonRegressor()\n",
    "score_model"
   ]
  },
  {
   "cell_type": "code",
   "execution_count": 17,
   "id": "adapted-destiny",
   "metadata": {},
   "outputs": [],
   "source": [
    "from sklearn.model_selection import cross_validate\n",
    "\n",
    "scores = cross_validate(\n",
    "    score_model, \n",
    "    X_train, \n",
    "    y_train,\n",
    "    scoring=[\n",
    "        'neg_mean_absolute_error',\n",
    "        'neg_mean_squared_error',\n",
    "        'neg_root_mean_squared_error'\n",
    "    ],\n",
    "    cv=10\n",
    ")"
   ]
  },
  {
   "cell_type": "code",
   "execution_count": 18,
   "id": "southeast-lambda",
   "metadata": {},
   "outputs": [],
   "source": [
    "scores = pd.DataFrame(scores)"
   ]
  },
  {
   "cell_type": "code",
   "execution_count": 19,
   "id": "heated-scholar",
   "metadata": {},
   "outputs": [
    {
     "data": {
      "text/html": [
       "<div>\n",
       "<style scoped>\n",
       "    .dataframe tbody tr th:only-of-type {\n",
       "        vertical-align: middle;\n",
       "    }\n",
       "\n",
       "    .dataframe tbody tr th {\n",
       "        vertical-align: top;\n",
       "    }\n",
       "\n",
       "    .dataframe thead th {\n",
       "        text-align: right;\n",
       "    }\n",
       "</style>\n",
       "<table border=\"1\" class=\"dataframe\">\n",
       "  <thead>\n",
       "    <tr style=\"text-align: right;\">\n",
       "      <th></th>\n",
       "      <th>fit_time</th>\n",
       "      <th>score_time</th>\n",
       "      <th>test_neg_mean_absolute_error</th>\n",
       "      <th>test_neg_mean_squared_error</th>\n",
       "      <th>test_neg_root_mean_squared_error</th>\n",
       "    </tr>\n",
       "  </thead>\n",
       "  <tbody>\n",
       "    <tr>\n",
       "      <th>0</th>\n",
       "      <td>0.074408</td>\n",
       "      <td>0.001688</td>\n",
       "      <td>-4.371805</td>\n",
       "      <td>-28.002827</td>\n",
       "      <td>-5.291770</td>\n",
       "    </tr>\n",
       "    <tr>\n",
       "      <th>1</th>\n",
       "      <td>0.039851</td>\n",
       "      <td>0.002363</td>\n",
       "      <td>-4.700020</td>\n",
       "      <td>-34.152076</td>\n",
       "      <td>-5.843978</td>\n",
       "    </tr>\n",
       "    <tr>\n",
       "      <th>2</th>\n",
       "      <td>0.130457</td>\n",
       "      <td>0.016145</td>\n",
       "      <td>-4.519245</td>\n",
       "      <td>-31.389160</td>\n",
       "      <td>-5.602603</td>\n",
       "    </tr>\n",
       "    <tr>\n",
       "      <th>3</th>\n",
       "      <td>0.105360</td>\n",
       "      <td>0.004713</td>\n",
       "      <td>-4.783225</td>\n",
       "      <td>-33.609064</td>\n",
       "      <td>-5.797333</td>\n",
       "    </tr>\n",
       "    <tr>\n",
       "      <th>4</th>\n",
       "      <td>0.041705</td>\n",
       "      <td>0.001542</td>\n",
       "      <td>-5.048521</td>\n",
       "      <td>-39.462269</td>\n",
       "      <td>-6.281900</td>\n",
       "    </tr>\n",
       "    <tr>\n",
       "      <th>5</th>\n",
       "      <td>0.052571</td>\n",
       "      <td>0.019758</td>\n",
       "      <td>-4.689168</td>\n",
       "      <td>-32.197369</td>\n",
       "      <td>-5.674273</td>\n",
       "    </tr>\n",
       "    <tr>\n",
       "      <th>6</th>\n",
       "      <td>0.075123</td>\n",
       "      <td>0.010258</td>\n",
       "      <td>-4.643607</td>\n",
       "      <td>-32.668878</td>\n",
       "      <td>-5.715670</td>\n",
       "    </tr>\n",
       "    <tr>\n",
       "      <th>7</th>\n",
       "      <td>0.040909</td>\n",
       "      <td>0.001551</td>\n",
       "      <td>-4.204780</td>\n",
       "      <td>-29.305518</td>\n",
       "      <td>-5.413457</td>\n",
       "    </tr>\n",
       "    <tr>\n",
       "      <th>8</th>\n",
       "      <td>0.043127</td>\n",
       "      <td>0.002219</td>\n",
       "      <td>-4.176950</td>\n",
       "      <td>-27.136563</td>\n",
       "      <td>-5.209277</td>\n",
       "    </tr>\n",
       "    <tr>\n",
       "      <th>9</th>\n",
       "      <td>0.028273</td>\n",
       "      <td>0.001544</td>\n",
       "      <td>-4.666097</td>\n",
       "      <td>-33.968527</td>\n",
       "      <td>-5.828252</td>\n",
       "    </tr>\n",
       "  </tbody>\n",
       "</table>\n",
       "</div>"
      ],
      "text/plain": [
       "   fit_time  score_time  test_neg_mean_absolute_error  \\\n",
       "0  0.074408    0.001688                     -4.371805   \n",
       "1  0.039851    0.002363                     -4.700020   \n",
       "2  0.130457    0.016145                     -4.519245   \n",
       "3  0.105360    0.004713                     -4.783225   \n",
       "4  0.041705    0.001542                     -5.048521   \n",
       "5  0.052571    0.019758                     -4.689168   \n",
       "6  0.075123    0.010258                     -4.643607   \n",
       "7  0.040909    0.001551                     -4.204780   \n",
       "8  0.043127    0.002219                     -4.176950   \n",
       "9  0.028273    0.001544                     -4.666097   \n",
       "\n",
       "   test_neg_mean_squared_error  test_neg_root_mean_squared_error  \n",
       "0                   -28.002827                         -5.291770  \n",
       "1                   -34.152076                         -5.843978  \n",
       "2                   -31.389160                         -5.602603  \n",
       "3                   -33.609064                         -5.797333  \n",
       "4                   -39.462269                         -6.281900  \n",
       "5                   -32.197369                         -5.674273  \n",
       "6                   -32.668878                         -5.715670  \n",
       "7                   -29.305518                         -5.413457  \n",
       "8                   -27.136563                         -5.209277  \n",
       "9                   -33.968527                         -5.828252  "
      ]
     },
     "execution_count": 19,
     "metadata": {},
     "output_type": "execute_result"
    }
   ],
   "source": [
    "scores"
   ]
  },
  {
   "cell_type": "code",
   "execution_count": 20,
   "id": "other-damage",
   "metadata": {},
   "outputs": [],
   "source": [
    "mean_scores = scores.mean()"
   ]
  },
  {
   "cell_type": "code",
   "execution_count": 21,
   "id": "amber-agriculture",
   "metadata": {},
   "outputs": [
    {
     "data": {
      "text/plain": [
       "fit_time                             0.063178\n",
       "score_time                           0.006178\n",
       "test_neg_mean_absolute_error        -4.580342\n",
       "test_neg_mean_squared_error        -32.189225\n",
       "test_neg_root_mean_squared_error    -5.665851\n",
       "dtype: float64"
      ]
     },
     "execution_count": 21,
     "metadata": {},
     "output_type": "execute_result"
    }
   ],
   "source": [
    "mean_scores"
   ]
  },
  {
   "cell_type": "markdown",
   "id": "racial-calendar",
   "metadata": {},
   "source": [
    "# Export Model Score"
   ]
  },
  {
   "cell_type": "code",
   "execution_count": 22,
   "id": "postal-handling",
   "metadata": {},
   "outputs": [],
   "source": [
    "mean_scores = mean_scores.rename(f'{model_name}')"
   ]
  },
  {
   "cell_type": "code",
   "execution_count": 23,
   "id": "thermal-cross",
   "metadata": {},
   "outputs": [],
   "source": [
    "mean_scores[[2,3,4]] = mean_scores[[2,3,4]].apply(abs)"
   ]
  },
  {
   "cell_type": "code",
   "execution_count": 24,
   "id": "certified-giving",
   "metadata": {},
   "outputs": [],
   "source": [
    "# mean_scores"
   ]
  },
  {
   "cell_type": "code",
   "execution_count": 25,
   "id": "married-restoration",
   "metadata": {},
   "outputs": [],
   "source": [
    "mean_scores = mean_scores.rename({\n",
    "    'fit_time':'Fit Time',\n",
    "    'score_time':'Score Time',\n",
    "    'test_neg_mean_absolute_error':'MAE',\n",
    "    'test_neg_mean_squared_error':'MSE',\n",
    "    'test_neg_root_mean_squared_error':'RMSE'\n",
    "})"
   ]
  },
  {
   "cell_type": "code",
   "execution_count": 26,
   "id": "later-compound",
   "metadata": {},
   "outputs": [
    {
     "data": {
      "text/plain": [
       "Fit Time       0.063178\n",
       "Score Time     0.006178\n",
       "MAE            4.580342\n",
       "MSE           32.189225\n",
       "RMSE           5.665851\n",
       "Name: PoiReg, dtype: float64"
      ]
     },
     "execution_count": 26,
     "metadata": {},
     "output_type": "execute_result"
    }
   ],
   "source": [
    "mean_scores"
   ]
  },
  {
   "cell_type": "code",
   "execution_count": 27,
   "id": "academic-ministry",
   "metadata": {},
   "outputs": [],
   "source": [
    "mean_scores['STD FT'] = scores.fit_time.std()\n",
    "mean_scores['STD ST'] = scores.score_time.std()\n",
    "mean_scores['STD MAE'] = scores.test_neg_mean_absolute_error.std()\n",
    "mean_scores['STD MSE'] = scores.test_neg_mean_squared_error.std()\n",
    "mean_scores['STD RMSE'] = scores.test_neg_root_mean_squared_error.std()"
   ]
  },
  {
   "cell_type": "code",
   "execution_count": 28,
   "id": "announced-glossary",
   "metadata": {},
   "outputs": [
    {
     "data": {
      "text/plain": [
       "Fit Time       0.063178\n",
       "Score Time     0.006178\n",
       "MAE            4.580342\n",
       "MSE           32.189225\n",
       "RMSE           5.665851\n",
       "STD FT         0.033013\n",
       "STD ST         0.006809\n",
       "STD MAE        0.268508\n",
       "STD MSE        3.561728\n",
       "STD RMSE       0.311548\n",
       "Name: PoiReg, dtype: float64"
      ]
     },
     "execution_count": 28,
     "metadata": {},
     "output_type": "execute_result"
    }
   ],
   "source": [
    "mean_scores"
   ]
  },
  {
   "cell_type": "code",
   "execution_count": 29,
   "id": "occupied-communications",
   "metadata": {},
   "outputs": [],
   "source": [
    "mean_scores.to_csv(f'./scores/{model_name}-score.csv')"
   ]
  },
  {
   "cell_type": "markdown",
   "id": "finite-coral",
   "metadata": {},
   "source": [
    "# Holdout Test"
   ]
  },
  {
   "cell_type": "code",
   "execution_count": 30,
   "id": "infectious-equity",
   "metadata": {},
   "outputs": [
    {
     "data": {
      "text/plain": [
       "PoissonRegressor()"
      ]
     },
     "execution_count": 30,
     "metadata": {},
     "output_type": "execute_result"
    }
   ],
   "source": [
    "score_model.fit(X_train,y_train)"
   ]
  },
  {
   "cell_type": "code",
   "execution_count": 31,
   "id": "insured-biography",
   "metadata": {},
   "outputs": [],
   "source": [
    "y_holdout = score_model.predict(X_test)"
   ]
  },
  {
   "cell_type": "code",
   "execution_count": 32,
   "id": "powered-measure",
   "metadata": {},
   "outputs": [
    {
     "data": {
      "text/plain": [
       "<AxesSubplot:ylabel='Count'>"
      ]
     },
     "execution_count": 32,
     "metadata": {},
     "output_type": "execute_result"
    },
    {
     "data": {
      "image/png": "[encoded data removed]",
      "text/plain": [
       "<Figure size 432x288 with 1 Axes>"
      ]
     },
     "metadata": {
      "needs_background": "light"
     },
     "output_type": "display_data"
    }
   ],
   "source": [
    "sns.histplot(y_holdout,bins=40,kde=True)"
   ]
  },
  {
   "cell_type": "code",
   "execution_count": 33,
   "id": "approximate-fraud",
   "metadata": {},
   "outputs": [
    {
     "data": {
      "text/plain": [
       "<matplotlib.legend.Legend at 0x7fe04a9d8c40>"
      ]
     },
     "execution_count": 33,
     "metadata": {},
     "output_type": "execute_result"
    },
    {
     "data": {
      "image/png": "[encoded data removed]",
      "text/plain": [
       "<Figure size 432x288 with 1 Axes>"
      ]
     },
     "metadata": {
      "needs_background": "light"
     },
     "output_type": "display_data"
    }
   ],
   "source": [
    "fig,ax = plt.subplots()\n",
    "\n",
    "sns.kdeplot(y_test, ax=ax, shade=True, label='Observations')\n",
    "sns.kdeplot(y_holdout, ax=ax,shade=True,label='Predictions')\n",
    "\n",
    "ax.legend(loc='best')"
   ]
  },
  {
   "cell_type": "code",
   "execution_count": 34,
   "id": "tight-concrete",
   "metadata": {},
   "outputs": [
    {
     "data": {
      "text/plain": [
       "<matplotlib.legend.Legend at 0x7fe04aa0cf10>"
      ]
     },
     "execution_count": 34,
     "metadata": {},
     "output_type": "execute_result"
    },
    {
     "data": {
      "image/png": "[encoded data removed]",
      "text/plain": [
       "<Figure size 432x288 with 1 Axes>"
      ]
     },
     "metadata": {
      "needs_background": "light"
     },
     "output_type": "display_data"
    }
   ],
   "source": [
    "fig,ax = plt.subplots()\n",
    "\n",
    "sns.ecdfplot(y_test, ax=ax, label='Observations')\n",
    "sns.ecdfplot(y_holdout, ax=ax,label='Predictions')\n",
    "plt.axvline(x=y_test.mean(),color='grey',linestyle='--')\n",
    "\n",
    "ax.legend(loc='best')"
   ]
  },
  {
   "cell_type": "code",
   "execution_count": 35,
   "id": "positive-blake",
   "metadata": {},
   "outputs": [],
   "source": [
    "from sklearn.metrics import mean_absolute_error, mean_squared_error\n",
    "\n",
    "mae = mean_absolute_error(y_test,y_holdout)\n",
    "mse = mean_squared_error(y_test,y_holdout)\n",
    "rmse = np.sqrt(mse)"
   ]
  },
  {
   "cell_type": "code",
   "execution_count": 36,
   "id": "animal-psychiatry",
   "metadata": {},
   "outputs": [
    {
     "data": {
      "text/html": [
       "<div>\n",
       "<style scoped>\n",
       "    .dataframe tbody tr th:only-of-type {\n",
       "        vertical-align: middle;\n",
       "    }\n",
       "\n",
       "    .dataframe tbody tr th {\n",
       "        vertical-align: top;\n",
       "    }\n",
       "\n",
       "    .dataframe thead th {\n",
       "        text-align: right;\n",
       "    }\n",
       "</style>\n",
       "<table border=\"1\" class=\"dataframe\">\n",
       "  <thead>\n",
       "    <tr style=\"text-align: right;\">\n",
       "      <th></th>\n",
       "      <th>PoiReg</th>\n",
       "    </tr>\n",
       "  </thead>\n",
       "  <tbody>\n",
       "    <tr>\n",
       "      <th>MAE</th>\n",
       "      <td>4.542410</td>\n",
       "    </tr>\n",
       "    <tr>\n",
       "      <th>MSE</th>\n",
       "      <td>32.668446</td>\n",
       "    </tr>\n",
       "    <tr>\n",
       "      <th>RMSE</th>\n",
       "      <td>5.715632</td>\n",
       "    </tr>\n",
       "  </tbody>\n",
       "</table>\n",
       "</div>"
      ],
      "text/plain": [
       "         PoiReg\n",
       "MAE    4.542410\n",
       "MSE   32.668446\n",
       "RMSE   5.715632"
      ]
     },
     "execution_count": 36,
     "metadata": {},
     "output_type": "execute_result"
    }
   ],
   "source": [
    "err_df = pd.DataFrame(data=[mae, mse, rmse],index=['MAE','MSE','RMSE'],columns=[f'{model_name}'])\n",
    "err_df"
   ]
  },
  {
   "cell_type": "code",
   "execution_count": 37,
   "id": "metallic-beast",
   "metadata": {},
   "outputs": [],
   "source": [
    "err_df.to_csv(f'./holdout-test/{model_name}-err.csv')\n",
    "# mean_scores.to_csv(f'./opt-model-err/{model_name}-err.csv')"
   ]
  },
  {
   "cell_type": "code",
   "execution_count": 38,
   "id": "organized-activation",
   "metadata": {},
   "outputs": [
    {
     "data": {
      "text/plain": [
       "mean    -0.506782\n",
       "std      5.707551\n",
       "min    -15.414255\n",
       "25%     -4.127441\n",
       "50%      0.228028\n",
       "75%      3.087458\n",
       "max     15.536146\n",
       "Name: throughput, dtype: float64"
      ]
     },
     "execution_count": 38,
     "metadata": {},
     "output_type": "execute_result"
    }
   ],
   "source": [
    "res = y_test - y_holdout\n",
    "res.describe().drop('count')"
   ]
  },
  {
   "cell_type": "code",
   "execution_count": 39,
   "id": "cooked-copper",
   "metadata": {},
   "outputs": [
    {
     "data": {
      "text/plain": [
       "<AxesSubplot:xlabel='throughput', ylabel='Count'>"
      ]
     },
     "execution_count": 39,
     "metadata": {},
     "output_type": "execute_result"
    },
    {
     "data": {
      "image/png": "[encoded data removed]",
      "text/plain": [
       "<Figure size 432x288 with 1 Axes>"
      ]
     },
     "metadata": {
      "needs_background": "light"
     },
     "output_type": "display_data"
    }
   ],
   "source": [
    "sns.histplot(data=res, kde=True,bins=40)"
   ]
  },
  {
   "cell_type": "code",
   "execution_count": 40,
   "id": "caroline-generic",
   "metadata": {},
   "outputs": [
    {
     "data": {
      "text/plain": [
       "<matplotlib.lines.Line2D at 0x7fe04acdcee0>"
      ]
     },
     "execution_count": 40,
     "metadata": {},
     "output_type": "execute_result"
    },
    {
     "data": {
      "image/png": "[encoded data removed]",
      "text/plain": [
       "<Figure size 432x288 with 1 Axes>"
      ]
     },
     "metadata": {
      "needs_background": "light"
     },
     "output_type": "display_data"
    }
   ],
   "source": [
    "ax = sns.scatterplot(x=y_test, y=res)\n",
    "ax.set(ylabel='Residuals', xlabel='Test Label')\n",
    "plt.axhline(y=0,color='red',linestyle='--')\n",
    "\n",
    "# there should be no clear pattern / curve in the plot\n",
    "# we see a positive correlation between Test Label and Residuals -> later models should avoid this pattern"
   ]
  },
  {
   "cell_type": "code",
   "execution_count": 41,
   "id": "round-emission",
   "metadata": {},
   "outputs": [
    {
     "data": {
      "image/png": "[encoded data removed]",
      "text/plain": [
       "<Figure size 432x288 with 1 Axes>"
      ]
     },
     "metadata": {
      "needs_background": "light"
     },
     "output_type": "display_data"
    }
   ],
   "source": [
    "import scipy as sp\n",
    "\n",
    "fig, ax = plt.subplots()\n",
    "sp.stats.probplot(res,plot=ax);"
   ]
  },
  {
   "cell_type": "markdown",
   "id": "reverse-chile",
   "metadata": {},
   "source": [
    "# Export Optimized Model"
   ]
  },
  {
   "cell_type": "code",
   "execution_count": 42,
   "id": "incorporated-gothic",
   "metadata": {},
   "outputs": [
    {
     "data": {
      "text/plain": [
       "StandardScaler()"
      ]
     },
     "execution_count": 42,
     "metadata": {},
     "output_type": "execute_result"
    }
   ],
   "source": [
    "from sklearn.preprocessing import StandardScaler\n",
    "scaler = StandardScaler()\n",
    "scaler.fit(X)"
   ]
  },
  {
   "cell_type": "code",
   "execution_count": 43,
   "id": "statutory-print",
   "metadata": {},
   "outputs": [
    {
     "data": {
      "text/plain": [
       "PoissonRegressor()"
      ]
     },
     "execution_count": 43,
     "metadata": {},
     "output_type": "execute_result"
    }
   ],
   "source": [
    "# MODIFY! \n",
    "X = scaler.transform(X)\n",
    "\n",
    "op_model = score_model\n",
    "\n",
    "op_model.fit(X,y)"
   ]
  },
  {
   "cell_type": "code",
   "execution_count": 44,
   "id": "technical-chosen",
   "metadata": {},
   "outputs": [],
   "source": [
    "y_pred = op_model.predict(X)"
   ]
  },
  {
   "cell_type": "code",
   "execution_count": 45,
   "id": "spectacular-heater",
   "metadata": {},
   "outputs": [
    {
     "data": {
      "text/plain": [
       "<AxesSubplot:ylabel='Count'>"
      ]
     },
     "execution_count": 45,
     "metadata": {},
     "output_type": "execute_result"
    },
    {
     "data": {
      "image/png": "[encoded data removed]",
      "text/plain": [
       "<Figure size 432x288 with 1 Axes>"
      ]
     },
     "metadata": {
      "needs_background": "light"
     },
     "output_type": "display_data"
    }
   ],
   "source": [
    "sns.histplot(y_pred,bins=40,kde=True)"
   ]
  },
  {
   "cell_type": "code",
   "execution_count": 46,
   "id": "rocky-projection",
   "metadata": {},
   "outputs": [
    {
     "data": {
      "text/plain": [
       "<matplotlib.legend.Legend at 0x7fe0490f1c40>"
      ]
     },
     "execution_count": 46,
     "metadata": {},
     "output_type": "execute_result"
    },
    {
     "data": {
      "image/png": "[encoded data removed]",
      "text/plain": [
       "<Figure size 432x288 with 1 Axes>"
      ]
     },
     "metadata": {
      "needs_background": "light"
     },
     "output_type": "display_data"
    }
   ],
   "source": [
    "fig,ax = plt.subplots()\n",
    "\n",
    "sns.kdeplot(y, ax=ax, shade=True, label='Observations')\n",
    "sns.kdeplot(y_pred, ax=ax,shade=True,label='Predictions')\n",
    "\n",
    "ax.legend(loc='best')"
   ]
  },
  {
   "cell_type": "code",
   "execution_count": 47,
   "id": "satisfactory-exercise",
   "metadata": {},
   "outputs": [
    {
     "data": {
      "text/plain": [
       "<matplotlib.legend.Legend at 0x7fe0491899d0>"
      ]
     },
     "execution_count": 47,
     "metadata": {},
     "output_type": "execute_result"
    },
    {
     "data": {
      "image/png": "[encoded data removed]",
      "text/plain": [
       "<Figure size 432x288 with 1 Axes>"
      ]
     },
     "metadata": {
      "needs_background": "light"
     },
     "output_type": "display_data"
    }
   ],
   "source": [
    "fig,ax = plt.subplots()\n",
    "\n",
    "sns.ecdfplot(y, ax=ax, label='Observations')\n",
    "sns.ecdfplot(y_pred, ax=ax,label='Predictions')\n",
    "plt.axvline(x=y.mean(),color='grey',linestyle='--')\n",
    "\n",
    "ax.legend(loc='best')"
   ]
  },
  {
   "cell_type": "code",
   "execution_count": 48,
   "id": "early-stamp",
   "metadata": {},
   "outputs": [],
   "source": [
    "mae = mean_absolute_error(y,y_pred)\n",
    "mse = mean_squared_error(y,y_pred)\n",
    "rmse = np.sqrt(mse)"
   ]
  },
  {
   "cell_type": "code",
   "execution_count": 49,
   "id": "cheap-theme",
   "metadata": {},
   "outputs": [
    {
     "data": {
      "text/html": [
       "<div>\n",
       "<style scoped>\n",
       "    .dataframe tbody tr th:only-of-type {\n",
       "        vertical-align: middle;\n",
       "    }\n",
       "\n",
       "    .dataframe tbody tr th {\n",
       "        vertical-align: top;\n",
       "    }\n",
       "\n",
       "    .dataframe thead th {\n",
       "        text-align: right;\n",
       "    }\n",
       "</style>\n",
       "<table border=\"1\" class=\"dataframe\">\n",
       "  <thead>\n",
       "    <tr style=\"text-align: right;\">\n",
       "      <th></th>\n",
       "      <th>PoiReg</th>\n",
       "    </tr>\n",
       "  </thead>\n",
       "  <tbody>\n",
       "    <tr>\n",
       "      <th>MAE</th>\n",
       "      <td>4.400952</td>\n",
       "    </tr>\n",
       "    <tr>\n",
       "      <th>MSE</th>\n",
       "      <td>29.553145</td>\n",
       "    </tr>\n",
       "    <tr>\n",
       "      <th>RMSE</th>\n",
       "      <td>5.436280</td>\n",
       "    </tr>\n",
       "  </tbody>\n",
       "</table>\n",
       "</div>"
      ],
      "text/plain": [
       "         PoiReg\n",
       "MAE    4.400952\n",
       "MSE   29.553145\n",
       "RMSE   5.436280"
      ]
     },
     "execution_count": 49,
     "metadata": {},
     "output_type": "execute_result"
    }
   ],
   "source": [
    "err_df = pd.DataFrame(data=[mae, mse, rmse],index=['MAE','MSE','RMSE'],columns=[f'{model_name}'])\n",
    "err_df"
   ]
  },
  {
   "cell_type": "code",
   "execution_count": 50,
   "id": "rotary-clark",
   "metadata": {},
   "outputs": [],
   "source": [
    "err_df.to_csv(f'./model-err/{model_name}-err.csv')\n",
    "# mean_scores.to_csv(f'./opt-model-err/{model_name}-err.csv')"
   ]
  },
  {
   "cell_type": "code",
   "execution_count": 51,
   "id": "scientific-consultation",
   "metadata": {},
   "outputs": [
    {
     "data": {
      "text/plain": [
       "['./opt-models/PoiReg-model.joblib']"
      ]
     },
     "execution_count": 51,
     "metadata": {},
     "output_type": "execute_result"
    }
   ],
   "source": [
    "from joblib import dump, load\n",
    "dump(op_model, f'./opt-models/{model_name}-model.joblib')"
   ]
  },
  {
   "cell_type": "code",
   "execution_count": 52,
   "id": "optical-yesterday",
   "metadata": {},
   "outputs": [
    {
     "data": {
      "text/plain": [
       "mean    -0.000008\n",
       "std      5.437659\n",
       "min    -22.055177\n",
       "25%     -3.712595\n",
       "50%      0.251175\n",
       "75%      3.940791\n",
       "max     15.561038\n",
       "Name: throughput, dtype: float64"
      ]
     },
     "execution_count": 52,
     "metadata": {},
     "output_type": "execute_result"
    }
   ],
   "source": [
    "res = y - y_pred\n",
    "res.describe().drop('count')"
   ]
  },
  {
   "cell_type": "code",
   "execution_count": 53,
   "id": "informational-recording",
   "metadata": {},
   "outputs": [
    {
     "data": {
      "text/plain": [
       "<AxesSubplot:xlabel='throughput', ylabel='Count'>"
      ]
     },
     "execution_count": 53,
     "metadata": {},
     "output_type": "execute_result"
    },
    {
     "data": {
      "image/png": "[encoded data removed]",
      "text/plain": [
       "<Figure size 432x288 with 1 Axes>"
      ]
     },
     "metadata": {
      "needs_background": "light"
     },
     "output_type": "display_data"
    }
   ],
   "source": [
    "sns.histplot(data=res, kde=True,bins=40)"
   ]
  },
  {
   "cell_type": "code",
   "execution_count": 54,
   "id": "governmental-junior",
   "metadata": {},
   "outputs": [
    {
     "data": {
      "text/plain": [
       "<matplotlib.lines.Line2D at 0x7fe04b32bd90>"
      ]
     },
     "execution_count": 54,
     "metadata": {},
     "output_type": "execute_result"
    },
    {
     "data": {
      "image/png": "[encoded data removed]",
      "text/plain": [
       "<Figure size 432x288 with 1 Axes>"
      ]
     },
     "metadata": {
      "needs_background": "light"
     },
     "output_type": "display_data"
    }
   ],
   "source": [
    "ax = sns.scatterplot(x=y_test, y=res)\n",
    "ax.set(ylabel='Residuals', xlabel='Test Label')\n",
    "plt.axhline(y=0,color='red',linestyle='--')\n",
    "\n",
    "# there should be no clear pattern / curve in the plot\n",
    "# we see a positive correlation between Test Label and Residuals -> later models should avoid this pattern"
   ]
  },
  {
   "cell_type": "code",
   "execution_count": 55,
   "id": "serial-transcription",
   "metadata": {},
   "outputs": [
    {
     "data": {
      "image/png": "[encoded data removed]",
      "text/plain": [
       "<Figure size 432x288 with 1 Axes>"
      ]
     },
     "metadata": {
      "needs_background": "light"
     },
     "output_type": "display_data"
    }
   ],
   "source": [
    "import scipy as sp\n",
    "\n",
    "fig, ax = plt.subplots()\n",
    "sp.stats.probplot(res,plot=ax);"
   ]
  },
  {
   "cell_type": "markdown",
   "id": "planned-polymer",
   "metadata": {},
   "source": [
    "DONE!"
   ]
  },
  {
   "cell_type": "code",
   "execution_count": null,
   "id": "expected-declaration",
   "metadata": {},
   "outputs": [],
   "source": []
  }
 ],
 "metadata": {
  "kernelspec": {
   "display_name": "Python 3",
   "language": "python",
   "name": "python3"
  },
  "language_info": {
   "codemirror_mode": {
    "name": "ipython",
    "version": 3
   },
   "file_extension": ".py",
   "mimetype": "text/x-python",
   "name": "python",
   "nbconvert_exporter": "python",
   "pygments_lexer": "ipython3",
   "version": "3.8.6"
  }
 },
 "nbformat": 4,
 "nbformat_minor": 5
}
