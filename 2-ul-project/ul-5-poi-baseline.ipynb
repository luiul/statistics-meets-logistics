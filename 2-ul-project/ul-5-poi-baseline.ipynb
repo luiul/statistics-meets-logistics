{
 "cells": [
  {
   "cell_type": "code",
   "execution_count": 1,
   "metadata": {},
   "outputs": [],
   "source": [
    "import numpy as np\n",
    "import pandas as pd\n",
    "import matplotlib.pyplot as plt\n",
    "import seaborn as sns"
   ]
  },
  {
   "cell_type": "code",
   "execution_count": 2,
   "metadata": {},
   "outputs": [],
   "source": [
    "df = pd.read_csv('./data/ul-pfe-ns.csv')"
   ]
  },
  {
   "cell_type": "code",
   "execution_count": 3,
   "metadata": {},
   "outputs": [],
   "source": [
    "# df.columns"
   ]
  },
  {
   "cell_type": "code",
   "execution_count": 4,
   "metadata": {},
   "outputs": [],
   "source": [
    "# df.head()"
   ]
  },
  {
   "cell_type": "code",
   "execution_count": 5,
   "metadata": {},
   "outputs": [
    {
     "data": {
      "text/plain": [
       "(1972, 80)"
      ]
     },
     "execution_count": 5,
     "metadata": {},
     "output_type": "execute_result"
    }
   ],
   "source": [
    "df.shape"
   ]
  },
  {
   "cell_type": "code",
   "execution_count": 6,
   "metadata": {},
   "outputs": [],
   "source": [
    "# df.info()"
   ]
  },
  {
   "cell_type": "code",
   "execution_count": 7,
   "metadata": {},
   "outputs": [],
   "source": [
    "X = df.drop('throughput',axis=1)"
   ]
  },
  {
   "cell_type": "code",
   "execution_count": 8,
   "metadata": {},
   "outputs": [
    {
     "data": {
      "text/plain": [
       "(1972, 79)"
      ]
     },
     "execution_count": 8,
     "metadata": {},
     "output_type": "execute_result"
    }
   ],
   "source": [
    "X.shape"
   ]
  },
  {
   "cell_type": "code",
   "execution_count": 9,
   "metadata": {},
   "outputs": [],
   "source": [
    "y = df['throughput']"
   ]
  },
  {
   "cell_type": "code",
   "execution_count": 10,
   "metadata": {},
   "outputs": [
    {
     "data": {
      "text/plain": [
       "(1972,)"
      ]
     },
     "execution_count": 10,
     "metadata": {},
     "output_type": "execute_result"
    }
   ],
   "source": [
    "y.shape"
   ]
  },
  {
   "cell_type": "code",
   "execution_count": 11,
   "metadata": {},
   "outputs": [],
   "source": [
    "# Split the data\n",
    "from sklearn.model_selection import train_test_split\n",
    "X_train, X_test, y_train, y_test = train_test_split(X, y, test_size=0.33, random_state=42)\n",
    "\n",
    "# Scale the data\n",
    "from sklearn.preprocessing import StandardScaler\n",
    "scaler = StandardScaler()\n",
    "scaler.fit(X_train)\n",
    "\n",
    "X_train = scaler.transform(X_train)\n",
    "X_test = scaler.transform(X_test)\n",
    "\n",
    "# Instantiate model\n",
    "from sklearn.linear_model import PoissonRegressor\n",
    "model = PoissonRegressor()\n",
    "\n",
    "model.fit(X_train, y_train)\n",
    "\n",
    "y_pred = model.predict(X_test)\n",
    "\n",
    "from sklearn.metrics import mean_absolute_error, mean_squared_error\n",
    "\n",
    "mae = mean_absolute_error(y_test,y_pred)\n",
    "mse = mean_squared_error(y_test,y_pred)\n",
    "rmse = np.sqrt(mse)"
   ]
  },
  {
   "cell_type": "code",
   "execution_count": 12,
   "metadata": {},
   "outputs": [
    {
     "data": {
      "text/plain": [
       "PoissonRegressor()"
      ]
     },
     "execution_count": 12,
     "metadata": {},
     "output_type": "execute_result"
    }
   ],
   "source": [
    "model"
   ]
  },
  {
   "cell_type": "code",
   "execution_count": 13,
   "metadata": {},
   "outputs": [
    {
     "data": {
      "text/plain": [
       "4.542677042108039"
      ]
     },
     "execution_count": 13,
     "metadata": {},
     "output_type": "execute_result"
    }
   ],
   "source": [
    "mae"
   ]
  },
  {
   "cell_type": "code",
   "execution_count": 14,
   "metadata": {},
   "outputs": [
    {
     "data": {
      "text/plain": [
       "31.798869251692146"
      ]
     },
     "execution_count": 14,
     "metadata": {},
     "output_type": "execute_result"
    }
   ],
   "source": [
    "mse"
   ]
  },
  {
   "cell_type": "code",
   "execution_count": 15,
   "metadata": {},
   "outputs": [
    {
     "data": {
      "text/plain": [
       "5.6390486122831165"
      ]
     },
     "execution_count": 15,
     "metadata": {},
     "output_type": "execute_result"
    }
   ],
   "source": [
    "rmse"
   ]
  },
  {
   "cell_type": "code",
   "execution_count": 16,
   "metadata": {},
   "outputs": [
    {
     "data": {
      "text/html": [
       "<div>\n",
       "<style scoped>\n",
       "    .dataframe tbody tr th:only-of-type {\n",
       "        vertical-align: middle;\n",
       "    }\n",
       "\n",
       "    .dataframe tbody tr th {\n",
       "        vertical-align: top;\n",
       "    }\n",
       "\n",
       "    .dataframe thead th {\n",
       "        text-align: right;\n",
       "    }\n",
       "</style>\n",
       "<table border=\"1\" class=\"dataframe\">\n",
       "  <thead>\n",
       "    <tr style=\"text-align: right;\">\n",
       "      <th></th>\n",
       "      <th>PR</th>\n",
       "    </tr>\n",
       "  </thead>\n",
       "  <tbody>\n",
       "    <tr>\n",
       "      <th>MAE</th>\n",
       "      <td>4.542677</td>\n",
       "    </tr>\n",
       "    <tr>\n",
       "      <th>MSE</th>\n",
       "      <td>31.798869</td>\n",
       "    </tr>\n",
       "    <tr>\n",
       "      <th>RMSE</th>\n",
       "      <td>5.639049</td>\n",
       "    </tr>\n",
       "  </tbody>\n",
       "</table>\n",
       "</div>"
      ],
      "text/plain": [
       "             PR\n",
       "MAE    4.542677\n",
       "MSE   31.798869\n",
       "RMSE   5.639049"
      ]
     },
     "execution_count": 16,
     "metadata": {},
     "output_type": "execute_result"
    }
   ],
   "source": [
    "err_df = pd.DataFrame(data=[mae, mse, rmse],index=['MAE','MSE','RMSE'],columns=['PR'])\n",
    "err_df"
   ]
  },
  {
   "cell_type": "code",
   "execution_count": 17,
   "metadata": {},
   "outputs": [],
   "source": [
    "err_df.to_csv('./baseline-test-err/poi-test-err.csv')"
   ]
  },
  {
   "cell_type": "code",
   "execution_count": 18,
   "metadata": {},
   "outputs": [
    {
     "data": {
      "text/html": [
       "<div>\n",
       "<style scoped>\n",
       "    .dataframe tbody tr th:only-of-type {\n",
       "        vertical-align: middle;\n",
       "    }\n",
       "\n",
       "    .dataframe tbody tr th {\n",
       "        vertical-align: top;\n",
       "    }\n",
       "\n",
       "    .dataframe thead th {\n",
       "        text-align: right;\n",
       "    }\n",
       "</style>\n",
       "<table border=\"1\" class=\"dataframe\">\n",
       "  <thead>\n",
       "    <tr style=\"text-align: right;\">\n",
       "      <th></th>\n",
       "      <th>throughput_pred</th>\n",
       "    </tr>\n",
       "  </thead>\n",
       "  <tbody>\n",
       "    <tr>\n",
       "      <th>mean</th>\n",
       "      <td>18.432452</td>\n",
       "    </tr>\n",
       "    <tr>\n",
       "      <th>std</th>\n",
       "      <td>6.756615</td>\n",
       "    </tr>\n",
       "    <tr>\n",
       "      <th>min</th>\n",
       "      <td>6.453409</td>\n",
       "    </tr>\n",
       "    <tr>\n",
       "      <th>25%</th>\n",
       "      <td>13.297340</td>\n",
       "    </tr>\n",
       "    <tr>\n",
       "      <th>50%</th>\n",
       "      <td>17.149236</td>\n",
       "    </tr>\n",
       "    <tr>\n",
       "      <th>75%</th>\n",
       "      <td>22.870785</td>\n",
       "    </tr>\n",
       "    <tr>\n",
       "      <th>max</th>\n",
       "      <td>39.998117</td>\n",
       "    </tr>\n",
       "  </tbody>\n",
       "</table>\n",
       "</div>"
      ],
      "text/plain": [
       "      throughput_pred\n",
       "mean        18.432452\n",
       "std          6.756615\n",
       "min          6.453409\n",
       "25%         13.297340\n",
       "50%         17.149236\n",
       "75%         22.870785\n",
       "max         39.998117"
      ]
     },
     "execution_count": 18,
     "metadata": {},
     "output_type": "execute_result"
    }
   ],
   "source": [
    "y_pred_df = pd.DataFrame(y_pred, columns=['throughput_pred'])\n",
    "y_pred_df.describe().drop('count')\n",
    "# no negative predictions"
   ]
  },
  {
   "cell_type": "code",
   "execution_count": 19,
   "metadata": {},
   "outputs": [
    {
     "data": {
      "text/plain": [
       "<AxesSubplot:ylabel='Count'>"
      ]
     },
     "execution_count": 19,
     "metadata": {},
     "output_type": "execute_result"
    },
    {
     "data": {
      "image/png": "[encoded data removed]",
      "text/plain": [
       "<Figure size 432x288 with 1 Axes>"
      ]
     },
     "metadata": {
      "needs_background": "light"
     },
     "output_type": "display_data"
    }
   ],
   "source": [
    "sns.histplot(y_pred,bins=40,kde=True)\n",
    "# the distribution better reflects the true distribution of the data set"
   ]
  },
  {
   "cell_type": "code",
   "execution_count": 20,
   "metadata": {},
   "outputs": [],
   "source": [
    "# y.describe().drop(['count'])"
   ]
  },
  {
   "cell_type": "code",
   "execution_count": 21,
   "metadata": {},
   "outputs": [
    {
     "data": {
      "text/plain": [
       "mean    -0.266635\n",
       "std      5.637073\n",
       "min    -15.975489\n",
       "25%     -4.102592\n",
       "50%      0.063183\n",
       "75%      3.889723\n",
       "max     15.168491\n",
       "Name: throughput, dtype: float64"
      ]
     },
     "execution_count": 21,
     "metadata": {},
     "output_type": "execute_result"
    }
   ],
   "source": [
    "res = y_test - y_pred\n",
    "res.describe().drop('count')"
   ]
  },
  {
   "cell_type": "code",
   "execution_count": 22,
   "metadata": {},
   "outputs": [
    {
     "data": {
      "text/plain": [
       "<AxesSubplot:xlabel='throughput', ylabel='Count'>"
      ]
     },
     "execution_count": 22,
     "metadata": {},
     "output_type": "execute_result"
    },
    {
     "data": {
      "image/png": "[encoded data removed]",
      "text/plain": [
       "<Figure size 432x288 with 1 Axes>"
      ]
     },
     "metadata": {
      "needs_background": "light"
     },
     "output_type": "display_data"
    }
   ],
   "source": [
    "sns.histplot(data=res, kde=True,bins=40)"
   ]
  },
  {
   "cell_type": "code",
   "execution_count": 23,
   "metadata": {},
   "outputs": [
    {
     "data": {
      "text/plain": [
       "<matplotlib.lines.Line2D at 0x7ff1899ab6a0>"
      ]
     },
     "execution_count": 23,
     "metadata": {},
     "output_type": "execute_result"
    },
    {
     "data": {
      "image/png": "[encoded data removed]",
      "text/plain": [
       "<Figure size 432x288 with 1 Axes>"
      ]
     },
     "metadata": {
      "needs_background": "light"
     },
     "output_type": "display_data"
    }
   ],
   "source": [
    "ax = sns.scatterplot(x=y_test, y=res)\n",
    "ax.set(ylabel='Residuals', xlabel='Test Label')\n",
    "plt.axhline(y=0,color='red',linestyle='--')\n",
    "\n",
    "# there should be no clear pattern / curve in the plot\n",
    "# we see a positive correlation between Test Label and Residuals -> later models should avoid this pattern"
   ]
  },
  {
   "cell_type": "code",
   "execution_count": 24,
   "metadata": {},
   "outputs": [
    {
     "data": {
      "image/png": "[encoded data removed]",
      "text/plain": [
       "<Figure size 432x288 with 1 Axes>"
      ]
     },
     "metadata": {
      "needs_background": "light"
     },
     "output_type": "display_data"
    }
   ],
   "source": [
    "import scipy as sp\n",
    "\n",
    "fig, ax = plt.subplots()\n",
    "sp.stats.probplot(res,plot=ax);"
   ]
  },
  {
   "cell_type": "code",
   "execution_count": 25,
   "metadata": {},
   "outputs": [
    {
     "data": {
      "text/plain": [
       "PoissonRegressor()"
      ]
     },
     "execution_count": 25,
     "metadata": {},
     "output_type": "execute_result"
    }
   ],
   "source": [
    "# Scale the data\n",
    "from sklearn.preprocessing import StandardScaler\n",
    "scaler = StandardScaler()\n",
    "scaler.fit(X)\n",
    "\n",
    "X_poisson = scaler.transform(X)\n",
    "\n",
    "poisson_model = PoissonRegressor()\n",
    "poisson_model.fit(X_poisson,y)"
   ]
  },
  {
   "cell_type": "code",
   "execution_count": 26,
   "metadata": {},
   "outputs": [
    {
     "data": {
      "text/plain": [
       "array([ 8.06053266e-03,  1.05308341e-02,  3.15348868e-03, -1.68046470e-02,\n",
       "        8.93611125e-03,  1.99443103e-02, -2.16359826e-02,  1.74765417e-01,\n",
       "        2.48190916e-02,  3.78117588e-02,  9.66694771e-03, -4.57763584e-02,\n",
       "        2.62397086e-01, -1.11021585e-02,  8.16629996e-02, -1.21088644e-02,\n",
       "        1.77634386e-02,  5.09319984e-03, -4.58907540e-03, -9.83078126e-03,\n",
       "       -2.29079672e-02,  2.12528584e-03, -1.53264789e-03, -1.29045503e-02,\n",
       "       -9.58813697e-03,  1.08159293e-02, -1.97658948e-03,  1.09109298e-02,\n",
       "        4.46988444e-03, -2.34293199e-02, -1.93728585e-03, -2.70713756e-03,\n",
       "        1.64147264e-02,  1.88168471e-03,  2.84052722e-02, -3.04990551e-02,\n",
       "       -3.44078729e-02, -1.61981639e-02,  1.13336848e-02,  4.20018396e-03,\n",
       "        1.69202790e-03, -9.94961063e-03, -5.82956725e-03, -7.30724679e-03,\n",
       "       -7.89333198e-05,  1.18615444e-02, -8.59406976e-03, -4.84763146e-02,\n",
       "       -4.78949698e-03, -3.56325495e-02,  1.19906438e-02,  1.55894007e-02,\n",
       "       -2.56335946e-02, -1.34343836e-02, -2.13568513e-03,  1.20597583e-02,\n",
       "       -3.18390804e-03,  3.54287421e-02,  1.58153634e-04,  1.48036215e-02,\n",
       "       -7.03531876e-03,  2.46188634e-02, -1.49369929e-02,  1.86882341e-03,\n",
       "       -1.46293076e-02, -6.88819474e-03,  1.06145348e-02,  3.48529615e-02,\n",
       "        1.02617540e-02, -6.65223175e-02, -4.82985827e-02,  1.13848851e-02,\n",
       "       -1.73574391e-02, -1.43760378e-02,  1.22689034e-02,  1.73575754e-03,\n",
       "       -2.15657082e-04, -2.34595009e-03, -2.82778863e-03])"
      ]
     },
     "execution_count": 26,
     "metadata": {},
     "output_type": "execute_result"
    }
   ],
   "source": [
    "model.coef_"
   ]
  },
  {
   "cell_type": "code",
   "execution_count": 27,
   "metadata": {},
   "outputs": [],
   "source": [
    "# coef_df = pd.DataFrame(data=model.coef_,index=X.columns,columns=['beta'])\n",
    "# coef_df"
   ]
  },
  {
   "cell_type": "code",
   "execution_count": 28,
   "metadata": {},
   "outputs": [
    {
     "data": {
      "text/plain": [
       "array([ 0.00961324,  0.00529071, -0.00545185, -0.02255334,  0.00105367,\n",
       "        0.01997898, -0.02062518,  0.15640568,  0.04153219,  0.03518498,\n",
       "        0.0121734 , -0.0471521 ,  0.27631241, -0.01845938,  0.08295397,\n",
       "       -0.01593222,  0.01709353,  0.00424671, -0.00208802, -0.00992856,\n",
       "       -0.01552384, -0.00134841, -0.01166473, -0.00611845,  0.00249131,\n",
       "        0.0068871 ,  0.00321377,  0.00945836,  0.00577806, -0.01996561,\n",
       "        0.00426665,  0.00886607,  0.01364429,  0.00116953,  0.02569433,\n",
       "       -0.02996992, -0.03325149, -0.02663574,  0.01979897,  0.00599033,\n",
       "        0.00167237, -0.00175101, -0.00532096, -0.01245243, -0.00133798,\n",
       "        0.01393975, -0.01283805, -0.05126685, -0.00161193, -0.0449608 ,\n",
       "        0.01927094,  0.01302352, -0.02518486, -0.00974108, -0.00038748,\n",
       "        0.00367702, -0.00877956,  0.03130937, -0.00094601,  0.01923887,\n",
       "       -0.0010236 ,  0.01701961, -0.02005901,  0.00313889, -0.00906674,\n",
       "       -0.00867101,  0.01571693,  0.0409536 ,  0.0110682 , -0.05585283,\n",
       "       -0.04809116,  0.0070261 , -0.01959463, -0.01844861,  0.00632408,\n",
       "       -0.00141569, -0.00593975,  0.00101369, -0.01107558])"
      ]
     },
     "execution_count": 28,
     "metadata": {},
     "output_type": "execute_result"
    }
   ],
   "source": [
    "poisson_model.coef_"
   ]
  },
  {
   "cell_type": "code",
   "execution_count": 29,
   "metadata": {},
   "outputs": [],
   "source": [
    "# coef_df = pd.DataFrame(data=poisson_model.coef_,index=X.columns,columns=['beta'])\n",
    "# coef_df"
   ]
  },
  {
   "cell_type": "code",
   "execution_count": 30,
   "metadata": {},
   "outputs": [
    {
     "data": {
      "text/html": [
       "<div>\n",
       "<style scoped>\n",
       "    .dataframe tbody tr th:only-of-type {\n",
       "        vertical-align: middle;\n",
       "    }\n",
       "\n",
       "    .dataframe tbody tr th {\n",
       "        vertical-align: top;\n",
       "    }\n",
       "\n",
       "    .dataframe thead th {\n",
       "        text-align: right;\n",
       "    }\n",
       "</style>\n",
       "<table border=\"1\" class=\"dataframe\">\n",
       "  <thead>\n",
       "    <tr style=\"text-align: right;\">\n",
       "      <th></th>\n",
       "      <th>delta_beta</th>\n",
       "    </tr>\n",
       "  </thead>\n",
       "  <tbody>\n",
       "    <tr>\n",
       "      <th>distance</th>\n",
       "      <td>0.001553</td>\n",
       "    </tr>\n",
       "    <tr>\n",
       "      <th>lat</th>\n",
       "      <td>-0.005240</td>\n",
       "    </tr>\n",
       "    <tr>\n",
       "      <th>lon</th>\n",
       "      <td>-0.008605</td>\n",
       "    </tr>\n",
       "    <tr>\n",
       "      <th>alt</th>\n",
       "      <td>-0.005749</td>\n",
       "    </tr>\n",
       "    <tr>\n",
       "      <th>speed</th>\n",
       "      <td>-0.007882</td>\n",
       "    </tr>\n",
       "    <tr>\n",
       "      <th>...</th>\n",
       "      <td>...</td>\n",
       "    </tr>\n",
       "    <tr>\n",
       "      <th>region_urban</th>\n",
       "      <td>-0.005945</td>\n",
       "    </tr>\n",
       "    <tr>\n",
       "      <th>weekday_Monday</th>\n",
       "      <td>-0.003151</td>\n",
       "    </tr>\n",
       "    <tr>\n",
       "      <th>weekday_Thursday</th>\n",
       "      <td>-0.005724</td>\n",
       "    </tr>\n",
       "    <tr>\n",
       "      <th>weekday_Tuesday</th>\n",
       "      <td>0.003360</td>\n",
       "    </tr>\n",
       "    <tr>\n",
       "      <th>weekday_Wednesday</th>\n",
       "      <td>-0.008248</td>\n",
       "    </tr>\n",
       "  </tbody>\n",
       "</table>\n",
       "<p>79 rows × 1 columns</p>\n",
       "</div>"
      ],
      "text/plain": [
       "                   delta_beta\n",
       "distance             0.001553\n",
       "lat                 -0.005240\n",
       "lon                 -0.008605\n",
       "alt                 -0.005749\n",
       "speed               -0.007882\n",
       "...                       ...\n",
       "region_urban        -0.005945\n",
       "weekday_Monday      -0.003151\n",
       "weekday_Thursday    -0.005724\n",
       "weekday_Tuesday      0.003360\n",
       "weekday_Wednesday   -0.008248\n",
       "\n",
       "[79 rows x 1 columns]"
      ]
     },
     "execution_count": 30,
     "metadata": {},
     "output_type": "execute_result"
    }
   ],
   "source": [
    "delta_df = pd.DataFrame(data=poisson_model.coef_ - model.coef_,index=X.columns,columns=['delta_beta'])\n",
    "delta_df"
   ]
  },
  {
   "cell_type": "code",
   "execution_count": 31,
   "metadata": {},
   "outputs": [
    {
     "data": {
      "text/html": [
       "<div>\n",
       "<style scoped>\n",
       "    .dataframe tbody tr th:only-of-type {\n",
       "        vertical-align: middle;\n",
       "    }\n",
       "\n",
       "    .dataframe tbody tr th {\n",
       "        vertical-align: top;\n",
       "    }\n",
       "\n",
       "    .dataframe thead th {\n",
       "        text-align: right;\n",
       "    }\n",
       "</style>\n",
       "<table border=\"1\" class=\"dataframe\">\n",
       "  <thead>\n",
       "    <tr style=\"text-align: right;\">\n",
       "      <th></th>\n",
       "      <th>rsrp</th>\n",
       "      <th>ci_27771906</th>\n",
       "      <th>ci_26385409</th>\n",
       "      <th>ci_28371201</th>\n",
       "      <th>lon</th>\n",
       "      <th>ci_29401601</th>\n",
       "      <th>weekday_Wednesday</th>\n",
       "      <th>speed</th>\n",
       "      <th>ci_29913346</th>\n",
       "      <th>rtt</th>\n",
       "      <th>region_urban</th>\n",
       "      <th>alt</th>\n",
       "      <th>weekday_Thursday</th>\n",
       "      <th>ci_29563904</th>\n",
       "      <th>lat</th>\n",
       "      <th>ci_28365058</th>\n",
       "      <th>ci_30422273</th>\n",
       "      <th>ci_33837570</th>\n",
       "      <th>ci_28368384</th>\n",
       "      <th>ci_29568768</th>\n",
       "      <th>region_suburban</th>\n",
       "      <th>ci_26796291</th>\n",
       "      <th>hour</th>\n",
       "      <th>ci_26385408</th>\n",
       "      <th>weekday_Monday</th>\n",
       "      <th>ci_28368386</th>\n",
       "      <th>ci_27770888</th>\n",
       "      <th>ci_27771140</th>\n",
       "      <th>sinr</th>\n",
       "      <th>ci_29391104</th>\n",
       "      <th>region_highway</th>\n",
       "      <th>ci_31281409</th>\n",
       "      <th>ci_27256324</th>\n",
       "      <th>ta</th>\n",
       "      <th>ci_28367105</th>\n",
       "      <th>ci_29568769</th>\n",
       "      <th>ci_26378498</th>\n",
       "      <th>ci_27771139</th>\n",
       "      <th>ci_26378497</th>\n",
       "      <th>ci_26378755</th>\n",
       "      <th>ci_27771909</th>\n",
       "      <th>acc</th>\n",
       "      <th>ci_33527561</th>\n",
       "      <th>ci_29391105</th>\n",
       "      <th>ci_28365057</th>\n",
       "      <th>ci_27771904</th>\n",
       "      <th>ci_33527554</th>\n",
       "      <th>dir</th>\n",
       "      <th>ci_27771905</th>\n",
       "      <th>ci_30492930</th>\n",
       "      <th>txPower</th>\n",
       "      <th>ci_27256325</th>\n",
       "      <th>distance</th>\n",
       "      <th>ci_29398276</th>\n",
       "      <th>ci_27771908</th>\n",
       "      <th>ci_28367106</th>\n",
       "      <th>ci_26378754</th>\n",
       "      <th>cqi</th>\n",
       "      <th>ci_28371200</th>\n",
       "      <th>weekday_Tuesday</th>\n",
       "      <th>ci_27299332</th>\n",
       "      <th>ci_29391106</th>\n",
       "      <th>ci_29913344</th>\n",
       "      <th>ci_33519104</th>\n",
       "      <th>ci_27029251</th>\n",
       "      <th>ci_31263232</th>\n",
       "      <th>ci_29913345</th>\n",
       "      <th>ci_33527552</th>\n",
       "      <th>ci_27770883</th>\n",
       "      <th>ci_26385410</th>\n",
       "      <th>ci_28371202</th>\n",
       "      <th>ci_26379013</th>\n",
       "      <th>ci_28365056</th>\n",
       "      <th>ci_27771907</th>\n",
       "      <th>ci_33527559</th>\n",
       "      <th>ci_27770885</th>\n",
       "      <th>ci_26796290</th>\n",
       "      <th>payload</th>\n",
       "      <th>rsrq</th>\n",
       "    </tr>\n",
       "  </thead>\n",
       "  <tbody>\n",
       "    <tr>\n",
       "      <th>delta_beta</th>\n",
       "      <td>-0.01836</td>\n",
       "      <td>-0.010438</td>\n",
       "      <td>-0.010132</td>\n",
       "      <td>-0.009328</td>\n",
       "      <td>-0.008605</td>\n",
       "      <td>-0.008383</td>\n",
       "      <td>-0.008248</td>\n",
       "      <td>-0.007882</td>\n",
       "      <td>-0.007599</td>\n",
       "      <td>-0.007357</td>\n",
       "      <td>-0.005945</td>\n",
       "      <td>-0.005749</td>\n",
       "      <td>-0.005724</td>\n",
       "      <td>-0.005596</td>\n",
       "      <td>-0.00524</td>\n",
       "      <td>-0.005145</td>\n",
       "      <td>-0.005122</td>\n",
       "      <td>-0.004359</td>\n",
       "      <td>-0.004244</td>\n",
       "      <td>-0.004119</td>\n",
       "      <td>-0.004073</td>\n",
       "      <td>-0.003929</td>\n",
       "      <td>-0.003823</td>\n",
       "      <td>-0.003474</td>\n",
       "      <td>-0.003151</td>\n",
       "      <td>-0.002791</td>\n",
       "      <td>-0.00277</td>\n",
       "      <td>-0.002711</td>\n",
       "      <td>-0.002627</td>\n",
       "      <td>-0.002566</td>\n",
       "      <td>-0.002237</td>\n",
       "      <td>-0.001783</td>\n",
       "      <td>-0.001453</td>\n",
       "      <td>-0.001376</td>\n",
       "      <td>-0.001259</td>\n",
       "      <td>-0.001104</td>\n",
       "      <td>-0.000846</td>\n",
       "      <td>-0.000712</td>\n",
       "      <td>-0.00067</td>\n",
       "      <td>-0.000098</td>\n",
       "      <td>-0.00002</td>\n",
       "      <td>0.000035</td>\n",
       "      <td>0.000207</td>\n",
       "      <td>0.000449</td>\n",
       "      <td>0.000509</td>\n",
       "      <td>0.000529</td>\n",
       "      <td>0.000806</td>\n",
       "      <td>0.001011</td>\n",
       "      <td>0.001156</td>\n",
       "      <td>0.00127</td>\n",
       "      <td>0.001291</td>\n",
       "      <td>0.001308</td>\n",
       "      <td>0.001553</td>\n",
       "      <td>0.001748</td>\n",
       "      <td>0.00179</td>\n",
       "      <td>0.002078</td>\n",
       "      <td>0.002501</td>\n",
       "      <td>0.002506</td>\n",
       "      <td>0.003178</td>\n",
       "      <td>0.00336</td>\n",
       "      <td>0.003464</td>\n",
       "      <td>0.003693</td>\n",
       "      <td>0.004435</td>\n",
       "      <td>0.005102</td>\n",
       "      <td>0.00519</td>\n",
       "      <td>0.005563</td>\n",
       "      <td>0.006012</td>\n",
       "      <td>0.006101</td>\n",
       "      <td>0.006204</td>\n",
       "      <td>0.006786</td>\n",
       "      <td>0.00728</td>\n",
       "      <td>0.007384</td>\n",
       "      <td>0.008199</td>\n",
       "      <td>0.008465</td>\n",
       "      <td>0.010669</td>\n",
       "      <td>0.011573</td>\n",
       "      <td>0.012079</td>\n",
       "      <td>0.013915</td>\n",
       "      <td>0.016713</td>\n",
       "    </tr>\n",
       "  </tbody>\n",
       "</table>\n",
       "</div>"
      ],
      "text/plain": [
       "               rsrp  ci_27771906  ci_26385409  ci_28371201       lon  \\\n",
       "delta_beta -0.01836    -0.010438    -0.010132    -0.009328 -0.008605   \n",
       "\n",
       "            ci_29401601  weekday_Wednesday     speed  ci_29913346       rtt  \\\n",
       "delta_beta    -0.008383          -0.008248 -0.007882    -0.007599 -0.007357   \n",
       "\n",
       "            region_urban       alt  weekday_Thursday  ci_29563904      lat  \\\n",
       "delta_beta     -0.005945 -0.005749         -0.005724    -0.005596 -0.00524   \n",
       "\n",
       "            ci_28365058  ci_30422273  ci_33837570  ci_28368384  ci_29568768  \\\n",
       "delta_beta    -0.005145    -0.005122    -0.004359    -0.004244    -0.004119   \n",
       "\n",
       "            region_suburban  ci_26796291      hour  ci_26385408  \\\n",
       "delta_beta        -0.004073    -0.003929 -0.003823    -0.003474   \n",
       "\n",
       "            weekday_Monday  ci_28368386  ci_27770888  ci_27771140      sinr  \\\n",
       "delta_beta       -0.003151    -0.002791     -0.00277    -0.002711 -0.002627   \n",
       "\n",
       "            ci_29391104  region_highway  ci_31281409  ci_27256324        ta  \\\n",
       "delta_beta    -0.002566       -0.002237    -0.001783    -0.001453 -0.001376   \n",
       "\n",
       "            ci_28367105  ci_29568769  ci_26378498  ci_27771139  ci_26378497  \\\n",
       "delta_beta    -0.001259    -0.001104    -0.000846    -0.000712     -0.00067   \n",
       "\n",
       "            ci_26378755  ci_27771909       acc  ci_33527561  ci_29391105  \\\n",
       "delta_beta    -0.000098     -0.00002  0.000035     0.000207     0.000449   \n",
       "\n",
       "            ci_28365057  ci_27771904  ci_33527554       dir  ci_27771905  \\\n",
       "delta_beta     0.000509     0.000529     0.000806  0.001011     0.001156   \n",
       "\n",
       "            ci_30492930   txPower  ci_27256325  distance  ci_29398276  \\\n",
       "delta_beta      0.00127  0.001291     0.001308  0.001553     0.001748   \n",
       "\n",
       "            ci_27771908  ci_28367106  ci_26378754       cqi  ci_28371200  \\\n",
       "delta_beta      0.00179     0.002078     0.002501  0.002506     0.003178   \n",
       "\n",
       "            weekday_Tuesday  ci_27299332  ci_29391106  ci_29913344  \\\n",
       "delta_beta          0.00336     0.003464     0.003693     0.004435   \n",
       "\n",
       "            ci_33519104  ci_27029251  ci_31263232  ci_29913345  ci_33527552  \\\n",
       "delta_beta     0.005102      0.00519     0.005563     0.006012     0.006101   \n",
       "\n",
       "            ci_27770883  ci_26385410  ci_28371202  ci_26379013  ci_28365056  \\\n",
       "delta_beta     0.006204     0.006786      0.00728     0.007384     0.008199   \n",
       "\n",
       "            ci_27771907  ci_33527559  ci_27770885  ci_26796290   payload  \\\n",
       "delta_beta     0.008465     0.010669     0.011573     0.012079  0.013915   \n",
       "\n",
       "                rsrq  \n",
       "delta_beta  0.016713  "
      ]
     },
     "execution_count": 31,
     "metadata": {},
     "output_type": "execute_result"
    }
   ],
   "source": [
    "pd.set_option('display.max_columns',None)\n",
    "delta_df.sort_values('delta_beta').sort_values('delta_beta').transpose()"
   ]
  },
  {
   "cell_type": "code",
   "execution_count": 32,
   "metadata": {},
   "outputs": [
    {
     "data": {
      "text/plain": [
       "<AxesSubplot:ylabel='Count'>"
      ]
     },
     "execution_count": 32,
     "metadata": {},
     "output_type": "execute_result"
    },
    {
     "data": {
      "image/png": "[encoded data removed]",
      "text/plain": [
       "<Figure size 432x288 with 1 Axes>"
      ]
     },
     "metadata": {
      "needs_background": "light"
     },
     "output_type": "display_data"
    }
   ],
   "source": [
    "sns.histplot(data=delta_df,bins=40,kde=True)"
   ]
  },
  {
   "cell_type": "code",
   "execution_count": 33,
   "metadata": {},
   "outputs": [],
   "source": [
    "y_pred_poisson = poisson_model.predict(X_poisson)"
   ]
  },
  {
   "cell_type": "code",
   "execution_count": 34,
   "metadata": {},
   "outputs": [
    {
     "data": {
      "text/plain": [
       "<AxesSubplot:ylabel='Count'>"
      ]
     },
     "execution_count": 34,
     "metadata": {},
     "output_type": "execute_result"
    },
    {
     "data": {
      "image/png": "[encoded data removed]",
      "text/plain": [
       "<Figure size 432x288 with 1 Axes>"
      ]
     },
     "metadata": {
      "needs_background": "light"
     },
     "output_type": "display_data"
    }
   ],
   "source": [
    "sns.histplot(y_pred_poisson,bins=40,kde=True)"
   ]
  },
  {
   "cell_type": "code",
   "execution_count": 35,
   "metadata": {},
   "outputs": [
    {
     "data": {
      "text/plain": [
       "<matplotlib.legend.Legend at 0x7ff18988c9d0>"
      ]
     },
     "execution_count": 35,
     "metadata": {},
     "output_type": "execute_result"
    },
    {
     "data": {
      "image/png": "[encoded data removed]",
      "text/plain": [
       "<Figure size 432x288 with 1 Axes>"
      ]
     },
     "metadata": {
      "needs_background": "light"
     },
     "output_type": "display_data"
    }
   ],
   "source": [
    "fig,ax = plt.subplots()\n",
    "\n",
    "sns.kdeplot(y, ax=ax, shade=True, label='Observations')\n",
    "sns.kdeplot(y_pred_poisson, ax=ax,shade=True,label='Predictions')\n",
    "\n",
    "ax.legend(loc='best')"
   ]
  },
  {
   "cell_type": "code",
   "execution_count": 36,
   "metadata": {},
   "outputs": [
    {
     "data": {
      "text/plain": [
       "<matplotlib.legend.Legend at 0x7ff188274160>"
      ]
     },
     "execution_count": 36,
     "metadata": {},
     "output_type": "execute_result"
    },
    {
     "data": {
      "image/png": "[encoded data removed]",
      "text/plain": [
       "<Figure size 432x288 with 1 Axes>"
      ]
     },
     "metadata": {
      "needs_background": "light"
     },
     "output_type": "display_data"
    }
   ],
   "source": [
    "fig,ax = plt.subplots()\n",
    "\n",
    "sns.ecdfplot(y, ax=ax, label='Observations')\n",
    "sns.ecdfplot(y_pred_poisson, ax=ax,label='Predictions')\n",
    "plt.axvline(x=y.mean(),color='grey',linestyle='--')\n",
    "\n",
    "ax.legend(loc='best')"
   ]
  },
  {
   "cell_type": "code",
   "execution_count": 37,
   "metadata": {},
   "outputs": [],
   "source": [
    "mae = mean_absolute_error(y,y_pred_poisson)\n",
    "mse = mean_squared_error(y,y_pred_poisson)\n",
    "rmse = np.sqrt(mse)"
   ]
  },
  {
   "cell_type": "code",
   "execution_count": 38,
   "metadata": {},
   "outputs": [
    {
     "data": {
      "text/html": [
       "<div>\n",
       "<style scoped>\n",
       "    .dataframe tbody tr th:only-of-type {\n",
       "        vertical-align: middle;\n",
       "    }\n",
       "\n",
       "    .dataframe tbody tr th {\n",
       "        vertical-align: top;\n",
       "    }\n",
       "\n",
       "    .dataframe thead th {\n",
       "        text-align: right;\n",
       "    }\n",
       "</style>\n",
       "<table border=\"1\" class=\"dataframe\">\n",
       "  <thead>\n",
       "    <tr style=\"text-align: right;\">\n",
       "      <th></th>\n",
       "      <th>PR</th>\n",
       "    </tr>\n",
       "  </thead>\n",
       "  <tbody>\n",
       "    <tr>\n",
       "      <th>MAE</th>\n",
       "      <td>4.400952</td>\n",
       "    </tr>\n",
       "    <tr>\n",
       "      <th>MSE</th>\n",
       "      <td>29.553145</td>\n",
       "    </tr>\n",
       "    <tr>\n",
       "      <th>RMSE</th>\n",
       "      <td>5.436280</td>\n",
       "    </tr>\n",
       "  </tbody>\n",
       "</table>\n",
       "</div>"
      ],
      "text/plain": [
       "             PR\n",
       "MAE    4.400952\n",
       "MSE   29.553145\n",
       "RMSE   5.436280"
      ]
     },
     "execution_count": 38,
     "metadata": {},
     "output_type": "execute_result"
    }
   ],
   "source": [
    "err_df = pd.DataFrame(data=[mae, mse, rmse],index=['MAE','MSE','RMSE'],columns=['PR'])\n",
    "err_df"
   ]
  },
  {
   "cell_type": "code",
   "execution_count": 39,
   "metadata": {},
   "outputs": [],
   "source": [
    "# err_df.to_csv('./model-err/poi-model-err.csv')"
   ]
  },
  {
   "cell_type": "code",
   "execution_count": 40,
   "metadata": {},
   "outputs": [
    {
     "data": {
      "text/plain": [
       "['./baseline-models/poi-model.joblib']"
      ]
     },
     "execution_count": 40,
     "metadata": {},
     "output_type": "execute_result"
    }
   ],
   "source": [
    "from joblib import dump, load\n",
    "dump(poisson_model, './baseline-models/poi-model.joblib')"
   ]
  },
  {
   "cell_type": "markdown",
   "metadata": {},
   "source": [
    "DONE!"
   ]
  },
  {
   "cell_type": "code",
   "execution_count": null,
   "metadata": {},
   "outputs": [],
   "source": []
  }
 ],
 "metadata": {
  "kernelspec": {
   "display_name": "Python 3",
   "language": "python",
   "name": "python3"
  },
  "language_info": {
   "codemirror_mode": {
    "name": "ipython",
    "version": 3
   },
   "file_extension": ".py",
   "mimetype": "text/x-python",
   "name": "python",
   "nbconvert_exporter": "python",
   "pygments_lexer": "ipython3",
   "version": "3.8.6"
  }
 },
 "nbformat": 4,
 "nbformat_minor": 4
}
