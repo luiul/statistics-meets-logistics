{
 "cells": [
  {
   "cell_type": "code",
   "execution_count": 1,
   "id": "statistical-phoenix",
   "metadata": {},
   "outputs": [],
   "source": [
    "# MODIFY! \n",
    "# use StandardScaler! \n",
    "model_name = 'RandFoNFE'"
   ]
  },
  {
   "cell_type": "markdown",
   "id": "informal-broadcasting",
   "metadata": {},
   "source": [
    "# Import Libraries & Data "
   ]
  },
  {
   "cell_type": "code",
   "execution_count": 2,
   "id": "beginning-chinese",
   "metadata": {},
   "outputs": [],
   "source": [
    "import numpy as np\n",
    "import pandas as pd\n",
    "import matplotlib.pyplot as plt\n",
    "import seaborn as sns"
   ]
  },
  {
   "cell_type": "code",
   "execution_count": 3,
   "id": "forty-entertainment",
   "metadata": {},
   "outputs": [],
   "source": [
    "df = pd.read_csv('./data/ul-nfe-ns.csv')\n",
    "X = df.drop('throughput',axis=1)\n",
    "y = df['throughput']"
   ]
  },
  {
   "cell_type": "markdown",
   "id": "excellent-investment",
   "metadata": {},
   "source": [
    "---"
   ]
  },
  {
   "cell_type": "markdown",
   "id": "palestinian-lying",
   "metadata": {},
   "source": [
    "# Scale Data"
   ]
  },
  {
   "cell_type": "code",
   "execution_count": 4,
   "id": "breeding-institute",
   "metadata": {},
   "outputs": [
    {
     "data": {
      "text/plain": [
       "StandardScaler()"
      ]
     },
     "execution_count": 4,
     "metadata": {},
     "output_type": "execute_result"
    }
   ],
   "source": [
    "# Split the data\n",
    "from sklearn.model_selection import train_test_split\n",
    "X_train, X_test, y_train, y_test = train_test_split(X, y, test_size=0.1, random_state=42)\n",
    "\n",
    "# Scale the data\n",
    "from sklearn.preprocessing import StandardScaler\n",
    "scaler = StandardScaler()\n",
    "scaler.fit(X_train)"
   ]
  },
  {
   "cell_type": "code",
   "execution_count": 5,
   "id": "concrete-taylor",
   "metadata": {},
   "outputs": [],
   "source": [
    "X_train = scaler.transform(X_train)\n",
    "X_test = scaler.transform(X_test)"
   ]
  },
  {
   "cell_type": "markdown",
   "id": "correct-cross",
   "metadata": {},
   "source": [
    "# Determine Hyperparameters"
   ]
  },
  {
   "cell_type": "markdown",
   "id": "trained-french",
   "metadata": {},
   "source": [
    "## Determine Max Features"
   ]
  },
  {
   "cell_type": "code",
   "execution_count": 6,
   "id": "creative-deposit",
   "metadata": {},
   "outputs": [
    {
     "data": {
      "text/plain": [
       "RandomForestRegressor(warm_start=True)"
      ]
     },
     "execution_count": 6,
     "metadata": {},
     "output_type": "execute_result"
    }
   ],
   "source": [
    "# MODIFY!\n",
    "from sklearn.ensemble import RandomForestRegressor\n",
    "\n",
    "model = RandomForestRegressor(warm_start=True)\n",
    "model"
   ]
  },
  {
   "cell_type": "code",
   "execution_count": 7,
   "id": "desperate-radiation",
   "metadata": {},
   "outputs": [],
   "source": [
    "p_grid = {\n",
    "    'max_features':['auto', 'sqrt', 'log2']\n",
    "}"
   ]
  },
  {
   "cell_type": "code",
   "execution_count": 8,
   "id": "informed-publicity",
   "metadata": {},
   "outputs": [],
   "source": [
    "from sklearn.model_selection import GridSearchCV"
   ]
  },
  {
   "cell_type": "code",
   "execution_count": 9,
   "id": "enclosed-utilization",
   "metadata": {},
   "outputs": [],
   "source": [
    "grid_model = GridSearchCV(\n",
    "    estimator=model,\n",
    "    param_grid =p_grid, \n",
    "    scoring='neg_mean_squared_error',\n",
    "    cv=10, \n",
    "    verbose=1\n",
    ")"
   ]
  },
  {
   "cell_type": "code",
   "execution_count": 10,
   "id": "checked-walker",
   "metadata": {},
   "outputs": [
    {
     "name": "stdout",
     "output_type": "stream",
     "text": [
      "Fitting 10 folds for each of 3 candidates, totalling 30 fits\n"
     ]
    },
    {
     "name": "stderr",
     "output_type": "stream",
     "text": [
      "[Parallel(n_jobs=1)]: Using backend SequentialBackend with 1 concurrent workers.\n",
      "[Parallel(n_jobs=1)]: Done  30 out of  30 | elapsed:   39.2s finished\n"
     ]
    },
    {
     "data": {
      "text/plain": [
       "GridSearchCV(cv=10, estimator=RandomForestRegressor(warm_start=True),\n",
       "             param_grid={'max_features': ['auto', 'sqrt', 'log2']},\n",
       "             scoring='neg_mean_squared_error', verbose=1)"
      ]
     },
     "execution_count": 10,
     "metadata": {},
     "output_type": "execute_result"
    }
   ],
   "source": [
    "grid_model.fit(X_train,y_train)"
   ]
  },
  {
   "cell_type": "code",
   "execution_count": 11,
   "id": "dying-silly",
   "metadata": {},
   "outputs": [
    {
     "data": {
      "text/plain": [
       "{'max_features': 'auto'}"
      ]
     },
     "execution_count": 11,
     "metadata": {},
     "output_type": "execute_result"
    }
   ],
   "source": [
    "grid_model.best_params_"
   ]
  },
  {
   "cell_type": "code",
   "execution_count": 12,
   "id": "competitive-boston",
   "metadata": {},
   "outputs": [],
   "source": [
    "hp = pd.Series(name=f'{model_name} HP', data=grid_model.best_params_)"
   ]
  },
  {
   "cell_type": "code",
   "execution_count": 13,
   "id": "primary-penalty",
   "metadata": {},
   "outputs": [
    {
     "data": {
      "text/plain": [
       "max_features    auto\n",
       "Name: RandFoNFE HP, dtype: object"
      ]
     },
     "execution_count": 13,
     "metadata": {},
     "output_type": "execute_result"
    }
   ],
   "source": [
    "hp"
   ]
  },
  {
   "cell_type": "code",
   "execution_count": 14,
   "id": "valued-leeds",
   "metadata": {},
   "outputs": [],
   "source": [
    "hp.to_csv(f'./hyperparameters/{model_name}-hp.csv')"
   ]
  },
  {
   "cell_type": "markdown",
   "id": "challenging-literature",
   "metadata": {},
   "source": [
    "## Determine Number of Estimators"
   ]
  },
  {
   "cell_type": "code",
   "execution_count": 15,
   "id": "veterinary-reset",
   "metadata": {},
   "outputs": [],
   "source": [
    "# the cell below takes around 14min to run!\n",
    "# print(stop)"
   ]
  },
  {
   "cell_type": "code",
   "execution_count": 16,
   "id": "interstate-retirement",
   "metadata": {},
   "outputs": [
    {
     "name": "stdout",
     "output_type": "stream",
     "text": [
      "Starting 5 estimators\n",
      "Done with 5 estimators\n",
      "Elapsed time: 2.1238059997558594\n",
      "\n",
      "\n",
      "Starting 10 estimators\n",
      "Done with 10 estimators\n",
      "Elapsed time: 3.1475629806518555\n",
      "\n",
      "\n",
      "Starting 25 estimators\n",
      "Done with 25 estimators\n",
      "Elapsed time: 6.7914979457855225\n",
      "\n",
      "\n",
      "Starting 50 estimators\n",
      "Done with 50 estimators\n",
      "Elapsed time: 12.934858083724976\n",
      "\n",
      "\n",
      "Starting 100 estimators\n",
      "Done with 100 estimators\n",
      "Elapsed time: 24.694162845611572\n",
      "\n",
      "\n",
      "Starting 500 estimators\n",
      "Done with 500 estimators\n",
      "Elapsed time: 121.89933681488037\n",
      "\n",
      "\n",
      "Starting 1000 estimators\n",
      "Done with 1000 estimators\n",
      "Elapsed time: 260.5975089073181\n",
      "\n",
      "\n",
      "Starting 2000 estimators\n",
      "Done with 2000 estimators\n",
      "Elapsed time: 494.5819630622864\n",
      "\n",
      "\n"
     ]
    }
   ],
   "source": [
    "# MODIFY!\n",
    "import time\n",
    "\n",
    "estimators = [5,10,25,50,100,500,1000,2000]\n",
    "scores_list = []\n",
    "\n",
    "from sklearn.ensemble import RandomForestRegressor\n",
    "\n",
    "for e in estimators: \n",
    "    start = time.time()\n",
    "    print(f'Starting {e} estimators')\n",
    "    score_model = RandomForestRegressor(\n",
    "        n_estimators=e,\n",
    "        max_features=grid_model.best_params_['max_features']\n",
    "    )\n",
    "    \n",
    "    from sklearn.model_selection import cross_validate\n",
    "\n",
    "    scores = cross_validate(\n",
    "        score_model, \n",
    "        X_train, \n",
    "        y_train,\n",
    "        scoring=[\n",
    "            'neg_mean_absolute_error',\n",
    "            'neg_mean_squared_error',\n",
    "            'neg_root_mean_squared_error'\n",
    "        ],\n",
    "        cv=10\n",
    "    )\n",
    "    \n",
    "    scores = pd.DataFrame(scores)\n",
    "    scores\n",
    "    mean_scores = scores.mean()\n",
    "    scores_list.append(mean_scores)\n",
    "    print(f'Done with {e} estimators')\n",
    "    end = time.time()\n",
    "    print(f'Elapsed time: {end - start}')\n",
    "    print('\\n')"
   ]
  },
  {
   "cell_type": "code",
   "execution_count": 17,
   "id": "forward-placement",
   "metadata": {},
   "outputs": [],
   "source": [
    "scores_df = pd.DataFrame(scores_list)"
   ]
  },
  {
   "cell_type": "code",
   "execution_count": 18,
   "id": "greenhouse-conflict",
   "metadata": {},
   "outputs": [
    {
     "data": {
      "text/html": [
       "<div>\n",
       "<style scoped>\n",
       "    .dataframe tbody tr th:only-of-type {\n",
       "        vertical-align: middle;\n",
       "    }\n",
       "\n",
       "    .dataframe tbody tr th {\n",
       "        vertical-align: top;\n",
       "    }\n",
       "\n",
       "    .dataframe thead th {\n",
       "        text-align: right;\n",
       "    }\n",
       "</style>\n",
       "<table border=\"1\" class=\"dataframe\">\n",
       "  <thead>\n",
       "    <tr style=\"text-align: right;\">\n",
       "      <th></th>\n",
       "      <th>fit_time</th>\n",
       "      <th>score_time</th>\n",
       "      <th>test_neg_mean_absolute_error</th>\n",
       "      <th>test_neg_mean_squared_error</th>\n",
       "      <th>test_neg_root_mean_squared_error</th>\n",
       "    </tr>\n",
       "  </thead>\n",
       "  <tbody>\n",
       "    <tr>\n",
       "      <th>0</th>\n",
       "      <td>0.205012</td>\n",
       "      <td>0.005914</td>\n",
       "      <td>-3.049253</td>\n",
       "      <td>-18.593728</td>\n",
       "      <td>-4.288233</td>\n",
       "    </tr>\n",
       "    <tr>\n",
       "      <th>1</th>\n",
       "      <td>0.308070</td>\n",
       "      <td>0.005704</td>\n",
       "      <td>-2.930909</td>\n",
       "      <td>-16.745894</td>\n",
       "      <td>-4.073271</td>\n",
       "    </tr>\n",
       "    <tr>\n",
       "      <th>2</th>\n",
       "      <td>0.670389</td>\n",
       "      <td>0.007425</td>\n",
       "      <td>-2.848866</td>\n",
       "      <td>-15.815872</td>\n",
       "      <td>-3.959069</td>\n",
       "    </tr>\n",
       "    <tr>\n",
       "      <th>3</th>\n",
       "      <td>1.279635</td>\n",
       "      <td>0.011201</td>\n",
       "      <td>-2.826264</td>\n",
       "      <td>-15.499005</td>\n",
       "      <td>-3.919313</td>\n",
       "    </tr>\n",
       "    <tr>\n",
       "      <th>4</th>\n",
       "      <td>2.449979</td>\n",
       "      <td>0.016490</td>\n",
       "      <td>-2.800052</td>\n",
       "      <td>-15.300432</td>\n",
       "      <td>-3.890447</td>\n",
       "    </tr>\n",
       "    <tr>\n",
       "      <th>5</th>\n",
       "      <td>12.093498</td>\n",
       "      <td>0.084982</td>\n",
       "      <td>-2.797907</td>\n",
       "      <td>-15.301506</td>\n",
       "      <td>-3.891844</td>\n",
       "    </tr>\n",
       "    <tr>\n",
       "      <th>6</th>\n",
       "      <td>25.861182</td>\n",
       "      <td>0.170998</td>\n",
       "      <td>-2.790042</td>\n",
       "      <td>-15.217314</td>\n",
       "      <td>-3.881390</td>\n",
       "    </tr>\n",
       "    <tr>\n",
       "      <th>7</th>\n",
       "      <td>49.044987</td>\n",
       "      <td>0.356268</td>\n",
       "      <td>-2.783829</td>\n",
       "      <td>-15.130904</td>\n",
       "      <td>-3.870247</td>\n",
       "    </tr>\n",
       "  </tbody>\n",
       "</table>\n",
       "</div>"
      ],
      "text/plain": [
       "    fit_time  score_time  test_neg_mean_absolute_error  \\\n",
       "0   0.205012    0.005914                     -3.049253   \n",
       "1   0.308070    0.005704                     -2.930909   \n",
       "2   0.670389    0.007425                     -2.848866   \n",
       "3   1.279635    0.011201                     -2.826264   \n",
       "4   2.449979    0.016490                     -2.800052   \n",
       "5  12.093498    0.084982                     -2.797907   \n",
       "6  25.861182    0.170998                     -2.790042   \n",
       "7  49.044987    0.356268                     -2.783829   \n",
       "\n",
       "   test_neg_mean_squared_error  test_neg_root_mean_squared_error  \n",
       "0                   -18.593728                         -4.288233  \n",
       "1                   -16.745894                         -4.073271  \n",
       "2                   -15.815872                         -3.959069  \n",
       "3                   -15.499005                         -3.919313  \n",
       "4                   -15.300432                         -3.890447  \n",
       "5                   -15.301506                         -3.891844  \n",
       "6                   -15.217314                         -3.881390  \n",
       "7                   -15.130904                         -3.870247  "
      ]
     },
     "execution_count": 18,
     "metadata": {},
     "output_type": "execute_result"
    }
   ],
   "source": [
    "scores_df"
   ]
  },
  {
   "cell_type": "code",
   "execution_count": 19,
   "id": "smooth-chosen",
   "metadata": {},
   "outputs": [],
   "source": [
    "scores_df['Est'] = estimators"
   ]
  },
  {
   "cell_type": "code",
   "execution_count": 20,
   "id": "amended-louisiana",
   "metadata": {},
   "outputs": [
    {
     "data": {
      "text/html": [
       "<div>\n",
       "<style scoped>\n",
       "    .dataframe tbody tr th:only-of-type {\n",
       "        vertical-align: middle;\n",
       "    }\n",
       "\n",
       "    .dataframe tbody tr th {\n",
       "        vertical-align: top;\n",
       "    }\n",
       "\n",
       "    .dataframe thead th {\n",
       "        text-align: right;\n",
       "    }\n",
       "</style>\n",
       "<table border=\"1\" class=\"dataframe\">\n",
       "  <thead>\n",
       "    <tr style=\"text-align: right;\">\n",
       "      <th></th>\n",
       "      <th>fit_time</th>\n",
       "      <th>score_time</th>\n",
       "      <th>test_neg_mean_absolute_error</th>\n",
       "      <th>test_neg_mean_squared_error</th>\n",
       "      <th>test_neg_root_mean_squared_error</th>\n",
       "      <th>Est</th>\n",
       "    </tr>\n",
       "  </thead>\n",
       "  <tbody>\n",
       "    <tr>\n",
       "      <th>0</th>\n",
       "      <td>0.205012</td>\n",
       "      <td>0.005914</td>\n",
       "      <td>-3.049253</td>\n",
       "      <td>-18.593728</td>\n",
       "      <td>-4.288233</td>\n",
       "      <td>5</td>\n",
       "    </tr>\n",
       "    <tr>\n",
       "      <th>1</th>\n",
       "      <td>0.308070</td>\n",
       "      <td>0.005704</td>\n",
       "      <td>-2.930909</td>\n",
       "      <td>-16.745894</td>\n",
       "      <td>-4.073271</td>\n",
       "      <td>10</td>\n",
       "    </tr>\n",
       "    <tr>\n",
       "      <th>2</th>\n",
       "      <td>0.670389</td>\n",
       "      <td>0.007425</td>\n",
       "      <td>-2.848866</td>\n",
       "      <td>-15.815872</td>\n",
       "      <td>-3.959069</td>\n",
       "      <td>25</td>\n",
       "    </tr>\n",
       "    <tr>\n",
       "      <th>3</th>\n",
       "      <td>1.279635</td>\n",
       "      <td>0.011201</td>\n",
       "      <td>-2.826264</td>\n",
       "      <td>-15.499005</td>\n",
       "      <td>-3.919313</td>\n",
       "      <td>50</td>\n",
       "    </tr>\n",
       "    <tr>\n",
       "      <th>4</th>\n",
       "      <td>2.449979</td>\n",
       "      <td>0.016490</td>\n",
       "      <td>-2.800052</td>\n",
       "      <td>-15.300432</td>\n",
       "      <td>-3.890447</td>\n",
       "      <td>100</td>\n",
       "    </tr>\n",
       "    <tr>\n",
       "      <th>5</th>\n",
       "      <td>12.093498</td>\n",
       "      <td>0.084982</td>\n",
       "      <td>-2.797907</td>\n",
       "      <td>-15.301506</td>\n",
       "      <td>-3.891844</td>\n",
       "      <td>500</td>\n",
       "    </tr>\n",
       "    <tr>\n",
       "      <th>6</th>\n",
       "      <td>25.861182</td>\n",
       "      <td>0.170998</td>\n",
       "      <td>-2.790042</td>\n",
       "      <td>-15.217314</td>\n",
       "      <td>-3.881390</td>\n",
       "      <td>1000</td>\n",
       "    </tr>\n",
       "    <tr>\n",
       "      <th>7</th>\n",
       "      <td>49.044987</td>\n",
       "      <td>0.356268</td>\n",
       "      <td>-2.783829</td>\n",
       "      <td>-15.130904</td>\n",
       "      <td>-3.870247</td>\n",
       "      <td>2000</td>\n",
       "    </tr>\n",
       "  </tbody>\n",
       "</table>\n",
       "</div>"
      ],
      "text/plain": [
       "    fit_time  score_time  test_neg_mean_absolute_error  \\\n",
       "0   0.205012    0.005914                     -3.049253   \n",
       "1   0.308070    0.005704                     -2.930909   \n",
       "2   0.670389    0.007425                     -2.848866   \n",
       "3   1.279635    0.011201                     -2.826264   \n",
       "4   2.449979    0.016490                     -2.800052   \n",
       "5  12.093498    0.084982                     -2.797907   \n",
       "6  25.861182    0.170998                     -2.790042   \n",
       "7  49.044987    0.356268                     -2.783829   \n",
       "\n",
       "   test_neg_mean_squared_error  test_neg_root_mean_squared_error   Est  \n",
       "0                   -18.593728                         -4.288233     5  \n",
       "1                   -16.745894                         -4.073271    10  \n",
       "2                   -15.815872                         -3.959069    25  \n",
       "3                   -15.499005                         -3.919313    50  \n",
       "4                   -15.300432                         -3.890447   100  \n",
       "5                   -15.301506                         -3.891844   500  \n",
       "6                   -15.217314                         -3.881390  1000  \n",
       "7                   -15.130904                         -3.870247  2000  "
      ]
     },
     "execution_count": 20,
     "metadata": {},
     "output_type": "execute_result"
    }
   ],
   "source": [
    "scores_df"
   ]
  },
  {
   "cell_type": "markdown",
   "id": "revised-truth",
   "metadata": {},
   "source": [
    "# Export Scores for Number of Estimators"
   ]
  },
  {
   "cell_type": "code",
   "execution_count": 21,
   "id": "liberal-windows",
   "metadata": {},
   "outputs": [],
   "source": [
    "# mean_scores"
   ]
  },
  {
   "cell_type": "code",
   "execution_count": 22,
   "id": "macro-invention",
   "metadata": {},
   "outputs": [],
   "source": [
    "scores_df = scores_df.rename(columns={\n",
    "    'fit_time':'Fit Time',\n",
    "    'score_time':'Score Time',\n",
    "    'test_neg_mean_absolute_error':'MAE',\n",
    "    'test_neg_mean_squared_error':'MSE',\n",
    "    'test_neg_root_mean_squared_error':'RMSE'\n",
    "})"
   ]
  },
  {
   "cell_type": "code",
   "execution_count": 23,
   "id": "frequent-world",
   "metadata": {},
   "outputs": [
    {
     "data": {
      "text/html": [
       "<div>\n",
       "<style scoped>\n",
       "    .dataframe tbody tr th:only-of-type {\n",
       "        vertical-align: middle;\n",
       "    }\n",
       "\n",
       "    .dataframe tbody tr th {\n",
       "        vertical-align: top;\n",
       "    }\n",
       "\n",
       "    .dataframe thead th {\n",
       "        text-align: right;\n",
       "    }\n",
       "</style>\n",
       "<table border=\"1\" class=\"dataframe\">\n",
       "  <thead>\n",
       "    <tr style=\"text-align: right;\">\n",
       "      <th></th>\n",
       "      <th>Fit Time</th>\n",
       "      <th>Score Time</th>\n",
       "      <th>MAE</th>\n",
       "      <th>MSE</th>\n",
       "      <th>RMSE</th>\n",
       "      <th>Est</th>\n",
       "    </tr>\n",
       "  </thead>\n",
       "  <tbody>\n",
       "    <tr>\n",
       "      <th>0</th>\n",
       "      <td>0.205012</td>\n",
       "      <td>0.005914</td>\n",
       "      <td>-3.049253</td>\n",
       "      <td>-18.593728</td>\n",
       "      <td>-4.288233</td>\n",
       "      <td>5</td>\n",
       "    </tr>\n",
       "    <tr>\n",
       "      <th>1</th>\n",
       "      <td>0.308070</td>\n",
       "      <td>0.005704</td>\n",
       "      <td>-2.930909</td>\n",
       "      <td>-16.745894</td>\n",
       "      <td>-4.073271</td>\n",
       "      <td>10</td>\n",
       "    </tr>\n",
       "    <tr>\n",
       "      <th>2</th>\n",
       "      <td>0.670389</td>\n",
       "      <td>0.007425</td>\n",
       "      <td>-2.848866</td>\n",
       "      <td>-15.815872</td>\n",
       "      <td>-3.959069</td>\n",
       "      <td>25</td>\n",
       "    </tr>\n",
       "    <tr>\n",
       "      <th>3</th>\n",
       "      <td>1.279635</td>\n",
       "      <td>0.011201</td>\n",
       "      <td>-2.826264</td>\n",
       "      <td>-15.499005</td>\n",
       "      <td>-3.919313</td>\n",
       "      <td>50</td>\n",
       "    </tr>\n",
       "    <tr>\n",
       "      <th>4</th>\n",
       "      <td>2.449979</td>\n",
       "      <td>0.016490</td>\n",
       "      <td>-2.800052</td>\n",
       "      <td>-15.300432</td>\n",
       "      <td>-3.890447</td>\n",
       "      <td>100</td>\n",
       "    </tr>\n",
       "    <tr>\n",
       "      <th>5</th>\n",
       "      <td>12.093498</td>\n",
       "      <td>0.084982</td>\n",
       "      <td>-2.797907</td>\n",
       "      <td>-15.301506</td>\n",
       "      <td>-3.891844</td>\n",
       "      <td>500</td>\n",
       "    </tr>\n",
       "    <tr>\n",
       "      <th>6</th>\n",
       "      <td>25.861182</td>\n",
       "      <td>0.170998</td>\n",
       "      <td>-2.790042</td>\n",
       "      <td>-15.217314</td>\n",
       "      <td>-3.881390</td>\n",
       "      <td>1000</td>\n",
       "    </tr>\n",
       "    <tr>\n",
       "      <th>7</th>\n",
       "      <td>49.044987</td>\n",
       "      <td>0.356268</td>\n",
       "      <td>-2.783829</td>\n",
       "      <td>-15.130904</td>\n",
       "      <td>-3.870247</td>\n",
       "      <td>2000</td>\n",
       "    </tr>\n",
       "  </tbody>\n",
       "</table>\n",
       "</div>"
      ],
      "text/plain": [
       "    Fit Time  Score Time       MAE        MSE      RMSE   Est\n",
       "0   0.205012    0.005914 -3.049253 -18.593728 -4.288233     5\n",
       "1   0.308070    0.005704 -2.930909 -16.745894 -4.073271    10\n",
       "2   0.670389    0.007425 -2.848866 -15.815872 -3.959069    25\n",
       "3   1.279635    0.011201 -2.826264 -15.499005 -3.919313    50\n",
       "4   2.449979    0.016490 -2.800052 -15.300432 -3.890447   100\n",
       "5  12.093498    0.084982 -2.797907 -15.301506 -3.891844   500\n",
       "6  25.861182    0.170998 -2.790042 -15.217314 -3.881390  1000\n",
       "7  49.044987    0.356268 -2.783829 -15.130904 -3.870247  2000"
      ]
     },
     "execution_count": 23,
     "metadata": {},
     "output_type": "execute_result"
    }
   ],
   "source": [
    "scores_df"
   ]
  },
  {
   "cell_type": "code",
   "execution_count": 24,
   "id": "later-blood",
   "metadata": {},
   "outputs": [],
   "source": [
    "scores_df[['MAE','MSE','RMSE']] = scores_df[['MAE','MSE','RMSE']].apply(lambda x : abs(x))"
   ]
  },
  {
   "cell_type": "code",
   "execution_count": 25,
   "id": "inappropriate-conditioning",
   "metadata": {},
   "outputs": [
    {
     "data": {
      "text/html": [
       "<div>\n",
       "<style scoped>\n",
       "    .dataframe tbody tr th:only-of-type {\n",
       "        vertical-align: middle;\n",
       "    }\n",
       "\n",
       "    .dataframe tbody tr th {\n",
       "        vertical-align: top;\n",
       "    }\n",
       "\n",
       "    .dataframe thead th {\n",
       "        text-align: right;\n",
       "    }\n",
       "</style>\n",
       "<table border=\"1\" class=\"dataframe\">\n",
       "  <thead>\n",
       "    <tr style=\"text-align: right;\">\n",
       "      <th></th>\n",
       "      <th>Fit Time</th>\n",
       "      <th>Score Time</th>\n",
       "      <th>MAE</th>\n",
       "      <th>MSE</th>\n",
       "      <th>RMSE</th>\n",
       "      <th>Est</th>\n",
       "    </tr>\n",
       "  </thead>\n",
       "  <tbody>\n",
       "    <tr>\n",
       "      <th>0</th>\n",
       "      <td>0.205012</td>\n",
       "      <td>0.005914</td>\n",
       "      <td>3.049253</td>\n",
       "      <td>18.593728</td>\n",
       "      <td>4.288233</td>\n",
       "      <td>5</td>\n",
       "    </tr>\n",
       "    <tr>\n",
       "      <th>1</th>\n",
       "      <td>0.308070</td>\n",
       "      <td>0.005704</td>\n",
       "      <td>2.930909</td>\n",
       "      <td>16.745894</td>\n",
       "      <td>4.073271</td>\n",
       "      <td>10</td>\n",
       "    </tr>\n",
       "    <tr>\n",
       "      <th>2</th>\n",
       "      <td>0.670389</td>\n",
       "      <td>0.007425</td>\n",
       "      <td>2.848866</td>\n",
       "      <td>15.815872</td>\n",
       "      <td>3.959069</td>\n",
       "      <td>25</td>\n",
       "    </tr>\n",
       "    <tr>\n",
       "      <th>3</th>\n",
       "      <td>1.279635</td>\n",
       "      <td>0.011201</td>\n",
       "      <td>2.826264</td>\n",
       "      <td>15.499005</td>\n",
       "      <td>3.919313</td>\n",
       "      <td>50</td>\n",
       "    </tr>\n",
       "    <tr>\n",
       "      <th>4</th>\n",
       "      <td>2.449979</td>\n",
       "      <td>0.016490</td>\n",
       "      <td>2.800052</td>\n",
       "      <td>15.300432</td>\n",
       "      <td>3.890447</td>\n",
       "      <td>100</td>\n",
       "    </tr>\n",
       "    <tr>\n",
       "      <th>5</th>\n",
       "      <td>12.093498</td>\n",
       "      <td>0.084982</td>\n",
       "      <td>2.797907</td>\n",
       "      <td>15.301506</td>\n",
       "      <td>3.891844</td>\n",
       "      <td>500</td>\n",
       "    </tr>\n",
       "    <tr>\n",
       "      <th>6</th>\n",
       "      <td>25.861182</td>\n",
       "      <td>0.170998</td>\n",
       "      <td>2.790042</td>\n",
       "      <td>15.217314</td>\n",
       "      <td>3.881390</td>\n",
       "      <td>1000</td>\n",
       "    </tr>\n",
       "    <tr>\n",
       "      <th>7</th>\n",
       "      <td>49.044987</td>\n",
       "      <td>0.356268</td>\n",
       "      <td>2.783829</td>\n",
       "      <td>15.130904</td>\n",
       "      <td>3.870247</td>\n",
       "      <td>2000</td>\n",
       "    </tr>\n",
       "  </tbody>\n",
       "</table>\n",
       "</div>"
      ],
      "text/plain": [
       "    Fit Time  Score Time       MAE        MSE      RMSE   Est\n",
       "0   0.205012    0.005914  3.049253  18.593728  4.288233     5\n",
       "1   0.308070    0.005704  2.930909  16.745894  4.073271    10\n",
       "2   0.670389    0.007425  2.848866  15.815872  3.959069    25\n",
       "3   1.279635    0.011201  2.826264  15.499005  3.919313    50\n",
       "4   2.449979    0.016490  2.800052  15.300432  3.890447   100\n",
       "5  12.093498    0.084982  2.797907  15.301506  3.891844   500\n",
       "6  25.861182    0.170998  2.790042  15.217314  3.881390  1000\n",
       "7  49.044987    0.356268  2.783829  15.130904  3.870247  2000"
      ]
     },
     "execution_count": 25,
     "metadata": {},
     "output_type": "execute_result"
    }
   ],
   "source": [
    "scores_df\n",
    "# we go for 25 estimations. Note that from 25 -> 50 estimations the error metrics worsen"
   ]
  },
  {
   "cell_type": "code",
   "execution_count": 26,
   "id": "attended-nation",
   "metadata": {},
   "outputs": [],
   "source": [
    "scores_df.to_csv(f'./scores/{model_name}-score.csv')"
   ]
  },
  {
   "cell_type": "code",
   "execution_count": 27,
   "id": "strategic-physics",
   "metadata": {},
   "outputs": [],
   "source": [
    "pct_scores_df = scores_df.pct_change()"
   ]
  },
  {
   "cell_type": "code",
   "execution_count": 28,
   "id": "attended-burlington",
   "metadata": {},
   "outputs": [
    {
     "data": {
      "text/html": [
       "<div>\n",
       "<style scoped>\n",
       "    .dataframe tbody tr th:only-of-type {\n",
       "        vertical-align: middle;\n",
       "    }\n",
       "\n",
       "    .dataframe tbody tr th {\n",
       "        vertical-align: top;\n",
       "    }\n",
       "\n",
       "    .dataframe thead th {\n",
       "        text-align: right;\n",
       "    }\n",
       "</style>\n",
       "<table border=\"1\" class=\"dataframe\">\n",
       "  <thead>\n",
       "    <tr style=\"text-align: right;\">\n",
       "      <th></th>\n",
       "      <th>Fit Time</th>\n",
       "      <th>Score Time</th>\n",
       "      <th>MAE</th>\n",
       "      <th>MSE</th>\n",
       "      <th>RMSE</th>\n",
       "      <th>Est</th>\n",
       "    </tr>\n",
       "  </thead>\n",
       "  <tbody>\n",
       "    <tr>\n",
       "      <th>0</th>\n",
       "      <td>NaN</td>\n",
       "      <td>NaN</td>\n",
       "      <td>NaN</td>\n",
       "      <td>NaN</td>\n",
       "      <td>NaN</td>\n",
       "      <td>NaN</td>\n",
       "    </tr>\n",
       "    <tr>\n",
       "      <th>1</th>\n",
       "      <td>0.502694</td>\n",
       "      <td>-0.035463</td>\n",
       "      <td>-0.038811</td>\n",
       "      <td>-0.099379</td>\n",
       "      <td>-0.050128</td>\n",
       "      <td>1.0</td>\n",
       "    </tr>\n",
       "    <tr>\n",
       "      <th>2</th>\n",
       "      <td>1.176092</td>\n",
       "      <td>0.301608</td>\n",
       "      <td>-0.027992</td>\n",
       "      <td>-0.055537</td>\n",
       "      <td>-0.028037</td>\n",
       "      <td>1.5</td>\n",
       "    </tr>\n",
       "    <tr>\n",
       "      <th>3</th>\n",
       "      <td>0.908794</td>\n",
       "      <td>0.508535</td>\n",
       "      <td>-0.007934</td>\n",
       "      <td>-0.020035</td>\n",
       "      <td>-0.010042</td>\n",
       "      <td>1.0</td>\n",
       "    </tr>\n",
       "    <tr>\n",
       "      <th>4</th>\n",
       "      <td>0.914592</td>\n",
       "      <td>0.472179</td>\n",
       "      <td>-0.009274</td>\n",
       "      <td>-0.012812</td>\n",
       "      <td>-0.007365</td>\n",
       "      <td>1.0</td>\n",
       "    </tr>\n",
       "    <tr>\n",
       "      <th>5</th>\n",
       "      <td>3.936164</td>\n",
       "      <td>4.153706</td>\n",
       "      <td>-0.000766</td>\n",
       "      <td>0.000070</td>\n",
       "      <td>0.000359</td>\n",
       "      <td>4.0</td>\n",
       "    </tr>\n",
       "    <tr>\n",
       "      <th>6</th>\n",
       "      <td>1.138437</td>\n",
       "      <td>1.012163</td>\n",
       "      <td>-0.002811</td>\n",
       "      <td>-0.005502</td>\n",
       "      <td>-0.002686</td>\n",
       "      <td>1.0</td>\n",
       "    </tr>\n",
       "    <tr>\n",
       "      <th>7</th>\n",
       "      <td>0.896471</td>\n",
       "      <td>1.083466</td>\n",
       "      <td>-0.002227</td>\n",
       "      <td>-0.005678</td>\n",
       "      <td>-0.002871</td>\n",
       "      <td>1.0</td>\n",
       "    </tr>\n",
       "  </tbody>\n",
       "</table>\n",
       "</div>"
      ],
      "text/plain": [
       "   Fit Time  Score Time       MAE       MSE      RMSE  Est\n",
       "0       NaN         NaN       NaN       NaN       NaN  NaN\n",
       "1  0.502694   -0.035463 -0.038811 -0.099379 -0.050128  1.0\n",
       "2  1.176092    0.301608 -0.027992 -0.055537 -0.028037  1.5\n",
       "3  0.908794    0.508535 -0.007934 -0.020035 -0.010042  1.0\n",
       "4  0.914592    0.472179 -0.009274 -0.012812 -0.007365  1.0\n",
       "5  3.936164    4.153706 -0.000766  0.000070  0.000359  4.0\n",
       "6  1.138437    1.012163 -0.002811 -0.005502 -0.002686  1.0\n",
       "7  0.896471    1.083466 -0.002227 -0.005678 -0.002871  1.0"
      ]
     },
     "execution_count": 28,
     "metadata": {},
     "output_type": "execute_result"
    }
   ],
   "source": [
    "pct_scores_df"
   ]
  },
  {
   "cell_type": "code",
   "execution_count": 29,
   "id": "regulated-return",
   "metadata": {},
   "outputs": [
    {
     "data": {
      "text/html": [
       "<style  type=\"text/css\" >\n",
       "#T_222cb6dc_5b58_11eb_a704_60f81dd06e70row0_col0,#T_222cb6dc_5b58_11eb_a704_60f81dd06e70row0_col1,#T_222cb6dc_5b58_11eb_a704_60f81dd06e70row0_col2,#T_222cb6dc_5b58_11eb_a704_60f81dd06e70row0_col3,#T_222cb6dc_5b58_11eb_a704_60f81dd06e70row0_col4,#T_222cb6dc_5b58_11eb_a704_60f81dd06e70row0_col5{\n",
       "            background-color:  #000000;\n",
       "            color:  #f1f1f1;\n",
       "        }#T_222cb6dc_5b58_11eb_a704_60f81dd06e70row1_col0,#T_222cb6dc_5b58_11eb_a704_60f81dd06e70row1_col1,#T_222cb6dc_5b58_11eb_a704_60f81dd06e70row1_col2,#T_222cb6dc_5b58_11eb_a704_60f81dd06e70row1_col3,#T_222cb6dc_5b58_11eb_a704_60f81dd06e70row1_col4,#T_222cb6dc_5b58_11eb_a704_60f81dd06e70row1_col5,#T_222cb6dc_5b58_11eb_a704_60f81dd06e70row3_col5,#T_222cb6dc_5b58_11eb_a704_60f81dd06e70row4_col5,#T_222cb6dc_5b58_11eb_a704_60f81dd06e70row6_col5,#T_222cb6dc_5b58_11eb_a704_60f81dd06e70row7_col5{\n",
       "            background-color:  #fff7fb;\n",
       "            color:  #000000;\n",
       "        }#T_222cb6dc_5b58_11eb_a704_60f81dd06e70row2_col0{\n",
       "            background-color:  #dcdaeb;\n",
       "            color:  #000000;\n",
       "        }#T_222cb6dc_5b58_11eb_a704_60f81dd06e70row2_col1{\n",
       "            background-color:  #f3edf5;\n",
       "            color:  #000000;\n",
       "        }#T_222cb6dc_5b58_11eb_a704_60f81dd06e70row2_col2{\n",
       "            background-color:  #c5cce3;\n",
       "            color:  #000000;\n",
       "        }#T_222cb6dc_5b58_11eb_a704_60f81dd06e70row2_col3,#T_222cb6dc_5b58_11eb_a704_60f81dd06e70row2_col4{\n",
       "            background-color:  #8cb3d5;\n",
       "            color:  #000000;\n",
       "        }#T_222cb6dc_5b58_11eb_a704_60f81dd06e70row2_col5{\n",
       "            background-color:  #e3e0ee;\n",
       "            color:  #000000;\n",
       "        }#T_222cb6dc_5b58_11eb_a704_60f81dd06e70row3_col0,#T_222cb6dc_5b58_11eb_a704_60f81dd06e70row4_col0{\n",
       "            background-color:  #ede8f3;\n",
       "            color:  #000000;\n",
       "        }#T_222cb6dc_5b58_11eb_a704_60f81dd06e70row3_col1{\n",
       "            background-color:  #ebe6f2;\n",
       "            color:  #000000;\n",
       "        }#T_222cb6dc_5b58_11eb_a704_60f81dd06e70row3_col2{\n",
       "            background-color:  #05659f;\n",
       "            color:  #f1f1f1;\n",
       "        }#T_222cb6dc_5b58_11eb_a704_60f81dd06e70row3_col3{\n",
       "            background-color:  #0567a2;\n",
       "            color:  #f1f1f1;\n",
       "        }#T_222cb6dc_5b58_11eb_a704_60f81dd06e70row3_col4{\n",
       "            background-color:  #0568a3;\n",
       "            color:  #f1f1f1;\n",
       "        }#T_222cb6dc_5b58_11eb_a704_60f81dd06e70row4_col1{\n",
       "            background-color:  #ede7f2;\n",
       "            color:  #000000;\n",
       "        }#T_222cb6dc_5b58_11eb_a704_60f81dd06e70row4_col2{\n",
       "            background-color:  #056ba9;\n",
       "            color:  #f1f1f1;\n",
       "        }#T_222cb6dc_5b58_11eb_a704_60f81dd06e70row4_col3{\n",
       "            background-color:  #045b8e;\n",
       "            color:  #f1f1f1;\n",
       "        }#T_222cb6dc_5b58_11eb_a704_60f81dd06e70row4_col4{\n",
       "            background-color:  #045f95;\n",
       "            color:  #f1f1f1;\n",
       "        }#T_222cb6dc_5b58_11eb_a704_60f81dd06e70row5_col0,#T_222cb6dc_5b58_11eb_a704_60f81dd06e70row5_col1,#T_222cb6dc_5b58_11eb_a704_60f81dd06e70row5_col2,#T_222cb6dc_5b58_11eb_a704_60f81dd06e70row5_col3,#T_222cb6dc_5b58_11eb_a704_60f81dd06e70row5_col4,#T_222cb6dc_5b58_11eb_a704_60f81dd06e70row5_col5{\n",
       "            background-color:  #023858;\n",
       "            color:  #f1f1f1;\n",
       "        }#T_222cb6dc_5b58_11eb_a704_60f81dd06e70row6_col0{\n",
       "            background-color:  #dfddec;\n",
       "            color:  #000000;\n",
       "        }#T_222cb6dc_5b58_11eb_a704_60f81dd06e70row6_col1{\n",
       "            background-color:  #d0d1e6;\n",
       "            color:  #000000;\n",
       "        }#T_222cb6dc_5b58_11eb_a704_60f81dd06e70row6_col2{\n",
       "            background-color:  #03466e;\n",
       "            color:  #f1f1f1;\n",
       "        }#T_222cb6dc_5b58_11eb_a704_60f81dd06e70row6_col3,#T_222cb6dc_5b58_11eb_a704_60f81dd06e70row7_col3{\n",
       "            background-color:  #03476f;\n",
       "            color:  #f1f1f1;\n",
       "        }#T_222cb6dc_5b58_11eb_a704_60f81dd06e70row6_col4{\n",
       "            background-color:  #034871;\n",
       "            color:  #f1f1f1;\n",
       "        }#T_222cb6dc_5b58_11eb_a704_60f81dd06e70row7_col0{\n",
       "            background-color:  #eee8f3;\n",
       "            color:  #000000;\n",
       "        }#T_222cb6dc_5b58_11eb_a704_60f81dd06e70row7_col1{\n",
       "            background-color:  #cacee5;\n",
       "            color:  #000000;\n",
       "        }#T_222cb6dc_5b58_11eb_a704_60f81dd06e70row7_col2{\n",
       "            background-color:  #034267;\n",
       "            color:  #f1f1f1;\n",
       "        }#T_222cb6dc_5b58_11eb_a704_60f81dd06e70row7_col4{\n",
       "            background-color:  #034973;\n",
       "            color:  #f1f1f1;\n",
       "        }</style><table id=\"T_222cb6dc_5b58_11eb_a704_60f81dd06e70\" ><thead>    <tr>        <th class=\"blank level0\" ></th>        <th class=\"col_heading level0 col0\" >Fit Time</th>        <th class=\"col_heading level0 col1\" >Score Time</th>        <th class=\"col_heading level0 col2\" >MAE</th>        <th class=\"col_heading level0 col3\" >MSE</th>        <th class=\"col_heading level0 col4\" >RMSE</th>        <th class=\"col_heading level0 col5\" >Est</th>    </tr></thead><tbody>\n",
       "                <tr>\n",
       "                        <th id=\"T_222cb6dc_5b58_11eb_a704_60f81dd06e70level0_row0\" class=\"row_heading level0 row0\" >0</th>\n",
       "                        <td id=\"T_222cb6dc_5b58_11eb_a704_60f81dd06e70row0_col0\" class=\"data row0 col0\" >nan</td>\n",
       "                        <td id=\"T_222cb6dc_5b58_11eb_a704_60f81dd06e70row0_col1\" class=\"data row0 col1\" >nan</td>\n",
       "                        <td id=\"T_222cb6dc_5b58_11eb_a704_60f81dd06e70row0_col2\" class=\"data row0 col2\" >nan</td>\n",
       "                        <td id=\"T_222cb6dc_5b58_11eb_a704_60f81dd06e70row0_col3\" class=\"data row0 col3\" >nan</td>\n",
       "                        <td id=\"T_222cb6dc_5b58_11eb_a704_60f81dd06e70row0_col4\" class=\"data row0 col4\" >nan</td>\n",
       "                        <td id=\"T_222cb6dc_5b58_11eb_a704_60f81dd06e70row0_col5\" class=\"data row0 col5\" >nan</td>\n",
       "            </tr>\n",
       "            <tr>\n",
       "                        <th id=\"T_222cb6dc_5b58_11eb_a704_60f81dd06e70level0_row1\" class=\"row_heading level0 row1\" >1</th>\n",
       "                        <td id=\"T_222cb6dc_5b58_11eb_a704_60f81dd06e70row1_col0\" class=\"data row1 col0\" >0.502694</td>\n",
       "                        <td id=\"T_222cb6dc_5b58_11eb_a704_60f81dd06e70row1_col1\" class=\"data row1 col1\" >-0.035463</td>\n",
       "                        <td id=\"T_222cb6dc_5b58_11eb_a704_60f81dd06e70row1_col2\" class=\"data row1 col2\" >-0.038811</td>\n",
       "                        <td id=\"T_222cb6dc_5b58_11eb_a704_60f81dd06e70row1_col3\" class=\"data row1 col3\" >-0.099379</td>\n",
       "                        <td id=\"T_222cb6dc_5b58_11eb_a704_60f81dd06e70row1_col4\" class=\"data row1 col4\" >-0.050128</td>\n",
       "                        <td id=\"T_222cb6dc_5b58_11eb_a704_60f81dd06e70row1_col5\" class=\"data row1 col5\" >1.000000</td>\n",
       "            </tr>\n",
       "            <tr>\n",
       "                        <th id=\"T_222cb6dc_5b58_11eb_a704_60f81dd06e70level0_row2\" class=\"row_heading level0 row2\" >2</th>\n",
       "                        <td id=\"T_222cb6dc_5b58_11eb_a704_60f81dd06e70row2_col0\" class=\"data row2 col0\" >1.176092</td>\n",
       "                        <td id=\"T_222cb6dc_5b58_11eb_a704_60f81dd06e70row2_col1\" class=\"data row2 col1\" >0.301608</td>\n",
       "                        <td id=\"T_222cb6dc_5b58_11eb_a704_60f81dd06e70row2_col2\" class=\"data row2 col2\" >-0.027992</td>\n",
       "                        <td id=\"T_222cb6dc_5b58_11eb_a704_60f81dd06e70row2_col3\" class=\"data row2 col3\" >-0.055537</td>\n",
       "                        <td id=\"T_222cb6dc_5b58_11eb_a704_60f81dd06e70row2_col4\" class=\"data row2 col4\" >-0.028037</td>\n",
       "                        <td id=\"T_222cb6dc_5b58_11eb_a704_60f81dd06e70row2_col5\" class=\"data row2 col5\" >1.500000</td>\n",
       "            </tr>\n",
       "            <tr>\n",
       "                        <th id=\"T_222cb6dc_5b58_11eb_a704_60f81dd06e70level0_row3\" class=\"row_heading level0 row3\" >3</th>\n",
       "                        <td id=\"T_222cb6dc_5b58_11eb_a704_60f81dd06e70row3_col0\" class=\"data row3 col0\" >0.908794</td>\n",
       "                        <td id=\"T_222cb6dc_5b58_11eb_a704_60f81dd06e70row3_col1\" class=\"data row3 col1\" >0.508535</td>\n",
       "                        <td id=\"T_222cb6dc_5b58_11eb_a704_60f81dd06e70row3_col2\" class=\"data row3 col2\" >-0.007934</td>\n",
       "                        <td id=\"T_222cb6dc_5b58_11eb_a704_60f81dd06e70row3_col3\" class=\"data row3 col3\" >-0.020035</td>\n",
       "                        <td id=\"T_222cb6dc_5b58_11eb_a704_60f81dd06e70row3_col4\" class=\"data row3 col4\" >-0.010042</td>\n",
       "                        <td id=\"T_222cb6dc_5b58_11eb_a704_60f81dd06e70row3_col5\" class=\"data row3 col5\" >1.000000</td>\n",
       "            </tr>\n",
       "            <tr>\n",
       "                        <th id=\"T_222cb6dc_5b58_11eb_a704_60f81dd06e70level0_row4\" class=\"row_heading level0 row4\" >4</th>\n",
       "                        <td id=\"T_222cb6dc_5b58_11eb_a704_60f81dd06e70row4_col0\" class=\"data row4 col0\" >0.914592</td>\n",
       "                        <td id=\"T_222cb6dc_5b58_11eb_a704_60f81dd06e70row4_col1\" class=\"data row4 col1\" >0.472179</td>\n",
       "                        <td id=\"T_222cb6dc_5b58_11eb_a704_60f81dd06e70row4_col2\" class=\"data row4 col2\" >-0.009274</td>\n",
       "                        <td id=\"T_222cb6dc_5b58_11eb_a704_60f81dd06e70row4_col3\" class=\"data row4 col3\" >-0.012812</td>\n",
       "                        <td id=\"T_222cb6dc_5b58_11eb_a704_60f81dd06e70row4_col4\" class=\"data row4 col4\" >-0.007365</td>\n",
       "                        <td id=\"T_222cb6dc_5b58_11eb_a704_60f81dd06e70row4_col5\" class=\"data row4 col5\" >1.000000</td>\n",
       "            </tr>\n",
       "            <tr>\n",
       "                        <th id=\"T_222cb6dc_5b58_11eb_a704_60f81dd06e70level0_row5\" class=\"row_heading level0 row5\" >5</th>\n",
       "                        <td id=\"T_222cb6dc_5b58_11eb_a704_60f81dd06e70row5_col0\" class=\"data row5 col0\" >3.936164</td>\n",
       "                        <td id=\"T_222cb6dc_5b58_11eb_a704_60f81dd06e70row5_col1\" class=\"data row5 col1\" >4.153706</td>\n",
       "                        <td id=\"T_222cb6dc_5b58_11eb_a704_60f81dd06e70row5_col2\" class=\"data row5 col2\" >-0.000766</td>\n",
       "                        <td id=\"T_222cb6dc_5b58_11eb_a704_60f81dd06e70row5_col3\" class=\"data row5 col3\" >0.000070</td>\n",
       "                        <td id=\"T_222cb6dc_5b58_11eb_a704_60f81dd06e70row5_col4\" class=\"data row5 col4\" >0.000359</td>\n",
       "                        <td id=\"T_222cb6dc_5b58_11eb_a704_60f81dd06e70row5_col5\" class=\"data row5 col5\" >4.000000</td>\n",
       "            </tr>\n",
       "            <tr>\n",
       "                        <th id=\"T_222cb6dc_5b58_11eb_a704_60f81dd06e70level0_row6\" class=\"row_heading level0 row6\" >6</th>\n",
       "                        <td id=\"T_222cb6dc_5b58_11eb_a704_60f81dd06e70row6_col0\" class=\"data row6 col0\" >1.138437</td>\n",
       "                        <td id=\"T_222cb6dc_5b58_11eb_a704_60f81dd06e70row6_col1\" class=\"data row6 col1\" >1.012163</td>\n",
       "                        <td id=\"T_222cb6dc_5b58_11eb_a704_60f81dd06e70row6_col2\" class=\"data row6 col2\" >-0.002811</td>\n",
       "                        <td id=\"T_222cb6dc_5b58_11eb_a704_60f81dd06e70row6_col3\" class=\"data row6 col3\" >-0.005502</td>\n",
       "                        <td id=\"T_222cb6dc_5b58_11eb_a704_60f81dd06e70row6_col4\" class=\"data row6 col4\" >-0.002686</td>\n",
       "                        <td id=\"T_222cb6dc_5b58_11eb_a704_60f81dd06e70row6_col5\" class=\"data row6 col5\" >1.000000</td>\n",
       "            </tr>\n",
       "            <tr>\n",
       "                        <th id=\"T_222cb6dc_5b58_11eb_a704_60f81dd06e70level0_row7\" class=\"row_heading level0 row7\" >7</th>\n",
       "                        <td id=\"T_222cb6dc_5b58_11eb_a704_60f81dd06e70row7_col0\" class=\"data row7 col0\" >0.896471</td>\n",
       "                        <td id=\"T_222cb6dc_5b58_11eb_a704_60f81dd06e70row7_col1\" class=\"data row7 col1\" >1.083466</td>\n",
       "                        <td id=\"T_222cb6dc_5b58_11eb_a704_60f81dd06e70row7_col2\" class=\"data row7 col2\" >-0.002227</td>\n",
       "                        <td id=\"T_222cb6dc_5b58_11eb_a704_60f81dd06e70row7_col3\" class=\"data row7 col3\" >-0.005678</td>\n",
       "                        <td id=\"T_222cb6dc_5b58_11eb_a704_60f81dd06e70row7_col4\" class=\"data row7 col4\" >-0.002871</td>\n",
       "                        <td id=\"T_222cb6dc_5b58_11eb_a704_60f81dd06e70row7_col5\" class=\"data row7 col5\" >1.000000</td>\n",
       "            </tr>\n",
       "    </tbody></table>"
      ],
      "text/plain": [
       "<pandas.io.formats.style.Styler at 0x7fc39a9e70d0>"
      ]
     },
     "execution_count": 29,
     "metadata": {},
     "output_type": "execute_result"
    }
   ],
   "source": [
    "pct_scores_df.style.background_gradient() \n",
    "# we choose index 4, 100 Estimations <- \n",
    "    # Score time decrease 3->4 & Score time increase dramatically 4->5\n",
    "    # unsubstantial decrease MSE & RMSE 4->5 compared to 3->4"
   ]
  },
  {
   "cell_type": "markdown",
   "id": "arranged-shock",
   "metadata": {},
   "source": [
    "# Score Model"
   ]
  },
  {
   "cell_type": "code",
   "execution_count": 30,
   "id": "sustained-myanmar",
   "metadata": {},
   "outputs": [
    {
     "data": {
      "text/plain": [
       "RandomForestRegressor()"
      ]
     },
     "execution_count": 30,
     "metadata": {},
     "output_type": "execute_result"
    }
   ],
   "source": [
    "# MODIFY!\n",
    "# adopt number of estimators from the previous section\n",
    "\n",
    "score_model = RandomForestRegressor(n_estimators=100)\n",
    "score_model"
   ]
  },
  {
   "cell_type": "code",
   "execution_count": 31,
   "id": "macro-winter",
   "metadata": {},
   "outputs": [],
   "source": [
    "from sklearn.model_selection import cross_validate\n",
    "\n",
    "scores = cross_validate(\n",
    "    score_model, \n",
    "    X_train, \n",
    "    y_train,\n",
    "    scoring=[\n",
    "        'neg_mean_absolute_error',\n",
    "        'neg_mean_squared_error',\n",
    "        'neg_root_mean_squared_error'\n",
    "    ],\n",
    "    cv=10\n",
    ")"
   ]
  },
  {
   "cell_type": "code",
   "execution_count": 32,
   "id": "beginning-beginning",
   "metadata": {},
   "outputs": [],
   "source": [
    "scores = pd.DataFrame(scores)"
   ]
  },
  {
   "cell_type": "code",
   "execution_count": 33,
   "id": "mental-electric",
   "metadata": {},
   "outputs": [
    {
     "data": {
      "text/html": [
       "<div>\n",
       "<style scoped>\n",
       "    .dataframe tbody tr th:only-of-type {\n",
       "        vertical-align: middle;\n",
       "    }\n",
       "\n",
       "    .dataframe tbody tr th {\n",
       "        vertical-align: top;\n",
       "    }\n",
       "\n",
       "    .dataframe thead th {\n",
       "        text-align: right;\n",
       "    }\n",
       "</style>\n",
       "<table border=\"1\" class=\"dataframe\">\n",
       "  <thead>\n",
       "    <tr style=\"text-align: right;\">\n",
       "      <th></th>\n",
       "      <th>fit_time</th>\n",
       "      <th>score_time</th>\n",
       "      <th>test_neg_mean_absolute_error</th>\n",
       "      <th>test_neg_mean_squared_error</th>\n",
       "      <th>test_neg_root_mean_squared_error</th>\n",
       "    </tr>\n",
       "  </thead>\n",
       "  <tbody>\n",
       "    <tr>\n",
       "      <th>0</th>\n",
       "      <td>3.067025</td>\n",
       "      <td>0.016162</td>\n",
       "      <td>-2.542489</td>\n",
       "      <td>-12.084737</td>\n",
       "      <td>-3.476311</td>\n",
       "    </tr>\n",
       "    <tr>\n",
       "      <th>1</th>\n",
       "      <td>2.391408</td>\n",
       "      <td>0.015462</td>\n",
       "      <td>-3.466968</td>\n",
       "      <td>-23.781754</td>\n",
       "      <td>-4.876654</td>\n",
       "    </tr>\n",
       "    <tr>\n",
       "      <th>2</th>\n",
       "      <td>2.329651</td>\n",
       "      <td>0.016393</td>\n",
       "      <td>-2.884387</td>\n",
       "      <td>-17.112726</td>\n",
       "      <td>-4.136753</td>\n",
       "    </tr>\n",
       "    <tr>\n",
       "      <th>3</th>\n",
       "      <td>2.505533</td>\n",
       "      <td>0.013076</td>\n",
       "      <td>-2.680065</td>\n",
       "      <td>-14.146603</td>\n",
       "      <td>-3.761197</td>\n",
       "    </tr>\n",
       "    <tr>\n",
       "      <th>4</th>\n",
       "      <td>2.325190</td>\n",
       "      <td>0.015044</td>\n",
       "      <td>-2.615952</td>\n",
       "      <td>-14.001057</td>\n",
       "      <td>-3.741799</td>\n",
       "    </tr>\n",
       "    <tr>\n",
       "      <th>5</th>\n",
       "      <td>2.365991</td>\n",
       "      <td>0.016735</td>\n",
       "      <td>-2.698014</td>\n",
       "      <td>-15.219076</td>\n",
       "      <td>-3.901163</td>\n",
       "    </tr>\n",
       "    <tr>\n",
       "      <th>6</th>\n",
       "      <td>2.371456</td>\n",
       "      <td>0.016718</td>\n",
       "      <td>-2.980601</td>\n",
       "      <td>-17.083150</td>\n",
       "      <td>-4.133177</td>\n",
       "    </tr>\n",
       "    <tr>\n",
       "      <th>7</th>\n",
       "      <td>2.300863</td>\n",
       "      <td>0.014222</td>\n",
       "      <td>-2.709519</td>\n",
       "      <td>-13.744940</td>\n",
       "      <td>-3.707417</td>\n",
       "    </tr>\n",
       "    <tr>\n",
       "      <th>8</th>\n",
       "      <td>2.740891</td>\n",
       "      <td>0.024279</td>\n",
       "      <td>-2.832157</td>\n",
       "      <td>-14.196382</td>\n",
       "      <td>-3.767809</td>\n",
       "    </tr>\n",
       "    <tr>\n",
       "      <th>9</th>\n",
       "      <td>2.471361</td>\n",
       "      <td>0.016125</td>\n",
       "      <td>-2.641351</td>\n",
       "      <td>-12.622558</td>\n",
       "      <td>-3.552824</td>\n",
       "    </tr>\n",
       "  </tbody>\n",
       "</table>\n",
       "</div>"
      ],
      "text/plain": [
       "   fit_time  score_time  test_neg_mean_absolute_error  \\\n",
       "0  3.067025    0.016162                     -2.542489   \n",
       "1  2.391408    0.015462                     -3.466968   \n",
       "2  2.329651    0.016393                     -2.884387   \n",
       "3  2.505533    0.013076                     -2.680065   \n",
       "4  2.325190    0.015044                     -2.615952   \n",
       "5  2.365991    0.016735                     -2.698014   \n",
       "6  2.371456    0.016718                     -2.980601   \n",
       "7  2.300863    0.014222                     -2.709519   \n",
       "8  2.740891    0.024279                     -2.832157   \n",
       "9  2.471361    0.016125                     -2.641351   \n",
       "\n",
       "   test_neg_mean_squared_error  test_neg_root_mean_squared_error  \n",
       "0                   -12.084737                         -3.476311  \n",
       "1                   -23.781754                         -4.876654  \n",
       "2                   -17.112726                         -4.136753  \n",
       "3                   -14.146603                         -3.761197  \n",
       "4                   -14.001057                         -3.741799  \n",
       "5                   -15.219076                         -3.901163  \n",
       "6                   -17.083150                         -4.133177  \n",
       "7                   -13.744940                         -3.707417  \n",
       "8                   -14.196382                         -3.767809  \n",
       "9                   -12.622558                         -3.552824  "
      ]
     },
     "execution_count": 33,
     "metadata": {},
     "output_type": "execute_result"
    }
   ],
   "source": [
    "scores"
   ]
  },
  {
   "cell_type": "code",
   "execution_count": 34,
   "id": "fallen-smart",
   "metadata": {},
   "outputs": [],
   "source": [
    "mean_scores = scores.mean()"
   ]
  },
  {
   "cell_type": "code",
   "execution_count": 35,
   "id": "egyptian-spanking",
   "metadata": {},
   "outputs": [
    {
     "data": {
      "text/plain": [
       "fit_time                             2.486937\n",
       "score_time                           0.016422\n",
       "test_neg_mean_absolute_error        -2.805150\n",
       "test_neg_mean_squared_error        -15.399298\n",
       "test_neg_root_mean_squared_error    -3.905510\n",
       "dtype: float64"
      ]
     },
     "execution_count": 35,
     "metadata": {},
     "output_type": "execute_result"
    }
   ],
   "source": [
    "mean_scores"
   ]
  },
  {
   "cell_type": "markdown",
   "id": "enormous-journey",
   "metadata": {},
   "source": [
    "# Export Scores"
   ]
  },
  {
   "cell_type": "code",
   "execution_count": 36,
   "id": "residential-pattern",
   "metadata": {},
   "outputs": [],
   "source": [
    "mean_scores = mean_scores.rename(f'{model_name}')"
   ]
  },
  {
   "cell_type": "code",
   "execution_count": 37,
   "id": "respective-judgment",
   "metadata": {},
   "outputs": [],
   "source": [
    "mean_scores[[2,3,4]] = mean_scores[[2,3,4]].apply(abs)"
   ]
  },
  {
   "cell_type": "code",
   "execution_count": 38,
   "id": "subtle-ocean",
   "metadata": {},
   "outputs": [],
   "source": [
    "# mean_scores"
   ]
  },
  {
   "cell_type": "code",
   "execution_count": 39,
   "id": "organic-guest",
   "metadata": {},
   "outputs": [],
   "source": [
    "mean_scores = mean_scores.rename({\n",
    "    'fit_time':'Fit Time',\n",
    "    'score_time':'Score Time',\n",
    "    'test_neg_mean_absolute_error':'MAE',\n",
    "    'test_neg_mean_squared_error':'MSE',\n",
    "    'test_neg_root_mean_squared_error':'RMSE'\n",
    "})"
   ]
  },
  {
   "cell_type": "code",
   "execution_count": 40,
   "id": "patient-thought",
   "metadata": {},
   "outputs": [
    {
     "data": {
      "text/plain": [
       "Fit Time       2.486937\n",
       "Score Time     0.016422\n",
       "MAE            2.805150\n",
       "MSE           15.399298\n",
       "RMSE           3.905510\n",
       "Name: RandFoNFE, dtype: float64"
      ]
     },
     "execution_count": 40,
     "metadata": {},
     "output_type": "execute_result"
    }
   ],
   "source": [
    "mean_scores"
   ]
  },
  {
   "cell_type": "code",
   "execution_count": 41,
   "id": "advised-heavy",
   "metadata": {},
   "outputs": [],
   "source": [
    "mean_scores['STD FT'] = scores.fit_time.std()\n",
    "mean_scores['STD ST'] = scores.score_time.std()\n",
    "mean_scores['STD MAE'] = scores.test_neg_mean_absolute_error.std()\n",
    "mean_scores['STD MSE'] = scores.test_neg_mean_squared_error.std()\n",
    "mean_scores['STD RMSE'] = scores.test_neg_root_mean_squared_error.std()"
   ]
  },
  {
   "cell_type": "code",
   "execution_count": 42,
   "id": "desirable-canvas",
   "metadata": {},
   "outputs": [
    {
     "data": {
      "text/plain": [
       "Fit Time       2.486937\n",
       "Score Time     0.016422\n",
       "MAE            2.805150\n",
       "MSE           15.399298\n",
       "RMSE           3.905510\n",
       "STD FT         0.241338\n",
       "STD ST         0.002999\n",
       "STD MAE        0.267432\n",
       "STD MSE        3.374316\n",
       "STD RMSE       0.403165\n",
       "Name: RandFoNFE, dtype: float64"
      ]
     },
     "execution_count": 42,
     "metadata": {},
     "output_type": "execute_result"
    }
   ],
   "source": [
    "mean_scores"
   ]
  },
  {
   "cell_type": "code",
   "execution_count": 43,
   "id": "optional-yahoo",
   "metadata": {},
   "outputs": [],
   "source": [
    "mean_scores.to_csv(f'./scores/{model_name}-100-score.csv')"
   ]
  },
  {
   "cell_type": "markdown",
   "id": "photographic-position",
   "metadata": {},
   "source": [
    "# Holdout Test"
   ]
  },
  {
   "cell_type": "code",
   "execution_count": 44,
   "id": "upset-marks",
   "metadata": {},
   "outputs": [
    {
     "data": {
      "text/plain": [
       "RandomForestRegressor()"
      ]
     },
     "execution_count": 44,
     "metadata": {},
     "output_type": "execute_result"
    }
   ],
   "source": [
    "score_model.fit(X_train,y_train)"
   ]
  },
  {
   "cell_type": "code",
   "execution_count": 45,
   "id": "necessary-posting",
   "metadata": {},
   "outputs": [],
   "source": [
    "y_holdout = score_model.predict(X_test)"
   ]
  },
  {
   "cell_type": "code",
   "execution_count": 46,
   "id": "vital-homework",
   "metadata": {},
   "outputs": [
    {
     "data": {
      "text/plain": [
       "<AxesSubplot:ylabel='Count'>"
      ]
     },
     "execution_count": 46,
     "metadata": {},
     "output_type": "execute_result"
    },
    {
     "data": {
      "image/png": "[encoded data removed]",
      "text/plain": [
       "<Figure size 432x288 with 1 Axes>"
      ]
     },
     "metadata": {
      "needs_background": "light"
     },
     "output_type": "display_data"
    }
   ],
   "source": [
    "sns.histplot(y_holdout,bins=40,kde=True)"
   ]
  },
  {
   "cell_type": "code",
   "execution_count": 47,
   "id": "expanded-poverty",
   "metadata": {},
   "outputs": [
    {
     "data": {
      "text/plain": [
       "<matplotlib.legend.Legend at 0x7fc373d1aee0>"
      ]
     },
     "execution_count": 47,
     "metadata": {},
     "output_type": "execute_result"
    },
    {
     "data": {
      "image/png": "[encoded data removed]",
      "text/plain": [
       "<Figure size 432x288 with 1 Axes>"
      ]
     },
     "metadata": {
      "needs_background": "light"
     },
     "output_type": "display_data"
    }
   ],
   "source": [
    "fig,ax = plt.subplots()\n",
    "\n",
    "sns.kdeplot(y_test, ax=ax, shade=True, label='Observations')\n",
    "sns.kdeplot(y_holdout, ax=ax,shade=True,label='Predictions')\n",
    "\n",
    "ax.legend(loc='best')"
   ]
  },
  {
   "cell_type": "code",
   "execution_count": 48,
   "id": "stable-toilet",
   "metadata": {},
   "outputs": [
    {
     "data": {
      "text/plain": [
       "<matplotlib.legend.Legend at 0x7fc373e9c880>"
      ]
     },
     "execution_count": 48,
     "metadata": {},
     "output_type": "execute_result"
    },
    {
     "data": {
      "image/png": "[encoded data removed]",
      "text/plain": [
       "<Figure size 432x288 with 1 Axes>"
      ]
     },
     "metadata": {
      "needs_background": "light"
     },
     "output_type": "display_data"
    }
   ],
   "source": [
    "fig,ax = plt.subplots()\n",
    "\n",
    "sns.ecdfplot(y_test, ax=ax, label='Observations')\n",
    "sns.ecdfplot(y_holdout, ax=ax,label='Predictions')\n",
    "plt.axvline(x=y_test.mean(),color='grey',linestyle='--')\n",
    "\n",
    "ax.legend(loc='best')"
   ]
  },
  {
   "cell_type": "code",
   "execution_count": 49,
   "id": "impressed-minister",
   "metadata": {},
   "outputs": [],
   "source": [
    "from sklearn.metrics import mean_absolute_error, mean_squared_error\n",
    "\n",
    "mae = mean_absolute_error(y_test,y_holdout)\n",
    "mse = mean_squared_error(y_test,y_holdout)\n",
    "rmse = np.sqrt(mse)"
   ]
  },
  {
   "cell_type": "code",
   "execution_count": 50,
   "id": "excess-automation",
   "metadata": {},
   "outputs": [
    {
     "data": {
      "text/html": [
       "<div>\n",
       "<style scoped>\n",
       "    .dataframe tbody tr th:only-of-type {\n",
       "        vertical-align: middle;\n",
       "    }\n",
       "\n",
       "    .dataframe tbody tr th {\n",
       "        vertical-align: top;\n",
       "    }\n",
       "\n",
       "    .dataframe thead th {\n",
       "        text-align: right;\n",
       "    }\n",
       "</style>\n",
       "<table border=\"1\" class=\"dataframe\">\n",
       "  <thead>\n",
       "    <tr style=\"text-align: right;\">\n",
       "      <th></th>\n",
       "      <th>RandFoNFE</th>\n",
       "    </tr>\n",
       "  </thead>\n",
       "  <tbody>\n",
       "    <tr>\n",
       "      <th>MAE</th>\n",
       "      <td>2.841433</td>\n",
       "    </tr>\n",
       "    <tr>\n",
       "      <th>MSE</th>\n",
       "      <td>16.664902</td>\n",
       "    </tr>\n",
       "    <tr>\n",
       "      <th>RMSE</th>\n",
       "      <td>4.082267</td>\n",
       "    </tr>\n",
       "  </tbody>\n",
       "</table>\n",
       "</div>"
      ],
      "text/plain": [
       "      RandFoNFE\n",
       "MAE    2.841433\n",
       "MSE   16.664902\n",
       "RMSE   4.082267"
      ]
     },
     "execution_count": 50,
     "metadata": {},
     "output_type": "execute_result"
    }
   ],
   "source": [
    "err_df = pd.DataFrame(data=[mae, mse, rmse],index=['MAE','MSE','RMSE'],columns=[f'{model_name}'])\n",
    "err_df"
   ]
  },
  {
   "cell_type": "code",
   "execution_count": 51,
   "id": "romance-mineral",
   "metadata": {},
   "outputs": [],
   "source": [
    "err_df.to_csv(f'./holdout-test/{model_name}-err.csv')\n",
    "# mean_scores.to_csv(f'./opt-model-err/{model_name}-err.csv')"
   ]
  },
  {
   "cell_type": "code",
   "execution_count": 52,
   "id": "adverse-python",
   "metadata": {},
   "outputs": [
    {
     "data": {
      "text/plain": [
       "mean     0.285570\n",
       "std      4.081770\n",
       "min    -14.072515\n",
       "25%     -1.593012\n",
       "50%      0.291681\n",
       "75%      2.165817\n",
       "max     20.563412\n",
       "Name: throughput, dtype: float64"
      ]
     },
     "execution_count": 52,
     "metadata": {},
     "output_type": "execute_result"
    }
   ],
   "source": [
    "res = y_test - y_holdout\n",
    "res.describe().drop('count')"
   ]
  },
  {
   "cell_type": "code",
   "execution_count": 53,
   "id": "sized-satin",
   "metadata": {},
   "outputs": [
    {
     "data": {
      "text/plain": [
       "<AxesSubplot:xlabel='throughput', ylabel='Count'>"
      ]
     },
     "execution_count": 53,
     "metadata": {},
     "output_type": "execute_result"
    },
    {
     "data": {
      "image/png": "[encoded data removed]",
      "text/plain": [
       "<Figure size 432x288 with 1 Axes>"
      ]
     },
     "metadata": {
      "needs_background": "light"
     },
     "output_type": "display_data"
    }
   ],
   "source": [
    "sns.histplot(data=res, kde=True,bins=40)"
   ]
  },
  {
   "cell_type": "code",
   "execution_count": 54,
   "id": "fifteen-nutrition",
   "metadata": {},
   "outputs": [
    {
     "data": {
      "text/plain": [
       "<matplotlib.lines.Line2D at 0x7fc374131250>"
      ]
     },
     "execution_count": 54,
     "metadata": {},
     "output_type": "execute_result"
    },
    {
     "data": {
      "image/png": "[encoded data removed]",
      "text/plain": [
       "<Figure size 432x288 with 1 Axes>"
      ]
     },
     "metadata": {
      "needs_background": "light"
     },
     "output_type": "display_data"
    }
   ],
   "source": [
    "ax = sns.scatterplot(x=y_test, y=res)\n",
    "ax.set(ylabel='Residuals', xlabel='Test Label')\n",
    "plt.axhline(y=0,color='red',linestyle='--')\n",
    "\n",
    "# there should be no clear pattern / curve in the plot\n",
    "# we see a positive correlation between Test Label and Residuals -> later models should avoid this pattern"
   ]
  },
  {
   "cell_type": "code",
   "execution_count": 55,
   "id": "competitive-mayor",
   "metadata": {},
   "outputs": [
    {
     "data": {
      "image/png": "[encoded data removed]",
      "text/plain": [
       "<Figure size 432x288 with 1 Axes>"
      ]
     },
     "metadata": {
      "needs_background": "light"
     },
     "output_type": "display_data"
    }
   ],
   "source": [
    "import scipy as sp\n",
    "\n",
    "fig, ax = plt.subplots()\n",
    "sp.stats.probplot(res,plot=ax);"
   ]
  },
  {
   "cell_type": "markdown",
   "id": "magnetic-wales",
   "metadata": {},
   "source": [
    "# Export Optimized Model"
   ]
  },
  {
   "cell_type": "code",
   "execution_count": 56,
   "id": "enclosed-greece",
   "metadata": {},
   "outputs": [
    {
     "data": {
      "text/plain": [
       "StandardScaler()"
      ]
     },
     "execution_count": 56,
     "metadata": {},
     "output_type": "execute_result"
    }
   ],
   "source": [
    "from sklearn.preprocessing import StandardScaler\n",
    "scaler = StandardScaler()\n",
    "scaler.fit(X)"
   ]
  },
  {
   "cell_type": "code",
   "execution_count": 57,
   "id": "identical-tsunami",
   "metadata": {},
   "outputs": [
    {
     "data": {
      "text/plain": [
       "RandomForestRegressor()"
      ]
     },
     "execution_count": 57,
     "metadata": {},
     "output_type": "execute_result"
    }
   ],
   "source": [
    "# MODIFY! \n",
    "X = scaler.transform(X)\n",
    "\n",
    "op_model = score_model\n",
    "\n",
    "op_model.fit(X,y)"
   ]
  },
  {
   "cell_type": "code",
   "execution_count": 58,
   "id": "competent-inclusion",
   "metadata": {},
   "outputs": [],
   "source": [
    "y_pred = op_model.predict(X)"
   ]
  },
  {
   "cell_type": "code",
   "execution_count": 59,
   "id": "pointed-killing",
   "metadata": {},
   "outputs": [
    {
     "data": {
      "text/plain": [
       "<AxesSubplot:ylabel='Count'>"
      ]
     },
     "execution_count": 59,
     "metadata": {},
     "output_type": "execute_result"
    },
    {
     "data": {
      "image/png": "[encoded data removed]",
      "text/plain": [
       "<Figure size 432x288 with 1 Axes>"
      ]
     },
     "metadata": {
      "needs_background": "light"
     },
     "output_type": "display_data"
    }
   ],
   "source": [
    "sns.histplot(y_pred,bins=40,kde=True)"
   ]
  },
  {
   "cell_type": "code",
   "execution_count": 60,
   "id": "collective-strength",
   "metadata": {},
   "outputs": [
    {
     "data": {
      "text/plain": [
       "<matplotlib.legend.Legend at 0x7fc3746405e0>"
      ]
     },
     "execution_count": 60,
     "metadata": {},
     "output_type": "execute_result"
    },
    {
     "data": {
      "image/png": "[encoded data removed]",
      "text/plain": [
       "<Figure size 432x288 with 1 Axes>"
      ]
     },
     "metadata": {
      "needs_background": "light"
     },
     "output_type": "display_data"
    }
   ],
   "source": [
    "fig,ax = plt.subplots()\n",
    "\n",
    "sns.kdeplot(y, ax=ax, shade=True, label='Observations')\n",
    "sns.kdeplot(y_pred, ax=ax,shade=True,label='Predictions')\n",
    "\n",
    "ax.legend(loc='best')"
   ]
  },
  {
   "cell_type": "code",
   "execution_count": 61,
   "id": "detected-miami",
   "metadata": {},
   "outputs": [
    {
     "data": {
      "text/plain": [
       "<matplotlib.legend.Legend at 0x7fc374726ac0>"
      ]
     },
     "execution_count": 61,
     "metadata": {},
     "output_type": "execute_result"
    },
    {
     "data": {
      "image/png": "[encoded data removed]",
      "text/plain": [
       "<Figure size 432x288 with 1 Axes>"
      ]
     },
     "metadata": {
      "needs_background": "light"
     },
     "output_type": "display_data"
    }
   ],
   "source": [
    "fig,ax = plt.subplots()\n",
    "\n",
    "sns.ecdfplot(y, ax=ax, label='Observations')\n",
    "sns.ecdfplot(y_pred, ax=ax,label='Predictions')\n",
    "plt.axvline(x=y.mean(),color='grey',linestyle='--')\n",
    "\n",
    "ax.legend(loc='best')"
   ]
  },
  {
   "cell_type": "code",
   "execution_count": 62,
   "id": "according-speech",
   "metadata": {},
   "outputs": [],
   "source": [
    "mae = mean_absolute_error(y,y_pred)\n",
    "mse = mean_squared_error(y,y_pred)\n",
    "rmse = np.sqrt(mse)"
   ]
  },
  {
   "cell_type": "code",
   "execution_count": 63,
   "id": "institutional-clock",
   "metadata": {},
   "outputs": [
    {
     "data": {
      "text/html": [
       "<div>\n",
       "<style scoped>\n",
       "    .dataframe tbody tr th:only-of-type {\n",
       "        vertical-align: middle;\n",
       "    }\n",
       "\n",
       "    .dataframe tbody tr th {\n",
       "        vertical-align: top;\n",
       "    }\n",
       "\n",
       "    .dataframe thead th {\n",
       "        text-align: right;\n",
       "    }\n",
       "</style>\n",
       "<table border=\"1\" class=\"dataframe\">\n",
       "  <thead>\n",
       "    <tr style=\"text-align: right;\">\n",
       "      <th></th>\n",
       "      <th>RandFoNFE</th>\n",
       "    </tr>\n",
       "  </thead>\n",
       "  <tbody>\n",
       "    <tr>\n",
       "      <th>MAE</th>\n",
       "      <td>1.025789</td>\n",
       "    </tr>\n",
       "    <tr>\n",
       "      <th>MSE</th>\n",
       "      <td>2.081408</td>\n",
       "    </tr>\n",
       "    <tr>\n",
       "      <th>RMSE</th>\n",
       "      <td>1.442708</td>\n",
       "    </tr>\n",
       "  </tbody>\n",
       "</table>\n",
       "</div>"
      ],
      "text/plain": [
       "      RandFoNFE\n",
       "MAE    1.025789\n",
       "MSE    2.081408\n",
       "RMSE   1.442708"
      ]
     },
     "execution_count": 63,
     "metadata": {},
     "output_type": "execute_result"
    }
   ],
   "source": [
    "err_df = pd.DataFrame(data=[mae, mse, rmse],index=['MAE','MSE','RMSE'],columns=[f'{model_name}'])\n",
    "err_df"
   ]
  },
  {
   "cell_type": "code",
   "execution_count": 64,
   "id": "prescription-denmark",
   "metadata": {},
   "outputs": [],
   "source": [
    "err_df.to_csv(f'./model-err/{model_name}-err.csv')\n",
    "# mean_scores.to_csv(f'./opt-model-err/{model_name}-err.csv')"
   ]
  },
  {
   "cell_type": "code",
   "execution_count": 65,
   "id": "physical-think",
   "metadata": {},
   "outputs": [
    {
     "data": {
      "text/plain": [
       "['./opt-models/RandFoNFE-model.joblib']"
      ]
     },
     "execution_count": 65,
     "metadata": {},
     "output_type": "execute_result"
    }
   ],
   "source": [
    "from joblib import dump, load\n",
    "dump(op_model, f'./opt-models/{model_name}-model.joblib')"
   ]
  },
  {
   "cell_type": "code",
   "execution_count": 66,
   "id": "first-tenant",
   "metadata": {},
   "outputs": [
    {
     "data": {
      "text/plain": [
       "mean   -0.034086\n",
       "std     1.442643\n",
       "min    -7.488610\n",
       "25%    -0.702411\n",
       "50%    -0.006381\n",
       "75%     0.724668\n",
       "max     7.235397\n",
       "Name: throughput, dtype: float64"
      ]
     },
     "execution_count": 66,
     "metadata": {},
     "output_type": "execute_result"
    }
   ],
   "source": [
    "res = y - y_pred\n",
    "res.describe().drop('count')"
   ]
  },
  {
   "cell_type": "code",
   "execution_count": 67,
   "id": "capable-conditioning",
   "metadata": {},
   "outputs": [
    {
     "data": {
      "text/plain": [
       "<AxesSubplot:xlabel='throughput', ylabel='Count'>"
      ]
     },
     "execution_count": 67,
     "metadata": {},
     "output_type": "execute_result"
    },
    {
     "data": {
      "image/png": "[encoded data removed]",
      "text/plain": [
       "<Figure size 432x288 with 1 Axes>"
      ]
     },
     "metadata": {
      "needs_background": "light"
     },
     "output_type": "display_data"
    }
   ],
   "source": [
    "sns.histplot(data=res, kde=True,bins=40)"
   ]
  },
  {
   "cell_type": "code",
   "execution_count": 68,
   "id": "written-aquatic",
   "metadata": {},
   "outputs": [
    {
     "data": {
      "text/plain": [
       "<matplotlib.lines.Line2D at 0x7fc374090400>"
      ]
     },
     "execution_count": 68,
     "metadata": {},
     "output_type": "execute_result"
    },
    {
     "data": {
      "image/png": "[encoded data removed]",
      "text/plain": [
       "<Figure size 432x288 with 1 Axes>"
      ]
     },
     "metadata": {
      "needs_background": "light"
     },
     "output_type": "display_data"
    }
   ],
   "source": [
    "ax = sns.scatterplot(x=y_test, y=res)\n",
    "ax.set(ylabel='Residuals', xlabel='Test Label')\n",
    "plt.axhline(y=0,color='red',linestyle='--')\n",
    "\n",
    "# there should be no clear pattern / curve in the plot\n",
    "# we see a positive correlation between Test Label and Residuals -> later models should avoid this pattern"
   ]
  },
  {
   "cell_type": "code",
   "execution_count": 69,
   "id": "pleasant-tattoo",
   "metadata": {},
   "outputs": [
    {
     "data": {
      "image/png": "[encoded data removed]",
      "text/plain": [
       "<Figure size 432x288 with 1 Axes>"
      ]
     },
     "metadata": {
      "needs_background": "light"
     },
     "output_type": "display_data"
    }
   ],
   "source": [
    "import scipy as sp\n",
    "\n",
    "fig, ax = plt.subplots()\n",
    "sp.stats.probplot(res,plot=ax);"
   ]
  },
  {
   "cell_type": "markdown",
   "id": "supported-jacksonville",
   "metadata": {},
   "source": [
    "DONE!"
   ]
  },
  {
   "cell_type": "code",
   "execution_count": null,
   "id": "detailed-equality",
   "metadata": {},
   "outputs": [],
   "source": []
  }
 ],
 "metadata": {
  "kernelspec": {
   "display_name": "Python 3",
   "language": "python",
   "name": "python3"
  },
  "language_info": {
   "codemirror_mode": {
    "name": "ipython",
    "version": 3
   },
   "file_extension": ".py",
   "mimetype": "text/x-python",
   "name": "python",
   "nbconvert_exporter": "python",
   "pygments_lexer": "ipython3",
   "version": "3.8.6"
  }
 },
 "nbformat": 4,
 "nbformat_minor": 5
}
