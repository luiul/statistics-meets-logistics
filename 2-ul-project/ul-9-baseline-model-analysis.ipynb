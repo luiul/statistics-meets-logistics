{
 "cells": [
  {
   "cell_type": "code",
   "execution_count": 1,
   "id": "complete-traffic",
   "metadata": {},
   "outputs": [],
   "source": [
    "# MODIFY!\n",
    "notebook_name = 'baseline'"
   ]
  },
  {
   "cell_type": "markdown",
   "id": "grateful-broadway",
   "metadata": {},
   "source": [
    "# Import Libaries & Define Functions"
   ]
  },
  {
   "cell_type": "code",
   "execution_count": 2,
   "id": "designed-satin",
   "metadata": {},
   "outputs": [],
   "source": [
    "import numpy as np\n",
    "import pandas as pd\n",
    "import matplotlib.pyplot as plt\n",
    "import seaborn as sns\n",
    "import glob"
   ]
  },
  {
   "cell_type": "code",
   "execution_count": 3,
   "id": "legendary-junior",
   "metadata": {},
   "outputs": [],
   "source": [
    "sns.set(style='whitegrid')"
   ]
  },
  {
   "cell_type": "code",
   "execution_count": 4,
   "id": "sized-mountain",
   "metadata": {},
   "outputs": [],
   "source": [
    "def frame_it(path):\n",
    "    csv_files = glob.glob(path + '/*.csv')\n",
    "    df_list = []\n",
    "    \n",
    "    for filename in csv_files:\n",
    "        df = pd.read_csv(filename, index_col='Unnamed: 0', header=0)\n",
    "        df_list.append(df)\n",
    "\n",
    "    return pd.concat(df_list, axis=1)"
   ]
  },
  {
   "cell_type": "code",
   "execution_count": 5,
   "id": "advanced-coordinate",
   "metadata": {},
   "outputs": [],
   "source": [
    "def show_values_on_bars(axs, h_v=\"v\", space=0.4,pct=False,neg=False):\n",
    "    def _show_on_single_plot(ax):\n",
    "        if h_v == \"v\":\n",
    "            for p in ax.patches:\n",
    "                _x = p.get_x() + p.get_width() / 2\n",
    "                _y = p.get_y() + p.get_height()\n",
    "                if pct == True: \n",
    "                    value = '{:.2%}'.format(p.get_height())\n",
    "                else: \n",
    "                    value = '{:.2f}'.format(p.get_height())\n",
    "                ax.text(_x, _y, value, ha=\"center\") \n",
    "        \n",
    "        elif h_v == \"h\":\n",
    "            for p in ax.patches:\n",
    "                _x = p.get_x() + p.get_width() + float(space)\n",
    "                _y = p.get_y() + p.get_height()\n",
    "                if pct == True: \n",
    "                    value = '{:.2%}'.format(p.get_width())\n",
    "                else: \n",
    "                    value = '{:.2f}'.format(p.get_width())\n",
    "                if neg == True: \n",
    "                    ax.text(_x, _y, value, ha=\"right\")\n",
    "                else:\n",
    "                    ax.text(_x, _y, value, ha=\"left\")\n",
    "\n",
    "    if isinstance(axs, np.ndarray):\n",
    "        for idx, ax in np.ndenumerate(axs):\n",
    "            _show_on_single_plot(ax)\n",
    "    else:\n",
    "        _show_on_single_plot(axs)"
   ]
  },
  {
   "cell_type": "markdown",
   "id": "searching-interval",
   "metadata": {},
   "source": [
    "# Analysis"
   ]
  },
  {
   "cell_type": "code",
   "execution_count": 6,
   "id": "floating-maximum",
   "metadata": {},
   "outputs": [],
   "source": [
    "# MODIFY!\n",
    "df = frame_it('./baseline-err')\n",
    "# we tranpose the data frame for the analysis"
   ]
  },
  {
   "cell_type": "code",
   "execution_count": 7,
   "id": "compound-trigger",
   "metadata": {},
   "outputs": [],
   "source": [
    "df = df.T\n",
    "# we transpose the data frame due to way we exported the data"
   ]
  },
  {
   "cell_type": "code",
   "execution_count": 8,
   "id": "cardiac-dining",
   "metadata": {},
   "outputs": [
    {
     "data": {
      "text/html": [
       "<div>\n",
       "<style scoped>\n",
       "    .dataframe tbody tr th:only-of-type {\n",
       "        vertical-align: middle;\n",
       "    }\n",
       "\n",
       "    .dataframe tbody tr th {\n",
       "        vertical-align: top;\n",
       "    }\n",
       "\n",
       "    .dataframe thead th {\n",
       "        text-align: right;\n",
       "    }\n",
       "</style>\n",
       "<table border=\"1\" class=\"dataframe\">\n",
       "  <thead>\n",
       "    <tr style=\"text-align: right;\">\n",
       "      <th></th>\n",
       "      <th>MAE</th>\n",
       "      <th>MSE</th>\n",
       "      <th>RMSE</th>\n",
       "    </tr>\n",
       "  </thead>\n",
       "  <tbody>\n",
       "    <tr>\n",
       "      <th>rf-baseline-no</th>\n",
       "      <td>2.817641</td>\n",
       "      <td>16.563418</td>\n",
       "      <td>4.069818</td>\n",
       "    </tr>\n",
       "    <tr>\n",
       "      <th>rf-baseline-wo</th>\n",
       "      <td>2.984313</td>\n",
       "      <td>17.890513</td>\n",
       "      <td>4.229718</td>\n",
       "    </tr>\n",
       "    <tr>\n",
       "      <th>poi-baseline-no</th>\n",
       "      <td>4.542677</td>\n",
       "      <td>31.798869</td>\n",
       "      <td>5.639049</td>\n",
       "    </tr>\n",
       "    <tr>\n",
       "      <th>poi-baseline-wo</th>\n",
       "      <td>4.533693</td>\n",
       "      <td>32.143539</td>\n",
       "      <td>5.669527</td>\n",
       "    </tr>\n",
       "    <tr>\n",
       "      <th>svr-baseline-wo</th>\n",
       "      <td>5.204604</td>\n",
       "      <td>42.882650</td>\n",
       "      <td>6.548485</td>\n",
       "    </tr>\n",
       "    <tr>\n",
       "      <th>svr-baseline-no</th>\n",
       "      <td>5.331661</td>\n",
       "      <td>44.914843</td>\n",
       "      <td>6.701854</td>\n",
       "    </tr>\n",
       "  </tbody>\n",
       "</table>\n",
       "</div>"
      ],
      "text/plain": [
       "                      MAE        MSE      RMSE\n",
       "rf-baseline-no   2.817641  16.563418  4.069818\n",
       "rf-baseline-wo   2.984313  17.890513  4.229718\n",
       "poi-baseline-no  4.542677  31.798869  5.639049\n",
       "poi-baseline-wo  4.533693  32.143539  5.669527\n",
       "svr-baseline-wo  5.204604  42.882650  6.548485\n",
       "svr-baseline-no  5.331661  44.914843  6.701854"
      ]
     },
     "execution_count": 8,
     "metadata": {},
     "output_type": "execute_result"
    }
   ],
   "source": [
    "df_rmse = df.sort_values('RMSE')\n",
    "df_rmse"
   ]
  },
  {
   "cell_type": "code",
   "execution_count": 9,
   "id": "loving-latvia",
   "metadata": {},
   "outputs": [],
   "source": [
    "df_rmse.to_csv(f'./analysis/{notebook_name}.csv')"
   ]
  },
  {
   "cell_type": "markdown",
   "id": "beginning-transformation",
   "metadata": {},
   "source": [
    "## ERR Values [MBit/s] and [(MBit/s)^2]"
   ]
  },
  {
   "cell_type": "code",
   "execution_count": 10,
   "id": "unable-reducing",
   "metadata": {},
   "outputs": [
    {
     "data": {
      "text/html": [
       "<style  type=\"text/css\" >\n",
       "    #T_52b10988_5e60_11eb_b5c8_60f81dd06e70 tr:hover {\n",
       "          background-color: ;\n",
       "    }#T_52b10988_5e60_11eb_b5c8_60f81dd06e70row0_col0,#T_52b10988_5e60_11eb_b5c8_60f81dd06e70row0_col1,#T_52b10988_5e60_11eb_b5c8_60f81dd06e70row0_col2{\n",
       "            background-color:  grey;\n",
       "        }</style><table id=\"T_52b10988_5e60_11eb_b5c8_60f81dd06e70\" ><thead>    <tr>        <th class=\"blank level0\" ></th>        <th class=\"col_heading level0 col0\" >MAE</th>        <th class=\"col_heading level0 col1\" >MSE</th>        <th class=\"col_heading level0 col2\" >RMSE</th>    </tr></thead><tbody>\n",
       "                <tr>\n",
       "                        <th id=\"T_52b10988_5e60_11eb_b5c8_60f81dd06e70level0_row0\" class=\"row_heading level0 row0\" >rf-baseline-no</th>\n",
       "                        <td id=\"T_52b10988_5e60_11eb_b5c8_60f81dd06e70row0_col0\" class=\"data row0 col0\" >2.817641</td>\n",
       "                        <td id=\"T_52b10988_5e60_11eb_b5c8_60f81dd06e70row0_col1\" class=\"data row0 col1\" >16.563418</td>\n",
       "                        <td id=\"T_52b10988_5e60_11eb_b5c8_60f81dd06e70row0_col2\" class=\"data row0 col2\" >4.069818</td>\n",
       "            </tr>\n",
       "            <tr>\n",
       "                        <th id=\"T_52b10988_5e60_11eb_b5c8_60f81dd06e70level0_row1\" class=\"row_heading level0 row1\" >rf-baseline-wo</th>\n",
       "                        <td id=\"T_52b10988_5e60_11eb_b5c8_60f81dd06e70row1_col0\" class=\"data row1 col0\" >2.984313</td>\n",
       "                        <td id=\"T_52b10988_5e60_11eb_b5c8_60f81dd06e70row1_col1\" class=\"data row1 col1\" >17.890513</td>\n",
       "                        <td id=\"T_52b10988_5e60_11eb_b5c8_60f81dd06e70row1_col2\" class=\"data row1 col2\" >4.229718</td>\n",
       "            </tr>\n",
       "            <tr>\n",
       "                        <th id=\"T_52b10988_5e60_11eb_b5c8_60f81dd06e70level0_row2\" class=\"row_heading level0 row2\" >poi-baseline-no</th>\n",
       "                        <td id=\"T_52b10988_5e60_11eb_b5c8_60f81dd06e70row2_col0\" class=\"data row2 col0\" >4.542677</td>\n",
       "                        <td id=\"T_52b10988_5e60_11eb_b5c8_60f81dd06e70row2_col1\" class=\"data row2 col1\" >31.798869</td>\n",
       "                        <td id=\"T_52b10988_5e60_11eb_b5c8_60f81dd06e70row2_col2\" class=\"data row2 col2\" >5.639049</td>\n",
       "            </tr>\n",
       "            <tr>\n",
       "                        <th id=\"T_52b10988_5e60_11eb_b5c8_60f81dd06e70level0_row3\" class=\"row_heading level0 row3\" >poi-baseline-wo</th>\n",
       "                        <td id=\"T_52b10988_5e60_11eb_b5c8_60f81dd06e70row3_col0\" class=\"data row3 col0\" >4.533693</td>\n",
       "                        <td id=\"T_52b10988_5e60_11eb_b5c8_60f81dd06e70row3_col1\" class=\"data row3 col1\" >32.143539</td>\n",
       "                        <td id=\"T_52b10988_5e60_11eb_b5c8_60f81dd06e70row3_col2\" class=\"data row3 col2\" >5.669527</td>\n",
       "            </tr>\n",
       "            <tr>\n",
       "                        <th id=\"T_52b10988_5e60_11eb_b5c8_60f81dd06e70level0_row4\" class=\"row_heading level0 row4\" >svr-baseline-wo</th>\n",
       "                        <td id=\"T_52b10988_5e60_11eb_b5c8_60f81dd06e70row4_col0\" class=\"data row4 col0\" >5.204604</td>\n",
       "                        <td id=\"T_52b10988_5e60_11eb_b5c8_60f81dd06e70row4_col1\" class=\"data row4 col1\" >42.882650</td>\n",
       "                        <td id=\"T_52b10988_5e60_11eb_b5c8_60f81dd06e70row4_col2\" class=\"data row4 col2\" >6.548485</td>\n",
       "            </tr>\n",
       "            <tr>\n",
       "                        <th id=\"T_52b10988_5e60_11eb_b5c8_60f81dd06e70level0_row5\" class=\"row_heading level0 row5\" >svr-baseline-no</th>\n",
       "                        <td id=\"T_52b10988_5e60_11eb_b5c8_60f81dd06e70row5_col0\" class=\"data row5 col0\" >5.331661</td>\n",
       "                        <td id=\"T_52b10988_5e60_11eb_b5c8_60f81dd06e70row5_col1\" class=\"data row5 col1\" >44.914843</td>\n",
       "                        <td id=\"T_52b10988_5e60_11eb_b5c8_60f81dd06e70row5_col2\" class=\"data row5 col2\" >6.701854</td>\n",
       "            </tr>\n",
       "    </tbody></table>"
      ],
      "text/plain": [
       "<pandas.io.formats.style.Styler at 0x7ff88c795580>"
      ]
     },
     "execution_count": 10,
     "metadata": {},
     "output_type": "execute_result"
    }
   ],
   "source": [
    "df_rmse.style.highlight_min(color = 'grey', axis = 0).set_table_styles([{'selector': 'tr:hover','props': [('background-color', '')]}])"
   ]
  },
  {
   "cell_type": "markdown",
   "id": "controlling-direction",
   "metadata": {},
   "source": [
    "## RMSE Performance Decline based on Best Performance [%]"
   ]
  },
  {
   "cell_type": "code",
   "execution_count": 11,
   "id": "tropical-romance",
   "metadata": {},
   "outputs": [],
   "source": [
    "df_rmse_min = df_rmse.apply(lambda value : -((value/df.min())-1),axis=1)"
   ]
  },
  {
   "cell_type": "code",
   "execution_count": 12,
   "id": "ranking-society",
   "metadata": {},
   "outputs": [],
   "source": [
    "df_rmse_min = df_rmse_min.sort_values('RMSE',ascending=False)"
   ]
  },
  {
   "cell_type": "code",
   "execution_count": 13,
   "id": "hydraulic-combat",
   "metadata": {},
   "outputs": [],
   "source": [
    "df_rmse_min.to_csv(f'./analysis/{notebook_name}-min.csv')"
   ]
  },
  {
   "cell_type": "code",
   "execution_count": 14,
   "id": "careful-status",
   "metadata": {},
   "outputs": [
    {
     "data": {
      "text/html": [
       "<style  type=\"text/css\" >\n",
       "    #T_52db1750_5e60_11eb_b5c8_60f81dd06e70 tr:hover {\n",
       "          background-color: ;\n",
       "    }#T_52db1750_5e60_11eb_b5c8_60f81dd06e70row0_col0,#T_52db1750_5e60_11eb_b5c8_60f81dd06e70row0_col1,#T_52db1750_5e60_11eb_b5c8_60f81dd06e70row0_col2{\n",
       "            background-color:  grey;\n",
       "        }</style><table id=\"T_52db1750_5e60_11eb_b5c8_60f81dd06e70\" ><thead>    <tr>        <th class=\"blank level0\" ></th>        <th class=\"col_heading level0 col0\" >MAE</th>        <th class=\"col_heading level0 col1\" >MSE</th>        <th class=\"col_heading level0 col2\" >RMSE</th>    </tr></thead><tbody>\n",
       "                <tr>\n",
       "                        <th id=\"T_52db1750_5e60_11eb_b5c8_60f81dd06e70level0_row0\" class=\"row_heading level0 row0\" >rf-baseline-no</th>\n",
       "                        <td id=\"T_52db1750_5e60_11eb_b5c8_60f81dd06e70row0_col0\" class=\"data row0 col0\" >-0.00%</td>\n",
       "                        <td id=\"T_52db1750_5e60_11eb_b5c8_60f81dd06e70row0_col1\" class=\"data row0 col1\" >-0.00%</td>\n",
       "                        <td id=\"T_52db1750_5e60_11eb_b5c8_60f81dd06e70row0_col2\" class=\"data row0 col2\" >-0.00%</td>\n",
       "            </tr>\n",
       "            <tr>\n",
       "                        <th id=\"T_52db1750_5e60_11eb_b5c8_60f81dd06e70level0_row1\" class=\"row_heading level0 row1\" >rf-baseline-wo</th>\n",
       "                        <td id=\"T_52db1750_5e60_11eb_b5c8_60f81dd06e70row1_col0\" class=\"data row1 col0\" >-5.92%</td>\n",
       "                        <td id=\"T_52db1750_5e60_11eb_b5c8_60f81dd06e70row1_col1\" class=\"data row1 col1\" >-8.01%</td>\n",
       "                        <td id=\"T_52db1750_5e60_11eb_b5c8_60f81dd06e70row1_col2\" class=\"data row1 col2\" >-3.93%</td>\n",
       "            </tr>\n",
       "            <tr>\n",
       "                        <th id=\"T_52db1750_5e60_11eb_b5c8_60f81dd06e70level0_row2\" class=\"row_heading level0 row2\" >poi-baseline-no</th>\n",
       "                        <td id=\"T_52db1750_5e60_11eb_b5c8_60f81dd06e70row2_col0\" class=\"data row2 col0\" >-61.22%</td>\n",
       "                        <td id=\"T_52db1750_5e60_11eb_b5c8_60f81dd06e70row2_col1\" class=\"data row2 col1\" >-91.98%</td>\n",
       "                        <td id=\"T_52db1750_5e60_11eb_b5c8_60f81dd06e70row2_col2\" class=\"data row2 col2\" >-38.56%</td>\n",
       "            </tr>\n",
       "            <tr>\n",
       "                        <th id=\"T_52db1750_5e60_11eb_b5c8_60f81dd06e70level0_row3\" class=\"row_heading level0 row3\" >poi-baseline-wo</th>\n",
       "                        <td id=\"T_52db1750_5e60_11eb_b5c8_60f81dd06e70row3_col0\" class=\"data row3 col0\" >-60.90%</td>\n",
       "                        <td id=\"T_52db1750_5e60_11eb_b5c8_60f81dd06e70row3_col1\" class=\"data row3 col1\" >-94.06%</td>\n",
       "                        <td id=\"T_52db1750_5e60_11eb_b5c8_60f81dd06e70row3_col2\" class=\"data row3 col2\" >-39.31%</td>\n",
       "            </tr>\n",
       "            <tr>\n",
       "                        <th id=\"T_52db1750_5e60_11eb_b5c8_60f81dd06e70level0_row4\" class=\"row_heading level0 row4\" >svr-baseline-wo</th>\n",
       "                        <td id=\"T_52db1750_5e60_11eb_b5c8_60f81dd06e70row4_col0\" class=\"data row4 col0\" >-84.71%</td>\n",
       "                        <td id=\"T_52db1750_5e60_11eb_b5c8_60f81dd06e70row4_col1\" class=\"data row4 col1\" >-158.90%</td>\n",
       "                        <td id=\"T_52db1750_5e60_11eb_b5c8_60f81dd06e70row4_col2\" class=\"data row4 col2\" >-60.90%</td>\n",
       "            </tr>\n",
       "            <tr>\n",
       "                        <th id=\"T_52db1750_5e60_11eb_b5c8_60f81dd06e70level0_row5\" class=\"row_heading level0 row5\" >svr-baseline-no</th>\n",
       "                        <td id=\"T_52db1750_5e60_11eb_b5c8_60f81dd06e70row5_col0\" class=\"data row5 col0\" >-89.22%</td>\n",
       "                        <td id=\"T_52db1750_5e60_11eb_b5c8_60f81dd06e70row5_col1\" class=\"data row5 col1\" >-171.17%</td>\n",
       "                        <td id=\"T_52db1750_5e60_11eb_b5c8_60f81dd06e70row5_col2\" class=\"data row5 col2\" >-64.67%</td>\n",
       "            </tr>\n",
       "    </tbody></table>"
      ],
      "text/plain": [
       "<pandas.io.formats.style.Styler at 0x7ff88caebb80>"
      ]
     },
     "execution_count": 14,
     "metadata": {},
     "output_type": "execute_result"
    }
   ],
   "source": [
    "df_rmse_min.style.highlight_max(color = 'grey', axis = 0).set_table_styles([{'selector': 'tr:hover','props': [('background-color', '')]}]).format('{:.2%}')"
   ]
  },
  {
   "cell_type": "markdown",
   "id": "preliminary-simpson",
   "metadata": {},
   "source": [
    "## RMSE Performance Increment based on Worst Performance [%]"
   ]
  },
  {
   "cell_type": "code",
   "execution_count": 15,
   "id": "crazy-reception",
   "metadata": {},
   "outputs": [],
   "source": [
    "df_rmse_max = df.apply(lambda value : abs((value/df.max())-1),axis=1)"
   ]
  },
  {
   "cell_type": "code",
   "execution_count": 16,
   "id": "increasing-hobby",
   "metadata": {},
   "outputs": [],
   "source": [
    "df_rmse_max = df_rmse_max.sort_values('RMSE',ascending=False)"
   ]
  },
  {
   "cell_type": "code",
   "execution_count": 17,
   "id": "classical-contrary",
   "metadata": {},
   "outputs": [],
   "source": [
    "df_rmse_max.to_csv(f'./analysis/{notebook_name}-max.csv')"
   ]
  },
  {
   "cell_type": "code",
   "execution_count": 18,
   "id": "different-lodging",
   "metadata": {},
   "outputs": [
    {
     "data": {
      "text/html": [
       "<style  type=\"text/css\" >\n",
       "    #T_53477346_5e60_11eb_b5c8_60f81dd06e70 tr:hover {\n",
       "          background-color: ;\n",
       "    }#T_53477346_5e60_11eb_b5c8_60f81dd06e70row0_col0,#T_53477346_5e60_11eb_b5c8_60f81dd06e70row0_col1,#T_53477346_5e60_11eb_b5c8_60f81dd06e70row0_col2{\n",
       "            background-color:  grey;\n",
       "        }</style><table id=\"T_53477346_5e60_11eb_b5c8_60f81dd06e70\" ><thead>    <tr>        <th class=\"blank level0\" ></th>        <th class=\"col_heading level0 col0\" >MAE</th>        <th class=\"col_heading level0 col1\" >MSE</th>        <th class=\"col_heading level0 col2\" >RMSE</th>    </tr></thead><tbody>\n",
       "                <tr>\n",
       "                        <th id=\"T_53477346_5e60_11eb_b5c8_60f81dd06e70level0_row0\" class=\"row_heading level0 row0\" >rf-baseline-no</th>\n",
       "                        <td id=\"T_53477346_5e60_11eb_b5c8_60f81dd06e70row0_col0\" class=\"data row0 col0\" >47.15%</td>\n",
       "                        <td id=\"T_53477346_5e60_11eb_b5c8_60f81dd06e70row0_col1\" class=\"data row0 col1\" >63.12%</td>\n",
       "                        <td id=\"T_53477346_5e60_11eb_b5c8_60f81dd06e70row0_col2\" class=\"data row0 col2\" >39.27%</td>\n",
       "            </tr>\n",
       "            <tr>\n",
       "                        <th id=\"T_53477346_5e60_11eb_b5c8_60f81dd06e70level0_row1\" class=\"row_heading level0 row1\" >rf-baseline-wo</th>\n",
       "                        <td id=\"T_53477346_5e60_11eb_b5c8_60f81dd06e70row1_col0\" class=\"data row1 col0\" >44.03%</td>\n",
       "                        <td id=\"T_53477346_5e60_11eb_b5c8_60f81dd06e70row1_col1\" class=\"data row1 col1\" >60.17%</td>\n",
       "                        <td id=\"T_53477346_5e60_11eb_b5c8_60f81dd06e70row1_col2\" class=\"data row1 col2\" >36.89%</td>\n",
       "            </tr>\n",
       "            <tr>\n",
       "                        <th id=\"T_53477346_5e60_11eb_b5c8_60f81dd06e70level0_row2\" class=\"row_heading level0 row2\" >poi-baseline-no</th>\n",
       "                        <td id=\"T_53477346_5e60_11eb_b5c8_60f81dd06e70row2_col0\" class=\"data row2 col0\" >14.80%</td>\n",
       "                        <td id=\"T_53477346_5e60_11eb_b5c8_60f81dd06e70row2_col1\" class=\"data row2 col1\" >29.20%</td>\n",
       "                        <td id=\"T_53477346_5e60_11eb_b5c8_60f81dd06e70row2_col2\" class=\"data row2 col2\" >15.86%</td>\n",
       "            </tr>\n",
       "            <tr>\n",
       "                        <th id=\"T_53477346_5e60_11eb_b5c8_60f81dd06e70level0_row3\" class=\"row_heading level0 row3\" >poi-baseline-wo</th>\n",
       "                        <td id=\"T_53477346_5e60_11eb_b5c8_60f81dd06e70row3_col0\" class=\"data row3 col0\" >14.97%</td>\n",
       "                        <td id=\"T_53477346_5e60_11eb_b5c8_60f81dd06e70row3_col1\" class=\"data row3 col1\" >28.43%</td>\n",
       "                        <td id=\"T_53477346_5e60_11eb_b5c8_60f81dd06e70row3_col2\" class=\"data row3 col2\" >15.40%</td>\n",
       "            </tr>\n",
       "            <tr>\n",
       "                        <th id=\"T_53477346_5e60_11eb_b5c8_60f81dd06e70level0_row4\" class=\"row_heading level0 row4\" >svr-baseline-wo</th>\n",
       "                        <td id=\"T_53477346_5e60_11eb_b5c8_60f81dd06e70row4_col0\" class=\"data row4 col0\" >2.38%</td>\n",
       "                        <td id=\"T_53477346_5e60_11eb_b5c8_60f81dd06e70row4_col1\" class=\"data row4 col1\" >4.52%</td>\n",
       "                        <td id=\"T_53477346_5e60_11eb_b5c8_60f81dd06e70row4_col2\" class=\"data row4 col2\" >2.29%</td>\n",
       "            </tr>\n",
       "            <tr>\n",
       "                        <th id=\"T_53477346_5e60_11eb_b5c8_60f81dd06e70level0_row5\" class=\"row_heading level0 row5\" >svr-baseline-no</th>\n",
       "                        <td id=\"T_53477346_5e60_11eb_b5c8_60f81dd06e70row5_col0\" class=\"data row5 col0\" >0.00%</td>\n",
       "                        <td id=\"T_53477346_5e60_11eb_b5c8_60f81dd06e70row5_col1\" class=\"data row5 col1\" >0.00%</td>\n",
       "                        <td id=\"T_53477346_5e60_11eb_b5c8_60f81dd06e70row5_col2\" class=\"data row5 col2\" >0.00%</td>\n",
       "            </tr>\n",
       "    </tbody></table>"
      ],
      "text/plain": [
       "<pandas.io.formats.style.Styler at 0x7ff88cb0ddc0>"
      ]
     },
     "execution_count": 18,
     "metadata": {},
     "output_type": "execute_result"
    }
   ],
   "source": [
    "df_rmse_max.style.highlight_max(color = 'grey', axis = 0).set_table_styles([{'selector': 'tr:hover','props': [('background-color', '')]}]).format('{:.2%}')\n",
    "# the information in this table is not that meaningful / useful"
   ]
  },
  {
   "cell_type": "markdown",
   "id": "devoted-computer",
   "metadata": {},
   "source": [
    "# Visualization"
   ]
  },
  {
   "cell_type": "code",
   "execution_count": 19,
   "id": "liquid-nirvana",
   "metadata": {},
   "outputs": [
    {
     "data": {
      "image/png": "[encoded data removed]",
      "text/plain": [
       "<Figure size 432x288 with 1 Axes>"
      ]
     },
     "metadata": {},
     "output_type": "display_data"
    }
   ],
   "source": [
    "ax = sns.barplot(data=df_rmse, x='RMSE',y=df_rmse.index, palette='mako')\n",
    "show_values_on_bars(ax, \"h\", 0.1)\n",
    "ax.set(ylabel='Model',xlabel='RMSE [MBit/s]')\n",
    "ax.tick_params(axis=u'both', which=u'both',length=0)\n",
    "\n",
    "ax.set_title('Baseline Model RMSE');"
   ]
  },
  {
   "cell_type": "code",
   "execution_count": 20,
   "id": "constitutional-question",
   "metadata": {},
   "outputs": [
    {
     "data": {
      "image/png": "[encoded data removed]",
      "text/plain": [
       "<Figure size 432x288 with 1 Axes>"
      ]
     },
     "metadata": {},
     "output_type": "display_data"
    }
   ],
   "source": [
    "ax = sns.barplot(data=df_rmse_min,x='RMSE',y=df_rmse_min.index,palette='mako')\n",
    "\n",
    "ax.set(ylabel='Model',xlabel='RMSE Performance Decline [%]')\n",
    "\n",
    "ax.yaxis.set_label_position(\"right\")\n",
    "ax.yaxis.set_ticks_position(\"right\")\n",
    "ax.tick_params(axis=u'both', which=u'both',length=0)\n",
    "\n",
    "show_values_on_bars(ax,\"h\",0.001,True,True)\n",
    "\n",
    "ax.set_title('Baseline Model RMSE Perfomance Decline based on Best Performance');"
   ]
  },
  {
   "cell_type": "code",
   "execution_count": 21,
   "id": "friendly-lindsay",
   "metadata": {},
   "outputs": [
    {
     "data": {
      "image/png": "[encoded data removed]",
      "text/plain": [
       "<Figure size 432x288 with 1 Axes>"
      ]
     },
     "metadata": {},
     "output_type": "display_data"
    }
   ],
   "source": [
    "ax = sns.barplot(data=df_rmse_max,x='RMSE',y=df_rmse_max.index,palette='mako')\n",
    "show_values_on_bars(ax,\"h\",0.001,True)\n",
    "\n",
    "ax.tick_params(axis=u'both', which=u'both',length=0)\n",
    "\n",
    "ax.set(ylabel='Model',xlabel='RMSE Performance Increment [%]')\n",
    "\n",
    "ax.set_title('Baseline Model RMSE Perfomance Increment based on Worst Performance');"
   ]
  },
  {
   "cell_type": "markdown",
   "id": "fantastic-documentary",
   "metadata": {},
   "source": [
    "DONE!"
   ]
  },
  {
   "cell_type": "code",
   "execution_count": null,
   "id": "micro-content",
   "metadata": {},
   "outputs": [],
   "source": []
  }
 ],
 "metadata": {
  "kernelspec": {
   "display_name": "Python 3",
   "language": "python",
   "name": "python3"
  },
  "language_info": {
   "codemirror_mode": {
    "name": "ipython",
    "version": 3
   },
   "file_extension": ".py",
   "mimetype": "text/x-python",
   "name": "python",
   "nbconvert_exporter": "python",
   "pygments_lexer": "ipython3",
   "version": "3.8.6"
  }
 },
 "nbformat": 4,
 "nbformat_minor": 5
}
