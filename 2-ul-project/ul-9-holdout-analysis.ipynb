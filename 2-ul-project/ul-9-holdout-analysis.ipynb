{
 "cells": [
  {
   "cell_type": "code",
   "execution_count": 1,
   "id": "acute-discharge",
   "metadata": {},
   "outputs": [],
   "source": [
    "# MODIFY!\n",
    "notebook_name = 'holdout'"
   ]
  },
  {
   "cell_type": "markdown",
   "id": "patent-tracy",
   "metadata": {},
   "source": [
    "# Import Libaries & Define Functions"
   ]
  },
  {
   "cell_type": "code",
   "execution_count": 2,
   "id": "linear-services",
   "metadata": {},
   "outputs": [],
   "source": [
    "import numpy as np\n",
    "import pandas as pd\n",
    "import matplotlib.pyplot as plt\n",
    "import seaborn as sns\n",
    "import glob"
   ]
  },
  {
   "cell_type": "code",
   "execution_count": 3,
   "id": "distinguished-trailer",
   "metadata": {},
   "outputs": [],
   "source": [
    "sns.set(style='whitegrid')"
   ]
  },
  {
   "cell_type": "code",
   "execution_count": 4,
   "id": "whole-portugal",
   "metadata": {},
   "outputs": [],
   "source": [
    "def frame_it(path):\n",
    "    csv_files = glob.glob(path + '/*.csv')\n",
    "    df_list = []\n",
    "    \n",
    "    for filename in csv_files:\n",
    "        df = pd.read_csv(filename, index_col='Unnamed: 0', header=0)\n",
    "        df_list.append(df)\n",
    "\n",
    "    return pd.concat(df_list, axis=1)"
   ]
  },
  {
   "cell_type": "code",
   "execution_count": 5,
   "id": "precise-bachelor",
   "metadata": {},
   "outputs": [],
   "source": [
    "def show_values_on_bars(axs, h_v=\"v\", space=0.4,pct=False,neg=False):\n",
    "    def _show_on_single_plot(ax):\n",
    "        if h_v == \"v\":\n",
    "            for p in ax.patches:\n",
    "                _x = p.get_x() + p.get_width() / 2\n",
    "                _y = p.get_y() + p.get_height()\n",
    "                if pct == True: \n",
    "                    value = '{:.2%}'.format(p.get_height())\n",
    "                else: \n",
    "                    value = '{:.2f}'.format(p.get_height())\n",
    "                ax.text(_x, _y, value, ha=\"center\") \n",
    "        \n",
    "        elif h_v == \"h\":\n",
    "            for p in ax.patches:\n",
    "                _x = p.get_x() + p.get_width() + float(space)\n",
    "                _y = p.get_y() + p.get_height()\n",
    "                if pct == True: \n",
    "                    value = '{:.2%}'.format(p.get_width())\n",
    "                else: \n",
    "                    value = '{:.2f}'.format(p.get_width())\n",
    "                if neg == True: \n",
    "                    ax.text(_x, _y, value, ha=\"right\")\n",
    "                else:\n",
    "                    ax.text(_x, _y, value, ha=\"left\")\n",
    "\n",
    "    if isinstance(axs, np.ndarray):\n",
    "        for idx, ax in np.ndenumerate(axs):\n",
    "            _show_on_single_plot(ax)\n",
    "    else:\n",
    "        _show_on_single_plot(axs)"
   ]
  },
  {
   "cell_type": "markdown",
   "id": "connected-hometown",
   "metadata": {},
   "source": [
    "# Analysis"
   ]
  },
  {
   "cell_type": "code",
   "execution_count": 6,
   "id": "charitable-palestine",
   "metadata": {},
   "outputs": [],
   "source": [
    "# MODIFY! \n",
    "df = frame_it('./holdout-test')\n",
    "# we tranpose the data frame for the analysis"
   ]
  },
  {
   "cell_type": "code",
   "execution_count": 7,
   "id": "federal-literacy",
   "metadata": {},
   "outputs": [],
   "source": [
    "df = df.T\n",
    "# we transpose the data frame due to way we exported the data"
   ]
  },
  {
   "cell_type": "code",
   "execution_count": 8,
   "id": "nasty-declaration",
   "metadata": {},
   "outputs": [
    {
     "data": {
      "text/html": [
       "<div>\n",
       "<style scoped>\n",
       "    .dataframe tbody tr th:only-of-type {\n",
       "        vertical-align: middle;\n",
       "    }\n",
       "\n",
       "    .dataframe tbody tr th {\n",
       "        vertical-align: top;\n",
       "    }\n",
       "\n",
       "    .dataframe thead th {\n",
       "        text-align: right;\n",
       "    }\n",
       "</style>\n",
       "<table border=\"1\" class=\"dataframe\">\n",
       "  <thead>\n",
       "    <tr style=\"text-align: right;\">\n",
       "      <th></th>\n",
       "      <th>MAE</th>\n",
       "      <th>MSE</th>\n",
       "      <th>RMSE</th>\n",
       "    </tr>\n",
       "  </thead>\n",
       "  <tbody>\n",
       "    <tr>\n",
       "      <th>rf-wo</th>\n",
       "      <td>2.916196</td>\n",
       "      <td>17.102741</td>\n",
       "      <td>4.135546</td>\n",
       "    </tr>\n",
       "    <tr>\n",
       "      <th>rf-no</th>\n",
       "      <td>2.872122</td>\n",
       "      <td>17.206420</td>\n",
       "      <td>4.148062</td>\n",
       "    </tr>\n",
       "    <tr>\n",
       "      <th>ela-net-st-no</th>\n",
       "      <td>4.571675</td>\n",
       "      <td>32.404218</td>\n",
       "      <td>5.692470</td>\n",
       "    </tr>\n",
       "    <tr>\n",
       "      <th>poi-no</th>\n",
       "      <td>4.542410</td>\n",
       "      <td>32.668446</td>\n",
       "      <td>5.715632</td>\n",
       "    </tr>\n",
       "    <tr>\n",
       "      <th>poi-wo</th>\n",
       "      <td>4.616273</td>\n",
       "      <td>32.790219</td>\n",
       "      <td>5.726274</td>\n",
       "    </tr>\n",
       "    <tr>\n",
       "      <th>ela-net-st-wo</th>\n",
       "      <td>4.523949</td>\n",
       "      <td>32.830289</td>\n",
       "      <td>5.729772</td>\n",
       "    </tr>\n",
       "    <tr>\n",
       "      <th>ela-net-rb-no</th>\n",
       "      <td>4.606820</td>\n",
       "      <td>33.056684</td>\n",
       "      <td>5.749494</td>\n",
       "    </tr>\n",
       "    <tr>\n",
       "      <th>svr-wo</th>\n",
       "      <td>4.578561</td>\n",
       "      <td>33.739938</td>\n",
       "      <td>5.808609</td>\n",
       "    </tr>\n",
       "    <tr>\n",
       "      <th>ela-net-rb-wo</th>\n",
       "      <td>4.585929</td>\n",
       "      <td>33.817677</td>\n",
       "      <td>5.815297</td>\n",
       "    </tr>\n",
       "    <tr>\n",
       "      <th>svr-no</th>\n",
       "      <td>4.721244</td>\n",
       "      <td>36.346307</td>\n",
       "      <td>6.028790</td>\n",
       "    </tr>\n",
       "  </tbody>\n",
       "</table>\n",
       "</div>"
      ],
      "text/plain": [
       "                    MAE        MSE      RMSE\n",
       "rf-wo          2.916196  17.102741  4.135546\n",
       "rf-no          2.872122  17.206420  4.148062\n",
       "ela-net-st-no  4.571675  32.404218  5.692470\n",
       "poi-no         4.542410  32.668446  5.715632\n",
       "poi-wo         4.616273  32.790219  5.726274\n",
       "ela-net-st-wo  4.523949  32.830289  5.729772\n",
       "ela-net-rb-no  4.606820  33.056684  5.749494\n",
       "svr-wo         4.578561  33.739938  5.808609\n",
       "ela-net-rb-wo  4.585929  33.817677  5.815297\n",
       "svr-no         4.721244  36.346307  6.028790"
      ]
     },
     "execution_count": 8,
     "metadata": {},
     "output_type": "execute_result"
    }
   ],
   "source": [
    "df_rmse = df.sort_values('RMSE')\n",
    "df_rmse"
   ]
  },
  {
   "cell_type": "code",
   "execution_count": 9,
   "id": "infinite-valuation",
   "metadata": {},
   "outputs": [],
   "source": [
    "df_rmse.to_csv(f'./analysis/{notebook_name}.csv')"
   ]
  },
  {
   "cell_type": "markdown",
   "id": "level-sister",
   "metadata": {},
   "source": [
    "## ERR Values [MBit/s] and [(MBit/s)^2]"
   ]
  },
  {
   "cell_type": "code",
   "execution_count": 10,
   "id": "hundred-midnight",
   "metadata": {},
   "outputs": [
    {
     "data": {
      "text/html": [
       "<style  type=\"text/css\" >\n",
       "    #T_ca1f3938_5e7c_11eb_b5aa_60f81dd06e70 tr:hover {\n",
       "          background-color: ;\n",
       "    }#T_ca1f3938_5e7c_11eb_b5aa_60f81dd06e70row0_col1,#T_ca1f3938_5e7c_11eb_b5aa_60f81dd06e70row0_col2,#T_ca1f3938_5e7c_11eb_b5aa_60f81dd06e70row1_col0{\n",
       "            background-color:  lightgrey;\n",
       "        }</style><table id=\"T_ca1f3938_5e7c_11eb_b5aa_60f81dd06e70\" ><thead>    <tr>        <th class=\"blank level0\" ></th>        <th class=\"col_heading level0 col0\" >MAE</th>        <th class=\"col_heading level0 col1\" >MSE</th>        <th class=\"col_heading level0 col2\" >RMSE</th>    </tr></thead><tbody>\n",
       "                <tr>\n",
       "                        <th id=\"T_ca1f3938_5e7c_11eb_b5aa_60f81dd06e70level0_row0\" class=\"row_heading level0 row0\" >rf-wo</th>\n",
       "                        <td id=\"T_ca1f3938_5e7c_11eb_b5aa_60f81dd06e70row0_col0\" class=\"data row0 col0\" >2.916196</td>\n",
       "                        <td id=\"T_ca1f3938_5e7c_11eb_b5aa_60f81dd06e70row0_col1\" class=\"data row0 col1\" >17.102741</td>\n",
       "                        <td id=\"T_ca1f3938_5e7c_11eb_b5aa_60f81dd06e70row0_col2\" class=\"data row0 col2\" >4.135546</td>\n",
       "            </tr>\n",
       "            <tr>\n",
       "                        <th id=\"T_ca1f3938_5e7c_11eb_b5aa_60f81dd06e70level0_row1\" class=\"row_heading level0 row1\" >rf-no</th>\n",
       "                        <td id=\"T_ca1f3938_5e7c_11eb_b5aa_60f81dd06e70row1_col0\" class=\"data row1 col0\" >2.872122</td>\n",
       "                        <td id=\"T_ca1f3938_5e7c_11eb_b5aa_60f81dd06e70row1_col1\" class=\"data row1 col1\" >17.206420</td>\n",
       "                        <td id=\"T_ca1f3938_5e7c_11eb_b5aa_60f81dd06e70row1_col2\" class=\"data row1 col2\" >4.148062</td>\n",
       "            </tr>\n",
       "            <tr>\n",
       "                        <th id=\"T_ca1f3938_5e7c_11eb_b5aa_60f81dd06e70level0_row2\" class=\"row_heading level0 row2\" >ela-net-st-no</th>\n",
       "                        <td id=\"T_ca1f3938_5e7c_11eb_b5aa_60f81dd06e70row2_col0\" class=\"data row2 col0\" >4.571675</td>\n",
       "                        <td id=\"T_ca1f3938_5e7c_11eb_b5aa_60f81dd06e70row2_col1\" class=\"data row2 col1\" >32.404218</td>\n",
       "                        <td id=\"T_ca1f3938_5e7c_11eb_b5aa_60f81dd06e70row2_col2\" class=\"data row2 col2\" >5.692470</td>\n",
       "            </tr>\n",
       "            <tr>\n",
       "                        <th id=\"T_ca1f3938_5e7c_11eb_b5aa_60f81dd06e70level0_row3\" class=\"row_heading level0 row3\" >poi-no</th>\n",
       "                        <td id=\"T_ca1f3938_5e7c_11eb_b5aa_60f81dd06e70row3_col0\" class=\"data row3 col0\" >4.542410</td>\n",
       "                        <td id=\"T_ca1f3938_5e7c_11eb_b5aa_60f81dd06e70row3_col1\" class=\"data row3 col1\" >32.668446</td>\n",
       "                        <td id=\"T_ca1f3938_5e7c_11eb_b5aa_60f81dd06e70row3_col2\" class=\"data row3 col2\" >5.715632</td>\n",
       "            </tr>\n",
       "            <tr>\n",
       "                        <th id=\"T_ca1f3938_5e7c_11eb_b5aa_60f81dd06e70level0_row4\" class=\"row_heading level0 row4\" >poi-wo</th>\n",
       "                        <td id=\"T_ca1f3938_5e7c_11eb_b5aa_60f81dd06e70row4_col0\" class=\"data row4 col0\" >4.616273</td>\n",
       "                        <td id=\"T_ca1f3938_5e7c_11eb_b5aa_60f81dd06e70row4_col1\" class=\"data row4 col1\" >32.790219</td>\n",
       "                        <td id=\"T_ca1f3938_5e7c_11eb_b5aa_60f81dd06e70row4_col2\" class=\"data row4 col2\" >5.726274</td>\n",
       "            </tr>\n",
       "            <tr>\n",
       "                        <th id=\"T_ca1f3938_5e7c_11eb_b5aa_60f81dd06e70level0_row5\" class=\"row_heading level0 row5\" >ela-net-st-wo</th>\n",
       "                        <td id=\"T_ca1f3938_5e7c_11eb_b5aa_60f81dd06e70row5_col0\" class=\"data row5 col0\" >4.523949</td>\n",
       "                        <td id=\"T_ca1f3938_5e7c_11eb_b5aa_60f81dd06e70row5_col1\" class=\"data row5 col1\" >32.830289</td>\n",
       "                        <td id=\"T_ca1f3938_5e7c_11eb_b5aa_60f81dd06e70row5_col2\" class=\"data row5 col2\" >5.729772</td>\n",
       "            </tr>\n",
       "            <tr>\n",
       "                        <th id=\"T_ca1f3938_5e7c_11eb_b5aa_60f81dd06e70level0_row6\" class=\"row_heading level0 row6\" >ela-net-rb-no</th>\n",
       "                        <td id=\"T_ca1f3938_5e7c_11eb_b5aa_60f81dd06e70row6_col0\" class=\"data row6 col0\" >4.606820</td>\n",
       "                        <td id=\"T_ca1f3938_5e7c_11eb_b5aa_60f81dd06e70row6_col1\" class=\"data row6 col1\" >33.056684</td>\n",
       "                        <td id=\"T_ca1f3938_5e7c_11eb_b5aa_60f81dd06e70row6_col2\" class=\"data row6 col2\" >5.749494</td>\n",
       "            </tr>\n",
       "            <tr>\n",
       "                        <th id=\"T_ca1f3938_5e7c_11eb_b5aa_60f81dd06e70level0_row7\" class=\"row_heading level0 row7\" >svr-wo</th>\n",
       "                        <td id=\"T_ca1f3938_5e7c_11eb_b5aa_60f81dd06e70row7_col0\" class=\"data row7 col0\" >4.578561</td>\n",
       "                        <td id=\"T_ca1f3938_5e7c_11eb_b5aa_60f81dd06e70row7_col1\" class=\"data row7 col1\" >33.739938</td>\n",
       "                        <td id=\"T_ca1f3938_5e7c_11eb_b5aa_60f81dd06e70row7_col2\" class=\"data row7 col2\" >5.808609</td>\n",
       "            </tr>\n",
       "            <tr>\n",
       "                        <th id=\"T_ca1f3938_5e7c_11eb_b5aa_60f81dd06e70level0_row8\" class=\"row_heading level0 row8\" >ela-net-rb-wo</th>\n",
       "                        <td id=\"T_ca1f3938_5e7c_11eb_b5aa_60f81dd06e70row8_col0\" class=\"data row8 col0\" >4.585929</td>\n",
       "                        <td id=\"T_ca1f3938_5e7c_11eb_b5aa_60f81dd06e70row8_col1\" class=\"data row8 col1\" >33.817677</td>\n",
       "                        <td id=\"T_ca1f3938_5e7c_11eb_b5aa_60f81dd06e70row8_col2\" class=\"data row8 col2\" >5.815297</td>\n",
       "            </tr>\n",
       "            <tr>\n",
       "                        <th id=\"T_ca1f3938_5e7c_11eb_b5aa_60f81dd06e70level0_row9\" class=\"row_heading level0 row9\" >svr-no</th>\n",
       "                        <td id=\"T_ca1f3938_5e7c_11eb_b5aa_60f81dd06e70row9_col0\" class=\"data row9 col0\" >4.721244</td>\n",
       "                        <td id=\"T_ca1f3938_5e7c_11eb_b5aa_60f81dd06e70row9_col1\" class=\"data row9 col1\" >36.346307</td>\n",
       "                        <td id=\"T_ca1f3938_5e7c_11eb_b5aa_60f81dd06e70row9_col2\" class=\"data row9 col2\" >6.028790</td>\n",
       "            </tr>\n",
       "    </tbody></table>"
      ],
      "text/plain": [
       "<pandas.io.formats.style.Styler at 0x7fd2b0eeaac0>"
      ]
     },
     "execution_count": 10,
     "metadata": {},
     "output_type": "execute_result"
    }
   ],
   "source": [
    "df_rmse.style.highlight_min(color = 'lightgrey', axis = 0).set_table_styles([{'selector': 'tr:hover','props': [('background-color', '')]}])"
   ]
  },
  {
   "cell_type": "markdown",
   "id": "competitive-layer",
   "metadata": {},
   "source": [
    "## RMSE Performance Decline based on Best Performance [%]"
   ]
  },
  {
   "cell_type": "code",
   "execution_count": 11,
   "id": "tight-sperm",
   "metadata": {},
   "outputs": [],
   "source": [
    "df_rmse_min = df_rmse.apply(lambda value : -((value/df.min())-1),axis=1)"
   ]
  },
  {
   "cell_type": "code",
   "execution_count": 12,
   "id": "hispanic-concept",
   "metadata": {},
   "outputs": [],
   "source": [
    "df_rmse_min = df_rmse_min.sort_values('RMSE',ascending=False)"
   ]
  },
  {
   "cell_type": "code",
   "execution_count": 13,
   "id": "important-graphic",
   "metadata": {},
   "outputs": [],
   "source": [
    "df_rmse_min.to_csv(f'./analysis/{notebook_name}-min.csv')"
   ]
  },
  {
   "cell_type": "code",
   "execution_count": 14,
   "id": "changed-flower",
   "metadata": {},
   "outputs": [
    {
     "data": {
      "text/html": [
       "<style  type=\"text/css\" >\n",
       "    #T_ca38710a_5e7c_11eb_b5aa_60f81dd06e70 tr:hover {\n",
       "          background-color: ;\n",
       "    }#T_ca38710a_5e7c_11eb_b5aa_60f81dd06e70row0_col1,#T_ca38710a_5e7c_11eb_b5aa_60f81dd06e70row0_col2,#T_ca38710a_5e7c_11eb_b5aa_60f81dd06e70row1_col0{\n",
       "            background-color:  lightgrey;\n",
       "        }</style><table id=\"T_ca38710a_5e7c_11eb_b5aa_60f81dd06e70\" ><thead>    <tr>        <th class=\"blank level0\" ></th>        <th class=\"col_heading level0 col0\" >MAE</th>        <th class=\"col_heading level0 col1\" >MSE</th>        <th class=\"col_heading level0 col2\" >RMSE</th>    </tr></thead><tbody>\n",
       "                <tr>\n",
       "                        <th id=\"T_ca38710a_5e7c_11eb_b5aa_60f81dd06e70level0_row0\" class=\"row_heading level0 row0\" >rf-wo</th>\n",
       "                        <td id=\"T_ca38710a_5e7c_11eb_b5aa_60f81dd06e70row0_col0\" class=\"data row0 col0\" >-1.53%</td>\n",
       "                        <td id=\"T_ca38710a_5e7c_11eb_b5aa_60f81dd06e70row0_col1\" class=\"data row0 col1\" >-0.00%</td>\n",
       "                        <td id=\"T_ca38710a_5e7c_11eb_b5aa_60f81dd06e70row0_col2\" class=\"data row0 col2\" >-0.00%</td>\n",
       "            </tr>\n",
       "            <tr>\n",
       "                        <th id=\"T_ca38710a_5e7c_11eb_b5aa_60f81dd06e70level0_row1\" class=\"row_heading level0 row1\" >rf-no</th>\n",
       "                        <td id=\"T_ca38710a_5e7c_11eb_b5aa_60f81dd06e70row1_col0\" class=\"data row1 col0\" >-0.00%</td>\n",
       "                        <td id=\"T_ca38710a_5e7c_11eb_b5aa_60f81dd06e70row1_col1\" class=\"data row1 col1\" >-0.61%</td>\n",
       "                        <td id=\"T_ca38710a_5e7c_11eb_b5aa_60f81dd06e70row1_col2\" class=\"data row1 col2\" >-0.30%</td>\n",
       "            </tr>\n",
       "            <tr>\n",
       "                        <th id=\"T_ca38710a_5e7c_11eb_b5aa_60f81dd06e70level0_row2\" class=\"row_heading level0 row2\" >ela-net-st-no</th>\n",
       "                        <td id=\"T_ca38710a_5e7c_11eb_b5aa_60f81dd06e70row2_col0\" class=\"data row2 col0\" >-59.17%</td>\n",
       "                        <td id=\"T_ca38710a_5e7c_11eb_b5aa_60f81dd06e70row2_col1\" class=\"data row2 col1\" >-89.47%</td>\n",
       "                        <td id=\"T_ca38710a_5e7c_11eb_b5aa_60f81dd06e70row2_col2\" class=\"data row2 col2\" >-37.65%</td>\n",
       "            </tr>\n",
       "            <tr>\n",
       "                        <th id=\"T_ca38710a_5e7c_11eb_b5aa_60f81dd06e70level0_row3\" class=\"row_heading level0 row3\" >poi-no</th>\n",
       "                        <td id=\"T_ca38710a_5e7c_11eb_b5aa_60f81dd06e70row3_col0\" class=\"data row3 col0\" >-58.16%</td>\n",
       "                        <td id=\"T_ca38710a_5e7c_11eb_b5aa_60f81dd06e70row3_col1\" class=\"data row3 col1\" >-91.01%</td>\n",
       "                        <td id=\"T_ca38710a_5e7c_11eb_b5aa_60f81dd06e70row3_col2\" class=\"data row3 col2\" >-38.21%</td>\n",
       "            </tr>\n",
       "            <tr>\n",
       "                        <th id=\"T_ca38710a_5e7c_11eb_b5aa_60f81dd06e70level0_row4\" class=\"row_heading level0 row4\" >poi-wo</th>\n",
       "                        <td id=\"T_ca38710a_5e7c_11eb_b5aa_60f81dd06e70row4_col0\" class=\"data row4 col0\" >-60.73%</td>\n",
       "                        <td id=\"T_ca38710a_5e7c_11eb_b5aa_60f81dd06e70row4_col1\" class=\"data row4 col1\" >-91.72%</td>\n",
       "                        <td id=\"T_ca38710a_5e7c_11eb_b5aa_60f81dd06e70row4_col2\" class=\"data row4 col2\" >-38.46%</td>\n",
       "            </tr>\n",
       "            <tr>\n",
       "                        <th id=\"T_ca38710a_5e7c_11eb_b5aa_60f81dd06e70level0_row5\" class=\"row_heading level0 row5\" >ela-net-st-wo</th>\n",
       "                        <td id=\"T_ca38710a_5e7c_11eb_b5aa_60f81dd06e70row5_col0\" class=\"data row5 col0\" >-57.51%</td>\n",
       "                        <td id=\"T_ca38710a_5e7c_11eb_b5aa_60f81dd06e70row5_col1\" class=\"data row5 col1\" >-91.96%</td>\n",
       "                        <td id=\"T_ca38710a_5e7c_11eb_b5aa_60f81dd06e70row5_col2\" class=\"data row5 col2\" >-38.55%</td>\n",
       "            </tr>\n",
       "            <tr>\n",
       "                        <th id=\"T_ca38710a_5e7c_11eb_b5aa_60f81dd06e70level0_row6\" class=\"row_heading level0 row6\" >ela-net-rb-no</th>\n",
       "                        <td id=\"T_ca38710a_5e7c_11eb_b5aa_60f81dd06e70row6_col0\" class=\"data row6 col0\" >-60.40%</td>\n",
       "                        <td id=\"T_ca38710a_5e7c_11eb_b5aa_60f81dd06e70row6_col1\" class=\"data row6 col1\" >-93.28%</td>\n",
       "                        <td id=\"T_ca38710a_5e7c_11eb_b5aa_60f81dd06e70row6_col2\" class=\"data row6 col2\" >-39.03%</td>\n",
       "            </tr>\n",
       "            <tr>\n",
       "                        <th id=\"T_ca38710a_5e7c_11eb_b5aa_60f81dd06e70level0_row7\" class=\"row_heading level0 row7\" >svr-wo</th>\n",
       "                        <td id=\"T_ca38710a_5e7c_11eb_b5aa_60f81dd06e70row7_col0\" class=\"data row7 col0\" >-59.41%</td>\n",
       "                        <td id=\"T_ca38710a_5e7c_11eb_b5aa_60f81dd06e70row7_col1\" class=\"data row7 col1\" >-97.28%</td>\n",
       "                        <td id=\"T_ca38710a_5e7c_11eb_b5aa_60f81dd06e70row7_col2\" class=\"data row7 col2\" >-40.46%</td>\n",
       "            </tr>\n",
       "            <tr>\n",
       "                        <th id=\"T_ca38710a_5e7c_11eb_b5aa_60f81dd06e70level0_row8\" class=\"row_heading level0 row8\" >ela-net-rb-wo</th>\n",
       "                        <td id=\"T_ca38710a_5e7c_11eb_b5aa_60f81dd06e70row8_col0\" class=\"data row8 col0\" >-59.67%</td>\n",
       "                        <td id=\"T_ca38710a_5e7c_11eb_b5aa_60f81dd06e70row8_col1\" class=\"data row8 col1\" >-97.73%</td>\n",
       "                        <td id=\"T_ca38710a_5e7c_11eb_b5aa_60f81dd06e70row8_col2\" class=\"data row8 col2\" >-40.62%</td>\n",
       "            </tr>\n",
       "            <tr>\n",
       "                        <th id=\"T_ca38710a_5e7c_11eb_b5aa_60f81dd06e70level0_row9\" class=\"row_heading level0 row9\" >svr-no</th>\n",
       "                        <td id=\"T_ca38710a_5e7c_11eb_b5aa_60f81dd06e70row9_col0\" class=\"data row9 col0\" >-64.38%</td>\n",
       "                        <td id=\"T_ca38710a_5e7c_11eb_b5aa_60f81dd06e70row9_col1\" class=\"data row9 col1\" >-112.52%</td>\n",
       "                        <td id=\"T_ca38710a_5e7c_11eb_b5aa_60f81dd06e70row9_col2\" class=\"data row9 col2\" >-45.78%</td>\n",
       "            </tr>\n",
       "    </tbody></table>"
      ],
      "text/plain": [
       "<pandas.io.formats.style.Styler at 0x7fd2b1b512e0>"
      ]
     },
     "execution_count": 14,
     "metadata": {},
     "output_type": "execute_result"
    }
   ],
   "source": [
    "df_rmse_min.style.highlight_max(color = 'lightgrey', axis = 0).set_table_styles([{'selector': 'tr:hover','props': [('background-color', '')]}]).format('{:.2%}')"
   ]
  },
  {
   "cell_type": "markdown",
   "id": "minor-shade",
   "metadata": {},
   "source": [
    "## RMSE Performance Increment based on Worst Performance [%]"
   ]
  },
  {
   "cell_type": "code",
   "execution_count": 15,
   "id": "committed-referral",
   "metadata": {},
   "outputs": [],
   "source": [
    "df_rmse_max = df.apply(lambda value : abs((value/df.max())-1),axis=1)"
   ]
  },
  {
   "cell_type": "code",
   "execution_count": 16,
   "id": "musical-hobby",
   "metadata": {},
   "outputs": [],
   "source": [
    "df_rmse_max = df_rmse_max.sort_values('RMSE',ascending=False)"
   ]
  },
  {
   "cell_type": "code",
   "execution_count": 17,
   "id": "sweet-addiction",
   "metadata": {},
   "outputs": [],
   "source": [
    "df_rmse_max.to_csv(f'./analysis/{notebook_name}-max.csv')"
   ]
  },
  {
   "cell_type": "code",
   "execution_count": 18,
   "id": "fancy-uganda",
   "metadata": {},
   "outputs": [
    {
     "data": {
      "text/html": [
       "<style  type=\"text/css\" >\n",
       "    #T_ca54d7a0_5e7c_11eb_b5aa_60f81dd06e70 tr:hover {\n",
       "          background-color: ;\n",
       "    }#T_ca54d7a0_5e7c_11eb_b5aa_60f81dd06e70row0_col1,#T_ca54d7a0_5e7c_11eb_b5aa_60f81dd06e70row0_col2,#T_ca54d7a0_5e7c_11eb_b5aa_60f81dd06e70row1_col0{\n",
       "            background-color:  lightgrey;\n",
       "        }</style><table id=\"T_ca54d7a0_5e7c_11eb_b5aa_60f81dd06e70\" ><thead>    <tr>        <th class=\"blank level0\" ></th>        <th class=\"col_heading level0 col0\" >MAE</th>        <th class=\"col_heading level0 col1\" >MSE</th>        <th class=\"col_heading level0 col2\" >RMSE</th>    </tr></thead><tbody>\n",
       "                <tr>\n",
       "                        <th id=\"T_ca54d7a0_5e7c_11eb_b5aa_60f81dd06e70level0_row0\" class=\"row_heading level0 row0\" >rf-wo</th>\n",
       "                        <td id=\"T_ca54d7a0_5e7c_11eb_b5aa_60f81dd06e70row0_col0\" class=\"data row0 col0\" >38.23%</td>\n",
       "                        <td id=\"T_ca54d7a0_5e7c_11eb_b5aa_60f81dd06e70row0_col1\" class=\"data row0 col1\" >52.95%</td>\n",
       "                        <td id=\"T_ca54d7a0_5e7c_11eb_b5aa_60f81dd06e70row0_col2\" class=\"data row0 col2\" >31.40%</td>\n",
       "            </tr>\n",
       "            <tr>\n",
       "                        <th id=\"T_ca54d7a0_5e7c_11eb_b5aa_60f81dd06e70level0_row1\" class=\"row_heading level0 row1\" >rf-no</th>\n",
       "                        <td id=\"T_ca54d7a0_5e7c_11eb_b5aa_60f81dd06e70row1_col0\" class=\"data row1 col0\" >39.17%</td>\n",
       "                        <td id=\"T_ca54d7a0_5e7c_11eb_b5aa_60f81dd06e70row1_col1\" class=\"data row1 col1\" >52.66%</td>\n",
       "                        <td id=\"T_ca54d7a0_5e7c_11eb_b5aa_60f81dd06e70row1_col2\" class=\"data row1 col2\" >31.20%</td>\n",
       "            </tr>\n",
       "            <tr>\n",
       "                        <th id=\"T_ca54d7a0_5e7c_11eb_b5aa_60f81dd06e70level0_row2\" class=\"row_heading level0 row2\" >ela-net-st-no</th>\n",
       "                        <td id=\"T_ca54d7a0_5e7c_11eb_b5aa_60f81dd06e70row2_col0\" class=\"data row2 col0\" >3.17%</td>\n",
       "                        <td id=\"T_ca54d7a0_5e7c_11eb_b5aa_60f81dd06e70row2_col1\" class=\"data row2 col1\" >10.85%</td>\n",
       "                        <td id=\"T_ca54d7a0_5e7c_11eb_b5aa_60f81dd06e70row2_col2\" class=\"data row2 col2\" >5.58%</td>\n",
       "            </tr>\n",
       "            <tr>\n",
       "                        <th id=\"T_ca54d7a0_5e7c_11eb_b5aa_60f81dd06e70level0_row3\" class=\"row_heading level0 row3\" >poi-no</th>\n",
       "                        <td id=\"T_ca54d7a0_5e7c_11eb_b5aa_60f81dd06e70row3_col0\" class=\"data row3 col0\" >3.79%</td>\n",
       "                        <td id=\"T_ca54d7a0_5e7c_11eb_b5aa_60f81dd06e70row3_col1\" class=\"data row3 col1\" >10.12%</td>\n",
       "                        <td id=\"T_ca54d7a0_5e7c_11eb_b5aa_60f81dd06e70row3_col2\" class=\"data row3 col2\" >5.19%</td>\n",
       "            </tr>\n",
       "            <tr>\n",
       "                        <th id=\"T_ca54d7a0_5e7c_11eb_b5aa_60f81dd06e70level0_row4\" class=\"row_heading level0 row4\" >poi-wo</th>\n",
       "                        <td id=\"T_ca54d7a0_5e7c_11eb_b5aa_60f81dd06e70row4_col0\" class=\"data row4 col0\" >2.22%</td>\n",
       "                        <td id=\"T_ca54d7a0_5e7c_11eb_b5aa_60f81dd06e70row4_col1\" class=\"data row4 col1\" >9.78%</td>\n",
       "                        <td id=\"T_ca54d7a0_5e7c_11eb_b5aa_60f81dd06e70row4_col2\" class=\"data row4 col2\" >5.02%</td>\n",
       "            </tr>\n",
       "            <tr>\n",
       "                        <th id=\"T_ca54d7a0_5e7c_11eb_b5aa_60f81dd06e70level0_row5\" class=\"row_heading level0 row5\" >ela-net-st-wo</th>\n",
       "                        <td id=\"T_ca54d7a0_5e7c_11eb_b5aa_60f81dd06e70row5_col0\" class=\"data row5 col0\" >4.18%</td>\n",
       "                        <td id=\"T_ca54d7a0_5e7c_11eb_b5aa_60f81dd06e70row5_col1\" class=\"data row5 col1\" >9.67%</td>\n",
       "                        <td id=\"T_ca54d7a0_5e7c_11eb_b5aa_60f81dd06e70row5_col2\" class=\"data row5 col2\" >4.96%</td>\n",
       "            </tr>\n",
       "            <tr>\n",
       "                        <th id=\"T_ca54d7a0_5e7c_11eb_b5aa_60f81dd06e70level0_row6\" class=\"row_heading level0 row6\" >ela-net-rb-no</th>\n",
       "                        <td id=\"T_ca54d7a0_5e7c_11eb_b5aa_60f81dd06e70row6_col0\" class=\"data row6 col0\" >2.42%</td>\n",
       "                        <td id=\"T_ca54d7a0_5e7c_11eb_b5aa_60f81dd06e70row6_col1\" class=\"data row6 col1\" >9.05%</td>\n",
       "                        <td id=\"T_ca54d7a0_5e7c_11eb_b5aa_60f81dd06e70row6_col2\" class=\"data row6 col2\" >4.63%</td>\n",
       "            </tr>\n",
       "            <tr>\n",
       "                        <th id=\"T_ca54d7a0_5e7c_11eb_b5aa_60f81dd06e70level0_row7\" class=\"row_heading level0 row7\" >svr-wo</th>\n",
       "                        <td id=\"T_ca54d7a0_5e7c_11eb_b5aa_60f81dd06e70row7_col0\" class=\"data row7 col0\" >3.02%</td>\n",
       "                        <td id=\"T_ca54d7a0_5e7c_11eb_b5aa_60f81dd06e70row7_col1\" class=\"data row7 col1\" >7.17%</td>\n",
       "                        <td id=\"T_ca54d7a0_5e7c_11eb_b5aa_60f81dd06e70row7_col2\" class=\"data row7 col2\" >3.65%</td>\n",
       "            </tr>\n",
       "            <tr>\n",
       "                        <th id=\"T_ca54d7a0_5e7c_11eb_b5aa_60f81dd06e70level0_row8\" class=\"row_heading level0 row8\" >ela-net-rb-wo</th>\n",
       "                        <td id=\"T_ca54d7a0_5e7c_11eb_b5aa_60f81dd06e70row8_col0\" class=\"data row8 col0\" >2.87%</td>\n",
       "                        <td id=\"T_ca54d7a0_5e7c_11eb_b5aa_60f81dd06e70row8_col1\" class=\"data row8 col1\" >6.96%</td>\n",
       "                        <td id=\"T_ca54d7a0_5e7c_11eb_b5aa_60f81dd06e70row8_col2\" class=\"data row8 col2\" >3.54%</td>\n",
       "            </tr>\n",
       "            <tr>\n",
       "                        <th id=\"T_ca54d7a0_5e7c_11eb_b5aa_60f81dd06e70level0_row9\" class=\"row_heading level0 row9\" >svr-no</th>\n",
       "                        <td id=\"T_ca54d7a0_5e7c_11eb_b5aa_60f81dd06e70row9_col0\" class=\"data row9 col0\" >0.00%</td>\n",
       "                        <td id=\"T_ca54d7a0_5e7c_11eb_b5aa_60f81dd06e70row9_col1\" class=\"data row9 col1\" >0.00%</td>\n",
       "                        <td id=\"T_ca54d7a0_5e7c_11eb_b5aa_60f81dd06e70row9_col2\" class=\"data row9 col2\" >0.00%</td>\n",
       "            </tr>\n",
       "    </tbody></table>"
      ],
      "text/plain": [
       "<pandas.io.formats.style.Styler at 0x7fd2b1b26280>"
      ]
     },
     "execution_count": 18,
     "metadata": {},
     "output_type": "execute_result"
    }
   ],
   "source": [
    "df_rmse_max.style.highlight_max(color = 'lightgrey', axis = 0).set_table_styles([{'selector': 'tr:hover','props': [('background-color', '')]}]).format('{:.2%}')\n",
    "# the information in this table is not that meaningful / useful"
   ]
  },
  {
   "cell_type": "markdown",
   "id": "catholic-seating",
   "metadata": {},
   "source": [
    "# Visualization"
   ]
  },
  {
   "cell_type": "code",
   "execution_count": 19,
   "id": "expanded-recommendation",
   "metadata": {},
   "outputs": [
    {
     "data": {
      "image/png": "[encoded data removed]",
      "text/plain": [
       "<Figure size 432x288 with 1 Axes>"
      ]
     },
     "metadata": {},
     "output_type": "display_data"
    }
   ],
   "source": [
    "ax = sns.barplot(data=df_rmse, x='RMSE',y=df_rmse.index, palette='mako')\n",
    "show_values_on_bars(ax, \"h\", 0.1)\n",
    "ax.set(ylabel='Model',xlabel='RMSE [MBit/s]')\n",
    "ax.tick_params(axis=u'both', which=u'both',length=0)\n",
    "\n",
    "ax.set_title('Opt Model RMSE (Holdout Test)');"
   ]
  },
  {
   "cell_type": "code",
   "execution_count": 23,
   "id": "frequent-netscape",
   "metadata": {},
   "outputs": [
    {
     "data": {
      "image/png": "[encoded data removed]",
      "text/plain": [
       "<Figure size 432x288 with 1 Axes>"
      ]
     },
     "metadata": {},
     "output_type": "display_data"
    }
   ],
   "source": [
    "# plt.figure(figsize=(10,8),dpi=200)\n",
    "\n",
    "ax = sns.barplot(data=df_rmse_min,x='RMSE',y=df_rmse_min.index,palette='mako')\n",
    "\n",
    "ax.set(ylabel='Model',xlabel='RMSE Performance Decline [%]')\n",
    "\n",
    "ax.yaxis.set_label_position(\"right\")\n",
    "ax.yaxis.set_ticks_position(\"right\")\n",
    "ax.tick_params(axis=u'both', which=u'both',length=0)\n",
    "\n",
    "show_values_on_bars(ax,\"h\",0.001,True,True)\n",
    "\n",
    "ax.set_title('Opt Model RMSE Perfomance Decline based on Best Performance (Holdout Test)');\n",
    "\n",
    "# ax.set_title('Opt Model RMSE Perfomance Decline based on Best Performance (Holdout Test)', fontsize=14,fontweight='bold');\n",
    "# \n",
    "# plt.savefig('ul-holdout-result.png')"
   ]
  },
  {
   "cell_type": "code",
   "execution_count": 21,
   "id": "irish-purple",
   "metadata": {},
   "outputs": [
    {
     "data": {
      "image/png": "[encoded data removed]",
      "text/plain": [
       "<Figure size 432x288 with 1 Axes>"
      ]
     },
     "metadata": {},
     "output_type": "display_data"
    }
   ],
   "source": [
    "ax = sns.barplot(data=df_rmse_max,x='RMSE',y=df_rmse_max.index,palette='mako')\n",
    "show_values_on_bars(ax,\"h\",0.001,True)\n",
    "\n",
    "ax.tick_params(axis=u'both', which=u'both',length=0)\n",
    "\n",
    "ax.set(ylabel='Model',xlabel='RMSE Performance Increment [%]')\n",
    "\n",
    "ax.set_title('Opt Model RMSE Perfomance Increment based on Worst Performance (Holdout Test)');"
   ]
  },
  {
   "cell_type": "code",
   "execution_count": null,
   "id": "awful-mauritius",
   "metadata": {},
   "outputs": [],
   "source": []
  },
  {
   "cell_type": "markdown",
   "id": "about-school",
   "metadata": {},
   "source": [
    "DONE!"
   ]
  }
 ],
 "metadata": {
  "kernelspec": {
   "display_name": "Python 3",
   "language": "python",
   "name": "python3"
  },
  "language_info": {
   "codemirror_mode": {
    "name": "ipython",
    "version": 3
   },
   "file_extension": ".py",
   "mimetype": "text/x-python",
   "name": "python",
   "nbconvert_exporter": "python",
   "pygments_lexer": "ipython3",
   "version": "3.8.6"
  }
 },
 "nbformat": 4,
 "nbformat_minor": 5
}
