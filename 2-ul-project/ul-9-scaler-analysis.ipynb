{
 "cells": [
  {
   "cell_type": "code",
   "execution_count": 1,
   "id": "driving-collection",
   "metadata": {},
   "outputs": [],
   "source": [
    "# MODIFY! \n",
    "notebook_name = 'scaler'"
   ]
  },
  {
   "cell_type": "markdown",
   "id": "concerned-seattle",
   "metadata": {},
   "source": [
    "# Import Libaries & Define Functions"
   ]
  },
  {
   "cell_type": "code",
   "execution_count": 2,
   "id": "characteristic-wellington",
   "metadata": {},
   "outputs": [],
   "source": [
    "import numpy as np\n",
    "import pandas as pd\n",
    "import matplotlib.pyplot as plt\n",
    "import seaborn as sns\n",
    "\n",
    "import glob\n",
    "import re"
   ]
  },
  {
   "cell_type": "code",
   "execution_count": 3,
   "id": "amino-connection",
   "metadata": {},
   "outputs": [],
   "source": [
    "sns.set(style='whitegrid')"
   ]
  },
  {
   "cell_type": "code",
   "execution_count": 4,
   "id": "instant-temperature",
   "metadata": {},
   "outputs": [],
   "source": [
    "def table_name(filename): \n",
    "    pattern = re.compile(r'\\./[a-zA-Z0-9_.+-]+/([a-zA-Z0-9_.+-]+)\\.csv')\n",
    "    matches = pattern.findall(filename)\n",
    "    \n",
    "    for match in matches:\n",
    "        return(match)"
   ]
  },
  {
   "cell_type": "code",
   "execution_count": 5,
   "id": "electrical-object",
   "metadata": {},
   "outputs": [],
   "source": [
    "def frame_it(path):\n",
    "    # path = f'./{directory}'\n",
    "    csv_files = glob.glob(path + '/*.csv')\n",
    "    df_list = []\n",
    "    for filename in csv_files:\n",
    "        # print(filename)\n",
    "        df = pd.read_csv(filename, index_col=None, header=0)\n",
    "        df['model-outliers-metric'] = table_name(filename)\n",
    "        df_list.append(df)\n",
    "        \n",
    "    df = pd.concat(df_list, axis=0, ignore_index=False).reset_index(drop=True)\n",
    "    df = df.rename({'Unnamed: 0':'metric'},axis=1)\n",
    "    \n",
    "    df['model-outliers-metric'] = df['model-outliers-metric'].map(str) + '-' + df['metric'].map(str)\n",
    "    df = df.set_index('model-outliers-metric')\n",
    "    # df = df.set_index(['model','metric'])\n",
    "    df = df.drop('metric',axis=1)\n",
    "    return df"
   ]
  },
  {
   "cell_type": "code",
   "execution_count": 6,
   "id": "sapphire-ribbon",
   "metadata": {},
   "outputs": [],
   "source": [
    "def show_values_on_bars(axs, h_v=\"v\", space=0.4,pct=False,neg=False):\n",
    "    def _show_on_single_plot(ax):\n",
    "        if h_v == \"v\":\n",
    "            for p in ax.patches:\n",
    "                _x = p.get_x() + p.get_width() / 2\n",
    "                _y = p.get_y() + p.get_height()\n",
    "                if pct == True: \n",
    "                    value = '{:.2%}'.format(p.get_height())\n",
    "                else: \n",
    "                    value = '{:.2f}'.format(p.get_height())\n",
    "                ax.text(_x, _y, value, ha=\"center\") \n",
    "        \n",
    "        elif h_v == \"h\":\n",
    "            for p in ax.patches:\n",
    "                _x = p.get_x() + p.get_width() + float(space)\n",
    "                _y = p.get_y() + p.get_height()\n",
    "                if pct == True: \n",
    "                    value = '{:.2%}'.format(p.get_width())\n",
    "                else: \n",
    "                    value = '{:.2f}'.format(p.get_width())\n",
    "                if neg == True: \n",
    "                    ax.text(_x, _y, value, ha=\"right\")\n",
    "                else:\n",
    "                    ax.text(_x, _y, value, ha=\"left\")\n",
    "\n",
    "    if isinstance(axs, np.ndarray):\n",
    "        for idx, ax in np.ndenumerate(axs):\n",
    "            _show_on_single_plot(ax)\n",
    "    else:\n",
    "        _show_on_single_plot(axs)"
   ]
  },
  {
   "cell_type": "markdown",
   "id": "cleared-combine",
   "metadata": {},
   "source": [
    "# Analysis"
   ]
  },
  {
   "cell_type": "code",
   "execution_count": 7,
   "id": "after-dairy",
   "metadata": {},
   "outputs": [],
   "source": [
    "# MODIFY!\n",
    "df = frame_it('./scaler-err')"
   ]
  },
  {
   "cell_type": "code",
   "execution_count": 8,
   "id": "heard-baseline",
   "metadata": {},
   "outputs": [],
   "source": [
    "df.to_csv(f'./analysis/{notebook_name}.csv')"
   ]
  },
  {
   "cell_type": "markdown",
   "id": "deluxe-leonard",
   "metadata": {},
   "source": [
    "## ERR Values [MBit/s] and [(MBit/s)^2]"
   ]
  },
  {
   "cell_type": "code",
   "execution_count": 9,
   "id": "adjusted-conjunction",
   "metadata": {},
   "outputs": [
    {
     "data": {
      "text/html": [
       "<style  type=\"text/css\" >\n",
       "    #T_05366ba4_5e7d_11eb_951d_60f81dd06e70 tr:hover {\n",
       "          background-color: ;\n",
       "    }#T_05366ba4_5e7d_11eb_951d_60f81dd06e70row0_col2,#T_05366ba4_5e7d_11eb_951d_60f81dd06e70row1_col2,#T_05366ba4_5e7d_11eb_951d_60f81dd06e70row2_col2,#T_05366ba4_5e7d_11eb_951d_60f81dd06e70row3_col2,#T_05366ba4_5e7d_11eb_951d_60f81dd06e70row4_col2,#T_05366ba4_5e7d_11eb_951d_60f81dd06e70row5_col2,#T_05366ba4_5e7d_11eb_951d_60f81dd06e70row6_col0,#T_05366ba4_5e7d_11eb_951d_60f81dd06e70row7_col0,#T_05366ba4_5e7d_11eb_951d_60f81dd06e70row8_col0,#T_05366ba4_5e7d_11eb_951d_60f81dd06e70row9_col1,#T_05366ba4_5e7d_11eb_951d_60f81dd06e70row10_col1,#T_05366ba4_5e7d_11eb_951d_60f81dd06e70row11_col1,#T_05366ba4_5e7d_11eb_951d_60f81dd06e70row12_col1,#T_05366ba4_5e7d_11eb_951d_60f81dd06e70row13_col2,#T_05366ba4_5e7d_11eb_951d_60f81dd06e70row14_col2,#T_05366ba4_5e7d_11eb_951d_60f81dd06e70row15_col1,#T_05366ba4_5e7d_11eb_951d_60f81dd06e70row16_col0,#T_05366ba4_5e7d_11eb_951d_60f81dd06e70row17_col1,#T_05366ba4_5e7d_11eb_951d_60f81dd06e70row18_col0,#T_05366ba4_5e7d_11eb_951d_60f81dd06e70row19_col0,#T_05366ba4_5e7d_11eb_951d_60f81dd06e70row20_col0,#T_05366ba4_5e7d_11eb_951d_60f81dd06e70row21_col1,#T_05366ba4_5e7d_11eb_951d_60f81dd06e70row22_col1,#T_05366ba4_5e7d_11eb_951d_60f81dd06e70row23_col1{\n",
       "            background-color:  lightgrey;\n",
       "        }</style><table id=\"T_05366ba4_5e7d_11eb_951d_60f81dd06e70\" ><thead>    <tr>        <th class=\"blank level0\" ></th>        <th class=\"col_heading level0 col0\" >MinMaxScaler()</th>        <th class=\"col_heading level0 col1\" >RobustScaler()</th>        <th class=\"col_heading level0 col2\" >StandardScaler()</th>    </tr>    <tr>        <th class=\"index_name level0\" >model-outliers-metric</th>        <th class=\"blank\" ></th>        <th class=\"blank\" ></th>        <th class=\"blank\" ></th>    </tr></thead><tbody>\n",
       "                <tr>\n",
       "                        <th id=\"T_05366ba4_5e7d_11eb_951d_60f81dd06e70level0_row0\" class=\"row_heading level0 row0\" >poi-wo-MAE</th>\n",
       "                        <td id=\"T_05366ba4_5e7d_11eb_951d_60f81dd06e70row0_col0\" class=\"data row0 col0\" >5.32e+00</td>\n",
       "                        <td id=\"T_05366ba4_5e7d_11eb_951d_60f81dd06e70row0_col1\" class=\"data row0 col1\" >4.78e+00</td>\n",
       "                        <td id=\"T_05366ba4_5e7d_11eb_951d_60f81dd06e70row0_col2\" class=\"data row0 col2\" >4.58e+00</td>\n",
       "            </tr>\n",
       "            <tr>\n",
       "                        <th id=\"T_05366ba4_5e7d_11eb_951d_60f81dd06e70level0_row1\" class=\"row_heading level0 row1\" >poi-wo-MSE</th>\n",
       "                        <td id=\"T_05366ba4_5e7d_11eb_951d_60f81dd06e70row1_col0\" class=\"data row1 col0\" >4.10e+01</td>\n",
       "                        <td id=\"T_05366ba4_5e7d_11eb_951d_60f81dd06e70row1_col1\" class=\"data row1 col1\" >3.49e+01</td>\n",
       "                        <td id=\"T_05366ba4_5e7d_11eb_951d_60f81dd06e70row1_col2\" class=\"data row1 col2\" >3.21e+01</td>\n",
       "            </tr>\n",
       "            <tr>\n",
       "                        <th id=\"T_05366ba4_5e7d_11eb_951d_60f81dd06e70level0_row2\" class=\"row_heading level0 row2\" >poi-wo-RMSE</th>\n",
       "                        <td id=\"T_05366ba4_5e7d_11eb_951d_60f81dd06e70row2_col0\" class=\"data row2 col0\" >6.39e+00</td>\n",
       "                        <td id=\"T_05366ba4_5e7d_11eb_951d_60f81dd06e70row2_col1\" class=\"data row2 col1\" >5.89e+00</td>\n",
       "                        <td id=\"T_05366ba4_5e7d_11eb_951d_60f81dd06e70row2_col2\" class=\"data row2 col2\" >5.65e+00</td>\n",
       "            </tr>\n",
       "            <tr>\n",
       "                        <th id=\"T_05366ba4_5e7d_11eb_951d_60f81dd06e70level0_row3\" class=\"row_heading level0 row3\" >poi-no-MAE</th>\n",
       "                        <td id=\"T_05366ba4_5e7d_11eb_951d_60f81dd06e70row3_col0\" class=\"data row3 col0\" >5.23e+00</td>\n",
       "                        <td id=\"T_05366ba4_5e7d_11eb_951d_60f81dd06e70row3_col1\" class=\"data row3 col1\" >4.76e+00</td>\n",
       "                        <td id=\"T_05366ba4_5e7d_11eb_951d_60f81dd06e70row3_col2\" class=\"data row3 col2\" >4.58e+00</td>\n",
       "            </tr>\n",
       "            <tr>\n",
       "                        <th id=\"T_05366ba4_5e7d_11eb_951d_60f81dd06e70level0_row4\" class=\"row_heading level0 row4\" >poi-no-MSE</th>\n",
       "                        <td id=\"T_05366ba4_5e7d_11eb_951d_60f81dd06e70row4_col0\" class=\"data row4 col0\" >3.94e+01</td>\n",
       "                        <td id=\"T_05366ba4_5e7d_11eb_951d_60f81dd06e70row4_col1\" class=\"data row4 col1\" >3.46e+01</td>\n",
       "                        <td id=\"T_05366ba4_5e7d_11eb_951d_60f81dd06e70row4_col2\" class=\"data row4 col2\" >3.22e+01</td>\n",
       "            </tr>\n",
       "            <tr>\n",
       "                        <th id=\"T_05366ba4_5e7d_11eb_951d_60f81dd06e70level0_row5\" class=\"row_heading level0 row5\" >poi-no-RMSE</th>\n",
       "                        <td id=\"T_05366ba4_5e7d_11eb_951d_60f81dd06e70row5_col0\" class=\"data row5 col0\" >6.27e+00</td>\n",
       "                        <td id=\"T_05366ba4_5e7d_11eb_951d_60f81dd06e70row5_col1\" class=\"data row5 col1\" >5.87e+00</td>\n",
       "                        <td id=\"T_05366ba4_5e7d_11eb_951d_60f81dd06e70row5_col2\" class=\"data row5 col2\" >5.67e+00</td>\n",
       "            </tr>\n",
       "            <tr>\n",
       "                        <th id=\"T_05366ba4_5e7d_11eb_951d_60f81dd06e70level0_row6\" class=\"row_heading level0 row6\" >svr-no-MAE</th>\n",
       "                        <td id=\"T_05366ba4_5e7d_11eb_951d_60f81dd06e70row6_col0\" class=\"data row6 col0\" >4.70e+00</td>\n",
       "                        <td id=\"T_05366ba4_5e7d_11eb_951d_60f81dd06e70row6_col1\" class=\"data row6 col1\" >4.71e+00</td>\n",
       "                        <td id=\"T_05366ba4_5e7d_11eb_951d_60f81dd06e70row6_col2\" class=\"data row6 col2\" >4.89e+00</td>\n",
       "            </tr>\n",
       "            <tr>\n",
       "                        <th id=\"T_05366ba4_5e7d_11eb_951d_60f81dd06e70level0_row7\" class=\"row_heading level0 row7\" >svr-no-MSE</th>\n",
       "                        <td id=\"T_05366ba4_5e7d_11eb_951d_60f81dd06e70row7_col0\" class=\"data row7 col0\" >3.40e+01</td>\n",
       "                        <td id=\"T_05366ba4_5e7d_11eb_951d_60f81dd06e70row7_col1\" class=\"data row7 col1\" >3.52e+01</td>\n",
       "                        <td id=\"T_05366ba4_5e7d_11eb_951d_60f81dd06e70row7_col2\" class=\"data row7 col2\" >3.88e+01</td>\n",
       "            </tr>\n",
       "            <tr>\n",
       "                        <th id=\"T_05366ba4_5e7d_11eb_951d_60f81dd06e70level0_row8\" class=\"row_heading level0 row8\" >svr-no-RMSE</th>\n",
       "                        <td id=\"T_05366ba4_5e7d_11eb_951d_60f81dd06e70row8_col0\" class=\"data row8 col0\" >5.82e+00</td>\n",
       "                        <td id=\"T_05366ba4_5e7d_11eb_951d_60f81dd06e70row8_col1\" class=\"data row8 col1\" >5.93e+00</td>\n",
       "                        <td id=\"T_05366ba4_5e7d_11eb_951d_60f81dd06e70row8_col2\" class=\"data row8 col2\" >6.22e+00</td>\n",
       "            </tr>\n",
       "            <tr>\n",
       "                        <th id=\"T_05366ba4_5e7d_11eb_951d_60f81dd06e70level0_row9\" class=\"row_heading level0 row9\" >lin-wo-MAE</th>\n",
       "                        <td id=\"T_05366ba4_5e7d_11eb_951d_60f81dd06e70row9_col0\" class=\"data row9 col0\" >1.82e+11</td>\n",
       "                        <td id=\"T_05366ba4_5e7d_11eb_951d_60f81dd06e70row9_col1\" class=\"data row9 col1\" >4.51e+00</td>\n",
       "                        <td id=\"T_05366ba4_5e7d_11eb_951d_60f81dd06e70row9_col2\" class=\"data row9 col2\" >2.17e+12</td>\n",
       "            </tr>\n",
       "            <tr>\n",
       "                        <th id=\"T_05366ba4_5e7d_11eb_951d_60f81dd06e70level0_row10\" class=\"row_heading level0 row10\" >lin-wo-MSE</th>\n",
       "                        <td id=\"T_05366ba4_5e7d_11eb_951d_60f81dd06e70row10_col0\" class=\"data row10 col0\" >1.39e+25</td>\n",
       "                        <td id=\"T_05366ba4_5e7d_11eb_951d_60f81dd06e70row10_col1\" class=\"data row10 col1\" >3.14e+01</td>\n",
       "                        <td id=\"T_05366ba4_5e7d_11eb_951d_60f81dd06e70row10_col2\" class=\"data row10 col2\" >1.89e+27</td>\n",
       "            </tr>\n",
       "            <tr>\n",
       "                        <th id=\"T_05366ba4_5e7d_11eb_951d_60f81dd06e70level0_row11\" class=\"row_heading level0 row11\" >lin-wo-RMSE</th>\n",
       "                        <td id=\"T_05366ba4_5e7d_11eb_951d_60f81dd06e70row11_col0\" class=\"data row11 col0\" >2.21e+12</td>\n",
       "                        <td id=\"T_05366ba4_5e7d_11eb_951d_60f81dd06e70row11_col1\" class=\"data row11 col1\" >5.59e+00</td>\n",
       "                        <td id=\"T_05366ba4_5e7d_11eb_951d_60f81dd06e70row11_col2\" class=\"data row11 col2\" >2.60e+13</td>\n",
       "            </tr>\n",
       "            <tr>\n",
       "                        <th id=\"T_05366ba4_5e7d_11eb_951d_60f81dd06e70level0_row12\" class=\"row_heading level0 row12\" >rf-no-MAE</th>\n",
       "                        <td id=\"T_05366ba4_5e7d_11eb_951d_60f81dd06e70row12_col0\" class=\"data row12 col0\" >2.75e+00</td>\n",
       "                        <td id=\"T_05366ba4_5e7d_11eb_951d_60f81dd06e70row12_col1\" class=\"data row12 col1\" >2.74e+00</td>\n",
       "                        <td id=\"T_05366ba4_5e7d_11eb_951d_60f81dd06e70row12_col2\" class=\"data row12 col2\" >2.74e+00</td>\n",
       "            </tr>\n",
       "            <tr>\n",
       "                        <th id=\"T_05366ba4_5e7d_11eb_951d_60f81dd06e70level0_row13\" class=\"row_heading level0 row13\" >rf-no-MSE</th>\n",
       "                        <td id=\"T_05366ba4_5e7d_11eb_951d_60f81dd06e70row13_col0\" class=\"data row13 col0\" >1.50e+01</td>\n",
       "                        <td id=\"T_05366ba4_5e7d_11eb_951d_60f81dd06e70row13_col1\" class=\"data row13 col1\" >1.52e+01</td>\n",
       "                        <td id=\"T_05366ba4_5e7d_11eb_951d_60f81dd06e70row13_col2\" class=\"data row13 col2\" >1.50e+01</td>\n",
       "            </tr>\n",
       "            <tr>\n",
       "                        <th id=\"T_05366ba4_5e7d_11eb_951d_60f81dd06e70level0_row14\" class=\"row_heading level0 row14\" >rf-no-RMSE</th>\n",
       "                        <td id=\"T_05366ba4_5e7d_11eb_951d_60f81dd06e70row14_col0\" class=\"data row14 col0\" >3.86e+00</td>\n",
       "                        <td id=\"T_05366ba4_5e7d_11eb_951d_60f81dd06e70row14_col1\" class=\"data row14 col1\" >3.87e+00</td>\n",
       "                        <td id=\"T_05366ba4_5e7d_11eb_951d_60f81dd06e70row14_col2\" class=\"data row14 col2\" >3.85e+00</td>\n",
       "            </tr>\n",
       "            <tr>\n",
       "                        <th id=\"T_05366ba4_5e7d_11eb_951d_60f81dd06e70level0_row15\" class=\"row_heading level0 row15\" >rf-wo-MAE</th>\n",
       "                        <td id=\"T_05366ba4_5e7d_11eb_951d_60f81dd06e70row15_col0\" class=\"data row15 col0\" >2.81e+00</td>\n",
       "                        <td id=\"T_05366ba4_5e7d_11eb_951d_60f81dd06e70row15_col1\" class=\"data row15 col1\" >2.79e+00</td>\n",
       "                        <td id=\"T_05366ba4_5e7d_11eb_951d_60f81dd06e70row15_col2\" class=\"data row15 col2\" >2.79e+00</td>\n",
       "            </tr>\n",
       "            <tr>\n",
       "                        <th id=\"T_05366ba4_5e7d_11eb_951d_60f81dd06e70level0_row16\" class=\"row_heading level0 row16\" >rf-wo-MSE</th>\n",
       "                        <td id=\"T_05366ba4_5e7d_11eb_951d_60f81dd06e70row16_col0\" class=\"data row16 col0\" >1.53e+01</td>\n",
       "                        <td id=\"T_05366ba4_5e7d_11eb_951d_60f81dd06e70row16_col1\" class=\"data row16 col1\" >1.53e+01</td>\n",
       "                        <td id=\"T_05366ba4_5e7d_11eb_951d_60f81dd06e70row16_col2\" class=\"data row16 col2\" >1.54e+01</td>\n",
       "            </tr>\n",
       "            <tr>\n",
       "                        <th id=\"T_05366ba4_5e7d_11eb_951d_60f81dd06e70level0_row17\" class=\"row_heading level0 row17\" >rf-wo-RMSE</th>\n",
       "                        <td id=\"T_05366ba4_5e7d_11eb_951d_60f81dd06e70row17_col0\" class=\"data row17 col0\" >3.91e+00</td>\n",
       "                        <td id=\"T_05366ba4_5e7d_11eb_951d_60f81dd06e70row17_col1\" class=\"data row17 col1\" >3.87e+00</td>\n",
       "                        <td id=\"T_05366ba4_5e7d_11eb_951d_60f81dd06e70row17_col2\" class=\"data row17 col2\" >3.88e+00</td>\n",
       "            </tr>\n",
       "            <tr>\n",
       "                        <th id=\"T_05366ba4_5e7d_11eb_951d_60f81dd06e70level0_row18\" class=\"row_heading level0 row18\" >svr-wo-MAE</th>\n",
       "                        <td id=\"T_05366ba4_5e7d_11eb_951d_60f81dd06e70row18_col0\" class=\"data row18 col0\" >4.75e+00</td>\n",
       "                        <td id=\"T_05366ba4_5e7d_11eb_951d_60f81dd06e70row18_col1\" class=\"data row18 col1\" >5.27e+00</td>\n",
       "                        <td id=\"T_05366ba4_5e7d_11eb_951d_60f81dd06e70row18_col2\" class=\"data row18 col2\" >4.92e+00</td>\n",
       "            </tr>\n",
       "            <tr>\n",
       "                        <th id=\"T_05366ba4_5e7d_11eb_951d_60f81dd06e70level0_row19\" class=\"row_heading level0 row19\" >svr-wo-MSE</th>\n",
       "                        <td id=\"T_05366ba4_5e7d_11eb_951d_60f81dd06e70row19_col0\" class=\"data row19 col0\" >3.46e+01</td>\n",
       "                        <td id=\"T_05366ba4_5e7d_11eb_951d_60f81dd06e70row19_col1\" class=\"data row19 col1\" >4.29e+01</td>\n",
       "                        <td id=\"T_05366ba4_5e7d_11eb_951d_60f81dd06e70row19_col2\" class=\"data row19 col2\" >3.86e+01</td>\n",
       "            </tr>\n",
       "            <tr>\n",
       "                        <th id=\"T_05366ba4_5e7d_11eb_951d_60f81dd06e70level0_row20\" class=\"row_heading level0 row20\" >svr-wo-RMSE</th>\n",
       "                        <td id=\"T_05366ba4_5e7d_11eb_951d_60f81dd06e70row20_col0\" class=\"data row20 col0\" >5.87e+00</td>\n",
       "                        <td id=\"T_05366ba4_5e7d_11eb_951d_60f81dd06e70row20_col1\" class=\"data row20 col1\" >6.54e+00</td>\n",
       "                        <td id=\"T_05366ba4_5e7d_11eb_951d_60f81dd06e70row20_col2\" class=\"data row20 col2\" >6.19e+00</td>\n",
       "            </tr>\n",
       "            <tr>\n",
       "                        <th id=\"T_05366ba4_5e7d_11eb_951d_60f81dd06e70level0_row21\" class=\"row_heading level0 row21\" >lin-no-MAE</th>\n",
       "                        <td id=\"T_05366ba4_5e7d_11eb_951d_60f81dd06e70row21_col0\" class=\"data row21 col0\" >1.89e+11</td>\n",
       "                        <td id=\"T_05366ba4_5e7d_11eb_951d_60f81dd06e70row21_col1\" class=\"data row21 col1\" >3.11e+10</td>\n",
       "                        <td id=\"T_05366ba4_5e7d_11eb_951d_60f81dd06e70row21_col2\" class=\"data row21 col2\" >6.60e+12</td>\n",
       "            </tr>\n",
       "            <tr>\n",
       "                        <th id=\"T_05366ba4_5e7d_11eb_951d_60f81dd06e70level0_row22\" class=\"row_heading level0 row22\" >lin-no-MSE</th>\n",
       "                        <td id=\"T_05366ba4_5e7d_11eb_951d_60f81dd06e70row22_col0\" class=\"data row22 col0\" >6.30e+25</td>\n",
       "                        <td id=\"T_05366ba4_5e7d_11eb_951d_60f81dd06e70row22_col1\" class=\"data row22 col1\" >1.16e+24</td>\n",
       "                        <td id=\"T_05366ba4_5e7d_11eb_951d_60f81dd06e70row22_col2\" class=\"data row22 col2\" >4.98e+28</td>\n",
       "            </tr>\n",
       "            <tr>\n",
       "                        <th id=\"T_05366ba4_5e7d_11eb_951d_60f81dd06e70level0_row23\" class=\"row_heading level0 row23\" >lin-no-RMSE</th>\n",
       "                        <td id=\"T_05366ba4_5e7d_11eb_951d_60f81dd06e70row23_col0\" class=\"data row23 col0\" >2.51e+12</td>\n",
       "                        <td id=\"T_05366ba4_5e7d_11eb_951d_60f81dd06e70row23_col1\" class=\"data row23 col1\" >4.15e+11</td>\n",
       "                        <td id=\"T_05366ba4_5e7d_11eb_951d_60f81dd06e70row23_col2\" class=\"data row23 col2\" >8.69e+13</td>\n",
       "            </tr>\n",
       "    </tbody></table>"
      ],
      "text/plain": [
       "<pandas.io.formats.style.Styler at 0x7fc70079e070>"
      ]
     },
     "execution_count": 9,
     "metadata": {},
     "output_type": "execute_result"
    }
   ],
   "source": [
    "df.style.highlight_min(color = 'lightgrey', axis = 1).set_table_styles([{'selector': 'tr:hover','props': [('background-color', '')]}]).format('{:.2e}')"
   ]
  },
  {
   "cell_type": "markdown",
   "id": "caroline-michael",
   "metadata": {},
   "source": [
    "## Performance Decline based on Best Performance [%]"
   ]
  },
  {
   "cell_type": "code",
   "execution_count": 10,
   "id": "numeric-lithuania",
   "metadata": {},
   "outputs": [],
   "source": [
    "df_min = df.apply(lambda value: -(value / df.min(axis=1)-1))"
   ]
  },
  {
   "cell_type": "code",
   "execution_count": 11,
   "id": "blank-assignment",
   "metadata": {},
   "outputs": [],
   "source": [
    "df_min.to_csv(f'./analysis/{notebook_name}-min.csv')"
   ]
  },
  {
   "cell_type": "code",
   "execution_count": 12,
   "id": "muslim-staff",
   "metadata": {},
   "outputs": [
    {
     "data": {
      "text/html": [
       "<style  type=\"text/css\" >\n",
       "    #T_054db430_5e7d_11eb_951d_60f81dd06e70 tr:hover {\n",
       "          background-color: ;\n",
       "    }#T_054db430_5e7d_11eb_951d_60f81dd06e70row0_col2,#T_054db430_5e7d_11eb_951d_60f81dd06e70row1_col2,#T_054db430_5e7d_11eb_951d_60f81dd06e70row2_col2,#T_054db430_5e7d_11eb_951d_60f81dd06e70row3_col2,#T_054db430_5e7d_11eb_951d_60f81dd06e70row4_col2,#T_054db430_5e7d_11eb_951d_60f81dd06e70row5_col2,#T_054db430_5e7d_11eb_951d_60f81dd06e70row6_col0,#T_054db430_5e7d_11eb_951d_60f81dd06e70row7_col0,#T_054db430_5e7d_11eb_951d_60f81dd06e70row8_col0,#T_054db430_5e7d_11eb_951d_60f81dd06e70row9_col1,#T_054db430_5e7d_11eb_951d_60f81dd06e70row10_col1,#T_054db430_5e7d_11eb_951d_60f81dd06e70row11_col1,#T_054db430_5e7d_11eb_951d_60f81dd06e70row12_col1,#T_054db430_5e7d_11eb_951d_60f81dd06e70row13_col2,#T_054db430_5e7d_11eb_951d_60f81dd06e70row14_col2,#T_054db430_5e7d_11eb_951d_60f81dd06e70row15_col1,#T_054db430_5e7d_11eb_951d_60f81dd06e70row16_col0,#T_054db430_5e7d_11eb_951d_60f81dd06e70row17_col1,#T_054db430_5e7d_11eb_951d_60f81dd06e70row18_col0,#T_054db430_5e7d_11eb_951d_60f81dd06e70row19_col0,#T_054db430_5e7d_11eb_951d_60f81dd06e70row20_col0,#T_054db430_5e7d_11eb_951d_60f81dd06e70row21_col1,#T_054db430_5e7d_11eb_951d_60f81dd06e70row22_col1,#T_054db430_5e7d_11eb_951d_60f81dd06e70row23_col1{\n",
       "            background-color:  lightgrey;\n",
       "        }</style><table id=\"T_054db430_5e7d_11eb_951d_60f81dd06e70\" ><thead>    <tr>        <th class=\"blank level0\" ></th>        <th class=\"col_heading level0 col0\" >MinMaxScaler()</th>        <th class=\"col_heading level0 col1\" >RobustScaler()</th>        <th class=\"col_heading level0 col2\" >StandardScaler()</th>    </tr>    <tr>        <th class=\"index_name level0\" >model-outliers-metric</th>        <th class=\"blank\" ></th>        <th class=\"blank\" ></th>        <th class=\"blank\" ></th>    </tr></thead><tbody>\n",
       "                <tr>\n",
       "                        <th id=\"T_054db430_5e7d_11eb_951d_60f81dd06e70level0_row0\" class=\"row_heading level0 row0\" >poi-wo-MAE</th>\n",
       "                        <td id=\"T_054db430_5e7d_11eb_951d_60f81dd06e70row0_col0\" class=\"data row0 col0\" >-16.12%</td>\n",
       "                        <td id=\"T_054db430_5e7d_11eb_951d_60f81dd06e70row0_col1\" class=\"data row0 col1\" >-4.37%</td>\n",
       "                        <td id=\"T_054db430_5e7d_11eb_951d_60f81dd06e70row0_col2\" class=\"data row0 col2\" >-0.00%</td>\n",
       "            </tr>\n",
       "            <tr>\n",
       "                        <th id=\"T_054db430_5e7d_11eb_951d_60f81dd06e70level0_row1\" class=\"row_heading level0 row1\" >poi-wo-MSE</th>\n",
       "                        <td id=\"T_054db430_5e7d_11eb_951d_60f81dd06e70row1_col0\" class=\"data row1 col0\" >-27.75%</td>\n",
       "                        <td id=\"T_054db430_5e7d_11eb_951d_60f81dd06e70row1_col1\" class=\"data row1 col1\" >-8.72%</td>\n",
       "                        <td id=\"T_054db430_5e7d_11eb_951d_60f81dd06e70row1_col2\" class=\"data row1 col2\" >-0.00%</td>\n",
       "            </tr>\n",
       "            <tr>\n",
       "                        <th id=\"T_054db430_5e7d_11eb_951d_60f81dd06e70level0_row2\" class=\"row_heading level0 row2\" >poi-wo-RMSE</th>\n",
       "                        <td id=\"T_054db430_5e7d_11eb_951d_60f81dd06e70row2_col0\" class=\"data row2 col0\" >-13.13%</td>\n",
       "                        <td id=\"T_054db430_5e7d_11eb_951d_60f81dd06e70row2_col1\" class=\"data row2 col1\" >-4.32%</td>\n",
       "                        <td id=\"T_054db430_5e7d_11eb_951d_60f81dd06e70row2_col2\" class=\"data row2 col2\" >-0.00%</td>\n",
       "            </tr>\n",
       "            <tr>\n",
       "                        <th id=\"T_054db430_5e7d_11eb_951d_60f81dd06e70level0_row3\" class=\"row_heading level0 row3\" >poi-no-MAE</th>\n",
       "                        <td id=\"T_054db430_5e7d_11eb_951d_60f81dd06e70row3_col0\" class=\"data row3 col0\" >-14.08%</td>\n",
       "                        <td id=\"T_054db430_5e7d_11eb_951d_60f81dd06e70row3_col1\" class=\"data row3 col1\" >-4.01%</td>\n",
       "                        <td id=\"T_054db430_5e7d_11eb_951d_60f81dd06e70row3_col2\" class=\"data row3 col2\" >-0.00%</td>\n",
       "            </tr>\n",
       "            <tr>\n",
       "                        <th id=\"T_054db430_5e7d_11eb_951d_60f81dd06e70level0_row4\" class=\"row_heading level0 row4\" >poi-no-MSE</th>\n",
       "                        <td id=\"T_054db430_5e7d_11eb_951d_60f81dd06e70row4_col0\" class=\"data row4 col0\" >-22.41%</td>\n",
       "                        <td id=\"T_054db430_5e7d_11eb_951d_60f81dd06e70row4_col1\" class=\"data row4 col1\" >-7.50%</td>\n",
       "                        <td id=\"T_054db430_5e7d_11eb_951d_60f81dd06e70row4_col2\" class=\"data row4 col2\" >-0.00%</td>\n",
       "            </tr>\n",
       "            <tr>\n",
       "                        <th id=\"T_054db430_5e7d_11eb_951d_60f81dd06e70level0_row5\" class=\"row_heading level0 row5\" >poi-no-RMSE</th>\n",
       "                        <td id=\"T_054db430_5e7d_11eb_951d_60f81dd06e70row5_col0\" class=\"data row5 col0\" >-10.65%</td>\n",
       "                        <td id=\"T_054db430_5e7d_11eb_951d_60f81dd06e70row5_col1\" class=\"data row5 col1\" >-3.64%</td>\n",
       "                        <td id=\"T_054db430_5e7d_11eb_951d_60f81dd06e70row5_col2\" class=\"data row5 col2\" >-0.00%</td>\n",
       "            </tr>\n",
       "            <tr>\n",
       "                        <th id=\"T_054db430_5e7d_11eb_951d_60f81dd06e70level0_row6\" class=\"row_heading level0 row6\" >svr-no-MAE</th>\n",
       "                        <td id=\"T_054db430_5e7d_11eb_951d_60f81dd06e70row6_col0\" class=\"data row6 col0\" >-0.00%</td>\n",
       "                        <td id=\"T_054db430_5e7d_11eb_951d_60f81dd06e70row6_col1\" class=\"data row6 col1\" >-0.16%</td>\n",
       "                        <td id=\"T_054db430_5e7d_11eb_951d_60f81dd06e70row6_col2\" class=\"data row6 col2\" >-3.98%</td>\n",
       "            </tr>\n",
       "            <tr>\n",
       "                        <th id=\"T_054db430_5e7d_11eb_951d_60f81dd06e70level0_row7\" class=\"row_heading level0 row7\" >svr-no-MSE</th>\n",
       "                        <td id=\"T_054db430_5e7d_11eb_951d_60f81dd06e70row7_col0\" class=\"data row7 col0\" >-0.00%</td>\n",
       "                        <td id=\"T_054db430_5e7d_11eb_951d_60f81dd06e70row7_col1\" class=\"data row7 col1\" >-3.58%</td>\n",
       "                        <td id=\"T_054db430_5e7d_11eb_951d_60f81dd06e70row7_col2\" class=\"data row7 col2\" >-13.96%</td>\n",
       "            </tr>\n",
       "            <tr>\n",
       "                        <th id=\"T_054db430_5e7d_11eb_951d_60f81dd06e70level0_row8\" class=\"row_heading level0 row8\" >svr-no-RMSE</th>\n",
       "                        <td id=\"T_054db430_5e7d_11eb_951d_60f81dd06e70row8_col0\" class=\"data row8 col0\" >-0.00%</td>\n",
       "                        <td id=\"T_054db430_5e7d_11eb_951d_60f81dd06e70row8_col1\" class=\"data row8 col1\" >-1.76%</td>\n",
       "                        <td id=\"T_054db430_5e7d_11eb_951d_60f81dd06e70row8_col2\" class=\"data row8 col2\" >-6.74%</td>\n",
       "            </tr>\n",
       "            <tr>\n",
       "                        <th id=\"T_054db430_5e7d_11eb_951d_60f81dd06e70level0_row9\" class=\"row_heading level0 row9\" >lin-wo-MAE</th>\n",
       "                        <td id=\"T_054db430_5e7d_11eb_951d_60f81dd06e70row9_col0\" class=\"data row9 col0\" >-4039971348025.73%</td>\n",
       "                        <td id=\"T_054db430_5e7d_11eb_951d_60f81dd06e70row9_col1\" class=\"data row9 col1\" >-0.00%</td>\n",
       "                        <td id=\"T_054db430_5e7d_11eb_951d_60f81dd06e70row9_col2\" class=\"data row9 col2\" >-48179658551613.94%</td>\n",
       "            </tr>\n",
       "            <tr>\n",
       "                        <th id=\"T_054db430_5e7d_11eb_951d_60f81dd06e70level0_row10\" class=\"row_heading level0 row10\" >lin-wo-MSE</th>\n",
       "                        <td id=\"T_054db430_5e7d_11eb_951d_60f81dd06e70row10_col0\" class=\"data row10 col0\" >-44154592203850552356896768.00%</td>\n",
       "                        <td id=\"T_054db430_5e7d_11eb_951d_60f81dd06e70row10_col1\" class=\"data row10 col1\" >-0.00%</td>\n",
       "                        <td id=\"T_054db430_5e7d_11eb_951d_60f81dd06e70row10_col2\" class=\"data row10 col2\" >-6005031334374807657177415680.00%</td>\n",
       "            </tr>\n",
       "            <tr>\n",
       "                        <th id=\"T_054db430_5e7d_11eb_951d_60f81dd06e70level0_row11\" class=\"row_heading level0 row11\" >lin-wo-RMSE</th>\n",
       "                        <td id=\"T_054db430_5e7d_11eb_951d_60f81dd06e70row11_col0\" class=\"data row11 col0\" >-39546653726629.24%</td>\n",
       "                        <td id=\"T_054db430_5e7d_11eb_951d_60f81dd06e70row11_col1\" class=\"data row11 col1\" >-0.00%</td>\n",
       "                        <td id=\"T_054db430_5e7d_11eb_951d_60f81dd06e70row11_col2\" class=\"data row11 col2\" >-465072119973284.75%</td>\n",
       "            </tr>\n",
       "            <tr>\n",
       "                        <th id=\"T_054db430_5e7d_11eb_951d_60f81dd06e70level0_row12\" class=\"row_heading level0 row12\" >rf-no-MAE</th>\n",
       "                        <td id=\"T_054db430_5e7d_11eb_951d_60f81dd06e70row12_col0\" class=\"data row12 col0\" >-0.30%</td>\n",
       "                        <td id=\"T_054db430_5e7d_11eb_951d_60f81dd06e70row12_col1\" class=\"data row12 col1\" >-0.00%</td>\n",
       "                        <td id=\"T_054db430_5e7d_11eb_951d_60f81dd06e70row12_col2\" class=\"data row12 col2\" >-0.02%</td>\n",
       "            </tr>\n",
       "            <tr>\n",
       "                        <th id=\"T_054db430_5e7d_11eb_951d_60f81dd06e70level0_row13\" class=\"row_heading level0 row13\" >rf-no-MSE</th>\n",
       "                        <td id=\"T_054db430_5e7d_11eb_951d_60f81dd06e70row13_col0\" class=\"data row13 col0\" >-0.44%</td>\n",
       "                        <td id=\"T_054db430_5e7d_11eb_951d_60f81dd06e70row13_col1\" class=\"data row13 col1\" >-1.38%</td>\n",
       "                        <td id=\"T_054db430_5e7d_11eb_951d_60f81dd06e70row13_col2\" class=\"data row13 col2\" >-0.00%</td>\n",
       "            </tr>\n",
       "            <tr>\n",
       "                        <th id=\"T_054db430_5e7d_11eb_951d_60f81dd06e70level0_row14\" class=\"row_heading level0 row14\" >rf-no-RMSE</th>\n",
       "                        <td id=\"T_054db430_5e7d_11eb_951d_60f81dd06e70row14_col0\" class=\"data row14 col0\" >-0.26%</td>\n",
       "                        <td id=\"T_054db430_5e7d_11eb_951d_60f81dd06e70row14_col1\" class=\"data row14 col1\" >-0.35%</td>\n",
       "                        <td id=\"T_054db430_5e7d_11eb_951d_60f81dd06e70row14_col2\" class=\"data row14 col2\" >-0.00%</td>\n",
       "            </tr>\n",
       "            <tr>\n",
       "                        <th id=\"T_054db430_5e7d_11eb_951d_60f81dd06e70level0_row15\" class=\"row_heading level0 row15\" >rf-wo-MAE</th>\n",
       "                        <td id=\"T_054db430_5e7d_11eb_951d_60f81dd06e70row15_col0\" class=\"data row15 col0\" >-0.67%</td>\n",
       "                        <td id=\"T_054db430_5e7d_11eb_951d_60f81dd06e70row15_col1\" class=\"data row15 col1\" >-0.00%</td>\n",
       "                        <td id=\"T_054db430_5e7d_11eb_951d_60f81dd06e70row15_col2\" class=\"data row15 col2\" >-0.31%</td>\n",
       "            </tr>\n",
       "            <tr>\n",
       "                        <th id=\"T_054db430_5e7d_11eb_951d_60f81dd06e70level0_row16\" class=\"row_heading level0 row16\" >rf-wo-MSE</th>\n",
       "                        <td id=\"T_054db430_5e7d_11eb_951d_60f81dd06e70row16_col0\" class=\"data row16 col0\" >-0.00%</td>\n",
       "                        <td id=\"T_054db430_5e7d_11eb_951d_60f81dd06e70row16_col1\" class=\"data row16 col1\" >-0.11%</td>\n",
       "                        <td id=\"T_054db430_5e7d_11eb_951d_60f81dd06e70row16_col2\" class=\"data row16 col2\" >-0.36%</td>\n",
       "            </tr>\n",
       "            <tr>\n",
       "                        <th id=\"T_054db430_5e7d_11eb_951d_60f81dd06e70level0_row17\" class=\"row_heading level0 row17\" >rf-wo-RMSE</th>\n",
       "                        <td id=\"T_054db430_5e7d_11eb_951d_60f81dd06e70row17_col0\" class=\"data row17 col0\" >-0.87%</td>\n",
       "                        <td id=\"T_054db430_5e7d_11eb_951d_60f81dd06e70row17_col1\" class=\"data row17 col1\" >-0.00%</td>\n",
       "                        <td id=\"T_054db430_5e7d_11eb_951d_60f81dd06e70row17_col2\" class=\"data row17 col2\" >-0.17%</td>\n",
       "            </tr>\n",
       "            <tr>\n",
       "                        <th id=\"T_054db430_5e7d_11eb_951d_60f81dd06e70level0_row18\" class=\"row_heading level0 row18\" >svr-wo-MAE</th>\n",
       "                        <td id=\"T_054db430_5e7d_11eb_951d_60f81dd06e70row18_col0\" class=\"data row18 col0\" >-0.00%</td>\n",
       "                        <td id=\"T_054db430_5e7d_11eb_951d_60f81dd06e70row18_col1\" class=\"data row18 col1\" >-10.84%</td>\n",
       "                        <td id=\"T_054db430_5e7d_11eb_951d_60f81dd06e70row18_col2\" class=\"data row18 col2\" >-3.54%</td>\n",
       "            </tr>\n",
       "            <tr>\n",
       "                        <th id=\"T_054db430_5e7d_11eb_951d_60f81dd06e70level0_row19\" class=\"row_heading level0 row19\" >svr-wo-MSE</th>\n",
       "                        <td id=\"T_054db430_5e7d_11eb_951d_60f81dd06e70row19_col0\" class=\"data row19 col0\" >-0.00%</td>\n",
       "                        <td id=\"T_054db430_5e7d_11eb_951d_60f81dd06e70row19_col1\" class=\"data row19 col1\" >-23.92%</td>\n",
       "                        <td id=\"T_054db430_5e7d_11eb_951d_60f81dd06e70row19_col2\" class=\"data row19 col2\" >-11.43%</td>\n",
       "            </tr>\n",
       "            <tr>\n",
       "                        <th id=\"T_054db430_5e7d_11eb_951d_60f81dd06e70level0_row20\" class=\"row_heading level0 row20\" >svr-wo-RMSE</th>\n",
       "                        <td id=\"T_054db430_5e7d_11eb_951d_60f81dd06e70row20_col0\" class=\"data row20 col0\" >-0.00%</td>\n",
       "                        <td id=\"T_054db430_5e7d_11eb_951d_60f81dd06e70row20_col1\" class=\"data row20 col1\" >-11.35%</td>\n",
       "                        <td id=\"T_054db430_5e7d_11eb_951d_60f81dd06e70row20_col2\" class=\"data row20 col2\" >-5.45%</td>\n",
       "            </tr>\n",
       "            <tr>\n",
       "                        <th id=\"T_054db430_5e7d_11eb_951d_60f81dd06e70level0_row21\" class=\"row_heading level0 row21\" >lin-no-MAE</th>\n",
       "                        <td id=\"T_054db430_5e7d_11eb_951d_60f81dd06e70row21_col0\" class=\"data row21 col0\" >-506.70%</td>\n",
       "                        <td id=\"T_054db430_5e7d_11eb_951d_60f81dd06e70row21_col1\" class=\"data row21 col1\" >-0.00%</td>\n",
       "                        <td id=\"T_054db430_5e7d_11eb_951d_60f81dd06e70row21_col2\" class=\"data row21 col2\" >-21126.83%</td>\n",
       "            </tr>\n",
       "            <tr>\n",
       "                        <th id=\"T_054db430_5e7d_11eb_951d_60f81dd06e70level0_row22\" class=\"row_heading level0 row22\" >lin-no-MSE</th>\n",
       "                        <td id=\"T_054db430_5e7d_11eb_951d_60f81dd06e70row22_col0\" class=\"data row22 col0\" >-5343.30%</td>\n",
       "                        <td id=\"T_054db430_5e7d_11eb_951d_60f81dd06e70row22_col1\" class=\"data row22 col1\" >-0.00%</td>\n",
       "                        <td id=\"T_054db430_5e7d_11eb_951d_60f81dd06e70row22_col2\" class=\"data row22 col2\" >-4301053.42%</td>\n",
       "            </tr>\n",
       "            <tr>\n",
       "                        <th id=\"T_054db430_5e7d_11eb_951d_60f81dd06e70level0_row23\" class=\"row_heading level0 row23\" >lin-no-RMSE</th>\n",
       "                        <td id=\"T_054db430_5e7d_11eb_951d_60f81dd06e70row23_col0\" class=\"data row23 col0\" >-505.34%</td>\n",
       "                        <td id=\"T_054db430_5e7d_11eb_951d_60f81dd06e70row23_col1\" class=\"data row23 col1\" >-0.00%</td>\n",
       "                        <td id=\"T_054db430_5e7d_11eb_951d_60f81dd06e70row23_col2\" class=\"data row23 col2\" >-20849.90%</td>\n",
       "            </tr>\n",
       "    </tbody></table>"
      ],
      "text/plain": [
       "<pandas.io.formats.style.Styler at 0x7fc700b05460>"
      ]
     },
     "execution_count": 12,
     "metadata": {},
     "output_type": "execute_result"
    }
   ],
   "source": [
    "df_min.style.highlight_max(color = 'lightgrey', axis = 1).set_table_styles([{'selector': 'tr:hover','props': [('background-color', '')]}]).format('{:.2%}')"
   ]
  },
  {
   "cell_type": "markdown",
   "id": "professional-survey",
   "metadata": {},
   "source": [
    "## Performance Increment based on Worst Performance [%]"
   ]
  },
  {
   "cell_type": "code",
   "execution_count": 13,
   "id": "varied-melbourne",
   "metadata": {},
   "outputs": [],
   "source": [
    "df_pct_max = df.apply(lambda value: abs((value/df.max(axis=1) -1)))"
   ]
  },
  {
   "cell_type": "code",
   "execution_count": 14,
   "id": "executed-collection",
   "metadata": {},
   "outputs": [],
   "source": [
    "df_pct_max.to_csv(f'./analysis/{notebook_name}-max.csv')"
   ]
  },
  {
   "cell_type": "code",
   "execution_count": 15,
   "id": "particular-grammar",
   "metadata": {},
   "outputs": [
    {
     "data": {
      "text/html": [
       "<style  type=\"text/css\" >\n",
       "    #T_0562b934_5e7d_11eb_951d_60f81dd06e70 tr:hover {\n",
       "          background-color: ;\n",
       "    }#T_0562b934_5e7d_11eb_951d_60f81dd06e70row0_col2,#T_0562b934_5e7d_11eb_951d_60f81dd06e70row1_col2,#T_0562b934_5e7d_11eb_951d_60f81dd06e70row2_col2,#T_0562b934_5e7d_11eb_951d_60f81dd06e70row3_col2,#T_0562b934_5e7d_11eb_951d_60f81dd06e70row4_col2,#T_0562b934_5e7d_11eb_951d_60f81dd06e70row5_col2,#T_0562b934_5e7d_11eb_951d_60f81dd06e70row6_col0,#T_0562b934_5e7d_11eb_951d_60f81dd06e70row7_col0,#T_0562b934_5e7d_11eb_951d_60f81dd06e70row8_col0,#T_0562b934_5e7d_11eb_951d_60f81dd06e70row9_col1,#T_0562b934_5e7d_11eb_951d_60f81dd06e70row10_col1,#T_0562b934_5e7d_11eb_951d_60f81dd06e70row11_col1,#T_0562b934_5e7d_11eb_951d_60f81dd06e70row12_col1,#T_0562b934_5e7d_11eb_951d_60f81dd06e70row13_col2,#T_0562b934_5e7d_11eb_951d_60f81dd06e70row14_col2,#T_0562b934_5e7d_11eb_951d_60f81dd06e70row15_col1,#T_0562b934_5e7d_11eb_951d_60f81dd06e70row16_col0,#T_0562b934_5e7d_11eb_951d_60f81dd06e70row17_col1,#T_0562b934_5e7d_11eb_951d_60f81dd06e70row18_col0,#T_0562b934_5e7d_11eb_951d_60f81dd06e70row19_col0,#T_0562b934_5e7d_11eb_951d_60f81dd06e70row20_col0,#T_0562b934_5e7d_11eb_951d_60f81dd06e70row21_col1,#T_0562b934_5e7d_11eb_951d_60f81dd06e70row22_col1,#T_0562b934_5e7d_11eb_951d_60f81dd06e70row23_col1{\n",
       "            background-color:  lightgrey;\n",
       "        }</style><table id=\"T_0562b934_5e7d_11eb_951d_60f81dd06e70\" ><thead>    <tr>        <th class=\"blank level0\" ></th>        <th class=\"col_heading level0 col0\" >MinMaxScaler()</th>        <th class=\"col_heading level0 col1\" >RobustScaler()</th>        <th class=\"col_heading level0 col2\" >StandardScaler()</th>    </tr>    <tr>        <th class=\"index_name level0\" >model-outliers-metric</th>        <th class=\"blank\" ></th>        <th class=\"blank\" ></th>        <th class=\"blank\" ></th>    </tr></thead><tbody>\n",
       "                <tr>\n",
       "                        <th id=\"T_0562b934_5e7d_11eb_951d_60f81dd06e70level0_row0\" class=\"row_heading level0 row0\" >poi-wo-MAE</th>\n",
       "                        <td id=\"T_0562b934_5e7d_11eb_951d_60f81dd06e70row0_col0\" class=\"data row0 col0\" >0.00%</td>\n",
       "                        <td id=\"T_0562b934_5e7d_11eb_951d_60f81dd06e70row0_col1\" class=\"data row0 col1\" >10.11%</td>\n",
       "                        <td id=\"T_0562b934_5e7d_11eb_951d_60f81dd06e70row0_col2\" class=\"data row0 col2\" >13.88%</td>\n",
       "            </tr>\n",
       "            <tr>\n",
       "                        <th id=\"T_0562b934_5e7d_11eb_951d_60f81dd06e70level0_row1\" class=\"row_heading level0 row1\" >poi-wo-MSE</th>\n",
       "                        <td id=\"T_0562b934_5e7d_11eb_951d_60f81dd06e70row1_col0\" class=\"data row1 col0\" >0.00%</td>\n",
       "                        <td id=\"T_0562b934_5e7d_11eb_951d_60f81dd06e70row1_col1\" class=\"data row1 col1\" >14.90%</td>\n",
       "                        <td id=\"T_0562b934_5e7d_11eb_951d_60f81dd06e70row1_col2\" class=\"data row1 col2\" >21.72%</td>\n",
       "            </tr>\n",
       "            <tr>\n",
       "                        <th id=\"T_0562b934_5e7d_11eb_951d_60f81dd06e70level0_row2\" class=\"row_heading level0 row2\" >poi-wo-RMSE</th>\n",
       "                        <td id=\"T_0562b934_5e7d_11eb_951d_60f81dd06e70row2_col0\" class=\"data row2 col0\" >0.00%</td>\n",
       "                        <td id=\"T_0562b934_5e7d_11eb_951d_60f81dd06e70row2_col1\" class=\"data row2 col1\" >7.78%</td>\n",
       "                        <td id=\"T_0562b934_5e7d_11eb_951d_60f81dd06e70row2_col2\" class=\"data row2 col2\" >11.60%</td>\n",
       "            </tr>\n",
       "            <tr>\n",
       "                        <th id=\"T_0562b934_5e7d_11eb_951d_60f81dd06e70level0_row3\" class=\"row_heading level0 row3\" >poi-no-MAE</th>\n",
       "                        <td id=\"T_0562b934_5e7d_11eb_951d_60f81dd06e70row3_col0\" class=\"data row3 col0\" >0.00%</td>\n",
       "                        <td id=\"T_0562b934_5e7d_11eb_951d_60f81dd06e70row3_col1\" class=\"data row3 col1\" >8.82%</td>\n",
       "                        <td id=\"T_0562b934_5e7d_11eb_951d_60f81dd06e70row3_col2\" class=\"data row3 col2\" >12.34%</td>\n",
       "            </tr>\n",
       "            <tr>\n",
       "                        <th id=\"T_0562b934_5e7d_11eb_951d_60f81dd06e70level0_row4\" class=\"row_heading level0 row4\" >poi-no-MSE</th>\n",
       "                        <td id=\"T_0562b934_5e7d_11eb_951d_60f81dd06e70row4_col0\" class=\"data row4 col0\" >0.00%</td>\n",
       "                        <td id=\"T_0562b934_5e7d_11eb_951d_60f81dd06e70row4_col1\" class=\"data row4 col1\" >12.18%</td>\n",
       "                        <td id=\"T_0562b934_5e7d_11eb_951d_60f81dd06e70row4_col2\" class=\"data row4 col2\" >18.31%</td>\n",
       "            </tr>\n",
       "            <tr>\n",
       "                        <th id=\"T_0562b934_5e7d_11eb_951d_60f81dd06e70level0_row5\" class=\"row_heading level0 row5\" >poi-no-RMSE</th>\n",
       "                        <td id=\"T_0562b934_5e7d_11eb_951d_60f81dd06e70row5_col0\" class=\"data row5 col0\" >0.00%</td>\n",
       "                        <td id=\"T_0562b934_5e7d_11eb_951d_60f81dd06e70row5_col1\" class=\"data row5 col1\" >6.34%</td>\n",
       "                        <td id=\"T_0562b934_5e7d_11eb_951d_60f81dd06e70row5_col2\" class=\"data row5 col2\" >9.63%</td>\n",
       "            </tr>\n",
       "            <tr>\n",
       "                        <th id=\"T_0562b934_5e7d_11eb_951d_60f81dd06e70level0_row6\" class=\"row_heading level0 row6\" >svr-no-MAE</th>\n",
       "                        <td id=\"T_0562b934_5e7d_11eb_951d_60f81dd06e70row6_col0\" class=\"data row6 col0\" >3.83%</td>\n",
       "                        <td id=\"T_0562b934_5e7d_11eb_951d_60f81dd06e70row6_col1\" class=\"data row6 col1\" >3.68%</td>\n",
       "                        <td id=\"T_0562b934_5e7d_11eb_951d_60f81dd06e70row6_col2\" class=\"data row6 col2\" >0.00%</td>\n",
       "            </tr>\n",
       "            <tr>\n",
       "                        <th id=\"T_0562b934_5e7d_11eb_951d_60f81dd06e70level0_row7\" class=\"row_heading level0 row7\" >svr-no-MSE</th>\n",
       "                        <td id=\"T_0562b934_5e7d_11eb_951d_60f81dd06e70row7_col0\" class=\"data row7 col0\" >12.25%</td>\n",
       "                        <td id=\"T_0562b934_5e7d_11eb_951d_60f81dd06e70row7_col1\" class=\"data row7 col1\" >9.11%</td>\n",
       "                        <td id=\"T_0562b934_5e7d_11eb_951d_60f81dd06e70row7_col2\" class=\"data row7 col2\" >0.00%</td>\n",
       "            </tr>\n",
       "            <tr>\n",
       "                        <th id=\"T_0562b934_5e7d_11eb_951d_60f81dd06e70level0_row8\" class=\"row_heading level0 row8\" >svr-no-RMSE</th>\n",
       "                        <td id=\"T_0562b934_5e7d_11eb_951d_60f81dd06e70row8_col0\" class=\"data row8 col0\" >6.31%</td>\n",
       "                        <td id=\"T_0562b934_5e7d_11eb_951d_60f81dd06e70row8_col1\" class=\"data row8 col1\" >4.66%</td>\n",
       "                        <td id=\"T_0562b934_5e7d_11eb_951d_60f81dd06e70row8_col2\" class=\"data row8 col2\" >0.00%</td>\n",
       "            </tr>\n",
       "            <tr>\n",
       "                        <th id=\"T_0562b934_5e7d_11eb_951d_60f81dd06e70level0_row9\" class=\"row_heading level0 row9\" >lin-wo-MAE</th>\n",
       "                        <td id=\"T_0562b934_5e7d_11eb_951d_60f81dd06e70row9_col0\" class=\"data row9 col0\" >91.61%</td>\n",
       "                        <td id=\"T_0562b934_5e7d_11eb_951d_60f81dd06e70row9_col1\" class=\"data row9 col1\" >100.00%</td>\n",
       "                        <td id=\"T_0562b934_5e7d_11eb_951d_60f81dd06e70row9_col2\" class=\"data row9 col2\" >0.00%</td>\n",
       "            </tr>\n",
       "            <tr>\n",
       "                        <th id=\"T_0562b934_5e7d_11eb_951d_60f81dd06e70level0_row10\" class=\"row_heading level0 row10\" >lin-wo-MSE</th>\n",
       "                        <td id=\"T_0562b934_5e7d_11eb_951d_60f81dd06e70row10_col0\" class=\"data row10 col0\" >99.26%</td>\n",
       "                        <td id=\"T_0562b934_5e7d_11eb_951d_60f81dd06e70row10_col1\" class=\"data row10 col1\" >100.00%</td>\n",
       "                        <td id=\"T_0562b934_5e7d_11eb_951d_60f81dd06e70row10_col2\" class=\"data row10 col2\" >0.00%</td>\n",
       "            </tr>\n",
       "            <tr>\n",
       "                        <th id=\"T_0562b934_5e7d_11eb_951d_60f81dd06e70level0_row11\" class=\"row_heading level0 row11\" >lin-wo-RMSE</th>\n",
       "                        <td id=\"T_0562b934_5e7d_11eb_951d_60f81dd06e70row11_col0\" class=\"data row11 col0\" >91.50%</td>\n",
       "                        <td id=\"T_0562b934_5e7d_11eb_951d_60f81dd06e70row11_col1\" class=\"data row11 col1\" >100.00%</td>\n",
       "                        <td id=\"T_0562b934_5e7d_11eb_951d_60f81dd06e70row11_col2\" class=\"data row11 col2\" >0.00%</td>\n",
       "            </tr>\n",
       "            <tr>\n",
       "                        <th id=\"T_0562b934_5e7d_11eb_951d_60f81dd06e70level0_row12\" class=\"row_heading level0 row12\" >rf-no-MAE</th>\n",
       "                        <td id=\"T_0562b934_5e7d_11eb_951d_60f81dd06e70row12_col0\" class=\"data row12 col0\" >0.00%</td>\n",
       "                        <td id=\"T_0562b934_5e7d_11eb_951d_60f81dd06e70row12_col1\" class=\"data row12 col1\" >0.30%</td>\n",
       "                        <td id=\"T_0562b934_5e7d_11eb_951d_60f81dd06e70row12_col2\" class=\"data row12 col2\" >0.28%</td>\n",
       "            </tr>\n",
       "            <tr>\n",
       "                        <th id=\"T_0562b934_5e7d_11eb_951d_60f81dd06e70level0_row13\" class=\"row_heading level0 row13\" >rf-no-MSE</th>\n",
       "                        <td id=\"T_0562b934_5e7d_11eb_951d_60f81dd06e70row13_col0\" class=\"data row13 col0\" >0.93%</td>\n",
       "                        <td id=\"T_0562b934_5e7d_11eb_951d_60f81dd06e70row13_col1\" class=\"data row13 col1\" >0.00%</td>\n",
       "                        <td id=\"T_0562b934_5e7d_11eb_951d_60f81dd06e70row13_col2\" class=\"data row13 col2\" >1.36%</td>\n",
       "            </tr>\n",
       "            <tr>\n",
       "                        <th id=\"T_0562b934_5e7d_11eb_951d_60f81dd06e70level0_row14\" class=\"row_heading level0 row14\" >rf-no-RMSE</th>\n",
       "                        <td id=\"T_0562b934_5e7d_11eb_951d_60f81dd06e70row14_col0\" class=\"data row14 col0\" >0.10%</td>\n",
       "                        <td id=\"T_0562b934_5e7d_11eb_951d_60f81dd06e70row14_col1\" class=\"data row14 col1\" >0.00%</td>\n",
       "                        <td id=\"T_0562b934_5e7d_11eb_951d_60f81dd06e70row14_col2\" class=\"data row14 col2\" >0.35%</td>\n",
       "            </tr>\n",
       "            <tr>\n",
       "                        <th id=\"T_0562b934_5e7d_11eb_951d_60f81dd06e70level0_row15\" class=\"row_heading level0 row15\" >rf-wo-MAE</th>\n",
       "                        <td id=\"T_0562b934_5e7d_11eb_951d_60f81dd06e70row15_col0\" class=\"data row15 col0\" >0.00%</td>\n",
       "                        <td id=\"T_0562b934_5e7d_11eb_951d_60f81dd06e70row15_col1\" class=\"data row15 col1\" >0.67%</td>\n",
       "                        <td id=\"T_0562b934_5e7d_11eb_951d_60f81dd06e70row15_col2\" class=\"data row15 col2\" >0.36%</td>\n",
       "            </tr>\n",
       "            <tr>\n",
       "                        <th id=\"T_0562b934_5e7d_11eb_951d_60f81dd06e70level0_row16\" class=\"row_heading level0 row16\" >rf-wo-MSE</th>\n",
       "                        <td id=\"T_0562b934_5e7d_11eb_951d_60f81dd06e70row16_col0\" class=\"data row16 col0\" >0.36%</td>\n",
       "                        <td id=\"T_0562b934_5e7d_11eb_951d_60f81dd06e70row16_col1\" class=\"data row16 col1\" >0.25%</td>\n",
       "                        <td id=\"T_0562b934_5e7d_11eb_951d_60f81dd06e70row16_col2\" class=\"data row16 col2\" >0.00%</td>\n",
       "            </tr>\n",
       "            <tr>\n",
       "                        <th id=\"T_0562b934_5e7d_11eb_951d_60f81dd06e70level0_row17\" class=\"row_heading level0 row17\" >rf-wo-RMSE</th>\n",
       "                        <td id=\"T_0562b934_5e7d_11eb_951d_60f81dd06e70row17_col0\" class=\"data row17 col0\" >0.00%</td>\n",
       "                        <td id=\"T_0562b934_5e7d_11eb_951d_60f81dd06e70row17_col1\" class=\"data row17 col1\" >0.86%</td>\n",
       "                        <td id=\"T_0562b934_5e7d_11eb_951d_60f81dd06e70row17_col2\" class=\"data row17 col2\" >0.69%</td>\n",
       "            </tr>\n",
       "            <tr>\n",
       "                        <th id=\"T_0562b934_5e7d_11eb_951d_60f81dd06e70level0_row18\" class=\"row_heading level0 row18\" >svr-wo-MAE</th>\n",
       "                        <td id=\"T_0562b934_5e7d_11eb_951d_60f81dd06e70row18_col0\" class=\"data row18 col0\" >9.78%</td>\n",
       "                        <td id=\"T_0562b934_5e7d_11eb_951d_60f81dd06e70row18_col1\" class=\"data row18 col1\" >0.00%</td>\n",
       "                        <td id=\"T_0562b934_5e7d_11eb_951d_60f81dd06e70row18_col2\" class=\"data row18 col2\" >6.59%</td>\n",
       "            </tr>\n",
       "            <tr>\n",
       "                        <th id=\"T_0562b934_5e7d_11eb_951d_60f81dd06e70level0_row19\" class=\"row_heading level0 row19\" >svr-wo-MSE</th>\n",
       "                        <td id=\"T_0562b934_5e7d_11eb_951d_60f81dd06e70row19_col0\" class=\"data row19 col0\" >19.30%</td>\n",
       "                        <td id=\"T_0562b934_5e7d_11eb_951d_60f81dd06e70row19_col1\" class=\"data row19 col1\" >0.00%</td>\n",
       "                        <td id=\"T_0562b934_5e7d_11eb_951d_60f81dd06e70row19_col2\" class=\"data row19 col2\" >10.08%</td>\n",
       "            </tr>\n",
       "            <tr>\n",
       "                        <th id=\"T_0562b934_5e7d_11eb_951d_60f81dd06e70level0_row20\" class=\"row_heading level0 row20\" >svr-wo-RMSE</th>\n",
       "                        <td id=\"T_0562b934_5e7d_11eb_951d_60f81dd06e70row20_col0\" class=\"data row20 col0\" >10.20%</td>\n",
       "                        <td id=\"T_0562b934_5e7d_11eb_951d_60f81dd06e70row20_col1\" class=\"data row20 col1\" >0.00%</td>\n",
       "                        <td id=\"T_0562b934_5e7d_11eb_951d_60f81dd06e70row20_col2\" class=\"data row20 col2\" >5.31%</td>\n",
       "            </tr>\n",
       "            <tr>\n",
       "                        <th id=\"T_0562b934_5e7d_11eb_951d_60f81dd06e70level0_row21\" class=\"row_heading level0 row21\" >lin-no-MAE</th>\n",
       "                        <td id=\"T_0562b934_5e7d_11eb_951d_60f81dd06e70row21_col0\" class=\"data row21 col0\" >97.14%</td>\n",
       "                        <td id=\"T_0562b934_5e7d_11eb_951d_60f81dd06e70row21_col1\" class=\"data row21 col1\" >99.53%</td>\n",
       "                        <td id=\"T_0562b934_5e7d_11eb_951d_60f81dd06e70row21_col2\" class=\"data row21 col2\" >0.00%</td>\n",
       "            </tr>\n",
       "            <tr>\n",
       "                        <th id=\"T_0562b934_5e7d_11eb_951d_60f81dd06e70level0_row22\" class=\"row_heading level0 row22\" >lin-no-MSE</th>\n",
       "                        <td id=\"T_0562b934_5e7d_11eb_951d_60f81dd06e70row22_col0\" class=\"data row22 col0\" >99.87%</td>\n",
       "                        <td id=\"T_0562b934_5e7d_11eb_951d_60f81dd06e70row22_col1\" class=\"data row22 col1\" >100.00%</td>\n",
       "                        <td id=\"T_0562b934_5e7d_11eb_951d_60f81dd06e70row22_col2\" class=\"data row22 col2\" >0.00%</td>\n",
       "            </tr>\n",
       "            <tr>\n",
       "                        <th id=\"T_0562b934_5e7d_11eb_951d_60f81dd06e70level0_row23\" class=\"row_heading level0 row23\" >lin-no-RMSE</th>\n",
       "                        <td id=\"T_0562b934_5e7d_11eb_951d_60f81dd06e70row23_col0\" class=\"data row23 col0\" >97.11%</td>\n",
       "                        <td id=\"T_0562b934_5e7d_11eb_951d_60f81dd06e70row23_col1\" class=\"data row23 col1\" >99.52%</td>\n",
       "                        <td id=\"T_0562b934_5e7d_11eb_951d_60f81dd06e70row23_col2\" class=\"data row23 col2\" >0.00%</td>\n",
       "            </tr>\n",
       "    </tbody></table>"
      ],
      "text/plain": [
       "<pandas.io.formats.style.Styler at 0x7fc700acc4f0>"
      ]
     },
     "execution_count": 15,
     "metadata": {},
     "output_type": "execute_result"
    }
   ],
   "source": [
    "df_pct_max.style.highlight_max(color = 'lightgrey', axis = 1).set_table_styles([{'selector': 'tr:hover','props': [('background-color', '')]}]).format('{:.2%}')"
   ]
  },
  {
   "cell_type": "markdown",
   "id": "enormous-cambridge",
   "metadata": {},
   "source": [
    "# Visualization (RMSE based)"
   ]
  },
  {
   "cell_type": "code",
   "execution_count": 16,
   "id": "virtual-moment",
   "metadata": {},
   "outputs": [],
   "source": [
    "models = ['poi', 'svr', 'lin', 'rf']\n",
    "model_df_list = []\n",
    "\n",
    "for i, model in enumerate(models): \n",
    "    df_ = df.loc[[\n",
    "        f'{model}-wo-RMSE', \n",
    "        f'{model}-no-RMSE',\n",
    "    ]]\n",
    "    model_df_list.append(df_)"
   ]
  },
  {
   "cell_type": "code",
   "execution_count": 17,
   "id": "burning-closure",
   "metadata": {},
   "outputs": [
    {
     "data": {
      "text/html": [
       "<div>\n",
       "<style scoped>\n",
       "    .dataframe tbody tr th:only-of-type {\n",
       "        vertical-align: middle;\n",
       "    }\n",
       "\n",
       "    .dataframe tbody tr th {\n",
       "        vertical-align: top;\n",
       "    }\n",
       "\n",
       "    .dataframe thead th {\n",
       "        text-align: right;\n",
       "    }\n",
       "</style>\n",
       "<table border=\"1\" class=\"dataframe\">\n",
       "  <thead>\n",
       "    <tr style=\"text-align: right;\">\n",
       "      <th></th>\n",
       "      <th>MinMaxScaler()</th>\n",
       "      <th>RobustScaler()</th>\n",
       "      <th>StandardScaler()</th>\n",
       "    </tr>\n",
       "    <tr>\n",
       "      <th>model-outliers-metric</th>\n",
       "      <th></th>\n",
       "      <th></th>\n",
       "      <th></th>\n",
       "    </tr>\n",
       "  </thead>\n",
       "  <tbody>\n",
       "    <tr>\n",
       "      <th>poi-wo-RMSE</th>\n",
       "      <td>6.391279</td>\n",
       "      <td>5.893818</td>\n",
       "      <td>5.649586</td>\n",
       "    </tr>\n",
       "    <tr>\n",
       "      <th>poi-no-RMSE</th>\n",
       "      <td>6.269390</td>\n",
       "      <td>5.871890</td>\n",
       "      <td>5.665851</td>\n",
       "    </tr>\n",
       "  </tbody>\n",
       "</table>\n",
       "</div>"
      ],
      "text/plain": [
       "                       MinMaxScaler()  RobustScaler()  StandardScaler()\n",
       "model-outliers-metric                                                  \n",
       "poi-wo-RMSE                  6.391279        5.893818          5.649586\n",
       "poi-no-RMSE                  6.269390        5.871890          5.665851"
      ]
     },
     "execution_count": 17,
     "metadata": {},
     "output_type": "execute_result"
    }
   ],
   "source": [
    "model_df_list[0]"
   ]
  },
  {
   "cell_type": "code",
   "execution_count": 18,
   "id": "military-slave",
   "metadata": {},
   "outputs": [
    {
     "data": {
      "image/png": "[encoded data removed]",
      "text/plain": [
       "<Figure size 432x288 with 1 Axes>"
      ]
     },
     "metadata": {},
     "output_type": "display_data"
    }
   ],
   "source": [
    "ax = sns.barplot(data=model_df_list[0],orient='h',palette='mako')\n",
    "show_values_on_bars(ax, \"h\", 0.1)\n",
    "ax.set(ylabel='Scaler Class',xlabel='Avg RMSE Performance [MBit/s]')\n",
    "ax.tick_params(axis=u'both', which=u'both',length=0)\n",
    "\n",
    "ax.set_title('Avg RMSE for Poisson Regressor');"
   ]
  },
  {
   "cell_type": "code",
   "execution_count": 19,
   "id": "immune-competition",
   "metadata": {},
   "outputs": [
    {
     "data": {
      "text/html": [
       "<div>\n",
       "<style scoped>\n",
       "    .dataframe tbody tr th:only-of-type {\n",
       "        vertical-align: middle;\n",
       "    }\n",
       "\n",
       "    .dataframe tbody tr th {\n",
       "        vertical-align: top;\n",
       "    }\n",
       "\n",
       "    .dataframe thead th {\n",
       "        text-align: right;\n",
       "    }\n",
       "</style>\n",
       "<table border=\"1\" class=\"dataframe\">\n",
       "  <thead>\n",
       "    <tr style=\"text-align: right;\">\n",
       "      <th></th>\n",
       "      <th>MinMaxScaler()</th>\n",
       "      <th>RobustScaler()</th>\n",
       "      <th>StandardScaler()</th>\n",
       "    </tr>\n",
       "    <tr>\n",
       "      <th>model-outliers-metric</th>\n",
       "      <th></th>\n",
       "      <th></th>\n",
       "      <th></th>\n",
       "    </tr>\n",
       "  </thead>\n",
       "  <tbody>\n",
       "    <tr>\n",
       "      <th>svr-wo-RMSE</th>\n",
       "      <td>5.873964</td>\n",
       "      <td>6.540923</td>\n",
       "      <td>6.193866</td>\n",
       "    </tr>\n",
       "    <tr>\n",
       "      <th>svr-no-RMSE</th>\n",
       "      <td>5.823229</td>\n",
       "      <td>5.925674</td>\n",
       "      <td>6.215588</td>\n",
       "    </tr>\n",
       "  </tbody>\n",
       "</table>\n",
       "</div>"
      ],
      "text/plain": [
       "                       MinMaxScaler()  RobustScaler()  StandardScaler()\n",
       "model-outliers-metric                                                  \n",
       "svr-wo-RMSE                  5.873964        6.540923          6.193866\n",
       "svr-no-RMSE                  5.823229        5.925674          6.215588"
      ]
     },
     "execution_count": 19,
     "metadata": {},
     "output_type": "execute_result"
    }
   ],
   "source": [
    "model_df_list[1]"
   ]
  },
  {
   "cell_type": "code",
   "execution_count": 20,
   "id": "collect-atlas",
   "metadata": {},
   "outputs": [
    {
     "data": {
      "image/png": "[encoded data removed]",
      "text/plain": [
       "<Figure size 432x288 with 1 Axes>"
      ]
     },
     "metadata": {},
     "output_type": "display_data"
    }
   ],
   "source": [
    "ax = sns.barplot(data=model_df_list[1],orient='h',palette='mako')\n",
    "show_values_on_bars(ax, \"h\", 0.1)\n",
    "ax.set(ylabel='Scaler Class',xlabel='Avg RMSE Performance [MBit/s]')\n",
    "ax.tick_params(axis=u'both', which=u'both',length=0)\n",
    "\n",
    "ax.set_title('Avg RMSE for SVR');"
   ]
  },
  {
   "cell_type": "code",
   "execution_count": 21,
   "id": "metric-replica",
   "metadata": {},
   "outputs": [
    {
     "data": {
      "text/html": [
       "<div>\n",
       "<style scoped>\n",
       "    .dataframe tbody tr th:only-of-type {\n",
       "        vertical-align: middle;\n",
       "    }\n",
       "\n",
       "    .dataframe tbody tr th {\n",
       "        vertical-align: top;\n",
       "    }\n",
       "\n",
       "    .dataframe thead th {\n",
       "        text-align: right;\n",
       "    }\n",
       "</style>\n",
       "<table border=\"1\" class=\"dataframe\">\n",
       "  <thead>\n",
       "    <tr style=\"text-align: right;\">\n",
       "      <th></th>\n",
       "      <th>MinMaxScaler()</th>\n",
       "      <th>RobustScaler()</th>\n",
       "      <th>StandardScaler()</th>\n",
       "    </tr>\n",
       "    <tr>\n",
       "      <th>model-outliers-metric</th>\n",
       "      <th></th>\n",
       "      <th></th>\n",
       "      <th></th>\n",
       "    </tr>\n",
       "  </thead>\n",
       "  <tbody>\n",
       "    <tr>\n",
       "      <th>lin-wo-RMSE</th>\n",
       "      <td>2.209903e+12</td>\n",
       "      <td>5.588092e+00</td>\n",
       "      <td>2.598866e+13</td>\n",
       "    </tr>\n",
       "    <tr>\n",
       "      <th>lin-no-RMSE</th>\n",
       "      <td>2.510818e+12</td>\n",
       "      <td>4.147761e+11</td>\n",
       "      <td>8.689518e+13</td>\n",
       "    </tr>\n",
       "  </tbody>\n",
       "</table>\n",
       "</div>"
      ],
      "text/plain": [
       "                       MinMaxScaler()  RobustScaler()  StandardScaler()\n",
       "model-outliers-metric                                                  \n",
       "lin-wo-RMSE              2.209903e+12    5.588092e+00      2.598866e+13\n",
       "lin-no-RMSE              2.510818e+12    4.147761e+11      8.689518e+13"
      ]
     },
     "execution_count": 21,
     "metadata": {},
     "output_type": "execute_result"
    }
   ],
   "source": [
    "model_df_list[2]"
   ]
  },
  {
   "cell_type": "code",
   "execution_count": 22,
   "id": "configured-beginning",
   "metadata": {},
   "outputs": [],
   "source": [
    "# ax = sns.barplot(data=model_df_list[2],orient='h',palette='mako')\n",
    "# show_values_on_bars(ax, \"h\", 0.1)\n",
    "# ax.set(ylabel='Scaler Class',xlabel='Avg RMSE Performance [MBit/s]')\n",
    "# \n",
    "# ax.set_title('Avg RMSE for Linear Regressor');"
   ]
  },
  {
   "cell_type": "code",
   "execution_count": 23,
   "id": "hidden-wilson",
   "metadata": {},
   "outputs": [
    {
     "data": {
      "text/html": [
       "<div>\n",
       "<style scoped>\n",
       "    .dataframe tbody tr th:only-of-type {\n",
       "        vertical-align: middle;\n",
       "    }\n",
       "\n",
       "    .dataframe tbody tr th {\n",
       "        vertical-align: top;\n",
       "    }\n",
       "\n",
       "    .dataframe thead th {\n",
       "        text-align: right;\n",
       "    }\n",
       "</style>\n",
       "<table border=\"1\" class=\"dataframe\">\n",
       "  <thead>\n",
       "    <tr style=\"text-align: right;\">\n",
       "      <th></th>\n",
       "      <th>MinMaxScaler()</th>\n",
       "      <th>RobustScaler()</th>\n",
       "      <th>StandardScaler()</th>\n",
       "    </tr>\n",
       "    <tr>\n",
       "      <th>model-outliers-metric</th>\n",
       "      <th></th>\n",
       "      <th></th>\n",
       "      <th></th>\n",
       "    </tr>\n",
       "  </thead>\n",
       "  <tbody>\n",
       "    <tr>\n",
       "      <th>rf-wo-RMSE</th>\n",
       "      <td>3.908447</td>\n",
       "      <td>3.874692</td>\n",
       "      <td>3.881379</td>\n",
       "    </tr>\n",
       "    <tr>\n",
       "      <th>rf-no-RMSE</th>\n",
       "      <td>3.861571</td>\n",
       "      <td>3.865310</td>\n",
       "      <td>3.851702</td>\n",
       "    </tr>\n",
       "  </tbody>\n",
       "</table>\n",
       "</div>"
      ],
      "text/plain": [
       "                       MinMaxScaler()  RobustScaler()  StandardScaler()\n",
       "model-outliers-metric                                                  \n",
       "rf-wo-RMSE                   3.908447        3.874692          3.881379\n",
       "rf-no-RMSE                   3.861571        3.865310          3.851702"
      ]
     },
     "execution_count": 23,
     "metadata": {},
     "output_type": "execute_result"
    }
   ],
   "source": [
    "model_df_list[3]"
   ]
  },
  {
   "cell_type": "code",
   "execution_count": 24,
   "id": "tough-serial",
   "metadata": {},
   "outputs": [
    {
     "data": {
      "image/png": "[encoded data removed]",
      "text/plain": [
       "<Figure size 432x288 with 1 Axes>"
      ]
     },
     "metadata": {},
     "output_type": "display_data"
    }
   ],
   "source": [
    "ax = sns.barplot(data=model_df_list[3],orient='h',palette='mako')\n",
    "show_values_on_bars(ax, \"h\", 0.1)\n",
    "ax.set(ylabel='Scaler Class',xlabel='Avg RMSE Performance [MBit/s]')\n",
    "ax.tick_params(axis=u'both', which=u'both',length=0)\n",
    "\n",
    "ax.set_title('Avg RMSE for Random Forest Regressor');"
   ]
  },
  {
   "cell_type": "markdown",
   "id": "amazing-introduction",
   "metadata": {},
   "source": [
    "# Visualization (RMSE [%])"
   ]
  },
  {
   "cell_type": "code",
   "execution_count": 25,
   "id": "working-assignment",
   "metadata": {},
   "outputs": [],
   "source": [
    "models = ['poi', 'svr', 'lin', 'rf']\n",
    "model_df_min_list = []\n",
    "\n",
    "for i, model in enumerate(models): \n",
    "    df_ = df_min.loc[[\n",
    "        f'{model}-wo-RMSE', \n",
    "        f'{model}-no-RMSE',\n",
    "    ]]\n",
    "    model_df_min_list.append(df_)"
   ]
  },
  {
   "cell_type": "code",
   "execution_count": 26,
   "id": "convertible-parking",
   "metadata": {},
   "outputs": [
    {
     "data": {
      "text/html": [
       "<div>\n",
       "<style scoped>\n",
       "    .dataframe tbody tr th:only-of-type {\n",
       "        vertical-align: middle;\n",
       "    }\n",
       "\n",
       "    .dataframe tbody tr th {\n",
       "        vertical-align: top;\n",
       "    }\n",
       "\n",
       "    .dataframe thead th {\n",
       "        text-align: right;\n",
       "    }\n",
       "</style>\n",
       "<table border=\"1\" class=\"dataframe\">\n",
       "  <thead>\n",
       "    <tr style=\"text-align: right;\">\n",
       "      <th></th>\n",
       "      <th>MinMaxScaler()</th>\n",
       "      <th>RobustScaler()</th>\n",
       "      <th>StandardScaler()</th>\n",
       "    </tr>\n",
       "    <tr>\n",
       "      <th>model-outliers-metric</th>\n",
       "      <th></th>\n",
       "      <th></th>\n",
       "      <th></th>\n",
       "    </tr>\n",
       "  </thead>\n",
       "  <tbody>\n",
       "    <tr>\n",
       "      <th>poi-wo-RMSE</th>\n",
       "      <td>-0.131283</td>\n",
       "      <td>-0.043230</td>\n",
       "      <td>-0.0</td>\n",
       "    </tr>\n",
       "    <tr>\n",
       "      <th>poi-no-RMSE</th>\n",
       "      <td>-0.106522</td>\n",
       "      <td>-0.036365</td>\n",
       "      <td>-0.0</td>\n",
       "    </tr>\n",
       "  </tbody>\n",
       "</table>\n",
       "</div>"
      ],
      "text/plain": [
       "                       MinMaxScaler()  RobustScaler()  StandardScaler()\n",
       "model-outliers-metric                                                  \n",
       "poi-wo-RMSE                 -0.131283       -0.043230              -0.0\n",
       "poi-no-RMSE                 -0.106522       -0.036365              -0.0"
      ]
     },
     "execution_count": 26,
     "metadata": {},
     "output_type": "execute_result"
    }
   ],
   "source": [
    "model_df_min_list[0]"
   ]
  },
  {
   "cell_type": "code",
   "execution_count": 27,
   "id": "musical-energy",
   "metadata": {},
   "outputs": [
    {
     "data": {
      "image/png": "[encoded data removed]",
      "text/plain": [
       "<Figure size 432x288 with 1 Axes>"
      ]
     },
     "metadata": {},
     "output_type": "display_data"
    }
   ],
   "source": [
    "ax = sns.barplot(data=model_df_min_list[0],orient='h',palette='mako')\n",
    "ax.set(ylabel='Scaler Class',xlabel='Avg RMSE Performance Decline [%]')\n",
    "\n",
    "ax.yaxis.set_label_position(\"right\")\n",
    "ax.yaxis.set_ticks_position(\"right\")\n",
    "ax.tick_params(axis=u'both', which=u'both',length=0)\n",
    "\n",
    "show_values_on_bars(ax,\"h\",0.001,True,True)\n",
    "\n",
    "ax.set_title('Avg RMSE Performance Decline for Poisson Regressor');"
   ]
  },
  {
   "cell_type": "code",
   "execution_count": 28,
   "id": "divine-worse",
   "metadata": {},
   "outputs": [
    {
     "data": {
      "text/html": [
       "<div>\n",
       "<style scoped>\n",
       "    .dataframe tbody tr th:only-of-type {\n",
       "        vertical-align: middle;\n",
       "    }\n",
       "\n",
       "    .dataframe tbody tr th {\n",
       "        vertical-align: top;\n",
       "    }\n",
       "\n",
       "    .dataframe thead th {\n",
       "        text-align: right;\n",
       "    }\n",
       "</style>\n",
       "<table border=\"1\" class=\"dataframe\">\n",
       "  <thead>\n",
       "    <tr style=\"text-align: right;\">\n",
       "      <th></th>\n",
       "      <th>MinMaxScaler()</th>\n",
       "      <th>RobustScaler()</th>\n",
       "      <th>StandardScaler()</th>\n",
       "    </tr>\n",
       "    <tr>\n",
       "      <th>model-outliers-metric</th>\n",
       "      <th></th>\n",
       "      <th></th>\n",
       "      <th></th>\n",
       "    </tr>\n",
       "  </thead>\n",
       "  <tbody>\n",
       "    <tr>\n",
       "      <th>svr-wo-RMSE</th>\n",
       "      <td>-0.0</td>\n",
       "      <td>-0.113545</td>\n",
       "      <td>-0.054461</td>\n",
       "    </tr>\n",
       "    <tr>\n",
       "      <th>svr-no-RMSE</th>\n",
       "      <td>-0.0</td>\n",
       "      <td>-0.017593</td>\n",
       "      <td>-0.067378</td>\n",
       "    </tr>\n",
       "  </tbody>\n",
       "</table>\n",
       "</div>"
      ],
      "text/plain": [
       "                       MinMaxScaler()  RobustScaler()  StandardScaler()\n",
       "model-outliers-metric                                                  \n",
       "svr-wo-RMSE                      -0.0       -0.113545         -0.054461\n",
       "svr-no-RMSE                      -0.0       -0.017593         -0.067378"
      ]
     },
     "execution_count": 28,
     "metadata": {},
     "output_type": "execute_result"
    }
   ],
   "source": [
    "model_df_min_list[1]"
   ]
  },
  {
   "cell_type": "code",
   "execution_count": 29,
   "id": "voluntary-piece",
   "metadata": {},
   "outputs": [
    {
     "data": {
      "image/png": "[encoded data removed]",
      "text/plain": [
       "<Figure size 432x288 with 1 Axes>"
      ]
     },
     "metadata": {},
     "output_type": "display_data"
    }
   ],
   "source": [
    "ax = sns.barplot(data=model_df_min_list[1],orient='h',palette='mako')\n",
    "ax.set(ylabel='Scaler Class',xlabel='Avg RMSE Performance [MBit/s]')\n",
    "\n",
    "ax.yaxis.set_label_position(\"right\")\n",
    "ax.yaxis.set_ticks_position(\"right\")\n",
    "ax.tick_params(axis=u'both', which=u'both',length=0)\n",
    "\n",
    "show_values_on_bars(ax,\"h\",0.001,True,True)\n",
    "\n",
    "ax.set_title('Avg RMSE Performance Decline for SVR');"
   ]
  },
  {
   "cell_type": "code",
   "execution_count": 30,
   "id": "exposed-speech",
   "metadata": {},
   "outputs": [
    {
     "data": {
      "text/html": [
       "<div>\n",
       "<style scoped>\n",
       "    .dataframe tbody tr th:only-of-type {\n",
       "        vertical-align: middle;\n",
       "    }\n",
       "\n",
       "    .dataframe tbody tr th {\n",
       "        vertical-align: top;\n",
       "    }\n",
       "\n",
       "    .dataframe thead th {\n",
       "        text-align: right;\n",
       "    }\n",
       "</style>\n",
       "<table border=\"1\" class=\"dataframe\">\n",
       "  <thead>\n",
       "    <tr style=\"text-align: right;\">\n",
       "      <th></th>\n",
       "      <th>MinMaxScaler()</th>\n",
       "      <th>RobustScaler()</th>\n",
       "      <th>StandardScaler()</th>\n",
       "    </tr>\n",
       "    <tr>\n",
       "      <th>model-outliers-metric</th>\n",
       "      <th></th>\n",
       "      <th></th>\n",
       "      <th></th>\n",
       "    </tr>\n",
       "  </thead>\n",
       "  <tbody>\n",
       "    <tr>\n",
       "      <th>lin-wo-RMSE</th>\n",
       "      <td>-3.954665e+11</td>\n",
       "      <td>-0.0</td>\n",
       "      <td>-4.650721e+12</td>\n",
       "    </tr>\n",
       "    <tr>\n",
       "      <th>lin-no-RMSE</th>\n",
       "      <td>-5.053429e+00</td>\n",
       "      <td>-0.0</td>\n",
       "      <td>-2.084990e+02</td>\n",
       "    </tr>\n",
       "  </tbody>\n",
       "</table>\n",
       "</div>"
      ],
      "text/plain": [
       "                       MinMaxScaler()  RobustScaler()  StandardScaler()\n",
       "model-outliers-metric                                                  \n",
       "lin-wo-RMSE             -3.954665e+11            -0.0     -4.650721e+12\n",
       "lin-no-RMSE             -5.053429e+00            -0.0     -2.084990e+02"
      ]
     },
     "execution_count": 30,
     "metadata": {},
     "output_type": "execute_result"
    }
   ],
   "source": [
    "model_df_min_list[2]"
   ]
  },
  {
   "cell_type": "code",
   "execution_count": 31,
   "id": "separate-steps",
   "metadata": {},
   "outputs": [],
   "source": [
    "# ax = sns.barplot(data=model_df_min_list[2],orient='h',palette='mako')\n",
    "# show_values_on_bars(ax, \"h\", 0.001)\n",
    "# ax.set(ylabel='Scaler Class',xlabel='Avg RMSE Performance [MBit/s]')\n",
    "# \n",
    "# ax.set_title('Avg RMSE Performance Decline for Poisson Regressor');"
   ]
  },
  {
   "cell_type": "code",
   "execution_count": 32,
   "id": "outdoor-postcard",
   "metadata": {},
   "outputs": [
    {
     "data": {
      "text/html": [
       "<div>\n",
       "<style scoped>\n",
       "    .dataframe tbody tr th:only-of-type {\n",
       "        vertical-align: middle;\n",
       "    }\n",
       "\n",
       "    .dataframe tbody tr th {\n",
       "        vertical-align: top;\n",
       "    }\n",
       "\n",
       "    .dataframe thead th {\n",
       "        text-align: right;\n",
       "    }\n",
       "</style>\n",
       "<table border=\"1\" class=\"dataframe\">\n",
       "  <thead>\n",
       "    <tr style=\"text-align: right;\">\n",
       "      <th></th>\n",
       "      <th>MinMaxScaler()</th>\n",
       "      <th>RobustScaler()</th>\n",
       "      <th>StandardScaler()</th>\n",
       "    </tr>\n",
       "    <tr>\n",
       "      <th>model-outliers-metric</th>\n",
       "      <th></th>\n",
       "      <th></th>\n",
       "      <th></th>\n",
       "    </tr>\n",
       "  </thead>\n",
       "  <tbody>\n",
       "    <tr>\n",
       "      <th>rf-wo-RMSE</th>\n",
       "      <td>-0.008711</td>\n",
       "      <td>-0.000000</td>\n",
       "      <td>-0.001726</td>\n",
       "    </tr>\n",
       "    <tr>\n",
       "      <th>rf-no-RMSE</th>\n",
       "      <td>-0.002562</td>\n",
       "      <td>-0.003533</td>\n",
       "      <td>-0.000000</td>\n",
       "    </tr>\n",
       "  </tbody>\n",
       "</table>\n",
       "</div>"
      ],
      "text/plain": [
       "                       MinMaxScaler()  RobustScaler()  StandardScaler()\n",
       "model-outliers-metric                                                  \n",
       "rf-wo-RMSE                  -0.008711       -0.000000         -0.001726\n",
       "rf-no-RMSE                  -0.002562       -0.003533         -0.000000"
      ]
     },
     "execution_count": 32,
     "metadata": {},
     "output_type": "execute_result"
    }
   ],
   "source": [
    "model_df_min_list[3]"
   ]
  },
  {
   "cell_type": "code",
   "execution_count": 33,
   "id": "julian-chassis",
   "metadata": {},
   "outputs": [
    {
     "data": {
      "image/png": "[encoded data removed]",
      "text/plain": [
       "<Figure size 432x288 with 1 Axes>"
      ]
     },
     "metadata": {},
     "output_type": "display_data"
    }
   ],
   "source": [
    "ax = sns.barplot(data=model_df_min_list[3],orient='h',palette='mako')\n",
    "ax.set(ylabel='Scaler Class',xlabel='Avg RMSE Performance [MBit/s]')\n",
    "\n",
    "ax.yaxis.set_label_position(\"right\")\n",
    "ax.yaxis.set_ticks_position(\"right\")\n",
    "ax.tick_params(axis=u'both', which=u'both',length=0)\n",
    "\n",
    "show_values_on_bars(ax,\"h\",0.001,True,True)\n",
    "\n",
    "ax.set_title('Avg RMSE Performance Decline for Random Forest Regressor');"
   ]
  },
  {
   "cell_type": "markdown",
   "id": "initial-solid",
   "metadata": {},
   "source": [
    "DONE!"
   ]
  },
  {
   "cell_type": "code",
   "execution_count": null,
   "id": "motivated-means",
   "metadata": {},
   "outputs": [],
   "source": []
  }
 ],
 "metadata": {
  "kernelspec": {
   "display_name": "Python 3",
   "language": "python",
   "name": "python3"
  },
  "language_info": {
   "codemirror_mode": {
    "name": "ipython",
    "version": 3
   },
   "file_extension": ".py",
   "mimetype": "text/x-python",
   "name": "python",
   "nbconvert_exporter": "python",
   "pygments_lexer": "ipython3",
   "version": "3.8.6"
  }
 },
 "nbformat": 4,
 "nbformat_minor": 5
}
