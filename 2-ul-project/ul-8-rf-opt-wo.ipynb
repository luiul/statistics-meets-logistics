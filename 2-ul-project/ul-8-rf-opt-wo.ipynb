{
 "cells": [
  {
   "cell_type": "code",
   "execution_count": 1,
   "id": "guilty-nerve",
   "metadata": {},
   "outputs": [],
   "source": [
    "# MODIFY! \n",
    "# use RobustScaler! \n",
    "model_name = 'rf-wo'"
   ]
  },
  {
   "cell_type": "markdown",
   "id": "declared-settlement",
   "metadata": {},
   "source": [
    "# Import Libraries & Data "
   ]
  },
  {
   "cell_type": "code",
   "execution_count": 2,
   "id": "twelve-amplifier",
   "metadata": {},
   "outputs": [],
   "source": [
    "import numpy as np\n",
    "import pandas as pd\n",
    "import matplotlib.pyplot as plt\n",
    "import seaborn as sns"
   ]
  },
  {
   "cell_type": "code",
   "execution_count": 3,
   "id": "declared-imperial",
   "metadata": {},
   "outputs": [],
   "source": [
    "df = pd.read_csv('./data/d-wo-ns.csv')\n",
    "X = df.drop('throughput',axis=1)\n",
    "y = df['throughput']"
   ]
  },
  {
   "cell_type": "markdown",
   "id": "addressed-clarity",
   "metadata": {},
   "source": [
    "---"
   ]
  },
  {
   "cell_type": "markdown",
   "id": "attractive-tonight",
   "metadata": {},
   "source": [
    "# Scale Data"
   ]
  },
  {
   "cell_type": "code",
   "execution_count": 4,
   "id": "fitting-copyright",
   "metadata": {},
   "outputs": [
    {
     "data": {
      "text/plain": [
       "RobustScaler()"
      ]
     },
     "execution_count": 4,
     "metadata": {},
     "output_type": "execute_result"
    }
   ],
   "source": [
    "# Split the data\n",
    "from sklearn.model_selection import train_test_split\n",
    "X_train, X_test, y_train, y_test = train_test_split(X, y, test_size=0.1, random_state=42)\n",
    "\n",
    "# Scale the data\n",
    "from sklearn.preprocessing import RobustScaler\n",
    "scaler = RobustScaler()\n",
    "scaler.fit(X_train)"
   ]
  },
  {
   "cell_type": "code",
   "execution_count": 5,
   "id": "meaning-pledge",
   "metadata": {},
   "outputs": [],
   "source": [
    "X_train = scaler.transform(X_train)\n",
    "X_test = scaler.transform(X_test)"
   ]
  },
  {
   "cell_type": "markdown",
   "id": "detected-pound",
   "metadata": {},
   "source": [
    "# Determine Hyperparameters"
   ]
  },
  {
   "cell_type": "markdown",
   "id": "intellectual-providence",
   "metadata": {},
   "source": [
    "## Determine Max Features"
   ]
  },
  {
   "cell_type": "code",
   "execution_count": 6,
   "id": "lesser-folks",
   "metadata": {},
   "outputs": [
    {
     "data": {
      "text/plain": [
       "RandomForestRegressor(warm_start=True)"
      ]
     },
     "execution_count": 6,
     "metadata": {},
     "output_type": "execute_result"
    }
   ],
   "source": [
    "# MODIFY!\n",
    "from sklearn.ensemble import RandomForestRegressor\n",
    "\n",
    "model = RandomForestRegressor(warm_start=True)\n",
    "model"
   ]
  },
  {
   "cell_type": "code",
   "execution_count": 7,
   "id": "muslim-paragraph",
   "metadata": {},
   "outputs": [],
   "source": [
    "p_grid = {\n",
    "    'max_features':['auto', 'sqrt', 'log2']\n",
    "}"
   ]
  },
  {
   "cell_type": "code",
   "execution_count": 8,
   "id": "naval-looking",
   "metadata": {},
   "outputs": [],
   "source": [
    "from sklearn.model_selection import GridSearchCV"
   ]
  },
  {
   "cell_type": "code",
   "execution_count": 9,
   "id": "automated-harvey",
   "metadata": {},
   "outputs": [],
   "source": [
    "grid_model = GridSearchCV(\n",
    "    estimator=model,\n",
    "    param_grid =p_grid, \n",
    "    scoring='neg_mean_squared_error',\n",
    "    cv=10, \n",
    "    verbose=1\n",
    ")"
   ]
  },
  {
   "cell_type": "code",
   "execution_count": 10,
   "id": "ambient-champion",
   "metadata": {},
   "outputs": [
    {
     "name": "stdout",
     "output_type": "stream",
     "text": [
      "Fitting 10 folds for each of 3 candidates, totalling 30 fits\n"
     ]
    },
    {
     "name": "stderr",
     "output_type": "stream",
     "text": [
      "[Parallel(n_jobs=1)]: Using backend SequentialBackend with 1 concurrent workers.\n",
      "[Parallel(n_jobs=1)]: Done  30 out of  30 | elapsed:   41.1s finished\n"
     ]
    },
    {
     "data": {
      "text/plain": [
       "GridSearchCV(cv=10, estimator=RandomForestRegressor(warm_start=True),\n",
       "             param_grid={'max_features': ['auto', 'sqrt', 'log2']},\n",
       "             scoring='neg_mean_squared_error', verbose=1)"
      ]
     },
     "execution_count": 10,
     "metadata": {},
     "output_type": "execute_result"
    }
   ],
   "source": [
    "grid_model.fit(X_train,y_train)"
   ]
  },
  {
   "cell_type": "code",
   "execution_count": 11,
   "id": "victorian-vertex",
   "metadata": {},
   "outputs": [
    {
     "data": {
      "text/plain": [
       "{'max_features': 'auto'}"
      ]
     },
     "execution_count": 11,
     "metadata": {},
     "output_type": "execute_result"
    }
   ],
   "source": [
    "grid_model.best_params_"
   ]
  },
  {
   "cell_type": "code",
   "execution_count": 12,
   "id": "framed-merit",
   "metadata": {},
   "outputs": [],
   "source": [
    "hp = pd.Series(name=f'{model_name} HP', data=grid_model.best_params_)"
   ]
  },
  {
   "cell_type": "code",
   "execution_count": 13,
   "id": "stupid-vienna",
   "metadata": {},
   "outputs": [
    {
     "data": {
      "text/plain": [
       "max_features    auto\n",
       "Name: rf-wo HP, dtype: object"
      ]
     },
     "execution_count": 13,
     "metadata": {},
     "output_type": "execute_result"
    }
   ],
   "source": [
    "hp"
   ]
  },
  {
   "cell_type": "code",
   "execution_count": 14,
   "id": "experimental-moral",
   "metadata": {},
   "outputs": [],
   "source": [
    "hp.to_csv(f'./hyperparameters/{model_name}.csv')"
   ]
  },
  {
   "cell_type": "markdown",
   "id": "proved-second",
   "metadata": {},
   "source": [
    "## Determine Number of Estimators"
   ]
  },
  {
   "cell_type": "code",
   "execution_count": 15,
   "id": "sonic-fetish",
   "metadata": {},
   "outputs": [
    {
     "name": "stdout",
     "output_type": "stream",
     "text": [
      "Starting 5 estimators\n",
      "Done with 5 estimators\n",
      "Elapsed time: 1.236799955368042\n",
      "\n",
      "\n",
      "Starting 10 estimators\n",
      "Done with 10 estimators\n",
      "Elapsed time: 2.6400070190429688\n",
      "\n",
      "\n",
      "Starting 25 estimators\n",
      "Done with 25 estimators\n",
      "Elapsed time: 6.612130165100098\n",
      "\n",
      "\n",
      "Starting 50 estimators\n",
      "Done with 50 estimators\n",
      "Elapsed time: 13.688124895095825\n",
      "\n",
      "\n",
      "Starting 100 estimators\n",
      "Done with 100 estimators\n",
      "Elapsed time: 36.845587968826294\n",
      "\n",
      "\n",
      "Starting 500 estimators\n",
      "Done with 500 estimators\n",
      "Elapsed time: 135.07026624679565\n",
      "\n",
      "\n",
      "Starting 1000 estimators\n",
      "Done with 1000 estimators\n",
      "Elapsed time: 277.29677629470825\n",
      "\n",
      "\n",
      "Starting 2000 estimators\n",
      "Done with 2000 estimators\n",
      "Elapsed time: 878.5012316703796\n",
      "\n",
      "\n"
     ]
    }
   ],
   "source": [
    "# MODIFY!\n",
    "import time\n",
    "\n",
    "estimators = [5,10,25,50,100,500,1000,2000]\n",
    "scores_list = []\n",
    "\n",
    "from sklearn.ensemble import RandomForestRegressor\n",
    "\n",
    "for e in estimators: \n",
    "    start = time.time()\n",
    "    print(f'Starting {e} estimators')\n",
    "    score_model = RandomForestRegressor(\n",
    "        n_estimators=e,\n",
    "        max_features=grid_model.best_params_['max_features']\n",
    "    )\n",
    "    \n",
    "    from sklearn.model_selection import cross_validate\n",
    "\n",
    "    scores = cross_validate(\n",
    "        score_model, \n",
    "        X_train, \n",
    "        y_train,\n",
    "        scoring=[\n",
    "            'neg_mean_absolute_error',\n",
    "            'neg_mean_squared_error',\n",
    "            'neg_root_mean_squared_error'\n",
    "        ],\n",
    "        cv=10\n",
    "    )\n",
    "    \n",
    "    scores = pd.DataFrame(scores)\n",
    "    scores\n",
    "    mean_scores = scores.mean()\n",
    "    scores_list.append(mean_scores)\n",
    "    print(f'Done with {e} estimators')\n",
    "    end = time.time()\n",
    "    print(f'Elapsed time: {end - start}')\n",
    "    print('\\n')"
   ]
  },
  {
   "cell_type": "code",
   "execution_count": 16,
   "id": "structured-sheriff",
   "metadata": {},
   "outputs": [],
   "source": [
    "scores_df = pd.DataFrame(scores_list)"
   ]
  },
  {
   "cell_type": "code",
   "execution_count": 17,
   "id": "acute-prerequisite",
   "metadata": {},
   "outputs": [
    {
     "data": {
      "text/html": [
       "<div>\n",
       "<style scoped>\n",
       "    .dataframe tbody tr th:only-of-type {\n",
       "        vertical-align: middle;\n",
       "    }\n",
       "\n",
       "    .dataframe tbody tr th {\n",
       "        vertical-align: top;\n",
       "    }\n",
       "\n",
       "    .dataframe thead th {\n",
       "        text-align: right;\n",
       "    }\n",
       "</style>\n",
       "<table border=\"1\" class=\"dataframe\">\n",
       "  <thead>\n",
       "    <tr style=\"text-align: right;\">\n",
       "      <th></th>\n",
       "      <th>fit_time</th>\n",
       "      <th>score_time</th>\n",
       "      <th>test_neg_mean_absolute_error</th>\n",
       "      <th>test_neg_mean_squared_error</th>\n",
       "      <th>test_neg_root_mean_squared_error</th>\n",
       "    </tr>\n",
       "  </thead>\n",
       "  <tbody>\n",
       "    <tr>\n",
       "      <th>0</th>\n",
       "      <td>0.119671</td>\n",
       "      <td>0.002635</td>\n",
       "      <td>-3.125925</td>\n",
       "      <td>-18.644486</td>\n",
       "      <td>-4.299634</td>\n",
       "    </tr>\n",
       "    <tr>\n",
       "      <th>1</th>\n",
       "      <td>0.258443</td>\n",
       "      <td>0.004684</td>\n",
       "      <td>-2.946729</td>\n",
       "      <td>-16.584305</td>\n",
       "      <td>-4.056515</td>\n",
       "    </tr>\n",
       "    <tr>\n",
       "      <th>2</th>\n",
       "      <td>0.652433</td>\n",
       "      <td>0.007206</td>\n",
       "      <td>-2.847037</td>\n",
       "      <td>-15.995878</td>\n",
       "      <td>-3.977351</td>\n",
       "    </tr>\n",
       "    <tr>\n",
       "      <th>3</th>\n",
       "      <td>1.357082</td>\n",
       "      <td>0.009699</td>\n",
       "      <td>-2.806508</td>\n",
       "      <td>-15.439988</td>\n",
       "      <td>-3.911482</td>\n",
       "    </tr>\n",
       "    <tr>\n",
       "      <th>4</th>\n",
       "      <td>3.656144</td>\n",
       "      <td>0.022416</td>\n",
       "      <td>-2.802221</td>\n",
       "      <td>-15.320498</td>\n",
       "      <td>-3.892672</td>\n",
       "    </tr>\n",
       "    <tr>\n",
       "      <th>5</th>\n",
       "      <td>13.386755</td>\n",
       "      <td>0.107348</td>\n",
       "      <td>-2.794322</td>\n",
       "      <td>-15.233645</td>\n",
       "      <td>-3.883828</td>\n",
       "    </tr>\n",
       "    <tr>\n",
       "      <th>6</th>\n",
       "      <td>27.190433</td>\n",
       "      <td>0.509859</td>\n",
       "      <td>-2.784674</td>\n",
       "      <td>-15.155449</td>\n",
       "      <td>-3.873163</td>\n",
       "    </tr>\n",
       "    <tr>\n",
       "      <th>7</th>\n",
       "      <td>86.399851</td>\n",
       "      <td>1.353533</td>\n",
       "      <td>-2.783271</td>\n",
       "      <td>-15.140688</td>\n",
       "      <td>-3.871777</td>\n",
       "    </tr>\n",
       "  </tbody>\n",
       "</table>\n",
       "</div>"
      ],
      "text/plain": [
       "    fit_time  score_time  test_neg_mean_absolute_error  \\\n",
       "0   0.119671    0.002635                     -3.125925   \n",
       "1   0.258443    0.004684                     -2.946729   \n",
       "2   0.652433    0.007206                     -2.847037   \n",
       "3   1.357082    0.009699                     -2.806508   \n",
       "4   3.656144    0.022416                     -2.802221   \n",
       "5  13.386755    0.107348                     -2.794322   \n",
       "6  27.190433    0.509859                     -2.784674   \n",
       "7  86.399851    1.353533                     -2.783271   \n",
       "\n",
       "   test_neg_mean_squared_error  test_neg_root_mean_squared_error  \n",
       "0                   -18.644486                         -4.299634  \n",
       "1                   -16.584305                         -4.056515  \n",
       "2                   -15.995878                         -3.977351  \n",
       "3                   -15.439988                         -3.911482  \n",
       "4                   -15.320498                         -3.892672  \n",
       "5                   -15.233645                         -3.883828  \n",
       "6                   -15.155449                         -3.873163  \n",
       "7                   -15.140688                         -3.871777  "
      ]
     },
     "execution_count": 17,
     "metadata": {},
     "output_type": "execute_result"
    }
   ],
   "source": [
    "scores_df"
   ]
  },
  {
   "cell_type": "code",
   "execution_count": 18,
   "id": "balanced-desktop",
   "metadata": {},
   "outputs": [],
   "source": [
    "scores_df['Est'] = estimators"
   ]
  },
  {
   "cell_type": "code",
   "execution_count": 19,
   "id": "documented-cookbook",
   "metadata": {},
   "outputs": [
    {
     "data": {
      "text/html": [
       "<div>\n",
       "<style scoped>\n",
       "    .dataframe tbody tr th:only-of-type {\n",
       "        vertical-align: middle;\n",
       "    }\n",
       "\n",
       "    .dataframe tbody tr th {\n",
       "        vertical-align: top;\n",
       "    }\n",
       "\n",
       "    .dataframe thead th {\n",
       "        text-align: right;\n",
       "    }\n",
       "</style>\n",
       "<table border=\"1\" class=\"dataframe\">\n",
       "  <thead>\n",
       "    <tr style=\"text-align: right;\">\n",
       "      <th></th>\n",
       "      <th>fit_time</th>\n",
       "      <th>score_time</th>\n",
       "      <th>test_neg_mean_absolute_error</th>\n",
       "      <th>test_neg_mean_squared_error</th>\n",
       "      <th>test_neg_root_mean_squared_error</th>\n",
       "      <th>Est</th>\n",
       "    </tr>\n",
       "  </thead>\n",
       "  <tbody>\n",
       "    <tr>\n",
       "      <th>0</th>\n",
       "      <td>0.119671</td>\n",
       "      <td>0.002635</td>\n",
       "      <td>-3.125925</td>\n",
       "      <td>-18.644486</td>\n",
       "      <td>-4.299634</td>\n",
       "      <td>5</td>\n",
       "    </tr>\n",
       "    <tr>\n",
       "      <th>1</th>\n",
       "      <td>0.258443</td>\n",
       "      <td>0.004684</td>\n",
       "      <td>-2.946729</td>\n",
       "      <td>-16.584305</td>\n",
       "      <td>-4.056515</td>\n",
       "      <td>10</td>\n",
       "    </tr>\n",
       "    <tr>\n",
       "      <th>2</th>\n",
       "      <td>0.652433</td>\n",
       "      <td>0.007206</td>\n",
       "      <td>-2.847037</td>\n",
       "      <td>-15.995878</td>\n",
       "      <td>-3.977351</td>\n",
       "      <td>25</td>\n",
       "    </tr>\n",
       "    <tr>\n",
       "      <th>3</th>\n",
       "      <td>1.357082</td>\n",
       "      <td>0.009699</td>\n",
       "      <td>-2.806508</td>\n",
       "      <td>-15.439988</td>\n",
       "      <td>-3.911482</td>\n",
       "      <td>50</td>\n",
       "    </tr>\n",
       "    <tr>\n",
       "      <th>4</th>\n",
       "      <td>3.656144</td>\n",
       "      <td>0.022416</td>\n",
       "      <td>-2.802221</td>\n",
       "      <td>-15.320498</td>\n",
       "      <td>-3.892672</td>\n",
       "      <td>100</td>\n",
       "    </tr>\n",
       "    <tr>\n",
       "      <th>5</th>\n",
       "      <td>13.386755</td>\n",
       "      <td>0.107348</td>\n",
       "      <td>-2.794322</td>\n",
       "      <td>-15.233645</td>\n",
       "      <td>-3.883828</td>\n",
       "      <td>500</td>\n",
       "    </tr>\n",
       "    <tr>\n",
       "      <th>6</th>\n",
       "      <td>27.190433</td>\n",
       "      <td>0.509859</td>\n",
       "      <td>-2.784674</td>\n",
       "      <td>-15.155449</td>\n",
       "      <td>-3.873163</td>\n",
       "      <td>1000</td>\n",
       "    </tr>\n",
       "    <tr>\n",
       "      <th>7</th>\n",
       "      <td>86.399851</td>\n",
       "      <td>1.353533</td>\n",
       "      <td>-2.783271</td>\n",
       "      <td>-15.140688</td>\n",
       "      <td>-3.871777</td>\n",
       "      <td>2000</td>\n",
       "    </tr>\n",
       "  </tbody>\n",
       "</table>\n",
       "</div>"
      ],
      "text/plain": [
       "    fit_time  score_time  test_neg_mean_absolute_error  \\\n",
       "0   0.119671    0.002635                     -3.125925   \n",
       "1   0.258443    0.004684                     -2.946729   \n",
       "2   0.652433    0.007206                     -2.847037   \n",
       "3   1.357082    0.009699                     -2.806508   \n",
       "4   3.656144    0.022416                     -2.802221   \n",
       "5  13.386755    0.107348                     -2.794322   \n",
       "6  27.190433    0.509859                     -2.784674   \n",
       "7  86.399851    1.353533                     -2.783271   \n",
       "\n",
       "   test_neg_mean_squared_error  test_neg_root_mean_squared_error   Est  \n",
       "0                   -18.644486                         -4.299634     5  \n",
       "1                   -16.584305                         -4.056515    10  \n",
       "2                   -15.995878                         -3.977351    25  \n",
       "3                   -15.439988                         -3.911482    50  \n",
       "4                   -15.320498                         -3.892672   100  \n",
       "5                   -15.233645                         -3.883828   500  \n",
       "6                   -15.155449                         -3.873163  1000  \n",
       "7                   -15.140688                         -3.871777  2000  "
      ]
     },
     "execution_count": 19,
     "metadata": {},
     "output_type": "execute_result"
    }
   ],
   "source": [
    "scores_df"
   ]
  },
  {
   "cell_type": "markdown",
   "id": "colored-integer",
   "metadata": {},
   "source": [
    "# Export Scores for Number of Estimators"
   ]
  },
  {
   "cell_type": "code",
   "execution_count": 20,
   "id": "existing-oakland",
   "metadata": {},
   "outputs": [],
   "source": [
    "# mean_scores"
   ]
  },
  {
   "cell_type": "code",
   "execution_count": 21,
   "id": "cooked-facility",
   "metadata": {},
   "outputs": [],
   "source": [
    "scores_df = scores_df.rename(columns={\n",
    "    'fit_time':'Fit Time',\n",
    "    'score_time':'Score Time',\n",
    "    'test_neg_mean_absolute_error':'MAE',\n",
    "    'test_neg_mean_squared_error':'MSE',\n",
    "    'test_neg_root_mean_squared_error':'RMSE'\n",
    "})"
   ]
  },
  {
   "cell_type": "code",
   "execution_count": 22,
   "id": "challenging-singer",
   "metadata": {},
   "outputs": [
    {
     "data": {
      "text/html": [
       "<div>\n",
       "<style scoped>\n",
       "    .dataframe tbody tr th:only-of-type {\n",
       "        vertical-align: middle;\n",
       "    }\n",
       "\n",
       "    .dataframe tbody tr th {\n",
       "        vertical-align: top;\n",
       "    }\n",
       "\n",
       "    .dataframe thead th {\n",
       "        text-align: right;\n",
       "    }\n",
       "</style>\n",
       "<table border=\"1\" class=\"dataframe\">\n",
       "  <thead>\n",
       "    <tr style=\"text-align: right;\">\n",
       "      <th></th>\n",
       "      <th>Fit Time</th>\n",
       "      <th>Score Time</th>\n",
       "      <th>MAE</th>\n",
       "      <th>MSE</th>\n",
       "      <th>RMSE</th>\n",
       "      <th>Est</th>\n",
       "    </tr>\n",
       "  </thead>\n",
       "  <tbody>\n",
       "    <tr>\n",
       "      <th>0</th>\n",
       "      <td>0.119671</td>\n",
       "      <td>0.002635</td>\n",
       "      <td>-3.125925</td>\n",
       "      <td>-18.644486</td>\n",
       "      <td>-4.299634</td>\n",
       "      <td>5</td>\n",
       "    </tr>\n",
       "    <tr>\n",
       "      <th>1</th>\n",
       "      <td>0.258443</td>\n",
       "      <td>0.004684</td>\n",
       "      <td>-2.946729</td>\n",
       "      <td>-16.584305</td>\n",
       "      <td>-4.056515</td>\n",
       "      <td>10</td>\n",
       "    </tr>\n",
       "    <tr>\n",
       "      <th>2</th>\n",
       "      <td>0.652433</td>\n",
       "      <td>0.007206</td>\n",
       "      <td>-2.847037</td>\n",
       "      <td>-15.995878</td>\n",
       "      <td>-3.977351</td>\n",
       "      <td>25</td>\n",
       "    </tr>\n",
       "    <tr>\n",
       "      <th>3</th>\n",
       "      <td>1.357082</td>\n",
       "      <td>0.009699</td>\n",
       "      <td>-2.806508</td>\n",
       "      <td>-15.439988</td>\n",
       "      <td>-3.911482</td>\n",
       "      <td>50</td>\n",
       "    </tr>\n",
       "    <tr>\n",
       "      <th>4</th>\n",
       "      <td>3.656144</td>\n",
       "      <td>0.022416</td>\n",
       "      <td>-2.802221</td>\n",
       "      <td>-15.320498</td>\n",
       "      <td>-3.892672</td>\n",
       "      <td>100</td>\n",
       "    </tr>\n",
       "    <tr>\n",
       "      <th>5</th>\n",
       "      <td>13.386755</td>\n",
       "      <td>0.107348</td>\n",
       "      <td>-2.794322</td>\n",
       "      <td>-15.233645</td>\n",
       "      <td>-3.883828</td>\n",
       "      <td>500</td>\n",
       "    </tr>\n",
       "    <tr>\n",
       "      <th>6</th>\n",
       "      <td>27.190433</td>\n",
       "      <td>0.509859</td>\n",
       "      <td>-2.784674</td>\n",
       "      <td>-15.155449</td>\n",
       "      <td>-3.873163</td>\n",
       "      <td>1000</td>\n",
       "    </tr>\n",
       "    <tr>\n",
       "      <th>7</th>\n",
       "      <td>86.399851</td>\n",
       "      <td>1.353533</td>\n",
       "      <td>-2.783271</td>\n",
       "      <td>-15.140688</td>\n",
       "      <td>-3.871777</td>\n",
       "      <td>2000</td>\n",
       "    </tr>\n",
       "  </tbody>\n",
       "</table>\n",
       "</div>"
      ],
      "text/plain": [
       "    Fit Time  Score Time       MAE        MSE      RMSE   Est\n",
       "0   0.119671    0.002635 -3.125925 -18.644486 -4.299634     5\n",
       "1   0.258443    0.004684 -2.946729 -16.584305 -4.056515    10\n",
       "2   0.652433    0.007206 -2.847037 -15.995878 -3.977351    25\n",
       "3   1.357082    0.009699 -2.806508 -15.439988 -3.911482    50\n",
       "4   3.656144    0.022416 -2.802221 -15.320498 -3.892672   100\n",
       "5  13.386755    0.107348 -2.794322 -15.233645 -3.883828   500\n",
       "6  27.190433    0.509859 -2.784674 -15.155449 -3.873163  1000\n",
       "7  86.399851    1.353533 -2.783271 -15.140688 -3.871777  2000"
      ]
     },
     "execution_count": 22,
     "metadata": {},
     "output_type": "execute_result"
    }
   ],
   "source": [
    "scores_df"
   ]
  },
  {
   "cell_type": "code",
   "execution_count": 23,
   "id": "congressional-organizer",
   "metadata": {},
   "outputs": [],
   "source": [
    "scores_df[['MAE','MSE','RMSE']] = scores_df[['MAE','MSE','RMSE']].apply(lambda x : abs(x))"
   ]
  },
  {
   "cell_type": "code",
   "execution_count": 24,
   "id": "polish-texas",
   "metadata": {},
   "outputs": [
    {
     "data": {
      "text/html": [
       "<div>\n",
       "<style scoped>\n",
       "    .dataframe tbody tr th:only-of-type {\n",
       "        vertical-align: middle;\n",
       "    }\n",
       "\n",
       "    .dataframe tbody tr th {\n",
       "        vertical-align: top;\n",
       "    }\n",
       "\n",
       "    .dataframe thead th {\n",
       "        text-align: right;\n",
       "    }\n",
       "</style>\n",
       "<table border=\"1\" class=\"dataframe\">\n",
       "  <thead>\n",
       "    <tr style=\"text-align: right;\">\n",
       "      <th></th>\n",
       "      <th>Fit Time</th>\n",
       "      <th>Score Time</th>\n",
       "      <th>MAE</th>\n",
       "      <th>MSE</th>\n",
       "      <th>RMSE</th>\n",
       "      <th>Est</th>\n",
       "    </tr>\n",
       "  </thead>\n",
       "  <tbody>\n",
       "    <tr>\n",
       "      <th>0</th>\n",
       "      <td>0.119671</td>\n",
       "      <td>0.002635</td>\n",
       "      <td>3.125925</td>\n",
       "      <td>18.644486</td>\n",
       "      <td>4.299634</td>\n",
       "      <td>5</td>\n",
       "    </tr>\n",
       "    <tr>\n",
       "      <th>1</th>\n",
       "      <td>0.258443</td>\n",
       "      <td>0.004684</td>\n",
       "      <td>2.946729</td>\n",
       "      <td>16.584305</td>\n",
       "      <td>4.056515</td>\n",
       "      <td>10</td>\n",
       "    </tr>\n",
       "    <tr>\n",
       "      <th>2</th>\n",
       "      <td>0.652433</td>\n",
       "      <td>0.007206</td>\n",
       "      <td>2.847037</td>\n",
       "      <td>15.995878</td>\n",
       "      <td>3.977351</td>\n",
       "      <td>25</td>\n",
       "    </tr>\n",
       "    <tr>\n",
       "      <th>3</th>\n",
       "      <td>1.357082</td>\n",
       "      <td>0.009699</td>\n",
       "      <td>2.806508</td>\n",
       "      <td>15.439988</td>\n",
       "      <td>3.911482</td>\n",
       "      <td>50</td>\n",
       "    </tr>\n",
       "    <tr>\n",
       "      <th>4</th>\n",
       "      <td>3.656144</td>\n",
       "      <td>0.022416</td>\n",
       "      <td>2.802221</td>\n",
       "      <td>15.320498</td>\n",
       "      <td>3.892672</td>\n",
       "      <td>100</td>\n",
       "    </tr>\n",
       "    <tr>\n",
       "      <th>5</th>\n",
       "      <td>13.386755</td>\n",
       "      <td>0.107348</td>\n",
       "      <td>2.794322</td>\n",
       "      <td>15.233645</td>\n",
       "      <td>3.883828</td>\n",
       "      <td>500</td>\n",
       "    </tr>\n",
       "    <tr>\n",
       "      <th>6</th>\n",
       "      <td>27.190433</td>\n",
       "      <td>0.509859</td>\n",
       "      <td>2.784674</td>\n",
       "      <td>15.155449</td>\n",
       "      <td>3.873163</td>\n",
       "      <td>1000</td>\n",
       "    </tr>\n",
       "    <tr>\n",
       "      <th>7</th>\n",
       "      <td>86.399851</td>\n",
       "      <td>1.353533</td>\n",
       "      <td>2.783271</td>\n",
       "      <td>15.140688</td>\n",
       "      <td>3.871777</td>\n",
       "      <td>2000</td>\n",
       "    </tr>\n",
       "  </tbody>\n",
       "</table>\n",
       "</div>"
      ],
      "text/plain": [
       "    Fit Time  Score Time       MAE        MSE      RMSE   Est\n",
       "0   0.119671    0.002635  3.125925  18.644486  4.299634     5\n",
       "1   0.258443    0.004684  2.946729  16.584305  4.056515    10\n",
       "2   0.652433    0.007206  2.847037  15.995878  3.977351    25\n",
       "3   1.357082    0.009699  2.806508  15.439988  3.911482    50\n",
       "4   3.656144    0.022416  2.802221  15.320498  3.892672   100\n",
       "5  13.386755    0.107348  2.794322  15.233645  3.883828   500\n",
       "6  27.190433    0.509859  2.784674  15.155449  3.873163  1000\n",
       "7  86.399851    1.353533  2.783271  15.140688  3.871777  2000"
      ]
     },
     "execution_count": 24,
     "metadata": {},
     "output_type": "execute_result"
    }
   ],
   "source": [
    "scores_df\n",
    "# we go for 25 estimations. Note that from 25 -> 50 estimations the error metrics worsen"
   ]
  },
  {
   "cell_type": "code",
   "execution_count": 25,
   "id": "foreign-camera",
   "metadata": {},
   "outputs": [],
   "source": [
    "scores_df.to_csv(f'./est-scores/{model_name}-est.csv')"
   ]
  },
  {
   "cell_type": "code",
   "execution_count": 26,
   "id": "circular-difficulty",
   "metadata": {},
   "outputs": [],
   "source": [
    "pct_scores_df = scores_df.pct_change()"
   ]
  },
  {
   "cell_type": "code",
   "execution_count": 27,
   "id": "decent-bunny",
   "metadata": {},
   "outputs": [
    {
     "data": {
      "text/html": [
       "<div>\n",
       "<style scoped>\n",
       "    .dataframe tbody tr th:only-of-type {\n",
       "        vertical-align: middle;\n",
       "    }\n",
       "\n",
       "    .dataframe tbody tr th {\n",
       "        vertical-align: top;\n",
       "    }\n",
       "\n",
       "    .dataframe thead th {\n",
       "        text-align: right;\n",
       "    }\n",
       "</style>\n",
       "<table border=\"1\" class=\"dataframe\">\n",
       "  <thead>\n",
       "    <tr style=\"text-align: right;\">\n",
       "      <th></th>\n",
       "      <th>Fit Time</th>\n",
       "      <th>Score Time</th>\n",
       "      <th>MAE</th>\n",
       "      <th>MSE</th>\n",
       "      <th>RMSE</th>\n",
       "      <th>Est</th>\n",
       "    </tr>\n",
       "  </thead>\n",
       "  <tbody>\n",
       "    <tr>\n",
       "      <th>0</th>\n",
       "      <td>NaN</td>\n",
       "      <td>NaN</td>\n",
       "      <td>NaN</td>\n",
       "      <td>NaN</td>\n",
       "      <td>NaN</td>\n",
       "      <td>NaN</td>\n",
       "    </tr>\n",
       "    <tr>\n",
       "      <th>1</th>\n",
       "      <td>1.159608</td>\n",
       "      <td>0.777576</td>\n",
       "      <td>-0.057326</td>\n",
       "      <td>-0.110498</td>\n",
       "      <td>-0.056544</td>\n",
       "      <td>1.0</td>\n",
       "    </tr>\n",
       "    <tr>\n",
       "      <th>2</th>\n",
       "      <td>1.524471</td>\n",
       "      <td>0.538332</td>\n",
       "      <td>-0.033832</td>\n",
       "      <td>-0.035481</td>\n",
       "      <td>-0.019515</td>\n",
       "      <td>1.5</td>\n",
       "    </tr>\n",
       "    <tr>\n",
       "      <th>3</th>\n",
       "      <td>1.080032</td>\n",
       "      <td>0.345916</td>\n",
       "      <td>-0.014235</td>\n",
       "      <td>-0.034752</td>\n",
       "      <td>-0.016561</td>\n",
       "      <td>1.0</td>\n",
       "    </tr>\n",
       "    <tr>\n",
       "      <th>4</th>\n",
       "      <td>1.694122</td>\n",
       "      <td>1.311227</td>\n",
       "      <td>-0.001528</td>\n",
       "      <td>-0.007739</td>\n",
       "      <td>-0.004809</td>\n",
       "      <td>1.0</td>\n",
       "    </tr>\n",
       "    <tr>\n",
       "      <th>5</th>\n",
       "      <td>2.661441</td>\n",
       "      <td>3.788797</td>\n",
       "      <td>-0.002819</td>\n",
       "      <td>-0.005669</td>\n",
       "      <td>-0.002272</td>\n",
       "      <td>4.0</td>\n",
       "    </tr>\n",
       "    <tr>\n",
       "      <th>6</th>\n",
       "      <td>1.031144</td>\n",
       "      <td>3.749594</td>\n",
       "      <td>-0.003452</td>\n",
       "      <td>-0.005133</td>\n",
       "      <td>-0.002746</td>\n",
       "      <td>1.0</td>\n",
       "    </tr>\n",
       "    <tr>\n",
       "      <th>7</th>\n",
       "      <td>2.177583</td>\n",
       "      <td>1.654722</td>\n",
       "      <td>-0.000504</td>\n",
       "      <td>-0.000974</td>\n",
       "      <td>-0.000358</td>\n",
       "      <td>1.0</td>\n",
       "    </tr>\n",
       "  </tbody>\n",
       "</table>\n",
       "</div>"
      ],
      "text/plain": [
       "   Fit Time  Score Time       MAE       MSE      RMSE  Est\n",
       "0       NaN         NaN       NaN       NaN       NaN  NaN\n",
       "1  1.159608    0.777576 -0.057326 -0.110498 -0.056544  1.0\n",
       "2  1.524471    0.538332 -0.033832 -0.035481 -0.019515  1.5\n",
       "3  1.080032    0.345916 -0.014235 -0.034752 -0.016561  1.0\n",
       "4  1.694122    1.311227 -0.001528 -0.007739 -0.004809  1.0\n",
       "5  2.661441    3.788797 -0.002819 -0.005669 -0.002272  4.0\n",
       "6  1.031144    3.749594 -0.003452 -0.005133 -0.002746  1.0\n",
       "7  2.177583    1.654722 -0.000504 -0.000974 -0.000358  1.0"
      ]
     },
     "execution_count": 27,
     "metadata": {},
     "output_type": "execute_result"
    }
   ],
   "source": [
    "pct_scores_df"
   ]
  },
  {
   "cell_type": "code",
   "execution_count": 28,
   "id": "incoming-material",
   "metadata": {},
   "outputs": [
    {
     "data": {
      "text/html": [
       "<style  type=\"text/css\" >\n",
       "#T_d2574280_5dbe_11eb_9e2a_60f81dd06e70row0_col0,#T_d2574280_5dbe_11eb_9e2a_60f81dd06e70row0_col1,#T_d2574280_5dbe_11eb_9e2a_60f81dd06e70row0_col2,#T_d2574280_5dbe_11eb_9e2a_60f81dd06e70row0_col3,#T_d2574280_5dbe_11eb_9e2a_60f81dd06e70row0_col4,#T_d2574280_5dbe_11eb_9e2a_60f81dd06e70row0_col5{\n",
       "            background-color:  #000000;\n",
       "            color:  #f1f1f1;\n",
       "        }#T_d2574280_5dbe_11eb_9e2a_60f81dd06e70row1_col0{\n",
       "            background-color:  #f3edf5;\n",
       "            color:  #000000;\n",
       "        }#T_d2574280_5dbe_11eb_9e2a_60f81dd06e70row1_col1{\n",
       "            background-color:  #ece7f2;\n",
       "            color:  #000000;\n",
       "        }#T_d2574280_5dbe_11eb_9e2a_60f81dd06e70row1_col2,#T_d2574280_5dbe_11eb_9e2a_60f81dd06e70row1_col3,#T_d2574280_5dbe_11eb_9e2a_60f81dd06e70row1_col4,#T_d2574280_5dbe_11eb_9e2a_60f81dd06e70row1_col5,#T_d2574280_5dbe_11eb_9e2a_60f81dd06e70row3_col1,#T_d2574280_5dbe_11eb_9e2a_60f81dd06e70row3_col5,#T_d2574280_5dbe_11eb_9e2a_60f81dd06e70row4_col5,#T_d2574280_5dbe_11eb_9e2a_60f81dd06e70row6_col0,#T_d2574280_5dbe_11eb_9e2a_60f81dd06e70row6_col5,#T_d2574280_5dbe_11eb_9e2a_60f81dd06e70row7_col5{\n",
       "            background-color:  #fff7fb;\n",
       "            color:  #000000;\n",
       "        }#T_d2574280_5dbe_11eb_9e2a_60f81dd06e70row2_col0{\n",
       "            background-color:  #bfc9e1;\n",
       "            color:  #000000;\n",
       "        }#T_d2574280_5dbe_11eb_9e2a_60f81dd06e70row2_col1{\n",
       "            background-color:  #f7f0f7;\n",
       "            color:  #000000;\n",
       "        }#T_d2574280_5dbe_11eb_9e2a_60f81dd06e70row2_col2{\n",
       "            background-color:  #97b7d7;\n",
       "            color:  #000000;\n",
       "        }#T_d2574280_5dbe_11eb_9e2a_60f81dd06e70row2_col3{\n",
       "            background-color:  #1e80b8;\n",
       "            color:  #000000;\n",
       "        }#T_d2574280_5dbe_11eb_9e2a_60f81dd06e70row2_col4{\n",
       "            background-color:  #2987bc;\n",
       "            color:  #000000;\n",
       "        }#T_d2574280_5dbe_11eb_9e2a_60f81dd06e70row2_col5{\n",
       "            background-color:  #e3e0ee;\n",
       "            color:  #000000;\n",
       "        }#T_d2574280_5dbe_11eb_9e2a_60f81dd06e70row3_col0{\n",
       "            background-color:  #fbf3f9;\n",
       "            color:  #000000;\n",
       "        }#T_d2574280_5dbe_11eb_9e2a_60f81dd06e70row3_col2{\n",
       "            background-color:  #056ead;\n",
       "            color:  #f1f1f1;\n",
       "        }#T_d2574280_5dbe_11eb_9e2a_60f81dd06e70row3_col3{\n",
       "            background-color:  #1b7eb7;\n",
       "            color:  #000000;\n",
       "        }#T_d2574280_5dbe_11eb_9e2a_60f81dd06e70row3_col4{\n",
       "            background-color:  #1379b5;\n",
       "            color:  #f1f1f1;\n",
       "        }#T_d2574280_5dbe_11eb_9e2a_60f81dd06e70row4_col0{\n",
       "            background-color:  #99b8d8;\n",
       "            color:  #000000;\n",
       "        }#T_d2574280_5dbe_11eb_9e2a_60f81dd06e70row4_col1{\n",
       "            background-color:  #c6cce3;\n",
       "            color:  #000000;\n",
       "        }#T_d2574280_5dbe_11eb_9e2a_60f81dd06e70row4_col2{\n",
       "            background-color:  #023c5f;\n",
       "            color:  #f1f1f1;\n",
       "        }#T_d2574280_5dbe_11eb_9e2a_60f81dd06e70row4_col3{\n",
       "            background-color:  #034871;\n",
       "            color:  #f1f1f1;\n",
       "        }#T_d2574280_5dbe_11eb_9e2a_60f81dd06e70row4_col4{\n",
       "            background-color:  #034d79;\n",
       "            color:  #f1f1f1;\n",
       "        }#T_d2574280_5dbe_11eb_9e2a_60f81dd06e70row5_col0,#T_d2574280_5dbe_11eb_9e2a_60f81dd06e70row5_col1,#T_d2574280_5dbe_11eb_9e2a_60f81dd06e70row5_col5,#T_d2574280_5dbe_11eb_9e2a_60f81dd06e70row7_col2,#T_d2574280_5dbe_11eb_9e2a_60f81dd06e70row7_col3,#T_d2574280_5dbe_11eb_9e2a_60f81dd06e70row7_col4{\n",
       "            background-color:  #023858;\n",
       "            color:  #f1f1f1;\n",
       "        }#T_d2574280_5dbe_11eb_9e2a_60f81dd06e70row5_col2,#T_d2574280_5dbe_11eb_9e2a_60f81dd06e70row5_col3,#T_d2574280_5dbe_11eb_9e2a_60f81dd06e70row6_col4{\n",
       "            background-color:  #034369;\n",
       "            color:  #f1f1f1;\n",
       "        }#T_d2574280_5dbe_11eb_9e2a_60f81dd06e70row5_col4{\n",
       "            background-color:  #034165;\n",
       "            color:  #f1f1f1;\n",
       "        }#T_d2574280_5dbe_11eb_9e2a_60f81dd06e70row6_col1{\n",
       "            background-color:  #023a5b;\n",
       "            color:  #f1f1f1;\n",
       "        }#T_d2574280_5dbe_11eb_9e2a_60f81dd06e70row6_col2{\n",
       "            background-color:  #03466e;\n",
       "            color:  #f1f1f1;\n",
       "        }#T_d2574280_5dbe_11eb_9e2a_60f81dd06e70row6_col3{\n",
       "            background-color:  #034267;\n",
       "            color:  #f1f1f1;\n",
       "        }#T_d2574280_5dbe_11eb_9e2a_60f81dd06e70row7_col0{\n",
       "            background-color:  #167bb6;\n",
       "            color:  #000000;\n",
       "        }#T_d2574280_5dbe_11eb_9e2a_60f81dd06e70row7_col1{\n",
       "            background-color:  #a4bcda;\n",
       "            color:  #000000;\n",
       "        }</style><table id=\"T_d2574280_5dbe_11eb_9e2a_60f81dd06e70\" ><thead>    <tr>        <th class=\"blank level0\" ></th>        <th class=\"col_heading level0 col0\" >Fit Time</th>        <th class=\"col_heading level0 col1\" >Score Time</th>        <th class=\"col_heading level0 col2\" >MAE</th>        <th class=\"col_heading level0 col3\" >MSE</th>        <th class=\"col_heading level0 col4\" >RMSE</th>        <th class=\"col_heading level0 col5\" >Est</th>    </tr></thead><tbody>\n",
       "                <tr>\n",
       "                        <th id=\"T_d2574280_5dbe_11eb_9e2a_60f81dd06e70level0_row0\" class=\"row_heading level0 row0\" >0</th>\n",
       "                        <td id=\"T_d2574280_5dbe_11eb_9e2a_60f81dd06e70row0_col0\" class=\"data row0 col0\" >nan</td>\n",
       "                        <td id=\"T_d2574280_5dbe_11eb_9e2a_60f81dd06e70row0_col1\" class=\"data row0 col1\" >nan</td>\n",
       "                        <td id=\"T_d2574280_5dbe_11eb_9e2a_60f81dd06e70row0_col2\" class=\"data row0 col2\" >nan</td>\n",
       "                        <td id=\"T_d2574280_5dbe_11eb_9e2a_60f81dd06e70row0_col3\" class=\"data row0 col3\" >nan</td>\n",
       "                        <td id=\"T_d2574280_5dbe_11eb_9e2a_60f81dd06e70row0_col4\" class=\"data row0 col4\" >nan</td>\n",
       "                        <td id=\"T_d2574280_5dbe_11eb_9e2a_60f81dd06e70row0_col5\" class=\"data row0 col5\" >nan</td>\n",
       "            </tr>\n",
       "            <tr>\n",
       "                        <th id=\"T_d2574280_5dbe_11eb_9e2a_60f81dd06e70level0_row1\" class=\"row_heading level0 row1\" >1</th>\n",
       "                        <td id=\"T_d2574280_5dbe_11eb_9e2a_60f81dd06e70row1_col0\" class=\"data row1 col0\" >1.159608</td>\n",
       "                        <td id=\"T_d2574280_5dbe_11eb_9e2a_60f81dd06e70row1_col1\" class=\"data row1 col1\" >0.777576</td>\n",
       "                        <td id=\"T_d2574280_5dbe_11eb_9e2a_60f81dd06e70row1_col2\" class=\"data row1 col2\" >-0.057326</td>\n",
       "                        <td id=\"T_d2574280_5dbe_11eb_9e2a_60f81dd06e70row1_col3\" class=\"data row1 col3\" >-0.110498</td>\n",
       "                        <td id=\"T_d2574280_5dbe_11eb_9e2a_60f81dd06e70row1_col4\" class=\"data row1 col4\" >-0.056544</td>\n",
       "                        <td id=\"T_d2574280_5dbe_11eb_9e2a_60f81dd06e70row1_col5\" class=\"data row1 col5\" >1.000000</td>\n",
       "            </tr>\n",
       "            <tr>\n",
       "                        <th id=\"T_d2574280_5dbe_11eb_9e2a_60f81dd06e70level0_row2\" class=\"row_heading level0 row2\" >2</th>\n",
       "                        <td id=\"T_d2574280_5dbe_11eb_9e2a_60f81dd06e70row2_col0\" class=\"data row2 col0\" >1.524471</td>\n",
       "                        <td id=\"T_d2574280_5dbe_11eb_9e2a_60f81dd06e70row2_col1\" class=\"data row2 col1\" >0.538332</td>\n",
       "                        <td id=\"T_d2574280_5dbe_11eb_9e2a_60f81dd06e70row2_col2\" class=\"data row2 col2\" >-0.033832</td>\n",
       "                        <td id=\"T_d2574280_5dbe_11eb_9e2a_60f81dd06e70row2_col3\" class=\"data row2 col3\" >-0.035481</td>\n",
       "                        <td id=\"T_d2574280_5dbe_11eb_9e2a_60f81dd06e70row2_col4\" class=\"data row2 col4\" >-0.019515</td>\n",
       "                        <td id=\"T_d2574280_5dbe_11eb_9e2a_60f81dd06e70row2_col5\" class=\"data row2 col5\" >1.500000</td>\n",
       "            </tr>\n",
       "            <tr>\n",
       "                        <th id=\"T_d2574280_5dbe_11eb_9e2a_60f81dd06e70level0_row3\" class=\"row_heading level0 row3\" >3</th>\n",
       "                        <td id=\"T_d2574280_5dbe_11eb_9e2a_60f81dd06e70row3_col0\" class=\"data row3 col0\" >1.080032</td>\n",
       "                        <td id=\"T_d2574280_5dbe_11eb_9e2a_60f81dd06e70row3_col1\" class=\"data row3 col1\" >0.345916</td>\n",
       "                        <td id=\"T_d2574280_5dbe_11eb_9e2a_60f81dd06e70row3_col2\" class=\"data row3 col2\" >-0.014235</td>\n",
       "                        <td id=\"T_d2574280_5dbe_11eb_9e2a_60f81dd06e70row3_col3\" class=\"data row3 col3\" >-0.034752</td>\n",
       "                        <td id=\"T_d2574280_5dbe_11eb_9e2a_60f81dd06e70row3_col4\" class=\"data row3 col4\" >-0.016561</td>\n",
       "                        <td id=\"T_d2574280_5dbe_11eb_9e2a_60f81dd06e70row3_col5\" class=\"data row3 col5\" >1.000000</td>\n",
       "            </tr>\n",
       "            <tr>\n",
       "                        <th id=\"T_d2574280_5dbe_11eb_9e2a_60f81dd06e70level0_row4\" class=\"row_heading level0 row4\" >4</th>\n",
       "                        <td id=\"T_d2574280_5dbe_11eb_9e2a_60f81dd06e70row4_col0\" class=\"data row4 col0\" >1.694122</td>\n",
       "                        <td id=\"T_d2574280_5dbe_11eb_9e2a_60f81dd06e70row4_col1\" class=\"data row4 col1\" >1.311227</td>\n",
       "                        <td id=\"T_d2574280_5dbe_11eb_9e2a_60f81dd06e70row4_col2\" class=\"data row4 col2\" >-0.001528</td>\n",
       "                        <td id=\"T_d2574280_5dbe_11eb_9e2a_60f81dd06e70row4_col3\" class=\"data row4 col3\" >-0.007739</td>\n",
       "                        <td id=\"T_d2574280_5dbe_11eb_9e2a_60f81dd06e70row4_col4\" class=\"data row4 col4\" >-0.004809</td>\n",
       "                        <td id=\"T_d2574280_5dbe_11eb_9e2a_60f81dd06e70row4_col5\" class=\"data row4 col5\" >1.000000</td>\n",
       "            </tr>\n",
       "            <tr>\n",
       "                        <th id=\"T_d2574280_5dbe_11eb_9e2a_60f81dd06e70level0_row5\" class=\"row_heading level0 row5\" >5</th>\n",
       "                        <td id=\"T_d2574280_5dbe_11eb_9e2a_60f81dd06e70row5_col0\" class=\"data row5 col0\" >2.661441</td>\n",
       "                        <td id=\"T_d2574280_5dbe_11eb_9e2a_60f81dd06e70row5_col1\" class=\"data row5 col1\" >3.788797</td>\n",
       "                        <td id=\"T_d2574280_5dbe_11eb_9e2a_60f81dd06e70row5_col2\" class=\"data row5 col2\" >-0.002819</td>\n",
       "                        <td id=\"T_d2574280_5dbe_11eb_9e2a_60f81dd06e70row5_col3\" class=\"data row5 col3\" >-0.005669</td>\n",
       "                        <td id=\"T_d2574280_5dbe_11eb_9e2a_60f81dd06e70row5_col4\" class=\"data row5 col4\" >-0.002272</td>\n",
       "                        <td id=\"T_d2574280_5dbe_11eb_9e2a_60f81dd06e70row5_col5\" class=\"data row5 col5\" >4.000000</td>\n",
       "            </tr>\n",
       "            <tr>\n",
       "                        <th id=\"T_d2574280_5dbe_11eb_9e2a_60f81dd06e70level0_row6\" class=\"row_heading level0 row6\" >6</th>\n",
       "                        <td id=\"T_d2574280_5dbe_11eb_9e2a_60f81dd06e70row6_col0\" class=\"data row6 col0\" >1.031144</td>\n",
       "                        <td id=\"T_d2574280_5dbe_11eb_9e2a_60f81dd06e70row6_col1\" class=\"data row6 col1\" >3.749594</td>\n",
       "                        <td id=\"T_d2574280_5dbe_11eb_9e2a_60f81dd06e70row6_col2\" class=\"data row6 col2\" >-0.003452</td>\n",
       "                        <td id=\"T_d2574280_5dbe_11eb_9e2a_60f81dd06e70row6_col3\" class=\"data row6 col3\" >-0.005133</td>\n",
       "                        <td id=\"T_d2574280_5dbe_11eb_9e2a_60f81dd06e70row6_col4\" class=\"data row6 col4\" >-0.002746</td>\n",
       "                        <td id=\"T_d2574280_5dbe_11eb_9e2a_60f81dd06e70row6_col5\" class=\"data row6 col5\" >1.000000</td>\n",
       "            </tr>\n",
       "            <tr>\n",
       "                        <th id=\"T_d2574280_5dbe_11eb_9e2a_60f81dd06e70level0_row7\" class=\"row_heading level0 row7\" >7</th>\n",
       "                        <td id=\"T_d2574280_5dbe_11eb_9e2a_60f81dd06e70row7_col0\" class=\"data row7 col0\" >2.177583</td>\n",
       "                        <td id=\"T_d2574280_5dbe_11eb_9e2a_60f81dd06e70row7_col1\" class=\"data row7 col1\" >1.654722</td>\n",
       "                        <td id=\"T_d2574280_5dbe_11eb_9e2a_60f81dd06e70row7_col2\" class=\"data row7 col2\" >-0.000504</td>\n",
       "                        <td id=\"T_d2574280_5dbe_11eb_9e2a_60f81dd06e70row7_col3\" class=\"data row7 col3\" >-0.000974</td>\n",
       "                        <td id=\"T_d2574280_5dbe_11eb_9e2a_60f81dd06e70row7_col4\" class=\"data row7 col4\" >-0.000358</td>\n",
       "                        <td id=\"T_d2574280_5dbe_11eb_9e2a_60f81dd06e70row7_col5\" class=\"data row7 col5\" >1.000000</td>\n",
       "            </tr>\n",
       "    </tbody></table>"
      ],
      "text/plain": [
       "<pandas.io.formats.style.Styler at 0x7f97aaf30340>"
      ]
     },
     "execution_count": 28,
     "metadata": {},
     "output_type": "execute_result"
    }
   ],
   "source": [
    "pct_scores_df.style.background_gradient() \n",
    "# we choose index 4, 100 Estimations <- \n",
    "    # Score time decrease 3->4 & Score time increase dramatically 4->5\n",
    "    # unsubstantial decrease MSE & RMSE 4->5 compared to 3->4"
   ]
  },
  {
   "cell_type": "markdown",
   "id": "proved-wonder",
   "metadata": {},
   "source": [
    "# Score Model"
   ]
  },
  {
   "cell_type": "code",
   "execution_count": 29,
   "id": "cathedral-coach",
   "metadata": {},
   "outputs": [
    {
     "data": {
      "text/plain": [
       "RandomForestRegressor(warm_start=True)"
      ]
     },
     "execution_count": 29,
     "metadata": {},
     "output_type": "execute_result"
    }
   ],
   "source": [
    "# MODIFY!\n",
    "# adopt number of estimators from the previous section\n",
    "\n",
    "score_model = RandomForestRegressor(n_estimators=100,warm_start=True)\n",
    "score_model"
   ]
  },
  {
   "cell_type": "code",
   "execution_count": 30,
   "id": "stuffed-campus",
   "metadata": {},
   "outputs": [],
   "source": [
    "from sklearn.model_selection import cross_validate\n",
    "\n",
    "scores = cross_validate(\n",
    "    score_model, \n",
    "    X_train, \n",
    "    y_train,\n",
    "    scoring=[\n",
    "        'neg_mean_absolute_error',\n",
    "        'neg_mean_squared_error',\n",
    "        'neg_root_mean_squared_error'\n",
    "    ],\n",
    "    cv=10\n",
    ")"
   ]
  },
  {
   "cell_type": "code",
   "execution_count": 31,
   "id": "surface-facing",
   "metadata": {},
   "outputs": [],
   "source": [
    "scores = pd.DataFrame(scores)"
   ]
  },
  {
   "cell_type": "code",
   "execution_count": 32,
   "id": "rural-january",
   "metadata": {},
   "outputs": [
    {
     "data": {
      "text/html": [
       "<div>\n",
       "<style scoped>\n",
       "    .dataframe tbody tr th:only-of-type {\n",
       "        vertical-align: middle;\n",
       "    }\n",
       "\n",
       "    .dataframe tbody tr th {\n",
       "        vertical-align: top;\n",
       "    }\n",
       "\n",
       "    .dataframe thead th {\n",
       "        text-align: right;\n",
       "    }\n",
       "</style>\n",
       "<table border=\"1\" class=\"dataframe\">\n",
       "  <thead>\n",
       "    <tr style=\"text-align: right;\">\n",
       "      <th></th>\n",
       "      <th>fit_time</th>\n",
       "      <th>score_time</th>\n",
       "      <th>test_neg_mean_absolute_error</th>\n",
       "      <th>test_neg_mean_squared_error</th>\n",
       "      <th>test_neg_root_mean_squared_error</th>\n",
       "    </tr>\n",
       "  </thead>\n",
       "  <tbody>\n",
       "    <tr>\n",
       "      <th>0</th>\n",
       "      <td>2.190448</td>\n",
       "      <td>0.013283</td>\n",
       "      <td>-2.469003</td>\n",
       "      <td>-11.824437</td>\n",
       "      <td>-3.438668</td>\n",
       "    </tr>\n",
       "    <tr>\n",
       "      <th>1</th>\n",
       "      <td>1.985458</td>\n",
       "      <td>0.012959</td>\n",
       "      <td>-3.469282</td>\n",
       "      <td>-23.811194</td>\n",
       "      <td>-4.879672</td>\n",
       "    </tr>\n",
       "    <tr>\n",
       "      <th>2</th>\n",
       "      <td>2.004330</td>\n",
       "      <td>0.013030</td>\n",
       "      <td>-2.895460</td>\n",
       "      <td>-17.328755</td>\n",
       "      <td>-4.162782</td>\n",
       "    </tr>\n",
       "    <tr>\n",
       "      <th>3</th>\n",
       "      <td>2.278362</td>\n",
       "      <td>0.016528</td>\n",
       "      <td>-2.727926</td>\n",
       "      <td>-14.154308</td>\n",
       "      <td>-3.762221</td>\n",
       "    </tr>\n",
       "    <tr>\n",
       "      <th>4</th>\n",
       "      <td>2.072069</td>\n",
       "      <td>0.013097</td>\n",
       "      <td>-2.599469</td>\n",
       "      <td>-13.416121</td>\n",
       "      <td>-3.662802</td>\n",
       "    </tr>\n",
       "    <tr>\n",
       "      <th>5</th>\n",
       "      <td>1.974104</td>\n",
       "      <td>0.012826</td>\n",
       "      <td>-2.699191</td>\n",
       "      <td>-15.247086</td>\n",
       "      <td>-3.904752</td>\n",
       "    </tr>\n",
       "    <tr>\n",
       "      <th>6</th>\n",
       "      <td>2.021539</td>\n",
       "      <td>0.013182</td>\n",
       "      <td>-2.919053</td>\n",
       "      <td>-16.456560</td>\n",
       "      <td>-4.056669</td>\n",
       "    </tr>\n",
       "    <tr>\n",
       "      <th>7</th>\n",
       "      <td>2.034071</td>\n",
       "      <td>0.012876</td>\n",
       "      <td>-2.679889</td>\n",
       "      <td>-13.673727</td>\n",
       "      <td>-3.697800</td>\n",
       "    </tr>\n",
       "    <tr>\n",
       "      <th>8</th>\n",
       "      <td>2.039498</td>\n",
       "      <td>0.012128</td>\n",
       "      <td>-2.760547</td>\n",
       "      <td>-14.086602</td>\n",
       "      <td>-3.753212</td>\n",
       "    </tr>\n",
       "    <tr>\n",
       "      <th>9</th>\n",
       "      <td>2.020625</td>\n",
       "      <td>0.012451</td>\n",
       "      <td>-2.643053</td>\n",
       "      <td>-12.559106</td>\n",
       "      <td>-3.543883</td>\n",
       "    </tr>\n",
       "  </tbody>\n",
       "</table>\n",
       "</div>"
      ],
      "text/plain": [
       "   fit_time  score_time  test_neg_mean_absolute_error  \\\n",
       "0  2.190448    0.013283                     -2.469003   \n",
       "1  1.985458    0.012959                     -3.469282   \n",
       "2  2.004330    0.013030                     -2.895460   \n",
       "3  2.278362    0.016528                     -2.727926   \n",
       "4  2.072069    0.013097                     -2.599469   \n",
       "5  1.974104    0.012826                     -2.699191   \n",
       "6  2.021539    0.013182                     -2.919053   \n",
       "7  2.034071    0.012876                     -2.679889   \n",
       "8  2.039498    0.012128                     -2.760547   \n",
       "9  2.020625    0.012451                     -2.643053   \n",
       "\n",
       "   test_neg_mean_squared_error  test_neg_root_mean_squared_error  \n",
       "0                   -11.824437                         -3.438668  \n",
       "1                   -23.811194                         -4.879672  \n",
       "2                   -17.328755                         -4.162782  \n",
       "3                   -14.154308                         -3.762221  \n",
       "4                   -13.416121                         -3.662802  \n",
       "5                   -15.247086                         -3.904752  \n",
       "6                   -16.456560                         -4.056669  \n",
       "7                   -13.673727                         -3.697800  \n",
       "8                   -14.086602                         -3.753212  \n",
       "9                   -12.559106                         -3.543883  "
      ]
     },
     "execution_count": 32,
     "metadata": {},
     "output_type": "execute_result"
    }
   ],
   "source": [
    "scores"
   ]
  },
  {
   "cell_type": "code",
   "execution_count": 33,
   "id": "answering-clause",
   "metadata": {},
   "outputs": [],
   "source": [
    "mean_scores = scores.mean()"
   ]
  },
  {
   "cell_type": "code",
   "execution_count": 34,
   "id": "manual-killing",
   "metadata": {},
   "outputs": [
    {
     "data": {
      "text/plain": [
       "fit_time                             2.062050\n",
       "score_time                           0.013236\n",
       "test_neg_mean_absolute_error        -2.786287\n",
       "test_neg_mean_squared_error        -15.255789\n",
       "test_neg_root_mean_squared_error    -3.886246\n",
       "dtype: float64"
      ]
     },
     "execution_count": 34,
     "metadata": {},
     "output_type": "execute_result"
    }
   ],
   "source": [
    "mean_scores"
   ]
  },
  {
   "cell_type": "markdown",
   "id": "dress-sympathy",
   "metadata": {},
   "source": [
    "# Export Model Scores"
   ]
  },
  {
   "cell_type": "code",
   "execution_count": 35,
   "id": "posted-catalog",
   "metadata": {},
   "outputs": [],
   "source": [
    "mean_scores = mean_scores.rename(f'{model_name}')"
   ]
  },
  {
   "cell_type": "code",
   "execution_count": 36,
   "id": "parliamentary-sword",
   "metadata": {},
   "outputs": [],
   "source": [
    "mean_scores[[2,3,4]] = mean_scores[[2,3,4]].apply(abs)"
   ]
  },
  {
   "cell_type": "code",
   "execution_count": 37,
   "id": "directed-ridge",
   "metadata": {},
   "outputs": [],
   "source": [
    "# mean_scores"
   ]
  },
  {
   "cell_type": "code",
   "execution_count": 38,
   "id": "cloudy-vulnerability",
   "metadata": {},
   "outputs": [],
   "source": [
    "mean_scores = mean_scores.rename({\n",
    "    'fit_time':'Fit Time',\n",
    "    'score_time':'Score Time',\n",
    "    'test_neg_mean_absolute_error':'MAE',\n",
    "    'test_neg_mean_squared_error':'MSE',\n",
    "    'test_neg_root_mean_squared_error':'RMSE'\n",
    "})"
   ]
  },
  {
   "cell_type": "code",
   "execution_count": 39,
   "id": "naked-senate",
   "metadata": {},
   "outputs": [
    {
     "data": {
      "text/plain": [
       "Fit Time       2.062050\n",
       "Score Time     0.013236\n",
       "MAE            2.786287\n",
       "MSE           15.255789\n",
       "RMSE           3.886246\n",
       "Name: rf-wo, dtype: float64"
      ]
     },
     "execution_count": 39,
     "metadata": {},
     "output_type": "execute_result"
    }
   ],
   "source": [
    "mean_scores"
   ]
  },
  {
   "cell_type": "code",
   "execution_count": 40,
   "id": "stone-combining",
   "metadata": {},
   "outputs": [],
   "source": [
    "mean_scores['STD FT'] = scores.fit_time.std()\n",
    "mean_scores['STD ST'] = scores.score_time.std()\n",
    "mean_scores['STD MAE'] = scores.test_neg_mean_absolute_error.std()\n",
    "mean_scores['STD MSE'] = scores.test_neg_mean_squared_error.std()\n",
    "mean_scores['STD RMSE'] = scores.test_neg_root_mean_squared_error.std()"
   ]
  },
  {
   "cell_type": "code",
   "execution_count": 41,
   "id": "virtual-illustration",
   "metadata": {},
   "outputs": [
    {
     "data": {
      "text/plain": [
       "Fit Time       2.062050\n",
       "Score Time     0.013236\n",
       "MAE            2.786287\n",
       "MSE           15.255789\n",
       "RMSE           3.886246\n",
       "STD FT         0.097159\n",
       "STD ST         0.001207\n",
       "STD MAE        0.273879\n",
       "STD MSE        3.439120\n",
       "STD RMSE       0.412150\n",
       "Name: rf-wo, dtype: float64"
      ]
     },
     "execution_count": 41,
     "metadata": {},
     "output_type": "execute_result"
    }
   ],
   "source": [
    "mean_scores"
   ]
  },
  {
   "cell_type": "code",
   "execution_count": 42,
   "id": "altered-shareware",
   "metadata": {},
   "outputs": [],
   "source": [
    "mean_scores.to_csv(f'./scores/{model_name}.csv')"
   ]
  },
  {
   "cell_type": "markdown",
   "id": "secondary-queue",
   "metadata": {},
   "source": [
    "# Holdout Test"
   ]
  },
  {
   "cell_type": "code",
   "execution_count": 43,
   "id": "every-smart",
   "metadata": {},
   "outputs": [
    {
     "data": {
      "text/plain": [
       "RandomForestRegressor(warm_start=True)"
      ]
     },
     "execution_count": 43,
     "metadata": {},
     "output_type": "execute_result"
    }
   ],
   "source": [
    "score_model.fit(X_train,y_train)"
   ]
  },
  {
   "cell_type": "code",
   "execution_count": 44,
   "id": "desperate-bristol",
   "metadata": {},
   "outputs": [],
   "source": [
    "y_holdout = score_model.predict(X_test)"
   ]
  },
  {
   "cell_type": "code",
   "execution_count": 45,
   "id": "static-banner",
   "metadata": {},
   "outputs": [
    {
     "data": {
      "text/plain": [
       "<AxesSubplot:ylabel='Count'>"
      ]
     },
     "execution_count": 45,
     "metadata": {},
     "output_type": "execute_result"
    },
    {
     "data": {
      "image/png": "[encoded data removed]",
      "text/plain": [
       "<Figure size 432x288 with 1 Axes>"
      ]
     },
     "metadata": {
      "needs_background": "light"
     },
     "output_type": "display_data"
    }
   ],
   "source": [
    "sns.histplot(y_holdout,bins=40,kde=True)"
   ]
  },
  {
   "cell_type": "code",
   "execution_count": 46,
   "id": "fiscal-chinese",
   "metadata": {},
   "outputs": [
    {
     "data": {
      "text/plain": [
       "<matplotlib.legend.Legend at 0x7f977f611b80>"
      ]
     },
     "execution_count": 46,
     "metadata": {},
     "output_type": "execute_result"
    },
    {
     "data": {
      "image/png": "[encoded data removed]",
      "text/plain": [
       "<Figure size 432x288 with 1 Axes>"
      ]
     },
     "metadata": {
      "needs_background": "light"
     },
     "output_type": "display_data"
    }
   ],
   "source": [
    "fig,ax = plt.subplots()\n",
    "\n",
    "sns.kdeplot(y_test, ax=ax, shade=True, label='Observations')\n",
    "sns.kdeplot(y_holdout, ax=ax,shade=True,label='Predictions')\n",
    "\n",
    "ax.legend(loc='best')"
   ]
  },
  {
   "cell_type": "code",
   "execution_count": 47,
   "id": "political-penny",
   "metadata": {},
   "outputs": [
    {
     "data": {
      "text/plain": [
       "<matplotlib.legend.Legend at 0x7f977f785f40>"
      ]
     },
     "execution_count": 47,
     "metadata": {},
     "output_type": "execute_result"
    },
    {
     "data": {
      "image/png": "[encoded data removed]",
      "text/plain": [
       "<Figure size 432x288 with 1 Axes>"
      ]
     },
     "metadata": {
      "needs_background": "light"
     },
     "output_type": "display_data"
    }
   ],
   "source": [
    "fig,ax = plt.subplots()\n",
    "\n",
    "sns.ecdfplot(y_test, ax=ax, label='Observations')\n",
    "sns.ecdfplot(y_holdout, ax=ax,label='Predictions')\n",
    "plt.axvline(x=y_test.mean(),color='grey',linestyle='--')\n",
    "\n",
    "ax.legend(loc='best')"
   ]
  },
  {
   "cell_type": "code",
   "execution_count": 48,
   "id": "available-makeup",
   "metadata": {},
   "outputs": [],
   "source": [
    "from sklearn.metrics import mean_absolute_error, mean_squared_error\n",
    "\n",
    "mae = mean_absolute_error(y_test,y_holdout)\n",
    "mse = mean_squared_error(y_test,y_holdout)\n",
    "rmse = np.sqrt(mse)"
   ]
  },
  {
   "cell_type": "code",
   "execution_count": 49,
   "id": "disturbed-ottawa",
   "metadata": {},
   "outputs": [
    {
     "data": {
      "text/html": [
       "<div>\n",
       "<style scoped>\n",
       "    .dataframe tbody tr th:only-of-type {\n",
       "        vertical-align: middle;\n",
       "    }\n",
       "\n",
       "    .dataframe tbody tr th {\n",
       "        vertical-align: top;\n",
       "    }\n",
       "\n",
       "    .dataframe thead th {\n",
       "        text-align: right;\n",
       "    }\n",
       "</style>\n",
       "<table border=\"1\" class=\"dataframe\">\n",
       "  <thead>\n",
       "    <tr style=\"text-align: right;\">\n",
       "      <th></th>\n",
       "      <th>rf-wo</th>\n",
       "    </tr>\n",
       "  </thead>\n",
       "  <tbody>\n",
       "    <tr>\n",
       "      <th>MAE</th>\n",
       "      <td>2.916196</td>\n",
       "    </tr>\n",
       "    <tr>\n",
       "      <th>MSE</th>\n",
       "      <td>17.102741</td>\n",
       "    </tr>\n",
       "    <tr>\n",
       "      <th>RMSE</th>\n",
       "      <td>4.135546</td>\n",
       "    </tr>\n",
       "  </tbody>\n",
       "</table>\n",
       "</div>"
      ],
      "text/plain": [
       "          rf-wo\n",
       "MAE    2.916196\n",
       "MSE   17.102741\n",
       "RMSE   4.135546"
      ]
     },
     "execution_count": 49,
     "metadata": {},
     "output_type": "execute_result"
    }
   ],
   "source": [
    "err_df = pd.DataFrame(data=[mae, mse, rmse],index=['MAE','MSE','RMSE'],columns=[f'{model_name}'])\n",
    "err_df"
   ]
  },
  {
   "cell_type": "code",
   "execution_count": 50,
   "id": "established-strengthening",
   "metadata": {},
   "outputs": [],
   "source": [
    "err_df.to_csv(f'./holdout-test/{model_name}.csv')\n",
    "# mean_scores.to_csv(f'./opt-model-err/{model_name}-err.csv')"
   ]
  },
  {
   "cell_type": "code",
   "execution_count": 51,
   "id": "little-planet",
   "metadata": {},
   "outputs": [
    {
     "data": {
      "text/plain": [
       "mean     0.260167\n",
       "std      4.136986\n",
       "min    -14.001568\n",
       "25%     -1.568287\n",
       "50%      0.347095\n",
       "75%      2.335620\n",
       "max     20.022826\n",
       "Name: throughput, dtype: float64"
      ]
     },
     "execution_count": 51,
     "metadata": {},
     "output_type": "execute_result"
    }
   ],
   "source": [
    "res = y_test - y_holdout\n",
    "res.describe().drop('count')"
   ]
  },
  {
   "cell_type": "code",
   "execution_count": 52,
   "id": "temporal-factory",
   "metadata": {},
   "outputs": [
    {
     "data": {
      "text/plain": [
       "<AxesSubplot:xlabel='throughput', ylabel='Count'>"
      ]
     },
     "execution_count": 52,
     "metadata": {},
     "output_type": "execute_result"
    },
    {
     "data": {
      "image/png": "[encoded data removed]",
      "text/plain": [
       "<Figure size 432x288 with 1 Axes>"
      ]
     },
     "metadata": {
      "needs_background": "light"
     },
     "output_type": "display_data"
    }
   ],
   "source": [
    "sns.histplot(data=res, kde=True,bins=40)"
   ]
  },
  {
   "cell_type": "code",
   "execution_count": 53,
   "id": "accepted-european",
   "metadata": {},
   "outputs": [
    {
     "data": {
      "text/plain": [
       "<matplotlib.lines.Line2D at 0x7f977fa037f0>"
      ]
     },
     "execution_count": 53,
     "metadata": {},
     "output_type": "execute_result"
    },
    {
     "data": {
      "image/png": "[encoded data removed]",
      "text/plain": [
       "<Figure size 432x288 with 1 Axes>"
      ]
     },
     "metadata": {
      "needs_background": "light"
     },
     "output_type": "display_data"
    }
   ],
   "source": [
    "ax = sns.scatterplot(x=y_test, y=res)\n",
    "ax.set(ylabel='Residuals', xlabel='Test Label')\n",
    "plt.axhline(y=0,color='red',linestyle='--')\n",
    "\n",
    "# there should be no clear pattern / curve in the plot\n",
    "# we see a positive correlation between Test Label and Residuals -> later models should avoid this pattern"
   ]
  },
  {
   "cell_type": "code",
   "execution_count": 54,
   "id": "olympic-tyler",
   "metadata": {},
   "outputs": [
    {
     "data": {
      "image/png": "[encoded data removed]",
      "text/plain": [
       "<Figure size 432x288 with 1 Axes>"
      ]
     },
     "metadata": {
      "needs_background": "light"
     },
     "output_type": "display_data"
    }
   ],
   "source": [
    "import scipy as sp\n",
    "\n",
    "fig, ax = plt.subplots()\n",
    "sp.stats.probplot(res,plot=ax);"
   ]
  },
  {
   "cell_type": "markdown",
   "id": "passing-isolation",
   "metadata": {},
   "source": [
    "# Export Optimized Model"
   ]
  },
  {
   "cell_type": "code",
   "execution_count": 55,
   "id": "vulnerable-warrior",
   "metadata": {},
   "outputs": [
    {
     "data": {
      "text/plain": [
       "RobustScaler()"
      ]
     },
     "execution_count": 55,
     "metadata": {},
     "output_type": "execute_result"
    }
   ],
   "source": [
    "from sklearn.preprocessing import RobustScaler\n",
    "scaler = RobustScaler()\n",
    "scaler.fit(X)"
   ]
  },
  {
   "cell_type": "code",
   "execution_count": 56,
   "id": "sharing-sauce",
   "metadata": {},
   "outputs": [
    {
     "name": "stderr",
     "output_type": "stream",
     "text": [
      "/Users/aceituno/opt/anaconda3/envs/sml/lib/python3.8/site-packages/sklearn/ensemble/_forest.py:368: UserWarning: Warm-start fitting without increasing n_estimators does not fit new trees.\n",
      "  warn(\"Warm-start fitting without increasing n_estimators does not \"\n"
     ]
    },
    {
     "data": {
      "text/plain": [
       "RandomForestRegressor(warm_start=True)"
      ]
     },
     "execution_count": 56,
     "metadata": {},
     "output_type": "execute_result"
    }
   ],
   "source": [
    "# MODIFY! \n",
    "X = scaler.transform(X)\n",
    "\n",
    "op_model = score_model\n",
    "\n",
    "op_model.fit(X,y)"
   ]
  },
  {
   "cell_type": "code",
   "execution_count": 57,
   "id": "personal-venezuela",
   "metadata": {},
   "outputs": [],
   "source": [
    "y_pred = op_model.predict(X)"
   ]
  },
  {
   "cell_type": "code",
   "execution_count": 58,
   "id": "bottom-breakdown",
   "metadata": {},
   "outputs": [
    {
     "data": {
      "text/plain": [
       "<AxesSubplot:ylabel='Count'>"
      ]
     },
     "execution_count": 58,
     "metadata": {},
     "output_type": "execute_result"
    },
    {
     "data": {
      "image/png": "[encoded data removed]",
      "text/plain": [
       "<Figure size 432x288 with 1 Axes>"
      ]
     },
     "metadata": {
      "needs_background": "light"
     },
     "output_type": "display_data"
    }
   ],
   "source": [
    "sns.histplot(y_pred,bins=40,kde=True)"
   ]
  },
  {
   "cell_type": "code",
   "execution_count": 59,
   "id": "stopped-graduate",
   "metadata": {},
   "outputs": [
    {
     "data": {
      "text/plain": [
       "<matplotlib.legend.Legend at 0x7f977ffe5520>"
      ]
     },
     "execution_count": 59,
     "metadata": {},
     "output_type": "execute_result"
    },
    {
     "data": {
      "image/png": "[encoded data removed]",
      "text/plain": [
       "<Figure size 432x288 with 1 Axes>"
      ]
     },
     "metadata": {
      "needs_background": "light"
     },
     "output_type": "display_data"
    }
   ],
   "source": [
    "fig,ax = plt.subplots()\n",
    "\n",
    "sns.kdeplot(y, ax=ax, shade=True, label='Observations')\n",
    "sns.kdeplot(y_pred, ax=ax,shade=True,label='Predictions')\n",
    "\n",
    "ax.legend(loc='best')"
   ]
  },
  {
   "cell_type": "code",
   "execution_count": 60,
   "id": "irish-projector",
   "metadata": {},
   "outputs": [
    {
     "data": {
      "text/plain": [
       "<matplotlib.legend.Legend at 0x7f977ffc4f10>"
      ]
     },
     "execution_count": 60,
     "metadata": {},
     "output_type": "execute_result"
    },
    {
     "data": {
      "image/png": "[encoded data removed]",
      "text/plain": [
       "<Figure size 432x288 with 1 Axes>"
      ]
     },
     "metadata": {
      "needs_background": "light"
     },
     "output_type": "display_data"
    }
   ],
   "source": [
    "fig,ax = plt.subplots()\n",
    "\n",
    "sns.ecdfplot(y, ax=ax, label='Observations')\n",
    "sns.ecdfplot(y_pred, ax=ax,label='Predictions')\n",
    "plt.axvline(x=y.mean(),color='grey',linestyle='--')\n",
    "\n",
    "ax.legend(loc='best')"
   ]
  },
  {
   "cell_type": "code",
   "execution_count": 61,
   "id": "pleased-divorce",
   "metadata": {},
   "outputs": [],
   "source": [
    "mae = mean_absolute_error(y,y_pred)\n",
    "mse = mean_squared_error(y,y_pred)\n",
    "rmse = np.sqrt(mse)"
   ]
  },
  {
   "cell_type": "code",
   "execution_count": 62,
   "id": "careful-lindsay",
   "metadata": {},
   "outputs": [
    {
     "data": {
      "text/html": [
       "<div>\n",
       "<style scoped>\n",
       "    .dataframe tbody tr th:only-of-type {\n",
       "        vertical-align: middle;\n",
       "    }\n",
       "\n",
       "    .dataframe tbody tr th {\n",
       "        vertical-align: top;\n",
       "    }\n",
       "\n",
       "    .dataframe thead th {\n",
       "        text-align: right;\n",
       "    }\n",
       "</style>\n",
       "<table border=\"1\" class=\"dataframe\">\n",
       "  <thead>\n",
       "    <tr style=\"text-align: right;\">\n",
       "      <th></th>\n",
       "      <th>rf-wo</th>\n",
       "    </tr>\n",
       "  </thead>\n",
       "  <tbody>\n",
       "    <tr>\n",
       "      <th>MAE</th>\n",
       "      <td>1.470831</td>\n",
       "    </tr>\n",
       "    <tr>\n",
       "      <th>MSE</th>\n",
       "      <td>4.833599</td>\n",
       "    </tr>\n",
       "    <tr>\n",
       "      <th>RMSE</th>\n",
       "      <td>2.198545</td>\n",
       "    </tr>\n",
       "  </tbody>\n",
       "</table>\n",
       "</div>"
      ],
      "text/plain": [
       "         rf-wo\n",
       "MAE   1.470831\n",
       "MSE   4.833599\n",
       "RMSE  2.198545"
      ]
     },
     "execution_count": 62,
     "metadata": {},
     "output_type": "execute_result"
    }
   ],
   "source": [
    "err_df = pd.DataFrame(data=[mae, mse, rmse],index=['MAE','MSE','RMSE'],columns=[f'{model_name}'])\n",
    "err_df"
   ]
  },
  {
   "cell_type": "code",
   "execution_count": 63,
   "id": "equal-knitting",
   "metadata": {},
   "outputs": [],
   "source": [
    "err_df.to_csv(f'./model-err/{model_name}.csv')\n",
    "# mean_scores.to_csv(f'./opt-model-err/{model_name}-err.csv')"
   ]
  },
  {
   "cell_type": "code",
   "execution_count": 64,
   "id": "defensive-instrument",
   "metadata": {},
   "outputs": [
    {
     "data": {
      "text/plain": [
       "['./opt-models/rf-wo.joblib']"
      ]
     },
     "execution_count": 64,
     "metadata": {},
     "output_type": "execute_result"
    }
   ],
   "source": [
    "from joblib import dump, load\n",
    "dump(op_model, f'./opt-models/{model_name}.joblib')"
   ]
  },
  {
   "cell_type": "code",
   "execution_count": 65,
   "id": "vietnamese-belly",
   "metadata": {},
   "outputs": [
    {
     "data": {
      "text/plain": [
       "mean    -0.051809\n",
       "std      2.198447\n",
       "min    -13.568784\n",
       "25%     -0.953671\n",
       "50%      0.005557\n",
       "75%      0.972635\n",
       "max     19.880943\n",
       "Name: throughput, dtype: float64"
      ]
     },
     "execution_count": 65,
     "metadata": {},
     "output_type": "execute_result"
    }
   ],
   "source": [
    "res = y - y_pred\n",
    "res.describe().drop('count')"
   ]
  },
  {
   "cell_type": "code",
   "execution_count": 66,
   "id": "above-bronze",
   "metadata": {},
   "outputs": [
    {
     "data": {
      "text/plain": [
       "<AxesSubplot:xlabel='throughput', ylabel='Count'>"
      ]
     },
     "execution_count": 66,
     "metadata": {},
     "output_type": "execute_result"
    },
    {
     "data": {
      "image/png": "[encoded data removed]",
      "text/plain": [
       "<Figure size 432x288 with 1 Axes>"
      ]
     },
     "metadata": {
      "needs_background": "light"
     },
     "output_type": "display_data"
    }
   ],
   "source": [
    "sns.histplot(data=res, kde=True,bins=40)"
   ]
  },
  {
   "cell_type": "code",
   "execution_count": 67,
   "id": "changing-parish",
   "metadata": {},
   "outputs": [
    {
     "data": {
      "text/plain": [
       "<matplotlib.lines.Line2D at 0x7f978047dfd0>"
      ]
     },
     "execution_count": 67,
     "metadata": {},
     "output_type": "execute_result"
    },
    {
     "data": {
      "image/png": "[encoded data removed]",
      "text/plain": [
       "<Figure size 432x288 with 1 Axes>"
      ]
     },
     "metadata": {
      "needs_background": "light"
     },
     "output_type": "display_data"
    }
   ],
   "source": [
    "ax = sns.scatterplot(x=y_test, y=res)\n",
    "ax.set(ylabel='Residuals', xlabel='Test Label')\n",
    "plt.axhline(y=0,color='red',linestyle='--')\n",
    "\n",
    "# there should be no clear pattern / curve in the plot\n",
    "# we see a positive correlation between Test Label and Residuals -> later models should avoid this pattern"
   ]
  },
  {
   "cell_type": "code",
   "execution_count": 68,
   "id": "adverse-composite",
   "metadata": {},
   "outputs": [
    {
     "data": {
      "image/png": "[encoded data removed]",
      "text/plain": [
       "<Figure size 432x288 with 1 Axes>"
      ]
     },
     "metadata": {
      "needs_background": "light"
     },
     "output_type": "display_data"
    }
   ],
   "source": [
    "import scipy as sp\n",
    "\n",
    "fig, ax = plt.subplots()\n",
    "sp.stats.probplot(res,plot=ax);"
   ]
  },
  {
   "cell_type": "markdown",
   "id": "imposed-console",
   "metadata": {},
   "source": [
    "DONE!"
   ]
  },
  {
   "cell_type": "code",
   "execution_count": null,
   "id": "incorporated-poverty",
   "metadata": {},
   "outputs": [],
   "source": []
  }
 ],
 "metadata": {
  "kernelspec": {
   "display_name": "Python 3",
   "language": "python",
   "name": "python3"
  },
  "language_info": {
   "codemirror_mode": {
    "name": "ipython",
    "version": 3
   },
   "file_extension": ".py",
   "mimetype": "text/x-python",
   "name": "python",
   "nbconvert_exporter": "python",
   "pygments_lexer": "ipython3",
   "version": "3.8.6"
  }
 },
 "nbformat": 4,
 "nbformat_minor": 5
}
