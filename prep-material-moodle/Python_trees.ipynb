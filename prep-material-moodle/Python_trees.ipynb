{
 "cells": [
  {
   "cell_type": "markdown",
   "metadata": {},
   "source": [
    "# Entscheidungsbäume\n",
    "\n",
    "Entscheidungsbäume sind von zwei Haupttypen:\n",
    "\n",
    "-  Klassifikationsbäume: Vorhersage einer diskreten Klasse zu der die Daten gehören\n",
    "-  Regressionsbäume: Vorhersage einer realen Zahl (z.B. die Lieferzeit).\n",
    "\n",
    "Die CART-Analyse (CART = Classification And Regression Tree) ist ein Oberbegriff für die beiden oben genannten Verfahren, da die Verfahren einige Ähnlichkeiten aufweisen. Eine Alternative zur Anpassung eines einzelnen Baumes ist die Kombination mehrerer verschiedener Entscheidungsbäume. Diese Methoden werden Ensemble-Methoden genannt. Diese kombinierten Modelle führen zu einer höheren Vorhersagequalität, sind aber schwieriger zu interpretieren. Zwei Ansätze zur Kombination mehrerer Bäume sind bagging und boosting. "
   ]
  },
  {
   "cell_type": "code",
   "execution_count": 8,
   "metadata": {},
   "outputs": [],
   "source": [
    "# Importieren der Pakete\n",
    "import pandas as pd\n",
    "import numpy as np\n",
    "import sklearn\n",
    "\n",
    "from sklearn.model_selection import train_test_split\n",
    "from sklearn.tree import DecisionTreeClassifier\n",
    "from sklearn.tree import DecisionTreeRegressor\n",
    "from sklearn import tree\n",
    "\n",
    "import pip\n",
    "#pip.main(['install', 'xgboost']) # Installation von Paketen, die nicht bereits installiert sind\n",
    "# Für die Installation müssen sie einmalig das # vor dem pip.main entfernen\n",
    "import xgboost as xgb # Danach kann man es dann importierne\n",
    "from sklearn.metrics import mean_squared_error\n",
    "\n",
    "# Setzen eines seeds für die folgenden Methoden (Reproduzierbarkeit)\n",
    "np.random.seed(11)"
   ]
  },
  {
   "cell_type": "markdown",
   "metadata": {},
   "source": [
    "## Regressionsbäume"
   ]
  },
  {
   "cell_type": "code",
   "execution_count": 9,
   "metadata": {},
   "outputs": [
    {
     "name": "stdout",
     "output_type": "stream",
     "text": [
      "(398, 9)\n"
     ]
    },
    {
     "data": {
      "text/html": [
       "<div>\n",
       "<style scoped>\n",
       "    .dataframe tbody tr th:only-of-type {\n",
       "        vertical-align: middle;\n",
       "    }\n",
       "\n",
       "    .dataframe tbody tr th {\n",
       "        vertical-align: top;\n",
       "    }\n",
       "\n",
       "    .dataframe thead th {\n",
       "        text-align: right;\n",
       "    }\n",
       "</style>\n",
       "<table border=\"1\" class=\"dataframe\">\n",
       "  <thead>\n",
       "    <tr style=\"text-align: right;\">\n",
       "      <th></th>\n",
       "      <th>mpg</th>\n",
       "      <th>cylinders</th>\n",
       "      <th>displacement</th>\n",
       "      <th>horsepower</th>\n",
       "      <th>weight</th>\n",
       "      <th>acceleration</th>\n",
       "      <th>model year</th>\n",
       "      <th>origin</th>\n",
       "      <th>car name</th>\n",
       "    </tr>\n",
       "  </thead>\n",
       "  <tbody>\n",
       "    <tr>\n",
       "      <th>0</th>\n",
       "      <td>18.0</td>\n",
       "      <td>8</td>\n",
       "      <td>307.0</td>\n",
       "      <td>130</td>\n",
       "      <td>3504</td>\n",
       "      <td>12.0</td>\n",
       "      <td>70</td>\n",
       "      <td>1</td>\n",
       "      <td>chevrolet chevelle malibu</td>\n",
       "    </tr>\n",
       "    <tr>\n",
       "      <th>1</th>\n",
       "      <td>15.0</td>\n",
       "      <td>8</td>\n",
       "      <td>350.0</td>\n",
       "      <td>165</td>\n",
       "      <td>3693</td>\n",
       "      <td>11.5</td>\n",
       "      <td>70</td>\n",
       "      <td>1</td>\n",
       "      <td>buick skylark 320</td>\n",
       "    </tr>\n",
       "    <tr>\n",
       "      <th>2</th>\n",
       "      <td>18.0</td>\n",
       "      <td>8</td>\n",
       "      <td>318.0</td>\n",
       "      <td>150</td>\n",
       "      <td>3436</td>\n",
       "      <td>11.0</td>\n",
       "      <td>70</td>\n",
       "      <td>1</td>\n",
       "      <td>plymouth satellite</td>\n",
       "    </tr>\n",
       "    <tr>\n",
       "      <th>3</th>\n",
       "      <td>16.0</td>\n",
       "      <td>8</td>\n",
       "      <td>304.0</td>\n",
       "      <td>150</td>\n",
       "      <td>3433</td>\n",
       "      <td>12.0</td>\n",
       "      <td>70</td>\n",
       "      <td>1</td>\n",
       "      <td>amc rebel sst</td>\n",
       "    </tr>\n",
       "    <tr>\n",
       "      <th>4</th>\n",
       "      <td>17.0</td>\n",
       "      <td>8</td>\n",
       "      <td>302.0</td>\n",
       "      <td>140</td>\n",
       "      <td>3449</td>\n",
       "      <td>10.5</td>\n",
       "      <td>70</td>\n",
       "      <td>1</td>\n",
       "      <td>ford torino</td>\n",
       "    </tr>\n",
       "  </tbody>\n",
       "</table>\n",
       "</div>"
      ],
      "text/plain": [
       "    mpg  cylinders  displacement horsepower  weight  acceleration  model year  \\\n",
       "0  18.0          8         307.0        130    3504          12.0          70   \n",
       "1  15.0          8         350.0        165    3693          11.5          70   \n",
       "2  18.0          8         318.0        150    3436          11.0          70   \n",
       "3  16.0          8         304.0        150    3433          12.0          70   \n",
       "4  17.0          8         302.0        140    3449          10.5          70   \n",
       "\n",
       "   origin                   car name  \n",
       "0       1  chevrolet chevelle malibu  \n",
       "1       1          buick skylark 320  \n",
       "2       1         plymouth satellite  \n",
       "3       1              amc rebel sst  \n",
       "4       1                ford torino  "
      ]
     },
     "execution_count": 9,
     "metadata": {},
     "output_type": "execute_result"
    }
   ],
   "source": [
    "# Laden des Datensatzs\n",
    "auto = pd.read_csv(r\"C:\\Users\\dormuth\\Desktop\\MSIND\\02_Lehre\\2021WiSe_Statistics_meets_Logistics\\02_Übung\\auto.csv\")\n",
    "print(auto.shape)\n",
    "auto.head() # Der letzte Befehl in einem Jupyter Notebook muss nicht explizit geprintet werden um angezeigt zu werden\n"
   ]
  },
  {
   "cell_type": "code",
   "execution_count": 10,
   "metadata": {},
   "outputs": [
    {
     "name": "stdout",
     "output_type": "stream",
     "text": [
      "object\n"
     ]
    },
    {
     "data": {
      "text/plain": [
       "(392, 9)"
      ]
     },
     "execution_count": 10,
     "metadata": {},
     "output_type": "execute_result"
    }
   ],
   "source": [
    "#mpg = Miles per gallon\n",
    "\n",
    "auto = auto[auto.horsepower != '?'] #Entfernen der Zeilen mit fehlenden Werten, hier als ? codiert\n",
    "print(auto.horsepower.dtype)\n",
    "\n",
    "auto.horsepower = auto.horsepower.astype(\"int\")\n",
    "auto.shape"
   ]
  },
  {
   "cell_type": "code",
   "execution_count": 11,
   "metadata": {},
   "outputs": [],
   "source": [
    "# Definieren von X und y\n",
    "X = auto.drop(['mpg', 'car name'], axis=1) # Alle anderen Spalten ausser mpg und car name\n",
    "# Regressionsbaeume funktionieren nicht mit kategoriellen Variablen dieser Art (car name), \n",
    "# entweder man muss sie codieren oder lässt sie außenvor\n",
    "Y = auto['mpg']\n",
    "\n",
    "\n",
    "# Aufteilen der Daten so, dass zufaellig 20% der Daten fuer die Testdaten zurück gelegt werden\n",
    "X_train,X_test,Y_train,Y_test=train_test_split(X,Y,test_size=0.2, random_state = 123) "
   ]
  },
  {
   "cell_type": "code",
   "execution_count": 12,
   "metadata": {},
   "outputs": [],
   "source": [
    "# Zwei Regressoren mit verschiedener Tiefe\n",
    "regr_1 = DecisionTreeRegressor(max_depth = 2)\n",
    "regr_2 = DecisionTreeRegressor(max_depth = 5)\n",
    "\n",
    "# Die Modelle anpassen\n",
    "reg1 = regr_1.fit(X_train, Y_train)\n",
    "reg2 = regr_2.fit(X_train, Y_train)\n"
   ]
  },
  {
   "cell_type": "code",
   "execution_count": 13,
   "metadata": {},
   "outputs": [
    {
     "data": {
      "text/plain": [
       "[Text(167.4, 181.2, 'displacement <= 185.5\\nmse = 60.74\\nsamples = 313\\nvalue = 23.622'),\n",
       " Text(83.7, 108.72, 'horsepower <= 70.5\\nmse = 32.594\\nsamples = 178\\nvalue = 28.983'),\n",
       " Text(41.85, 36.23999999999998, 'mse = 25.407\\nsamples = 61\\nvalue = 33.479'),\n",
       " Text(125.55000000000001, 36.23999999999998, 'mse = 20.311\\nsamples = 117\\nvalue = 26.639'),\n",
       " Text(251.10000000000002, 108.72, 'horsepower <= 127.0\\nmse = 9.998\\nsamples = 135\\nvalue = 16.554'),\n",
       " Text(209.25, 36.23999999999998, 'mse = 5.341\\nsamples = 61\\nvalue = 19.034'),\n",
       " Text(292.95, 36.23999999999998, 'mse = 4.585\\nsamples = 74\\nvalue = 14.509')]"
      ]
     },
     "execution_count": 13,
     "metadata": {},
     "output_type": "execute_result"
    },
    {
     "data": {
      "image/png": "[encoded data removed]",
      "text/plain": [
       "<Figure size 432x288 with 1 Axes>"
      ]
     },
     "metadata": {
      "needs_background": "light"
     },
     "output_type": "display_data"
    }
   ],
   "source": [
    "# Den Baum graphisch darstellen\n",
    "tree.plot_tree(reg1, feature_names=X_train.columns,\n",
    "                   filled=True)"
   ]
  },
  {
   "cell_type": "code",
   "execution_count": 14,
   "metadata": {},
   "outputs": [],
   "source": [
    "# Die Bäume zur eigentlichen Vorhersage verwenden\n",
    "pred1 = regr_1.predict(X_test)\n",
    "pred2 = regr_2.predict(X_test)"
   ]
  },
  {
   "cell_type": "code",
   "execution_count": 15,
   "metadata": {},
   "outputs": [
    {
     "name": "stdout",
     "output_type": "stream",
     "text": [
      "MSE: 22.697284\n"
     ]
    }
   ],
   "source": [
    "# Bestimmen Sie den MSE\n",
    "mse1 = mean_squared_error(Y_test, pred1)\n",
    "print(\"MSE: %f\" % (mse1))"
   ]
  },
  {
   "cell_type": "code",
   "execution_count": 16,
   "metadata": {},
   "outputs": [
    {
     "name": "stdout",
     "output_type": "stream",
     "text": [
      "MSE: 11.294982\n"
     ]
    }
   ],
   "source": [
    "mse2 = mean_squared_error(Y_test, pred2)\n",
    "print(\"MSE: %f\" % (mse2))"
   ]
  },
  {
   "cell_type": "markdown",
   "metadata": {},
   "source": [
    "Der Datensatz stammt von https://archive.ics.uci.edu/ml/datasets/Auto+MPG"
   ]
  },
  {
   "cell_type": "markdown",
   "metadata": {},
   "source": [
    "------------\n",
    "## Aufgabe\n",
    "\n",
    "Passen sie einen Baum der Tiefe 7 an. Verbessert sich die Vorhersage? Wählen sie zufällig eine Beobachtung aus dem Testdatensatz aus und sagen sie die mpg mittels jedes der 3 Modelle vorher. Wie unterscheiden sich die Vorhersagen der 3 Modelle?"
   ]
  },
  {
   "cell_type": "code",
   "execution_count": 17,
   "metadata": {},
   "outputs": [],
   "source": [
    "# Hier kann Ihre Lösung stehen"
   ]
  },
  {
   "cell_type": "markdown",
   "metadata": {},
   "source": [
    "--------\n",
    "## Klassifikationsbäume"
   ]
  },
  {
   "cell_type": "code",
   "execution_count": 18,
   "metadata": {},
   "outputs": [
    {
     "name": "stdout",
     "output_type": "stream",
     "text": [
      "(178, 14)\n"
     ]
    },
    {
     "data": {
      "text/html": [
       "<div>\n",
       "<style scoped>\n",
       "    .dataframe tbody tr th:only-of-type {\n",
       "        vertical-align: middle;\n",
       "    }\n",
       "\n",
       "    .dataframe tbody tr th {\n",
       "        vertical-align: top;\n",
       "    }\n",
       "\n",
       "    .dataframe thead th {\n",
       "        text-align: right;\n",
       "    }\n",
       "</style>\n",
       "<table border=\"1\" class=\"dataframe\">\n",
       "  <thead>\n",
       "    <tr style=\"text-align: right;\">\n",
       "      <th></th>\n",
       "      <th>Wine</th>\n",
       "      <th>Alcohol</th>\n",
       "      <th>Malic.acid</th>\n",
       "      <th>Ash</th>\n",
       "      <th>Acl</th>\n",
       "      <th>Mg</th>\n",
       "      <th>Phenols</th>\n",
       "      <th>Flavanoids</th>\n",
       "      <th>Nonflavanoid.phenols</th>\n",
       "      <th>Proanth</th>\n",
       "      <th>Color.int</th>\n",
       "      <th>Hue</th>\n",
       "      <th>OD</th>\n",
       "      <th>Proline</th>\n",
       "    </tr>\n",
       "  </thead>\n",
       "  <tbody>\n",
       "    <tr>\n",
       "      <th>0</th>\n",
       "      <td>1</td>\n",
       "      <td>14.23</td>\n",
       "      <td>1.71</td>\n",
       "      <td>2.43</td>\n",
       "      <td>15.6</td>\n",
       "      <td>127</td>\n",
       "      <td>2.80</td>\n",
       "      <td>3.06</td>\n",
       "      <td>0.28</td>\n",
       "      <td>2.29</td>\n",
       "      <td>5.64</td>\n",
       "      <td>1.04</td>\n",
       "      <td>3.92</td>\n",
       "      <td>1065</td>\n",
       "    </tr>\n",
       "    <tr>\n",
       "      <th>1</th>\n",
       "      <td>1</td>\n",
       "      <td>13.20</td>\n",
       "      <td>1.78</td>\n",
       "      <td>2.14</td>\n",
       "      <td>11.2</td>\n",
       "      <td>100</td>\n",
       "      <td>2.65</td>\n",
       "      <td>2.76</td>\n",
       "      <td>0.26</td>\n",
       "      <td>1.28</td>\n",
       "      <td>4.38</td>\n",
       "      <td>1.05</td>\n",
       "      <td>3.40</td>\n",
       "      <td>1050</td>\n",
       "    </tr>\n",
       "    <tr>\n",
       "      <th>2</th>\n",
       "      <td>1</td>\n",
       "      <td>13.16</td>\n",
       "      <td>2.36</td>\n",
       "      <td>2.67</td>\n",
       "      <td>18.6</td>\n",
       "      <td>101</td>\n",
       "      <td>2.80</td>\n",
       "      <td>3.24</td>\n",
       "      <td>0.30</td>\n",
       "      <td>2.81</td>\n",
       "      <td>5.68</td>\n",
       "      <td>1.03</td>\n",
       "      <td>3.17</td>\n",
       "      <td>1185</td>\n",
       "    </tr>\n",
       "    <tr>\n",
       "      <th>3</th>\n",
       "      <td>1</td>\n",
       "      <td>14.37</td>\n",
       "      <td>1.95</td>\n",
       "      <td>2.50</td>\n",
       "      <td>16.8</td>\n",
       "      <td>113</td>\n",
       "      <td>3.85</td>\n",
       "      <td>3.49</td>\n",
       "      <td>0.24</td>\n",
       "      <td>2.18</td>\n",
       "      <td>7.80</td>\n",
       "      <td>0.86</td>\n",
       "      <td>3.45</td>\n",
       "      <td>1480</td>\n",
       "    </tr>\n",
       "    <tr>\n",
       "      <th>4</th>\n",
       "      <td>1</td>\n",
       "      <td>13.24</td>\n",
       "      <td>2.59</td>\n",
       "      <td>2.87</td>\n",
       "      <td>21.0</td>\n",
       "      <td>118</td>\n",
       "      <td>2.80</td>\n",
       "      <td>2.69</td>\n",
       "      <td>0.39</td>\n",
       "      <td>1.82</td>\n",
       "      <td>4.32</td>\n",
       "      <td>1.04</td>\n",
       "      <td>2.93</td>\n",
       "      <td>735</td>\n",
       "    </tr>\n",
       "  </tbody>\n",
       "</table>\n",
       "</div>"
      ],
      "text/plain": [
       "   Wine  Alcohol  Malic.acid   Ash   Acl   Mg  Phenols  Flavanoids  \\\n",
       "0     1    14.23        1.71  2.43  15.6  127     2.80        3.06   \n",
       "1     1    13.20        1.78  2.14  11.2  100     2.65        2.76   \n",
       "2     1    13.16        2.36  2.67  18.6  101     2.80        3.24   \n",
       "3     1    14.37        1.95  2.50  16.8  113     3.85        3.49   \n",
       "4     1    13.24        2.59  2.87  21.0  118     2.80        2.69   \n",
       "\n",
       "   Nonflavanoid.phenols  Proanth  Color.int   Hue    OD  Proline  \n",
       "0                  0.28     2.29       5.64  1.04  3.92     1065  \n",
       "1                  0.26     1.28       4.38  1.05  3.40     1050  \n",
       "2                  0.30     2.81       5.68  1.03  3.17     1185  \n",
       "3                  0.24     2.18       7.80  0.86  3.45     1480  \n",
       "4                  0.39     1.82       4.32  1.04  2.93      735  "
      ]
     },
     "execution_count": 18,
     "metadata": {},
     "output_type": "execute_result"
    }
   ],
   "source": [
    "# Laden der Daten\n",
    "wine = pd.read_csv(r\"C:\\Users\\dormuth\\Desktop\\MSIND\\02_Lehre\\2021WiSe_Statistics_meets_Logistics\\02_Übung\\wine.csv\")\n",
    "print(wine.shape)\n",
    "wine.head()\n",
    "\n",
    "# Der Datensatz stammt von https://gist.github.com/tijptjik/9408623"
   ]
  },
  {
   "cell_type": "code",
   "execution_count": 19,
   "metadata": {},
   "outputs": [],
   "source": [
    "# Definieren von X und y\n",
    "X = wine.loc[:, wine.columns != 'Wine'] # Alle anderen Spalten ausser Wine\n",
    "Y = wine['Wine']\n",
    "\n",
    "# Aufteilen der Daten so, dass zufaellig 20% der Daten fuer die Testdaten zurück gelegt werden\n",
    "X_train,X_test,Y_train,Y_test=train_test_split(X,Y,test_size=0.2, random_state = 123) "
   ]
  },
  {
   "cell_type": "code",
   "execution_count": 20,
   "metadata": {},
   "outputs": [],
   "source": [
    "# Zwei Classifier mit verschiedener Tiefe\n",
    "class_1 = DecisionTreeClassifier(max_depth = 2)\n",
    "class_2 = DecisionTreeClassifier(max_depth = 5)\n",
    "\n",
    "# Die Modelle anpassen\n",
    "clf1 = class_1.fit(X_train, Y_train)\n",
    "clf2 = class_2.fit(X_train, Y_train)"
   ]
  },
  {
   "cell_type": "code",
   "execution_count": 21,
   "metadata": {},
   "outputs": [
    {
     "data": {
      "text/plain": [
       "[Text(167.4, 181.2, 'Proline <= 755.0\\ngini = 0.645\\nsamples = 142\\nvalue = [51, 60, 31]\\nclass = Wine 2'),\n",
       " Text(83.7, 108.72, 'OD <= 2.09\\ngini = 0.462\\nsamples = 86\\nvalue = [2, 57, 27]\\nclass = Wine 2'),\n",
       " Text(41.85, 36.23999999999998, 'gini = 0.271\\nsamples = 31\\nvalue = [0, 5, 26]\\nclass = Wine 3'),\n",
       " Text(125.55000000000001, 36.23999999999998, 'gini = 0.104\\nsamples = 55\\nvalue = [2, 52, 1]\\nclass = Wine 2'),\n",
       " Text(251.10000000000002, 108.72, 'Flavanoids <= 2.165\\ngini = 0.226\\nsamples = 56\\nvalue = [49, 3, 4]\\nclass = Wine 1'),\n",
       " Text(209.25, 36.23999999999998, 'gini = 0.444\\nsamples = 6\\nvalue = [0, 2, 4]\\nclass = Wine 3'),\n",
       " Text(292.95, 36.23999999999998, 'gini = 0.039\\nsamples = 50\\nvalue = [49, 1, 0]\\nclass = Wine 1')]"
      ]
     },
     "execution_count": 21,
     "metadata": {},
     "output_type": "execute_result"
    },
    {
     "data": {
      "image/png": "[encoded data removed]",
      "text/plain": [
       "<Figure size 432x288 with 1 Axes>"
      ]
     },
     "metadata": {
      "needs_background": "light"
     },
     "output_type": "display_data"
    }
   ],
   "source": [
    "# Den Baum graphisch darstellen\n",
    "tree.plot_tree(clf1, feature_names=X_train.columns,\n",
    "                   class_names=[\"Wine 1\", \"Wine 2\", \"Wine 3\"],\n",
    "                   filled=True)"
   ]
  },
  {
   "cell_type": "code",
   "execution_count": 22,
   "metadata": {},
   "outputs": [
    {
     "data": {
      "text/plain": [
       "[Text(189.42631578947368, 199.32, 'Proline <= 755.0\\ngini = 0.645\\nsamples = 142\\nvalue = [51, 60, 31]\\nclass = Wine 2'),\n",
       " Text(114.53684210526316, 163.07999999999998, 'OD <= 2.09\\ngini = 0.462\\nsamples = 86\\nvalue = [2, 57, 27]\\nclass = Wine 2'),\n",
       " Text(70.48421052631579, 126.83999999999999, 'Malic.acid <= 1.605\\ngini = 0.271\\nsamples = 31\\nvalue = [0, 5, 26]\\nclass = Wine 3'),\n",
       " Text(35.242105263157896, 90.6, 'Nonflavanoid.phenols <= 0.245\\ngini = 0.32\\nsamples = 5\\nvalue = [0, 4, 1]\\nclass = Wine 2'),\n",
       " Text(17.621052631578948, 54.359999999999985, 'gini = 0.0\\nsamples = 1\\nvalue = [0, 0, 1]\\nclass = Wine 3'),\n",
       " Text(52.863157894736844, 54.359999999999985, 'gini = 0.0\\nsamples = 4\\nvalue = [0, 4, 0]\\nclass = Wine 2'),\n",
       " Text(105.72631578947369, 90.6, 'Flavanoids <= 1.58\\ngini = 0.074\\nsamples = 26\\nvalue = [0, 1, 25]\\nclass = Wine 3'),\n",
       " Text(88.10526315789474, 54.359999999999985, 'gini = 0.0\\nsamples = 25\\nvalue = [0, 0, 25]\\nclass = Wine 3'),\n",
       " Text(123.34736842105264, 54.359999999999985, 'gini = 0.0\\nsamples = 1\\nvalue = [0, 1, 0]\\nclass = Wine 2'),\n",
       " Text(158.58947368421053, 126.83999999999999, 'Flavanoids <= 0.745\\ngini = 0.104\\nsamples = 55\\nvalue = [2, 52, 1]\\nclass = Wine 2'),\n",
       " Text(140.96842105263158, 90.6, 'gini = 0.0\\nsamples = 1\\nvalue = [0, 0, 1]\\nclass = Wine 3'),\n",
       " Text(176.21052631578948, 90.6, 'Alcohol <= 13.175\\ngini = 0.071\\nsamples = 54\\nvalue = [2, 52, 0]\\nclass = Wine 2'),\n",
       " Text(158.58947368421053, 54.359999999999985, 'gini = 0.0\\nsamples = 49\\nvalue = [0, 49, 0]\\nclass = Wine 2'),\n",
       " Text(193.83157894736843, 54.359999999999985, 'Malic.acid <= 2.125\\ngini = 0.48\\nsamples = 5\\nvalue = [2, 3, 0]\\nclass = Wine 2'),\n",
       " Text(176.21052631578948, 18.119999999999976, 'gini = 0.0\\nsamples = 3\\nvalue = [0, 3, 0]\\nclass = Wine 2'),\n",
       " Text(211.45263157894738, 18.119999999999976, 'gini = 0.0\\nsamples = 2\\nvalue = [2, 0, 0]\\nclass = Wine 1'),\n",
       " Text(264.3157894736842, 163.07999999999998, 'Flavanoids <= 2.165\\ngini = 0.226\\nsamples = 56\\nvalue = [49, 3, 4]\\nclass = Wine 1'),\n",
       " Text(229.07368421052632, 126.83999999999999, 'Malic.acid <= 2.1\\ngini = 0.444\\nsamples = 6\\nvalue = [0, 2, 4]\\nclass = Wine 3'),\n",
       " Text(211.45263157894738, 90.6, 'gini = 0.0\\nsamples = 2\\nvalue = [0, 2, 0]\\nclass = Wine 2'),\n",
       " Text(246.69473684210527, 90.6, 'gini = 0.0\\nsamples = 4\\nvalue = [0, 0, 4]\\nclass = Wine 3'),\n",
       " Text(299.5578947368421, 126.83999999999999, 'Hue <= 1.295\\ngini = 0.039\\nsamples = 50\\nvalue = [49, 1, 0]\\nclass = Wine 1'),\n",
       " Text(281.93684210526317, 90.6, 'gini = 0.0\\nsamples = 49\\nvalue = [49, 0, 0]\\nclass = Wine 1'),\n",
       " Text(317.17894736842106, 90.6, 'gini = 0.0\\nsamples = 1\\nvalue = [0, 1, 0]\\nclass = Wine 2')]"
      ]
     },
     "execution_count": 22,
     "metadata": {},
     "output_type": "execute_result"
    },
    {
     "data": {
      "image/png": "[encoded data removed]",
      "text/plain": [
       "<Figure size 432x288 with 1 Axes>"
      ]
     },
     "metadata": {
      "needs_background": "light"
     },
     "output_type": "display_data"
    }
   ],
   "source": [
    "tree.plot_tree(clf2, feature_names=X_train.columns,\n",
    "                   class_names=[\"Wine 1\", \"Wine 2\", \"Wine 3\"],\n",
    "                   filled=True)"
   ]
  },
  {
   "cell_type": "code",
   "execution_count": 23,
   "metadata": {},
   "outputs": [],
   "source": [
    "# Die Bäume zur eigentlichen Vorhersage verwenden\n",
    "pred1 = class_1.predict(X_test)\n",
    "pred2 = class_2.predict(X_test)"
   ]
  },
  {
   "cell_type": "code",
   "execution_count": 24,
   "metadata": {},
   "outputs": [
    {
     "name": "stdout",
     "output_type": "stream",
     "text": [
      "The accuracy of the tree with depth 3:  88.89 %\n"
     ]
    }
   ],
   "source": [
    "# Bestimme die accuracy \n",
    "accuracy1 = sklearn.metrics.accuracy_score(pred1,Y_test)\n",
    "print(\"The accuracy of the tree with depth 2: \", '%.2f'% (accuracy1*100),\"%\")"
   ]
  },
  {
   "cell_type": "code",
   "execution_count": 25,
   "metadata": {},
   "outputs": [
    {
     "name": "stdout",
     "output_type": "stream",
     "text": [
      "The accuracy of the tree with depth 5:  91.67 %\n"
     ]
    }
   ],
   "source": [
    "accuracy2 = sklearn.metrics.accuracy_score(pred2,Y_test)\n",
    "print(\"The accuracy of the tree with depth 5: \", '%.2f'% (accuracy2*100),\"%\")"
   ]
  },
  {
   "cell_type": "markdown",
   "metadata": {},
   "source": [
    "Zusätzlich können wir die accuracy hinsichtlich der Kreuzvalidierung betrachten. Dies hat den Vorteil, dass wir gleichzeitig verschiedene Test- und Trainingsdatensätze erzeugen, sodass die Genauigkeit weniger von der Wahl des seeds, also dem Zufall abhängt."
   ]
  },
  {
   "cell_type": "code",
   "execution_count": 26,
   "metadata": {},
   "outputs": [
    {
     "name": "stdout",
     "output_type": "stream",
     "text": [
      "The corssvalidated accuracy of the tree with depth 3: 83.33 (+/- 50.92) %\n"
     ]
    }
   ],
   "source": [
    "from sklearn.model_selection import cross_val_score\n",
    "scores1 = cross_val_score(class_1, X_test, Y_test, cv=6)\n",
    "print(\"The corssvalidated accuracy of the tree with depth 2: %0.2f (+/- %0.2f)\" % (scores1.mean()*100, scores1.std() * 200), \"%\")"
   ]
  },
  {
   "cell_type": "code",
   "execution_count": 27,
   "metadata": {},
   "outputs": [
    {
     "name": "stdout",
     "output_type": "stream",
     "text": [
      "The corssvalidated accuracy of the tree with depth 5: 88.89 (+/- 31.43) %\n"
     ]
    }
   ],
   "source": [
    "scores2 = cross_val_score(class_2, X_test, Y_test, cv=6)\n",
    "print(\"The corssvalidated accuracy of the tree with depth 5: %0.2f (+/- %0.2f)\" % (scores2.mean()*100, scores2.std() * 200),\"%\")"
   ]
  },
  {
   "cell_type": "markdown",
   "metadata": {},
   "source": [
    "---------\n",
    "## Aufgabe\n",
    "In der Vorlesung haben sie gesehen, dass Accuracy kein gutes Maß für die Qualität eines Modelles ist, wenn die Gruppengrößen sehr ungleich sind. Überprüfen sie, wie sich die Gruppengrößen für diese Daten verhalten. Was könnten sie tun, falls die Gruppengrößen sehr unterschiedlich sind?\n",
    "\n",
    "Wenn wir die Accuracy mittels Kreuzvalidierung betrachten haben wir auch Intervalle angegeben, warum könnte die Accuracy so großen Schwankungen unterliegen?"
   ]
  },
  {
   "cell_type": "code",
   "execution_count": 28,
   "metadata": {},
   "outputs": [],
   "source": [
    "# Hier kann Ihre Lösung stehen"
   ]
  },
  {
   "cell_type": "markdown",
   "metadata": {},
   "source": [
    "--------------\n",
    "# Random Forest\n",
    "Random forest ist eine Ensemble-Lernmethode für Klassifikations- und Regressionsmodelle. Dabei werden mehrere Entscheidungsbäume konstruiert, welche dann kombiniert werden um die Qualität der Entscheidung zu verbessern. Die einzelnen Bäume werden nach einem Zufallsprinzip unkorreliert erstellt. Jeder dieser Bäum trifft wie im Beispiel zuvor individuelle Entscheidungen. Diese werden dann zu einer globalen Entscheidung zusammengefasst. Die Kombination der einzelnen Bäume beruht auf dem sogenannten Bagging, die Entscheidungen der einzelnen Bäume gehen also mit einer vorgegebenen Gewichtung ein."
   ]
  },
  {
   "cell_type": "code",
   "execution_count": 29,
   "metadata": {},
   "outputs": [],
   "source": [
    "# Importiere die RF Funktion\n",
    "from sklearn.ensemble import RandomForestClassifier#"
   ]
  },
  {
   "cell_type": "code",
   "execution_count": 30,
   "metadata": {},
   "outputs": [],
   "source": [
    "# Wir verwenden den gleichen Datensatz wie zuvor, mal sehen, ob wir die accuracy noch weiter verbessern können\n",
    "class_rf = RandomForestClassifier(n_estimators = 100, # Die Anzahl Bäume für einen Wald\n",
    "                                  max_depth=3, # Maximale Tiefe jedes Baumes\n",
    "                                  criterion = \"gini\", # Funktion zur Beurteilung der Qualität eines Splits\n",
    "                                  max_features=\"auto\" # Das bedeutet die Anzahl Features die für \n",
    "                                                      # einen Split berücksichtigt wird ist sqrt(n_features)\n",
    "                                 ) \n",
    "\n",
    "class_rf.fit(X_train,Y_train)\n",
    "pred_rf = class_rf.predict(X_test)"
   ]
  },
  {
   "cell_type": "code",
   "execution_count": 31,
   "metadata": {},
   "outputs": [
    {
     "name": "stdout",
     "output_type": "stream",
     "text": [
      "The accuracy of the random forest approach:  100.00 %\n"
     ]
    }
   ],
   "source": [
    "accuracy_rf = sklearn.metrics.accuracy_score(pred_rf,Y_test)\n",
    "print(\"The accuracy of the random forest approach: \", '%.2f'% (accuracy_rf*100),\"%\")"
   ]
  },
  {
   "cell_type": "markdown",
   "metadata": {},
   "source": [
    "Mit einer Accuracy von 100% scheint unser Modell hier perfekte Vorhersagen zu treffen. Das kommt sehr selten vor. Sollte ihr Klassifikationsmodell eine Accuracy im Bereich von 90% haben handelt es sich bereits um ein sehr gutes Modell."
   ]
  },
  {
   "cell_type": "markdown",
   "metadata": {},
   "source": [
    "------------------\n",
    "## Aufgabe\n",
    "Nachdem sie für die Daten bereits betrachtet haben ob die Gruppenaufteilung gleichmäßig ist, finden sie für die Funktion RandomForestClassifier eine Einstellung, die es ermöglicht den Algorithmus daran anzupassen? https://scikit-learn.org/stable/modules/generated/sklearn.ensemble.RandomForestClassifier.html"
   ]
  },
  {
   "cell_type": "code",
   "execution_count": 32,
   "metadata": {},
   "outputs": [],
   "source": [
    "# Hier kann Ihre Lösung stehen"
   ]
  },
  {
   "cell_type": "markdown",
   "metadata": {},
   "source": [
    "--------------------\n",
    "# XGBoost\n",
    "XGBoost basiert wie die anderen Methoden dieses Abschnitts auch auf einem Entscheidungsbaum. Da es sich um den Zusammenschluss mehrere Bäume handelt gehört auch XGBoost zu den Ensemble-Algorithmen für maschinelles Lernen. Der Name XGBoost ist von den Begriffen e**X**treme **G**radient **Boost**ing abgeleitet. Bei Vorhersageproblemen mit unstrukturierten Daten (Bilder, Text usw.) performen neuronale Netze oft am besten. Im Falle kleinerer und strukturierter Datensätze sind die baumbasierten Ansätze oft performanter. Einer der kritischen Punkte bei der Verwendung von XGBoost ist die Wahl der Hyperparameter hier eine kleine Auswahl der wichtigsten im Paket xgboost in Python:\n",
    "\n",
    "- *objective*: Definiert das Lernziel (default = reg:squarederror)\n",
    "- *learning_rate*: Lernrate (default = 0.3)\n",
    "- *max_depth*: Maximale Tiefe der Bäume (default = 6)\n",
    "- *n_estimator*: Anzahl Bäume (default = 100) "
   ]
  },
  {
   "cell_type": "code",
   "execution_count": 39,
   "metadata": {},
   "outputs": [],
   "source": [
    "X = auto.drop(['mpg', 'car name'], axis=1) # Alle anderen Spalten ausser mpg und car name\n",
    "# Regressionsbaeume funktionieren nicht mit kategoriellen Variablen dieser Art, \n",
    "# entweder man muss sie codieren oder lässt sie außenvor\n",
    "Y = auto['mpg']"
   ]
  },
  {
   "cell_type": "code",
   "execution_count": 40,
   "metadata": {},
   "outputs": [],
   "source": [
    "X_train, X_test, y_train, y_test = train_test_split(X, Y, test_size=0.2, random_state=234)"
   ]
  },
  {
   "cell_type": "code",
   "execution_count": 44,
   "metadata": {},
   "outputs": [],
   "source": [
    "xg_reg = xgb.XGBRegressor(learning_rate = 0.1, max_depth = 5, n_estimators = 10)"
   ]
  },
  {
   "cell_type": "code",
   "execution_count": 45,
   "metadata": {},
   "outputs": [],
   "source": [
    "xg_reg.fit(X_train,y_train)\n",
    "\n",
    "preds = xg_reg.predict(X_test)"
   ]
  },
  {
   "cell_type": "code",
   "execution_count": 46,
   "metadata": {},
   "outputs": [
    {
     "name": "stdout",
     "output_type": "stream",
     "text": [
      "MSE: 103.732598\n"
     ]
    }
   ],
   "source": [
    "mse = mean_squared_error(y_test, preds)\n",
    "print(\"MSE: %f\" % (mse))"
   ]
  },
  {
   "cell_type": "markdown",
   "metadata": {},
   "source": [
    "Der MSE des XGBoost Modells zeigt, dass eine komplizierte Methode nicht unbedingt zu besseren Ergebnissen führen muss. Komplexere Methoden bieten auch mehr Spielraum für eine nicht so gute Wahl der Hyperparameter. Deshalb ist es sinnvoll auch Hyperparameter sinnvoll zu tunen. Hier wäre es zum Beispiel möglich gesewen "
   ]
  },
  {
   "cell_type": "markdown",
   "metadata": {},
   "source": [
    "---------------\n",
    "## Aufgaben\n",
    "\n",
    "Versuchen sie durch Hyperparametertuning oder die Verwendung anderer Parameter den MSE des XGBRegressors zu verbessern. Informationen zu der Funktion und den möglichen Parametern finden sie unter:\n",
    "https://xgboost.readthedocs.io/en/latest/parameter.html"
   ]
  },
  {
   "cell_type": "code",
   "execution_count": 38,
   "metadata": {},
   "outputs": [],
   "source": [
    "# Hier kann Ihre Lösung stehen"
   ]
  }
 ],
 "metadata": {
  "kernelspec": {
   "display_name": "Python 3",
   "language": "python",
   "name": "python3"
  },
  "language_info": {
   "codemirror_mode": {
    "name": "ipython",
    "version": 3
   },
   "file_extension": ".py",
   "mimetype": "text/x-python",
   "name": "python",
   "nbconvert_exporter": "python",
   "pygments_lexer": "ipython3",
   "version": "3.7.6"
  }
 },
 "nbformat": 4,
 "nbformat_minor": 4
}
